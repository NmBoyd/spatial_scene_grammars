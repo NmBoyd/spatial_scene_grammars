{
 "cells": [
  {
   "cell_type": "code",
   "execution_count": 1,
   "metadata": {},
   "outputs": [],
   "source": [
    "%load_ext autoreload\n",
    "%autoreload 2\n",
    "\n",
    "import matplotlib.pyplot as plt\n",
    "import networkx as nx\n",
    "import numpy as np\n",
    "import os\n",
    "import pickle\n",
    "import time\n",
    "from tqdm.notebook import tqdm\n",
    "\n",
    "import torch\n",
    "torch.set_default_tensor_type(torch.DoubleTensor)\n",
    "\n",
    "from spatial_scene_grammars.nodes import *\n",
    "from spatial_scene_grammars.rules import *\n",
    "from spatial_scene_grammars.scene_grammar import *\n",
    "from spatial_scene_grammars.visualization import *\n",
    "from spatial_scene_grammars_examples.planar_clusters.grammar import *\n",
    "from spatial_scene_grammars.parsing import *\n",
    "from spatial_scene_grammars.sampling import *\n",
    "\n",
    "import meshcat\n",
    "import meshcat.geometry as meshcat_geom"
   ]
  },
  {
   "cell_type": "code",
   "execution_count": 2,
   "metadata": {},
   "outputs": [
    {
     "name": "stdout",
     "output_type": "stream",
     "text": [
      "You can open the visualizer by visiting the following URL:\n",
      "http://127.0.0.1:7001/static/\n",
      "Meshcat url:  http://127.0.0.1:7001/static/\n"
     ]
    },
    {
     "data": {
      "text/html": [
       "\n",
       "    <div style=\"height: 400px; width: 100%; overflow-x: auto; overflow-y: hidden; resize: both\">\n",
       "    <iframe src=\"http://127.0.0.1:7001/static/\" style=\"width: 100%; height: 100%; border: none\"></iframe>\n",
       "</div>\n"
      ],
      "text/plain": [
       "<IPython.core.display.HTML object>"
      ]
     },
     "execution_count": 2,
     "metadata": {},
     "output_type": "execute_result"
    }
   ],
   "source": [
    "if 'vis' not in globals():\n",
    "    vis = meshcat.Visualizer()\n",
    "\n",
    "base_url = \"http://127.0.0.1\"\n",
    "meshcat_url = base_url + \":\" + vis.url().split(\":\")[-1]\n",
    "print(\"Meshcat url: \", meshcat_url)\n",
    "from IPython.display import HTML\n",
    "HTML(\"\"\"\n",
    "    <div style=\"height: 400px; width: 100%; overflow-x: auto; overflow-y: hidden; resize: both\">\n",
    "    <iframe src=\"{url}\" style=\"width: 100%; height: 100%; border: none\"></iframe>\n",
    "</div>\n",
    "\"\"\".format(url=meshcat_url))"
   ]
  },
  {
   "cell_type": "code",
   "execution_count": 3,
   "metadata": {},
   "outputs": [
    {
     "name": "stdout",
     "output_type": "stream",
     "text": [
      "Loaded 3 scenes.\n"
     ]
    }
   ],
   "source": [
    "# Sample a dataset of scenes from the default grammar params.\n",
    "# Draw a random sample from the grammar and visualize it.\n",
    "# (Cache output.)\n",
    "torch.random.manual_seed(2)\n",
    "N_samples = 3\n",
    "RESAMPLE = True\n",
    "scenes_file = \"sampled_scenes_%d.dat\" % N_samples\n",
    "\n",
    "ground_truth_grammar = SpatialSceneGrammar(\n",
    "    root_node_type = Desk,\n",
    "    root_node_tf = torch.eye(4)\n",
    ")\n",
    "\n",
    "if not os.path.exists(scenes_file) or RESAMPLE:\n",
    "    samples = []\n",
    "    for k in range(N_samples):\n",
    "        tree = ground_truth_grammar.sample_tree(detach=True)\n",
    "        observed_nodes = tree.get_observed_nodes()\n",
    "        samples.append((tree, observed_nodes))\n",
    "\n",
    "    with open(scenes_file, \"wb\") as f:\n",
    "        pickle.dump(samples, f)\n",
    "\n",
    "with open(scenes_file, \"rb\") as f:\n",
    "    samples = pickle.load(f)\n",
    "print(\"Loaded %d scenes.\" % len(samples))\n",
    "observed_node_sets = [x[1] for x in samples]"
   ]
  },
  {
   "cell_type": "code",
   "execution_count": 30,
   "metadata": {},
   "outputs": [
    {
     "data": {
      "application/vnd.jupyter.widget-view+json": {
       "model_id": "59f87a0fc78b44bc8dc994bd428823da",
       "version_major": 2,
       "version_minor": 0
      },
      "text/plain": [
       "HBox(children=(FloatProgress(value=0.0, description='Collecting posterior samples', max=3.0, style=ProgressSty…"
      ]
     },
     "metadata": {},
     "output_type": "display_data"
    },
    {
     "name": "stdout",
     "output_type": "stream",
     "text": [
      "\n"
     ]
    }
   ],
   "source": [
    "# Initialize a grammar with wide parameter guesses.\n",
    "grammar = SpatialSceneGrammar(\n",
    "    root_node_type = Desk,\n",
    "    root_node_tf = torch.eye(4),\n",
    "    sample_params_from_prior=False\n",
    ")\n",
    "# Force parameter guesses for rules as wide as possible.\n",
    "# TODO: Make this a grammar method.\n",
    "for node_type in grammar.all_types:\n",
    "    for xyz_param_dict, rot_param_dict in grammar.rule_params_by_node_type[node_type.__name__]:\n",
    "        if \"width\" in xyz_param_dict.keys():\n",
    "            xyz_param_dict[\"width\"].set(torch.ones_like(xyz_param_dict[\"width\"]()) * 5.)\n",
    "        \n",
    "\n",
    "def do_vis(tree):\n",
    "    draw_scene_tree_structure_meshcat(tree, zmq_url=vis.window.zmq_url, prefix=\"sampled_in_progress\")\n",
    "    \n",
    "def get_posterior_tree_samples_from_observation(grammar, observed_nodes, num_mcmc_steps=15, subsample_rate=3, verbose=0):\n",
    "    draw_scene_tree_contents_meshcat(\n",
    "        SceneTree.make_from_observed_nodes(observed_nodes), zmq_url=vis.window.zmq_url, prefix=\"observed\"\n",
    "    )\n",
    "    \n",
    "    # Use a MIP to get MAP structure.\n",
    "    mip_results = infer_mle_tree_with_mip(\n",
    "        grammar, observed_nodes, verbose=verbose, max_scene_extent_in_any_dir=10.\n",
    "    )\n",
    "    mip_optimized_tree = get_optimized_tree_from_mip_results(mip_results)\n",
    "    if not mip_optimized_tree:\n",
    "        return None\n",
    "    # Use NLP to refine that to a MAP estimate.\n",
    "    refinement_results = optimize_scene_tree_with_nlp(mip_optimized_tree, verbose=verbose)\n",
    "    refined_tree = refinement_results.refined_tree\n",
    "\n",
    "    # And sample trees around that MAP estimate with the\n",
    "    # same structure.\n",
    "    sampled_trees = do_fixed_structure_mcmc(\n",
    "        grammar, refined_tree, num_samples=num_mcmc_steps, verbose=verbose,\n",
    "        perturb_in_config_space=True, translation_variance=1.0, rotation_variance=1.0,\n",
    "        do_hit_and_run_postprocess=False, vis_callback=do_vis\n",
    "    )\n",
    "    \n",
    "    # Finally, subsample the sampled trees as requested and return\n",
    "    # the sampled set.\n",
    "    return sampled_trees[::subsample_rate]\n",
    "\n",
    "def collect_posterior_sample_sets(grammar, observed_node_sets):\n",
    "    posterior_sample_sets = []\n",
    "    for observed_nodes in tqdm(observed_node_sets, desc='Collecting posterior samples'):\n",
    "        posterior_samples = get_posterior_tree_samples_from_observation(\n",
    "            grammar, observed_nodes, verbose=0, subsample_rate=2, num_mcmc_steps=10)\n",
    "        if posterior_samples is not None:\n",
    "            posterior_sample_sets.append(posterior_samples)\n",
    "    return posterior_sample_sets\n",
    "posterior_sample_sets = collect_posterior_sample_sets(grammar, observed_node_sets)"
   ]
  },
  {
   "cell_type": "code",
   "execution_count": 5,
   "metadata": {},
   "outputs": [],
   "source": [
    "torch.save(grammar, \"/tmp/test_saved_grammar.torch\")\n",
    "orig_grammar = torch.load(\"/tmp/test_saved_grammar.torch\")"
   ]
  },
  {
   "cell_type": "code",
   "execution_count": 28,
   "metadata": {},
   "outputs": [
    {
     "name": "stdout",
     "output_type": "stream",
     "text": [
      "**********************************\n",
      "**********  BEFORE ***************\n",
      "************************************\n",
      "\tDesk:\n",
      "\t\tchild weights: [0.2]\n",
      "\t\tRule 0:\n",
      "\t\t\tXYZ center: Parameter containing:\n",
      "tensor([0.5000, 0.5000, 0.0000], requires_grad=True)\n",
      "\t\t\tXYZ width: tensor([5., 5., 5.], grad_fn=<AddBackward0>)\n",
      "\t\t\tRot center: Parameter containing:\n",
      "tensor(0., requires_grad=True)\n",
      "\t\t\tRot width: tensor([6.2832], grad_fn=<AddBackward0>)\n",
      "**********************************\n",
      "**********  AFTER ***************\n",
      "************************************\n",
      "\tDesk:\n",
      "\t\tchild weights: [0.3]\n",
      "\t\tRule 0:\n",
      "\t\t\tXYZ center: Parameter containing:\n",
      "tensor([0.0484, 0.3992, 0.0000], requires_grad=True)\n",
      "\t\t\tXYZ width: tensor([4.0968, 4.7985, 5.0000], grad_fn=<AddBackward0>)\n",
      "\t\t\tRot center: Parameter containing:\n",
      "tensor(-0.2500, requires_grad=True)\n",
      "\t\t\tRot width: tensor([5.0829], grad_fn=<AddBackward0>)\n",
      "**********************************\n",
      "**********  TRUTH ***************\n",
      "************************************\n",
      "\tDesk:\n",
      "\t\tchild weights: [0.2]\n",
      "\t\tRule 0:\n",
      "\t\t\tXYZ center: Parameter containing:\n",
      "tensor([0.5000, 0.5000, 0.0000], requires_grad=True)\n",
      "\t\t\tXYZ width: tensor([ 6.0000e-01,  6.0000e-01, 2.2251e-307], grad_fn=<AddBackward0>)\n",
      "\t\t\tRot center: Parameter containing:\n",
      "tensor(0., requires_grad=True)\n",
      "\t\t\tRot width: tensor([6.2832], grad_fn=<AddBackward0>)\n"
     ]
    }
   ],
   "source": [
    "def fit_grammar_params_to_sample_sets(grammar, posterior_sample_sets):\n",
    "    ## Try hand-fitting the node and rule parameters, assuming an uninformative prior.\n",
    "    observed_child_sets_per_node_type = {}\n",
    "    for node_type in grammar.all_types:\n",
    "        observed_child_sets_per_node_type[node_type.__name__] = []\n",
    "    for sample_set in posterior_sample_sets:\n",
    "        for tree in sample_set:\n",
    "            for node in tree:\n",
    "                if isinstance(node, TerminalNode):\n",
    "                    pass\n",
    "                observed_child_sets_per_node_type[type(node).__name__].append( (node, tree.get_children(node)) )\n",
    "\n",
    "    for node_type in grammar.all_types:\n",
    "\n",
    "        ## Fit the child weights for the node type.\n",
    "        observed_child_sets = observed_child_sets_per_node_type[node_type.__name__]\n",
    "        if issubclass(node_type, AndNode):\n",
    "            continue\n",
    "        elif issubclass(node_type, OrNode):\n",
    "            # Sum up the rule_k weights, and set\n",
    "            # the new weighting to the average.\n",
    "            count = torch.zeros(len(node_type.generate_rules()))\n",
    "            for (_, children) in observed_child_sets:\n",
    "                for child in children:\n",
    "                    count[child.rule_k] += 1\n",
    "            avg_count = count / torch.sum(count)\n",
    "            grammar.params_by_node_type[node_type.__name__].set(avg_count)\n",
    "        elif issubclass(node_type, GeometricSetNode):\n",
    "            # Record average count of children, whose inverse\n",
    "            # is a maximum likelihood estimate of p.\n",
    "            # https://en.wikipedia.org/wiki/Geometric_distribution#Statistical_inference\n",
    "            n_children = [len(children) for (_, children) in observed_child_sets]\n",
    "            p = 1./torch.mean(torch.tensor(n_children, dtype=torch.double))\n",
    "            grammar.params_by_node_type[node_type.__name__].set(p)\n",
    "        elif issubclass(node_type, IndependentSetNode):\n",
    "            # For each child, record how often it's active.\n",
    "            count = torch.zeros(len(node_type.generate_rules()))\n",
    "            for (_, children) in observed_child_sets:\n",
    "                for child in children:\n",
    "                    count[child.rule_k] += 1.\n",
    "            count /= len(observed_child_sets)\n",
    "            grammar.params_by_node_type[node_type.__name__].set(count)\n",
    "        elif issubclass(node_type, TerminalNode):\n",
    "            continue\n",
    "        else:\n",
    "            raise NotImplementedError(node_type)\n",
    "\n",
    "        ## For each rule type expected under this node, find optimal parameters.\n",
    "        rules = node_type.generate_rules()\n",
    "\n",
    "        # Go collect all parent/child pairs for the rules.\n",
    "        parent_child_pairs_for_rules = [[] for k in range(len(rules))]\n",
    "        if issubclass(node_type, GeometricSetNode):\n",
    "            # Special case: only one rule that all children\n",
    "            # correspond to.\n",
    "            assert len(rules) == 1\n",
    "            for parent, children in observed_child_sets:\n",
    "                for child in children:\n",
    "                    parent_child_pairs_for_rules[0].append((parent, child))\n",
    "        else:\n",
    "            for parent, children in observed_child_sets:\n",
    "                for child in children:\n",
    "                    parent_child_pairs_for_rules[child.rule_k].append((parent, child))\n",
    "\n",
    "        for rule_k, (xyz_param_dict, rot_param_dict) in enumerate(\n",
    "                grammar.rule_params_by_node_type[node_type.__name__]):\n",
    "            xyz_rule = rules[rule_k].xyz_rule\n",
    "            rot_rule = rules[rule_k].rotation_rule\n",
    "            parent_child_pairs = parent_child_pairs_for_rules[rule_k]\n",
    "            if len(parent_child_pairs) == 0:\n",
    "                continue\n",
    "            ## XYZ Rules\n",
    "            if type(xyz_rule) == WorldBBoxRule:\n",
    "                # The inferred lb/ub (from which we'll derive center/width)\n",
    "                # will be the biggest deviation between parent and child.\n",
    "                offsets = torch.stack([child.translation for (_, child) in parent_child_pairs])\n",
    "                lb = torch.min(offsets, axis=0)[0]\n",
    "                ub = torch.max(offsets, axis=0)[0]\n",
    "                xyz_param_dict[\"center\"].set((lb + ub) / 2.)\n",
    "                xyz_param_dict[\"width\"].set(ub - lb)\n",
    "            elif type(xyz_rule) == AxisAlignedBBoxRule:\n",
    "                # The inferred lb/ub (from which we'll derive center/width)\n",
    "                # will be the biggest deviation between parent and child.\n",
    "                offsets = torch.stack([child.translation - parent.translation for (parent, child) in parent_child_pairs])\n",
    "                lb = torch.min(offsets, axis=0)[0]\n",
    "                ub = torch.max(offsets, axis=0)[0]\n",
    "                xyz_param_dict[\"center\"].set((lb + ub) / 2.)\n",
    "                xyz_param_dict[\"width\"].set(ub - lb)\n",
    "            else:\n",
    "                raise NotImplementedError(\"type %s under node %s\" % (type(xyz_rule), node_type))\n",
    "            ## Rotation rules\n",
    "            if type(rot_rule) == UnconstrainedRotationRule:\n",
    "                # No parameters\n",
    "                pass\n",
    "            elif type(rot_rule) == UniformBoundedRevoluteJointRule:\n",
    "                # The inferred lb/ub (from which we'll derive center/width)\n",
    "                # will be the biggest deviation between parent and child in terms\n",
    "                # of axis/angle rotation.\n",
    "                offsets = []\n",
    "                for parent, child in parent_child_pairs:\n",
    "                    angle, _ = rot_rule._recover_relative_angle_axis(parent, child)\n",
    "                    offsets.append(angle)\n",
    "                offsets = torch.stack(offsets)\n",
    "                lb = torch.min(offsets)\n",
    "                ub = torch.max(offsets)\n",
    "                rot_param_dict[\"center\"].set((lb + ub) / 2.)\n",
    "                rot_param_dict[\"width\"].set(ub - lb)\n",
    "    return grammar\n",
    "fit_grammar_params_to_sample_sets(grammar, posterior_sample_sets)\n",
    "print(\"**********************************\\n\"\n",
    "      \"**********  BEFORE ***************\\n\"\n",
    "      \"************************************\")\n",
    "orig_grammar.print_params(node_names=[\"Desk\"])\n",
    "print(\"**********************************\\n\"\n",
    "      \"**********  AFTER ***************\\n\"\n",
    "      \"************************************\")\n",
    "grammar.print_params(node_names=[\"Desk\"])\n",
    "print(\"**********************************\\n\"\n",
    "      \"**********  TRUTH ***************\\n\"\n",
    "      \"************************************\")\n",
    "ground_truth_grammar.print_params(node_names=[\"Desk\"])\n"
   ]
  },
  {
   "cell_type": "code",
   "execution_count": 31,
   "metadata": {},
   "outputs": [
    {
     "data": {
      "application/vnd.jupyter.widget-view+json": {
       "model_id": "a28bf48294594c07be83d4f58119327f",
       "version_major": 2,
       "version_minor": 0
      },
      "text/plain": [
       "HBox(children=(FloatProgress(value=0.0, description='Collecting posterior samples', max=3.0, style=ProgressSty…"
      ]
     },
     "metadata": {},
     "output_type": "display_data"
    },
    {
     "name": "stdout",
     "output_type": "stream",
     "text": [
      "\n"
     ]
    },
    {
     "data": {
      "application/vnd.jupyter.widget-view+json": {
       "model_id": "15e50eb1105745edbe242b53611bf5c1",
       "version_major": 2,
       "version_minor": 0
      },
      "text/plain": [
       "HBox(children=(FloatProgress(value=0.0, description='Collecting posterior samples', max=3.0, style=ProgressSty…"
      ]
     },
     "metadata": {},
     "output_type": "display_data"
    },
    {
     "name": "stdout",
     "output_type": "stream",
     "text": [
      "\n"
     ]
    },
    {
     "data": {
      "application/vnd.jupyter.widget-view+json": {
       "model_id": "93fff361a6fd4db78ca6acb1763316ba",
       "version_major": 2,
       "version_minor": 0
      },
      "text/plain": [
       "HBox(children=(FloatProgress(value=0.0, description='Collecting posterior samples', max=3.0, style=ProgressSty…"
      ]
     },
     "metadata": {},
     "output_type": "display_data"
    },
    {
     "name": "stdout",
     "output_type": "stream",
     "text": [
      "\n"
     ]
    },
    {
     "data": {
      "application/vnd.jupyter.widget-view+json": {
       "model_id": "b133bae8eb2c499194c1818639998c5d",
       "version_major": 2,
       "version_minor": 0
      },
      "text/plain": [
       "HBox(children=(FloatProgress(value=0.0, description='Collecting posterior samples', max=3.0, style=ProgressSty…"
      ]
     },
     "metadata": {},
     "output_type": "display_data"
    },
    {
     "name": "stdout",
     "output_type": "stream",
     "text": [
      "\n"
     ]
    },
    {
     "data": {
      "application/vnd.jupyter.widget-view+json": {
       "model_id": "1513b4c66cec494cbf40839f46b5ec86",
       "version_major": 2,
       "version_minor": 0
      },
      "text/plain": [
       "HBox(children=(FloatProgress(value=0.0, description='Collecting posterior samples', max=3.0, style=ProgressSty…"
      ]
     },
     "metadata": {},
     "output_type": "display_data"
    },
    {
     "name": "stdout",
     "output_type": "stream",
     "text": [
      "\n"
     ]
    },
    {
     "data": {
      "application/vnd.jupyter.widget-view+json": {
       "model_id": "60ed9fd5a1ba461baeb15e540d50c040",
       "version_major": 2,
       "version_minor": 0
      },
      "text/plain": [
       "HBox(children=(FloatProgress(value=0.0, description='Collecting posterior samples', max=3.0, style=ProgressSty…"
      ]
     },
     "metadata": {},
     "output_type": "display_data"
    },
    {
     "name": "stdout",
     "output_type": "stream",
     "text": [
      "\n"
     ]
    },
    {
     "data": {
      "application/vnd.jupyter.widget-view+json": {
       "model_id": "16b197c100e44e38a29316e15b70ddba",
       "version_major": 2,
       "version_minor": 0
      },
      "text/plain": [
       "HBox(children=(FloatProgress(value=0.0, description='Collecting posterior samples', max=3.0, style=ProgressSty…"
      ]
     },
     "metadata": {},
     "output_type": "display_data"
    },
    {
     "name": "stdout",
     "output_type": "stream",
     "text": [
      "\n"
     ]
    },
    {
     "data": {
      "application/vnd.jupyter.widget-view+json": {
       "model_id": "26b6b5bebb0a4f998b766b1fe7b50962",
       "version_major": 2,
       "version_minor": 0
      },
      "text/plain": [
       "HBox(children=(FloatProgress(value=0.0, description='Collecting posterior samples', max=3.0, style=ProgressSty…"
      ]
     },
     "metadata": {},
     "output_type": "display_data"
    },
    {
     "name": "stdout",
     "output_type": "stream",
     "text": [
      "\n"
     ]
    },
    {
     "data": {
      "application/vnd.jupyter.widget-view+json": {
       "model_id": "a4096c1497d6490bab9e70385065344b",
       "version_major": 2,
       "version_minor": 0
      },
      "text/plain": [
       "HBox(children=(FloatProgress(value=0.0, description='Collecting posterior samples', max=3.0, style=ProgressSty…"
      ]
     },
     "metadata": {},
     "output_type": "display_data"
    },
    {
     "name": "stdout",
     "output_type": "stream",
     "text": [
      "\n"
     ]
    },
    {
     "data": {
      "application/vnd.jupyter.widget-view+json": {
       "model_id": "b9bbcba2eae4487aa47ae0b1ddaa10cc",
       "version_major": 2,
       "version_minor": 0
      },
      "text/plain": [
       "HBox(children=(FloatProgress(value=0.0, description='Collecting posterior samples', max=3.0, style=ProgressSty…"
      ]
     },
     "metadata": {},
     "output_type": "display_data"
    },
    {
     "name": "stdout",
     "output_type": "stream",
     "text": [
      "\n"
     ]
    }
   ],
   "source": [
    "state_dict_history = []\n",
    "for iter_k in range(10):\n",
    "    state_dict_history.append(deepcopy(grammar.state_dict()))\n",
    "    posterior_sample_sets = collect_posterior_sample_sets(grammar, observed_node_sets)\n",
    "    fit_grammar_params_to_sample_sets(grammar, posterior_sample_sets)"
   ]
  },
  {
   "cell_type": "code",
   "execution_count": 42,
   "metadata": {},
   "outputs": [
    {
     "data": {
      "text/plain": [
       "Text(0, 0.5, 'XYZ (colored) uniform width on Desk->Child XYZ placements')"
      ]
     },
     "execution_count": 42,
     "metadata": {},
     "output_type": "execute_result"
    },
    {
     "data": {
      "image/png": "[encoded data removed]",
      "text/plain": [
       "<Figure size 432x288 with 1 Axes>"
      ]
     },
     "metadata": {
      "needs_background": "light"
     },
     "output_type": "display_data"
    }
   ],
   "source": [
    "# XYZ width history, illustrative example:\n",
    "desk_xyz_width_history = []\n",
    "for state_dict in state_dict_history:\n",
    "    grammar.load_state_dict(state_dict)\n",
    "    desk_xyz_width_history.append(grammar.rule_params_by_node_type[\"Desk\"][0][0][\"width\"]().detach().numpy())\n",
    "plt.plot(desk_xyz_width_history)\n",
    "plt.xlabel(\"Iter\")\n",
    "plt.ylabel(\"XYZ (colored) uniform width on Desk->Child XYZ placements\")"
   ]
  },
  {
   "cell_type": "code",
   "execution_count": null,
   "metadata": {},
   "outputs": [],
   "source": [
    "# And now do gradient descent on the grammar parameters\n",
    "# by summing the score of all of those trees.\n",
    "\n",
    "# Reattach tree params to prepare for grad descent.\n",
    "tree_set = sum(posterior_sample_sets, [])\n",
    "\n",
    "def calc_mean_score(tree_set):\n",
    "    total_score = 0.\n",
    "    total_k = 0.\n",
    "    for tree in tree_set:\n",
    "        total_score = total_score + tree.score()\n",
    "        total_k += 1\n",
    "    return total_score / total_k\n",
    "\n",
    "log_by_node_type = {node_type.__name__: [] for node_type in grammar.all_types}\n",
    "def log_params(grammar):\n",
    "    for node_type_name, params in grammar.params_by_node_type.items():\n",
    "        if params is not None:\n",
    "            log_by_node_type[node_type_name].append(params().detach())\n",
    "        \n",
    "optimizer = torch.optim.Adam(grammar.parameters(), lr=0.1)\n",
    "pbar = tqdm(range(100), desc=\"Optimizing parameters\")\n",
    "score_history = []\n",
    "for step_k in pbar:\n",
    "    # Update parameter settings\n",
    "    log_params(grammar)\n",
    "    for tree in tree_set:\n",
    "        grammar.update_tree_grammar_parameters(tree)\n",
    "    score = calc_mean_score(tree_set)\n",
    "    score_history.append(score)\n",
    "    # Gradient step\n",
    "    optimizer.zero_grad()\n",
    "    (-score).backward(retain_graph=True)\n",
    "    optimizer.step()\n",
    "    pbar.set_description(\"Mean score %2.2f\" % score)\n",
    "plt.plot(score_history)\n",
    "plt.xlabel(\"Step\")\n",
    "plt.title(\"Score history\")"
   ]
  },
  {
   "cell_type": "code",
   "execution_count": null,
   "metadata": {},
   "outputs": [],
   "source": [
    "# Plot param logs\n",
    "cm = plt.get_cmap('viridis')\n",
    "for node_type_name, log in log_by_node_type.items():\n",
    "    if len(log) > 0:\n",
    "        plt.figure()\n",
    "        data = torch.stack(log, axis=0).numpy()\n",
    "        n_vars = data.shape[1]\n",
    "        ground_truth_values = ground_truth_grammar.params_by_node_type[node_type_name]()\n",
    "        for var_k in range(n_vars):\n",
    "            c = cm(float(var_k) / max(1, (n_vars-1)))\n",
    "            plt.plot(data[:, var_k], color=c, label=\"Fit\")\n",
    "            plt.axhline(ground_truth_values[var_k], color=c, linestyle=\"--\", label=\"GT\")\n",
    "        plt.title(node_type_name + \" child weights\")\n",
    "        plt.xlabel(\"Step\")"
   ]
  }
 ],
 "metadata": {
  "kernelspec": {
   "display_name": "py36_pyro",
   "language": "python",
   "name": "py36_pyro"
  },
  "language_info": {
   "codemirror_mode": {
    "name": "ipython",
    "version": 3
   },
   "file_extension": ".py",
   "mimetype": "text/x-python",
   "name": "python",
   "nbconvert_exporter": "python",
   "pygments_lexer": "ipython3",
   "version": "3.6.13"
  }
 },
 "nbformat": 4,
 "nbformat_minor": 4
}
