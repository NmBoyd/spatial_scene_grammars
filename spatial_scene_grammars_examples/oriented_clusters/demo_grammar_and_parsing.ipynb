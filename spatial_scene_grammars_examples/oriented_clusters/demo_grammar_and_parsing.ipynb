{
 "cells": [
  {
   "cell_type": "code",
   "execution_count": 1,
   "metadata": {},
   "outputs": [],
   "source": [
    "%load_ext autoreload\n",
    "%autoreload 2\n",
    "\n",
    "import matplotlib.pyplot as plt\n",
    "import networkx as nx\n",
    "import numpy as np\n",
    "import os\n",
    "import time\n",
    "\n",
    "import torch\n",
    "torch.set_default_tensor_type(torch.DoubleTensor)\n",
    "\n",
    "from spatial_scene_grammars.nodes import *\n",
    "from spatial_scene_grammars.rules import *\n",
    "from spatial_scene_grammars.scene_grammar import *\n",
    "from spatial_scene_grammars.visualization import *\n",
    "from spatial_scene_grammars_examples.oriented_clusters.grammar import *\n",
    "from spatial_scene_grammars.parsing import *\n",
    "from spatial_scene_grammars.sampling import *\n",
    "\n",
    "import meshcat\n",
    "import meshcat.geometry as meshcat_geom"
   ]
  },
  {
   "cell_type": "code",
   "execution_count": 2,
   "metadata": {},
   "outputs": [
    {
     "name": "stdout",
     "output_type": "stream",
     "text": [
      "You can open the visualizer by visiting the following URL:\n",
      "http://127.0.0.1:7017/static/\n",
      "Meshcat url:  http://127.0.0.1:7017/static/\n"
     ]
    },
    {
     "data": {
      "text/html": [
       "\n",
       "    <div style=\"height: 400px; width: 100%; overflow-x: auto; overflow-y: hidden; resize: both\">\n",
       "    <iframe src=\"http://127.0.0.1:7017/static/\" style=\"width: 100%; height: 100%; border: none\"></iframe>\n",
       "</div>\n"
      ],
      "text/plain": [
       "<IPython.core.display.HTML object>"
      ]
     },
     "execution_count": 2,
     "metadata": {},
     "output_type": "execute_result"
    }
   ],
   "source": [
    "if 'vis' not in globals():\n",
    "    vis = meshcat.Visualizer()\n",
    "\n",
    "base_url = \"http://127.0.0.1\"\n",
    "meshcat_url = base_url + \":\" + vis.url().split(\":\")[-1]\n",
    "print(\"Meshcat url: \", meshcat_url)\n",
    "from IPython.display import HTML\n",
    "HTML(\"\"\"\n",
    "    <div style=\"height: 400px; width: 100%; overflow-x: auto; overflow-y: hidden; resize: both\">\n",
    "    <iframe src=\"{url}\" style=\"width: 100%; height: 100%; border: none\"></iframe>\n",
    "</div>\n",
    "\"\"\".format(url=meshcat_url))"
   ]
  },
  {
   "cell_type": "code",
   "execution_count": 3,
   "metadata": {},
   "outputs": [
    {
     "name": "stderr",
     "output_type": "stream",
     "text": [
      "WARNING:root:Detaching BinghamDistribution parameters.\n",
      "WARNING:root:Prior over parameters of WorldFrameBinghamRotationRule are Deltas.\n",
      "[2021-10-12 23:05:18.826] [console] [warning] FindResource ignoring DRAKE_RESOURCE_ROOT='/home/gizatt/drake' because it does not contain a 'drake' subdirectory.\n"
     ]
    },
    {
     "name": "stdout",
     "output_type": "stream",
     "text": [
      "Sampled scene with 2 clusters and 3 boxes.\n",
      "Sampled tree has score -9.472722\n"
     ]
    }
   ],
   "source": [
    "# Draw a random sample from the grammar and visualize it.\n",
    "grammar = SpatialSceneGrammar(\n",
    "    root_node_type = OrientedClusterRoot,\n",
    "    root_node_tf = torch.eye(4)\n",
    ")\n",
    "torch.random.manual_seed(5)\n",
    "tree = grammar.sample_tree(detach=True)\n",
    "observed_nodes = tree.get_observed_nodes()\n",
    "print(\"Sampled scene with %d clusters and %d boxes.\" % \n",
    "      (len(tree.find_nodes_by_type(OrientedCluster)),\n",
    "       len(tree.find_nodes_by_type(LongBox))))\n",
    "print(\"Sampled tree has score %f\" % tree.score().item())\n",
    "draw_scene_tree_contents_meshcat(tree, zmq_url=vis.window.zmq_url)\n",
    "draw_scene_tree_structure_meshcat(tree, zmq_url=vis.window.zmq_url, alpha=0.5, node_sphere_size=0.01)"
   ]
  },
  {
   "cell_type": "code",
   "execution_count": 4,
   "metadata": {},
   "outputs": [
    {
     "name": "stdout",
     "output_type": "stream",
     "text": [
      "Super tree has 9 nodes\n"
     ]
    },
    {
     "data": {
      "image/png": "[encoded data removed]",
      "text/plain": [
       "<Figure size 432x288 with 1 Axes>"
      ]
     },
     "metadata": {},
     "output_type": "display_data"
    }
   ],
   "source": [
    "# Draw supertree for this grammar\n",
    "super_tree = grammar.make_super_tree(max_recursion_depth=10)\n",
    "nx.draw_networkx(super_tree, with_labels=False)\n",
    "plt.title(\"Super tree for oriented clusters grammar\")\n",
    "print(\"Super tree has %d nodes\" % len(list(super_tree.nodes)))"
   ]
  },
  {
   "cell_type": "code",
   "execution_count": 6,
   "metadata": {},
   "outputs": [
    {
     "name": "stdout",
     "output_type": "stream",
     "text": [
      "Starting setup.\n",
      "Activation vars allocated.\n",
      "Continuous variables and SO(3) constraints allocated for all equivalence sets.\n",
      "Setup time:  0.5515849590301514\n",
      "Num vars:  5069\n",
      "Num constraints:  13429\n"
     ]
    },
    {
     "name": "stderr",
     "output_type": "stream",
     "text": [
      "WARNING:root:MIP got 10 solutions, but requested 1. \n"
     ]
    },
    {
     "name": "stdout",
     "output_type": "stream",
     "text": [
      "Optimization success?:  True\n",
      "Logfile: \n",
      "\n",
      "Gurobi 9.0.2 (linux64) logging started Tue Oct 12 23:05:55 2021\n",
      "\n",
      "Gurobi Optimizer version 9.0.2 build v9.0.2rc0 (linux64)\n",
      "Optimize a model with 9146 rows, 5069 columns and 69214 nonzeros\n",
      "Model fingerprint: 0x6038df60\n",
      "Model has 24 quadratic objective terms\n",
      "Variable types: 4718 continuous, 351 integer (351 binary)\n",
      "Coefficient statistics:\n",
      "  Matrix range     [1e-01, 1e+01]\n",
      "  Objective range  [2e-17, 1e+02]\n",
      "  QObjective range [1e+00, 1e+02]\n",
      "  Bounds range     [1e+00, 5e+00]\n",
      "  RHS range        [1e+00, 1e+01]\n",
      "Presolve removed 5339 rows and 1426 columns\n",
      "Presolve time: 0.12s\n",
      "Presolved: 3807 rows, 3643 columns, 35028 nonzeros\n",
      "Presolved model has 24 quadratic objective terms\n",
      "Variable types: 3404 continuous, 239 integer (239 binary)\n",
      "Found heuristic solution: objective 2066.5849085\n",
      "Found heuristic solution: objective 1136.0313827\n",
      "\n",
      "Root relaxation: objective -4.414253e+02, 4643 iterations, 0.10 seconds\n",
      "\n",
      "    Nodes    |    Current Node    |     Objective Bounds      |     Work\n",
      " Expl Unexpl |  Obj  Depth IntInf | Incumbent    BestBd   Gap | It/Node Time\n",
      "\n",
      "     0     0 -441.42531    0  120 1136.03138 -441.42531   139%     -    0s\n",
      "     0     0 -287.60094    0  117 1136.03138 -287.60094   125%     -    0s\n",
      "     0     0 -287.60094    0  117 1136.03138 -287.60094   125%     -    0s\n",
      "     0     0 -287.60094    0  124 1136.03138 -287.60094   125%     -    1s\n",
      "H    0     0                     411.6312910 -287.60094   170%     -    1s\n",
      "     0     0 -287.60094    0  124  411.63129 -287.60094   170%     -    1s\n",
      "     0     0 -287.60094    0  128  411.63129 -287.60094   170%     -    2s\n",
      "     0     2 -287.60094    0  128  411.63129 -287.60094   170%     -    2s\n",
      "   134   125 -265.35536   19  114  411.63129 -287.60055   170%   534    5s\n",
      "H  255   233                     386.9816275 -287.60055   174%   478    8s\n",
      "H  257   233                     323.7973743 -287.60055   189%   476    8s\n",
      "   517   475  -90.20316   48   82  323.79737 -287.60055   189%   303   10s\n",
      "*  993   535             161    -139.7818752 -287.60055   106%   204   10s\n",
      "  1262   596 -260.14533   19  141 -139.78188 -287.60005   106%   194   15s\n",
      "  1277   609 -287.60005   14  132 -139.78188 -287.60005   106%   237   20s\n",
      "H 1380   600                    -141.7330689 -287.60005   103%   246   21s\n",
      "H 1429   586                    -142.0616693 -287.60005   102%   244   22s\n",
      "H 1480   572                    -285.1278340 -287.60005  0.87%   243   23s\n",
      "H 1523   540                    -285.1532076 -287.60005  0.86%   243   24s\n",
      "H 1525   514                    -285.1936320 -287.60005  0.84%   242   24s\n",
      "H 1528   490                    -285.2003584 -287.60005  0.84%   242   24s\n",
      "  1695   554     cutoff   42      -285.20036 -287.60005  0.84%   234   25s\n",
      "  2301   739 -287.58490   80   33 -285.20036 -287.60005  0.84%   237   30s\n",
      "H 2434   417                    -287.5848980 -287.60005  0.01%   230   30s\n",
      "\n",
      "Cutting planes:\n",
      "  Gomory: 105\n",
      "  Cover: 8\n",
      "  Implied bound: 32\n",
      "  Projected implied bound: 102\n",
      "  MIR: 243\n",
      "  Flow cover: 219\n",
      "  GUB cover: 2\n",
      "  Zero half: 2\n",
      "  RLT: 7\n",
      "  Relax-and-lift: 84\n",
      "\n",
      "Explored 2515 nodes (603667 simplex iterations) in 30.45 seconds\n",
      "Thread count was 12 (of 12 available processors)\n",
      "\n",
      "Solution count 10: -287.585 -285.2 -285.194 ... 386.982\n",
      "\n",
      "Optimal solution found (tolerance 1.00e-03)\n",
      "Best objective -2.875848980270e+02, best bound -2.876000450457e+02, gap 0.0053%\n",
      "\n",
      "Solve time:  30.52815079689026\n",
      "Total time:  31.07973575592041\n",
      "Avg elementwise deviation from R^T R = I:  tensor(9.5603e-17)\n",
      "Avg elementwise deviation from R^T R = I:  tensor(0.0534)\n",
      "Avg elementwise deviation from R^T R = I:  tensor(2.2571e-16)\n",
      "Avg elementwise deviation from R^T R = I:  tensor(3.9397e-16)\n",
      "Avg elementwise deviation from R^T R = I:  tensor(1.6381e-16)\n"
     ]
    }
   ],
   "source": [
    "# Parse this tree\n",
    "inference_results = infer_mle_tree_with_mip(\n",
    "    grammar, observed_nodes, verbose=True, max_scene_extent_in_any_dir=5.\n",
    ")\n",
    "mip_optimized_tree = get_optimized_tree_from_mip_results(inference_results)\n",
    "draw_scene_tree_contents_meshcat(mip_optimized_tree, zmq_url=vis.window.zmq_url, prefix=\"mip\")\n",
    "draw_scene_tree_structure_meshcat(mip_optimized_tree, zmq_url=vis.window.zmq_url, prefix=\"mip_scene_tree\")\n",
    "\n",
    "for node in mip_optimized_tree:\n",
    "    err = torch.matmul(node.rotation.transpose(0, 1), node.rotation) - torch.eye(3)\n",
    "    print(\"Avg elementwise deviation from R^T R = I: \", err.abs().mean())"
   ]
  },
  {
   "cell_type": "code",
   "execution_count": null,
   "metadata": {},
   "outputs": [],
   "source": [
    "# Do NLP refinement of tree\n",
    "refinement_results = optimize_scene_tree_with_nlp(grammar, mip_optimized_tree, verbose=True)\n",
    "refined_tree = refinement_results.refined_tree\n",
    "draw_scene_tree_contents_meshcat(refined_tree, zmq_url=vis.window.zmq_url, prefix=\"mip_refined\")\n",
    "draw_scene_tree_structure_meshcat(refined_tree, zmq_url=vis.window.zmq_url, prefix=\"mip_refined_scene_tree\")"
   ]
  },
  {
   "cell_type": "code",
   "execution_count": null,
   "metadata": {},
   "outputs": [],
   "source": [
    "try:\n",
    "    mip_optimized_tree.score()\n",
    "except ValueError as e:\n",
    "    print(\"MIP optimized tree wasn't happy, as expected: %s\" % str(e))\n",
    "\n",
    "print(refined_tree.score())"
   ]
  },
  {
   "cell_type": "code",
   "execution_count": null,
   "metadata": {},
   "outputs": [],
   "source": [
    "# Now try to do MCMC on the parsed tree\n",
    "sampled_trees = do_fixed_structure_mcmc(grammar, tree, num_samples=100, verbose=True)"
   ]
  },
  {
   "cell_type": "code",
   "execution_count": null,
   "metadata": {},
   "outputs": [],
   "source": [
    "for sample_k, sampled_tree in enumerate(sampled_trees[::5]):\n",
    "    draw_scene_tree_structure_meshcat(sampled_tree, zmq_url=vis.window.zmq_url, prefix=\"sampled/%d\" % sample_k)"
   ]
  }
 ],
 "metadata": {
  "kernelspec": {
   "display_name": "Python 3",
   "language": "python",
   "name": "python3"
  },
  "language_info": {
   "codemirror_mode": {
    "name": "ipython",
    "version": 3
   },
   "file_extension": ".py",
   "mimetype": "text/x-python",
   "name": "python",
   "nbconvert_exporter": "python",
   "pygments_lexer": "ipython3",
   "version": "3.6.13"
  }
 },
 "nbformat": 4,
 "nbformat_minor": 4
}
