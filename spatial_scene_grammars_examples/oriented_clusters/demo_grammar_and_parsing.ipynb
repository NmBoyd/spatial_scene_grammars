{
 "cells": [
  {
   "cell_type": "code",
   "execution_count": null,
   "metadata": {},
   "outputs": [],
   "source": [
    "%load_ext autoreload\n",
    "%autoreload 2\n",
    "\n",
    "import matplotlib.pyplot as plt\n",
    "import networkx as nx\n",
    "import numpy as np\n",
    "import os\n",
    "import time\n",
    "\n",
    "import torch\n",
    "torch.set_default_tensor_type(torch.DoubleTensor)\n",
    "\n",
    "from spatial_scene_grammars.nodes import *\n",
    "from spatial_scene_grammars.rules import *\n",
    "from spatial_scene_grammars.scene_grammar import *\n",
    "from spatial_scene_grammars.visualization import *\n",
    "from spatial_scene_grammars_examples.oriented_clusters.grammar import *\n",
    "from spatial_scene_grammars.parsing import *\n",
    "\n",
    "import meshcat\n",
    "import meshcat.geometry as meshcat_geom"
   ]
  },
  {
   "cell_type": "code",
   "execution_count": null,
   "metadata": {},
   "outputs": [],
   "source": [
    "if 'vis' not in globals():\n",
    "    vis = meshcat.Visualizer()\n",
    "\n",
    "base_url = \"http://127.0.0.1\"\n",
    "meshcat_url = base_url + \":\" + vis.url().split(\":\")[-1]\n",
    "print(\"Meshcat url: \", meshcat_url)\n",
    "from IPython.display import HTML\n",
    "HTML(\"\"\"\n",
    "    <div style=\"height: 400px; width: 100%; overflow-x: auto; overflow-y: hidden; resize: both\">\n",
    "    <iframe src=\"{url}\" style=\"width: 100%; height: 100%; border: none\"></iframe>\n",
    "</div>\n",
    "\"\"\".format(url=meshcat_url))"
   ]
  },
  {
   "cell_type": "code",
   "execution_count": null,
   "metadata": {},
   "outputs": [],
   "source": [
    "# Draw a random sample from the grammar and visualize it.\n",
    "grammar = SpatialSceneGrammar(\n",
    "    root_node_type = OrientedClusterRoot,\n",
    "    root_node_tf = torch.eye(4)\n",
    ")\n",
    "torch.random.manual_seed(5)\n",
    "tree = grammar.sample_tree()\n",
    "observed_nodes = tree.get_observed_nodes()\n",
    "print(\"Sampled scene with %d clusters and %d boxes.\" % \n",
    "      (len(tree.find_nodes_by_type(OrientedCluster)),\n",
    "       len(tree.find_nodes_by_type(LongBox))))\n",
    "print(\"Sampled tree has score %f\" % tree.score().item())\n",
    "draw_scene_tree_contents_meshcat(tree, zmq_url=vis.window.zmq_url)\n",
    "draw_scene_tree_structure_meshcat(tree, zmq_url=vis.window.zmq_url, alpha=0.5, node_sphere_size=0.01)"
   ]
  },
  {
   "cell_type": "code",
   "execution_count": null,
   "metadata": {},
   "outputs": [],
   "source": [
    "# Draw supertree for this grammar\n",
    "super_tree = grammar.make_super_tree(max_recursion_depth=10)\n",
    "nx.draw_networkx(super_tree, with_labels=False)\n",
    "plt.title(\"Super tree for oriented clusters grammar\")\n",
    "print(\"Super tree has %d nodes\" % len(list(super_tree.nodes)))"
   ]
  },
  {
   "cell_type": "code",
   "execution_count": null,
   "metadata": {},
   "outputs": [],
   "source": [
    "# Parse this tree\n",
    "inference_results = infer_mle_tree_with_mip(\n",
    "    grammar, observed_nodes, verbose=True,\n",
    ")\n",
    "mip_optimized_tree = get_optimized_tree_from_mip_results(inference_results)\n",
    "draw_scene_tree_contents_meshcat(mip_optimized_tree, zmq_url=vis.window.zmq_url, prefix=\"mip\")\n",
    "draw_scene_tree_structure_meshcat(mip_optimized_tree, zmq_url=vis.window.zmq_url, prefix=\"mip_scene_tree\")\n",
    "\n",
    "for node in mip_optimized_tree:\n",
    "    err = torch.matmul(node.rotation.transpose(0, 1), node.rotation) - torch.eye(3)\n",
    "    print(\"Avg elementwise deviation from R^T R = I: \", err.abs().mean())"
   ]
  },
  {
   "cell_type": "code",
   "execution_count": null,
   "metadata": {},
   "outputs": [],
   "source": [
    "# Do NLP refinement of tree\n",
    "refinement_results = adjust_mle_scene_tree(mip_optimized_tree, verbose=True)\n",
    "refined_tree = refinement_results.refined_tree\n",
    "draw_scene_tree_contents_meshcat(refined_tree, zmq_url=vis.window.zmq_url, prefix=\"mip_refined\")\n",
    "draw_scene_tree_structure_meshcat(refined_tree, zmq_url=vis.window.zmq_url, prefix=\"mip_refined_scene_tree\")"
   ]
  },
  {
   "cell_type": "code",
   "execution_count": null,
   "metadata": {},
   "outputs": [],
   "source": [
    "try:\n",
    "    mip_optimized_tree.score()\n",
    "except ValueError as e:\n",
    "    print(\"MIP optimized tree wasn't happy, as expected: %s\" % str(e))\n",
    "\n",
    "print(refined_tree.score())"
   ]
  }
 ],
 "metadata": {
  "kernelspec": {
   "display_name": "Python 3",
   "language": "python",
   "name": "python3"
  },
  "language_info": {
   "codemirror_mode": {
    "name": "ipython",
    "version": 3
   },
   "file_extension": ".py",
   "mimetype": "text/x-python",
   "name": "python",
   "nbconvert_exporter": "python",
   "pygments_lexer": "ipython3",
   "version": "3.6.10"
  }
 },
 "nbformat": 4,
 "nbformat_minor": 4
}
