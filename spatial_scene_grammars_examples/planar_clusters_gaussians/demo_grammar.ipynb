{
 "cells": [
  {
   "cell_type": "code",
   "execution_count": 1,
   "metadata": {},
   "outputs": [],
   "source": [
    "%load_ext autoreload\n",
    "%autoreload 2\n",
    "\n",
    "import matplotlib.pyplot as plt\n",
    "import networkx as nx\n",
    "import numpy as np\n",
    "import os\n",
    "import pickle\n",
    "import time\n",
    "from tqdm.notebook import tqdm\n",
    "\n",
    "import torch\n",
    "torch.set_default_tensor_type(torch.DoubleTensor)\n",
    "\n",
    "from spatial_scene_grammars.nodes import *\n",
    "from spatial_scene_grammars.rules import *\n",
    "from spatial_scene_grammars.scene_grammar import *\n",
    "from spatial_scene_grammars.visualization import *\n",
    "from spatial_scene_grammars_examples.planar_clusters_gaussians.grammar import *\n",
    "from spatial_scene_grammars.parsing import *\n",
    "from spatial_scene_grammars.sampling import *\n",
    "\n",
    "import meshcat\n",
    "import meshcat.geometry as meshcat_geom"
   ]
  },
  {
   "cell_type": "code",
   "execution_count": 50,
   "metadata": {},
   "outputs": [
    {
     "name": "stdout",
     "output_type": "stream",
     "text": [
      "Meshcat url:  http://127.0.0.1:7013/static/\n"
     ]
    },
    {
     "data": {
      "text/html": [
       "\n",
       "    <div style=\"height: 400px; width: 100%; overflow-x: auto; overflow-y: hidden; resize: both\">\n",
       "    <iframe src=\"http://127.0.0.1:7013/static/\" style=\"width: 100%; height: 100%; border: none\"></iframe>\n",
       "</div>\n"
      ],
      "text/plain": [
       "<IPython.core.display.HTML object>"
      ]
     },
     "execution_count": 50,
     "metadata": {},
     "output_type": "execute_result"
    }
   ],
   "source": [
    "if 'vis' not in globals():\n",
    "    vis = meshcat.Visualizer()\n",
    "vis.delete()\n",
    "base_url = \"http://127.0.0.1\"\n",
    "meshcat_url = base_url + \":\" + vis.url().split(\":\")[-1]\n",
    "print(\"Meshcat url: \", meshcat_url)\n",
    "from IPython.display import HTML\n",
    "HTML(\"\"\"\n",
    "    <div style=\"height: 400px; width: 100%; overflow-x: auto; overflow-y: hidden; resize: both\">\n",
    "    <iframe src=\"{url}\" style=\"width: 100%; height: 100%; border: none\"></iframe>\n",
    "</div>\n",
    "\"\"\".format(url=meshcat_url))"
   ]
  },
  {
   "cell_type": "code",
   "execution_count": 52,
   "metadata": {},
   "outputs": [
    {
     "name": "stdout",
     "output_type": "stream",
     "text": [
      "Loaded 1 scenes.\n"
     ]
    }
   ],
   "source": [
    "# Sample a dataset of scenes from the default grammar params.\n",
    "# Draw a random sample from the grammar and visualize it.\n",
    "# (Cache output.)\n",
    "torch.random.manual_seed(2)\n",
    "N_samples = 1\n",
    "RESAMPLE = True\n",
    "scenes_file = \"sampled_scenes_%d.dat\" % N_samples\n",
    "\n",
    "ground_truth_grammar = SpatialSceneGrammar(\n",
    "    root_node_type = Desk,\n",
    "    root_node_tf = torch.eye(4)\n",
    ")\n",
    "\n",
    "if not os.path.exists(scenes_file) or RESAMPLE:\n",
    "    samples = []\n",
    "    for k in range(N_samples):\n",
    "        tree = ground_truth_grammar.sample_tree(detach=True)\n",
    "        observed_nodes = tree.get_observed_nodes()\n",
    "        samples.append((tree, observed_nodes))\n",
    "\n",
    "    with open(scenes_file, \"wb\") as f:\n",
    "        pickle.dump(samples, f)\n",
    "\n",
    "with open(scenes_file, \"rb\") as f:\n",
    "    samples = pickle.load(f)\n",
    "print(\"Loaded %d scenes.\" % len(samples))\n",
    "observed_node_sets = [x[1] for x in samples]\n",
    "\n",
    "draw_scene_tree_contents_meshcat(samples[0][0], zmq_url=vis.window.zmq_url, prefix=\"sample\")"
   ]
  },
  {
   "cell_type": "code",
   "execution_count": 4,
   "metadata": {},
   "outputs": [
    {
     "data": {
      "application/vnd.jupyter.widget-view+json": {
       "model_id": "dabfe815e44742ffad7efc4f80114ed5",
       "version_major": 2,
       "version_minor": 0
      },
      "text/plain": [
       "Collecting posterior samples:   0%|          | 0/1 [00:00<?, ?it/s]"
      ]
     },
     "metadata": {},
     "output_type": "display_data"
    }
   ],
   "source": [
    "# Initialize a grammar with wide parameter guesses.\n",
    "grammar = SpatialSceneGrammar(\n",
    "    root_node_type = Desk,\n",
    "    root_node_tf = torch.eye(4),\n",
    "    sample_params_from_prior=False\n",
    ")\n",
    "# Force parameter guesses for rules as wide as possible.\n",
    "# TODO: Make this a grammar method.\n",
    "for node_type in grammar.all_types:\n",
    "    for xyz_param_dict, rot_param_dict in grammar.rule_params_by_node_type[node_type.__name__]:\n",
    "        if \"width\" in xyz_param_dict.keys():\n",
    "            xyz_param_dict[\"width\"].set(torch.ones_like(xyz_param_dict[\"width\"]()) * 5.)\n",
    "        \n",
    "\n",
    "def do_vis(tree):\n",
    "    draw_scene_tree_structure_meshcat(tree, zmq_url=vis.window.zmq_url, prefix=\"sampled_in_progress\")\n",
    "    \n",
    "def get_posterior_tree_samples_from_observation(grammar, observed_nodes, num_mcmc_steps=15, subsample_rate=3, verbose=0):\n",
    "    draw_scene_tree_contents_meshcat(\n",
    "        SceneTree.make_from_observed_nodes(observed_nodes), zmq_url=vis.window.zmq_url, prefix=\"observed\"\n",
    "    )\n",
    "    \n",
    "    # Use a MIP to get MAP structure.\n",
    "    mip_results = infer_mle_tree_with_mip(\n",
    "        grammar, observed_nodes, verbose=verbose>1, max_scene_extent_in_any_dir=10.\n",
    "    )\n",
    "    mip_optimized_tree = get_optimized_tree_from_mip_results(mip_results)\n",
    "    if not mip_optimized_tree:\n",
    "        return None\n",
    "    \n",
    "    draw_scene_tree_structure_meshcat(mip_optimized_tree, zmq_url=vis.window.zmq_url, prefix=\"mip_refined\")\n",
    "                                      \n",
    "    # Use NLP to refine that to a MAP estimate.\n",
    "    refinement_results = optimize_scene_tree_with_nlp(mip_optimized_tree, verbose=verbose>1)\n",
    "    refined_tree = refinement_results.refined_tree\n",
    "    \n",
    "    # And sample trees around that MAP estimate with the\n",
    "    # same structure.\n",
    "    sampled_trees = do_fixed_structure_mcmc(\n",
    "        grammar, refined_tree, num_samples=num_mcmc_steps, verbose=verbose,\n",
    "        perturb_in_config_space=True, translation_variance=0.01, rotation_variance=0.1,\n",
    "        do_hit_and_run_postprocess=False, vis_callback=do_vis\n",
    "    )\n",
    "    \n",
    "    # Finally, subsample the sampled trees as requested and return\n",
    "    # the sampled set.\n",
    "    return sampled_trees[::subsample_rate]\n",
    "\n",
    "def collect_posterior_sample_sets(grammar, observed_node_sets):\n",
    "    posterior_sample_sets = []\n",
    "    for observed_nodes in tqdm(observed_node_sets, desc='Collecting posterior samples'):\n",
    "        posterior_samples = get_posterior_tree_samples_from_observation(\n",
    "            grammar, observed_nodes, verbose=0, subsample_rate=1, num_mcmc_steps=10)\n",
    "        if posterior_samples is not None:\n",
    "            posterior_sample_sets.append(posterior_samples)\n",
    "    return posterior_sample_sets\n",
    "posterior_sample_sets = collect_posterior_sample_sets(grammar, observed_node_sets)"
   ]
  },
  {
   "cell_type": "code",
   "execution_count": 5,
   "metadata": {},
   "outputs": [],
   "source": [
    "for k, tree in enumerate(posterior_sample_sets[-1]):\n",
    "    draw_scene_tree_structure_meshcat(tree, zmq_url=vis.window.zmq_url, prefix=\"guesses/%d\" % k)"
   ]
  },
  {
   "cell_type": "code",
   "execution_count": 48,
   "metadata": {},
   "outputs": [
    {
     "name": "stderr",
     "output_type": "stream",
     "text": [
      "Warmup:   0%|          | 0/60 [10:22, ?it/s]/it, step size=2.05e-02, acc. prob=0.827]\n",
      "Sample: 100%|██████████| 30/30 [00:29,  1.02it/s, step size=4.02e-03, acc. prob=0.821]\n"
     ]
    },
    {
     "name": "stdout",
     "output_type": "stream",
     "text": [
      "\n",
      "                                                                     mean       std    median     25.0%     75.0%     n_eff     r_hat\n",
      "    Desk_2/ObjectCluster_2/AxisAlignedGaussianOffsetRule_xyz[0]      0.80      0.01      0.80      0.79      0.81     15.97      0.99\n",
      "    Desk_2/ObjectCluster_2/AxisAlignedGaussianOffsetRule_xyz[1]      0.74      0.02      0.75      0.74      0.76      6.79      1.23\n",
      "    Desk_2/ObjectCluster_2/AxisAlignedGaussianOffsetRule_xyz[2]     -0.00      0.01     -0.00     -0.00      0.00     20.09      1.01\n",
      "        Desk_2/ObjectCluster_2/GaussianChordOffsetRule_theta[0]     -1.00      0.02     -1.00     -1.00     -0.98      2.74      2.35\n",
      "    Desk_2/ObjectCluster_3/AxisAlignedGaussianOffsetRule_xyz[0]      0.35      0.02      0.35      0.33      0.36      8.13      0.96\n",
      "    Desk_2/ObjectCluster_3/AxisAlignedGaussianOffsetRule_xyz[1]      0.40      0.03      0.40      0.39      0.42      5.48      1.37\n",
      "    Desk_2/ObjectCluster_3/AxisAlignedGaussianOffsetRule_xyz[2]      0.01      0.01      0.01      0.00      0.01     21.67      0.95\n",
      "        Desk_2/ObjectCluster_3/GaussianChordOffsetRule_theta[0]      0.04      0.04      0.03      0.02      0.06      3.38      1.70\n",
      "    Desk_2/ObjectCluster_4/AxisAlignedGaussianOffsetRule_xyz[0]      0.55      0.03      0.55      0.52      0.56      4.46      1.07\n",
      "    Desk_2/ObjectCluster_4/AxisAlignedGaussianOffsetRule_xyz[1]      0.12      0.02      0.11      0.10      0.13      6.30      1.12\n",
      "    Desk_2/ObjectCluster_4/AxisAlignedGaussianOffsetRule_xyz[2]      0.00      0.01     -0.00     -0.01      0.00     23.20      0.97\n",
      "        Desk_2/ObjectCluster_4/GaussianChordOffsetRule_theta[0]     -0.28      0.04     -0.29     -0.34     -0.29      4.93      0.96\n",
      "    Desk_2/ObjectCluster_5/AxisAlignedGaussianOffsetRule_xyz[0]      0.98      0.02      0.98      0.98      1.01      9.55      0.95\n",
      "    Desk_2/ObjectCluster_5/AxisAlignedGaussianOffsetRule_xyz[1]      0.46      0.02      0.46      0.46      0.47      8.88      1.22\n",
      "    Desk_2/ObjectCluster_5/AxisAlignedGaussianOffsetRule_xyz[2]      0.01      0.01      0.01      0.00      0.01     29.23      0.95\n",
      "        Desk_2/ObjectCluster_5/GaussianChordOffsetRule_theta[0]     -1.86      0.05     -1.88     -1.90     -1.85      3.12      1.82\n",
      "    Desk_2/ObjectCluster_6/AxisAlignedGaussianOffsetRule_xyz[0]      0.78      0.03      0.77      0.75      0.78      2.72      2.10\n",
      "    Desk_2/ObjectCluster_6/AxisAlignedGaussianOffsetRule_xyz[1]      0.82      0.03      0.83      0.82      0.85      3.30      1.82\n",
      "    Desk_2/ObjectCluster_6/AxisAlignedGaussianOffsetRule_xyz[2]      0.00      0.01      0.00     -0.00      0.01     25.88      0.95\n",
      "        Desk_2/ObjectCluster_6/GaussianChordOffsetRule_theta[0]     -0.77      0.02     -0.78     -0.79     -0.77      3.90      1.69\n",
      "    Desk_2/ObjectCluster_7/AxisAlignedGaussianOffsetRule_xyz[0]      0.52      0.02      0.51      0.49      0.51      9.68      1.03\n",
      "    Desk_2/ObjectCluster_7/AxisAlignedGaussianOffsetRule_xyz[1]      0.27      0.02      0.27      0.27      0.29     19.51      1.03\n",
      "    Desk_2/ObjectCluster_7/AxisAlignedGaussianOffsetRule_xyz[2]      0.01      0.01      0.01      0.00      0.01     35.65      0.97\n",
      "        Desk_2/ObjectCluster_7/GaussianChordOffsetRule_theta[0]     -1.58      0.04     -1.57     -1.60     -1.55      3.00      1.87\n",
      "  PencilCluster_2/Pencil_1/AxisAlignedGaussianOffsetRule_xyz[0]     -0.01      0.01     -0.01     -0.02      0.00     17.18      0.98\n",
      "  PencilCluster_2/Pencil_1/AxisAlignedGaussianOffsetRule_xyz[1]     -0.01      0.02     -0.02     -0.03     -0.02      8.65      1.12\n",
      "  PencilCluster_2/Pencil_1/AxisAlignedGaussianOffsetRule_xyz[2]     -0.01      0.01     -0.01     -0.01      0.00     31.38      1.06\n",
      "      PencilCluster_2/Pencil_1/GaussianChordOffsetRule_theta[0]      2.89      0.02      2.88      2.88      2.91      3.16      1.92\n",
      "  PencilCluster_2/Pencil_2/AxisAlignedGaussianOffsetRule_xyz[0]      0.03      0.02      0.02      0.02      0.04     12.91      0.98\n",
      "  PencilCluster_2/Pencil_2/AxisAlignedGaussianOffsetRule_xyz[1]     -0.00      0.02     -0.00     -0.02     -0.00     11.27      1.14\n",
      "  PencilCluster_2/Pencil_2/AxisAlignedGaussianOffsetRule_xyz[2]     -0.00      0.01     -0.00     -0.01     -0.00     16.49      0.97\n",
      "      PencilCluster_2/Pencil_2/GaussianChordOffsetRule_theta[0]      1.63      0.02      1.63      1.61      1.63      2.81      2.09\n",
      "    PaperCluster_2/Paper_1/AxisAlignedGaussianOffsetRule_xyz[0]     -0.02      0.02     -0.02     -0.04     -0.01      7.70      1.01\n",
      "    PaperCluster_2/Paper_1/AxisAlignedGaussianOffsetRule_xyz[1]     -0.00      0.03     -0.00     -0.02      0.01      5.03      1.37\n",
      "    PaperCluster_2/Paper_1/AxisAlignedGaussianOffsetRule_xyz[2]     -0.00      0.01     -0.01     -0.01      0.00     17.98      0.96\n",
      "        PaperCluster_2/Paper_1/GaussianChordOffsetRule_theta[0]      1.63      0.04      1.63      1.61      1.64      3.86      1.59\n",
      "FoodWasteCluster_2/Plate_1/AxisAlignedGaussianOffsetRule_xyz[0]     -0.14      0.03     -0.13     -0.13     -0.09      4.48      1.12\n",
      "FoodWasteCluster_2/Plate_1/AxisAlignedGaussianOffsetRule_xyz[1]     -0.09      0.02     -0.09     -0.10     -0.07      6.63      1.12\n",
      "FoodWasteCluster_2/Plate_1/AxisAlignedGaussianOffsetRule_xyz[2]      0.00      0.01      0.00     -0.00      0.00    147.86      0.97\n",
      "    FoodWasteCluster_2/Plate_1/GaussianChordOffsetRule_theta[0]     -1.49      0.04     -1.48     -1.49     -1.44      4.91      0.96\n",
      "FoodWasteCluster_2/Drink_1/AxisAlignedGaussianOffsetRule_xyz[0]     -0.10      0.04     -0.10     -0.12     -0.08      4.96      1.07\n",
      "FoodWasteCluster_2/Drink_1/AxisAlignedGaussianOffsetRule_xyz[1]     -0.17      0.03     -0.17     -0.17     -0.14      6.39      1.15\n",
      "FoodWasteCluster_2/Drink_1/AxisAlignedGaussianOffsetRule_xyz[2]     -0.01      0.01     -0.01     -0.01     -0.01    193.97      0.95\n",
      "    FoodWasteCluster_2/Drink_1/GaussianChordOffsetRule_theta[0]      2.62      0.04      2.63      2.62      2.67      4.81      0.97\n",
      "    PaperCluster_3/Paper_2/AxisAlignedGaussianOffsetRule_xyz[0]      0.02      0.02      0.01     -0.00      0.02      8.39      0.96\n",
      "    PaperCluster_3/Paper_2/AxisAlignedGaussianOffsetRule_xyz[1]      0.02      0.02      0.01      0.01      0.03      9.08      1.23\n",
      "    PaperCluster_3/Paper_2/AxisAlignedGaussianOffsetRule_xyz[2]     -0.03      0.02     -0.03     -0.04     -0.03     26.36      0.98\n",
      "        PaperCluster_3/Paper_2/GaussianChordOffsetRule_theta[0]      0.87      0.05      0.89      0.85      0.90      3.16      1.76\n",
      "FoodWasteCluster_3/Plate_2/AxisAlignedGaussianOffsetRule_xyz[0]     -0.03      0.03     -0.03     -0.03      0.01      2.66      2.22\n",
      "FoodWasteCluster_3/Plate_2/AxisAlignedGaussianOffsetRule_xyz[1]      0.01      0.03      0.00     -0.02      0.01      3.37      1.77\n",
      "FoodWasteCluster_3/Plate_2/AxisAlignedGaussianOffsetRule_xyz[2]     -0.01      0.01     -0.01     -0.01     -0.00     14.66      0.96\n",
      "    FoodWasteCluster_3/Plate_2/GaussianChordOffsetRule_theta[0]     -1.64      0.02     -1.64     -1.64     -1.61      3.48      1.68\n",
      "FoodWasteCluster_3/Drink_2/AxisAlignedGaussianOffsetRule_xyz[0]      0.02      0.03      0.04      0.04      0.06      2.77      2.09\n",
      "FoodWasteCluster_3/Drink_2/AxisAlignedGaussianOffsetRule_xyz[1]     -0.05      0.03     -0.06     -0.08     -0.05      3.14      1.88\n",
      "FoodWasteCluster_3/Drink_2/AxisAlignedGaussianOffsetRule_xyz[2]      0.00      0.01     -0.00     -0.00      0.00     15.39      1.05\n",
      "    FoodWasteCluster_3/Drink_2/GaussianChordOffsetRule_theta[0]      1.51      0.02      1.51      1.48      1.52      4.68      1.50\n",
      "  PencilCluster_3/Pencil_3/AxisAlignedGaussianOffsetRule_xyz[0]     -0.01      0.02     -0.01     -0.01      0.01      7.64      1.08\n",
      "  PencilCluster_3/Pencil_3/AxisAlignedGaussianOffsetRule_xyz[1]     -0.00      0.02      0.00      0.00      0.02      7.18      1.19\n",
      "  PencilCluster_3/Pencil_3/AxisAlignedGaussianOffsetRule_xyz[2]     -0.00      0.01     -0.01     -0.01     -0.00     25.70      1.00\n",
      "      PencilCluster_3/Pencil_3/GaussianChordOffsetRule_theta[0]      1.42      0.04      1.41      1.37      1.42      3.00      1.82\n",
      "\n",
      "Number of divergences: 0\n"
     ]
    }
   ],
   "source": [
    "tree =  deepcopy(samples[0][0])\n",
    "#print(tree.trace.nodes.keys())\n",
    "grammar = SpatialSceneGrammar(\n",
    "    root_node_type = Desk,\n",
    "    root_node_tf = torch.eye(4),\n",
    "    sample_params_from_prior=True\n",
    ")\n",
    "# Langevin-esque:\n",
    "if 0:\n",
    "    sampled_trees = do_fixed_structure_hmc_with_constraint_penalties(\n",
    "        grammar, tree, num_samples=200, subsample_step=5, verbose=1,\n",
    "        kernel_type=\"HMC\", num_steps=1, step_size=1E-3, adapt_step_size=True\n",
    "    )\n",
    "# NUTS, defaults except limiting tree depth, to save on calls to\n",
    "# the slow model. Much slower, but should theoretically get much more\n",
    "# diversity as long as it doesn't diverge.\n",
    "if 1:\n",
    "    sampled_trees = do_fixed_structure_hmc_with_constraint_penalties(\n",
    "        grammar, tree, num_samples=20, subsample_step=1, verbose=1,\n",
    "        kernel_type=\"NUTS\", max_tree_depth=4\n",
    "    )\n"
   ]
  },
  {
   "cell_type": "code",
   "execution_count": 51,
   "metadata": {},
   "outputs": [],
   "source": [
    "for k, tree in enumerate(sampled_trees):\n",
    "    draw_scene_tree_structure_meshcat(tree, zmq_url=vis.window.zmq_url, prefix=\"guesses/%d\" % k)"
   ]
  }
 ],
 "metadata": {
  "kernelspec": {
   "display_name": "py36_pyro",
   "language": "python",
   "name": "py36_pyro"
  },
  "language_info": {
   "codemirror_mode": {
    "name": "ipython",
    "version": 3
   },
   "file_extension": ".py",
   "mimetype": "text/x-python",
   "name": "python",
   "nbconvert_exporter": "python",
   "pygments_lexer": "ipython3",
   "version": "3.6.13"
  }
 },
 "nbformat": 4,
 "nbformat_minor": 4
}
