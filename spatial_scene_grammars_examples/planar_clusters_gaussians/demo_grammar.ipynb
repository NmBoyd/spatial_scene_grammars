{
 "cells": [
  {
   "cell_type": "code",
   "execution_count": 1,
   "metadata": {},
   "outputs": [],
   "source": [
    "%load_ext autoreload\n",
    "%autoreload 2\n",
    "\n",
    "import matplotlib.pyplot as plt\n",
    "import networkx as nx\n",
    "import numpy as np\n",
    "import os\n",
    "import pickle\n",
    "import time\n",
    "from tqdm.notebook import tqdm\n",
    "\n",
    "import torch\n",
    "torch.set_default_tensor_type(torch.DoubleTensor)\n",
    "\n",
    "from spatial_scene_grammars.nodes import *\n",
    "from spatial_scene_grammars.rules import *\n",
    "from spatial_scene_grammars.scene_grammar import *\n",
    "from spatial_scene_grammars.visualization import *\n",
    "from spatial_scene_grammars_examples.planar_clusters_gaussians.grammar import *\n",
    "from spatial_scene_grammars.parsing import *\n",
    "from spatial_scene_grammars.sampling import *\n",
    "\n",
    "import meshcat\n",
    "import meshcat.geometry as meshcat_geom"
   ]
  },
  {
   "cell_type": "code",
   "execution_count": 2,
   "metadata": {},
   "outputs": [
    {
     "name": "stdout",
     "output_type": "stream",
     "text": [
      "You can open the visualizer by visiting the following URL:\n",
      "http://127.0.0.1:7003/static/\n",
      "Meshcat url:  http://127.0.0.1:7003/static/\n"
     ]
    },
    {
     "data": {
      "text/html": [
       "\n",
       "    <div style=\"height: 400px; width: 100%; overflow-x: auto; overflow-y: hidden; resize: both\">\n",
       "    <iframe src=\"http://127.0.0.1:7003/static/\" style=\"width: 100%; height: 100%; border: none\"></iframe>\n",
       "</div>\n"
      ],
      "text/plain": [
       "<IPython.core.display.HTML object>"
      ]
     },
     "execution_count": 2,
     "metadata": {},
     "output_type": "execute_result"
    }
   ],
   "source": [
    "if 'vis' not in globals():\n",
    "    vis = meshcat.Visualizer()\n",
    "vis.delete()\n",
    "base_url = \"http://127.0.0.1\"\n",
    "meshcat_url = base_url + \":\" + vis.url().split(\":\")[-1]\n",
    "print(\"Meshcat url: \", meshcat_url)\n",
    "from IPython.display import HTML\n",
    "HTML(\"\"\"\n",
    "    <div style=\"height: 400px; width: 100%; overflow-x: auto; overflow-y: hidden; resize: both\">\n",
    "    <iframe src=\"{url}\" style=\"width: 100%; height: 100%; border: none\"></iframe>\n",
    "</div>\n",
    "\"\"\".format(url=meshcat_url))"
   ]
  },
  {
   "cell_type": "code",
   "execution_count": 22,
   "metadata": {},
   "outputs": [
    {
     "name": "stdout",
     "output_type": "stream",
     "text": [
      "Loaded 10 scenes.\n"
     ]
    }
   ],
   "source": [
    "# Sample a dataset of scenes from the default grammar params.\n",
    "# Draw a random sample from the grammar and visualize it.\n",
    "# (Cache output.)\n",
    "torch.random.manual_seed(2)\n",
    "N_samples = 10\n",
    "RESAMPLE = True\n",
    "scenes_file = \"sampled_scenes_%d.dat\" % N_samples\n",
    "\n",
    "ground_truth_grammar = SpatialSceneGrammar(\n",
    "    root_node_type = Desk,\n",
    "    root_node_tf = torch.eye(4)\n",
    ")\n",
    "\n",
    "if not os.path.exists(scenes_file) or RESAMPLE:\n",
    "    samples = []\n",
    "    for k in range(N_samples):\n",
    "        tree = ground_truth_grammar.sample_tree(detach=True)\n",
    "        observed_nodes = tree.get_observed_nodes()\n",
    "        samples.append((tree, observed_nodes))\n",
    "\n",
    "    with open(scenes_file, \"wb\") as f:\n",
    "        pickle.dump(samples, f)\n",
    "\n",
    "with open(scenes_file, \"rb\") as f:\n",
    "    samples = pickle.load(f)\n",
    "print(\"Loaded %d scenes.\" % len(samples))\n",
    "observed_node_sets = [x[1] for x in samples]\n",
    "\n",
    "draw_scene_tree_contents_meshcat(samples[0][0], zmq_url=vis.window.zmq_url, prefix=\"sample\")"
   ]
  },
  {
   "cell_type": "code",
   "execution_count": 27,
   "metadata": {},
   "outputs": [],
   "source": [
    "# Initialize a grammar with wide parameter guesses.\n",
    "grammar = SpatialSceneGrammar(\n",
    "    root_node_type = Desk,\n",
    "    root_node_tf = torch.eye(4),\n",
    "    sample_params_from_prior=True\n",
    ")\n",
    "\n",
    "def do_vis(tree):\n",
    "    draw_scene_tree_structure_meshcat(tree, zmq_url=vis.window.zmq_url, prefix=\"sampled_in_progress\")\n",
    "    \n",
    "def get_posterior_tree_samples_from_observation(\n",
    "            grammar, observed_nodes, verbose=0,\n",
    "            num_samples=20, subsample_step=1, hmc_strategy=\"NUTS\"):\n",
    "    draw_scene_tree_contents_meshcat(\n",
    "        SceneTree.make_from_observed_nodes(observed_nodes), zmq_url=vis.window.zmq_url, prefix=\"observed\"\n",
    "    )\n",
    "    \n",
    "    # Use a MIP to get MAP structure.\n",
    "    mip_results = infer_mle_tree_with_mip(\n",
    "        grammar, observed_nodes, verbose=verbose>1, max_scene_extent_in_any_dir=10.\n",
    "    )\n",
    "    mip_optimized_tree = get_optimized_tree_from_mip_results(mip_results)\n",
    "    if not mip_optimized_tree:\n",
    "        return None\n",
    "    \n",
    "    draw_scene_tree_structure_meshcat(mip_optimized_tree, zmq_url=vis.window.zmq_url, prefix=\"mip_refined\")\n",
    "                                      \n",
    "    # Use NLP to refine that to a MAP estimate.\n",
    "    refinement_results = optimize_scene_tree_with_nlp(mip_optimized_tree, verbose=verbose>1)\n",
    "    refined_tree = refinement_results.refined_tree\n",
    "    \n",
    "    # And sample trees around that MAP estimate with the\n",
    "    # same structure.\n",
    "    # Langevin-esque:\n",
    "    if hmc_strategy==\"langevin\":\n",
    "        sampled_trees = do_fixed_structure_hmc_with_constraint_penalties(\n",
    "            grammar, tree, num_samples=num_samples, subsample_step=subsample_step, verbose=verbose,\n",
    "            kernel_type=\"HMC\", num_steps=1, step_size=1E-3, adapt_step_size=True\n",
    "        )\n",
    "    # NUTS, defaults except limiting tree depth, to save on calls to\n",
    "    # the slow model. Much slower, but should theoretically get much more\n",
    "    # diversity as long as it doesn't diverge.\n",
    "    elif hmc_strategy==\"NUTS\":\n",
    "        sampled_trees = do_fixed_structure_hmc_with_constraint_penalties(\n",
    "            grammar, tree, num_samples=num_samples, subsample_step=subsample_step, verbose=verbose,\n",
    "            kernel_type=\"NUTS\", max_tree_depth=4\n",
    "        )\n",
    "    else:\n",
    "        raise ValueError(hmc_strategy)\n",
    "    \n",
    "    \n",
    "    # Finally, subsample the sampled trees as requested and return\n",
    "    # the sampled set.\n",
    "    return sampled_trees\n",
    "\n",
    "def collect_posterior_sample_sets(grammar, observed_node_sets):\n",
    "    posterior_sample_sets = []\n",
    "    for observed_nodes in tqdm(observed_node_sets, desc='Collecting posterior samples'):\n",
    "        posterior_samples = get_posterior_tree_samples_from_observation(\n",
    "            grammar, observed_nodes, verbose=0, hmc_strategy=\"langevin\", num_samples=100, subsample_step=5)\n",
    "        if posterior_samples is not None:\n",
    "            posterior_sample_sets.append(posterior_samples)\n",
    "    return posterior_sample_sets\n",
    "\n",
    "if 0:\n",
    "    posterior_sample_sets = collect_posterior_sample_sets(grammar, observed_node_sets)\n",
    "    for k, tree in enumerate(posterior_sample_sets[-1]):\n",
    "        draw_scene_tree_structure_meshcat(tree, zmq_url=vis.window.zmq_url, prefix=\"guesses/%d\" % k)"
   ]
  },
  {
   "cell_type": "code",
   "execution_count": 28,
   "metadata": {},
   "outputs": [],
   "source": [
    "torch.save(grammar, \"/tmp/test_saved_grammar.torch\")\n",
    "orig_grammar = torch.load(\"/tmp/test_saved_grammar.torch\")"
   ]
  },
  {
   "cell_type": "code",
   "execution_count": 29,
   "metadata": {},
   "outputs": [],
   "source": [
    "if 0:\n",
    "    grammar = fit_grammar_params_to_sample_sets_with_uninformative_prior(grammar, posterior_sample_sets)\n",
    "    print(\"**********************************\\n\"\n",
    "          \"**********  BEFORE ***************\\n\"\n",
    "          \"************************************\")\n",
    "    orig_grammar.print_params(node_names=[\"Desk\"])\n",
    "    print(\"**********************************\\n\"\n",
    "          \"**********  AFTER ***************\\n\"\n",
    "          \"************************************\")\n",
    "    grammar.print_params(node_names=[\"Desk\"])\n",
    "    print(\"**********************************\\n\"\n",
    "          \"**********  TRUTH ***************\\n\"\n",
    "          \"************************************\")\n",
    "    ground_truth_grammar.print_params(node_names=[\"Desk\"])"
   ]
  },
  {
   "cell_type": "code",
   "execution_count": 30,
   "metadata": {},
   "outputs": [
    {
     "data": {
      "application/vnd.jupyter.widget-view+json": {
       "model_id": "c3ca08f386fb40878bc42859b64982c6",
       "version_major": 2,
       "version_minor": 0
      },
      "text/plain": [
       "HBox(children=(FloatProgress(value=0.0, description='Major iteration', max=3.0, style=ProgressStyle(descriptio…"
      ]
     },
     "metadata": {},
     "output_type": "display_data"
    },
    {
     "data": {
      "application/vnd.jupyter.widget-view+json": {
       "model_id": "befaea2b696643e49c89c1245cd6ee4e",
       "version_major": 2,
       "version_minor": 0
      },
      "text/plain": [
       "HBox(children=(FloatProgress(value=0.0, description='Collecting posterior samples', max=10.0, style=ProgressSt…"
      ]
     },
     "metadata": {},
     "output_type": "display_data"
    },
    {
     "name": "stderr",
     "output_type": "stream",
     "text": [
      "Sample: 100%|██████████| 110/110 [00:04, 24.33it/s, step size=2.80e-03, acc. prob=0.965]\n",
      "Sample: 100%|██████████| 110/110 [00:04, 24.77it/s, step size=3.23e-03, acc. prob=0.935]\n",
      "Sample: 100%|██████████| 110/110 [00:04, 25.04it/s, step size=4.23e-03, acc. prob=0.859]\n",
      "Sample: 100%|██████████| 110/110 [00:04, 24.58it/s, step size=2.36e-03, acc. prob=0.972]\n",
      "Sample: 100%|██████████| 110/110 [00:04, 24.66it/s, step size=3.40e-03, acc. prob=0.923]\n",
      "Sample: 100%|██████████| 110/110 [00:04, 24.58it/s, step size=3.13e-03, acc. prob=0.943]\n",
      "Sample: 100%|██████████| 110/110 [00:04, 24.89it/s, step size=4.84e-03, acc. prob=0.781]\n",
      "Sample: 100%|██████████| 110/110 [00:04, 24.57it/s, step size=2.90e-03, acc. prob=0.947]\n",
      "Sample: 100%|██████████| 110/110 [00:04, 24.90it/s, step size=2.74e-03, acc. prob=0.958]\n",
      "Sample: 100%|██████████| 110/110 [00:04, 24.66it/s, step size=2.90e-03, acc. prob=0.953]\n"
     ]
    },
    {
     "name": "stdout",
     "output_type": "stream",
     "text": [
      "\n"
     ]
    },
    {
     "data": {
      "application/vnd.jupyter.widget-view+json": {
       "model_id": "90795067d9734b3bbe6b3b2836ab952f",
       "version_major": 2,
       "version_minor": 0
      },
      "text/plain": [
       "HBox(children=(FloatProgress(value=0.0, description='Collecting posterior samples', max=10.0, style=ProgressSt…"
      ]
     },
     "metadata": {},
     "output_type": "display_data"
    },
    {
     "name": "stderr",
     "output_type": "stream",
     "text": [
      "Sample: 100%|██████████| 110/110 [00:04, 24.20it/s, step size=2.97e-03, acc. prob=0.933]\n",
      "Sample: 100%|██████████| 110/110 [00:04, 24.33it/s, step size=2.81e-03, acc. prob=0.959]\n",
      "Sample: 100%|██████████| 110/110 [00:04, 24.58it/s, step size=2.96e-03, acc. prob=0.957]\n",
      "Sample: 100%|██████████| 110/110 [00:04, 24.87it/s, step size=3.19e-03, acc. prob=0.935]\n",
      "Sample: 100%|██████████| 110/110 [00:04, 24.61it/s, step size=3.69e-03, acc. prob=0.889]\n",
      "Sample: 100%|██████████| 110/110 [00:04, 23.96it/s, step size=4.59e-03, acc. prob=0.813]\n",
      "Sample: 100%|██████████| 110/110 [00:04, 23.34it/s, step size=2.86e-03, acc. prob=0.955]\n",
      "Sample: 100%|██████████| 110/110 [00:04, 24.33it/s, step size=3.19e-03, acc. prob=0.935]\n",
      "Sample: 100%|██████████| 110/110 [00:04, 24.62it/s, step size=2.53e-03, acc. prob=0.964]\n",
      "Sample: 100%|██████████| 110/110 [00:04, 24.76it/s, step size=3.35e-03, acc. prob=0.919]\n"
     ]
    },
    {
     "name": "stdout",
     "output_type": "stream",
     "text": [
      "\n"
     ]
    },
    {
     "data": {
      "application/vnd.jupyter.widget-view+json": {
       "model_id": "591be19b731e470792c9999ec8db28b0",
       "version_major": 2,
       "version_minor": 0
      },
      "text/plain": [
       "HBox(children=(FloatProgress(value=0.0, description='Collecting posterior samples', max=10.0, style=ProgressSt…"
      ]
     },
     "metadata": {},
     "output_type": "display_data"
    },
    {
     "name": "stderr",
     "output_type": "stream",
     "text": [
      "Sample: 100%|██████████| 110/110 [00:04, 23.83it/s, step size=2.22e-03, acc. prob=0.978]\n",
      "Sample: 100%|██████████| 110/110 [00:04, 24.39it/s, step size=5.11e-03, acc. prob=0.734]\n",
      "Sample: 100%|██████████| 110/110 [00:04, 24.20it/s, step size=2.54e-03, acc. prob=0.972]\n",
      "Sample: 100%|██████████| 110/110 [00:04, 24.11it/s, step size=3.69e-03, acc. prob=0.894]\n",
      "Sample: 100%|██████████| 110/110 [00:04, 24.37it/s, step size=2.71e-03, acc. prob=0.960]\n",
      "Sample: 100%|██████████| 110/110 [00:04, 24.34it/s, step size=3.04e-03, acc. prob=0.939]\n",
      "Sample: 100%|██████████| 110/110 [00:04, 24.38it/s, step size=3.22e-03, acc. prob=0.936]\n",
      "Sample: 100%|██████████| 110/110 [00:04, 24.88it/s, step size=2.50e-03, acc. prob=0.967]\n",
      "Sample: 100%|██████████| 110/110 [00:04, 24.28it/s, step size=2.87e-03, acc. prob=0.954]\n",
      "Sample: 100%|██████████| 110/110 [00:04, 24.41it/s, step size=3.43e-03, acc. prob=0.919]\n"
     ]
    },
    {
     "name": "stdout",
     "output_type": "stream",
     "text": [
      "\n",
      "\n"
     ]
    }
   ],
   "source": [
    "state_dict_history = []\n",
    "for iter_k in tqdm(range(3), desc=\"Major iteration\"):\n",
    "    state_dict_history.append(deepcopy(grammar.state_dict()))\n",
    "    posterior_sample_sets = collect_posterior_sample_sets(grammar, observed_node_sets)\n",
    "    grammar = fit_grammar_params_to_sample_sets_with_uninformative_prior(grammar, posterior_sample_sets)\n",
    "state_dict_history.append(deepcopy(grammar.state_dict()))"
   ]
  },
  {
   "cell_type": "code",
   "execution_count": 32,
   "metadata": {},
   "outputs": [
    {
     "data": {
      "image/png": "[encoded data removed]",
      "text/plain": [
       "<Figure size 432x288 with 1 Axes>"
      ]
     },
     "metadata": {
      "needs_background": "light"
     },
     "output_type": "display_data"
    },
    {
     "data": {
      "image/png": "[encoded data removed]",
      "text/plain": [
       "<Figure size 432x288 with 1 Axes>"
      ]
     },
     "metadata": {
      "needs_background": "light"
     },
     "output_type": "display_data"
    },
    {
     "data": {
      "image/png": "[encoded data removed]",
      "text/plain": [
       "<Figure size 432x288 with 1 Axes>"
      ]
     },
     "metadata": {
      "needs_background": "light"
     },
     "output_type": "display_data"
    },
    {
     "data": {
      "image/png": "[encoded data removed]",
      "text/plain": [
       "<Figure size 432x288 with 1 Axes>"
      ]
     },
     "metadata": {
      "needs_background": "light"
     },
     "output_type": "display_data"
    },
    {
     "data": {
      "image/png": "[encoded data removed]",
      "text/plain": [
       "<Figure size 432x288 with 1 Axes>"
      ]
     },
     "metadata": {
      "needs_background": "light"
     },
     "output_type": "display_data"
    }
   ],
   "source": [
    "# Plot a couple of interesting parameters\n",
    "param_getters_of_interest = {\n",
    "    \"Desk child xyz mean: \": lambda x: x.rule_params_by_node_type[\"Desk\"][0][0][\"mean\"]().detach().numpy(),\n",
    "    \"Desk child xyz var: \": lambda x: x.rule_params_by_node_type[\"Desk\"][0][0][\"variance\"]().detach().numpy(),\n",
    "    \"Desk child rot loc: \": lambda x: x.rule_params_by_node_type[\"Desk\"][0][1][\"loc\"]().detach().numpy(),\n",
    "    \"Desk child rot var: \": lambda x: x.rule_params_by_node_type[\"Desk\"][0][1][\"concentration\"]().detach().numpy(),\n",
    "    \"Desk child rate: \": lambda x: x.params_by_node_type[\"Desk\"]().detach().numpy()\n",
    "}\n",
    "\n",
    "for key, getter in param_getters_of_interest.items():\n",
    "    plt.figure()\n",
    "    history = []\n",
    "    for state_dict in state_dict_history:\n",
    "        grammar.load_state_dict(state_dict)\n",
    "        history.append(getter(grammar).copy().flatten())\n",
    "    data = np.stack(history)\n",
    "\n",
    "    gt_x = getter(ground_truth_grammar).flatten()\n",
    "    cm = plt.get_cmap(\"viridis\")\n",
    "    N = len(gt_x)\n",
    "    for k in range(N):\n",
    "        color = cm(k / max(1, N))\n",
    "        plt.plot(data[:, k], color=color)\n",
    "        plt.axhline(gt_x[k], color=color, linestyle=\"--\")\n",
    "    plt.xlabel(\"Iter\")\n",
    "    plt.ylabel(key)\n"
   ]
  }
 ],
 "metadata": {
  "kernelspec": {
   "display_name": "Python 3",
   "language": "python",
   "name": "python3"
  },
  "language_info": {
   "codemirror_mode": {
    "name": "ipython",
    "version": 3
   },
   "file_extension": ".py",
   "mimetype": "text/x-python",
   "name": "python",
   "nbconvert_exporter": "python",
   "pygments_lexer": "ipython3",
   "version": "3.6.10"
  }
 },
 "nbformat": 4,
 "nbformat_minor": 4
}
