{
 "cells": [
  {
   "cell_type": "code",
   "execution_count": 1,
   "metadata": {},
   "outputs": [],
   "source": [
    "%load_ext autoreload\n",
    "%autoreload 2\n",
    "\n",
    "import matplotlib.pyplot as plt\n",
    "import networkx as nx\n",
    "import numpy as np\n",
    "import sklearn\n",
    "from sklearn.mixture import GaussianMixture\n",
    "import scipy as sp\n",
    "import os\n",
    "import pickle\n",
    "import time\n",
    "from tqdm.notebook import tqdm\n",
    "\n",
    "import torch\n",
    "torch.set_default_tensor_type(torch.DoubleTensor)\n",
    "\n",
    "from spatial_scene_grammars.nodes import *\n",
    "from spatial_scene_grammars.rules import *\n",
    "from spatial_scene_grammars.scene_grammar import *\n",
    "from spatial_scene_grammars.visualization import *\n",
    "from spatial_scene_grammars_examples.gmm.grammar import *\n",
    "from spatial_scene_grammars.parsing import *\n",
    "from spatial_scene_grammars.sampling import *\n",
    "from spatial_scene_grammars.parameter_estimation import *"
   ]
  },
  {
   "cell_type": "code",
   "execution_count": 8,
   "metadata": {},
   "outputs": [],
   "source": [
    "def convert_grammar_to_gmm(grammar):\n",
    "    weights = grammar.params_by_node_type[Root.__name__]().detach().numpy()\n",
    "    means_init = []\n",
    "    vars_init = []\n",
    "    for mode in Modes:\n",
    "        mode_name = mode.__name__\n",
    "        mean = grammar.rule_params_by_node_type[mode_name][0][0][\"mean\"]().detach().numpy()\n",
    "        var = grammar.rule_params_by_node_type[mode_name][0][0][\"variance\"]().detach().numpy()\n",
    "        means_init.append(mean)\n",
    "        vars_init.append(var)\n",
    "    means_init = np.stack(means_init)\n",
    "    vars_init = np.stack(vars_init)\n",
    "    return make_gmm_without_fitting(weights, means_init, vars_init)\n",
    "\n",
    "def make_gmm_without_fitting(weights_init, means_init, vars_init):\n",
    "    gmm = GaussianMixture(\n",
    "        n_components=3,\n",
    "        covariance_type=\"diag\"\n",
    "    )\n",
    "    gmm.weights_ = deepcopy(weights_init)\n",
    "    gmm.means_ = deepcopy(means_init)\n",
    "    gmm.covariances_ = deepcopy(vars_init)\n",
    "    gmm.precisions_ = 1./deepcopy(vars_init)\n",
    "    gmm.precisions_cholesky_ = 1.0 / np.sqrt(vars_init)\n",
    "    gmm.converged_ = True\n",
    "    return gmm\n",
    "\n",
    "def convert_gmm_to_grammar(gmm):\n",
    "    grammar = SpatialSceneGrammar(\n",
    "        root_node_type = Root,\n",
    "        root_node_tf = torch.eye(4),\n",
    "        sample_params_from_prior=True\n",
    "    )\n",
    "    rule_probs_param = grammar.params_by_node_type[Root.__name__]\n",
    "    rule_probs_param.set(torch.tensor(deepcopy(gmm.weights_)))\n",
    "    for k, mode in enumerate(Modes):\n",
    "        mode_name = mode.__name__\n",
    "        mean_param = grammar.rule_params_by_node_type[mode_name][0][0][\"mean\"]\n",
    "        var_param = grammar.rule_params_by_node_type[mode_name][0][0][\"variance\"]\n",
    "        mean_param.set(torch.tensor(deepcopy(gmm.means_[k, :])))\n",
    "        var_param.set(torch.tensor(deepcopy(gmm.covariances_[k, :])))\n",
    "    return grammar\n",
    "\n",
    "\n",
    "def make_random_gmm(seed):\n",
    "    pyro.set_rng_seed(seed)\n",
    "    # Come up with weights / means / variances manually\n",
    "    weights = dist.Dirichlet(torch.ones(3)).sample().detach().numpy()\n",
    "    means = dist.Uniform(torch.ones(3, 3)*-10., torch.ones(3, 3)*10.).sample().detach().numpy()\n",
    "    vars = dist.Uniform(torch.ones(3, 3)*0.5, torch.ones(3, 3)*1.0).sample().detach().square().numpy()\n",
    "    return make_gmm_without_fitting(weights, means, vars)\n",
    "    \n",
    "def make_target_grammar_and_data(seed, N):\n",
    "    gmm = make_random_gmm(seed)\n",
    "    X = gmm.sample(N)[0]\n",
    "    return convert_gmm_to_grammar(gmm), X    \n",
    "    \n",
    "N_EM_ITERS_DEFAULT = 5\n",
    "def do_sklearn_gmm_fit(X, weights_init, means_init, vars_init, n_em_iters=N_EM_ITERS_DEFAULT):\n",
    "    gmm = make_gmm_without_fitting(weights_init, means_init, vars_init)\n",
    "    # Run EM updates myself, copying internal code. I'm having trouble\n",
    "    # forcing it to accept my initialization; I think this line\n",
    "    # https://github.com/scikit-learn/scikit-learn/blob/0d378913be6d7e485b792ea36e9268be31ed52d0/sklearn/mixture/_gaussian_mixture.py#L730\n",
    "    # should initialize to the sqrt instead of the covariance...\n",
    "    for iter_k in range(n_em_iters):\n",
    "        log_prob_norm, log_resp = gmm._e_step(X)\n",
    "        gmm._m_step(X, log_resp)\n",
    "    return convert_gmm_to_grammar(gmm)\n",
    "\n",
    "\n",
    "def do_grammar_gmm_fit(X, weights_init, means_init, vars_init, n_em_iters=N_EM_ITERS_DEFAULT):\n",
    "    # Make fitting grammar\n",
    "    fit_grammar = SpatialSceneGrammar(\n",
    "        root_node_type = Root,\n",
    "        root_node_tf = torch.eye(4),\n",
    "        sample_params_from_prior=True\n",
    "    )\n",
    "    rule_probs_param = fit_grammar.params_by_node_type[Root.__name__]\n",
    "    rule_probs_param.set(torch.tensor(deepcopy(weights_init)))\n",
    "    for k, mode in enumerate(Modes):\n",
    "        mode_name = mode.__name__\n",
    "        mean_param = fit_grammar.rule_params_by_node_type[mode_name][0][0][\"mean\"]\n",
    "        var_param = fit_grammar.rule_params_by_node_type[mode_name][0][0][\"variance\"]\n",
    "        mean_param.set(torch.tensor(deepcopy(means_init[k, :])))\n",
    "        var_param.set(torch.tensor(deepcopy(vars_init[k, :])))\n",
    "    \n",
    "    observed_nodes = []\n",
    "    for x in X:\n",
    "        observed_nodes.append([Point(tf=drake_tf_to_torch_tf(RigidTransform(p=x)))])\n",
    "    # Don't clip weights to keep them finite; in this case we won't be infeasible\n",
    "    # if we do set some weights to zero, and it's a thing that the baseline EM approach\n",
    "    # doesn't do.\n",
    "    em = EMWrapper(fit_grammar, observed_nodes, max_scene_extent_in_any_dir=20)\n",
    "    em.do_iterated_em_fitting(em_iterations=n_em_iters, tqdm=tqdm, N_solutions=3, num_workers=5,\n",
    "                   min_weight=1E-6, weight_by_sample_prob=True)\n",
    "    return fit_grammar, em"
   ]
  },
  {
   "cell_type": "code",
   "execution_count": 9,
   "metadata": {},
   "outputs": [
    {
     "data": {
      "image/png": "[encoded data removed]",
      "text/plain": [
       "<Figure size 432x288 with 3 Axes>"
      ]
     },
     "metadata": {
      "needs_background": "light"
     },
     "output_type": "display_data"
    }
   ],
   "source": [
    "target_grammar, X = make_target_grammar_and_data(11, 1000)\n",
    "\n",
    "\n",
    "def plot_grammar_modes(grammar, axs):\n",
    "    xs = np.linspace(-15, 15, 1000)\n",
    "    for k, label in enumerate(\"xyz\"):\n",
    "        rule_probs_param = grammar.params_by_node_type[Root.__name__]\n",
    "        modes = []\n",
    "        for mode in Modes:\n",
    "            mode_name = mode.__name__\n",
    "            mean_param = grammar.rule_params_by_node_type[mode_name][0][0][\"mean\"]\n",
    "            var_param = grammar.rule_params_by_node_type[mode_name][0][0][\"variance\"]\n",
    "            modes.append((mean_param(), var_param()))\n",
    "\n",
    "        for mode_k, (prob, mode) in enumerate(zip(rule_probs_param().detach().numpy(), modes)):\n",
    "            mode = torch.exp(dist.Normal(mode[0][k], mode[1][k]).log_prob(torch.tensor(xs))).detach().numpy() * prob\n",
    "            axs[k].plot(xs, mode, label=\"Mode %d\" % mode_k)\n",
    "\n",
    "def plot_grammar_samples(grammar, axs, X):\n",
    "    for k, label in enumerate(\"xyz\"):\n",
    "        axs[k].hist(X[:, k], bins=50, alpha=0.5, density=True)\n",
    "        \n",
    "def make_figure_for_grammar(grammar, X, axs):\n",
    "    plot_grammar_modes(grammar, axs)\n",
    "    plot_grammar_samples(grammar, axs, X)\n",
    "\n",
    "fig, axs = plt.subplots(1, 3)\n",
    "make_figure_for_grammar(target_grammar, X, axs)"
   ]
  },
  {
   "cell_type": "code",
   "execution_count": 10,
   "metadata": {},
   "outputs": [
    {
     "name": "stdout",
     "output_type": "stream",
     "text": [
      "Rerunning experiment...\n"
     ]
    },
    {
     "data": {
      "application/vnd.jupyter.widget-view+json": {
       "model_id": "452e9f5f362a456e911192477a7a0abc",
       "version_major": 2,
       "version_minor": 0
      },
      "text/plain": [
       "  0%|          | 0/30 [00:00<?, ?it/s]"
      ]
     },
     "metadata": {},
     "output_type": "display_data"
    },
    {
     "data": {
      "application/vnd.jupyter.widget-view+json": {
       "model_id": "9b9f358f495a48c1816e475fe59c5193",
       "version_major": 2,
       "version_minor": 0
      },
      "text/plain": [
       "EM Iteration:   0%|          | 0/5 [00:00<?, ?it/s]"
      ]
     },
     "metadata": {},
     "output_type": "display_data"
    },
    {
     "data": {
      "application/vnd.jupyter.widget-view+json": {
       "model_id": "676a0b7d587d4ab08eea148aae379a62",
       "version_major": 2,
       "version_minor": 0
      },
      "text/plain": [
       "  0%|          | 0/100 [00:00<?, ?it/s]"
      ]
     },
     "metadata": {},
     "output_type": "display_data"
    },
    {
     "data": {
      "application/vnd.jupyter.widget-view+json": {
       "model_id": "43525835217d4aa196bc91359d11916c",
       "version_major": 2,
       "version_minor": 0
      },
      "text/plain": [
       "  0%|          | 0/100 [00:00<?, ?it/s]"
      ]
     },
     "metadata": {},
     "output_type": "display_data"
    },
    {
     "data": {
      "application/vnd.jupyter.widget-view+json": {
       "model_id": "120717363b2e4af8ac83c55043e07f80",
       "version_major": 2,
       "version_minor": 0
      },
      "text/plain": [
       "  0%|          | 0/100 [00:00<?, ?it/s]"
      ]
     },
     "metadata": {},
     "output_type": "display_data"
    },
    {
     "data": {
      "application/vnd.jupyter.widget-view+json": {
       "model_id": "c78ba1c2f9d648f6965bce38f6c05756",
       "version_major": 2,
       "version_minor": 0
      },
      "text/plain": [
       "  0%|          | 0/100 [00:00<?, ?it/s]"
      ]
     },
     "metadata": {},
     "output_type": "display_data"
    },
    {
     "data": {
      "application/vnd.jupyter.widget-view+json": {
       "model_id": "e3a9de4e170b4301996acc7518d52a7c",
       "version_major": 2,
       "version_minor": 0
      },
      "text/plain": [
       "  0%|          | 0/100 [00:00<?, ?it/s]"
      ]
     },
     "metadata": {},
     "output_type": "display_data"
    },
    {
     "data": {
      "application/vnd.jupyter.widget-view+json": {
       "model_id": "ea290b7082a84b28bdc1abd22834a580",
       "version_major": 2,
       "version_minor": 0
      },
      "text/plain": [
       "EM Iteration:   0%|          | 0/5 [00:00<?, ?it/s]"
      ]
     },
     "metadata": {},
     "output_type": "display_data"
    },
    {
     "data": {
      "application/vnd.jupyter.widget-view+json": {
       "model_id": "07450dbffebd490eb9679ea7f32d6816",
       "version_major": 2,
       "version_minor": 0
      },
      "text/plain": [
       "  0%|          | 0/100 [00:00<?, ?it/s]"
      ]
     },
     "metadata": {},
     "output_type": "display_data"
    },
    {
     "data": {
      "application/vnd.jupyter.widget-view+json": {
       "model_id": "85ad5b4c31b9402f83488514e1f20086",
       "version_major": 2,
       "version_minor": 0
      },
      "text/plain": [
       "  0%|          | 0/100 [00:00<?, ?it/s]"
      ]
     },
     "metadata": {},
     "output_type": "display_data"
    },
    {
     "data": {
      "application/vnd.jupyter.widget-view+json": {
       "model_id": "2b3339ea3e2f47e1a162ce3f2bf77de2",
       "version_major": 2,
       "version_minor": 0
      },
      "text/plain": [
       "  0%|          | 0/100 [00:00<?, ?it/s]"
      ]
     },
     "metadata": {},
     "output_type": "display_data"
    },
    {
     "data": {
      "application/vnd.jupyter.widget-view+json": {
       "model_id": "bdb0b7b02d3249a4a53bf0823f7a0107",
       "version_major": 2,
       "version_minor": 0
      },
      "text/plain": [
       "  0%|          | 0/100 [00:00<?, ?it/s]"
      ]
     },
     "metadata": {},
     "output_type": "display_data"
    },
    {
     "data": {
      "application/vnd.jupyter.widget-view+json": {
       "model_id": "5b5906fb7f9645e4ac1a1c0c3cd2bff7",
       "version_major": 2,
       "version_minor": 0
      },
      "text/plain": [
       "  0%|          | 0/100 [00:00<?, ?it/s]"
      ]
     },
     "metadata": {},
     "output_type": "display_data"
    },
    {
     "data": {
      "application/vnd.jupyter.widget-view+json": {
       "model_id": "6dc9d6a0d25f40cc8a6824dd3eef6e69",
       "version_major": 2,
       "version_minor": 0
      },
      "text/plain": [
       "EM Iteration:   0%|          | 0/5 [00:00<?, ?it/s]"
      ]
     },
     "metadata": {},
     "output_type": "display_data"
    },
    {
     "data": {
      "application/vnd.jupyter.widget-view+json": {
       "model_id": "17f25f9d013647cea5f566da31f565e6",
       "version_major": 2,
       "version_minor": 0
      },
      "text/plain": [
       "  0%|          | 0/100 [00:00<?, ?it/s]"
      ]
     },
     "metadata": {},
     "output_type": "display_data"
    },
    {
     "data": {
      "application/vnd.jupyter.widget-view+json": {
       "model_id": "894346fafa33410eb1b33db479e626d5",
       "version_major": 2,
       "version_minor": 0
      },
      "text/plain": [
       "  0%|          | 0/100 [00:00<?, ?it/s]"
      ]
     },
     "metadata": {},
     "output_type": "display_data"
    },
    {
     "data": {
      "application/vnd.jupyter.widget-view+json": {
       "model_id": "675df3cbc4834fbc981ebf9f9c89a30c",
       "version_major": 2,
       "version_minor": 0
      },
      "text/plain": [
       "  0%|          | 0/100 [00:00<?, ?it/s]"
      ]
     },
     "metadata": {},
     "output_type": "display_data"
    },
    {
     "data": {
      "application/vnd.jupyter.widget-view+json": {
       "model_id": "3758969f12de4bf9917bcde47915e42b",
       "version_major": 2,
       "version_minor": 0
      },
      "text/plain": [
       "  0%|          | 0/100 [00:00<?, ?it/s]"
      ]
     },
     "metadata": {},
     "output_type": "display_data"
    },
    {
     "data": {
      "application/vnd.jupyter.widget-view+json": {
       "model_id": "df57fdbfcd45481ca478a7f3289675a3",
       "version_major": 2,
       "version_minor": 0
      },
      "text/plain": [
       "  0%|          | 0/100 [00:00<?, ?it/s]"
      ]
     },
     "metadata": {},
     "output_type": "display_data"
    },
    {
     "data": {
      "application/vnd.jupyter.widget-view+json": {
       "model_id": "62f789d111934f5cb6a99964d52bd1a0",
       "version_major": 2,
       "version_minor": 0
      },
      "text/plain": [
       "EM Iteration:   0%|          | 0/5 [00:00<?, ?it/s]"
      ]
     },
     "metadata": {},
     "output_type": "display_data"
    },
    {
     "data": {
      "application/vnd.jupyter.widget-view+json": {
       "model_id": "94fb60b74db1480bbcf9fcd72499113e",
       "version_major": 2,
       "version_minor": 0
      },
      "text/plain": [
       "  0%|          | 0/100 [00:00<?, ?it/s]"
      ]
     },
     "metadata": {},
     "output_type": "display_data"
    },
    {
     "data": {
      "application/vnd.jupyter.widget-view+json": {
       "model_id": "47179ccf69434a9aab2e13ac2cf5b5e1",
       "version_major": 2,
       "version_minor": 0
      },
      "text/plain": [
       "  0%|          | 0/100 [00:00<?, ?it/s]"
      ]
     },
     "metadata": {},
     "output_type": "display_data"
    },
    {
     "data": {
      "application/vnd.jupyter.widget-view+json": {
       "model_id": "10f4a5ea97a447fab56b40829042373c",
       "version_major": 2,
       "version_minor": 0
      },
      "text/plain": [
       "  0%|          | 0/100 [00:00<?, ?it/s]"
      ]
     },
     "metadata": {},
     "output_type": "display_data"
    },
    {
     "data": {
      "application/vnd.jupyter.widget-view+json": {
       "model_id": "185a1689e06d4b578015536dff811ad3",
       "version_major": 2,
       "version_minor": 0
      },
      "text/plain": [
       "  0%|          | 0/100 [00:00<?, ?it/s]"
      ]
     },
     "metadata": {},
     "output_type": "display_data"
    },
    {
     "data": {
      "application/vnd.jupyter.widget-view+json": {
       "model_id": "6932cb6e16a141a5b940976552855a01",
       "version_major": 2,
       "version_minor": 0
      },
      "text/plain": [
       "  0%|          | 0/100 [00:00<?, ?it/s]"
      ]
     },
     "metadata": {},
     "output_type": "display_data"
    },
    {
     "data": {
      "application/vnd.jupyter.widget-view+json": {
       "model_id": "2ab7d6dc0ad4458cb579263eb8899355",
       "version_major": 2,
       "version_minor": 0
      },
      "text/plain": [
       "EM Iteration:   0%|          | 0/5 [00:00<?, ?it/s]"
      ]
     },
     "metadata": {},
     "output_type": "display_data"
    },
    {
     "data": {
      "application/vnd.jupyter.widget-view+json": {
       "model_id": "3a73f4ff303e468cbab06f5657fd94d9",
       "version_major": 2,
       "version_minor": 0
      },
      "text/plain": [
       "  0%|          | 0/100 [00:00<?, ?it/s]"
      ]
     },
     "metadata": {},
     "output_type": "display_data"
    },
    {
     "data": {
      "application/vnd.jupyter.widget-view+json": {
       "model_id": "ea93d4b7e9f14826a75f29a0d7a9537d",
       "version_major": 2,
       "version_minor": 0
      },
      "text/plain": [
       "  0%|          | 0/100 [00:00<?, ?it/s]"
      ]
     },
     "metadata": {},
     "output_type": "display_data"
    },
    {
     "data": {
      "application/vnd.jupyter.widget-view+json": {
       "model_id": "54fd8430edca4bafa88a70e59eda9e3e",
       "version_major": 2,
       "version_minor": 0
      },
      "text/plain": [
       "  0%|          | 0/100 [00:00<?, ?it/s]"
      ]
     },
     "metadata": {},
     "output_type": "display_data"
    },
    {
     "data": {
      "application/vnd.jupyter.widget-view+json": {
       "model_id": "8235db53621d41d8b2203e1d149808fd",
       "version_major": 2,
       "version_minor": 0
      },
      "text/plain": [
       "  0%|          | 0/100 [00:00<?, ?it/s]"
      ]
     },
     "metadata": {},
     "output_type": "display_data"
    },
    {
     "data": {
      "application/vnd.jupyter.widget-view+json": {
       "model_id": "10f792bd2ec0462093d6c7b00c048828",
       "version_major": 2,
       "version_minor": 0
      },
      "text/plain": [
       "  0%|          | 0/100 [00:00<?, ?it/s]"
      ]
     },
     "metadata": {},
     "output_type": "display_data"
    },
    {
     "data": {
      "application/vnd.jupyter.widget-view+json": {
       "model_id": "00e8f0ad4962458faf2095ec742f3ee0",
       "version_major": 2,
       "version_minor": 0
      },
      "text/plain": [
       "EM Iteration:   0%|          | 0/5 [00:00<?, ?it/s]"
      ]
     },
     "metadata": {},
     "output_type": "display_data"
    },
    {
     "data": {
      "application/vnd.jupyter.widget-view+json": {
       "model_id": "bb5e31acc70b447ea9394a1ac4038337",
       "version_major": 2,
       "version_minor": 0
      },
      "text/plain": [
       "  0%|          | 0/100 [00:00<?, ?it/s]"
      ]
     },
     "metadata": {},
     "output_type": "display_data"
    },
    {
     "data": {
      "application/vnd.jupyter.widget-view+json": {
       "model_id": "04c3939253b94a5b8ab1a9788730ec56",
       "version_major": 2,
       "version_minor": 0
      },
      "text/plain": [
       "  0%|          | 0/100 [00:00<?, ?it/s]"
      ]
     },
     "metadata": {},
     "output_type": "display_data"
    },
    {
     "data": {
      "application/vnd.jupyter.widget-view+json": {
       "model_id": "4d0246418b2946c984a98ee7c5e94030",
       "version_major": 2,
       "version_minor": 0
      },
      "text/plain": [
       "  0%|          | 0/100 [00:00<?, ?it/s]"
      ]
     },
     "metadata": {},
     "output_type": "display_data"
    },
    {
     "data": {
      "application/vnd.jupyter.widget-view+json": {
       "model_id": "98a730ca63d04e759d12b008c4cb88da",
       "version_major": 2,
       "version_minor": 0
      },
      "text/plain": [
       "  0%|          | 0/100 [00:00<?, ?it/s]"
      ]
     },
     "metadata": {},
     "output_type": "display_data"
    },
    {
     "data": {
      "application/vnd.jupyter.widget-view+json": {
       "model_id": "253ff056c4ca493993042f620ad3c3fe",
       "version_major": 2,
       "version_minor": 0
      },
      "text/plain": [
       "  0%|          | 0/100 [00:00<?, ?it/s]"
      ]
     },
     "metadata": {},
     "output_type": "display_data"
    },
    {
     "data": {
      "application/vnd.jupyter.widget-view+json": {
       "model_id": "31b0b83d8efd4ea3b4d33e5858a9f58c",
       "version_major": 2,
       "version_minor": 0
      },
      "text/plain": [
       "EM Iteration:   0%|          | 0/5 [00:00<?, ?it/s]"
      ]
     },
     "metadata": {},
     "output_type": "display_data"
    },
    {
     "data": {
      "application/vnd.jupyter.widget-view+json": {
       "model_id": "ed8bfe1e95ce4fc382b1ac6a2f88f256",
       "version_major": 2,
       "version_minor": 0
      },
      "text/plain": [
       "  0%|          | 0/100 [00:00<?, ?it/s]"
      ]
     },
     "metadata": {},
     "output_type": "display_data"
    },
    {
     "data": {
      "application/vnd.jupyter.widget-view+json": {
       "model_id": "2ba481862b6a45beb2d1f4c1c4e2694e",
       "version_major": 2,
       "version_minor": 0
      },
      "text/plain": [
       "  0%|          | 0/100 [00:00<?, ?it/s]"
      ]
     },
     "metadata": {},
     "output_type": "display_data"
    },
    {
     "data": {
      "application/vnd.jupyter.widget-view+json": {
       "model_id": "00e7b1965928406e980b4763a21d3e26",
       "version_major": 2,
       "version_minor": 0
      },
      "text/plain": [
       "  0%|          | 0/100 [00:00<?, ?it/s]"
      ]
     },
     "metadata": {},
     "output_type": "display_data"
    },
    {
     "data": {
      "application/vnd.jupyter.widget-view+json": {
       "model_id": "e2bb9eb4b6b24b8fbe02216cf5c01861",
       "version_major": 2,
       "version_minor": 0
      },
      "text/plain": [
       "  0%|          | 0/100 [00:00<?, ?it/s]"
      ]
     },
     "metadata": {},
     "output_type": "display_data"
    },
    {
     "data": {
      "application/vnd.jupyter.widget-view+json": {
       "model_id": "7da531b118594ad3a1bcd4b958f041a8",
       "version_major": 2,
       "version_minor": 0
      },
      "text/plain": [
       "  0%|          | 0/100 [00:00<?, ?it/s]"
      ]
     },
     "metadata": {},
     "output_type": "display_data"
    },
    {
     "data": {
      "application/vnd.jupyter.widget-view+json": {
       "model_id": "25293c2660264b64b09a4d78a3bea4c4",
       "version_major": 2,
       "version_minor": 0
      },
      "text/plain": [
       "EM Iteration:   0%|          | 0/5 [00:00<?, ?it/s]"
      ]
     },
     "metadata": {},
     "output_type": "display_data"
    },
    {
     "data": {
      "application/vnd.jupyter.widget-view+json": {
       "model_id": "2fed60fc38b4426a8484ac30f09f7672",
       "version_major": 2,
       "version_minor": 0
      },
      "text/plain": [
       "  0%|          | 0/100 [00:00<?, ?it/s]"
      ]
     },
     "metadata": {},
     "output_type": "display_data"
    },
    {
     "data": {
      "application/vnd.jupyter.widget-view+json": {
       "model_id": "c92d9bc8c1634abeb2829795007f3266",
       "version_major": 2,
       "version_minor": 0
      },
      "text/plain": [
       "  0%|          | 0/100 [00:00<?, ?it/s]"
      ]
     },
     "metadata": {},
     "output_type": "display_data"
    },
    {
     "data": {
      "application/vnd.jupyter.widget-view+json": {
       "model_id": "b98e221b7a4740968abee932f65127e5",
       "version_major": 2,
       "version_minor": 0
      },
      "text/plain": [
       "  0%|          | 0/100 [00:00<?, ?it/s]"
      ]
     },
     "metadata": {},
     "output_type": "display_data"
    },
    {
     "data": {
      "application/vnd.jupyter.widget-view+json": {
       "model_id": "85dbf7a4ae3849eca0b5f0525ff8500f",
       "version_major": 2,
       "version_minor": 0
      },
      "text/plain": [
       "  0%|          | 0/100 [00:00<?, ?it/s]"
      ]
     },
     "metadata": {},
     "output_type": "display_data"
    },
    {
     "data": {
      "application/vnd.jupyter.widget-view+json": {
       "model_id": "9a0d6fe608f54fbabd4f666338d95032",
       "version_major": 2,
       "version_minor": 0
      },
      "text/plain": [
       "  0%|          | 0/100 [00:00<?, ?it/s]"
      ]
     },
     "metadata": {},
     "output_type": "display_data"
    },
    {
     "data": {
      "application/vnd.jupyter.widget-view+json": {
       "model_id": "72dc04b17bf3448cba8f0d901378f5f8",
       "version_major": 2,
       "version_minor": 0
      },
      "text/plain": [
       "EM Iteration:   0%|          | 0/5 [00:00<?, ?it/s]"
      ]
     },
     "metadata": {},
     "output_type": "display_data"
    },
    {
     "data": {
      "application/vnd.jupyter.widget-view+json": {
       "model_id": "1b70e501012a4b05aefe1282a9e11d34",
       "version_major": 2,
       "version_minor": 0
      },
      "text/plain": [
       "  0%|          | 0/100 [00:00<?, ?it/s]"
      ]
     },
     "metadata": {},
     "output_type": "display_data"
    },
    {
     "data": {
      "application/vnd.jupyter.widget-view+json": {
       "model_id": "d8a86a5d60264e7282156b34ecca64da",
       "version_major": 2,
       "version_minor": 0
      },
      "text/plain": [
       "  0%|          | 0/100 [00:00<?, ?it/s]"
      ]
     },
     "metadata": {},
     "output_type": "display_data"
    },
    {
     "data": {
      "application/vnd.jupyter.widget-view+json": {
       "model_id": "9509f79295714288923b782be99b8602",
       "version_major": 2,
       "version_minor": 0
      },
      "text/plain": [
       "  0%|          | 0/100 [00:00<?, ?it/s]"
      ]
     },
     "metadata": {},
     "output_type": "display_data"
    },
    {
     "data": {
      "application/vnd.jupyter.widget-view+json": {
       "model_id": "a71d396c8d074c9794dc6165bb210d9f",
       "version_major": 2,
       "version_minor": 0
      },
      "text/plain": [
       "  0%|          | 0/100 [00:00<?, ?it/s]"
      ]
     },
     "metadata": {},
     "output_type": "display_data"
    },
    {
     "data": {
      "application/vnd.jupyter.widget-view+json": {
       "model_id": "e41e3934433346afbb77f980d547d35b",
       "version_major": 2,
       "version_minor": 0
      },
      "text/plain": [
       "  0%|          | 0/100 [00:00<?, ?it/s]"
      ]
     },
     "metadata": {},
     "output_type": "display_data"
    },
    {
     "data": {
      "application/vnd.jupyter.widget-view+json": {
       "model_id": "1987ba401dd6413b905576bc509e99b3",
       "version_major": 2,
       "version_minor": 0
      },
      "text/plain": [
       "EM Iteration:   0%|          | 0/5 [00:00<?, ?it/s]"
      ]
     },
     "metadata": {},
     "output_type": "display_data"
    },
    {
     "data": {
      "application/vnd.jupyter.widget-view+json": {
       "model_id": "d227836e4e884debb22c280c0de50a79",
       "version_major": 2,
       "version_minor": 0
      },
      "text/plain": [
       "  0%|          | 0/100 [00:00<?, ?it/s]"
      ]
     },
     "metadata": {},
     "output_type": "display_data"
    },
    {
     "data": {
      "application/vnd.jupyter.widget-view+json": {
       "model_id": "3c3194e1ff68447f822f595e0e21b1ac",
       "version_major": 2,
       "version_minor": 0
      },
      "text/plain": [
       "  0%|          | 0/100 [00:00<?, ?it/s]"
      ]
     },
     "metadata": {},
     "output_type": "display_data"
    },
    {
     "data": {
      "application/vnd.jupyter.widget-view+json": {
       "model_id": "7024329840a443adb91dc3164e5ce14f",
       "version_major": 2,
       "version_minor": 0
      },
      "text/plain": [
       "  0%|          | 0/100 [00:00<?, ?it/s]"
      ]
     },
     "metadata": {},
     "output_type": "display_data"
    },
    {
     "data": {
      "application/vnd.jupyter.widget-view+json": {
       "model_id": "90b71b02576d4a48bad701067bcce90c",
       "version_major": 2,
       "version_minor": 0
      },
      "text/plain": [
       "  0%|          | 0/100 [00:00<?, ?it/s]"
      ]
     },
     "metadata": {},
     "output_type": "display_data"
    },
    {
     "data": {
      "application/vnd.jupyter.widget-view+json": {
       "model_id": "06874c75399d4faea19fb0b3225e821a",
       "version_major": 2,
       "version_minor": 0
      },
      "text/plain": [
       "  0%|          | 0/100 [00:00<?, ?it/s]"
      ]
     },
     "metadata": {},
     "output_type": "display_data"
    },
    {
     "data": {
      "application/vnd.jupyter.widget-view+json": {
       "model_id": "2f3b198abcc845f785f85a99ac462ce4",
       "version_major": 2,
       "version_minor": 0
      },
      "text/plain": [
       "EM Iteration:   0%|          | 0/5 [00:00<?, ?it/s]"
      ]
     },
     "metadata": {},
     "output_type": "display_data"
    },
    {
     "data": {
      "application/vnd.jupyter.widget-view+json": {
       "model_id": "24330ae7a65c4625bbf3adef32f90fe0",
       "version_major": 2,
       "version_minor": 0
      },
      "text/plain": [
       "  0%|          | 0/100 [00:00<?, ?it/s]"
      ]
     },
     "metadata": {},
     "output_type": "display_data"
    },
    {
     "data": {
      "application/vnd.jupyter.widget-view+json": {
       "model_id": "e776856ad68f42d1bf70dc40bb49303b",
       "version_major": 2,
       "version_minor": 0
      },
      "text/plain": [
       "  0%|          | 0/100 [00:00<?, ?it/s]"
      ]
     },
     "metadata": {},
     "output_type": "display_data"
    },
    {
     "data": {
      "application/vnd.jupyter.widget-view+json": {
       "model_id": "c67812bcd15848beacfebab7bc40b023",
       "version_major": 2,
       "version_minor": 0
      },
      "text/plain": [
       "  0%|          | 0/100 [00:00<?, ?it/s]"
      ]
     },
     "metadata": {},
     "output_type": "display_data"
    },
    {
     "data": {
      "application/vnd.jupyter.widget-view+json": {
       "model_id": "2ae3f1d422d5402191675f681bd594a1",
       "version_major": 2,
       "version_minor": 0
      },
      "text/plain": [
       "  0%|          | 0/100 [00:00<?, ?it/s]"
      ]
     },
     "metadata": {},
     "output_type": "display_data"
    },
    {
     "data": {
      "application/vnd.jupyter.widget-view+json": {
       "model_id": "0a1cc7ceba024fb3915c3f8b5d2b5ca5",
       "version_major": 2,
       "version_minor": 0
      },
      "text/plain": [
       "  0%|          | 0/100 [00:00<?, ?it/s]"
      ]
     },
     "metadata": {},
     "output_type": "display_data"
    },
    {
     "data": {
      "application/vnd.jupyter.widget-view+json": {
       "model_id": "7c9159cc5eb244f38eb88d96c66b311c",
       "version_major": 2,
       "version_minor": 0
      },
      "text/plain": [
       "EM Iteration:   0%|          | 0/5 [00:00<?, ?it/s]"
      ]
     },
     "metadata": {},
     "output_type": "display_data"
    },
    {
     "data": {
      "application/vnd.jupyter.widget-view+json": {
       "model_id": "0ae3c152668c495a8a48b446f53258a8",
       "version_major": 2,
       "version_minor": 0
      },
      "text/plain": [
       "  0%|          | 0/100 [00:00<?, ?it/s]"
      ]
     },
     "metadata": {},
     "output_type": "display_data"
    },
    {
     "data": {
      "application/vnd.jupyter.widget-view+json": {
       "model_id": "edfe9b23576846fa83d8078ee593dab9",
       "version_major": 2,
       "version_minor": 0
      },
      "text/plain": [
       "  0%|          | 0/100 [00:00<?, ?it/s]"
      ]
     },
     "metadata": {},
     "output_type": "display_data"
    },
    {
     "data": {
      "application/vnd.jupyter.widget-view+json": {
       "model_id": "842371adf2294dc0826a918bc3fa71f8",
       "version_major": 2,
       "version_minor": 0
      },
      "text/plain": [
       "  0%|          | 0/100 [00:00<?, ?it/s]"
      ]
     },
     "metadata": {},
     "output_type": "display_data"
    },
    {
     "data": {
      "application/vnd.jupyter.widget-view+json": {
       "model_id": "cce671fcdd2c49b9aabc4844f8c86714",
       "version_major": 2,
       "version_minor": 0
      },
      "text/plain": [
       "  0%|          | 0/100 [00:00<?, ?it/s]"
      ]
     },
     "metadata": {},
     "output_type": "display_data"
    },
    {
     "data": {
      "application/vnd.jupyter.widget-view+json": {
       "model_id": "0595fcf575ee457c90bed20228906d22",
       "version_major": 2,
       "version_minor": 0
      },
      "text/plain": [
       "  0%|          | 0/100 [00:00<?, ?it/s]"
      ]
     },
     "metadata": {},
     "output_type": "display_data"
    },
    {
     "data": {
      "application/vnd.jupyter.widget-view+json": {
       "model_id": "91665ca0d764427f89fc149f371da1b3",
       "version_major": 2,
       "version_minor": 0
      },
      "text/plain": [
       "EM Iteration:   0%|          | 0/5 [00:00<?, ?it/s]"
      ]
     },
     "metadata": {},
     "output_type": "display_data"
    },
    {
     "data": {
      "application/vnd.jupyter.widget-view+json": {
       "model_id": "cbdccedd79e14490927b7c7d658bb2f6",
       "version_major": 2,
       "version_minor": 0
      },
      "text/plain": [
       "  0%|          | 0/100 [00:00<?, ?it/s]"
      ]
     },
     "metadata": {},
     "output_type": "display_data"
    },
    {
     "data": {
      "application/vnd.jupyter.widget-view+json": {
       "model_id": "87c4a197b0ce4e26943b0d3579aef593",
       "version_major": 2,
       "version_minor": 0
      },
      "text/plain": [
       "  0%|          | 0/100 [00:00<?, ?it/s]"
      ]
     },
     "metadata": {},
     "output_type": "display_data"
    },
    {
     "data": {
      "application/vnd.jupyter.widget-view+json": {
       "model_id": "725c2faad4774328b6c8806be96eb1d1",
       "version_major": 2,
       "version_minor": 0
      },
      "text/plain": [
       "  0%|          | 0/100 [00:00<?, ?it/s]"
      ]
     },
     "metadata": {},
     "output_type": "display_data"
    },
    {
     "data": {
      "application/vnd.jupyter.widget-view+json": {
       "model_id": "1eeb36ecbbd14d668daadae7f8bbfed7",
       "version_major": 2,
       "version_minor": 0
      },
      "text/plain": [
       "  0%|          | 0/100 [00:00<?, ?it/s]"
      ]
     },
     "metadata": {},
     "output_type": "display_data"
    },
    {
     "data": {
      "application/vnd.jupyter.widget-view+json": {
       "model_id": "0f1ff467472d40e79a9e4f68bd19fa00",
       "version_major": 2,
       "version_minor": 0
      },
      "text/plain": [
       "  0%|          | 0/100 [00:00<?, ?it/s]"
      ]
     },
     "metadata": {},
     "output_type": "display_data"
    },
    {
     "data": {
      "application/vnd.jupyter.widget-view+json": {
       "model_id": "24b65fc472b541bbb189e4f0ecd4f198",
       "version_major": 2,
       "version_minor": 0
      },
      "text/plain": [
       "EM Iteration:   0%|          | 0/5 [00:00<?, ?it/s]"
      ]
     },
     "metadata": {},
     "output_type": "display_data"
    },
    {
     "data": {
      "application/vnd.jupyter.widget-view+json": {
       "model_id": "673d903625d044cbbaadee9b76a21bd8",
       "version_major": 2,
       "version_minor": 0
      },
      "text/plain": [
       "  0%|          | 0/100 [00:00<?, ?it/s]"
      ]
     },
     "metadata": {},
     "output_type": "display_data"
    },
    {
     "data": {
      "application/vnd.jupyter.widget-view+json": {
       "model_id": "42808b1f98244211b2b66ad5bbf4498d",
       "version_major": 2,
       "version_minor": 0
      },
      "text/plain": [
       "  0%|          | 0/100 [00:00<?, ?it/s]"
      ]
     },
     "metadata": {},
     "output_type": "display_data"
    },
    {
     "data": {
      "application/vnd.jupyter.widget-view+json": {
       "model_id": "a034d8d2d11346a4b808a84d1ca3786f",
       "version_major": 2,
       "version_minor": 0
      },
      "text/plain": [
       "  0%|          | 0/100 [00:00<?, ?it/s]"
      ]
     },
     "metadata": {},
     "output_type": "display_data"
    },
    {
     "data": {
      "application/vnd.jupyter.widget-view+json": {
       "model_id": "93225378fed7424e84378e908a3d0aba",
       "version_major": 2,
       "version_minor": 0
      },
      "text/plain": [
       "  0%|          | 0/100 [00:00<?, ?it/s]"
      ]
     },
     "metadata": {},
     "output_type": "display_data"
    },
    {
     "data": {
      "application/vnd.jupyter.widget-view+json": {
       "model_id": "139028ce5aaf486ebc02aed147546c5a",
       "version_major": 2,
       "version_minor": 0
      },
      "text/plain": [
       "  0%|          | 0/100 [00:00<?, ?it/s]"
      ]
     },
     "metadata": {},
     "output_type": "display_data"
    },
    {
     "data": {
      "application/vnd.jupyter.widget-view+json": {
       "model_id": "a6be12dad92d408dafabfdcaa75bf32b",
       "version_major": 2,
       "version_minor": 0
      },
      "text/plain": [
       "EM Iteration:   0%|          | 0/5 [00:00<?, ?it/s]"
      ]
     },
     "metadata": {},
     "output_type": "display_data"
    },
    {
     "data": {
      "application/vnd.jupyter.widget-view+json": {
       "model_id": "4241081ebd3f43d0a46da49466ae9a14",
       "version_major": 2,
       "version_minor": 0
      },
      "text/plain": [
       "  0%|          | 0/100 [00:00<?, ?it/s]"
      ]
     },
     "metadata": {},
     "output_type": "display_data"
    },
    {
     "data": {
      "application/vnd.jupyter.widget-view+json": {
       "model_id": "ff570252fc7849e98a4953e14b62360e",
       "version_major": 2,
       "version_minor": 0
      },
      "text/plain": [
       "  0%|          | 0/100 [00:00<?, ?it/s]"
      ]
     },
     "metadata": {},
     "output_type": "display_data"
    },
    {
     "data": {
      "application/vnd.jupyter.widget-view+json": {
       "model_id": "aa2fcbe824564284a20afeb7922ec58e",
       "version_major": 2,
       "version_minor": 0
      },
      "text/plain": [
       "  0%|          | 0/100 [00:00<?, ?it/s]"
      ]
     },
     "metadata": {},
     "output_type": "display_data"
    },
    {
     "data": {
      "application/vnd.jupyter.widget-view+json": {
       "model_id": "044771f6ddec4c24bdf171d4a7990e6d",
       "version_major": 2,
       "version_minor": 0
      },
      "text/plain": [
       "  0%|          | 0/100 [00:00<?, ?it/s]"
      ]
     },
     "metadata": {},
     "output_type": "display_data"
    },
    {
     "data": {
      "application/vnd.jupyter.widget-view+json": {
       "model_id": "444701f04416464b8358d075aa8dd17b",
       "version_major": 2,
       "version_minor": 0
      },
      "text/plain": [
       "  0%|          | 0/100 [00:00<?, ?it/s]"
      ]
     },
     "metadata": {},
     "output_type": "display_data"
    },
    {
     "data": {
      "application/vnd.jupyter.widget-view+json": {
       "model_id": "7839a0ce230b42a6a898f6d0e2749c96",
       "version_major": 2,
       "version_minor": 0
      },
      "text/plain": [
       "EM Iteration:   0%|          | 0/5 [00:00<?, ?it/s]"
      ]
     },
     "metadata": {},
     "output_type": "display_data"
    },
    {
     "data": {
      "application/vnd.jupyter.widget-view+json": {
       "model_id": "e4a7b6da52d74ea49be207d51b6c590e",
       "version_major": 2,
       "version_minor": 0
      },
      "text/plain": [
       "  0%|          | 0/100 [00:00<?, ?it/s]"
      ]
     },
     "metadata": {},
     "output_type": "display_data"
    },
    {
     "data": {
      "application/vnd.jupyter.widget-view+json": {
       "model_id": "3f21977d2e2343488fcce73277b361b5",
       "version_major": 2,
       "version_minor": 0
      },
      "text/plain": [
       "  0%|          | 0/100 [00:00<?, ?it/s]"
      ]
     },
     "metadata": {},
     "output_type": "display_data"
    },
    {
     "data": {
      "application/vnd.jupyter.widget-view+json": {
       "model_id": "537ad1d25ee84dbcaea1da43790f5d59",
       "version_major": 2,
       "version_minor": 0
      },
      "text/plain": [
       "  0%|          | 0/100 [00:00<?, ?it/s]"
      ]
     },
     "metadata": {},
     "output_type": "display_data"
    },
    {
     "data": {
      "application/vnd.jupyter.widget-view+json": {
       "model_id": "025cbbf6d7004606bd1a0cdab5bed22a",
       "version_major": 2,
       "version_minor": 0
      },
      "text/plain": [
       "  0%|          | 0/100 [00:00<?, ?it/s]"
      ]
     },
     "metadata": {},
     "output_type": "display_data"
    },
    {
     "data": {
      "application/vnd.jupyter.widget-view+json": {
       "model_id": "f4a96001f3a9433189c0a73c2f1161eb",
       "version_major": 2,
       "version_minor": 0
      },
      "text/plain": [
       "  0%|          | 0/100 [00:00<?, ?it/s]"
      ]
     },
     "metadata": {},
     "output_type": "display_data"
    },
    {
     "data": {
      "application/vnd.jupyter.widget-view+json": {
       "model_id": "52554d024c4e4e4693775f07127c23d4",
       "version_major": 2,
       "version_minor": 0
      },
      "text/plain": [
       "EM Iteration:   0%|          | 0/5 [00:00<?, ?it/s]"
      ]
     },
     "metadata": {},
     "output_type": "display_data"
    },
    {
     "data": {
      "application/vnd.jupyter.widget-view+json": {
       "model_id": "6596a308768b47c7b9a9296a48e04cd6",
       "version_major": 2,
       "version_minor": 0
      },
      "text/plain": [
       "  0%|          | 0/100 [00:00<?, ?it/s]"
      ]
     },
     "metadata": {},
     "output_type": "display_data"
    },
    {
     "data": {
      "application/vnd.jupyter.widget-view+json": {
       "model_id": "f4127589b93c4b2da47b1b44d3e3cbb9",
       "version_major": 2,
       "version_minor": 0
      },
      "text/plain": [
       "  0%|          | 0/100 [00:00<?, ?it/s]"
      ]
     },
     "metadata": {},
     "output_type": "display_data"
    },
    {
     "data": {
      "application/vnd.jupyter.widget-view+json": {
       "model_id": "86c7336ec185452c922ee1e33f0dffe5",
       "version_major": 2,
       "version_minor": 0
      },
      "text/plain": [
       "  0%|          | 0/100 [00:00<?, ?it/s]"
      ]
     },
     "metadata": {},
     "output_type": "display_data"
    },
    {
     "data": {
      "application/vnd.jupyter.widget-view+json": {
       "model_id": "31bbd162c9e046e4b7767d565350a92a",
       "version_major": 2,
       "version_minor": 0
      },
      "text/plain": [
       "  0%|          | 0/100 [00:00<?, ?it/s]"
      ]
     },
     "metadata": {},
     "output_type": "display_data"
    },
    {
     "data": {
      "application/vnd.jupyter.widget-view+json": {
       "model_id": "1b2586c0e8de4badba9b8b7ed6f6718a",
       "version_major": 2,
       "version_minor": 0
      },
      "text/plain": [
       "  0%|          | 0/100 [00:00<?, ?it/s]"
      ]
     },
     "metadata": {},
     "output_type": "display_data"
    },
    {
     "data": {
      "application/vnd.jupyter.widget-view+json": {
       "model_id": "56c3a73541614a089b0274861fa89ca7",
       "version_major": 2,
       "version_minor": 0
      },
      "text/plain": [
       "EM Iteration:   0%|          | 0/5 [00:00<?, ?it/s]"
      ]
     },
     "metadata": {},
     "output_type": "display_data"
    },
    {
     "data": {
      "application/vnd.jupyter.widget-view+json": {
       "model_id": "a663c8bcbaab42eeb895176dc9951c39",
       "version_major": 2,
       "version_minor": 0
      },
      "text/plain": [
       "  0%|          | 0/100 [00:00<?, ?it/s]"
      ]
     },
     "metadata": {},
     "output_type": "display_data"
    },
    {
     "data": {
      "application/vnd.jupyter.widget-view+json": {
       "model_id": "fef8bf9e734d4e90afc75c0cc18c98ba",
       "version_major": 2,
       "version_minor": 0
      },
      "text/plain": [
       "  0%|          | 0/100 [00:00<?, ?it/s]"
      ]
     },
     "metadata": {},
     "output_type": "display_data"
    },
    {
     "data": {
      "application/vnd.jupyter.widget-view+json": {
       "model_id": "339f9280138148fe801c18c1b31831d3",
       "version_major": 2,
       "version_minor": 0
      },
      "text/plain": [
       "  0%|          | 0/100 [00:00<?, ?it/s]"
      ]
     },
     "metadata": {},
     "output_type": "display_data"
    },
    {
     "data": {
      "application/vnd.jupyter.widget-view+json": {
       "model_id": "0e3b366edaec4aebbc4475028010e9cf",
       "version_major": 2,
       "version_minor": 0
      },
      "text/plain": [
       "  0%|          | 0/100 [00:00<?, ?it/s]"
      ]
     },
     "metadata": {},
     "output_type": "display_data"
    },
    {
     "data": {
      "application/vnd.jupyter.widget-view+json": {
       "model_id": "8eb0b639e23742cbbc634a056ff0b325",
       "version_major": 2,
       "version_minor": 0
      },
      "text/plain": [
       "  0%|          | 0/100 [00:00<?, ?it/s]"
      ]
     },
     "metadata": {},
     "output_type": "display_data"
    },
    {
     "data": {
      "application/vnd.jupyter.widget-view+json": {
       "model_id": "6b9a309d6deb4b3fa2550e93797b77c0",
       "version_major": 2,
       "version_minor": 0
      },
      "text/plain": [
       "EM Iteration:   0%|          | 0/5 [00:00<?, ?it/s]"
      ]
     },
     "metadata": {},
     "output_type": "display_data"
    },
    {
     "data": {
      "application/vnd.jupyter.widget-view+json": {
       "model_id": "41d8a94a4dde4cbaa95fe28f66c96142",
       "version_major": 2,
       "version_minor": 0
      },
      "text/plain": [
       "  0%|          | 0/100 [00:00<?, ?it/s]"
      ]
     },
     "metadata": {},
     "output_type": "display_data"
    },
    {
     "data": {
      "application/vnd.jupyter.widget-view+json": {
       "model_id": "ba7721510aef4e99b2fe7c3ee7a8afda",
       "version_major": 2,
       "version_minor": 0
      },
      "text/plain": [
       "  0%|          | 0/100 [00:00<?, ?it/s]"
      ]
     },
     "metadata": {},
     "output_type": "display_data"
    },
    {
     "data": {
      "application/vnd.jupyter.widget-view+json": {
       "model_id": "e179e0d611964305817c8cadc094ba54",
       "version_major": 2,
       "version_minor": 0
      },
      "text/plain": [
       "  0%|          | 0/100 [00:00<?, ?it/s]"
      ]
     },
     "metadata": {},
     "output_type": "display_data"
    },
    {
     "data": {
      "application/vnd.jupyter.widget-view+json": {
       "model_id": "56a2247145bd4f51946a5817257921ac",
       "version_major": 2,
       "version_minor": 0
      },
      "text/plain": [
       "  0%|          | 0/100 [00:00<?, ?it/s]"
      ]
     },
     "metadata": {},
     "output_type": "display_data"
    },
    {
     "data": {
      "application/vnd.jupyter.widget-view+json": {
       "model_id": "9a2ae84e14b747178729ec567e290c8e",
       "version_major": 2,
       "version_minor": 0
      },
      "text/plain": [
       "  0%|          | 0/100 [00:00<?, ?it/s]"
      ]
     },
     "metadata": {},
     "output_type": "display_data"
    },
    {
     "data": {
      "application/vnd.jupyter.widget-view+json": {
       "model_id": "6da914182860401fa0680bac7078a8ef",
       "version_major": 2,
       "version_minor": 0
      },
      "text/plain": [
       "EM Iteration:   0%|          | 0/5 [00:00<?, ?it/s]"
      ]
     },
     "metadata": {},
     "output_type": "display_data"
    },
    {
     "data": {
      "application/vnd.jupyter.widget-view+json": {
       "model_id": "54930e17d313486eb6ab6cd6c73cc1f4",
       "version_major": 2,
       "version_minor": 0
      },
      "text/plain": [
       "  0%|          | 0/100 [00:00<?, ?it/s]"
      ]
     },
     "metadata": {},
     "output_type": "display_data"
    },
    {
     "data": {
      "application/vnd.jupyter.widget-view+json": {
       "model_id": "c82b49f19c2b495ab52193cd638dc595",
       "version_major": 2,
       "version_minor": 0
      },
      "text/plain": [
       "  0%|          | 0/100 [00:00<?, ?it/s]"
      ]
     },
     "metadata": {},
     "output_type": "display_data"
    },
    {
     "data": {
      "application/vnd.jupyter.widget-view+json": {
       "model_id": "bc2cbd07ccc446ceae7de40c79a8b062",
       "version_major": 2,
       "version_minor": 0
      },
      "text/plain": [
       "  0%|          | 0/100 [00:00<?, ?it/s]"
      ]
     },
     "metadata": {},
     "output_type": "display_data"
    },
    {
     "data": {
      "application/vnd.jupyter.widget-view+json": {
       "model_id": "0708858fff8b4fbfa1e4df79575ce4bc",
       "version_major": 2,
       "version_minor": 0
      },
      "text/plain": [
       "EM Iteration:   0%|          | 0/5 [00:00<?, ?it/s]"
      ]
     },
     "metadata": {},
     "output_type": "display_data"
    },
    {
     "data": {
      "application/vnd.jupyter.widget-view+json": {
       "model_id": "5d964718ad554d4f995dc5ade86c1d37",
       "version_major": 2,
       "version_minor": 0
      },
      "text/plain": [
       "  0%|          | 0/100 [00:00<?, ?it/s]"
      ]
     },
     "metadata": {},
     "output_type": "display_data"
    },
    {
     "data": {
      "application/vnd.jupyter.widget-view+json": {
       "model_id": "e27de9607fc04e76b191bef2ad932693",
       "version_major": 2,
       "version_minor": 0
      },
      "text/plain": [
       "  0%|          | 0/100 [00:00<?, ?it/s]"
      ]
     },
     "metadata": {},
     "output_type": "display_data"
    },
    {
     "data": {
      "application/vnd.jupyter.widget-view+json": {
       "model_id": "95699b7d5ae64d278ffaca7423e3a284",
       "version_major": 2,
       "version_minor": 0
      },
      "text/plain": [
       "  0%|          | 0/100 [00:00<?, ?it/s]"
      ]
     },
     "metadata": {},
     "output_type": "display_data"
    },
    {
     "data": {
      "application/vnd.jupyter.widget-view+json": {
       "model_id": "b138acddc6d1486f87ad2c8017ff8ef3",
       "version_major": 2,
       "version_minor": 0
      },
      "text/plain": [
       "  0%|          | 0/100 [00:00<?, ?it/s]"
      ]
     },
     "metadata": {},
     "output_type": "display_data"
    },
    {
     "data": {
      "application/vnd.jupyter.widget-view+json": {
       "model_id": "73109b5494fb401289c9d7e300c6c11c",
       "version_major": 2,
       "version_minor": 0
      },
      "text/plain": [
       "  0%|          | 0/100 [00:00<?, ?it/s]"
      ]
     },
     "metadata": {},
     "output_type": "display_data"
    },
    {
     "data": {
      "application/vnd.jupyter.widget-view+json": {
       "model_id": "4f5b23a1a5c74d5da9312bd8452d1d25",
       "version_major": 2,
       "version_minor": 0
      },
      "text/plain": [
       "EM Iteration:   0%|          | 0/5 [00:00<?, ?it/s]"
      ]
     },
     "metadata": {},
     "output_type": "display_data"
    },
    {
     "data": {
      "application/vnd.jupyter.widget-view+json": {
       "model_id": "0e4b1ac197584bab8be81809d6cd1bcd",
       "version_major": 2,
       "version_minor": 0
      },
      "text/plain": [
       "  0%|          | 0/100 [00:00<?, ?it/s]"
      ]
     },
     "metadata": {},
     "output_type": "display_data"
    },
    {
     "data": {
      "application/vnd.jupyter.widget-view+json": {
       "model_id": "36d63d7749554ab8864f85c93b7ea4f4",
       "version_major": 2,
       "version_minor": 0
      },
      "text/plain": [
       "  0%|          | 0/100 [00:00<?, ?it/s]"
      ]
     },
     "metadata": {},
     "output_type": "display_data"
    },
    {
     "data": {
      "application/vnd.jupyter.widget-view+json": {
       "model_id": "b9bf0dbfffce4ad287d7eb605be281cf",
       "version_major": 2,
       "version_minor": 0
      },
      "text/plain": [
       "  0%|          | 0/100 [00:00<?, ?it/s]"
      ]
     },
     "metadata": {},
     "output_type": "display_data"
    },
    {
     "data": {
      "application/vnd.jupyter.widget-view+json": {
       "model_id": "40edf25c45bd40c8b6ec3592c1d6594a",
       "version_major": 2,
       "version_minor": 0
      },
      "text/plain": [
       "  0%|          | 0/100 [00:00<?, ?it/s]"
      ]
     },
     "metadata": {},
     "output_type": "display_data"
    },
    {
     "data": {
      "application/vnd.jupyter.widget-view+json": {
       "model_id": "9c7a088779bb4b11ade0b4e3906835c4",
       "version_major": 2,
       "version_minor": 0
      },
      "text/plain": [
       "  0%|          | 0/100 [00:00<?, ?it/s]"
      ]
     },
     "metadata": {},
     "output_type": "display_data"
    },
    {
     "data": {
      "application/vnd.jupyter.widget-view+json": {
       "model_id": "5d1db1aba5a44e53afe256e062174b27",
       "version_major": 2,
       "version_minor": 0
      },
      "text/plain": [
       "EM Iteration:   0%|          | 0/5 [00:00<?, ?it/s]"
      ]
     },
     "metadata": {},
     "output_type": "display_data"
    },
    {
     "data": {
      "application/vnd.jupyter.widget-view+json": {
       "model_id": "c908dee3d85948219b97d815d572660e",
       "version_major": 2,
       "version_minor": 0
      },
      "text/plain": [
       "  0%|          | 0/100 [00:00<?, ?it/s]"
      ]
     },
     "metadata": {},
     "output_type": "display_data"
    },
    {
     "data": {
      "application/vnd.jupyter.widget-view+json": {
       "model_id": "164d07f9a4a845e691040d98e083090e",
       "version_major": 2,
       "version_minor": 0
      },
      "text/plain": [
       "  0%|          | 0/100 [00:00<?, ?it/s]"
      ]
     },
     "metadata": {},
     "output_type": "display_data"
    },
    {
     "data": {
      "application/vnd.jupyter.widget-view+json": {
       "model_id": "5a0765b14a8d43ab80141a56fda17723",
       "version_major": 2,
       "version_minor": 0
      },
      "text/plain": [
       "  0%|          | 0/100 [00:00<?, ?it/s]"
      ]
     },
     "metadata": {},
     "output_type": "display_data"
    },
    {
     "data": {
      "application/vnd.jupyter.widget-view+json": {
       "model_id": "36f81dfa3c3744dda807f96fbed9df34",
       "version_major": 2,
       "version_minor": 0
      },
      "text/plain": [
       "  0%|          | 0/100 [00:00<?, ?it/s]"
      ]
     },
     "metadata": {},
     "output_type": "display_data"
    },
    {
     "data": {
      "application/vnd.jupyter.widget-view+json": {
       "model_id": "12cd11dd41a64eefa32f00237c44db40",
       "version_major": 2,
       "version_minor": 0
      },
      "text/plain": [
       "  0%|          | 0/100 [00:00<?, ?it/s]"
      ]
     },
     "metadata": {},
     "output_type": "display_data"
    },
    {
     "data": {
      "application/vnd.jupyter.widget-view+json": {
       "model_id": "2fde89b2a84542f293a377ab75195e16",
       "version_major": 2,
       "version_minor": 0
      },
      "text/plain": [
       "EM Iteration:   0%|          | 0/5 [00:00<?, ?it/s]"
      ]
     },
     "metadata": {},
     "output_type": "display_data"
    },
    {
     "data": {
      "application/vnd.jupyter.widget-view+json": {
       "model_id": "4886c5c3d26e4ee89303f29e66b4b783",
       "version_major": 2,
       "version_minor": 0
      },
      "text/plain": [
       "  0%|          | 0/100 [00:00<?, ?it/s]"
      ]
     },
     "metadata": {},
     "output_type": "display_data"
    },
    {
     "data": {
      "application/vnd.jupyter.widget-view+json": {
       "model_id": "f7c5ddda716b4e108ae38666f6f0a6d4",
       "version_major": 2,
       "version_minor": 0
      },
      "text/plain": [
       "  0%|          | 0/100 [00:00<?, ?it/s]"
      ]
     },
     "metadata": {},
     "output_type": "display_data"
    },
    {
     "data": {
      "application/vnd.jupyter.widget-view+json": {
       "model_id": "7c18f130eeb6452380f9f0a96eec6fc2",
       "version_major": 2,
       "version_minor": 0
      },
      "text/plain": [
       "  0%|          | 0/100 [00:00<?, ?it/s]"
      ]
     },
     "metadata": {},
     "output_type": "display_data"
    },
    {
     "data": {
      "application/vnd.jupyter.widget-view+json": {
       "model_id": "501a5603e24b48779375fe0a7c60795b",
       "version_major": 2,
       "version_minor": 0
      },
      "text/plain": [
       "  0%|          | 0/100 [00:00<?, ?it/s]"
      ]
     },
     "metadata": {},
     "output_type": "display_data"
    },
    {
     "data": {
      "application/vnd.jupyter.widget-view+json": {
       "model_id": "562acef86b3d4ebc9022d0ffdd4caf9b",
       "version_major": 2,
       "version_minor": 0
      },
      "text/plain": [
       "  0%|          | 0/100 [00:00<?, ?it/s]"
      ]
     },
     "metadata": {},
     "output_type": "display_data"
    },
    {
     "data": {
      "application/vnd.jupyter.widget-view+json": {
       "model_id": "44036cb5e1b144f1827b1efb3bdf9bd9",
       "version_major": 2,
       "version_minor": 0
      },
      "text/plain": [
       "EM Iteration:   0%|          | 0/5 [00:00<?, ?it/s]"
      ]
     },
     "metadata": {},
     "output_type": "display_data"
    },
    {
     "data": {
      "application/vnd.jupyter.widget-view+json": {
       "model_id": "9e3768e53eb24423b333d25038dbad20",
       "version_major": 2,
       "version_minor": 0
      },
      "text/plain": [
       "  0%|          | 0/100 [00:00<?, ?it/s]"
      ]
     },
     "metadata": {},
     "output_type": "display_data"
    },
    {
     "data": {
      "application/vnd.jupyter.widget-view+json": {
       "model_id": "398eb2293ccf44b6b249f9601cb06273",
       "version_major": 2,
       "version_minor": 0
      },
      "text/plain": [
       "  0%|          | 0/100 [00:00<?, ?it/s]"
      ]
     },
     "metadata": {},
     "output_type": "display_data"
    },
    {
     "data": {
      "application/vnd.jupyter.widget-view+json": {
       "model_id": "8c5182abab374e75b0e3f00dcd840e75",
       "version_major": 2,
       "version_minor": 0
      },
      "text/plain": [
       "  0%|          | 0/100 [00:00<?, ?it/s]"
      ]
     },
     "metadata": {},
     "output_type": "display_data"
    },
    {
     "data": {
      "application/vnd.jupyter.widget-view+json": {
       "model_id": "48995c6a565649bba3f2189391c2277a",
       "version_major": 2,
       "version_minor": 0
      },
      "text/plain": [
       "  0%|          | 0/100 [00:00<?, ?it/s]"
      ]
     },
     "metadata": {},
     "output_type": "display_data"
    },
    {
     "data": {
      "application/vnd.jupyter.widget-view+json": {
       "model_id": "43bc3a095db8462c947a702032ffc57e",
       "version_major": 2,
       "version_minor": 0
      },
      "text/plain": [
       "  0%|          | 0/100 [00:00<?, ?it/s]"
      ]
     },
     "metadata": {},
     "output_type": "display_data"
    },
    {
     "data": {
      "application/vnd.jupyter.widget-view+json": {
       "model_id": "9b7b9d3b077c46be9bd056e7098f34e2",
       "version_major": 2,
       "version_minor": 0
      },
      "text/plain": [
       "EM Iteration:   0%|          | 0/5 [00:00<?, ?it/s]"
      ]
     },
     "metadata": {},
     "output_type": "display_data"
    },
    {
     "data": {
      "application/vnd.jupyter.widget-view+json": {
       "model_id": "d0d623a894964447b7d1a88e8e9b3fe6",
       "version_major": 2,
       "version_minor": 0
      },
      "text/plain": [
       "  0%|          | 0/100 [00:00<?, ?it/s]"
      ]
     },
     "metadata": {},
     "output_type": "display_data"
    },
    {
     "data": {
      "application/vnd.jupyter.widget-view+json": {
       "model_id": "d517cd88c687497d8e209efbeb25a7cd",
       "version_major": 2,
       "version_minor": 0
      },
      "text/plain": [
       "  0%|          | 0/100 [00:00<?, ?it/s]"
      ]
     },
     "metadata": {},
     "output_type": "display_data"
    },
    {
     "data": {
      "application/vnd.jupyter.widget-view+json": {
       "model_id": "a14654dde3cd45ed89700cb39448f52e",
       "version_major": 2,
       "version_minor": 0
      },
      "text/plain": [
       "  0%|          | 0/100 [00:00<?, ?it/s]"
      ]
     },
     "metadata": {},
     "output_type": "display_data"
    },
    {
     "data": {
      "application/vnd.jupyter.widget-view+json": {
       "model_id": "c1c98c110e4543c2af61e13bdb963208",
       "version_major": 2,
       "version_minor": 0
      },
      "text/plain": [
       "  0%|          | 0/100 [00:00<?, ?it/s]"
      ]
     },
     "metadata": {},
     "output_type": "display_data"
    },
    {
     "data": {
      "application/vnd.jupyter.widget-view+json": {
       "model_id": "0d4420aa0b6a44df9b488bb763c856a6",
       "version_major": 2,
       "version_minor": 0
      },
      "text/plain": [
       "  0%|          | 0/100 [00:00<?, ?it/s]"
      ]
     },
     "metadata": {},
     "output_type": "display_data"
    },
    {
     "data": {
      "application/vnd.jupyter.widget-view+json": {
       "model_id": "3bdece355fad468c83bf1b05f25a78c3",
       "version_major": 2,
       "version_minor": 0
      },
      "text/plain": [
       "EM Iteration:   0%|          | 0/5 [00:00<?, ?it/s]"
      ]
     },
     "metadata": {},
     "output_type": "display_data"
    },
    {
     "data": {
      "application/vnd.jupyter.widget-view+json": {
       "model_id": "2df7321f03774e6db3f32edecffac48f",
       "version_major": 2,
       "version_minor": 0
      },
      "text/plain": [
       "  0%|          | 0/100 [00:00<?, ?it/s]"
      ]
     },
     "metadata": {},
     "output_type": "display_data"
    },
    {
     "data": {
      "application/vnd.jupyter.widget-view+json": {
       "model_id": "e18311d82d3043cca733d424d008d173",
       "version_major": 2,
       "version_minor": 0
      },
      "text/plain": [
       "  0%|          | 0/100 [00:00<?, ?it/s]"
      ]
     },
     "metadata": {},
     "output_type": "display_data"
    },
    {
     "data": {
      "application/vnd.jupyter.widget-view+json": {
       "model_id": "ed2c8069cf974199b98fb6d6a90dc240",
       "version_major": 2,
       "version_minor": 0
      },
      "text/plain": [
       "  0%|          | 0/100 [00:00<?, ?it/s]"
      ]
     },
     "metadata": {},
     "output_type": "display_data"
    },
    {
     "data": {
      "application/vnd.jupyter.widget-view+json": {
       "model_id": "6464aa4643474a19b0adb53c5d095d3a",
       "version_major": 2,
       "version_minor": 0
      },
      "text/plain": [
       "  0%|          | 0/100 [00:00<?, ?it/s]"
      ]
     },
     "metadata": {},
     "output_type": "display_data"
    },
    {
     "data": {
      "application/vnd.jupyter.widget-view+json": {
       "model_id": "2de982d91aea4c7aa5991727c988db9e",
       "version_major": 2,
       "version_minor": 0
      },
      "text/plain": [
       "  0%|          | 0/100 [00:00<?, ?it/s]"
      ]
     },
     "metadata": {},
     "output_type": "display_data"
    },
    {
     "data": {
      "application/vnd.jupyter.widget-view+json": {
       "model_id": "bfcde127ef2a4164a99880c4fa04f299",
       "version_major": 2,
       "version_minor": 0
      },
      "text/plain": [
       "EM Iteration:   0%|          | 0/5 [00:00<?, ?it/s]"
      ]
     },
     "metadata": {},
     "output_type": "display_data"
    },
    {
     "data": {
      "application/vnd.jupyter.widget-view+json": {
       "model_id": "37e66b1b334d40efb3b1b14bb5d70407",
       "version_major": 2,
       "version_minor": 0
      },
      "text/plain": [
       "  0%|          | 0/100 [00:00<?, ?it/s]"
      ]
     },
     "metadata": {},
     "output_type": "display_data"
    },
    {
     "data": {
      "application/vnd.jupyter.widget-view+json": {
       "model_id": "782b9fcb380b4045868044cafe692276",
       "version_major": 2,
       "version_minor": 0
      },
      "text/plain": [
       "  0%|          | 0/100 [00:00<?, ?it/s]"
      ]
     },
     "metadata": {},
     "output_type": "display_data"
    },
    {
     "data": {
      "application/vnd.jupyter.widget-view+json": {
       "model_id": "484bac0bee814e1cb304a486752159b6",
       "version_major": 2,
       "version_minor": 0
      },
      "text/plain": [
       "  0%|          | 0/100 [00:00<?, ?it/s]"
      ]
     },
     "metadata": {},
     "output_type": "display_data"
    },
    {
     "data": {
      "application/vnd.jupyter.widget-view+json": {
       "model_id": "fc24a25e1f644241addce71423fc0c52",
       "version_major": 2,
       "version_minor": 0
      },
      "text/plain": [
       "  0%|          | 0/100 [00:00<?, ?it/s]"
      ]
     },
     "metadata": {},
     "output_type": "display_data"
    },
    {
     "data": {
      "application/vnd.jupyter.widget-view+json": {
       "model_id": "72750a4429d54c9aa8b431285c8521e7",
       "version_major": 2,
       "version_minor": 0
      },
      "text/plain": [
       "  0%|          | 0/100 [00:00<?, ?it/s]"
      ]
     },
     "metadata": {},
     "output_type": "display_data"
    }
   ],
   "source": [
    "def do_comparison_run(seed, N_samples=100, N_restarts=1):\n",
    "    assert seed >= 0\n",
    "    target_grammar, X = make_target_grammar_and_data(seed, N_samples)\n",
    "    gmm_fit_grammars = []\n",
    "    grammar_fit_grammars = []\n",
    "    em_histories = []\n",
    "    init_gmms = []\n",
    "    for k in range(N_restarts):\n",
    "        init_gmm = make_random_gmm(seed + k + 1)\n",
    "        gmm_fit_grammars.append(do_sklearn_gmm_fit(X, init_gmm.weights_, init_gmm.means_, init_gmm.covariances_))\n",
    "        grammar_fit_grammar, em_history = do_grammar_gmm_fit(X, init_gmm.weights_, init_gmm.means_, init_gmm.covariances_)\n",
    "        grammar_fit_grammars.append(grammar_fit_grammar)\n",
    "        em_histories.append(em_history)\n",
    "        init_gmms.append(init_gmm)\n",
    "    return {\n",
    "        \"target_grammar\": target_grammar,\n",
    "        \"X\": X,\n",
    "        \"init_gmms\": init_gmms,\n",
    "        \"gmm_fit_grammars\": gmm_fit_grammars,\n",
    "        \"grammar_fit_grammars\": grammar_fit_grammars,\n",
    "        \"grammar_fit_em_histories\": em_histories\n",
    "    }\n",
    "\n",
    "def do_comparison_runs(N_runs, save_file):\n",
    "    if os.path.exists(save_file):\n",
    "        os.remove(save_file)\n",
    "    for k in tqdm(range(N_runs)):\n",
    "        res_dict = do_comparison_run(k)\n",
    "        with open(save_file, 'ab') as fp:\n",
    "            pickle.dump(res_dict,fp)\n",
    "\n",
    "FILENAME = \"test_runs_with_restarts.pickle\"\n",
    "RERUN = False\n",
    "if RERUN or not os.path.exists(FILENAME):\n",
    "    print(\"Rerunning experiment...\")\n",
    "    do_comparison_runs(30, FILENAME)\n",
    "else:\n",
    "    print(\"Experiment not being rerun.\")"
   ]
  },
  {
   "cell_type": "markdown",
   "metadata": {},
   "source": [
    "# Plot results"
   ]
  },
  {
   "cell_type": "code",
   "execution_count": 11,
   "metadata": {},
   "outputs": [
    {
     "name": "stdout",
     "output_type": "stream",
     "text": [
      "Loaded 30 experiment runs\n"
     ]
    }
   ],
   "source": [
    "all_result_dicts = []\n",
    "with open(FILENAME, \"rb\") as fp:\n",
    "    try:\n",
    "        while True:\n",
    "            all_result_dicts.append(pickle.load(fp))\n",
    "    except EOFError:\n",
    "        pass\n",
    "print(\"Loaded %d experiment runs\" % len(all_result_dicts))"
   ]
  },
  {
   "cell_type": "code",
   "execution_count": 12,
   "metadata": {},
   "outputs": [
    {
     "name": "stdout",
     "output_type": "stream",
     "text": [
      "[0.4984132598560911, 3.5678191447932877, 1.5284937775873728, 1.8684483034368466, 1.5852265070650233, 2.9607397103519193, 0.726847673198019, 4.877451792924869, 1.4883937840787926, 1.047070938521467, 1.8871270685389656, 5.925962564297048, 3.063937759281957, 0.8999645586111694, 0.7689425667259522, 4.66070577776611, 0.8910582168396064, 1.7623468068847477, 2.2846662472003776, 2.96376567895236, 0.5553806125042109, 0.693957567044581, 0.8417655598480592, 2.6075317092435295, 1.4012236829010278, 8.644764709845056, 0.9884175849769354, 1.4860244473845483, 0.6997784845688835, 1.2207672562569185]\n"
     ]
    },
    {
     "data": {
      "image/png": "[encoded data removed]",
      "text/plain": [
       "<Figure size 432x288 with 1 Axes>"
      ]
     },
     "metadata": {
      "needs_background": "light"
     },
     "output_type": "display_data"
    }
   ],
   "source": [
    "# Histogram of errors\n",
    "# Extract a large number of samples from the GT and fit models,\n",
    "# and compare their distance to the GT distribution as a sum of\n",
    "# the 1D EMD (Wasserstein) distances.\n",
    "def get_best_model_error(gt_sample, fit_samples):\n",
    "    return min([\n",
    "        sum([sp.stats.wasserstein_distance(gt_sample[:, k], fit_sample[:, k]) for k in range(3)])\n",
    "        for fit_sample in fit_samples\n",
    "    ])\n",
    "def make_scatter_of_errors(all_result_dicts, N_samples=100000):\n",
    "    gmm_errs = []\n",
    "    grammar_errs = []\n",
    "    for result_dict in all_result_dicts:\n",
    "        gt_samples = convert_grammar_to_gmm(result_dict[\"target_grammar\"]).sample(N_samples)[0]\n",
    "        gmm_fit_samples = [\n",
    "            convert_grammar_to_gmm(gmm_fit_grammar).sample(N_samples)[0]\n",
    "            for gmm_fit_grammar in result_dict[\"gmm_fit_grammars\"]\n",
    "        ]\n",
    "        grammar_fit_samples = [\n",
    "            convert_grammar_to_gmm(grammar_fit_grammar).sample(N_samples)[0]\n",
    "            for grammar_fit_grammar in result_dict[\"grammar_fit_grammars\"]\n",
    "        ]\n",
    "        gmm_errs.append(get_best_model_error(gt_samples, gmm_fit_samples))\n",
    "        grammar_errs.append(get_best_model_error(gt_samples, grammar_fit_samples))\n",
    "    plt.scatter(gmm_errs, grammar_errs)\n",
    "    plt.xlabel(\"GMM EM Fit Error\")\n",
    "    plt.ylabel(\"Grammar EM Fit Error\")\n",
    "    print(grammar_errs)\n",
    "    plt.plot(np.arange(0., 10.), np.arange(0., 10.), linestyle=\"--\", c=\"green\")\n",
    "make_scatter_of_errors(all_result_dicts)"
   ]
  },
  {
   "cell_type": "code",
   "execution_count": 13,
   "metadata": {},
   "outputs": [
    {
     "name": "stderr",
     "output_type": "stream",
     "text": [
      "No handles with labels found to put in legend.\n"
     ]
    },
    {
     "name": "stdout",
     "output_type": "stream",
     "text": [
      "Final params:  tensor([0.0100, 0.0200, 0.9700])\n"
     ]
    },
    {
     "name": "stderr",
     "output_type": "stream",
     "text": [
      "No handles with labels found to put in legend.\n",
      "No handles with labels found to put in legend.\n",
      "No handles with labels found to put in legend.\n",
      "No handles with labels found to put in legend.\n",
      "No handles with labels found to put in legend.\n",
      "No handles with labels found to put in legend.\n",
      "No handles with labels found to put in legend.\n"
     ]
    },
    {
     "name": "stdout",
     "output_type": "stream",
     "text": [
      "GaussianMode_0 :\n",
      "mean tensor([[-1.0582,  6.6446, -9.9061],\n",
      "        [-6.9700,  7.1565, -2.9185],\n",
      "        [-6.9701,  7.1565, -2.9185],\n",
      "        [-6.9701,  7.1565, -2.9185],\n",
      "        [-6.9701,  7.1565, -2.9185],\n",
      "        [-6.9701,  7.1565, -2.9185]])\n",
      "0:xyz:mean final: tensor([-6.9701,  7.1565, -2.9185])\n",
      "variance tensor([[6.1864e-01, 2.7717e-01, 3.2418e-01],\n",
      "        [6.3714e-06, 8.7695e-06, 2.6522e-06],\n",
      "        [1.0000e-06, 1.0000e-06, 1.0000e-06],\n",
      "        [1.0000e-06, 1.0000e-06, 1.0000e-06],\n",
      "        [1.0000e-06, 1.0000e-06, 1.0000e-06],\n",
      "        [1.0000e-06, 1.0000e-06, 1.0000e-06]])\n",
      "0:xyz:variance final: tensor([1.0000e-06, 1.0000e-06, 1.0000e-06])\n",
      "GaussianMode_1 :\n",
      "mean tensor([[ -4.3909,  -4.8330,   5.4616],\n",
      "        [ -0.1714,  -8.9473, -11.1171],\n",
      "        [ -0.1714,  -8.9473, -11.1171],\n",
      "        [ -0.1714,  -8.9473, -11.1171],\n",
      "        [ -0.1714,  -8.9473, -11.1171],\n",
      "        [ -0.1714,  -8.9473, -11.1171]])\n",
      "0:xyz:mean final: tensor([ -0.1714,  -8.9473, -11.1171])\n",
      "variance tensor([[0.3294, 0.8279, 0.6549],\n",
      "        [0.4065, 0.0409, 0.5018],\n",
      "        [0.4065, 0.0409, 0.5018],\n",
      "        [0.4065, 0.0409, 0.5018],\n",
      "        [0.4065, 0.0409, 0.5018],\n",
      "        [0.4065, 0.0409, 0.5018]])\n",
      "0:xyz:variance final: tensor([0.4065, 0.0409, 0.5018])\n"
     ]
    },
    {
     "name": "stderr",
     "output_type": "stream",
     "text": [
      "No handles with labels found to put in legend.\n"
     ]
    },
    {
     "name": "stdout",
     "output_type": "stream",
     "text": [
      "GaussianMode_2 :\n",
      "mean tensor([[-1.9523,  2.5384, -0.5819],\n",
      "        [ 5.4927,  4.4177,  3.1727],\n",
      "        [ 5.6212,  4.3895,  3.2355],\n",
      "        [ 5.6212,  4.3895,  3.2355],\n",
      "        [ 5.6212,  4.3895,  3.2355],\n",
      "        [ 5.6212,  4.3895,  3.2355]])\n",
      "0:xyz:mean final: tensor([5.6212, 4.3895, 3.2355])\n",
      "variance tensor([[ 0.9124,  0.3176,  0.6974],\n",
      "        [10.0000,  1.6676,  6.6193],\n",
      "        [10.0000,  1.6066,  6.3011],\n",
      "        [10.0000,  1.6066,  6.3011],\n",
      "        [10.0000,  1.6066,  6.3011],\n",
      "        [10.0000,  1.6066,  6.3011]])\n",
      "0:xyz:variance final: tensor([10.0000,  1.6066,  6.3011])\n"
     ]
    },
    {
     "data": {
      "text/html": [
       "<video width=\"1296\" height=\"432\" controls autoplay loop>\n",
       "  <source type=\"video/mp4\" src=\"data:video/mp4;base64,AAAAHGZ0eXBNNFYgAAACAGlzb21pc28yYXZjMQAAAAhmcmVlAABkrG1kYXQAAAKuBgX//6rcRem9\n",
       "5tlIt5Ys2CDZI+7veDI2NCAtIGNvcmUgMTUyIHIyODU0IGU5YTU5MDMgLSBILjI2NC9NUEVHLTQg\n",
       "QVZDIGNvZGVjIC0gQ29weWxlZnQgMjAwMy0yMDE3IC0gaHR0cDovL3d3dy52aWRlb2xhbi5vcmcv\n",
       "eDI2NC5odG1sIC0gb3B0aW9uczogY2FiYWM9MSByZWY9MyBkZWJsb2NrPTE6MDowIGFuYWx5c2U9\n",
       "MHgzOjB4MTEzIG1lPWhleCBzdWJtZT03IHBzeT0xIHBzeV9yZD0xLjAwOjAuMDAgbWl4ZWRfcmVm\n",
       "PTEgbWVfcmFuZ2U9MTYgY2hyb21hX21lPTEgdHJlbGxpcz0xIDh4OGRjdD0xIGNxbT0wIGRlYWR6\n",
       "b25lPTIxLDExIGZhc3RfcHNraXA9MSBjaHJvbWFfcXBfb2Zmc2V0PS0yIHRocmVhZHM9MTMgbG9v\n",
       "a2FoZWFkX3RocmVhZHM9MiBzbGljZWRfdGhyZWFkcz0wIG5yPTAgZGVjaW1hdGU9MSBpbnRlcmxh\n",
       "Y2VkPTAgYmx1cmF5X2NvbXBhdD0wIGNvbnN0cmFpbmVkX2ludHJhPTAgYmZyYW1lcz0zIGJfcHly\n",
       "YW1pZD0yIGJfYWRhcHQ9MSBiX2JpYXM9MCBkaXJlY3Q9MSB3ZWlnaHRiPTEgb3Blbl9nb3A9MCB3\n",
       "ZWlnaHRwPTIga2V5aW50PTI1MCBrZXlpbnRfbWluPTIgc2NlbmVjdXQ9NDAgaW50cmFfcmVmcmVz\n",
       "aD0wIHJjX2xvb2thaGVhZD00MCByYz1jcmYgbWJ0cmVlPTEgY3JmPTIzLjAgcWNvbXA9MC42MCBx\n",
       "cG1pbj0wIHFwbWF4PTY5IHFwc3RlcD00IGlwX3JhdGlvPTEuNDAgYXE9MToxLjAwAIAAAEfNZYiE\n",
       "ABX//vfJ78Cm61tbtb+Tz0j8LLc+wio/blsTtOoAAAMAAAMAAEsn/NiUmb8AAsrwkVh5DyI12mnO\n",
       "gEuvKB/7g4zHzk4/OwcJ7RRkWejl4cdhK//OcIrqZFpjOU7gLkILohqqObOUOYCEJTEvIg/llOHW\n",
       "6INMAeicgfZqF7vXY3YvgEi+yCyyCW1RK5xZ56ep8Y+/MJZs3OmpeRsjrNXdWE46JtywO1i+9CH9\n",
       "+FmuY7X66qP/jqTnHTuGnar8dYL4/s9k54IhqQuLYD1tZbuTf0FNZrsnKt+9Mm5x6yaV9NDV5i6J\n",
       "+6kszLjrgQ5U4Lg9x/FdeGW4p2YtLDAHER6lP4xlypkUcvUJF3cHdihCMHLMdXJlZTsehN9bropM\n",
       "2LfKnWSa28EdnOPKR8eob1cW3OJkGPJ7AoocyAlMmK+KATaUtq5EHOIlAlz1Zt2I/LgjzBaXxnXr\n",
       "N8dl4UkTkP1zy3JPlBNg/IOU3cHEeEkPvpu7F7z6UJlZEQOc+ozKbZCln6tNDnCwvWqLbPNVG459\n",
       "UHlDdQKuSN/6Vd7hiFUKuCH8/ACxmjvTgrTxYtLEO8e/9XbFW4MussErKipoXZGqnF4G5sDClzsm\n",
       "lSDMLjXrr6kXyO+nxG3wNQXclm75Ba12Zb2ynci0yO21e11OeaScRNzL3esyxODtZy1lZWn68deR\n",
       "YGImbgGigDt9IVWP4Udg2AXRd/8xVg6qk4iP1LahLsHs7bKQt58cdhrBt8L9Jl9CKu9xCB8LJO1D\n",
       "uJTNbM1tyzHfTVn36/WCZleYbdkiB3eScviPNSN6ET4mPWDCKly3rJCA3tBBl0UrEpw+fbtL7qgO\n",
       "DbUicj0A7CB/3pSlabbTGBr4zltlrsuYRvm3LpHaIP+KMTFEIkTapKW3hLDJ/80r85UjRApeIVDV\n",
       "vwyHt3fkfBhgAAAyLHiGVcAAoQfyyr6X67thsokczk/Oby/dFtzQyTHKtc5gX9AJxgmcDIAYmqzI\n",
       "OJofXp2xGf6zNyD8+HPpHqevGfB/ocZPMNcU36GwwijY2AG6251iINVIIZdtWfj24om0YqH8BeRf\n",
       "jGVGVDZk7F0JYtqi56aQ89Y0YUHLCi37I6g6QbgNGm31lw3EdNexVwTejZBLQFxd9UcazqLs5g7A\n",
       "X4usJSF4PDnRF61AP/+dWap+1378t3g3PWpUoeeN8ELzP1bCruB/OnpccdtviBYqCwZxyhV+kq4i\n",
       "3Xg4nP0TLYospzzITZX7hFShYrtGpnay0NFt5sBw2cpTGybMnTirP/Kai3Gm5FN50yyGz7laEdRm\n",
       "XXTQOXcFMD0JmKkBCZud+QU0e4wE3itCMaw0FnZx5gElhjzAyMKfIdpDaG7bMSsIKjCL4IkOP5Cn\n",
       "Dm5aWJDK5monyVuO1E4MAvU5ImMsK6VkwynCxRgIR9fneq70P9VQo30ufo1IDqNfO/b0IZuJy6Ne\n",
       "EMf9g0zaQZSgLMQCQH0hhhGun525r3e3QEACFW+k3s6o8QUlaJmYnC+EfSAHCs6m+hB1FZHT5YQ8\n",
       "ZcWbtFez2sRJoU/aOJUYjVQYiQKLI2fk0Yv7m1ULs68Oh4H+tCEIwAB3IAHeAAbdJJ8058Glttr/\n",
       "WYhDJIMk9aJaYhIdi8OBoBN/l+7ku55QaQGcCZ7PYPVywlrlsWpjfDwnu/KSc6LXAlepZ4hg9JVv\n",
       "PRAR0pp/QGwrzEwXnDwb9jRlF+8UAz6UQFprLpZnqya/a0kuCaqXfB1fYhmR6ofnRjM5QxVOtFr/\n",
       "pk2mgMrACUAx6HNZJSFmfAERvP0OcBZzI4MN0hUSh7+RQ7B4jllhiusUyF87HagGjXiUM4Ktcx7M\n",
       "dipe2eSh6TzQ1H2ctGeIQUIIwukcVvCB0Y4aHBXPH7iSXg1om45+4WoQfoZmvUs/N6UjKOvO60Po\n",
       "m7+XlagIX5nThxjdlUwk5aqfls3w9rcyU1YE+mVWBeECAsK6rjpJ8SoRVPVfscI8wzl31to5ZOka\n",
       "QePmM1WHFn7hRfAAAaqKXbM/WWxmVTJndmN0jl3rTT/iMsXoCWKp5WOr/3b88zifdXmXJHxeXxy8\n",
       "iMsUMnLc/4b4ofPWCDKBylEGUfXY9CyPDOmmRr3T8CwyjKg5hPdhr0YbL2AJL2D7V8KEbA1aSlvj\n",
       "vOB+WUDdF82LSuFwfQPqfIKJsyP/hpJnR1L1HZ/USYKPlqHWO7cPpArxJXc8USdMNB5G+8IOa6O2\n",
       "qbKG0wm0f5BprEEMOIiRKtpe5JZrepJa0TBSlhANMUCqnbNZfdxrh453Huiq3/hPvlIkK7WrUFiT\n",
       "HYvCcqv0h2tjMtDNxW//paf0WcOlVj7B4grRxfwezF0H5yurmgqR+F6UJ7f4JDMMAibhp/GtcNSP\n",
       "nsBjF78wEZxDWP9kgSF/fxLBLrdJVz0f6YAcaTrBwS2kLeOe99IxkRVvPH//OVxa+fyme0MKOrza\n",
       "0LE8h3faS7tKFZ+LKQKYmYgAAAZJ4Xjk7AiYjVWKveMxKftpW/ys6ZEAef/SqtgOjp3O/hszsfIk\n",
       "bsEyq9YUk94AlOMUVGZ+tlT96l0NH5A8xQ2jqhUYcAEXqpWWAuuhfNvcn61oq4exGSnznFjJhwmW\n",
       "YIkXrhjnR6LU+MBlDD6TFKf9Jrsp/ptvg3A0KnykBgEFbv2aeHRSR1q6tRnMcACmLK/THCG8Cv69\n",
       "61VMsfatF+aFYq9MH3dawZ8NFumkna95jGfvMWeVhvj+eI9gg0dkFEkEYWMPWrIttGloO0N83T4K\n",
       "THv26CRoHNiXCb6syYa3uKveXURRDQOdUAA3ULWNsiPpZsoXTiPKySyZCOJGUZ2UeXct8q9fosr2\n",
       "0KPJvJyNR1Vkx8//e39QblebmizirmRK1MSA9JbAPR+hreTIeUJHuVu6EkecSIBx240OyaXUV93l\n",
       "+6jJjlqz24uiCoFYpGBTkyl6JtVMhYiOvFc4Ev//JRcKPUiXMMbZdtbpKhz+Dnn2Z1qkEafw8IlW\n",
       "YcLaByQ8a0SdIZpr2yk2uN2r0n/nsH6uhii3nfOIkF6IE0log9uDoNRtECzw1jkLpsrIu1Ex9BZu\n",
       "YIPnWo0aOGZVO5vXDBK7B7AUa3OSn+p0YD9kORFJXcRW0/qb+gPZ2CpW4kH97kpY9omkrNGx4gVy\n",
       "IPlqAD+ySK2jerpsVfSduPLb2fM4Wy0nyuLmfdKyf2cD5FD4rPMtotvlmSZ4l0g7ULx/0XfcpvUC\n",
       "noxSSYnfF8batnFRAX1Hjv1tfg+Jzl8JpYtgTawbbq1q7a7Rngyt4kYG5OdsuNmkSe3q58d0LpeD\n",
       "f2/YGybAAAADAYBJlWBGQTfAlQ3IW0FN/8B9de3mSN911Gwsl3ZIuYXegPOM5fIk+AAIkny+KHjL\n",
       "zLKe4e48D4J63wlAw1jKmlfgiof/K5DdR9zg2oF1v1rPkoyl8kAHyeMwXOEBBatn1I69rXjZPtvL\n",
       "SQQqj3PPUOqaTiT3/lus0EnPvxbXSG0MIcXpzzvSXlTIu0ks+zPRyRVf5homuStSN6mTgIiZdnzT\n",
       "1kSnbE4HGk/o+yfL+a+us3twFlGCuzmzhl2SIfcWut2HmrWWvMC4K25zjdDS1A11h/juGcQ/5qY1\n",
       "XIoSWE6EBMla4tmW+Y8/4FEtu3f44dMzSVfvPi2Jul2+kOCrwBJ7/a0ADiFS72aQS5LXrmVYoCdV\n",
       "vvZ34vilwIqioLPY6xxHQ9t2JOj8RLEZSoRtvNrUGt91FQrQlKhw3HMVfkQOCSZ41tRm4rpxN+WF\n",
       "oPIolAh7E4h1nqlVYztuC5apY1YhzXn17V1OQO4GxMqMnSeDkSAVZAQU845Oj7D6gu9Aex41LE++\n",
       "d6O2G6yEMfgEfpsrQcV71EUK+Ji4RBUM+v1AOvkwNX1aa/UU+UPwxqZZX2WKcfVEzdv0OkRrUA+1\n",
       "4SFbiwMutxiPhni+8+209OcdIezDneV2R3BcoAqQ6/j45isHru3dJJ5HSlBvgf+XVmMaxKG7BcB1\n",
       "iZava/SK5oKsAzjDjwePXPm8yIN9XM82ey0s/TCPvbYeNGiXWJHGYcm7K0GOQGgxLEvXXai6j+Jp\n",
       "fxOCBZ1xui9fedYXCY3yzNRCqG9NKKtg/luj8q7VFjpFA6Ycg/0RWGltqyX0PASXPTzbovc75zFZ\n",
       "n2P7WHx2UpJVfuvcw4po0HRwqfIhkAAAAwAKtxztHd3aqmNGt/xSnebNZecjb1RORsxEo1tKstqN\n",
       "ESg+b4Oq2TdSlzvjd7YFtmAAU4c2/HjcyGc5rUvcbeqepK+fR8bm5seTVjbhq9OA11Sh+2vZOl7h\n",
       "GuUyKpbe+oewWRURm/9NhqAL77/j5g5/fWD2W//4r7DyBntr2E3b9iWN50il/o3iDtxJ5kE2ZdEY\n",
       "FYNzH6itIERFWSscJFR88iCQLCOCOuVtW98pV/Zx+NDnDmaLYC7VNaPab294IXNZUlRfbIEALLVt\n",
       "HXpwi2YObPIRw2DjnYPlfznBCTchZOM6m+epOalYfRPXultNghN2TFYyBZtrRsIylW1BLgP4/8f8\n",
       "/fiIQidK4TK9JUrsR610mS6sFb3ZSmnRA6ZkjkPl9f6DMpmf1/waXZ85aP/f/yLt1XeivXmCunVz\n",
       "YApUQv48ykaJDrs2gnAp7AuF1eVK7pOCoMmiLTRHoO6ylaKAzP5CNiVuofjkEt7PNhOdqohKXvYW\n",
       "gYnmspZkl/AUUAgmJRvywiIuWlZqZfoblJS2Iy4NBAdcfIXOus1o0/T/j7jcg8hta1gzkpqYT19+\n",
       "pXCxxLaUCpJEFveKOFX0R1eQVT6YSh1OkPAm1XiRJf5AGffrhDOm/14x+SCekhZkTkFLxL/kweMf\n",
       "7Vewt/61OFdP/4ucHS9lHz+7wcmMg121rJIkd80K0/+S3Eqx2idvAfFWEtYarDcYZVaXnwkQYYiM\n",
       "61mpzGq5Q2INJAMsG43Nj+SegkuCMAhIjYi6x9jD5bhxko3E+AJEYRWgtlv9L8AMrzHzx1onQouk\n",
       "TWitMHCRqC7BbD1d5WQk2QgwwUAAhbSz0fiFNUUiLTrk11gNHTfjazJkJM3lGd9mxZqyr0n/xn0L\n",
       "AxmArG5nnaqVEhZMT7C2MCcppxEDwJaDcmMhICpKRZ/BcsyoItr8ij0pQri4laM3Uc9Xgh9Sb0bE\n",
       "KIdhYXsdAKGVD0jeztsn7T6qzMoT4DArZIWBMwuCkAxWv37gdfFIjRwNbbGlnJ3ID3ji967bGa0w\n",
       "HtRntxoP5LAQkD1jNNPCbN0UNdzSZSoo1A9K+Kr8z3Sfi6ICsfKMd5w/dmcDB/D7xu7dRd2alfxc\n",
       "AqYOPDkT5+l8vHWLUUSsiWZVEbKyNKfj1CVmKPlK3g0lMzzEO+bmtSvc9sRJSFZxy4SitwnYpHYy\n",
       "MTT9pVtjYal6lz/rpLRrl3po1bcPzp7ZcDTyQU8/K4RHQOCgRw1+FCq/DntZh+pYsOg/mlKQaf9U\n",
       "GzPkttxHPqJ6prFgRHY+vwBHcpSwGmCatzYc4Qgbfx9whA1SQMJau3+IyTuuP6jMzp/7MyKNAC5E\n",
       "gLj6t+pmsEC1qUFcaSiFLMoAAFQE7tGHL5SmRns+aYidoFcM3UmhTHIiGUNSfFDiXMPZaEIyHZDt\n",
       "Wlgw13zy+UnlXCM8sjU69WdQN5SWgzXheH3dw18K5FELMcnuEVo181xVsNhfoNoGBh/hQ1LRs+lp\n",
       "RGBwR3xbHmHhuOWYc8v1v0iUvPGUG/MUvpBeLET2X/r0Z6TZmz30BSxogBDqS7D/3WUKFffxEX6t\n",
       "fwS8zLwqn2EXW/Q5TaE68Yrd3BY/i8NrtzqSRKzhwFqBKGyByycsxnpSkbF7BPmXVtaGX2yNu3tr\n",
       "0JNJqoIc0UKKf+/77yA4dzTca0OgwIC/S6ohg69DhlbBj4J4gWMNuL3B6jLERYmHZslvxAV/Zz+E\n",
       "Aj554I9wt/CFJqa4Yg7EX1+YekHI1g3yoBBHh1m2R4JUDdAWIyLT7uRu/0M4Kzk0Gt3t7r5+rZ4x\n",
       "KKl1D1TExoBmxkckl3iZynzADHyUKl+uSqq9YbTxdhnzduUugY4dwma4Lnxablby+gta4bX1gxeV\n",
       "ncv1IT5w/OH0wT0eAOfLErMxKuf9hKc0JlYZ9+ZbmFtE3nHThexl+gSSCn51zMRiL9Xffob+XNFP\n",
       "Go9Jv2F58hB9e5QfwBQkodLOw/VFTi3LSpm/eze83YtACeOPf9nUXYjl7/SavnyqjwStN9tEZaRY\n",
       "qFVTns6et0DrqkYQc1FEb46uFPoqO/Ze4/3x2SOr2eh37KKA02R9WEhx/Grj76PS8kUDTSsrHVz3\n",
       "3JatWLGfvwDEqJ1QGjvmyWXBwB5hSEfQxGjARvGhZPqt2Z0CB23rejKJU/ojXcoxCuqw4mZsTT2g\n",
       "RWLeK/vpJYwz5WEDWXs9GY83yw+kxWjZtM8B6tv5TImGbnJSgOPvmMHnVqfqYMwaMAN9NisK5981\n",
       "O/IcfM+psO87sXySKJywU2CI2Mb4j9GFqqSyulcIjMZhr8dkwyBZEzJPxy48FlZ1+m0vN9HdHsOZ\n",
       "xJDgFkcSbgdMGmz2T0W/brEn5ysKS1mS8wPZwssL+2IeLX6w+c+OP7/gJVOZPLaoKs8keoZ9PtMH\n",
       "jew5kmpIS3kv9q3GAWcrGcNqkkmSfz84VGbLJ7kX1HU7TT/nNBTcaA7BYqidBVvEAs5xy+h17Bth\n",
       "FbBPeAdRhWYMD5zJSTQmBBr5fPkmYHj1t1OQs8JmNu0UhueCxj4tSsMzqO+yc1gqridhtemLx+u4\n",
       "+R2CketXb1MNN4Du5b1BBrSnpAU5yBMShc/3aMZV10vwXE0bvZaQ+0o8Gfux0I11lo27762xIXl4\n",
       "n6UVdr3pgs2vETvknFaE4rdFjSfU5Ay4BzqvdZRiEKn6ZdRVL2DKxibQNqZqC5WIjXpqs2FPRht+\n",
       "cQDCRS98eQfbRqOPZawvEXL03kgCSdnJ4Wf/fNyR2/4d02bTYzbyDK+lqn02x1DJ5RBGDxId5+ec\n",
       "As8TIGiClro7lGkKSUEhUqxuHkYYVs/J3Ej6oeRpA6gGduVaZdC8WTrry36O1auLZ8RTcDdBOr3w\n",
       "w+ybQ+OTFMnJeQG3ifx0j5g237T0/m3QbrQOcxybtuoWQn6+6lMVMk4gyHWN2zKm9YORF2+fJaVW\n",
       "dQgd+ZciR9Vtn/NR/AbwAqBCguRY1+KsJHJp3gpZjZgLExQKvdhVFXci9jSj6TVNnSTTtYXkqWu5\n",
       "V+YNdr+rn4TZt+MGu/R5mLqEecvZTGC+ObMxyPHhHAuXxQvHm4sU0KQOsr8y5ZoVw398Ki8pwbLJ\n",
       "mIHtmOo2ooIj//WtlSGDb4+yudlTIfxVfZQ04XrrfM5IFGWkcKiLBju+aF0v8gBxbKOpvsnSccBn\n",
       "hcd0eRXljSsyF58A4tQxHeb1dTxXvWDhpMz+bM/oAgtva4VI/DurXVQMWCJObmSquvfddnd52HPg\n",
       "9eXW/AP+bCN70SYeysl+KLNb5rG5T3quHUTJa+BJNzpPiokPlqGAt4uUvO0E/uwlHonA6IXF4PNt\n",
       "sY3TtK3BXhQBvkg7Hz8YjvSbbAnQxaGY0NW7Vtc9jXHOwX9FzSpoRFvhPAzdP+2qPUUcTIPUKdc7\n",
       "h2vd9e9C9hHwdTs22aFD7j4G5ZWUFJ+q+FdHMyUA/oatcpM6J+AgAQIPhy7tSYmiLVQBBBNTZEyI\n",
       "hzKvZzf70Ev06E7B3aT/kfmMIZhDLW9mMaAS28CRWA1pMcIr/UDZIwVfLNZOsIIDAw5axvub5GaX\n",
       "DX1BlnOrtbvd4wQUIqLsZMPB6ftWUrSB43YAu7okvVw5BV54YBWsytoxac99sRjIzkAw5GeNaMal\n",
       "ErvWKHnfuvdUyAD9ioQhimuM83fFBBIt0l+RuA91pyMS00/4jTsamzPXTlbHNhXqPolp4MhX3/of\n",
       "OrBoy5F3GRtycrjnAqwr3iKd69bNKQzLc1gRJtpz9xChQTTGhmoSRpUfS1eiLoVXxMboidXZTIpo\n",
       "b8Ab4y6zmCPlu7h7aOQr3NuT8cnDzVK8ASZl8oCxtKTj7gVuvZRl5M8xyMQfe1lPRMCu9mtyXeKl\n",
       "vgWq9ZV7BSCN8HvXQfQxcJmgVbCfoy+5rHf/cWFDChkug1k1lSxVxk/97hdBERczccNXDclPZ8B3\n",
       "9c4PGkTS3Ir7v6vObAR8M49TAZeTzCkEHGWPqWvuWWuo2KQNgpIZI7U/qB1oYNsAcidwbX5thd7B\n",
       "u90uz+4OsZ62Facivur12dja83RtpMYcfxZ5EzAhDK8D89czM8mYofpScc+Myt5H3EZjera/j2Cx\n",
       "hlLclmOsH1vE5qlI6H1SKJx3EMVdkXMFq22Wwrcxfw6RH92QSDbjsS3CeticJwBe+/9l2xkXZiSe\n",
       "lmXBsU/xuMDlF/PYn6GzZYOp/9bHXJMKhKNYPaAGvAtwka0dCZ1yszi3qaiAauMvoG/vxzdkMctV\n",
       "GzoUlqrF77OuffM6LO1nMOCZ99M7vCdHFI//T0UgdxbrdVDx9TIxWuim507CeVakyS8472UofnZ8\n",
       "VPa1/8cCBkS+9HN6tEM8PGgZvJ9d1nlBMU5fBT66sWZVUp7jiN/GNv8nRZAs4AERzHY7454XbdaX\n",
       "y7QN5H/XbFArEe7tcqugBL0pvQtHyAEBLBYsloiqmtSS/xVemrm08+5THPR/Gdc+Ilxn02s7wqDS\n",
       "XBCoapT/dSwXgWg36FhZkZ0hcaLJSZeRFMBjkmhojo2kDFHJ9m/aZrkhGzudgjckGtVp1fO84k21\n",
       "kB/vdBoi/RZK2BtvyOug3lPQbt+d842dYSw98jwEvcUdEDnJAJ5zX+gIPvkMB5j5gYTLYdDODYMQ\n",
       "YjVRL3ePWjMPyh3bQBGRF/59guK98BAm4dsB4YyBpEAYrCdXKTuDeDvVzzMi+EzqG4LJNnezDHq1\n",
       "188uooy/qsT3dcYDrLzuovIX/pLliWEfIHqQ9kWmt7RHm8dU0Nvm1yvKdUVZk6luFqLEvYBRXu7R\n",
       "OrutYWm5FbcYNFTqOAkdkIvtOGLDyERX6p14AjWlqq97jsxKSUgcEU60kLspfyAgem+Kbr+JACfC\n",
       "CTv4eG1YGtNA3N7pLbxt5W8LqKhXsejazPXMMppUdkRFt+cZO58EbzljjTbtYiJksBnY/lKy/ypJ\n",
       "i+FVmFcsujZ9WvV2bKPEiZ6KU5crlMbMXyO0woj4N4mM4lP3Rh9ySahBOXgP05OOxcdxB+HBgb8N\n",
       "G5ypo1xjbFw6rVPA6pDu1JC6wqPAI87i7quSBQ/nXcX+0KCDVsjRmU5KMZ+bL/E5lL5BquqRBuRA\n",
       "jRpn1DOjjJwtIvnlbCFKbt4SM97K28SPTgqSRBixzRLi0MUYHqb9ussGZeIXoz4SN4VBgDT/mhlT\n",
       "0v9EZ3b/x4VqIILtqYeZMsU/Y1fxrv3OVLSug1EVu5EGhlkpRzMfQhUt7aBBOo6XqYX9BdEcXrPH\n",
       "SQyDtg9ZK1qyfbXpC1TsARMZKSnmcKfpZz3ZUTiRz4/RsByn9HyXbweuPx+GnJyCufXRMslY9VFc\n",
       "g8J49kZpYN9or6kkp7TMKUd314UFwlutu/PfQ2RumPnfG1PiybxCrNnSG+CbKeluArs53W9nhP8U\n",
       "W+fgg8BGm7jRVKDBbdWmX4Uoo3X0cRzOw4G9BpWLMd9KRBKULV2UfvmQHyy3l37mHcpkN0XN9w2N\n",
       "knmqpx+P3+O+cNPJfE+qTQ2NojA1ECFxbJJSiLSoeuhJkXkhFEpk8NmqvHXMz1YJUlgTyDst3KtR\n",
       "6NslIhOGEAfgKjqovo2Jcq1sOpJFxwtuiagQvkQX+Nqdx/P+W4MH/jdTxOJiEQf0357jYjb997zC\n",
       "zh7YLRcPkRqt3ICGRZ3cOMtHMZ6Q+jsz9zNS++vfjtYY8WhfcpDphG9iSITTC20CjB8PWedIiALf\n",
       "HGJlO4XdZYMwWt6QLOacXmwE9QuB/jzPwGH5RWo95NgtzhGYnx7AG5EjYL37fxdiFGVRrb4uOgyW\n",
       "3UCRMjv/m/fBSc8Qc0DyVrskGPJqJ9j8/QfFjnIsbhG9W5w3yHke6OcaJsFEa0p1GSaiGikjEVKg\n",
       "AyCxxFiPig8czzoz/EiuYg183CSqDdE64OfySF8KmlBeZ7Lz8RqIKh+O/Bh48wFgsjSdGKb+QNFS\n",
       "kn5EmmPlX4OG8rEi//xl14qWY6G5T2SdL9SQL/D3etPIege21jU0v7VHurpUJLn076dpdpYlpiP+\n",
       "+MBpAjxjKn/sRbMZEWnmHy43/G5+65COsnM58rA2a3Dh3YrF4ys2oiH9lS55+ZjKH6uMVHY0eD9D\n",
       "EmWxpGnWO/iHGg/+WMIUQyG9C8UW2zVMCi0E5OAyPszI9voJKPWuovAPAVuVvqI8doc5UW5h/C34\n",
       "DtbENnStAd6AlKS7Wu1YyeVa5zlEAMCb/xsmBytJkOGmVSyeZCPyK35BBqgT48jP8dffNNQjeeQt\n",
       "MTs8HaQzFOTRPjPUIVlqr7jY4kav/YsAZ8Vr+2Pp7vAdKquFy+u7D/qq8VPSGefTm1QAweWrZOw8\n",
       "BPl0FA2A8Jeix0iFODhxmuqw8eN8FwtqK8RH8IwabM+5g/n5cOrGzOOI3NHRdj8a64orpwnBahDl\n",
       "QZtL6+F1529QKg4ZLJNuMllbLpVZzAcMPKt4Rel4Zqe13VhjpERYgkaHFvPbWeauNPW63wpwLyji\n",
       "czi7NREX+IPRqr4xgF8milAqaKJsSo3ySzv5J2+thrRNsCH/cSro+mjCtPUGpRVIwO/cxgGcX7le\n",
       "9wlMxFoYs2hsw+revwT1o62O3nwt3bzAZNmcbYeQgClXn7FfrFdux8CoaeqlGCfNld9aHmWqFBin\n",
       "ceTkJ+Rm8Ko02DbwuzftOjv57m4EOzQ9iHZ2kZEnr7IGM7pCk8ZzjvVAsSALdS2DOkRdy8ZneBYf\n",
       "atLL7hj6tsJMlSh/+DRSpYQVnjNuKC6fyd0JANmC42ObO07ao4MK6pKpceTn6YAmIUhpnXK+TGO3\n",
       "Tsmgy4cRLrtn/AOUaUSN5XjuuvkRnX4tgRI91uk15dJNc2wxlbTs9Ox3onCWYg5smwjh+jEuSsWF\n",
       "f7GHRKog1sIMSGFtnWsvCOh5A3yaD0RxDHIuzMgHYsLePjrfwoRPxhJNpJR9x5Tbm8pF1P3AQVPU\n",
       "7qJ5P8Lk8jFIquMPDNYzd2IRUeCIvkleuFpN66uEouVUuVy7E214C+aIEYlk5t2bVcCEypm7j7A4\n",
       "W3rIXn4pPPhhzodcYFwo7PeUJUCIAqqEMaayr6tPMDdaQcoMP6TK/0VEjNx/dQI4u1IT5buUs7wf\n",
       "HCD74r7ufyK9U7yoauOJxibSaimVQWn+5ywNe4bMHJ8oCMk9Rhe98NNk31gigfB4Ps3G01faAVmA\n",
       "b/8RJZ7IZQaHIYOR6baCOBsxrdlWu+5uwuc5WMF8qw6cymNwbpAXqD2R1/mvrgUl0d43OQEW2jO6\n",
       "skFOkeulqpQFooaxyUIB43u1nzN6v+G7huAkVLBWH8SZDm9HoJtzNVdc04DufkR/t/sSjP2+VPor\n",
       "ASIhsSyXcH407rDn7klLHSF3X3ZEjCAxuymTzvvKmFECwSKQq6myiZAb6ZXpJwd0wGnfmkhH1uoy\n",
       "abuogBrKoEtH5v4MGvVVNNar0CH1S9TQz5lXNZyRXK2+HutZphXI48HcBw1IAmUjugfz6Nlik36s\n",
       "l7sMEhBQAOWUpTe+MV2CsauQjmCDLkhwRWJdGJKRcFWwPfwDlFpoMC7azVMQOtY4CY4ABK2ehEyP\n",
       "Pto4PrgB7U+sjja9v589+Hd1TjDBrUTufsA/AYJA8MeBjifu7Kewu+ugaddG52ZNM3oyBmj4p7cX\n",
       "KU8/8PgFsZiZsu9Dq0xQPWrHhLMUfxCfLM3Pzl3jArCtGCGGOkOXuRVom3KWzhN9AJ5SA2uLbPtt\n",
       "WPyhM+TVGM7SRMhlsVJPfzC3kSuXA/Ps0qytOoRpADzDpI7tavQkWjZ39NQtGS/vSrYJPa3rkFaY\n",
       "KGQ0E5yhk0vS/HdjkQAwEYHsx1WQIUB9CX36RMETUvtaPtqSLy9jaaSl1DXoNseWT/pYIbpZ+VMh\n",
       "3lUSn6v/qHw7CSfSD6eoRBOxvSYDs8Qt7DdfR7tBlfatjL5v9oQVyBYvvSY83OgUr2mXvTH1zdrk\n",
       "k5cMUSBzBwglhyuDWOPoJ/KqhdPGLdlySr9xcQf4e5Kf3s950/Mzs9Q+vbuQNiFOJErnfYyW0eEx\n",
       "xzW6gC7jE23Q/PyEsoa/p8c76S1btg+TgmdPfYa+nNOzdw9wdpgaZOuTZeyoNoHxCqTH/Yc8iK2U\n",
       "hqpEWu2RPw71kSVUyIDkQ1fFlDeyyvRJNYe6fBvgRSPyi97OF/FWGgagmD1wGHhvqNnzlge/pX2v\n",
       "ESOWigs5yKL/t3EHNqGBrg0t9pYLVFb/sWaXjpCZ8pVK2Lzv4EveQggr479BIlegEYoEr/zyP0We\n",
       "Pz+ZSERAmsJ7K04lzqLIYENAdjg9+bceNpuZFCn3crZ9hWvYMQmKSFKlCK6x6GjCumqGZY0sblky\n",
       "1HTfoUN+hdEZzgnBznrpGDqi1bHMkohrDYkmdhjbX3OJxcdo4sr/uOXIFFaLFt3mHD9FPP7g4Wpk\n",
       "AoFHQG8Z3//h+0wu2K/9SENPXSUuk7rt4CnLLg9sYCjIYOfhME/ITYmD0puz7ULl1oWehm0VkAwj\n",
       "3hlDvFrTe+2197EreMEVKKMstMWwZDi0IAjn8+CTAAdI8wUoWpWbJUhebMfY9BnkpyNrzu2ptir7\n",
       "e/Dr/15i4ErRa28QGgoQui6E9gjyV0PkFQKnlxFtDmuamGFKNCD+xB9Odmowz5ecpEo1KA7pQ1mt\n",
       "hz7XHWEhLUjLW8cCvwyZBNq0wtMWBV5UxpASEVokkVI+5UmVJQNDGk15aS0SuyFweRj++0aRZXXa\n",
       "UqraGW97yJcz4zxz6HBhUcSX7W1ripk1j1JI9Ss3hx1GaPlYi4ymRpnAx7p9ZWYk90BPOZMIiFVs\n",
       "aFBT4jITxOPCo4wuupMJz8mOwpDvpiUbU8w+oX8eqckgHHZlYrXIdUvSZFAb9y9wutm53AUNJu0y\n",
       "YMA34k3e+GJ1GcPAW6pNKjGis2xZwYpgb2LR9+QJ5oyj1FLqZfsi3yWoIvWnuJdi3E2rtcC/SMKg\n",
       "yS1OPQBtyvx9DKESJl/bXK+M+7eHTARnUo7YoL0ciY+outMecNysIRzQmSmsCam8Au1e5HtOjM4T\n",
       "QZLCRiKeeBnKZ1gTKFfbNU51FirXuizwp9IAvIV2nFC88UMvCO+jbkI6OLthQXDoRomqMqbS67vU\n",
       "DMfNnHDwYFHrXcnn9SZKgU92U0FCq6pKToakJGew3GPHLjqfNMnSlcKMh4KFfz4fiEWGBzbhEiKs\n",
       "Prmchv/j5OXXOYeEBeZuMNlsikYAddjc/5O1BKF7L7X9tlp6/e2Vu/3WhpJ/XJsmJ97R5FDb7++D\n",
       "ZCGOQ0Ru14hw5Bb5WD41HAxctG4QAja9laxtG9g/8j/ZvhKu9UYwCeSIoHpSlxskL7vC3uVm7oTy\n",
       "vO1jwpN8AGoCQX8FXc/j+vfzCbIzNfuO7H3uXOIsilTO4w/pEAvAMT4L44f42NM6CqMs4807NUEh\n",
       "GX6V9pDiTDQUzc2nbUdNo5nOsgVQFKMyIgd/Bek+7R4vEWNjAavHzVkTx3N7jTTvriEaKaq4X/k4\n",
       "Vito9pKJln6ThAPnRQwSXBZCzS7KF1alHlntk0rEuUcvOU/fMzxU0Q6hcoyR+eETHO2WcDY6Bik3\n",
       "lluTy7XQCAoDA4TbbdWotbY7clKP8EUkWdTO/cm+QygyFWYF/QYAkhI7Z7045hnt08eUpG/YIcPO\n",
       "m0A2A0OOFSLeZeAy2JMsQ5Rsg32pTrhfS16+ywjQmNx/jcHJp4gSc6XR7Z4XSk1V0kK20tIa0XKP\n",
       "ujSMrYCrb7rn5c8BjxaJsxRMcxAJe5DFz8xyMp4CRRijCOzYC4xmZv57NXv7+ErK9n2L39t02KIk\n",
       "R6m3oTD1ituMeYdNXaVy2e70rHSpdD9RuMJ6bT1i0Axp31QH2I2uT7OS48hlmZdtNE0i1AN03QJ2\n",
       "/gjZbCgQiEYmq6IwiR34zyCvmYIUMQ74AsZzdpI3zC2SvkBYK//oOyWhIwAN5Oi2JMZZ+pyyrsTi\n",
       "WN0HB1RTPYaJvKsbWiFoaak57uSkD4sD1+rzXL3gMY30K+9syJaKutMtL0X31QhdkL/V35XmW5ue\n",
       "huZd1m/BZ6jJFN3rERTPvNsSJvlAfAvwTkf3wE2GC+yo9Vi0iX4Z6dv+4QX9kg9Mg2rWNH5iNtW0\n",
       "jSeO6Kvq2FmFJVMV9d3AUfV/jZUqrODDLDt6WP/YyAEUAzZ9vXaQ8s01tWQn8Ai4RlA4Wgmd3hmJ\n",
       "Qs21by+PvvPnUOsL78T14OeML/HvLZaz7xQOu/9tN13l+RYra10/kw5Hq6RT4D/zv3HEFuVXXuHc\n",
       "I2dde5vE0fKABmZsnVI4QMUfBbntDJR90JUQXGQJTURXcdQ8PmLrUQ9DYQIgW8a4/jch4Cd94ddU\n",
       "rWbLfIkrcyX1WDAd1D8Ke9jUVDnivWDGDzlVMZKi4kKpbPeTEpSAglwB/lHGRJXMEyQxHO4nk9fp\n",
       "8sudoJIZ1A1U0QSk5/xSw9tP/wMOwb10dHG6vVUsXz4bJU1Gdni3nHmPV6XC+HPZhlRJEAGif235\n",
       "W3bTo3JImDfuSKHxIRHrwX7vxuuckX3pMxPS9Tp6Hi7uK2Px65jpZEE6/rMFNJAu7TFmySWAx7/s\n",
       "1EwaFBwAy1L/5lgqAmBKJannORl7u3mzsvjXOCfpi83ZWU/YPZultR9v+dJHDB1qrxG9TaKv7hqm\n",
       "drZ23pKBm0r2hj2/xbBrSfVxKLpsnt64uxtZcsw14Anz0Z1/mtd0v8lq07hMiA5Pk8pRhY4Be+ju\n",
       "57Pl8MTRqvO/lrV4sKa8zbP3AVGbh20dShK0hOGm6tnfeY2RSbIpW1wvjAsCn0m5RJfmdMk+Wmzm\n",
       "Vm2RWq9hAkfGiClunexn1iBwlR87WBldeqKJ6fbCrPxkHTyHug6Q3tahicX5fet69F5RNrm+84Zs\n",
       "BXZPqmgB5hD3z3+NypEEzFEKocdgZZG7t/UG5Xm5os4rO9PItWAZs2kzD78I4TnbBrUc9ZHDwxFp\n",
       "8/sUrid++8ste9v2lzHNaAdN5R2zmgpEqXypQPc3fiR4NrQfxXMr321zwGq0i/LOKvIzA1KQOiKo\n",
       "Is+pYCvrWvzxUajz/ZAubxeztFtzYOVEvg3BEmYsxJGNsVIiBiajxjuj7bdZFX42eHu480U7s+pc\n",
       "SFik5oXyhJJ9HhdROmS7R1t/M93bSCneajbDq3h6kro8YsCItIQ5gXqHKthnpXiYmGu4MtX7ZA/x\n",
       "hef+GGp1z9reF+Kb/8LVP3VL1N/ORGUPrC9ByCNbwOST+yDqvxjC5oVSc9ZLp6PKfrjP6QYSZBFa\n",
       "pAsgcT09zbi/E+Yu2gM6Gc5may/pKKuPPGLLnDn/TSnJrbBNsZbU18R5d+EQW3xYr1kc3++PywHF\n",
       "kfvSK9HPplsCqVx7NtXaPK+1oKr/6ThYzat49AVsUNRlGFxwAsh6p4kyAMZlbYjFTohMv/MeVgG6\n",
       "gA52nr66j7wAkVksl3fWZHTx+I5fY316HLjnJzMjJP6AfF/VAClKwgjyLCZLXNn9zzl0oueF0quK\n",
       "m550BQg00T1WN63ucQNbXMDrZw990ocEjPgBTyOa34GCjf/YtwKXJWkQrmrfWGA3EySY97koY8B7\n",
       "DpWBSr0ZxbpWzMkhSg2GqsLagejXfqAYJQ9h7mb2n/KlXSqjVRNBVCYvTz5PQAgVAY5M0snEaXAN\n",
       "Sx8/hatXTXW6itLRwJWljWASKn+YqNnl+BqxXpMDIn3unXdQfMXeXcTXXf5hoD2GKbsbAmDgoGdu\n",
       "YJQQjcQu27PXYZz/QiS7ZPxNeBpt9GbAZEPzE95iyhP9l+ohcDNzcbbFWFno4OhxZtQOPXZSBC/T\n",
       "AwtwMtoT4hPE61XLNmrx9S2mM95Z7EGHdsshg8LLdzJ22F4Yf/iSZz05sfEGHsv1avstwuZLQwAY\n",
       "+NFvTFukccvcFdBFIZYhNVVAVdfp3R+HUn6tr+ftfUUskG55uOi/V6wE8UB7/oI4PYwlJ/ERd+e1\n",
       "sTIJg8ZmhXagMj2330FAC6a+NCocxy9xZKfRvrSPENVRDNUzum/gImgxHd1fM4RgikQ+pTQeN6Ga\n",
       "7VHWNcU8plgWerUKvcCZOXiQwhD/7SbJgluazEPD6s+EDrGXwXTfB9imMl7jsyr6n2f27Zu9HOPI\n",
       "QjBBEZr4890yser7QXP9HQGoftyRKv3gdFi1ZQQ8SJizI+9Wxjd4H9BLqH7codZM3qlQPUJLlfZx\n",
       "JSrRAmNPC3tx7MOkcikzre20liOQF0EHpfCHQ1UOZ7RXqqk0BpThK7p/qLgZbIXEX/XDIHvzhK7U\n",
       "RjWRg0neuDdXt7YNl+kmKJnWCswxRT8JEuS1yyKTEdkel+/8BctlWbH7iwcMC40l7NTxXQTTPBJM\n",
       "sSEIyC21xLgSUtAp8SRvuSfNhL5nRlWUTaIQ4NGAxnIw/e3wEbSM6LnHkyEv5qMF1zWtoVf8LuK1\n",
       "8f6Ywb4Ee2I3RA6RCdfm2q4y+oUWjBYyar/lHeb7J1OENiW1RiBLKpBZavfPTXKF1Rn1tAwD7Vls\n",
       "/E/HBjxJmOAVDf6uYDGyEZUXbm8P6lb4aBM1768Lm7wCjsqohyJZaYAUje7h8kR2tzb+C3XlcKcB\n",
       "5L3yH4sqQmRm7+Lti2Vja4jhbPa2NV7TOnie9CidfIIWn/tHWJxN4vAFNnvJi+7YkNtpzXgJN+IY\n",
       "F0VzRqvzAHTC7fgtAGGhaTCI9I8IryoYdNBodRF5DHXT/SUJyHVqCaBDhHdMnC9P71GJkY+kKm6v\n",
       "Jz+kSqQMDrUC46mWBlilo8cpOfiDYx7CHcmKBj92iN1CLg0dJzkURbYzSgDFD0EG6vgC30C7iK9i\n",
       "aDU/QZeRmFSKEGIj+KkT67v14M5ahmVOjXCTFkQXTpD2xtC1vWY0Z0lCCUc52AtTwhgIBkYiJEYB\n",
       "aR6TSamy67ADI8Gcsi9megE4Uw0obL6T+q/tWniE77Z37XyA11coI2lJbO4KINaWCdx65Ibv/1dE\n",
       "BkC7SYly2Oy2jAU5qYCwedWcqbPe+4Yq2QI0IBsSdY5EFrguvQp20t2XaRHQLBi2dkesjJ0YuHEQ\n",
       "VOZoVw2GnFTIau7i8FSS7eEnTjbf2bYYycelH3tiehqR1jjSVgJw+/ovVSAI99g/B+6l69mBLqsV\n",
       "QOZVo4mDXM0ahQT6KkCc8SW4NL3lvnd0zuvdDfz5jdTCIv5NB5TAlYVbSGYUhW4OClXQ75uSDBmD\n",
       "Hl0mV+26T+gsaT5I5srj8GQo7bd4ln72rw+fow/haWA2eKly1GPUGugf+X8j5kSiED8UNqbFhef/\n",
       "meNZ6HIChEz5NKl8+7VpGMa3VwSt+tgaadYQsZaQ+4REuOMx8n4jocQvmlwdSOL2vZdB41sY/joH\n",
       "3q9uOx65X52Hj4Wgwynr6fWjkWVgx5Udm3e88+hvuBVMWM83p2d4MhAbUTCSt3EYSDbxIIVJhwSD\n",
       "yzhz10/nIRG8u/meG/UxePUf2xBZ1WX5Hw+Uwpv73RLP83LRRK+0yPMY4GWj2BwP3bhNJ+NaIQ5b\n",
       "UkUv7LLZ9t461sbiI5F+w97MibbqhHKR6ke/tf0OhMoKAdpZLiIMii7oyoieVRJcyYnIrWiCWHz/\n",
       "z/h+qr81sdy/EAxT19e+ZPvwlzZTgpC6MSYBF93zkFxswhTrNz7kbaDekociX6ht6Y8YZJ+d/jHx\n",
       "XiUb2Y72T1610uelSoyRYac2RIlVVsgbDL54uc6pl5R96yPAzFfkw6HKl0gANfTce9rxKdS6a4Ql\n",
       "QNEV0OSoygNPygk+j+gMp07xldXVs02Q6h7s9KGRJ88ZnLL6PL2ybr2HekyqAfDQmdufCXNlt56W\n",
       "0pIoEIq+cbEotwdT/P8A2NEYMwNKiSB2d4+2PFcZ77kgt+ByMncF6fZ7ULqN3DTeIi26m029DQVD\n",
       "RnVEWhuae0L2yBhn/B+NiaIzIV0Yk2vncINUQx7poqKZN7tzXFxRYeBWce0FiT93/NGm+Qdjlfm7\n",
       "/T0fPb1CpifK4pJk7xrO5zTs2CHYDBCQccuhE9RCVoj6TsBrOvJ0xV8LFcraySk7NUsbprvuVFJ/\n",
       "bgm3PiDzF/jqRW9CMg+OOKEvIl6SJ7QKQxSN2p5/Nx0wzNCeehmgfdzcxLFUACSh+MddOJL2e9dV\n",
       "078LAaRIm04v9ZgKgqpbQzN7pg91LMrURZ9T4zNKF1xnbQzrgGReFYSfmlkpyCH0eK1p6m0PoSAo\n",
       "vR99+P9OrDWmdqcXusy32r5qQ/4NQ2Vw3sDJy+Ly2aZGpUWebY+j1tO7t+OAFOnIvZEFpkKd+qhe\n",
       "GQsdnTwG3C6EPtqPA3NnnGToJkB7qrZdLxBIMf9hWP7Y3NBIKmNOwv5sJ4suABW9mVbksnhTE3CR\n",
       "zlwfdKw6SKBGfwRYWxufmQc1eZVQB+kqsef3ghHuw9PEU9jTWbNDeXWgkmdA6XSqF9Qq2s0EI/9p\n",
       "r3gKjFf2Izmd+TUsqnfZynEERQ6HhrJqTkRRJ7+DDauUPlmrBz/7+pFEQjbpx0DazHX0d2XY6dCh\n",
       "f866oJ2g6AfbOO9jgOroFVIsMBD1/5XkNakU4YqvF7HJnNVqGO52D9zwp71CJNUqJPEn+7+WvciL\n",
       "gg8kirGYF5L13MmHDbnP9Un1v8Hn96jrD78eJTh5VoyFA1DmbQh0X9MMPQZJyaAPiSgU+hwYBUj7\n",
       "LEPdXfOD2eWxrDENdY/qr4ix0Pm0vEXIqO2QNTkR/6QQ7SYneDwSEmrXgt8zchckGz4gyByN5D2Z\n",
       "Hr7OPZM7jgJunQ18rhdIYGh1Xwpa325lzU6pNz2T7uq/7zwaCw51e70ffYXd6fsqUL45IM9OC7s7\n",
       "+hRBDXPYaKJEstnHpJz/lq+h7uFL0AcDuAcSSM+tQSy3dCVQC69Rs4BdZT15jSra1mEMGBZpL5Nu\n",
       "aRfzVJ2GmGAyoYSuZn5AcLa+3vDePsMO5ANchNpMJCQ7CChSJ0xf+2LQAGOTzT4DssW5QVth8o4U\n",
       "68o+BGzDcGEY0kVXs9Nzr9WimZR792iZQBEPsS0niA24KZO7MzdlpMMRR9yQIEWM582zt814Krp+\n",
       "4JCnPCXHTDWFSqldYN1BLZ65llPIjW26/cvqGM62qe4d379S/Yh/hhZrZaxSia6O9DBEk4kZ/foV\n",
       "/Pf2upWy/6rcyUbxslTT3LjCwk5estVRae/1vUE2JW4iuHZqmWGrDKG5Cz8U2Df4XQNolaLN3AkW\n",
       "t+VzhtckkEUpos4ZssqAv1SjXdVThnmUpgMoaHw0rPnll9AQJ2LPjdFSG8VKMixyOPZiZe0tmOeb\n",
       "OgvxtSuM1RxnnRK/HL41rcQxeIB2hTla/EsAiTKduMRDWWKaDKqmLjKTBgx1MKttm8jKmcPsEIwg\n",
       "E+PJYcG/zC28J/omuIaySO1gMYxawaR0ozUVSEVKMYZvGdr/WR3ja5dXyojr4fL/x64kRje46r+b\n",
       "+Nd3THgS+QuridagLYD/Z7Zoh01VU2r1zLOsBADDD5fYQQWrZz5vSffnXL/NtmJp9YDi7kr6oFDH\n",
       "xgXlQ6vo3YfRE2L8R4w9nfUTM4lMQ9CGvS3OAv/caMd0effNHXwXf4y6VHyo/w8s4yvvusc8KHfn\n",
       "Oofs+d19xGvInU1NkT981HzXp3rBH9c/R6ddRckGiJ4PoXmC1Ipvcc8QCXuBEUsPTSYvaUEc/Pab\n",
       "xorf9ZgK3k2PHyrBTo783E9VsWzb1xSgfBy/fFPs+mhIjl2bfGbeFze7Rkeyqva7JV7hdSVxg0Eo\n",
       "7cv8sUOvF9Zuv60039+683cV8GwzCzcAoyJhn5dWKuhHV64pHhNPt3ex0okxz7IAqKtErvkYhW55\n",
       "AiC7RdFpHA26i+e00qKqyO4wisLNSf3z5yZnIN3p75Fx/ZXQO1/sxF534plBGBkw9ibTWnS3BvOE\n",
       "DWg8xE47I+D9RyJx8HwEN1U5kQX5xzwLQnIIMpJ9nmbwLX4zWXQdxQXayOW17NOgFsDgp4Y6QR0U\n",
       "4Ia/+NKF9hkmjfOYTdDXUmP8wwSf5RcnIXmPb2BhmZLmSGt0XB4rQNuNeOfpzZOUagSYNnmU/ihU\n",
       "Bx/YB7D99J3r0i7rC232JmwqCizM5C/c5KPPk9WHDy2UeEGxuWF08x6Vhe3ap6xXH+nr7zrwQE5Q\n",
       "Haa0SXG8MH08CUSNBnNz5SJvZgJ/KkoRzVUZquODVSTfLvPwmL5PRCeR6jPG8LIn2yGxOWrh46Ry\n",
       "fSawLg7kiGOie/yP+KSZdGa3D9Bcrg/NJ899lTfwII2Gskf1M8YsiMOj9qynEovoeAkueFGrUXpm\n",
       "HPensQAJAX/TVFLADUkd4720neCz0nLPA4qdqpge0eQdGDvwZruF83g5mcjuRyHoR8PjXFF0VWRg\n",
       "OQflSTvZOWCdpR7UwqjV0jX5XTGz/GyGnTi2gue4Ux7HjC1UnHBfNVK2BQL/RX5Yk/peCi0kIXJy\n",
       "g/WetFmKkIwNiLKcSzBRQiX96Kt9gXzE8Wf+Re6K05eRndBrEPxPw/JT0z+FF1I5cu/ACubV42Pt\n",
       "7RzN5TwpO9cZHMYkovdrOpGiqaa+bl123Yvj3dro+NT2hkfc0Dsih14vrN5Whn7hhAiznFfBw0W8\n",
       "5m0aOSSmprfu27j6gUA3TDaI9PO0tmpg4Gu4LxR9em8fNp68KplIc4Zf8OMTsxXBhejFUVaw3Rlq\n",
       "ZzfF6uCZqRqphM1XDshLy2wb5Edzi6eiktoXGzAotbtsSCbJS7m5fW37rw/2NwZoV4oUPEqlumFP\n",
       "pXmK3OUAWv0xwMtidLVtshXDr1NrT+/jEUqmMtjrEEO2z4tpRGDs1LeqFMtOFnyznfjN704OeCiJ\n",
       "QOC1PK8rC4B5KGTB445cete0C6LRJZQCUeNQnQ7b8gKt+8McTmFiVCE1Yd2TOoR1HWF58zx7a0U8\n",
       "xgl3u8eK9Bs+VdS6UiYFWZ9ubiDy0NLSKq95E/cZPbhDEoCxEBR0mmH6AZclxVj0rgi6UuTrj+oe\n",
       "Cq1kpvGmQ1ikQBSK1Qrlk0zijHiCqlFAGoKV571Muksdx74YQ2Easxgtq5sdVswXQDe94k9dR2wt\n",
       "2wDta9ALMwz3tyrvsWh6dYE1beZ8/HCW4eekzeStXT67iSf3wgW6oBEe5BqjTYdz0fQ15Ic+WAuS\n",
       "Kdtwd2jaN5ze+VbE/soWaohNgChM6XW3eMlIv7N3VrpLXX0INEF7ecPsSdzL72vNgdlFRN3BYKFV\n",
       "qbfvMS0K7zVltx7ZEaJH2GHko+5WVfcJcZTSkOMbOFhMM+caNBIERLK6LXcFZ6DOOaoFjWtZPsPt\n",
       "KwMU9I3mkF2jHSfWNsH3ColqeZLWHaUsF/0eLAht45BGoEsRwZtbUOFhvGKaTb/+yYNIdZJtV3Ip\n",
       "rg8k7xLbHrp7Lt9IcFXgCT4Nt11fz1lCDVGmi9SZGZv+DcFN5GXDHguTkAvu3nikB/W6uee/M8QT\n",
       "StC/ke17Aok/ozYznrHjnB9y9dWiOELCmbM+2FwpkilpulY8Tt3W47dqtYs+NPAAiIMllQTWjjwi\n",
       "nm97pE+xmOlZL+2K3R/V7EASKUXHGJ46ic+dWyzE/DA1C9u8eauXQNFWsxyZjo/91beAhrF9HJN3\n",
       "iP7/cfzS8vOpzKEGuzNTgm1BAu9tQmkb6my7W9lNdyy2Oi5Rh0oFrWfPwp2eIrDFe6Q7MgWck6wm\n",
       "p8YpnFmm5LvHB/w/95wx7ndaDlxxWB27Jmq+GfA1yLE/Fpa7V7tIoIE2J3RT0B0/NjzSo+cUXKYf\n",
       "Ib+k57CLr517igVTZEe1rjPKSYUfHSqfsYXYM8qfxEKTf1u67n8jIGOdYqQqJMJOsPRn/N/4VcAv\n",
       "7JU7YflaWK+GFH1ZUQQmqdLmV8sfMoorxm04dQdirFzncfhhbbB7/ChdDsVh/s43T7UkIE9ku8aU\n",
       "6njLBfU+hPqB8VPgcN1Li9ZPjCQ4uXpDFC7ryYyNcM0+3bCi7zvqdSzOQd732Mv9qGm57eK1qUEy\n",
       "awkai89Wks7kI5wVRsgliTtoxj7af/yhrnOZO6XIUg74206wHu5+g59FO9JXgkJmm/OqOXjXS/tM\n",
       "scU+eYmgJdh933f8c/ueRo5lgWAOnHmZ39EsxxDD7p7D1Fx8HGiCAkcJ0zZJUCLxk2q58KLAp5Wz\n",
       "5MeG5X12X4iRy4ghMQjtQJVALjZ4WEORrLXWCvt62ld9T2GeWd+gv6eDFkCHkQHeOlywAIpRn1zB\n",
       "nYDovxZtBdxdRSQdNE7wX8sdxoQaJSSt1GayzU7Ckz6iTMNF0BqcUj5NvxCkX9OfWCKvMiU+ojnO\n",
       "jCiK2rxSr6sfkujuKOhzRIrk7wrgBGOD/O/qBFpKIztP8un9fKfyRcWXsnDknsnFhqXRky2ORckZ\n",
       "TzvCcZ7CwV9tBFmB1XteunxirpK5YR//EqSkFD5WfihoChKpYxCpDjYoRhLkx70Rtf0lIc10jwRD\n",
       "CK0ewhWRLZ94fIPFgnkC1FlwO3rDdfbvDsXy/4KKnXDrkW7ziYubXw3mzb/uo1X+fOuXsR8OgJec\n",
       "iyBpM/qYvnu3SEVut6Bplb5EfvTnlOVgXKQUPDCZvSBVib8zsQ4/yvW1i7FtSHL9FWPP5xz0YhD6\n",
       "HEPLjnBBFjOfNs3nCm230U01qdDX2oSHygrfv9uk39wbjzvLBF3E4w/ZvF2WCof09Fkdlb4Z4Vwt\n",
       "m+j86GceJHO0Uq10EvsZKCpyhR52y8gx+PfBa3i9I2R5zTts/On6A5XtaepckV4e6ETizYSrve1L\n",
       "517795D8biyHYYvBTOyzHrmo8qV5RLRdQwzWgcwyr14qXADgQkaFosYxmyJIL5mEX72OF9fryF8G\n",
       "cb1sHmxE3x3DTO7dPJcetL9frFA7fDJCKx/Qwb7/94ySqFp+czObsHCTMDF7lhWHqaFeaCoObo2B\n",
       "P8P5r997XPzU/F6asLN3uDuchPqh7wZSSezFg3rNX98uCbcqLF8N343NZp+9gQAvCrj331mzqUB+\n",
       "cxfZD8eiipa1fjoO4wkTcas2q+MoOGKtvCBke5O4m/DWKgY7qEUlJKK4Myyb1kkj4nWb2yJJD7pJ\n",
       "b+Cwj3N7Yb02EA7oVg0v0WcP+YnM/WDL5Xk7LC6OEcUiH1g2XUajv+XAy6GIsWdXVXr5Y1uiIno0\n",
       "FdFmOmII1/Uc1bcr/dCXA1oc1y2newNfDY3sRQO4zG8K+6xGNYQQZV8ZBoGNkKIhWVJu+KRgOOlE\n",
       "0FpfDN4t8H3Kua/ADDaEq54LKgL9Uo13VU4gDEzELU2PovPrfVprd8m4kbLiYCSzP0lU17mJ0WCP\n",
       "4GqBZuVEc9FQd/iRTr9raMSvJtGD4Ot37/tomeoZupcfGH7HmNhVsLX7wckfPvAJ/fDBJFQrLIIz\n",
       "ihGAFN5oowCFx7/xYILH1M2+nxfnwD/yo2hpimd1eggdBHRbGGgD0vxmAkvrpHW8BRVn10cQl6GN\n",
       "+2TQ0HDiAxg82Sk/mnyk/bVtB4Wg155PFInR5WDxBYWv7VCUkanq9DCxQUFimJYrb/9c4TD2dkZT\n",
       "S5siw+GNugEk9SHUES0itT3yOsmqlBvJ39Ft8E9SzY+T/ssHhjauNWCCpuarZyYMn0UR11lJ+qIg\n",
       "2R8DgMUzIk+dyrPPeOw/KodpCnfbunyPI1LNloL7fRbKCzu5ZrrU3HfqxIt+pNFaGapw1dvdWBN6\n",
       "x31ZsmrpWgoofhjauDW/oLBc6POFOWmlSj4U7FJkbzUfJPhX8yhZsfaUCNGZvUUfpJ60bcQDNQYd\n",
       "4PyH/TPvqOW/514QjjkKXfgVxZnJTaebBn9YglDI8hKxIqKherNCShKLmyL4vh4+dfgzpL8PVGwJ\n",
       "XGMjExkvNsrA3r58ZEeXAUwUWeF/F4O0hCK4W+9mTQS7hkP+xHmQhFV4o7z/x4yQrO9waq3q0YkV\n",
       "5Mu8jn12ScFzMCpQ4gKUlRPxRSsB/MfWjRzuGEVlEZFIaeL7YkPnmAAUiZKfleUBCL7TKdZ9OCFC\n",
       "i3rwCz09UL8LXLHtusJx59tSL+1zDuAdrsnSMhhDOzW0U2LAFS6yLWz9uQ2wChQvFluYdT4VRQxZ\n",
       "fMbNql/ptcqKOSpkceBwE2R1zVzs8FjCaoU3kPwRf6IffwhVaNlW5iPFJ8uYicXx0BH0aqpRAzp5\n",
       "u67KU2Rf6l2Od9bNuAxUweeWYnRhRKzzK7DJb4UOvF9ZtLU6clcZbq7gpoqtIia1rMjjtEBSWf8c\n",
       "6Lot8lL9pQvsTGNbiL/fL83TmkCNf+TMLf8V2Y8K1HEF0MsM9x3iIExe14P3AjDXXMnDZczOSgVh\n",
       "YxTffIJVDPsMHjo/VtFfF6Z83NAZYVhuJUktQLdax7dp4wiUhjESxwPdj5uC3p8yqYetifVI/tmK\n",
       "G2N7HivyyvEjVXme0lT12A90CwA48+PfMnSgPQG9N5o96/sYUZB7zriwiOztDnZYxyZTiJlb83rW\n",
       "LM8KSVLfrmmqLG+dwsX0yqrI7+sv0JiLJnlIf4//9+MLuxl14UMvHmuL951rIIulZ+jscOHb2+eC\n",
       "gjrsyFHu1ByhchDXnsRVsLX72OF7IfjfVQGOhulsUHRPeNJaRrM8Lbxq23JPKgoAhr84r3lOgwIY\n",
       "YD6xUDyg3kAARmjAv+o8k6lAAAADAJWBAAATikGaJGxBT/7WjLBLMhfAAObTyEeCGdQHzXTV+SjB\n",
       "dEaoDGGEBM5h3eTPBObyLg+3++oieW9Lctt2Nr4TrddJjalQ37rtvllAWrxlIkl2Tm/jCgRbH2Hc\n",
       "zwRry0V/chVxCS/mxB9UBwCjN3tRPmVjvkdjPHSNRLrkuituRv0VoaTZ3QyY4R0TXUXuvmN6LFwF\n",
       "PXZgXOsOfGQCJE+22EKyyzu4lunQA8KRuMD5MHZ/kzb18XILVpFRWROPsDCbgnNVL328uyTcyfI6\n",
       "FfqHkQTA0RbifLS+DLU5xdBb2xtmpgurl0Mkm5lhZ67tLjSoeWU7Nqod0AZRaUBWS9vstG7ya7vv\n",
       "Skzl8+pU5pVLiVwPkSG3M5A7Act/2kk64GnTbIWk49N0rS0WeVLH34dLHJoPHrhVsfQXQbFFw+or\n",
       "aBrohtRAgiLbj+vEpTaXWdU//eu3si+0ds3x4R6ixgCqA4IgByf4LaXNM2rJfNaiHUK6viu6IVEJ\n",
       "3nCfDftenQtm5UGYHh03HGyZFnY3Sexvb7wlXTPU12huN2JcQb142OM/cAC4lM5Z+1BySoEVK0qe\n",
       "VOP62v9OQW0q15oQy/sAu8i0+94alBmwXj9S6pbsySVF4Fiv+zZc2CDiqOT28j+fhO++j/W568m/\n",
       "h7iwXnAq9NbwFYvLAL4NiMX0X5Q67NMYBThEP083FamaTQuaFxUF8xSkWICs/xy47pkA+tZe6uci\n",
       "ot8amA9BMP1pzAsOCHwY/4kJ8fkdp7zjtqggZTqQWzh1nE7yblunwWJqeiLxaHe/c1pYhtiKpgRF\n",
       "vi79if7zWiZ6+XzXUwO544/oZiPKeR3aEra3OMpVF9iKGhyqm1kHMuu4w6tLjgdJmX7068F8DN90\n",
       "6mKD8mWbgZbIIFISLAqBbJ5BTogXKD0qe/QyI+sp6/HADHUXXQrp+HcNHlglpWzaeE6rFwWWD1M+\n",
       "m8o11CcU5n9B02wLS69qLsmOcdEoHUNxPqHwC/dlMvvD6QkFmvLAAkRvwz88JR3ZP+6gSdW3q5Pf\n",
       "jh8prGNwtLiUm53+c0WYoFxoMtzywZ+o/ovg4cXACDLhA8ysomGOdjOz1neVX7K0uwlMYBXN3pTO\n",
       "dmOAxhgspEb0BJoWS1ns6vc3f2rwoKCWWPqBcJUZyfOGplqHFXzDZmHZ7/y5h0DBmgquq7EXfvUU\n",
       "bELrhC/+vl+RMBncA7RlD96G2p4t0gQlLGjJnrpCtVQJVeKchbs0VXJss9qsIAc5vfR8PUwGfMpT\n",
       "AK61Kumh8hQzkMiLcMwkTezHBk4WBWaKrg9dlAAlaqm5k/nb0lc9vDDyp25jB8Bogg6j3veQNyr7\n",
       "OCCQSBQ8VOyJPxqfdw04T6rLpWjE489ykJram3LMMVB/3Pk1EJHyo5nt1bF4AqtvKg0kprqxBshB\n",
       "Xd8nTaUJhJU0ne6JeVR3FTiTWzRMpoX9cEqRiu8ByFA75N+mLS992cD7vbl6BULtsv5Y95WoDB27\n",
       "L/ZjH0c9s9OyzWKVFJtPco2CzWE2qe9LnH/LdcJzevP7y4B2f7GTiC6gwwGPcK/kl9nw+tv+4KwZ\n",
       "RbJ/Smz/AhbBaHO+5ifEONeTL2m07Q9UFzukC+iqm0Q/B3sklce97aAeT2jJEwyaC1FDVeh8mOCI\n",
       "TZAptnJ8qb1FHmGQXGQ4rsAq6BX5+doTb+rpqx5Cre5t7Nj5NeMe1YkDp0NWJg0FFG8UzlGYraFS\n",
       "AmB5Wdm5Gev/9GmYwthKSHmoxk3w/7qRvQgvci8B+/ElotjMybHlDD91jC+qzXeCjBSq88JaxWHT\n",
       "PhwbPPReJdnRgyv0/4vb5DIQbGTF7AXZ88wGI8pND8FSuCpudUAtCvMQfMSSWe6IU1XfzHlanW+B\n",
       "yTXsoupWcvBtDmVXPX7gXc0P1DIk51pxSxcmo8BX3ch51yvfcq/wRdVzovjy6TcinjnGCExpPO/v\n",
       "bQjqXIQwzGoPFJ7fT9tWZsWg3cn40/T9/RJcAAFMJrUs7sBc16ZDDxT2u4PF6zmLKrRGz9bvjvDy\n",
       "VXPk/Y+Z4ebvhCzRp/fLpcBlezTD6Ssf8YR4J+KZj53M7ax019MhSTfeekfDcd2p5XlSHfBDaEjW\n",
       "QkLcLrjP7WR7Y50k13/Tv5Ie8Ty4DNWKjc6qklRbNzh32+o30uDLNRPWhlk5WTc7/DtsI0YXE3T0\n",
       "qNBcLhiaiJLBEZyaidq2+K2da+lHimQ18Dlf9t9VbIlS9ePiI2AzzLtRShOl8Q1nIh1CYVYPykBs\n",
       "BNFtXuA9/rYcNvMuitBOunnKAQhiC3qdSTrmKZhjLTJ7aKA/8ICZc7W5XKxB4TQl/SURcHDRv2sT\n",
       "r81nFNVIQqG1+aTkMxTiCWXhs/sRT99vytUKFDlgNZf5XFM4LGnOpH2htqcJLOmDhNRp7LgXU7Bh\n",
       "wteaLp3AbmkoN7mZWG9HO2O/9WIBxQpb5xcnucCoGw7ZoVYFVPvttSpvUyOPMRjxODUhIk13zB2E\n",
       "Pg5cT4BVHaUB75zHka77m/EhN/Exh1GM3QIVxmjx9VZA6v7UyzZxzb0nkSPTrvAuXEMvyBfK8gN6\n",
       "ejF3QEOJp/vYMAIeII4TVX+cbNQGGz0zQNTngTene9QgoAsdplb1cPhjNKDNgbzrktSjuxTQiBk0\n",
       "INLRfM6tCTJWhz1QTM/sUoMMfKWd+IXT5w02zN13NvcKAY+3X+TmNNNiGT5Xl6OkbfmZkiaPWN3x\n",
       "tZsQILeFW3p1PexXSOCpWeHpz2fqFAOtjbETSwzSgxIrB8ZrVlpE9p/4W3wEqcm7X+gYlCmQvwLn\n",
       "SVaj6gBd39IluHFJ0fIe3rd3RBvwaxrdkSs+xFg09GcHREtow3UajML15JIL2seAqwq638woJG8k\n",
       "Tzo4NyN4Ti8WKAcgBF2yrVxJWayzPeNKF/FoKSjGgDtDkwt2WN5QqKebadEnOB2A0NBnyyt+xkA1\n",
       "ZhCXeG3blwUAHKYgtcm+Y29jC+4hUXyMua5xNapaZuEG5iTvCGJOpMEgGcI4pf4UuDoHdZvZf2sd\n",
       "NO66D6kxuy7IMjKYoq3JDIhkF9P1XuXgC/7TGqofScHpg28jGasopcd/4t55vGDZY1PMVspcfWjS\n",
       "TSBvfjjcA9c4ya3d/XkfBzZjPg55xcpedkdSlo1620ba6qdKlrz3ifPkDtM8Icluv7b81jfPhSta\n",
       "E8bfQnz8DyKBHcW7QTpHOUQvd45C6jUp/A1dS1vJkTZb318zoyNNTFT4iwU4QLe41gC1lpnGWBgc\n",
       "oCvz09YaMVWyuy2XQebv8X869UQR1KP6AV27Rd8Us0tItXZ7WNbWtJLdzGUlihBHD09qNY8HIpQf\n",
       "xhQn/ooZyScrsYlBUAzWuklZ3qrcaKxPjea5qmb4DarupXeTbIjD6pB6Q4VqCIqK2Gktzp2Vbr9+\n",
       "xeg8ES8N1kJDMgnxRHK0uYdNbHlt9aoEhyrboUcG1kPtz/f/jFMccb2HcsSJsTnDLEuVZDHP/4EE\n",
       "QFeO8VUZ65lOKzBPM3h0ZJmO36YBk4Bdl/h+0mvM+3qeJjAKFNORHo1KTsCDY/YOQQqPFlq16+71\n",
       "abyqGEwfB9ciptZ9ltuJ8sUJSO2+5rWj71MSI0QYi4kHArIDf+23kP7YxBCJX5yBow8sDnXHyINS\n",
       "ChiCZf/+eGXUXG9WYn8nSTNWS2Z/cyy724HZOgz0T75CYXxz1iCFDXJDzfgQhOq2w1h41MDnKgTX\n",
       "7NSPUfrsMWo88+EBTQB9/3o0pCAzQDQkjRb6SGKQAD5naAyjUwgZOeomhMDt5nX9BbybnH0jEdZ4\n",
       "dg+rwi6wIyd9+QVGPAnikwaE1ingROgWpI/qvdQcAKmfuG92lI3S4G1Nwr42twCsVrkQW/POZlPG\n",
       "Nvg3Goz/wtSunJHQ5JJ0m+/PlCgLqdYJy0xEn2IWYXeSuQsi5q3GJRpiYPeIi9WwsBCF1h96aBHu\n",
       "G9VzFvFNzwjrqiSj/8gqg77imOmdJap8mBfv30wNXi0jES5HLhnfvusOn6IKCj2t4Jg4bJmO2GoI\n",
       "htV04cDsT6fkiVLecNGKW4rv/NlreKgeLHXW4XWFaJKRtAcnMrK2/HuCzZSTfjyYQ4TOQeUQY670\n",
       "EbWpws+zJa8V4ABfuN2eqTlxJug02P7ZKnc/NKkpi/fGer19WkD7YKJfcOXUliOfntdNf0Dhba40\n",
       "Kfp0FuZuTy+fU7gW9z1glHYrT+lv1MctM/F2Q7/SmhCtldx30sODbo9wWM9YwdwbcVU0tqBehvFF\n",
       "iHmn1jk5rpZYaki+mL3PfIDAyAS8IundUxayOhkW1cPkcoDrziil77DVwKjgqOo70CAiPyHbpUJY\n",
       "hEc108jJEo5Jtk+CkB7qkzGCWw/Wmy5quaK20a3AGVu4J9aGYZlG7vvgODEfh1JNybDEREQmV67B\n",
       "vGaXG0265mwKu8qyDHePrfjD17LirZXigAmFfl0jxJT8dULvfFcfpYGFvZuTe9etqbmtcjbnoxJu\n",
       "ljYxEpKCgE7DYWh9o+XHNoWGEJcpVSa758xC5SbbaNoZFpPfZZazPlinF7Y7wl+ugycXAZ4t/Axp\n",
       "caXbVW6Ob1dm0x1YDrTSFMfTE6HxmzKqv29inhzEK9lOgLOYBzAeLpre1fzfsOpNoZYWdsXlW8hL\n",
       "O9gRH2+Uz9giwT1U3PoONmePgC57834Vj2yXQs93UEQb9Y/3zNfsroo9UrWg5/hn4vkKJsvQs1Ao\n",
       "LETyuQSZPcB7NFfHkM2N8aAwk1leth54gLi2fM/6W3ZQ4elYnmDGDv3UCfQAGC9c9lRG5+NRd7Yh\n",
       "5N8leQu5rdzHVv9TI1g+j/N0X8alJ2YZ4Hf2yalzmU8+ztR2cQaWjPDACzwHJ48U6QPQb7uF17it\n",
       "7qYYT5HSNg3GbVSs4HYihBwCM0zATmyoakBKbNQVKYxlNwvnOWzsKaxLPr2d5NTylIDs3Fql8NCh\n",
       "aa1tzzYaKrkR0u4kKvQUe3iQCwM/e6ZxfFsFx7Wt+XHuYFtLoPtif/lB5rO0+2VuNRzBnhCqbL3F\n",
       "PnJ6c+EkUyBsyvRcL+K48uT4W4tgCr/mHrfnkX8zBG2iGkrNwxEBia0BVwXuhF+d03E0TQfDCOYE\n",
       "f+V3Sq/7CcMB08L7FQ3S+9PrQazeL6l24oblTyStwsv+JT/dkWzj3hMi+7XGyftiWbS80XIWUA9v\n",
       "I6rwnhvwo2jRfaSm8HkgI040V8sLy8q24jGFqYl8lja4xaTSxHVrFy58swN3CN+bWTnYVSd4Vo3u\n",
       "M/X6BvViir6D/uR6mg5v/IJ/qLv4bcRSc0qrvCF+CI6IfFlqUnUFgms71mvPVtCxacUAQjxhs/tB\n",
       "9tzBvhMHQzh2E7ejlQfh8yZGAlhI0wELWhyLTwpuziqvPvZtJxNL5JKnFDulC6q6g4OX0TGWfoGd\n",
       "dUAUQpAGB/S6l/oR0aJ+yOwKIu0lA403yUfmolSKWobhLflk1uqeY0X/i9kkE6Y2JCa7zMc3hAAK\n",
       "Sm1v4udAti2VUXXjxgRV84ZDg0zMIhKyeMfpbS9Q/oki3iyFlhh6jrumDdfrJj5vf1Phw4qQH/M/\n",
       "h3EyNBwUaLpIolMd2kRR8cAW6xaTbM06fSMMx+KzdBRpYG1eJNAGLMaD52g8Vwb+Wsryfifi25ca\n",
       "datb2RlxRYtMF/a7CcesJfCMkYW8U7xH0x0xu7N/jLAerBr53kgWKB7sF8VDJJHQptimnxVsL/9W\n",
       "vpOzAq68ylQl8UZS/Dva3+0UCLvrfX4Rwe1S7LYG9qKv7pS0nN9+7rEnPg7k0JDk0A3pMB58PaY0\n",
       "JLoCdsqX9dLbE8+FZDMU3l8/11vBE500UzGCq7yv2mBMt1Ibr9meHiXWjjXiNuESnAux4zUu6rOu\n",
       "kCC0J3L48p7k2h2yHAfTue7AgN9ZBbSaUrdTm2/U1lWCv8MzUf6MqPYtFAe7PFg5wcxZKkA0oTHO\n",
       "r09v88+sxsEZzt9CAwJAkmo0TmhEO0MrN8FkTJbCa1uqwWv8Vb64osDKVO3l6x7ujiGwllFveqxm\n",
       "xkyH/xTWdC6JM1JtWAPj2OU9qTHWSvoTo2I/L37XxMpeIY5nYTlBpK1cCYyFqiGN1/T5U+nzMhSM\n",
       "LjiYDUg/5cWfEoAVbDGyuVF3w6dXd9iPw5zJzqzjG0SfEDYbgg//hscOlX0GAe6aw8iD/sZ7RtzH\n",
       "jkKq+zcQTLuenqC3GgJ4liM3rq6EnWacaynnwEg5ozONznSQo4Zbinj1CBFFImW4KjB/X9ILQZzG\n",
       "U5FY9X+aPsbvwW/mcBOeZt0VHOwT+bBe6YnV01urW5YGG0SIoampieLkeHbinZq2BhjzTc53hqe5\n",
       "aziLaEeiY+om6iQ/Lqk3jwNV84gWmi81B5QmuMZFIFKVP9A962NT8Kcyn5BUcK/ugUkHI4xEpVFF\n",
       "dfIf8cJ7p7//gZj23f5yKBOd55ELf5ZUASf01rNYpHLMaXRcq+yFFpNsVqyER3mhZ9R7Ql3DEYJw\n",
       "On74xyFre2x8v3OZ0pZWpFdkoiR03lAgLTmtjxDFtB1YaWffgGXjyN2h3FGiRQB5vR+4O6OSFbjX\n",
       "BBKpayyqrrUEbiCxPAy5/xB6yQVAShp9yl7rFs683g6NP+dbCMzD9ZTu/1mejGWYuQ0zRDXQbLLp\n",
       "pF+Hd1jx7lC8pi+wDJ109utqyCR7zFhfzdDSIJM1225IT1W/VgKrUE9NTaQR0NyCaVBqusPT0SVP\n",
       "DtddsQP2/OY5fIgAR8AAAAHYQZ5CeIKfAA2NonkzRwACd1MicVzqUIJBRuM8Ps19lcPl7XHHYeak\n",
       "qpRac6wFMQfbIx4RgKmPA+XY1DoO9l7Ocoj5ZzfFgQX9G9Y8pgBXEUqv+3QcTnAg2uLT/pboqok5\n",
       "xgLM0NYWzNdS6vpn9CO8H0TfF5Z2t5jRlZTaD9Ih4zSZHZEI6zNRh79fAx1WcgupaJ19BQxkEVpa\n",
       "JQoNYUTPBByiwZ5HqdDckDpMyjfPJEYABHjwr3dHtfqkz2NKSc4DuMMq1JH0Jxb2DpRZi9splubS\n",
       "e2b/c/d4Rf128DkMqiDvcfGAWu2HCYHEaVw32NyOZK8u9QwERqFWe4qGpklTsQhiY1QLcyya4DGs\n",
       "jINwR0YGyQlTjaMAs5clXVNeWRired8zPht6p6fQBnqBAFWDyNVhfPOY7NWRODokUn7H4xb2uC5t\n",
       "uzW/aW16YXeykPKvSCGN6bsRolCWaNZW/0DsV3taH5K7BTQw3r7AQ0kQ+sJ2qKnJUXAkibG0MhBE\n",
       "4BLmwRpZZHVu2e7uRzSYVX6WLrvxqAT6rE6zRfXAKzQCL1NkzDXRv4aNetFhGD/9zXJRqQcOO+eb\n",
       "PhD/DbK6dfZj4RQtiOw3wFTbQgCOJqLlnRC4euDaT2BAwQAAA1wBnmF0QS8AIrbz0+pXdA9QAEu5\n",
       "yQXub18RMT44DzRTNIsiyow2nxhWvQGEfsMgZimxVnTMn4+u4VHCWv9JMOl/xBBXfUkUdIH1QgIH\n",
       "uaOpeeEbA9AHOMPacvVE1XmaYSER0jXamSc+q0otv3LW8Yyjdv0KEDRcwN3MrKl4HXY1lGrJNHlT\n",
       "PwX+KQf8kdGNEV1l2YEmlblryhQNZqJ4sADjUPa5VhhOeazUTjFfsgE/y9C+uPs/nm1PTQwkaOtE\n",
       "8dbTropaf1wgDA9fp91faX6f4G77DFbwz6Q4583mO3lAW3Im/8kbXbxdM0bzhpHXJsORNlcSAr6t\n",
       "IUygNWIQoiaorWypRm4V6XHrBCPdu80O/5UIEN7dqZ2T5aM+rmROsBl7KmoUaE4WWMZYRWWs7RKv\n",
       "ZgeT6PR5Kw0jcWIk3YTy4EVQI0/QNjpF8+wEcGLgdTr8FsmE3lfDNWJcZ6Try7/N01ly8QHTLdjz\n",
       "a2jmVfslwUx/eJxUJEVx24sRlOoQ8nI1AFYFWBqcJwGuqG4q6bpNyU4JTfCLD/VMvBr+rK7USVam\n",
       "3R0axG9g2HPjRXLo+X0v5L6cPb7jUzZ1NI1MAUFX4FbDXUdSebJdFmmKt83Uim3PmQjx173a8ak/\n",
       "V8vFopv9zizPAt98Hm9vzNCm5WUoABItdVoV2J0LpGyFu+HoEszuEhJtKfohz01vUpE7F+pSzEzv\n",
       "bg13HSd4uagaNZHghRZJnInhEW4RrtP68nW9eSUQ6O9JSpYCwyqGtGLy7vGhh3E337U+/2zt/n/1\n",
       "wies9ekiTFSQyQLpVyj9S1a6Efp8e4vcVb2jlCUWHhvbLSZuHhr77mrgTEzaeM7oH//acanxXKZ8\n",
       "nFbkbpL6hOyT9Z9uI4nu7AOnNy5WnRX5xRvaCiz12XIt40i5pZD9vxVo1xSTDTUNtePreaEM6S0u\n",
       "xhjCipRMUA5q7SgQDsRS3gd9uD1zUVIz6yAekrxgGR2b9YrkdEkB144RcTAJ6uho5oocTNCXHJuq\n",
       "+U4dIGqzN/uo0r8Jmz1MYhozpwqshj9ljIYdNz+MPQI0M+ouq7hx/IAoaKhyjyy3Zz6h2enZtw8C\n",
       "eo57alL2kL5+0M+I1GjIPfrZPPq/KZKL0txuxSjbttqJq/A+01OMUmA+YAAAAKkBnmNqQS8AFlxG\n",
       "42/+oACXc5IPOgQaDlc+DnzPyC2R6eQdlM2EcFpQKxYLLH1zX77etYce/zI1+Vgtr+5g+BWj2d1u\n",
       "9DIDh5uvrjdpxMbhpuxjC7ioLMGKpDd4AwFEBO0bGg1yLrhfo1RI1h1/NWq9/DNFRFCGEDo75c2/\n",
       "ux+mGoiMWhkeY4s4faddl62XyFFyF464hd76gp69YHc6hRmvHh4ByPJjkHdBAAAApkGaZUmoQWiZ\n",
       "TAgl//61KoBac4UkDk/qAAl3BR+0QFw8vFH3llv+qRBGSyBhLI5iliVGhu6OZWdPoZOlo6+Mz5bc\n",
       "veYuRd7lGUAAAAMAAAMAAAQ7ErfaIXBuNRs+7VOZkI8Tg3cbc3vfdtUywIgUzyAuv+FM5GLlwFfA\n",
       "BNCaGUPu1mWj3vLdjoR1Cjz44+nVLjf3mMxdJpWdWK0tiMAw55bIjoGw2UEAAAN3bW9vdgAAAGxt\n",
       "dmhkAAAAAAAAAAAAAAAAAAAD6AAAC7gAAQAAAQAAAAAAAAAAAAAAAAEAAAAAAAAAAAAAAAAAAAAB\n",
       "AAAAAAAAAAAAAAAAAABAAAAAAAAAAAAAAAAAAAAAAAAAAAAAAAAAAAAAAAAAAgAAAqF0cmFrAAAA\n",
       "XHRraGQAAAADAAAAAAAAAAAAAAABAAAAAAAAC7gAAAAAAAAAAAAAAAAAAAAAAAEAAAAAAAAAAAAA\n",
       "AAAAAAABAAAAAAAAAAAAAAAAAABAAAAABRAAAAGwAAAAAAAkZWR0cwAAABxlbHN0AAAAAAAAAAEA\n",
       "AAu4AABAAAABAAAAAAIZbWRpYQAAACBtZGhkAAAAAAAAAAAAAAAAAABAAAAAwABVxAAAAAAALWhk\n",
       "bHIAAAAAAAAAAHZpZGUAAAAAAAAAAAAAAABWaWRlb0hhbmRsZXIAAAABxG1pbmYAAAAUdm1oZAAA\n",
       "AAEAAAAAAAAAAAAAACRkaW5mAAAAHGRyZWYAAAAAAAAAAQAAAAx1cmwgAAAAAQAAAYRzdGJsAAAA\n",
       "tHN0c2QAAAAAAAAAAQAAAKRhdmMxAAAAAAAAAAEAAAAAAAAAAAAAAAAAAAAABRABsABIAAAASAAA\n",
       "AAAAAAABAAAAAAAAAAAAAAAAAAAAAAAAAAAAAAAAAAAAAAAAAAAAGP//AAAAMmF2Y0MBZAAf/+EA\n",
       "GWdkAB+s2UBRDehAAAADAEAAAAMBA8YMZYABAAZo6+PLIsAAAAAcdXVpZGtoQPJfJE/FujmlG88D\n",
       "I/MAAAAAAAAAGHN0dHMAAAAAAAAAAQAAAAYAACAAAAAAFHN0c3MAAAAAAAAAAQAAAAEAAABAY3R0\n",
       "cwAAAAAAAAAGAAAAAQAAQAAAAAABAACgAAAAAAEAAEAAAAAAAQAAAAAAAAABAAAgAAAAAAEAAEAA\n",
       "AAAAHHN0c2MAAAAAAAAAAQAAAAEAAAAGAAAAAQAAACxzdHN6AAAAAAAAAAAAAAAGAABKgwAAE44A\n",
       "AAHcAAADYAAAAK0AAACqAAAAFHN0Y28AAAAAAAAAAQAAACwAAABidWR0YQAAAFptZXRhAAAAAAAA\n",
       "ACFoZGxyAAAAAAAAAABtZGlyYXBwbAAAAAAAAAAAAAAAAC1pbHN0AAAAJal0b28AAAAdZGF0YQAA\n",
       "AAEAAAAATGF2ZjU3LjgzLjEwMA==\n",
       "\">\n",
       "  Your browser does not support the video tag.\n",
       "</video>"
      ],
      "text/plain": [
       "<IPython.core.display.HTML object>"
      ]
     },
     "metadata": {},
     "output_type": "display_data"
    },
    {
     "data": {
      "text/plain": [
       "<Figure size 432x288 with 0 Axes>"
      ]
     },
     "metadata": {},
     "output_type": "display_data"
    },
    {
     "data": {
      "image/png": "[encoded data removed]",
      "text/plain": [
       "<Figure size 432x432 with 1 Axes>"
      ]
     },
     "metadata": {
      "needs_background": "light"
     },
     "output_type": "display_data"
    },
    {
     "data": {
      "image/png": "[encoded data removed]",
      "text/plain": [
       "<Figure size 864x432 with 6 Axes>"
      ]
     },
     "metadata": {
      "needs_background": "light"
     },
     "output_type": "display_data"
    },
    {
     "data": {
      "image/png": "[encoded data removed]",
      "text/plain": [
       "<Figure size 864x432 with 2 Axes>"
      ]
     },
     "metadata": {
      "needs_background": "light"
     },
     "output_type": "display_data"
    },
    {
     "data": {
      "image/png": "[encoded data removed]",
      "text/plain": [
       "<Figure size 864x432 with 2 Axes>"
      ]
     },
     "metadata": {
      "needs_background": "light"
     },
     "output_type": "display_data"
    },
    {
     "data": {
      "image/png": "[encoded data removed]",
      "text/plain": [
       "<Figure size 864x432 with 2 Axes>"
      ]
     },
     "metadata": {
      "needs_background": "light"
     },
     "output_type": "display_data"
    }
   ],
   "source": [
    "%matplotlib inline\n",
    "#Make animation of fitting process\n",
    "from matplotlib.animation import FuncAnimation\n",
    "from IPython import display\n",
    "\n",
    "plotting_grammar = SpatialSceneGrammar(\n",
    "    root_node_type = Root,\n",
    "    root_node_tf = torch.eye(4)\n",
    ")\n",
    "em = all_result_dicts[11][\"grammar_fit_em_histories\"][0]\n",
    "X = all_result_dicts[11][\"X\"]\n",
    "\n",
    "\n",
    "plt.figure()\n",
    "em.plot_grammar_parameter_history(Root)\n",
    "for mode in Modes:\n",
    "    print(mode.__name__, \":\")\n",
    "    em.plot_grammar_parameter_history(mode)\n",
    "\n",
    "    \n",
    "fig, axs = plt.subplots(1, 3)\n",
    "#fig.set_dpi(100)\n",
    "\n",
    "fig.set_size_inches(18, 6)\n",
    "plt.suptitle(\"MIP-parse + EM fit\")\n",
    "def update(frame):\n",
    "    plotting_grammar.load_state_dict(em.grammar_iters[frame])\n",
    "    for ax in axs:\n",
    "        ax.cla()\n",
    "    make_figure_for_grammar(plotting_grammar, X, axs)\n",
    "    plt.suptitle(\"MIP-parse + EM fit, iter %02d\" % frame)\n",
    "    for ax in axs:\n",
    "        ax.set_xlim([-10., 10.])\n",
    "        ax.set_ylim([0., 0.7])\n",
    "ani = FuncAnimation(fig, update, frames=range(len(em.grammar_iters)), blit=False, interval=500.)\n",
    "video = ani.to_html5_video()\n",
    "html = display.HTML(video)\n",
    "display.display(html)\n",
    "plt.close()                   # avoid plotting a spare static plot"
   ]
  },
  {
   "cell_type": "markdown",
   "metadata": {},
   "source": [
    "# Run GMM EM and Grammar EM in lockstep"
   ]
  },
  {
   "cell_type": "code",
   "execution_count": null,
   "metadata": {},
   "outputs": [],
   "source": [
    "seed = 15\n",
    "N_samples = 50\n",
    "N_steps = 3\n",
    "target_grammar, X = make_target_grammar_and_data(seed, N_samples)\n",
    "\n",
    "init_gmm = make_random_gmm(seed + 1)\n",
    "init_grammar = convert_gmm_to_grammar(init_gmm)\n",
    "\n",
    "# Get optimal parse for one datapoint\n",
    "for k in range(X.shape[0]):\n",
    "    test_observed_points = [Point(tf=drake_tf_to_torch_tf(RigidTransform(p=X[k, :])))]\n",
    "    inference_results = infer_mle_tree_with_mip(\n",
    "            init_grammar, test_observed_points, max_scene_extent_in_any_dir=15, N_solutions=3\n",
    "    )\n",
    "    mip_optimized_trees = get_optimized_trees_from_mip_results(inference_results)\n",
    "    if len(mip_optimized_trees) < 3:\n",
    "        print(\"Didn't get enough trees. What gives?\")\n",
    "        print(\"X: \", X[k, :])\n",
    "        print(\"Means: \", init_gmm.means_)\n",
    "    scores = [mip_optimized_trees[j].score(include_discrete=True).detach().item() for j in range(3)]\n",
    "    gmm_scores = init_gmm._estimate_weighted_log_prob(X[k:(k+1), :]).flatten()\n",
    "    for score in scores:\n",
    "        if np.min(np.abs(gmm_scores - score)) > 1E-2:\n",
    "            print(\"Mismatch\")\n",
    "            print(scores, gmm_scores)"
   ]
  },
  {
   "cell_type": "code",
   "execution_count": null,
   "metadata": {},
   "outputs": [],
   "source": [
    "log_prob_norm, log_resp = init_gmm._e_step(X)\n",
    "nk = (np.exp(log_resp).sum(axis=0)) / X.shape[0]\n",
    "new_weights,  new_means, new_vars = sklearn.mixture._gaussian_mixture._estimate_gaussian_parameters(\n",
    "            X, np.exp(log_resp), 1E-6, \"diag\"\n",
    ")\n",
    "new_weights /= X.shape[0]\n",
    "print(\"gmm update: \\n\", \"weights: \", new_weights, \"\\nmeans: \",new_means, \"\\nvars: \", new_vars)\n",
    "\n",
    "# But doing it with this doesn't get me the same result\n",
    "new_gmm = convert_grammar_to_gmm(do_sklearn_gmm_fit(X, init_gmm.weights_, init_gmm.means_, init_gmm.covariances_, 1))\n",
    "print(\"But using fitting routine: \", \"weights: \", new_gmm.weights_)"
   ]
  },
  {
   "cell_type": "code",
   "execution_count": null,
   "metadata": {},
   "outputs": [],
   "source": [
    "gmm_fit_grammars = [\n",
    "    do_sklearn_gmm_fit(X, init_gmm.weights_, init_gmm.means_, init_gmm.covariances_, k+1)\n",
    "    for k in range(N_steps)\n",
    "]\n",
    "gmm_fit_grammars.insert(0, convert_gmm_to_grammar(init_gmm))\n",
    "grammar_fit_grammar, em_history = do_grammar_gmm_fit(\n",
    "    X, init_gmm.weights_, init_gmm.means_, init_gmm.covariances_, N_steps\n",
    ")"
   ]
  },
  {
   "cell_type": "code",
   "execution_count": null,
   "metadata": {},
   "outputs": [],
   "source": [
    "ref_weights_history = []\n",
    "my_weights_history = []\n",
    "ref_means_history = []\n",
    "my_means_history = []\n",
    "plotting_grammar = SpatialSceneGrammar(\n",
    "    root_node_type = Root,\n",
    "    root_node_tf = torch.eye(4)\n",
    ")\n",
    "for k in range(N_steps):\n",
    "    ref_gmm = convert_grammar_to_gmm(gmm_fit_grammars[k])\n",
    "    ref_weights_history.append(ref_gmm.weights_)\n",
    "    ref_means_history.append(ref_gmm.means_)\n",
    "    print(\"ref weights: \", ref_gmm.weights_)\n",
    "    plotting_grammar.load_state_dict(em_history.grammar_iters[k])\n",
    "    my_gmm = convert_grammar_to_gmm(plotting_grammar)\n",
    "    my_weights_history.append(my_gmm.weights_)\n",
    "    my_means_history.append(my_gmm.means_)\n",
    "    \n",
    "plt.figure()\n",
    "plt.subplot(2, 1, 1)\n",
    "plt.title(\"Ref\")\n",
    "ref_weight_history = np.stack(ref_weights_history)\n",
    "plt.plot(ref_weight_history, label=\"Reference\")\n",
    "plt.ylim([0., 1.])\n",
    "plt.subplot(2, 1, 2)\n",
    "plt.title(\"Mine\")\n",
    "my_weight_history = np.stack(my_weights_history)\n",
    "plt.plot(my_weight_history, label=\"Mine\")\n",
    "plt.ylim([0., 1.])\n",
    "plt.tight_layout()\n",
    "\n",
    "print(ref_means_history)\n",
    "print(my_means_history)\n",
    "    \n",
    "fig, axs = plt.subplots(2, 3)\n",
    "#fig.set_dpi(100)\n",
    "\n",
    "fig.set_size_inches(18, 6)\n",
    "plt.suptitle(\"MIP-parse + EM fit\")\n",
    "def update(frame):\n",
    "    plotting_grammar.load_state_dict(em_history.grammar_iters[frame])\n",
    "    for ax in axs.flatten():\n",
    "        ax.cla()\n",
    "    make_figure_for_grammar(plotting_grammar, X, axs[0, :])\n",
    "    make_figure_for_grammar(gmm_fit_grammars[frame], X, axs[1, :])\n",
    "    plt.suptitle(\"Mine (top), baseline (bottom), iter %02d\" % frame)\n",
    "    for ax in axs.flatten():\n",
    "        ax.set_xlim([-10., 10.])\n",
    "        ax.set_ylim([0., 0.7])\n",
    "ani = FuncAnimation(fig, update, frames=range(len(em_history.grammar_iters)), blit=False, interval=500.)\n",
    "video = ani.to_html5_video()\n",
    "html = display.HTML(video)\n",
    "display.display(html)\n",
    "plt.close()              \n"
   ]
  },
  {
   "cell_type": "code",
   "execution_count": null,
   "metadata": {},
   "outputs": [],
   "source": [
    "inference_results = infer_mle_tree_with_mip(\n",
    "        grammar_fit_grammar, [Point(tf=drake_tf_to_torch_tf(RigidTransform(p=[9., 3., 5.])))], verbose=True,\n",
    "        max_scene_extent_in_any_dir=20,\n",
    "        N_solutions=3\n",
    ")\n",
    "mip_optimized_trees = get_optimized_trees_from_mip_results(inference_results)\n",
    "for k in range(3):\n",
    "    print(mip_optimized_trees[k].score(), mip_optimized_trees[k].nodes)"
   ]
  },
  {
   "cell_type": "code",
   "execution_count": null,
   "metadata": {},
   "outputs": [],
   "source": []
  }
 ],
 "metadata": {
  "kernelspec": {
   "display_name": "py36_pyro",
   "language": "python",
   "name": "py36_pyro"
  },
  "language_info": {
   "codemirror_mode": {
    "name": "ipython",
    "version": 3
   },
   "file_extension": ".py",
   "mimetype": "text/x-python",
   "name": "python",
   "nbconvert_exporter": "python",
   "pygments_lexer": "ipython3",
   "version": "3.6.13"
  }
 },
 "nbformat": 4,
 "nbformat_minor": 4
}
