{
 "cells": [
  {
   "cell_type": "code",
   "execution_count": 1,
   "metadata": {},
   "outputs": [],
   "source": [
    "%load_ext autoreload\n",
    "%autoreload 2\n",
    "\n",
    "import matplotlib.pyplot as plt\n",
    "import networkx as nx\n",
    "import numpy as np\n",
    "import sklearn\n",
    "from sklearn.mixture import GaussianMixture\n",
    "import scipy as sp\n",
    "import os\n",
    "import pickle\n",
    "import time\n",
    "from tqdm.notebook import tqdm\n",
    "\n",
    "import torch\n",
    "torch.set_default_tensor_type(torch.DoubleTensor)\n",
    "\n",
    "from spatial_scene_grammars.nodes import *\n",
    "from spatial_scene_grammars.rules import *\n",
    "from spatial_scene_grammars.scene_grammar import *\n",
    "from spatial_scene_grammars.visualization import *\n",
    "from spatial_scene_grammars_examples.gmm.grammar import *\n",
    "from spatial_scene_grammars.parsing import *\n",
    "from spatial_scene_grammars.sampling import *\n",
    "from spatial_scene_grammars.parameter_estimation import *"
   ]
  },
  {
   "cell_type": "code",
   "execution_count": 2,
   "metadata": {},
   "outputs": [],
   "source": [
    "def convert_grammar_to_gmm(grammar):\n",
    "    weights = grammar.params_by_node_type[Root.__name__]().detach().numpy()\n",
    "    means_init = []\n",
    "    vars_init = []\n",
    "    for mode in Modes:\n",
    "        mode_name = mode.__name__\n",
    "        mean = grammar.rule_params_by_node_type[mode_name][0][0][\"mean\"]().detach().numpy()\n",
    "        var = grammar.rule_params_by_node_type[mode_name][0][0][\"variance\"]().detach().numpy()\n",
    "        means_init.append(mean)\n",
    "        vars_init.append(var)\n",
    "    means_init = np.stack(means_init)\n",
    "    vars_init = np.stack(vars_init)\n",
    "    return make_gmm_without_fitting(weights, means_init, vars_init)\n",
    "\n",
    "def make_gmm_without_fitting(weights_init, means_init, vars_init):\n",
    "    gmm = GaussianMixture(\n",
    "        n_components=3,\n",
    "        covariance_type=\"diag\"\n",
    "    )\n",
    "    gmm.weights_ = deepcopy(weights_init)\n",
    "    gmm.means_ = deepcopy(means_init)\n",
    "    gmm.covariances_ = deepcopy(vars_init)\n",
    "    gmm.precisions_ = 1./deepcopy(vars_init)\n",
    "    gmm.precisions_cholesky_ = 1.0 / np.sqrt(vars_init)\n",
    "    gmm.converged_ = True\n",
    "    return gmm\n",
    "\n",
    "def convert_gmm_to_grammar(gmm):\n",
    "    grammar = SpatialSceneGrammar(\n",
    "        root_node_type = Root,\n",
    "        root_node_tf = torch.eye(4),\n",
    "        sample_params_from_prior=True\n",
    "    )\n",
    "    rule_probs_param = grammar.params_by_node_type[Root.__name__]\n",
    "    rule_probs_param.set(torch.tensor(deepcopy(gmm.weights_)))\n",
    "    for k, mode in enumerate(Modes):\n",
    "        mode_name = mode.__name__\n",
    "        mean_param = grammar.rule_params_by_node_type[mode_name][0][0][\"mean\"]\n",
    "        var_param = grammar.rule_params_by_node_type[mode_name][0][0][\"variance\"]\n",
    "        mean_param.set(torch.tensor(deepcopy(gmm.means_[k, :])))\n",
    "        var_param.set(torch.tensor(deepcopy(gmm.covariances_[k, :])))\n",
    "    return grammar\n",
    "\n",
    "\n",
    "def make_random_gmm(seed):\n",
    "    pyro.set_rng_seed(seed)\n",
    "    # Come up with weights / means / variances manually\n",
    "    weights = dist.Dirichlet(torch.ones(3)).sample().detach().numpy()\n",
    "    means = dist.Uniform(torch.ones(3, 3)*-10., torch.ones(3, 3)*10.).sample().detach().numpy()\n",
    "    vars = dist.Uniform(torch.ones(3, 3)*0.5, torch.ones(3, 3)*1.0).sample().detach().square().numpy()\n",
    "    return make_gmm_without_fitting(weights, means, vars)\n",
    "    \n",
    "def make_target_grammar_and_data(seed, N):\n",
    "    gmm = make_random_gmm(seed)\n",
    "    X = gmm.sample(N)[0]\n",
    "    return convert_gmm_to_grammar(gmm), X    \n",
    "    \n",
    "N_EM_ITERS_DEFAULT = 5\n",
    "def do_sklearn_gmm_fit(X, weights_init, means_init, vars_init, n_em_iters=N_EM_ITERS_DEFAULT):\n",
    "    gmm = make_gmm_without_fitting(weights_init, means_init, vars_init)\n",
    "    # Run EM updates myself, copying internal code. I'm having trouble\n",
    "    # forcing it to accept my initialization; I think this line\n",
    "    # https://github.com/scikit-learn/scikit-learn/blob/0d378913be6d7e485b792ea36e9268be31ed52d0/sklearn/mixture/_gaussian_mixture.py#L730\n",
    "    # should initialize to the sqrt instead of the covariance...\n",
    "    for iter_k in range(n_em_iters):\n",
    "        log_prob_norm, log_resp = gmm._e_step(X)\n",
    "        gmm._m_step(X, log_resp)\n",
    "    return convert_gmm_to_grammar(gmm)\n",
    "\n",
    "\n",
    "def do_grammar_gmm_fit(X, weights_init, means_init, vars_init, n_em_iters=N_EM_ITERS_DEFAULT):\n",
    "    # Make fitting grammar\n",
    "    fit_grammar = SpatialSceneGrammar(\n",
    "        root_node_type = Root,\n",
    "        root_node_tf = torch.eye(4),\n",
    "        sample_params_from_prior=True\n",
    "    )\n",
    "    rule_probs_param = fit_grammar.params_by_node_type[Root.__name__]\n",
    "    rule_probs_param.set(torch.tensor(deepcopy(weights_init)))\n",
    "    for k, mode in enumerate(Modes):\n",
    "        mode_name = mode.__name__\n",
    "        mean_param = fit_grammar.rule_params_by_node_type[mode_name][0][0][\"mean\"]\n",
    "        var_param = fit_grammar.rule_params_by_node_type[mode_name][0][0][\"variance\"]\n",
    "        mean_param.set(torch.tensor(deepcopy(means_init[k, :])))\n",
    "        var_param.set(torch.tensor(deepcopy(vars_init[k, :])))\n",
    "    \n",
    "    observed_nodes = []\n",
    "    for x in X:\n",
    "        observed_nodes.append([Point(tf=drake_tf_to_torch_tf(RigidTransform(p=x)))])\n",
    "    # Don't clip weights to keep them finite; in this case we won't be infeasible\n",
    "    # if we do set some weights to zero, and it's a thing that the baseline EM approach\n",
    "    # doesn't do.\n",
    "    em = EMWrapper(fit_grammar, observed_nodes, max_scene_extent_in_any_dir=20)\n",
    "    em.do_iterated_em_fitting(em_iterations=n_em_iters, tqdm=tqdm, N_solutions=3, num_workers=10,\n",
    "                   min_weight=1E-6, weight_by_sample_prob=True)\n",
    "    return fit_grammar, em"
   ]
  },
  {
   "cell_type": "code",
   "execution_count": 3,
   "metadata": {},
   "outputs": [
    {
     "data": {
      "image/png": "[encoded data removed]",
      "text/plain": [
       "<Figure size 432x288 with 3 Axes>"
      ]
     },
     "metadata": {
      "needs_background": "light"
     },
     "output_type": "display_data"
    }
   ],
   "source": [
    "target_grammar, X = make_target_grammar_and_data(11, 1000)\n",
    "\n",
    "\n",
    "def plot_grammar_modes(grammar, axs):\n",
    "    xs = np.linspace(-15, 15, 1000)\n",
    "    for k, label in enumerate(\"xyz\"):\n",
    "        rule_probs_param = grammar.params_by_node_type[Root.__name__]\n",
    "        modes = []\n",
    "        for mode in Modes:\n",
    "            mode_name = mode.__name__\n",
    "            mean_param = grammar.rule_params_by_node_type[mode_name][0][0][\"mean\"]\n",
    "            var_param = grammar.rule_params_by_node_type[mode_name][0][0][\"variance\"]\n",
    "            modes.append((mean_param(), var_param()))\n",
    "\n",
    "        for mode_k, (prob, mode) in enumerate(zip(rule_probs_param().detach().numpy(), modes)):\n",
    "            mode = torch.exp(dist.Normal(mode[0][k], mode[1][k]).log_prob(torch.tensor(xs))).detach().numpy() * prob\n",
    "            axs[k].plot(xs, mode, label=\"Mode %d\" % mode_k)\n",
    "\n",
    "def plot_grammar_samples(grammar, axs, X):\n",
    "    for k, label in enumerate(\"xyz\"):\n",
    "        axs[k].hist(X[:, k], bins=50, alpha=0.5, density=True)\n",
    "        \n",
    "def make_figure_for_grammar(grammar, X, axs):\n",
    "    plot_grammar_modes(grammar, axs)\n",
    "    plot_grammar_samples(grammar, axs, X)\n",
    "\n",
    "fig, axs = plt.subplots(1, 3)\n",
    "make_figure_for_grammar(target_grammar, X, axs)"
   ]
  },
  {
   "cell_type": "code",
   "execution_count": null,
   "metadata": {},
   "outputs": [
    {
     "name": "stdout",
     "output_type": "stream",
     "text": [
      "Rerunning experiment...\n"
     ]
    },
    {
     "data": {
      "application/vnd.jupyter.widget-view+json": {
       "model_id": "fa3f93e9c95841d1b28c059010c2e9bb",
       "version_major": 2,
       "version_minor": 0
      },
      "text/plain": [
       "  0%|          | 0/30 [00:00<?, ?it/s]"
      ]
     },
     "metadata": {},
     "output_type": "display_data"
    },
    {
     "data": {
      "application/vnd.jupyter.widget-view+json": {
       "model_id": "300db8cda4904f5d9e8a74bafb3e779a",
       "version_major": 2,
       "version_minor": 0
      },
      "text/plain": [
       "EM Iteration:   0%|          | 0/5 [00:00<?, ?it/s]"
      ]
     },
     "metadata": {},
     "output_type": "display_data"
    },
    {
     "data": {
      "application/vnd.jupyter.widget-view+json": {
       "model_id": "4002146feee84ff89dda5c779cda450f",
       "version_major": 2,
       "version_minor": 0
      },
      "text/plain": [
       "  0%|          | 0/100 [00:00<?, ?it/s]"
      ]
     },
     "metadata": {},
     "output_type": "display_data"
    },
    {
     "data": {
      "application/vnd.jupyter.widget-view+json": {
       "model_id": "fc7bbbcf9dfe4c5b829ae15580c5369c",
       "version_major": 2,
       "version_minor": 0
      },
      "text/plain": [
       "  0%|          | 0/100 [00:00<?, ?it/s]"
      ]
     },
     "metadata": {},
     "output_type": "display_data"
    },
    {
     "data": {
      "application/vnd.jupyter.widget-view+json": {
       "model_id": "0210dab8ec7a4e83937a958bfb4f6813",
       "version_major": 2,
       "version_minor": 0
      },
      "text/plain": [
       "  0%|          | 0/100 [00:00<?, ?it/s]"
      ]
     },
     "metadata": {},
     "output_type": "display_data"
    },
    {
     "data": {
      "application/vnd.jupyter.widget-view+json": {
       "model_id": "b8a3f07caf4f4980a6569814cc1c556e",
       "version_major": 2,
       "version_minor": 0
      },
      "text/plain": [
       "  0%|          | 0/100 [00:00<?, ?it/s]"
      ]
     },
     "metadata": {},
     "output_type": "display_data"
    },
    {
     "data": {
      "application/vnd.jupyter.widget-view+json": {
       "model_id": "d20557a1fd014e67867be17206d4d93a",
       "version_major": 2,
       "version_minor": 0
      },
      "text/plain": [
       "  0%|          | 0/100 [00:00<?, ?it/s]"
      ]
     },
     "metadata": {},
     "output_type": "display_data"
    },
    {
     "data": {
      "application/vnd.jupyter.widget-view+json": {
       "model_id": "fc3e78bd9bac4e64a4b194c7fd80fc8e",
       "version_major": 2,
       "version_minor": 0
      },
      "text/plain": [
       "EM Iteration:   0%|          | 0/5 [00:00<?, ?it/s]"
      ]
     },
     "metadata": {},
     "output_type": "display_data"
    },
    {
     "data": {
      "application/vnd.jupyter.widget-view+json": {
       "model_id": "cad0b2cf99e448daae85a7fe05029b03",
       "version_major": 2,
       "version_minor": 0
      },
      "text/plain": [
       "  0%|          | 0/100 [00:00<?, ?it/s]"
      ]
     },
     "metadata": {},
     "output_type": "display_data"
    },
    {
     "data": {
      "application/vnd.jupyter.widget-view+json": {
       "model_id": "0ebc1f847b884d34959712c4ce4056ea",
       "version_major": 2,
       "version_minor": 0
      },
      "text/plain": [
       "  0%|          | 0/100 [00:00<?, ?it/s]"
      ]
     },
     "metadata": {},
     "output_type": "display_data"
    },
    {
     "data": {
      "application/vnd.jupyter.widget-view+json": {
       "model_id": "5e30d1fbffa34826ac2ef3a328f66274",
       "version_major": 2,
       "version_minor": 0
      },
      "text/plain": [
       "  0%|          | 0/100 [00:00<?, ?it/s]"
      ]
     },
     "metadata": {},
     "output_type": "display_data"
    },
    {
     "data": {
      "application/vnd.jupyter.widget-view+json": {
       "model_id": "2e73356021614728928942f0761eeb62",
       "version_major": 2,
       "version_minor": 0
      },
      "text/plain": [
       "  0%|          | 0/100 [00:00<?, ?it/s]"
      ]
     },
     "metadata": {},
     "output_type": "display_data"
    },
    {
     "data": {
      "application/vnd.jupyter.widget-view+json": {
       "model_id": "bca97adbe83d402da5d3d8095337970f",
       "version_major": 2,
       "version_minor": 0
      },
      "text/plain": [
       "  0%|          | 0/100 [00:00<?, ?it/s]"
      ]
     },
     "metadata": {},
     "output_type": "display_data"
    },
    {
     "data": {
      "application/vnd.jupyter.widget-view+json": {
       "model_id": "00b017a7600044c6910a08bc43af3e84",
       "version_major": 2,
       "version_minor": 0
      },
      "text/plain": [
       "EM Iteration:   0%|          | 0/5 [00:00<?, ?it/s]"
      ]
     },
     "metadata": {},
     "output_type": "display_data"
    },
    {
     "data": {
      "application/vnd.jupyter.widget-view+json": {
       "model_id": "310da3335826427085643f3c83611c72",
       "version_major": 2,
       "version_minor": 0
      },
      "text/plain": [
       "  0%|          | 0/100 [00:00<?, ?it/s]"
      ]
     },
     "metadata": {},
     "output_type": "display_data"
    },
    {
     "data": {
      "application/vnd.jupyter.widget-view+json": {
       "model_id": "1aeb06dddfc347f69d288b79c940ab7d",
       "version_major": 2,
       "version_minor": 0
      },
      "text/plain": [
       "  0%|          | 0/100 [00:00<?, ?it/s]"
      ]
     },
     "metadata": {},
     "output_type": "display_data"
    },
    {
     "data": {
      "application/vnd.jupyter.widget-view+json": {
       "model_id": "757c1b89038942ea832e479bdcb1d32e",
       "version_major": 2,
       "version_minor": 0
      },
      "text/plain": [
       "  0%|          | 0/100 [00:00<?, ?it/s]"
      ]
     },
     "metadata": {},
     "output_type": "display_data"
    },
    {
     "data": {
      "application/vnd.jupyter.widget-view+json": {
       "model_id": "34dfea6aaef947e2a8b0ff5460f2badf",
       "version_major": 2,
       "version_minor": 0
      },
      "text/plain": [
       "  0%|          | 0/100 [00:00<?, ?it/s]"
      ]
     },
     "metadata": {},
     "output_type": "display_data"
    },
    {
     "data": {
      "application/vnd.jupyter.widget-view+json": {
       "model_id": "abe035f0c21f42109122b28ed4ad5a5e",
       "version_major": 2,
       "version_minor": 0
      },
      "text/plain": [
       "  0%|          | 0/100 [00:00<?, ?it/s]"
      ]
     },
     "metadata": {},
     "output_type": "display_data"
    },
    {
     "data": {
      "application/vnd.jupyter.widget-view+json": {
       "model_id": "480ec9dd73ce40b887a4d56a2a67455e",
       "version_major": 2,
       "version_minor": 0
      },
      "text/plain": [
       "EM Iteration:   0%|          | 0/5 [00:00<?, ?it/s]"
      ]
     },
     "metadata": {},
     "output_type": "display_data"
    },
    {
     "data": {
      "application/vnd.jupyter.widget-view+json": {
       "model_id": "24f998f6bce5482b95631540d8f51286",
       "version_major": 2,
       "version_minor": 0
      },
      "text/plain": [
       "  0%|          | 0/100 [00:00<?, ?it/s]"
      ]
     },
     "metadata": {},
     "output_type": "display_data"
    },
    {
     "data": {
      "application/vnd.jupyter.widget-view+json": {
       "model_id": "896cbf04965a4445ad96f523ad6e54db",
       "version_major": 2,
       "version_minor": 0
      },
      "text/plain": [
       "  0%|          | 0/100 [00:00<?, ?it/s]"
      ]
     },
     "metadata": {},
     "output_type": "display_data"
    },
    {
     "data": {
      "application/vnd.jupyter.widget-view+json": {
       "model_id": "b823253a670840b6bb60e4d4b8b615e6",
       "version_major": 2,
       "version_minor": 0
      },
      "text/plain": [
       "  0%|          | 0/100 [00:00<?, ?it/s]"
      ]
     },
     "metadata": {},
     "output_type": "display_data"
    },
    {
     "data": {
      "application/vnd.jupyter.widget-view+json": {
       "model_id": "f02bf81df8194ca087b7d2b46e51eae9",
       "version_major": 2,
       "version_minor": 0
      },
      "text/plain": [
       "  0%|          | 0/100 [00:00<?, ?it/s]"
      ]
     },
     "metadata": {},
     "output_type": "display_data"
    },
    {
     "data": {
      "application/vnd.jupyter.widget-view+json": {
       "model_id": "a82e4e67049d431b9b7f271a7e950d5b",
       "version_major": 2,
       "version_minor": 0
      },
      "text/plain": [
       "  0%|          | 0/100 [00:00<?, ?it/s]"
      ]
     },
     "metadata": {},
     "output_type": "display_data"
    },
    {
     "data": {
      "application/vnd.jupyter.widget-view+json": {
       "model_id": "aa0289d16af1471692503e02c199b69d",
       "version_major": 2,
       "version_minor": 0
      },
      "text/plain": [
       "EM Iteration:   0%|          | 0/5 [00:00<?, ?it/s]"
      ]
     },
     "metadata": {},
     "output_type": "display_data"
    },
    {
     "data": {
      "application/vnd.jupyter.widget-view+json": {
       "model_id": "8c3f7e23d805441895f59e76095ab55c",
       "version_major": 2,
       "version_minor": 0
      },
      "text/plain": [
       "  0%|          | 0/100 [00:00<?, ?it/s]"
      ]
     },
     "metadata": {},
     "output_type": "display_data"
    },
    {
     "data": {
      "application/vnd.jupyter.widget-view+json": {
       "model_id": "4185c442a3a1476ba9cfb4cef1f1da5c",
       "version_major": 2,
       "version_minor": 0
      },
      "text/plain": [
       "  0%|          | 0/100 [00:00<?, ?it/s]"
      ]
     },
     "metadata": {},
     "output_type": "display_data"
    },
    {
     "data": {
      "application/vnd.jupyter.widget-view+json": {
       "model_id": "1cb1243a73fc45f5a8bb7fe898d45620",
       "version_major": 2,
       "version_minor": 0
      },
      "text/plain": [
       "  0%|          | 0/100 [00:00<?, ?it/s]"
      ]
     },
     "metadata": {},
     "output_type": "display_data"
    },
    {
     "data": {
      "application/vnd.jupyter.widget-view+json": {
       "model_id": "3ed6365407234d0792fe6999f6b94b02",
       "version_major": 2,
       "version_minor": 0
      },
      "text/plain": [
       "  0%|          | 0/100 [00:00<?, ?it/s]"
      ]
     },
     "metadata": {},
     "output_type": "display_data"
    },
    {
     "data": {
      "application/vnd.jupyter.widget-view+json": {
       "model_id": "5370ba965e4b4ea7a26832d123443b48",
       "version_major": 2,
       "version_minor": 0
      },
      "text/plain": [
       "  0%|          | 0/100 [00:00<?, ?it/s]"
      ]
     },
     "metadata": {},
     "output_type": "display_data"
    },
    {
     "data": {
      "application/vnd.jupyter.widget-view+json": {
       "model_id": "fbfbfd456ce24d76a11496644de90536",
       "version_major": 2,
       "version_minor": 0
      },
      "text/plain": [
       "EM Iteration:   0%|          | 0/5 [00:00<?, ?it/s]"
      ]
     },
     "metadata": {},
     "output_type": "display_data"
    },
    {
     "data": {
      "application/vnd.jupyter.widget-view+json": {
       "model_id": "f563afd96ce24ddab5cead1426cdd086",
       "version_major": 2,
       "version_minor": 0
      },
      "text/plain": [
       "  0%|          | 0/100 [00:00<?, ?it/s]"
      ]
     },
     "metadata": {},
     "output_type": "display_data"
    },
    {
     "data": {
      "application/vnd.jupyter.widget-view+json": {
       "model_id": "b5258b0107f149b38e01220accdef1a8",
       "version_major": 2,
       "version_minor": 0
      },
      "text/plain": [
       "  0%|          | 0/100 [00:00<?, ?it/s]"
      ]
     },
     "metadata": {},
     "output_type": "display_data"
    },
    {
     "data": {
      "application/vnd.jupyter.widget-view+json": {
       "model_id": "24459e8afb754ecfb1992fedf69b6320",
       "version_major": 2,
       "version_minor": 0
      },
      "text/plain": [
       "  0%|          | 0/100 [00:00<?, ?it/s]"
      ]
     },
     "metadata": {},
     "output_type": "display_data"
    },
    {
     "data": {
      "application/vnd.jupyter.widget-view+json": {
       "model_id": "fff7e124d55d4a1e9c3188c40e27159a",
       "version_major": 2,
       "version_minor": 0
      },
      "text/plain": [
       "  0%|          | 0/100 [00:00<?, ?it/s]"
      ]
     },
     "metadata": {},
     "output_type": "display_data"
    },
    {
     "data": {
      "application/vnd.jupyter.widget-view+json": {
       "model_id": "5dc3f3c795ac412aa549be1a6c113ca9",
       "version_major": 2,
       "version_minor": 0
      },
      "text/plain": [
       "  0%|          | 0/100 [00:00<?, ?it/s]"
      ]
     },
     "metadata": {},
     "output_type": "display_data"
    },
    {
     "data": {
      "application/vnd.jupyter.widget-view+json": {
       "model_id": "9e7f0736ff1348c3af81999ba7d51773",
       "version_major": 2,
       "version_minor": 0
      },
      "text/plain": [
       "EM Iteration:   0%|          | 0/5 [00:00<?, ?it/s]"
      ]
     },
     "metadata": {},
     "output_type": "display_data"
    },
    {
     "data": {
      "application/vnd.jupyter.widget-view+json": {
       "model_id": "7f0d8d81593e4a6a94ca5ebc6c946d04",
       "version_major": 2,
       "version_minor": 0
      },
      "text/plain": [
       "  0%|          | 0/100 [00:00<?, ?it/s]"
      ]
     },
     "metadata": {},
     "output_type": "display_data"
    },
    {
     "data": {
      "application/vnd.jupyter.widget-view+json": {
       "model_id": "0e2b6a714fc1401389be0e410aaa23a0",
       "version_major": 2,
       "version_minor": 0
      },
      "text/plain": [
       "  0%|          | 0/100 [00:00<?, ?it/s]"
      ]
     },
     "metadata": {},
     "output_type": "display_data"
    },
    {
     "data": {
      "application/vnd.jupyter.widget-view+json": {
       "model_id": "c0195a58d175490bbf00612c86a49f49",
       "version_major": 2,
       "version_minor": 0
      },
      "text/plain": [
       "  0%|          | 0/100 [00:00<?, ?it/s]"
      ]
     },
     "metadata": {},
     "output_type": "display_data"
    },
    {
     "data": {
      "application/vnd.jupyter.widget-view+json": {
       "model_id": "6c0922fa4ba04f9dac32a14cce2317c5",
       "version_major": 2,
       "version_minor": 0
      },
      "text/plain": [
       "  0%|          | 0/100 [00:00<?, ?it/s]"
      ]
     },
     "metadata": {},
     "output_type": "display_data"
    },
    {
     "data": {
      "application/vnd.jupyter.widget-view+json": {
       "model_id": "35ddd0f5b97245eaaa83014cfe565a9f",
       "version_major": 2,
       "version_minor": 0
      },
      "text/plain": [
       "  0%|          | 0/100 [00:00<?, ?it/s]"
      ]
     },
     "metadata": {},
     "output_type": "display_data"
    },
    {
     "data": {
      "application/vnd.jupyter.widget-view+json": {
       "model_id": "5c39ae04f88e4614b2e92fb81d9927ce",
       "version_major": 2,
       "version_minor": 0
      },
      "text/plain": [
       "EM Iteration:   0%|          | 0/5 [00:00<?, ?it/s]"
      ]
     },
     "metadata": {},
     "output_type": "display_data"
    },
    {
     "data": {
      "application/vnd.jupyter.widget-view+json": {
       "model_id": "2f4350c8a3674d178bab2a161d6e42d1",
       "version_major": 2,
       "version_minor": 0
      },
      "text/plain": [
       "  0%|          | 0/100 [00:00<?, ?it/s]"
      ]
     },
     "metadata": {},
     "output_type": "display_data"
    },
    {
     "data": {
      "application/vnd.jupyter.widget-view+json": {
       "model_id": "3d4ba28fa94c411bbb0667555ac76f16",
       "version_major": 2,
       "version_minor": 0
      },
      "text/plain": [
       "  0%|          | 0/100 [00:00<?, ?it/s]"
      ]
     },
     "metadata": {},
     "output_type": "display_data"
    },
    {
     "data": {
      "application/vnd.jupyter.widget-view+json": {
       "model_id": "e71825844b7f409482e3376f6dd9dd68",
       "version_major": 2,
       "version_minor": 0
      },
      "text/plain": [
       "  0%|          | 0/100 [00:00<?, ?it/s]"
      ]
     },
     "metadata": {},
     "output_type": "display_data"
    },
    {
     "data": {
      "application/vnd.jupyter.widget-view+json": {
       "model_id": "8f4bb100354644d6ae4aff6512f1a1ad",
       "version_major": 2,
       "version_minor": 0
      },
      "text/plain": [
       "  0%|          | 0/100 [00:00<?, ?it/s]"
      ]
     },
     "metadata": {},
     "output_type": "display_data"
    },
    {
     "data": {
      "application/vnd.jupyter.widget-view+json": {
       "model_id": "6be3960ce01c49f7a6c4ad0f361bb5af",
       "version_major": 2,
       "version_minor": 0
      },
      "text/plain": [
       "  0%|          | 0/100 [00:00<?, ?it/s]"
      ]
     },
     "metadata": {},
     "output_type": "display_data"
    },
    {
     "data": {
      "application/vnd.jupyter.widget-view+json": {
       "model_id": "1d089c6a51cf42c0a01d4d60ff6c1ea4",
       "version_major": 2,
       "version_minor": 0
      },
      "text/plain": [
       "EM Iteration:   0%|          | 0/5 [00:00<?, ?it/s]"
      ]
     },
     "metadata": {},
     "output_type": "display_data"
    },
    {
     "data": {
      "application/vnd.jupyter.widget-view+json": {
       "model_id": "a26b9ff3b154430facc2c03416a9adc3",
       "version_major": 2,
       "version_minor": 0
      },
      "text/plain": [
       "  0%|          | 0/100 [00:00<?, ?it/s]"
      ]
     },
     "metadata": {},
     "output_type": "display_data"
    },
    {
     "data": {
      "application/vnd.jupyter.widget-view+json": {
       "model_id": "4cd5f4b75bb549b1a48dc7818b679aba",
       "version_major": 2,
       "version_minor": 0
      },
      "text/plain": [
       "  0%|          | 0/100 [00:00<?, ?it/s]"
      ]
     },
     "metadata": {},
     "output_type": "display_data"
    },
    {
     "data": {
      "application/vnd.jupyter.widget-view+json": {
       "model_id": "8a0cbd520436419ca0416a4febd8b12d",
       "version_major": 2,
       "version_minor": 0
      },
      "text/plain": [
       "  0%|          | 0/100 [00:00<?, ?it/s]"
      ]
     },
     "metadata": {},
     "output_type": "display_data"
    },
    {
     "data": {
      "application/vnd.jupyter.widget-view+json": {
       "model_id": "25dce2cf01b446f891b4b0fa9a8154ed",
       "version_major": 2,
       "version_minor": 0
      },
      "text/plain": [
       "  0%|          | 0/100 [00:00<?, ?it/s]"
      ]
     },
     "metadata": {},
     "output_type": "display_data"
    },
    {
     "data": {
      "application/vnd.jupyter.widget-view+json": {
       "model_id": "5cde21497dfd40a9ae79d812a2db955a",
       "version_major": 2,
       "version_minor": 0
      },
      "text/plain": [
       "  0%|          | 0/100 [00:00<?, ?it/s]"
      ]
     },
     "metadata": {},
     "output_type": "display_data"
    },
    {
     "data": {
      "application/vnd.jupyter.widget-view+json": {
       "model_id": "4f76f087b5d543df88a5c13dc9b7c3b4",
       "version_major": 2,
       "version_minor": 0
      },
      "text/plain": [
       "EM Iteration:   0%|          | 0/5 [00:00<?, ?it/s]"
      ]
     },
     "metadata": {},
     "output_type": "display_data"
    },
    {
     "data": {
      "application/vnd.jupyter.widget-view+json": {
       "model_id": "60f62a79caa34c1b908ee9cda4fd9038",
       "version_major": 2,
       "version_minor": 0
      },
      "text/plain": [
       "  0%|          | 0/100 [00:00<?, ?it/s]"
      ]
     },
     "metadata": {},
     "output_type": "display_data"
    },
    {
     "data": {
      "application/vnd.jupyter.widget-view+json": {
       "model_id": "3c882eae512943f8a1939b7318a696df",
       "version_major": 2,
       "version_minor": 0
      },
      "text/plain": [
       "  0%|          | 0/100 [00:00<?, ?it/s]"
      ]
     },
     "metadata": {},
     "output_type": "display_data"
    },
    {
     "data": {
      "application/vnd.jupyter.widget-view+json": {
       "model_id": "600fdac6f05b4362806fdbc09512ac9f",
       "version_major": 2,
       "version_minor": 0
      },
      "text/plain": [
       "  0%|          | 0/100 [00:00<?, ?it/s]"
      ]
     },
     "metadata": {},
     "output_type": "display_data"
    },
    {
     "data": {
      "application/vnd.jupyter.widget-view+json": {
       "model_id": "441877bbc36f4ad4816e14ff40041650",
       "version_major": 2,
       "version_minor": 0
      },
      "text/plain": [
       "  0%|          | 0/100 [00:00<?, ?it/s]"
      ]
     },
     "metadata": {},
     "output_type": "display_data"
    },
    {
     "data": {
      "application/vnd.jupyter.widget-view+json": {
       "model_id": "799cbbeb9b424939b444c0f4a36e19c6",
       "version_major": 2,
       "version_minor": 0
      },
      "text/plain": [
       "  0%|          | 0/100 [00:00<?, ?it/s]"
      ]
     },
     "metadata": {},
     "output_type": "display_data"
    },
    {
     "data": {
      "application/vnd.jupyter.widget-view+json": {
       "model_id": "6e4c73d1dac647e6952e85481e080ba0",
       "version_major": 2,
       "version_minor": 0
      },
      "text/plain": [
       "EM Iteration:   0%|          | 0/5 [00:00<?, ?it/s]"
      ]
     },
     "metadata": {},
     "output_type": "display_data"
    },
    {
     "data": {
      "application/vnd.jupyter.widget-view+json": {
       "model_id": "3fb67f75d9e8458d9ddd3ec4646f5e02",
       "version_major": 2,
       "version_minor": 0
      },
      "text/plain": [
       "  0%|          | 0/100 [00:00<?, ?it/s]"
      ]
     },
     "metadata": {},
     "output_type": "display_data"
    },
    {
     "data": {
      "application/vnd.jupyter.widget-view+json": {
       "model_id": "1e5d6510a9e3488eb20b08e0ea8b88d3",
       "version_major": 2,
       "version_minor": 0
      },
      "text/plain": [
       "  0%|          | 0/100 [00:00<?, ?it/s]"
      ]
     },
     "metadata": {},
     "output_type": "display_data"
    },
    {
     "data": {
      "application/vnd.jupyter.widget-view+json": {
       "model_id": "51bc41ab8a3747f5a89cd072b7eba1c6",
       "version_major": 2,
       "version_minor": 0
      },
      "text/plain": [
       "  0%|          | 0/100 [00:00<?, ?it/s]"
      ]
     },
     "metadata": {},
     "output_type": "display_data"
    },
    {
     "data": {
      "application/vnd.jupyter.widget-view+json": {
       "model_id": "f15cc194901f442e8af98fb9fac82e4a",
       "version_major": 2,
       "version_minor": 0
      },
      "text/plain": [
       "  0%|          | 0/100 [00:00<?, ?it/s]"
      ]
     },
     "metadata": {},
     "output_type": "display_data"
    },
    {
     "data": {
      "application/vnd.jupyter.widget-view+json": {
       "model_id": "77d4aa7eea964e55b5525cbce9db8b1f",
       "version_major": 2,
       "version_minor": 0
      },
      "text/plain": [
       "  0%|          | 0/100 [00:00<?, ?it/s]"
      ]
     },
     "metadata": {},
     "output_type": "display_data"
    },
    {
     "data": {
      "application/vnd.jupyter.widget-view+json": {
       "model_id": "0c91656b28e444809afff8923424494b",
       "version_major": 2,
       "version_minor": 0
      },
      "text/plain": [
       "EM Iteration:   0%|          | 0/5 [00:00<?, ?it/s]"
      ]
     },
     "metadata": {},
     "output_type": "display_data"
    },
    {
     "data": {
      "application/vnd.jupyter.widget-view+json": {
       "model_id": "203ee4f56e634bb69f19d9099d9f0c14",
       "version_major": 2,
       "version_minor": 0
      },
      "text/plain": [
       "  0%|          | 0/100 [00:00<?, ?it/s]"
      ]
     },
     "metadata": {},
     "output_type": "display_data"
    }
   ],
   "source": [
    "def do_comparison_run(seed, N_samples=100, N_restarts=1):\n",
    "    assert seed >= 0\n",
    "    target_grammar, X = make_target_grammar_and_data(seed, N_samples)\n",
    "    gmm_fit_grammars = []\n",
    "    grammar_fit_grammars = []\n",
    "    em_histories = []\n",
    "    init_gmms = []\n",
    "    for k in range(N_restarts):\n",
    "        init_gmm = make_random_gmm(seed + k + 1)\n",
    "        gmm_fit_grammars.append(do_sklearn_gmm_fit(X, init_gmm.weights_, init_gmm.means_, init_gmm.covariances_))\n",
    "        grammar_fit_grammar, em_history = do_grammar_gmm_fit(X, init_gmm.weights_, init_gmm.means_, init_gmm.covariances_)\n",
    "        grammar_fit_grammars.append(grammar_fit_grammar)\n",
    "        em_histories.append(em_history)\n",
    "        init_gmms.append(init_gmm)\n",
    "    return {\n",
    "        \"target_grammar\": target_grammar,\n",
    "        \"X\": X,\n",
    "        \"init_gmms\": init_gmms,\n",
    "        \"gmm_fit_grammars\": gmm_fit_grammars,\n",
    "        \"grammar_fit_grammars\": grammar_fit_grammars,\n",
    "        \"grammar_fit_em_histories\": em_histories\n",
    "    }\n",
    "\n",
    "def do_comparison_runs(N_runs, save_file):\n",
    "    if os.path.exists(save_file):\n",
    "        os.remove(save_file)\n",
    "    for k in tqdm(range(N_runs)):\n",
    "        res_dict = do_comparison_run(k)\n",
    "        with open(save_file, 'ab') as fp:\n",
    "            pickle.dump(res_dict,fp)\n",
    "\n",
    "FILENAME = \"test_runs_with_restarts.pickle\"\n",
    "RERUN = True\n",
    "if RERUN or not os.path.exists(FILENAME):\n",
    "    print(\"Rerunning experiment...\")\n",
    "    do_comparison_runs(30, FILENAME)\n",
    "else:\n",
    "    print(\"Experiment not being rerun.\")"
   ]
  },
  {
   "cell_type": "markdown",
   "metadata": {},
   "source": [
    "# Plot results"
   ]
  },
  {
   "cell_type": "code",
   "execution_count": null,
   "metadata": {},
   "outputs": [],
   "source": [
    "all_result_dicts = []\n",
    "with open(FILENAME, \"rb\") as fp:\n",
    "    try:\n",
    "        while True:\n",
    "            all_result_dicts.append(pickle.load(fp))\n",
    "    except EOFError:\n",
    "        pass\n",
    "print(\"Loaded %d experiment runs\" % len(all_result_dicts))"
   ]
  },
  {
   "cell_type": "code",
   "execution_count": null,
   "metadata": {},
   "outputs": [],
   "source": [
    "# Histogram of errors\n",
    "# Extract a large number of samples from the GT and fit models,\n",
    "# and compare their distance to the GT distribution as a sum of\n",
    "# the 1D EMD (Wasserstein) distances.\n",
    "def get_best_model_error(gt_sample, fit_samples):\n",
    "    return min([\n",
    "        sum([sp.stats.wasserstein_distance(gt_sample[:, k], fit_sample[:, k]) for k in range(3)])\n",
    "        for fit_sample in fit_samples\n",
    "    ])\n",
    "def make_scatter_of_errors(all_result_dicts, N_samples=100000):\n",
    "    gmm_errs = []\n",
    "    grammar_errs = []\n",
    "    for result_dict in all_result_dicts:\n",
    "        gt_samples = convert_grammar_to_gmm(result_dict[\"target_grammar\"]).sample(N_samples)[0]\n",
    "        gmm_fit_samples = [\n",
    "            convert_grammar_to_gmm(gmm_fit_grammar).sample(N_samples)[0]\n",
    "            for gmm_fit_grammar in result_dict[\"gmm_fit_grammars\"]\n",
    "        ]\n",
    "        grammar_fit_samples = [\n",
    "            convert_grammar_to_gmm(grammar_fit_grammar).sample(N_samples)[0]\n",
    "            for grammar_fit_grammar in result_dict[\"grammar_fit_grammars\"]\n",
    "        ]\n",
    "        gmm_errs.append(get_best_model_error(gt_samples, gmm_fit_samples))\n",
    "        grammar_errs.append(get_best_model_error(gt_samples, grammar_fit_samples))\n",
    "    plt.scatter(gmm_errs, grammar_errs)\n",
    "    plt.xlabel(\"GMM EM Fit Error\")\n",
    "    plt.ylabel(\"Grammar EM Fit Error\")\n",
    "    print(grammar_errs)\n",
    "    plt.plot(np.arange(0., 10.), np.arange(0., 10.), linestyle=\"--\", c=\"green\")\n",
    "make_scatter_of_errors(all_result_dicts)"
   ]
  },
  {
   "cell_type": "code",
   "execution_count": null,
   "metadata": {},
   "outputs": [],
   "source": [
    "%matplotlib inline\n",
    "#Make animation of fitting process\n",
    "from matplotlib.animation import FuncAnimation\n",
    "from IPython import display\n",
    "\n",
    "plotting_grammar = SpatialSceneGrammar(\n",
    "    root_node_type = Root,\n",
    "    root_node_tf = torch.eye(4)\n",
    ")\n",
    "em = all_result_dicts[11][\"grammar_fit_em_histories\"][0]\n",
    "X = all_result_dicts[11][\"X\"]\n",
    "\n",
    "\n",
    "plt.figure()\n",
    "em.plot_grammar_parameter_history(Root)\n",
    "for mode in Modes:\n",
    "    print(mode.__name__, \":\")\n",
    "    em.plot_grammar_parameter_history(mode)\n",
    "\n",
    "    \n",
    "fig, axs = plt.subplots(1, 3)\n",
    "#fig.set_dpi(100)\n",
    "\n",
    "fig.set_size_inches(18, 6)\n",
    "plt.suptitle(\"MIP-parse + EM fit\")\n",
    "def update(frame):\n",
    "    plotting_grammar.load_state_dict(em.grammar_iters[frame])\n",
    "    for ax in axs:\n",
    "        ax.cla()\n",
    "    make_figure_for_grammar(plotting_grammar, X, axs)\n",
    "    plt.suptitle(\"MIP-parse + EM fit, iter %02d\" % frame)\n",
    "    for ax in axs:\n",
    "        ax.set_xlim([-10., 10.])\n",
    "        ax.set_ylim([0., 0.7])\n",
    "ani = FuncAnimation(fig, update, frames=range(len(em.grammar_iters)), blit=False, interval=500.)\n",
    "video = ani.to_html5_video()\n",
    "html = display.HTML(video)\n",
    "display.display(html)\n",
    "plt.close()                   # avoid plotting a spare static plot"
   ]
  },
  {
   "cell_type": "markdown",
   "metadata": {},
   "source": [
    "# Run GMM EM and Grammar EM in lockstep"
   ]
  },
  {
   "cell_type": "code",
   "execution_count": null,
   "metadata": {},
   "outputs": [],
   "source": [
    "seed = 15\n",
    "N_samples = 50\n",
    "N_steps = 3\n",
    "target_grammar, X = make_target_grammar_and_data(seed, N_samples)\n",
    "\n",
    "init_gmm = make_random_gmm(seed + 1)\n",
    "init_grammar = convert_gmm_to_grammar(init_gmm)\n",
    "\n",
    "# Get optimal parse for one datapoint\n",
    "for k in range(X.shape[0]):\n",
    "    test_observed_points = [Point(tf=drake_tf_to_torch_tf(RigidTransform(p=X[k, :])))]\n",
    "    inference_results = infer_mle_tree_with_mip(\n",
    "            init_grammar, test_observed_points, max_scene_extent_in_any_dir=15, N_solutions=3\n",
    "    )\n",
    "    mip_optimized_trees = get_optimized_trees_from_mip_results(inference_results)\n",
    "    if len(mip_optimized_trees) < 3:\n",
    "        print(\"Didn't get enough trees. What gives?\")\n",
    "        print(\"X: \", X[k, :])\n",
    "        print(\"Means: \", init_gmm.means_)\n",
    "    scores = [mip_optimized_trees[j].score(include_discrete=True).detach().item() for j in range(3)]\n",
    "    gmm_scores = init_gmm._estimate_weighted_log_prob(X[k:(k+1), :]).flatten()\n",
    "    for score in scores:\n",
    "        if np.min(np.abs(gmm_scores - score)) > 1E-2:\n",
    "            print(\"Mismatch\")\n",
    "            print(scores, gmm_scores)"
   ]
  },
  {
   "cell_type": "code",
   "execution_count": null,
   "metadata": {},
   "outputs": [],
   "source": [
    "log_prob_norm, log_resp = init_gmm._e_step(X)\n",
    "nk = (np.exp(log_resp).sum(axis=0)) / X.shape[0]\n",
    "new_weights,  new_means, new_vars = sklearn.mixture._gaussian_mixture._estimate_gaussian_parameters(\n",
    "            X, np.exp(log_resp), 1E-6, \"diag\"\n",
    ")\n",
    "new_weights /= X.shape[0]\n",
    "print(\"gmm update: \\n\", \"weights: \", new_weights, \"\\nmeans: \",new_means, \"\\nvars: \", new_vars)\n",
    "\n",
    "# But doing it with this doesn't get me the same result\n",
    "new_gmm = convert_grammar_to_gmm(do_sklearn_gmm_fit(X, init_gmm.weights_, init_gmm.means_, init_gmm.covariances_, 1))\n",
    "print(\"But using fitting routine: \", \"weights: \", new_gmm.weights_)"
   ]
  },
  {
   "cell_type": "code",
   "execution_count": null,
   "metadata": {},
   "outputs": [],
   "source": [
    "gmm_fit_grammars = [\n",
    "    do_sklearn_gmm_fit(X, init_gmm.weights_, init_gmm.means_, init_gmm.covariances_, k+1)\n",
    "    for k in range(N_steps)\n",
    "]\n",
    "gmm_fit_grammars.insert(0, convert_gmm_to_grammar(init_gmm))\n",
    "grammar_fit_grammar, em_history = do_grammar_gmm_fit(\n",
    "    X, init_gmm.weights_, init_gmm.means_, init_gmm.covariances_, N_steps\n",
    ")"
   ]
  },
  {
   "cell_type": "code",
   "execution_count": null,
   "metadata": {},
   "outputs": [],
   "source": [
    "ref_weights_history = []\n",
    "my_weights_history = []\n",
    "ref_means_history = []\n",
    "my_means_history = []\n",
    "plotting_grammar = SpatialSceneGrammar(\n",
    "    root_node_type = Root,\n",
    "    root_node_tf = torch.eye(4)\n",
    ")\n",
    "for k in range(N_steps):\n",
    "    ref_gmm = convert_grammar_to_gmm(gmm_fit_grammars[k])\n",
    "    ref_weights_history.append(ref_gmm.weights_)\n",
    "    ref_means_history.append(ref_gmm.means_)\n",
    "    print(\"ref weights: \", ref_gmm.weights_)\n",
    "    plotting_grammar.load_state_dict(em_history.grammar_iters[k])\n",
    "    my_gmm = convert_grammar_to_gmm(plotting_grammar)\n",
    "    my_weights_history.append(my_gmm.weights_)\n",
    "    my_means_history.append(my_gmm.means_)\n",
    "    \n",
    "plt.figure()\n",
    "plt.subplot(2, 1, 1)\n",
    "plt.title(\"Ref\")\n",
    "ref_weight_history = np.stack(ref_weights_history)\n",
    "plt.plot(ref_weight_history, label=\"Reference\")\n",
    "plt.ylim([0., 1.])\n",
    "plt.subplot(2, 1, 2)\n",
    "plt.title(\"Mine\")\n",
    "my_weight_history = np.stack(my_weights_history)\n",
    "plt.plot(my_weight_history, label=\"Mine\")\n",
    "plt.ylim([0., 1.])\n",
    "plt.tight_layout()\n",
    "\n",
    "print(ref_means_history)\n",
    "print(my_means_history)\n",
    "    \n",
    "fig, axs = plt.subplots(2, 3)\n",
    "#fig.set_dpi(100)\n",
    "\n",
    "fig.set_size_inches(18, 6)\n",
    "plt.suptitle(\"MIP-parse + EM fit\")\n",
    "def update(frame):\n",
    "    plotting_grammar.load_state_dict(em_history.grammar_iters[frame])\n",
    "    for ax in axs.flatten():\n",
    "        ax.cla()\n",
    "    make_figure_for_grammar(plotting_grammar, X, axs[0, :])\n",
    "    make_figure_for_grammar(gmm_fit_grammars[frame], X, axs[1, :])\n",
    "    plt.suptitle(\"Mine (top), baseline (bottom), iter %02d\" % frame)\n",
    "    for ax in axs.flatten():\n",
    "        ax.set_xlim([-10., 10.])\n",
    "        ax.set_ylim([0., 0.7])\n",
    "ani = FuncAnimation(fig, update, frames=range(len(em_history.grammar_iters)), blit=False, interval=500.)\n",
    "video = ani.to_html5_video()\n",
    "html = display.HTML(video)\n",
    "display.display(html)\n",
    "plt.close()              \n"
   ]
  },
  {
   "cell_type": "code",
   "execution_count": null,
   "metadata": {},
   "outputs": [],
   "source": [
    "inference_results = infer_mle_tree_with_mip(\n",
    "        grammar_fit_grammar, [Point(tf=drake_tf_to_torch_tf(RigidTransform(p=[9., 3., 5.])))], verbose=True,\n",
    "        max_scene_extent_in_any_dir=20,\n",
    "        N_solutions=3\n",
    ")\n",
    "mip_optimized_trees = get_optimized_trees_from_mip_results(inference_results)\n",
    "for k in range(3):\n",
    "    print(mip_optimized_trees[k].score(), mip_optimized_trees[k].nodes)"
   ]
  },
  {
   "cell_type": "code",
   "execution_count": null,
   "metadata": {},
   "outputs": [],
   "source": []
  }
 ],
 "metadata": {
  "kernelspec": {
   "display_name": "py36_pyro",
   "language": "python",
   "name": "py36_pyro"
  },
  "language_info": {
   "codemirror_mode": {
    "name": "ipython",
    "version": 3
   },
   "file_extension": ".py",
   "mimetype": "text/x-python",
   "name": "python",
   "nbconvert_exporter": "python",
   "pygments_lexer": "ipython3",
   "version": "3.6.13"
  }
 },
 "nbformat": 4,
 "nbformat_minor": 4
}
