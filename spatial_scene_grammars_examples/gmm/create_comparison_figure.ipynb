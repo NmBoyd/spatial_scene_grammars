{
 "cells": [
  {
   "cell_type": "code",
   "execution_count": 43,
   "metadata": {},
   "outputs": [
    {
     "name": "stdout",
     "output_type": "stream",
     "text": [
      "The autoreload extension is already loaded. To reload it, use:\n",
      "  %reload_ext autoreload\n"
     ]
    }
   ],
   "source": [
    "%load_ext autoreload\n",
    "%autoreload 2\n",
    "\n",
    "import matplotlib.pyplot as plt\n",
    "import networkx as nx\n",
    "import numpy as np\n",
    "from sklearn.mixture import GaussianMixture\n",
    "import scipy as sp\n",
    "import os\n",
    "import pickle\n",
    "import time\n",
    "from tqdm.notebook import tqdm\n",
    "\n",
    "import torch\n",
    "torch.set_default_tensor_type(torch.DoubleTensor)\n",
    "\n",
    "from spatial_scene_grammars.nodes import *\n",
    "from spatial_scene_grammars.rules import *\n",
    "from spatial_scene_grammars.scene_grammar import *\n",
    "from spatial_scene_grammars.visualization import *\n",
    "from spatial_scene_grammars_examples.gmm.grammar import *\n",
    "from spatial_scene_grammars.parsing import *\n",
    "from spatial_scene_grammars.sampling import *\n",
    "from spatial_scene_grammars.parameter_estimation import *"
   ]
  },
  {
   "cell_type": "code",
   "execution_count": 47,
   "metadata": {},
   "outputs": [],
   "source": [
    "def convert_grammar_to_gmm(grammar):\n",
    "    weights = grammar.params_by_node_type[Root.__name__]().detach()\n",
    "    means_init = []\n",
    "    vars_init = []\n",
    "    for mode in Modes:\n",
    "        mode_name = mode.__name__\n",
    "        mean = grammar.rule_params_by_node_type[mode_name][0][0][\"mean\"]().detach().numpy()\n",
    "        var = grammar.rule_params_by_node_type[mode_name][0][0][\"variance\"]().detach().numpy()\n",
    "        means_init.append(mean)\n",
    "        vars_init.append(var)\n",
    "    means_init = np.stack(means_init)\n",
    "    vars_init = np.stack(vars_init)\n",
    "    return make_gmm_without_fitting(weights, means_init, vars_init)\n",
    "\n",
    "def make_gmm_without_fitting(weights_init, means_init, vars_init):\n",
    "    gmm = GaussianMixture(\n",
    "        n_components=3,\n",
    "        covariance_type=\"diag\"\n",
    "    )\n",
    "    gmm.weights_ = deepcopy(weights_init)\n",
    "    gmm.means_ = deepcopy(means_init)\n",
    "    gmm.covariances_ = deepcopy(vars_init)\n",
    "    gmm.precisions_ = 1./deepcopy(vars_init)\n",
    "    gmm.converged_ = True\n",
    "    return gmm\n",
    "\n",
    "def convert_gmm_to_grammar(gmm):\n",
    "    grammar = SpatialSceneGrammar(\n",
    "        root_node_type = Root,\n",
    "        root_node_tf = torch.eye(4),\n",
    "        sample_params_from_prior=True\n",
    "    )\n",
    "    rule_probs_param = grammar.params_by_node_type[Root.__name__]\n",
    "    rule_probs_param.set(torch.tensor(deepcopy(gmm.weights_)))\n",
    "    for k, mode in enumerate(Modes):\n",
    "        mode_name = mode.__name__\n",
    "        mean_param = grammar.rule_params_by_node_type[mode_name][0][0][\"mean\"]\n",
    "        var_param = grammar.rule_params_by_node_type[mode_name][0][0][\"variance\"]\n",
    "        mean_param.set(torch.tensor(deepcopy(gmm.means_[k, :])))\n",
    "        var_param.set(torch.tensor(deepcopy(gmm.covariances_[k, :])))\n",
    "    return grammar\n",
    "\n",
    "\n",
    "def make_random_gmm(seed):\n",
    "    pyro.set_rng_seed(seed)\n",
    "    # Come up with weights / means / variances manually\n",
    "    weights = dist.Dirichlet(torch.ones(3)).sample().detach().numpy()\n",
    "    means = dist.Uniform(torch.ones(3, 3)*-10., torch.ones(3, 3)*10.).sample().detach().numpy()\n",
    "    vars = dist.Uniform(torch.ones(3, 3)*0.5, torch.ones(3, 3)*1.0).sample().detach().square().numpy()\n",
    "    return make_gmm_without_fitting(weights, means, vars)\n",
    "    \n",
    "def make_target_grammar_and_data(seed, N):\n",
    "    gmm = make_random_gmm(seed)\n",
    "    X = gmm.sample(N)[0]\n",
    "    return convert_gmm_to_grammar(gmm), X    \n",
    "    \n",
    "N_EM_ITERS_DEFAULT = 20\n",
    "def do_sklearn_gmm_fit(X, weights_init, means_init, vars_init, n_em_iters=N_EM_ITERS_DEFAULT):\n",
    "    gmm = GaussianMixture(\n",
    "        n_components=3,\n",
    "        covariance_type=\"diag\",\n",
    "        weights_init=deepcopy(weights_init),\n",
    "        means_init=deepcopy(means_init),\n",
    "        precisions_init=1./deepcopy(vars_init),\n",
    "        max_iter=n_em_iters\n",
    "    )\n",
    "    gmm.fit(X)\n",
    "    return convert_gmm_to_grammar(gmm)\n",
    "\n",
    "\n",
    "def do_grammar_gmm_fit(X, weights_init, means_init, vars_init, n_em_iters=N_EM_ITERS_DEFAULT):\n",
    "    # Make fitting grammar\n",
    "    fit_grammar = SpatialSceneGrammar(\n",
    "        root_node_type = Root,\n",
    "        root_node_tf = torch.eye(4),\n",
    "        sample_params_from_prior=True\n",
    "    )\n",
    "    rule_probs_param = fit_grammar.params_by_node_type[Root.__name__]\n",
    "    rule_probs_param.set(torch.tensor(deepcopy(weights_init)))\n",
    "    for k, mode in enumerate(Modes):\n",
    "        mode_name = mode.__name__\n",
    "        mean_param = fit_grammar.rule_params_by_node_type[mode_name][0][0][\"mean\"]\n",
    "        var_param = fit_grammar.rule_params_by_node_type[mode_name][0][0][\"variance\"]\n",
    "        mean_param.set(torch.tensor(deepcopy(means_init[k, :])))\n",
    "        var_param.set(torch.tensor(deepcopy(vars_init[k, :])))\n",
    "    \n",
    "    observed_nodes = []\n",
    "    for x in X:\n",
    "        observed_nodes.append([Point(tf=drake_tf_to_torch_tf(RigidTransform(p=x)))])\n",
    "    em = EMWrapper(fit_grammar, observed_nodes, max_scene_extent_in_any_dir=20)\n",
    "    em.do_iterated_em_fitting(em_iterations=n_em_iters, tqdm=tqdm, N_solutions=3, num_workers=10)\n",
    "    return fit_grammar, em"
   ]
  },
  {
   "cell_type": "code",
   "execution_count": 48,
   "metadata": {},
   "outputs": [
    {
     "data": {
      "image/png": "[encoded data removed]",
      "text/plain": [
       "<Figure size 432x288 with 3 Axes>"
      ]
     },
     "metadata": {
      "needs_background": "light"
     },
     "output_type": "display_data"
    }
   ],
   "source": [
    "target_grammar, X = make_target_grammar_and_data(11, 1000)\n",
    "\n",
    "\n",
    "def plot_grammar_modes(grammar, axs):\n",
    "    xs = np.linspace(-15, 15, 1000)\n",
    "    for k, label in enumerate(\"xyz\"):\n",
    "        rule_probs_param = grammar.params_by_node_type[Root.__name__]\n",
    "        modes = []\n",
    "        for mode in Modes:\n",
    "            mode_name = mode.__name__\n",
    "            mean_param = grammar.rule_params_by_node_type[mode_name][0][0][\"mean\"]\n",
    "            var_param = grammar.rule_params_by_node_type[mode_name][0][0][\"variance\"]\n",
    "            modes.append((mean_param(), var_param()))\n",
    "\n",
    "        for mode_k, (prob, mode) in enumerate(zip(rule_probs_param().detach().numpy(), modes)):\n",
    "            mode = torch.exp(dist.Normal(mode[0][k], mode[1][k]).log_prob(torch.tensor(xs))).detach().numpy() * prob\n",
    "            axs[k].plot(xs, mode, label=\"Mode %d\" % mode_k)\n",
    "\n",
    "def plot_grammar_samples(grammar, axs, X):\n",
    "    for k, label in enumerate(\"xyz\"):\n",
    "        axs[k].hist(X[:, k], bins=50, alpha=0.5, density=True)\n",
    "        \n",
    "def make_figure_for_grammar(grammar, X, axs):\n",
    "    plot_grammar_modes(grammar, axs)\n",
    "    plot_grammar_samples(grammar, axs, X)\n",
    "\n",
    "fig, axs = plt.subplots(1, 3)\n",
    "make_figure_for_grammar(target_grammar, X, axs)"
   ]
  },
  {
   "cell_type": "code",
   "execution_count": 49,
   "metadata": {},
   "outputs": [
    {
     "name": "stdout",
     "output_type": "stream",
     "text": [
      "Rerunning experiment...\n"
     ]
    },
    {
     "data": {
      "application/vnd.jupyter.widget-view+json": {
       "model_id": "733e1f43d3814e859752a34426d40e62",
       "version_major": 2,
       "version_minor": 0
      },
      "text/plain": [
       "  0%|          | 0/20 [00:00<?, ?it/s]"
      ]
     },
     "metadata": {},
     "output_type": "display_data"
    },
    {
     "data": {
      "application/vnd.jupyter.widget-view+json": {
       "model_id": "b1d29a30915549558d6732501823fc1f",
       "version_major": 2,
       "version_minor": 0
      },
      "text/plain": [
       "EM Iteration:   0%|          | 0/20 [00:00<?, ?it/s]"
      ]
     },
     "metadata": {},
     "output_type": "display_data"
    },
    {
     "data": {
      "application/vnd.jupyter.widget-view+json": {
       "model_id": "a806b4c6129a45f5a87e6be7b57325ca",
       "version_major": 2,
       "version_minor": 0
      },
      "text/plain": [
       "  0%|          | 0/100 [00:00<?, ?it/s]"
      ]
     },
     "metadata": {},
     "output_type": "display_data"
    },
    {
     "data": {
      "application/vnd.jupyter.widget-view+json": {
       "model_id": "b43dab7afcb64e79bf43a31bee6bb275",
       "version_major": 2,
       "version_minor": 0
      },
      "text/plain": [
       "  0%|          | 0/100 [00:00<?, ?it/s]"
      ]
     },
     "metadata": {},
     "output_type": "display_data"
    },
    {
     "data": {
      "application/vnd.jupyter.widget-view+json": {
       "model_id": "3948fd48a6c443f58a94b9de61eb97bd",
       "version_major": 2,
       "version_minor": 0
      },
      "text/plain": [
       "  0%|          | 0/100 [00:00<?, ?it/s]"
      ]
     },
     "metadata": {},
     "output_type": "display_data"
    },
    {
     "data": {
      "application/vnd.jupyter.widget-view+json": {
       "model_id": "f304754f257a4414b1acebd1399b87c1",
       "version_major": 2,
       "version_minor": 0
      },
      "text/plain": [
       "  0%|          | 0/100 [00:00<?, ?it/s]"
      ]
     },
     "metadata": {},
     "output_type": "display_data"
    },
    {
     "data": {
      "application/vnd.jupyter.widget-view+json": {
       "model_id": "82fcae95e10b4d13b34867e17f2d1cc7",
       "version_major": 2,
       "version_minor": 0
      },
      "text/plain": [
       "  0%|          | 0/100 [00:00<?, ?it/s]"
      ]
     },
     "metadata": {},
     "output_type": "display_data"
    },
    {
     "data": {
      "application/vnd.jupyter.widget-view+json": {
       "model_id": "2764f60104a740b6b635e594294d2d0c",
       "version_major": 2,
       "version_minor": 0
      },
      "text/plain": [
       "  0%|          | 0/100 [00:00<?, ?it/s]"
      ]
     },
     "metadata": {},
     "output_type": "display_data"
    },
    {
     "data": {
      "application/vnd.jupyter.widget-view+json": {
       "model_id": "aeee3da8e98441b9b4b7a95c747d07a7",
       "version_major": 2,
       "version_minor": 0
      },
      "text/plain": [
       "  0%|          | 0/100 [00:00<?, ?it/s]"
      ]
     },
     "metadata": {},
     "output_type": "display_data"
    },
    {
     "data": {
      "application/vnd.jupyter.widget-view+json": {
       "model_id": "ce967b41e1244b1ab1c206844206ec78",
       "version_major": 2,
       "version_minor": 0
      },
      "text/plain": [
       "  0%|          | 0/100 [00:00<?, ?it/s]"
      ]
     },
     "metadata": {},
     "output_type": "display_data"
    },
    {
     "data": {
      "application/vnd.jupyter.widget-view+json": {
       "model_id": "80d8c44577df4453b5d43f3c6c925994",
       "version_major": 2,
       "version_minor": 0
      },
      "text/plain": [
       "  0%|          | 0/100 [00:00<?, ?it/s]"
      ]
     },
     "metadata": {},
     "output_type": "display_data"
    },
    {
     "data": {
      "application/vnd.jupyter.widget-view+json": {
       "model_id": "919ea2312ddd48dc815af411c9277ffa",
       "version_major": 2,
       "version_minor": 0
      },
      "text/plain": [
       "  0%|          | 0/100 [00:00<?, ?it/s]"
      ]
     },
     "metadata": {},
     "output_type": "display_data"
    },
    {
     "data": {
      "application/vnd.jupyter.widget-view+json": {
       "model_id": "d2e66733b7c94210a9bb9ff96f11ac61",
       "version_major": 2,
       "version_minor": 0
      },
      "text/plain": [
       "  0%|          | 0/100 [00:00<?, ?it/s]"
      ]
     },
     "metadata": {},
     "output_type": "display_data"
    },
    {
     "data": {
      "application/vnd.jupyter.widget-view+json": {
       "model_id": "ca8f3c6150964c3d88b7b4c6af66035a",
       "version_major": 2,
       "version_minor": 0
      },
      "text/plain": [
       "  0%|          | 0/100 [00:00<?, ?it/s]"
      ]
     },
     "metadata": {},
     "output_type": "display_data"
    },
    {
     "data": {
      "application/vnd.jupyter.widget-view+json": {
       "model_id": "1a9818dfff3449b09f5d92ec1f7b840c",
       "version_major": 2,
       "version_minor": 0
      },
      "text/plain": [
       "  0%|          | 0/100 [00:00<?, ?it/s]"
      ]
     },
     "metadata": {},
     "output_type": "display_data"
    },
    {
     "data": {
      "application/vnd.jupyter.widget-view+json": {
       "model_id": "fe05d71d27d843cb86ee4c46516fac90",
       "version_major": 2,
       "version_minor": 0
      },
      "text/plain": [
       "  0%|          | 0/100 [00:00<?, ?it/s]"
      ]
     },
     "metadata": {},
     "output_type": "display_data"
    },
    {
     "data": {
      "application/vnd.jupyter.widget-view+json": {
       "model_id": "ed87f13b3bf5442daf44ee2014c8de59",
       "version_major": 2,
       "version_minor": 0
      },
      "text/plain": [
       "  0%|          | 0/100 [00:00<?, ?it/s]"
      ]
     },
     "metadata": {},
     "output_type": "display_data"
    },
    {
     "data": {
      "application/vnd.jupyter.widget-view+json": {
       "model_id": "6ff557ffe52f4b38a8c624bb4efb7296",
       "version_major": 2,
       "version_minor": 0
      },
      "text/plain": [
       "  0%|          | 0/100 [00:00<?, ?it/s]"
      ]
     },
     "metadata": {},
     "output_type": "display_data"
    },
    {
     "data": {
      "application/vnd.jupyter.widget-view+json": {
       "model_id": "fee4b07f938c474784badc1425621604",
       "version_major": 2,
       "version_minor": 0
      },
      "text/plain": [
       "  0%|          | 0/100 [00:00<?, ?it/s]"
      ]
     },
     "metadata": {},
     "output_type": "display_data"
    },
    {
     "data": {
      "application/vnd.jupyter.widget-view+json": {
       "model_id": "e3c64e08511a44bf98300f8565cb732d",
       "version_major": 2,
       "version_minor": 0
      },
      "text/plain": [
       "  0%|          | 0/100 [00:00<?, ?it/s]"
      ]
     },
     "metadata": {},
     "output_type": "display_data"
    },
    {
     "data": {
      "application/vnd.jupyter.widget-view+json": {
       "model_id": "169db6f771824e0382b97bc92823dcde",
       "version_major": 2,
       "version_minor": 0
      },
      "text/plain": [
       "  0%|          | 0/100 [00:00<?, ?it/s]"
      ]
     },
     "metadata": {},
     "output_type": "display_data"
    },
    {
     "data": {
      "application/vnd.jupyter.widget-view+json": {
       "model_id": "e608a6bd434d468e8ad30d1c8cce70e9",
       "version_major": 2,
       "version_minor": 0
      },
      "text/plain": [
       "  0%|          | 0/100 [00:00<?, ?it/s]"
      ]
     },
     "metadata": {},
     "output_type": "display_data"
    },
    {
     "data": {
      "application/vnd.jupyter.widget-view+json": {
       "model_id": "19d101bc322e49e0a22647871e18819c",
       "version_major": 2,
       "version_minor": 0
      },
      "text/plain": [
       "EM Iteration:   0%|          | 0/20 [00:00<?, ?it/s]"
      ]
     },
     "metadata": {},
     "output_type": "display_data"
    },
    {
     "data": {
      "application/vnd.jupyter.widget-view+json": {
       "model_id": "aa55f5fde6274f9686062cb5e16b5eaf",
       "version_major": 2,
       "version_minor": 0
      },
      "text/plain": [
       "  0%|          | 0/100 [00:00<?, ?it/s]"
      ]
     },
     "metadata": {},
     "output_type": "display_data"
    },
    {
     "data": {
      "application/vnd.jupyter.widget-view+json": {
       "model_id": "bda5d05d81a64bf8bb2b344a1b32c168",
       "version_major": 2,
       "version_minor": 0
      },
      "text/plain": [
       "  0%|          | 0/100 [00:00<?, ?it/s]"
      ]
     },
     "metadata": {},
     "output_type": "display_data"
    },
    {
     "data": {
      "application/vnd.jupyter.widget-view+json": {
       "model_id": "e1543f43206b44a193cff061ddcc11cb",
       "version_major": 2,
       "version_minor": 0
      },
      "text/plain": [
       "  0%|          | 0/100 [00:00<?, ?it/s]"
      ]
     },
     "metadata": {},
     "output_type": "display_data"
    },
    {
     "data": {
      "application/vnd.jupyter.widget-view+json": {
       "model_id": "1ffdcd13ee034d18843b56726a647c8d",
       "version_major": 2,
       "version_minor": 0
      },
      "text/plain": [
       "  0%|          | 0/100 [00:00<?, ?it/s]"
      ]
     },
     "metadata": {},
     "output_type": "display_data"
    },
    {
     "data": {
      "application/vnd.jupyter.widget-view+json": {
       "model_id": "8ba92d99486e49d09613cef7b85cb53e",
       "version_major": 2,
       "version_minor": 0
      },
      "text/plain": [
       "  0%|          | 0/100 [00:00<?, ?it/s]"
      ]
     },
     "metadata": {},
     "output_type": "display_data"
    },
    {
     "data": {
      "application/vnd.jupyter.widget-view+json": {
       "model_id": "e55fa8c1b515401faaf2adf7685676f1",
       "version_major": 2,
       "version_minor": 0
      },
      "text/plain": [
       "  0%|          | 0/100 [00:00<?, ?it/s]"
      ]
     },
     "metadata": {},
     "output_type": "display_data"
    },
    {
     "data": {
      "application/vnd.jupyter.widget-view+json": {
       "model_id": "2ea788b430b24e84958699d7a3d29730",
       "version_major": 2,
       "version_minor": 0
      },
      "text/plain": [
       "  0%|          | 0/100 [00:00<?, ?it/s]"
      ]
     },
     "metadata": {},
     "output_type": "display_data"
    },
    {
     "data": {
      "application/vnd.jupyter.widget-view+json": {
       "model_id": "7c98133f363f4f8b954c8b1f5d0e2160",
       "version_major": 2,
       "version_minor": 0
      },
      "text/plain": [
       "  0%|          | 0/100 [00:00<?, ?it/s]"
      ]
     },
     "metadata": {},
     "output_type": "display_data"
    },
    {
     "data": {
      "application/vnd.jupyter.widget-view+json": {
       "model_id": "132967eae32e4c34ac2af39e2998786a",
       "version_major": 2,
       "version_minor": 0
      },
      "text/plain": [
       "  0%|          | 0/100 [00:00<?, ?it/s]"
      ]
     },
     "metadata": {},
     "output_type": "display_data"
    },
    {
     "data": {
      "application/vnd.jupyter.widget-view+json": {
       "model_id": "5b5b5afe8e16428a80e450483c463292",
       "version_major": 2,
       "version_minor": 0
      },
      "text/plain": [
       "  0%|          | 0/100 [00:00<?, ?it/s]"
      ]
     },
     "metadata": {},
     "output_type": "display_data"
    },
    {
     "data": {
      "application/vnd.jupyter.widget-view+json": {
       "model_id": "bc409b5875194bf5ab1122d6e0c43e66",
       "version_major": 2,
       "version_minor": 0
      },
      "text/plain": [
       "  0%|          | 0/100 [00:00<?, ?it/s]"
      ]
     },
     "metadata": {},
     "output_type": "display_data"
    },
    {
     "data": {
      "application/vnd.jupyter.widget-view+json": {
       "model_id": "08c9847c936b4eddb7f1aa27f5efb5fc",
       "version_major": 2,
       "version_minor": 0
      },
      "text/plain": [
       "  0%|          | 0/100 [00:00<?, ?it/s]"
      ]
     },
     "metadata": {},
     "output_type": "display_data"
    },
    {
     "data": {
      "application/vnd.jupyter.widget-view+json": {
       "model_id": "7020e43a86ee47deaf6791f76b2744b0",
       "version_major": 2,
       "version_minor": 0
      },
      "text/plain": [
       "  0%|          | 0/100 [00:00<?, ?it/s]"
      ]
     },
     "metadata": {},
     "output_type": "display_data"
    },
    {
     "data": {
      "application/vnd.jupyter.widget-view+json": {
       "model_id": "fa11d5ed66534185be6976586b391eeb",
       "version_major": 2,
       "version_minor": 0
      },
      "text/plain": [
       "  0%|          | 0/100 [00:00<?, ?it/s]"
      ]
     },
     "metadata": {},
     "output_type": "display_data"
    },
    {
     "data": {
      "application/vnd.jupyter.widget-view+json": {
       "model_id": "316909b4d6b349eb80ee080f9b0050d2",
       "version_major": 2,
       "version_minor": 0
      },
      "text/plain": [
       "  0%|          | 0/100 [00:00<?, ?it/s]"
      ]
     },
     "metadata": {},
     "output_type": "display_data"
    },
    {
     "data": {
      "application/vnd.jupyter.widget-view+json": {
       "model_id": "f2bd6bd0b6ac48e483084443348cc48c",
       "version_major": 2,
       "version_minor": 0
      },
      "text/plain": [
       "  0%|          | 0/100 [00:00<?, ?it/s]"
      ]
     },
     "metadata": {},
     "output_type": "display_data"
    },
    {
     "data": {
      "application/vnd.jupyter.widget-view+json": {
       "model_id": "d3752ae6d1cb4277b562809442d0745a",
       "version_major": 2,
       "version_minor": 0
      },
      "text/plain": [
       "  0%|          | 0/100 [00:00<?, ?it/s]"
      ]
     },
     "metadata": {},
     "output_type": "display_data"
    },
    {
     "data": {
      "application/vnd.jupyter.widget-view+json": {
       "model_id": "f3b8e476f0d64ff6b2cef8c40bd1eada",
       "version_major": 2,
       "version_minor": 0
      },
      "text/plain": [
       "  0%|          | 0/100 [00:00<?, ?it/s]"
      ]
     },
     "metadata": {},
     "output_type": "display_data"
    },
    {
     "data": {
      "application/vnd.jupyter.widget-view+json": {
       "model_id": "67e1b11432544f80a57593fc4cef1c93",
       "version_major": 2,
       "version_minor": 0
      },
      "text/plain": [
       "  0%|          | 0/100 [00:00<?, ?it/s]"
      ]
     },
     "metadata": {},
     "output_type": "display_data"
    },
    {
     "data": {
      "application/vnd.jupyter.widget-view+json": {
       "model_id": "e4fdbab3ed4743b7859ed53a2b384092",
       "version_major": 2,
       "version_minor": 0
      },
      "text/plain": [
       "  0%|          | 0/100 [00:00<?, ?it/s]"
      ]
     },
     "metadata": {},
     "output_type": "display_data"
    },
    {
     "data": {
      "application/vnd.jupyter.widget-view+json": {
       "model_id": "7ef104996a0e4a95a1b0dfcbecee3bec",
       "version_major": 2,
       "version_minor": 0
      },
      "text/plain": [
       "EM Iteration:   0%|          | 0/20 [00:00<?, ?it/s]"
      ]
     },
     "metadata": {},
     "output_type": "display_data"
    },
    {
     "data": {
      "application/vnd.jupyter.widget-view+json": {
       "model_id": "ac0446742f3942038b7560182b0480ea",
       "version_major": 2,
       "version_minor": 0
      },
      "text/plain": [
       "  0%|          | 0/100 [00:00<?, ?it/s]"
      ]
     },
     "metadata": {},
     "output_type": "display_data"
    },
    {
     "data": {
      "application/vnd.jupyter.widget-view+json": {
       "model_id": "e2d861fcee8942abade7c3c292530092",
       "version_major": 2,
       "version_minor": 0
      },
      "text/plain": [
       "  0%|          | 0/100 [00:00<?, ?it/s]"
      ]
     },
     "metadata": {},
     "output_type": "display_data"
    },
    {
     "data": {
      "application/vnd.jupyter.widget-view+json": {
       "model_id": "3410236bce454b8291cd1ef0818d5028",
       "version_major": 2,
       "version_minor": 0
      },
      "text/plain": [
       "  0%|          | 0/100 [00:00<?, ?it/s]"
      ]
     },
     "metadata": {},
     "output_type": "display_data"
    },
    {
     "data": {
      "application/vnd.jupyter.widget-view+json": {
       "model_id": "537a70da5f0f40b4a7fa8e5eed3f57b5",
       "version_major": 2,
       "version_minor": 0
      },
      "text/plain": [
       "  0%|          | 0/100 [00:00<?, ?it/s]"
      ]
     },
     "metadata": {},
     "output_type": "display_data"
    },
    {
     "data": {
      "application/vnd.jupyter.widget-view+json": {
       "model_id": "b2f042fecb7d445cb7c02b7c9918b332",
       "version_major": 2,
       "version_minor": 0
      },
      "text/plain": [
       "  0%|          | 0/100 [00:00<?, ?it/s]"
      ]
     },
     "metadata": {},
     "output_type": "display_data"
    },
    {
     "data": {
      "application/vnd.jupyter.widget-view+json": {
       "model_id": "934fb771a1bc44238dcfc936de3ade2c",
       "version_major": 2,
       "version_minor": 0
      },
      "text/plain": [
       "  0%|          | 0/100 [00:00<?, ?it/s]"
      ]
     },
     "metadata": {},
     "output_type": "display_data"
    },
    {
     "data": {
      "application/vnd.jupyter.widget-view+json": {
       "model_id": "e14dc95fc1c54201a225d66664d702ce",
       "version_major": 2,
       "version_minor": 0
      },
      "text/plain": [
       "  0%|          | 0/100 [00:00<?, ?it/s]"
      ]
     },
     "metadata": {},
     "output_type": "display_data"
    },
    {
     "data": {
      "application/vnd.jupyter.widget-view+json": {
       "model_id": "5bb7cb5e717941368faad57b038a56f1",
       "version_major": 2,
       "version_minor": 0
      },
      "text/plain": [
       "  0%|          | 0/100 [00:00<?, ?it/s]"
      ]
     },
     "metadata": {},
     "output_type": "display_data"
    },
    {
     "data": {
      "application/vnd.jupyter.widget-view+json": {
       "model_id": "09b9a8ebb5ea4e8aa737fb9daf56bf86",
       "version_major": 2,
       "version_minor": 0
      },
      "text/plain": [
       "  0%|          | 0/100 [00:00<?, ?it/s]"
      ]
     },
     "metadata": {},
     "output_type": "display_data"
    },
    {
     "data": {
      "application/vnd.jupyter.widget-view+json": {
       "model_id": "05e5e7f871974a3cb69a3a15c0a1e873",
       "version_major": 2,
       "version_minor": 0
      },
      "text/plain": [
       "  0%|          | 0/100 [00:00<?, ?it/s]"
      ]
     },
     "metadata": {},
     "output_type": "display_data"
    },
    {
     "data": {
      "application/vnd.jupyter.widget-view+json": {
       "model_id": "4b8c4bdda03549c298453e45dfe277ba",
       "version_major": 2,
       "version_minor": 0
      },
      "text/plain": [
       "  0%|          | 0/100 [00:00<?, ?it/s]"
      ]
     },
     "metadata": {},
     "output_type": "display_data"
    },
    {
     "data": {
      "application/vnd.jupyter.widget-view+json": {
       "model_id": "63476ed11b144de1a2de5e5224071f4a",
       "version_major": 2,
       "version_minor": 0
      },
      "text/plain": [
       "  0%|          | 0/100 [00:00<?, ?it/s]"
      ]
     },
     "metadata": {},
     "output_type": "display_data"
    },
    {
     "data": {
      "application/vnd.jupyter.widget-view+json": {
       "model_id": "fbfe19bc27a4485399de643c880bd845",
       "version_major": 2,
       "version_minor": 0
      },
      "text/plain": [
       "  0%|          | 0/100 [00:00<?, ?it/s]"
      ]
     },
     "metadata": {},
     "output_type": "display_data"
    },
    {
     "data": {
      "application/vnd.jupyter.widget-view+json": {
       "model_id": "2dae4a01f50f4b93a9c62a854b3be1ea",
       "version_major": 2,
       "version_minor": 0
      },
      "text/plain": [
       "  0%|          | 0/100 [00:00<?, ?it/s]"
      ]
     },
     "metadata": {},
     "output_type": "display_data"
    },
    {
     "data": {
      "application/vnd.jupyter.widget-view+json": {
       "model_id": "9aff9c1217654a4299b991b291c40d3e",
       "version_major": 2,
       "version_minor": 0
      },
      "text/plain": [
       "  0%|          | 0/100 [00:00<?, ?it/s]"
      ]
     },
     "metadata": {},
     "output_type": "display_data"
    },
    {
     "data": {
      "application/vnd.jupyter.widget-view+json": {
       "model_id": "801da91d29f94415ba9c676bf0455f3b",
       "version_major": 2,
       "version_minor": 0
      },
      "text/plain": [
       "  0%|          | 0/100 [00:00<?, ?it/s]"
      ]
     },
     "metadata": {},
     "output_type": "display_data"
    },
    {
     "data": {
      "application/vnd.jupyter.widget-view+json": {
       "model_id": "ca113d365c5c4d81ab6ca85567641593",
       "version_major": 2,
       "version_minor": 0
      },
      "text/plain": [
       "  0%|          | 0/100 [00:00<?, ?it/s]"
      ]
     },
     "metadata": {},
     "output_type": "display_data"
    },
    {
     "data": {
      "application/vnd.jupyter.widget-view+json": {
       "model_id": "4cca94ba19344684a3b7935c363ae3c4",
       "version_major": 2,
       "version_minor": 0
      },
      "text/plain": [
       "  0%|          | 0/100 [00:00<?, ?it/s]"
      ]
     },
     "metadata": {},
     "output_type": "display_data"
    },
    {
     "data": {
      "application/vnd.jupyter.widget-view+json": {
       "model_id": "28d73bca74ce483592195591973bf080",
       "version_major": 2,
       "version_minor": 0
      },
      "text/plain": [
       "  0%|          | 0/100 [00:00<?, ?it/s]"
      ]
     },
     "metadata": {},
     "output_type": "display_data"
    },
    {
     "data": {
      "application/vnd.jupyter.widget-view+json": {
       "model_id": "2cdd28eab2f94acdaa7f8ef040c70405",
       "version_major": 2,
       "version_minor": 0
      },
      "text/plain": [
       "  0%|          | 0/100 [00:00<?, ?it/s]"
      ]
     },
     "metadata": {},
     "output_type": "display_data"
    },
    {
     "data": {
      "application/vnd.jupyter.widget-view+json": {
       "model_id": "8bf5b82a2dfc48de9107579285d1a48f",
       "version_major": 2,
       "version_minor": 0
      },
      "text/plain": [
       "EM Iteration:   0%|          | 0/20 [00:00<?, ?it/s]"
      ]
     },
     "metadata": {},
     "output_type": "display_data"
    },
    {
     "data": {
      "application/vnd.jupyter.widget-view+json": {
       "model_id": "d462929cade84a1e9777d9dce0dbd31d",
       "version_major": 2,
       "version_minor": 0
      },
      "text/plain": [
       "  0%|          | 0/100 [00:00<?, ?it/s]"
      ]
     },
     "metadata": {},
     "output_type": "display_data"
    },
    {
     "data": {
      "application/vnd.jupyter.widget-view+json": {
       "model_id": "78e045ca588d4a7d81f189cea6f266f2",
       "version_major": 2,
       "version_minor": 0
      },
      "text/plain": [
       "  0%|          | 0/100 [00:00<?, ?it/s]"
      ]
     },
     "metadata": {},
     "output_type": "display_data"
    },
    {
     "data": {
      "application/vnd.jupyter.widget-view+json": {
       "model_id": "12cfcb6bce6342a6b03d6e06a299e32a",
       "version_major": 2,
       "version_minor": 0
      },
      "text/plain": [
       "  0%|          | 0/100 [00:00<?, ?it/s]"
      ]
     },
     "metadata": {},
     "output_type": "display_data"
    },
    {
     "data": {
      "application/vnd.jupyter.widget-view+json": {
       "model_id": "15f72e8cd2c648ceac3f016ac5c38944",
       "version_major": 2,
       "version_minor": 0
      },
      "text/plain": [
       "  0%|          | 0/100 [00:00<?, ?it/s]"
      ]
     },
     "metadata": {},
     "output_type": "display_data"
    },
    {
     "data": {
      "application/vnd.jupyter.widget-view+json": {
       "model_id": "dd953b697d5446619e5d29233b5463f9",
       "version_major": 2,
       "version_minor": 0
      },
      "text/plain": [
       "  0%|          | 0/100 [00:00<?, ?it/s]"
      ]
     },
     "metadata": {},
     "output_type": "display_data"
    },
    {
     "data": {
      "application/vnd.jupyter.widget-view+json": {
       "model_id": "52818ece6e994f078eb2d59160863800",
       "version_major": 2,
       "version_minor": 0
      },
      "text/plain": [
       "  0%|          | 0/100 [00:00<?, ?it/s]"
      ]
     },
     "metadata": {},
     "output_type": "display_data"
    },
    {
     "data": {
      "application/vnd.jupyter.widget-view+json": {
       "model_id": "e5871054d1ad40ac97ca57c59c056aa8",
       "version_major": 2,
       "version_minor": 0
      },
      "text/plain": [
       "  0%|          | 0/100 [00:00<?, ?it/s]"
      ]
     },
     "metadata": {},
     "output_type": "display_data"
    },
    {
     "data": {
      "application/vnd.jupyter.widget-view+json": {
       "model_id": "90d72a8c40c44c598cf8b1c78537659b",
       "version_major": 2,
       "version_minor": 0
      },
      "text/plain": [
       "  0%|          | 0/100 [00:00<?, ?it/s]"
      ]
     },
     "metadata": {},
     "output_type": "display_data"
    },
    {
     "data": {
      "application/vnd.jupyter.widget-view+json": {
       "model_id": "81a54dd2f8994359bd0ef4de7339c7fd",
       "version_major": 2,
       "version_minor": 0
      },
      "text/plain": [
       "  0%|          | 0/100 [00:00<?, ?it/s]"
      ]
     },
     "metadata": {},
     "output_type": "display_data"
    },
    {
     "data": {
      "application/vnd.jupyter.widget-view+json": {
       "model_id": "8023cbf5ef994074a43e4c0a9d6e7928",
       "version_major": 2,
       "version_minor": 0
      },
      "text/plain": [
       "  0%|          | 0/100 [00:00<?, ?it/s]"
      ]
     },
     "metadata": {},
     "output_type": "display_data"
    },
    {
     "data": {
      "application/vnd.jupyter.widget-view+json": {
       "model_id": "2a1ef78b11e94d3d860c3a1875fc73b0",
       "version_major": 2,
       "version_minor": 0
      },
      "text/plain": [
       "  0%|          | 0/100 [00:00<?, ?it/s]"
      ]
     },
     "metadata": {},
     "output_type": "display_data"
    },
    {
     "data": {
      "application/vnd.jupyter.widget-view+json": {
       "model_id": "567cee9b6be447cab436b668782e8658",
       "version_major": 2,
       "version_minor": 0
      },
      "text/plain": [
       "  0%|          | 0/100 [00:00<?, ?it/s]"
      ]
     },
     "metadata": {},
     "output_type": "display_data"
    },
    {
     "data": {
      "application/vnd.jupyter.widget-view+json": {
       "model_id": "607a95cd821e406f98175fb4edac1ae5",
       "version_major": 2,
       "version_minor": 0
      },
      "text/plain": [
       "  0%|          | 0/100 [00:00<?, ?it/s]"
      ]
     },
     "metadata": {},
     "output_type": "display_data"
    },
    {
     "data": {
      "application/vnd.jupyter.widget-view+json": {
       "model_id": "38b2abaf4a8a4b559d443399a6c3f8d7",
       "version_major": 2,
       "version_minor": 0
      },
      "text/plain": [
       "  0%|          | 0/100 [00:00<?, ?it/s]"
      ]
     },
     "metadata": {},
     "output_type": "display_data"
    },
    {
     "data": {
      "application/vnd.jupyter.widget-view+json": {
       "model_id": "d95eec3b4c3b46d88d8e44a24a628829",
       "version_major": 2,
       "version_minor": 0
      },
      "text/plain": [
       "  0%|          | 0/100 [00:00<?, ?it/s]"
      ]
     },
     "metadata": {},
     "output_type": "display_data"
    },
    {
     "data": {
      "application/vnd.jupyter.widget-view+json": {
       "model_id": "5a14cd2c57594becb6978adf9481de4c",
       "version_major": 2,
       "version_minor": 0
      },
      "text/plain": [
       "  0%|          | 0/100 [00:00<?, ?it/s]"
      ]
     },
     "metadata": {},
     "output_type": "display_data"
    },
    {
     "data": {
      "application/vnd.jupyter.widget-view+json": {
       "model_id": "e37077147c96495d97c42c0f5cd52950",
       "version_major": 2,
       "version_minor": 0
      },
      "text/plain": [
       "  0%|          | 0/100 [00:00<?, ?it/s]"
      ]
     },
     "metadata": {},
     "output_type": "display_data"
    },
    {
     "data": {
      "application/vnd.jupyter.widget-view+json": {
       "model_id": "bcad9c4937514e5991ad99d4f87241dd",
       "version_major": 2,
       "version_minor": 0
      },
      "text/plain": [
       "  0%|          | 0/100 [00:00<?, ?it/s]"
      ]
     },
     "metadata": {},
     "output_type": "display_data"
    },
    {
     "data": {
      "application/vnd.jupyter.widget-view+json": {
       "model_id": "9b75426028134ff8a9cfde63205142c2",
       "version_major": 2,
       "version_minor": 0
      },
      "text/plain": [
       "  0%|          | 0/100 [00:00<?, ?it/s]"
      ]
     },
     "metadata": {},
     "output_type": "display_data"
    },
    {
     "data": {
      "application/vnd.jupyter.widget-view+json": {
       "model_id": "91b5a62c32e546f29b264c0ded86240c",
       "version_major": 2,
       "version_minor": 0
      },
      "text/plain": [
       "  0%|          | 0/100 [00:00<?, ?it/s]"
      ]
     },
     "metadata": {},
     "output_type": "display_data"
    },
    {
     "data": {
      "application/vnd.jupyter.widget-view+json": {
       "model_id": "78bbae7de73040eaaafdeabf3d6362b8",
       "version_major": 2,
       "version_minor": 0
      },
      "text/plain": [
       "EM Iteration:   0%|          | 0/20 [00:00<?, ?it/s]"
      ]
     },
     "metadata": {},
     "output_type": "display_data"
    },
    {
     "data": {
      "application/vnd.jupyter.widget-view+json": {
       "model_id": "aa6d6e2c6e7041c78af0e63c3633628b",
       "version_major": 2,
       "version_minor": 0
      },
      "text/plain": [
       "  0%|          | 0/100 [00:00<?, ?it/s]"
      ]
     },
     "metadata": {},
     "output_type": "display_data"
    },
    {
     "data": {
      "application/vnd.jupyter.widget-view+json": {
       "model_id": "364333fcf9844f4483f76fd1c6b07acf",
       "version_major": 2,
       "version_minor": 0
      },
      "text/plain": [
       "  0%|          | 0/100 [00:00<?, ?it/s]"
      ]
     },
     "metadata": {},
     "output_type": "display_data"
    },
    {
     "data": {
      "application/vnd.jupyter.widget-view+json": {
       "model_id": "e8b2561b19794558a5f7fa567093ff33",
       "version_major": 2,
       "version_minor": 0
      },
      "text/plain": [
       "  0%|          | 0/100 [00:00<?, ?it/s]"
      ]
     },
     "metadata": {},
     "output_type": "display_data"
    },
    {
     "data": {
      "application/vnd.jupyter.widget-view+json": {
       "model_id": "f66ef195dee14dd4ad04243bad308447",
       "version_major": 2,
       "version_minor": 0
      },
      "text/plain": [
       "  0%|          | 0/100 [00:00<?, ?it/s]"
      ]
     },
     "metadata": {},
     "output_type": "display_data"
    },
    {
     "data": {
      "application/vnd.jupyter.widget-view+json": {
       "model_id": "c42c44e22dad4063bdd613a1eb5e1850",
       "version_major": 2,
       "version_minor": 0
      },
      "text/plain": [
       "  0%|          | 0/100 [00:00<?, ?it/s]"
      ]
     },
     "metadata": {},
     "output_type": "display_data"
    },
    {
     "data": {
      "application/vnd.jupyter.widget-view+json": {
       "model_id": "60849e2d51054cee9126bf71a1f73a1d",
       "version_major": 2,
       "version_minor": 0
      },
      "text/plain": [
       "  0%|          | 0/100 [00:00<?, ?it/s]"
      ]
     },
     "metadata": {},
     "output_type": "display_data"
    },
    {
     "data": {
      "application/vnd.jupyter.widget-view+json": {
       "model_id": "5a8af4246a0c464994be41446c9873a3",
       "version_major": 2,
       "version_minor": 0
      },
      "text/plain": [
       "  0%|          | 0/100 [00:00<?, ?it/s]"
      ]
     },
     "metadata": {},
     "output_type": "display_data"
    },
    {
     "data": {
      "application/vnd.jupyter.widget-view+json": {
       "model_id": "d8195af71aba4a0788ea553590351982",
       "version_major": 2,
       "version_minor": 0
      },
      "text/plain": [
       "  0%|          | 0/100 [00:00<?, ?it/s]"
      ]
     },
     "metadata": {},
     "output_type": "display_data"
    },
    {
     "data": {
      "application/vnd.jupyter.widget-view+json": {
       "model_id": "d91506232bbf473284f1da6a997670b3",
       "version_major": 2,
       "version_minor": 0
      },
      "text/plain": [
       "  0%|          | 0/100 [00:00<?, ?it/s]"
      ]
     },
     "metadata": {},
     "output_type": "display_data"
    },
    {
     "data": {
      "application/vnd.jupyter.widget-view+json": {
       "model_id": "0c5345b171234f5ebb5be568ca03819c",
       "version_major": 2,
       "version_minor": 0
      },
      "text/plain": [
       "  0%|          | 0/100 [00:00<?, ?it/s]"
      ]
     },
     "metadata": {},
     "output_type": "display_data"
    },
    {
     "data": {
      "application/vnd.jupyter.widget-view+json": {
       "model_id": "ffdb61f0856746a29b9d0d0a3c6b0035",
       "version_major": 2,
       "version_minor": 0
      },
      "text/plain": [
       "  0%|          | 0/100 [00:00<?, ?it/s]"
      ]
     },
     "metadata": {},
     "output_type": "display_data"
    },
    {
     "data": {
      "application/vnd.jupyter.widget-view+json": {
       "model_id": "14133fde0d62467492477f88f65ec1bc",
       "version_major": 2,
       "version_minor": 0
      },
      "text/plain": [
       "  0%|          | 0/100 [00:00<?, ?it/s]"
      ]
     },
     "metadata": {},
     "output_type": "display_data"
    },
    {
     "data": {
      "application/vnd.jupyter.widget-view+json": {
       "model_id": "f33f82a5dc0246799dc5cb12cc6340b9",
       "version_major": 2,
       "version_minor": 0
      },
      "text/plain": [
       "  0%|          | 0/100 [00:00<?, ?it/s]"
      ]
     },
     "metadata": {},
     "output_type": "display_data"
    },
    {
     "data": {
      "application/vnd.jupyter.widget-view+json": {
       "model_id": "296ad6317d9c4199b71dcdbbeed23521",
       "version_major": 2,
       "version_minor": 0
      },
      "text/plain": [
       "  0%|          | 0/100 [00:00<?, ?it/s]"
      ]
     },
     "metadata": {},
     "output_type": "display_data"
    },
    {
     "data": {
      "application/vnd.jupyter.widget-view+json": {
       "model_id": "1a0efe41e3cf483690fe05684f60a859",
       "version_major": 2,
       "version_minor": 0
      },
      "text/plain": [
       "  0%|          | 0/100 [00:00<?, ?it/s]"
      ]
     },
     "metadata": {},
     "output_type": "display_data"
    },
    {
     "data": {
      "application/vnd.jupyter.widget-view+json": {
       "model_id": "5d393cf4939e42aea92081c6922cbdcc",
       "version_major": 2,
       "version_minor": 0
      },
      "text/plain": [
       "  0%|          | 0/100 [00:00<?, ?it/s]"
      ]
     },
     "metadata": {},
     "output_type": "display_data"
    },
    {
     "data": {
      "application/vnd.jupyter.widget-view+json": {
       "model_id": "d71fa7af331f4be68c3b94c7660c5b57",
       "version_major": 2,
       "version_minor": 0
      },
      "text/plain": [
       "  0%|          | 0/100 [00:00<?, ?it/s]"
      ]
     },
     "metadata": {},
     "output_type": "display_data"
    },
    {
     "data": {
      "application/vnd.jupyter.widget-view+json": {
       "model_id": "9d6d17af522b4c338c35b05f93f9c369",
       "version_major": 2,
       "version_minor": 0
      },
      "text/plain": [
       "  0%|          | 0/100 [00:00<?, ?it/s]"
      ]
     },
     "metadata": {},
     "output_type": "display_data"
    },
    {
     "data": {
      "application/vnd.jupyter.widget-view+json": {
       "model_id": "4d625086e3fd4543815ad6bc97df653e",
       "version_major": 2,
       "version_minor": 0
      },
      "text/plain": [
       "  0%|          | 0/100 [00:00<?, ?it/s]"
      ]
     },
     "metadata": {},
     "output_type": "display_data"
    },
    {
     "data": {
      "application/vnd.jupyter.widget-view+json": {
       "model_id": "55806535312343d4843041b463faf7e3",
       "version_major": 2,
       "version_minor": 0
      },
      "text/plain": [
       "  0%|          | 0/100 [00:00<?, ?it/s]"
      ]
     },
     "metadata": {},
     "output_type": "display_data"
    },
    {
     "data": {
      "application/vnd.jupyter.widget-view+json": {
       "model_id": "99b08ca6ab5f46579c6c089216b0880b",
       "version_major": 2,
       "version_minor": 0
      },
      "text/plain": [
       "EM Iteration:   0%|          | 0/20 [00:00<?, ?it/s]"
      ]
     },
     "metadata": {},
     "output_type": "display_data"
    },
    {
     "data": {
      "application/vnd.jupyter.widget-view+json": {
       "model_id": "f767d7aee4c24e4d8ff15e9fecd5c3ef",
       "version_major": 2,
       "version_minor": 0
      },
      "text/plain": [
       "  0%|          | 0/100 [00:00<?, ?it/s]"
      ]
     },
     "metadata": {},
     "output_type": "display_data"
    },
    {
     "data": {
      "application/vnd.jupyter.widget-view+json": {
       "model_id": "140682d41447497fb7568e7848b92e6c",
       "version_major": 2,
       "version_minor": 0
      },
      "text/plain": [
       "  0%|          | 0/100 [00:00<?, ?it/s]"
      ]
     },
     "metadata": {},
     "output_type": "display_data"
    },
    {
     "data": {
      "application/vnd.jupyter.widget-view+json": {
       "model_id": "857de66a516d4004bec3c2f4ea4d1471",
       "version_major": 2,
       "version_minor": 0
      },
      "text/plain": [
       "  0%|          | 0/100 [00:00<?, ?it/s]"
      ]
     },
     "metadata": {},
     "output_type": "display_data"
    },
    {
     "data": {
      "application/vnd.jupyter.widget-view+json": {
       "model_id": "bde5fe16ee3c4c8bbc683359ac2035bd",
       "version_major": 2,
       "version_minor": 0
      },
      "text/plain": [
       "  0%|          | 0/100 [00:00<?, ?it/s]"
      ]
     },
     "metadata": {},
     "output_type": "display_data"
    },
    {
     "data": {
      "application/vnd.jupyter.widget-view+json": {
       "model_id": "bd1f7cc2bb7d46ecbc19d68eff5db0a3",
       "version_major": 2,
       "version_minor": 0
      },
      "text/plain": [
       "  0%|          | 0/100 [00:00<?, ?it/s]"
      ]
     },
     "metadata": {},
     "output_type": "display_data"
    },
    {
     "data": {
      "application/vnd.jupyter.widget-view+json": {
       "model_id": "2722594cfe0d406cacc26da2f5d3a276",
       "version_major": 2,
       "version_minor": 0
      },
      "text/plain": [
       "  0%|          | 0/100 [00:00<?, ?it/s]"
      ]
     },
     "metadata": {},
     "output_type": "display_data"
    },
    {
     "data": {
      "application/vnd.jupyter.widget-view+json": {
       "model_id": "fb0ce0506d1743c8b776b82a4c017734",
       "version_major": 2,
       "version_minor": 0
      },
      "text/plain": [
       "  0%|          | 0/100 [00:00<?, ?it/s]"
      ]
     },
     "metadata": {},
     "output_type": "display_data"
    },
    {
     "data": {
      "application/vnd.jupyter.widget-view+json": {
       "model_id": "3afecef199d64e6399bc5582c08ee75a",
       "version_major": 2,
       "version_minor": 0
      },
      "text/plain": [
       "  0%|          | 0/100 [00:00<?, ?it/s]"
      ]
     },
     "metadata": {},
     "output_type": "display_data"
    },
    {
     "data": {
      "application/vnd.jupyter.widget-view+json": {
       "model_id": "357db85c5d85408ea3c198606af9550f",
       "version_major": 2,
       "version_minor": 0
      },
      "text/plain": [
       "  0%|          | 0/100 [00:00<?, ?it/s]"
      ]
     },
     "metadata": {},
     "output_type": "display_data"
    },
    {
     "data": {
      "application/vnd.jupyter.widget-view+json": {
       "model_id": "72a59d9d15cd4b818b4050d3de49d948",
       "version_major": 2,
       "version_minor": 0
      },
      "text/plain": [
       "  0%|          | 0/100 [00:00<?, ?it/s]"
      ]
     },
     "metadata": {},
     "output_type": "display_data"
    },
    {
     "data": {
      "application/vnd.jupyter.widget-view+json": {
       "model_id": "6681baf3ddd54c7f94b697771febc6b6",
       "version_major": 2,
       "version_minor": 0
      },
      "text/plain": [
       "  0%|          | 0/100 [00:00<?, ?it/s]"
      ]
     },
     "metadata": {},
     "output_type": "display_data"
    },
    {
     "data": {
      "application/vnd.jupyter.widget-view+json": {
       "model_id": "b416ef4a9df446649f6c3d264dfebb1e",
       "version_major": 2,
       "version_minor": 0
      },
      "text/plain": [
       "  0%|          | 0/100 [00:00<?, ?it/s]"
      ]
     },
     "metadata": {},
     "output_type": "display_data"
    },
    {
     "data": {
      "application/vnd.jupyter.widget-view+json": {
       "model_id": "5670c4d5de2541bc899a96da888d0563",
       "version_major": 2,
       "version_minor": 0
      },
      "text/plain": [
       "  0%|          | 0/100 [00:00<?, ?it/s]"
      ]
     },
     "metadata": {},
     "output_type": "display_data"
    },
    {
     "data": {
      "application/vnd.jupyter.widget-view+json": {
       "model_id": "167ba1cceac245e4bfe2ccf2087f1f40",
       "version_major": 2,
       "version_minor": 0
      },
      "text/plain": [
       "  0%|          | 0/100 [00:00<?, ?it/s]"
      ]
     },
     "metadata": {},
     "output_type": "display_data"
    },
    {
     "data": {
      "application/vnd.jupyter.widget-view+json": {
       "model_id": "a9c5fed0678b4ae498f218ec316edd51",
       "version_major": 2,
       "version_minor": 0
      },
      "text/plain": [
       "  0%|          | 0/100 [00:00<?, ?it/s]"
      ]
     },
     "metadata": {},
     "output_type": "display_data"
    },
    {
     "data": {
      "application/vnd.jupyter.widget-view+json": {
       "model_id": "d8f30cb4538e424fb074c0e79e58abff",
       "version_major": 2,
       "version_minor": 0
      },
      "text/plain": [
       "  0%|          | 0/100 [00:00<?, ?it/s]"
      ]
     },
     "metadata": {},
     "output_type": "display_data"
    },
    {
     "data": {
      "application/vnd.jupyter.widget-view+json": {
       "model_id": "8f7186331ad34de385109dfb324a0cbd",
       "version_major": 2,
       "version_minor": 0
      },
      "text/plain": [
       "  0%|          | 0/100 [00:00<?, ?it/s]"
      ]
     },
     "metadata": {},
     "output_type": "display_data"
    },
    {
     "data": {
      "application/vnd.jupyter.widget-view+json": {
       "model_id": "cff0acb88bac4662bde928b2d0d98916",
       "version_major": 2,
       "version_minor": 0
      },
      "text/plain": [
       "  0%|          | 0/100 [00:00<?, ?it/s]"
      ]
     },
     "metadata": {},
     "output_type": "display_data"
    },
    {
     "data": {
      "application/vnd.jupyter.widget-view+json": {
       "model_id": "e9f9a7b96cc14cd78f1275fb24817b1c",
       "version_major": 2,
       "version_minor": 0
      },
      "text/plain": [
       "  0%|          | 0/100 [00:00<?, ?it/s]"
      ]
     },
     "metadata": {},
     "output_type": "display_data"
    },
    {
     "data": {
      "application/vnd.jupyter.widget-view+json": {
       "model_id": "4ebbf9aebcff4e05a4a57ee407b9e87a",
       "version_major": 2,
       "version_minor": 0
      },
      "text/plain": [
       "  0%|          | 0/100 [00:00<?, ?it/s]"
      ]
     },
     "metadata": {},
     "output_type": "display_data"
    },
    {
     "data": {
      "application/vnd.jupyter.widget-view+json": {
       "model_id": "6f18e63221444367939aebafd2fb1763",
       "version_major": 2,
       "version_minor": 0
      },
      "text/plain": [
       "EM Iteration:   0%|          | 0/20 [00:00<?, ?it/s]"
      ]
     },
     "metadata": {},
     "output_type": "display_data"
    },
    {
     "data": {
      "application/vnd.jupyter.widget-view+json": {
       "model_id": "de52b1cb89dd4f8eb222ba2123d1ac3a",
       "version_major": 2,
       "version_minor": 0
      },
      "text/plain": [
       "  0%|          | 0/100 [00:00<?, ?it/s]"
      ]
     },
     "metadata": {},
     "output_type": "display_data"
    },
    {
     "data": {
      "application/vnd.jupyter.widget-view+json": {
       "model_id": "fac4ee5de4a547ac975f18ca0e6835f8",
       "version_major": 2,
       "version_minor": 0
      },
      "text/plain": [
       "  0%|          | 0/100 [00:00<?, ?it/s]"
      ]
     },
     "metadata": {},
     "output_type": "display_data"
    },
    {
     "data": {
      "application/vnd.jupyter.widget-view+json": {
       "model_id": "12eb430e6bc94d148dabc497bfe68c05",
       "version_major": 2,
       "version_minor": 0
      },
      "text/plain": [
       "  0%|          | 0/100 [00:00<?, ?it/s]"
      ]
     },
     "metadata": {},
     "output_type": "display_data"
    },
    {
     "data": {
      "application/vnd.jupyter.widget-view+json": {
       "model_id": "b1ed1b69c0a84aff863685e5657e87cc",
       "version_major": 2,
       "version_minor": 0
      },
      "text/plain": [
       "  0%|          | 0/100 [00:00<?, ?it/s]"
      ]
     },
     "metadata": {},
     "output_type": "display_data"
    },
    {
     "data": {
      "application/vnd.jupyter.widget-view+json": {
       "model_id": "19f56549a172427480a6d039b0f2041d",
       "version_major": 2,
       "version_minor": 0
      },
      "text/plain": [
       "  0%|          | 0/100 [00:00<?, ?it/s]"
      ]
     },
     "metadata": {},
     "output_type": "display_data"
    },
    {
     "data": {
      "application/vnd.jupyter.widget-view+json": {
       "model_id": "0b1848c5f1ac4bcd868c5f89cff812c2",
       "version_major": 2,
       "version_minor": 0
      },
      "text/plain": [
       "  0%|          | 0/100 [00:00<?, ?it/s]"
      ]
     },
     "metadata": {},
     "output_type": "display_data"
    },
    {
     "data": {
      "application/vnd.jupyter.widget-view+json": {
       "model_id": "8b4a075b23ba47a4b0027c6bb5cb10cc",
       "version_major": 2,
       "version_minor": 0
      },
      "text/plain": [
       "  0%|          | 0/100 [00:00<?, ?it/s]"
      ]
     },
     "metadata": {},
     "output_type": "display_data"
    },
    {
     "data": {
      "application/vnd.jupyter.widget-view+json": {
       "model_id": "9c2c895c49a341e7b13cd2cbbdc1e447",
       "version_major": 2,
       "version_minor": 0
      },
      "text/plain": [
       "  0%|          | 0/100 [00:00<?, ?it/s]"
      ]
     },
     "metadata": {},
     "output_type": "display_data"
    },
    {
     "data": {
      "application/vnd.jupyter.widget-view+json": {
       "model_id": "02c6c2ab946c4b24811c4f6bfcb4be51",
       "version_major": 2,
       "version_minor": 0
      },
      "text/plain": [
       "  0%|          | 0/100 [00:00<?, ?it/s]"
      ]
     },
     "metadata": {},
     "output_type": "display_data"
    },
    {
     "data": {
      "application/vnd.jupyter.widget-view+json": {
       "model_id": "07f173a1a6c2455e8fb9bf98fe6cafc2",
       "version_major": 2,
       "version_minor": 0
      },
      "text/plain": [
       "  0%|          | 0/100 [00:00<?, ?it/s]"
      ]
     },
     "metadata": {},
     "output_type": "display_data"
    },
    {
     "data": {
      "application/vnd.jupyter.widget-view+json": {
       "model_id": "5098381c173240598b168bac472c543a",
       "version_major": 2,
       "version_minor": 0
      },
      "text/plain": [
       "  0%|          | 0/100 [00:00<?, ?it/s]"
      ]
     },
     "metadata": {},
     "output_type": "display_data"
    },
    {
     "data": {
      "application/vnd.jupyter.widget-view+json": {
       "model_id": "16c1f45d31934fa09874e2f0174bd62d",
       "version_major": 2,
       "version_minor": 0
      },
      "text/plain": [
       "  0%|          | 0/100 [00:00<?, ?it/s]"
      ]
     },
     "metadata": {},
     "output_type": "display_data"
    },
    {
     "data": {
      "application/vnd.jupyter.widget-view+json": {
       "model_id": "df0a136f4c3e453e829391a7023527df",
       "version_major": 2,
       "version_minor": 0
      },
      "text/plain": [
       "  0%|          | 0/100 [00:00<?, ?it/s]"
      ]
     },
     "metadata": {},
     "output_type": "display_data"
    },
    {
     "data": {
      "application/vnd.jupyter.widget-view+json": {
       "model_id": "736a1de29738445da8c833fbadbf380a",
       "version_major": 2,
       "version_minor": 0
      },
      "text/plain": [
       "  0%|          | 0/100 [00:00<?, ?it/s]"
      ]
     },
     "metadata": {},
     "output_type": "display_data"
    },
    {
     "data": {
      "application/vnd.jupyter.widget-view+json": {
       "model_id": "2543f3ed1d6f4761a79f1394ec4c2a61",
       "version_major": 2,
       "version_minor": 0
      },
      "text/plain": [
       "  0%|          | 0/100 [00:00<?, ?it/s]"
      ]
     },
     "metadata": {},
     "output_type": "display_data"
    },
    {
     "data": {
      "application/vnd.jupyter.widget-view+json": {
       "model_id": "fc1dddd2611047b88e4658ca22782ee9",
       "version_major": 2,
       "version_minor": 0
      },
      "text/plain": [
       "  0%|          | 0/100 [00:00<?, ?it/s]"
      ]
     },
     "metadata": {},
     "output_type": "display_data"
    },
    {
     "data": {
      "application/vnd.jupyter.widget-view+json": {
       "model_id": "d0653531718243a083518a135e8532df",
       "version_major": 2,
       "version_minor": 0
      },
      "text/plain": [
       "  0%|          | 0/100 [00:00<?, ?it/s]"
      ]
     },
     "metadata": {},
     "output_type": "display_data"
    },
    {
     "data": {
      "application/vnd.jupyter.widget-view+json": {
       "model_id": "c4fe3427a052482d9728257343ba3ba8",
       "version_major": 2,
       "version_minor": 0
      },
      "text/plain": [
       "  0%|          | 0/100 [00:00<?, ?it/s]"
      ]
     },
     "metadata": {},
     "output_type": "display_data"
    },
    {
     "data": {
      "application/vnd.jupyter.widget-view+json": {
       "model_id": "ae844767236c42c3a079b1da58b7cbca",
       "version_major": 2,
       "version_minor": 0
      },
      "text/plain": [
       "  0%|          | 0/100 [00:00<?, ?it/s]"
      ]
     },
     "metadata": {},
     "output_type": "display_data"
    },
    {
     "data": {
      "application/vnd.jupyter.widget-view+json": {
       "model_id": "fee601ce4f624815bbabbd6134f545dd",
       "version_major": 2,
       "version_minor": 0
      },
      "text/plain": [
       "  0%|          | 0/100 [00:00<?, ?it/s]"
      ]
     },
     "metadata": {},
     "output_type": "display_data"
    },
    {
     "data": {
      "application/vnd.jupyter.widget-view+json": {
       "model_id": "20ce0fed97cb44b595eb00bfff39f65e",
       "version_major": 2,
       "version_minor": 0
      },
      "text/plain": [
       "EM Iteration:   0%|          | 0/20 [00:00<?, ?it/s]"
      ]
     },
     "metadata": {},
     "output_type": "display_data"
    },
    {
     "data": {
      "application/vnd.jupyter.widget-view+json": {
       "model_id": "d96ad31ba9094a7eac26c46c2cef846b",
       "version_major": 2,
       "version_minor": 0
      },
      "text/plain": [
       "  0%|          | 0/100 [00:00<?, ?it/s]"
      ]
     },
     "metadata": {},
     "output_type": "display_data"
    },
    {
     "data": {
      "application/vnd.jupyter.widget-view+json": {
       "model_id": "9dd5957f46974dd4b3ebe1e9b51611a2",
       "version_major": 2,
       "version_minor": 0
      },
      "text/plain": [
       "  0%|          | 0/100 [00:00<?, ?it/s]"
      ]
     },
     "metadata": {},
     "output_type": "display_data"
    },
    {
     "data": {
      "application/vnd.jupyter.widget-view+json": {
       "model_id": "5a0fe79e37f34738b0377811d12c7c97",
       "version_major": 2,
       "version_minor": 0
      },
      "text/plain": [
       "  0%|          | 0/100 [00:00<?, ?it/s]"
      ]
     },
     "metadata": {},
     "output_type": "display_data"
    },
    {
     "data": {
      "application/vnd.jupyter.widget-view+json": {
       "model_id": "66391b125cab435aa35af4d6cefade45",
       "version_major": 2,
       "version_minor": 0
      },
      "text/plain": [
       "  0%|          | 0/100 [00:00<?, ?it/s]"
      ]
     },
     "metadata": {},
     "output_type": "display_data"
    },
    {
     "data": {
      "application/vnd.jupyter.widget-view+json": {
       "model_id": "94d7571ea7a144079e9deecc51db24ef",
       "version_major": 2,
       "version_minor": 0
      },
      "text/plain": [
       "  0%|          | 0/100 [00:00<?, ?it/s]"
      ]
     },
     "metadata": {},
     "output_type": "display_data"
    },
    {
     "data": {
      "application/vnd.jupyter.widget-view+json": {
       "model_id": "4bd9c699afaa4640bccde6b333a39894",
       "version_major": 2,
       "version_minor": 0
      },
      "text/plain": [
       "  0%|          | 0/100 [00:00<?, ?it/s]"
      ]
     },
     "metadata": {},
     "output_type": "display_data"
    },
    {
     "data": {
      "application/vnd.jupyter.widget-view+json": {
       "model_id": "72a6e30edd5a4f389b95771f9f6807de",
       "version_major": 2,
       "version_minor": 0
      },
      "text/plain": [
       "  0%|          | 0/100 [00:00<?, ?it/s]"
      ]
     },
     "metadata": {},
     "output_type": "display_data"
    },
    {
     "data": {
      "application/vnd.jupyter.widget-view+json": {
       "model_id": "d58dba983f0b49e5ae7fd6ea1ccd5e3b",
       "version_major": 2,
       "version_minor": 0
      },
      "text/plain": [
       "  0%|          | 0/100 [00:00<?, ?it/s]"
      ]
     },
     "metadata": {},
     "output_type": "display_data"
    },
    {
     "data": {
      "application/vnd.jupyter.widget-view+json": {
       "model_id": "9ae76f067be348748bbcbaf2b816ec7c",
       "version_major": 2,
       "version_minor": 0
      },
      "text/plain": [
       "  0%|          | 0/100 [00:00<?, ?it/s]"
      ]
     },
     "metadata": {},
     "output_type": "display_data"
    },
    {
     "data": {
      "application/vnd.jupyter.widget-view+json": {
       "model_id": "de2bef5e21fd42ab80112a3be3aef0a1",
       "version_major": 2,
       "version_minor": 0
      },
      "text/plain": [
       "  0%|          | 0/100 [00:00<?, ?it/s]"
      ]
     },
     "metadata": {},
     "output_type": "display_data"
    },
    {
     "data": {
      "application/vnd.jupyter.widget-view+json": {
       "model_id": "b2b0b4a6ab494608a887847e1b326eee",
       "version_major": 2,
       "version_minor": 0
      },
      "text/plain": [
       "  0%|          | 0/100 [00:00<?, ?it/s]"
      ]
     },
     "metadata": {},
     "output_type": "display_data"
    },
    {
     "data": {
      "application/vnd.jupyter.widget-view+json": {
       "model_id": "64181b32d1ec42f7bebceab7657a7fda",
       "version_major": 2,
       "version_minor": 0
      },
      "text/plain": [
       "  0%|          | 0/100 [00:00<?, ?it/s]"
      ]
     },
     "metadata": {},
     "output_type": "display_data"
    },
    {
     "data": {
      "application/vnd.jupyter.widget-view+json": {
       "model_id": "39c2f53944f443e1bc0d9dc92edac7cb",
       "version_major": 2,
       "version_minor": 0
      },
      "text/plain": [
       "  0%|          | 0/100 [00:00<?, ?it/s]"
      ]
     },
     "metadata": {},
     "output_type": "display_data"
    },
    {
     "data": {
      "application/vnd.jupyter.widget-view+json": {
       "model_id": "07be8b5dfae3480bbb7a9fae78a05d22",
       "version_major": 2,
       "version_minor": 0
      },
      "text/plain": [
       "  0%|          | 0/100 [00:00<?, ?it/s]"
      ]
     },
     "metadata": {},
     "output_type": "display_data"
    },
    {
     "data": {
      "application/vnd.jupyter.widget-view+json": {
       "model_id": "d634f2fe99f54eac8fb812f8bcca3b27",
       "version_major": 2,
       "version_minor": 0
      },
      "text/plain": [
       "  0%|          | 0/100 [00:00<?, ?it/s]"
      ]
     },
     "metadata": {},
     "output_type": "display_data"
    },
    {
     "data": {
      "application/vnd.jupyter.widget-view+json": {
       "model_id": "4c25ae41c89242a8a062e0ba503d853a",
       "version_major": 2,
       "version_minor": 0
      },
      "text/plain": [
       "  0%|          | 0/100 [00:00<?, ?it/s]"
      ]
     },
     "metadata": {},
     "output_type": "display_data"
    },
    {
     "data": {
      "application/vnd.jupyter.widget-view+json": {
       "model_id": "4dba4e3b1013429dae7dd3204bb490a2",
       "version_major": 2,
       "version_minor": 0
      },
      "text/plain": [
       "  0%|          | 0/100 [00:00<?, ?it/s]"
      ]
     },
     "metadata": {},
     "output_type": "display_data"
    },
    {
     "data": {
      "application/vnd.jupyter.widget-view+json": {
       "model_id": "185233251fa6417f96ce698877524bd5",
       "version_major": 2,
       "version_minor": 0
      },
      "text/plain": [
       "  0%|          | 0/100 [00:00<?, ?it/s]"
      ]
     },
     "metadata": {},
     "output_type": "display_data"
    },
    {
     "data": {
      "application/vnd.jupyter.widget-view+json": {
       "model_id": "c981fb126f584fb98dafe09a972644c6",
       "version_major": 2,
       "version_minor": 0
      },
      "text/plain": [
       "  0%|          | 0/100 [00:00<?, ?it/s]"
      ]
     },
     "metadata": {},
     "output_type": "display_data"
    },
    {
     "data": {
      "application/vnd.jupyter.widget-view+json": {
       "model_id": "7701bcb0ef3c4a518ffa841294164f2a",
       "version_major": 2,
       "version_minor": 0
      },
      "text/plain": [
       "  0%|          | 0/100 [00:00<?, ?it/s]"
      ]
     },
     "metadata": {},
     "output_type": "display_data"
    },
    {
     "data": {
      "application/vnd.jupyter.widget-view+json": {
       "model_id": "fcadc090cfe14ee2a07fcb8a1134de89",
       "version_major": 2,
       "version_minor": 0
      },
      "text/plain": [
       "EM Iteration:   0%|          | 0/20 [00:00<?, ?it/s]"
      ]
     },
     "metadata": {},
     "output_type": "display_data"
    },
    {
     "data": {
      "application/vnd.jupyter.widget-view+json": {
       "model_id": "3e4b072256774e328c81592b7235eb44",
       "version_major": 2,
       "version_minor": 0
      },
      "text/plain": [
       "  0%|          | 0/100 [00:00<?, ?it/s]"
      ]
     },
     "metadata": {},
     "output_type": "display_data"
    },
    {
     "data": {
      "application/vnd.jupyter.widget-view+json": {
       "model_id": "34354c74da844adca9b0ee476301d880",
       "version_major": 2,
       "version_minor": 0
      },
      "text/plain": [
       "  0%|          | 0/100 [00:00<?, ?it/s]"
      ]
     },
     "metadata": {},
     "output_type": "display_data"
    },
    {
     "data": {
      "application/vnd.jupyter.widget-view+json": {
       "model_id": "1e068b7e72eb4ba5a5a1f4d3c8415c14",
       "version_major": 2,
       "version_minor": 0
      },
      "text/plain": [
       "  0%|          | 0/100 [00:00<?, ?it/s]"
      ]
     },
     "metadata": {},
     "output_type": "display_data"
    },
    {
     "data": {
      "application/vnd.jupyter.widget-view+json": {
       "model_id": "99eeca01ace9460f8fd815eb9e2da8c0",
       "version_major": 2,
       "version_minor": 0
      },
      "text/plain": [
       "  0%|          | 0/100 [00:00<?, ?it/s]"
      ]
     },
     "metadata": {},
     "output_type": "display_data"
    },
    {
     "data": {
      "application/vnd.jupyter.widget-view+json": {
       "model_id": "49d123ae0016495c914c92d4737c8bc1",
       "version_major": 2,
       "version_minor": 0
      },
      "text/plain": [
       "  0%|          | 0/100 [00:00<?, ?it/s]"
      ]
     },
     "metadata": {},
     "output_type": "display_data"
    },
    {
     "data": {
      "application/vnd.jupyter.widget-view+json": {
       "model_id": "bd84f1785e9c44fb9fde28cac5b929ed",
       "version_major": 2,
       "version_minor": 0
      },
      "text/plain": [
       "  0%|          | 0/100 [00:00<?, ?it/s]"
      ]
     },
     "metadata": {},
     "output_type": "display_data"
    },
    {
     "data": {
      "application/vnd.jupyter.widget-view+json": {
       "model_id": "3572058046644da0bc0169e209c40aaf",
       "version_major": 2,
       "version_minor": 0
      },
      "text/plain": [
       "  0%|          | 0/100 [00:00<?, ?it/s]"
      ]
     },
     "metadata": {},
     "output_type": "display_data"
    },
    {
     "data": {
      "application/vnd.jupyter.widget-view+json": {
       "model_id": "3bf88d6c05244de5877233bdf3fe2001",
       "version_major": 2,
       "version_minor": 0
      },
      "text/plain": [
       "  0%|          | 0/100 [00:00<?, ?it/s]"
      ]
     },
     "metadata": {},
     "output_type": "display_data"
    },
    {
     "data": {
      "application/vnd.jupyter.widget-view+json": {
       "model_id": "79e8bdf2c7c64c6d81439d430df3fbc1",
       "version_major": 2,
       "version_minor": 0
      },
      "text/plain": [
       "  0%|          | 0/100 [00:00<?, ?it/s]"
      ]
     },
     "metadata": {},
     "output_type": "display_data"
    },
    {
     "data": {
      "application/vnd.jupyter.widget-view+json": {
       "model_id": "37ee0da9030e4c2f82e66964967d1fac",
       "version_major": 2,
       "version_minor": 0
      },
      "text/plain": [
       "  0%|          | 0/100 [00:00<?, ?it/s]"
      ]
     },
     "metadata": {},
     "output_type": "display_data"
    },
    {
     "data": {
      "application/vnd.jupyter.widget-view+json": {
       "model_id": "81c52ea3285245a8992e15810d46b4a5",
       "version_major": 2,
       "version_minor": 0
      },
      "text/plain": [
       "  0%|          | 0/100 [00:00<?, ?it/s]"
      ]
     },
     "metadata": {},
     "output_type": "display_data"
    },
    {
     "data": {
      "application/vnd.jupyter.widget-view+json": {
       "model_id": "d5098dbb017e437499ccb4df7b97d6ad",
       "version_major": 2,
       "version_minor": 0
      },
      "text/plain": [
       "  0%|          | 0/100 [00:00<?, ?it/s]"
      ]
     },
     "metadata": {},
     "output_type": "display_data"
    },
    {
     "data": {
      "application/vnd.jupyter.widget-view+json": {
       "model_id": "d7d3d38acb9c4e89aba0a6d4b0231155",
       "version_major": 2,
       "version_minor": 0
      },
      "text/plain": [
       "  0%|          | 0/100 [00:00<?, ?it/s]"
      ]
     },
     "metadata": {},
     "output_type": "display_data"
    },
    {
     "data": {
      "application/vnd.jupyter.widget-view+json": {
       "model_id": "6c5363b7f89444199d111d628ec763ed",
       "version_major": 2,
       "version_minor": 0
      },
      "text/plain": [
       "  0%|          | 0/100 [00:00<?, ?it/s]"
      ]
     },
     "metadata": {},
     "output_type": "display_data"
    },
    {
     "data": {
      "application/vnd.jupyter.widget-view+json": {
       "model_id": "4040a50530d84277a548596aedf9e582",
       "version_major": 2,
       "version_minor": 0
      },
      "text/plain": [
       "  0%|          | 0/100 [00:00<?, ?it/s]"
      ]
     },
     "metadata": {},
     "output_type": "display_data"
    },
    {
     "data": {
      "application/vnd.jupyter.widget-view+json": {
       "model_id": "5c359ad118cf49c8ad2347c019a71b0e",
       "version_major": 2,
       "version_minor": 0
      },
      "text/plain": [
       "  0%|          | 0/100 [00:00<?, ?it/s]"
      ]
     },
     "metadata": {},
     "output_type": "display_data"
    },
    {
     "data": {
      "application/vnd.jupyter.widget-view+json": {
       "model_id": "562c7220930a4fa2b971ddad9a912c0b",
       "version_major": 2,
       "version_minor": 0
      },
      "text/plain": [
       "  0%|          | 0/100 [00:00<?, ?it/s]"
      ]
     },
     "metadata": {},
     "output_type": "display_data"
    },
    {
     "data": {
      "application/vnd.jupyter.widget-view+json": {
       "model_id": "c6400a9e04e4480290f5997b94c6cb6d",
       "version_major": 2,
       "version_minor": 0
      },
      "text/plain": [
       "  0%|          | 0/100 [00:00<?, ?it/s]"
      ]
     },
     "metadata": {},
     "output_type": "display_data"
    },
    {
     "data": {
      "application/vnd.jupyter.widget-view+json": {
       "model_id": "64c551bba47e4cddbe428d7de38119c8",
       "version_major": 2,
       "version_minor": 0
      },
      "text/plain": [
       "  0%|          | 0/100 [00:00<?, ?it/s]"
      ]
     },
     "metadata": {},
     "output_type": "display_data"
    },
    {
     "data": {
      "application/vnd.jupyter.widget-view+json": {
       "model_id": "fc0ee15ce1984cb280fc172e3a7ee5e2",
       "version_major": 2,
       "version_minor": 0
      },
      "text/plain": [
       "  0%|          | 0/100 [00:00<?, ?it/s]"
      ]
     },
     "metadata": {},
     "output_type": "display_data"
    },
    {
     "data": {
      "application/vnd.jupyter.widget-view+json": {
       "model_id": "d2c78ccc0ca24137a11dfc2d9e22afa7",
       "version_major": 2,
       "version_minor": 0
      },
      "text/plain": [
       "EM Iteration:   0%|          | 0/20 [00:00<?, ?it/s]"
      ]
     },
     "metadata": {},
     "output_type": "display_data"
    },
    {
     "data": {
      "application/vnd.jupyter.widget-view+json": {
       "model_id": "9e69fd3e74014e93985637ac91ee9dc5",
       "version_major": 2,
       "version_minor": 0
      },
      "text/plain": [
       "  0%|          | 0/100 [00:00<?, ?it/s]"
      ]
     },
     "metadata": {},
     "output_type": "display_data"
    },
    {
     "data": {
      "application/vnd.jupyter.widget-view+json": {
       "model_id": "ce92f10189c44d36b2d51732486401fc",
       "version_major": 2,
       "version_minor": 0
      },
      "text/plain": [
       "  0%|          | 0/100 [00:00<?, ?it/s]"
      ]
     },
     "metadata": {},
     "output_type": "display_data"
    },
    {
     "data": {
      "application/vnd.jupyter.widget-view+json": {
       "model_id": "de7e61f6ecc74d02b78d719e6b3992b9",
       "version_major": 2,
       "version_minor": 0
      },
      "text/plain": [
       "  0%|          | 0/100 [00:00<?, ?it/s]"
      ]
     },
     "metadata": {},
     "output_type": "display_data"
    },
    {
     "data": {
      "application/vnd.jupyter.widget-view+json": {
       "model_id": "47af13f903b847af87f6aab046562116",
       "version_major": 2,
       "version_minor": 0
      },
      "text/plain": [
       "  0%|          | 0/100 [00:00<?, ?it/s]"
      ]
     },
     "metadata": {},
     "output_type": "display_data"
    },
    {
     "data": {
      "application/vnd.jupyter.widget-view+json": {
       "model_id": "7266802573eb4701aa78b7138537b46b",
       "version_major": 2,
       "version_minor": 0
      },
      "text/plain": [
       "  0%|          | 0/100 [00:00<?, ?it/s]"
      ]
     },
     "metadata": {},
     "output_type": "display_data"
    },
    {
     "data": {
      "application/vnd.jupyter.widget-view+json": {
       "model_id": "838937b4e3714f4ab441e0b89d9b7caf",
       "version_major": 2,
       "version_minor": 0
      },
      "text/plain": [
       "  0%|          | 0/100 [00:00<?, ?it/s]"
      ]
     },
     "metadata": {},
     "output_type": "display_data"
    },
    {
     "data": {
      "application/vnd.jupyter.widget-view+json": {
       "model_id": "d2e3d11ae6d8413ab5866ed193005204",
       "version_major": 2,
       "version_minor": 0
      },
      "text/plain": [
       "  0%|          | 0/100 [00:00<?, ?it/s]"
      ]
     },
     "metadata": {},
     "output_type": "display_data"
    },
    {
     "data": {
      "application/vnd.jupyter.widget-view+json": {
       "model_id": "4b2355c664044fbebb7b743cd48452ad",
       "version_major": 2,
       "version_minor": 0
      },
      "text/plain": [
       "  0%|          | 0/100 [00:00<?, ?it/s]"
      ]
     },
     "metadata": {},
     "output_type": "display_data"
    },
    {
     "data": {
      "application/vnd.jupyter.widget-view+json": {
       "model_id": "cf26dc15bafa42f195156c86dc41327b",
       "version_major": 2,
       "version_minor": 0
      },
      "text/plain": [
       "  0%|          | 0/100 [00:00<?, ?it/s]"
      ]
     },
     "metadata": {},
     "output_type": "display_data"
    },
    {
     "data": {
      "application/vnd.jupyter.widget-view+json": {
       "model_id": "c8b9f04cde6548a8bd80c1568344f789",
       "version_major": 2,
       "version_minor": 0
      },
      "text/plain": [
       "  0%|          | 0/100 [00:00<?, ?it/s]"
      ]
     },
     "metadata": {},
     "output_type": "display_data"
    },
    {
     "data": {
      "application/vnd.jupyter.widget-view+json": {
       "model_id": "54b9d34e3c5b467990dac710205e7d97",
       "version_major": 2,
       "version_minor": 0
      },
      "text/plain": [
       "  0%|          | 0/100 [00:00<?, ?it/s]"
      ]
     },
     "metadata": {},
     "output_type": "display_data"
    },
    {
     "data": {
      "application/vnd.jupyter.widget-view+json": {
       "model_id": "08e512a372a843ec85502a6fbb02654c",
       "version_major": 2,
       "version_minor": 0
      },
      "text/plain": [
       "  0%|          | 0/100 [00:00<?, ?it/s]"
      ]
     },
     "metadata": {},
     "output_type": "display_data"
    },
    {
     "data": {
      "application/vnd.jupyter.widget-view+json": {
       "model_id": "d7d7a7f9ee7749a58719cfc5c8646846",
       "version_major": 2,
       "version_minor": 0
      },
      "text/plain": [
       "  0%|          | 0/100 [00:00<?, ?it/s]"
      ]
     },
     "metadata": {},
     "output_type": "display_data"
    },
    {
     "data": {
      "application/vnd.jupyter.widget-view+json": {
       "model_id": "ae5139a8abc44917b42a906d14efa561",
       "version_major": 2,
       "version_minor": 0
      },
      "text/plain": [
       "  0%|          | 0/100 [00:00<?, ?it/s]"
      ]
     },
     "metadata": {},
     "output_type": "display_data"
    },
    {
     "data": {
      "application/vnd.jupyter.widget-view+json": {
       "model_id": "59f382acbd2a43b6beb7c182bf0edb98",
       "version_major": 2,
       "version_minor": 0
      },
      "text/plain": [
       "  0%|          | 0/100 [00:00<?, ?it/s]"
      ]
     },
     "metadata": {},
     "output_type": "display_data"
    },
    {
     "data": {
      "application/vnd.jupyter.widget-view+json": {
       "model_id": "f1760ab3714f40b2ad8dbcb9afa62f34",
       "version_major": 2,
       "version_minor": 0
      },
      "text/plain": [
       "  0%|          | 0/100 [00:00<?, ?it/s]"
      ]
     },
     "metadata": {},
     "output_type": "display_data"
    },
    {
     "data": {
      "application/vnd.jupyter.widget-view+json": {
       "model_id": "d65de50b1ede47939b58182fd6e49ca1",
       "version_major": 2,
       "version_minor": 0
      },
      "text/plain": [
       "  0%|          | 0/100 [00:00<?, ?it/s]"
      ]
     },
     "metadata": {},
     "output_type": "display_data"
    },
    {
     "data": {
      "application/vnd.jupyter.widget-view+json": {
       "model_id": "85d45b96c09249c89433adfd7ee09664",
       "version_major": 2,
       "version_minor": 0
      },
      "text/plain": [
       "  0%|          | 0/100 [00:00<?, ?it/s]"
      ]
     },
     "metadata": {},
     "output_type": "display_data"
    },
    {
     "data": {
      "application/vnd.jupyter.widget-view+json": {
       "model_id": "d94802a5521742119ca77b82aacf2e8e",
       "version_major": 2,
       "version_minor": 0
      },
      "text/plain": [
       "  0%|          | 0/100 [00:00<?, ?it/s]"
      ]
     },
     "metadata": {},
     "output_type": "display_data"
    },
    {
     "data": {
      "application/vnd.jupyter.widget-view+json": {
       "model_id": "092403e8701744f28a6203503e6f5507",
       "version_major": 2,
       "version_minor": 0
      },
      "text/plain": [
       "  0%|          | 0/100 [00:00<?, ?it/s]"
      ]
     },
     "metadata": {},
     "output_type": "display_data"
    },
    {
     "data": {
      "application/vnd.jupyter.widget-view+json": {
       "model_id": "b26d955f18954ad8bfb1da371dd1842f",
       "version_major": 2,
       "version_minor": 0
      },
      "text/plain": [
       "EM Iteration:   0%|          | 0/20 [00:00<?, ?it/s]"
      ]
     },
     "metadata": {},
     "output_type": "display_data"
    },
    {
     "data": {
      "application/vnd.jupyter.widget-view+json": {
       "model_id": "5f288df5e20348bbb39577c6ca509881",
       "version_major": 2,
       "version_minor": 0
      },
      "text/plain": [
       "  0%|          | 0/100 [00:00<?, ?it/s]"
      ]
     },
     "metadata": {},
     "output_type": "display_data"
    },
    {
     "data": {
      "application/vnd.jupyter.widget-view+json": {
       "model_id": "b88d5a7fc42e491a89395910edafc6b7",
       "version_major": 2,
       "version_minor": 0
      },
      "text/plain": [
       "  0%|          | 0/100 [00:00<?, ?it/s]"
      ]
     },
     "metadata": {},
     "output_type": "display_data"
    },
    {
     "data": {
      "application/vnd.jupyter.widget-view+json": {
       "model_id": "6e1dc2f67a8245d3bff51e6db68fdbb0",
       "version_major": 2,
       "version_minor": 0
      },
      "text/plain": [
       "  0%|          | 0/100 [00:00<?, ?it/s]"
      ]
     },
     "metadata": {},
     "output_type": "display_data"
    },
    {
     "data": {
      "application/vnd.jupyter.widget-view+json": {
       "model_id": "efd12e10e91f45a88e5617e052b7b22a",
       "version_major": 2,
       "version_minor": 0
      },
      "text/plain": [
       "  0%|          | 0/100 [00:00<?, ?it/s]"
      ]
     },
     "metadata": {},
     "output_type": "display_data"
    },
    {
     "data": {
      "application/vnd.jupyter.widget-view+json": {
       "model_id": "c8c2c38d0e80436fac22411c51bc2dfa",
       "version_major": 2,
       "version_minor": 0
      },
      "text/plain": [
       "  0%|          | 0/100 [00:00<?, ?it/s]"
      ]
     },
     "metadata": {},
     "output_type": "display_data"
    },
    {
     "data": {
      "application/vnd.jupyter.widget-view+json": {
       "model_id": "607458a6e04e48cc84d495c84035ce23",
       "version_major": 2,
       "version_minor": 0
      },
      "text/plain": [
       "  0%|          | 0/100 [00:00<?, ?it/s]"
      ]
     },
     "metadata": {},
     "output_type": "display_data"
    },
    {
     "data": {
      "application/vnd.jupyter.widget-view+json": {
       "model_id": "5f9f21de406f416da02aec4079f48672",
       "version_major": 2,
       "version_minor": 0
      },
      "text/plain": [
       "  0%|          | 0/100 [00:00<?, ?it/s]"
      ]
     },
     "metadata": {},
     "output_type": "display_data"
    },
    {
     "data": {
      "application/vnd.jupyter.widget-view+json": {
       "model_id": "f2154c409b37400dafd6bcf385e7d197",
       "version_major": 2,
       "version_minor": 0
      },
      "text/plain": [
       "  0%|          | 0/100 [00:00<?, ?it/s]"
      ]
     },
     "metadata": {},
     "output_type": "display_data"
    },
    {
     "data": {
      "application/vnd.jupyter.widget-view+json": {
       "model_id": "5fb9dbb4d17b4ae385ced19a6155dd1d",
       "version_major": 2,
       "version_minor": 0
      },
      "text/plain": [
       "  0%|          | 0/100 [00:00<?, ?it/s]"
      ]
     },
     "metadata": {},
     "output_type": "display_data"
    },
    {
     "data": {
      "application/vnd.jupyter.widget-view+json": {
       "model_id": "ca7bcabc95394d1293f56c48c14df023",
       "version_major": 2,
       "version_minor": 0
      },
      "text/plain": [
       "  0%|          | 0/100 [00:00<?, ?it/s]"
      ]
     },
     "metadata": {},
     "output_type": "display_data"
    },
    {
     "data": {
      "application/vnd.jupyter.widget-view+json": {
       "model_id": "7cb2983a104949138f5c9d7e0018f9f9",
       "version_major": 2,
       "version_minor": 0
      },
      "text/plain": [
       "  0%|          | 0/100 [00:00<?, ?it/s]"
      ]
     },
     "metadata": {},
     "output_type": "display_data"
    },
    {
     "data": {
      "application/vnd.jupyter.widget-view+json": {
       "model_id": "e129b0b9d1104fa0a890ac9d2cca4613",
       "version_major": 2,
       "version_minor": 0
      },
      "text/plain": [
       "  0%|          | 0/100 [00:00<?, ?it/s]"
      ]
     },
     "metadata": {},
     "output_type": "display_data"
    },
    {
     "data": {
      "application/vnd.jupyter.widget-view+json": {
       "model_id": "bbacd9d679b441a7b9c5358e437c7d57",
       "version_major": 2,
       "version_minor": 0
      },
      "text/plain": [
       "  0%|          | 0/100 [00:00<?, ?it/s]"
      ]
     },
     "metadata": {},
     "output_type": "display_data"
    },
    {
     "data": {
      "application/vnd.jupyter.widget-view+json": {
       "model_id": "ca3445b98054479db9882417f60da31e",
       "version_major": 2,
       "version_minor": 0
      },
      "text/plain": [
       "  0%|          | 0/100 [00:00<?, ?it/s]"
      ]
     },
     "metadata": {},
     "output_type": "display_data"
    },
    {
     "data": {
      "application/vnd.jupyter.widget-view+json": {
       "model_id": "42fcab3c171d400abb06d14908d2504e",
       "version_major": 2,
       "version_minor": 0
      },
      "text/plain": [
       "  0%|          | 0/100 [00:00<?, ?it/s]"
      ]
     },
     "metadata": {},
     "output_type": "display_data"
    },
    {
     "data": {
      "application/vnd.jupyter.widget-view+json": {
       "model_id": "5b468eceaf01447d95ce16d078a55070",
       "version_major": 2,
       "version_minor": 0
      },
      "text/plain": [
       "  0%|          | 0/100 [00:00<?, ?it/s]"
      ]
     },
     "metadata": {},
     "output_type": "display_data"
    },
    {
     "data": {
      "application/vnd.jupyter.widget-view+json": {
       "model_id": "11338d1ff73b42e0905d953254a07137",
       "version_major": 2,
       "version_minor": 0
      },
      "text/plain": [
       "  0%|          | 0/100 [00:00<?, ?it/s]"
      ]
     },
     "metadata": {},
     "output_type": "display_data"
    },
    {
     "data": {
      "application/vnd.jupyter.widget-view+json": {
       "model_id": "64bfa3c4c44e49d29d75748d746cba40",
       "version_major": 2,
       "version_minor": 0
      },
      "text/plain": [
       "  0%|          | 0/100 [00:00<?, ?it/s]"
      ]
     },
     "metadata": {},
     "output_type": "display_data"
    },
    {
     "data": {
      "application/vnd.jupyter.widget-view+json": {
       "model_id": "bf51e659ca3e45d098510d97359222e2",
       "version_major": 2,
       "version_minor": 0
      },
      "text/plain": [
       "  0%|          | 0/100 [00:00<?, ?it/s]"
      ]
     },
     "metadata": {},
     "output_type": "display_data"
    },
    {
     "data": {
      "application/vnd.jupyter.widget-view+json": {
       "model_id": "376956b2f774406988a4cf0e220a5e18",
       "version_major": 2,
       "version_minor": 0
      },
      "text/plain": [
       "  0%|          | 0/100 [00:00<?, ?it/s]"
      ]
     },
     "metadata": {},
     "output_type": "display_data"
    },
    {
     "data": {
      "application/vnd.jupyter.widget-view+json": {
       "model_id": "b3982381fa4f482c9500f36ea73e7951",
       "version_major": 2,
       "version_minor": 0
      },
      "text/plain": [
       "EM Iteration:   0%|          | 0/20 [00:00<?, ?it/s]"
      ]
     },
     "metadata": {},
     "output_type": "display_data"
    },
    {
     "data": {
      "application/vnd.jupyter.widget-view+json": {
       "model_id": "494668818a534f42b25e529a062605e2",
       "version_major": 2,
       "version_minor": 0
      },
      "text/plain": [
       "  0%|          | 0/100 [00:00<?, ?it/s]"
      ]
     },
     "metadata": {},
     "output_type": "display_data"
    },
    {
     "data": {
      "application/vnd.jupyter.widget-view+json": {
       "model_id": "d9eeab25df81462c9dcd47ff6d4be7bc",
       "version_major": 2,
       "version_minor": 0
      },
      "text/plain": [
       "  0%|          | 0/100 [00:00<?, ?it/s]"
      ]
     },
     "metadata": {},
     "output_type": "display_data"
    },
    {
     "data": {
      "application/vnd.jupyter.widget-view+json": {
       "model_id": "109dbd03b6404afd9709ba34cfa11ff9",
       "version_major": 2,
       "version_minor": 0
      },
      "text/plain": [
       "  0%|          | 0/100 [00:00<?, ?it/s]"
      ]
     },
     "metadata": {},
     "output_type": "display_data"
    },
    {
     "data": {
      "application/vnd.jupyter.widget-view+json": {
       "model_id": "b7847b6b4b9346228cfa9685c7ce9bba",
       "version_major": 2,
       "version_minor": 0
      },
      "text/plain": [
       "  0%|          | 0/100 [00:00<?, ?it/s]"
      ]
     },
     "metadata": {},
     "output_type": "display_data"
    },
    {
     "data": {
      "application/vnd.jupyter.widget-view+json": {
       "model_id": "1301d374511a423da3170f5bcbb70c50",
       "version_major": 2,
       "version_minor": 0
      },
      "text/plain": [
       "  0%|          | 0/100 [00:00<?, ?it/s]"
      ]
     },
     "metadata": {},
     "output_type": "display_data"
    },
    {
     "data": {
      "application/vnd.jupyter.widget-view+json": {
       "model_id": "5ad6056f23694c8585c21060e69c6b36",
       "version_major": 2,
       "version_minor": 0
      },
      "text/plain": [
       "  0%|          | 0/100 [00:00<?, ?it/s]"
      ]
     },
     "metadata": {},
     "output_type": "display_data"
    },
    {
     "data": {
      "application/vnd.jupyter.widget-view+json": {
       "model_id": "4c10c1ef5b5e4eebbecababfb3cc20fc",
       "version_major": 2,
       "version_minor": 0
      },
      "text/plain": [
       "  0%|          | 0/100 [00:00<?, ?it/s]"
      ]
     },
     "metadata": {},
     "output_type": "display_data"
    },
    {
     "data": {
      "application/vnd.jupyter.widget-view+json": {
       "model_id": "7aed1fc80f634a949c4ee313a47ff22e",
       "version_major": 2,
       "version_minor": 0
      },
      "text/plain": [
       "  0%|          | 0/100 [00:00<?, ?it/s]"
      ]
     },
     "metadata": {},
     "output_type": "display_data"
    },
    {
     "data": {
      "application/vnd.jupyter.widget-view+json": {
       "model_id": "8b435de3b08944f6a2c946f7204f7578",
       "version_major": 2,
       "version_minor": 0
      },
      "text/plain": [
       "  0%|          | 0/100 [00:00<?, ?it/s]"
      ]
     },
     "metadata": {},
     "output_type": "display_data"
    },
    {
     "data": {
      "application/vnd.jupyter.widget-view+json": {
       "model_id": "17ba2d75c7d54b898c83f7304a3ab7f3",
       "version_major": 2,
       "version_minor": 0
      },
      "text/plain": [
       "  0%|          | 0/100 [00:00<?, ?it/s]"
      ]
     },
     "metadata": {},
     "output_type": "display_data"
    },
    {
     "data": {
      "application/vnd.jupyter.widget-view+json": {
       "model_id": "7ba79dcd71f843cb950c2e22d3b2e2f9",
       "version_major": 2,
       "version_minor": 0
      },
      "text/plain": [
       "  0%|          | 0/100 [00:00<?, ?it/s]"
      ]
     },
     "metadata": {},
     "output_type": "display_data"
    },
    {
     "data": {
      "application/vnd.jupyter.widget-view+json": {
       "model_id": "73951a5857b642629ef49dab91f8c899",
       "version_major": 2,
       "version_minor": 0
      },
      "text/plain": [
       "  0%|          | 0/100 [00:00<?, ?it/s]"
      ]
     },
     "metadata": {},
     "output_type": "display_data"
    },
    {
     "data": {
      "application/vnd.jupyter.widget-view+json": {
       "model_id": "ccd7f9e7087e45099adff93b862b30b1",
       "version_major": 2,
       "version_minor": 0
      },
      "text/plain": [
       "  0%|          | 0/100 [00:00<?, ?it/s]"
      ]
     },
     "metadata": {},
     "output_type": "display_data"
    },
    {
     "data": {
      "application/vnd.jupyter.widget-view+json": {
       "model_id": "ab160fc91e854b81af93d00149ff8b85",
       "version_major": 2,
       "version_minor": 0
      },
      "text/plain": [
       "  0%|          | 0/100 [00:00<?, ?it/s]"
      ]
     },
     "metadata": {},
     "output_type": "display_data"
    },
    {
     "data": {
      "application/vnd.jupyter.widget-view+json": {
       "model_id": "ee9ac1961abf4eb4ac71284c503470d2",
       "version_major": 2,
       "version_minor": 0
      },
      "text/plain": [
       "  0%|          | 0/100 [00:00<?, ?it/s]"
      ]
     },
     "metadata": {},
     "output_type": "display_data"
    },
    {
     "data": {
      "application/vnd.jupyter.widget-view+json": {
       "model_id": "1e8d091a306f4b938e489d1aedfd68ac",
       "version_major": 2,
       "version_minor": 0
      },
      "text/plain": [
       "  0%|          | 0/100 [00:00<?, ?it/s]"
      ]
     },
     "metadata": {},
     "output_type": "display_data"
    },
    {
     "data": {
      "application/vnd.jupyter.widget-view+json": {
       "model_id": "cbcb1ac943b44ec099708d42380c4d43",
       "version_major": 2,
       "version_minor": 0
      },
      "text/plain": [
       "  0%|          | 0/100 [00:00<?, ?it/s]"
      ]
     },
     "metadata": {},
     "output_type": "display_data"
    },
    {
     "data": {
      "application/vnd.jupyter.widget-view+json": {
       "model_id": "e0139805f2214ac8a40e08281f6ca28a",
       "version_major": 2,
       "version_minor": 0
      },
      "text/plain": [
       "  0%|          | 0/100 [00:00<?, ?it/s]"
      ]
     },
     "metadata": {},
     "output_type": "display_data"
    },
    {
     "data": {
      "application/vnd.jupyter.widget-view+json": {
       "model_id": "18d3bfd882da476a96dde89d6d8e7333",
       "version_major": 2,
       "version_minor": 0
      },
      "text/plain": [
       "  0%|          | 0/100 [00:00<?, ?it/s]"
      ]
     },
     "metadata": {},
     "output_type": "display_data"
    },
    {
     "data": {
      "application/vnd.jupyter.widget-view+json": {
       "model_id": "d6b8bea84c3d4150ac5887a5e9e5ad2c",
       "version_major": 2,
       "version_minor": 0
      },
      "text/plain": [
       "  0%|          | 0/100 [00:00<?, ?it/s]"
      ]
     },
     "metadata": {},
     "output_type": "display_data"
    },
    {
     "data": {
      "application/vnd.jupyter.widget-view+json": {
       "model_id": "af5cb40df8ed40eb839dc4d356618a91",
       "version_major": 2,
       "version_minor": 0
      },
      "text/plain": [
       "EM Iteration:   0%|          | 0/20 [00:00<?, ?it/s]"
      ]
     },
     "metadata": {},
     "output_type": "display_data"
    },
    {
     "data": {
      "application/vnd.jupyter.widget-view+json": {
       "model_id": "d751f223a1f24749900ed97eda1f7872",
       "version_major": 2,
       "version_minor": 0
      },
      "text/plain": [
       "  0%|          | 0/100 [00:00<?, ?it/s]"
      ]
     },
     "metadata": {},
     "output_type": "display_data"
    },
    {
     "data": {
      "application/vnd.jupyter.widget-view+json": {
       "model_id": "b1c154cae6d54ff4a3b20050f297f6f6",
       "version_major": 2,
       "version_minor": 0
      },
      "text/plain": [
       "  0%|          | 0/100 [00:00<?, ?it/s]"
      ]
     },
     "metadata": {},
     "output_type": "display_data"
    },
    {
     "data": {
      "application/vnd.jupyter.widget-view+json": {
       "model_id": "0dda0d1f32f34ac0a9b9840a46b12592",
       "version_major": 2,
       "version_minor": 0
      },
      "text/plain": [
       "  0%|          | 0/100 [00:00<?, ?it/s]"
      ]
     },
     "metadata": {},
     "output_type": "display_data"
    },
    {
     "data": {
      "application/vnd.jupyter.widget-view+json": {
       "model_id": "f58b1e85e25642d6bd8eb4b13ed26051",
       "version_major": 2,
       "version_minor": 0
      },
      "text/plain": [
       "  0%|          | 0/100 [00:00<?, ?it/s]"
      ]
     },
     "metadata": {},
     "output_type": "display_data"
    },
    {
     "data": {
      "application/vnd.jupyter.widget-view+json": {
       "model_id": "cc625b29996442fab68ee1b13ec6d7ba",
       "version_major": 2,
       "version_minor": 0
      },
      "text/plain": [
       "  0%|          | 0/100 [00:00<?, ?it/s]"
      ]
     },
     "metadata": {},
     "output_type": "display_data"
    },
    {
     "data": {
      "application/vnd.jupyter.widget-view+json": {
       "model_id": "f3bf4b2f23d041ab98d00b12505102a6",
       "version_major": 2,
       "version_minor": 0
      },
      "text/plain": [
       "  0%|          | 0/100 [00:00<?, ?it/s]"
      ]
     },
     "metadata": {},
     "output_type": "display_data"
    },
    {
     "data": {
      "application/vnd.jupyter.widget-view+json": {
       "model_id": "4b40c44859ac47069983fd967c9342d1",
       "version_major": 2,
       "version_minor": 0
      },
      "text/plain": [
       "  0%|          | 0/100 [00:00<?, ?it/s]"
      ]
     },
     "metadata": {},
     "output_type": "display_data"
    },
    {
     "data": {
      "application/vnd.jupyter.widget-view+json": {
       "model_id": "5e3e6167bcaf436a81d4cef70889c8da",
       "version_major": 2,
       "version_minor": 0
      },
      "text/plain": [
       "  0%|          | 0/100 [00:00<?, ?it/s]"
      ]
     },
     "metadata": {},
     "output_type": "display_data"
    },
    {
     "data": {
      "application/vnd.jupyter.widget-view+json": {
       "model_id": "b75134aa1a444bc3b74f59f3cf4a11c3",
       "version_major": 2,
       "version_minor": 0
      },
      "text/plain": [
       "  0%|          | 0/100 [00:00<?, ?it/s]"
      ]
     },
     "metadata": {},
     "output_type": "display_data"
    },
    {
     "data": {
      "application/vnd.jupyter.widget-view+json": {
       "model_id": "0c40b6a6cfb74f2f86ebcc0fdbc53fae",
       "version_major": 2,
       "version_minor": 0
      },
      "text/plain": [
       "  0%|          | 0/100 [00:00<?, ?it/s]"
      ]
     },
     "metadata": {},
     "output_type": "display_data"
    },
    {
     "data": {
      "application/vnd.jupyter.widget-view+json": {
       "model_id": "ad87f03ac9964d1a9c65c4f9ebd2ee43",
       "version_major": 2,
       "version_minor": 0
      },
      "text/plain": [
       "  0%|          | 0/100 [00:00<?, ?it/s]"
      ]
     },
     "metadata": {},
     "output_type": "display_data"
    },
    {
     "data": {
      "application/vnd.jupyter.widget-view+json": {
       "model_id": "5b42c1f2e95b42cdb3e9f80f6af1ac70",
       "version_major": 2,
       "version_minor": 0
      },
      "text/plain": [
       "  0%|          | 0/100 [00:00<?, ?it/s]"
      ]
     },
     "metadata": {},
     "output_type": "display_data"
    },
    {
     "data": {
      "application/vnd.jupyter.widget-view+json": {
       "model_id": "ad9fc76f73794e76bdaf095b952b2475",
       "version_major": 2,
       "version_minor": 0
      },
      "text/plain": [
       "  0%|          | 0/100 [00:00<?, ?it/s]"
      ]
     },
     "metadata": {},
     "output_type": "display_data"
    },
    {
     "data": {
      "application/vnd.jupyter.widget-view+json": {
       "model_id": "1285d795cfd34021b2d623101379d0d7",
       "version_major": 2,
       "version_minor": 0
      },
      "text/plain": [
       "  0%|          | 0/100 [00:00<?, ?it/s]"
      ]
     },
     "metadata": {},
     "output_type": "display_data"
    },
    {
     "data": {
      "application/vnd.jupyter.widget-view+json": {
       "model_id": "d5f241d133634eb8907a0d3a8e6af24d",
       "version_major": 2,
       "version_minor": 0
      },
      "text/plain": [
       "  0%|          | 0/100 [00:00<?, ?it/s]"
      ]
     },
     "metadata": {},
     "output_type": "display_data"
    },
    {
     "data": {
      "application/vnd.jupyter.widget-view+json": {
       "model_id": "a9a93ba76d2945f2a41dc55cf1807805",
       "version_major": 2,
       "version_minor": 0
      },
      "text/plain": [
       "  0%|          | 0/100 [00:00<?, ?it/s]"
      ]
     },
     "metadata": {},
     "output_type": "display_data"
    },
    {
     "data": {
      "application/vnd.jupyter.widget-view+json": {
       "model_id": "f65947cd9344423a9c11c3e1a0e3afc6",
       "version_major": 2,
       "version_minor": 0
      },
      "text/plain": [
       "  0%|          | 0/100 [00:00<?, ?it/s]"
      ]
     },
     "metadata": {},
     "output_type": "display_data"
    },
    {
     "data": {
      "application/vnd.jupyter.widget-view+json": {
       "model_id": "20011145c0d643538c0d67790012f828",
       "version_major": 2,
       "version_minor": 0
      },
      "text/plain": [
       "  0%|          | 0/100 [00:00<?, ?it/s]"
      ]
     },
     "metadata": {},
     "output_type": "display_data"
    },
    {
     "data": {
      "application/vnd.jupyter.widget-view+json": {
       "model_id": "8a18d3a26b974ee282ddc6eab4a40555",
       "version_major": 2,
       "version_minor": 0
      },
      "text/plain": [
       "  0%|          | 0/100 [00:00<?, ?it/s]"
      ]
     },
     "metadata": {},
     "output_type": "display_data"
    },
    {
     "data": {
      "application/vnd.jupyter.widget-view+json": {
       "model_id": "74a6c69dcee346f68ce15945a27051de",
       "version_major": 2,
       "version_minor": 0
      },
      "text/plain": [
       "  0%|          | 0/100 [00:00<?, ?it/s]"
      ]
     },
     "metadata": {},
     "output_type": "display_data"
    },
    {
     "data": {
      "application/vnd.jupyter.widget-view+json": {
       "model_id": "dcf232cb596b42b59703111464d0cdc0",
       "version_major": 2,
       "version_minor": 0
      },
      "text/plain": [
       "EM Iteration:   0%|          | 0/20 [00:00<?, ?it/s]"
      ]
     },
     "metadata": {},
     "output_type": "display_data"
    },
    {
     "data": {
      "application/vnd.jupyter.widget-view+json": {
       "model_id": "33b7b33381ec4de29c72c1d32ece785c",
       "version_major": 2,
       "version_minor": 0
      },
      "text/plain": [
       "  0%|          | 0/100 [00:00<?, ?it/s]"
      ]
     },
     "metadata": {},
     "output_type": "display_data"
    },
    {
     "data": {
      "application/vnd.jupyter.widget-view+json": {
       "model_id": "98faf36fdb7348f19503fa4d66064c7c",
       "version_major": 2,
       "version_minor": 0
      },
      "text/plain": [
       "  0%|          | 0/100 [00:00<?, ?it/s]"
      ]
     },
     "metadata": {},
     "output_type": "display_data"
    },
    {
     "data": {
      "application/vnd.jupyter.widget-view+json": {
       "model_id": "36c871642fc94d8c8b347889aabdf539",
       "version_major": 2,
       "version_minor": 0
      },
      "text/plain": [
       "  0%|          | 0/100 [00:00<?, ?it/s]"
      ]
     },
     "metadata": {},
     "output_type": "display_data"
    },
    {
     "data": {
      "application/vnd.jupyter.widget-view+json": {
       "model_id": "b4fa65622f1a415a8807ad64a79d7fe7",
       "version_major": 2,
       "version_minor": 0
      },
      "text/plain": [
       "  0%|          | 0/100 [00:00<?, ?it/s]"
      ]
     },
     "metadata": {},
     "output_type": "display_data"
    },
    {
     "data": {
      "application/vnd.jupyter.widget-view+json": {
       "model_id": "34f7615bdfeb4c748d750abd69625b55",
       "version_major": 2,
       "version_minor": 0
      },
      "text/plain": [
       "  0%|          | 0/100 [00:00<?, ?it/s]"
      ]
     },
     "metadata": {},
     "output_type": "display_data"
    },
    {
     "data": {
      "application/vnd.jupyter.widget-view+json": {
       "model_id": "ddf695469ed7443ea78392f8264585ec",
       "version_major": 2,
       "version_minor": 0
      },
      "text/plain": [
       "  0%|          | 0/100 [00:00<?, ?it/s]"
      ]
     },
     "metadata": {},
     "output_type": "display_data"
    },
    {
     "data": {
      "application/vnd.jupyter.widget-view+json": {
       "model_id": "5dbc383d28d9424b90e370c51018b54f",
       "version_major": 2,
       "version_minor": 0
      },
      "text/plain": [
       "  0%|          | 0/100 [00:00<?, ?it/s]"
      ]
     },
     "metadata": {},
     "output_type": "display_data"
    },
    {
     "data": {
      "application/vnd.jupyter.widget-view+json": {
       "model_id": "f7bc6c231ede4c8c8adabad610b6eb1d",
       "version_major": 2,
       "version_minor": 0
      },
      "text/plain": [
       "  0%|          | 0/100 [00:00<?, ?it/s]"
      ]
     },
     "metadata": {},
     "output_type": "display_data"
    },
    {
     "data": {
      "application/vnd.jupyter.widget-view+json": {
       "model_id": "6b34c009a8634507b5d658726a0b539b",
       "version_major": 2,
       "version_minor": 0
      },
      "text/plain": [
       "  0%|          | 0/100 [00:00<?, ?it/s]"
      ]
     },
     "metadata": {},
     "output_type": "display_data"
    },
    {
     "data": {
      "application/vnd.jupyter.widget-view+json": {
       "model_id": "ce8b6109caf447aabc25cb278e3dae7f",
       "version_major": 2,
       "version_minor": 0
      },
      "text/plain": [
       "  0%|          | 0/100 [00:00<?, ?it/s]"
      ]
     },
     "metadata": {},
     "output_type": "display_data"
    },
    {
     "data": {
      "application/vnd.jupyter.widget-view+json": {
       "model_id": "9fafb6feae574784ad0b49cf7da8783f",
       "version_major": 2,
       "version_minor": 0
      },
      "text/plain": [
       "  0%|          | 0/100 [00:00<?, ?it/s]"
      ]
     },
     "metadata": {},
     "output_type": "display_data"
    },
    {
     "data": {
      "application/vnd.jupyter.widget-view+json": {
       "model_id": "d325cd7ee3c6425cbcdaea37825d8ff5",
       "version_major": 2,
       "version_minor": 0
      },
      "text/plain": [
       "  0%|          | 0/100 [00:00<?, ?it/s]"
      ]
     },
     "metadata": {},
     "output_type": "display_data"
    },
    {
     "data": {
      "application/vnd.jupyter.widget-view+json": {
       "model_id": "88854613d7a64410bb9c82215f25c4cf",
       "version_major": 2,
       "version_minor": 0
      },
      "text/plain": [
       "  0%|          | 0/100 [00:00<?, ?it/s]"
      ]
     },
     "metadata": {},
     "output_type": "display_data"
    },
    {
     "data": {
      "application/vnd.jupyter.widget-view+json": {
       "model_id": "fd613c8cf67648deb71d3988cc71f5d8",
       "version_major": 2,
       "version_minor": 0
      },
      "text/plain": [
       "  0%|          | 0/100 [00:00<?, ?it/s]"
      ]
     },
     "metadata": {},
     "output_type": "display_data"
    },
    {
     "data": {
      "application/vnd.jupyter.widget-view+json": {
       "model_id": "2ff197338f5041e3b426e3da208f26a6",
       "version_major": 2,
       "version_minor": 0
      },
      "text/plain": [
       "  0%|          | 0/100 [00:00<?, ?it/s]"
      ]
     },
     "metadata": {},
     "output_type": "display_data"
    },
    {
     "data": {
      "application/vnd.jupyter.widget-view+json": {
       "model_id": "0c37efa372904c76b4fb947e84ce1426",
       "version_major": 2,
       "version_minor": 0
      },
      "text/plain": [
       "  0%|          | 0/100 [00:00<?, ?it/s]"
      ]
     },
     "metadata": {},
     "output_type": "display_data"
    },
    {
     "data": {
      "application/vnd.jupyter.widget-view+json": {
       "model_id": "7e380016efca401dac57d493185dbf8b",
       "version_major": 2,
       "version_minor": 0
      },
      "text/plain": [
       "  0%|          | 0/100 [00:00<?, ?it/s]"
      ]
     },
     "metadata": {},
     "output_type": "display_data"
    },
    {
     "data": {
      "application/vnd.jupyter.widget-view+json": {
       "model_id": "4e7f0d23ac874f759da85323bd23912d",
       "version_major": 2,
       "version_minor": 0
      },
      "text/plain": [
       "  0%|          | 0/100 [00:00<?, ?it/s]"
      ]
     },
     "metadata": {},
     "output_type": "display_data"
    },
    {
     "data": {
      "application/vnd.jupyter.widget-view+json": {
       "model_id": "d91e8db5faba4160a557852c86382799",
       "version_major": 2,
       "version_minor": 0
      },
      "text/plain": [
       "  0%|          | 0/100 [00:00<?, ?it/s]"
      ]
     },
     "metadata": {},
     "output_type": "display_data"
    },
    {
     "data": {
      "application/vnd.jupyter.widget-view+json": {
       "model_id": "32906e2226bc4246b64d21a7e669e87e",
       "version_major": 2,
       "version_minor": 0
      },
      "text/plain": [
       "  0%|          | 0/100 [00:00<?, ?it/s]"
      ]
     },
     "metadata": {},
     "output_type": "display_data"
    },
    {
     "data": {
      "application/vnd.jupyter.widget-view+json": {
       "model_id": "0e55ff55ee854414b4352940334a2172",
       "version_major": 2,
       "version_minor": 0
      },
      "text/plain": [
       "EM Iteration:   0%|          | 0/20 [00:00<?, ?it/s]"
      ]
     },
     "metadata": {},
     "output_type": "display_data"
    },
    {
     "data": {
      "application/vnd.jupyter.widget-view+json": {
       "model_id": "de5e5d32b8d44ca29bfba9177a87f1d0",
       "version_major": 2,
       "version_minor": 0
      },
      "text/plain": [
       "  0%|          | 0/100 [00:00<?, ?it/s]"
      ]
     },
     "metadata": {},
     "output_type": "display_data"
    },
    {
     "data": {
      "application/vnd.jupyter.widget-view+json": {
       "model_id": "a3c07051b5894ce7966355fa04bfab3d",
       "version_major": 2,
       "version_minor": 0
      },
      "text/plain": [
       "  0%|          | 0/100 [00:00<?, ?it/s]"
      ]
     },
     "metadata": {},
     "output_type": "display_data"
    },
    {
     "data": {
      "application/vnd.jupyter.widget-view+json": {
       "model_id": "14c3d63efeff49d398cc42ed2139708c",
       "version_major": 2,
       "version_minor": 0
      },
      "text/plain": [
       "  0%|          | 0/100 [00:00<?, ?it/s]"
      ]
     },
     "metadata": {},
     "output_type": "display_data"
    },
    {
     "data": {
      "application/vnd.jupyter.widget-view+json": {
       "model_id": "c9c288d389254fdfaa70cd5266def27e",
       "version_major": 2,
       "version_minor": 0
      },
      "text/plain": [
       "  0%|          | 0/100 [00:00<?, ?it/s]"
      ]
     },
     "metadata": {},
     "output_type": "display_data"
    },
    {
     "data": {
      "application/vnd.jupyter.widget-view+json": {
       "model_id": "1dda0ca32d6548faaa90101f651bc49a",
       "version_major": 2,
       "version_minor": 0
      },
      "text/plain": [
       "  0%|          | 0/100 [00:00<?, ?it/s]"
      ]
     },
     "metadata": {},
     "output_type": "display_data"
    },
    {
     "data": {
      "application/vnd.jupyter.widget-view+json": {
       "model_id": "c0f631f6ee82409282f0ae5363406a02",
       "version_major": 2,
       "version_minor": 0
      },
      "text/plain": [
       "  0%|          | 0/100 [00:00<?, ?it/s]"
      ]
     },
     "metadata": {},
     "output_type": "display_data"
    },
    {
     "data": {
      "application/vnd.jupyter.widget-view+json": {
       "model_id": "fbcbbb9ef2444eb78f7b3b44deaddfc4",
       "version_major": 2,
       "version_minor": 0
      },
      "text/plain": [
       "  0%|          | 0/100 [00:00<?, ?it/s]"
      ]
     },
     "metadata": {},
     "output_type": "display_data"
    },
    {
     "data": {
      "application/vnd.jupyter.widget-view+json": {
       "model_id": "19229031a58a4696a4acaf3293b847b6",
       "version_major": 2,
       "version_minor": 0
      },
      "text/plain": [
       "  0%|          | 0/100 [00:00<?, ?it/s]"
      ]
     },
     "metadata": {},
     "output_type": "display_data"
    },
    {
     "data": {
      "application/vnd.jupyter.widget-view+json": {
       "model_id": "214605e78b95491b98dd79d8bd955565",
       "version_major": 2,
       "version_minor": 0
      },
      "text/plain": [
       "  0%|          | 0/100 [00:00<?, ?it/s]"
      ]
     },
     "metadata": {},
     "output_type": "display_data"
    },
    {
     "data": {
      "application/vnd.jupyter.widget-view+json": {
       "model_id": "a913423ad9e74025977648d375786793",
       "version_major": 2,
       "version_minor": 0
      },
      "text/plain": [
       "  0%|          | 0/100 [00:00<?, ?it/s]"
      ]
     },
     "metadata": {},
     "output_type": "display_data"
    },
    {
     "data": {
      "application/vnd.jupyter.widget-view+json": {
       "model_id": "1d2392cff1c748e0a0e76c02a7097c91",
       "version_major": 2,
       "version_minor": 0
      },
      "text/plain": [
       "  0%|          | 0/100 [00:00<?, ?it/s]"
      ]
     },
     "metadata": {},
     "output_type": "display_data"
    },
    {
     "data": {
      "application/vnd.jupyter.widget-view+json": {
       "model_id": "36b5ef0a9f6447cfab159b6d64c9b07c",
       "version_major": 2,
       "version_minor": 0
      },
      "text/plain": [
       "  0%|          | 0/100 [00:00<?, ?it/s]"
      ]
     },
     "metadata": {},
     "output_type": "display_data"
    },
    {
     "data": {
      "application/vnd.jupyter.widget-view+json": {
       "model_id": "bc037f63c2b34b91947ab7b694283813",
       "version_major": 2,
       "version_minor": 0
      },
      "text/plain": [
       "  0%|          | 0/100 [00:00<?, ?it/s]"
      ]
     },
     "metadata": {},
     "output_type": "display_data"
    },
    {
     "data": {
      "application/vnd.jupyter.widget-view+json": {
       "model_id": "ee4c8e27997147b697167ccc809c4efc",
       "version_major": 2,
       "version_minor": 0
      },
      "text/plain": [
       "  0%|          | 0/100 [00:00<?, ?it/s]"
      ]
     },
     "metadata": {},
     "output_type": "display_data"
    },
    {
     "data": {
      "application/vnd.jupyter.widget-view+json": {
       "model_id": "5db6bed726f64f68979f60b0aa898814",
       "version_major": 2,
       "version_minor": 0
      },
      "text/plain": [
       "  0%|          | 0/100 [00:00<?, ?it/s]"
      ]
     },
     "metadata": {},
     "output_type": "display_data"
    },
    {
     "data": {
      "application/vnd.jupyter.widget-view+json": {
       "model_id": "4b6556e0455647b8a4c66fbe01ae64a4",
       "version_major": 2,
       "version_minor": 0
      },
      "text/plain": [
       "  0%|          | 0/100 [00:00<?, ?it/s]"
      ]
     },
     "metadata": {},
     "output_type": "display_data"
    },
    {
     "data": {
      "application/vnd.jupyter.widget-view+json": {
       "model_id": "c0dabec81f1b471996a557e972628d38",
       "version_major": 2,
       "version_minor": 0
      },
      "text/plain": [
       "  0%|          | 0/100 [00:00<?, ?it/s]"
      ]
     },
     "metadata": {},
     "output_type": "display_data"
    },
    {
     "data": {
      "application/vnd.jupyter.widget-view+json": {
       "model_id": "784e7773e7324d2eb13ab17db84c98a9",
       "version_major": 2,
       "version_minor": 0
      },
      "text/plain": [
       "  0%|          | 0/100 [00:00<?, ?it/s]"
      ]
     },
     "metadata": {},
     "output_type": "display_data"
    },
    {
     "data": {
      "application/vnd.jupyter.widget-view+json": {
       "model_id": "57313135b77e4fe09a4a98ba8b356f1b",
       "version_major": 2,
       "version_minor": 0
      },
      "text/plain": [
       "  0%|          | 0/100 [00:00<?, ?it/s]"
      ]
     },
     "metadata": {},
     "output_type": "display_data"
    },
    {
     "data": {
      "application/vnd.jupyter.widget-view+json": {
       "model_id": "885d5cc154af4591bade9edf01b535bc",
       "version_major": 2,
       "version_minor": 0
      },
      "text/plain": [
       "  0%|          | 0/100 [00:00<?, ?it/s]"
      ]
     },
     "metadata": {},
     "output_type": "display_data"
    },
    {
     "data": {
      "application/vnd.jupyter.widget-view+json": {
       "model_id": "33a2c8b737f642e3a4310773a45b10d5",
       "version_major": 2,
       "version_minor": 0
      },
      "text/plain": [
       "EM Iteration:   0%|          | 0/20 [00:00<?, ?it/s]"
      ]
     },
     "metadata": {},
     "output_type": "display_data"
    },
    {
     "data": {
      "application/vnd.jupyter.widget-view+json": {
       "model_id": "6069268d47b74597bd14b7cac0f1e5d0",
       "version_major": 2,
       "version_minor": 0
      },
      "text/plain": [
       "  0%|          | 0/100 [00:00<?, ?it/s]"
      ]
     },
     "metadata": {},
     "output_type": "display_data"
    },
    {
     "data": {
      "application/vnd.jupyter.widget-view+json": {
       "model_id": "814d35550a5e49e4801a39ad03ebaf17",
       "version_major": 2,
       "version_minor": 0
      },
      "text/plain": [
       "  0%|          | 0/100 [00:00<?, ?it/s]"
      ]
     },
     "metadata": {},
     "output_type": "display_data"
    },
    {
     "data": {
      "application/vnd.jupyter.widget-view+json": {
       "model_id": "21b928e228a640f685ba7d1ac3227889",
       "version_major": 2,
       "version_minor": 0
      },
      "text/plain": [
       "  0%|          | 0/100 [00:00<?, ?it/s]"
      ]
     },
     "metadata": {},
     "output_type": "display_data"
    },
    {
     "data": {
      "application/vnd.jupyter.widget-view+json": {
       "model_id": "213f07c778984380bde80ff41183429d",
       "version_major": 2,
       "version_minor": 0
      },
      "text/plain": [
       "  0%|          | 0/100 [00:00<?, ?it/s]"
      ]
     },
     "metadata": {},
     "output_type": "display_data"
    },
    {
     "data": {
      "application/vnd.jupyter.widget-view+json": {
       "model_id": "d82eed2e5bd443b5bdbee41bd6b123d6",
       "version_major": 2,
       "version_minor": 0
      },
      "text/plain": [
       "  0%|          | 0/100 [00:00<?, ?it/s]"
      ]
     },
     "metadata": {},
     "output_type": "display_data"
    },
    {
     "data": {
      "application/vnd.jupyter.widget-view+json": {
       "model_id": "68071f65fae94d43b388b59666448eec",
       "version_major": 2,
       "version_minor": 0
      },
      "text/plain": [
       "  0%|          | 0/100 [00:00<?, ?it/s]"
      ]
     },
     "metadata": {},
     "output_type": "display_data"
    },
    {
     "data": {
      "application/vnd.jupyter.widget-view+json": {
       "model_id": "4dff10254b634c88a5fc44512b56505d",
       "version_major": 2,
       "version_minor": 0
      },
      "text/plain": [
       "  0%|          | 0/100 [00:00<?, ?it/s]"
      ]
     },
     "metadata": {},
     "output_type": "display_data"
    },
    {
     "data": {
      "application/vnd.jupyter.widget-view+json": {
       "model_id": "77f65b405dc94334af83712e29f1ccb9",
       "version_major": 2,
       "version_minor": 0
      },
      "text/plain": [
       "  0%|          | 0/100 [00:00<?, ?it/s]"
      ]
     },
     "metadata": {},
     "output_type": "display_data"
    },
    {
     "data": {
      "application/vnd.jupyter.widget-view+json": {
       "model_id": "f0ec0cc8adf849549d21850efe73fb88",
       "version_major": 2,
       "version_minor": 0
      },
      "text/plain": [
       "  0%|          | 0/100 [00:00<?, ?it/s]"
      ]
     },
     "metadata": {},
     "output_type": "display_data"
    },
    {
     "data": {
      "application/vnd.jupyter.widget-view+json": {
       "model_id": "9f69c40ea57f4137a9e9294c0a2f9d93",
       "version_major": 2,
       "version_minor": 0
      },
      "text/plain": [
       "  0%|          | 0/100 [00:00<?, ?it/s]"
      ]
     },
     "metadata": {},
     "output_type": "display_data"
    },
    {
     "data": {
      "application/vnd.jupyter.widget-view+json": {
       "model_id": "24ee40abdf9f49cb939d9e0ffa0d93bc",
       "version_major": 2,
       "version_minor": 0
      },
      "text/plain": [
       "  0%|          | 0/100 [00:00<?, ?it/s]"
      ]
     },
     "metadata": {},
     "output_type": "display_data"
    },
    {
     "data": {
      "application/vnd.jupyter.widget-view+json": {
       "model_id": "a1471f2d1fcb43a6b6156f9c20bd18e8",
       "version_major": 2,
       "version_minor": 0
      },
      "text/plain": [
       "  0%|          | 0/100 [00:00<?, ?it/s]"
      ]
     },
     "metadata": {},
     "output_type": "display_data"
    },
    {
     "data": {
      "application/vnd.jupyter.widget-view+json": {
       "model_id": "a0ee32d813204f6a84b86972d726b7b0",
       "version_major": 2,
       "version_minor": 0
      },
      "text/plain": [
       "  0%|          | 0/100 [00:00<?, ?it/s]"
      ]
     },
     "metadata": {},
     "output_type": "display_data"
    },
    {
     "data": {
      "application/vnd.jupyter.widget-view+json": {
       "model_id": "db7ed2a8faa34380a86da800c957aeb5",
       "version_major": 2,
       "version_minor": 0
      },
      "text/plain": [
       "  0%|          | 0/100 [00:00<?, ?it/s]"
      ]
     },
     "metadata": {},
     "output_type": "display_data"
    },
    {
     "data": {
      "application/vnd.jupyter.widget-view+json": {
       "model_id": "46fbe53fc6e642cfbc88047811486cd9",
       "version_major": 2,
       "version_minor": 0
      },
      "text/plain": [
       "  0%|          | 0/100 [00:00<?, ?it/s]"
      ]
     },
     "metadata": {},
     "output_type": "display_data"
    },
    {
     "data": {
      "application/vnd.jupyter.widget-view+json": {
       "model_id": "fae34a26498c451fb86527e18f84f605",
       "version_major": 2,
       "version_minor": 0
      },
      "text/plain": [
       "  0%|          | 0/100 [00:00<?, ?it/s]"
      ]
     },
     "metadata": {},
     "output_type": "display_data"
    },
    {
     "data": {
      "application/vnd.jupyter.widget-view+json": {
       "model_id": "9f3269f6edd44710917e22b6329c54ac",
       "version_major": 2,
       "version_minor": 0
      },
      "text/plain": [
       "  0%|          | 0/100 [00:00<?, ?it/s]"
      ]
     },
     "metadata": {},
     "output_type": "display_data"
    },
    {
     "data": {
      "application/vnd.jupyter.widget-view+json": {
       "model_id": "1cc8451a364646b986bda08efd423856",
       "version_major": 2,
       "version_minor": 0
      },
      "text/plain": [
       "  0%|          | 0/100 [00:00<?, ?it/s]"
      ]
     },
     "metadata": {},
     "output_type": "display_data"
    },
    {
     "data": {
      "application/vnd.jupyter.widget-view+json": {
       "model_id": "6b603042c56745c68501e610a879e04c",
       "version_major": 2,
       "version_minor": 0
      },
      "text/plain": [
       "  0%|          | 0/100 [00:00<?, ?it/s]"
      ]
     },
     "metadata": {},
     "output_type": "display_data"
    },
    {
     "data": {
      "application/vnd.jupyter.widget-view+json": {
       "model_id": "3c94f34ea0ba407d965567671f9ec97d",
       "version_major": 2,
       "version_minor": 0
      },
      "text/plain": [
       "  0%|          | 0/100 [00:00<?, ?it/s]"
      ]
     },
     "metadata": {},
     "output_type": "display_data"
    },
    {
     "data": {
      "application/vnd.jupyter.widget-view+json": {
       "model_id": "63edaf6d65ee418d8faf5eeebc2d4ce9",
       "version_major": 2,
       "version_minor": 0
      },
      "text/plain": [
       "EM Iteration:   0%|          | 0/20 [00:00<?, ?it/s]"
      ]
     },
     "metadata": {},
     "output_type": "display_data"
    },
    {
     "data": {
      "application/vnd.jupyter.widget-view+json": {
       "model_id": "189d636b1f364fcf99b601886c077d26",
       "version_major": 2,
       "version_minor": 0
      },
      "text/plain": [
       "  0%|          | 0/100 [00:00<?, ?it/s]"
      ]
     },
     "metadata": {},
     "output_type": "display_data"
    },
    {
     "data": {
      "application/vnd.jupyter.widget-view+json": {
       "model_id": "7f70ab407ae74e41a336cffb5b7a5d53",
       "version_major": 2,
       "version_minor": 0
      },
      "text/plain": [
       "  0%|          | 0/100 [00:00<?, ?it/s]"
      ]
     },
     "metadata": {},
     "output_type": "display_data"
    },
    {
     "data": {
      "application/vnd.jupyter.widget-view+json": {
       "model_id": "219a537222414d6e8d1e169697f4e470",
       "version_major": 2,
       "version_minor": 0
      },
      "text/plain": [
       "  0%|          | 0/100 [00:00<?, ?it/s]"
      ]
     },
     "metadata": {},
     "output_type": "display_data"
    },
    {
     "data": {
      "application/vnd.jupyter.widget-view+json": {
       "model_id": "a7a567848d1c41b8b7ff4085aff9f448",
       "version_major": 2,
       "version_minor": 0
      },
      "text/plain": [
       "  0%|          | 0/100 [00:00<?, ?it/s]"
      ]
     },
     "metadata": {},
     "output_type": "display_data"
    },
    {
     "data": {
      "application/vnd.jupyter.widget-view+json": {
       "model_id": "05b9986d30d547818d8ddb9a91287dc4",
       "version_major": 2,
       "version_minor": 0
      },
      "text/plain": [
       "  0%|          | 0/100 [00:00<?, ?it/s]"
      ]
     },
     "metadata": {},
     "output_type": "display_data"
    },
    {
     "data": {
      "application/vnd.jupyter.widget-view+json": {
       "model_id": "ef659bba076c4b4c9eb03598c4909ab9",
       "version_major": 2,
       "version_minor": 0
      },
      "text/plain": [
       "  0%|          | 0/100 [00:00<?, ?it/s]"
      ]
     },
     "metadata": {},
     "output_type": "display_data"
    },
    {
     "data": {
      "application/vnd.jupyter.widget-view+json": {
       "model_id": "aa123de205af4d6d83bd717a56c15398",
       "version_major": 2,
       "version_minor": 0
      },
      "text/plain": [
       "  0%|          | 0/100 [00:00<?, ?it/s]"
      ]
     },
     "metadata": {},
     "output_type": "display_data"
    },
    {
     "data": {
      "application/vnd.jupyter.widget-view+json": {
       "model_id": "f8aa8a05fa374422a7d624a1389ef00e",
       "version_major": 2,
       "version_minor": 0
      },
      "text/plain": [
       "  0%|          | 0/100 [00:00<?, ?it/s]"
      ]
     },
     "metadata": {},
     "output_type": "display_data"
    },
    {
     "data": {
      "application/vnd.jupyter.widget-view+json": {
       "model_id": "d64d2fc6c89045ebae7eac7af41f0d0c",
       "version_major": 2,
       "version_minor": 0
      },
      "text/plain": [
       "  0%|          | 0/100 [00:00<?, ?it/s]"
      ]
     },
     "metadata": {},
     "output_type": "display_data"
    },
    {
     "data": {
      "application/vnd.jupyter.widget-view+json": {
       "model_id": "165cb5a17f95483aafc2a64bcc671896",
       "version_major": 2,
       "version_minor": 0
      },
      "text/plain": [
       "  0%|          | 0/100 [00:00<?, ?it/s]"
      ]
     },
     "metadata": {},
     "output_type": "display_data"
    },
    {
     "data": {
      "application/vnd.jupyter.widget-view+json": {
       "model_id": "dad9c36b8af04afcbbf03e4b8071bb88",
       "version_major": 2,
       "version_minor": 0
      },
      "text/plain": [
       "  0%|          | 0/100 [00:00<?, ?it/s]"
      ]
     },
     "metadata": {},
     "output_type": "display_data"
    },
    {
     "data": {
      "application/vnd.jupyter.widget-view+json": {
       "model_id": "6830e3cc8eb845d7a1be9fe234061aa2",
       "version_major": 2,
       "version_minor": 0
      },
      "text/plain": [
       "  0%|          | 0/100 [00:00<?, ?it/s]"
      ]
     },
     "metadata": {},
     "output_type": "display_data"
    },
    {
     "data": {
      "application/vnd.jupyter.widget-view+json": {
       "model_id": "7418c4e18c3249d8b1e20cc229a72a08",
       "version_major": 2,
       "version_minor": 0
      },
      "text/plain": [
       "  0%|          | 0/100 [00:00<?, ?it/s]"
      ]
     },
     "metadata": {},
     "output_type": "display_data"
    },
    {
     "data": {
      "application/vnd.jupyter.widget-view+json": {
       "model_id": "8c63b9232ca6459b8f7cf17166273c1f",
       "version_major": 2,
       "version_minor": 0
      },
      "text/plain": [
       "  0%|          | 0/100 [00:00<?, ?it/s]"
      ]
     },
     "metadata": {},
     "output_type": "display_data"
    },
    {
     "data": {
      "application/vnd.jupyter.widget-view+json": {
       "model_id": "ad1b6e10c045437fbab7b4a9c8fd6317",
       "version_major": 2,
       "version_minor": 0
      },
      "text/plain": [
       "  0%|          | 0/100 [00:00<?, ?it/s]"
      ]
     },
     "metadata": {},
     "output_type": "display_data"
    },
    {
     "data": {
      "application/vnd.jupyter.widget-view+json": {
       "model_id": "693276c44b8443c6acf17fe1097f28ad",
       "version_major": 2,
       "version_minor": 0
      },
      "text/plain": [
       "  0%|          | 0/100 [00:00<?, ?it/s]"
      ]
     },
     "metadata": {},
     "output_type": "display_data"
    },
    {
     "data": {
      "application/vnd.jupyter.widget-view+json": {
       "model_id": "de666e43158945dd9c0387dc95ccee43",
       "version_major": 2,
       "version_minor": 0
      },
      "text/plain": [
       "  0%|          | 0/100 [00:00<?, ?it/s]"
      ]
     },
     "metadata": {},
     "output_type": "display_data"
    },
    {
     "data": {
      "application/vnd.jupyter.widget-view+json": {
       "model_id": "78519ddcf49f4219bb80d803cab70a0d",
       "version_major": 2,
       "version_minor": 0
      },
      "text/plain": [
       "  0%|          | 0/100 [00:00<?, ?it/s]"
      ]
     },
     "metadata": {},
     "output_type": "display_data"
    },
    {
     "data": {
      "application/vnd.jupyter.widget-view+json": {
       "model_id": "6cbc070161014f1fa75b57eb01c8c118",
       "version_major": 2,
       "version_minor": 0
      },
      "text/plain": [
       "  0%|          | 0/100 [00:00<?, ?it/s]"
      ]
     },
     "metadata": {},
     "output_type": "display_data"
    },
    {
     "data": {
      "application/vnd.jupyter.widget-view+json": {
       "model_id": "066be7705f374cd5ab06a376f7c94bc2",
       "version_major": 2,
       "version_minor": 0
      },
      "text/plain": [
       "  0%|          | 0/100 [00:00<?, ?it/s]"
      ]
     },
     "metadata": {},
     "output_type": "display_data"
    },
    {
     "data": {
      "application/vnd.jupyter.widget-view+json": {
       "model_id": "cb08836829bd498a85e7f358e79be8bc",
       "version_major": 2,
       "version_minor": 0
      },
      "text/plain": [
       "EM Iteration:   0%|          | 0/20 [00:00<?, ?it/s]"
      ]
     },
     "metadata": {},
     "output_type": "display_data"
    },
    {
     "data": {
      "application/vnd.jupyter.widget-view+json": {
       "model_id": "46ae6d4131ce4a09a10e315e81ac9be9",
       "version_major": 2,
       "version_minor": 0
      },
      "text/plain": [
       "  0%|          | 0/100 [00:00<?, ?it/s]"
      ]
     },
     "metadata": {},
     "output_type": "display_data"
    },
    {
     "data": {
      "application/vnd.jupyter.widget-view+json": {
       "model_id": "1bf1c080121a4f3191183b7f58cfee1b",
       "version_major": 2,
       "version_minor": 0
      },
      "text/plain": [
       "  0%|          | 0/100 [00:00<?, ?it/s]"
      ]
     },
     "metadata": {},
     "output_type": "display_data"
    },
    {
     "data": {
      "application/vnd.jupyter.widget-view+json": {
       "model_id": "4bb6b931c3f14456a5a800fce539707b",
       "version_major": 2,
       "version_minor": 0
      },
      "text/plain": [
       "  0%|          | 0/100 [00:00<?, ?it/s]"
      ]
     },
     "metadata": {},
     "output_type": "display_data"
    },
    {
     "data": {
      "application/vnd.jupyter.widget-view+json": {
       "model_id": "50e0ad0747bd4a5996aad57d446c51f4",
       "version_major": 2,
       "version_minor": 0
      },
      "text/plain": [
       "  0%|          | 0/100 [00:00<?, ?it/s]"
      ]
     },
     "metadata": {},
     "output_type": "display_data"
    },
    {
     "data": {
      "application/vnd.jupyter.widget-view+json": {
       "model_id": "05f3d015512f4ca38bf743a9c235f952",
       "version_major": 2,
       "version_minor": 0
      },
      "text/plain": [
       "  0%|          | 0/100 [00:00<?, ?it/s]"
      ]
     },
     "metadata": {},
     "output_type": "display_data"
    },
    {
     "data": {
      "application/vnd.jupyter.widget-view+json": {
       "model_id": "db5a5c3b2dbf4becbbf0a706650d2a61",
       "version_major": 2,
       "version_minor": 0
      },
      "text/plain": [
       "  0%|          | 0/100 [00:00<?, ?it/s]"
      ]
     },
     "metadata": {},
     "output_type": "display_data"
    },
    {
     "data": {
      "application/vnd.jupyter.widget-view+json": {
       "model_id": "1dae9388934c44bf8f2cf26fb9aa7ad2",
       "version_major": 2,
       "version_minor": 0
      },
      "text/plain": [
       "  0%|          | 0/100 [00:00<?, ?it/s]"
      ]
     },
     "metadata": {},
     "output_type": "display_data"
    },
    {
     "data": {
      "application/vnd.jupyter.widget-view+json": {
       "model_id": "9fc0674711fe4589a05f599583f114dd",
       "version_major": 2,
       "version_minor": 0
      },
      "text/plain": [
       "  0%|          | 0/100 [00:00<?, ?it/s]"
      ]
     },
     "metadata": {},
     "output_type": "display_data"
    },
    {
     "data": {
      "application/vnd.jupyter.widget-view+json": {
       "model_id": "122fac695735485c839ebdc88c1aa69d",
       "version_major": 2,
       "version_minor": 0
      },
      "text/plain": [
       "  0%|          | 0/100 [00:00<?, ?it/s]"
      ]
     },
     "metadata": {},
     "output_type": "display_data"
    },
    {
     "data": {
      "application/vnd.jupyter.widget-view+json": {
       "model_id": "40b013333748453aa53d177ef44e2d10",
       "version_major": 2,
       "version_minor": 0
      },
      "text/plain": [
       "  0%|          | 0/100 [00:00<?, ?it/s]"
      ]
     },
     "metadata": {},
     "output_type": "display_data"
    },
    {
     "data": {
      "application/vnd.jupyter.widget-view+json": {
       "model_id": "28e86c9e1ae04d1298eec63d348881de",
       "version_major": 2,
       "version_minor": 0
      },
      "text/plain": [
       "  0%|          | 0/100 [00:00<?, ?it/s]"
      ]
     },
     "metadata": {},
     "output_type": "display_data"
    },
    {
     "data": {
      "application/vnd.jupyter.widget-view+json": {
       "model_id": "0f4bca6ba7f84e88a17b9556d770c48a",
       "version_major": 2,
       "version_minor": 0
      },
      "text/plain": [
       "  0%|          | 0/100 [00:00<?, ?it/s]"
      ]
     },
     "metadata": {},
     "output_type": "display_data"
    },
    {
     "data": {
      "application/vnd.jupyter.widget-view+json": {
       "model_id": "a1afc01b3c544f8fb95d5c8d7b1e373b",
       "version_major": 2,
       "version_minor": 0
      },
      "text/plain": [
       "  0%|          | 0/100 [00:00<?, ?it/s]"
      ]
     },
     "metadata": {},
     "output_type": "display_data"
    },
    {
     "data": {
      "application/vnd.jupyter.widget-view+json": {
       "model_id": "d6945495a95041d4b96490a7a9b2b05c",
       "version_major": 2,
       "version_minor": 0
      },
      "text/plain": [
       "  0%|          | 0/100 [00:00<?, ?it/s]"
      ]
     },
     "metadata": {},
     "output_type": "display_data"
    },
    {
     "data": {
      "application/vnd.jupyter.widget-view+json": {
       "model_id": "93a273a88172436f8eb71107a2cdbd8d",
       "version_major": 2,
       "version_minor": 0
      },
      "text/plain": [
       "  0%|          | 0/100 [00:00<?, ?it/s]"
      ]
     },
     "metadata": {},
     "output_type": "display_data"
    },
    {
     "data": {
      "application/vnd.jupyter.widget-view+json": {
       "model_id": "45bd0ae893834fd8bbe420da0bbe1570",
       "version_major": 2,
       "version_minor": 0
      },
      "text/plain": [
       "  0%|          | 0/100 [00:00<?, ?it/s]"
      ]
     },
     "metadata": {},
     "output_type": "display_data"
    },
    {
     "data": {
      "application/vnd.jupyter.widget-view+json": {
       "model_id": "372dc6fb21cb4655abdfa407dbbfb7d3",
       "version_major": 2,
       "version_minor": 0
      },
      "text/plain": [
       "  0%|          | 0/100 [00:00<?, ?it/s]"
      ]
     },
     "metadata": {},
     "output_type": "display_data"
    },
    {
     "data": {
      "application/vnd.jupyter.widget-view+json": {
       "model_id": "8f95964295bf4923a48768bff98b267a",
       "version_major": 2,
       "version_minor": 0
      },
      "text/plain": [
       "  0%|          | 0/100 [00:00<?, ?it/s]"
      ]
     },
     "metadata": {},
     "output_type": "display_data"
    },
    {
     "data": {
      "application/vnd.jupyter.widget-view+json": {
       "model_id": "73f4553918de4f4ea803710471dc85a8",
       "version_major": 2,
       "version_minor": 0
      },
      "text/plain": [
       "  0%|          | 0/100 [00:00<?, ?it/s]"
      ]
     },
     "metadata": {},
     "output_type": "display_data"
    },
    {
     "data": {
      "application/vnd.jupyter.widget-view+json": {
       "model_id": "30a7c8c291a04182866ffe5c8a972a3a",
       "version_major": 2,
       "version_minor": 0
      },
      "text/plain": [
       "  0%|          | 0/100 [00:00<?, ?it/s]"
      ]
     },
     "metadata": {},
     "output_type": "display_data"
    },
    {
     "data": {
      "application/vnd.jupyter.widget-view+json": {
       "model_id": "eee7c79da0034177abd28858e8ff238e",
       "version_major": 2,
       "version_minor": 0
      },
      "text/plain": [
       "EM Iteration:   0%|          | 0/20 [00:00<?, ?it/s]"
      ]
     },
     "metadata": {},
     "output_type": "display_data"
    },
    {
     "data": {
      "application/vnd.jupyter.widget-view+json": {
       "model_id": "2080ebdb1235402fbd9ef2f22384e9e5",
       "version_major": 2,
       "version_minor": 0
      },
      "text/plain": [
       "  0%|          | 0/100 [00:00<?, ?it/s]"
      ]
     },
     "metadata": {},
     "output_type": "display_data"
    },
    {
     "data": {
      "application/vnd.jupyter.widget-view+json": {
       "model_id": "a866c8a25c7345e5adeb05a26dadb2b6",
       "version_major": 2,
       "version_minor": 0
      },
      "text/plain": [
       "  0%|          | 0/100 [00:00<?, ?it/s]"
      ]
     },
     "metadata": {},
     "output_type": "display_data"
    },
    {
     "data": {
      "application/vnd.jupyter.widget-view+json": {
       "model_id": "a31fedcbbf214c8e8b792dfa2a19ce5d",
       "version_major": 2,
       "version_minor": 0
      },
      "text/plain": [
       "  0%|          | 0/100 [00:00<?, ?it/s]"
      ]
     },
     "metadata": {},
     "output_type": "display_data"
    },
    {
     "data": {
      "application/vnd.jupyter.widget-view+json": {
       "model_id": "77b7e68f0f264d7799fff371aa309bee",
       "version_major": 2,
       "version_minor": 0
      },
      "text/plain": [
       "  0%|          | 0/100 [00:00<?, ?it/s]"
      ]
     },
     "metadata": {},
     "output_type": "display_data"
    },
    {
     "data": {
      "application/vnd.jupyter.widget-view+json": {
       "model_id": "12fbec3093ab4d79aeeda58de5db321b",
       "version_major": 2,
       "version_minor": 0
      },
      "text/plain": [
       "  0%|          | 0/100 [00:00<?, ?it/s]"
      ]
     },
     "metadata": {},
     "output_type": "display_data"
    },
    {
     "data": {
      "application/vnd.jupyter.widget-view+json": {
       "model_id": "93be4f84851849ffa78df45a94a89de0",
       "version_major": 2,
       "version_minor": 0
      },
      "text/plain": [
       "  0%|          | 0/100 [00:00<?, ?it/s]"
      ]
     },
     "metadata": {},
     "output_type": "display_data"
    },
    {
     "data": {
      "application/vnd.jupyter.widget-view+json": {
       "model_id": "e2217fbbf1744388a6b5688ce0d81611",
       "version_major": 2,
       "version_minor": 0
      },
      "text/plain": [
       "  0%|          | 0/100 [00:00<?, ?it/s]"
      ]
     },
     "metadata": {},
     "output_type": "display_data"
    },
    {
     "data": {
      "application/vnd.jupyter.widget-view+json": {
       "model_id": "d2f497f407f740e983514848ef33fcf9",
       "version_major": 2,
       "version_minor": 0
      },
      "text/plain": [
       "  0%|          | 0/100 [00:00<?, ?it/s]"
      ]
     },
     "metadata": {},
     "output_type": "display_data"
    },
    {
     "data": {
      "application/vnd.jupyter.widget-view+json": {
       "model_id": "84526630d5eb46919febf7ed840178d4",
       "version_major": 2,
       "version_minor": 0
      },
      "text/plain": [
       "  0%|          | 0/100 [00:00<?, ?it/s]"
      ]
     },
     "metadata": {},
     "output_type": "display_data"
    },
    {
     "data": {
      "application/vnd.jupyter.widget-view+json": {
       "model_id": "9a907a438f85418cbbc9da6e0666eb10",
       "version_major": 2,
       "version_minor": 0
      },
      "text/plain": [
       "  0%|          | 0/100 [00:00<?, ?it/s]"
      ]
     },
     "metadata": {},
     "output_type": "display_data"
    },
    {
     "data": {
      "application/vnd.jupyter.widget-view+json": {
       "model_id": "6cbad9d3b75341409adcbadc6b1b592f",
       "version_major": 2,
       "version_minor": 0
      },
      "text/plain": [
       "  0%|          | 0/100 [00:00<?, ?it/s]"
      ]
     },
     "metadata": {},
     "output_type": "display_data"
    },
    {
     "data": {
      "application/vnd.jupyter.widget-view+json": {
       "model_id": "20dc3ea0af694c5ab211991b511d4a6f",
       "version_major": 2,
       "version_minor": 0
      },
      "text/plain": [
       "  0%|          | 0/100 [00:00<?, ?it/s]"
      ]
     },
     "metadata": {},
     "output_type": "display_data"
    },
    {
     "data": {
      "application/vnd.jupyter.widget-view+json": {
       "model_id": "7b829c6ef6fd4618b7e6525551e22284",
       "version_major": 2,
       "version_minor": 0
      },
      "text/plain": [
       "  0%|          | 0/100 [00:00<?, ?it/s]"
      ]
     },
     "metadata": {},
     "output_type": "display_data"
    },
    {
     "data": {
      "application/vnd.jupyter.widget-view+json": {
       "model_id": "7515723e1add4039a213517dbca58d6e",
       "version_major": 2,
       "version_minor": 0
      },
      "text/plain": [
       "  0%|          | 0/100 [00:00<?, ?it/s]"
      ]
     },
     "metadata": {},
     "output_type": "display_data"
    },
    {
     "data": {
      "application/vnd.jupyter.widget-view+json": {
       "model_id": "2362f493a5834a8b9ba7187f4ec790f1",
       "version_major": 2,
       "version_minor": 0
      },
      "text/plain": [
       "  0%|          | 0/100 [00:00<?, ?it/s]"
      ]
     },
     "metadata": {},
     "output_type": "display_data"
    },
    {
     "data": {
      "application/vnd.jupyter.widget-view+json": {
       "model_id": "8ddc0f873f154d6b98cee3de76e427a6",
       "version_major": 2,
       "version_minor": 0
      },
      "text/plain": [
       "  0%|          | 0/100 [00:00<?, ?it/s]"
      ]
     },
     "metadata": {},
     "output_type": "display_data"
    },
    {
     "data": {
      "application/vnd.jupyter.widget-view+json": {
       "model_id": "3c20622de5bc46dd8ae0c5043ca2a6a0",
       "version_major": 2,
       "version_minor": 0
      },
      "text/plain": [
       "  0%|          | 0/100 [00:00<?, ?it/s]"
      ]
     },
     "metadata": {},
     "output_type": "display_data"
    },
    {
     "data": {
      "application/vnd.jupyter.widget-view+json": {
       "model_id": "49f35ea264a14b698ab0894a39cee6dd",
       "version_major": 2,
       "version_minor": 0
      },
      "text/plain": [
       "  0%|          | 0/100 [00:00<?, ?it/s]"
      ]
     },
     "metadata": {},
     "output_type": "display_data"
    },
    {
     "data": {
      "application/vnd.jupyter.widget-view+json": {
       "model_id": "b689b0121c3c485d914743d6ed3a4c6b",
       "version_major": 2,
       "version_minor": 0
      },
      "text/plain": [
       "  0%|          | 0/100 [00:00<?, ?it/s]"
      ]
     },
     "metadata": {},
     "output_type": "display_data"
    },
    {
     "data": {
      "application/vnd.jupyter.widget-view+json": {
       "model_id": "f0c4b85b2497499484090aed22212456",
       "version_major": 2,
       "version_minor": 0
      },
      "text/plain": [
       "  0%|          | 0/100 [00:00<?, ?it/s]"
      ]
     },
     "metadata": {},
     "output_type": "display_data"
    },
    {
     "data": {
      "application/vnd.jupyter.widget-view+json": {
       "model_id": "217766be36c64053a1b30c963da4bf2e",
       "version_major": 2,
       "version_minor": 0
      },
      "text/plain": [
       "EM Iteration:   0%|          | 0/20 [00:00<?, ?it/s]"
      ]
     },
     "metadata": {},
     "output_type": "display_data"
    },
    {
     "data": {
      "application/vnd.jupyter.widget-view+json": {
       "model_id": "32f48de93deb4c7a9b9616328a97f589",
       "version_major": 2,
       "version_minor": 0
      },
      "text/plain": [
       "  0%|          | 0/100 [00:00<?, ?it/s]"
      ]
     },
     "metadata": {},
     "output_type": "display_data"
    },
    {
     "data": {
      "application/vnd.jupyter.widget-view+json": {
       "model_id": "b3badc2481494f23b6d3139d1faed39c",
       "version_major": 2,
       "version_minor": 0
      },
      "text/plain": [
       "  0%|          | 0/100 [00:01<?, ?it/s]"
      ]
     },
     "metadata": {},
     "output_type": "display_data"
    },
    {
     "data": {
      "application/vnd.jupyter.widget-view+json": {
       "model_id": "b05e38bc2bdd435c87f06aee986419dd",
       "version_major": 2,
       "version_minor": 0
      },
      "text/plain": [
       "  0%|          | 0/100 [00:00<?, ?it/s]"
      ]
     },
     "metadata": {},
     "output_type": "display_data"
    },
    {
     "data": {
      "application/vnd.jupyter.widget-view+json": {
       "model_id": "896188c064934ea9822a50030603b3f7",
       "version_major": 2,
       "version_minor": 0
      },
      "text/plain": [
       "  0%|          | 0/100 [00:00<?, ?it/s]"
      ]
     },
     "metadata": {},
     "output_type": "display_data"
    },
    {
     "data": {
      "application/vnd.jupyter.widget-view+json": {
       "model_id": "ad5fada25ea744c5b5a76a077e70a9e8",
       "version_major": 2,
       "version_minor": 0
      },
      "text/plain": [
       "  0%|          | 0/100 [00:00<?, ?it/s]"
      ]
     },
     "metadata": {},
     "output_type": "display_data"
    },
    {
     "data": {
      "application/vnd.jupyter.widget-view+json": {
       "model_id": "4856bcbd913342d59f00b28457004521",
       "version_major": 2,
       "version_minor": 0
      },
      "text/plain": [
       "  0%|          | 0/100 [00:00<?, ?it/s]"
      ]
     },
     "metadata": {},
     "output_type": "display_data"
    },
    {
     "data": {
      "application/vnd.jupyter.widget-view+json": {
       "model_id": "70d5bd4ba4f247998af11f36f58bc853",
       "version_major": 2,
       "version_minor": 0
      },
      "text/plain": [
       "  0%|          | 0/100 [00:00<?, ?it/s]"
      ]
     },
     "metadata": {},
     "output_type": "display_data"
    },
    {
     "data": {
      "application/vnd.jupyter.widget-view+json": {
       "model_id": "378ea7bb0744431386be5e0323353477",
       "version_major": 2,
       "version_minor": 0
      },
      "text/plain": [
       "  0%|          | 0/100 [00:00<?, ?it/s]"
      ]
     },
     "metadata": {},
     "output_type": "display_data"
    },
    {
     "data": {
      "application/vnd.jupyter.widget-view+json": {
       "model_id": "45438d8e30df4114bf28cee147284f62",
       "version_major": 2,
       "version_minor": 0
      },
      "text/plain": [
       "  0%|          | 0/100 [00:00<?, ?it/s]"
      ]
     },
     "metadata": {},
     "output_type": "display_data"
    },
    {
     "data": {
      "application/vnd.jupyter.widget-view+json": {
       "model_id": "c6ab568e046d4c879fc6871a3a09811b",
       "version_major": 2,
       "version_minor": 0
      },
      "text/plain": [
       "  0%|          | 0/100 [00:00<?, ?it/s]"
      ]
     },
     "metadata": {},
     "output_type": "display_data"
    },
    {
     "data": {
      "application/vnd.jupyter.widget-view+json": {
       "model_id": "e410beb066184cb2a460b4b7f2ee5034",
       "version_major": 2,
       "version_minor": 0
      },
      "text/plain": [
       "  0%|          | 0/100 [00:00<?, ?it/s]"
      ]
     },
     "metadata": {},
     "output_type": "display_data"
    },
    {
     "data": {
      "application/vnd.jupyter.widget-view+json": {
       "model_id": "e071358e893d460aa526342d2c1518d8",
       "version_major": 2,
       "version_minor": 0
      },
      "text/plain": [
       "  0%|          | 0/100 [00:00<?, ?it/s]"
      ]
     },
     "metadata": {},
     "output_type": "display_data"
    },
    {
     "data": {
      "application/vnd.jupyter.widget-view+json": {
       "model_id": "76f1d0f9668d456da8fcb481780ced05",
       "version_major": 2,
       "version_minor": 0
      },
      "text/plain": [
       "  0%|          | 0/100 [00:00<?, ?it/s]"
      ]
     },
     "metadata": {},
     "output_type": "display_data"
    },
    {
     "data": {
      "application/vnd.jupyter.widget-view+json": {
       "model_id": "3bc181bb47b04dc7a266e3693f893b4f",
       "version_major": 2,
       "version_minor": 0
      },
      "text/plain": [
       "  0%|          | 0/100 [00:00<?, ?it/s]"
      ]
     },
     "metadata": {},
     "output_type": "display_data"
    },
    {
     "data": {
      "application/vnd.jupyter.widget-view+json": {
       "model_id": "d62be7f1436148f69c4f199217217ea8",
       "version_major": 2,
       "version_minor": 0
      },
      "text/plain": [
       "  0%|          | 0/100 [00:00<?, ?it/s]"
      ]
     },
     "metadata": {},
     "output_type": "display_data"
    },
    {
     "data": {
      "application/vnd.jupyter.widget-view+json": {
       "model_id": "fe224f49dd574663b247ca96893e5e84",
       "version_major": 2,
       "version_minor": 0
      },
      "text/plain": [
       "  0%|          | 0/100 [00:00<?, ?it/s]"
      ]
     },
     "metadata": {},
     "output_type": "display_data"
    },
    {
     "data": {
      "application/vnd.jupyter.widget-view+json": {
       "model_id": "d956f77961984f2eb1892a35700073bb",
       "version_major": 2,
       "version_minor": 0
      },
      "text/plain": [
       "  0%|          | 0/100 [00:00<?, ?it/s]"
      ]
     },
     "metadata": {},
     "output_type": "display_data"
    },
    {
     "data": {
      "application/vnd.jupyter.widget-view+json": {
       "model_id": "ad9ad4bcc25b413185b9a1b32d50dcc8",
       "version_major": 2,
       "version_minor": 0
      },
      "text/plain": [
       "  0%|          | 0/100 [00:00<?, ?it/s]"
      ]
     },
     "metadata": {},
     "output_type": "display_data"
    },
    {
     "data": {
      "application/vnd.jupyter.widget-view+json": {
       "model_id": "529a300867dc4f0198b242c28cc8673c",
       "version_major": 2,
       "version_minor": 0
      },
      "text/plain": [
       "  0%|          | 0/100 [00:00<?, ?it/s]"
      ]
     },
     "metadata": {},
     "output_type": "display_data"
    },
    {
     "data": {
      "application/vnd.jupyter.widget-view+json": {
       "model_id": "7fae44a3fffa4db8bb3ec4ad741d82ad",
       "version_major": 2,
       "version_minor": 0
      },
      "text/plain": [
       "  0%|          | 0/100 [00:00<?, ?it/s]"
      ]
     },
     "metadata": {},
     "output_type": "display_data"
    }
   ],
   "source": [
    "def do_comparison_run(seed, N_samples=100):\n",
    "    assert seed >= 0\n",
    "    target_grammar, X = make_target_grammar_and_data(seed, N_samples)\n",
    "    init_gmm = make_random_gmm(seed + 1)\n",
    "    gmm_fit_grammar = do_sklearn_gmm_fit(X, init_gmm.weights_, init_gmm.means_, init_gmm.covariances_)\n",
    "    grammar_fit_grammar, em_history = do_grammar_gmm_fit(X, init_gmm.weights_, init_gmm.means_, init_gmm.covariances_)\n",
    "    return {\n",
    "        \"target_grammar\": target_grammar,\n",
    "        \"X\": X,\n",
    "        \"init_gmm\": init_gmm,\n",
    "        \"gmm_fit_grammar\": gmm_fit_grammar,\n",
    "        \"grammar_fit_grammar\": grammar_fit_grammar,\n",
    "        \"grammar_fit_em_history\": em_history\n",
    "    }\n",
    "\n",
    "def do_comparison_runs(N_runs, save_file):\n",
    "    if os.path.exists(save_file):\n",
    "        os.remove(save_file)\n",
    "    for k in tqdm(range(N_runs)):\n",
    "        res_dict = do_comparison_run(k)\n",
    "        with open(save_file, 'ab') as fp:\n",
    "            pickle.dump(res_dict,fp)\n",
    "\n",
    "FILENAME = \"test_runs.pickle\"\n",
    "RERUN = False\n",
    "if RERUN or not os.path.exists(FILENAME):\n",
    "    print(\"Rerunning experiment...\")\n",
    "    do_comparison_runs(20, FILENAME)\n",
    "else:\n",
    "    print(\"Experiment not being rerun.\")"
   ]
  },
  {
   "cell_type": "markdown",
   "metadata": {},
   "source": [
    "# Plot results"
   ]
  },
  {
   "cell_type": "code",
   "execution_count": 50,
   "metadata": {},
   "outputs": [
    {
     "name": "stdout",
     "output_type": "stream",
     "text": [
      "Loaded 20 experiment runs\n"
     ]
    }
   ],
   "source": [
    "all_result_dicts = []\n",
    "with open(FILENAME, \"rb\") as fp:\n",
    "    try:\n",
    "        while True:\n",
    "            all_result_dicts.append(pickle.load(fp))\n",
    "    except EOFError:\n",
    "        pass\n",
    "print(\"Loaded %d experiment runs\" % len(all_result_dicts))"
   ]
  },
  {
   "cell_type": "code",
   "execution_count": 57,
   "metadata": {},
   "outputs": [
    {
     "name": "stdout",
     "output_type": "stream",
     "text": [
      "[0.5013457137053883, 3.5867474359148437, 1.6021724001050215, 1.9045244294172425, 1.5904139000319217, 3.197946151903015, 0.6513482900396307, 4.8423783804653855, 1.5067259625597453, 1.1816692373650692, 0.961227819983449, 5.84837299350975, 3.0567779382424094, 0.9431715876955988, 1.0886073529827431, 4.6393263558695494, 0.8280838751965323, 1.668258936075611, 2.318894550719746, 3.0385741038821577]\n"
     ]
    },
    {
     "data": {
      "image/png": "[encoded data removed]",
      "text/plain": [
       "<Figure size 432x288 with 1 Axes>"
      ]
     },
     "metadata": {
      "needs_background": "light"
     },
     "output_type": "display_data"
    }
   ],
   "source": [
    "# Histogram of errors\n",
    "# Extract a large number of samples from the GT and fit models,\n",
    "# and compare their distance to the GT distribution as a sum of\n",
    "# the 1D EMD (Wasserstein) distances.\n",
    "def get_model_error(gt_samples, fit_samples):\n",
    "    return sum([sp.stats.wasserstein_distance(gt_samples[:, k], fit_samples[:, k]) for k in range(3)])\n",
    "def make_scatter_of_errors(all_result_dicts, N_samples=10000):\n",
    "    gmm_errs = []\n",
    "    grammar_errs = []\n",
    "    for result_dict in all_result_dicts:\n",
    "        gt_samples = convert_grammar_to_gmm(result_dict[\"target_grammar\"]).sample(N_samples)[0]\n",
    "        gmm_fit_samples = convert_grammar_to_gmm(result_dict[\"gmm_fit_grammar\"]).sample(N_samples)[0]\n",
    "        grammar_fit_samples = convert_grammar_to_gmm(result_dict[\"grammar_fit_grammar\"]).sample(N_samples)[0]\n",
    "        gmm_errs.append(get_model_error(gt_samples, gmm_fit_samples))\n",
    "        grammar_errs.append(get_model_error(gt_samples, grammar_fit_samples))\n",
    "    plt.scatter(gmm_errs, grammar_errs)\n",
    "    plt.xlabel(\"GMM EM Fit Error\")\n",
    "    plt.ylabel(\"Grammar EM Fit Error\")\n",
    "    print(grammar_errs)\n",
    "    plt.plot(np.arange(0., 10.), np.arange(0., 10.), linestyle=\"--\", c=\"green\")\n",
    "make_scatter_of_errors(all_result_dicts)"
   ]
  },
  {
   "cell_type": "code",
   "execution_count": 52,
   "metadata": {},
   "outputs": [
    {
     "name": "stderr",
     "output_type": "stream",
     "text": [
      "WARNING:matplotlib.legend:No handles with labels found to put in legend.\n"
     ]
    },
    {
     "name": "stdout",
     "output_type": "stream",
     "text": [
      "Final params:  tensor([0.0100, 0.0200, 0.9700])\n"
     ]
    },
    {
     "name": "stderr",
     "output_type": "stream",
     "text": [
      "WARNING:matplotlib.legend:No handles with labels found to put in legend.\n",
      "WARNING:matplotlib.legend:No handles with labels found to put in legend.\n",
      "WARNING:matplotlib.legend:No handles with labels found to put in legend.\n",
      "WARNING:matplotlib.legend:No handles with labels found to put in legend.\n",
      "WARNING:matplotlib.legend:No handles with labels found to put in legend.\n",
      "WARNING:matplotlib.legend:No handles with labels found to put in legend.\n",
      "WARNING:matplotlib.legend:No handles with labels found to put in legend.\n"
     ]
    },
    {
     "name": "stdout",
     "output_type": "stream",
     "text": [
      "GaussianMode_0 :\n",
      "mean tensor([[-1.0582,  6.6446, -9.9061],\n",
      "        [-6.9700,  7.1565, -2.9185],\n",
      "        [-6.9701,  7.1565, -2.9185],\n",
      "        [-6.9701,  7.1565, -2.9185],\n",
      "        [-6.9701,  7.1565, -2.9185],\n",
      "        [-6.9701,  7.1565, -2.9185],\n",
      "        [-6.9701,  7.1565, -2.9185],\n",
      "        [-6.9701,  7.1565, -2.9185],\n",
      "        [-6.9701,  7.1565, -2.9185],\n",
      "        [-6.9701,  7.1565, -2.9185],\n",
      "        [-6.9701,  7.1565, -2.9185],\n",
      "        [-6.9701,  7.1565, -2.9185],\n",
      "        [-6.9701,  7.1565, -2.9185],\n",
      "        [-6.9701,  7.1565, -2.9185],\n",
      "        [-6.9701,  7.1565, -2.9185],\n",
      "        [-6.9701,  7.1565, -2.9185],\n",
      "        [-6.9701,  7.1565, -2.9185],\n",
      "        [-6.9701,  7.1565, -2.9185],\n",
      "        [-6.9701,  7.1565, -2.9185],\n",
      "        [-6.9701,  7.1565, -2.9185],\n",
      "        [-6.9701,  7.1565, -2.9185]])\n",
      "0:xyz:mean final: tensor([-6.9701,  7.1565, -2.9185])\n",
      "variance tensor([[6.1864e-01, 2.7717e-01, 3.2418e-01],\n",
      "        [6.3714e-06, 8.7695e-06, 2.6522e-06],\n",
      "        [1.0000e-06, 1.0000e-06, 1.0000e-06],\n",
      "        [1.0000e-06, 1.0000e-06, 1.0000e-06],\n",
      "        [1.0000e-06, 1.0000e-06, 1.0000e-06],\n",
      "        [1.0000e-06, 1.0000e-06, 1.0000e-06],\n",
      "        [1.0000e-06, 1.0000e-06, 1.0000e-06],\n",
      "        [1.0000e-06, 1.0000e-06, 1.0000e-06],\n",
      "        [1.0000e-06, 1.0000e-06, 1.0000e-06],\n",
      "        [1.0000e-06, 1.0000e-06, 1.0000e-06],\n",
      "        [1.0000e-06, 1.0000e-06, 1.0000e-06],\n",
      "        [1.0000e-06, 1.0000e-06, 1.0000e-06],\n",
      "        [1.0000e-06, 1.0000e-06, 1.0000e-06],\n",
      "        [1.0000e-06, 1.0000e-06, 1.0000e-06],\n",
      "        [1.0000e-06, 1.0000e-06, 1.0000e-06],\n",
      "        [1.0000e-06, 1.0000e-06, 1.0000e-06],\n",
      "        [1.0000e-06, 1.0000e-06, 1.0000e-06],\n",
      "        [1.0000e-06, 1.0000e-06, 1.0000e-06],\n",
      "        [1.0000e-06, 1.0000e-06, 1.0000e-06],\n",
      "        [1.0000e-06, 1.0000e-06, 1.0000e-06],\n",
      "        [1.0000e-06, 1.0000e-06, 1.0000e-06]])\n",
      "0:xyz:variance final: tensor([1.0000e-06, 1.0000e-06, 1.0000e-06])\n",
      "GaussianMode_1 :\n",
      "mean tensor([[ -4.3909,  -4.8330,   5.4616],\n",
      "        [ -0.1714,  -8.9473, -11.1171],\n",
      "        [ -0.1714,  -8.9473, -11.1171],\n",
      "        [ -0.1714,  -8.9473, -11.1171],\n",
      "        [ -0.1714,  -8.9473, -11.1171],\n",
      "        [ -0.1714,  -8.9473, -11.1171],\n",
      "        [ -0.1714,  -8.9473, -11.1171],\n",
      "        [ -0.1714,  -8.9473, -11.1171],\n",
      "        [ -0.1714,  -8.9473, -11.1171],\n",
      "        [ -0.1714,  -8.9473, -11.1171],\n",
      "        [ -0.1714,  -8.9473, -11.1171],\n",
      "        [ -0.1714,  -8.9473, -11.1171],\n",
      "        [ -0.1714,  -8.9473, -11.1171],\n",
      "        [ -0.1714,  -8.9473, -11.1171],\n",
      "        [ -0.1714,  -8.9473, -11.1171],\n",
      "        [ -0.1714,  -8.9473, -11.1171],\n",
      "        [ -0.1714,  -8.9473, -11.1171],\n",
      "        [ -0.1714,  -8.9473, -11.1171],\n",
      "        [ -0.1714,  -8.9473, -11.1171],\n",
      "        [ -0.1714,  -8.9473, -11.1171],\n",
      "        [ -0.1714,  -8.9473, -11.1171]])\n",
      "0:xyz:mean final: tensor([ -0.1714,  -8.9473, -11.1171])\n",
      "variance tensor([[0.3294, 0.8279, 0.6549],\n",
      "        [0.4065, 0.0409, 0.5018],\n",
      "        [0.4065, 0.0409, 0.5018],\n",
      "        [0.4065, 0.0409, 0.5018],\n",
      "        [0.4065, 0.0409, 0.5018],\n",
      "        [0.4065, 0.0409, 0.5018],\n",
      "        [0.4065, 0.0409, 0.5018],\n",
      "        [0.4065, 0.0409, 0.5018],\n",
      "        [0.4065, 0.0409, 0.5018],\n",
      "        [0.4065, 0.0409, 0.5018],\n",
      "        [0.4065, 0.0409, 0.5018],\n",
      "        [0.4065, 0.0409, 0.5018],\n",
      "        [0.4065, 0.0409, 0.5018],\n",
      "        [0.4065, 0.0409, 0.5018],\n",
      "        [0.4065, 0.0409, 0.5018],\n",
      "        [0.4065, 0.0409, 0.5018],\n",
      "        [0.4065, 0.0409, 0.5018],\n",
      "        [0.4065, 0.0409, 0.5018],\n",
      "        [0.4065, 0.0409, 0.5018],\n",
      "        [0.4065, 0.0409, 0.5018],\n",
      "        [0.4065, 0.0409, 0.5018]])\n",
      "0:xyz:variance final: tensor([0.4065, 0.0409, 0.5018])\n"
     ]
    },
    {
     "name": "stderr",
     "output_type": "stream",
     "text": [
      "WARNING:matplotlib.legend:No handles with labels found to put in legend.\n"
     ]
    },
    {
     "name": "stdout",
     "output_type": "stream",
     "text": [
      "GaussianMode_2 :\n",
      "mean tensor([[-1.9523,  2.5384, -0.5819],\n",
      "        [ 5.4927,  4.4177,  3.1727],\n",
      "        [ 5.6212,  4.3895,  3.2355],\n",
      "        [ 5.6212,  4.3895,  3.2355],\n",
      "        [ 5.6212,  4.3895,  3.2355],\n",
      "        [ 5.6212,  4.3895,  3.2355],\n",
      "        [ 5.6212,  4.3895,  3.2355],\n",
      "        [ 5.6212,  4.3895,  3.2355],\n",
      "        [ 5.6212,  4.3895,  3.2355],\n",
      "        [ 5.6212,  4.3895,  3.2355],\n",
      "        [ 5.6212,  4.3895,  3.2355],\n",
      "        [ 5.6212,  4.3895,  3.2355],\n",
      "        [ 5.6212,  4.3895,  3.2355],\n",
      "        [ 5.6212,  4.3895,  3.2355],\n",
      "        [ 5.6212,  4.3895,  3.2355],\n",
      "        [ 5.6212,  4.3895,  3.2355],\n",
      "        [ 5.6212,  4.3895,  3.2355],\n",
      "        [ 5.6212,  4.3895,  3.2355],\n",
      "        [ 5.6212,  4.3895,  3.2355],\n",
      "        [ 5.6212,  4.3895,  3.2355],\n",
      "        [ 5.6212,  4.3895,  3.2355]])\n",
      "0:xyz:mean final: tensor([5.6212, 4.3895, 3.2355])\n",
      "variance tensor([[ 0.9124,  0.3176,  0.6974],\n",
      "        [10.0000,  1.6676,  6.6193],\n",
      "        [10.0000,  1.6066,  6.3011],\n",
      "        [10.0000,  1.6066,  6.3011],\n",
      "        [10.0000,  1.6066,  6.3011],\n",
      "        [10.0000,  1.6066,  6.3011],\n",
      "        [10.0000,  1.6066,  6.3011],\n",
      "        [10.0000,  1.6066,  6.3011],\n",
      "        [10.0000,  1.6066,  6.3011],\n",
      "        [10.0000,  1.6066,  6.3011],\n",
      "        [10.0000,  1.6066,  6.3011],\n",
      "        [10.0000,  1.6066,  6.3011],\n",
      "        [10.0000,  1.6066,  6.3011],\n",
      "        [10.0000,  1.6066,  6.3011],\n",
      "        [10.0000,  1.6066,  6.3011],\n",
      "        [10.0000,  1.6066,  6.3011],\n",
      "        [10.0000,  1.6066,  6.3011],\n",
      "        [10.0000,  1.6066,  6.3011],\n",
      "        [10.0000,  1.6066,  6.3011],\n",
      "        [10.0000,  1.6066,  6.3011],\n",
      "        [10.0000,  1.6066,  6.3011]])\n",
      "0:xyz:variance final: tensor([10.0000,  1.6066,  6.3011])\n"
     ]
    },
    {
     "data": {
      "text/html": [
       "<video width=\"1296\" height=\"432\" controls autoplay loop>\n",
       "  <source type=\"video/mp4\" src=\"data:video/mp4;base64,AAAAHGZ0eXBNNFYgAAACAGlzb21pc28yYXZjMQAAAAhmcmVlAAB48m1kYXQAAAKuBgX//6rcRem9\n",
       "5tlIt5Ys2CDZI+7veDI2NCAtIGNvcmUgMTUyIHIyODU0IGU5YTU5MDMgLSBILjI2NC9NUEVHLTQg\n",
       "QVZDIGNvZGVjIC0gQ29weWxlZnQgMjAwMy0yMDE3IC0gaHR0cDovL3d3dy52aWRlb2xhbi5vcmcv\n",
       "eDI2NC5odG1sIC0gb3B0aW9uczogY2FiYWM9MSByZWY9MyBkZWJsb2NrPTE6MDowIGFuYWx5c2U9\n",
       "MHgzOjB4MTEzIG1lPWhleCBzdWJtZT03IHBzeT0xIHBzeV9yZD0xLjAwOjAuMDAgbWl4ZWRfcmVm\n",
       "PTEgbWVfcmFuZ2U9MTYgY2hyb21hX21lPTEgdHJlbGxpcz0xIDh4OGRjdD0xIGNxbT0wIGRlYWR6\n",
       "b25lPTIxLDExIGZhc3RfcHNraXA9MSBjaHJvbWFfcXBfb2Zmc2V0PS0yIHRocmVhZHM9MTMgbG9v\n",
       "a2FoZWFkX3RocmVhZHM9MiBzbGljZWRfdGhyZWFkcz0wIG5yPTAgZGVjaW1hdGU9MSBpbnRlcmxh\n",
       "Y2VkPTAgYmx1cmF5X2NvbXBhdD0wIGNvbnN0cmFpbmVkX2ludHJhPTAgYmZyYW1lcz0zIGJfcHly\n",
       "YW1pZD0yIGJfYWRhcHQ9MSBiX2JpYXM9MCBkaXJlY3Q9MSB3ZWlnaHRiPTEgb3Blbl9nb3A9MCB3\n",
       "ZWlnaHRwPTIga2V5aW50PTI1MCBrZXlpbnRfbWluPTIgc2NlbmVjdXQ9NDAgaW50cmFfcmVmcmVz\n",
       "aD0wIHJjX2xvb2thaGVhZD00MCByYz1jcmYgbWJ0cmVlPTEgY3JmPTIzLjAgcWNvbXA9MC42MCBx\n",
       "cG1pbj0wIHFwbWF4PTY5IHFwc3RlcD00IGlwX3JhdGlvPTEuNDAgYXE9MToxLjAwAIAAAE5rZYiE\n",
       "ABf//vfUt8yy7VNvtguo96KeJl9DdSUBm5bE7TqAAAADAAADABLP/58Sk2HiAIIY6KyLv70tUaTL\n",
       "FfTU5jH6ZxrtFf3rmPNOHaSP8SJ2Jd93VoGphacLmbgtL6WkclJ7e6volpceZDOvFu6qoanuvJVy\n",
       "4foER1ayM9Q0+wQEHokMtNwm9TDN2WZnIjeJl7jfZ8L8L8G+ttvzV9ZIUfVK7hECIyFkud8pgI/y\n",
       "NJu6b1xlH8O9O3YQ//jejQ5StGPS201K/ObHeVxcyOuEr4XzCH1hSVgmJP9WhOYIDvtkhIIAkLwb\n",
       "8W0dI5libgZVKmDYoydPiO6vIFjhflmQTt/ZX/PnMkMLkdQewbVbFEUAfz2JpFAf7th0X932B4hO\n",
       "mJnzKaeDYVxrLNHJTeR6ran/pVyprzqEFzsi1ePtthcpBzpOJyHErQmLo++MKL/FLsZVyZl/8uHd\n",
       "Aaw1va4BBPuoisbcewLwNdVWvQjzj3PuJzKyc9grLLJ5vNbMrXdsnVPN2Bg/SX7ZdbtH7Heav/iE\n",
       "ALCeHDn4GEl/kt7KGdYkN8U+UIHGTKoKHR/ADcvHNL9A3tfMufG+BSHHUpbF7c21RVOZiu2qgzuX\n",
       "pBQgQdrxRJJ1fLXbRFNfBzLik4swmg9fwdsSqpfnNimls2q9cpirFeJ1shVlpdibsDPDNgWIQPsW\n",
       "Nly1LDMw+6bnNurthE73voLBHyIaNXyVa5u+pbkoZrtupBhFLfKuPWR10T1zYR8TDgSxd9UGR9r9\n",
       "ahal28cO9noSMTlZMPjzmp1j5ENGr34kS3PzdSAB3L325kQtQQReqFvCrybPVhRYW8fATfnko5no\n",
       "cGeADhNQFCueqHgk/myhilfYy6JPOAarWsjNqlOKjssjokW1RscBcrhR5oxY6dKFH0aS870iJFW4\n",
       "jsc0a1Fnhs4C1fAyyBYS2h4WCYClIkmDix0Rl3k8aoqiZ8ggybhbAhOyGh9Bxwx/dbUf5ku5ZnHE\n",
       "KU4qEaxSUTeZ6cJgX//og4FbYmQqjfbDkW6ys2v7S6IYT5oDFXvo+LAAAAVJbFdf3JbWzTwkAAAq\n",
       "og0t3ALnvdlb2er+N85+SSDH0irRzawvN2qSYMX1EldMdvI4WbgDwzzmitzoQedXWz5NiBvsYSK4\n",
       "oVSAR30TQCiCrA1MijaiK3pCXrNwhGnjvj+eHuKJhpqjH2GyqBJzxn7o5AAxnjzSWvL/YOVQqXqq\n",
       "OliTPlgLaw18+oL08EBQbCkHAskMXgyjZHMvcmDGKI9J2n0Xaid+h/94JckXupBQzvmusWAOqxCJ\n",
       "BQAjkYZ61WqAVyS7xj/2o4f303jxub/pmTVOd2C9mlaqZCjUCqs8dranXgPYszATE5HMzg+QWiRn\n",
       "AGyDWLCijdzTURbXhnGhrBlX31f4fN7+5kccZkVy/SjlpKt2Z9pVl4s0Ekaeh/z7/9CDZis3zE/9\n",
       "RobC80uLsOpEFsMh1F295S2FpmsZ4S+ctB8OBDcF0rsI+PA1q80VvVjeI032EhiSMBJSHJfobmQz\n",
       "yi52QkNBsJVg9wP+onmzFNgtz59PsBDuWFe2uQf44w5Ju0KBlpafmlSeGnGy8prWGHt51VbxDiCA\n",
       "O7mthAr9urKwYZnjIVp4zP+gyFnx+7mJ8iN9i4ogdFelm7en4NKH3WFu3alt7wuMmOFzlvHevsY2\n",
       "2O5182RvgCQtH3pDjZ2CIjwRZtOmZGdevvOQB2w2i4V8+AfKSUekgPqCZhJCPOOv8CaYjh8XeHvk\n",
       "6LkFIRzNDWr1lK2jMRidXULF7AAEjAL2BHgji4t27ZTUMnAEQB1WeUobEvSEF1P1ecj8Z2ccU6S2\n",
       "woYrxE7nqP0ijkBT2Hc77+zNNU8MJr/pkUg9kASnKGAXyfoeZQe3ZecToGV8ElzECQFceLXhO8ok\n",
       "ejpwEsj0g2n5D1t/YHgcyAHO6CD6R7vBGD2141FANUXfIF1wIZWhBy0UDJcRtfNHezxHEgbb2ihD\n",
       "DpUQo12Y2YhPwo+C/PcfbF/4CSmyXk2b+nu9htdpQ4mMLLC72EriMnlTsTLMkZjurlwaMos/yn75\n",
       "rZDnOt1WmmI7jboQXKEg9w3NDsYJ16AbPQSiwsax2cZ5PXmyKHgLSyHDx1vOX5GnUSdDemdB1SoJ\n",
       "PGlAqoRoslRbY4D9zl4yaR2LTnme+tOipgrRRkpmlIZzyFL1nqqUDguqgIL4/46aBM+ono53SGlA\n",
       "U5gFMOw5PBfQTclv/gV6jJocXvUd8jXfV5p3nThBS9+bQs/eHNXyEpZU+08r9L/wwUcsh69qBbaS\n",
       "rlyqK5L2ycK44wX2+KJuAyqGFN/6/VJf7q46oOIDEDUZe2RqCazeupOZFNlUAuUFH/ch0g1gfLLO\n",
       "PDfMOsmb9TnIe6P2mPdhCHYhTlaOLTfCYmbcoXRPGKIg0x68YPVVtCdU9mnW93lRcqJU6ax+FK9f\n",
       "r4JSg8tInx5sSrXImAXQYFjxgwJH1mnLMHVzoUavf52b8CzXoqCyPxC3CN+MCfHWAWhzfzpCe/iP\n",
       "M12NQMB7c9eTpm0SrCSkjDxbNxxwq1Q/LQAyyIsLZ323/ygMg9MryFDdEAV+Pe0XaVbLyz72Qizi\n",
       "V1ansyGWDXgFhtEHfhVywMF2OBVhvvXtZFQjPfVlmvusYZkyWb4+ch7MBm43LyrFc++ehY7zQ5Cg\n",
       "J0ZbvaD1fYP+FPSXvuEY3qQuwx6p2ER4JYoAABkLuZkNEtBZC4VY85UKNUqNHFPJksL35IalzR0h\n",
       "dJCr4lSUlMv0Gp0j0JmzIXR3anfXnQSXtAJlqUuJRiV/swBGm7dXMiQqCpTx1UIZQzXMFONp8tut\n",
       "ZKLQLUOFAHCQ9Y0gurQFPp9/bf9zeBLubWBT82sgqWb1XiRQuNDxqtN2QwKJKOx9dcTGfNbaf1Gj\n",
       "ujw4er7gDAT4iVAMT3Z7RvIi4eM45OdgbM3rkElaSpERw3mRkUWBQn0M3+SRPEDLWIt3ygXP7P3v\n",
       "X8X6U507o2LXFKHFJ8fcXPq4X3hxr30p3mEjLtJUUPnqTk1AfNBpHkdkz+HoQPv0391be/j+Edw7\n",
       "fJSoiUlG3yYsELaWzHyPdTxEMBQHAfd98Y3vxeftNl/mPLfiuCzBeY4Ti4xNJLzClNmXOt79M7zX\n",
       "XU6080eTmYsMcQJ4VnsjTJGw6zq6cxK8XemLT6LY3fusqwpD9bLz+F4NtFG20OTMn+oobVp5m/Dw\n",
       "1e9zvqnzLLGOd+70ODBcXHHt2UH2TXahKVnVl4QKigdNroJAZDSyqNx3I4+O1HHT5hk7+jPwafSy\n",
       "QkOII0gEPCo0Z34OshQEE+OXJLTdqfKiDh6b6+pwfuNmFS4T+SLNvmZRenXQ5hhBD1FJ8KbpqVp0\n",
       "3IOYaim4co7tZkoAEIxlP9Yu3VF8shciMQyyjLXm/GxW9oKvN/yhzKjIG08hLzOAz/LyDBI4ykbQ\n",
       "NyhoLDdMNZvIscyDjk8uDs2ikwY0X7EW7Bwf5AI7ly74asdPWiwfth6KvprG/1x2/WAaIIS1RcSo\n",
       "yVg5lYAM23N81vmgybLNZ9fCtttdsym7DO737dP5MvcFuhpo8iER/HYzW0Zs3tG/uN3+lS968v3n\n",
       "D+tFyIQyHRVrnqiChLAI4kPGDoh2IqwMVPV/XXIxE4GHULgf0VgkWZIQAMM5gSWvsO07olSoc6A4\n",
       "odSILvWrGTRj6DgWflAZRdV9DrAxrVK/Glxo+WtVRrm+wtLlyStaPF55D7t2o7wLgHrr1yfciysx\n",
       "VMCUFMap1ErEk+aBINczepSRYuHdJZnYyOdK7mmW0kZEmkkD28M1oanjHUohwHSGu6T0h4LpJ0ic\n",
       "N6/Pt1gzFLJldsGJIpBRiGrdef1UzmB+NRmuLb8eDYj2LlasqFf5oeCWfRdGQZlydoYixvMlykNQ\n",
       "RIjCwmBrPgDDM9hQ3KF8FfFMSGnZAvRKs7e3b23pq3TogI0K8UXu7sEl+x5HaKTM3fmorKVF95Dt\n",
       "mvIPeradSuXJgbr6R8rzeCy9bg0u6VALWZheqipAmqsplmUBSSJ+3ET3bHUN+pn/vRo5zfA6lHV3\n",
       "6QzX1qVwURXWuj9pMrHGG9MGYZBUh19TY5+GUYTEw453GfUmiCFrbroZwWTSGLw7c46ScEB8OA/+\n",
       "TSyUp3KSvinFrhkXdXnGOJ3iyFnlstisROjD84KmbMvt/ksUaubfUrV0GpIGEfIpKyL4h9LQbtcU\n",
       "sr8TrQDEcwafYuL5DETGipEUrzf4QMq48+RpvKpXDnTtMrCPLb78oFjXvaqBIT8Zhb16dzRL93Mi\n",
       "+LlrONzjABQwAF0I5cqv9NCABc6L8mM6oHgH3lKBs91BDf/qKNXrLbiD44RPMu5+mTqOKmhk6mTF\n",
       "4KSZKU/2xFidO9IueOs5QCFUQTabmy9ldjPKt8LczzE0dPGokDW/DAvUhYWhCRC8tZaHl4P2NTg6\n",
       "hRpsfas+HWbQCSBahWhBZsrIEAh3OoHaSkp5AWiVn+AI66DpucB8Ii6UXl3uUCuIYbha2bPWJn6C\n",
       "hj2GUZBPgCyARXlra750DNbXHyTiC50a3JaLsL2AHqRBGNVLE1T69nBYaTYuDNKhMbqBugX1WrQ6\n",
       "IABmT6+BM7aPIeA51Ox/0iz0EfN7kYmTCq9VPVgpY5BBfzgZD5v51BTXRX2VoI7THSGyH2T5jrL/\n",
       "8aSNWMsnTRrkktZxLOlP//krm/bTZ1+lH1B2IC/cFz/Yf//9Iy3vfAAUqd0A8TmNzg8cX8UZVPLs\n",
       "d1/aqJ75OrwqG9110MjlB943xUX06qtzWFEofLS3Tlyb5OXOrk02niXJmUnJmE6cDI5Lbbg9AGQO\n",
       "hTde4Uu3mwMe2xkburrNt9YOky15mdjacufo7p7zbpPpSZW06Ly6a4RQLJLPTvSpT2rZqTmKgh81\n",
       "4lNvhEOMHtfFj4jDHX7UiWJo46KxckHPnDhnDSp9ciZCLlvHHXfQ+z8AWKZz0n/1t17ve0AA9fE1\n",
       "OblJBSCfkpHFX0B/BrnE2B7b9EqKls8Fv2DkG58qyiSTgIZ7DKoBRQbKa/rbjspXgAVa/2pcxvqa\n",
       "B0e/qJ8Fgah3fgEpNT3/+RiR7SzLHZVJzcPo2KRwjpNlKJjkzNyzRS/OuD4fFPehzburp6v8JYw9\n",
       "RaQAGQ2f4vFZ5DbcXzr1BxZaDp92NUTvXJKRdgalsBf6KoDWAL++Hu2K4so5JrFtZ29q6QRggrzi\n",
       "FegZMtjINEGYlGsMMQUyYhMdGCQP9nxu/b9qw2/QDDCBM0iqGSk+QUS1jVA5YHa1V7/MhrTk0o6B\n",
       "uO4C39yRI0q6NxvXBKbzGw/+xfhg1sMm8EpzboN4ZvAj/bbIxhrIuM3VIS0vL0CkwlBtBjHgCh7+\n",
       "qhRgGqyogBR/4Hna4RlyXAQpVM5lWTnRdUy3KEGNsR4kADBXotw/KcE771rK9her4JTgRwKVStqC\n",
       "Q1od7oPScbiAErVmw//A90Oz53uN9fS6RRJzF451jJuI7UDrdpKfdPuhBc5LdGYkotLfI7JQGAx4\n",
       "NIV57yvwTSZJYeihsd5g375akdTYQfcNluKGNz1ljGAPSX1ShEN+p3RarK3L/0ig9v+aEtlK/bFA\n",
       "seNbpyIF79rObFLVBwq5TaOJZ3g9HVUpX+vZv3semh8xGkhaExKNlFywMrscXbhOwR9kFX5zrseN\n",
       "fQ4THzdp5poiDB19AvJiGqVxupfUYKVR+EvrdP9v/JGDAG8ifWSvj4J/ldrqkl8RDy4miyyNxhsZ\n",
       "Horl48BpZx9/c+uMJ9yqrPutf+JpEo1Hx5x5lPeH+jjHxikhhvp42tCLXSeaMc1RxkHSn2hIInLW\n",
       "ngTL3JF5VEiT017iHV3u58/WU8foW0EoPjBhdOX/HQlVeXCKxtuzP9RI02Z2otgKEteimKQOqrHS\n",
       "PWAoMT/Txh1Uf9VWXEE6qT/n159qnBUjEVal4tKh1EGmtvm2xIGEITJGWLCCCCnnH5w34Mfzzja0\n",
       "hTgcwLpSwAeqsFBWsXAhnoKi79J4smswe+e6oJBaajFwqYkqLKAACz5J2j4Q7g9jmu260U3dRIUX\n",
       "4J5uCFvHS1tcUbBYCY0/nHbpIZhMNPAcZ97A+a3kcV2mDy3qxtgsoJEh/LNnfw4t9cNqqkr+Bn5x\n",
       "M6gmafEpsdKAoQ4VoR8gJ5rcc5+AbI8/IaNmpewyWRR5wOYyhTTNDxdSwlx+xXvGc1TPFVLW7Duk\n",
       "4AIj4RC9cPuBAqTAmyCf5gw3L7cFtV0/ovz/6gH4V+ukSBrfmwWQzuebJ038mzYY+Y73pYzEHpne\n",
       "VigkqzZtc7cdmy4QwJmYT9z3EK9FMH1DcM4w00+Vfs0RVw2RjiQdkMomWpHnqB0OiPEodkYgCVoB\n",
       "GldtJm0QGX6QNdKG8AnYfAfckh/Zxugf/bR0Q80ItSmvt3V54yf8RZ2W+3AMbzjWJp+dVpKHXKmb\n",
       "JL/c0HgxmYjw6l1f8cU2fx7+t50SbMp5ryR9+45NM24OiZjet2m/KFNbuh1fSRij3QEcPO08zg5W\n",
       "MBLgJVjXvBZBl9MRu3sBMnNBKRJpueQhjXR4LzqFQNhzxGaDmglxQVncqy0e5gyI6ZscALk/Z5IT\n",
       "kev4CyT1K9UjqLGuRvoHm4pbhvAErNxvB06arf0jDtcKzJDTDe2iuXn3e2ZAnRpnwNldMQTWUSH9\n",
       "ylNDs4DBzHOyG48CWk2PJxFft6/gYyVg32VjPsESN3+dJY/rYlTzy9NDKQlYIJ3X30Ih1CZyqlL0\n",
       "jYQ2Vts6Lw08oH7JMigqEb9z6un1srFqI2WcaWcO17sR7fDtFMGY5YM3+3PVSX1RFbfiTp4El6Bp\n",
       "BgWoefALeHoNjN1+ydoSkVVP+i32D0Ltb0VJXj0OiQ8LujbuMsXTzA8zdS0ycKUsBxBK23yb+7Mm\n",
       "NQ1HyrypxhJFgoHP0CudwqmxwvZQcWVqZ9AoPCKv7A3+xxk3AAAIUjNLdoJ2iQ+xygLwKZxI52oZ\n",
       "yQLL6q1eK6PgjjDdAZLUsmNdI5OfX3m9YgoRcOHhHRcVXQAh04w2Xn6zkWQH7J8P4RQAKSBppXwa\n",
       "bqWyJ2T23CmZ7kkO9O9ZWl1jvEHrGxXce/Aao9PNeuicHsWUvk3EHNJOOw/4Z1p77ez1bdHQJUVb\n",
       "414lpjvLd/HzHskUQPoZqO7leQUQgDpkpU8p+9/G8NLFMGIXD+/BSjGlBoqp6XFtZKP+65DPGI9I\n",
       "RAk7ogLD8Q8SeUAcH3PBdxvfDdSKgZuFDqAkuWD8dizvnCE59/0ThJYt+o0jbB76N7rze92F0FId\n",
       "1kUoXkKzbk6P+PNqkN2SAAbvg7XUiZVCTHROtxwCAWVVbrTCeG7w+HDJN2vXMyQKOG6hW2/1nY+1\n",
       "YrDgcT32/fstvQqBrdvRueSmtVamE1xtgu+TXnXuKTZ6klyHls1IxEnMHiLh0q3YgLld/T79IqXd\n",
       "l5I1EVh3ArzhGH1m/SN+gGdFRjhasGFC99BM4QCJGmaF4M2bEuUppy53QBYWlKRGfoNYrc1zy/mJ\n",
       "/fbO3inOMLaSw+CmWXw9AHtkCIJTWN1LgntW1wUhzkXAGMYaZzenfBA5eguKGlJnYZHWi3PXAotT\n",
       "Lt3W8PXaza/0cFN/a+3/qEmYfR8sH6gb7pRLi36ImR/acCdhw7eVx+FWMeNU3kgpAegbYZULOp95\n",
       "Xj0ynrVmgM0uJSs3ujd5LPpsne7/mPzXqqkWh/TlsnP0HuaRWdUXwStCj10dN730jKiC1Hf3wJQz\n",
       "kXbtlXJfCeawIqFd2ccHSeEtib7kF3umu72AkWxptw0bo7B+egYZvNgwFHSBRnj9XN3SVzZKLCHy\n",
       "excG66cd9TjPmbM/4is+NbO+9n5XJ2qSLXDev0oz1op90tPmFps5eoXhFwxLdeNg4mPvoOaT0Ctx\n",
       "NizbTw0G0mQOYLJH6FFzJJNrVFf/QcJcS69i+kB+v5aySN8gxpfMTZ09ILhfZUmawsnmUB/u/UB1\n",
       "YDh5FDmafJNcb4JoH/dsd1m4ixCYJo9CXKK+GffbIsAg+P8M4svwUBW9DXqznf26Pa/geM04OWdc\n",
       "oAANj+Pujk9ZNnXcCQNX1f5AAfQ+imsmo9nviDsx4I9MHrqmi7ycnVHr//d/wrbqs4YxVPqPSoIx\n",
       "7wTdACdBFRtpImOg+pyS/FufYap9+QGUudEmgr6o6+tiDA0ghO4efeNST/ejwDRLOQVAep46t1ku\n",
       "D+PetOkKUkFOeROfu/DzLsJYbB6luD1oifWipWOFGLpRUQYuH7424n/e6BwGUMSJ6UZiy29TKrf+\n",
       "CLj3vIMqeWjiyKlirh20pysiOK3zuUpG3d7JtUgKy7bpReoIG0zLsdLptmjjDbe/mBn51IX9LM0v\n",
       "rJd4kjrUAfLJSMyCsXvq90xVglCQwzzTjr/KW6jwP9fSiwNYSUURbrpk77JzbAdnP6C00+e2jY6p\n",
       "6jVB5JCmR85urpYkqW2qmgbQiBFtl/DS1C+kxrekwaZENT+eBA7z2JDmodb4ZjIPZovJzGnAS7uQ\n",
       "qLH+D5/3x+XKul7jntAP8O2ejf2m+S1HtX7xRLefCYFWeLr59rgIUAwz1YHVLQ5hjlXZcVXduB4F\n",
       "U/iHUxZO1R0+67X0/aWiDaeX6xXh+3AjJ5njGcTUu7kHcgscxL5GrW5YZ3OCA6AUQ3frZCy4v3Xy\n",
       "+pf9ZsBopfti/sAEU/SVWjzZkRpbm16G3CLV9C88rhuSBS9ZmLevzxjqt97WBfVuznOkoB+3Agvu\n",
       "uz/5bp0K42RHSJVPW2xhXv3C/o6Xv4mCftj7z/8ZVEPnizRYRRZNgVYzQj7+MfQzCB582Xz98MYe\n",
       "AlfQ8dKwFASTL9FZZsapGzqNWYzlXcxaV/0dAaK84EfWUOzja427DQf8vmlGldLjkfkGgA+Bs+gE\n",
       "+Xpv7eGWOP7jWzP3+jpDGizRl4RZAcc3cU61dD09NkA/pQ5lKgR2R8+02uQNOgPZa0xLi+qffKJ7\n",
       "Kk/OFJLnszVwlLbzPElLRA9tSB3an4FjXjwbFlAnMKH8IJL/rctO3CZOs43N1cy/4FLENk3cIdMf\n",
       "ZAgOLGhf9pQlg2XVkahBDW2VZBVAO41kLL7rWVk3iNMpq5o3fVeQYFHa4GKqUCkLk+CQSJU5eUwd\n",
       "EyYpREK7gds2t3Usn+/8vCqSNY+Mz6UUF6oSIcHwSZgnB6eRXI0ytpYxt0v+8abzouUju/E8El9I\n",
       "z+aL3V5xfqTlUV7vzpBoDB46CwIMrK4GY9kcoJHoSQZs/jbERc2+ZxiSRXMQAu2+OpCR38ppwUK5\n",
       "HoRY2CLoM9/7uAW/QR4o2fCwndySf0c5LBFs9Hxi+LP9wK6+8MC1S+PmlrmK1LFHan26dSIEC+Xt\n",
       "37VB49DNsfidsiMmyRRl5ziLi9ZuHwn5JLhULAW5pWUENz0sgB71f80bW6h1gDckC3C1cuhAaPM4\n",
       "qnI9y16/SU81cgFRer7afZEC+fQONoEAJy+f31chFZzYSYF37nd9h6tlXqak0UAWLIMjPVTUaank\n",
       "O6WYQg353DEod9dILTuTCDq5AY0RjdybXE6SkjpgVSZDu6W4r1G/DRyMzeI0WH/gH1IkmLo1/dxw\n",
       "bMii37Vy8aaPFpZcLU5+Zn4rb4F+nXNjQ49qg6rpgoXnf3i6ZSr5oqD8gGjFWwe98FmxTYXXay7D\n",
       "fU0QO2Q66/Vj34LFyqeVuSLrfc7Gc7469+mScKcpvVY49RFajwehLJrI2Q7YQhfC7GRC3YDX5ENH\n",
       "ZjLHi/APxebvILBDXZDuzZWd2wIWANKkJ9ymzKchDm6v+H19Rws1sROBw4KCUzYEhjSGYKvbn6IY\n",
       "cBa2N9GagXM25NptJcjxV8AyMB7p7an/TYcnfChxnFlOx5eakvu/ay+cWSxI/LNKyBY/MqTJUDTu\n",
       "GvBTSXTzeNvVoWm5ilauMHAPzHb89jZQpGJHGQ987QA/0Oar97Gw0ljWQWPCHXp+hj31M+S8groB\n",
       "qO/wa1BdB1xVteAOnRBeqYtxwSjLfB83F5Wqde3QUuT3KSoID5D1QzB4OAbpkhh6M2Dzrzyumllt\n",
       "TaJVXa8hQllSkNyQwVO38oCZnnjMBrQ8J7ASCQ/9uUqtHTlS6VQ8qKErDcqlIHhHXW4m16senEGT\n",
       "wluZ2jjsvHI/SqmNWoCxD4Z8+TCGR6bYQAA3bnlrDDcUWrzZqr6G5YrW5GwlSnKj8sEMvClqqhiC\n",
       "dzFdMDoJmk4hg5SxUv5Ohrhq0h3g1/YLlqmTCK/1tzAEzL0ZQ453sL4U/8h3EFSUHAJ66qiKuW+B\n",
       "8l2YAd+rVzRlAFSS8L46hfAHlM5UeW9tvOeWeDzS8f4F0MTcwLDoDRmJVTPYwAlJXRPEmJ2AZAlW\n",
       "JSI+nAg9yBlW62Fxu1sQOiYtyUgigjyQmOH0Zrb+qyvxZ/7vmG03XvuLLt9s4gV5WvtyMGw1DlQb\n",
       "uIfGka4+iOGzAp4ugBIPfuWzqFfJ8cUIdNUKHhUI8pM+EqET/fVJ2JPMdIcmN+Ec92kBMadcBL0B\n",
       "ACEfETXvwt2MMs1kRPA0526Lj9W3/vsIyChWwC5epQ2Z6cr9x842fAQ75c82Y1qAttZxxdq7Tse6\n",
       "dpVoNEa9LEqRuEUxYuLQuN2hIM4vJtQOu6m4Wyp2ixf5XBm+xCQCaIsx5rf4qJ956WAX0JJ8rsjS\n",
       "k7GrvxJHrTw3OzLiM24dmEugAQmL1VVwzZE1UT51fAhu+FcplLrPSYa05y0Ak5MG2gkGqU/LQ7hy\n",
       "f5z6BQD2LguTXZhiJ4jJHjzw8LJY41lmr7KyDkG54H7HErGsc9y7udpibKyS3lISLuXZejZOCuHG\n",
       "WBd2p0h1qWj3azhFQjs7P8P1iiOQMXR8mwnuwggIVkW85AxTD9l479izkZCTzaOu/eHfY4VlzLXx\n",
       "z5U5UO+iUAefkntWDU0+uUoSniwm6BJ8wyQC2YlzEanFt5umEifZ9OoWKmqsPS8h2dKN2XiBQIeY\n",
       "Zhbh8ARa76ruHljGe5QIoWjPwtXg0xLxjTJMue1ZLgL+HivF7u82O8ZxERZ0KB0YwCLoHX/24z8/\n",
       "FSb55ZthcZFpsJvDcHsWyjfbUzA6E8lJkGtulPdxzvvvO4myfoZVkvd3u4pH9sO/FSarwwi2AfFg\n",
       "yprp6cRowUloycYyI4e3I5Nut4iCMa/OBP9dApwre0a3I9ltbebLrvAlla52rZY5oEnJUOnqZSkZ\n",
       "G9+hJytjtU8txMBTTO3zKGmyoqjRxPpHJRKKquQ6OlygANQeM0pR4AEsvx79AriWE13CIxBGdE5U\n",
       "0CvejhBFHtcx7CFOAyvV6K1YccZUITMhF65RnSYyIDuDNFJiKVZfPD7BAVH9KPc6jHmJorbSqfoH\n",
       "d3GuP/LKIC9SQDcHYq0dFDAGZvb6K66V2hAetZ7+upLL2AsehYvrappeEWB/8MN13h4ZASW2n3fO\n",
       "s1UsPMzqpf+YUhRICcErUPqUjjsPwvU67/BFJ1lpC22KWfGFMjRpj2B172Ktyte5rBElyty2LQgZ\n",
       "4xZgtNXwqpF0FamjTucGmGD+qvaxd2YAv1aYV9ffB4YwXxdf7JAV7wvkW4lyCeJZngHylViAcepv\n",
       "q9uoUTqWGy3FqxStymYTCcLJPUfWND6Kvs9JbttetwUmzEbVnYED2ITFcVAqAQhILAIP6ZU6twQ4\n",
       "kQXSa9G579KQ7hE090I/S/7YXE2Pi8smPwDyC51+nbul0Mk0phIee1kffjtoNt9AkYH5uvyX1LOX\n",
       "achXRK/lE9NOkiC71aj/BeVD+KMKE6NkvSy28HPNRZaogsAYK181imt603AziowqIAr4qRh73K4X\n",
       "0iygxU8oCyE8CpdiTLkJrIoxxxTs0i9Go6rsjlb3o8hWTLXrP2K2l58sqXKUtWZMSpmq91UTImmg\n",
       "JvxzTmZy+yW3J65A42VGW7AwfpesbJ70OTFMSt4ARleMmHzGOFvMHEnPVP0NhcV6P9y9vvr2cylh\n",
       "fDnXJKvM+cfJYUkxemf1G4SzEZSTrUZ2HTBCFQW+Xkp5LNDmKV6EPVO8qz6Ur6wfp7xQ2dha6+C9\n",
       "kjELiyRHaKOa85nmBxnRgZW/MS1AsDUA25R6L9dYo6MXSazaCZd5mqCzeBiavxingV2RASsYFBlv\n",
       "8fwWrU+F2ZGQNZNsAJTMTjZpXG5C0BL5F1fzClmtQiSXgQ0faTRLYgG+EFeVgqDnmIjEbVWBS8T9\n",
       "gkjvcB3ETI5vWmrEEtAgdoOM+GXvuKRIHuFmynYKnQV8LuANIVtYTWCbg4i1ezWAK7hG5Glx5OPd\n",
       "nwJQiUnHOP3WI4fk9aB5SRNtoGSF6DeHGD9bSYm3vsfJYpMYlfF+pyDW9lnaL2KdPzhj4Od/XxJI\n",
       "Tgap8SFMlQ7LrRmDq0Z2XNXGmpzFZ3D78u84Cgd0PdAy0tped94GiX/grz4WxE+Zod9W3Lc/8jxz\n",
       "oUXUByO7EYQoUpYq8NJcODMmI5c/4npwLg+/yf5FpFtaxz53AcuSKtIxxyaTPdnOJtdHtws57x00\n",
       "Kx5dw5nfo45qAF3sUA/JjNuawra23QC4kBIuJPnAk5M8VTyJ5CMgyhciqkVSSQkOJJc0A6vp3SD/\n",
       "mJKRxiPfrYmw3wew3FU/Sy2eiWFUnBByUnqig8bi0kxzJCFcpfgMADS9o9hUHJnKqMmtdQEKRq3e\n",
       "FtDNWUoCqN7RhjTXOpuWacFWJVkRNXKPLk6b/ZoLdMAXTSaI0ujri8MG0g/p7NzxFTS6X7HuPq5E\n",
       "VXPJX1EjwBc+EBi9TRGxOMjVL9OdyNxW7Wuw47lfg0HBxpnvag6YGGMlWxgAxLNGSp0XF+U5seuR\n",
       "8HCMLRdtm09qjQH76iwF6/m4hd5dRqGDeJtNJF/KoXReudxQ1Q/cV9RUQBmVU7wcfDTjL522hyJA\n",
       "gpYx1XMaj1KUEj1yLKrNnRB0IsAgpPPDZ1bMvAwgHa+kHqdc5hnt5zxw79zZblYQuiL1gfuO7SSi\n",
       "1eKSEx0T+l7m6WnZeyZZuAnfp0s+Hg3QmrsdNxkVyKjLVE7qlx04LAI0leLwR5+HXKGZl7Qo6Tcr\n",
       "nijDaAYdU5tnArzEHtVsh067CKvZddDsVyZJUr+f7HivcxEZOc+jSuO5Z8Q5+A7aJuMPD6/91o+T\n",
       "rwnjkxd1dhdbK3ioPr5TnP7MDR37vvYDEokEQQuRgjvUCfyvQ/tJjOGU9UC85QbsL5YVRREQuHcL\n",
       "s0AJfAFuXNFxArp98NurfJF/SP9D8sworzHS1/sMJWyobhfq9Wk6WLOYXPDGL6KayFT8H7Aos5Pc\n",
       "4rVYp8yiiNyJUWK1VlXd5gfDzWKOxGa3TpTk+YO93Bd3QKOWih0D65W3WlDscMIpLa//ykzhr3TD\n",
       "w8UmpoIwhXYOQbmQ6qUsavSw+zql5CGj3dq16N1f2jVazA/2TWIw5pDGTbm5tgWcjvXMGdIwUvz8\n",
       "CKbB3tL02LLKbdsnFzLbb6VfoTKjc+MVXdTr4mWvYaVOTKuyGbnIhLn/k+ecBQ6B4pLTf8lRD/F5\n",
       "BB0JoJvAKIosdB6CQIQgrR7IAbwZbMHQ1++/Tti6Qxub/mcq9UrIoAi9w7Lb2PcwDfdogzxIqp47\n",
       "htaAetT8H3ZgITHlg3Hl0PKjLFHK382rwh3+GpxA0SU3duzX1728CG2DKwylQVGMjTswN4nrU8ZJ\n",
       "qxG55GPAytoaFLdnv1SzqiAph/SyTpB4w+30Hfop6lKJfXzjqht4BX4s3uTMoWKLGaV571/kcGST\n",
       "YmX87YKi+E2UBXRUA0YXyOY5IFpoUO2F9DZjwP92nRsxDaPDt1gYKJI9FkrIBCKx5N4bCaLZJhrU\n",
       "OkInnmrtmmbXJQHZegmI/4oNm7N6fErFpE+cUYua1mf3XObK6OSIGnUTwoUyjKVABQW0esAo4dNi\n",
       "wzZ3ZxwKk16tySqrenw3rxUu/RBPNvq6AVQwwEzqBB50x3gfs3k33qL+YiCvXr57qV5oqq6EcHIO\n",
       "2s0sJOEWGwN3R4+sbSrjdnS7qu9tkcSHxVwioFD2b6+65IEdjVEpCrayc2bFU0FaOI7bwbQyfxQ7\n",
       "ueEAuCoYtyJzCtbTjo+I1WTQrlFw5/e7a42ZbaLbKKr82A6etT65LqWJyJRqGxp3EjfnEVtSI24S\n",
       "3vYmdQ0kRFtqvVasAU4vwHf9kb67cZZ84lcZTMa0jbb+m1z1PrEVAq6uC74VFKROEeMSy4tKPPjC\n",
       "jFCGDk0q6CGEtb18wl1yDChQQZNxfXRVfbeqpD7whsrIdQB+WV09tIwv5iwty0WJW1gMqnenOei9\n",
       "nNYhKm5tiF/aZFgp1X7V+r1t1WTf6dQCp2oo+GO/EMxOs+JzqhHqIWSoZw8RQgr8Pe3L/YHLfJik\n",
       "oOCYF9W4EmnWToPbFiDfMSKifGZ4oPbDiYKNr/scxfCO+/12+M4bQfL9ectFxx2FOeYtO6y0x8sg\n",
       "zn0Fx54OS7wfijdQxGDSEDNA00udYbUU8/Uxt2EAHfXehqVQngwFlWYSHuutx/3viiNWFASgvNHu\n",
       "2yZ55UZrtPj7nDcvZ65KHjECdBkL5k1mttb5QVAtwJjhT9ryoqO9wV8F2jih87vD4gQnp7qYMHOB\n",
       "qZFmuynBbWAhcAknPKB3BfJx31ZeyLPskB4EmN6r+B/TLMClS/zCbXt+YkoohdGPs7fSpnHfZPqd\n",
       "dNX96j5bGfGF/gY5gkbrZC9IX8vyX6qY+mT+1JpG6785uDMEyQromHyyHi/99ZsoWkVnVKomk7Mu\n",
       "zo9sAb8Ov69Xp1ku90UL98vegrB7zMcSO5pKqDaZztE/wuEFo5mXX3knPrQ+oswlbYpsRuaOSe3f\n",
       "KkTCpuv+QbSqZk1eniCwou9tsi5sFiBzry1a8p53j8naohw84lb2Z+9XwRhD5Fmbzb7C+NPwyJvK\n",
       "4HlBo6Z8ALUwKUV65HBKJx0CGWH0V4mfaPyUiPhLnbMT8FTC2+tmnEZANduU7V7+8Md5skMOnHMQ\n",
       "CXSFDbugPDMnv5FfnOvqgp1ijPDkOhIVzpP7mU0t01rU0GKRfy7zfFkTV28bkLUyTpVRQWCH2gs5\n",
       "GpI1yoFknC9rO4SoLH5RHs2nvfT4Afo9Hl23j1njF4+0UtdsIu8AyVtMdl2pjEpqLjboekB8fZ0q\n",
       "68dXvuZDydOGCEtJPGUg/q/Ndkp8W3eQOwlilUX0LpexMc1CXaPDq15DthAwyFvmwQhcC6X+3iOm\n",
       "TUCAQFVLetzYUbA6dszUDNAODsn0w92bXLZ/aZlDmfS7luhlxvzGvX+eSJyYZusfIW+Ku5FJPQv9\n",
       "nNT8fCB7PbYYWLndXvq8nZx1c/Qx4UyneGnSTnFF2MwBxEf9IJjYAvLoOGAkMa4Zi5O8Ewv6Ok4U\n",
       "Q8zzgzqpSuUfOM+v/7nCGji13Xgy+0hU592c1qlxBsH6Z9VdsuEObG09S1TPQmC6pydSSu8plHem\n",
       "tYimzUfmpZr4EyS53qrMOEHMRH5IRo83+yhgxsx5f0Lb43driF4ebJDuwYbjmRNy6tSuEhxr0w7i\n",
       "vFoB2z0mR8E1r67TkfxIiqhnK/lNr/zVbsvWIbvLteKvQikR+wcB4X2aLqbLzbBrws2svReB0kGR\n",
       "JtpLYWtz9Zak/lkp4ErTJB8HXfqA2pgKkmFSE+MfvsbjmKZqW8n964EiMDa77bpKpkb0Yi6aBN5M\n",
       "lYZpZDNrUl4Qf3MM8w2blwjesc8gu+DvJT8QHTix3mNy1ngV70U5tyrL0DPyt1R1Lb+EDHNOJV01\n",
       "dTEQnKMqDyGCrdlcdpxWymN/LTsb/RAFYEpJvsO37xiWVC7Nu2SqL86is4Ce1IxiVbHm7k95MiG0\n",
       "kpvJDt4WDKExvcCwoVJXr2c92N/hYIGGW/PrQ8HxAAlMfOraT0yFK5rb3UPHvDyxB4CtIK7JAnnn\n",
       "ZWEIbn+HchdHNUZFHhv0cfAQb0Qg7cgLjgRQbhyCOgNb1CsnHhn0tPZWVNPhq4aCoCf+sKFq2v1Z\n",
       "o+1AkOM03RiOGaJ56AcGO5WLzybJyrzAI83Y/vq1lSoW2vIBDVDYzr9/SEoauGevPNPRAM+8Sc/T\n",
       "5QgBmUVi9DICw1JBImaGmffXXR1v+pq1i+6tr7O9ShNLGTmXoLOr5X4oE1hYk4pcXDZoii/jqNid\n",
       "lGK1s2L7uq+ARqQ0I87R/8xT6mg1rAY5VZIaBjPxkVp353sps/cGpE1p3OyHaB3qreU9ZR8xIT5m\n",
       "99c1HJ33AgDYLCmugzx1cty5YfcsVcvG9FIPZvPhDcchDLih7s+hFLRk8zXxUKOeGPr206F9FBAE\n",
       "mrLgca1b8k1il7yH0aTjH6/1959MUUlgPU3k4IotCrWYiqqR6qdjaUS7rVWXECNO0ZeO2UGqO/fc\n",
       "XPQvRBT0J63Cmqdho8DX/B0BkLVoHpLUoAIpvpSZ8W7f1gkQpRBmtuV3PDRoGpcCqmBcht3iGbCO\n",
       "Ss3g+AGHVHX2dtHFEjfU2PSW2GDsGXbeYIV9+fdcIk1/aeeSgBIbRL9lLyryfUIPpgiJxMzIj6v2\n",
       "tLapke5wxLwrvSLZAigh4bCyM1LVy8tEqF9h1jpafJvI1k6/cRG6+s2Y525yQ7+/kZXxRXqJOC4f\n",
       "zMCQDaLTveOgKTJBuIJoiXBMvPlxrDBsTinQdXyr59iSFWWkjDsm1z+FTItyIfnZ/pNoCVfdPuqh\n",
       "Rep7/iTsajs8XGoT/7/RoRQxGBtV0ACB2TY45SGltVi/7wl3DpMpxtjn9pObG56WLY2pxDSd+slZ\n",
       "+DbJlu4B4ZPy10HOyE00ndtxG7RMKJOuf4WTFLj05Gjx0ni3uESDcTgC15LKbDRStRMsVGa6TI/m\n",
       "R1iAmW3GkF2kEyrIFg6Xu/da3erji9sjAdIR4vd30tLJgjSc/YBV1sDQmb8+fLH99DDEUV357cAR\n",
       "f+fFXhxIOG2eO/ywbs5yERISYHmJ8OBRmo5+2R+Z4HsvUrSNovxRXs8MYTJLSW3deBbaf6J1Fpt+\n",
       "3qdHZH/PSPe7N9RrYz4aln2fcv5dCkt++AHcWNMBdid25m2m3SoRc+1HG7vuwb9FFeyXczF8Vf+e\n",
       "5Hur6mIHAVFE4Fh+Sy2UeCOyEh8/JZcwT/xqZCd8yxFoRX2h52limFIX60o46W13xFvEW93Xee39\n",
       "IUtbSo2R0KDUBliUNLp6HeZ74A70pLPUJzzARfrS6MwomrAX+iuNMYge5hbwUxvXGnsn/7ZkDnxN\n",
       "Qrt90INozKRK3tz7kZ/JX40Q7XtEZ9Jwdzw6ZYoJh5tffDV7LPkFgHD5A+w+cDbCN8Ii4GougpQw\n",
       "KAhqQyRy55JCLIhKxuz7BMZZp0jE+g+YzO23m+qXMAHCzES+RImyLW9laiNOsbA0NKSSR3aKC1sj\n",
       "MPVoaz2dwmpUb+C7kSNsbPKOSheM8qv9JBVdw9ZbYpTPq8fw733bKXxSEByhf/D0I3tTlj2wkGE9\n",
       "r0yfjEoWTi+tNSZtZtJBq+ibsobovlGwzAZDvUYFL+yVdcacy1zLbvIQC8NRRIlp+pc44JaSTKvc\n",
       "yn3EpmldC/2pP45T4IVTZ3yxgeW9PhEWdIo/h+MjhTu8Cu/AhxFcTKiYwuZRxZU4gcpGEZKEY508\n",
       "cCBVwjw94YjnxFk9WRbfVaRrA+K9+TS+wFERIHlmI5Bx5woFpXuj6cKpaeahVEJuH2ZviCj+X8Jf\n",
       "KDm/kFfSFKlAAA54ecA/N2Ky0sbm55LWX8DNhaMW0PrxH1yo2S2iLn9nW7/YyW6GK2oFIdauSm+h\n",
       "p4y1LfTjHi9QRzD63w+i0KjIDwKegYhFReLzBDy8DCl7gK1B7W1e+L1WeceaXz+7XoSj5vY1VEkm\n",
       "trprM+iufLM9aIYsKd8yBa1Vt3hi3KAX2nXNmoSWn83g8SzqwpwDYkIJxEW9GYLNDOoD2cq4uJLU\n",
       "4Y2zjaCeP72xHLp1QPniBmVfJfi2sqdxOfB6YnnI/1U1xt8wD22MxixlasNmEbWT0ANztpP3kowm\n",
       "IlodkR05C2jH1Oz4LWbb4q/O8Tm+n+ZuybLBto7Al8uO5JhBBsaCcRf6nP2SYD2FraOBr57a0Nt9\n",
       "3kVLaAdx9ZuwyfiLJh/nbKL2GbCpZjLLAffuoizbaXZ3nVBIVDRcNXINXnIVmyq3/9NIzrVLsvU8\n",
       "6rW2i/Or5SqwCG3LQDcn3o33XDW0A8afzwEc/yizBNiz8hZFcGCtyYU5bQRVEXkMdc9IwBT1CaNa\n",
       "5JpP4hhlfR6p5nbJoFe+TRuRq8UPbClTboepp3XjR3JibY5wXFlXSXnzUb6Ka0oNUu5tCfi9ywTV\n",
       "3ipGNSuHTJK+F3gWrCcE9olLbL/v4oNDXGzHvez0y6RGQ1dEQdn8ft201lEa9bbNFBU2sSjeYLUK\n",
       "0GYF5yIThyw41HjW0rx9omLhB+zgAT9rZcMe5hMcljDGe9tML/C9tHGx3ccfyaMIZOc+qtkdpDjV\n",
       "YjWKxr/eWnJ/Ldi5M7xStzUwZYvwF8GmrnWN21QbRZ7Swx8cphr8Br/jpsyeCrBzxO0aufvoMaC4\n",
       "KItITEBPu7VZAx4RnuPQBKa8tPyTfbU6nosKaENfqemSnBCJLO39+5G5ZQUHIj1qdvBmnl8cmLTl\n",
       "11Jl2ouS6cM2cBNMi13YX4hz/68qBQNDc8QXEqbY4ZUBYWHGpkJ2gNWVofEtuMojsewZ6vdkXnmZ\n",
       "irkySUGgHEpgx5QEzkij2vpn8W7zPNPBZGK9qm6vs9zx3/YKBPyrCpyHSAZl6kU/1tv8n7X9fhFd\n",
       "iXlnDNm1zzWja6e6z+YcFLse9m2q2JoKvoR4LcmEIv6Hqyx896I6byKB+EkpQwaOIVAa9CpcyZlH\n",
       "KS/+IQlH5OEV1h96aDcAuuedhfNzaW/ihf4Fg8wspqtYZwQlVXx6d9pNAUxdmR8+XHBB4B3OIX8x\n",
       "3XAQascL5Qbpx/9j+gxaMC/3dLO3QRBYtRPpVGC2jSb9gbPTHLilhuOhAaU2I5L2APFYdXTDExdB\n",
       "2BUTKICWuPhi/i9SUlA0lSl/kfgWCj3/1v0Nwy7tZkPFS4+jkMnHxfqpb5Mj6ql69Dn2VkJp+4jI\n",
       "5WdWbvTQ9HxMVRyh2pdFhGPpk8NnfDE++lHeEKB1kdeN7shhpZuEd81rRPGWPdHv8h7w6Xcch0U3\n",
       "uR/UB76i/ZlDEGEJ8nr4l4e4K3Yw5otAT7TcJw8OySUkGiGyEhlkjAI3WfGm0AKxVejMoj3rnN43\n",
       "1VlclKIkHFXap1KkgfsC6ZjV3OuUjUokhA6KMcVaSy7dOd92OrVs3mW4DKn7KtsVvlpVRjcXceGs\n",
       "PnexqGbHELdQ0IjmRsJAD3d6XZMkKwAd2B7WeCKU1IjhHJ+YwNRQjL/r/O738HrucvcFuhlO+YoT\n",
       "UaiylZdMAvH6ZnvERRbxCb2UYotAVNZrSC6hD0TJiHWwBMYKm/4T+7IKSyLH/JxKiiBjfW9g+W2a\n",
       "wcQ4gIZ1qIRhE5piS/9P0aPaw5zsUSLd7elI9GUYz5mVb/ZTpx67G5ibLAuqDUZS9xq2szDxTmDx\n",
       "xPAta8dZSw9JisxxSLhWjbeynCBacp62ftPtKoVz/iFLzN8TOAppyDZlYOYdpvLfx3G4a++ukzHC\n",
       "Ru/Atb5eYhrZVyo9bZfN+I6yJkUytaIJ/QAumJGXWtSr2nTGRYb1vvroCzN2dReFZPBcR+TwVEwK\n",
       "ugvKlWhVHeIrEYjS2I2gdaIzEmv/5xW5p5o2J1j4njrIf/oCQPClWN0As5uA1uhY49W6O5L6wBob\n",
       "dZ6+pQ/BceZT2zj5Ycc9BDOKZphfwXpI0SQ7dUReAe9W2HV2Xr/90IAMR6YDMUedRBu/Qt5invp1\n",
       "JuxlVUHs4/liswVQEMWv6ef+sormfkzTxiAKG6q43OL0O0fgrD/+9PQw76xqkb47yvnDvfq38CIs\n",
       "QCSIVoeEDeL+Gd8AT56yslTgp/6h4gFWQfRBmKM6O5Qa0bd2An7GLh2KpC3sBia+AaEhLbz80Cnt\n",
       "IXErT/9UqozvVxC7NSuUTaArr6VCSFXMjgTHFJ9xNA6W/IxnzUN7Z2DUPF+VIjjzABHQWeER8ob+\n",
       "VA391E7JjJ44mDu74m3HbgmPlHxGB6LZoW2TxSEVjWe5sEcwXtX0c948U6OkWIQcj2Z2kVZOGksj\n",
       "+bipuITqj/hlz6YJvdBzYiXJOzY8EWFHM9rB7cR3cBJXn3EjpT374Jx8R4ZrAZirPBf+jP/ssRt0\n",
       "tiDZ0UOPhPhDvYm2NvipxYvvfh366ctlgzTX8gsNkPFxQi3zP9e8K3kR/so8YsKh0LgIWbDth8x4\n",
       "pLII/7ZT2dEsrh7n4xBUNulhMxwX7TKfvQcdTrN2JeHK9CnhVmaP/Fu/rKFbozFPV7iOeyi8Y984\n",
       "K+OeNJCmG3wbvRIUqPt3iQD6gT59/fdrWnHcQvFZ5sFrwS4AL9qqwgUnLKRmMf/qkjdjy94akk/a\n",
       "5ot2En1QAu0eFSMfo7R6Yk1bFMiUZimdJeY+0IT7rL/pHa605TzfBP/6ubBkD8iY3uicPckugFST\n",
       "Tik/OnLjKq+tOBmHTOkHqQq4bL6NKwm4+jPxOCNZNVAGKBSWd+C6dKs1254MdA4rOTcBIk+K5uB8\n",
       "awCJX2nCIP9DQIx8e+69brEDkm68izvvaTvzPmotUThgIBoSxS8fF4relM1VvfpluL0QAGDzX2yr\n",
       "elD2/wwGVd5OmCcfLnBBmdBDmuZ9INWvCcOW0XWPbkojmPz2atCWgUJ96FsURwDss8K3CB9pd/UK\n",
       "0GlyGc31ZAhGBm0nvM2XJCVjfC4Fd+CjrdDvMw6TSD1IVPKPGh7RANp8E1fBgkKDaF18SE3o1xbC\n",
       "ukFX4AbBptbipCwWuhbl6pvi3vAZ0cvuyiVUP6ZZp/LECP9xZT0WeH+HrcP0z8mKh5Ne27H8wRcw\n",
       "nD6BKAkCZEgzta3VnviSZqeZH30VqjQ1w78z5qLUzXIkLkHNtV6Y5+auv4CkWBRaWGo8rpS0NHMW\n",
       "qhsH4ssCPSw9/Z3E4Abv5IfPoN3Zm+r9rfbG29v2rznhH3UsgAYtds/7zzQn6URldjrHnrZgiRSj\n",
       "s4Y22lTneeDvKCSjZEDTT6AqA6fAg2Pwl9ImfpwQFFNcV3RVGVpQLYbZjiS6fNW5HGVnJUWaypeP\n",
       "SnGWvKSfjuMircx5QJAIvZ99Re8wVtMLQ4wn9q6V0hi3eeSAnfX3eBuO7pFNZ1bBvgrxT4PbuEkS\n",
       "T35sF4Ml6mH6o5lej/rB9q8S7rp/Oghc6EHgaEuQboWoRcoClxxVrDGFc80eX5ZYng/a974KjYQz\n",
       "xMHjU/hl9yvXztjFrCkCOKjqAXm0u1y4TNlXFRV+29EbZLrB+u/ZJcWjukRN6XwCk9sEeluRCWNR\n",
       "byBCZkVpzQ30bKYdLy9r402lrcctuNM23TX4gYzmUUCRXKcH5Y8vR8dBmI7qnIdXEW/eMt+3bxv6\n",
       "4J1UreQWb+VdLdA7U8/UnCRGnesZ96qAM1KMqWcYjI6qkdcLKjRFrOMXtQs/PogSqYkQFXXPz8Jc\n",
       "tBUzVqEpJt7avd/aW/pKPGRuJ9T9O+7oRnOBglnA8SJ3pe9gTnD/Xwq7LB4ue8ZnV08Fewauhq00\n",
       "DiqGkSodr7YfGbZB8utOMEEBOIjwKIX8qSKSSYxfI3oU46TZDdH+A67sNf8LDjftvbhtVJ4b3AeU\n",
       "StZZJY0DJ0DBMmb+kXkSL9+oypm7cbgydAxMnlam8aqZ+/TFWIgaUhpV+WlnYBT2aoPm5hmJO1or\n",
       "BqLpkvciOiCa1ofagBC6uqxnHplV+JQ2TxoLN3WZjp23ulrTsNx8IFNNUN9zYIJwvnuBGdq7PLCW\n",
       "fn+ZxrNxQA48D8RituCUz+GBCQN6ZSTR1ngKtkYlKB3G+lbMJhfzKteEOgfDUjaxhUTHptbIlvve\n",
       "2+iEUH+V9KE2W88K2qzT9/fEzzvzENrExXM9K2hEssAIxnWxuc8yMwT9kr03Co2e6fpYUrrbZunb\n",
       "sL4gZHY+h3+BSGdRfV5CfaK+U/0DK57pW0RYi6jS/dgOGFE1eU8oqCR3gqA+r/+O+FgSSh1/JA1F\n",
       "fEoj9Q2D8WSphZqlBRQdjN9q4uHXU0j1iEt/A2HDhIQ2KDBcZc2mCyRp3zCfw8tgltYp+7Nbc9/9\n",
       "XbfNzhE+eRxPbTWZtufYNd9DHd7xd/1l4Tez8A8CobOk9MleC+PFiCyhzGwANM1mNeiOY9vToyHg\n",
       "qRtWGkKnrdbVWqf4ZDYpV2JDvK4f0Jedyh6zTuLcRNIOK0Z4ldUEWssxTu/XMvJ8BzzZqx7HSiic\n",
       "jxUktYKL6+5a/FA7ql+4NyVhpbUF69D/aLxhPepHNr7xi3HRlupAETvbjxW9PHjJWTjtG3lHPj1O\n",
       "kXl53qaluWZzWKeBulDniqlGP0d38vIRs9UFcKNPpEV3Kcd8hKQdxzoKAf8e+4Tk2oqEvXHxfUCF\n",
       "b0ia1eH/aMOTY4xXH/N/m8TeK1Ll/z03y7Mw3FBnJcB8xvV8xq0n4dwYl++XcSTkTgs7geCZGoAs\n",
       "Yj1AxT19LbjVtgzcuSL7Quq3FuowktTJNUDcthS0z5uqHp5ZJS1AoE1+yjrYXG6ok4dhOWNDISHf\n",
       "LgMFYUfoUgYoUVgAmO8fzRx5FZ+OjCmPVJQ8td/Vio/Fkz/4iPINw1cPfKinvDLPWShuKNp3ZpBY\n",
       "Ok9Bey5uTsN1lpb35gQ6eU83JMEY7k6yTKyJZQs9sEJuVfnKV/jS5Bi2/J41m0j5K6wcpttyk1e5\n",
       "/f7qVcgPfFmMcjQe5ydiD/s+yeffe9pflCEFDgAmlw95H8vMSEkuzqL5f+BR4H8lcrKpY5QPkMWR\n",
       "lI8C6h1N9LZib8GSHwtyF3/ewKUjOiwnpOibRPME2K1bNSW1m+tQK5Gv6pBST23Q2L4R/keWdQGY\n",
       "yPr/Y3uKxpEghZZ2CU8dQDDDMWduE40qEnqe6U8QLF/BCLo3rq9P6Pc8nanR8o6EORhF3J0vcCcD\n",
       "woG7u9SCAYF/QywItk/iy94L+3LEzl40BAcKUdnirzVYGncn/8+IDPCkWyxoTWAKHJ31PjV8EzkR\n",
       "7usvFyOhLgNWXWj1w+m62yvZ0qC1qEUAgBoLELgl/jUAyQHU7I0JePetKThxRCOUfmJWFrW8KRBS\n",
       "nbdu7QCEYpsu5wprrUUGyI3QLDblRCCmjYoriwBUxW8vf+bdEnKkX4KipkkSmf7s/jjVot0F2grc\n",
       "tFlaPj2bOCAqwGsQLZ1pG0qHyrj/jycG5Prpk7StDGiJvDOXqaladNrsmasZQ2TcU4orcHXizzgY\n",
       "dFYuMrZ57/QeSSyAHTw0S/OyexiW3lDJyVkwyDayifcSmNb+95hiQxTi95WqyMlNDdL/vGr8f+P/\n",
       "/9gJNEQQqEe9IXLQmlt3maWMcqG4G/uFbi1TDAann+EQBeXJuSPajou44+BRPYhchSAfy3beRJ9G\n",
       "CGM35UoCZyQZceZOAahqcvP+sZjg0tv2I6k+phNpAJvGJElpRopa5yDxhm85VmnXLczFPQHH7gAR\n",
       "u0q9HqpcZixFWZV42fkaqWjVGNNxwDBY/AsCiptn/nXF9NzVcHrbU24Esn4qid3huNMdalZ7Xqg5\n",
       "X0pYUZaAy9U78ZMHa4tWfPd3NzEbgVqgOwX3bomN7/7T8iCVr9Mrkm+1k/IMfzA953/J0UUt1MvZ\n",
       "2peKh1sMoE1srtjcmvatId2+ufpe17irKtJuA6V76J4MWtK48JDVCTLIbCMIcC2oUwF+/rG26WWW\n",
       "gqZ4pzwjsSm6xnqN+k6IUYAeFPfxCLt7qFQX2DUN8nd1Al6I5o2+DIK2+/zhREBLkEJSydhY/24m\n",
       "PymjmD3c5YoxgwYsj36pu+GrtEtbZ15mCCPYkrITKOHvPlgkSsK++p+TLv7DUYFLw8nCTHZ23G+S\n",
       "pk+6hJ9g3MtJLJfsF+y0zIVG3/kXYH998nOTtC8thhoj+R8s/22FUAnuPUC9mGGQGIrlvBf3sI2R\n",
       "UP0HlrQx0vH/Lx6XWjo78Kfn9HYbbrhDay7w4m7dUgk0MWFO92SuWWcjB4fMRPganfqSrgLYXccG\n",
       "UjRtev8sFGj3zWcqajaNY1HxWZa/3O3R0YgPc+4j39cnhIFeZFjaCTdIMOyhAcETb0j2KbmSiTAB\n",
       "pms+trzQEOfVAC+VclxhoqvLEuL1o2wqBLtUT6oYuBY2uBSbIqygntGUr1mrta9QuuXoLgVbnvWA\n",
       "GShRqm0TwuopvRxqEmCQ1khxS1DsJfISxuQRRciKHWQWDQrofjp7C1qs0XAjIzxEvE1VtBg06Aoy\n",
       "CV7a3JaoEsFbTYgyOS224PNHavvRIwYMTAU6NpSXcb1RbrLfbiuBUW7H2hXEWywo6TsSPf2zhX0V\n",
       "2DKCANETaQWx6+I1QqMcNIJDLcNlU4/7sWB/FKhfSEAy0/dMnLrvGRgCwyAjzFBp0xkWG/VBFdl9\n",
       "bY6pPhmNFBOCHjf5/4fO2QZ92Q+MOl7OM7fcCf3emz/ZiZd1ZynjOqvOk50gtqh0CakcQhDbGLIg\n",
       "/fRFLUcpKciGIAReFgvrmMK0ZTj7+9eExHhJD0w4F/4n3Ft60MS+6P2G4tGvTTd3DkysB08UpKE4\n",
       "Q4t9evoY/negmk+g8n0IVWk/Xa0CKuhoHBxQB/bKKhiBjt9b/MD7zjXJBwEhjs4zFgzHamiUez5x\n",
       "rTPKXD691JdAq81WBp3J//bzfuA9xrVabo8MQFup6OWgX/LIzp9TmB45mA53MsJzhZgEX0vf88mq\n",
       "EuAR5RV1km2skF4I7MzQMaofIHKWw5cf9tOPVtvHFmxLVFxYoc6Wemv1Mgu2paCweMcy9dCiOpBi\n",
       "aIU+qwstFZAEhPoH8XI7i05sOz7MUtYA0AhErjKjXqlNecVCr9Zg2cfjECXUYaZ51W4/Zt4Sct6q\n",
       "HZEZ1WKPV8xIV2vCVWtaPDqeDhISa5bWUKK0lEyRJ7vaA0W/6vpH5SHAtTCxj0pxY+HFm+FLXjv4\n",
       "JaqwznSrEGG97Y0dI7D+kqMUA24uIXQOLRvdybXLYdmHLKEn2KQqJUmrDKXaKBVFZlIgICbJaOmv\n",
       "FHgEKnLJ/f/0a0rMAmBzzqP2ra/D8XYTOv4PyCoQfQ0wTv2/QIiwLTVuxnRUtM1jx2/qd1ROeGvM\n",
       "rl9p9x1535mpDBztTkocs+JZWWTBOgRzarhnnV8ZL6oDVs5ZfR+q4FvyMu5QwTCMlQfJKpNvWW06\n",
       "RRqFHwfm92MohjFuqSM+ou4tcUhbW1cApNcxBLJ3OjF4i0sOn/T3u49h4fcS/b7VvarhpdkvIukx\n",
       "D6lIMrqHq98pLtqVGNB3jclkRedaWG+deRtjo7riHfbKd349TCtQEsXvpcwpuGCTm+/2kv6g8Nee\n",
       "Yybx00mrkn3Kd6Ra2lpjf2SH7eSvrbk4vXjGQn0895JBfdJZuzlJjK35wafStN+8vDzGjB2lJtwx\n",
       "GQSXErsBDHIkRUXGjwwD5loYszNUoQ1cAXekTFM1pRdoh9RtlnbN5GJMj0eA46icX5xw1X/rWCL8\n",
       "IJdh7ZNvezMGbT1BIDjBv+c3DQV/0EyHVtovZeIzMn0MfzHtMXVKR+YJek3ZqQFYB+Scf9oC8bSr\n",
       "bQprYrUoWevXa4WXELoHF0uzkNHKubY5fm/VI40pM6guIh1XdkS3Qc1emIV4+vvKgxzWQkjr/LS4\n",
       "lhx6LsmUQ7c9tWNrgqn6WaHf7cBjADmCcyOXIdnsMNfFDrJo5TpfnQOHh5gF/+W41ls0V1YGV2GB\n",
       "c9VrJJ9BbtM7NFJIwaD44qSyGHis+Bc94ZEedqRZrNO+/2CpRrMEzZO7YKjdJt8tSWXgd+XSbcNK\n",
       "erhjSM1fp58ZZTb/e3e2h8neEc7wF+HGXxYK67NqlrR+aUoEvjnxq+uYhBaIw2WCiw4vPk3pd9We\n",
       "GKUGXtgin/y57A0l/pRDyYqhMdk5o1dDhkXMqYuFpWh+1UJ6EywhOMlo1tu/TckD9VMWoFcjX9Ug\n",
       "pJ7YP7zpfGNg15LMZH1/sb12L+qaooBUOv2UunAwetaEmXnKHoHFt8q1woPKQpLL+1HcrcheibYg\n",
       "CA1NmDEX8ic6qxbQS51uhuVPfmRZFdiun9vRLdQeViLMKnRA+pAMGP5FBm0qwDL5PCYnFfLe84NH\n",
       "DQCA3U45hVk0VUDMyW/1n09Slv9+Qm3ANcor6SxxATjkBf8r+EI4XQYznMxqSc2lCiRDHYpddDm7\n",
       "92qzNxjh9TSHtL1XVg6CFw81lcRB80SPh/7ImxbKyv7N8zf0uHW0EnV5G9f0mW4qyLqT+Zcv3w6R\n",
       "3ZT5BRyJ/J163EJeUJev5yf/+ex+r3puzKIQ5OW+SCw4q14M0amW1PEGpfHkJpir69RvukNkM3El\n",
       "x0bhAVNjvyMYakS7KQhqGz7Px4XnbMdJ3FZ+DNrAyEA2c5fMmpDo50KMK6evNEVvoe+lAHyaJcwi\n",
       "lfowENUci+gqU3R9YttLTG3c/Jey1B6nSKDTvqU4EadBSqQ1UQYQ5eiXxGEeX8PtLL/Poc1re2PC\n",
       "abJW6Yr7LGwoJh1dthMbkpEmKBkgpTmb1/lCyG1l3pkhh44ZgrbAp3zIFrTYLKAV9OR1We4IJg5J\n",
       "xt9X9baZZrjG1vwq6EsujMwVpRU6WdZX4XmbyLcCtUeni3hB/TV41vswJ2iainydkR0mmCY40Vzj\n",
       "btUzkAdejV/f2nGv8L5wZyFpiZJim9KYstZ4Bf+1BLC2j4R5gRev4KjK+/cHRtF7bavV/CKqbyw6\n",
       "61g4+wuD4OLVpzc+Tw4Z8AtXyyzC7ggSvIAZ+nMntqqR7p/3LHocWvnl1SM7HOJ6ByOdo+3z4seo\n",
       "ElqYLeHYNTltzwBTHzpk9B/FvgvJcF9Kv2pQFWDWcLNlRXGC52Ubxx4P0IkasRhV53TRvlSlRlbh\n",
       "jrCJ7cyE4MP/Wf/1DwfvFaZ/TMt1dtLiH+bawca1t8CRE8rsZG/qz+J/mSttNBKmRy6k2zshym1f\n",
       "ZXC1hWpvqL+7BUV3QjOOFOX/UEBfiM83HfaHwHkD2IfXnZw3TwYpsRr3HvQG0+yqmj/qtKvAAACc\n",
       "D+AAAAMA4oEAABsOQZokbEF//tqmWCWbw80AHDn55aVORawehb71FzSAm29zosly+WSkYBefSnBa\n",
       "WaQpCcKczA4OGdSRT/gMO9ZoQGgeVfMiCelVKKXNt+VDMvv328SRDMKiDuUIIV2tzYA2V/chWQBR\n",
       "oRKMS1dAn+6qvR+hYMzrNFW9Y4F6hzvy/4y6E5qSj8bKeBhG7Pz5yaUaJIMRY4Ri6NA9nGXpDgg6\n",
       "Z+CbTaSgstHQxKFFZDpPnsQOMwRDOy27XK6wfjniMe/IIivWiy+nVuMaiPKrpyJp1e06MAiNMcRO\n",
       "WrczzASRiY5mPr3VWitIvsw9PPNkEyFqpE0Nv/efX4JpwIy79+1gtZwcaD1+ELZibYAVg5ncwdfU\n",
       "x2h0zcv5PpL5GulzrzA9PwBZ9JhcS6GhErTW8DvGI/v+1PtEBOw3Tr6pp2/2PdcxQXfs1s0nEaLx\n",
       "9v7ZLmc6zcuoL6JJe8n3ZhcgTBo3GCAG3tvq3G/w9B33BSLzMQJQsRaZSQwgAfSF2U2UYXZpNuaU\n",
       "+WWSuQXIFO4/1vU/uyCG86WC427dw9zU78vNaFKOHWn80MpXJYy60l+PhtHKm/nDJBByOlQBRbKQ\n",
       "hCndIGUHRfF86F7ROYNaSu8j2vF4PwgLYJn4MKCYxApzJC7N/5WOrBEuVELCxxJV30mCMcd75dhn\n",
       "eR8WKJstng8Z+znnoJSyFAHIcjexUTUBifwB/fJDtyFmoQ+sVnKYdhNJsQKkMjgDuTSRxwdvq4pY\n",
       "XDvxusUjv0D/3P7y4L16tno68FeNzSR3M0RArwaoTl2qrCBf1icliFzJo6MdOchlX4xwe36HYK8g\n",
       "9vSL1xamzeDGwXrrGGfeHYeqr0ELlt8pNYDF7XpBo5VfQhz5GqZ8KZdepg/FdjGd/+ylD7tkeIVI\n",
       "rIDZUHK4Ij7XJE0IFqiXjMJWQsUZEfEDFmhdeeOW1Tm8vAGxXbHOvEXWw3S+nN/8dqTGmpHlcDmr\n",
       "D3H9+zJW1NdJOdqKDfvNcNxGuQd+JFnyDbJuKaDixl7av5Jcw/9gd1pO5oCF5QHA7vD9WT0bNBLa\n",
       "I9+UKTVPlzLb3Nowi+TD3OW6I++ewFOZqf+TcSphQ2nO6xJbugQAYbYmyKgtEaAqkutqeGykLpS2\n",
       "DZJib54tvrNLpfdegA/IrMpCv20bDmCqTp+G2vMffeDmit0s6S21yjMswwEjr+WFqmeVFTawtqdW\n",
       "FJ4Ml9FK7Q3qL8pt8hOvgx1cS5pTVxkgz1KhyNEIYRe8bI476uZS0/SUxbjdw7rrGHW4YfhB8ZRm\n",
       "piyskMy7bO/u7/6RZ5M8mGP4pYr8ap4RVC37VeAIfkrUV4lc2nQnvrvcF8B+zIqFGtEQ1GTFi0Iw\n",
       "KrtCh+YwB+jpBG4AjfCeTUsWuyddbCNhIasqsc1YikEM/sdqoGQYzrsi1gdlipKaPCSFh3ialkGi\n",
       "jToPvIaQJBP5Uj3XHBf7IQLXCevBIMQX/0B/plSHzL9RdyvJNPe6aHwCMYxDVJu+HluuGI63jq//\n",
       "bWACAlZCPRs/EkDf811mogPKxCxwnNN8fIwQCrIJ70Ujz+/CYAnCkT6X/EXw7A2unT9xrGMpZBNv\n",
       "gXSfkhThDkYfivsUJZCjJarIg3MPWlGYd+FsK+HCdKu4TgsykjZ1XGtCHTQIVKMdAWtxSiOPQofW\n",
       "3MthxmYsnzDY1g4rUqRWBIuETvoMF/LSv8cV6jTuoxWwIsZqc0QADxyuBDKU5lILY+a7KG+sl10M\n",
       "0ZMx1d6P2uP9uhbrEXOS7dI0uUF5v4vK1vF7CfELsoLA4Ng3HzGHvaJ0QHTBBSSA50q8hWM9xkxl\n",
       "S0kkjdTO2CbDsrDTGTtVqpLDrCYhkPjtkWOfLkYC633LTVg2H1acl9riB+XgZcECeEzWOFJRHJLD\n",
       "bmLEvzae7S7NGdbD2h6QiL0QBHvkXgqDRWw2oTkiP3LsZjrTG35nxWj7Saz76CW8O8xzq4TJQLLK\n",
       "tCHq3nZdsw5jARc8oEeUXJVpektB6KHesTcRgZEAa96pKTxOaDSYIhRJIH0XzNzYIXVyctyTHBnb\n",
       "Ye/0JxSiVkljPVEJX5zoy9hAHl0RpiRS53AbT97T6/8NL7iJhgC1IRWhfxTGpYQpKxmJM9NI8yYl\n",
       "7Moq2aCGzdr/HRr4sYXkQwEb7Lnr8w+g+elrXaliyaSr4+G11norpYBJ/P85sqz0cuNUyEwP/v0Q\n",
       "ckJN01HgssqHvBxZIav/8n9WHL35OVUaGC3WBX/mauEquGq/F8pBCdHVE6tQpkjFX8FMM1PDLXbw\n",
       "xyMwPbDA40P0MEVgb4cu007WNQqCqozugN+3TlpHNwx26CkrNQqsgxS9fSec9UDd/oUyZM/yxAN4\n",
       "Bxx/EnPbjT3bvX5hsV57ZRoa4GpFluwC9h+GLGBu6PJiMl2XDikF8AHzug4gUgOtA5Sx77FhkWSq\n",
       "3ITXY1mEfUtoTlFpLEtbVlriFdUZhJ0rmlWtjgcD7OFNqnzXikFd0J7NtkxFLTvHuIN35nY6SQ4o\n",
       "rUQWE+V5ze7CEUn8DwkVim5JO8hTVCf4a4fFQGfjEyhOUicQYzH2Y/8YNchAtRB5lrHQvVTVXWeb\n",
       "vnD34GaNaf19D9NGLgma0DWPeHkGenS4IxoIfzd3fsFu49ocay2kfc4niXy3aA1VB9Kb0PETFBAF\n",
       "aBaFtMDhZXpVd0DhiRxkJnVh76y2g9A3Q85b8Hl1cKco7KpGoAnqHyZ2GOP4ku9/eUjs5M9W7c7/\n",
       "gNLrLU/tbsjKhzkQfe3lhkB8GJLp/hX9cGl5Ixz3HSrAUR22g9ESOwoV6qrvNOC0uLzDvUC7Rp/H\n",
       "1CL7O0cp8vqGvDUEVs5Ivd7GagdoVBLJL1ULySJWI47jPoo8spnzVoKzPZR2qkfNRxohGTWKfFqo\n",
       "fyc7PaszZ+TA3fve7NPHmk1qZJAswdEv8bD4fe5yqiXK5PVdJCAsbYTjq9JFbycT+CtWEe5g857R\n",
       "jY8NrKHOKrA4GHRRx0NuPY9Y7iMpoKqJjcfhwTDh6+UpqUM2qJilSmRtgNG5fCtmPLmaZ9kEhXjB\n",
       "b29lnpUgqC77Ty8YDDTEMtTv8acF64r7sG4lP1OfeAhW2TE25TSNZ5wvaU5qPAEAV3rlcPJZTCCI\n",
       "f7SmTpaNEksrh7SJnvXhsthr+nXlPX/YtGYhp3aGQEnTuKNOJ/gvKIo2nEPlQkcmBVZUBktN89Eh\n",
       "fiwGGkfQ59FKmr+F5FBQphOmPqwJDtb8/LdGs1cN3k+5/KkQiFJEXOoXomv/UbEeP16qoA4t74/b\n",
       "TEbGlr9qCxY3LIohVW7qOuwpbbXrN4QoljSSRsN9zNdy/SNLbhTbxxnfwQ2t8v48mLqfW+R+Dl30\n",
       "jD4UysPtub5wOdunuwpvAOIRmp4rqZ8W3SzYhMNV54KgqWAvW47u8lJGvvS4Cm94tV3c7xMDmGKU\n",
       "YckVMt2N20uUoym3+OTEtru2Ne8l6VfVeETVDaX2M86smCHHrtda/LYLE/+RJLzpaGbsFV+qIUyt\n",
       "28dcJVTQciqfGpoSzrOgCrbgVeMSLUDMNRF1x6GaMUR53MWK0EXqE9yHucuEF9cnVc5gAOiC5HC5\n",
       "iQoVH9Y6o6tS/8lSYftA9mZNdqpzyvOGdrQBecmRdL1ssOjUd61z03/ibzvNF4wvPu1ulOwmTieQ\n",
       "PsG35rtWq/PylGoVC9WQosxHl5LMzsH/UE3lr/x++8EaVHCBAFSKNohIlkC5VZG+iAJ56xbOAtTu\n",
       "O0/dEIxz57GsX67qaerPgS/L7jdxLrseGGiWGzq6lzFFlJhnup1tFnRpAOvHe8jExmUE8rh8gYk8\n",
       "QJk9eTY5NaJ/KHqMpq8ex3JxY1EBf0X3a6C9L7iqiXsPW20yRgZQiMl0kwUqtIgjS62zK098OYL/\n",
       "Xb9ZBacEqa0162tSpiZpx+JedG0HJXvp7IuxyFbQgoADmGNyJMOH4Y2U0YtfECs1on4nEJ1RVlZa\n",
       "LMqE/vr++39gIREUJ0BbgEYSrDt4LE3jPG6AmR0/M1d+4GOgtiWzSL+joapJkRZM/OYNMS4xVVd8\n",
       "NQ1iCQetj71n2t5r9UWDcGpNfI54Oe044I2b6i5WcrMrKhEKdqsm1X8vBXbtcJ0EWXAXCBGWqJnE\n",
       "f2uRuakkIjXyFGTOfo8IeWVoorEiuC+Vp+MqKVA/M8skzXQZSAdMDcXgiYmNnyaQq3NQK2sEXXJG\n",
       "X5sM/rAPdk4KCT5OFL2fHBgLYnXGMV/Rb+j/Z9KEYaWQShp705pVQbBHJv44kFgcxrIrRB5szMbq\n",
       "wpg2KzVpdZ8BPwytufwwTR4ZImMuJPzGJEQU9AK7ldfvCkggo0ApOx+O5EWbMPsR6OxdSCPIB3AO\n",
       "LjhKu5etauWdCwvj63zcy5SVDYR9MIxSelbevc2Hw1p5YeV9P77Q98qhd9M8vOlrLZ0kQftbq6uR\n",
       "vlzYzmmgdeuNhg+x9aZqkgIu8WkDCgV1nCZVVsaPmffbE/Q1u/PhFKh3CeaAvMAqu9E0x1Q3b+wL\n",
       "wrNnqAkKJ4lTmrZO6dVgRf2GT2/8L9Aa5G11FQ7lGRf/gTerB+t2O/QTawpsYtLZBkSMv9Tox/yz\n",
       "skngaYRsiM+lI+cCl73ZgbwC/gjZm9voC1RqNSe9p8JhQCFVQVlT8X4uOCePMUW0r65tzOPYbbQK\n",
       "mF9lNaHdh0pzX1SAkVSP5irFbt4gXecLclqIH4YA+8qWfD/WSg/z4J8oDkvytOeNNnTUHPfAL1yc\n",
       "35hjn+5DfCeBf/zWflPgLYsoEJG3bLRs4iJRH4WiA5fi+oFVWgUr/sXIG6NJf7/PngkGuH6lV6t2\n",
       "ju+I0ebNR82lTGoi9JYZpvOTrprn0V9jJ2YPdOHTX1YNjrygilHtG2YXkdbEH8UTrwy1rkhK/P5u\n",
       "IIPmdsr2KlTiadlDF/Q4fN6hPpYDQkkmDVa/IR5gpMcs+MtZZ2blFmqtH7mPWrUc2jEBBXmdC3Ky\n",
       "pV4NaH95rQTGv7VqOgkCecZAk1VPfX+l3Z58tP72npceni23uFdvZlU9kVgzxTi9DDmiCqPDuBON\n",
       "OLQazw+XDt1TbHhudq40v9QXS4D747JNYzvd+rP9GNMjTtyOS9TjzCK9EIHuXAw3Vb7ChnAYEYDp\n",
       "47gJbJyGq+kcpvyJsS2Lyh597fFNxIUWsf87TRM2qZZgmz1okDWVSWLd7MB2X07nQM5DayLK68DD\n",
       "W6qdgVkGjczCZFxtg3r0F4iGqEBi5tO2SUAusl2zql6X3Xa8RW9NHmMsdgG7gbdZ2P9S59L1yxr0\n",
       "lgBnLgFnNfCaByPprd6cI084+9kEXsx4aIElSHnn5YBLC9uMjxbB+PmXX2jshki1UviNW+Ir/nsi\n",
       "0XMNR5fLcMQAQ4TiQcQct632qdWm1j0/RVjBATxEZwWHExyqyEyFP6jfM7P7dqyXR0FM0Jr0gFb7\n",
       "nHzFobc6vPLr9rL/oKWC3p2q/N3RpEgcxM+RoL8xIaICB7JyOQVaYGUy7d9kyUS+3Q8yALmvY5K1\n",
       "l4ivpMfT4RIIfHSrcRXFKal6qSGb3ZKR6EdpVHmPIAWGHa+MXn5GNeJXKzqQQO7LmOcq3QkybVLM\n",
       "cziCwz3DhXvn5nEADXmB90c90b9+OrnMYA95oN/6QilQbqg2qtidZDQMey4AfuNFfpWrFDDeVHQe\n",
       "4XM5Tskedhbh3BPQ8cKuXNAU6PKwIMIOmoBv97lweL7LhTxn5HiHcdvijaHryP8IJLitDyJhm+NM\n",
       "s0R1CahueiRQ8PxXZmTkI7UdzEqCeRczKkPhG/XBEXeWEOw9jpscjWnjzrcapK+wMRdLBszooNiZ\n",
       "UeUrjxQCJhBr0/6adVMEkSYbs23P6fz6bcdQrOsne55k96xdf+0nFtbsf7EF8aahwrIyFtDmKuJ2\n",
       "WxhOjBTEk2XYBl9K2+jBEkpbaGvQwRgN68LGry50Ngkq7w7D49Bmy4gXW7zM5haV/KhjvNAh0DEI\n",
       "JRVb8LYKm7BqpB50LJBr/FQ3vSRlWh9GBEhZgF5f2aPS3pVub2Ji9+gXrOtk66BWkPXvbCMSDhat\n",
       "dczRbxG98B6uJfTIv8exIKNY0EpEHCHIHH7PykF4ARlLxS00VBZo0ofOgvfTM8gRBlJ6a315pJEo\n",
       "XmY+toIGjA9FnI1yFyfBNUT6mlhAHMOlH6H53OLAZszx+UhtEc/nQKA3WLSqmn8TQptFF7awpscH\n",
       "n1UkU9z6+/DydagjndkMcXUoq5mVa0wOW1VW+YYEDQTSbssaF4vWaPAzPlQraBXkuOqYVERqUbDw\n",
       "XnnQz4q0CawZb1ZPR+9w2HWyRnlOQZPyvug31TdL1NtrlQ7nwRytlttPJaRI28ffvl6c4SNhHq83\n",
       "Hgkri/RDIWZ5ruhPJoPwmVTGDpfCgBL4gqJZ9cUxn1U045LC1JNhErkcbZn9PElzUbgEdDe4OLiA\n",
       "m1mpBjDP+d8o6HSKzllgoCyPoZkCQfqz1DlTRu4rQQIL6cVf6YTZGRszFHJGdCxoyXTbtCuMq38W\n",
       "ZqjqCFXQiGZT2lr3LujKX9EaUshbBieoHnr1kXnn+vQy6QOd7+pkRFGmlyPRhTgAIXvJI3i/GjYS\n",
       "P6ooCfj2o8OH5Lw41Ia0aD+f8zbcDpaIn4BJB6BoFXaSSfuWmB/ntumhNf1gAmbP4fYnG9aWBsiw\n",
       "ZyU04i784z6y+4ZVCbmlkjbq/DSGLCYpmg9UfLXCSRGp4WVdGFthMf/EZRuZni3pa1THAMOa9IEW\n",
       "fjeZiBk/WG/aE+1A2yN0hoFwErmNYDB9SdYQV3N63lKzVKXFmK9tMnzX/a1/RAKfY80swJ8//0A3\n",
       "0uO5tsODE2g79AtiycpldFF9LVpx3wTi55A4JmJp95LbwpjeHc/DwrGBoEhoYC9L7ImjzmG+Z2uI\n",
       "b0uEyqsex39X9hDCkEpuQx/WKIVMx8SYkaNLESm9pnHiGoEjZutSa4veOXLP4oV2hD5ausZTCgB9\n",
       "Zc5q7DxpPdrBmdGqyclvrFoK66bjC+n5rbsVPwF9T/789OfEWeME7+Y5kp0f3aLSFE42//B84KTA\n",
       "XSOu5uFiXI1+EKqsGj479M1smc+tRFhZ/GeQ/NJSx1Tt8IgXT1HIal4/TqVOAIrz10yvAnc4iRiM\n",
       "MKpSJYrcAuBczPMBrWM+pPVAccW0tLSOxCEFx5Hskra0oVpYbDJqylg2HTmdYqPGTI4loMp1/f4i\n",
       "k9CX1sTGbry2TqR0sH0FDCFVlZnGs26OXrBrcjj6iLFpzNhNWdIVhfoYq0sfB+5Q4b8CqRjFQ9P2\n",
       "92rY//JxldR94WImyBa3bAbP2rquI2UnAnR2KtlkR8oLxrhRVH/SQBHfJ0rWi2vt0FwnSOr6so43\n",
       "L+rhat7im+68aDEDIEsbWHowZS1ongMMCgPuAldjAEqYsO+QQSbzxQ7sFI84uasjgKVQ5HB8PAbd\n",
       "U/F8PRw4/YQ9JN8BK09TFfD9P6TIK/tdC6K5FTSMPONL35hLi66fUABZ5aanWVkFO2QrnWUmjhbx\n",
       "rQYRjGZSAU67NSCCeRi0WNt+S8MDdFCsK+oxf6Vptd5zYYzcdfOq5P+GjFF88VTZbj/o4pkHSkmL\n",
       "DTkla/RknP/V6eyntceE7IqxEyh/IItOHKtoDpL+svedNafOHcSdmdOAHEzhzbPNeWiXB1tWAOqu\n",
       "XOGGfCRBct6UPLwQs3OcPi5m5WiWuSuNdqgydqq8DKtWQIjPTiCMq3cuVXV+o0itlzp0rWCPc9eY\n",
       "9fEXIa9o4vHuvcrFsjJP7rxnplTM7toi1yDmyb8FFE16AH4vQHa2n8zuHlI7SNUpF7LtEdnGiECB\n",
       "zqKV8lwad7vZUc65IIeFyMvbEXNFjj3B5l3XU7l6YG+p0ZbZHt65YvLne3pUaJYFVasJXrzBFOFZ\n",
       "Z1/5NVWS9Kn0y0gOk2ooWc3oyZG2tFdvJBGovPoHzMkpsMA13PPuLWQ/+S98VJLv5Fd4QIb6CQZp\n",
       "LWwGGJ6aBGgnVwh8japJDg3Okm/nIHUCBEPYSYSC2UFT7TrTQa80vuopbuC2ZKrDLD46cw1KEhm2\n",
       "AJ7m0l8yE68Xvz6b3e0hH3F+OwxLTW9PDW4xkYq71uQl4D0bN2Ii/E2jawpcACks7SzDjKN8++ZH\n",
       "llKOYlSarS89bur7n73K4JrmW16CDc6r185tTp2cbu3sCx4WQ7CBJF3jTFkqPJSAHbuVTOntHxcp\n",
       "TjbXNvYvrPImtC4l6WRu4sDjgdxbm4otA6yTKIvdPfIqS7cIow5r6hFS0u37zoyj3vuDe4i3g8ns\n",
       "Sj3b3t5w/o+GdFT5FAm9hWUzKhebeeYKwIAcV6lsEyeA4LQbloFMaNKVRGR3goPibKRa3fxmWHmJ\n",
       "v24H7u7RwZs9zDmjdLT8f0YEveeyDxx0nioNaBHINcAIfnbbvIGOpl9bLd9IjjEPVX66SwOnJflP\n",
       "8bi5F8CyXehV/oUVa6nJHHfY2An7Pz98NXVg3r/AYvcw/iTyR7bx11dyNqUsi3rh4TQ5Uuepc8WM\n",
       "hb64YSjFeg+kjrNZwDdJPTVxQ/1oSOZkiBnjkBFIrrJjkmQwClLKpKzfgqBzZLcq+P+CFYSuzLea\n",
       "h1GW51v2V6ZOzLpGpnY7qcxMEuXyDSIDw4rIrCI0YP1VjxSoZ/9ar3CpJ8dTL/DrLpC9LcXlv0Dx\n",
       "Uxihof2KbX5sj8BAW9kpnUDJRz/wSQoPw3JSNDGmHcdw5ftALIAC1WhYjSq1IWZcpVr+xo2kjErO\n",
       "uvXtHP05pVnTEpQLnzFgB5Ailg1S5HfLvRsHbIMM86a++2wV102V40ZDMFfB2hQJnxyo8SHXw6h6\n",
       "JGJKbm8zCrwp9nUjiPyNZP0ORGZaLPpc0gmMJikrwCaSci8QgEqjPN658VC3AWDu1sEfJFDtNmR0\n",
       "90RO9HnmXrDWGNQRFSFJiQNXE+Zw2VywWkZhv/CjYLNhajHMHg1QSMBxcKu91Ndop0xKY+JQOA2L\n",
       "YkE8Dvfk8/91vnGOZr5vSqsn2/MfDpS48yhIiHjq8hN/8rqyni4KyYMDt7481FPn8MYFJgJ4oLT2\n",
       "9td7vlYOyzZwAVV2UUvu2tiMTOrpn9Px7JyqWCB2RWuIphBQg5L+e5IGIbM+AkK14aSktlWe+1zH\n",
       "mCLqPTWpjpXiXYxiA1CTzqSmvnAG5qMhfpQOuchX5YQid2zC6VEtgWwE75d2UkE5KkrIv6njakaN\n",
       "o9U9Z+8weHoGxyXe5uzUnIpbzI35LeRTtHe8yGxkODkE+FOmX8MWlLWh39fbBB2vcSdZyQZXnE27\n",
       "lHf8yC/jAmpahref9QAHGPQ4uR6MeSlWCOc5e53M+Dmnl0iHnberCbgAAAEkQZ5CeIKfAA2NonkG\n",
       "n1HAAJ3UxqKk5azJUgsDiOl5cJjfsr/fzwFkh0kHZPEABn6QrJpGswR7Ag9BuMfJvqco85rqdDEc\n",
       "RrCopNmAnchHvE3dlEwPGYtfoqIuz2JgCkmXEQ3Gbl/IPIwWV2HyNyXLMcjUt7DdmYg5IQFbkDoz\n",
       "AoDF34Murz6b4gGgCseUkPX6H7lgywFC7Im1wWnyI0UNFPwbwqyBjTPSTuwQjG+Ux9jJBaJ3uU9z\n",
       "hHKieYTgPf0wdCNeV+7hfrZVFV0SBaOq6kKXHz9MD1uzQ76WGUqio2dgiF79sVqVLjBVdGzk1+Cv\n",
       "Jm65dpGjBo5Ll4xl7MPG8V+re8DBclxihrflqMTXwk3LEvr/6pU1lo8Y2G4QYCGgrogZUQAAAxkB\n",
       "nmF0QS8AIrbz0+pXdA9QAEu5yQXub18RMT44DzRTvy4s1NZPqaLj1gwBKFv7smzmv5TgJgOUum8c\n",
       "0GuqjgLtc9o6ocplgPzIzm8tttqkUlCFKjciyRZjdwIoaUrPb9w7u/nXoDuajULxM/nBpuy5FYMk\n",
       "+WxCmTqD1uKOZlAT9b4tNHEn3abwb3Wln8QSQv/iAaZTK2ynBXm+RB68DK2A3rHVWj8ElHtUC94o\n",
       "I/bCm9gvCO5WrkhfVMNdvfZA1/W2DKDeYyq8/u/hw2nooMj92vLyWlrVnkPRU+zW5v+HBj99OLBg\n",
       "kc6G6aw36qsEuV5b2Ng1InXpi0DHFJG0BEKfWEEC7vswVVXx3RUbPx+eCIhv1qb85o4qwv+ntZez\n",
       "MQR9z9Kvk9mAwRFifyTDyArfDwPYtMiPmo4KF1jUtvOSmbH44hAuI9qLofmwZ7+6IIYg3rwW3e2A\n",
       "/OZfGewSQnBxbO4f6B2On1ZOQtDIs67v1ZnFxRESh6Mc3HVTLJVyfpRQpZlqHNy5QHc8gf9a89WW\n",
       "ptF/1btMr7W64o8oQdlMYP/1yX04dqONAvWMEDqgCgq/2iFPGorvw0UCbm9oJdVvN0bbisO1kns9\n",
       "gvVdzgS+9t6YyEQkE6yOslv03Ur+hheWHtGyF/Ey/XBPYmdoUI1kohR6TzHeA4gv/msu/7K5EVC4\n",
       "x1UFG0s1vGtTwMtAMt1TVTawBg53M1IF95CMM2VJXfu1t6jbFN/5EbAcSShGMaxRHdu+dCBTpmp5\n",
       "jloVbQ0DYS1nnbjyjHTs985gbPX5ysPMxZGsFSnY3VyAmko1l/cIwQXDHTYY9xakdfzmwJf3ZDJX\n",
       "CI1Mz9gSfgiG1uK10bYzlSMMSVBRbwUOd/sxv0rUvermI5g7q7XBBRQz2JtYAcF8Mld5/a8eIBmX\n",
       "D7H4Qg2cSCBscSUYgIC5ddRwsR+4Cksn0ULfLCEjznrXqF3ZTHBW5gHRzYS/Jp1eis5zDHQapLZp\n",
       "2TOi/iDaWGX2AQthhi2jSh1C8PEUZQYs6iJdF8SfonXpuxcAvGWmOpRgCMkfJTdiwoR8AAAAgQGe\n",
       "Y2pBLwAWXEbjb/6gAJdzkg86BBoOVz4OfM/ILZHp5B2UzYRwWlArFgssfXNfvt61hx7/MifTiYhJ\n",
       "8dg4CtHxVLd6GS50mRfXHAG+e2VmbQ8rDeCzBlIb+Qp4M6IWqEyAAABFRAC8wD3aR9bztIHaEEbo\n",
       "tWoLZrbtTvnb93SdgQAAAMlBmmhJqEFomUwILf/+1qVQDIsR+Mtv1AAQ6y0YRv5fyjkpOb8EHBfq\n",
       "nJF3Lkygygshc5MJ9kdaGXwKtM6wKzK3jxzFjMjJZ8vWViUoXUE3/30XIu6ge5iRp9r4ETOpX5nW\n",
       "cImaOKyoWZHnuqVQAABk9WMKzA/QNDvm1RI0+fgAA8/H4AowisOH0749DpvFFAsoNP1wVez29pTj\n",
       "SwmjH64dinITkAj+lnGB7VS8DAZp3VaB6XNSniSVrxV0cIRN20gEVfbaIHULbekAAAB4QZ6GRREs\n",
       "FP8ACEMKLA/ugAXbr5wwUGw9B3RWr/xUZzhcLQix9wPwyE2d+Doy+vg4X3leVIcpvX07vpdqG7Pu\n",
       "cv+1HglT9+JAAAKw+iIfB+HfnFRfJpLl9IDKntLe55r5eAoakQelAbIC3b0I9ocS2A3JeFTJf10x\n",
       "AAAAgAGepXRBLwAWWXKkE/Bw9QAEqCVaVOwQYagtuz2ogR0RcIQ1IVnsv7wNn2h4BbxTSnYTqrhN\n",
       "FiJjufz0+key4V50phhyWbH2Kg+5sXcBqZ7clSHMs7XiQAAAeCb7QCbDAAFG/EprpuheQsqoouyx\n",
       "5RAtk2pC0RLzXRXvG4BgHC0hAAAAZwGep2pBLwAVn/7cAHyTkhsX1WzN2C4fiDKXvEi2RJEpuJxk\n",
       "SchV6h/oIPNtX6jrckwXXbzdoJcAA/ULC6eiNZpSS5NKSgKTdn6zoAABfU0a0JJPCe6AAO7IZiYk\n",
       "u6O6FTyk1pAAk4AAAADdQZqsSahBbJlMCC3//talUAye0eOSoAC16bP29uwDx8V130bdQgbXjdbc\n",
       "iHthDHEtMm1dNJJ8gsCniBNlV5sMUAlqvzVXCsAdL/XHVqD5K/DmkTHpy2px4BlbDD+Q3JZGJzen\n",
       "qv+5EfbLQyrGgIBSHuJU+t/pt2geemPRzu6+87/K8PIUlhFhOLu1RNHJTe9W0ohziAvU72uoaj+5\n",
       "Gf4e1VcJN7QdTuFu+oJ3PX82bpzuuptgAFv/siUeyc/rebykMWPWwQAApHSIoBi5KMUmsQDj+6WU\n",
       "6VX9jHOyAScAAABTQZ7KRRUsFP8ACEMKKY//IABEBzkACakovIEe1I1EQb2E63Vf9lgSF+263t4u\n",
       "FIdSPIW3r4AABo+SHtKzR1BlqtF7iPyT7ISIOeJvAG6xwp9dC7kAAABvAZ7pdEEvABZcDxoACFU9\n",
       "MTK/l66dcPufIdP7LzjjEfYtYngbbuRQoWVmZpzO1Fp7jjKe366whP1q5nml94/by0/JqgspoANp\n",
       "bekPzYrxIAAB8BD0pxo37KsAA3IkfYyxC3R8mNXvuQk4++yPgASsAAAATgGe62pBLwAVZL1w+3AB\n",
       "/W5yQea+4eWmVw8FBGAPqDcGr88Avr+TQQ9ngxRgvgAAAwEtLe4WKQABW/btOX5cFCmaYyTpM3Do\n",
       "TGBO3gAiYAAAAHZBmvBJqEFsmUwIK//+1qVQC2EeIdeAEu8Hfbvg8qbbgn52mBhHJRZTw3uvofiu\n",
       "YBP4qh3lmIRV95kdY5NwtHmoFQSBexJoQKXrBcLPBjrcVRRT/U2NgxOGx3DKnmXe/YpAAAArX9/I\n",
       "LlGwAAApHj5s7zgzlrSdAAAAgUGfDkUVLBT/AAhnqlAAqVTInFUy7msSjChstdt3z67H1Dk5dwmM\n",
       "Adqtj4IhXXMsQ72LDTmKwZWaahsaBqYoM5ocLEiC9XJmhkUtEIdx8HIZQhHiONa7V0QWTZXwAAAZ\n",
       "dOTlgRi+NKAr1TFqfYo/9IX1s28nbB3hMn4UP64Ke4hUkQAAAGwBny10QS8AFlwNwXyl/6gAJdwU\n",
       "ftEBcPKWAIeixOeJRiu2QMJlmYIMSo0Lb8QNoPUEIJyrwWHVCO/dMuOj8AsGrI1U1NyPH7rJOnir\n",
       "AoQ5kI3H0gAAAwKYrTwqGwADXehDDbYsvF5Mh4AASsEAAABpAZ8vakEvABZZLVMv3/5sAJpwUftE\n",
       "BcPLxR95Zb/qkQRksgYSyOYpYkridLiE7nVRuO9mFLv0Biy5cZFAHkMrl0YJcLuNG6o/DR1h/xor\n",
       "SXH0gAAApgiXCobAANfRztSwRebzIiTgAAUkAAAApEGbNEmoQWyZTAgl//61KoBac4rIACEUJiZg\n",
       "4mlgJxwrCw02X/Bt7FOvD4n2jRqXrbw+LlZFI2Fmv3WQrIgY/6Bc2JuHgnRot7x9gjHsnksWr/vp\n",
       "QNre05bhb3QuZZd0lkrFBnZ6+L8JERFan5Eo5e/ZROSpY/TcGkHizvkdiumtqHRpOBdaD/8OVY1Z\n",
       "RiZ88ZU36MAAABk+5Oa2dAAAJovzdopIAAAAX0GfUkUVLBT/AAhD7r0m3yAARAc4//h7YDW9k4sf\n",
       "ZcCQzn96J+SgflfqDuU6Oo8EoisGaIoMNrdFkquTDSvy8z+yvgAAAwMuP6Fd/C+jcZIeg4B2O2oW\n",
       "hdD3LAEc3ASNAAAAaAGfcXRBLwAVn/7cAHyTkg8Q3oPLF3EKSFFhWf482KhkFsKA3EcA+HdnR+iS\n",
       "xzMDkbmkH5q05VN0fN7VVsBbP2w+CJvNeCv4vgAAAwEtXjksUgACt2aicq1oGLYqrkmVN9N0yTho\n",
       "AD0gAAAAYQGfc2pBLwAWXEbpf6gAIRW5IPP37MDgiublE8d1JoUJP97oFKC5zZ1Z8WloByrzBa5P\n",
       "fsmq1HCu41LJoO9nqr9nV5k1AAADADn0v7YoAABJTRXDzw6NbG0+rMzcOg4oAasAAAQrbW9vdgAA\n",
       "AGxtdmhkAAAAAAAAAAAAAAAAAAAD6AAAKQQAAQAAAQAAAAAAAAAAAAAAAAEAAAAAAAAAAAAAAAAA\n",
       "AAABAAAAAAAAAAAAAAAAAABAAAAAAAAAAAAAAAAAAAAAAAAAAAAAAAAAAAAAAAAAAgAAA1V0cmFr\n",
       "AAAAXHRraGQAAAADAAAAAAAAAAAAAAABAAAAAAAAKQQAAAAAAAAAAAAAAAAAAAAAAAEAAAAAAAAA\n",
       "AAAAAAAAAAABAAAAAAAAAAAAAAAAAABAAAAABRAAAAGwAAAAAAAkZWR0cwAAABxlbHN0AAAAAAAA\n",
       "AAEAACkEAABAAAABAAAAAALNbWRpYQAAACBtZGhkAAAAAAAAAAAAAAAAAABAAAACoABVxAAAAAAA\n",
       "LWhkbHIAAAAAAAAAAHZpZGUAAAAAAAAAAAAAAABWaWRlb0hhbmRsZXIAAAACeG1pbmYAAAAUdm1o\n",
       "ZAAAAAEAAAAAAAAAAAAAACRkaW5mAAAAHGRyZWYAAAAAAAAAAQAAAAx1cmwgAAAAAQAAAjhzdGJs\n",
       "AAAAtHN0c2QAAAAAAAAAAQAAAKRhdmMxAAAAAAAAAAEAAAAAAAAAAAAAAAAAAAAABRABsABIAAAA\n",
       "SAAAAAAAAAABAAAAAAAAAAAAAAAAAAAAAAAAAAAAAAAAAAAAAAAAAAAAGP//AAAAMmF2Y0MBZAAf\n",
       "/+EAGWdkAB+s2UBRDehAAAADAEAAAAMBA8YMZYABAAZo6+PLIsAAAAAcdXVpZGtoQPJfJE/Fujml\n",
       "G88DI/MAAAAAAAAAGHN0dHMAAAAAAAAAAQAAABUAACAAAAAAFHN0c3MAAAAAAAAAAQAAAAEAAAC4\n",
       "Y3R0cwAAAAAAAAAVAAAAAQAAQAAAAAABAACgAAAAAAEAAEAAAAAAAQAAAAAAAAABAAAgAAAAAAEA\n",
       "AKAAAAAAAQAAQAAAAAABAAAAAAAAAAEAACAAAAAAAQAAoAAAAAABAABAAAAAAAEAAAAAAAAAAQAA\n",
       "IAAAAAABAACgAAAAAAEAAEAAAAAAAQAAAAAAAAABAAAgAAAAAAEAAKAAAAAAAQAAQAAAAAABAAAA\n",
       "AAAAAAEAACAAAAAAHHN0c2MAAAAAAAAAAQAAAAEAAAAVAAAAAQAAAGhzdHN6AAAAAAAAAAAAAAAV\n",
       "AABRIQAAGxIAAAEoAAADHQAAAIUAAADNAAAAfAAAAIQAAABrAAAA4QAAAFcAAABzAAAAUgAAAHoA\n",
       "AACFAAAAcAAAAG0AAACoAAAAYwAAAGwAAABlAAAAFHN0Y28AAAAAAAAAAQAAACwAAABidWR0YQAA\n",
       "AFptZXRhAAAAAAAAACFoZGxyAAAAAAAAAABtZGlyYXBwbAAAAAAAAAAAAAAAAC1pbHN0AAAAJal0\n",
       "b28AAAAdZGF0YQAAAAEAAAAATGF2ZjU3LjgzLjEwMA==\n",
       "\">\n",
       "  Your browser does not support the video tag.\n",
       "</video>"
      ],
      "text/plain": [
       "<IPython.core.display.HTML object>"
      ]
     },
     "metadata": {},
     "output_type": "display_data"
    },
    {
     "data": {
      "text/plain": [
       "<Figure size 432x288 with 0 Axes>"
      ]
     },
     "metadata": {},
     "output_type": "display_data"
    },
    {
     "data": {
      "image/png": "[encoded data removed]",
      "text/plain": [
       "<Figure size 432x432 with 1 Axes>"
      ]
     },
     "metadata": {
      "needs_background": "light"
     },
     "output_type": "display_data"
    },
    {
     "data": {
      "image/png": "[encoded data removed]",
      "text/plain": [
       "<Figure size 864x432 with 6 Axes>"
      ]
     },
     "metadata": {
      "needs_background": "light"
     },
     "output_type": "display_data"
    },
    {
     "data": {
      "image/png": "[encoded data removed]",
      "text/plain": [
       "<Figure size 864x432 with 2 Axes>"
      ]
     },
     "metadata": {
      "needs_background": "light"
     },
     "output_type": "display_data"
    },
    {
     "data": {
      "image/png": "[encoded data removed]",
      "text/plain": [
       "<Figure size 864x432 with 2 Axes>"
      ]
     },
     "metadata": {
      "needs_background": "light"
     },
     "output_type": "display_data"
    },
    {
     "data": {
      "image/png": "[encoded data removed]",
      "text/plain": [
       "<Figure size 864x432 with 2 Axes>"
      ]
     },
     "metadata": {
      "needs_background": "light"
     },
     "output_type": "display_data"
    }
   ],
   "source": [
    "%matplotlib inline\n",
    "#Make animation of fitting process\n",
    "from matplotlib.animation import FuncAnimation\n",
    "from IPython import display\n",
    "\n",
    "plotting_grammar = SpatialSceneGrammar(\n",
    "    root_node_type = Root,\n",
    "    root_node_tf = torch.eye(4)\n",
    ")\n",
    "em = all_result_dicts[11][\"grammar_fit_em_history\"]\n",
    "X = all_result_dicts[11][\"X\"]\n",
    "\n",
    "\n",
    "plt.figure()\n",
    "em.plot_grammar_parameter_history(Root)\n",
    "for mode in Modes:\n",
    "    print(mode.__name__, \":\")\n",
    "    em.plot_grammar_parameter_history(mode)\n",
    "\n",
    "    \n",
    "fig, axs = plt.subplots(1, 3)\n",
    "#fig.set_dpi(100)\n",
    "\n",
    "fig.set_size_inches(18, 6)\n",
    "plt.suptitle(\"MIP-parse + EM fit\")\n",
    "def update(frame):\n",
    "    plotting_grammar.load_state_dict(em.grammar_iters[frame])\n",
    "    for ax in axs:\n",
    "        ax.cla()\n",
    "    make_figure_for_grammar(plotting_grammar, X, axs)\n",
    "    plt.suptitle(\"MIP-parse + EM fit, iter %02d\" % frame)\n",
    "    for ax in axs:\n",
    "        ax.set_xlim([-10., 10.])\n",
    "        ax.set_ylim([0., 0.7])\n",
    "ani = FuncAnimation(fig, update, frames=range(len(em.grammar_iters)), blit=False, interval=500.)\n",
    "video = ani.to_html5_video()\n",
    "html = display.HTML(video)\n",
    "display.display(html)\n",
    "plt.close()                   # avoid plotting a spare static plot"
   ]
  },
  {
   "cell_type": "markdown",
   "metadata": {},
   "source": [
    "# Run GMM EM and Grammar EM in lockstep"
   ]
  },
  {
   "cell_type": "code",
   "execution_count": 58,
   "metadata": {},
   "outputs": [
    {
     "name": "stderr",
     "output_type": "stream",
     "text": [
      "/home/gizatt/miniconda3/envs/py36_pyro/lib/python3.6/site-packages/sklearn/mixture/_base.py:269: ConvergenceWarning: Initialization 1 did not converge. Try different init parameters, or increase max_iter, tol or check for degenerate data.\n",
      "  % (init + 1), ConvergenceWarning)\n",
      "/home/gizatt/miniconda3/envs/py36_pyro/lib/python3.6/site-packages/sklearn/mixture/_base.py:269: ConvergenceWarning: Initialization 1 did not converge. Try different init parameters, or increase max_iter, tol or check for degenerate data.\n",
      "  % (init + 1), ConvergenceWarning)\n"
     ]
    },
    {
     "data": {
      "application/vnd.jupyter.widget-view+json": {
       "model_id": "2f0ed8475c294e4085108cb675381f44",
       "version_major": 2,
       "version_minor": 0
      },
      "text/plain": [
       "EM Iteration:   0%|          | 0/20 [00:00<?, ?it/s]"
      ]
     },
     "metadata": {},
     "output_type": "display_data"
    },
    {
     "data": {
      "application/vnd.jupyter.widget-view+json": {
       "model_id": "6820bf9bc9024b1ab308e04b2f4299a2",
       "version_major": 2,
       "version_minor": 0
      },
      "text/plain": [
       "  0%|          | 0/50 [00:00<?, ?it/s]"
      ]
     },
     "metadata": {},
     "output_type": "display_data"
    },
    {
     "data": {
      "application/vnd.jupyter.widget-view+json": {
       "model_id": "7d2f3efa59b84930944bd2a4409226d4",
       "version_major": 2,
       "version_minor": 0
      },
      "text/plain": [
       "  0%|          | 0/50 [00:00<?, ?it/s]"
      ]
     },
     "metadata": {},
     "output_type": "display_data"
    },
    {
     "data": {
      "application/vnd.jupyter.widget-view+json": {
       "model_id": "1dda6f0e40b842928d0df055e7b6519a",
       "version_major": 2,
       "version_minor": 0
      },
      "text/plain": [
       "  0%|          | 0/50 [00:00<?, ?it/s]"
      ]
     },
     "metadata": {},
     "output_type": "display_data"
    },
    {
     "data": {
      "application/vnd.jupyter.widget-view+json": {
       "model_id": "5f10b333d38f4f479aa1339df7e77933",
       "version_major": 2,
       "version_minor": 0
      },
      "text/plain": [
       "  0%|          | 0/50 [00:00<?, ?it/s]"
      ]
     },
     "metadata": {},
     "output_type": "display_data"
    },
    {
     "data": {
      "application/vnd.jupyter.widget-view+json": {
       "model_id": "c5bbc7898f0a4bba988d08d9e4a3f100",
       "version_major": 2,
       "version_minor": 0
      },
      "text/plain": [
       "  0%|          | 0/50 [00:00<?, ?it/s]"
      ]
     },
     "metadata": {},
     "output_type": "display_data"
    },
    {
     "data": {
      "application/vnd.jupyter.widget-view+json": {
       "model_id": "57c58b1416274cdba743b3895e8d39e9",
       "version_major": 2,
       "version_minor": 0
      },
      "text/plain": [
       "  0%|          | 0/50 [00:00<?, ?it/s]"
      ]
     },
     "metadata": {},
     "output_type": "display_data"
    },
    {
     "data": {
      "application/vnd.jupyter.widget-view+json": {
       "model_id": "fa7da62bb1ee4403befebee9e0264521",
       "version_major": 2,
       "version_minor": 0
      },
      "text/plain": [
       "  0%|          | 0/50 [00:00<?, ?it/s]"
      ]
     },
     "metadata": {},
     "output_type": "display_data"
    },
    {
     "data": {
      "application/vnd.jupyter.widget-view+json": {
       "model_id": "5c3f6e8f13fa47d5bd79e8fed583ab15",
       "version_major": 2,
       "version_minor": 0
      },
      "text/plain": [
       "  0%|          | 0/50 [00:00<?, ?it/s]"
      ]
     },
     "metadata": {},
     "output_type": "display_data"
    },
    {
     "data": {
      "application/vnd.jupyter.widget-view+json": {
       "model_id": "190c866ed9874fa2a61e12e569d300eb",
       "version_major": 2,
       "version_minor": 0
      },
      "text/plain": [
       "  0%|          | 0/50 [00:00<?, ?it/s]"
      ]
     },
     "metadata": {},
     "output_type": "display_data"
    },
    {
     "data": {
      "application/vnd.jupyter.widget-view+json": {
       "model_id": "a6d5df87b1af40faac838cddf57aca17",
       "version_major": 2,
       "version_minor": 0
      },
      "text/plain": [
       "  0%|          | 0/50 [00:00<?, ?it/s]"
      ]
     },
     "metadata": {},
     "output_type": "display_data"
    },
    {
     "data": {
      "application/vnd.jupyter.widget-view+json": {
       "model_id": "7785e4c47e2f4297b7156616315f24b6",
       "version_major": 2,
       "version_minor": 0
      },
      "text/plain": [
       "  0%|          | 0/50 [00:00<?, ?it/s]"
      ]
     },
     "metadata": {},
     "output_type": "display_data"
    },
    {
     "data": {
      "application/vnd.jupyter.widget-view+json": {
       "model_id": "9224df34ebd943ba818650131a2f206d",
       "version_major": 2,
       "version_minor": 0
      },
      "text/plain": [
       "  0%|          | 0/50 [00:00<?, ?it/s]"
      ]
     },
     "metadata": {},
     "output_type": "display_data"
    },
    {
     "data": {
      "application/vnd.jupyter.widget-view+json": {
       "model_id": "f18c7dd2fe2f458880fbd9148f6cde3d",
       "version_major": 2,
       "version_minor": 0
      },
      "text/plain": [
       "  0%|          | 0/50 [00:00<?, ?it/s]"
      ]
     },
     "metadata": {},
     "output_type": "display_data"
    },
    {
     "data": {
      "application/vnd.jupyter.widget-view+json": {
       "model_id": "88c218d95a0146a19628e86cbc9e0f3f",
       "version_major": 2,
       "version_minor": 0
      },
      "text/plain": [
       "  0%|          | 0/50 [00:00<?, ?it/s]"
      ]
     },
     "metadata": {},
     "output_type": "display_data"
    },
    {
     "data": {
      "application/vnd.jupyter.widget-view+json": {
       "model_id": "970b67f4e0d44a029ed8a23a9974db61",
       "version_major": 2,
       "version_minor": 0
      },
      "text/plain": [
       "  0%|          | 0/50 [00:00<?, ?it/s]"
      ]
     },
     "metadata": {},
     "output_type": "display_data"
    },
    {
     "data": {
      "application/vnd.jupyter.widget-view+json": {
       "model_id": "7aba73dafb8a471e9c5c364ed8eeb106",
       "version_major": 2,
       "version_minor": 0
      },
      "text/plain": [
       "  0%|          | 0/50 [00:00<?, ?it/s]"
      ]
     },
     "metadata": {},
     "output_type": "display_data"
    },
    {
     "data": {
      "application/vnd.jupyter.widget-view+json": {
       "model_id": "ae28454eda554d008b2b3f2cec5dc63a",
       "version_major": 2,
       "version_minor": 0
      },
      "text/plain": [
       "  0%|          | 0/50 [00:00<?, ?it/s]"
      ]
     },
     "metadata": {},
     "output_type": "display_data"
    },
    {
     "data": {
      "application/vnd.jupyter.widget-view+json": {
       "model_id": "1aaddfe5cb9a4b6abd09d9759a4db895",
       "version_major": 2,
       "version_minor": 0
      },
      "text/plain": [
       "  0%|          | 0/50 [00:00<?, ?it/s]"
      ]
     },
     "metadata": {},
     "output_type": "display_data"
    },
    {
     "data": {
      "application/vnd.jupyter.widget-view+json": {
       "model_id": "7b633b11e1d541e9a24e538e7dd30036",
       "version_major": 2,
       "version_minor": 0
      },
      "text/plain": [
       "  0%|          | 0/50 [00:00<?, ?it/s]"
      ]
     },
     "metadata": {},
     "output_type": "display_data"
    },
    {
     "data": {
      "application/vnd.jupyter.widget-view+json": {
       "model_id": "ec0dc5a0cd164d37b6f2db6f114a8d58",
       "version_major": 2,
       "version_minor": 0
      },
      "text/plain": [
       "  0%|          | 0/50 [00:00<?, ?it/s]"
      ]
     },
     "metadata": {},
     "output_type": "display_data"
    }
   ],
   "source": [
    "seed = 15\n",
    "N_samples = 50\n",
    "N_steps = 20\n",
    "target_grammar, X = make_target_grammar_and_data(seed, N_samples)\n",
    "init_gmm = make_random_gmm(seed + 1)\n",
    "gmm_fit_grammars = [\n",
    "    do_sklearn_gmm_fit(X, init_gmm.weights_, init_gmm.means_, init_gmm.covariances_, k+1)\n",
    "    for k in range(N_steps)\n",
    "]\n",
    "gmm_fit_grammars.insert(0, convert_gmm_to_grammar(init_gmm))\n",
    "grammar_fit_grammar, em_history = do_grammar_gmm_fit(X, init_gmm.weights_, init_gmm.means_, init_gmm.covariances_, N_steps)"
   ]
  },
  {
   "cell_type": "code",
   "execution_count": 59,
   "metadata": {},
   "outputs": [
    {
     "name": "stdout",
     "output_type": "stream",
     "text": [
      "[array([[-3.56085905, -9.49357181, -6.19517626],\n",
      "       [-1.61070661,  4.56614107,  9.35535969],\n",
      "       [ 0.20108916,  1.52222015, -8.76193322]]), array([[ 9.51939746,  8.07521653, -5.81374378],\n",
      "       [ 0.90119012,  6.79342696,  5.72350611],\n",
      "       [-3.97625324,  9.55539997, -9.94978719]]), array([[ 9.51939746,  8.07521653, -5.81374378],\n",
      "       [ 0.90119012,  6.79342696,  5.72350611],\n",
      "       [-3.97625324,  9.55539997, -9.94978719]]), array([[ 9.51939746,  8.07521653, -5.81374378],\n",
      "       [ 0.90119012,  6.79342696,  5.72350611],\n",
      "       [-3.97625324,  9.55539997, -9.94978719]]), array([[ 9.51939746,  8.07521653, -5.81374378],\n",
      "       [ 0.90119012,  6.79342696,  5.72350611],\n",
      "       [-3.97625324,  9.55539997, -9.94978719]]), array([[ 9.51939746,  8.07521653, -5.81374378],\n",
      "       [ 0.90119012,  6.79342696,  5.72350611],\n",
      "       [-3.97625324,  9.55539997, -9.94978719]]), array([[ 9.51939746,  8.07521653, -5.81374378],\n",
      "       [ 0.90119012,  6.79342696,  5.72350611],\n",
      "       [-3.97625324,  9.55539997, -9.94978719]]), array([[ 9.51939746,  8.07521653, -5.81374378],\n",
      "       [ 0.90119012,  6.79342696,  5.72350611],\n",
      "       [-3.97625324,  9.55539997, -9.94978719]]), array([[ 9.51939746,  8.07521653, -5.81374378],\n",
      "       [ 0.90119012,  6.79342696,  5.72350611],\n",
      "       [-3.97625324,  9.55539997, -9.94978719]]), array([[ 9.51939746,  8.07521653, -5.81374378],\n",
      "       [ 0.90119012,  6.79342696,  5.72350611],\n",
      "       [-3.97625324,  9.55539997, -9.94978719]]), array([[ 9.51939746,  8.07521653, -5.81374378],\n",
      "       [ 0.90119012,  6.79342696,  5.72350611],\n",
      "       [-3.97625324,  9.55539997, -9.94978719]]), array([[ 9.51939746,  8.07521653, -5.81374378],\n",
      "       [ 0.90119012,  6.79342696,  5.72350611],\n",
      "       [-3.97625324,  9.55539997, -9.94978719]]), array([[ 9.51939746,  8.07521653, -5.81374378],\n",
      "       [ 0.90119012,  6.79342696,  5.72350611],\n",
      "       [-3.97625324,  9.55539997, -9.94978719]]), array([[ 9.51939746,  8.07521653, -5.81374378],\n",
      "       [ 0.90119012,  6.79342696,  5.72350611],\n",
      "       [-3.97625324,  9.55539997, -9.94978719]]), array([[ 9.51939746,  8.07521653, -5.81374378],\n",
      "       [ 0.90119012,  6.79342696,  5.72350611],\n",
      "       [-3.97625324,  9.55539997, -9.94978719]]), array([[ 9.51939746,  8.07521653, -5.81374378],\n",
      "       [ 0.90119012,  6.79342696,  5.72350611],\n",
      "       [-3.97625324,  9.55539997, -9.94978719]]), array([[ 9.51939746,  8.07521653, -5.81374378],\n",
      "       [ 0.90119012,  6.79342696,  5.72350611],\n",
      "       [-3.97625324,  9.55539997, -9.94978719]]), array([[ 9.51939746,  8.07521653, -5.81374378],\n",
      "       [ 0.90119012,  6.79342696,  5.72350611],\n",
      "       [-3.97625324,  9.55539997, -9.94978719]]), array([[ 9.51939746,  8.07521653, -5.81374378],\n",
      "       [ 0.90119012,  6.79342696,  5.72350611],\n",
      "       [-3.97625324,  9.55539997, -9.94978719]]), array([[ 9.51939746,  8.07521653, -5.81374378],\n",
      "       [ 0.90119012,  6.79342696,  5.72350611],\n",
      "       [-3.97625324,  9.55539997, -9.94978719]])]\n",
      "[array([[-3.56085905, -9.49357181, -6.19517626],\n",
      "       [-1.61070661,  4.56614107,  9.35535969],\n",
      "       [ 0.20108916,  1.52222015, -8.76193322]]), array([[10.86815409,  6.55308124, -6.44731024],\n",
      "       [ 0.90119012,  6.79342696,  5.72350611],\n",
      "       [ 5.02084722,  8.56861101, -7.19242491]]), array([[10.86817569,  6.553071  , -6.44734244],\n",
      "       [ 0.90119012,  6.79342696,  5.72350612],\n",
      "       [ 4.88795381,  8.61441859, -7.20935855]]), array([[10.86817569,  6.553071  , -6.44734244],\n",
      "       [ 0.90119012,  6.79342696,  5.72350612],\n",
      "       [ 4.88795339,  8.61441873, -7.2093586 ]]), array([[10.86817569,  6.553071  , -6.44734244],\n",
      "       [ 0.90119012,  6.79342696,  5.72350612],\n",
      "       [ 4.88795339,  8.61441873, -7.2093586 ]]), array([[10.86817569,  6.553071  , -6.44734244],\n",
      "       [ 0.90119012,  6.79342696,  5.72350612],\n",
      "       [ 4.88795339,  8.61441873, -7.2093586 ]]), array([[10.86817569,  6.553071  , -6.44734244],\n",
      "       [ 0.90119012,  6.79342696,  5.72350612],\n",
      "       [ 4.88795339,  8.61441873, -7.2093586 ]]), array([[10.86817569,  6.553071  , -6.44734244],\n",
      "       [ 0.90119012,  6.79342696,  5.72350612],\n",
      "       [ 4.88795339,  8.61441873, -7.2093586 ]]), array([[10.86817569,  6.553071  , -6.44734244],\n",
      "       [ 0.90119012,  6.79342696,  5.72350612],\n",
      "       [ 4.88795339,  8.61441873, -7.2093586 ]]), array([[10.86817569,  6.553071  , -6.44734244],\n",
      "       [ 0.90119012,  6.79342696,  5.72350612],\n",
      "       [ 4.88795339,  8.61441873, -7.2093586 ]]), array([[10.86817569,  6.553071  , -6.44734244],\n",
      "       [ 0.90119012,  6.79342696,  5.72350612],\n",
      "       [ 4.88795339,  8.61441873, -7.2093586 ]]), array([[10.86817569,  6.553071  , -6.44734244],\n",
      "       [ 0.90119012,  6.79342696,  5.72350612],\n",
      "       [ 4.88795339,  8.61441873, -7.2093586 ]]), array([[10.86817569,  6.553071  , -6.44734244],\n",
      "       [ 0.90119012,  6.79342696,  5.72350612],\n",
      "       [ 4.88795339,  8.61441873, -7.2093586 ]]), array([[10.86817569,  6.553071  , -6.44734244],\n",
      "       [ 0.90119012,  6.79342696,  5.72350612],\n",
      "       [ 4.88795339,  8.61441873, -7.2093586 ]]), array([[10.86817569,  6.553071  , -6.44734244],\n",
      "       [ 0.90119012,  6.79342696,  5.72350612],\n",
      "       [ 4.88795339,  8.61441873, -7.2093586 ]]), array([[10.86817569,  6.553071  , -6.44734244],\n",
      "       [ 0.90119012,  6.79342696,  5.72350612],\n",
      "       [ 4.88795339,  8.61441873, -7.2093586 ]]), array([[10.86817569,  6.553071  , -6.44734244],\n",
      "       [ 0.90119012,  6.79342696,  5.72350612],\n",
      "       [ 4.88795339,  8.61441873, -7.2093586 ]]), array([[10.86817569,  6.553071  , -6.44734244],\n",
      "       [ 0.90119012,  6.79342696,  5.72350612],\n",
      "       [ 4.88795339,  8.61441873, -7.2093586 ]]), array([[10.86817569,  6.553071  , -6.44734244],\n",
      "       [ 0.90119012,  6.79342696,  5.72350612],\n",
      "       [ 4.88795339,  8.61441873, -7.2093586 ]]), array([[10.86817569,  6.553071  , -6.44734244],\n",
      "       [ 0.90119012,  6.79342696,  5.72350612],\n",
      "       [ 4.88795339,  8.61441873, -7.2093586 ]])]\n"
     ]
    },
    {
     "data": {
      "text/html": [
       "<video width=\"1296\" height=\"432\" controls autoplay loop>\n",
       "  <source type=\"video/mp4\" src=\"data:video/mp4;base64,AAAAHGZ0eXBNNFYgAAACAGlzb21pc28yYXZjMQAAAAhmcmVlAADJc21kYXQAAAKuBgX//6rcRem9\n",
       "5tlIt5Ys2CDZI+7veDI2NCAtIGNvcmUgMTUyIHIyODU0IGU5YTU5MDMgLSBILjI2NC9NUEVHLTQg\n",
       "QVZDIGNvZGVjIC0gQ29weWxlZnQgMjAwMy0yMDE3IC0gaHR0cDovL3d3dy52aWRlb2xhbi5vcmcv\n",
       "eDI2NC5odG1sIC0gb3B0aW9uczogY2FiYWM9MSByZWY9MyBkZWJsb2NrPTE6MDowIGFuYWx5c2U9\n",
       "MHgzOjB4MTEzIG1lPWhleCBzdWJtZT03IHBzeT0xIHBzeV9yZD0xLjAwOjAuMDAgbWl4ZWRfcmVm\n",
       "PTEgbWVfcmFuZ2U9MTYgY2hyb21hX21lPTEgdHJlbGxpcz0xIDh4OGRjdD0xIGNxbT0wIGRlYWR6\n",
       "b25lPTIxLDExIGZhc3RfcHNraXA9MSBjaHJvbWFfcXBfb2Zmc2V0PS0yIHRocmVhZHM9MTMgbG9v\n",
       "a2FoZWFkX3RocmVhZHM9MiBzbGljZWRfdGhyZWFkcz0wIG5yPTAgZGVjaW1hdGU9MSBpbnRlcmxh\n",
       "Y2VkPTAgYmx1cmF5X2NvbXBhdD0wIGNvbnN0cmFpbmVkX2ludHJhPTAgYmZyYW1lcz0zIGJfcHly\n",
       "YW1pZD0yIGJfYWRhcHQ9MSBiX2JpYXM9MCBkaXJlY3Q9MSB3ZWlnaHRiPTEgb3Blbl9nb3A9MCB3\n",
       "ZWlnaHRwPTIga2V5aW50PTI1MCBrZXlpbnRfbWluPTIgc2NlbmVjdXQ9NDAgaW50cmFfcmVmcmVz\n",
       "aD0wIHJjX2xvb2thaGVhZD00MCByYz1jcmYgbWJ0cmVlPTEgY3JmPTIzLjAgcWNvbXA9MC42MCBx\n",
       "cG1pbj0wIHFwbWF4PTY5IHFwc3RlcD00IGlwX3JhdGlvPTEuNDAgYXE9MToxLjAwAIAAAIjPZYiE\n",
       "ABf//vfUt8yy7VNvtguo96KeJl9DdSUBm5bE7TqAAAADAAADABLP/58Sk2HiAIIY6KyLv70tUaTL\n",
       "FfTU5jH6ZxrtFf3rmPNOHaSP8SJ2Jd93VoGphacLmbgtL6WkclJ7e6volpceZDOvFu6qoanuvJVy\n",
       "4foER1ayM9Q0+wQEHokMtNwm9TDN2WZnIjeJl7jfZ8L8L8G+ttvzV9ZIUfVK7hECIyFkud8pgI/y\n",
       "NJu6b1xlH8O9O3YQ//jejQ5StGPS201K/ObHeVxcyOuEr4XzCH1hSVgmJP9WhOYIDvtkhIIAkLwb\n",
       "8W0dI5libgZVKmDYoydPiO6vIFjhflmQTt/ZX/PnMkMLkdQewbVbFEUAfz2JpFAf7th0X932B4hO\n",
       "mJnzKaeDYVxrLNHJTeR6ran/pVyprzqEFzsi1ePtthcpBzpOJyHErQmLo++MKL/FLsZVyZl/8uHd\n",
       "Aaw1va4BBPuoisbcewLwNdVWvQjzj3PuJzKyc9grLLJ5vNbMrXdsnVPN2Bg/SX7ZdbtH7Heav/iE\n",
       "ALCeHDn4GEl/kt7KGdYkN8U+UIHGTKoKHR/ADcvHNL9A3tfMufG+BSHHUpbF7c21RVOZiu2qgzuX\n",
       "pBQgQdrxRJJ1fLXbRFNfBzLik4swmg9fwdsSqpfnNimls2q9cpirFeJ1shVlpdibsDPDNgWIQPsW\n",
       "Nly1LDMw+6bnNurthE73voLBHyIaNXyVa5u+pbkoZrtupBhFLfKuPWR10T1zYR8TDgSxd9UGR9r9\n",
       "ahal28cO9noSMTlZMPjzmp1j5ENGr34kS3PzdSAB3L325kQtQQReqFvCrybPVhRYW8fATfnko5no\n",
       "cGeADhNQFCueqHgk/myhilfYy6JPOAarWsjNqlOKjssjokW1RscBcrhR5oxY6dKFH0aS870iJFW4\n",
       "jsc0a1Fnhs4C1fAyyBYS2h4WCYClIkmDix0Rl3k8aoqiZ8ggybhbAhOyGh9Bxwx/dbUf5ku5ZnHE\n",
       "KU4qEaxSUTeZ6cJgX//og4FbYmQqjfbDkW6ys2v7S6IYT5oDFXvo+LAAAAVJbFdf3JbWzTwkAAAq\n",
       "og0t3ALnvdlb2er+N85+SSDH0irRzawvN2qSYMX1EldMdvI4WbgDwzzmitzoQedXWz5NiBvsYSK4\n",
       "oVSAR30TQCiCrA1MijaiK3pCXrNwhGnjvj+eHuKJhpqjH2GyqBJzxn7o5AAxnjzSWvL/YOVQqXqq\n",
       "OliTPlgLaw18+oL08EBQbCkHAskMXgyjZHMvcmDGKI9J2n0Xaid+h/94JckXupBQzvmusWAOqxCJ\n",
       "BQAjkYZ61WqAVyS7xj/2o4f303jxub/pmTVOd2C9mlaqZCjUCqs8dranXgPYszATE5HMzg+QWiRn\n",
       "AGyDWLCijdzTURbXhnGhrBlX31f4fN7+5kccZkVy/SjlpKt2Z9pVl4s0Ekaeh/z7/9CDZis3zE/9\n",
       "RobC80uLsOpEFsMh1F295S2FpmsZ4S+ctB8OBDcF0rsI+PA1q80VvVjeI032EhiSMBJSHJfobmQz\n",
       "yi52QkNBsJVg9wP+onmzFNgtz59PsBDuWFe2uQf44w5Ju0KBlpafmlSeGnGy8prWGHt51VbxDiCA\n",
       "O7mthAr9urKwYZnjIVp4zP+gyFnx+7mJ8iN9i4ogdFelm7en4NKH3WFu3alt7wuMmOFzlvHevsY2\n",
       "2O5182RvgCQtH3pDjZ2CIjwRZtOmZGdevvOQB2w2i4V8+AfKSUekgPqCZhJCPOOv8CaYjh8XeHvk\n",
       "6LkFIRzNDWr1lK2jMRidXULF7AAEjAL2BHgji4t27ZTUMnAEQB1WeUobEvSEF1P1ecj8Z2ccU6S2\n",
       "woYrxE7nqP0ijkBT2Hc77+zNNU8MJr/pkUg9kASnKGAXyfoeZQe3ZecToGV8ElzECQFceLXhO8ok\n",
       "ejpwEsj0g2n5D1t/YHgcyAHO6CD6R7vBGD2141FANUXfIF1wIZWhBy0UDJcRtfNHezxHEgbb2ihD\n",
       "DpUQo1982lZg5MGPoUrmzJLGBmy2cvLj7rSU/uwsf2xEgUNeSJ+61a7Ck+dLnlWDbczbv168hjgi\n",
       "AirtY+gKiI80Z73s8oFQ5uu4bYxryqerdojvEckbR7kz9WRPB7HF50/roTB1t/1NWTEfMwRJGNsD\n",
       "hdhfk1XwbCF4v7JVM2MpJRqYNXbj9gONzxXv+rTpthVr3KdvLyIxLAlrnFaKeOEXrdVp1mcxqpkA\n",
       "O51xOtuaHYwTr0A2eglFg5Rj6bwCJrA2GhtbSqw3aUkIhyr3ZSNeSYzoOqP8ab3dWxdUMuKFQ6xy\n",
       "0ub2hXTZ+Zk1nM6Y4vYFGrefCdlT5w5AzYoc6+mKVCaCuQe8AiRn1E9HO6Q0oCnMAouYbLcBnvQp\n",
       "ed6mJ+idwDwXn4bFL8eGuIPy2UZhvG2X8c1wwtqmAdg7lW6r0jzCON1DesbY0ukbM1MEHnimqxqJ\n",
       "X4eciPKvAZspOcnBdCSKuVlYfwQjnCiMm5UQAg/kUbie/8xg9VyLBSx0fqU6+dhZimvFeCpMg7vJ\n",
       "Och5dz0vTazQtg73jGwKM9A4DAhnjOytWj+eqq21ymt8jqoX6hLmE//s8geI2h8iduF6ql5leKqF\n",
       "i8Kxwi/QWAvd+8qzjWmeUuJoucx+wuKtP9GEAbx9H/fiZhXGY2Xzzr+dIT38R5u0HagYD2568nTN\n",
       "pDX0xhiGczmlx4VaofloAZZEWFtBo7/TwGyjlEGbGAAhPTannrK2Xln3shFnErq1PZhuVS57nJPI\n",
       "cuEP/0W6w5DNZmhwbfEUrLFMdff9qqV/NnvaaXMjmAnh7ljYMbTrE3QBVoA1Bfu61r1NAoHX0K38\n",
       "H/SBa+8Cnl732lLWF2orM//bclicAMja2qdfOaZchwzQxPeIZsQunaD3aarn8+NtTDIoapYJrmkV\n",
       "9r2mszaoj83+GvKQPCWXg51DWZXYi2T1BfSs0pv5lV7Jbh07DRSSGNnvr2yHFeZW74LMF2D/AHAR\n",
       "lBs1RsyV+SuDxN1X2lU5RrdJHTpM+MvoUgRNSjd/puBT74Akt4aS7aaPyhOKb9UrnPbe9EcRKd1z\n",
       "5vkUCRwm+2JD/eqIZ4hsb23FVtC74XXwxrRg2VVc2ZSaW/EFb42U4v6rtfvabEaSZXztOEBp2lZ9\n",
       "TtrxnRqig6QuEgTdZITHPEiIQ5srOIDb/RI1jJfy4KyhYcHZAgrr+1HzJ8krv41uEf5kWv+xZINV\n",
       "YLubmtShKciJR5XcHT4W83dPe6Obda3SBzp9wwZXfVo5Pya7s7LCnq8jjGZwSMQvQ0MQJeqsLTUY\n",
       "HMdou6wO1MevW2m7NZhx4ZV/tVSTJao7ixN9W5xLIZWwMJ3nd2ud4StAVLAm3Ryw5HDn+guXK8Ms\n",
       "nR7AOFyH+IrslE7B67tNwWJsKaLzv7vLS52A1fii6oangCl9DJqSTojme4+5y7ZFSYQIcoGv0vII\n",
       "rYw0NNAEA7kT6tYc1EFFj6/UrFi7osd6IJ93JgT+TI8Mitq3K72XiB+JFwcHS3bdMc2IV5o6gnXB\n",
       "mH3Id3bnTO7CpzLvB//U964Xex8hh+WmZCo2tLjSF50i4WC3An8u5AS0WOX9llkNrLvKcRUFzvxI\n",
       "SIZ0D93PTfnC3CuiK4dkMXVkCqHGw9CAjUqPjnxq0g8SOHB56SGuc/g/ezrUWI/HAViI0zwwQADM\n",
       "ww7CBhR8QOCyET5ujzWvCIcGM/9Bzeca5F75kGGixsk9O3GEXrcrOEQ0vT9UyfdU9OJKGu727FDu\n",
       "tTlJZfnsuzBykiaJBswQPEjn41HaGd0UF0bU/N69oCIqyw/VwJIaIYATLUmwGCxHbqsyG0uc+3TE\n",
       "bt6+BK8Or17dZ8+VnOTgmwbd71jEy+PN3nBtsxqdZfA3yuKvwwrA2Jfsa/yuO173ROI1AmO3QbZq\n",
       "/6ILCXr0K8aK/DiiSniAIvzGLH+PCswsEPRFTC6GInAMiMKQBLJ5hxGWM4wkE+aeDFNsqtn5NGaU\n",
       "OgVWjF6RBVjYMzyofJSED4k9GkupaSZycSP5jBI+TgtPquv3Fjt2zoos/qmtrxCcujyAXrMUJ6jf\n",
       "DYqqunPxFi22U6A93EDFAqSyjgLjc1cda87sp4gSZqhzatMoDxrltosKjgOIuQWyqS+tbO93RSrH\n",
       "Y3gDzE38Zk4R64b527HAtTwOeljCGtxFH5Jg026PfFVEUo3GxcPDauY/9dMFITH+CcEaj926t4Ie\n",
       "KnCBnjQ5TualN4245VLsIjxUJopl2g2i0b0t4U0Q6jrzcPOZJpio0Zs7rOKwvXYMTY1ishT6KNbE\n",
       "8FpBj3k0PyYmklMARMcsU15huQa2ZXSpek5Rbmem6HSwY0vdSzPaj2egEYaLCkd4X+/AqKkP8Mxs\n",
       "Py4LK0E1Knlx5awMC0kQmluvwxz/ntt5IB96e5OmNeSHzl1v0xWpvjOBc26wnR1xwMtmQLM/+SoW\n",
       "IpaSvfBTMWUCoTfmrk4mA+nqnEMZwoGv0aXoF9+UTknvJpMnUQmrTuB62hX37yfDGKk/E06IO3Pn\n",
       "gjaohl+yk0pum4Z0EOJbqd5/11wAb3QjoKdFld7vNTi/G3UF9BuhAzOElBEWaI5VUY6fAjzd5wuY\n",
       "DH4iJqNrI1OHE46U+8OclHcHa3DUL81FqZrlVbrnE3wiPICc5TVED6BqikwMJGuQJ2GFHBSlQslk\n",
       "hUQbDN10WrkXEe/PwLzyoMt3OWRL7JbZyLSqT7SobNAffNwLNBGzpCzGlBG65c+60TZoArNTvtQy\n",
       "dOGwRfnbyR2BpbtBabdlphsEZPDG21MnJjlcN97IhYRi+Cn4hCznvb9hEtkadEDCvCuD+09JBJQe\n",
       "v21i8zod3dEn4hpDzqqgjP68KL/b2No8GhDMMwP4EDqvJpY7IaeCFk4itTbRIJ+9RD1DrmzfVF/+\n",
       "4QW7jom9jKskl1tD5jHEyvibIjTNJwrhIfY3HJ6cH5VWsGEYnqlXhJrKuJUVRBLAQ7/do32WSRdk\n",
       "cMK2bnGK3d3/AVhOARI3UHs04S8L1pTbcwxhEON5FxJrUT+C7FXLYDWrx4/YAy8+Wie/IQZUfgbx\n",
       "pQVt64w2QJs/IN0XkIYL0bpO+lOyegGR6RI3ES8SsoRfJlq0IbXdz9q28SdttuXDLNO6ARqiz1+d\n",
       "BLnBpbOFvK6DsMj4geIncjimjkOCA09/fu6LqqvBgHzuQss3zsvfLGvNDnFvFRHZ/vefgW/biEFw\n",
       "Cowmqtr9+S2IxTCPcHdzRtzxMK2+Hjwq1y8yQAuulmuhHB8NdhatO6kHv11Xla5Oq2Ll1RkqLCqx\n",
       "mAA6OfnU0m/xxLhcc5Uc8L3b7GUMHRMIn0gWiTNoYoLOrhcobXds9k+AB859o8th74FuJSN8Vj20\n",
       "9qCDrwQR3BwAiB2TQRspv5zTi1hqcVAlIbzlF/D+i67XyFfelxnjDhXTYdbMrrKyhy256eBcoH9m\n",
       "5UO6y0D999y3GlmiZwGinB/i3l4vOxy3sUzyhCIGf1htzRlb+V+XTk8vXUjdSodM2v3SXYQ8tFEa\n",
       "3n0N6jShEePjfP20b1utpP7Ye+z6bC84K1301XDLcOFTx67K+yH/r4aFWpcnUi0zrpIZZGq3DAnd\n",
       "W7RvErcNfOPjwlWcIPjnzN+7r3eoSimg6tJO5Syku2z0e79fvTdvT0N6y3pRQ+J//4pHczcyX3VD\n",
       "cPYdpbD2DgSKKNbKFj+gXkY56EjZPfFHjiRtY3rziKkCyrnFsf1MPcz9D+JLu5IR6jDZFauSY/6M\n",
       "AduCONk65d8pgQzDu3iJyoS8T6QfRlTS/O9JzM7LABUAkuzj8YokQS9mz4LXAvLmhYofX2OJNZz1\n",
       "N+E6rDrdwVfB/Q/Yun3EwXfHRVhXC79s8laUPktLjh9x+OALRx1Ovuzh5RJigqe9sGbXiPKPhW4M\n",
       "VxG47TCJucJz11uP2TjsHXfDGPmTYUozg5Dn/4NCYPSMxh6/Qub7zRM8MOO85wQ7FWleKHgOtPKS\n",
       "VJSh6HJ3KeWloE/7wtoqPEt+Ejd16KfBALPhjxyHTOylqnfsX2Y/0lzTx8FvEG06XsKrlXdLBdAg\n",
       "O08bHgB+VNH00+9HETWuVToxNMY0f4QI3aUM363nN2Z9qlF7c950PeoVaRs3GKiPFsRhaibqVXzh\n",
       "wX+Z0maHn5G3PqP1m8TK+A1PLTvw2jcSfQ2VpSVZP38fHxs1d0neGq2MqSBds1YrwA1bVDn9mr+3\n",
       "szrVq1sLYhQLgCoo84grW19ZRaxlUimDTMbu7r1tMGTgu9Bra0TxUNx6BoNtl/roo19BA28xwzVS\n",
       "20lzNeUvOGJ/XqQi3QPghh1+zOlJ6VXP2p9Uenj5YoTOlvG3o/M2VDSpmGNvjmfz47YTspIAACg2\n",
       "t7XWuAAbmy6vnzet7N+rbwCvbOB5cTBIlRNzyq7/QOl+EaU8eDvs+ut2vAClAjM1Ml1Xz6ezlrcO\n",
       "mGvfW//HqtnGV0wfweSzqJJuOw7TR8QB/mFEPP3ns9Wfr1qMT5beDKmO2HJBm/lJgT24asriL+nI\n",
       "BI5SZhUGwsWpSuVRYX4ejCTLYOF26LVTyyKsl1HA2X/oAoSNZLQc0jQi782KbaiE5BAQQOimOULo\n",
       "i5kvy2dKYXXLIWm674EbfnCC6YVsT1rhg5pYVRNPgQRxmmLfrldI51qZkbL5JT1HP1KYZtjlZwJJ\n",
       "BsWpY9v52LLazqIpCpq6cSKBYFF00QHoS/0O30OP81idiZli8EV1VVvGH0CUBIm2drUktcvfYpGe\n",
       "NEas9kEg7Rdqr4wSh5AKOVUOCEej1mCJ5Wbu4kiOnZ8foaFODds9cyIyubChEO0gyieQFiGPgdek\n",
       "RqB99BBlS9YJ87lRggGA7Us54DukDLewmLMl06fxdrvLSSs9E+3jbPZVKS8wKzHkokMptaESgueq\n",
       "TuyUd/MKxeTJvOEnNmB0z0Sknn2DDHsOaq5afYDhb1Vx11jtwvJV/Oa5z3epdJtB8FXr34OtogZd\n",
       "ec7pC2HnR15Sn0BFu+PvxUkW3ZHSCa3SogLeloG2c3dG/awoslmdoBDCPX0q/mCfqouGybuF9Fla\n",
       "etXYMdn0aS1FWHLY7Lc5DjYp80PAsMlHcpszRsvqqLeKtTbleJeg2Go/zsyYBiE3QTXPygZ6CVhA\n",
       "4Y5iBxTA25EbkTWldFZe08pENNWMx7P60Vujrc7dtD8VqnPt+l+Opi0AW8DHGPeKyK4mEThBi9Ij\n",
       "ShCiqKxrk22mxigJ/jOfeaRWwB7T1uDlnA0qqiSKH41qoFy0Q6+rUrtW/gaZ557tbrUpovO/u8vB\n",
       "sFGXnTIxZ+GYKhftkdk8sQSdV6Q8eL7zsI2dsjyXP/0FL2+lPwsaS+cscDtc8ed03dVUUdqoRULX\n",
       "9X46h+nLjVBv7KBRqhIkm1kqWTx3Wmm9vNdqN6xBHeCTvYBoE3sPsVKAqg1TUbRBcPJKTO5lBang\n",
       "gH9j9FvvMx2Exn8d1E9PL/LHveQAV/IPY3dBrp9EInl+YqbBTNKZlLNcbv917pQE7MUknxlHoOsC\n",
       "WD65NFSCwnZmXBmAHVh6igTQbE+YvHSGs7H0TMcqxsRL78AgBUj4Y4T+HLO52lq2Zd4P/6w8Oa86\n",
       "fHEwaJ8R6erWCB7kPioWOeX1P6raDNg+wHy/ssshtZd49M8zkq+NHYA+afOxv8YPdNfcTyKKS3hF\n",
       "MSQUfxKwbn8bm5l7W3C0yybzfgCfA2K7l8qe689CjbVuIqUjIyN8HpJvGK5zF9FZfMxMbuyrixKU\n",
       "/iUTAqoA8IMxDw4Kxekt0dgBdvxqXTGwN4CLzeoj3JfenCjmGxlH0jYsQaSa1PrAvg6/z3bvCkO/\n",
       "8kNg2kcvsm+5MmUSurgPJdc7TG7QTuPuJ7e2b/QnSeDUlCQRBBHQK1KTrAABeWIhaWQe0+gv12X8\n",
       "6d7kShwVatbc3fi2iVHIJwKb2dvdpl76DTK5qUoGgjJc+xC41AwWtgrpR/73JhVDjmzxBL6AgGoy\n",
       "tQPkHHzkuGEVCOSQc3z6vcWc6CJdHtZtJKKTMOUwb3gaeag9781mOAHsPbU9X5AZv7QMoc3pndoN\n",
       "qrWj8dG/uXgok05112UCj27KU9D8YiFZ6PZzNwg6rU/53syyrhfe1RyHum02rV9GIZKuojUyeikU\n",
       "vOG2DF9IvMM9KK9AbqeSbQCbW+pqEIhrxEi/exxUJXPCJmMOZ+VnOMZ+m4ld5yZ1N2Ur8OnPA6CP\n",
       "ULUGtUfGzgW6LeeFOycx4W5RUZnRNnlQYm06Y6Fx+a6Sjk2+O1K4gN2XjP/ysVQ6qEYx/0abryCB\n",
       "nVASnJkeqL+earIBdPTgMnmL7jsJ18EeNqThRMGxWPt6S3g+1iFhXNgOXQaW9qldNsZPTsg2ofHY\n",
       "aeFVet5/b7qMRxoJ/YO0MO0anm8PqcqIemiuIwyVRSeMcVCYtbTncAx0jx5GatD4ftm8APoS7gN/\n",
       "gPxC8VP8jqUKj5pEwJSRyvZ1lmXMTzmxB2SPqA7cTRy9HO6dsDFOCLckbI8p+87jTCWbqrhGoRpI\n",
       "FZPpl22UyZfD6K06Z8Yij8f6atd9nEFGCfale5xIFxY5s0mcBNm/fclb4Oh4Hfy6t3VvNyg5i19M\n",
       "nea27mAc87rMSIH3FIwXPOCNDy5/9pGZtB/FEnwfBixlGb7pELm5yPx+79LLXEtaF/8Wfg+qIbsL\n",
       "QQYNgN0ZGkN0v7HNQ9RbV9n+zLCalaDkddY5rc4Z4kEStgogl06aLnDhHvOj0ABPSa1QxWgycRAl\n",
       "kToJzXFn04FwUYgV7i9z08P9rWNEiwDUUR2ykjSRscShRUUALlwWVK9ec9R55Wjz7Im+L+7BO391\n",
       "EfxQgCHw4CX4HkRAATYU5WWbmqUuznRn0RGTY94nChasdU5NID7Du3kYXfYF89ATe/fw5OWOysV/\n",
       "ft7cjSFTVwOIKacoSBdbN+7bgcHyaHb4q9WOJjn8WjbrQ1gerOI3Ytw331NtuxVWj71AJRnU9Fg6\n",
       "LuiMdqY/NyhgmlubtMYlMgit07OnhAMaEv8qRYrHXLFr9tiscER4oKra5fnR3vX6q514YXfsdzxR\n",
       "D0pt03wtUugxQQkbv/MjmUIov7bQZSvxxYidcy1gQf9Gno8qcinUgN5jE4x4C0mGSlnLDdTLsmON\n",
       "KWWTzea2ZneUTGmT2DwuWaAk1xI8lD5UeRU6YZHODhXIhL8sT3LsQpXoTWXv2PtRusP1lW9/z0mI\n",
       "VVfpLtTgmUJzeZ8X9Qoar2P+++f26CLhofAgtC/2dS+QV4zPaowyrCHWnEtOSGfAMqGT/or5hNzz\n",
       "y1wYu9rRQ1FyD6gQNV898uHeWtgfOuD6zZDTM84alChPVCdwG88KBxViJ4h3g9e5Z8pG7ojFA9cX\n",
       "MecZ1z2x9VeQ4s0Txbwu8q+Y00C3Y6R3xVNgLbf7uqkR2zo9jmEBA6UmxgAkn50OBNOaxzNIn8Fd\n",
       "/+k8f1JIHxXkq/7WMlWWpQAA808zASi0DAEypStTdUrUD8btJaHmsscSuy3HEWXJz2NOvMaN6Cek\n",
       "yHjfRsCgTLLoyM6exfyYQcaT1BhllGmQDI826d6c+nsBdhvLQj9+0Fz0kxruECVdYdmPxBHd14Re\n",
       "Rv+JlJur1WYORrGBHujpf+bI4zqlBoyeL2qiFRrOTVwObTy3T3mB+I6g4FmIkhNzGS1f3LlkklE6\n",
       "Gd3GqpaJbuE1qmdmuzLweYgIs0jFKrCgc5nRs42WSx+/NCO8klNKe4OCX+x9Fk8cLwcp6mk956mL\n",
       "hyOHLwlur8K02se4p9MFiJcHf7hUUe4xNUjm5iq89+kjkKnJhp9AjRs0//EB5l0Q/uQMsdFbUyH9\n",
       "zbG5MwstLwjSZ/OSMwqOuLT63fB4ZT72gpxMQWmcJ/oHWA/VxNvUGz9yETS3LIaqzHUgkIkweRH4\n",
       "n9Df2VgcRz9XdPXNxg1vK6jHcwn5hMb45xEnnxyeE1HUlVqqHYrwuxgQZBbb+RgikyxkyuB/4n3C\n",
       "ak2nM4HCsqxuHUqMQBawX6tWzFQYAi6ibxLzIIl7SIHzIQuqKS9DaYd6tQlqNuALhorm5Iq5hlYK\n",
       "On+7oOk1BkIKOp9OX1yO7VWSsLIeKDPEpgktYyXrq5aPlda0/EBcD+DdfV36CrSP/vOH06ElX5Fq\n",
       "Nr6Wfq0pBRRc8oQHg5gVYFdp2bv426t7le9ChBaSl7ZR9jlGMUgsGN19dnu1fKTKrLVHBPQPagRZ\n",
       "3qENb3DX/A5msN18Yj2BMdZEiZd8gE9DGkyAc8vOFDmcCSLYWjRqLUzXHZo2VGV0mYUL4KNQJShy\n",
       "X/jBf1J8OE3fuxYQKUuyXWMHxVpug95+L6Qs9KR7Ma+YSoMlT6Mh5oOlk/zB+ESbMXLy2jDuNkP7\n",
       "NVAen9/CEe2Az1/O1YIKUftyTfClIVVJihs+sDt7liZYFBYpRAeU8b7ExEdMAlDIW6Vuw7l8OBdi\n",
       "StBNXxyYp6hLEUOm1mx8xz9H2ZlRGLABN54UmTOwPR7F7z1J8IoBgxo//BFBeP1wSj/5peeAzMc7\n",
       "y/l2P/1EPs/3qd5dnA0F69dVPjEmkk0yjHESeJnvaK3sBZb4JPl6/ZzX3g+/pZHrSXdaBiUwc8R6\n",
       "VtH+7T1TBVwtjx4bq4C61Utx08A6I4AIOZzBnKrN4Gi96I1VvtyVJp6UjbOk9+H/bGZtFiMd9TqM\n",
       "XGDIRkf5IZDiku2fbkQa8UFO7xkUQsI9J1mVP+MpoSvLeGqjv6U/KNOq8di1AVuhZZiYR0Bto0m2\n",
       "hSM1byRekoJ4/cquJ+2DsU9v3TzXmXN7SGH9W07WE0dH4eFRp2l1HbunCEsN0q9m3kGSDDV7bK2S\n",
       "06zS1wQN91k8vMsJF/IRkAmRKnh2OGmOzwEzOkyOVYMBvmWX2RckorIzNQXXMwITwIs8ESDJFmz3\n",
       "himRMPNf1vemCH1l2NeAuhLR9ZXeTPDpA96z7frFqWJhvqVhZz+A6fAIY07J6AY/RdN13f7wP5HH\n",
       "DNDPuwvazxdsQ+54YODmyq0f4Q+lHoK0per/4XRLCzKOgzsrKsSCBkvg3kyXTDg/MxpRwW0vOQoX\n",
       "ckLPlJtVdr/t0YZT8QlCss0oaEIlr4G3wSRQtMNjKolzTBskYt0jH3KHLtj8LofvcZ2T1QQ6oO+T\n",
       "yMtnMlHimxTmoWZQgL1USn6plF8Pe056u6A+BIlteFy2AVeM2/W/Ild5dUCBD90fjOqgfXPH/BvD\n",
       "SDtoauxAhbYAhox+2ymU/Vhqgi+WD8iTa2sqW80v7RZHBmVZOaiDKhN8dZC70XMHt/dhvBTwDHly\n",
       "/icL52uoymh0GGMQNK1+EgB1HEnGMZkmIEBnVuieihAv/saiZBKh7MXMiJ2qdAFIiJ8yn7mwtSpk\n",
       "ts4Yj/4pnxcLWR1SPtvIPGCmt85FAliSZJzChcVKQCqWhbaQODYEwEqzhJPyeIDm14gymSF2IzBh\n",
       "tdaYqPojCiThoXQ4r1q8+iXNlDywNCfNNNBgU0L8bcOau8mEvEbOjEsAiJWArbNyV2EX7bTK+53p\n",
       "E+QI7gVyXwbMBDe1jF4WLMD4tZOGd1m8+rQ/SpP/x1+lxy102g/zd/k7JGgOaTHZW1+pnwFBYdGA\n",
       "8t7HldkahWFVNP7w6iWZnvw2KNONwu7RJoaEN5u0QaSYlTIjMllLUhBvj9rvtRTxTdLv5sjIq+H7\n",
       "UOTDUYIXRklAEyKQ9NQKMQRYpAOnLWXiCg/hQbT+QW/yTkxAiHg0Gdv4YH00ZP41KjrvNxT5y3nu\n",
       "xYdjSSu/cAya/eVZDEONsQxZsRKiH5+UFAdxMwFa0SCS7NWtn+Qg3cGecE24qRcrZe7fQ7q7ZUww\n",
       "WQ1h0Wf8ym4sELEJrzGyuao5BrIHyFL0qHZvHwwhIeZIVwN3S4e2ITMGqdEt4lTT4L14K6Tj2Fmd\n",
       "lQGoEHR882AX2F0ChMgdCGqiaXk08AZPoe940ZZ8ZmVnbuL4vGEafMfpDLqzWaWz1AC9gQEcPLTN\n",
       "SkBofdAz/yCElT0OF1Nu/4hDY+DXCaPMf8zY2l80dY9c51akNyP0dK4gj2buYanwwPKEdIVau99T\n",
       "GFOxGz9aUNqXbLgsX9/0Ff+Vm0dvSvVTWE/Hrxg7BkC781MZmAr41bKGw0Wa00tdu1jMFxmKMx4w\n",
       "BPzwjOLv//ZIsxoKvB0oNU1wqgoXhN/ulMgCJ6hTDR28hxg7OVJQIYQ82woMa2kTO21uQXb8UJLY\n",
       "Yqf9fwZtcpUd7FQ5FQeqPPhqZvJBBR7rvlpv/mb14Ct3fH7e8Dtht0ZOCNk8LMYbzAeRMG74AIug\n",
       "z89UWtDMsldgFI3M/6APdwu/njvxzKKjV1W/lZwlrhTmYzqNFpHf+zIJYzaVN+ESQABCtNlwSyE2\n",
       "pIVOJ/VSQgrVF1qwxSn7W/o/jTEttDoFW+Ep8WdF4F375+bUe2ZKt/2qioLuiB7Ki5oTZlrZzKR0\n",
       "w37v/DQALIexuHJFpfxKclYFk49mHNzi8te+tQhTwSiGZgR51yZJFmGhEmyetY9lws5dLAGg9vfa\n",
       "pWWUynomcDnvEcKueohiE3KDVveSQ1NFZx0IsWENFRvW0TYFrzE1oKARr2jhPa48O/+NwkflNQSx\n",
       "7Pb1cK4bqSx9R9joOyCm9O8xnocMT61hd0CWb/jmDseb7tF7OTRzByxvYYx96+xAefRBgMR9lpdk\n",
       "MwGlhGNL9k5T86XKqJjMhajUlSyonibK6QGBXSZWRFnHJtvkj2f+CVjD0XrsFO39KRCJoIY7qcZ0\n",
       "O0g4N3u0OwcC/EmFaizcXpq9cGW6YJYuYdLvQdp1sYfLNUUKQtRjfeu5qxS9h/62PdeHuhcdM5Hx\n",
       "ANSrmirilnX4Nem9ugesNxzax+7qS4S+gRC6IoNc/Djz81l39lv8gNYQQS+yC/wRZiRSL5yjwF5x\n",
       "DjQTIjGU0oM7BNDW7sfn9osLMaCvCbS6ADkLlsZc0runWULLKlA5QeFLsJ8cR6UL0KalrAEMA/LB\n",
       "D4DWufmQc97YkMZsB4agQuuJk3fMhWyza8TDOLTTkMGv8tXD8AZVqiP/C2VkETHE2hhkCmJJ/oGJ\n",
       "RLDTndrr9Nb2Dot3dIIYMKFR+6KP0O/TTuCYwww+vLzTBWEx7TIdKCytcpxblT/6+HXt31L/EzTS\n",
       "t0UH7WnVYYALM/QmD9i6EFTMLv67V9s2kjWjbY4ml/9u9ml/b6mcxr/YJaNxy7JvM29wjBfDm7dK\n",
       "oc8b3SPb+ij/jmSZJZye5xc2BKyKyq6v35QwUQ2BjVCWgFO2izGOL3B8gBW19I/OR5FZS1SkNoOS\n",
       "YhZcmK6f8qvWIxzrNLhgMdqGC+0HYoSuqNSed/jf4ywpH2iBC5QJGbA4HRvYo5MBgvG785KNhEV4\n",
       "DtTTIAcsFklyfKgoXF//+U1RRPT/hlRrAN0jjP9d4BJtUMwq5slisG+kzbZEtLa76Zgwg2yaSY1/\n",
       "sQ3ThoA5l2CPUyXugH+4zXrmAFQNbz81WtD8tOgotZ23TFXadimJSqUhkD1GKRQuI0Vhta4Yh2ka\n",
       "ws1Okg9Eh4uU8J59VO/Nt4sAuR8sDlPSfyrm0aciEm9gtL6JU/4TauAqUyPVirrqGH/FegjHLSTk\n",
       "HCBV4XPv9n9w5mUAIxzyFXwJuEsE82uOIK+9yOfJNB9J0MgcG0CogdSv/R3b9oAae02ebTqEjFBt\n",
       "CLwSohGwXB3GioOmMvmSpOgB+qTItrj76ATuEC4kt/ESsRxrlQVPKStoBwloSbx7funlek0VnnFL\n",
       "yDCQXCpmPGtiG0bj/qF/xlonqpboJoXkBN/+tIYFwezQ9tREqdf/xoR6/H9n7YDNst9G4FgJ93qg\n",
       "o1uxyYk6JXYIsiWO+MPslG1maR9er469+7KzIeRxAoleaj+L7qm+E3zOj/9sifeO4qeZKdfXJ6cn\n",
       "xOCbGm43ewIW5aYtQcSDAylDVncS5ATOsENa+pQirrhqQ2J7LikwJ9/W+kVZmKGh26hDgq2/hryA\n",
       "QeExho+XuowBCgPaX0yQIEDO1ko+j3AYnySNeL1jcsdmV09NFLAAClvoEbhy9OonyJEloa7OZAi5\n",
       "TGgohlvBk/CdIXs7xfh45DeHT+OFPgg4LgCuaBxUJcJAXsXsLWIoDsCkNQEnfHoyqeau6S1AKBNU\n",
       "WsQgQ8j9LUmKI66LyjkrOr8rYL5xU5XjT5a5LFuPDjxaduJzV7WTcNNT6Mh4ZjYiwSrL/BkBQi+6\n",
       "w6orT6NnnWahBgIWzUwbrJzFakSOY9vToyHmh0r1j5EzBCrKD6gIsEPInlyNVCLrqONuJBm3toip\n",
       "5r55pRIEd8jnxVedWe7BLRvbf6kfbih0C67UQ9VzIMMoRJKHKJL9pybF71u/GkwoKwR8vJVFEuKq\n",
       "Ua/xB+FuGo/g2Y+/+aNQuFbBQhhGIE6MCf2sySIvTeiUlpBqtAMF6Sej5ceovmzp1hcXC7eJEm/b\n",
       "Iij6C8jk28MoFfYibdpSf/44nYTFaF8djcTSjFXvHlP3oFzPLhBM9VnACtkFTkDZO4hFnHS4r1ZZ\n",
       "XP/kWXaS7w5Jf+m5j9vysnO5Cm6ZYWzX62cv19cE65b2eRnJLEvQklvCIDGm/sPGLLyhQW7aPnkf\n",
       "rdK15ionyeAFpqTGf1HtgUwrJMRYnvhg1zFt1X3olelvU8EU0VpV7R2NuZxkTK1euiB/1koiavm1\n",
       "LKJ2Nbv1/o+9L9iKBup6CmhLZ1VGBeJ6hfOQo2sDUsnON9FD/hghyaLXXwXbxeRarX1czzn882o7\n",
       "G2FZzkW6DhmWHF/tWsmnz8jicwdrM+J+CqilOGa6ErdJojaHFX5ViKBCUXboy1/QytdKs2YBEQ3C\n",
       "c5hYvPAaz/UzOPKukxjXyY8tGRCF1X/YUAVkVwupoqqhbMeX97SuM0G1o520YjLLSIBBfCxawIBL\n",
       "1fOr8pg6iAr4Pvir2B+KUaWA/EtFZZtm1cO33DtgBnInsBqaYkvk3YYg/xkmlqL3XjM9S2jmfI5X\n",
       "ml5yt2nhBDSFaMoyk37QMYBiOjnJq6r4kRqRZmqjZjUaxD61fJDQ2CRq1m0JhozT5t1mh7vP7aR+\n",
       "/CUvOZlWfoS/wiH2Rmho3l68TPEVYFxrTnaPoY0q60lFjd4DHRKs4cLy18jiJO7nw0PYbD5mnx0v\n",
       "XKjfc7Kq7ZisoZRngmHmmeZkxg8fIDzxoN1eSR2XjXt4tB6+JrZTbItF3F4lBUefkkjGa4xX/+MT\n",
       "7H4nusuyhf0OnRVgMfu68cBB73Vvd3jVWpK08Zp54RcoR2NhTm/RmM1ZV2a8OmJHuh2e7B6ceooV\n",
       "059UlMCAAzsIEYm3e4jHftlffmenW5juRPTho0gT+X8zbQw/PcUrkNUUNyWxUX7WMhbXvSUmiiM6\n",
       "HqgNoDLZ0Kb2PQ81/aeltnfKnCH1dmtWSOxiqM6g2wx+zp15UIVvPI6xUXFrM6rWW56J+ycX5EVM\n",
       "LbnP0KeqtcTpDXFvQgEtRPtaYEjUrCTcd3yl3vOIOL1m/NibHZjRyLVkd0gOllYhJbU2Zq9gWZv+\n",
       "EfcXu4I/daU9YkjSfl/4BDsHUBSPQhkrONCRCe2EDg1TP/huYq/PkexmCKn6tH8K/Y6WuMLiruqf\n",
       "VmcogigiBwH/JsmhAinU97VdklMT5jD7xZyi9t7DieE89Gm+gPfhCFzyd2lKEjacEtMb5cHI52Gs\n",
       "cXNO2mhB6cXPBTVlolPPQ6HEvkF/IKb1zlv2wR3pv0BsTqEoxoAXb/wL+6pWS1H9fwacRD7ON1uv\n",
       "pQkjMT7MitiuUp78qEQcAh+LRYIP95FeAxrqq16ED/e/Gz/qNn0EDvE/7OTv/kiT4gAk2S6TK4QU\n",
       "fNc0P0ebHMX+VdoxpDuRw2WgcbowE7hAiutvH5a8/FSMNvwBwJ7bIc51uq02fXqXwKi3CExc2yy4\n",
       "YgcNQZXil00Gk5L+zA7m59QbbuK/1dl0ObTPgEy05tutpIwa2QAkhoOfe+2SX8FzRR+JoGPaVDXh\n",
       "xjyfx6jYf8aT7khUXlHXeh4FU0AVswA8cOnxy+Mb+beLb1oWbxQT1W80Pkp8JaDoV8D/XXrlTsBs\n",
       "ypXLTCPiYPZWJ/24AxdhoCUcx5Vk7pRYiQy9OBXlXnOWpe59dtGhxo0FgDWKEETYj4u35UGfv5ok\n",
       "r4SFFjyKwkH0WLpP2najA5WpdOxwMa64YtoyVYa3GTjFOta8Hqh21q/8gAb97OMXwJrD2rzVfa1S\n",
       "5EIjFBgDGPdEkX633dwzv3IpAShODl5bY3wjsw3wfJwpBqnqDK69hIuTb7qnEWx209r2MwtbLd0W\n",
       "3pYzlf+0jUyIhMMYwfv0x1HN55IXhmx/r0dW5uoVGaSYdk0eUVCCvUl6xR5C/FcTM545Fuu71mF/\n",
       "cVjWFHqYRxhtItL/myyD1DREjJ+MNuf4DBuzv+PhhXkUVOzHkIoAVPfFMwBkkuq4oN9aSUWF65hT\n",
       "hOHM7of92/6rpYGa8v3eZq/OGDJivf//QKR8Pxwz/aVJfY7juShAfpzQMC5Qf0PNJQosdcQfuEFh\n",
       "VTpatkhDSFmtrL/3oWjC8691J1dJYNJ1Jy6sToTzwSodXeANsFp6/SH8aV6fcyUOwkFL7EPp7Yvp\n",
       "9tsx/dkL6iEOSkqRK5anuUYr8FYD/qkPPS1iHkd5vU9Xw83Fuebq6baGM+Waxn0ovXZd/7nQhrOE\n",
       "n0LnbziWCLxATY5xbEnTdM4E/ZLsLee+olTTic+JosLih6bvqa9BhnacELnZpojJWICjm9idhxPy\n",
       "xkMd9gpmxYLLueb82F+alRs+5bebPO896CB4ScK9MRQm+kxgEi99MNd/7EauI3mwzq+8Vv2j5FFp\n",
       "S5zxhuSUpteyl7VteIBxB3+paX///J/ZhHC4OIAZg0zlx4GN5PK2m8EPg7dH/C0HwvkYcWtHcO2M\n",
       "PWREGqYLBUdtZBLyp8yUalanOQclAkduIS+uF9J8gtkmbbkmbUOSCu5Vby8WtaD+zG6457FihMUr\n",
       "ENgf+TEmx2sdOz34+3dwiPP8OW78K38Ml0HQ2lXbrfxKl/Drnrq2Lyi+mY47XjJUtp6wXT+/uCau\n",
       "Kj6NFeemndHE1XmNA04YiGijFIDgoIv9koEi13srEtfaViI1AnuVm/mkdSlA62p94JWdMhg2VZGf\n",
       "cOkxDgyXdnu/1C3z/HuPOnucY2cgxyZoh2OdMiEi7154vVltS+Z+DjXhFB5tbtcxldIvpKbf0Pby\n",
       "SZqvuvAkEnGnDICGZ9sMvCZF9OjpsuZOQV3NSrFQU+PVtOiO4qYU1SRD/Rn0Xn8QHPKbM5+B4bnG\n",
       "pqX1EZ+HtNg1TI4qxUabdNlZ2ZXzKJt7j1Ks62eNT94a/zVXnkL0UBzgQ3y2xijjuXsbQxKFoaqS\n",
       "jshk4rDS6XcFHoMkqO6OsKhNta/RdYatF8W7s9CShXpLBWVu9CPESLv6RhjUdUnXgVtJArE6kNFW\n",
       "naewDFIszkLFxhlTpOW6cU1mOegctTGIQCP3DR247ix/m2MMPho75j9AwZX40J+0j3oTswbzk9+z\n",
       "KeP5J1VyU8Lvu0ag2W0ealXV15y3J9jRZc34l8Mqs+6MCojgkfYZL2TZMMtmKwI3YNDOFMFju4Gq\n",
       "zW0vY8XHtSA7hVTD+5yyLQ7xi2LR0zG9TCoFlTRINZOCZGdG5UbDKMOhCCg41zy8xLbxJxtTrcX0\n",
       "ScPwO1Q2jtmsJOTScmTWNGSAQpH2X5C3xApHtwqUoJ0B5NfaszPdUpiOTp567xyG3jVfs14Kn6g/\n",
       "vp5Yqu8Xc2iYw4/CbPu5+SgJgTBWiUEOxdrMSjczaCXAxvx+fVL54U+p5zHCS/URHU9gsI9E/wwS\n",
       "2zWiLe4Zz8lfIBV854ilStg73jGwKM9A4DASb4zI3Wj+eqq21ymt8N1/OngRAKYh+IwigaRPkHmn\n",
       "Ze3ook3eIDNYbCJQucdyz3S9aHyJ5QFnRRI2MVULF4VjhF+nThbTRw4+JU2Sb4Dv3NLLXcruNQ8D\n",
       "zQn3Kqt7r14SFwpLP2glq7AbW01G2wRvyfuPRI1pKtn7mD08PHTZVkNRfJQp+fpul9bq4PP57PHq\n",
       "eccE21vtMFej8tB9IC6d+zW7t83ntHPqNr7MKBaM23KfIy6mffOGQh9QRUV7Xwfr478Uc1XWbXbG\n",
       "YXV56DPx20DpM1OEpr7Y/cJVGwr999r7/IP/XAYl58ArHs4AWDQznsuk8EUNE4pvUrlRfHcxLeL9\n",
       "5+PQbaWZbV8cjgPZhsw1/UTykvF30EYlbwjxSoVMjFXbByqQnTc7Rz+fWjcXceWBPIo8lVjv3T28\n",
       "eIXsey3hjmvoXVbCxUTQfCLToYXL1lj4lN9cXW9B9JRZ9OqrMv298/qN5OQsVAPMFQ4oMNstUFOZ\n",
       "xGPC9qoNSogdJSGI4pkdYegGU4XoGDGd2Nn/tazNjFC+YCkJYIoXhIBBTcs10IRITUctsieL9gJn\n",
       "Ofg8TCoc+ujykpqVrwf/WL61ZBDxaGQ0wXh53Enf1c/nP2BwVYMF1kn/VFpWEVxKUcpovHtjDxH1\n",
       "JVIo7LU6yEOVWni8ly5H9/60seDk0jWd9nTRWl7BCL2rb9V1V4G/B3buf7UmtQ3JOru+Z0RRsmO3\n",
       "vO0CEsTyb1knSAsofpXKy1ZXoC1LTBuLSK8TO24C72fVuAEQFogCT7hJgvStQCQdGcLv0w/xL1q4\n",
       "Vp3kEqxRVsN5sKOV8Id1h87eIRBm8P5yQrfIJvG0uV5Ix2uHHb4Rmd9Q1s4SVRWw3wKG4okV2oz1\n",
       "B4KIjlDR0fk3ZEqKIcrvZzi6qxsmji7k44jwBRH7QxdED1zxPjW7En9H/z1keTity4cGnh3Ok8rV\n",
       "YCkhLxOaSUjyg5gfavpB9j5UINvNKHFKQJ0kmU7JhEtmLVgdRmrIujR1uL4KiU3JQybq1+V5UbE/\n",
       "CdXjyAk65v5vKMkIThPdBaugsQ2xGfm/VEDWmaMXNmqJqEe38E0igwO690h+mLIIoIeTfqNDjR4X\n",
       "vqXu2PZHXLlDM3VA2ECVPmq+XxlJYQU4xVuBxSyajB7sPELHcMQJdOHUMWZu4tBs+qhxNmxtQas+\n",
       "z9Ti9jkppaVXVEqjHA3SYPKCRHhZB1rf6OcISiVUdRm8Sm/d1U6iCdSUlFKoAsD7K3tBJv/NNp3T\n",
       "xlGWBz8Nw8Ij361Pt9WCndwEYQ2g63ZesQWs0pin1CwPlXWN2VhUJU46/c1zxR2txIyD4nmkdlBt\n",
       "pp623lP1aNtoEVsz/tZNo2Kly0fxZuc7kseA+NbuTfRqj02eODaZucpTo1I8yrYTcjsfX6yLnrm+\n",
       "F2XnYxiLqkSPQbvi3DWyMFZACan0JwHNZdnopFvB3X5iSA0HlnZ6tpL55HIDISKMhvuRRn3XeBno\n",
       "0Y/zX9OuA2kw1phGHVJyTCQvcK9A4Sxxhp10kwrskIzZLhE5EYaEmsrVBvacKfSp2k1QgkxFAWx2\n",
       "ZLnNdBOuXYk/qhCEu7a3VgwbeuiQwGnl8g50pKLFPBMgyKjcfooADFqpQE8rAARg+PL3zgaqKyAS\n",
       "wZzf4h0rxoFhcb9oUNU6uOydHX5PjlNThxON9QFMGUh1GQQB5+CF2VQCOPB+02beXQKv4rcP89/6\n",
       "WF1PEu9Cx0oGS97S2odlYBjnG66ChAokHzA6WlgLk2pwxLOy0AqJn/3sC/QfNiqK0t4n/mYkTLo9\n",
       "9DmWCAzy/GF6VF82WXH37HqUoxxNIo034rs0Mua0eqti0eEXiexu6G6ww3n4HF8DAD0rbrc5YjPO\n",
       "elJ1mYIc8egRKnwyOZRV6DSjBk9itkh5aUe1YuaMJC317PGOVtrbQb51RXhf5QCqtPsPne852fNb\n",
       "W4QtpA1oZr5Zj4xBNyQbCoPefi+k3Pp3V6mLrAYxE9fciaInkA0PylwedC79+IHrTUNOBDsnsvF1\n",
       "aUKSzvTCElH6YBZ3qXdBvSOl+JCSqeVL7Vvt4m/UDWGPr569AIMlP6tnBaIG4GW5HFT/+tw973OR\n",
       "OUKYuY3iU7qLdrHxmL/PXMzHVpl3phJDyO83qey148oqrtEVIGeNNiSFod2TLu5BoE8WFw8buGp/\n",
       "chjYIUtxBGy7h+sPrmIzz3OiaEVsuxW3lgabMi/TrECZWjS/7hn9ZbEbjGvneFG0vxiXXS4GKPy/\n",
       "Bc0vjlqiVVgO/JR990Zw16S7IYzcrUdZX8Te4RmbSa/+epKJhGohsW6ZuflffD14oEMWhc5s5LHc\n",
       "1z57uXsTsiqCxKu4IX6eAM626751JqcYxjWZPEL+3RG7A4zCXWuniGWfL3a4u0Qn/Y9mO5DR9X7A\n",
       "MgeM//2ioiCVea8sSYXYXfqaKAn6NurNMIi3Cb7FeB9N0IFY1IIkVfwf1mnMwO83oUNIYsp7sJv+\n",
       "JvQe1fMsQ5pO+QjuVUEP3tWI/t/5X2RoXJjrb3ZAF1yj3ckWwscIgi+AnkErGZnJ+3XVUZZVdHZv\n",
       "90zUKS6/TLP5cSsmlZuHNT0uPt36Hnjf+eN8i8g4DkJUtdHHMqna/1tQN3gwyPltQ7yMVnlJ2VkH\n",
       "A5uaV+REzDrBaJAF5cnu1UTCd70SZbiqeTn7VOgzen/FnWenjA0piXhhmkVkirE2xkV62aWoy3QD\n",
       "OBXgLts/Zm6djj/Kb13Qt2IuL1o2w0NdKXqh8QUkoSJTfqBrJBB9TMQRPT6INvzEtnmMwjl/v2q9\n",
       "tH7a3LjXbNsgTAJiUIE6YQkAu5mA54unaGrQj2yYbjCtNDX7efn2xhysNBWO9fFbaZQK+1b7eJv1\n",
       "A1hjwvZlFt1fMoVCecj2HeGI+EwcpiB47gYbJv+Yy5Q3l5bnTUd7oC7V8YBNyTJ/tGYstdcaUfNU\n",
       "Nm2B4onEegd5iYSUiCM8oZEOO75b7zrhnkLEWuSx5fW5V0PClsJ6GNJjeQ/+b18z6W3FtAtfFDnA\n",
       "IfZJTjwoZPGZTM8855adpo/MoQ7bp1tD1gjCItwTte3sbiIZpf34/FDVFa2fBDVXcU42mtkI9ACr\n",
       "cFv7SM6Q+6uBBg3AN2y/X8GneUosV2LMh7KcHmJeHuScjkEYLhqR1G5iqdRaUmtv57tPpzdTAjnn\n",
       "Tu0et31u9xKb662wVPKLUsX8HfJb2dYVzuI+IWKHaO5z5lKUqDLgqfTqSyuRzCghSddslQ0wpqwf\n",
       "PCuS704Js62x9/k+0JDGXFBWJuK1hv/ku3xBufGO4T0/AmRBsRa8cZM3jX+DcLLDT5Vve42ndZ50\n",
       "U1jA3uzV/lTIRQ3+QCsXINL53cfsfTmsnOUNOCp7bGhyi7Iy4HtLdLDxKfb8kgdG8RoM3MCv1ild\n",
       "Z4RgLGa0QL/7jAfeEZIdzbnp6vx5ulj7xNJ6hd7jjDdZ2OvtpcfI0tnB4ghQ4kVVKzovn6lSKrl1\n",
       "01xNvi/ucxUh9v3WZjahCvBMlMN6/iBoIbFBEsyxYpg+ldfnBzpI7GKq8NTG1jG9Yvwvo+fBh/+d\n",
       "IGkYL5PAfCMfXj840ok20u0XP322Xg/Y+nNZOYzGPpbV3QmwIj4mS3uSq2cIhzY20MXLisq0GkPr\n",
       "YGjPlGek8/u6l7VDIR5kHzb5r7D/gG9fQqPqmt6Drzodw1fwgRtvR8W8BIcSVNGs/1df+4f/6oAJ\n",
       "dmfRS1L/8JO9ORzjNKN9KD2Lbq2fPfEwF4JN4GTrXlw2BTTlL72hPkluK9Rvw0cjM3n+onNK640g\n",
       "al569gJ8dsz7VpxODgsDtMXj6RrC18ZkldDLwC2fR6NjTwBRFsaU3nb+UsKj4MCYmxjicdwfS6lX\n",
       "VHD3g+gBPrfbnc3/jZx7WmAbJdMPUZ6f1RLqcl4b083R6h5INodMwLXVatBY8qNiM7l5MMDNtpTm\n",
       "uIZAyS299ZP7XvLrgaPv0xqfxvSGh63pebAAtjMHT/8Xc4Z44At9EM8WJz4LrvSL/Q3OZcw+sTCl\n",
       "ExcmMIyBWdeaYnXOrcJU0P+NFKTSsp6ou6iomQ5pBDAvXSSZ6Mf4t8Z3Z2p0NXk8p6Dhkt631jJ/\n",
       "5nt8tgjpI7jOtdQv1JSLs1k5wkWhdSdVpL8wEw4Gx0AXgfW5smJNwPSkeuA9jLImcGp0Hw2YUyuo\n",
       "KfSzyk29O1YPnhXDs47NlEKQiQUSEivCiWbra6EZYVxAF/vht1b4xREVpdSyVLzHS1/sMJWyuNfd\n",
       "Z0l0R/z2bouV99/2960qYHM7LlyF3OSIXiJ1QNFp2rH6XFFqd6OFSn/0vL+6/EQ2IF4P9+8642xa\n",
       "2+GOV5A33+64we93lDBjCJpVXddYUWdWMhEMXU7E0mZ/oLuyIWrqXIAI4vAmerX0swNGYWcZwEVk\n",
       "DSa59VPggsYh2rowef61wm7uSE7HoDHoWCH7bClL1b0Mqpt73pXIAfdtPw6gdmiKjtdi0Q0dn7wC\n",
       "fblz6OTnGxzRyvIBTiAbcalVqoUliHRzM7zzCgOIMJZ0YZRDVChJFGDdd/PgchQBJXr0RZtFIA2C\n",
       "p2Pqsg/85UwoGYvM9OQXDBjuiyUzhe2Kruy4JfIh+1FTWLTEd3cDH6vJi1bcZ3RGuOtB+9X3kukf\n",
       "7TPu09mL0GFpBDYdxzbJU4L7H2HGAAE1IL/oqgeyDQTbu1V+lcmXYOeek/V5xgNzI3qe3oQEIR52\n",
       "a+o5ldeAWHkq3D4o8fOW2kMOpiOTEabn7ym1Q+ev7iCAXA12ruZ+9qn5LTmKb7eWNREXWg2kJow3\n",
       "oljoJgtqYrteT3bz/815WDztO3JbiOluzcXlb+JATVZrb7nT1X+CnvQv/jRa1SXldtX/wdiiLErA\n",
       "kKfq1IhDTEMC79MNS+pNLGHxxUyhYh/UOTd8D2NecaiFkPcFM1vdaIOER6I7p6mbbz7bhxaO5asz\n",
       "NfTgO0tIZvw0fZlfoeqUW9kX6L5aIoGv4d9yDpyrRWX/qDV38xBfEFxcBDA7YnZtIFxr3qoAzUoH\n",
       "7f9ZteP3W9qPZ6ARhosKR3hf8XL72ochgL3L9P0lygJyBeAG6Gwl/AOk1wNyKYFf6OHDXMjVw4bD\n",
       "BeI/4sDSUGi4TIRL9mHVksDxcAifyfO07kSZreN8g78laG44Pg7RWbSRBt4wDBSTl/C2RNf5lSG9\n",
       "cP6JKphYshdHxeFZxkbjFqS81Esar7nr5B2mfENwNED3vSO3BdiuB0TsM63H+2exod5mJtwxxumv\n",
       "8Ph9KbnzAub/EavBsoT09hBYW8zHgVCJ3pOl6e6nl4hNN+HdtZ889V3QJYnwWK4VLfM0WHBsGb0G\n",
       "BrhYG473T6KyJhJTMDqknsYrCFyqO+GA+4aXMdmJvpyI1Z6SIOb73wlz8TLkUlv8ZAWDmkWvT7fX\n",
       "KNQbTwnoj3Ci/1CSIS6OzqkFh/KR18eWuCGvIElI04SW54oPBd6CRwebepcoi9JuMPNHDQo/Lo4k\n",
       "aAqfqYTgaNwtvGrF6l41/ACu8mjgqf7aPjK7h36ILP7kJOL5Oip4bTpfn6xxNEzcMhzjtUWlgu4R\n",
       "ao/3tbMSQoVG1PfimfC1DB+hbXvQUtohJIQmCSPCNk6cGcrviINGLZkhbu274XnR4UthPQxpMdtQ\n",
       "A0VepebJcf9kDe1P0jmixAuCClOPiVNWT4v416oqMFSjU06xWOmwgNsnkjQEuQqhmaVufEqhSTJK\n",
       "fNlefC315bBqDZkjp4bVRHIrgZ3p8L8TLJG296Fgd4pxpzzKJqg7FRt43HNPkUQ3fTyxXn1raJ73\n",
       "PltK5A/S2xsFQraQ6rfEBiJ6YjcLvuz/qDVuGHYgcpRT1rJuhbifvJb2lpaD3xXema2qAtGCYNIM\n",
       "302z6Ci08Romp4XrL2BePiZFtmoOEul6SFxnhIB13VREfBm5pt81mxti1guRqa8GLFCnRlXWsAyO\n",
       "iIH8d+ntEDzQVtQ2onYZ79bl2Iz7KSFELtjvU3XVaqRzlIR2UmIAKHo/kECA5xnE1KE/Dyj8tnZ4\n",
       "5qdG6/mf33CAfzm+GeNX35FsDwv/ZXe4GsvHcahsBQyJZgBmyuVY4RzPr/73yBI+YqWy2OuB3CIQ\n",
       "WkSYvBSUISJXgY7bBylQXC3xbexI0WJrp0Hsh/lNpptvrmWWEWnfcdO1U7/0ABu9VLJwCDNaq4vY\n",
       "xY0mRagBPSYIoGYnSGyM4KLoqzdTNlxCNw0msvV8NePhEE7AodolD5Q4b/mbinoIesZDA/F9otWx\n",
       "aKS/S7AnAz+hkrw8THOsj+pkyJIS34SVwZuBtcrWX2U4IMVh+DzRnERRPMwQNvQGYqtsrQm+F+gd\n",
       "x3c1hbJ+zecORWPlN/XSr8on8ZFj3uO19NIAnuvF4bh/DEs7LPJ+kERarGCu8q252y+Gw3E/GR8W\n",
       "RuKtXTDRP6Ys6SDww+TpNdQwJ8EFuMvXVyMu64P7v/VJy68YKM2AHTliudMcKfazhzTrIgh7d7KQ\n",
       "hqlXrVLYHZ+tCbvZ9cNf+Qns0NdZGyJ1IPhLpT+tfT4AStRSS/aKIhKwoGocLJmEVUVM4zDSmk/A\n",
       "PKllR8sIcjMQTyt19aP4aWKBPOnDix1KTD958CJIAikGGe+VRsoNUSnfFUZ45pQ0QgMnM5s3Lil1\n",
       "6aXWzgno2Un+p41yMGSoQfc0C90lE6c0c9K5MV/3E6QVG0xUaT1VCDDf8vSKi07890N1ov7Z9/Lt\n",
       "izw9ljk3pwskKYuwYZpPHjx8GBHGtpSDgch58qp50bMfY120pQxWYnoWPQZhXXZDiVy85GdwDgir\n",
       "BUszJeOl5hpjmglIUqhvprHqTXYrAbW2jq5y/YyL8t7bu97VbOoSMSzss8EcokHwDne4wME8B1fQ\n",
       "Ackr0WD+HKNFzILuO72f46Xj5BQenOZLG3XvbtT/hJAA3KKu5zP2PKvO5tzLS8+fJTN4OxC3wIsy\n",
       "d0+lfocFJIF3ssHx/sv0AofbeF8gghTV5F+RbXT9G+JwG3f0broXRvaxpdb5iK6WRtx0REVk4sq/\n",
       "AlXo9AMrHF/TlYDmSHgqu0ttKHBxuPiz0UaV/MsiDMKWPkos6YP//62nGypdg4x1dbd927HxgtUq\n",
       "g1EoButqZkCufSy6E4nfg/3pEb/GfVDLxbogh/z34EX5ufknZQaYnO7gYS8Hz5TIgG1HvCSnuRPy\n",
       "A3OsLa21mbizbird6WuSC1KDiy5m7sFIwERFP08D4YoH4UUe3uDzC62iB97Fc//1FjM8Q7t3gU9A\n",
       "xDgl66pnv3UxxL1HnJCK544b7cheZ/4SpRxKD5OG/QFLTQFGdkg0Nh12yPqa+h/RoLhnaEWcv+Y/\n",
       "6RI+bYL4AAQbdkmGn3qQyNdSvdO6HBBwB8rH3e/UNyFLxI+0yo4LkOGbMrFmg+PrEjFcPYOzraEY\n",
       "nRv9YH3e/nNyegxh0Xk/r+wVNQ4m9hwKASCjJ5/53CTRlPrHuMKVJScAr5UoOOIkXizqwiMeAEDE\n",
       "umY1dztgPfU2m2G+2bVL0Bl+DxChlIcpTMDqUUqscdrDimM3sshMkrpv4A4GfHvboKppkz9uvbpv\n",
       "Zt7brCDRaGnu+/KlAEhB57ylY2feuyEqel5DomnpTBqTM6B4yudr6ZVc2N1BI8lFg7Amqt0v1ugi\n",
       "9IIhGVMZrJ842Df9c553ec0iz/2Ij0c0fldgDESxlP8KQGC/JRyTLCE7qgYuV7z3fpywIOwaGtDc\n",
       "eNPdjmiv3SOBAUrOGHCBtri51ZIo4JIXBoAFO3movLL2keoLG8YG5XfESAYIMER8VLsHmy5U1zc0\n",
       "GxH7GyTs8YOMvaF7ir72xo78mti1FdDbCEFOObeuoL+ZP4M2Gkb/2o9GtqcT4+gMql/VfjU2z46G\n",
       "KLB0Ju5g2vsATKvzeM7t+E6oPLikKNi6U9hAZGNDpE3/+Xz11chO7SUu/qWBTCB52r5yUJ5QVOzp\n",
       "DCVxIuuMv3VRIN8rKXBzk6/A8j8VT8XYZh/a9bEegqjws2J199deUxZ+nDlzocRhIMp0WR+9ueX/\n",
       "M2rlMsIsXaW/ltEmX5Xs8khIk02qXttyR+8C995LmWxU8Z71DW4BtEDH55e9V/MvrVX+Z19Qo79I\n",
       "Vc3BCWCPzmJUeNDy/G47QQuZRzLEopvIfeSsdPznT4UzAkCfL2CJeppDxpQw1ZJK6YTfYbdHYQ2v\n",
       "NnBvReDcxQ3Iz0zx1KZIYFd0AAHF21gDd57SVxMe7BZLmqZMQltBZEP8VTyJ5CMgyhc4Sn/2pK6i\n",
       "8y8xy4jotVQSWz0Swqk4IOIVpTDwZJqbSvyO6IUEAOh57XRDrzephz1V5YM/5XgM1C/rddFg2jB2\n",
       "PCVzFKiwDcYtU3u/ZA4ANLuPVBfNq1dASNHIdNJyw20Ic1+pUihVSaWrfJQK0A+Amj+XLlv5KJgO\n",
       "y7Nd0zj2bniKmrxv2PcXHziTZHGPRohGpPiE+rC8CCi90QNftPkoaGtV9oc3FUoo+YbggJ1rbDPQ\n",
       "DrKjKL0+SccoyHuqtEHwjx9I59++EUD4Dbb640sCiUjjEe/W5Eev6+yc8lNppa+Npfl8eIxio6EQ\n",
       "iQUSEivCiyYo2JKF52zEAX++G3VvjD1oP4zbQE8fHopcfMjbRWAJxafE+Uo38RlAwod0BTfYmsMp\n",
       "jHs7RGKQy3IzAofj1vyzqGota4mGwIdAUPFH2RiiCBmb+kkUvlL2OgDSk0bLvRyMOzaC78foz9xV\n",
       "VMvB6AuXMNUAeCX2YBxQ1AG6MNhpjur+Wj0jVijLMIUeamUWHuP0jGnRyolouz5kWOQQX84GQ+ow\n",
       "s/Uiu4Y8GbCKvi2wIdTF3/RSj+WfSyRvxxsz/VzFNjL2UQK2rpfjkISBE9LZ+dikjix6l2cwvwaA\n",
       "zbbmnSbKkqaOSWR+9rhK/liw4cmmkI70smsJJOGpEDiLDS6svsBcmxXBT47ReF69COCS9asEau4v\n",
       "Ute7zHOybyhYo/HT7AxXQQJ7HwYJ+OXm3SYoDcbNjlEEYS7xdevK8jKNZXVwqvQDZ6CUWglvW47u\n",
       "uZY/c2tTOTrN0cVOzvJggCmw7QDbvJmQpwB3W5zhnCQ+yv693RtnHT2iJ4Getvkh1EcSVcbOr88z\n",
       "5807pzxcMt6zq4mChl+L27J32E0zV1v4BbIKKMGBraKTFzmUT18n9TpErImVPi36w43IGay7VM+4\n",
       "0+WuSxbjw48VaO++iSspOKOrS0+yI5UMeiKYMFaPjGawzMPum5uDQdQ4M6rbYqrX7Ivdg/CPchvq\n",
       "jnosDQkaOWhN22gzWiz5E5qziKQIisQA30Qd+DR2UcGUuXUQHnDVo4FWroliuLj9CZisJpc+deTJ\n",
       "JFlZ39jykl/6Cx7X8Jbf0oZYH1uzEDx6OkALsk7VhiLvYkXT3RjcfVOniqYbqugRAEDxul3PJAW6\n",
       "C9N41jPAroBS3eQF8ybP1CqKbn2VesQDRZ5ckWtNXP8Ot4xqY3U3L8qpzdL5GBF2UW+yBJZlISBq\n",
       "nS2jfdCyvKw3rff+3XyyAqpWo4KvkkmQauN+92f6oEBKpkJIjX6T2k1g3G6I7m01hsOKmRgE8Z1l\n",
       "+8UElSLciAQtteDh7waRT4Gf2Pv16nNmAMUkbVBlOa1PwEUfvny7x4D3p3sKtVhaeCNxM1gqd/gs\n",
       "snU+EdST4m4nr16rQhP370p2CV8p4UIM8uDZ1JTJcYuLjT6JvVuRnFXsQqSEKobKNPcsHN9vmG66\n",
       "vUW8DNLT/bHItBbCg/AHbKP7chivVxlOpt0Ymmmtc2NGmiYoVLww8a7uyua7Yn49OGW3WO1LiOQd\n",
       "XXOc9+kAFl47N3ulp79GDk8ekrhormucXs56b4r8rv9lWK+PffiPcsa3PQOWQvGvtsEA0m3iqLua\n",
       "5YCIAks7l27rDGr5G8pZ7C+oOofY9+/XzPoN8UfjWHoLgDTP+Nq604LkAQ6yCwaq8XiOuYc85WO5\n",
       "snbEPMPk477767lhXeJ2qyRNsDbbux9d0iSEkB5iS8UP5BkPJzqH0tdGELm4DpYSQycvANdMMhXt\n",
       "Jot99t6FXfL2AwpnvW1rY+ntYgq+axZBwY9TWDDCk9Oq5c547x5vSaagceXyaAoJMBxIC5UG2FDf\n",
       "WIX/ArFsdNXLheLQXXSs72j6XEuiHgTuscnSsw+gSgI/TIp6DRrTeP3ZF009+5pZ4OA/37FPu1er\n",
       "4KbrUec/v/3Xlh3dDy7hlSJKGlp/4eWYTx39LOZyE9y6wk7aki5p+8eqFJPJ/yTu6s7oOm0bTSHn\n",
       "zcdd6ES3UHyQcFywIBYMBTAQ/pnd2aHxIEgV65gxTVHw1WRbq0lkDbieyk+dB9wvqGYVGCGA3MsU\n",
       "TP7UzeHGynx/ah+mk0mc5n7DnknU7J2jrNbVBQV4tmA7ylTM19IMMbOFepoe6XWp3QAq3UYO5fRx\n",
       "K5s4s54iW0eDtmGajOaifKgN+4pX7DqI0KRCaChiwITJYMSKVbzsKeXoEc7JxSQGVASqQh1cS4DF\n",
       "H96Wp7Tlx3DIVoyDWHcWNUrSeZXxGgzD73wXrIgWfDU1dTYT2o/MniCGrFXluDd7+VnINzAdLeR9\n",
       "1uz9JNdjDPovcPojR1b85QGTMFKOGHZALeAwftda7xNtpsYeKDjiByJo3GioheftkSNW9EObgFR6\n",
       "Iyos3Q2WFBcHyRgfkGsBuChed/eLpJqgiJsqI7Nlv2lKOdd/Sh5dnbhWY3E9D86JbLunEgcTjNqs\n",
       "SwRt8q8E9WLCdVw30BseBwRcOnmkZQCF+cvX7CziLLzgfnkfD08BR30/YtmaD9yjwdp65kbujr5w\n",
       "ZJgqQrn5v1Fc72LSp/gsrQAZ1shKEaKI0K8oT/UwqTs0DiWMaYVrDRv3BvbnWlhxM9+1SoeWWODa\n",
       "11C4j49rI7cEz1ju4udKSqv6nZIO6gahGdSnTDl69Bak8vJGgXaVMx9uWRNkCLOYL9J/oNn3NJnz\n",
       "g7J8yE14Z5VBP9MKt28/2MpZhv1xW/VMra/chWbFp2gzJ4H8BHu+bj7VjywSS31B5UtxUrqcUIPc\n",
       "Kw6OPwrQyMXWZOZ75grhXeu4VcP3GVRmXel66BPE7vYs1q/OKZ4Au93GaAdxrd8UKZhugxN+1yRo\n",
       "zvTlOPGwFe8Svo2yPwjOlItB+oeJ9H9kj04kAL/lI32ov6QDts3UtyHdToUHdOKAVN4MLCuBGR67\n",
       "SKBV0WkS0XWD5bzjQYnldnRzr12xg7fmAACZOcT1vB/BAlHrfxcmnAljFano560fnm+q7lkfxjMJ\n",
       "zdaiFDFZeUuEunjKLlfe6zjIzi5ve+UxHbQ99s+9HSTla4WqXsg0bG8+Yq/xa8hClaiUSd81/UrF\n",
       "edtsljlRysixxW9cSgDxBjimv0PI11v17hK+NwnlftHjBRWHZa1ufwrZQLf4GyhGkZSI6RiWdlng\n",
       "RZDZjCI0+iZLzEN4ajBh1LD0qs+yF5hz1NuECj96o5F81OA6Qw0A12eahF+hbld69mJSpPjeh8bs\n",
       "ubZRcL4HEaS0Q22fDtgaTUoCOvYY1+djGGcGQe+UMiIfT04XXvVYtk7De7MybhyDSEWKudTBqfXO\n",
       "lHmGHyvriQcsfx+tKmIOA+9mt6MLtr6So5sJdeKqqq27Mb8ipa7Fh95fUG4k8rUdWXjz2e3m6Pol\n",
       "JPl7tPioLvadHf8tV2yG71folkAsym7JCmr7wU8NkZIDzXXf3pcso/RG0LOCkFpyJZDptuH2wBbs\n",
       "5N0IYxZg2Ny/GBpeIPMaGI+JBleSgjRMeYXvMF1YNE/ji8/SSXJYvvIAEQmqcK98afSYga/Scf9D\n",
       "XetiT/gjSr/2FqVJ96oz9a6TW6U5cxdcd02DCRC04WFXcHhuDG23TGboCZpUKwHMJGmoj8Z70lDI\n",
       "uIJiCM/7NZ6NFScAvrin3G39+O4gYIXdkvA2/KWERjCNCp0pAoHApE5UfT9q1yX/1dM1mBLVpnQS\n",
       "NxxrTOHFDP6a33VLlKt8DKwTsDhvRUlf27+oEMWK9xxYWYhekn69+KsSji/t2NGzKNnNCnZ4LNKz\n",
       "Ul8gVtouqMEGE5urU6qlZJihvb4r9eO0VqO6q4tMwo319GacQYvPFNJl2bs0Q7GTLTmphE7kRaKv\n",
       "zo5+LDqsAJAbBC7CCEBG5yhczyXpderVZNgq07xaEFT5zqFtPkP2sUQayr5BHxPG5L6IqN6A+8kM\n",
       "OYwFicXBs0wFGtFprEtqcG/1NUK4V8kzy3vnxnMclmsML7ofyqdhKCc73OLnPhQEvs9eM5bFRIxW\n",
       "zLjr2VzhktQH8HDW4S/nPt2aIXaZNsilKPCWHQ5kc4kUy6q5SYmXl/EwPC9aU23MLXuKb6NRfHB2\n",
       "3EDGbKVJHRLC6Fl9R09koW8h8ojkPouNBek/ehuZdbbdZNWAMvPlonvyEGVH4EwCm27tOTo/ehWG\n",
       "zXk/RU6GNZ62Qr5zvfvuiaiUAVMhygyGRc5OyRSqOIvmlgujLEE3EyeiADtjqJ0GwgYVnTmi4eZU\n",
       "TNogIOHPN4tBVM7Rj+PsRKv7bcS/8UokgoUYTeLNahjmpLMq8XeV9QRJsUdjFJ1NQublHnP5Z4N8\n",
       "zrEb8tyf77qohlT1tYJ2Y4r2ld3yRSLMN3l1oXAQlesf8kuuZIeViG61n5/N3yEBbhWvQYEGZsVl\n",
       "9oB3m2HDyX6bXj6vNUVqzSzica/5uu6fRunr6g6w4+DPsIuW6MsHfpLfRjTlka4szV5WBKlBgAWU\n",
       "bpfZ9zl5v2YKMpB3P344y9jkbTO+18E3pJLLQuBd8aria+CvsYSYy5Dxy3FCoJDrUpPJOBsDoh6N\n",
       "M5VZHFR2Btf9BTh+XJI1JUEz3hprsbxjDFvgholE/h2qk/TMaV1282PdNsU+lnjTyQTGxnJCn+yA\n",
       "mRlBq3dXZzXkUF36rOF8oRlGfAMK7cgfZpkwPiImmiEF0da0wKm0u6VfwyVkluOFPcZDbr6MLaBc\n",
       "XcyKQMD2W4FY/DZSJqWYIoLroMKPM8x+pekkW1mDxhC0irbOORM4GQOq4xpBDW+RzNcD98ko6WgA\n",
       "58Iy2O3innHJ9lIVuXGmJ5L2Y6SFyVJWogvY3cMZKRxCfMZaheEythKp7/rPaS4RbUijUxn7uNmX\n",
       "Mx2qnHBUGvUuHsRujrpXBtz2fQljlbGKVXC7NfFx+jhn+AA4KaFhSAb5bdPEmcDq7dPb0RcNUt5P\n",
       "0TyapLTN0PVxI7vZMkBM1fTkZcas6C/xiIX1saw8U/DGhQhUFq765RrgTVbmbNnAk1yHHZZ03I2f\n",
       "ms8OdCvf4WFN+8rzJyeGQs64/I6wpw5GafPEOgoR5aodI/WJAjWWgsMzoQv77G2IuMwUK9XaJmym\n",
       "QfRLj85l6ZVQ5G/zG1qHbq0fnB2HjiPjH7jEQkVcxXCsDkYCETJFep/s5mDl/Nz4jjQPyTYCzjAn\n",
       "AqNeOtRJi/I7biwzJdHxSZuJeL0IeGgk3pfwER4ET0LzMd9RB6xKJ13GS75E9kaVFj4dXOh9FA87\n",
       "l/y7I8tRqNMWkJHPATI6EI4izIkvyYa0nee4ACfaxqV6CM/OBPqtqWuNqXrihTasv/7wUZrGQFjd\n",
       "uXayKtJ3ugUjL41nMYUI0BTAUWGixs9n5ssxV/WYDUZwA9poaOBx/cjAZRCG91KLBQjIAtzcEg3z\n",
       "HPcVZeppIWpeM1X08joa3d/sJ62AD4O2o6lFMXyS5RKdY7xVcfIiISqD1GK23RA4w392QYbWloS6\n",
       "GKpuQN06nAF6jxGxbFc0iNhwL5puU8jvf4MnQYDcmfTZErwsLC+CZkzaky3M/aC4Jc/bpdyo0xsM\n",
       "29eoPz7ebrmHLhQmeFIe8OIVxbOkVg7A8NJ1dclO5z5o/mftwh1zTnSa/UZQgA53/gv/Y2z9ucVz\n",
       "vRb7ZoAR3cfHSngjmS0ltH1wCqQdezssCb4PltInnTUpjwcCLOJFhe/SqmISct0PZpamkoThveK+\n",
       "6xV597B86G+YjbkM1/HfgblYBzPmV0Lfb3dxLAWx3ENHeB7JolfBFe/pBbwYr9NTHJEiCLjjBxPH\n",
       "DCOD1Nu2SDg28Ny/KcyDViHyVGnmoFz5s9eWAjU/3DnMaaXsMN2VhVnVoXt25ZPaBCShvPRYr4JH\n",
       "vaU+uw24p4xscJLxuh904ItFKMTxmgPu5nIPzQmoYH9yf5293PM/VxZIvRk43lmR8LW7qet5m+n/\n",
       "DPd3E3AsAP6wqCxMhfoBaPJHYxeK3bUh+iw1ytK5BRF54vDdAaPLxsNvWJkteWMhjj1fi2XQIvEE\n",
       "3dSXvaykPNcs3QYHwYfNR2qoO0ssednFajY/IW+qQWKKAkpI2sq5uhtdojWKS9ZxlnCCgf7Gdh0q\n",
       "qav3ThalAoPjgxpKrSFE5MObp72RPJIDczYI/Lvvd/qq3r4NqwTiOkRPC1wGxuNrlSdroEFFSXoi\n",
       "+OAHVMRD0hrkqru9P5AKdusoRJSGIJOFSofMieVN9OpG0lf5qB2RMj674UbXKaEkhTtiHS2D2cMu\n",
       "xcOPm3LoOQdaZu85Zy8WJRzGkhoAqxRkezqNVnGifK/QSfEyGPx/I9dyFq8BfmhHloOZ3ZXV8Uaf\n",
       "4J0Kmz6xOYItrax+PIAP+iL0jG2N9gMaW494KuqbwJy+rRX+l7W3qyYM9r4wpne6yUqs7uRJPFci\n",
       "r8S0/bfyPuimsgnTWlI2qlF/AopWQ2ZkBg7pspJgfNtJHe41C2f2WsZQUxr/ctLvbY3pe0o2KHbw\n",
       "FtpktvX9k/C2wleUkLfFeKb+j3nKMtG4sz+mRliLDS07vMnlLOOCBE/vtuq5IUeR5hi2TCv24UTc\n",
       "O/Njb4YV51Ah9x4YH3tLAl9n3QFLQQGWGn4bq2djivD+xMsPbUZ6Yx/7XfRugTi48FS0dMCVvoeV\n",
       "Eb2K0ePBIuazWWf5J+a/YSelrjtyQU4c9wE0nAnphpdS8Cd+YjMrszEmpdvSE8vfSzu0cVCpyfPF\n",
       "lp7Ack5VSWy3ysicCrKPhfZmsq52pwNtD1kXsAOwft0qsXdH0kBwtJc+P/j1h6IleZD4Wc8CUrC2\n",
       "rCqvnxECu9KRch4VCyMFC6wnxcgDMvhE6DrzCdipeeE/WpAmeJ4r5pNmM0+9aIZ2jKg6QPA1FC9K\n",
       "rzyJ97pwQGTO13pVMB/00HmyGhdkpIhLBCSig45IAEgnP/TMA5JLbYRs2zR4bo3AA89x2rnj2FLJ\n",
       "aHeUJ7yuO2XbFxb8GD6xF67qLsJyEQtPJejFPiO6+StmVNnvJp6USCqKRJN2VLPcEE99vlbgihsp\n",
       "91XDom5oC5hQVkImkDdi/cSvRnbAW270nt7qrUDmUk8Na3hfWru+IUuUE0WdJr0w//N3wBSZ2v3w\n",
       "tbn3JF+AasFuXkysvoqCbDM/qB8sQbKGdGvTj1hmqIpML+8rJGubrqkG/jDwdUG8zQMkkNCNJq19\n",
       "KxqnZAmTbp8d01MQlIIKnJ4Eij5UK2j0fPMc6YhGoPqKPxDNzJjunZBvNpTvfYMYn8hbQgG7ZTWO\n",
       "vJmLH86kCEgM0bUrWwwOwdxdJLbTFqws+J8QyWIpGUTai6IVCpEKgtJtGrlo2XjZ7rXa8XHAGgv1\n",
       "8e6bfx70e0S3j4NO3/0Y/NJ/NL6Wdd0toBF+54Maeg0URlpb5K+IgQxVqwen7D84YA7ajmVnAhi2\n",
       "DYeB/mwIKGowOw18e6a5xc9XK28a5bXYUu2cmgVb4awwuwN1nyIABOSYDS+x7yOYcA4e2Z/WZA0b\n",
       "VGnldm/9yBfQnUIKjQYoL/y/gTTOgqzP5KYFxWkY5WKUleVmmVfTkNTnlSdafxbfWOj66Itx4noa\n",
       "85tOiTGdx1yl5g593wGVT+XoAUYbygnX4P1DIG77dL1rrjTZ9y2Qxo9+D3TDBDXgrCew66/DttkX\n",
       "d/QJQEg8vbZeJca03j92RdNNlckrHOuFQuhztpRUxXKUe2iEzpYUR6ySs8eAHgc3J0OzrOjqpyjW\n",
       "534gk0pBcV/KEupUfQMnqR+ut9291pgzNvL0JkZRu/BHdh8DQw4VmJvF/GdrukKvLMAJ0x3vZfeI\n",
       "oX0oyKBBRPolenk9ro/KDDoublY+xmCsRSJjH4jvhEZ0IP4L6x4CNRnMcpnAuX3a7lP9hnou5Rch\n",
       "qR51BVpqXHy/TxqQdXT4juPXXjE+w5dTz8qJiW9bUxf0MPoe6DkAVFzRRv8tw4oughCr7+8qzKMR\n",
       "0q1yxkkSin0FYyRK2Wb13ETpH5cQSpRG/CmSMMl+Se2SuIcb+ayowHX+wEs/MlnDD6KtcJOM6Ne8\n",
       "wCuHAu/sIm0cxMm3VtdsrKsQIlEYGJ1DtAp6gYqIahhG2SSXXG4UC5he9uhAVlrAdTBI+Lwe+u/n\n",
       "Y6eA1MKoHGzOjHmZkgRntmZpDt4CtrXGMLsRj1ZpgAtQj26HWbNwht8q1NR0E8V5cEFpSTMK/a21\n",
       "bTD7jweHVErJry6IhYtNIwps/J9iZaxfOYQeexxHeLA27RqrsAj4QGhw6U6656NgsXYuvGg0Pi8R\n",
       "nHWm2/xKfK1OYYMJzKcScKdheNF8Krn9SIkF16CnY1f/dBscLpj+DEj9YyVi5scaK6UhKnYOFymJ\n",
       "mN6qoVzkm50WM4tGul+s9CuSr5Ue3DCxCxJe01xjuyX3kEZ5SF35K5m+BCeN3Z4gaocFeBqvndPe\n",
       "6ObeZit6k6ctTXQTeB9m/ZxYIyW0Pt+l+Opi0BPBSPPnco/2Pgv/3bEi1gV2fAYnpBPAIuyZRHSw\n",
       "8NGodONH7Mpsok09bYdc98B43pvW1uib+TRtrEPSzz5i9B7CHnHUXTL6H5aqubXBFXV4Xcdlm66b\n",
       "VdwJCtVuU1qaN2VBmt4FZDlTODbyZSkW0ROZNmu5GRXowQnmXD0LEi0OcgTZP5pU7YLH4D9N+ClE\n",
       "UTqHBhPRqk6M9wmqkJBLhqw4bdrTyOxs4VPhtU+Q7qkXqjBG0EXXLabYZ4OY3yonEuzkmGwef9+P\n",
       "5eeAFdY6KtwWSOv5cERzYWx2btxBmf4irs/3LXoLrHFFvDGRL/O0UHUPl+YZchGcFp8/MK8D+Ok7\n",
       "TThXIWPkkn99/57i7kkQGjrNx2XxLl5mEW+IjSS8jMbXLgoEOaSgq1z6w5c1te5x+k/U2zMuVWeu\n",
       "nadGTwGCA+l65fcd9d9Nb7DGvhrUVra4mAQDJ3dC2yDOX8vdUCnS/iifYWw8ZmBkBjcn4ePUcrbc\n",
       "skaycFIi+HPtcRXJSdQcKiTW68j9Tjs4d0YNbaeHDVV5pgXwHiPC80YU21NJXK8nSxzwfDaGFkvd\n",
       "+fO3fqWkdcIgCAILk+f5PHdB9i2WU686Xm9yoMJ8kDFoJiX+heEpvL0ARujAg9e+p+vGBiWt+jFp\n",
       "TYq4c0dvH96p/0mB8Bof6sYcFcNgPrSN3SZTu9QN/T/CRSPuk33zt1+V2qkGbxlJpkiRtLNGF7G0\n",
       "Rp5LR+zbqjpklyOgGdhloOiIU4ub97ucW+81iZ0RQh6Ouk2qHp5ZnMqamH+1TAmZIQoO+dH5yAHa\n",
       "8v7LLIbWXeUWp/X1YEmhiwp3uyVwuuxS8aZfmY1ybPOHrIS01Qibm1cOA2PlLhSeHUJgwIou8X74\n",
       "D7tbwRmpBV8+r6CzDsQfiyo+zttiwP7j3lMoOSgRrdrKsCT+Aom34pSpki95oZqU4EmWGpb4M16A\n",
       "9W6lq5m15/VvoZjAqTJNlusDtzj/0gWANozVqG75UXEtCM51p3cDoAOkij0O/MQEh4Ae2aNpXmCY\n",
       "BdAqmv+q946H73p0z+bNj4XZah8yTddduHB3+rz+XpqQJrqwjf1mx3S17pZuJZNNpiobUawbjWGS\n",
       "Kg39gzfAOqpG7F//5bmmka0sL2xrc8XIyvvWjLh90rmM1KhuzbqWB9RP6noImnYN5copDp2WZkyx\n",
       "DjwfmTnttyQbtv9ZQ+68RAxKmhKxJ/xR5atluN0t39DCqvwOSvW+YfRI0+O1nL7dDu6lCguF5/1q\n",
       "dWw/KEXKTSReX3jMp7Dx3SgrHvPDxAYa+DDN9u3BjBJJNCZaniCPkb5mtlMMYrxQEXXiILjwnHXd\n",
       "5gpii0cS5Cw5zGJU14KKPRPgd/ILNegGRJRvTn5xThGKCx+CSgwgaE990AWgl8BHi5sFojzGJ5p7\n",
       "iQwBYc6eJHOg7pG41N/aGnz5Q5tB3yf7CbD1TB2O1+nSbNl//I4vObSKCqcdfyx3/z6x5bA8GBvU\n",
       "Bd3XvsWE5bH3fondR7MTDV1p8/kTar/atUXrfzWjYsc9ONiAVfZ/A2v4GwOg8h1EliFSXAGD7reV\n",
       "apREO4CVqLRb+ar8t+kA5cTjpx/ojf/97N7RDYejOAIAA7MpCnfs8UzjhM0jkHPB2tH6z2+UHwVg\n",
       "k/hhWMm0Wg/RS9hQOzmwkwtj2KcIJwpb5MvNMLAbzYnHBjY2DKEjhUtgi05sD8aHV8EpBrG7KGsi\n",
       "4AKFeP8dndIQUsQ6JM2xJM/yuJ88wOr6smR3y7Ok8tt02m/bX5Ise35x04HZ1v3+LH6ZFf7p5T9w\n",
       "akTWnc7Ev0Cp9oiNrMMXQhGKUQoZHeZNgIfCETh7I8QRayCP1Z0DnQOOmS/s7Prh4nPhDccgd1Zm\n",
       "OMFwDH6M8hWivadbIgLssP063HM/kiB29/gvxjrsUveQ+jScY/BJwZObFFJYD1N6pzBioSNfor55\n",
       "q7ZPTMF8OPWuXjtk+1UsSE/dca2rhLKKC1Mzv3FaKnHBy41zc2W78mM2ZksNgXHR8VVCIg/QOB9v\n",
       "0J2pFURu+yetaSd2WUgsjNS1cvLgx//Aek4sFnxvPYufldkBeMC8cAsm3b/6kiX3sWCr6mrF7t9D\n",
       "G3AnxoFA0gmHfm5P8yL5LvcQbsIAvn+I4n5RUAnlJqP8SwirTB29WI22XDhZ+aqxSD3S3tp+3TVg\n",
       "Zd2ehsAl4Y1I2vHngseEgiJvQ/1Y0CSj/Tkkj/FCz+wI97vxU/XReFDG+72rp8Kt6CpJ17/CeB2q\n",
       "JLezXv5CdBAMmesTNCdszxjS7v9NLxU5mh3E4TZu90jny3P+b9AqBIMTQfv4cVx9RsBE+woIoaP0\n",
       "H85D631HoB7HKfzzjxcUiuhll84LSj4SW3UFD3T6QWBZdJL8dTBGgYzeMUCtwq0lQ/rHqjdSbGTb\n",
       "9IqI6YyCYc1LfEWrGj2ei6u745zFblw8hRT5spV3v06ddQU9Jp09Tz9nPwHB3ltCs0VDO092RJA7\n",
       "NVhycQWnpTc5mt3ge2xiHprvZ4QixHhPhA7iV76MuYglyMX1Q8WYeJWmrgjUkvFectDTBknbeUjg\n",
       "NsvJ2SIdf4LBO4rJMjy8PuDvCgLXJKwbKIdIstrgXC6nJ84gk4YJ92nNgoUdx+MAmdc+DJZF0RUc\n",
       "JxUedkTuKAX60OvDqsuucAD/ztYljwLafj63Y61J26bgArE5B+olHcTzLpXrPOkuv94ycxSsluyP\n",
       "Cm/pKHCpHPWPGPOaTHkPDumXl53XhmW1U+vMzDf69xdM02kynSF4u1cvq8suQgwcoaLoPj1/Fwfj\n",
       "HPwGVTOFgX0DzV+B3N2udRK4Ic/p2MsPBUzOmoNoYYZKtzLkyntxJ9n6uuRop5ecUhs7ON8AW3AS\n",
       "/FTY+PLs6MhRnhL+23ng8rLyVMGCIx21vHPlaU4JYqqqZtzpVR2S+sbsUD8Z5XBRf8DnHGZ2FKr1\n",
       "tz7F9dM1HGgIVvZ9vsc1LpkO9RgUTuusPZHGgBgkmdEFIXirNjyNmiXi3bJunUIZibxSf620w9+z\n",
       "5/VIPjzSfbYzGLGVrGbgbjwDbynWaS7tGsm49wBLJ+F30Oa3hYQkhCFupBWvl1fmxQIQ78hs3zYc\n",
       "dckCDFqy2hZeQaMRBV8pr63FIb8CmGcA3lBmFkV7U+vmFhuxFwQmS068TfFKNZoq8rlqbVHvTbAX\n",
       "0NDOV56iS1UK/Fz5CL1FMPVxRBeANQHOUXt+Ko+IbUZ0GjqOP/oANO/u/c8HHwZfzwd8wcNwtys8\n",
       "y1haEW0PbxH2IptGE2lllOt3+xkt0Lse/YTE1clN9DTxlsF+/6tQbs6orZB5X5aFRkB4FPQMQrFr\n",
       "WfpuHAeQ8oSAmTIyJ+SnCAwSRaXz+7XpOCjzxLbl5tfHA0wNhfdtQLRPBotQYoVFOvC7wxblAL7S\n",
       "lhNEuJHg+WxySR2VcbG6ds/pYrLDYmDgkaHxTM4TAz7RRc6ROipuFheeP72xaETcP4SXKzr5x1ex\n",
       "yMKiSWTdX+BOk3CshoLBnTEtwy8aS+VS0gExe0pbXbDb0LXNCVobGv21d6OHjJKsggPAcPUriISz\n",
       "alFgAdGEtOMGFs08Lj6y49Qz6AHL3PefmuRGa8ss3C74CxaBjFvQDy/jCUW1K27oeokr13Nv7VqS\n",
       "tyfYw/LlTTSjZgwyjnmhDx9fzQM1/2Xu/uCjGdld9qErj3uFYqrBQZ2wBnktlq/QPD7dpmTEHgPR\n",
       "JBR1Txc+H4WR1F4KuMlHMLbb9Gr4s/PtucLKlQM204eMcbkqsoPqA/e03T5SBTmv0A8XDqGZTte+\n",
       "iPYwTadmH/vd6q/SFE1UoOUso/fp4fk7SzGaNRj6HiNtpHVLqd0RbxvTJzb8rOCIXpZdz++NOfRQ\n",
       "OgvheJkMLzvJVl2hrGET2yVWfu8waasIiVSpILHmK25n0OmHUqfDC8zPgyh8LhZb+Q2CyI+xqa0s\n",
       "TdoQR3IAk9rNwIAQg0YOCW0QAcPkFun8tZqozZhkxeZtDU3lL1DoW6VXLzsKXUjruYCjw1HTlVN+\n",
       "Cj3qXT/xDelLwMUdT9RlfY8uSKtXgxrk08/jhPboPZlGfOtPvr21a54PjEDpVFYMX3Yhlo5ppIlb\n",
       "QztM/mPeBOSsx5/85+qK3x8waTYh8ekuw0VsfcrLUxKd70W3MnPQgUD75dj/8hQYroItE357sNzg\n",
       "xWiaYn9wYm+lyUYHYL/GvhjyVzFZOV+QPvmILoX4iKqkaFt87crePqSyipAq3yPuKQkTC8IMy2af\n",
       "Ti8XIiDiiBQ36XnhEP9qLLt9dzuLNnchXoUIIHpNmKXYZiLEnfkUQKkfrGtad2XKBjnTRn0+mI3C\n",
       "dpw1OY1JioIgW+8QRn+zDTt6b33uU3xO+O1lfWZO/7ISkGQ+F5Ti+MGIKqJYFTIEt/iTuZyo0HT2\n",
       "FNIBxqBSdIjMHwS+AGnJ8G5sOB8RvdR3j0cQ8X36ARyBhBoxJ9H1rt0He7MbEt/iRz5zwXwAZins\n",
       "hvl7wpw6QTDe6CAFUCZ953oIzxj5BT904oiIKRo74tdk2iOEVVY0AAVwLWWj0SRasZZ438w41pLQ\n",
       "OKLBIw+pCAZnMZgzzYflyVjXa0NI+s5ZJl7Qc8ISK9JuxkMDxxhjWk0zpNyEOsQuWljgmSAca6WJ\n",
       "aycvq/j4WF8tULW3rb9grWFDcEWE7OOsBrm6YRdmQMKKo/ny0EZpXviPQzwBTY55g0qPepovtemu\n",
       "6p8fcp4WHecS0prvjuw2sfFXp7vBS6YtMA+vOsxgXBfX3po7SSqvVjqjg11PSinAFWdl/zLMjio8\n",
       "fNzEDUqFlvGLLUv6hs6l1Igo8oSztk6P4DQASYwGyTehj9lW2Jv/puUGOOf/v+E9rJLpep5xC3UN\n",
       "CI5kbCQ7lG3hKVBd1AB3YHtaRPJIoSECN6XKQT+abUINqTHyoD13OXuC3QyqiBQmo1FlKy6YBeP0\n",
       "zPd4ot1ZglDVOcIYU4Oqkq9X+9vbyedGCXSN+7owAs0gHljrZYucCJv3SK3JMcapjPEZDmMsWLUi\n",
       "vZ4f1pOEZnc8B6W69bJv+joH9K4+LMZQGGUMtDNSyybBywPo+xrqPDUU/4FKF05RnIfF3JpQSVHV\n",
       "k0odgiWiSonxao2PaW6dQxpZ/oy/PJW3vrubkGjTsgDJ+BeGuO2IzXiOa0GbgmOnglmoOP+rjNxd\n",
       "czseNzoG80xZLyBpHc8R4gPcA6wR8IOe83y5qwYM94S3sBnP7TRWhcI4LPlnCONBOy/08Dn+0Zhj\n",
       "u93571IcTVJC5koVDalPS19nJcBYW91KvgHM9HQrve7zN0XFr4P08/xj0Z/kIy/mXHDkNQY1LH74\n",
       "cBseREbMLvy8ylw/huqA+gj7qAHG4ZMsLCy8GZS4Zrmj6q8gjQfEKJh6gwhfblQmwAT+D1Tn/K2/\n",
       "TF6CYhq+sfMqgQXYcz32+xEinQ2T9uPcVG2mYsb8w5oQ37xdoYDNmaKunTFiDJIERvFxoJTIfpm1\n",
       "fgk96Xvf3318wQKR/cXSbtmvgkF+vimXAtoziYl9EToeH+KVW8bxDIhbj3Vj0fSiW3oIzgLgJjBI\n",
       "4u7Uo2yxrN4PTIxREZ3X9tY1Y+/VQY/ZHlg9vEGkW+avwvPQ/166Tx12M4wVuO/eOwiQN46W3gYB\n",
       "0Uzy9ofsaOkZP7eGKCReTSGri5vJsJLlTk/eszfdSFiFwdyGmOwxj4l5VLDqP1UB4FxeBrTUynOJ\n",
       "sCSfMSV6EenUxrgYHtptVSp6erJnME7JbxQLc+YKKVGhqNmtudEfNiQ7+u18oPUKgPd8JK2LQ2tU\n",
       "L+2D8psk3PLbqwa5iKe0aHboaTvQuOLQmDIfSJbH5VfZzJ5i+zURK3k1ZVKt9TtJGhk0rVr7PU7e\n",
       "jgHmNHUqlJveN88cyyC2v9CQkiV3/upMLtlR5/y+nb8VMEGL2B5Y6u9T19r4VPRM2XYBJqRYZlVi\n",
       "iTQECgzcMKC4od2rBlt1cjSQNvhnu5NewT1kzRRWFNy6lm6PV4jD6bkr/zVNLCF8RD4ltTm67RT4\n",
       "hjULn2qBbEovSWGA0hndfah8CqdksZD5FlVrD1qXk1FUWvP7v8G0MdFDXdXDUx6z9BQDAvS9NeKw\n",
       "IBff4rk/3W+Qij/k7g8rZjOx5zYncyzTC0EzYC6CraoezEWvByv0qivp5mN0tu6Hvvus7tKBguW/\n",
       "+6Xf4MlIuftbd89f5swADAd0UzJiQqNtqiDe2EiGQlil4+LxW9KZqs0f5fJtdIVp1BAacAn3UTIb\n",
       "s+fgUH7dT6bjJUdgUHnNcZWev6/9DsDs26Ct0wyR+zVoTkGbhZLpcjwMF6Uuw74eyXf1Brfp0jVp\n",
       "5uOgtnRYe6WjU9JPB/DmgRHrcQ4+cLo4Cr8qNegOxngae0P8i5FNXwYJCnJxtfEhN6NcWwrpBV+A\n",
       "JS1og2kckcMaq8985L1o12iCAl+R6GnbKkBAK5GHFaw/z2ULvYctqeBXbEt8F1UmxUm8sORu/oEo\n",
       "CQXdXYEni/Q3zyRIk94bdHaFPpVKUnqNtqeUXYufBzbVemOfmrr+ApFYwFihqPK6UtDRzFqobB+L\n",
       "KEc3o9R87icAN38kPn0GvVvliF6OmVeE+e26ubMiG9VNE6H73cHucF+Kgw5yKgpo/nwIbewReUyY\n",
       "sx5b07pXfod/oFBgXOF8ACDY/CX0iZ+nA7HNmQWJOoytKBbB1jJ0n1R++mVnJUWaypePSnGWvKRC\n",
       "DFPoGG7djNgxu4s77EImSq5RQ4wn9q6V0hhz2+SAnfX3eBuO7pFNZ1bI3YHtoJlXREGTP3TQ/jjB\n",
       "rWp6o5lej/rB9q8S7FNFiqB97hI4Vz/HysngamH3QO1ibvCynJ2JH5eFRt6zSBn4iZeqRH5NbHep\n",
       "4cNdEZvwBwdBQ+9kTZW8VrTKm6Xs+o+etqJimhK0wa5lRHMU92hIRGO95I4QpcB+ldnLHORWM92H\n",
       "SPtwWdnGiIovau60LhtO1XTFgXTl4cvxAxnMooEiuU4L8/XDL8Xdx2H+PIX4rp+8Zb9u3jf1wY83\n",
       "hvsNhTUtz1L4f2nvpNSNO9Yz71UAZqTre2gjI6qkdcLKjRFrW3dLZKoXuDTkKZdKlg1LbVpVE3fD\n",
       "XlH+YHCLL77UVKbmFFIoR6K36F4khIjs4JY/KLx9IKTcJ0bP9e/oub7C57yNPIBZDP2t8v7gR9iR\n",
       "nW8B9sT8gL8ieXWnGCCAnERyiw88EOMLOxHncQfUg4NXahyzHF+NH37yPYbUtz1L4f2qIg6zK1lk\n",
       "lrtLymRzXMZeNXGA27wscvJhb9gDOepJO034yFOgZ9XddJAg8qH8s/LKzrwixkEOfiBHPmswnklJ\n",
       "b+62xN4TMxofageJ6uqxnHplV+JQ2TxnZQAz/FHbhtZnGQ3enAaaaob7mwQToE0qg0pSl3kkiK68\n",
       "bjbgpWdTJWPkn7cGiB8KiQBatS5m/IZ+G5/BKUDuN9K2YTC/mVwx8DuCgWWcs9hvuteFNdve9t9E\n",
       "IoP8r6UJtNBvy3JqQe1BLn3WVIRURscz0raESywAjGeLpG0nIzBP2SvTcKjaAD/G6ryeF1Enu4vG\n",
       "j6P1qajB38yh1WntAacVY94Kx8tJpzhBL7TBknYKwiO8bp9SioJHeB+Z04f5K74YemqGLjQ38Jbk\n",
       "AVMrvaoVdExOD2b96gwNjqsiqmlvZk3x/A2HDhIQ2KDBcaM2mCyRp3zCfw8tgltZp/OmUQ3+EU1k\n",
       "vu99Q/a+17TWZtsfV1ga3o/uk6egsgvPYUpiLhUL32/b03x4sQWUOY2ABomsxr0RzHt6dGQ8GCNb\n",
       "g0hU9braqdT/DOqFMuxId5XD+hLzuUPXONI5hyvEov3RRRhhOeM4EjoHrqAEwPqCqK0lEyRJ3x+v\n",
       "uGlOAz+knUtY+QR8v9HqQsBtdbbpBaLxhPeo+8ZFfc72HnH8imLYAVdK/aQidI+PCTLyjnx6nSLy\n",
       "871NS50w5rFPA3ShzxVSjH6Iz+XkI2eqCuFGn0iK8lOO+QlIO450FAP+PXqOgKioS9cfF9QIVvSJ\n",
       "rKdCx2qNqdXOvCwpL4XBcIUr3/PTfLszDcUjclwHzG9XzGrSfhyCVvcshEwFpQgDPvbHeztq+Mcg\n",
       "tsT8fKAHhY6E8BXKZzpk3VOA/CWCTVA3LYUtM+bqh6eWXrRXyWesrKT0wFw5FVDtGc6lgOA7t8zZ\n",
       "XKwVSkDFCitwgpFMBf19q3tak0a4HpRE23Tu44UxZM/+IkNxK9RRPuElaoZZ6yXHfNqR5QYLB0no\n",
       "L2XNzDxustLe/MCHTynm5JM6NRZkJlZEsoWe2CE3K7XlI9Ip4Izj4loeumTm3+9gw2lhAGx9g6j0\n",
       "FGSZmMzfsYM0ivqg/7Psnn33vaX5SJBQ4AJpcPeR/LzEhJLs5T93/gUeB/JXKyqWOUD5BFkZSPAu\n",
       "odTfS2Ym/Bkh1HJMN3Q7WQhnRYT0nRNonmCbFatsWqhUvL4FcjX9UgpJ7bolIEC+r1+UCpQgbz8m\n",
       "OdpV5FxpNHnsRvXKbVrr1wMiBXaXC7pFept/H7hsrnyicovSv71UrJZf6FFrN5SWKRt6x7HfTQg4\n",
       "71DQ8y/oZYEWzEIGKwUgIFKwa7M1JVjKvuBV5qsDTuT/+fdhlz+m+dLW0T4S6oKr8L1gCgaZDzmB\n",
       "tu+Ia7NCTRo9cPpu+9Q1jk1d1HsUbyqAp/0XeiolNgaIZj76COJxqsOKIRyiVToN4c4bCHvO6Arx\n",
       "BexLDj0yCQbostmCXwlKJeWp5RfnCvFcWAKmK3l7/zboYa8i/BUVMkiUz/dq8mp9fn5J7aUnJV5+\n",
       "yunw4j5ZvIOtK9HAKgaVExi9mT8TA9xrUTPPbjcSfbhdQ7kDBjqQ6RMTKwgy/zhwTOY9Ul9s3aNF\n",
       "1hJmHVB4rWFtYlylcP2uQ4X5mp88E6a72a4sAZM6Rxw0C1iULQNfWcSm3PbSxjbpf941gP/4///1\n",
       "0k0RDCoR70hctCaW3eZpYx6peqb+4VuLTdP60v8i2aAlybkj2o6LuOPgUT2IXIUgT8t23kSfRghj\n",
       "N+VKAgeydGl/KtJUNTl5/4VMcGlt+xHUn1MJtxNyuOLWSQUa1BOShALUOz42M51iefVNgDAQJzPY\n",
       "XMoglusq95VrVKw+ZndUUztzGpP0RbdPfEH/PSl/hg3T4qDrLPm2H+wiJ28tTJtg15VNma9TiAb0\n",
       "AXiC4nDjj+ShkqGVKIP/vGUX6llQvI/O72FSj7z+orm/v1x7vmha5C/6n5DCkqq1VxD/Fs+rlTfg\n",
       "flCYZ4SteeFPnal4qHWwyfz5y9rFF/h7ZgJuFevjipZRYr4OVS2gqwsEvDNRFhIaoSZYwaCBeCtH\n",
       "MzeRiTI9HgOOoXIq29ymdiU3WM9Rv0nIkWyDH32Bk0Z/4XSC+wozaHZDrf9ATsdLFt/vf8j3zAMg\n",
       "lyCEpZOxx/46y0rWjDTt3w1VwYdsBH/qDyNx8+EK6E5LqCV2i7Y7ZbEojrWGaYB5KPufoiFFjvRB\n",
       "Pu5OpsO17cb5KmT7qEn2DeBuFOV+wX7LTMhUbguj7ggHBbPRK0tqAiLSkv7vcxZX+HW/uAdq60Yf\n",
       "meOvVdadf3sI2RUP0HkGAdgWMNysvcgT+XZcHWm/L+yyyG1l3imY45w7j3xubmXtbcv4ydLHqU1L\n",
       "yIo47KuFVKWZyPV+zc/f7sHmcwrQwVdo6gQqPisy1/udujoxAfUvl4KLiT2Dxea9XkZSxnIfFCA4\n",
       "Im3pHsU3MlEmAEFkrpP7tgX/tzmAb58sHZejbe6GjZzUIJ5KQqG65njqxtcCk2RVlNN0EAcuuEI6\n",
       "FhdcvNt0tiD2iyIo1ZOO5QxxU56k7rFxNPV08S+p/gXC8XKoeFoZcUOsgsGhaSbaPtSO0CkPVpzf\n",
       "84cqDc50AYnQoQBSj4kM+IU1zfh6OnRkPNIzpO2glcGb4U6NpSXcb1RGniDcFowot2PtCwwkn6wV\n",
       "vWR/bOFfRXYMoIA0RNpIPe275VCov8ygkRwaEoNLhsNdVWvQhv6vDt1NeSKRaVGw8vIAMNh7SyyL\n",
       "kBZwPl4lWZYxBx8GpuAu1JxS/49BuCtTyXROsLml7OM7fcCf3ehL/CSXN3lvDf002UJOdILaodAm\n",
       "pHEIQ2xioozSsFIRXq+TZb/ljzdFpzwU5R2GAYqYbste9DHgoaFHpsMefpdos7USi5zlmbyMSZHo\n",
       "8Bx0pAn0Jwhxb69fQx/O89dJ9B5PoQqtJ+u1oEVdBQODigD+2UVDEDHb63+XRrYY0XvDuEawW7Mi\n",
       "UpU0E6zAJsXFd5JaQh2AAzlgJSviu+PO3mfcB7jWq03R4YgH3s5fwarjhaiRUAmHdiY7p/08L9Vi\n",
       "Mdp8s3qL5yhLgEeUVdZGtrJBeCOzM0DGqHyBl14MlgaSq/smydt44s2JaouLGJkRc9NfqZBdtS0F\n",
       "z7DYWNDuRK6gyyJ8IHVnKGNpDx7GbyOnotObDs+zFLWEN8xDPJmo16pTXm8woPWYNnH4xAl1GGgO\n",
       "1VuP2beEnLeqh2YGdVij1fMSFaXwgVZZYOsZQ4SEmuW1lCitJRMkSe9T6h2pYKeAELVyPONahoZE\n",
       "odvC3p0WOAUHwS1VhnOlWIMNNVvHFHxhi5MT2GchyAqb6fWeY7LGQeww5ZQk+xRid6KDd/5evcK1\n",
       "REPkKFdxLR014o8AhU5ZP5/96BEePs2/A7uHd0mw/F2Ezr+DM0qEH0NME79v0CIr501bsJ0VLTNY\n",
       "8dv5nd+5CzuAQfIbVx1535mpDBztTkocp/1evPY6RQhIrbJVk9LxL6npaoli6aDdqcYB/IbBuTCg\n",
       "NylQpevjeGp/Eld329EiHX6SGJHE20NgKuavKooB+5/OSKXMX4ydzoxeItLDqAW2SxXYoo4s7GGU\n",
       "07WpOntKLML3ddYVIyCE0+5pXpOX1WwL2nZj4fOtJcKj/sNoVZpCRyGNO98ephWoCWL44Qj1ii7x\n",
       "ZMJ57D1OkXl531KlG38PRKyz9vV0zWx9KlcZPwm0az8zbQY0v/sW85BQMz0F+XRKDCHL0S+Iw0uv\n",
       "GzPkO4WAlK+LAME5x1AhjkSIqLjR8nf2KClg6AZszGreqaoBMUzWlF3p/nf8eFNemm7uHJlYDqNz\n",
       "4RmGg04B4gW0icMTqnkvtLwZtPUEgOMG/5zcNCt+M46OXPtey8RmZPoY/mN0Tqm8j8wS9JuzUgKw\n",
       "D8k+/7P+km04b8yU9trVBJYPNb2HICpvqLPgONHKubY5fm/VI40pSjguIh1XdkS3Qc1elAV4+rvK\n",
       "gxzWQkjr8li4lhx6LsmUQ7c9tXGdDRyRSzQ7/bgMYAcwTmRy5EY0frx6iU4BSvv/EwS/v75qlhda\n",
       "bpgOnWBphmK2URyOL7Ji2ChBjH5/y+G1XcFUnq/B78B7wyI87UizWad9/u5EovmCZsndsFRuk2+g\n",
       "LdLwO/KinuGlPWS4ynDK09Ix9r6j15JuzWRR+QMgF+HGXxYK67Nqlrl+aUoEvjnxq+uYhBSBQ2WC\n",
       "iw4vPk3pd9Wd6bDaTJEOr1YEmzp0HVVARY8G7EofiTOoWEoiI9SDI/IwXXvQSJqqJYUaNV+daeyQ\n",
       "VIN7pd5zqpDW3bfOL6fGaGrwQELoApbSIGU1KwxJiax2Zxqm1WHT7iZpK1UirbsZHPBZL4Rzyxjh\n",
       "/pUlPskaHYvd8YXL1NrukAyL/ZlADYdAL6wAhwzLQtWCVw+4hUVVvkaFjF873jxk2qRSUK4ivgjR\n",
       "kMA0gvQiK/UuyVHQGjhoPAbqeTyt7Bvc7ZIsoAEIsJb+jJrD82ME0IreM5e7Lwg8rkIR7UXbjJGe\n",
       "Sq85KFEiGOxZcF61eAnIxkxzcYWbnK38Pvqb22omGViJWOxa/f/5pG+LjmmCvajyC4A5aRAf6C/J\n",
       "aSOOfgjVPY/r09AjA6dtQlQYwLym+u9fWGV6YyfjCNcpa8u4MksUqcuC1hj7riiLuos5QAxFEaTc\n",
       "+sMDvUb7pDZDNxSYTaDlJd3P7/dSq5dpjczyXZ4PG9hqnArjbzhQVPBuwDc5y+ZNSHRzoUYV09e3\n",
       "WKSIlPdXrwM1KDNwQXp3DEMoQ86PChlSLbS0xt+PG46H1s6KqTkpk3XIPhxF/ORQMrfnBp9K02gU\n",
       "WXkLL/Poc1re2PCabJW6syeCDYUEw6u2wmNyUiTFARHpTmb1/lCyG1l3pmW6R2/nvUTczFCop2uW\n",
       "UAr6cjqs9wQTBx5W9ot5oXXASqA2xYvzXHYXtLSmdZZcWV+F5m8i3ArVHp4t4Q3mmTYKO3QtGZSr\n",
       "vuyI9mL4kuuTWbbtUzkAddMyTDe042ibLlbddAX6Hoa1oqAUEeKUEZRiQt5IfwHybWoMhQa5ks6b\n",
       "RfRe6z4UksWoHQWk4z3hXB8HFq05ufJ4cRkKdprZEBdwQJXkAM/UjcgdgtWYa7Bc1M/jZ+3ujWmh\n",
       "PXYmdhxx/Ys2UQPk1K+B3yrUpufEcWPnTJ6D+LfBeS4L6VgJAlT2xdcLNlRXGC52Olx115LrNBWf\n",
       "8ByR6kVZ6Y/xyNl5YRPbmQnAzX9D//mdGtBw39ImZbq7aXEP821g41qdLpCMVXZDzhW8XW5kdzrF\n",
       "EWuz05CakalZ69drhZcQugcXUSO4AVQE2xy/N+qRyBLXFyZahjNvaa84wGkUrfCsehaGg2vce9AQ\n",
       "wuB5BPcMJQIGCkEPAIuqpwAAAwBNQQAAMQBBmiRsQX/+2qZYJZvDzQAcOfnlpU5FrB6FvvUXNICb\n",
       "b3OiyXL5ZKRgF59KcFpZpCkJwpzMDg4Z1JFP+Aw71mhAaB5V8yIJ6VUopc235UMy+/fbxJEMwqIO\n",
       "5QghXa3NgDZX9yFZAFGhEoxLV0Cf7qq9H6FgzOs0Vb1jgXqHO/L/jLoTmpKPxsp4GEbs/PnJpRok\n",
       "gxFjhGLo0D2cZekOCDpn4JtNpKCy0dDEoUVkOk+exA4zBEM7LbtcrrB+OeIx78giK9aLL6dW4xqI\n",
       "8qunImnV7TowCI0xxE5atzPMBJGJjmY+vdVaK0i+zD0882QTIWqkTQ2/959fgmnAjLv37WC1nBxo\n",
       "PX4QtmJtgBWDmdzB19THaHTNy/k+kvka6XOvMD0/AFn0mFxLoaEStNbwO8Yk5P2buQvVsqAdqSHQ\n",
       "P5p2/2PdczfwMO0Y7LmUxfnxrFPSVMHPKPpoYfUZPF4zxmG24RW/Uh3g/jVTxa6C7KqK8u79elJE\n",
       "Of9HYDfF+QPtXPF47fgH7jLbnsU97gvfM5SGNtB3pbHr8uKMDrFa8p+fuvCD5EEe4yHIoxc9WXh/\n",
       "phQsyXNVyTL8Ho+s+gAQLkmhSC2Wf3tOKcVPCkYIWfspg6RgY3sx1P87WqgFHiNXTj8T83hW1IS4\n",
       "Th36Mp6ZtIGE1YlgA1qPaQj83wMZnBLYP5rkrAteaygFPWCEDismrFZMt2Q3j+Qg3OfesIK2T94S\n",
       "s7AhCnETnRAeoguHD5xU7NGeni2A5wXGSrbW8AUzZzlIJu/Zia2o5OMIl7tkG1fBiuK36QRdiC78\n",
       "TzUEfMNRlX/Ro3Gy9m5VvKSpfGeL8KvIXCWO0aEGg9XT0mHCr5a6pyJRqrHvoW8H8I8qMmw003g4\n",
       "U6c0TJjMdY19Ch0T9OH6ghfednoee8m20+9ix+NKN4yUWk3COvT4k/KWrwxG97OR2w0EVHvoMaSt\n",
       "JcxSP+Q/3UE23NAwSIIw4Oo8lC/k83qiqXFYthrbDmdA1fqZQMHS/aHAbZHCnA4Moppvrn4v6nkA\n",
       "InrjUQb/swfNmG6kFc8CPiF6LHF08i3o9WLpTJbnU/eubLA3EoH8L+zYw+xAuCz1g6bLPsINpEg8\n",
       "ExuH4d31yue1D28MoUqDcLD0Ywi5QzM4jcPVl7vxnmepgi4QcqYz4G50JS7qfqhYxn4wfTkkRPpJ\n",
       "agkL+nl6d1zmO0XKYDub/npnGVJPPgeze0vToerlNmiTzDugetgmidTE4mHCbtwj5X2naHqOsGcg\n",
       "YdQ9wC+3/fHWS0OSq2Y9C13+yPr/JtK3MGAjlXMYhR7D6GLqjYicL0nzjNOslmf7UxK77aFCqfFW\n",
       "DTMyVT+akjvKJNpLJYgIvvWAReBvHvaOdhLjG9ENmGTT8QTFdsyIXh21IwHZtXNtaihpAZdYFv6W\n",
       "kIeBSK90puAmiPmMhsBF29w53vyW5u6TGIPg/1qmgys3WBsjhxX2wlQVccQrPLGfa++H5Hcue+Sg\n",
       "DB8Iu7lNuo9uZvokG2ClvVCaL3OSXPr+wm3p8P6UlIer9Oo0c7z/20e6H5tqVjXaDosiw0GIWudY\n",
       "ENFNSyLVuJ0sRvltEftLw5golhzwEbhI8JywGLsL7gmLT9P8oQ0ehIDKAW/1azBw4CtnTOZAlRvr\n",
       "SIQaiQWIADMPlmDkzNsi/+2+0c3faFtOY20pA7fcaeheLEo98GwY5LP6Dt3fsaWP6RK5P5KF4JhM\n",
       "+jd00Y6iR69dr+33oaometRLBunaj816tnxm86/ka1TVdhmBK28vDJ9TMCgpJAzC+X39i25VmBUs\n",
       "HyC9HGQCsPAnQ0OC3nVBpXEyLWxwrRSVFLcBSJl658sXiE8XR6HXHXSia5RoQmM+v/RnAg/Fy+a8\n",
       "EB+PV4JKNLcWtB7LlUzoYulPYmoumFGeTOQs5NG/04m1Jsfy0WrA/ftI+pM8cHm/mphI2NK3/2mU\n",
       "qWbLEaMlq/fb5pMe/rqoZW5QSlPVAhQHDhpqjt73GEVzmbUZYq/RDZY9X7nweOkSTKatlZAsy2Q5\n",
       "lzM/HkAnZYOommFbLhEIRQPVzHQgy5RpqjYilTIfqhr40t6XJ9WLqJrYVWf0EskAT0QzSqtfe/RB\n",
       "mOHQ3H/EPWe+fixDZwHC90RJbR0hJIY0jFITAeo2z/Tw8u14tqJ+l3BxPEX0xvjqGaFMOoZfJJOF\n",
       "a9D0hUlQSOi26D1gdDx4pgXmKnQ22L7hHQcsQNS2EPHHSJTk6ecUTY5Huz2dFXoOzYs5BMriLatE\n",
       "pO3G1A1y4xDIhHL6Qzg4CUlbuqAQimW25h3Scqf7ZgwNScpMHNgpXPQn8xRBRi0nFRiyvKiM58c2\n",
       "OzcuhbUTEnsMGjiwaIPEKIjVTxcI4+V63qaX1ITOZfx3rtIzl1BZWbOnqqEaHmA/D5WQLdHf+dNx\n",
       "mSfz5dmvQIrQHxxgh+UgbrLa+/khEqBH5bc8cIPQRQ6/JNC1pO2ZAN3TTeZWKozT+EZCzbPWh1ND\n",
       "LwffM4kRRwe0Q/fVH9y5vD3dJb+j3DwNlha8HIsA805dAV50wga2fWjgNsxOl64t7EhFdgrvyfgF\n",
       "hdVAxqoMmBoiXml9vq3DBNqQY7hd6r+XLzRJDXOWqGooXKRdDuIGnF7dPdaKrb6EHKMB9wjB/5cr\n",
       "zYDNiyn0pmc+biHEUgZnsX9tGoeC9s30XyEPgsZyTvecIh6NbX6ArLkgxP5dKTdHRuhOw/4ol+YY\n",
       "f55sNlQa9DkRs7FqOCIGaec7RpHZVdhQpWMfmZL8IV5i6/ZugKOk3YrjF3x2d/r2wYvEpurrEAai\n",
       "DuPP01M3rJx5i8NKPlhdFnmMPLFT9Uh3kRdtoWK4oy2clA9hfs/rmli5v/fXXxE24muUI0uF8AsK\n",
       "ZipzrxkqaEkddWd7drELCIXmFKtwPqNQ73aMNOV/ynsxMVgYd/gzefhZH3Bh6thvX/O0JFjquWLe\n",
       "sqPG6n75fNuDG/7+kby4zHsw5W/HgNxUBmRIvIrv79hrW4j1GwQWmcU05zdMx7MN6IZxRbrGBRpu\n",
       "4ZHLV/1UmyZjcj2qCUOukcIwiaioH8I4I4v/b8A2uo+8aWKr5Qz5gTyAn663N1eZHVMyz4ciPLcu\n",
       "jO7xGU7NkPkLgRpsJlPEvJuhFgER/vvn5urV975ez+CquvdBM1tIFUsv7KxRd9lHSYnIx8BGQExF\n",
       "tFT6aK4In6jQ4IXAyu8nFHY2jU4QuL3MV5dU4vvIuLshKnzJylp4GzX6a5FxGN/0osj7RoLY18Uj\n",
       "eLOdpfskJbiSwNVTUuQkVSsD4lJ49MX8IRhAPyqUV6+lAw2ioRzvEtfWMrxsLNcKq542yHYVeE/H\n",
       "xgw6HABjJS11e/vJRPUDqwc+3mC0bZ1+7jPLlfyQOu8nm6MZqkjbNJ9utLm0oAd+m06GE4ViED72\n",
       "SjEIEWWCVyzgvRN+A54mIIP5TniXxliGULNJLsdT7LqvlfgOfnMp8hRHKQ4j81pPpYlkobPg5GPp\n",
       "/vTwguPtDJzobhUWrp/zsXJ/Mb1AKhIE1F7jMlfywIRNhmVjwapMKssXYCdekXAAkuytG5PQmsj+\n",
       "Uef7NwnRUT1FrveDrCFK5StgCVX18NoffNtQOHV7gL9OicANHZTtTORyMZ9NVlYVslOMXdI5jVCB\n",
       "88FtzXC7nwQTzopbOS/9LDtB/HHAhsopkoWnW4r3H2eHRruIpEVRL2xJUrnRprASKBcW9GAC9u9E\n",
       "ZfKoJ7Sqim9aL7FXRyMMsWotGZZzQOkwNhC8UIlgJw3Y6FRdYlyHe8ZR/bvgrSl+ZcwS87vq2bAA\n",
       "rliGFUzcGHvgtfvHqOhCIu+j98UyG8/jJ1807S0tT8iALTdvrjgMNoqgN4XV99MUK0QUcZ0oFmvp\n",
       "mqBz68bJ3kvpjUBFF2BaIZ57m18ibREVazshAo5OQGBTQEh7vdSXUp1EWIrj3/iy/2OTrMkUygot\n",
       "O90iRDqswp3FU7AT5nPqNjjAzOb7raiPRvKqFGaoEANvQjZUOa9uv6c3mlM+2UhrRN/lnTFQ6pa9\n",
       "6ZB8zfOTn8VahrpBs8IscqwxvyYDfCnfQbU9bxU7cwehr7oBwwsc76/6/x8uPO+nX6PO2lj5dXyP\n",
       "3LOjq6tvxnzHILz8viDpkr2buwjFHb+6FWpk8gVwd194f9P7i/14VInwXGyrd3YbAIfYShe6+5c3\n",
       "Oa4Mwok7cqpfkvFEHkeH6VusBOgKcs7LKWHdVcZG66iKpiYUu0qTkPIrKvNP6MPcJVowUX6i3dE1\n",
       "ndzjGGzqbP1syTWDL5IvufUkHT0PmjZw+f5C/ws/jYu5cWYFXER9hsT95p1z2CAno3CbxUg8dk9/\n",
       "UyzsBLhqCkPI5ATSK7VJ/s1j5+/v7Ugq2uLkp75IzgzYVqz95yWoZpUYbbZVlXA3hnc+PfHZdLf7\n",
       "2guvNbMNJBoJPfMf0KL+YOl2Ruz/NHEld/AqVqioosyQ7UIdn++1lynNHSroV3/+DwvmSkDCXl3W\n",
       "FNWic6GkvCi+ArJN+KdokViCAUKhoxX7PnoJDoSLgoAcRDbouM26FlQG9sE/3H6JItjM7Fd/mN7l\n",
       "vfbmmpkg2Tpm/bCgJEOvI1dQr2DFyuylIJKe2YeOktlucUqUzEjQ/qXWf6eByLQyWrnjN+nkwlMt\n",
       "TIXrqQunp5yZa/xfuYoJ3AGSKylMIvaWdJnZQ6KO6rEc8FMVQcojO30d+MULnrkf0LUrT6QrCeKg\n",
       "xbs9GZT+5nOZrI2x6h3waPF5QorVlSjMT5F+ON/w0EwrD7opkGcl3sGq2FSTlvNewHfrtuqhmZxW\n",
       "nvdtfwDitsYpBscmDOZZrujOgEYUuU3FBHxVfGIQ1pb40wgCO/9ugyxGeHrG8dkKzSPUDOjESwE4\n",
       "1GJXuTFb5RMfRHhBa7KFFXoThDm6/fQSUf/cRAuBikVDWYCr13g+Yg00nun6QWm+5JxdpdBItMsM\n",
       "zkoreWDdin5PprBZHt6DctgQH21gwam0cpmaJ9LlWqxEpyZcVuEbix8jQB3DnKRrttVvW/XdWmHR\n",
       "FXNHMgFMTHlwD7E9jYNxTN09ar7Eta8Zw9lKXecU4f1P3qohjE5EuXy/dbl3D/3pqdyRKS53HFmj\n",
       "Qc4aL5Zd29lFOpIxBMKWHzqQmaiwXH+dtxcvwfnAGStxj2fTfMdpX9xjEp4BVR+YwAWz/ioh1vmj\n",
       "1I01V8bjb1wD8lQCzK6Uo0mO7F3RhWnYAnJMkjr43b9JCcjxI1rNr9RU4a6BK0LtTMZLyXpYx8Ew\n",
       "ZaqrgaiW4eN8Gu4vOgtqRadEVhPI2vlxWgPQs5WyaqpCkOA4YwQjZl8kqaSHssNXuCE9ostTFHXQ\n",
       "XLyeg5XtMNCJ/7X1ykEke3WQqv/heA+P2nm+X0CHT4DZrQpSHHC2ujR79WXVBR1ZdaFadDdGkUcG\n",
       "rxdpcVeGOjGElVSnEunHqCm4L4Msz4fUgc9/UoDeOKDd+E0c2YnbnCpUD8jr7pvPxVruwTXlYg3j\n",
       "3lRVQ9hqs1LwXkkxM/u1+3jrjur/e1ODr2Mw9aV+Usk3FajOliI54P8kpLs5aoecxEuy6417e+QI\n",
       "JQLyy+XnEpGRQjVCR4Xtrpu4paca2LLzbCuja/+GFrTjbNPMnP/cf0mKBiYvad6MephmzTFwBMCK\n",
       "nIajnxN9YPKkmPsExQeReaRu1KgvgRRJ/JJYFBhJiySFzmhJ5gotZAzWq70Umt5wTfVccuSdKHvb\n",
       "mjVWTTCMarlSbtYlFrzdmi0AWNIwH4BfeCEtJMbheSFPUaMxsEry43BxyNJoyQsHNPBHP776uOHx\n",
       "peCZJujAjtZFbpY0/g6xGZu+39i5l5CZVv+ia5vnNFWS++Btrv9QzuyB2tABBepDBH52OXVI2ab4\n",
       "YRCb5pb2xRI/wARTI1gPqDUhjNe3jSmAT7M886gEMazXXbQRqPCumqLhoHOvHmfahI71iPI8w3PA\n",
       "CNdNoCK600/0Ny7CsBiFdQHeOxeqMrSaxiGkD2cyZCZzIA6ja7Uv3XhYANljPjqCIZQxTgEceVF/\n",
       "7pZxFTgK90n3fXMgAFhIVct6gQ3pUKpZQBW6OlQ8d9ikOyJ/AmliQaIkKl7r/L7ZKeMIZgNCGN2y\n",
       "KIgvr6zKVSlpoDvkL2JAW83LYG9QZmwXwvxd89m7V2nH1MLbkKvGrtjc7ezVdOSnCIxcmrPonpxX\n",
       "HgF/W4AkwE0XrP6DQ7MBybzmEzS+Vx7WRbZvSbXzfLEZ9TVoUXeJWdytxDgI4P0pytVCdSF2xdRm\n",
       "IaXL/d4c4PVV1T7EpBXK8WUB5qRrTtjrQZRQDCt2uv6P+JYS4IPL5aWDBFRr2aMGBt7Mb3mX4PTc\n",
       "D+vLSMo6HHxs048QUfSkZEMzP8gGCj7+OgrS9tLM0FXGftU0MaHA6YdDxE+Qjli2AOq6Q3MVCETT\n",
       "tDpobqq8b5n2vtx2ozUUMD+Fm4PBCMUkwu6rcggNOjCD5sL9VXTzjs9pJmHQ33EYPdppgDfbJ4Xv\n",
       "/h2WxR8j6ddU9St5WUbzIWw1vQS19jRE+L+R4GFHsQDDCpUUuarbpf7TjReD9sPdOfwR6v7m8Qdl\n",
       "tYSsbI3S2q5PJyWpkqhdFfiO1vwMgm05OalldxmzaDek3sFG9JY3bk81HewdoCVH2JIUnHAf8DKf\n",
       "4pQHHIDpK/ayvtpwNtYEgZee67n/5qfGK1yZc3iNTNLUxcF84D2stOFECwh6GWd/zRVk3I/IYonn\n",
       "UOweIPYQ7B9ocrTJkCtq3KnatCNxXwBrzQhJCGP471gnGCdqVv4pV09bJT/EdojsAkmg8Mi8B+Br\n",
       "ElqzxX6ma5RUj4p9B32Zum+S0kZ4WeQOOEtgYUnp+M0PmXeHZza8Q4sfatmtJwhUV0Ahliy+zGPN\n",
       "6pnxuhIBvjXcy59k9OO7L/iTaThiGaOVFDylxImlCo78Xw/pYjDP5a6lcMnbfDC2GohrdSDrM5m4\n",
       "RVgJS4gjowqPLjdpZNQ+NcRzLrg47bDuWRunQPHOEuZcfYWHUS7Qoqv01k51jAj7OV4XDaCYT22U\n",
       "YH/m8DlW/EihR5o7dT48N7PtHtZliUFEYp+myzPCqXj+UpClw8XmlnjK2GnpxrdnGkDy4RBvLiiV\n",
       "zuipvDL+Gb1rfq560yu3MGMnoYmYpn9bDt7POSPU8dlyi81WSNT59UVbiKiNLknNpb13jcn4vxTY\n",
       "vdrWDvy39Lv3+JA99RAZPZCV3NoxLVwzzOrab3EXRe4uvfvX4LP+kPb34qHB5h742Ysj55IInMPp\n",
       "CQQdZy8E8fyalz5oTj9zM3vTrrcGgYvbPECQH2lnQjEYLmWlXUFfQ7lp+Ip/w6HlEgawDItHht4E\n",
       "nxETQA2vBs9l2fTyNip7IwGeHHf9RtJEltnxEbA8hhZ8LZy7lQhLemg0HdUWStCc2+9BmaM5uQ8K\n",
       "IK5nPgLM4sTK/W49rStQYu4GF8HmB5CcGBQPAkfTFLDNgw2bRVhl717NMC9193scqqhhb4/ZaMeo\n",
       "6RdvoYM7jBYSyuwyD2YbPUfnjU2wOIkpEQjTHGsmmd2MrxDibQvNg63/lqG+VJ32acDPJmjEA55B\n",
       "XPEGJ4/7P4NHowdIDs6YQ5I9kKoakw8wkX8ThsjzmnHaGfuuRihk9+C804vvyapNm+dDr2lNp0v7\n",
       "l55T6S5uHaq5kPO3WcKSgMCtLdDlbLY9MB9ijMvGggkRoujo0kl1RyZhBB32nlf2UqrTMvQoxCjr\n",
       "2KZhdnWe/HyOIe2ae/Y+fplO7A0lOxcGQtUnXWQi+Z/RX9EfTSdMn6CIigJPHJoG+yN0kIilg17O\n",
       "wwGERuUnwP+WvbXdO8Q9ad/Y0nl2xkEXUtm6vRNCEC76EkjbNrhVhbGRgMg5Mm3894mqd8E/j/vr\n",
       "tymVL6/fmyO6I5HwhER22LyTV5bvYwtlTsVkYWKXHDbWp45YadzZOENKMmPsZ3xjfP3noi0sZyIP\n",
       "1JOG5DbsFGePOP/OBFg+w6LQQjkrkdiopz3szvmrMI4iTuxs606efcebRxG0wtYAU31XeCQKsoWg\n",
       "uPSL6v33njLZEDk8AWy6ysuxkTrmZlvUcLa4KvOvVeFgPsK0+6qt6DQrgoQtXZA4RS6cguNd5NVR\n",
       "9ebR8c8qmT1Pv0Q2f52xDQWVRJ+xVdoYHPJmCm1i2RTw4aXsjVY3G/HB1cEnmDRwfI0oszTJaKNm\n",
       "MhqHKnr7pCMMXMvIYeW0N7/0blML+Rnh6IXsEg5wE4zwjHzGGo7M8AL9YhTr63x0Sn3O5FHDP+DF\n",
       "G3hTRxh3tYmyVQHxM2QXdZVGWsn8b3PlaxctQkEz1qoiOZuMoTNDbHmHmnhOUlnD+tAGzkb8nT5v\n",
       "JpzV4kuDjLlLW5ekva0xMSggIZ/cROrFIc2xP0Iy/YHsFgdeMq0yAOcCTtgbzbM2e/LSNy8F377F\n",
       "1RJPDrVj4+d0O3TkdFrBI/lONNbzX7M595fje+/AR4RO33JroV/O3rL3L5SfDcMCRx2tKNPQ5voo\n",
       "Ecf59jUGDMUssyWIL0w4W6xmnLQP1lAz9yJh0U+d/FjP4v4ahqNXZ/5hKJMgsDO1x3Nq4ikvJcbX\n",
       "HpzHN+TdNSPpO8lbBkmpR72VaraiZarR0Hkv1lokPp2O0KDI3jbVYy3xIGbI0BudxxvS5zjIBbr0\n",
       "GAeyx1EfDdwJ5e+Z27aJhWAY+HsVO389deu6hHstZF8mHndCzMYymjkDDRE+/yDsjnG9zZCNam6x\n",
       "KIKwQqwFX7Uaz5k++Kpzw6c7c1JjfFhD+pgcQgmON9YQyUWHtTHzulGCJj311uXnG3vb8NEGNKKK\n",
       "OuZ+rWMVUSunU8P3kTeXuwe3TuZPDoC48qV69eZIV5y4yzqkfUGCgWx8XmDuFrMFZ3/0xE/Iftzz\n",
       "zEXCxWWTUCPv3+47bBQDOUklWUuVadGaX92jtX9MlaOeHMgc5gwQ2A5HAB89h502CiGZhOK617lc\n",
       "Nus48Q6XUR+GQgiuZ+YMLPYBvX6RN5dJemzF/sAh2YlfdSmN8cIfH8pebm+hpcL6SCULFn0jxnfu\n",
       "tDCGNjEfVuALHiXsBrlZqhFsziAUNJk2LpbjrtB7OmdYuuOFRoYWIX46sRsSl0gdKkj8jZmu9/5A\n",
       "ZAB/dBZ3DvQVE9AAH6PCJRdF/8LWM9F8p7CmglLc0TUx2LZsavnsxjBcTDnnbZlWiynQVqDI8PoI\n",
       "Fjpi8+f/UmT/0mrbDfBWQ1kk+ic2DVANxfTgFfBInqS5oLgu/mmuf8xc459VxSR9pWTwWV2Jf+Ar\n",
       "bWC6PK9OQvIbbssjAG6Qy60mz7zGjeCK/m4bbqg9WQGQ+IQfAqIYhuyQ5Ioog/0fYPs8070Hw4C3\n",
       "BsqGpiX+Jm4qmQc4JMtuWhZzy6/BSOo86B8lshmHxA2EWsbxfdc0jVZotG0SGJWwGFgydBHe6HnQ\n",
       "TvWMIf66MsciVxp0EQgUErcCBNExU99zP4FS2AFqLSJQ6S4D/99EMm71DxUYnleKnueGEwvOc4e/\n",
       "ncXTmKa5/OV5R+x8pcz4RuUAzTEgnvmb9+DKBgfczIwWrpU1Kqf89VoWtcAMUIP5X4dxjNUnCuu3\n",
       "imD0qo4SpsYG4n2lS7dNyIgvKUj4O8Ncacyxbq/YQPXXe/BOkNNhjtl/cjYuOkdMq18/6xdRyHSO\n",
       "Kzxh7DarL/pydMX32H5795oMT3q91oiXlVxBpoSzb7wTvhJNGWAoxwVaikW/1t2obU/UCE76OQC5\n",
       "VZ7q43qWWiSj7vIk3nmaTk8MbG+9k0BCa5rgCX0FkZo5IKEYe2lUNy9frM5EA5zimeD6ywwEyVoB\n",
       "2k6N50JksDsIVdItsifhySNXzzb4dJ+whlgyfn8cwG7FXeBVJcpQj6B+e8KSkXsTWr2WZBhxd6Dg\n",
       "6WpgkizSaNYTeeECX2W43KTbIa1/5R75AkCHoASv5faZMTkgS3cxPN9UfNvXiQOrYP1Jl//YHb//\n",
       "mAM3rPV7YjOJhjzedbd1F1MAYxiutNO7fRsgodOQsk8mgJgT63fgi29I53HWp+GBvVura42wr2b0\n",
       "4RUSKkZxYA7K7s0BgKkPyIr4YMxa/3VMsCY/wVhIyw3plhXes4ThQck8ZYBiwBnEDfkmC0rhkXNp\n",
       "42AT2hJh6N9tLWcsfVVUZbNjxwQ/I0MBuX4BVi2Q4+V9rr70UsPw9zhKqrRKQ3A7k/LjeiO1Cjrs\n",
       "pLAXD0DgBLH52FjS2u01hikPL2Y88MRpgxKZDMdyiyUiB+6p7mnDajpg/bvSAby+qg3PWZWc+02N\n",
       "149Rcz1nZRtclv1eH7tx2vQ1LgJHIvBVXKMoQcPuZxjb62O31lJQarlRTyvEcxrKQmEWLnhkKlX9\n",
       "29x+WkHIS9WWnHsCdMunzgNjCigB4sZVG3jhC0S2SikztT/HEBq3C+XEvUkii4GOzoRnHefTHqMR\n",
       "w157WEbsUVLdn9muhK1Un2oKbb8VIUaRkCeZ1SVch7GQfhigGZE5CgkvOeg88jaTPTFcfSN/mYQi\n",
       "8ojXwqGAEzw4oqb/YsAj6fuxcX7Dh/mWh9yAmNUWRcoOWP2QFr0nQ86Zk2YL4h0iGrcekWIPlC1d\n",
       "pLNxL5TfbBDazZ0ZR6qrUrPrPm8YqG750yGB6Uj6zt3TZz/RsQXO6KL2iosroqOdZYvzo7spH9me\n",
       "ojrLX/U1/dc4eZL0xJWGGiQLXy4WCtL+Jgoy0V7by8TIcH2I4hy2I5iL3cjLdIH2aBRZVUwo11as\n",
       "BLdMED/k/vwT7E/b5F0K9OXbT11h0NFldXRVx1pQapW4K50kO7h83oL2aa53gjnAoFs9/lx5esl8\n",
       "9URpMnJW1lyikSozvAwHtgsux5KUHAxUODQFnWmFHZdMOoVtdpOkO+OngrcGbFTMPicZvIol7/vz\n",
       "7mNRgrQbTyLVhi7QFSzzUSi+2uBKVQb1ZEXBq6IXeil3xzHR2eDdtB1ZjddtSKii9ZVt7ZUPLkBM\n",
       "KN3peBRTkMVGeYfJhtcuslJLcdexuM7vSTK+4CNe1TLs8mJXZSE+4RbaWv7PmaO2HTovtayVXbKV\n",
       "3oPFjmJHaKFQtXVC4h8G5m7MuQ/r4C8ebOUkGvNEXSWhNxGpyXuXsZc+C5pVIRdQk2AG3YsStPPj\n",
       "PbY7r/APJoXfCOn2wiLrG1VBb43gRjuClVCfXpBujGv4gGKVsLJkr93wZQkhnM4E21jiAkt4SoNk\n",
       "8U/MpXjsQYmiybaB12XD2mt9uX5YlRwumd6dvjHrOUx51TNNrTnMJJWPP2V6qM4vF6/2FAAuF1xD\n",
       "fxK1cJTKwHy1yVC9DFG5+R8Zi/Ym4WuPH9FtzJb553aAoVIc85bgLjq2NcSjkEZAd7DC6TNC7GVL\n",
       "kNr0+7kPx3kodWAmNFyWvGFOuHz9WugXNl20XOZbRgKfxE5BWIL4tok+PzHjs8xseYGa8KYNu1yB\n",
       "VFWRCjJtdWvXV0igmaXV11VRPnbhUPa5dV8Y4JrP65zUIl4UpncRIWi6Phwqkl5i89pn/eaCxtu2\n",
       "o2mnYhlVPlQi0G0qDBDBnhNk/oFBhrnBRv6jrh+rftAPyXEg/uOzCcNL3hy4jLwz7VeFd9BNo597\n",
       "vh0p3GHBrOImYDrqD6ySyVtKV23I0PhKeOcmAhMKlDB9sDyMmE53vWgpvI4cdZ2rmH2JHyxE3O6n\n",
       "1y2XNxg4tSVesVI1srwsaPhvknzOW1VHWK0h5pazpK3rI/gH5NGtiY5f4HfNnlInYW4lmCGfId7q\n",
       "zOLcplIruhglsQ9JDSZleTwmLBDQJvYtd87xhnTVI0qqIckKoels63y34cKxdmQjjNQKsfLoZ167\n",
       "TWId6fzqloofGn10MTYRojLVI3emvhvKTQ8JFxNvTcpEQ4+S8Me2I0bKEM40BA0JxA8qKIdq+X6K\n",
       "wrubRTpN86Stec1oueS2zwP67K9PY8XpEoeaFH5qintLUtyhnMsQbqImiFPf/fF+ZhSLb9/3KIh3\n",
       "WbZR0jCf42BvfiRuzIi1jg0F2z2O9oK1EA95FpRqu47fxv7K5FxcF4bzPT031kDcDoVjzlkYq0Hg\n",
       "Af0SqMJiteTQYed/MOVSNzCdDjSlEPxPqV2QcPoMmC3VXfqBSY/Goi2P3gDTLAoMHAHTv7OB3fYm\n",
       "q60IcFv53UmM6H5oB/45wAzk18lE3zp393qJXU4PX3YkZoviBNdN4AtnBnNcofyjqFgHHlfpLip0\n",
       "nAPDTPFGHHAlKxn/tZlKuDxJ8HoT/ntLbxt0dKqL3riwbKFM/11jcPG9q0Ji6xW3F03oIUT7dA3s\n",
       "0qb1NKiamr3TK7b0NyUzyfkWlK9N45GT9f0N4btNB0JwXPoG+k5f+n5SAwGU54BkiQO98CXnce4g\n",
       "jgxZUf65LOChfsXElUnU4JwY0dfD+x27vxpBAPlTVfSAVMChdeDDjXzHiyEHxb9bSeXkR5/W/F6J\n",
       "3+xhOZwOG45Ro14c/JtYjvcWl4COIHHS8U6Lnqvlhz6A7Kk+TNZw7CFrZIABqOtyim/aIllY9kAZ\n",
       "l1cf1gz5ok5qGyqvj2XxzRmg+XZZ6px/ZLDfCXMZzvZYtj3g5utrIKW/Q+S2rhQ+PdUKdYUuWpZ3\n",
       "K5/cSyMjCW5Zj7b25Li/2cQ/JqZ6Zgm6sLFUkapnsz7aR6Htfbuqhv4AQllqQgUB8LCgM9I477Cy\n",
       "UrfF/DumA0hT83Y7DPisQtmTefB+HELcEC6HVHOEorsV/GxUKFbINlu1UFuL18IfaLzIuuEJr8qr\n",
       "0QWLF0j+nvtgXbR9glsHFm4Jb6NzH2PWvyXL8uiHb6hzMolP+mwfA2C721U8VCVZXqGZlWOdyafW\n",
       "3rxqNoC+p/UXaajN8UQ6LyX4ApT47uAlhKOq+fWOIVPw4+GkWBC/7gnFwkWi9V3yP+jnmLj4C7sG\n",
       "Y2WTBuFrcrj46F18OZCSPcpbfL3WyzNinXIEucECY94YwTEmwZPe6glKdj0cHIleqXKJf2c6XYBG\n",
       "Vgr21mTFaAU3wtZVNmddx3zrG/78utgT+NyslwPsvHLLjFSXI814B81xBj0GclDzOg3oZb0K0DXB\n",
       "nHxkZt1xgAjXdnAiq9aqTfQ6WT/513ih2JUOZ1vvNs1/dnEH8+iZo/Yf5cBa0LrRa+zV8MurMWcR\n",
       "OhIHByYlUqr6EP7jwfBXKH+CrWpq9nkVKiQiB0wyvmYJszeAK9XZ4uLtgsqqx6RNrAerQc//nq/g\n",
       "F9yR5KSvwfW3jeC2KQ9JEisczLFzoc98gTL8cm1NdJ0jpR7cBzfT1o40O2co8DFYYNtH1+LcZDKp\n",
       "RlAwcJZUMh6Dv3pgOJl7mIlXAg1G4TBX9LZh/kK8yjMpzulkOBYDOxRewjs2z4kNt/9/yhCKKaQx\n",
       "HJn39p05Lx7Cne6I1DJXaDLjrlgdu4eDwAjb/TASizl+6suxjP39ghbzehrJG/3DxrTsg64V2vDe\n",
       "03w9gHozvFzxKdqnprnXeQpnhi7chfxTZRrUUU/RyQzXLej9gCD2bQRApE0X03Kc5gUHvnuXHxjb\n",
       "9c/K6y9GmqoAptH4K914/SLMzs1pYaMPwqhHj+itwcmF9DyiGC5MyIvC4s+1+AtmpdMGPzksiX99\n",
       "L8rrDkr6iotYiTuFXN8e145XBYHlufUzuha6+rDRh/KOqBRyuoL7N4N2tCJHsctHso0fWxknxksU\n",
       "Pb+8ltr/BXNXum2IGkAY0riRx/WKW587qPeRi4vtL+y+sNzBHZi+/5WUQE2tdlNBKzmfTTStp/st\n",
       "aP7ia7Qnhf7hSJ04esCSaU+egTRFybYcIxv0Z1rUM9AF9Bfsbv01sRaRfSbGj87GmdVJxdKfV4NU\n",
       "3///kW002FSyvp4Lw7y7M0Veju6w6IbC+3P89kqkqIvaPf0D2B54IF+0fYTTBUWkoHn2woqgp0+4\n",
       "EKSSomYm9LCWhhWk/7uedxKR7CZ0vZJUBsN/ouvTnufiBnMBfBdb61KZ1GeWelWKRNMECrNJaAkr\n",
       "NgjN0y3J8DrBtK500FbgIyFH8VuLaJWbtcHkYKQITQqDHBSgXfPiH9lnuJW9GxkTD7VQytaPI4fI\n",
       "5np22/IBV/zWVQZERXOHfqkUMkQ/Y+34VSG10Wn4CAgS+7wM2P6epH285c9jzrI0Evpp7G83Fcma\n",
       "cOy0Evt3NqhWvvA978ozFpXsjVmSPYjOFHGVaT2V/TqSAa5q/IhVmUlmkZP7cIqq3CKp/acj4D9t\n",
       "lc1H8ycwLLsbaotmhnFNLvHMWKIGltt8Q9CLVo+HOPmNdVZzQ+OgnLMlXuozItf4QOihw7BchWGg\n",
       "X6Ebp9k0fStvqb4PR+IYWs7IThL9Pkmo3DT6NOKFHTeQp4nmqCpsLUpFyf2viH30CdqoTzwu4gkJ\n",
       "lgI0+Fk2gl4BSEstLM8/MwXjRyEKFPoJGHFq7z2uJ/0zmISlJVLQKOlqH+BBDibnvIar/G34LkLj\n",
       "stlQ2zzDwRWqzQxwWceQoeclYc6EVxRJPpSUKOuR3uAO85HjOtrac1H6KvXvyR+/47si12DAdwg/\n",
       "A/+87Agb4v/jRvhOy+cOUEPNASMESurvV1G0L1ET/LBdC0eflqSkboKETD9wx3ib+iRArdltvoER\n",
       "GNDUakkv2Wdj+8NN3hV0hitR56C8kwiWXboYVSJuq7d7WpYwASZQZ0TCFKjK5r2Q+r6KyWuP8Vvz\n",
       "KdSwaxHUC/WqutBSMy3c0a8fxZlSfirXOAxIJnZEsoLzZHYPa8stsNje21fDGlCyKyKtyHVDMU5h\n",
       "QIx9bqY+vOjj0pzM82ziV5e77pi4QfduEccH30iEgnjm7z81dfca2KVCIzytQ7H3GbZZwr6D+V7n\n",
       "lfZ8J9cv26RPIs/vNNRiBiF2mKiU0eXICwMzKDShsiu9wHJEN05ezT85tWpEnOaDXlX/KwZMCxNB\n",
       "sN5anGL4eMtF1VqADPjhQDrPAQCQoZI/MMkq9fzOCoYK094vfFWH8DtUWmbXGMOPgTfz+zkch3vO\n",
       "PTv+guRJOY+HRAOBLGs4b0fHObC6xHQOwAvP1XrvQO3c1CP4COWxj8gQfuZJzcLoQe8IL7VA7OdC\n",
       "GMZFSZBbhjVicq2wyzswiPXIgu+zQ7TyZ2mndrQ59ZT2q1oJJVALlUmrPfiwKl2OheLbwC2IYmbR\n",
       "Mstk5yxNctf1kk+RmizrZYHwEt75GgnVdBSQVY3IgGAgoHUOvAMGS4L0Odb3YOAnJ8hgcMIqUwBj\n",
       "wUL8GM+9zr/2T3VY4eLuZzFndanKuL/pTY0fZ6g9nVV7e0vne4pnTC83/t3D43D+ea6Vz/qWu4do\n",
       "ooaR3ESpguZmezLarHeF8oFsC4s9dI39TvoYDVMrBPBWe26WuI+JCPDRYvYOhBcqrGKue14x/yJX\n",
       "wqo/LsN8SMQrVogP9hjvZQj9MV/LoOMjE9f9c+MxikOI/hUG9owqJufzkrAZDO2+aWmtxhLs7+zc\n",
       "aTtvfYvTuc/2O3T2lAAb8ZAb+e1TXm317W2yirfHpw1CtQi9/iAHIWqDt/uYP5B9hSc56agWq3Md\n",
       "FYS6CttNUUR75Bzw8ikh3VD8rmC0ACfIHH7te1Z5dbhbTx9afRoKedEStXZ8AHpu3TQoGEn+guj5\n",
       "VwD3PW+ZeNe6CbTNZiJmDdYcNio/P7jECxrnbXTgxPYX/6pSm1Q7a9Jv/GJnwlMS0alTflE9G3t0\n",
       "ZuUFyDsBLi5/UoxG19RnNdwLMMwxHSE4X3iF01A8lgFziJLKEe2KrUgvHZwAVgLeWj4tZARPgFxu\n",
       "Ej0OlsRC912v0rEd/eVGNBycDUA1ce5WPhnm+I0l6iGrouSSan7lTDNLCK5fj+Trqe6OYjaK7fIZ\n",
       "sXYPdZ6aXgLrap4yTeDboYHoyWNTpSJIo9IuZYq+U2TCKH8kGctiD4Y9dpf8D1fO/KHGM5inzrqx\n",
       "LRYQgZvHcag0u6NWYA2aGzzo95cBrWBYhCNEkuvlOKTYWHSGnCGGRMBIWAXZfsH/KjCpEsq7C4ZT\n",
       "XarJ6rICnLZge9/4tqfj8Ttr5u0EZvKDNkE0WGgUTDKlem9G//tLlW6IM8+6op69AgmKWTsKPCVw\n",
       "WGjfussqpr4vm506WPGhP+6vpHcA5zXE2UA/AzAZR2kY4t3KUGABSnawQkC4OLmJdK60tR6PP45Z\n",
       "rYPl+Xf8e1b7hm9tnG7qaHk88PmrvKcU8nAW+mAkIj1Jz2BfXP9b9D1cqPAmvv5nrCpiUptlPYG9\n",
       "Kguh0ZDqCtpzZY5otghkYgMnGhkqJtQ/5FXDhUIeoqc847jp0CQTBRhHo3nyww9WerGc4euhHexw\n",
       "EbDgfrslnjXprSXk72czwVTv0sHAwHDtNt4BwULB2oW9BjGH+jrbGRwCUcOTDWq52sOzk19vvNQ3\n",
       "NpEz80/4CXnPZKiHJUjdI3fKyb6PoK4fT8BLS6Znx3zuE3eMUoq6GBc1N1I24idgxVHXgV67PuKx\n",
       "ORQEbSK9u9NUkQZp9UaXlRrcGt+GfiLhdVJXksRn0MAsfoQbd7DzvAKi3+7w2vZAGICobXA3bgLZ\n",
       "rbXM5z+DSPkcw/e89dxTL1glIPVjjQaxAsMCnVqu2x8iaTZhw1m3+mNHiOeFpuwlOJqUIA3Ry3a+\n",
       "7GNndjZmmxuY2xgcE6mD/fZnfVUWPiPREgnu+vnD2hZdiTBs4Ft6mUSrO+RyoXPgoN/vD864L8zA\n",
       "DPLHjA3VD8CJgjm5DGtL2fNUsBX4YhGkh88Dk3L+5/MP/3zg/n2UAp7tvF8O7GRDZYJ0TMEyzfwf\n",
       "LrJM+TgW0IwhHzX5ZbhA46KpTc7VUVljrJwJ/SSQig5UP4dc2IUYP3sDEIQTAq6ezfUge8p5XU5k\n",
       "Nic4OaZmSconCHCCUNUHEUe4Lu9PBBXvr4g7o1jCoEVXLoFiob+5j0dZaDG2ffC1snh/iZgGXgdw\n",
       "ZXgkjNyU5CfaEITWE0Xb9SQ/t3ZBoHedp/IznAG9AAABckGeQniCnwANjaJ5Bp9RwACd1MaipOWs\n",
       "yVILA4jpeXCY37K/388BZIdJB2TxAAZ+kKyaRrMEewIPQbjHyb6nKPOa6nQxHEawqKTZgJ3IR7xN\n",
       "3ZRMDxmLX6KiLs9iYApJlxENxm5fyDyMFldh8jcl+eOQaFS27+TshEHfHBdtSkHQNO5VCRhK5j32\n",
       "tWnuqwEybcWyrLO6epjVusqeqfwnXUTQgvkHApxUIv5QXcX26xQqLHRKoatYeTjQVX6UDC3Xwn/1\n",
       "OvWr2IHyMNVwgISHrERcGGSd0Uu0DL9Cubc9ocBPOW4Kp1zeHBy5hGYzC4SY1NcWoqUNTATMeVJU\n",
       "3eefNjFFbJm7/7ent0B5640i/PIlb0v6fFLkMk9pZOkz/du2k+MrfBaV8OHLqFYUAcBq/lIXvsAp\n",
       "tRMFevjmDPypN4OHThqhLutUhVmR4r4Jm1bBss3lq/MqUNxnZiGvuJOERG5ExWNL2UHNdRNlJ9PH\n",
       "eoOaAgcAAANKAZ5hdEEvACK289PqV3QPUABLuckF7m9fETE+OA80U78uLNTWT6mi49YMAShb+7Js\n",
       "5r+U4CYDlLpvHNBrqo4C7XVQdUMX92yQMmr94ZIZKtRtEZVDHApg7vUsHFnn63JU21UMid7B6zPO\n",
       "iu8jdnsjQ1HlI3/6AGGZ5ggjTB8Wsb+FAVzzdpUXJG95KSnjIk+hVT0IuOXNCwmYgTYCxFkWCxtK\n",
       "xuskPC3djhqfOdnJEyCpD7v6IzOC6PB+KlbCToDuogJU/XWsKv184oTc071RCFHSxq+ssQqjHcIK\n",
       "Uh4KYYcs0cmHEGcGee9u7vwSKpSd9WUv4lIZ/f/sRMjB8Tf0ieih9NTvsxVsZn5kuS6rBHdQ/9a+\n",
       "iJk10/RqNZ8ySU+9Pfnb/8hCYaGqIZ5jsyJSOzb54YLpyffOWwDHSHmM8B6n+SrAHYPLlGQJkTz/\n",
       "Ype8cZC7zl0cMahujZpltXDRDJl0rQ5DolHdV0+o+uBigcvxOAXuNs0bbDix6pTr/kr5vmTnddq6\n",
       "3E1CKJh11SC0VuCGK02k/Ntx0AZBduA4eiKuI1bho/Hf+ea4xCWhHWmbCTGVesHg46TP7waerZQY\n",
       "RGGL1q+oXbYPhFOM/J/PN2y/v1ltK1IoIJvin7pQQPMdwbrKKadw2TciECAbTXk0oJSpJZcrIsnW\n",
       "ZPaWGcU3q26TzEmLCwuimdMdaPa5OKYxKB0ThezFZN22x2rlrstrOGB63BWbA/8YVByw3zLZZwkX\n",
       "gGiXVZyK1A4HpmW34v94fT7Q/GZTjqyY2f+pT/i3/d3PW6G3QBEfRCDCTFGJg7sTJiCltAcembb5\n",
       "+AbZHxLoFS9H6AFDk2MIKvhYHHV6TFIBk5Ns9MpI5eigV/DM7YEkA41dfRYMT2WajxVFe3HRKZC9\n",
       "qgbHGnczb/8BkS9F/ZgBf5EWahBco/YwxDyi9/0/Hb/4JRZ3BEdTtzjB7W1G2suniy3SA78SGtTs\n",
       "R8veci/WxI2DVxledrf+ie95jHXiNW4WDsZDs21TQJmIsxFqKo9jxAbXI5EPdQ5rV5wXz0oHGdHC\n",
       "fl6xQV4a1OpPS/t4giBPHsuZDGX6Cr06MWU6BUaiZi145jjZqj3ptsmmn48OJmSp7ebgCpgAAACI\n",
       "AZ5jakEvABZcRuNv/qAAl3OSDzoEGg5XPg58z8gtkenkHZTNhHBaUCsWCyx9c1++3rWHHv8yJ9OJ\n",
       "iEnx2DgK0fFUt3oZLnSZF9ccAb57ZWZtDysN4H1vYinEgOIutrb3ZOXuTW9F5a6nxsAwOZq8Rm8s\n",
       "zAl9uYc0btt0JpvjGNcCXPqpyEgVMQAAAP5BmmhJqEFomUwILf/+1qVQDIsR+Mtv1AAQ6y0YRv5f\n",
       "yjkpOb8EHBfqnJF3Lkygygshc5MJ9kdaGXwKtM6wKzK3jxzFjMjJZ8vWViUoXUE3/30XIu6ge5iR\n",
       "p9r4EKeZNLKCHB/pBJ7txZu2MUy1JizTS6NBpaSDa0KYMITNNwwxUbUf6YM7RyNL61O0xHsoN2BG\n",
       "NfVPRQ7IXyYDJCW+zIrzIz0ZbVMNZLqL7ukM2wFMcbfCdpkDtajROjNPupYJ07yZkJ0SiDRgAFUE\n",
       "TGDRH/V321u2YjtKtNc+K82UwZ40rk0DwRhkqjSFGtxbFqHLQOVP2XbbBOa4IrGnlR08YQAAAHNB\n",
       "noZFESwU/wAIQwosD+6ABduvnDBQbD0HdFav/FRnOFwtCLH3A/DITZ34OjL6+DhfeV5Uhym9fTu+\n",
       "l2obs+5y/7UeCVP34kAEckWxiaVo8u9f7nkEWl0rj8nEFM/k5LAAB+DlKxMupaIBoA+h9vsm4HdB\n",
       "AAAAhgGepXRBLwAWWXKkE/Bw9QAEqCVaVOwQYagtuz2ogR0RcIQ1IVnsv7wNn2h4BbxTSnYTqrhN\n",
       "FiJjufz0+key4V50phhyWbH2Kg+5sXcBqZ7clSHMs7XiQAaU7XMhQzZp6EaAtSj6nYmGAQxWA1hY\n",
       "WtEg7DtPj0gAAAi5tk9BXXuHEQjYAA2ZAAAAZQGep2pBLwAVn/7cAHyTkhsX1WzN2C4fiDKXvEi2\n",
       "RJEpuJxkSchV6h/oIPNtX6jrckwXXbzdoJcAA/ULC6eiNZpSS5NKSgKTdn6zoAJqXEVqE15z9BG3\n",
       "bpBorwABF9LDODB7QEbAAAAA1kGarEmoQWyZTAgt//7WpVAMntHjkqAAtemz9vbsA8fFdd9G3UIG\n",
       "143W3Ih7YQxxLTJtXTSSfILAp4gTZVebDFAJar81VwrAHS/1x1ag+Svw5pEx6ctqceAZWww/kNyW\n",
       "Ric3p6r/uRH2y0MqxoCAUh7iVPrf6bdoHnpj0c7uvvO/yvDyFJYRYTi7tUTRyU3vVtKIc4gL1O9r\n",
       "qGo/uRn+HtVXCTe0HU7hbvqCdz1/NY6gRifgr9Gij2zWsfBbgDRDaGdPajAATSfWvaPWEhaNJ3rQ\n",
       "O3PPQVMAAABGQZ7KRRUsFP8ACEMKKY//IABEBzkACakovIEe1I1EQb2E63Vf9lgSF+263t4uFIdS\n",
       "PIW3r4AALm7R0pFWAAuX3uvLB4aiLwAAAF4Bnul0QS8AFlwPGgAIVT0xMr+Xrp1w+58h0/svOOMR\n",
       "9i1ieBtu5FChZWZmnM7UWnuOMp7frrCE/WrmeaX3j9vLT8mqCymgA2lt6Q/NivEgAAADAAAEE8cB\n",
       "viQNqy2gAAAAPgGe62pBLwAVZL1w+3AB/W5yQea+4eWmVw8FBGAPqDcGr88Avr+TQQ9ngxRgvgAA\n",
       "AwAAAwAUnZ2try2G9+K2AAAAdEGa8EmoQWyZTAgr//7WpVALYR4h14AS7wd9u+DyptuCfnaYGEcl\n",
       "FlPDe6+h+K5gE/iqHeWYhFX3mR1jk3C0eagVBIF7EmhApesFws8GOtxVFFP9TY2DE4bHcMqeZd79\n",
       "ikAAAAMAAAMBNRa4EL5fIJ05aN4tAAAAbUGfDkUVLBT/AAhnqlAAqVTInFUy7msSjChstdt3z67H\n",
       "1Dk5dwmMAdqtj4IhXXMsQ72LDTmKwZWaahsaBqYoM5ocLEiC9XJmhkUtEIdx8HIZQhHiONa7V0QW\n",
       "TZXwAAC5bM6/AAJYstvAISlZZF0AAABhAZ8tdEEvABZcDcF8pf+oACXcFH7RAXDylgCHosTniUYr\n",
       "tkDCZZmCDEqNC2/EDaD1BCCcq8Fh1Qjv3TLjo/ALBqyNVNTcjx+6yTp4qwKEOZCNx9IAAAMAAAMA\n",
       "LUR6PAAFtQAAAF4Bny9qQS8AFlktUy/f/mwAmnBR+0QFw8vFH3llv+qRBGSyBhLI5iliSuJ0uITu\n",
       "dVG472YUu/QGLLlxkUAeQyuXRglwu40bqj8NHWH/GitJcfSAAAADAAALV0PxgAFtAAAAo0GbNEmo\n",
       "QWyZTAgl//61KoBac4rIACEUJiZg4mlgJxwrCw02X/Bt7FOvD4n2jRqXrbw+LlZFI2Fmv3WQrIgY\n",
       "/6Bc2JuHgnRot7x9gjHsnksWr/vpQNre05bhb3QuZZd0lkrFBnZ6+L8JERFan5Eo5e/ZROSpY/Tc\n",
       "GkHizvkdiumtqHRpOBdaD/8OVY1ZRiZ88ZU36MAAAAMAAAMAAAMBpMGvxagAAABRQZ9SRRUsFP8A\n",
       "CEPuvSbfIABEBzj/+HtgNb2Tix9lwJDOf3on5KB+V+oO5To6jwSiKwZoigw2t0WSq5MNK/LzP7K+\n",
       "AAAXNzmMwAHfCYd4AEbBAAAAVwGfcXRBLwAVn/7cAHyTkg8Q3oPLF3EKSFFhWf482KhkFsKA3EcA\n",
       "+HdnR+iSxzMDkbmkH5q05VN0fN7VVsBbP2w+CJvNeCv4vgAAAwAAAwAUmTFhUABtQAAAAFMBn3Nq\n",
       "QS8AFlxG6X+oACEVuSDz9+zA4Irm5RPHdSaFCT/e6BSguc2dWfFpaAcq8wWuT37JqtRwruNSyaDv\n",
       "Z6q/Z1eZNQAAAwAAAwAD6rrToADKgAAABCttb292AAAAbG12aGQAAAAAAAAAAAAAAAAAAAPoAAAp\n",
       "BAABAAABAAAAAAAAAAAAAAAAAQAAAAAAAAAAAAAAAAAAAAEAAAAAAAAAAAAAAAAAAEAAAAAAAAAA\n",
       "AAAAAAAAAAAAAAAAAAAAAAAAAAAAAAACAAADVXRyYWsAAABcdGtoZAAAAAMAAAAAAAAAAAAAAAEA\n",
       "AAAAAAApBAAAAAAAAAAAAAAAAAAAAAAAAQAAAAAAAAAAAAAAAAAAAAEAAAAAAAAAAAAAAAAAAEAA\n",
       "AAAFEAAAAbAAAAAAACRlZHRzAAAAHGVsc3QAAAAAAAAAAQAAKQQAAEAAAAEAAAAAAs1tZGlhAAAA\n",
       "IG1kaGQAAAAAAAAAAAAAAAAAAEAAAAKgAFXEAAAAAAAtaGRscgAAAAAAAAAAdmlkZQAAAAAAAAAA\n",
       "AAAAAFZpZGVvSGFuZGxlcgAAAAJ4bWluZgAAABR2bWhkAAAAAQAAAAAAAAAAAAAAJGRpbmYAAAAc\n",
       "ZHJlZgAAAAAAAAABAAAADHVybCAAAAABAAACOHN0YmwAAAC0c3RzZAAAAAAAAAABAAAApGF2YzEA\n",
       "AAAAAAAAAQAAAAAAAAAAAAAAAAAAAAAFEAGwAEgAAABIAAAAAAAAAAEAAAAAAAAAAAAAAAAAAAAA\n",
       "AAAAAAAAAAAAAAAAAAAAAAAY//8AAAAyYXZjQwFkAB//4QAZZ2QAH6zZQFEN6EAAAAMAQAAAAwED\n",
       "xgxlgAEABmjr48siwAAAABx1dWlka2hA8l8kT8W6OaUbzwMj8wAAAAAAAAAYc3R0cwAAAAAAAAAB\n",
       "AAAAFQAAIAAAAAAUc3RzcwAAAAAAAAABAAAAAQAAALhjdHRzAAAAAAAAABUAAAABAABAAAAAAAEA\n",
       "AKAAAAAAAQAAQAAAAAABAAAAAAAAAAEAACAAAAAAAQAAoAAAAAABAABAAAAAAAEAAAAAAAAAAQAA\n",
       "IAAAAAABAACgAAAAAAEAAEAAAAAAAQAAAAAAAAABAAAgAAAAAAEAAKAAAAAAAQAAQAAAAAABAAAA\n",
       "AAAAAAEAACAAAAAAAQAAoAAAAAABAABAAAAAAAEAAAAAAAAAAQAAIAAAAAAcc3RzYwAAAAAAAAAB\n",
       "AAAAAQAAABUAAAABAAAAaHN0c3oAAAAAAAAAAAAAABUAAIuFAAAxBAAAAXYAAANOAAAAjAAAAQIA\n",
       "AAB3AAAAigAAAGkAAADaAAAASgAAAGIAAABCAAAAeAAAAHEAAABlAAAAYgAAAKcAAABVAAAAWwAA\n",
       "AFcAAAAUc3RjbwAAAAAAAAABAAAALAAAAGJ1ZHRhAAAAWm1ldGEAAAAAAAAAIWhkbHIAAAAAAAAA\n",
       "AG1kaXJhcHBsAAAAAAAAAAAAAAAALWlsc3QAAAAlqXRvbwAAAB1kYXRhAAAAAQAAAABMYXZmNTcu\n",
       "ODMuMTAw\n",
       "\">\n",
       "  Your browser does not support the video tag.\n",
       "</video>"
      ],
      "text/plain": [
       "<IPython.core.display.HTML object>"
      ]
     },
     "metadata": {},
     "output_type": "display_data"
    },
    {
     "data": {
      "image/png": "[encoded data removed]",
      "text/plain": [
       "<Figure size 432x288 with 2 Axes>"
      ]
     },
     "metadata": {
      "needs_background": "light"
     },
     "output_type": "display_data"
    }
   ],
   "source": [
    "ref_weights_history = []\n",
    "my_weights_history = []\n",
    "ref_means_history = []\n",
    "my_means_history = []\n",
    "plotting_grammar = SpatialSceneGrammar(\n",
    "    root_node_type = Root,\n",
    "    root_node_tf = torch.eye(4)\n",
    ")\n",
    "for k in range(N_steps):\n",
    "    ref_gmm = convert_grammar_to_gmm(gmm_fit_grammars[k])\n",
    "    ref_weights_history.append(ref_gmm.weights_)\n",
    "    ref_means_history.append(ref_gmm.means_)\n",
    "    plotting_grammar.load_state_dict(em_history.grammar_iters[k])\n",
    "    my_gmm = convert_grammar_to_gmm(plotting_grammar)\n",
    "    my_weights_history.append(my_gmm.weights_)\n",
    "    my_means_history.append(my_gmm.means_)\n",
    "    \n",
    "plt.figure()\n",
    "plt.subplot(2, 1, 1)\n",
    "plt.title(\"Ref\")\n",
    "ref_weight_history = np.stack(ref_weights_history)\n",
    "plt.plot(ref_weight_history, label=\"Reference\")\n",
    "plt.subplot(2, 1, 2)\n",
    "plt.title(\"Mine\")\n",
    "my_weight_history = np.stack(my_weights_history)\n",
    "plt.plot(my_weight_history, label=\"Mine\")\n",
    "plt.tight_layout()\n",
    "\n",
    "print(ref_means_history)\n",
    "print(my_means_history)\n",
    "    \n",
    "fig, axs = plt.subplots(2, 3)\n",
    "#fig.set_dpi(100)\n",
    "\n",
    "fig.set_size_inches(18, 6)\n",
    "plt.suptitle(\"MIP-parse + EM fit\")\n",
    "def update(frame):\n",
    "    plotting_grammar.load_state_dict(em_history.grammar_iters[frame])\n",
    "    for ax in axs.flatten():\n",
    "        ax.cla()\n",
    "    make_figure_for_grammar(plotting_grammar, X, axs[0, :])\n",
    "    make_figure_for_grammar(gmm_fit_grammars[frame], X, axs[1, :])\n",
    "    plt.suptitle(\"MIP-parse + EM fit, iter %02d\" % frame)\n",
    "    for ax in axs.flatten():\n",
    "        ax.set_xlim([-10., 10.])\n",
    "        ax.set_ylim([0., 0.7])\n",
    "ani = FuncAnimation(fig, update, frames=range(len(em_history.grammar_iters)), blit=False, interval=500.)\n",
    "video = ani.to_html5_video()\n",
    "html = display.HTML(video)\n",
    "display.display(html)\n",
    "plt.close()              \n"
   ]
  },
  {
   "cell_type": "code",
   "execution_count": 55,
   "metadata": {},
   "outputs": [
    {
     "name": "stdout",
     "output_type": "stream",
     "text": [
      "Starting setup.\n",
      "Activation vars allocated.\n",
      "Feasible\n",
      "Feasible\n",
      "Feasible\n",
      "(b(0) + b(0) + b(0) + b(0))\n",
      "Infeasible\n",
      "Continuous variables and SO(3) constraints allocated for all equivalence sets.\n",
      "Setup time:  0.013907670974731445\n",
      "Num vars:  40\n",
      "Num constraints:  141\n",
      "Optimization success?:  True\n",
      "Logfile: \n",
      "\n",
      "Gurobi 9.0.2 (linux64) logging started Tue Oct 26 01:14:10 2021\n",
      "\n",
      "Gurobi Optimizer version 9.0.2 build v9.0.2rc0 (linux64)\n",
      "Optimize a model with 126 rows, 40 columns and 395 nonzeros\n",
      "Model fingerprint: 0x586948d1\n",
      "Model has 9 quadratic objective terms\n",
      "Variable types: 30 continuous, 10 integer (10 binary)\n",
      "Coefficient statistics:\n",
      "  Matrix range     [1e-01, 5e+01]\n",
      "  Objective range  [1e-01, 2e+01]\n",
      "  QObjective range [1e-01, 1e+06]\n",
      "  Bounds range     [1e+00, 2e+01]\n",
      "  RHS range        [1e+00, 5e+01]\n",
      "Presolve removed 53 rows and 19 columns\n",
      "Presolve time: 0.00s\n",
      "Presolved: 73 rows, 21 columns, 255 nonzeros\n",
      "Variable types: 18 continuous, 3 integer (3 binary)\n",
      "\n",
      "Root relaxation: objective 3.693426e+01, 21 iterations, 0.00 seconds\n",
      "\n",
      "    Nodes    |    Current Node    |     Objective Bounds      |     Work\n",
      " Expl Unexpl |  Obj  Depth IntInf | Incumbent    BestBd   Gap | It/Node Time\n",
      "\n",
      "*    0     0               0      36.9342551   36.93426  0.00%     -    0s\n",
      "\n",
      "Optimal solution found at node 0 - now completing solution pool...\n",
      "\n",
      "    Nodes    |    Current Node    |      Pool Obj. Bounds     |     Work\n",
      "             |                    |   Worst                   |\n",
      " Expl Unexpl |  Obj  Depth IntInf | Incumbent    BestBd   Gap | It/Node Time\n",
      "\n",
      "     0     0          -    0               -   36.93426      -     -    0s\n",
      "     0     0          -    0               -   36.93426      -     -    0s\n",
      "     0     2          -    0               -   36.93426      -     -    0s\n",
      "\n",
      "Explored 5 nodes (39 simplex iterations) in 0.04 seconds\n",
      "Thread count was 12 (of 12 available processors)\n",
      "\n",
      "Solution count 3: 36.9343 141.426 7.3578e+07 \n",
      "No other solutions better than 7.3578e+07\n",
      "\n",
      "Optimal solution found (tolerance 1.00e-03)\n",
      "Best objective 3.693425506105e+01, best bound 3.693425506105e+01, gap 0.0000%\n",
      "\n",
      "Solve time:  0.08177804946899414\n",
      "Total time:  0.09568572044372559\n",
      "tensor([-36.9343]) [<spatial_scene_grammars_examples.gmm.grammar.Root object at 0x7f29a7b91550>, <spatial_scene_grammars_examples.gmm.grammar.GaussianMode_2 object at 0x7f29a7b91668>, <spatial_scene_grammars_examples.gmm.grammar.Point object at 0x7f29a7b98860>]\n",
      "tensor([-141.4257]) [<spatial_scene_grammars_examples.gmm.grammar.Root object at 0x7f29a7b986a0>, <spatial_scene_grammars_examples.gmm.grammar.GaussianMode_1 object at 0x7f29a7b986d8>, <spatial_scene_grammars_examples.gmm.grammar.Point object at 0x7f29a7b985c0>]\n",
      "tensor([-73578007.4199]) [<spatial_scene_grammars_examples.gmm.grammar.Root object at 0x7f2ad16b7ba8>, <spatial_scene_grammars_examples.gmm.grammar.GaussianMode_0 object at 0x7f29c8673c18>, <spatial_scene_grammars_examples.gmm.grammar.Point object at 0x7f2ad16b71d0>]\n"
     ]
    }
   ],
   "source": [
    "inference_results = infer_mle_tree_with_mip(\n",
    "        grammar_fit_grammar, [Point(tf=drake_tf_to_torch_tf(RigidTransform(p=[9., 3., 5.])))], verbose=True,\n",
    "        max_scene_extent_in_any_dir=20,\n",
    "        N_solutions=3\n",
    ")\n",
    "mip_optimized_trees = get_optimized_trees_from_mip_results(inference_results)\n",
    "for k in range(3):\n",
    "    print(mip_optimized_trees[k].score(), mip_optimized_trees[k].nodes)"
   ]
  },
  {
   "cell_type": "code",
   "execution_count": null,
   "metadata": {},
   "outputs": [],
   "source": []
  }
 ],
 "metadata": {
  "kernelspec": {
   "display_name": "py36_pyro",
   "language": "python",
   "name": "py36_pyro"
  },
  "language_info": {
   "codemirror_mode": {
    "name": "ipython",
    "version": 3
   },
   "file_extension": ".py",
   "mimetype": "text/x-python",
   "name": "python",
   "nbconvert_exporter": "python",
   "pygments_lexer": "ipython3",
   "version": "3.6.13"
  }
 },
 "nbformat": 4,
 "nbformat_minor": 4
}
