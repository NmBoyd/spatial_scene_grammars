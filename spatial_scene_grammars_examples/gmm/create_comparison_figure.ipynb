{
 "cells": [
  {
   "cell_type": "code",
   "execution_count": 2,
   "metadata": {},
   "outputs": [],
   "source": [
    "%load_ext autoreload\n",
    "%autoreload 2\n",
    "\n",
    "import matplotlib.pyplot as plt\n",
    "import networkx as nx\n",
    "import numpy as np\n",
    "import sklearn\n",
    "from sklearn.mixture import GaussianMixture\n",
    "import scipy as sp\n",
    "import os\n",
    "import pickle\n",
    "import time\n",
    "from tqdm.notebook import tqdm\n",
    "\n",
    "import torch\n",
    "torch.set_default_tensor_type(torch.DoubleTensor)\n",
    "\n",
    "from spatial_scene_grammars.nodes import *\n",
    "from spatial_scene_grammars.rules import *\n",
    "from spatial_scene_grammars.scene_grammar import *\n",
    "from spatial_scene_grammars.visualization import *\n",
    "from spatial_scene_grammars_examples.gmm.grammar import *\n",
    "from spatial_scene_grammars.parsing import *\n",
    "from spatial_scene_grammars.sampling import *\n",
    "from spatial_scene_grammars.parameter_estimation import *"
   ]
  },
  {
   "cell_type": "code",
   "execution_count": 3,
   "metadata": {},
   "outputs": [],
   "source": [
    "def convert_grammar_to_gmm(grammar):\n",
    "    weights = grammar.params_by_node_type[Root.__name__]().detach().numpy()\n",
    "    means_init = []\n",
    "    vars_init = []\n",
    "    for mode in Modes:\n",
    "        mode_name = mode.__name__\n",
    "        mean = grammar.rule_params_by_node_type[mode_name][0][0][\"mean\"]().detach().numpy()\n",
    "        var = grammar.rule_params_by_node_type[mode_name][0][0][\"variance\"]().detach().numpy()\n",
    "        means_init.append(mean)\n",
    "        vars_init.append(var)\n",
    "    means_init = np.stack(means_init)\n",
    "    vars_init = np.stack(vars_init)\n",
    "    return make_gmm_without_fitting(weights, means_init, vars_init)\n",
    "\n",
    "def make_gmm_without_fitting(weights_init, means_init, vars_init):\n",
    "    gmm = GaussianMixture(\n",
    "        n_components=3,\n",
    "        covariance_type=\"diag\"\n",
    "    )\n",
    "    gmm.weights_ = deepcopy(weights_init)\n",
    "    gmm.means_ = deepcopy(means_init)\n",
    "    gmm.covariances_ = deepcopy(vars_init)\n",
    "    gmm.precisions_ = 1./deepcopy(vars_init)\n",
    "    gmm.precisions_cholesky_ = 1.0 / np.sqrt(vars_init)\n",
    "    gmm.converged_ = True\n",
    "    return gmm\n",
    "\n",
    "def convert_gmm_to_grammar(gmm):\n",
    "    grammar = SpatialSceneGrammar(\n",
    "        root_node_type = Root,\n",
    "        root_node_tf = torch.eye(4),\n",
    "        sample_params_from_prior=True\n",
    "    )\n",
    "    rule_probs_param = grammar.params_by_node_type[Root.__name__]\n",
    "    rule_probs_param.set(torch.tensor(deepcopy(gmm.weights_)))\n",
    "    for k, mode in enumerate(Modes):\n",
    "        mode_name = mode.__name__\n",
    "        mean_param = grammar.rule_params_by_node_type[mode_name][0][0][\"mean\"]\n",
    "        var_param = grammar.rule_params_by_node_type[mode_name][0][0][\"variance\"]\n",
    "        mean_param.set(torch.tensor(deepcopy(gmm.means_[k, :])))\n",
    "        var_param.set(torch.tensor(deepcopy(gmm.covariances_[k, :])))\n",
    "    return grammar\n",
    "\n",
    "\n",
    "def make_random_gmm(seed):\n",
    "    pyro.set_rng_seed(seed)\n",
    "    # Come up with weights / means / variances manually\n",
    "    weights = dist.Dirichlet(torch.ones(3)).sample().detach().numpy()\n",
    "    means = dist.Uniform(torch.ones(3, 3)*-10., torch.ones(3, 3)*10.).sample().detach().numpy()\n",
    "    vars = dist.Uniform(torch.ones(3, 3)*0.5, torch.ones(3, 3)*1.0).sample().detach().square().numpy()\n",
    "    return make_gmm_without_fitting(weights, means, vars)\n",
    "    \n",
    "def make_target_grammar_and_data(seed, N):\n",
    "    gmm = make_random_gmm(seed)\n",
    "    X = gmm.sample(N)[0]\n",
    "    return convert_gmm_to_grammar(gmm), X    \n",
    "    \n",
    "N_EM_ITERS_DEFAULT = 5\n",
    "def do_sklearn_gmm_fit(X, weights_init, means_init, vars_init, n_em_iters=N_EM_ITERS_DEFAULT):\n",
    "    gmm = make_gmm_without_fitting(weights_init, means_init, vars_init)\n",
    "    # Run EM updates myself, copying internal code. I'm having trouble\n",
    "    # forcing it to accept my initialization; I think this line\n",
    "    # https://github.com/scikit-learn/scikit-learn/blob/0d378913be6d7e485b792ea36e9268be31ed52d0/sklearn/mixture/_gaussian_mixture.py#L730\n",
    "    # should initialize to the sqrt instead of the covariance...\n",
    "    for iter_k in range(n_em_iters):\n",
    "        log_prob_norm, log_resp = gmm._e_step(X)\n",
    "        gmm._m_step(X, log_resp)\n",
    "    return convert_gmm_to_grammar(gmm)\n",
    "\n",
    "\n",
    "def do_grammar_gmm_fit(X, weights_init, means_init, vars_init, n_em_iters=N_EM_ITERS_DEFAULT):\n",
    "    # Make fitting grammar\n",
    "    fit_grammar = SpatialSceneGrammar(\n",
    "        root_node_type = Root,\n",
    "        root_node_tf = torch.eye(4),\n",
    "        sample_params_from_prior=True\n",
    "    )\n",
    "    rule_probs_param = fit_grammar.params_by_node_type[Root.__name__]\n",
    "    rule_probs_param.set(torch.tensor(deepcopy(weights_init)))\n",
    "    for k, mode in enumerate(Modes):\n",
    "        mode_name = mode.__name__\n",
    "        mean_param = fit_grammar.rule_params_by_node_type[mode_name][0][0][\"mean\"]\n",
    "        var_param = fit_grammar.rule_params_by_node_type[mode_name][0][0][\"variance\"]\n",
    "        mean_param.set(torch.tensor(deepcopy(means_init[k, :])))\n",
    "        var_param.set(torch.tensor(deepcopy(vars_init[k, :])))\n",
    "    \n",
    "    observed_nodes = []\n",
    "    for x in X:\n",
    "        observed_nodes.append([Point(tf=drake_tf_to_torch_tf(RigidTransform(p=x)))])\n",
    "    # Don't clip weights to keep them finite; in this case we won't be infeasible\n",
    "    # if we do set some weights to zero, and it's a thing that the baseline EM approach\n",
    "    # doesn't do.\n",
    "    em = EMWrapper(fit_grammar, observed_nodes, max_scene_extent_in_any_dir=20)\n",
    "    em.do_iterated_em_fitting(em_iterations=n_em_iters, tqdm=tqdm, N_solutions=3, num_workers=5,\n",
    "                   min_weight=1E-6, weight_by_sample_prob=True)\n",
    "    return fit_grammar, em"
   ]
  },
  {
   "cell_type": "code",
   "execution_count": 4,
   "metadata": {},
   "outputs": [
    {
     "data": {
      "image/png": "[encoded data removed]",
      "text/plain": [
       "<Figure size 432x288 with 3 Axes>"
      ]
     },
     "metadata": {
      "needs_background": "light"
     },
     "output_type": "display_data"
    }
   ],
   "source": [
    "target_grammar, X = make_target_grammar_and_data(11, 1000)\n",
    "\n",
    "\n",
    "def plot_grammar_modes(grammar, axs):\n",
    "    xs = np.linspace(-15, 15, 1000)\n",
    "    for k, label in enumerate(\"xyz\"):\n",
    "        rule_probs_param = grammar.params_by_node_type[Root.__name__]\n",
    "        modes = []\n",
    "        for mode in Modes:\n",
    "            mode_name = mode.__name__\n",
    "            mean_param = grammar.rule_params_by_node_type[mode_name][0][0][\"mean\"]\n",
    "            var_param = grammar.rule_params_by_node_type[mode_name][0][0][\"variance\"]\n",
    "            modes.append((mean_param(), var_param()))\n",
    "\n",
    "        for mode_k, (prob, mode) in enumerate(zip(rule_probs_param().detach().numpy(), modes)):\n",
    "            mode = torch.exp(dist.Normal(mode[0][k], mode[1][k]).log_prob(torch.tensor(xs))).detach().numpy() * prob\n",
    "            axs[k].plot(xs, mode, label=\"Mode %d\" % mode_k)\n",
    "\n",
    "def plot_grammar_samples(grammar, axs, X):\n",
    "    for k, label in enumerate(\"xyz\"):\n",
    "        axs[k].hist(X[:, k], bins=50, alpha=0.5, density=True)\n",
    "        \n",
    "def make_figure_for_grammar(grammar, X, axs):\n",
    "    plot_grammar_modes(grammar, axs)\n",
    "    plot_grammar_samples(grammar, axs, X)\n",
    "\n",
    "fig, axs = plt.subplots(1, 3)\n",
    "make_figure_for_grammar(target_grammar, X, axs)"
   ]
  },
  {
   "cell_type": "code",
   "execution_count": 14,
   "metadata": {},
   "outputs": [
    {
     "name": "stdout",
     "output_type": "stream",
     "text": [
      "Rerunning experiment...\n"
     ]
    },
    {
     "data": {
      "application/vnd.jupyter.widget-view+json": {
       "model_id": "96dbc1d374ba4fe9b2d88531f91ffc5c",
       "version_major": 2,
       "version_minor": 0
      },
      "text/plain": [
       "  0%|          | 0/30 [00:00<?, ?it/s]"
      ]
     },
     "metadata": {},
     "output_type": "display_data"
    },
    {
     "data": {
      "application/vnd.jupyter.widget-view+json": {
       "model_id": "06d4b30426e34327b22f411eb015245a",
       "version_major": 2,
       "version_minor": 0
      },
      "text/plain": [
       "EM Iteration:   0%|          | 0/5 [00:00<?, ?it/s]"
      ]
     },
     "metadata": {},
     "output_type": "display_data"
    },
    {
     "data": {
      "application/vnd.jupyter.widget-view+json": {
       "model_id": "f9ce4719cdb04f0d943154545bf30d8c",
       "version_major": 2,
       "version_minor": 0
      },
      "text/plain": [
       "  0%|          | 0/100 [00:00<?, ?it/s]"
      ]
     },
     "metadata": {},
     "output_type": "display_data"
    },
    {
     "data": {
      "application/vnd.jupyter.widget-view+json": {
       "model_id": "df03b374aca24b47b1ede8c3c60914b0",
       "version_major": 2,
       "version_minor": 0
      },
      "text/plain": [
       "  0%|          | 0/100 [00:00<?, ?it/s]"
      ]
     },
     "metadata": {},
     "output_type": "display_data"
    },
    {
     "data": {
      "application/vnd.jupyter.widget-view+json": {
       "model_id": "26935404be93421fafe5c1a36632e78a",
       "version_major": 2,
       "version_minor": 0
      },
      "text/plain": [
       "  0%|          | 0/100 [00:00<?, ?it/s]"
      ]
     },
     "metadata": {},
     "output_type": "display_data"
    },
    {
     "data": {
      "application/vnd.jupyter.widget-view+json": {
       "model_id": "2a0a9c9b78ee443e9291a689ab49a10f",
       "version_major": 2,
       "version_minor": 0
      },
      "text/plain": [
       "  0%|          | 0/100 [00:00<?, ?it/s]"
      ]
     },
     "metadata": {},
     "output_type": "display_data"
    },
    {
     "data": {
      "application/vnd.jupyter.widget-view+json": {
       "model_id": "d5a3d174f35f4757928aa33d7454f7c2",
       "version_major": 2,
       "version_minor": 0
      },
      "text/plain": [
       "  0%|          | 0/100 [00:00<?, ?it/s]"
      ]
     },
     "metadata": {},
     "output_type": "display_data"
    },
    {
     "data": {
      "application/vnd.jupyter.widget-view+json": {
       "model_id": "5ccab5eb899d4ea38749fcd29a849bde",
       "version_major": 2,
       "version_minor": 0
      },
      "text/plain": [
       "EM Iteration:   0%|          | 0/5 [00:00<?, ?it/s]"
      ]
     },
     "metadata": {},
     "output_type": "display_data"
    },
    {
     "data": {
      "application/vnd.jupyter.widget-view+json": {
       "model_id": "94378b0622bc409dbbd4a73d6e2a873a",
       "version_major": 2,
       "version_minor": 0
      },
      "text/plain": [
       "  0%|          | 0/100 [00:00<?, ?it/s]"
      ]
     },
     "metadata": {},
     "output_type": "display_data"
    },
    {
     "data": {
      "application/vnd.jupyter.widget-view+json": {
       "model_id": "cb14989b41d94c22942176f055757832",
       "version_major": 2,
       "version_minor": 0
      },
      "text/plain": [
       "  0%|          | 0/100 [00:00<?, ?it/s]"
      ]
     },
     "metadata": {},
     "output_type": "display_data"
    },
    {
     "data": {
      "application/vnd.jupyter.widget-view+json": {
       "model_id": "04a542a8f260469fb8ebc1d4d2806a23",
       "version_major": 2,
       "version_minor": 0
      },
      "text/plain": [
       "  0%|          | 0/100 [00:00<?, ?it/s]"
      ]
     },
     "metadata": {},
     "output_type": "display_data"
    },
    {
     "data": {
      "application/vnd.jupyter.widget-view+json": {
       "model_id": "c5dfa78bd5234ef9947f59fd7c62780a",
       "version_major": 2,
       "version_minor": 0
      },
      "text/plain": [
       "  0%|          | 0/100 [00:00<?, ?it/s]"
      ]
     },
     "metadata": {},
     "output_type": "display_data"
    },
    {
     "data": {
      "application/vnd.jupyter.widget-view+json": {
       "model_id": "c9f6a6355c8a43ce863999e69fd512a0",
       "version_major": 2,
       "version_minor": 0
      },
      "text/plain": [
       "  0%|          | 0/100 [00:00<?, ?it/s]"
      ]
     },
     "metadata": {},
     "output_type": "display_data"
    },
    {
     "data": {
      "application/vnd.jupyter.widget-view+json": {
       "model_id": "36dc1d08639c4587b5b67934196040de",
       "version_major": 2,
       "version_minor": 0
      },
      "text/plain": [
       "EM Iteration:   0%|          | 0/5 [00:00<?, ?it/s]"
      ]
     },
     "metadata": {},
     "output_type": "display_data"
    },
    {
     "data": {
      "application/vnd.jupyter.widget-view+json": {
       "model_id": "44741050c94c417aa0bbecf1c7a44285",
       "version_major": 2,
       "version_minor": 0
      },
      "text/plain": [
       "  0%|          | 0/100 [00:00<?, ?it/s]"
      ]
     },
     "metadata": {},
     "output_type": "display_data"
    },
    {
     "data": {
      "application/vnd.jupyter.widget-view+json": {
       "model_id": "27d2e42818624eb592aa5cac156987a2",
       "version_major": 2,
       "version_minor": 0
      },
      "text/plain": [
       "  0%|          | 0/100 [00:00<?, ?it/s]"
      ]
     },
     "metadata": {},
     "output_type": "display_data"
    },
    {
     "data": {
      "application/vnd.jupyter.widget-view+json": {
       "model_id": "8d699dd8aa2b45bfb30392de1ff6ddde",
       "version_major": 2,
       "version_minor": 0
      },
      "text/plain": [
       "  0%|          | 0/100 [00:00<?, ?it/s]"
      ]
     },
     "metadata": {},
     "output_type": "display_data"
    },
    {
     "data": {
      "application/vnd.jupyter.widget-view+json": {
       "model_id": "a7852f609f104d06ae3b36fd7c02efe4",
       "version_major": 2,
       "version_minor": 0
      },
      "text/plain": [
       "  0%|          | 0/100 [00:00<?, ?it/s]"
      ]
     },
     "metadata": {},
     "output_type": "display_data"
    },
    {
     "data": {
      "application/vnd.jupyter.widget-view+json": {
       "model_id": "d36c68e8cdc5471e9aa2c2b2f1877dae",
       "version_major": 2,
       "version_minor": 0
      },
      "text/plain": [
       "  0%|          | 0/100 [00:00<?, ?it/s]"
      ]
     },
     "metadata": {},
     "output_type": "display_data"
    },
    {
     "data": {
      "application/vnd.jupyter.widget-view+json": {
       "model_id": "4ddc741d30f941e1b0383932595d9f52",
       "version_major": 2,
       "version_minor": 0
      },
      "text/plain": [
       "EM Iteration:   0%|          | 0/5 [00:00<?, ?it/s]"
      ]
     },
     "metadata": {},
     "output_type": "display_data"
    },
    {
     "data": {
      "application/vnd.jupyter.widget-view+json": {
       "model_id": "5fad7f8f6aa8455e986747fa4ffb8a25",
       "version_major": 2,
       "version_minor": 0
      },
      "text/plain": [
       "  0%|          | 0/100 [00:00<?, ?it/s]"
      ]
     },
     "metadata": {},
     "output_type": "display_data"
    },
    {
     "data": {
      "application/vnd.jupyter.widget-view+json": {
       "model_id": "74439f45e2df4f92a1fe49b72d28ffc8",
       "version_major": 2,
       "version_minor": 0
      },
      "text/plain": [
       "  0%|          | 0/100 [00:00<?, ?it/s]"
      ]
     },
     "metadata": {},
     "output_type": "display_data"
    },
    {
     "data": {
      "application/vnd.jupyter.widget-view+json": {
       "model_id": "5916121de47a49d2a4cdb5a925ebded4",
       "version_major": 2,
       "version_minor": 0
      },
      "text/plain": [
       "  0%|          | 0/100 [00:00<?, ?it/s]"
      ]
     },
     "metadata": {},
     "output_type": "display_data"
    },
    {
     "data": {
      "application/vnd.jupyter.widget-view+json": {
       "model_id": "0592341d97b14c4db28f8b35e5347bfb",
       "version_major": 2,
       "version_minor": 0
      },
      "text/plain": [
       "  0%|          | 0/100 [00:00<?, ?it/s]"
      ]
     },
     "metadata": {},
     "output_type": "display_data"
    },
    {
     "data": {
      "application/vnd.jupyter.widget-view+json": {
       "model_id": "e70e94d4c4894506b67936280651578b",
       "version_major": 2,
       "version_minor": 0
      },
      "text/plain": [
       "  0%|          | 0/100 [00:00<?, ?it/s]"
      ]
     },
     "metadata": {},
     "output_type": "display_data"
    },
    {
     "data": {
      "application/vnd.jupyter.widget-view+json": {
       "model_id": "e446b064c5464f448eb0681c93ed50f0",
       "version_major": 2,
       "version_minor": 0
      },
      "text/plain": [
       "EM Iteration:   0%|          | 0/5 [00:00<?, ?it/s]"
      ]
     },
     "metadata": {},
     "output_type": "display_data"
    },
    {
     "data": {
      "application/vnd.jupyter.widget-view+json": {
       "model_id": "d980633c1e28440a9c0799297fd735bb",
       "version_major": 2,
       "version_minor": 0
      },
      "text/plain": [
       "  0%|          | 0/100 [00:00<?, ?it/s]"
      ]
     },
     "metadata": {},
     "output_type": "display_data"
    },
    {
     "data": {
      "application/vnd.jupyter.widget-view+json": {
       "model_id": "50bfe0cfefb94ba39562e0fd8df9d1f0",
       "version_major": 2,
       "version_minor": 0
      },
      "text/plain": [
       "  0%|          | 0/100 [00:00<?, ?it/s]"
      ]
     },
     "metadata": {},
     "output_type": "display_data"
    },
    {
     "data": {
      "application/vnd.jupyter.widget-view+json": {
       "model_id": "95b3b1597d5e4d6787e369c3c9e3f86a",
       "version_major": 2,
       "version_minor": 0
      },
      "text/plain": [
       "  0%|          | 0/100 [00:00<?, ?it/s]"
      ]
     },
     "metadata": {},
     "output_type": "display_data"
    },
    {
     "data": {
      "application/vnd.jupyter.widget-view+json": {
       "model_id": "f541cdf5a7ec4775a0a94ce9fa1d2134",
       "version_major": 2,
       "version_minor": 0
      },
      "text/plain": [
       "  0%|          | 0/100 [00:00<?, ?it/s]"
      ]
     },
     "metadata": {},
     "output_type": "display_data"
    },
    {
     "data": {
      "application/vnd.jupyter.widget-view+json": {
       "model_id": "5d9234004b7a4da7bdc20b3efeb217c5",
       "version_major": 2,
       "version_minor": 0
      },
      "text/plain": [
       "  0%|          | 0/100 [00:00<?, ?it/s]"
      ]
     },
     "metadata": {},
     "output_type": "display_data"
    },
    {
     "data": {
      "application/vnd.jupyter.widget-view+json": {
       "model_id": "a8907e25fc404670bf643de7075a2b58",
       "version_major": 2,
       "version_minor": 0
      },
      "text/plain": [
       "EM Iteration:   0%|          | 0/5 [00:00<?, ?it/s]"
      ]
     },
     "metadata": {},
     "output_type": "display_data"
    },
    {
     "data": {
      "application/vnd.jupyter.widget-view+json": {
       "model_id": "8c7a15cc9b56495bb9a2cd03dbdb401b",
       "version_major": 2,
       "version_minor": 0
      },
      "text/plain": [
       "  0%|          | 0/100 [00:00<?, ?it/s]"
      ]
     },
     "metadata": {},
     "output_type": "display_data"
    },
    {
     "data": {
      "application/vnd.jupyter.widget-view+json": {
       "model_id": "a0ec7a0eca6648e19b1401d26c5454f5",
       "version_major": 2,
       "version_minor": 0
      },
      "text/plain": [
       "  0%|          | 0/100 [00:00<?, ?it/s]"
      ]
     },
     "metadata": {},
     "output_type": "display_data"
    },
    {
     "data": {
      "application/vnd.jupyter.widget-view+json": {
       "model_id": "105563772387410182f937e32290e63c",
       "version_major": 2,
       "version_minor": 0
      },
      "text/plain": [
       "  0%|          | 0/100 [00:00<?, ?it/s]"
      ]
     },
     "metadata": {},
     "output_type": "display_data"
    },
    {
     "data": {
      "application/vnd.jupyter.widget-view+json": {
       "model_id": "68b75b29173d4a82bedd98044e8febfb",
       "version_major": 2,
       "version_minor": 0
      },
      "text/plain": [
       "  0%|          | 0/100 [00:00<?, ?it/s]"
      ]
     },
     "metadata": {},
     "output_type": "display_data"
    },
    {
     "data": {
      "application/vnd.jupyter.widget-view+json": {
       "model_id": "e28999900ee6400da94dd7dd47b9a7a6",
       "version_major": 2,
       "version_minor": 0
      },
      "text/plain": [
       "  0%|          | 0/100 [00:00<?, ?it/s]"
      ]
     },
     "metadata": {},
     "output_type": "display_data"
    },
    {
     "data": {
      "application/vnd.jupyter.widget-view+json": {
       "model_id": "16f1a581e286432ea25d4afee7239356",
       "version_major": 2,
       "version_minor": 0
      },
      "text/plain": [
       "EM Iteration:   0%|          | 0/5 [00:00<?, ?it/s]"
      ]
     },
     "metadata": {},
     "output_type": "display_data"
    },
    {
     "data": {
      "application/vnd.jupyter.widget-view+json": {
       "model_id": "81478051ea2c4cc2aa8ae03ab5047a91",
       "version_major": 2,
       "version_minor": 0
      },
      "text/plain": [
       "  0%|          | 0/100 [00:00<?, ?it/s]"
      ]
     },
     "metadata": {},
     "output_type": "display_data"
    },
    {
     "data": {
      "application/vnd.jupyter.widget-view+json": {
       "model_id": "c5c2a4ef634746aeaab8ed2e3725da1a",
       "version_major": 2,
       "version_minor": 0
      },
      "text/plain": [
       "  0%|          | 0/100 [00:00<?, ?it/s]"
      ]
     },
     "metadata": {},
     "output_type": "display_data"
    },
    {
     "data": {
      "application/vnd.jupyter.widget-view+json": {
       "model_id": "4978c1bd5ea7414ab4349f052fa21e72",
       "version_major": 2,
       "version_minor": 0
      },
      "text/plain": [
       "  0%|          | 0/100 [00:00<?, ?it/s]"
      ]
     },
     "metadata": {},
     "output_type": "display_data"
    },
    {
     "data": {
      "application/vnd.jupyter.widget-view+json": {
       "model_id": "c787a7f3703c4968bc30ede7b2298907",
       "version_major": 2,
       "version_minor": 0
      },
      "text/plain": [
       "  0%|          | 0/100 [00:00<?, ?it/s]"
      ]
     },
     "metadata": {},
     "output_type": "display_data"
    },
    {
     "data": {
      "application/vnd.jupyter.widget-view+json": {
       "model_id": "e08c590229ee421b8cf27a605004b922",
       "version_major": 2,
       "version_minor": 0
      },
      "text/plain": [
       "  0%|          | 0/100 [00:00<?, ?it/s]"
      ]
     },
     "metadata": {},
     "output_type": "display_data"
    },
    {
     "data": {
      "application/vnd.jupyter.widget-view+json": {
       "model_id": "1157ab3983804888b0dc265c53486c47",
       "version_major": 2,
       "version_minor": 0
      },
      "text/plain": [
       "EM Iteration:   0%|          | 0/5 [00:00<?, ?it/s]"
      ]
     },
     "metadata": {},
     "output_type": "display_data"
    },
    {
     "data": {
      "application/vnd.jupyter.widget-view+json": {
       "model_id": "6214deb7f37442da9dd9c40443a4d6c7",
       "version_major": 2,
       "version_minor": 0
      },
      "text/plain": [
       "  0%|          | 0/100 [00:00<?, ?it/s]"
      ]
     },
     "metadata": {},
     "output_type": "display_data"
    },
    {
     "data": {
      "application/vnd.jupyter.widget-view+json": {
       "model_id": "d2355f7811af43778a4d538cb91a4b02",
       "version_major": 2,
       "version_minor": 0
      },
      "text/plain": [
       "  0%|          | 0/100 [00:00<?, ?it/s]"
      ]
     },
     "metadata": {},
     "output_type": "display_data"
    },
    {
     "data": {
      "application/vnd.jupyter.widget-view+json": {
       "model_id": "5acfd0c7b79c43cb8320d5cecddf53e9",
       "version_major": 2,
       "version_minor": 0
      },
      "text/plain": [
       "  0%|          | 0/100 [00:00<?, ?it/s]"
      ]
     },
     "metadata": {},
     "output_type": "display_data"
    },
    {
     "data": {
      "application/vnd.jupyter.widget-view+json": {
       "model_id": "48ff26f6dd96494eadb6e5d57289e0c3",
       "version_major": 2,
       "version_minor": 0
      },
      "text/plain": [
       "  0%|          | 0/100 [00:00<?, ?it/s]"
      ]
     },
     "metadata": {},
     "output_type": "display_data"
    },
    {
     "data": {
      "application/vnd.jupyter.widget-view+json": {
       "model_id": "01adc1d118f240daba6480f1bb6d11f4",
       "version_major": 2,
       "version_minor": 0
      },
      "text/plain": [
       "  0%|          | 0/100 [00:00<?, ?it/s]"
      ]
     },
     "metadata": {},
     "output_type": "display_data"
    },
    {
     "data": {
      "application/vnd.jupyter.widget-view+json": {
       "model_id": "eb18c21d6c5a4e969c6524270973b49d",
       "version_major": 2,
       "version_minor": 0
      },
      "text/plain": [
       "EM Iteration:   0%|          | 0/5 [00:00<?, ?it/s]"
      ]
     },
     "metadata": {},
     "output_type": "display_data"
    },
    {
     "data": {
      "application/vnd.jupyter.widget-view+json": {
       "model_id": "7a6e4d9bbd21414b9088744fc0115fd5",
       "version_major": 2,
       "version_minor": 0
      },
      "text/plain": [
       "  0%|          | 0/100 [00:00<?, ?it/s]"
      ]
     },
     "metadata": {},
     "output_type": "display_data"
    },
    {
     "data": {
      "application/vnd.jupyter.widget-view+json": {
       "model_id": "98467ad10f74421ea9c4604928593cb1",
       "version_major": 2,
       "version_minor": 0
      },
      "text/plain": [
       "  0%|          | 0/100 [00:00<?, ?it/s]"
      ]
     },
     "metadata": {},
     "output_type": "display_data"
    },
    {
     "data": {
      "application/vnd.jupyter.widget-view+json": {
       "model_id": "891aa7ddf3d84c9eaa609f301eef5687",
       "version_major": 2,
       "version_minor": 0
      },
      "text/plain": [
       "  0%|          | 0/100 [00:00<?, ?it/s]"
      ]
     },
     "metadata": {},
     "output_type": "display_data"
    },
    {
     "data": {
      "application/vnd.jupyter.widget-view+json": {
       "model_id": "2133c72220554d7ebb36f4f3e4d4ada7",
       "version_major": 2,
       "version_minor": 0
      },
      "text/plain": [
       "  0%|          | 0/100 [00:00<?, ?it/s]"
      ]
     },
     "metadata": {},
     "output_type": "display_data"
    },
    {
     "data": {
      "application/vnd.jupyter.widget-view+json": {
       "model_id": "c5070f7ddca7437983d0f1640c569b51",
       "version_major": 2,
       "version_minor": 0
      },
      "text/plain": [
       "  0%|          | 0/100 [00:00<?, ?it/s]"
      ]
     },
     "metadata": {},
     "output_type": "display_data"
    },
    {
     "data": {
      "application/vnd.jupyter.widget-view+json": {
       "model_id": "8c21df1fdb6943de9e1ec16716d289b5",
       "version_major": 2,
       "version_minor": 0
      },
      "text/plain": [
       "EM Iteration:   0%|          | 0/5 [00:00<?, ?it/s]"
      ]
     },
     "metadata": {},
     "output_type": "display_data"
    },
    {
     "data": {
      "application/vnd.jupyter.widget-view+json": {
       "model_id": "215e7df1c1e547f09867dfbc2fb6093a",
       "version_major": 2,
       "version_minor": 0
      },
      "text/plain": [
       "  0%|          | 0/100 [00:00<?, ?it/s]"
      ]
     },
     "metadata": {},
     "output_type": "display_data"
    },
    {
     "data": {
      "application/vnd.jupyter.widget-view+json": {
       "model_id": "52d94eeb7f134579b7ee77f41412d726",
       "version_major": 2,
       "version_minor": 0
      },
      "text/plain": [
       "  0%|          | 0/100 [00:00<?, ?it/s]"
      ]
     },
     "metadata": {},
     "output_type": "display_data"
    },
    {
     "data": {
      "application/vnd.jupyter.widget-view+json": {
       "model_id": "e15aa6714d4a4d1cbd72f58932932c52",
       "version_major": 2,
       "version_minor": 0
      },
      "text/plain": [
       "  0%|          | 0/100 [00:00<?, ?it/s]"
      ]
     },
     "metadata": {},
     "output_type": "display_data"
    },
    {
     "data": {
      "application/vnd.jupyter.widget-view+json": {
       "model_id": "8b45e64b5b404da6b256304f67a8d212",
       "version_major": 2,
       "version_minor": 0
      },
      "text/plain": [
       "  0%|          | 0/100 [00:00<?, ?it/s]"
      ]
     },
     "metadata": {},
     "output_type": "display_data"
    },
    {
     "data": {
      "application/vnd.jupyter.widget-view+json": {
       "model_id": "309c458b4cdd47dc9eecf4b9edc85d16",
       "version_major": 2,
       "version_minor": 0
      },
      "text/plain": [
       "  0%|          | 0/100 [00:00<?, ?it/s]"
      ]
     },
     "metadata": {},
     "output_type": "display_data"
    },
    {
     "data": {
      "application/vnd.jupyter.widget-view+json": {
       "model_id": "c0f8e948804c4e79af1e1ac82121630d",
       "version_major": 2,
       "version_minor": 0
      },
      "text/plain": [
       "EM Iteration:   0%|          | 0/5 [00:00<?, ?it/s]"
      ]
     },
     "metadata": {},
     "output_type": "display_data"
    },
    {
     "data": {
      "application/vnd.jupyter.widget-view+json": {
       "model_id": "c5b651cfce6d4d08a07b2c1ccbe40870",
       "version_major": 2,
       "version_minor": 0
      },
      "text/plain": [
       "  0%|          | 0/100 [00:00<?, ?it/s]"
      ]
     },
     "metadata": {},
     "output_type": "display_data"
    },
    {
     "data": {
      "application/vnd.jupyter.widget-view+json": {
       "model_id": "a3682fcc30164035bef2e46eca7a3f91",
       "version_major": 2,
       "version_minor": 0
      },
      "text/plain": [
       "  0%|          | 0/100 [00:00<?, ?it/s]"
      ]
     },
     "metadata": {},
     "output_type": "display_data"
    },
    {
     "data": {
      "application/vnd.jupyter.widget-view+json": {
       "model_id": "8d009e05c316472d877010c9371fca75",
       "version_major": 2,
       "version_minor": 0
      },
      "text/plain": [
       "  0%|          | 0/100 [00:00<?, ?it/s]"
      ]
     },
     "metadata": {},
     "output_type": "display_data"
    },
    {
     "data": {
      "application/vnd.jupyter.widget-view+json": {
       "model_id": "19f0da7725f4474eb3420e739b3fbe33",
       "version_major": 2,
       "version_minor": 0
      },
      "text/plain": [
       "  0%|          | 0/100 [00:00<?, ?it/s]"
      ]
     },
     "metadata": {},
     "output_type": "display_data"
    },
    {
     "data": {
      "application/vnd.jupyter.widget-view+json": {
       "model_id": "f0ccdd87f1414ef5808656669ba0be4a",
       "version_major": 2,
       "version_minor": 0
      },
      "text/plain": [
       "  0%|          | 0/100 [00:00<?, ?it/s]"
      ]
     },
     "metadata": {},
     "output_type": "display_data"
    },
    {
     "data": {
      "application/vnd.jupyter.widget-view+json": {
       "model_id": "09fbe32037ba438889950a2ac28ca289",
       "version_major": 2,
       "version_minor": 0
      },
      "text/plain": [
       "EM Iteration:   0%|          | 0/5 [00:00<?, ?it/s]"
      ]
     },
     "metadata": {},
     "output_type": "display_data"
    },
    {
     "data": {
      "application/vnd.jupyter.widget-view+json": {
       "model_id": "89204c53aff443e9af7ba6b1a083b90c",
       "version_major": 2,
       "version_minor": 0
      },
      "text/plain": [
       "  0%|          | 0/100 [00:00<?, ?it/s]"
      ]
     },
     "metadata": {},
     "output_type": "display_data"
    },
    {
     "data": {
      "application/vnd.jupyter.widget-view+json": {
       "model_id": "7d41e3ad96cc436d96b4a7f8fee96bf5",
       "version_major": 2,
       "version_minor": 0
      },
      "text/plain": [
       "  0%|          | 0/100 [00:00<?, ?it/s]"
      ]
     },
     "metadata": {},
     "output_type": "display_data"
    },
    {
     "data": {
      "application/vnd.jupyter.widget-view+json": {
       "model_id": "023857e66f114a7896a4ab25a9b71218",
       "version_major": 2,
       "version_minor": 0
      },
      "text/plain": [
       "  0%|          | 0/100 [00:00<?, ?it/s]"
      ]
     },
     "metadata": {},
     "output_type": "display_data"
    },
    {
     "data": {
      "application/vnd.jupyter.widget-view+json": {
       "model_id": "6d0dbc7c6eb1419e9e3fdf6ec6712498",
       "version_major": 2,
       "version_minor": 0
      },
      "text/plain": [
       "  0%|          | 0/100 [00:00<?, ?it/s]"
      ]
     },
     "metadata": {},
     "output_type": "display_data"
    },
    {
     "data": {
      "application/vnd.jupyter.widget-view+json": {
       "model_id": "2fdd3aecfb504a02a2d62211332323ed",
       "version_major": 2,
       "version_minor": 0
      },
      "text/plain": [
       "  0%|          | 0/100 [00:00<?, ?it/s]"
      ]
     },
     "metadata": {},
     "output_type": "display_data"
    },
    {
     "data": {
      "application/vnd.jupyter.widget-view+json": {
       "model_id": "1e3e71e6c1f9465b906b8fad4ff32665",
       "version_major": 2,
       "version_minor": 0
      },
      "text/plain": [
       "EM Iteration:   0%|          | 0/5 [00:00<?, ?it/s]"
      ]
     },
     "metadata": {},
     "output_type": "display_data"
    },
    {
     "data": {
      "application/vnd.jupyter.widget-view+json": {
       "model_id": "7be6256957e74b668f01809fe7b98911",
       "version_major": 2,
       "version_minor": 0
      },
      "text/plain": [
       "  0%|          | 0/100 [00:00<?, ?it/s]"
      ]
     },
     "metadata": {},
     "output_type": "display_data"
    },
    {
     "data": {
      "application/vnd.jupyter.widget-view+json": {
       "model_id": "d59b21621c194037b571a245bb2f7c22",
       "version_major": 2,
       "version_minor": 0
      },
      "text/plain": [
       "  0%|          | 0/100 [00:00<?, ?it/s]"
      ]
     },
     "metadata": {},
     "output_type": "display_data"
    },
    {
     "data": {
      "application/vnd.jupyter.widget-view+json": {
       "model_id": "419cf4da94f44a0e9a4ff58e634d347a",
       "version_major": 2,
       "version_minor": 0
      },
      "text/plain": [
       "  0%|          | 0/100 [00:00<?, ?it/s]"
      ]
     },
     "metadata": {},
     "output_type": "display_data"
    },
    {
     "data": {
      "application/vnd.jupyter.widget-view+json": {
       "model_id": "0b6e95a162e74016831eab16e048a12e",
       "version_major": 2,
       "version_minor": 0
      },
      "text/plain": [
       "  0%|          | 0/100 [00:00<?, ?it/s]"
      ]
     },
     "metadata": {},
     "output_type": "display_data"
    },
    {
     "data": {
      "application/vnd.jupyter.widget-view+json": {
       "model_id": "5b072db0300c4bbb8554ad464a9760af",
       "version_major": 2,
       "version_minor": 0
      },
      "text/plain": [
       "  0%|          | 0/100 [00:00<?, ?it/s]"
      ]
     },
     "metadata": {},
     "output_type": "display_data"
    },
    {
     "data": {
      "application/vnd.jupyter.widget-view+json": {
       "model_id": "6ac6bd4dc83947bc8a5dab383e390625",
       "version_major": 2,
       "version_minor": 0
      },
      "text/plain": [
       "EM Iteration:   0%|          | 0/5 [00:00<?, ?it/s]"
      ]
     },
     "metadata": {},
     "output_type": "display_data"
    },
    {
     "data": {
      "application/vnd.jupyter.widget-view+json": {
       "model_id": "f5c03a196c4c48cdaa421a6600e56b5f",
       "version_major": 2,
       "version_minor": 0
      },
      "text/plain": [
       "  0%|          | 0/100 [00:00<?, ?it/s]"
      ]
     },
     "metadata": {},
     "output_type": "display_data"
    },
    {
     "data": {
      "application/vnd.jupyter.widget-view+json": {
       "model_id": "07f76208cbe4470b8ec6700695543b6f",
       "version_major": 2,
       "version_minor": 0
      },
      "text/plain": [
       "  0%|          | 0/100 [00:00<?, ?it/s]"
      ]
     },
     "metadata": {},
     "output_type": "display_data"
    },
    {
     "data": {
      "application/vnd.jupyter.widget-view+json": {
       "model_id": "9e5645c23221426995cda6eb2cce80eb",
       "version_major": 2,
       "version_minor": 0
      },
      "text/plain": [
       "  0%|          | 0/100 [00:00<?, ?it/s]"
      ]
     },
     "metadata": {},
     "output_type": "display_data"
    },
    {
     "data": {
      "application/vnd.jupyter.widget-view+json": {
       "model_id": "bdf19cc606a7449b958a1f2ac6c4f4de",
       "version_major": 2,
       "version_minor": 0
      },
      "text/plain": [
       "  0%|          | 0/100 [00:00<?, ?it/s]"
      ]
     },
     "metadata": {},
     "output_type": "display_data"
    },
    {
     "data": {
      "application/vnd.jupyter.widget-view+json": {
       "model_id": "88d43477933d40c2afbd43c340dfda38",
       "version_major": 2,
       "version_minor": 0
      },
      "text/plain": [
       "  0%|          | 0/100 [00:00<?, ?it/s]"
      ]
     },
     "metadata": {},
     "output_type": "display_data"
    },
    {
     "data": {
      "application/vnd.jupyter.widget-view+json": {
       "model_id": "279b8d8e7fce4a3a81c667941864382e",
       "version_major": 2,
       "version_minor": 0
      },
      "text/plain": [
       "EM Iteration:   0%|          | 0/5 [00:00<?, ?it/s]"
      ]
     },
     "metadata": {},
     "output_type": "display_data"
    },
    {
     "data": {
      "application/vnd.jupyter.widget-view+json": {
       "model_id": "9a065dad3ec64ee39401ac5a60b58361",
       "version_major": 2,
       "version_minor": 0
      },
      "text/plain": [
       "  0%|          | 0/100 [00:00<?, ?it/s]"
      ]
     },
     "metadata": {},
     "output_type": "display_data"
    },
    {
     "data": {
      "application/vnd.jupyter.widget-view+json": {
       "model_id": "4949cf078c054b88970af3bdd9206a38",
       "version_major": 2,
       "version_minor": 0
      },
      "text/plain": [
       "  0%|          | 0/100 [00:00<?, ?it/s]"
      ]
     },
     "metadata": {},
     "output_type": "display_data"
    },
    {
     "data": {
      "application/vnd.jupyter.widget-view+json": {
       "model_id": "91e13f3066384f6688d0024cf7bde6a1",
       "version_major": 2,
       "version_minor": 0
      },
      "text/plain": [
       "  0%|          | 0/100 [00:00<?, ?it/s]"
      ]
     },
     "metadata": {},
     "output_type": "display_data"
    },
    {
     "data": {
      "application/vnd.jupyter.widget-view+json": {
       "model_id": "885f156e95d54bb999b255855ad3bbcd",
       "version_major": 2,
       "version_minor": 0
      },
      "text/plain": [
       "  0%|          | 0/100 [00:00<?, ?it/s]"
      ]
     },
     "metadata": {},
     "output_type": "display_data"
    },
    {
     "data": {
      "application/vnd.jupyter.widget-view+json": {
       "model_id": "c5444d86e22a417fab58de79850d12a2",
       "version_major": 2,
       "version_minor": 0
      },
      "text/plain": [
       "  0%|          | 0/100 [00:00<?, ?it/s]"
      ]
     },
     "metadata": {},
     "output_type": "display_data"
    },
    {
     "data": {
      "application/vnd.jupyter.widget-view+json": {
       "model_id": "88a389dcdc6749439b6c6c477bc60c23",
       "version_major": 2,
       "version_minor": 0
      },
      "text/plain": [
       "EM Iteration:   0%|          | 0/5 [00:00<?, ?it/s]"
      ]
     },
     "metadata": {},
     "output_type": "display_data"
    },
    {
     "data": {
      "application/vnd.jupyter.widget-view+json": {
       "model_id": "bd56eb4f463140099f698e1d4174ed30",
       "version_major": 2,
       "version_minor": 0
      },
      "text/plain": [
       "  0%|          | 0/100 [00:00<?, ?it/s]"
      ]
     },
     "metadata": {},
     "output_type": "display_data"
    },
    {
     "data": {
      "application/vnd.jupyter.widget-view+json": {
       "model_id": "eeccbe3d036b44ed84db642f0366a198",
       "version_major": 2,
       "version_minor": 0
      },
      "text/plain": [
       "  0%|          | 0/100 [00:00<?, ?it/s]"
      ]
     },
     "metadata": {},
     "output_type": "display_data"
    },
    {
     "data": {
      "application/vnd.jupyter.widget-view+json": {
       "model_id": "acb4555744634e3a89d1d9ca171d4762",
       "version_major": 2,
       "version_minor": 0
      },
      "text/plain": [
       "  0%|          | 0/100 [00:00<?, ?it/s]"
      ]
     },
     "metadata": {},
     "output_type": "display_data"
    },
    {
     "data": {
      "application/vnd.jupyter.widget-view+json": {
       "model_id": "75cf053abc034f2e942a219a76e8cbfc",
       "version_major": 2,
       "version_minor": 0
      },
      "text/plain": [
       "  0%|          | 0/100 [00:00<?, ?it/s]"
      ]
     },
     "metadata": {},
     "output_type": "display_data"
    },
    {
     "data": {
      "application/vnd.jupyter.widget-view+json": {
       "model_id": "b3aca0ee2b324d5ab6d3ed0ea44540a0",
       "version_major": 2,
       "version_minor": 0
      },
      "text/plain": [
       "  0%|          | 0/100 [00:00<?, ?it/s]"
      ]
     },
     "metadata": {},
     "output_type": "display_data"
    },
    {
     "data": {
      "application/vnd.jupyter.widget-view+json": {
       "model_id": "8b5cbd2ef1af4e3cbd6780ea35d1f01f",
       "version_major": 2,
       "version_minor": 0
      },
      "text/plain": [
       "EM Iteration:   0%|          | 0/5 [00:00<?, ?it/s]"
      ]
     },
     "metadata": {},
     "output_type": "display_data"
    },
    {
     "data": {
      "application/vnd.jupyter.widget-view+json": {
       "model_id": "619060659a93407ea9dd4663c788134f",
       "version_major": 2,
       "version_minor": 0
      },
      "text/plain": [
       "  0%|          | 0/100 [00:00<?, ?it/s]"
      ]
     },
     "metadata": {},
     "output_type": "display_data"
    },
    {
     "data": {
      "application/vnd.jupyter.widget-view+json": {
       "model_id": "dd794bacdc7c40b8a4932492bf0b070b",
       "version_major": 2,
       "version_minor": 0
      },
      "text/plain": [
       "  0%|          | 0/100 [00:00<?, ?it/s]"
      ]
     },
     "metadata": {},
     "output_type": "display_data"
    },
    {
     "data": {
      "application/vnd.jupyter.widget-view+json": {
       "model_id": "ee1da37b546245dd928e2b7a66ddd341",
       "version_major": 2,
       "version_minor": 0
      },
      "text/plain": [
       "  0%|          | 0/100 [00:00<?, ?it/s]"
      ]
     },
     "metadata": {},
     "output_type": "display_data"
    },
    {
     "data": {
      "application/vnd.jupyter.widget-view+json": {
       "model_id": "4d3e22cbcfae4781a17b63fd123f04c2",
       "version_major": 2,
       "version_minor": 0
      },
      "text/plain": [
       "  0%|          | 0/100 [00:00<?, ?it/s]"
      ]
     },
     "metadata": {},
     "output_type": "display_data"
    },
    {
     "data": {
      "application/vnd.jupyter.widget-view+json": {
       "model_id": "5a4e40b4a51241c9a6c9e8eb72d4040b",
       "version_major": 2,
       "version_minor": 0
      },
      "text/plain": [
       "  0%|          | 0/100 [00:00<?, ?it/s]"
      ]
     },
     "metadata": {},
     "output_type": "display_data"
    },
    {
     "data": {
      "application/vnd.jupyter.widget-view+json": {
       "model_id": "ca390674745f46da89f89e8196f60450",
       "version_major": 2,
       "version_minor": 0
      },
      "text/plain": [
       "EM Iteration:   0%|          | 0/5 [00:00<?, ?it/s]"
      ]
     },
     "metadata": {},
     "output_type": "display_data"
    },
    {
     "data": {
      "application/vnd.jupyter.widget-view+json": {
       "model_id": "eb00e194a11f4beaa304c36d5f017b53",
       "version_major": 2,
       "version_minor": 0
      },
      "text/plain": [
       "  0%|          | 0/100 [00:00<?, ?it/s]"
      ]
     },
     "metadata": {},
     "output_type": "display_data"
    },
    {
     "data": {
      "application/vnd.jupyter.widget-view+json": {
       "model_id": "542bd17e02764b19ab12dc36efbe6d1f",
       "version_major": 2,
       "version_minor": 0
      },
      "text/plain": [
       "  0%|          | 0/100 [00:00<?, ?it/s]"
      ]
     },
     "metadata": {},
     "output_type": "display_data"
    },
    {
     "data": {
      "application/vnd.jupyter.widget-view+json": {
       "model_id": "a7049a12a6b141deb06db7ab4e157b15",
       "version_major": 2,
       "version_minor": 0
      },
      "text/plain": [
       "  0%|          | 0/100 [00:00<?, ?it/s]"
      ]
     },
     "metadata": {},
     "output_type": "display_data"
    },
    {
     "data": {
      "application/vnd.jupyter.widget-view+json": {
       "model_id": "41a1f12622664ffca5b94452857c69a9",
       "version_major": 2,
       "version_minor": 0
      },
      "text/plain": [
       "  0%|          | 0/100 [00:00<?, ?it/s]"
      ]
     },
     "metadata": {},
     "output_type": "display_data"
    },
    {
     "data": {
      "application/vnd.jupyter.widget-view+json": {
       "model_id": "cc057d1f7cc049f0b67f7e1b254d02d5",
       "version_major": 2,
       "version_minor": 0
      },
      "text/plain": [
       "  0%|          | 0/100 [00:00<?, ?it/s]"
      ]
     },
     "metadata": {},
     "output_type": "display_data"
    },
    {
     "data": {
      "application/vnd.jupyter.widget-view+json": {
       "model_id": "44ee07019da649d78ea29daaa6e7effa",
       "version_major": 2,
       "version_minor": 0
      },
      "text/plain": [
       "EM Iteration:   0%|          | 0/5 [00:00<?, ?it/s]"
      ]
     },
     "metadata": {},
     "output_type": "display_data"
    },
    {
     "data": {
      "application/vnd.jupyter.widget-view+json": {
       "model_id": "53c4754824b148a592866e197a458e98",
       "version_major": 2,
       "version_minor": 0
      },
      "text/plain": [
       "  0%|          | 0/100 [00:00<?, ?it/s]"
      ]
     },
     "metadata": {},
     "output_type": "display_data"
    },
    {
     "data": {
      "application/vnd.jupyter.widget-view+json": {
       "model_id": "563ab80d48e145c9a9c7f4c6a2845917",
       "version_major": 2,
       "version_minor": 0
      },
      "text/plain": [
       "  0%|          | 0/100 [00:00<?, ?it/s]"
      ]
     },
     "metadata": {},
     "output_type": "display_data"
    },
    {
     "data": {
      "application/vnd.jupyter.widget-view+json": {
       "model_id": "f1616e29340a42fbb955551917cd2331",
       "version_major": 2,
       "version_minor": 0
      },
      "text/plain": [
       "  0%|          | 0/100 [00:00<?, ?it/s]"
      ]
     },
     "metadata": {},
     "output_type": "display_data"
    },
    {
     "data": {
      "application/vnd.jupyter.widget-view+json": {
       "model_id": "45fc5849c06b49c4a339dd9a9a3638dc",
       "version_major": 2,
       "version_minor": 0
      },
      "text/plain": [
       "  0%|          | 0/100 [00:00<?, ?it/s]"
      ]
     },
     "metadata": {},
     "output_type": "display_data"
    },
    {
     "data": {
      "application/vnd.jupyter.widget-view+json": {
       "model_id": "104bba963f6e4eefa4bb623519cfb7fb",
       "version_major": 2,
       "version_minor": 0
      },
      "text/plain": [
       "  0%|          | 0/100 [00:00<?, ?it/s]"
      ]
     },
     "metadata": {},
     "output_type": "display_data"
    },
    {
     "data": {
      "application/vnd.jupyter.widget-view+json": {
       "model_id": "f6d92528c7d34ab0a33de246f1370be4",
       "version_major": 2,
       "version_minor": 0
      },
      "text/plain": [
       "EM Iteration:   0%|          | 0/5 [00:00<?, ?it/s]"
      ]
     },
     "metadata": {},
     "output_type": "display_data"
    },
    {
     "data": {
      "application/vnd.jupyter.widget-view+json": {
       "model_id": "52c7a3c5fd314b7aac448daaa76d8e51",
       "version_major": 2,
       "version_minor": 0
      },
      "text/plain": [
       "  0%|          | 0/100 [00:00<?, ?it/s]"
      ]
     },
     "metadata": {},
     "output_type": "display_data"
    },
    {
     "data": {
      "application/vnd.jupyter.widget-view+json": {
       "model_id": "c3d5715c78094d0cb4b9f2fe620d1c36",
       "version_major": 2,
       "version_minor": 0
      },
      "text/plain": [
       "  0%|          | 0/100 [00:00<?, ?it/s]"
      ]
     },
     "metadata": {},
     "output_type": "display_data"
    },
    {
     "data": {
      "application/vnd.jupyter.widget-view+json": {
       "model_id": "e5f0fe8888884c24a054436ed04fed55",
       "version_major": 2,
       "version_minor": 0
      },
      "text/plain": [
       "  0%|          | 0/100 [00:00<?, ?it/s]"
      ]
     },
     "metadata": {},
     "output_type": "display_data"
    },
    {
     "data": {
      "application/vnd.jupyter.widget-view+json": {
       "model_id": "accd75000c5a4136b157de1e23e94971",
       "version_major": 2,
       "version_minor": 0
      },
      "text/plain": [
       "  0%|          | 0/100 [00:00<?, ?it/s]"
      ]
     },
     "metadata": {},
     "output_type": "display_data"
    },
    {
     "data": {
      "application/vnd.jupyter.widget-view+json": {
       "model_id": "139f3c0fc8af41dc9bbcc7e2b839d35e",
       "version_major": 2,
       "version_minor": 0
      },
      "text/plain": [
       "  0%|          | 0/100 [00:00<?, ?it/s]"
      ]
     },
     "metadata": {},
     "output_type": "display_data"
    },
    {
     "data": {
      "application/vnd.jupyter.widget-view+json": {
       "model_id": "1b21f355d99c4b829caabe8dc3f7f27b",
       "version_major": 2,
       "version_minor": 0
      },
      "text/plain": [
       "EM Iteration:   0%|          | 0/5 [00:00<?, ?it/s]"
      ]
     },
     "metadata": {},
     "output_type": "display_data"
    },
    {
     "data": {
      "application/vnd.jupyter.widget-view+json": {
       "model_id": "9f2f85634ee54eac9ab8b882c040eea5",
       "version_major": 2,
       "version_minor": 0
      },
      "text/plain": [
       "  0%|          | 0/100 [00:00<?, ?it/s]"
      ]
     },
     "metadata": {},
     "output_type": "display_data"
    },
    {
     "data": {
      "application/vnd.jupyter.widget-view+json": {
       "model_id": "ca5d2124f0b54aa0a03c5bbdc484cf55",
       "version_major": 2,
       "version_minor": 0
      },
      "text/plain": [
       "  0%|          | 0/100 [00:00<?, ?it/s]"
      ]
     },
     "metadata": {},
     "output_type": "display_data"
    },
    {
     "data": {
      "application/vnd.jupyter.widget-view+json": {
       "model_id": "dc2b15f851c149cf857d29763a16dd24",
       "version_major": 2,
       "version_minor": 0
      },
      "text/plain": [
       "  0%|          | 0/100 [00:00<?, ?it/s]"
      ]
     },
     "metadata": {},
     "output_type": "display_data"
    },
    {
     "data": {
      "application/vnd.jupyter.widget-view+json": {
       "model_id": "53650b19d5b3452abb77bf252a45e77e",
       "version_major": 2,
       "version_minor": 0
      },
      "text/plain": [
       "  0%|          | 0/100 [00:00<?, ?it/s]"
      ]
     },
     "metadata": {},
     "output_type": "display_data"
    },
    {
     "data": {
      "application/vnd.jupyter.widget-view+json": {
       "model_id": "7611241d53f04218843b5099908c92f9",
       "version_major": 2,
       "version_minor": 0
      },
      "text/plain": [
       "  0%|          | 0/100 [00:00<?, ?it/s]"
      ]
     },
     "metadata": {},
     "output_type": "display_data"
    },
    {
     "data": {
      "application/vnd.jupyter.widget-view+json": {
       "model_id": "f3e34bc44c8748589cf84868c7de5df3",
       "version_major": 2,
       "version_minor": 0
      },
      "text/plain": [
       "EM Iteration:   0%|          | 0/5 [00:00<?, ?it/s]"
      ]
     },
     "metadata": {},
     "output_type": "display_data"
    },
    {
     "data": {
      "application/vnd.jupyter.widget-view+json": {
       "model_id": "bdd0580341e241d48a5a43239f231671",
       "version_major": 2,
       "version_minor": 0
      },
      "text/plain": [
       "  0%|          | 0/100 [00:00<?, ?it/s]"
      ]
     },
     "metadata": {},
     "output_type": "display_data"
    },
    {
     "data": {
      "application/vnd.jupyter.widget-view+json": {
       "model_id": "92e9e68642234e06b183d8e4889dc957",
       "version_major": 2,
       "version_minor": 0
      },
      "text/plain": [
       "  0%|          | 0/100 [00:00<?, ?it/s]"
      ]
     },
     "metadata": {},
     "output_type": "display_data"
    },
    {
     "data": {
      "application/vnd.jupyter.widget-view+json": {
       "model_id": "ea069241e9aa462a9fdfcdbdd7db8878",
       "version_major": 2,
       "version_minor": 0
      },
      "text/plain": [
       "  0%|          | 0/100 [00:00<?, ?it/s]"
      ]
     },
     "metadata": {},
     "output_type": "display_data"
    },
    {
     "data": {
      "application/vnd.jupyter.widget-view+json": {
       "model_id": "d2c7f7070f9e452a9fe1fa4841c65969",
       "version_major": 2,
       "version_minor": 0
      },
      "text/plain": [
       "  0%|          | 0/100 [00:00<?, ?it/s]"
      ]
     },
     "metadata": {},
     "output_type": "display_data"
    },
    {
     "data": {
      "application/vnd.jupyter.widget-view+json": {
       "model_id": "fdf14e7a4a2242d5aa951caf1c138ff0",
       "version_major": 2,
       "version_minor": 0
      },
      "text/plain": [
       "  0%|          | 0/100 [00:00<?, ?it/s]"
      ]
     },
     "metadata": {},
     "output_type": "display_data"
    },
    {
     "data": {
      "application/vnd.jupyter.widget-view+json": {
       "model_id": "30f779c1cba74e789eda7781e37d82f0",
       "version_major": 2,
       "version_minor": 0
      },
      "text/plain": [
       "EM Iteration:   0%|          | 0/5 [00:00<?, ?it/s]"
      ]
     },
     "metadata": {},
     "output_type": "display_data"
    },
    {
     "data": {
      "application/vnd.jupyter.widget-view+json": {
       "model_id": "29a48edcdc9e426c8dd1936da68638e2",
       "version_major": 2,
       "version_minor": 0
      },
      "text/plain": [
       "  0%|          | 0/100 [00:00<?, ?it/s]"
      ]
     },
     "metadata": {},
     "output_type": "display_data"
    },
    {
     "data": {
      "application/vnd.jupyter.widget-view+json": {
       "model_id": "cf5eedcc3c324d3e97453e31222669fb",
       "version_major": 2,
       "version_minor": 0
      },
      "text/plain": [
       "  0%|          | 0/100 [00:00<?, ?it/s]"
      ]
     },
     "metadata": {},
     "output_type": "display_data"
    },
    {
     "data": {
      "application/vnd.jupyter.widget-view+json": {
       "model_id": "001c65e5315c4e21a199790a6c047d79",
       "version_major": 2,
       "version_minor": 0
      },
      "text/plain": [
       "  0%|          | 0/100 [00:00<?, ?it/s]"
      ]
     },
     "metadata": {},
     "output_type": "display_data"
    },
    {
     "data": {
      "application/vnd.jupyter.widget-view+json": {
       "model_id": "148ddb0732c5472ba9bc960b44303294",
       "version_major": 2,
       "version_minor": 0
      },
      "text/plain": [
       "  0%|          | 0/100 [00:00<?, ?it/s]"
      ]
     },
     "metadata": {},
     "output_type": "display_data"
    },
    {
     "data": {
      "application/vnd.jupyter.widget-view+json": {
       "model_id": "e78e8a93fbb348f8a90c8352daa86f9c",
       "version_major": 2,
       "version_minor": 0
      },
      "text/plain": [
       "  0%|          | 0/100 [00:00<?, ?it/s]"
      ]
     },
     "metadata": {},
     "output_type": "display_data"
    },
    {
     "data": {
      "application/vnd.jupyter.widget-view+json": {
       "model_id": "3e332411018c4e3fb2632f60be481019",
       "version_major": 2,
       "version_minor": 0
      },
      "text/plain": [
       "EM Iteration:   0%|          | 0/5 [00:00<?, ?it/s]"
      ]
     },
     "metadata": {},
     "output_type": "display_data"
    },
    {
     "data": {
      "application/vnd.jupyter.widget-view+json": {
       "model_id": "3cbc39a518ce48178f84224148de9b4a",
       "version_major": 2,
       "version_minor": 0
      },
      "text/plain": [
       "  0%|          | 0/100 [00:00<?, ?it/s]"
      ]
     },
     "metadata": {},
     "output_type": "display_data"
    },
    {
     "data": {
      "application/vnd.jupyter.widget-view+json": {
       "model_id": "2e56e4153dbb4d6da1646cd7369461c1",
       "version_major": 2,
       "version_minor": 0
      },
      "text/plain": [
       "  0%|          | 0/100 [00:00<?, ?it/s]"
      ]
     },
     "metadata": {},
     "output_type": "display_data"
    },
    {
     "data": {
      "application/vnd.jupyter.widget-view+json": {
       "model_id": "d08f7f72952b41e0b65a06009ea6df89",
       "version_major": 2,
       "version_minor": 0
      },
      "text/plain": [
       "  0%|          | 0/100 [00:00<?, ?it/s]"
      ]
     },
     "metadata": {},
     "output_type": "display_data"
    },
    {
     "data": {
      "application/vnd.jupyter.widget-view+json": {
       "model_id": "f4b5aac7f38a48b2a849a3783ce01b4f",
       "version_major": 2,
       "version_minor": 0
      },
      "text/plain": [
       "  0%|          | 0/100 [00:00<?, ?it/s]"
      ]
     },
     "metadata": {},
     "output_type": "display_data"
    },
    {
     "data": {
      "application/vnd.jupyter.widget-view+json": {
       "model_id": "17bc9993dd2d495f8452e422ab7cf2f1",
       "version_major": 2,
       "version_minor": 0
      },
      "text/plain": [
       "  0%|          | 0/100 [00:00<?, ?it/s]"
      ]
     },
     "metadata": {},
     "output_type": "display_data"
    },
    {
     "data": {
      "application/vnd.jupyter.widget-view+json": {
       "model_id": "71936fc01b234ec8a3e80050daf1345d",
       "version_major": 2,
       "version_minor": 0
      },
      "text/plain": [
       "EM Iteration:   0%|          | 0/5 [00:00<?, ?it/s]"
      ]
     },
     "metadata": {},
     "output_type": "display_data"
    },
    {
     "data": {
      "application/vnd.jupyter.widget-view+json": {
       "model_id": "b03e9ec6d24a4d108e4ce165c3d39445",
       "version_major": 2,
       "version_minor": 0
      },
      "text/plain": [
       "  0%|          | 0/100 [00:00<?, ?it/s]"
      ]
     },
     "metadata": {},
     "output_type": "display_data"
    },
    {
     "data": {
      "application/vnd.jupyter.widget-view+json": {
       "model_id": "cc24b105204343dd929027f31a9ff8f4",
       "version_major": 2,
       "version_minor": 0
      },
      "text/plain": [
       "  0%|          | 0/100 [00:00<?, ?it/s]"
      ]
     },
     "metadata": {},
     "output_type": "display_data"
    },
    {
     "data": {
      "application/vnd.jupyter.widget-view+json": {
       "model_id": "d95b7180cfcb44849bd6c84c7866ddb5",
       "version_major": 2,
       "version_minor": 0
      },
      "text/plain": [
       "  0%|          | 0/100 [00:00<?, ?it/s]"
      ]
     },
     "metadata": {},
     "output_type": "display_data"
    },
    {
     "data": {
      "application/vnd.jupyter.widget-view+json": {
       "model_id": "b53cd3e3629d4280b238f4377d1ef857",
       "version_major": 2,
       "version_minor": 0
      },
      "text/plain": [
       "  0%|          | 0/100 [00:00<?, ?it/s]"
      ]
     },
     "metadata": {},
     "output_type": "display_data"
    },
    {
     "data": {
      "application/vnd.jupyter.widget-view+json": {
       "model_id": "0bd168304eec4496b59069fb5e74023f",
       "version_major": 2,
       "version_minor": 0
      },
      "text/plain": [
       "  0%|          | 0/100 [00:00<?, ?it/s]"
      ]
     },
     "metadata": {},
     "output_type": "display_data"
    },
    {
     "data": {
      "application/vnd.jupyter.widget-view+json": {
       "model_id": "d142d61d65c44b749d49e5eee105fbd6",
       "version_major": 2,
       "version_minor": 0
      },
      "text/plain": [
       "EM Iteration:   0%|          | 0/5 [00:00<?, ?it/s]"
      ]
     },
     "metadata": {},
     "output_type": "display_data"
    },
    {
     "data": {
      "application/vnd.jupyter.widget-view+json": {
       "model_id": "da2ca60d8bb64207afa21c4c5c8c6b09",
       "version_major": 2,
       "version_minor": 0
      },
      "text/plain": [
       "  0%|          | 0/100 [00:00<?, ?it/s]"
      ]
     },
     "metadata": {},
     "output_type": "display_data"
    },
    {
     "data": {
      "application/vnd.jupyter.widget-view+json": {
       "model_id": "b7af8db171044317b4688b0e5fa671d7",
       "version_major": 2,
       "version_minor": 0
      },
      "text/plain": [
       "  0%|          | 0/100 [00:00<?, ?it/s]"
      ]
     },
     "metadata": {},
     "output_type": "display_data"
    },
    {
     "data": {
      "application/vnd.jupyter.widget-view+json": {
       "model_id": "e7c6406caaa644bdbd2301f33409e1fc",
       "version_major": 2,
       "version_minor": 0
      },
      "text/plain": [
       "  0%|          | 0/100 [00:00<?, ?it/s]"
      ]
     },
     "metadata": {},
     "output_type": "display_data"
    },
    {
     "data": {
      "application/vnd.jupyter.widget-view+json": {
       "model_id": "7e695487d15a4ad0abb01fce50143e8e",
       "version_major": 2,
       "version_minor": 0
      },
      "text/plain": [
       "  0%|          | 0/100 [00:00<?, ?it/s]"
      ]
     },
     "metadata": {},
     "output_type": "display_data"
    },
    {
     "data": {
      "application/vnd.jupyter.widget-view+json": {
       "model_id": "3bb5f70cef7644528eda73281814b8a3",
       "version_major": 2,
       "version_minor": 0
      },
      "text/plain": [
       "  0%|          | 0/100 [00:00<?, ?it/s]"
      ]
     },
     "metadata": {},
     "output_type": "display_data"
    },
    {
     "data": {
      "application/vnd.jupyter.widget-view+json": {
       "model_id": "ff8da7993ea045c798617aecec27535b",
       "version_major": 2,
       "version_minor": 0
      },
      "text/plain": [
       "EM Iteration:   0%|          | 0/5 [00:00<?, ?it/s]"
      ]
     },
     "metadata": {},
     "output_type": "display_data"
    },
    {
     "data": {
      "application/vnd.jupyter.widget-view+json": {
       "model_id": "5a41c30b42bc4c9d9dac1e2659a014f5",
       "version_major": 2,
       "version_minor": 0
      },
      "text/plain": [
       "  0%|          | 0/100 [00:00<?, ?it/s]"
      ]
     },
     "metadata": {},
     "output_type": "display_data"
    },
    {
     "data": {
      "application/vnd.jupyter.widget-view+json": {
       "model_id": "dbdf9aceb00747b68a91adb009e8ed06",
       "version_major": 2,
       "version_minor": 0
      },
      "text/plain": [
       "  0%|          | 0/100 [00:00<?, ?it/s]"
      ]
     },
     "metadata": {},
     "output_type": "display_data"
    },
    {
     "data": {
      "application/vnd.jupyter.widget-view+json": {
       "model_id": "15f1dac83c7d4e65bbf20e8d695921bc",
       "version_major": 2,
       "version_minor": 0
      },
      "text/plain": [
       "  0%|          | 0/100 [00:00<?, ?it/s]"
      ]
     },
     "metadata": {},
     "output_type": "display_data"
    },
    {
     "data": {
      "application/vnd.jupyter.widget-view+json": {
       "model_id": "bdc9d7e0536c4be6b2f34d016c33ccd5",
       "version_major": 2,
       "version_minor": 0
      },
      "text/plain": [
       "  0%|          | 0/100 [00:00<?, ?it/s]"
      ]
     },
     "metadata": {},
     "output_type": "display_data"
    },
    {
     "data": {
      "application/vnd.jupyter.widget-view+json": {
       "model_id": "aaf8151e86e647b58ea2545c96df2ed0",
       "version_major": 2,
       "version_minor": 0
      },
      "text/plain": [
       "  0%|          | 0/100 [00:00<?, ?it/s]"
      ]
     },
     "metadata": {},
     "output_type": "display_data"
    },
    {
     "data": {
      "application/vnd.jupyter.widget-view+json": {
       "model_id": "4ddd32e588764133987926067a8bab3a",
       "version_major": 2,
       "version_minor": 0
      },
      "text/plain": [
       "EM Iteration:   0%|          | 0/5 [00:00<?, ?it/s]"
      ]
     },
     "metadata": {},
     "output_type": "display_data"
    },
    {
     "data": {
      "application/vnd.jupyter.widget-view+json": {
       "model_id": "cdaa419e8d534334b3955603d40f563c",
       "version_major": 2,
       "version_minor": 0
      },
      "text/plain": [
       "  0%|          | 0/100 [00:00<?, ?it/s]"
      ]
     },
     "metadata": {},
     "output_type": "display_data"
    },
    {
     "data": {
      "application/vnd.jupyter.widget-view+json": {
       "model_id": "0dffaf0891914fe6b3d481854012afd3",
       "version_major": 2,
       "version_minor": 0
      },
      "text/plain": [
       "  0%|          | 0/100 [00:00<?, ?it/s]"
      ]
     },
     "metadata": {},
     "output_type": "display_data"
    },
    {
     "data": {
      "application/vnd.jupyter.widget-view+json": {
       "model_id": "5328dd8ebdad4bb68eff2653d22713f9",
       "version_major": 2,
       "version_minor": 0
      },
      "text/plain": [
       "  0%|          | 0/100 [00:00<?, ?it/s]"
      ]
     },
     "metadata": {},
     "output_type": "display_data"
    },
    {
     "data": {
      "application/vnd.jupyter.widget-view+json": {
       "model_id": "2e8b3e430ceb4a08a0f011d3dfe95807",
       "version_major": 2,
       "version_minor": 0
      },
      "text/plain": [
       "  0%|          | 0/100 [00:00<?, ?it/s]"
      ]
     },
     "metadata": {},
     "output_type": "display_data"
    },
    {
     "data": {
      "application/vnd.jupyter.widget-view+json": {
       "model_id": "84918496d4eb49f581b336c02be20137",
       "version_major": 2,
       "version_minor": 0
      },
      "text/plain": [
       "  0%|          | 0/100 [00:00<?, ?it/s]"
      ]
     },
     "metadata": {},
     "output_type": "display_data"
    },
    {
     "data": {
      "application/vnd.jupyter.widget-view+json": {
       "model_id": "d15f26139ded45ecb4992fbd4df59bc3",
       "version_major": 2,
       "version_minor": 0
      },
      "text/plain": [
       "EM Iteration:   0%|          | 0/5 [00:00<?, ?it/s]"
      ]
     },
     "metadata": {},
     "output_type": "display_data"
    },
    {
     "data": {
      "application/vnd.jupyter.widget-view+json": {
       "model_id": "f757dc42292e4a3c97d510961adc0334",
       "version_major": 2,
       "version_minor": 0
      },
      "text/plain": [
       "  0%|          | 0/100 [00:00<?, ?it/s]"
      ]
     },
     "metadata": {},
     "output_type": "display_data"
    },
    {
     "data": {
      "application/vnd.jupyter.widget-view+json": {
       "model_id": "e8bfc89292a54f08bcb1cf41c592e21d",
       "version_major": 2,
       "version_minor": 0
      },
      "text/plain": [
       "  0%|          | 0/100 [00:00<?, ?it/s]"
      ]
     },
     "metadata": {},
     "output_type": "display_data"
    },
    {
     "data": {
      "application/vnd.jupyter.widget-view+json": {
       "model_id": "c20c154adb294f6b87428832adedecd7",
       "version_major": 2,
       "version_minor": 0
      },
      "text/plain": [
       "  0%|          | 0/100 [00:00<?, ?it/s]"
      ]
     },
     "metadata": {},
     "output_type": "display_data"
    },
    {
     "data": {
      "application/vnd.jupyter.widget-view+json": {
       "model_id": "1530056eed0044a48f4b74ea42c37713",
       "version_major": 2,
       "version_minor": 0
      },
      "text/plain": [
       "  0%|          | 0/100 [00:00<?, ?it/s]"
      ]
     },
     "metadata": {},
     "output_type": "display_data"
    },
    {
     "data": {
      "application/vnd.jupyter.widget-view+json": {
       "model_id": "92023000fa174e87ba8ec54f1ac06a1b",
       "version_major": 2,
       "version_minor": 0
      },
      "text/plain": [
       "  0%|          | 0/100 [00:00<?, ?it/s]"
      ]
     },
     "metadata": {},
     "output_type": "display_data"
    },
    {
     "data": {
      "application/vnd.jupyter.widget-view+json": {
       "model_id": "b1328c9685954462a9425d852f5147c1",
       "version_major": 2,
       "version_minor": 0
      },
      "text/plain": [
       "EM Iteration:   0%|          | 0/5 [00:00<?, ?it/s]"
      ]
     },
     "metadata": {},
     "output_type": "display_data"
    },
    {
     "data": {
      "application/vnd.jupyter.widget-view+json": {
       "model_id": "13b895739a6b45b2a529d09a3eab7b11",
       "version_major": 2,
       "version_minor": 0
      },
      "text/plain": [
       "  0%|          | 0/100 [00:00<?, ?it/s]"
      ]
     },
     "metadata": {},
     "output_type": "display_data"
    },
    {
     "data": {
      "application/vnd.jupyter.widget-view+json": {
       "model_id": "555b3e43841549da90342d213e88eee9",
       "version_major": 2,
       "version_minor": 0
      },
      "text/plain": [
       "  0%|          | 0/100 [00:00<?, ?it/s]"
      ]
     },
     "metadata": {},
     "output_type": "display_data"
    },
    {
     "data": {
      "application/vnd.jupyter.widget-view+json": {
       "model_id": "63f0ad3a09f646cc8a538375ebb9ea23",
       "version_major": 2,
       "version_minor": 0
      },
      "text/plain": [
       "  0%|          | 0/100 [00:00<?, ?it/s]"
      ]
     },
     "metadata": {},
     "output_type": "display_data"
    },
    {
     "data": {
      "application/vnd.jupyter.widget-view+json": {
       "model_id": "b0969dda66c74a859363aad5a50c3161",
       "version_major": 2,
       "version_minor": 0
      },
      "text/plain": [
       "  0%|          | 0/100 [00:00<?, ?it/s]"
      ]
     },
     "metadata": {},
     "output_type": "display_data"
    },
    {
     "data": {
      "application/vnd.jupyter.widget-view+json": {
       "model_id": "a04b3fe7db504bf980c54ad662f13e08",
       "version_major": 2,
       "version_minor": 0
      },
      "text/plain": [
       "  0%|          | 0/100 [00:00<?, ?it/s]"
      ]
     },
     "metadata": {},
     "output_type": "display_data"
    }
   ],
   "source": [
    "def do_comparison_run(seed, N_samples=100, N_restarts=1):\n",
    "    assert seed >= 0\n",
    "    target_grammar, X = make_target_grammar_and_data(seed, N_samples)\n",
    "    gmm_fit_grammars = []\n",
    "    grammar_fit_grammars = []\n",
    "    em_histories = []\n",
    "    init_gmms = []\n",
    "    for k in range(N_restarts):\n",
    "        init_gmm = make_random_gmm(seed + k + 1)\n",
    "        gmm_fit_grammars.append(do_sklearn_gmm_fit(X, init_gmm.weights_, init_gmm.means_, init_gmm.covariances_))\n",
    "        grammar_fit_grammar, em_history = do_grammar_gmm_fit(X, init_gmm.weights_, init_gmm.means_, init_gmm.covariances_)\n",
    "        grammar_fit_grammars.append(grammar_fit_grammar)\n",
    "        em_histories.append(em_history)\n",
    "        init_gmms.append(init_gmm)\n",
    "    return {\n",
    "        \"target_grammar\": target_grammar,\n",
    "        \"X\": X,\n",
    "        \"init_gmms\": init_gmms,\n",
    "        \"gmm_fit_grammars\": gmm_fit_grammars,\n",
    "        \"grammar_fit_grammars\": grammar_fit_grammars,\n",
    "        \"grammar_fit_em_histories\": em_histories\n",
    "    }\n",
    "\n",
    "def do_comparison_runs(N_runs, save_file):\n",
    "    if os.path.exists(save_file):\n",
    "        os.remove(save_file)\n",
    "    for k in tqdm(range(N_runs)):\n",
    "        res_dict = do_comparison_run(k)\n",
    "        with open(save_file, 'ab') as fp:\n",
    "            pickle.dump(res_dict,fp)\n",
    "\n",
    "FILENAME = \"test_runs_with_restarts.pickle\"\n",
    "RERUN = False\n",
    "if RERUN or not os.path.exists(FILENAME):\n",
    "    print(\"Rerunning experiment...\")\n",
    "    do_comparison_runs(30, FILENAME)\n",
    "else:\n",
    "    print(\"Experiment not being rerun.\")"
   ]
  },
  {
   "cell_type": "markdown",
   "metadata": {},
   "source": [
    "# Plot results"
   ]
  },
  {
   "cell_type": "code",
   "execution_count": 6,
   "metadata": {},
   "outputs": [
    {
     "name": "stdout",
     "output_type": "stream",
     "text": [
      "Loaded 30 experiment runs\n"
     ]
    }
   ],
   "source": [
    "all_result_dicts = []\n",
    "with open(FILENAME, \"rb\") as fp:\n",
    "    try:\n",
    "        while True:\n",
    "            all_result_dicts.append(pickle.load(fp))\n",
    "    except EOFError:\n",
    "        pass\n",
    "print(\"Loaded %d experiment runs\" % len(all_result_dicts))"
   ]
  },
  {
   "cell_type": "code",
   "execution_count": 26,
   "metadata": {},
   "outputs": [
    {
     "name": "stdout",
     "output_type": "stream",
     "text": [
      "[-0.00605847  0.03421364 -0.00619769  0.01362867  0.19949206  0.1006077\n",
      " -0.0020039  -0.17631841 -0.14842067 -0.00547356 -1.50586847 -0.13133365\n",
      " -0.06372778  0.01250911  0.00905111 -0.00737038  0.12061385 -0.47979783\n",
      "  0.01743516  0.02381593 -0.17653327  0.17671534  0.02272439 -0.01064933\n",
      "  0.12325308  0.03581188 -0.02122705  0.03102434  0.08020203 -0.21790481] 10\n"
     ]
    },
    {
     "data": {
      "image/png": "[encoded data removed]",
      "text/plain": [
       "<Figure size 300x300 with 1 Axes>"
      ]
     },
     "metadata": {
      "needs_background": "light"
     },
     "output_type": "display_data"
    }
   ],
   "source": [
    "# Histogram of errors\n",
    "# Extract a large number of samples from the GT and fit models,\n",
    "# and compare their distance to the GT distribution as a sum of\n",
    "# the 1D EMD (Wasserstein) distances.\n",
    "def get_best_model_error(gt_sample, fit_samples):\n",
    "    return min([\n",
    "        sum([sp.stats.wasserstein_distance(gt_sample[:, k], fit_sample[:, k]) for k in range(3)])\n",
    "        for fit_sample in fit_samples\n",
    "    ])\n",
    "def make_scatter_of_errors(all_result_dicts, N_samples=10000):\n",
    "    gmm_errs = []\n",
    "    grammar_errs = []\n",
    "    for result_dict in all_result_dicts:\n",
    "        gt_samples = convert_grammar_to_gmm(result_dict[\"target_grammar\"]).sample(N_samples)[0]\n",
    "        gmm_fit_samples = [\n",
    "            convert_grammar_to_gmm(gmm_fit_grammar).sample(N_samples)[0]\n",
    "            for gmm_fit_grammar in result_dict[\"gmm_fit_grammars\"]\n",
    "        ]\n",
    "        grammar_fit_samples = [\n",
    "            convert_grammar_to_gmm(grammar_fit_grammar).sample(N_samples)[0]\n",
    "            for grammar_fit_grammar in result_dict[\"grammar_fit_grammars\"]\n",
    "        ]\n",
    "        gmm_errs.append(get_best_model_error(gt_samples, gmm_fit_samples))\n",
    "        grammar_errs.append(get_best_model_error(gt_samples, grammar_fit_samples))\n",
    "    plt.figure(dpi=100).set_size_inches(3, 3)\n",
    "    plt.scatter(gmm_errs, grammar_errs)\n",
    "    plt.xlabel(\"GMM EM Fit Error\")\n",
    "    plt.ylabel(\"Grammar EM Fit Error\")\n",
    "    disagreement = np.array(grammar_errs) - np.array(gmm_errs)\n",
    "    print(disagreement, np.argmax(np.abs(disagreement)))\n",
    "    plt.plot(np.arange(0., 10.), np.arange(0., 10.), linestyle=\"--\", c=\"green\")\n",
    "make_scatter_of_errors(all_result_dicts)"
   ]
  },
  {
   "cell_type": "code",
   "execution_count": 18,
   "metadata": {},
   "outputs": [
    {
     "name": "stderr",
     "output_type": "stream",
     "text": [
      "No handles with labels found to put in legend.\n",
      "No handles with labels found to put in legend.\n",
      "No handles with labels found to put in legend.\n"
     ]
    },
    {
     "name": "stdout",
     "output_type": "stream",
     "text": [
      "Final params:  tensor([0.0200, 0.3745, 0.6055])\n"
     ]
    },
    {
     "name": "stderr",
     "output_type": "stream",
     "text": [
      "No handles with labels found to put in legend.\n",
      "No handles with labels found to put in legend.\n",
      "No handles with labels found to put in legend.\n",
      "No handles with labels found to put in legend.\n",
      "No handles with labels found to put in legend.\n"
     ]
    },
    {
     "name": "stdout",
     "output_type": "stream",
     "text": [
      "GaussianMode_0 :\n",
      "mean tensor([[-7.2591,  6.4005, -1.4333],\n",
      "        [ 2.7043,  0.8595, -8.2006],\n",
      "        [ 2.7214,  0.8784, -8.2371],\n",
      "        [ 2.6480,  0.7971, -8.0805],\n",
      "        [ 2.6479,  0.7971, -8.0804],\n",
      "        [ 2.6479,  0.7971, -8.0804]])\n",
      "0:xyz:mean final: tensor([ 2.6479,  0.7971, -8.0804])\n",
      "variance tensor([[0.9511, 0.2905, 0.9218],\n",
      "        [0.0069, 0.0084, 0.0312],\n",
      "        [0.0046, 0.0057, 0.0211],\n",
      "        [0.0100, 0.0123, 0.0457],\n",
      "        [0.0100, 0.0123, 0.0457],\n",
      "        [0.0100, 0.0123, 0.0457]])\n",
      "0:xyz:variance final: tensor([0.0100, 0.0123, 0.0457])\n",
      "GaussianMode_1 :\n",
      "mean tensor([[ 9.3445,  3.8295,  4.3147],\n",
      "        [ 8.0702, -4.6532,  0.8716],\n",
      "        [ 8.0549, -4.7180,  0.7518],\n",
      "        [ 8.0479, -4.7214,  0.7514],\n",
      "        [ 7.5285, -4.5598,  1.3565],\n",
      "        [ 5.9195, -4.1184,  3.2136]])\n",
      "0:xyz:mean final: tensor([ 5.9195, -4.1184,  3.2136])\n",
      "variance tensor([[ 0.4931,  0.4832,  0.8353],\n",
      "        [10.0000,  1.0651, 10.0000],\n",
      "        [ 9.9454,  1.1184, 10.0000],\n",
      "        [ 9.9534,  1.1253, 10.0000],\n",
      "        [10.0000,  1.2455, 10.0000],\n",
      "        [10.0000,  1.4350, 10.0000]])\n",
      "0:xyz:variance final: tensor([10.0000,  1.4350, 10.0000])\n"
     ]
    },
    {
     "name": "stderr",
     "output_type": "stream",
     "text": [
      "No handles with labels found to put in legend.\n"
     ]
    },
    {
     "name": "stdout",
     "output_type": "stream",
     "text": [
      "GaussianMode_2 :\n",
      "mean tensor([[-0.9620, -8.0522, -9.5987],\n",
      "        [ 7.6459, -4.5190, -3.0131],\n",
      "        [ 8.5186, -4.4743, -2.0852],\n",
      "        [ 9.4941, -5.1946, -1.1204],\n",
      "        [ 9.5408, -5.1906, -1.0247],\n",
      "        [ 9.5058, -5.1407, -0.9542]])\n",
      "0:xyz:mean final: tensor([ 9.5058, -5.1407, -0.9542])\n",
      "variance tensor([[0.8019, 0.9024, 0.7074],\n",
      "        [6.4471, 7.1588, 6.5221],\n",
      "        [6.0681, 4.9321, 5.8211],\n",
      "        [0.6631, 0.9213, 0.7408],\n",
      "        [0.4061, 0.5692, 0.4755],\n",
      "        [0.4306, 0.5345, 0.5529]])\n",
      "0:xyz:variance final: tensor([0.4306, 0.5345, 0.5529])\n"
     ]
    },
    {
     "data": {
      "text/html": [
       "<video width=\"1296\" height=\"432\" controls autoplay loop>\n",
       "  <source type=\"video/mp4\" src=\"data:video/mp4;base64,AAAAHGZ0eXBNNFYgAAACAGlzb21pc28yYXZjMQAAAAhmcmVlAACRT21kYXQAAAKuBgX//6rcRem9\n",
       "5tlIt5Ys2CDZI+7veDI2NCAtIGNvcmUgMTUyIHIyODU0IGU5YTU5MDMgLSBILjI2NC9NUEVHLTQg\n",
       "QVZDIGNvZGVjIC0gQ29weWxlZnQgMjAwMy0yMDE3IC0gaHR0cDovL3d3dy52aWRlb2xhbi5vcmcv\n",
       "eDI2NC5odG1sIC0gb3B0aW9uczogY2FiYWM9MSByZWY9MyBkZWJsb2NrPTE6MDowIGFuYWx5c2U9\n",
       "MHgzOjB4MTEzIG1lPWhleCBzdWJtZT03IHBzeT0xIHBzeV9yZD0xLjAwOjAuMDAgbWl4ZWRfcmVm\n",
       "PTEgbWVfcmFuZ2U9MTYgY2hyb21hX21lPTEgdHJlbGxpcz0xIDh4OGRjdD0xIGNxbT0wIGRlYWR6\n",
       "b25lPTIxLDExIGZhc3RfcHNraXA9MSBjaHJvbWFfcXBfb2Zmc2V0PS0yIHRocmVhZHM9MTMgbG9v\n",
       "a2FoZWFkX3RocmVhZHM9MiBzbGljZWRfdGhyZWFkcz0wIG5yPTAgZGVjaW1hdGU9MSBpbnRlcmxh\n",
       "Y2VkPTAgYmx1cmF5X2NvbXBhdD0wIGNvbnN0cmFpbmVkX2ludHJhPTAgYmZyYW1lcz0zIGJfcHly\n",
       "YW1pZD0yIGJfYWRhcHQ9MSBiX2JpYXM9MCBkaXJlY3Q9MSB3ZWlnaHRiPTEgb3Blbl9nb3A9MCB3\n",
       "ZWlnaHRwPTIga2V5aW50PTI1MCBrZXlpbnRfbWluPTIgc2NlbmVjdXQ9NDAgaW50cmFfcmVmcmVz\n",
       "aD0wIHJjX2xvb2thaGVhZD00MCByYz1jcmYgbWJ0cmVlPTEgY3JmPTIzLjAgcWNvbXA9MC42MCBx\n",
       "cG1pbj0wIHFwbWF4PTY5IHFwc3RlcD00IGlwX3JhdGlvPTEuNDAgYXE9MToxLjAwAIAAAEwEZYiE\n",
       "ABT//vfHT8Cm6Plmy51FPSEwitj6SCi9YB+oYmjcgAAAAwAAAwB7Z/zYlJlnAArLwKi3yW+aXhUG\n",
       "qg5mbVdfymk2ccTlJUQsyvTTnC8r/U+C+Yl/nOEV0wcE5uNUHjOR46Iaqio7E8sYzTH2SHxs0kL8\n",
       "TZn9SqF3DkD7NQmM58TrAwu5fTbPtwOWp8o22QLcW2ibHSFjD6Ic1LyNkdZq7swnGf2eKh2sX3oQ\n",
       "/vws1zHa+3U/08NSc46dw07Bknryf0uWCcwG9nKNZRgnFD45xbR4U1l8yUpF70ybnHrFw3J5xhjF\n",
       "0T91JZmXHXCxypwXB7j+K68MtxTsq0KGAOIj1KfxjLlTIo5fedPm8QdFCEYOWY6rzKynRDV6pRFl\n",
       "EpQm4NkDDrbbx2c48pHx6huO0kTYmQY8nsCihzICNiYr4oBNpS2ykQc4hEBnCGH9igyxiXznxARs\n",
       "aERh1inWF9D++dKZILx5e35Bym7g4jwkh99N3YvdfShMrIiBrgau4MERKxnX1y4IqIp9zCELGuCj\n",
       "NRPBiVu3o6ZiVsBrHjbc3mb8k/7j/E1Pn0+OaZmCm4Tt14n0piJVdVlglZUVNC7I1U4vA3N2TQDg\n",
       "c0qQZhca9dNUi+R30+I2+BZSrUsvfILWuzLe2U7kWmR22r2upzzOTiJuZe71mWJwdrOWsrK0/Xjr\n",
       "yLAw0zcALGAdvpCqx/CjsGwC6Lv/mKsHVUnER+pbUJdg9nbZSFvPjjsNYNvhfpMvoRV3uIQPhZJ2\n",
       "odxKZrZmtuWY76as+/X6wTMry/dXwT9arVoSoiQkoVI68YRfuworEjPq/T/EIBMKLGk6vpAscBBR\n",
       "24NtSJyPQDsIH/elKVpttMYGvjOW2Wuy5hG+cMukaO//0NAIgBnNr3sDnGJYZP/mlfnKkaIFLxCt\n",
       "UNn8liArV8MewAAAjj7Di2EAAd+/228NCl6xWYokczk/Oby/dFtzQyTHKtc5gX9AJxgjcDIAauqz\n",
       "IOJofXp2xGf6zNyD8+HPpHqevGfB/ocZPMNcU36GwwijY2AG625xiINVITBdtWfj24om0YqH8BeR\n",
       "fjGVGVDZk7F0JYtqi56aQ89Y0YUHLCi37I6g6QbgNGm31lw3EdNexVwTejZBLQFxd9Ucazqfs5hB\n",
       "TGeusJSF4PDnRF61AP/+dWap+1378t3g3PWpUoeeN8ELzP1bCruB/OnpccdtviBYqCvZxygv+kq4\n",
       "i3Xg4nP0TLYospzzITZX7hFShYrtGpna9Szmr5sBw2cpTGybMnTirP/Kai3Gm5FN50yyGz7laEdR\n",
       "mXXTQOXb9MD0JmKkBCZud+QU0e4wE3itCMaw0FnZx5gElhjzAyMKfIdpDaG7bMSjoKjCL4IkOP5C\n",
       "nDm5aWJDK5monyVuO1E4MAvU5ImMsK6VkwynCxRgIR9bnerF0P9VQo30ufo1IDqNfO/b0IZuJy6N\n",
       "eEMf9g0zaQZSgLMQCQH0hhhHGl0/YCg24R0Jauj9OFGLYwOs4kGwdQoJ0KOahS2dTfQg6isjp8sI\n",
       "eMuLN2ivZ7WIk0KXtHEqMRqoMRIFFkbPyaMX9zaqF2deHQ8D/WgzoYAA7kADvAANukk+ac+DS221\n",
       "/rMQhkkGSetEtMQkOxeHA0Am/y/dyXc8oNIDOBM9nsHq5YS1y2LUxvh4T3flJOdFrgSvUs8Qwekq\n",
       "3nogI6U0/oDYV5iYLzh4N+xoyi/eKAZ9KIC01l0sz1ZNftaSXBNVLvg6vsQzI9UPzoxmcoYqnWi1\n",
       "/0ybTQGVgAiXz/NMgqf+YWHSI3oCuaxRgScWOt2aHMMCVSHfJdQpJJ2rCmOOFt/H5OXO/C5OQG/v\n",
       "X2d2naI3H93gd592nn0fQTgkisWq9ISKeTEeIqUw3iwJSDiiThwAlvH4O1veIfweCRCC7Cx1Im2O\n",
       "Crb9effPBXDw0IXv0BeC2sSZZbZPG0sIesGM8gb9Y1ge91KxWBKgzimmyteAhIvlCM/FLeDoF4lP\n",
       "3JaW32JQNfBifzFv9mkxgPTmvjwCAAADAAHso/eDYfvrp0MXYTOMBZDvyZC0+fGKvQjg8Q6SW2FV\n",
       "aPWpD6xbJ63MelEphhF4W3FFcU82QqL9of5fhtwDfeN8SKyY+ZGHaaFFhgcTyIbOSHERImvLj5Bu\n",
       "sol2SeZIMk3B9y18DSH5mht0LK3EJaUXjb/wn3ykSFeUv4lafJYvCcqv0h2tjMtDOpQf/V0H24WJ\n",
       "98+C4AcGv6Mj+STkXrNjwT0tE799pTvBDKgNNWQVlSnNQBm+wfj7AL0JqOmoOa3RKoGdoEik8JoX\n",
       "SwG3Y/WoAn3lcQwATsQ6mc1QR9PVq65BTh+VagPPvlvjZmtsx0qnmh6H7HKsu/nwmnSmbeLKqB+O\n",
       "I2JVD/rAipfoRwX6Lh7EZOgRdifsiGraCJF64Y50ejHoVROnTooAHGMPHAoez2RMwvXhHxMeZG6j\n",
       "n6yC8ur/BffpFyQaN6+eRFQOFEauaXNv5SOUO/0p7I4AvZVwu9KLOMsPraqErDAfrHwLs8TWx4yu\n",
       "1pnVRbANbY5E57RDXWugwTIbWC4qE5Rn853uvQT10XXRqnoGHKszh+jlNu2jZxpKhkRTIeHvyLWZ\n",
       "Ju4BYqcbyf8IrYR8u7ZvRrQQza/Sgw1f8W7Yz1s66RukLPZLyI6N1izKhZlr1+j//1t5m41qxJYv\n",
       "MIMPhBpfpCJ7QD9HYGnBXKvhG2oFSWwrYB6P0NbyaWXsfad2J2RV9XucCOIJGPuifb7vL91GWC02\n",
       "sAPG7pm17IVvZ0icaiJUKEqCK8VzgQeNPf5G2Kw51CUWR05/Bzz6RCZSCNQjfbmbDZg8RvPvInok\n",
       "zAzTXtlJtcbvBPCFWXbUwJVqPnfOPVaPPZa50/SHLkrdo3XfzrGv/TZWRdqJj6FH5gg+dajRo4Zl\n",
       "U8964YJXYPYCjTfUpbBloRhezS72ruIraf0wAUecaFJ6NU5QVaqDk7dMmz90/NKAXz7tlnGJd57I\n",
       "uvjZ2b076gwnsMcTI4L8f6DqBT0ZByHE74vjbVs4qPsKBDXk0slMSAYBjseOqClXGZ/qP9WBu0vw\n",
       "z8uym0x7bgc51KQGETOwqCcP7/SmaH+cfSzYf/2Cmjnn068kUTBL8eBwUbKdn/N1sRsDTLkZ02zv\n",
       "c20E5qNKNp07V7+4ltbNUEgi5Z6Rnto/OHh9tJnXj8QdqmM0ppYFrW191zBhyX8uCtzGJH6p34JR\n",
       "OTYFMd7YkNJakEYfiVldQb0kyDQyPbOmuS9Hivdyf/p9OTiBHM7hV3Kb3Ob+e+jLb0GZ65DezZM+\n",
       "VSFI8naZus6ldNbL62wcKlNcAhqNmwISHC58h39WSILJp4KGWrhYa6THbW6kMGYcw6HVvrMLzF+3\n",
       "bhLC+MoNRulSnCRGDrLFriXxbwlVYp/jcGW4/swXLf7MEvsBcv0lMYbih94NoYPun2p/+Pw4Ano6\n",
       "MIGN0GHIgzPjsBI+KzaWitqYM7BQJ26uD6QerphbjJlFKuFKg7kx4/DTKbQwRLUH/J46JiEnsUX/\n",
       "0ZbH1gFXVHln3pRIyDb+xlZq3GPZWgIBfQ67b0SyB6fk1dWzyr2meef7mEVZX3jEP7sV9yY24poY\n",
       "RvYaoELxcbToMN1jKN2M2IlO2JwOLbrWdnZg0y0lz1CATzzGK37Qmcmecv+4+DwrsWWyGeR37i9z\n",
       "vU92931b4nBMRFWEyNS01YtRmWxU98pSpN+BcI/VtlSyzoJ6bZKmQFKuPEtIqLgQUvMDHPSN1Xho\n",
       "+WRe0eWEGj4zf7wyQt64RixOX1ZH/8BEHhkvsWrdCSIsg1PT0/BM/a5roBu+cv672UN71BXx8TYx\n",
       "3MzA3fBy1Icj1ZQMqJshhh9IbPmfG5Qmqkr1F8BIdUAce4nT4nbZuBviN9qKg+z/C5l6mlCoVzES\n",
       "PsFGWJgoRauDQ+lkFYtUER16hijH5SaW48VPqLIRp9pW86sCcJryBJjtemuIDF56/AaQSTe991xz\n",
       "6kuoiIacdDvCbCPQKzhDNg4wl8ypvUxHtHdXr2b32TjhenIXm4NHy4cL43iohz8Ug1Tv8mbUlws8\n",
       "mem/2qnGCrK20xGSvTmdnUDkJMFsw1am8v7B47fDq3c5vQcwZilIBubE+074ZRINaa9jVAysPK0K\n",
       "uywo9kzlPM8vkdQoZLDBXZZpM6b6bZdpyPKNKo2PpGOEcrrGnAr+L1ipZwLGpVEG0wAJ3hid7cw0\n",
       "DdgwT5aKGGAvblUUDg23dYL8Q69vBL/WAr2xD9yXVrDm1RXM1eqI1ay+eAlSfu5U6e91BtuTSQbi\n",
       "txh3oMORmCTfqYkRxhR/DtleRS5pflTKQnbGWtEe8DykLX1oWXgxPitQolLMG2LSBfCgivvgPtNs\n",
       "NTSDOuoYRXLzgncJVk3Ol+v2Si+zjumFqm7ohgwtIRkqNR+ZgmD9UIl2C8yqYEdzskGVRXzYJkJM\n",
       "an/2iQQZTaKs2zza8ZOPMzgGby9fw6dnn1uTu2B19SIrLmwYz6sUe7RDoBIchh9XLk6azzFZKoKS\n",
       "YcdnMVmfY/tRino42OLTASLtsIQ8n126wHQkkYW8EgmfyfgXypwmdkF9JODtzCle9l5AylbOoQWA\n",
       "lGj9iQFB5g8shd+KZu+/NRsOJaerXRgDDbccHPnysIHavvsPC1/vG/c/BbLF4XyvJbb5MUqWEGEE\n",
       "6HWSKfe2HoJ4UhCJMY8DBM5bibqZbxOcbG1v+VPCMh4kiGG4TccfR+PfpdkZYOkxG481of+4/ny7\n",
       "SGQ2SXhZrIl+E3nDxzCPuykEMuA1nc4fr25dL/Kx7v/pfQ3H8cylsP7D0qCSJ2xT+/MO7+wiwHU6\n",
       "ZiglO92zHPzPgBX/9ueQ9qQ6NKV7Q7xVGPO4nYa1qcDHqXNlhM/hAGUMhpva+2F7B5GnClpRA6bD\n",
       "jvN6BHOISiRqo0zJkyBrSG2ODd/WaiX1Yg+66KqsnHy0npA2r1ZvkijUZ/YttVTOJcEdGuJaQWei\n",
       "R9nItX9qETZz0PrygIOan0cRUpDArMZf9B9AH9ZHxzoPDZKbXGxW8aYbReH04NTEtLw6EU1ZjUzd\n",
       "FE0AadANoRFVbpResalX0bwzaRpUwL21byT+2p0n4VIxRDc4b3xiqFtuitXWLqdoGJLfCnodsTyb\n",
       "E7sD3KTUgHU1vYj0/6HRFTU+TLdyyvMX600ZNrXh8q9PhOmjD6DMV52MDUhQMwAmcpJqHc5AoycQ\n",
       "sMHiHxJSar+aXG6i65g+idrhReJAZB8jhmmyGAUP4DSuQIB61TItHljWZqPyk3wNG6U7AKyf/2W+\n",
       "l9DiQHj134m7M4mxj5Fu5K9U48XFj5K3x4XId6g6KYhX+fC2uu/CB9DTGzumj18XiGSBr0jfChJG\n",
       "Ga7IrbiVxMB++pFLPdS4nIh6v3F+7USgR1cdnaVvbYTQgGvRtW6Ey7U0jlXBFKSgP7RkuWlyUKAC\n",
       "kRIGDSbreN0MNJ2syZCTLrxhmA6D3pTI0BDfm5B0c98aVMrvZYGPKJTG25xjeJacTOIdGrVZ3ajt\n",
       "NN1tk1m8JFEURDCLmR6VFKvLf3rAj3DPOnYAEmZIwaHd1ZiFw8in/Evffq5H0WvyLdI4fCdbcpTF\n",
       "StRfcdLjsoKM2A60IT67CwvY6AUMu5NaJplMvzShUjhgkWCjfCJzsvNjBByYap2Mwvl8pt6oIJSV\n",
       "xkGkM0tVpNjKGjaSpA2OzlPi5XSCrRJLyv1ApApTNwoACBO5Nk/mi/Uwr/8sKFvU9tVQJ3x36FDR\n",
       "hASy5itnGjOes020R+e9ni/UJslaViVHcku8KkB1vDcp+pm2ry7ujto8UPH6WmOpkzJI0NtJbByD\n",
       "pRdN5kLllcAWDc8R3A/7OxsQZdRrzbPnQfEcc8XfMnqsx9ccmWX56KbO9sMRepM+tFtp9YHXbkjB\n",
       "uZZCYu6JYOq0FSDSRQb4E0SZuYKv3lKWtYW6+/YIAgYFfudcrsp5+i6h9D0rBbo7mMwGv2EX2v+P\n",
       "ce/Q+JbaCe7vcCMybKZCrtroPw5HH+tloiFy3A+VLUvtUqK4flMEq4j9j/usExA4IjGrCfqfRqDa\n",
       "5bXdD8w80L7tTOanxRrn3vA578i5EBOzHYOZyFADhyzA4EZF8JjvH/P571AGLSU0lcFlJ1nfLnOQ\n",
       "maV4OeXVjcYuFCGB19wSwFKtwPD4MiB/F0zo+ayb794rye8xTSW25sYBqpIWexvvKOmHlHk0le81\n",
       "9g5vw4nsGXPOo2zGpdIm666HtHrz0WttBzaMyn50g8c2WsdOeYzWfyykHVzNfxZAB1AqlOi26AWZ\n",
       "9M71ROQECBtLwnQxHYMk+M6Q3xX2jD3458ghGvRr4nYL3jkZJC8flSy8ncs9PADjCKI7ELSJyudh\n",
       "caeaBGmclMVrlcFU+mnzVdtHMpd2GU8Zf4QW1YCguvcZNE1bRt7R96UpaiVUoX7GprxWvCNXLjmN\n",
       "R3uoVLH87rDdcsVKiGzBsXJC74zyIYkxEOeW58kb8Ekey38LR3XUK68sB1uJNTcN647OJH2IfiaV\n",
       "shXV6NbB6p6muGSLhdzrcQ/2L7+joo9DZ6WmHvmy3u580C84XU2jDHme4O9XJgh6c0CpKPFlquzG\n",
       "qKXtWuAxiXJwuIobZBcfHG0Qn6Mo54D86uCJ0GCUqq5rg4A7elSQxFrQY9gYYorj9qr26ehF7bFW\n",
       "OPkY63JXW27mw7CGunLdTU1kPgkpcoPJSx/B6PdQShbskhSmEkf8jvt5iU6njBHO6N+Uj7aEhZ5p\n",
       "L0CCnlUo60Hge2NOfWrG6PyuMS/UHbhZyfxs+bN7yjTtg+fHjrr5SAVwlvE3HHVSumPBE9gH6TG9\n",
       "Z2E9+suE/nlMKLEd3tkVwXQeSUcWJ3sPBhihsj0CXIGt1R8bpVrf65GSRuJ+5lcr9zcJyp+iuOrZ\n",
       "xh8Hzxb0PcxygEj2M2fHsrx6y3nDuEoXv+VmRWdgGc3vWEan94yf3PwGikqOF3JNaVb1rWZ6Pl4V\n",
       "4IPqjZPf5Fuen1+CxsO+5GyVZpH8kaIVXpu0wAnvtEMZf8rJVD8Fh67ll7YCdjLLXIaLO6+wZurs\n",
       "162AOVVTzhD5blbzXvgfzP/C2llRdX+25NijNcOmGpipsbGmlJGAF9j3TKWoTJoxHRjEGtTmLeR2\n",
       "FbpAiPm7Zjyb2Oi8UBJQkeT/XW/0Arw2dGqu0L3oqlJ8dZF3QrYq/yWw/sM4Rk5RcZec2LuNBKHD\n",
       "vNltt5kgQ7E8Ub7GbMEOs1oLT0Jjuo9zcE2uILxdbnle317QYQblZHWpe8uJKSfVB7p0gMvBf2bs\n",
       "Fm3yBuV0nHcr+bZSGqDDtbMuQU+yBjsSrBawWyukGYIQPEZ/y6lgJg7BkKvBStqxZCKCKV/lzIJ7\n",
       "wOctF0A7Ombh3TSk9Vpo24Uxhx2rQFWhIeIcteJEofkhChWFc1oyAGU5WBx7rf++aMdtKp3OK6lg\n",
       "FvBSi5oJ5AIpmzBLu5lpTpBnjkHCGoEs0MvWMvfoNimY1bmIEju+0mTAqR6zLKz8QR7SQhtXbLR9\n",
       "owD9QXqs8CM/6ldNAI2fLdILopJMuzSb7C3Vd0WHzVj7PqO6iyoEQ6k3Od13K1Hdi4S2GCqOKjNQ\n",
       "fORZGCnfBOPPTB7xcf355rFKDi2I2PtkzDFDPswpVmYWatpjFULBW9g+jjd60EbQ8ukPVvBlqM8q\n",
       "W2qTa1P/AOodmTOm5T4OIbsaISOg6SyGWlljZhE4rdKIuWnPHw9uvoa1JqwwGYUohVeTKmaem9AA\n",
       "g6Vb8AclUIWca/ZTMj/DIHIpSU5MR+TsW0vhqOZfKhbIYF1NC2aigpHfAaaw+pN1yle5Fwf1SMiQ\n",
       "3PlST4Spq3H8dskAhteOn5S6AvS6j0q+LvsN1VB1kuxyZ5iF8t/t4hgtQbV27gCg4axtz1LGonJw\n",
       "/jbUf0grBp31jEPCRUHgnb8/6sUlwgLR1LZNKGz5PsxSxOH4WBC7u/O7O/sA4N3Cch3CxarEYwtG\n",
       "h7b/l3M+6fVd9Y1DA+0QgWyFNYM8clNtWDDAQFxrAew8kfkm8GIvbAAJwABF+b7nm9gOwmIbkVzq\n",
       "ESU1Pjvwm8dtqLjjjaRhejMfS99icOjrJcTmfKXaeIpGTf+40F5bqR8HQryGvK3YqFFGptjjflJp\n",
       "Dn6tqI0OAAwl6p7mhoQ7zYUMzHVLAuAI1glCTvEM0+0jBJ/XfRc4I+DZ/wUoN3WnXNUb8ZllrNI8\n",
       "aWlo3KbhBENQ5BhqBsKO+OPnVHiehrE4ZX+f0uOqpcKa3xA8zQnvIfaXo+kzm++dBqhXWyxSsxWW\n",
       "AnnO07d7hhReMkXOMP7ZzE72EqZQwLfY6XwdS9hJXsZikfAMNID1yiRjYP+I8BvfG1XBULCcSQjK\n",
       "HeE6jf+nJbDh/BCEvMYq/7n0nT4waxP5Dnko9GACU/cT7MkyJvVFmnj/qGf7iWCXeE2ePdVEaaXr\n",
       "4YCkOwUunX3wdT/JjK6HEcXtk2AjW3FdIbRcQ3MK7eyhn+8iL0vWOr5BovlWDlPEIX5OgZ1hAgu+\n",
       "cO6OHHBeCb/IJ0emaJSms3BcfO6W9wGtrTbIwN4odWH3T7sVe5IuLcgtU+nat1ijgAnGtgQBesWO\n",
       "wH5fb7D6xhpHbmhlSOPApMiZFwSSR8jC7Apuz4VTw8nxiz2ld8Vx/a4MxL91hdyCuGql0kAY2bi+\n",
       "oAFVbdE//mJD6rCwWtSUOJRqjbsttIJzvd7oMb+pZEyTWmT7JjshjJnJVWL32dd0ShzREe6qOGq6\n",
       "TpJT2UBpocSVcpO6clKAghDYCkP3Tjvu4TEL2WuAqcr8FxlAz7oxCkRYua/v76l5bAZRRypXk/9z\n",
       "yziwIF4eaqe+fLVi60vgwP6ITqN8hAXZpOKpq8GSUdw/uomEdyiJa7CJCIjMYQJUNwxFj+5lm+Tb\n",
       "TVvoscsyKeoOsusW3U9cx8wMJj6oy7xJTEcveFQzXHqD78BOZb2b543/n2C4NYTdFcXQL9ZvB7VC\n",
       "nMPheaK0DeDvVz1XNVJNyMZWRy74ja+N7xPRhVAxmsBhPUSjCwRk2xSJH6Kay4oQ5hWw7cHmaiii\n",
       "CCS475WMPAXrX/aiTG4uURFgHinmFaSiIY8lSC8QcSjVLqdkQDCH3VBoARMxUI55STPJEGKZZeoy\n",
       "eU2wmEiJ8n61a8IKkvxWuY3eHlGjBl5EOfIZ3K62BxPqPt/apOoXK0OqGR1MPGW7ZXNdpk4eKB5M\n",
       "kgRbFhRhHHyqIVzwlNKv8qSYvhVZhXLLo2fVr1dmyjxImeilOXK5TGzF8jtMKI+DeJjOJT90Yfck\n",
       "mvvoSSY0oRV9WW6SMaslcEIGZKbHx4OGc4gxPD4qcbh830rwak1q/ta9oQTDLe5hC5Yt5Y/aHE/G\n",
       "zCpjiXyzGq6wkO5uZzHlwYWfshPxVsY4QNkElDAaMCGUmuImIFGH6kzwinu0PK9/SSB+pVeHRhbl\n",
       "hAScbTDrvtAljRSZVhqLmlBIVu1EO7OKT41G6PwlErHdh5IpEHiO8ocKSoAl87kGDeJnxOHOaDU4\n",
       "Kc+KftcSeHD19KXMhAGI1DUYenrFO5NqrBr8TijGhb8qjSKMSdI/qDXVl9/8ZrC2cT4Mt8aHXiQK\n",
       "SdLNf7LLCwPnYFrI6+LSpBJVhNmQoAAYfGyYeA1nTN92VuH3hkgRJ4iaJtR0CZtNEJdbgP7cby7h\n",
       "eI1jvOXaFwI6GY4FDK0E8UQ9bWBpl62VDjm5PLfEjZ22/54yyPW5nZQWA0AJL4uBp0nLMj1/41pR\n",
       "tTtmmOm/kfknhrGgqL/SxFb/iz9cWhpm5d1dcEOnNQDP5YdSmjCmo8rMT1Uc7y2a+O94xIBugt6I\n",
       "3O6D05ACrmJyW+K9JjpvoQQemM1s5X2MLrFuHCm+z/f/yJ2joU7vpQdVN52groxcUMA5RBH+RafY\n",
       "8bMVfm30eyplssoqD3ytL2FBVwrOh6r1+9ZtmxLQpZ+4DNyZdsafzUydYsI3v1jDeefJndAjDJTZ\n",
       "Gn2FH6wyXJNM5edzQuxKxLD4SDCjiJmptXXFw9mkCboQlU443LWwRJmKa8gYNPFV4ERlJye8RCxB\n",
       "qk8mAFwNQn/pQY88V1MS9j8aeWDOP+MczKzqAKNNbVJmKsTInVuBGT0+DjcIcSsqSGmGp5bF0+LZ\n",
       "VSeYoICFw9LVemk9Hq9iCBvfnnWnWjZESNx7hgAbgxxSbcs4qfp2oNe5kWpPl95dipYaASBZ/BPP\n",
       "dmDMw6AVOLkRzMI+Ro+n+22mvSiHr4pdvSUsvCkL/3cgUEtRdIKJCAZ2V55z2BPFdaj5ZgUJETu8\n",
       "Cb/Kau6p5WrltvHX26mnovmV+KhJjRvhixY/RuJwjCzMrHd82awUoJAXa2a2wK0vgho0xoGGGmyx\n",
       "lG6/i0JG/hKHlqV2INWKGVRSgS7EtsSB5PeYe2e6XIU16w7wIrXEs9Htfp1XWHoZn7Uh8z95LCBf\n",
       "sjxhj0cdwJgMsI2YOxWj9vHDQtCxSF641ZCAAJrawlUsy71p24DV4UCeOAOv0AQBOPP0sZe/Rvqk\n",
       "6fi3U0UXm7nmFnHb8tTEJSKLFl2ow30iFQA2SP0A1yhjN53DAhJU3tol0ufi08x4sr83GdeKHPKA\n",
       "jiKWrploxHOizHf4Ub5guB6frJPNKGgfMsW9POqaqwdKZF0A7RICj6zQIZXtQGZ0C6lLs30p28rE\n",
       "euX702r59ak8hlt6ypoo5zKnU2SrWD/8fnoHhvx/E1CTmfwdbUn7pSBGMcAZKUb4UHe5mAvsZInJ\n",
       "QoqCp3A1BZOldsDDU7G1QT7NUf3VY0OJCBmBDDTW/Fpog1j9ZiT8auUE8HMYtA0Ut7Sf0zq1UvyW\n",
       "/lfBK3rwCh8WooVHbN/hPfDy4z7JXfv/zA79baCvfN6ZyqzVkGhtIucgb6YNXVpkUOKjsGdyFfyc\n",
       "MUmVRSGUsBIbxuufRIDPKyAxXFU9BM3wYLbZA6AbGykjj4VJ08ZXt2CTuZHLUkpyvTfAjCjWA35P\n",
       "TBLlf9edzPFwRfmIn4C7SMo2kGjzVoXIB3KqN/kE8NL4IomMwt7UOMTMkuu0deUVTzyOHIl9jmA2\n",
       "4hvxtbpEju7awqXyLIc4GykoSGYd7Djuuymu8Y0dJ1fnvmUTl1Od6regConVg/FHTY3Kqbioav6c\n",
       "dCxRRomvlPEbDDoD91aVIOwCjHPCtYvfVAnS6SkIeO6lCfd9/80QJocyEu9+d7HsvCTvsh/Bah1P\n",
       "NxOHPWOA2/99BLr3UUami1VAffWGBWerwGLmOqLWdp2QAmJIwk2oYKyv9GMlBWFcc6OyddbZ1rLw\n",
       "jbJ4cHOAjhycro8Ztwn22FvHx1v4R0p8eCLpkZc78mrv3u/4CDXfCFandRPJ/hcnkYbluNxjZ/Cb\n",
       "uxCKjwRF8j7ivG9JBghQpKAUe8HFBu3C8CwK33yEcVuLiG7O6KYy/Mi/nJSNWDgbCo2C4t7aqAlr\n",
       "yYx3uOerkNQ3Nt+qNfo3szHgmD77vkvaG6tWR7eCRvtEQdDwJxQCZ02Zf7/xPettCTvW1GdbZbTG\n",
       "ZqlHOfBL+Qg/aeQeYdgztFbxfYv80lZ4GqtvCnIFlYAWtzmZ/l8BuiiyFjuK715qCNc/KdKZqrvh\n",
       "ech7Fu/prp+OrBmBhiX+aGbsWfBUdD/rzveRK0Ms5hegChyXyGCiem6RTKejEVMAOWlIVrvBlizr\n",
       "8Xq7kAdmTHGFIPyuGfxFBE6j5clzWUbheTCCb2N/4X5C29lYzVO08BVGzDJuAa0EH1pditKiugN8\n",
       "UP8mKx70ZiDtVs/FfmQvHhX9RHQCNYbXfAfJSGK0wjmionVj+M1dC5Sjv39ung8coAlbPQiZHn20\n",
       "cH1wB/ZlNBfqDNz578O7qnJYLinjqoBX2qxxOrgoy0L3inaUcAocxrzyHtInAwAlMf46OiP40qrd\n",
       "wTlnAHlXuTZdB/D+dz9E+vKlXP1sAE1aAMXobedciBAPlluV4sOxoAFAkvEwk8ll24WzpQe4UxHk\n",
       "dbIddh3xlPilsLmXqfjXMmISlArFCTiCZWzi9eKrGdwFFMjYQrxPDW9ElW88HZq5B/EzWWOw9HBO\n",
       "DeHtNO5uyVkAYkeT9dZPm1LilqvcKfcjtWvd9H/QlecJJ/8Bv0ng9382d/HzCclXlCmepzCRaGna\n",
       "4pDa52oB8X9nUrUErRUm8q1b1F+5tOI6ZDLcRElVQEjaMHes3mW4SGqSOAoXBaiumGNHbp91XsIl\n",
       "3xKRP3T/7sn+zxOY32kBJtKHVF5wp5aA8PL509wDVu15BFF3T32GvpzTs3cPcMJQ5eJcmy9lQbQP\n",
       "g4BGjh9abJJacVUiLXa+5yZOcnuHzIDkQ06FXXi2zaTDfjymgyjXUZmRe9nC/irDQNiJa8eTTqwW\n",
       "g6GZoUfqndMyrqEVCScfLY0SUXRNErnz7Z7VyeMnoViOON9xTPiOM4WPVtQT6qqvqLpkzej49FgN\n",
       "lssleoMj7QHfCR3U1kfGNzcJ+SVulLUsdvgEPa+p+zSQfoVw5H0//2Elf9lmohsqIEP9c3lTKFGU\n",
       "L4baw92M5/hvaKxwCHb1ZS8OwvvQli2hyPyj1Xw3dc59MIfVGjs0kcniP2gQycMB/sgQqhJwcrh1\n",
       "wUNh8fi+uzE60bPTnfLmAwCBRQhH13KKxxTJqSyU/HWn2LMt+6fNiSlE4WHfc+hkFHhloAnfY6Jg\n",
       "ydBenkIZ7K8RhekZLXJcxPOK0Wth84Cq24xncoV4RcuYVO+2yE4j7/J0M8tv5nvmq/W2V9UDO3hI\n",
       "oXOCi/BoZv9RYTlWeLbyZuThLAoiYKPrckNahEp8bBI2oUwMAImeIyvxWwq+SxE135ACF9PW4VA2\n",
       "Q1h490XQhgikTP/QY9gbt8DNANOtDw0KM/9nVkhb+rXwhxml3oqhC4pSboq1YrNjorzGs9L5R8VV\n",
       "d7w/T/fTQCC84GZixPO5Vy63cQAs2Vfc880WDodZZ2ewE/yq032zQpC6kqDiXSbYpKrwsP0++ZZg\n",
       "teS0ErE4iFjFODgponN2ed/SUMNB4kyVDwg4wHBRinmjOppYu4CGZcasoB9R9V5NkjP2l8AMWhVE\n",
       "JD+m/V7ecCmrM6f3Q/dK4h1r9c5qc5f9laS579tSATExbpQu/evI2EKVF3xBiyIpEgDy5lU7dnYQ\n",
       "s1kLUbJJTRm8kvrO+bbezC4KoxgGGexRGkdvL/eej9SF/TYH6frhnbsoCn47snvaZyaZLd1r8oTH\n",
       "cG+KD370zKenPq1CTuMYhThTC7eljJIpqejUm8//FbsoDLH76UVUtloZgcpBR6npHWDjsZ9JdcfW\n",
       "63ZqWCsYBS8oLK086VIifv09fLC9jV6T95Hf9CR8lyHYRabq1B8TFQ3h+QzZRoQT//2Pt87dY23k\n",
       "HpbgF39upIRMvfsZUn8qGKP/93g9OPo/12iDhh07qGW17NwFbO20j1xTSdweT7+X42LRXHU+MOYj\n",
       "2yQ05LWel3jeXHciMhaalh/YgjLcFVW/8r9uEyZGJZNaWGtEuk4i8v7trZiW3JlvwCNkePmIgynP\n",
       "BJYC+rtmunZhJhOy4HC0OSzHoTQs3Clw5mvIY0REcvRd4zW9N+79pXJm6NmNnKvtf9WVu/5wQmzu\n",
       "6uvLu0KdefjyYgu1sKxUgiw8RKFyUNNI5DAyHw37lfoW+JA1jodliv4BN3iQRc0K9ovAFBUpR8gs\n",
       "ke/T99bWBP0JNPdIZvbZd4cbawfcfiHVWZb8rwOddXHBJTSG4vc9i+rj7XDMyhomSC2mBChOdnIT\n",
       "kU5z7XD1Qhb8RJ97H6WPagZpZ2PNTKiiFtJvDhV6ben8G/2RsmVywqkL+djgrrfany0jRRdTeEOC\n",
       "TkrFaZdIi1SjurPkJmlCgN5hzPlq1G4dKN733UOWwA/SpK6UR89y8rJLB1jAF192FUeoSVq+AjL6\n",
       "RU8UYuNz6OQkT7EYuG6jQVA5hf+WNg8rhOChYmDClD5IPhzLCI+Xf8qXLtwxoT0a/c/Ub9Xo48PX\n",
       "D2INJFb4xEdo+xs2ZPYgt1C4XAorx+iK9IZrHtLbgk5WDstErj4PU1jpsumQsuPsJaoxHw1zUTTm\n",
       "Y4Bgogx+Lv1+/7P0y3GoM9VlxNN/spBU6PKiauslfeYlRIAl6sOJTXlf+r15LHvulAyR4DIO23Mq\n",
       "ksxN9kNx07DoTTEeCGBwbVCSxXfADsLaJP1qk2ToFFVUApEouNt4hIYr7Zlq/ojEKKlYAf49HXaS\n",
       "wVKv0qODx3LblFYYULqS9DSDd6H5diQrodOR995QR6JmwLQSsEyIN3F/KKqDYrRHBSWcaFhDsTZB\n",
       "BSmxc4AiLx8h6ULDVbHXCEnzgs7JL5CGkRhHJvDP9VIc83XdGHruhgU4N18T4j/26kVFwqm3phZt\n",
       "wZh+anTUad54ObbPenTt9lHz9gf+Ex6jMhBRLsuwnyZrwIIKi/brNWSIXGTxmf1VyKTijpQAMoSc\n",
       "uNej/URQCr35BI44qxeR+TtciAZw2NX3Pd8cZDJoV5t5FI+FOIZoklTo8YVBGcDr2uunzhfpLp1p\n",
       "9yXa3BstlfU9/RYs2RBPORnRcuWcY2HqE86xuGXCh3NiMYOm1IH6JRiX+XhP3Mz8M7Ky3y6gd7Eb\n",
       "Wbb5wLUUwyzQD8dCNGhWtErsFy5I3pegUOYlHLiPpa4rYBq5Qdf50TK4IFQL20peP+FdYjoyByYl\n",
       "zT3yKvmPRG4iGH89A/OsoLIdL8xSo1UazURrE6IcXGLHdfVohnYITOGIo9NDKymjFlmFLCztvm+r\n",
       "7Ku5yYJdWEls5eW/jC///AdmOyEYTtxd50ZSbaWNIyn/L9s3b2nFfLyaATDcVqBM9mxo8lPKboh4\n",
       "ukabSPFQ2X86QpICvCQJL3M7Sp78op2UL5Yyqn10jLh+mokJKNIQu7uOTQgy8eFyw4X/iPoQ7sa+\n",
       "7whcF+wPTDTrCQy6ytFHewUAKHc5pJOIVUKUno09PdkNWSOXc2ZUuqKb5nierVuzJ7tmKm2qkTWu\n",
       "bvQvXEZjEKG/txTGxlG5gZm25yYCQ0y5lBx4UdPSdBgThvDcXE80S23LJVhE5Yv0oMK+Squ6dPuw\n",
       "bsW0G7Pv4eXttmwTQ1PNnGJejvgxiHZ+H20xR+zd/n3W6wZmTvupwPYuD2iKy3uRX6rSB+1XTl/R\n",
       "ICJhERG21bTQ4Ez8j2viW1DZQmDBVAguM1s4/XPN/48z/ODTQhvxSV393NywtEOZlaCX9pWBQsWG\n",
       "qnqoZsa/Z9puuG/JXoGwZGFex0lOAlzV72ajTVajS0muvwNIyKM2fCe/Qx2TOr7N//p1wQ5zTYmp\n",
       "GpaT6T3Rrv4Uvr8H1zmQ3Fu8gHE0rSNjhKhzVNCch7w2Zya2XI00LYCJMB75SyjI5HxuU7YK94g8\n",
       "dcvPk526Mgzlx5xb9bX1BAIBaidS5mlgna7aGGcbV13fxwunX0uXzDl8mMEKB0vRyzm3bXett3XL\n",
       "JMgomQf0jNbnW666UXzh4f1xGcKWq8Y6CzOV3Qh4t6LO7kNfk6aeCe34q2llg6CYvlA8DAnWPwJl\n",
       "/tGOMRKpFgwZxZmclg4wOdyPopMfY8diOz421cCJzSfywa6P5MV0RqkXud+QNbYPqY9xlnkg3aT7\n",
       "wEToIcV/TAuT56dwpDUWEmFnhzKbb9WnDE99DAm4W7WYA+UP6LdNdF2pydkFvBxFeeGldiUzCXPO\n",
       "v8JsN46jZ759aHKfgbm13b1Wtd68/xRmu69EBMdC2ozhnDmB+4T6BzzPfGaaRiHr80qDhQt72qSq\n",
       "++EhyoGYfvngLkFPk4ScMVg+uTDAYv8g7Gedm/mEnzdfhfr69x/F09DFHp29m2StzfK6pQqYaJgT\n",
       "H6gkk72LH89dW0oErJD3I1vLqJtfeCKmtx6MgHF/7vxqfOaIuEoTlrG5QEtDiIPeP/gUEYfjjpid\n",
       "b4dw0QKPiBM3fF3o8Cck415es2FEVztolm7hiA8++6doQxzVbB8viJC7g0rwLv8NtoMQr7NYKYHJ\n",
       "bk5L3t43W36AqKjMePLVqgFWBHi8J0qCp3xg85e2s3EUlcX5MQSgEE4Ib91AxOLHLzgF48p9Ckrw\n",
       "41EixXpjPZx+KnQFrvdpsoszZCHkMl//+AeCEg2LaVYQxa/kev7VvLKNuT0ge2OTzLfXHJdoPw2y\n",
       "H9qBlk0TJUoJF/80jZJiownvlDsFdDCDNK2jDwADPN/Bn3zB6DINKBuMTj2UflgqAYhQXjCwCYCw\n",
       "0EdzYVF//iQaa19v57jS0egRNcTvdgXPP6gq9NZrzwjVnph1qpJmIyArMHhVSgzO6wNk4UGRgthm\n",
       "7Xv9sCC5O1ke+AFCVmZe6iLrb6rVSGrZ3gywyN5UBbcla+3HmvMtdK+9ZWMDehb2xPlDo5JhcYq9\n",
       "cYWAjWZQZGMfKnXOyUPWAb+fLqlqqNyA5rxcUsKq2PRM89UbZGbiKkuEywkax79/x0Heb5ne09rU\n",
       "MTi/L7Qj16Tr69FC6OrRM3Qmyw/vIAEx2M2qrvNqz5vt8caQs7ve2/qDcrzc0WcVk3F/xJwHlaTM\n",
       "PvwjhOJzuOAXNoMgRQrRhS4a5aXveWWve37S5jHTq2Yj+N3NBSJUvkyPMKtacPt16mtMiSKixqVt\n",
       "FXZWek6b6waJZYTm1h1hJ+ZU4VdARNIiynv58+WRIsCRac+mwp6qQIm6LhSFTcj6h1WyvEA+6W0c\n",
       "7akxXdMjC3Y/4SWaMd/gHMic8slwDWzfUZQDnhLB/5EVGQMs4JsDg6UrCbI8cAD+DPCz8VhSFIIQ\n",
       "A4iPOHlOFZNhbj57XHcJQVL+qtuVHKYSCbqBQsPIwl7QPEYYn8MFvCQcy21xPm+SBcPpi2mm2ru6\n",
       "MRnun3ERJHSW+pcI6JNZx18PtgGsk4CwwYj4mUCSOuT4WgAyZVnRQ22LOWXak00VUlSyuLG4ZkBV\n",
       "w//wr4EEHBHw3kXCdjm+GmPWB8A3PGOfBKJjBZsdFo6sF5fqhktr0bBkIv/F7yzg6NOLpof//0Ah\n",
       "kaY1klTeL0pXjUu7kB84wI7VrPUjlyzIY6Jd62BSEsRftTrS4Qdhi4Kk7PiUz5q5u5YO6GKARFHw\n",
       "/gN8EfDY0Q8y/BM+tFuYO081RfRXEh2DkHiQDhAkUCaGI3lJ4tnKs+Mi3/Aw5F1xXEDGilV3xohn\n",
       "YLBtdOdxfWffVK/bHBKgRPj9sGx4WrL7wDczW9lY8hYPlceRWfhyjyw17jKjq/7zDeVwfxNmeZxS\n",
       "ir5JWnXYoP4/bd89TRv/OXviRoQF5Irdw3QwqFHlXVBjbux8DIXA5tu+WIR8EukiLadtqpD8ee0x\n",
       "HW22G3YE3op5R9Rzclu4XO8WWzOm8vcdiNm8ten6d49tVFcDBOc6McAsILyUYA4X4ezlmpy8XK+I\n",
       "A+NCmifWP1V9I8ItNt3WJaoFSsZMMuzYMmaRwvlaHb8HTYje7agq0/id2m2uKt14Ht8BHTwfeMQJ\n",
       "M0oCiSjtmaWhovJsN3E2q6tP8bazDG+jqH8e0yDFq7rigDol4jc8YZn7WGN4TwwGQa7EXrCSPYvh\n",
       "UnRIsTFDuU4lSgP6D4Zdm8ZDTYibnkZu5UQ8wGpPjnBIScFIZLV41o9oybqs2HXOePMIuyeIMlV8\n",
       "EH/npooo68rMAy1NBUlYjtxuYQW6Izp+MTINeTzPVJwzJPABtJ4kMTk1au95qj2cMHKrWsj26aVH\n",
       "6CPPbBBQlWVeLfiLak7WUrYItBnMe/Fs151hRchL52SBDo6Cal6XkT4CIamAnqsC49iARvb33Jgl\n",
       "HToaeql8NLrH+lcBMAEMymicjsVqMl+MZW3oNyABZI+awhkL1MuCFa5eiuLxGtACepeXb4Z/uXxM\n",
       "SJiaoFe+0DHdr8tp+AnS6RFQ7BGX0pjsuSTydK970t5zEzBSOMZ9DZkRQsHLqVHG8yesxFQu8E9u\n",
       "Kt8h7LjGCtXuam5y9Bzc0zwSTLEhCMZ7TqaZ4RbGjhmVTqGx3eYTRpljdTT/h+R4+aTwfESaJ+lF\n",
       "UVYeKd7Gz4OiHIh2mWK/bhOkufpu3OAkwsAAkX+9B7MQZE1WnU5e9ZrHNVGAzbvqvzA4Szugnl7U\n",
       "uoTApzsibmONZEOMlBapx7/8JiETpfJBxxjAEFxCAVBki6I75Xe/zg6L5AcjhxhJGmOUlvbMgsUI\n",
       "UHN/UN0YwNGH2utsLz9tlHBqcGGXvWPFok5esJANwX+QVz8sXUQBDl5pFZK7LjhAo+7tSH1uHd6j\n",
       "R5LFrlfVv/SOO8xvcnHa6qaFjeWDo4PnauZMuSAODl13mV9JKJ4faiqZtSEeW9z+IALBXNRTM/AA\n",
       "zPq05FdPDpsEtoPoJclZlYu3JIzVK5d1IkHUal1AWvolrWanAmxRD8enlbadVJvUAAm5kF8L6ge5\n",
       "lj4ElhyppSyu0ZAj8Ixz+DjiJnBBkGDmWA7zwX83fzAFoEG0IHBoUQlZXEOZbES98kKPf7/cyL9Q\n",
       "mVrlf+EOd5LVRaB42vhOaeg9xNFEXR90HDcf2Grmll8W2JpA3/obymCkwyqKTxF7zO+95XUls9IC\n",
       "ILPiGW37PtKXv9p7/W4UWMeKHe2zHL5oNxB/c9qQoQfUP8oQEWQId5UxZ3gTj+RnscK0JXMeSciA\n",
       "ICcvu1KveslnAXXK9oAUSviusWMib0JJ6qnJ3Ez8K7iUrIV12pePzP4vPPNQcc6kBxclEQlPhQgi\n",
       "1YJ+R41D7Pm/+lTSI7vmORVGuK/5h2ZddWHv9ouwVczcxBFduSSBrATpIdvHkZt4PfTFjJCqRqPN\n",
       "sgAArQGdXx/0LIxGQKu0YPR/jnCvsL2eeC+5eN3JM5WCFj8JZAUUJ4X8bEX9DI22Qkgry52QjhTS\n",
       "2jAK6n/kjQ+rFV1W0lbxpkhnO2SruTFZKVsKeTvHsnvNrBRGGyf9ClmH2NzvcODR0sFSGUV7nr3+\n",
       "4U6AkOfXHB4RsfF6bG3nYzUTsrmhe6V/s4Y1LN6yNlpdUPX8qFV+pYsYIgZFnryWzRT9cfBT+3/q\n",
       "Yb/EDkJKPFPupsR75rrRP8v8QpsJJwT+XRCLHQhbhzK2SyDpNzV+lKRw3N9QgD0hp01OuX+CMJTh\n",
       "OSXXqrfhuWl9qY2wZnwNLlNf8kDRaGdtaD+QrM+ZgIBgR0oZ5nOOCaQONotoocmN/1zzcIUiHjgZ\n",
       "4CEX0smBrG+AAqxO0jPfsDmBW4mF3hSw2h4cCNoho0OVoNxT2pN9iseBXVubq+0R2BeHtUpP/XGj\n",
       "KFbvpuSgmui2eMukecxahOfB0yMAjMeVVPUM7IjBgfBO5hY2CVHLdV/A9+wyJiPr5G5nCGahZCR+\n",
       "EAf5TVPVMxZyMynyndlzeytFbyt5EseMqR5sOG+X3FcvS4e9aerQ3ipcCI/FCFl1ml8UYUcrcvCD\n",
       "0hGDX9O/GVB7X+/EPirw+Og9lTRJMvHOztLtC5592oISwHwL0GTN8dueMkVb2mlZwcBDkrUzW+7X\n",
       "ghyoZf2P4Dacn1YUAutsjq/YGjgfk31oGsQBThNnARINmOCHrImdZMTe3SUObA5GL56i6Aln/h7s\n",
       "oNpE25ULgMvvGSAtBbfbwoiGpUxLZv2B4P3lQhurpb4Wvvtzxd0YNo9IVbAKj7DEPzGEu7gHTEb/\n",
       "sgp0euWbchM5DAzTjvntbcWj76tFTorvHJ14GYeQ6z/y8s+oLMO6kAwG5po87YXn+TDxFxi6NXVG\n",
       "iQJnspxi/t1t290gmBVfsFRroz/ttNWlKQsJ7JU6lzdykCHj3RQSuxl6E9d7NJ3ikOolvl8cxuM+\n",
       "9QqPQu//+7JgUP5dZMP3e5msxprZo9eL/p9kLU3IvVOixYCQEYK7VudCFdIkltVdohp9oL+kdOhz\n",
       "xYRmVY75krhJu3paExYPdjTPDtLhsD97wk6ooA1lhVeB779GvYB9moaWQjh/GX8SJey+yglGu9N9\n",
       "eZuApeZtDy498fUxnAmcOD0p1GRMJMmX+O0XOvC6lw/OtD3dwVaziJUziNri4NJhFtb+fbZPqYbe\n",
       "EMMR+rNIs0BeJSPutIQkjW5iXy//68EWAixJX5jobgOydSSXs5Mt3gotdPlxr8cMSqWm3m2xfMzF\n",
       "eFmH97joBCLdpAjOUwf2Fa1zEC6RsyjlHLkMdBj1tGMCrAaJt1VdFbA3LXC5RHaN6KPbHhmDYbs7\n",
       "ftjaVe0OHLqvsOTX67dyplgNK/B+5639MY7zCxnbrhOfX7sBRy1VK/s2k9JmjUtkmPf7Nhkx1nav\n",
       "GL6Q2jbU2bWR7NMm/3ag/Z+hLKHdEeN0Jdu+UaXDQLKxVv9MBaXkRhokB/OIOL+AEcceBHCMErB+\n",
       "zP3fGyEAHY05KBIeYWlnsLaBC95MDYWqhg//hOZBogX49mn9knl98yZL/5ChGwRYEpU/Mq/QLCNU\n",
       "Tqb63A9KK8d+VfyGeIjXef2tR3nxmiduP+2LopxEJByeq89uHRvMxnRYUe36TKNcAtThgoEMAwwo\n",
       "Q2nQhAAp4BnwGfZaUYoItqvRgM/wAfxjY0kesKxJku15NH6DRLOgMFSTSZf/NKPV7Koh8IIWu9ve\n",
       "DZVUnLsnHLs4nBRTGWBB/hCHmuhCOdKMHsxKfAdZFAuxTeL9rZ/5mvDsioJ3RKkHopt2Btvy0iqg\n",
       "1ZUaCBc+FRb0RmiSqFdJvE5InI/Fg9Dta8ChFjOfNs7fI09JtK8WbYqkXI56F/qlSusG6gn2G8Hs\n",
       "p5DUMhaaf4MTzL6p7h3fv1OWKzuEEXGwUxTdgYGk4ePL0Mx950Z3QHaIppjZY+tTZcTLam3YPO8s\n",
       "9XhlqqLT3+jC7WxrlykD6gOs2chh5GL92al3x10U/zE31L/Iu4F4t7vRoQTL2qzAWPzZZUBfqlGu\n",
       "/OSyRVA4b+eBollgqVxYyYiVkguQI/1aeIhfU4VBrKPt6YkmWgS+yVNeK+ysPUiNx7RgoQj7xeIC\n",
       "AxQX1VR5PAvJPTw+axlgFNr4itwMGWwuqrsE3ISLcdEb7ejZG1lTV5y/Kbar9W5nrWkJh2p8SpCM\n",
       "5sDGsvd9EsQmZzdifSocxU3IM+7mzthMvZo3js8wjWfxQdzLPvPe0coz2p0QLq4nWoC2A/2e1G7j\n",
       "H6u1b8QRT4KP0G+lD+YLCqxH9IHpFlWWCbqCzeWKTp5RnHMFnDF6Tq5Eu4DeQqDsMrA2dBZ3LZAF\n",
       "y94L9+mObFHvvScUDbRX+2hTVTFl5DQs6KBl0t/FT9sp/cx95zuLP+NzWkg/WsSYpq6lsdhwMeAm\n",
       "jhyyCdNl52uq9uZkTDkl66YLxmr0dU3ukog1p0MRFLD00mL2lONefivs6K3++b30T+mUc8gT6cjU\n",
       "lUAhiMfzZgHzpjrec0D86CdKMngDmcfClo7Fg4z51cGm+ztLTdmcA4mOr/SWLeAHj07+4P+bm9RM\n",
       "yZ3V51MxEY4qi4Gcz3FiroR1euKR4XUr3hZqVS49WM4sJ6v96T6cQrc8gRBdoui0jgalRfPaaVFV\n",
       "ZHcYRS4PS+9EX0nryMiM5XWbEwdqM8fzJj/swnkBRYDJh7AwLJoGcBZXdMz367gBr0xtuWZ1jYH6\n",
       "zbb+2CYFZJYmIzSnbOkwzauEFtdoR3C29W8VmNmz+RCSICAwU55GGR0U4IbAEZRPBjvuncfQtmd3\n",
       "lV6Zhgk/yi5OQvMe3sDDMyXMkNbsGDxWgbca8c/TmoslXzlgpeym5YkVk1hKknOSkyznb5dTtva6\n",
       "27zXszg3/9ZrFfjtD1YcPLZR4QbcYFdw4x0TijtoB3rHP8slemasM7uF8zXjzuHsYJ9dEXy8TFOV\n",
       "VbKKijNFoWB4znyGMrD/2pkbYG1/fLMkrbh7gEVGeN4WRPtkNictXDyMzk+k1gXB3JEMYH1yST8Q\n",
       "gugqiPc6lzxLGNZju6V6+MX2RoATrR/6Nh6C3b8EDJsew9Qc32oxqzTOsvsB6Pi3eUuVR28E1Thi\n",
       "Yr+0zpSI6I7rass8Dip21txnzYMmSQ3WIm9fO2oASW8Z8fpFqOV57ZdFVkYDkH5UqxPc6/YELb/A\n",
       "jgSevblcnaI2f42Q06cW0Fz3CmJ3bzJfIKg2mqlbAzTWLJRIdvS8FFpIQuTlBRCVw+KhEMx938/C\n",
       "rkYKKES/vRTCogWYniz/yL3RZmzmM7oNYh+JmezJmFH4owzMdKxry6ptXjY+3tHM3lPCk4RBncxi\n",
       "TBlyFX4K8uoaLCsC1NbYo9OVRsfPM663+jVAsx+bG/m9brhz6h5ia/OK+DqPnKySCTpSkzTyWinM\n",
       "u9pJp+Cw8lwzMPum5uDgOX9X6orelYFRvGustRDLs4L6HgJaLo/irad/9r814TplxfANn4oqmEzV\n",
       "cO4Xa7FQ6xDj2FN6N7v8hwsmfT/bCFZECDC/W6LmynJCK3iyYs7UkSp7dGJVLdMKfSvPPErn6pVx\n",
       "ox/LAJ2jfiJ2xjGW4IYK6X1K8mHL6IIdtnyHUiMI0E8MDJGa6L5NWeNauYwFso3taN1vDfCHZRRN\n",
       "603/aR+uOXHrXtAui0SWUAlFyVCUO2/ICJiXDHHKi5twWHMusczsjpJilreDhWu7ScWoB6LQFZGt\n",
       "B8DfULFmIzjfu/ODCkGBWlm5T6mpoZ65WXVoF0Wfb2+msA3hKIi9LD4vk5z0T3exXwubV6tn/ysb\n",
       "S5OFQYPygpvtVXJpY9Y4YKqUUAaf4EmW3aeSx3HvhhDe+Y8hPQ/U6S3PT9hdt9JRm0bdZTeCWC/w\n",
       "Evyz3JOi9Sw24enAlSoyPrjIeeHIkltdP7+fr1JiCSNM78dgJ/IKtubDueiM/Ct/VLyV9FW+gw/o\n",
       "eT9X+l88whyZbizZzFRDKjcsX8wkV8f3uJVP2oykcJD/QapU5G9S7a8FgziOCom7gNhybQcKGgZO\n",
       "JlFuA1tTAQrHNwN5y2LaxERc16EGgrqtaMxXLvq9Qo8kUBMuTAe0z+E0UklvnDeZuvDihn68NSR2\n",
       "ceqKNXxTdSa7Rp3/m04ynaUsF/0eCbwlQnGTjPopECqzQv7sG8YppNgYcQPqOETaruRTXB5J4A91\n",
       "1mj77gP6oKXGMb5JQZ4FVAcM8KNNF6kyMWhnG4KbyMuGPBcnGT/fjjXzmw8QpAi56vN/vEquegaB\n",
       "7us69V1hftLp1ECgCwOHMRcrIpln9sHPLFFKx/uLdrjHBiPxkA4s+NPAAiIMOjPMGDjwinm97pGB\n",
       "r0YuHZ7M/TdButja+4TR58MQml8CGerU2obCql8dXMYGeQ6G9cEi//ORvaXNW9fSROwa7Z2TV0+G\n",
       "Adn7f2gyAaZRb41BrRLXuD59NV2t7Ka7llsdFyjDpHMW0v2NTZ4isMV7pDsyiGXLQZra+BUJcuAF\n",
       "As+th5nI8gM1EcrtwLCrHcPA5iQeV7Gqqw2aE4mhbqolgdDAJEuQEf819ehAqeBWQ3Bif3vr0rQ5\n",
       "YacUCqbIj2tcZ50wBQzX+Fb9Gdhh1T+IhSb+t3Xc/kZAVqbFSFRJhJ1h6NE5v/CrgF/ZKnbD8qKx\n",
       "Xwwo+rKiCE1ZJaSvlj5lFFeM2pjmTSjsNO0yY56Vfpj+yXQ7FYf7ON0+1JCBhZLvGlOp4ywX1boT\n",
       "6gfFT4HDdS4wWT4wkOLl6QxQvHQmMjXDNPt2wou6p1MJqsXzCCl2d/l3rtgWfezn2gWopGovPVpL\n",
       "O5COcFUCw4uqL1UpXiVynJK5zmTulyFIO+NtOfhWFY9emvlusPyUCQVFF2CqP8XdZt1g6czHTdAX\n",
       "nglbe32GblVuztVa+86wuE0ttd9E8Qe7J6DZsaScse+0OHPgHI42SVAi8ZNrEfCiwLFPGN8ZvrRP\n",
       "Rfh8Ae81tFAXbu+NqxtSECWAJSEOxy5FKjLEJL/UpaPdTZZBSCNu8zLvg0vjl0a1XN6a19cuUCqk\n",
       "umgmrkc1YlKzcMSet81VMtVppkqCPzGDXDUZw5kkbr1kS5VipHkHoIFNST8QuFwoJnRnxSr6sfku\n",
       "i4mxF7RzZHkZJxevh3+9ZR1flHDKp74Yjz8i8PSJ0QRfnTjBX4eVU14+sUDyETZhil621qATphvk\n",
       "XDXXO2CsU8DzFAUGvib8YGWR52ILPjy8JjkfN92SQDMgfRd4NMH89y28cwTbC+lWwuJW4+lG3Ay3\n",
       "tB1RglVID77mOvKipWjJBwsIxUe1Cv5WVcWIBbWIZfxW9uxnt/bYZgpRdeEvw7njJcjAzRxybIso\n",
       "8VZK3Gh2bpzynKwLlHaURBx7CpExsKWdlWwuwkBo1lRTH10UPgSeRwCQNQwwq+gu40T1Pv82zebg\n",
       "U6C3NW4NTbCwk7oUF1hNCn9H2o7LuYM94Nv8Y/hNMqF6+QsP1c1WX5UUnC2b6PzoZtVUc9JeYRXg\n",
       "yZeF9q9MT3OGP1Q7N4KPg1f7OPnNO2z86foCs7zZ6lyRXh8H4xThwTrjRqXzr337yH43FkOwupgf\n",
       "kHmXia65UryiWi6hhmZgphlXrxUuAHAhI0LRUkjNkSQXzMIv3scLyCe3m4M43rYPNiJf0th4Euzy\n",
       "DsJ8u+FK8qYJ2AOtj+hg32P6KPSjA5565rubNuh8eMCZCTrVUAxoKg5ujYDfU/cf34Bkghj/vMl3\n",
       "qIYtHOdwCzNctrmutWwcMeq/n9yaOMZwaZcraWLhaobg77Gly3fY0a9kjkJ+ZlGunhjc0EqCPK/z\n",
       "3qzmQ13IxnhrjNhJPjdiDOkEnPnb7bTyulCunhsb1Ebc+MkRc7e2RJIfb6tWW2BysobdADlUGsjo\n",
       "SWdKzh/zB4g6yZfK8nZYqcRCd0mOk3LDn5QYHhIjDzDYs3uqvXyxsWCV3RoK6LMdMpcc/qOasnVd\n",
       "YVxFu9t58ddIVjUInfPyq0f+tzEcuZR8VlDz1QgN4SlQvHmWX0scD3ZFygQYlL/Gxeo3wfcq5r8A\n",
       "MNiYrngsqAv1SjXfnM3EPwBxC1JdFICzAVuPISVCdoH+vxLCICkWqd9Fw4LLxSHxKsGDiJ9zV6yn\n",
       "88c86FMK5+PBwbHWlGnHNxyf9s6bC0umBTHrISbaJ1xwdnDtWxlre2HnLHQ3S2KOC1N/8YAU3mig\n",
       "UUzQ/temP+VJ1t9Pi/cqFPpCDITFM6IYd/uMJT8vOpQQiX4zASX10jvLAd4v6SYWypcXP4jp8Pv+\n",
       "lnR6S0mvIEHpCa9QBWcOkRpRr6cyfHkCuixOQ9YxQfa4waAvu9unN6jsBTb4Qv0M4oNtPtCOhfDG\n",
       "3QCSepDqCJaRdFF3ZkiXxwvay+uYbVAvInWFo5Mj8KqGlVggqbmq2ckK6M60dezk/qiINkfA4nqW\n",
       "ivvHDWnle+EPyqHaRPP4JmrfIEqGKZ9H2CmvcOMOGRMLxsT6KJ6ZtHqK2XSNymUgC68jW15q0gkb\n",
       "ytjRQ/DG1cGt3OMMdcLlwYHUAyUf2tTAgsFbAd8mv5lC1s50oEaMzeoo/SU0p84rp7rNvNxAa/si\n",
       "W6XYvat/+ZI8l34FcWZyU2nmwZ/SVEOVHR4QxFVR8p7ykoSi5si+L4eQXtmZ0bKBqjYErjGRiYyX\n",
       "m2VgcGk+MiPLgKYKLPC/i8IyQhFcLfezJoJbhyH/YjzIQiq8Udp/5qL4h5KbBwQmcNCUitxFAQZ0\n",
       "uTguZgVKHEBTarT8UUrAfzH1o0c7tzETr1XKjE4cKmcHNSbhX46sHQuMlTvTw0BU6BGowiwDmLqF\n",
       "eVsbxldlBCq7tcIIhB8+i0UMzeI+rO6syphwSQbknWCsjt1H29lOGi7WgK8jWg7wqihgIMvq5FiJ\n",
       "Uv8kVo2SBJuYitEHbN9XOzi8WKllOfscENprPWjYWFgoRnuMWTrL7kQLso4wyxTIvBWrvfD6TI7R\n",
       "7V7yLd0T/NXQGzzyzE6XjVjO4u69pLFvADx6d3BiYw/VK+WlRmnUQsqHitaPWeJ0s49HOi6LfJS/\n",
       "a8L7ExjW4i/3y/N05pAP3/kzC3/FdmPCtRw1dDLDPcd4iBMXthFVv4w1Iafw2XMzkoFpiAcGLhEF\n",
       "Qz7DB40VPnVtncYHGMuIjWoA9ikJ4ZFjT2oy3GD+kMYiWOB7sfNsOJ8cz9f8PeP8JQ8wGKy0AISY\n",
       "P3ioEQtdG3s6EXdouYf5UYrf7ZW1U57QUtHNi9OiQ+YfuTaLCI7O0OdljHJlTGmMtGODzEzwpJUt\n",
       "8I0tRY3zuFi+mVFZHf1l+hMRZM8pD/B//vyHINzWaRlxecUULAHUdBF318KWJEVhwazW+5dOuzIU\n",
       "e7UHJ1yENeexFWwtfvY4X+ZeN1VAY6G6WxT99PeFJaRrM8Lbxq3LJPKgoAhr84r3lL+uaeoYjpcc\n",
       "WK6Cit6cFLObzgyMJ0gAAAMAA0cAABedQZokbEEv/rUqgQH8UUAE7D2MZZ52AR73fr49ygc3eXUt\n",
       "qSAmcwJW91mCKgi6+C+YkIjhvCFZOe7rkOs9WEamUd0D22+SMLTci3vuqgj79/lho2VP0yPFy8kg\n",
       "P7kIPlmL1z5UxCwXuHz2H9NlEO+R2M8dI1ECWi6K25G/RWhpNndNJjg+NQSX+6+Y3osXABCmGBc6\n",
       "w58SAGTy7bYQrMEzbiW6dABQ3L5CjkwdJ43ovXxcg/tWmpQILqUMJuCeZFffby7Isy/lcYR/7Gzn\n",
       "789YR3GIdEMtTnF2+XJ0hmHreIUjLAD8sLPXa2MaVDyyfwE3XJAGUWkg98pX7LRu8mQpMxY4c7Pq\n",
       "VOaVS4lcD7cRk+cgdgOW/7SSddDTptkLScem6VpaLPKlhWFrq9OtJueLttYYrQNjQhsidKxHlCai\n",
       "ApsbQ+MOO+HyahfEGr/Kb1NFlHXMnIOcSrinr9SnN4clTrjFC5Tv5HxzC3pliD/dc3oafS7q7vT8\n",
       "eLyB+vRKZgU0Oc6e4rQBLEyGvHRTpwHohhnqhAEtYwtmLoRgrZRPWtVssmIjCNLccFAXKJP7ljWZ\n",
       "nDOi9fvP4IkLQIVHfEVzj9plbk4v0RXHvHm/9zSwwmilCf2Mx2y4//vKB+qYrMrjmJOTqRzkif/I\n",
       "ve8XFFfO9yz3JPO9ZRUvOk+34Qq+QMXI91C0H1QYKmVwYl1+BZ1HnHd7nhYfV8ITuHLVg60JwDmU\n",
       "3OTZyY3LDph6WY+LLCPr+3rEa0HQLY1ad9MmWlI5QPyYyD6pqHjRF9LqNOihRzqHrhd2QkDib8Hc\n",
       "K2NHa2zaNAn68xTUL7xK+EY0vwNN0CqMMGNLRaP5TPYLIyiv6TxlqiuYi5txYHhjUivUa7fbh+y9\n",
       "2d6lk8yrzX6rfz/I8MYIqrJtxmETaK8ADPOW/7YwTD85ZPNGKMgMLfUm1riJlhO777n0KFTvyVeU\n",
       "CQaXqfetYQgaaf77Ra1NB4XSCRi5yN9UO6nE7jqq5jnnxzdByADbBnFR4c4cU43huJ5bdx8hlL+X\n",
       "VpmkdgpzAQfjMlw0rzvvx4+ffBloMFVl6fes9VYEUQLJn65Jh1W2E9AlJDwxEXCXbOdf31CjbPbB\n",
       "w4L94Wi5kpWSP5zSDeD/5zlN6yR+om70Gp8OcHu4XrEDBKQ9/8T2skoJuIWaL2HXVNT4Mt8V/C8n\n",
       "WfE+3wpvmEugDapu1ly10Yiu9kH8GbCrSJ4NIcMkrPWvtKp1KhwzP4QZWmjD2Larrtwby/L6Vl1R\n",
       "c1DNobFaIOp0XefJaJH4Q+9GhO2ZqsgibMTiYGLYK6JcuGuVYZiwNn//wTJI4cUB3freKoVzTNTb\n",
       "4VOEN4N5miBgwCa7GpTsOxt22nykOsXWSy+7sd9efFWRp8bzWSJMlPPX9cf/wAdFTPFPbPiiL5P/\n",
       "d+JSByS/EXGPuPaT/pHc0JspBG5ZUVvQYZek465WcnISm8EFEK0PSffVvB+4MES5AslLQUUhMo3L\n",
       "v5LXpYnHTw1dxj9NOrd/e7wbIjtP436V2NnlIrHTXsAJnPFGSAuVNQibFQoXSf4HP/9hSgHUVQ/5\n",
       "aDBtCgNqxnassxbdoVQHWv3gOdGAYfyAc8KBZA+grcOe8qK0/IbJGu4uHTvY9PeFQRZCHHLkxdMA\n",
       "2LLmGyYzioM+6J52L+tWzNbugxAu6qFwbgzkGeU7obM7ZMEXykxXRisWLoOIhk9DNrjdnKGJ+nYB\n",
       "aRX9UL6g9xcqQu+7IWyDV+AtibwRzuq/Qbm00POvEPQXtZCYuEpIXTHoBvTJ77Tk3miVJMv9Axw3\n",
       "4SZgPwx4tUlKZljj7Dzepz6ioBy05occ1Q7CuXo/NyQ/FiId16eknpHZhs8uQSi8TmzlTT1amamU\n",
       "hQxcLlDQykWWW25UnJaaSNFVy/nZwulLRAsUMdZVxvp30BxblIeqGdpnyIGPTFfxEDCxN63CLqmC\n",
       "B9bqZ1k1KQdzGMT14SsswsIZu3SC/3CNSYx/Abc0X4UwbSCy5KVBeTWOoiaS8D7w4ymfaZZarq3o\n",
       "s0KNwpzs7+hC5ezu8Yz1y3Dp1p/Z4s6EY1Jlli3pG8nGk7/ZrXgP4AYAtQwJpmAXF2I9nmL2d9ih\n",
       "el4gXulhxCKvAbFftrDA8dJxipm0LLbUxuozhLBSz0FhfdUHMbKEmp0FtfbRU2TJ6hai7QZzX3VJ\n",
       "cK0fEwzXTMu1zXDb28qfbdDTbMqcUCSrpAW1oYTUp5ymKo804l7oYS4LSWNoB2LBqb/hyEF01dWI\n",
       "EtkchJN0f4wlEVcYK9HRGqpgfcagQSlBER052F1uOkNbkp+1mrTBh2mpS7bdzeWIn2GpMpSoNEaY\n",
       "aYlw04PfM7nDc0d+g2Vk2+yvSn6aPxR2Cf7O5EDE/qVYdRrM2YC71KaLvgvPSIz8hyhLSCUgNBxU\n",
       "7hLSa4euNUJW7//EGlB/O4gsbC/9aHv9LSa3mnRiVR3epI5pfIjgclVngVoHNrDC6RPAuqAbyNYz\n",
       "iFnqVzjLe/3LZKDWlNU8n3g0AZq9CeUHQIZCrQ/zosCo4GtQ+Oyi/GJbj1p35oaX84qe14WlWKO7\n",
       "P8nD8IeBJUeDL6Gq882QkCOBNpuUSQyHL8OlYCuvUitEYnwWMfkIzeZF7Dj2/xgczAi5hCASrUNZ\n",
       "rrPPuzel7DfKqotSO9a4gHR235za0Qe9PHwmlVuvl6kcCuz5+ak7pEi2ua67agAISV+n74Pqe+d9\n",
       "788323+9IRIP1tYYYeQoMRzaQaHAO9DvBtPlXQdfgnhat3AgeYIjYM9HBcPW52hC51MsV8FOVSa2\n",
       "gxx1+gacJzvYE3qHWGXSXypRta0t5eLycFjWF3zeyuloAStSZ+hwyT0Zl48k+BSl+UZFHKAA2043\n",
       "LHhhqxVTTrY6rhXZxGuh1Mo7BHQY3oVFoSg7qnjTltUoR7O3scisbWClj7SvnqI2Wpz/d9RrNZdc\n",
       "Wt6GKoD6r1jtcAK7ZRWsi62z/uk1lDUYXTk+ZasSJj9tcmtAsa/yCdSnFxivGOveiro1twfYbOX2\n",
       "BkJ400wazyB3nyMJGdvvXhu3mVO725RoGRUZYKXTyggA6RUQi/Wj3MZ020KgUkblY8/JGtuha5nS\n",
       "/egMjvqZWOks0DbGrl7A6D9UHZim8qWBl+DJiIFk5HW8zyvCnKUxOfc9I6m0rDh0GR515bYtFMzw\n",
       "mGaKxHFqyVTlPZGRnygMLCyPZqJ41E6kwmCuZSv4UPAODvvTu+Z+aSBjAwXNSVYso0G12Tm20obR\n",
       "u9XmXk/ETrOebwl5JwAiF+nalArAULjGdV/FcZ2XFIZ+LnUFxnqPSE4yyLsa163iEjxn8CBm5ekF\n",
       "UZpCnAStHW65PqtT9OYIn+uauzXIYEeC767++GR1rjObJUUsxLKO3XvaIwk2evYJ6juvpk+YRmLB\n",
       "jXNvgZzXVxIjkG6IpSRoZZeuYhndzHo6qv4rIaIZfhPmVhwkUcrtehDBzCBYouWP/2bgj0DQ1S5c\n",
       "+EmQRZavvGBvaxHtRMmSW42Cx92gePInY8rwPqP7HipWVjwOv4LxR9giecv7xqQ8iSnzkMIt6hHR\n",
       "NNsKuuQ6SpTBzjtOstq7L0xPTCluZPYiteajDnmxwW+J/7xO9UqsI6EZ75rFiEoZQTOl9Txy8J6d\n",
       "/zAdUDKNSvf1gnGWbLhw7E+WLB5s4jbRHIca92J4Rq10rvJo2E6UMckEvqbZ/1Z/8d0807WL++A8\n",
       "ife5fhhuFdqGDJ76G8oMzU6O22KVOtPX+lAGtxGN8EFHnkTILWiC2UJLvdmPUKLCjPEv9e5H8n9X\n",
       "71x7Y9dwcB4KDensfDIA5zyIfZLb3rKxl8vAOA3gBISv101yprNKeqc8mwGr/zRG+sKBITMNzD9Z\n",
       "nnRB2I2ieJUfg+prxrQyO+JHxaCzMlCkOvqTCovnjU2z49LszB/T56a3w77tTtPRfmZzzpjG8j5R\n",
       "kR9utuLLFWcjHrofWDwdZk/F199GtTDCqXrrM51GWBSylL9hEstgcFmkOI0h+QPEuI1OWbHpZQIQ\n",
       "12+KsttZd6OSqufoXRaZQI5cpyXcllK9glMoFwW56Ix6Z/gDWDHImvapyATdxAPjvUwuSxUr0gxp\n",
       "hqlsOx68/iuBZ6kKAq7S54uRDea76bcIMStDTSMOBH6MNJuPpvmNj+C9NseopAYa9likeiIbXbPM\n",
       "0tkJ9S1Lz1NTPMUb1kJARsaYP8N0YwPCEjir+T2vq/aaT9hmOmZh/syRNWiTL6zK+Wave44uVMGG\n",
       "kRR4qzkyxITuwbL+eitAaSUFbWOEdslb7ei9hOeZSWIUSzBp4nFMMmiFuUA3jStMCjGfQUG0Rxdm\n",
       "Ym3F6/1h2IsYs/z1AznzP5p9SjsoDqovut+es5ZjnFY/OjgUXKncTQTeVsR2YwWc01lGPl1o95nM\n",
       "xYaGbEQljxAaVGjTktNI0oVRvCkfTlC4Lo2gZSevvIsICa4JCf5v9VOC4BIBILX9yTZmQ+1FxQP+\n",
       "dH8jHf5PCDFLSFiFOVODtQ+fhsmd/O7aDHoNvrvcd1UVwYNkYL0TxCO8mdmp/rQVhSx/BTBM4phv\n",
       "VfHqiV7eryBNnWzFSo9gH9dLArJjmO96eAUFnLXepbSb8Oaflx0p34hopoVbus7PMQd1OHm/7hTf\n",
       "u5/eftTPLdgLhDKqIaXY3MlwGZSwUHalP34cx8qTifCkJyjCF35/HLS0WaMFoiTTqDFYxsYOFP6U\n",
       "s3AEp/caLTKDmtr45KnTVIloE84LhFVPH4+ghtFuBDv83Kz+N4+PXfS4U9aiXmxLCiYW/VtQr5Ve\n",
       "JGBYutr1isACiRo/nlLjUTlVjNEnTQqowsZ3NfBmwpsM+9AY1nSJ7as/Ro1pbVc1cUz0XTcTa5KL\n",
       "W//xZODx/NYsdV4uvUM3XeQdaZhs4GvJnsW6beDjfyShGu5nm7U408pEOtGGXl2sFFoz588jtUKK\n",
       "tEi07BBswpM886pWxZaxgiBXCn4TZxqRGWTbZaxbhH6cWcWY+ys8TD7C5mljpHjwabb7NJiEpxYc\n",
       "a1p8PspUk4v9XfsTwICmvklC2LmehMhJpKpFO2zMaeXpNqMdG2GEgSaG450ln2ib7zBZqBkzksrE\n",
       "QsvACaFzLi5myyVPzDitbL//Qk2rc+azS/wMwCtS5OJ40cJd4x+0RxOkLdLPsz1tR0ROJgIo3lB/\n",
       "/UGdwLwWuzACRaU2KcnQdKurf9Sr8mZAxAYm1v+K3eqOcjgIJqq9+K01NSrnTkIMNjis9WmfLv4E\n",
       "eQLu0Ywr+WIjXouQhKK1MhNCzhAGGVE3nMzE2aYIY9yEEjcnKcPhQCJaLuTZAVGGwwXufu84byvG\n",
       "gvXIXws3npDlWAHTXc89wNxjxQXWTKPaoERJbaeM2NSvTvAxifMmLJFFMmcFr7O1L+wD+UYbNr37\n",
       "IMQ0/0jgaWAQVyprAOwCGm74O66jBbULyao/jQGy1/hzKXimqBFKi/LaudIP7V7joQWyA/I4LFfY\n",
       "1E+Z5+EjoHRYJ+JGzYHuuSh/CWCdZwQOa1pzUFw9j11AtmNG3Y81fuHQ3FkRDl09XUCgcHZwJx8C\n",
       "Wr429+P0a7s/IEAfB1ojmwZXaaHNjtQ+OPJ9TxUglU5dRbgDmU3HOMegyfmN4H8f7q5+x/3hg6Fc\n",
       "Ur49Ca52c+QICizIOqEF+d6Di7KCsHLhR86a2GxTyHmVtoCIbluJBJPdSR5LZNEmVJm/aiqhhGq4\n",
       "Q8n8PkLms+rbFx/27zbvGFcqoIMhpWs5SbrL3CG2Q0qulD3YWxcfUJ78t7+o4sFdA1XiIGA7pvTe\n",
       "/mT1BmtFtv1ZsrddYmQpKadGwy3irGogfWjiF2ef2OhWYB1SRkhL8H1zIi5z3y+fJwgX1roMpeNK\n",
       "phDghkN/kRlzm04dsjawaqz/d+2npwIaPlCN2OKutdWfvC1VeLJIiCc6HdicUMiN3j7rPqI5q8P5\n",
       "fty0bwYC4YoP4S288VrupJ4NPyRwgGpAZfyG+BGDDHubTLcOQzfKoxeWa0NOPngUDTG0QvLeQ8zs\n",
       "+BbnoiTQdCddvRaH7yB87jilZdgUUFXpLbsIVijw3aAjY3zfRx8KxtzoVJkDKzJuEQjNRT/rJT+7\n",
       "nmq8npC7X/41XoG39fJK+SlwIYVJwlJsiGPvSjFcX1+MASJNMAwETDR/KZyByjFmv4R1XKoOGwm2\n",
       "KEaw2ckPtEc9tz0QQlXBrXkY4GEXcRjg19hv71jVYIEeumwqF+i+j2FpmnmNh+aNN+fDc7OZuDcJ\n",
       "slYrgJ0fqOH9KOGZYlGYHxq4omqJ2O2XhdHsjyJgMBJq2MHm12zSF+EH4a27dz82FBqX+UqZUWCO\n",
       "SbNREh0GofBSqsxauyOWNDyJUrFQnoW7ncbjLGPXVStvBBKIYXqP9uVN/s7F8hXzsyykWYZWwpus\n",
       "cnpb6Z5Kuzg+JjT2ylIaGZuENAtnbFO6NCEBLA/LsLtnL/+mS7WdUp7P7SJHljEd4hX4gqayLAds\n",
       "eN67/wFf/GGgEzra+vNY2bivmji8yDHY+S9WBJU1wbTDhEmV0gi/YPHeMInwHWJp4VZPypwHzD00\n",
       "wiFvC/w3fgbDONuqzobT4HYOCxRtnR4evFofA0qDD9TacGK0x8W7MMD+mfD//deCvd6PzNeDF9+v\n",
       "FbfaTB+aHkUohaTrsFrHzpYRjh41OWpGwNOtdYK0wdE/3p8s3QB+Izww9ygxO1wfE3rZKrxlfpwj\n",
       "fBpu2Piii1IUwjhlmEM7GTqCzbNMfNjWEYmfdtLROJZcAIfhweRLn0Ouqmtff7W8gPObnZwyiUrG\n",
       "+tJdysCUJUA46ZWNxPurePmBmgBiUM3twDep6BBVNmXNL0Q5C/dRON/A3nKw8pjdeTsZkdaGxEVK\n",
       "iJl2W1xtvGqs6V0dPC2mZzHXeV/dPFSwP14zLg5DpR7NRVq85ac3+CxcMfZlUsIgZaBbSk6h4cHL\n",
       "XXLZOZnlzoauNAZQj1b8AzYxsCdOLyW3LImEGfyt9oYHTz4lPeJX8tKmaMQpni0JzDed3IXfBHJZ\n",
       "25fjKXXqAeiqIkyeRj3OYafQbsGubDD1LmPZOOzkXfmT9f/09VvxCzpDMlWVGduZSVcLHkgJKglG\n",
       "NMUePbWeHg4BB86oa+mAYlsLfYzbf1TqP/f8HE8gH9+6FwF7J2JrMaPYMY17HSLe6PEWpGtljtK1\n",
       "oayIIc6MbWnw2aaVIX7vd/sgb9XwtHLriAosPu359W9o4lCoTwMweeGyS8NViyltuSYnCwe9geEW\n",
       "WP+/3ao3x/ID6joBsE85UlSluSU7Ykbxxjo/h1FsCXJKuhmYxmUWGV94Zy4KWUmBH+9439+E7XZW\n",
       "EDfaQ/QDdIn/tJmOxpMv2wgJiv5W8ZrB9+S2Sj/9sXEx8FyswrKbcC1FoSyWTSrU7NGj3VDECmpt\n",
       "08nCcQqDjootv68e9N9YAghhqXEkT2vZ2UEzUBlBMOaNlhmzoVHtjD+dErjrEVgALN9pyGpSA0JZ\n",
       "X8r49Vb3/s4EdhSrxGnwtyZ+UIWCocwIHHxyASylRYrQ5LNP1EEWXr+eP4eC5Nv6WmsnkfGIO4zt\n",
       "7Zpykfy703dJdXt/L2NC9f0+GOIK7GvlYlx4l98Nrs8xe7qw6lYTDXe5agDxvzF8zk7TCgElEmDl\n",
       "fvnmLUE1SWFf5Y7ak4h76wSaFmdh5CHJdCWb57IVGLjrQJ8u57w3OJXWVTw0wialXrNhNzEDWxRb\n",
       "c5Cv915WB+hmPiH+HbgVTbhVoXCbRggT0aM2uhX9Au0GINxTnFoJTa2lXH4Rw23E5ZrzWu+oWlUg\n",
       "Ud6MS1kFl8kosN+3uUVr58YLJv/3p687pbAxVJrfvDZQJ/tDpwQ8ceC1GhbI5Htp5tYthiOAKWwO\n",
       "GBeqht4rAdvsnNC+z5lhWJcy1kvi/9xSoDInMKSNtW03tagOTVpdDRMbrbExLDz+3xOnN1DJjZER\n",
       "BvI44GVWSir5Xk6mbn1HMSZcTc4y/z+Ykz4aWd9MpBCr1XM0GfwfzNoVCZQj4sjY1Cdvk7KmB7FG\n",
       "b0yPKBLzyY9gyofFG0JTlthfyF7y25ggpU0t6LVcVmk/h0L1e72z3DFLL/ABujiQq6vmAkQx20Bb\n",
       "FNgYEcNHaXESX9URrejfaYxO6DH7X8quoBJwAAAQQUGeQniCnwANjaJ5M0cAAndTInFc6lCCQUbj\n",
       "PD7NfZXD5e1xx2HmpKqUWnOsBTEH2yMeEYCpjwPl2NQ6DvZeznKI+Wc3xYEF/RvWPKYAVxFKr/t0\n",
       "HE5wINri0/6W6KqJOcYCzNDWFszXUur6aJRVdv9Ci7jSMXeSTuwaFouipC51JS0jFILR9dLroqmd\n",
       "2vdx1yDfKeaTCP7mlgybpORpCN+ZjATnOMjB5pIXYACALF6ZrRedLlqCsEPj1YgBYFqCekaFaK8f\n",
       "3ppobgESd/MYPS0ayRGCOokD8pQrKzC0KSiUyNyuMJ4uD1769A+XazLwRBSZVOaktJtHHvmbrshv\n",
       "wJx7UeV7hklh7RbCZTlE7xcN0crddun6F9n+k8DFO6gLbwVrQNYssGOmhCaf5Z4jGr+bKwVpn24u\n",
       "vTbeD73wxDFDGTQMatpSoK1ndXq0Vr4lucoi7lTH0qStQeVq+PKr/cdmXWVcRMtDxEm/Z26OXI8S\n",
       "e/yRAsVPubzhX9miOk8QQRkUfTB8MERiXeDcS3+qeq2ujx+FJkUF/Bik54WcFdx/YRlketWnOK9A\n",
       "Ijp+CbxogQeWFv1xZAr/FwlSzuxkH57VCjI26MSIRlnumLKsCHv2q9gRvaba7oJUCTcA8WzkTuEC\n",
       "Sf8azB1rqf1riwgRfKf15zPFHBSylnSClC8XZJ1oBmr4WUJEep5fWkCsYG8fP5oOHbWrOnsfbvMz\n",
       "bD3n2KvKYxJI9IjCFCvf6B+zAjqMQmYEoXRViGzzap9uOQhUi3bBN113DNZAz1sreZD4HF8JRrWj\n",
       "pU+UJNVPxXqLZjwkhfSBFMzzHhDYOXJgOaRREPWqjrVa2Aroyo9zg8Fpj67keVe9U6cz9e5IwXTn\n",
       "aY88a0u3xTt95Nwvu0bBC9NZgHbyAXlHHXulVhZMxqNYdLaOnftlU3r9QB3QLrlQAxIbF1kGIRbl\n",
       "fC/vLtcAwpR/2pEqvcUdgH8dwuKdJeG+EpZ8v8gtOc34KPOWPyeKiA9hhuDZaxfm81IuyBZkrPtR\n",
       "zDKySuMZuwFW2u1p4QCTPfioGayh9HDiimZhxXcXwJ/GW3ScU5Wfa7wuVmi6+7LVFpIxJGrqojm9\n",
       "WJhTuz0jRkNPfRDnFFKKxPKY0Pcd99YtJwfBv7AS0xYb6CC3TNv0rAEPspgyPIX6m2ARJ5LvMdvp\n",
       "ZJxXKABqJXpsQ9GdyFNNeEUGiiczne0bRTYIQI7qx0CtPzSzN3QpI6SXRQLbfUP7jzgy3xVURxGM\n",
       "KzbV0EgnNjK8DbHRT7HVYkTA4rdLphU2tlfCdxA+Wp1X5MLFfsakGJ23BWsH1kKd1Z6NmJmOtfLw\n",
       "j3GZ7lQXgW2Hh8J8lBSbEpl7AA/h6mDQ5TV0OthGXugDlUIHUWdO9BEwM9hyXh78qqbIacDHIirH\n",
       "UWgHQgsovuwpAhPILbHoJ0pDwj30hk79e4rObQEQ6PooDj4u6V2wB/ON0p+iRLgdPNZmPQJH9hhO\n",
       "59/rn/+ezFXQkzGIsDLrSIamfcZbWyLDIvNKZ46cw327DEG+gNaArtxFTN38VVWqtCb2PT59ZxTl\n",
       "QH8z8E0NZUfyfbnpwHHy/APMNvCKIDlUcH4VpgMrSCTDuJcncWqbrJM8s1YcprUW/0dA6a+By7Cn\n",
       "TAjxid3MvFCUrMRNtJ7Rm8LrCvb2vbHbTWq5zd1EvgtUukdIpVTO/5TSZo6KpNaXepE5vL3wxZ3X\n",
       "WbxpAiBMkrwlkhh50++yMloBMTLvA4rwJKK+gCGzAs03k1C/31Or9jF2XMCKAZPHQCu12RC4cnOQ\n",
       "x7XCGdIHcECm56W8fYQ1c7ToKfoZqrtCVKnf9MNQjf8JnNBo8ZE46klGvN9PBvFyeToXrte2GyJa\n",
       "+E0njnZZc3OpPKWdsNe9wSNevfvboWPF/YV2BSOEdUmYDrnm+4g74KmcGXK1Cic2oYCUPyu62swk\n",
       "jG72EBT304iJJUZUGWqRT7DVnaNKXJ7NchpPEAahw21zJhMWVk1kBM3m6GM3Ge53CYycmloZbH1v\n",
       "+1ub+Vp57TusYGWWYRARxBAY8jRNMsIK1TTIq7/hp8yd9jHIr1DUiFZA3dGLP5DmAcl4SIRCzWjF\n",
       "2e3CiPByGnd4AxuMPdNU7aNXT2PuM6sYHWc91kt6IWo1utUbPrHkRg8mTPY4YTL+ToCRUK8sTfjd\n",
       "7VckgQaFfg1nZW/VZMiNuw0xjJPqjhci5tV2PwM9VqlvHcqXzBO9KZnc4X7QmdYOUXf8GD1NiwWR\n",
       "fWb6SThxsMWGUjk+ojQfzdqqoBoT0aefPEyjegEiCwyGmr+Y4IBji9z5Qfy0ntnHQmE98uvWclhz\n",
       "Nv4Z8Oge/U397anWVir/UVcvaezlUQtdKOTpAw/t2zmK145ZD9QIwsXxS0QRpolcPpQItVp6XMYK\n",
       "7ygIEerBb6fDt9H/G/oEMxfQ26V1wXIHl9W0eziI3KqvNZAPEonMbhajN0TiNXKaSK3i0Ro4Bt8+\n",
       "v5z3HowGoxQen67YfZcXL6b0unMj/+QXQPqXLS+FRf9/6i8mIEZ2wU+Dfs0/df0zVQoQpWTnuCkx\n",
       "/3sYokazQyeFC848CrMvHw89mtJ50zDPr8hiN9kQ9j9FRyVUpNU3ZP0pCi4/OTYlibxNMZH5ZX57\n",
       "ucd4AN8X8J93vZdWKCEcTeEpm3fKbJ7xJb/CYzrKLLq5zmMnV9w03eCwHFCWUpp8ioszTpOSNF5F\n",
       "uBsRhZoqnFyYIn937Bhe2RwzcSz2FIBjO86ZORiKdr4sYH15pI7Bm8hUwpQkf4m+yUvudlr2NxCH\n",
       "UgrrDjO/X2i5Rxo+/sdCP9PK9vlsOHc3Df+HpX6DgqoH9maR93Gp4r/cvL85iN0LNfnVw9fEcJKS\n",
       "bQCWEp+4Uy7FYHaOvpY5Sgnmq+w599iGEbw1dTFUYnArexq8ESYZP8lhs6HPAeJ1xoZrJzPg7mZX\n",
       "FiNhjuD7Jpjq/98pfdrDZp8IebJfnBPHSyfPjs+TYo15m8On9Ii+e3HTJv/B1DT4TKBpZT9xOjXL\n",
       "Ab6lsxlIvmMYs6u/nBpqn6vWn5otG+5iJJSV0lEiiN4IyT73mnrFd00qzCpVP3X4uPJK4Ad/XjED\n",
       "BgYoONa/YP7zw8zA/9QH1s6p98W35vZIJ7O34vGgVzYJMVl3Ob4jWRzv2fVh+J0ppGoL3qn57cLu\n",
       "5MaUaQHxxN63mWZgkntflLLtYyS0pFKE426cNsRZxPG0CwuL+GJvoiMCdfI67YCYjZl7G7zQQC56\n",
       "z1JpwhtTB5qZOW0EEesvEp8DVV5jHywcvjLUV1kAcRgx8xFKJJUJKnK4m01WpqZt6F2YJEMWKAUD\n",
       "h3TdeUfVP+SYZRNBnR0vKJr58aq96cEoOCexMhypKlroydR6fbX/M11ozmF/l8BWPU6Xb+8Zwsw2\n",
       "o0k6IBiPhRC3SGznUKz/CZx8YZ+K6oPxNwignO5d0E46V5RIGO62F82crDneVIOdrgd4LncWGKbq\n",
       "JdOL927AjuJTNGAXEfkT1JXhLOvehgZ8wAtuh7gNF93XnCx3rIB82v4Z09J7ME0JU02235O5BS75\n",
       "pl212tVV6o8SWR+aUpl3jj7W91RIqlpzaNb8G2OAzm2+lOlyEnC2eHrFStywUwg6SJ5arKbhYb7D\n",
       "0gboOq7ZuiMUsCceBNmdtT7bOrLeUFnyi5W0mrggT79kUyruOO1AbU6RUv7kn3t9Z2h5ht2TkOU2\n",
       "nQKI/9/m6rzbtjDbuinM7rw/gkZAT0Hd4wRnw1GIwqS8wSxNsSCjz2ZSFP7RNpwFgYPaeF9MHzLd\n",
       "kKQFJl+KG9nvrVGaKQJIL8tVXpUqMthxxVWkuqdic0XUVMRviogzPO8O022l0RbdgiSuZ9nFDxVx\n",
       "m1uNIIMyc971fzIcIwGdZkDBlnbCDoXCz8tS9sNAGFxf2s8qatGqhJw/DQS68mG0ryU/X+6+fswh\n",
       "HQwPFTSALkXQC+Iva+jF888TrjzarBSAJYnCJSZcpz2WEHiKmFIMrlyZkcdzmNZHRR1PGR7XaGma\n",
       "/RIhfzckCCTR01ZG4Zm/GpIClye/x3V5wNNabevxqy6yPuHerZAxsXXsQUXHpO+l5pAAK3UtEzTY\n",
       "fzZdQoW6XINM/dRkCVvZtavLvueSx5oRuGm8dyGC8dF70pMRZneg4UaasRly8/AYsjzP/55skVGa\n",
       "xDTn85D/hH4kZQzKnJjggsfJi4C6gTzkl7BjnRKShSJv95Mo+XCyUU+DqNwgOygNsZ89oewSASLc\n",
       "JH5psM1blQNYFOBb078HBvKJhZG70EsOup+BU8JZae9Xbrc5eIDTZnRKUaNeUDQYENpU55MSj1V9\n",
       "bAskh0r2z7/lPrRN+cDZu5FeVFaq7D6a06ggBgvqHdKh/r6XKYK1PqWkpLQpNRNb6RMgblUUpbsZ\n",
       "PqcBugOzYNTsf9wifLDFfWUvUOn2qXoXbftLzuJMjGb2WeRVgGkgiQAPDUZ90lLUZyxxJzEr/8sh\n",
       "9JJFVYcQhRqOR/JzH0g6PEM5ntpNxSnxHJVlCfz9J10JiRZaU2DJXM5UNM1vXW7G0iAd1h+bnUiL\n",
       "L8niII21BMetVzkSOFFUP7/2iH+Jykr59hiYx4eiREtMg/vTRGvy2jGP97CTLjacmj2AfNnKwFeU\n",
       "ECyTOjPYT8Vfo0OANSeabM5OdSuBQ/zlWPY1p6Yytt4FRZar4ZYdCr9NP1Gaf+uPjnKIkHaTu976\n",
       "SYQ4qJzBOD5NkdIXSySCWFrdBe45H13D0kBctwrJxoMHduepTDcqhnqZmDWCDbOqXnnm3LTisUlm\n",
       "HnPBC6JkCI6xpvLjb7JvZiCXVwroWCt/pW0USnt+Pw6a1C6l+OqXszF36XC4fYo5fWjgeW+wLmh9\n",
       "zpviGq1UlqZ1qK/Oqym9WH5DF2PHxCYAzTHQSnpGbtBpftRaOQT4gdBEX+3/tu/lRsSpLXaqweVc\n",
       "t4TI3EOaBfFunKgLYYnomhcjdY5jUqluCS5PYn67//Lx7Q8cP4BvKIBVY+c32LtBtPDD9bg0KHwU\n",
       "jtJkWjxC2s+ZTeeIAjPoH6pDvaasGytL8gtZf6Ezi6au01H1SD8f0VuyOm751+aDKk7PYe1y+wXL\n",
       "KWdm1xhT4TDr07ewYbZdLNAx+3L1cxGgUiLsi/u4Hs2yUW00KDj+3vRUDn/s8IV3It0aSsMPpebA\n",
       "bAPnkhAChhZJOC8tKNzOUTiSdpHsNmVTi7kYnGkDSNQAMRFt3XDzHpk1iz7NVtCaQb5qQlnEeKuE\n",
       "ccQCEfyL3+84S9/d1PJ7cKUKPsaRNvf4KjrWliivB+ysVOB9XghPIVaIgcRTkOYA4UWHbuKtqSjb\n",
       "P0+PGE4d+3CST1ksik63fbc8P8NmwiI4SwmopluJMaDpKsRPxhAjn2ef42uTlOqMmspC/MB01qsB\n",
       "eVJJDAgL+5NZupvWO6zBMQxPHgXF7mm+U5P5+8Q/5aJHyroUAzRt+7uMXEzZpaUX5RFhUl7ODXiM\n",
       "WoNNjta97sdWmUTfbXw8ug4M98iD3iuCoW8LVkP+UpDmAgoNwgmcbrZi3OJnlR1YdlOLLcFDriXw\n",
       "uc8btkpnI720gTsoXpQ6OIwSffGKV07vT5BoooBdwQAAB38BnmF0QS8AIrbz0+pXdA9QAEu5yQXu\n",
       "b18RMT44DzRTNIsiyow2nxhWvQGEfsMgZimxVnTMn4+u4VHCWv9JMPaKqIdS4927Rvt2M9SViu3Q\n",
       "LCgDdNQMEMTbFcP0bR4npEPep9BOlabszVqvfwusbbsIi7XmqTP24v254IGD4PrYLF80Puf4slnF\n",
       "XdpBofePKdyiZGY50ZnOLHtZioAkQPxZQhMNJnqaYPok8otvfe0GX/iQaiDHbiuBtaNpTNTxIio/\n",
       "UlE3/sW/QVOMn2bJ+leI4sPQ76f8neYxnVJeTBPfzjvNNDDGA6wadJ7t0+zz7QFFZmDtFImppwv+\n",
       "dQNoKdAGswRObLGrz/1cXWaC89K5yhBGqWynC40qSgSLKQW78yvj86OMD8d1xv0vbIWPL6LxjeWc\n",
       "Nx7r65fjjIUkpcFMw0DB3GPdepcYnCsHTuaoBnLS40hlLP1kElOPy58hlaM/RQH72dcu98UOZRNl\n",
       "lTwxkXq3WA40rXmZ18xluBzsIDbi1yuZ9ZP8izA2yNiwO3h11CY6WI4ckUlH4ZW6NGLMGx5Wo9FR\n",
       "IGvt07jFGe7rGkrX2HBDEPwHu2Yk23ByLUv48ZbS0fMe/snbuXYTqkOO6L263LJrymtYCNatqGQV\n",
       "Q5JOLCeh8/gBaBLU7q/WVrP+wSjckh/LRbGC4mJzpX85ORnOEwqfzhln2EzkMIfZY99/IaeEnNNV\n",
       "zyHqdyX5waWf9A8DjSJsOKHVMSj5wbeG82JGPnILZ7XgNHDf/FiFtIIpP0Sn8b1+m0UQVw4wrALi\n",
       "F5sX6Z1snX/17r7T/c77AZqad0i1yW+yzkpwDLrMMiP4ZYcx3HxiAtyxIIREbEm87U51QKgouQZf\n",
       "DAUqGC5YIG3KvZ3w1Edd+2gv/irCScOa1jNmXUjIXteVgZeezjWhyeEdMpT5k0FG1yZhde53mIJf\n",
       "o5JWy2agMEZ2JbmeoCI0XJAmMzaTYj2LsOKqj4yaVqdUKDNK4885GpZ2WPXOXLjMz06+4Vwzmgjy\n",
       "J7oQ5G+w2gBeDbPHjil8EbE8qfOT0SXjWr6DB45l0TYL7FzStaCu6H/2UtFKsE2/b/C/jNxEvzq1\n",
       "l5GHvE/mpQdeaivOgc4Dgd3JZxGmwiVyvTRGsBWMtigqNj8epQahTrh5wubScgCBUTHHPO5PLb/H\n",
       "rIqkMyWruH9f28LmicDKpeNoLgup7+VoEsiQlsBF9Tc7AcE1uxGAqiR8pe9ZsnFkgqnOosGbg6yC\n",
       "kRwHU8bMl7davXLQS0IrE9M+mT2f8ITMVFUfaFcAswRzkKXunLaV0VQ+p3RCQoa9bzat58ugKOnp\n",
       "7URxeWnbagypd3ZZPuCBjKD/Eldu3J6iV/BymbzGnRVuhvCsdiQSVduQF6MAGrWur/0mpAzfFLm9\n",
       "V/bk+UEfDQi2OW+/+wnQ/vz6x8Dw4L2/Wn4M39DMXvFJzuzrIOk5THv76MdTN9yiJdsgdv6FC0Lk\n",
       "8q74J8VyOVQ2bEmGeNhVOSAwxFypDijgDxvaU0gE3Q14qwVxCDnEhECzV8J/FzqK/GjAAdN2H8tH\n",
       "lzA+1LOvgjgKGnRUINF9FP1VExqEydWZZwJKkr8Xg7aIoU/iehxwrXtQ+VTU/3UEqyRN06bK0C3X\n",
       "Z2wGKxav5FNQbn3szF6SVQTrK6ZyfDMM/pUBHPxDRo/p/x5MKC+3ko6ibL2CewL5q7i+ELEZpmAX\n",
       "zXq+CnLIm8emtiLPINfFPWE2g1hlLja4xTdPTOCybBAbA/1acESlwxCi/eOikc1XK4ZMgFmHCs+4\n",
       "ZfWvqXIOYs5DqqtqwViKPAwSkyplZhUBkg9azAiAQZJA4j/l3LQq0CfCLL0R7KDXYF0EFchcyh5R\n",
       "RuGJXiEEGUfh3PCHTBpsknSrHQzoKPi4fwOMuxoC6r1lxdvgVLXxWMJwJK709QQZq0Altx5nhOG6\n",
       "8tuVdpEt2cPzwF+2+Q4185djZG6Y2vUBZZrGJdavXANr4qNbi8ufLdCRxZpBNCrPq4MttoPn+kNS\n",
       "GYIvtRijJqoGOBCdiD6YBPEj9k7FQnaxqtqFYEXDMw5YHpFKJ57j7LTHoKFmZ9DEBl9drFPdIede\n",
       "+7zIu2CYIPu0q5172c3o+yJJqi4unBAh5/imIbufpcN6691UAqT8fSLvfcdvu3UEDgJemw2i2Yok\n",
       "0vDgSdPeAlOtw6VCuXULXf0s3vIslhQRAAZdYvmaJZVORCQWKgX7+g/Hcj5M18eJKlQOTSYy2NZy\n",
       "oiDlDuCQ1TcExs49gKzlPu4AETktrDLm2+awwvDjWIUg1ykV8p9V1OGUwGg9USJerCST3RizhNKu\n",
       "gdqNmiaFvuDiT0Bxj7huZymWHi04rR8ZVQUdFSYUeK2vdEneNUYT4jA9ns+kTZlrc7vh5gA2HkA8\n",
       "IyWSihmEsUSBMTBrh6g11paZJ63mdNHWHq36F+XsrRaAID1B2VjxkIq08BITJ5mHHw6PTGrug4eY\n",
       "NT9OLehxZn627b0OFSzVHx4KQsoTKV+LJSNIB5TmGtqEF4FoXLhK+opOp0PHWkarCtYQ2aHlEewT\n",
       "BSQ799aDI+Gka30j1vD0gAAABJwBnmNqQS8AFlxG42/+oACXc5IPOgQaDlc+DnzPyC2R6eQdlM2E\n",
       "cFpQKxYLLH1zX77etYce/zI1+Vgtr+5g+BWj2d1u9DIDh5uvrjdpxMbhpuxjKRvH5l7OkrkQsxfp\n",
       "HguG5qn1jGqQRblni1esW6/U+JFYlP9bO9j7/GUKumoioP71HlPNzuViJHmhjzcwZyMdDzUzVqvf\n",
       "weG5xKN19QXqu15qs+h81usrP6ob8thSkIiHe35nNMltVaCG1GT5J46VbUufQEIc8x4xktYN1QgP\n",
       "e2id/hlUFkIAhmupBkl36xzhL7sKAZNIYnafdRu0n7iAzno5pYYCwYESHYSZxWqW/K3XZNHRcXPg\n",
       "S29voxp245aRzQiMUn7E33PjLzhfASLXh4Q/3G+3Zyf1VSc9JYDscULgy/07/0PJH+WrOziMW8c3\n",
       "9JwOaDI93ALzTbcOAdOvIyW4+fH4jB7dvd4/4/fVeqdwAGMguRX+f2nYwUZqM05LY6mZAOjSZZrP\n",
       "XJWeq6vnHqQ9qC7llks42eHcJDVByf6RGJbmWsosZzKPeBabmxX+6M8AzIecsmm+MDLca03qK6kP\n",
       "aliS+W1zPYh1j/DwJOg9eLJ08wiILLN1JsIz4EPqfUWViIr2nj4PEU3jppMzcuGcsuQ3Pzkh618b\n",
       "RwoeGT/MxLRRnRbc4ILmgO3WyYfh9SeIGI7qY/HGphH2hMkfnTcHRStEdk6aIgCTKxh0NkbRTj0l\n",
       "eFSyD9Z1o3W8Z58IsJhcRVo0wGGD2f/k2tJ0XeBQYYwTd4zEB7ClpXTD5wnD4pMVsnHuTLxUHxLc\n",
       "HYyVPJmuAU7UBMKelNBVP797U3YbJHQ0LdneJwAMTUC+Zs/PcGCF92YKajt+TCjKlIhlmfDzRlyT\n",
       "NkVKwHd8azz01pPA/GOnxBXHLRqsHyFRQQWrlqimZ/ry9BnkPjtuykxJ+fl9dxK9upon0wdORpNc\n",
       "CbjTu+PdT5Ir0iQYDR1knrFBAsFy8rJVt4dhDi/EAx1giXDqeUv/xCUc6RURsx+NC010ytmygWDq\n",
       "QhFXwtmFa9QmSMSE+zWTTyH1ri9UTzW1fEEL5OiPnYgk5s833SgqGAdG3blh2awxDTR+NSIDNxyx\n",
       "ckbaODLclAholF5NMH5385t+QtuKIco4yjat4qFRcKX3/3xMEoc79zfSWdQSR8iwP9Y7sREYUvaV\n",
       "AHpU+1I5vtc+uoeSI3/MP6Se2qn5BwDWfwWmgDE7OKNCO9i95RLjdw+9dVZ1H3c2h/3zWmViWr0h\n",
       "CRaK2GcFIhmbzIQBGYwNdympq4NW8bUFDYAua4CAVTmi+En3rgmZjzNyhGLxlLDW4y5XcH5wJ8OM\n",
       "M6p1QkJYEjeyXDEv+zSQAFNGnZa3WK6WXpED4k2Vky3udzoQjPlr7ZHSz1xgF8SqdK9DzMp9SV90\n",
       "of2KbglN6x/mIV0J+nDJt0x1JC9xgfCNvbSCbZ+Zk4FIAcjBpi+AsWJx5PfwJWuZThJGFFVwTENN\n",
       "M8IefNtktavlawtFQQgK8FDn+dIAqI7ckLyk+gUS0ToSdU+bmZgSTxNLfUFbl4HAzu+EXzhRmpKp\n",
       "1SphAAAOgEGaZUmoQWiZTAgl//61KoBac4UkDk/qAAl3BR+0QFw8vFH3llv+qRBGSyBhLI5iliVG\n",
       "hu6OZWdPoZOlo6+Mz5bcveYuRd7lGUAAAAMAAAMAAAQ7ErfaIXBuNRs+7VOZkI8Tg3cbc3vfdtUy\n",
       "wIgUzyAuv+FM5GLlwFfABNqdzG0TX/LoOrEwPyXp3NkOHr3scr4qeBYTfmabEGYz/zdXxinoaQEo\n",
       "NsSJx6uIPnpwfM0Sb4OeEsfh40Lkx1cFsmjcOlDzcLrhSrTHLbMbn3H2W9lXm3wtSyc98PCOSGvQ\n",
       "kXpi4eKhpzX/a/buhBqZOXTLR8v2DLIWwxbm7L63/JMuMw4peimld7lQR55ow7KkxL4oGaSWmhSE\n",
       "PtF/qVF6S1+OfFD49ZHtnb24M/JhSmmezcHk0ltsbiaZiLlJdwRKs0b+qDyf/e+oVpdLmc07HEcW\n",
       "2KljK1Q4h5fhKFZi/hNqRLfjGBGWaqNAA4kDLBCOkLSzk4Guoetmtfs5QW1+TsEXW+jbHwvPmjmT\n",
       "msSnvBzWiacSSd5ZOLxEA0gNV+rfX3alBrgXzIWECW36fHyPaYY7huCLU7eP1rS6kGnNYEfqF+jf\n",
       "7tett4TF9nt8x67VUSCI0+fVP54AFwYMBbh4MyfEAmP7sPHOg6nSm8X0RFIAs32vWEorPeKdc5Yo\n",
       "4LDwtYERx9huo1sLnki7mDVbHmswgFs98uEnPfAWIPf9MJxD7Opop78HMhRLjdnm2knK/cEKEmZy\n",
       "XBzGIRtPYRSvswxQOqwxkELA2KiXSaf7uq0tyIO6Py7Ui+2BEnN2gFXNncvEnMe2E00HQoMGdM4L\n",
       "Bv+V1RldC0ahX/i/bYd2xbDmK152ZkC1a+0HFe5hahXAH+o3k9/yF+4PVF4owKyAlw8MrfCR1490\n",
       "BvZcPbXmOsHTIG6nJC9wTKCz9NivJEgGreVx8hi1HSE3f9BvxZniqizkcU1a4B/0TDlVH0c4jync\n",
       "ye8vx9uYueksmSq+W6PYMwIHXtEF1KAjdkdAuGIFrks67FLOtSCm14phDlxHEiJLOjEbQirqVwqy\n",
       "/qWnhE84lOjPGeqTYepDUBlO+aiwislmguQjgoZ6beJ2PxXJmfjxZUD9oIGRoU3Ffk9EGcDNIVrj\n",
       "MPFrUI07KrkCMAaK7XO5lZ6Sww8PHU0g1l5QqwnMFxMBaXJvHsJYhV6D9D7A2jbLhHCx7uwfIePQ\n",
       "P9nCy/eoLZCrhTgDmt9JbG1HZTcBKeniB2HB1cK5U4Oa4jHdwkX8YucI0/46pHjoF1aWCd4jCPkM\n",
       "iOZpyzLQCj5pJXY+/SS0Of1eMfnPzSTAfPWgLdhuZ1ZMuFADVyAkcNR3qYubdHzNEqmrj9FsMdS8\n",
       "V3z2lTjNteF075EB5TnxCuTOVkT6M55mMQmnyrtXgqM+THH6hXn+BbqDM8hsGgL/5h9+Mo13obtI\n",
       "MX9gtpPxyvFac/+jcFMb97rTi09jYzbzEfCVhc2Mhes+YWHBh4X++R5yZdFFk3/ERHlmIHhdgyR9\n",
       "16J4c5R8W1l5gO5BZFI/n5210bpJkzrR5/eQmmrWaZjcsP8hnsga7XMAhaQqsTmRhvLK5aO0frQ5\n",
       "0GIqzexwFs4C0xyMjSKTe1Xmh2VWbNFUvUgVfcboz16cxOXoW3Fm+RTXENimQs639bjYlQvTxG31\n",
       "kCyq+pg8EEH/wu+qVoW1k7NpvYbD+4DTE269jezXCcmhoQvknqyfwsJ2K4dTOIkvaEBobWmlmVM5\n",
       "GUcUyPDVvAsT0xvgeDcHnAQHopL5IuZLgfSx44t0Aa85RjsbFL2L0V0XUW5SaSexw9c+GFMQSWNp\n",
       "yoxHeSORQrE/jBIhCXrwQyOSL4rwO4TXQCQW1l3FXR/b0n3PJaAewtLP+9tD1Kq2Nxynx+MV3gSU\n",
       "m7GDV8tTcDnwgkigC8QeStLDWDxnruj5VptQwKgIYYYdt7lb7decAnvem2M8B/76CZp/e4Fb9xWr\n",
       "B2RsbNDIA4i5GRhOF932ChkaWCN9hDKTBhrablLEv83wuf668Xb2AmR9gY8JW1trUUNSqObLMvyR\n",
       "g5dRWB25r7JRuNlIG2Raj5zTBj1rmrc3y9Po3ushjO60Eu9vSSmFNxC9bp9E3//7kAY4x/+nWLWB\n",
       "YLOM9r7JwfG/Gkit6lVvh/HuyWKlDFJwGLUbDYHSCbv8xcZLdq1In78LLp8Fdv0OCmr5lheRw57l\n",
       "6/wLtTg09K5WsYHSHKxvtY9bHpEfcCecaTl5GdAQEEoBdsT3XXtDSh2UlV9o5OCqKVLS7fnb1/Fu\n",
       "qHVrUDeU2LBP6cQCeHnHm7LnJ2p19VovvNmX8+5ckJKPkAjfrmMbWXWNsBy/YA+12Ih4xI/41zmJ\n",
       "tc0OGvqpC9d9qv5N5NPGjrEyZvXb7Vm94y3LpWEkuphuzNxBx+Dx/51vtN48Katnw5YJbC/uOP78\n",
       "xKjilh4Pn32e8mfq3dcOcO7Pp9+3edlZqonPS2ufPkq2h3+lENS3AqRwEu7SClM2CT4HXml2NtZp\n",
       "VlzMBYA1Z/6J0JT+BE6HgT0nbXb6Auqz6nOkYKIJE9+6trRHX5zmS840ZVYFsQh7BfSZFUZ1M55U\n",
       "9m7mDFPTAqGQ3sLAu/xE4cJY8y2EUI4x1NyWpioWCm122jvjrVsEr0P/+P8y0uvLLNZtjK/6DVtK\n",
       "zWia2kOaohxEuH05K4ywUI0MsvbVhe5/jKmGRBe63nhZbKTpKo563ZmLA0mfPX+enFgZp72Jn6zN\n",
       "TvH/wiugHYiZS43hXnFXsw64tPu/aqI/ijvne1+PVVkFxPn9+vQO4bjuNsCGFLbpsfCgTaOo+WSd\n",
       "NhihzpiU/L1BBAqsNE2o4uyNBEo0555ZCFX0LPD5inM4tSENGwa0RWugq/FdI7eIRy4Snl8B4PzD\n",
       "JIz9ScaIosJCHcZb0xHoLOUr6cqMj7e6lrXgNgMOVyFQaoT+KrbQ07yTYM5Ek/KqGpsD3NYKvObJ\n",
       "tEkFdlo71YR0Gla5pC/8Io8utOcBbbaSUZ1LI3YJP5yBd5xk8OQ/zBNuqiBa3UJ8bPpqm6izgGbu\n",
       "0zE8j/Q0Ztb+Hexb4dIjGC+9DI0BlRszjAaemmu7WavrfEYrzqapfc/318zYgNs9JaN2DRIfV5Fj\n",
       "vOJLhA6PV2XvXlrFSlVCKYL68tg8ZCQhKBvPWHqyf8RSP/AXB4XkfYkYlpBBOrLXm94GPNQU9AU1\n",
       "nM3LJYKaxQ7IIFK+OPt7JEo7oME8I6HffZ0LSq1E4tSn5+WuLXn/HqIH4+ZMr+Ju50K5jYQJCc5s\n",
       "2z3ZbIS0AG3/ruWmakgt3D7HFADTHLEiC8LVXH4XXN0U9axLI5gKVYr3ZIBeO1lBfiOhKpT9pdO8\n",
       "en9yxvRJx37LmPomO7o976jhoF6bZtk5mcLtHkCG9n8DRaAga9RiSlTjcWQyYqKi2C6+AmDPRw7L\n",
       "UVz4UlxFpaiF2RfLKBtjqrshJdpaNGeADutXETLEo4nzBDNbEGDfT/9dHh+TACh8ienpqrCSW3nr\n",
       "ulLUGo6ym+XhXloOVlf4JAreSAoXDX1YgxaeZ0IwVyN0K3arQXCULOnXKvKDy6N8aN+MgtNQFBBR\n",
       "PPOpWsJf3nfdNHrDZTHzs7uBzFXcsrhxpXjgjf8+0bD9Z/QYdx0JcObKnJDAEWPEK3n/bsAWxPqA\n",
       "r0/+n9mJ1uacGI9BVWnJPYyshydxHyMcJSdgmwrJBLXGEPSjsKRpB3pNlLOfA1ky+1Mk9kRyG/KH\n",
       "FAn0ZXlNQn5Vrb70hJnao/DFcIvTeUJ3gTlyhGrCQcSa3SUHUB0IFGRNPnIbVqayLtElpJpRpbNF\n",
       "o+Nax3ZPbztIZQTQyuZQFhYUl8UUEs6fwDuekmktCyl2EGG3pnhmFCFigJmF6Q2DHZxBXU3jMVlM\n",
       "Rs94JShDQ1ss5FhBErK5rChYyV35l8saNhkhOBTpt61T9/Yt62unPjt+wrGvMgpMmeLk7IJt67W2\n",
       "qc6gRlM/W3iqC7XFUEr7QVJBGcMQI002lvhzGRboQUA/tKU06dWwSabQvfbVR1vP0fEfZisrj4g3\n",
       "WLF8nDpy6yT0h0FUbOURAq9AqZdW4DE/yA/J6HNzMp7SDQCzozIYp6SD1QpZdi4UxRPYllOSvm2Y\n",
       "2ixsroWCjYrkQKzhz04sNpqb/1ovDRBNrAcf9/yIcRF+lJ5DKE8jmjHDwfV5eJodZEk4x7djkykI\n",
       "/AgQCV8Tkzf8WWACIzJ11mtPcHBOWG0X+V/8X79HB3GPAvGyPjEtFSi4C2Wj6JiZHXbPFwMfmNEU\n",
       "nxRuru9+YR8bGvfTdWWO6Nf52p04epXg03Fyxguqunt6gutDKvGzXf9esagQ+UTr9pzTKmJJe7Is\n",
       "d0woHpn8R1WP0SLRPvrZIPphnZI3WXmzUrv+zbv6y/7BbGmeCHt013WKI/wQ2fdATTzvzrG4OUlQ\n",
       "NDZUgrPNSic+TiEaleZCItaTWz3SnktKDQ1W73zsrJkSEbKiFYhNSriCIamm5TZr76YzgEXwEEtV\n",
       "PVzgT4cr3ShSJBpsPkdjea64/waI1OBP15vAU3zSMfaIAhwo/Ij0culGWF+dF/zD0ORh0UyqZQrQ\n",
       "+lejRfSodURZpBCeneAS32/UHyxQasqL8thToXiayKoSfj8eRDB3DNI0NgNfUBYrbz0n+i8D5SYX\n",
       "fMN3Sv12zpZHQvjpz8d0Bn3C5Itd3qS0sm5LjeyP6aJ3N3cfQiglFqfOlLRqh+eWTg4H9OegSyGW\n",
       "hTmugm6Df+O07B/cAYkAbmdNsIkdrDUERZfXXt4MfoQuhIcPPrXBOssHQ/0efu/thTbpMu5QFunx\n",
       "SWpszqh5ShKxJo/zBAqjiBicyHL/EIU+biWeNygI2Hz9W02zHhs4YsrtwFFsZHwuNUaT6jf2clHK\n",
       "Li43v7lV9/TYMqBbNuXmtLpSElwU0Pt7OL069IK0rrAGzqJhMBOC8otexxbgqpPpHlqgoiXKQPEz\n",
       "AWoxiRK+EATcB6hX/iEAAAN3bW9vdgAAAGxtdmhkAAAAAAAAAAAAAAAAAAAD6AAAC7gAAQAAAQAA\n",
       "AAAAAAAAAAAAAAEAAAAAAAAAAAAAAAAAAAABAAAAAAAAAAAAAAAAAABAAAAAAAAAAAAAAAAAAAAA\n",
       "AAAAAAAAAAAAAAAAAAAAAgAAAqF0cmFrAAAAXHRraGQAAAADAAAAAAAAAAAAAAABAAAAAAAAC7gA\n",
       "AAAAAAAAAAAAAAAAAAAAAAEAAAAAAAAAAAAAAAAAAAABAAAAAAAAAAAAAAAAAABAAAAABRAAAAGw\n",
       "AAAAAAAkZWR0cwAAABxlbHN0AAAAAAAAAAEAAAu4AABAAAABAAAAAAIZbWRpYQAAACBtZGhkAAAA\n",
       "AAAAAAAAAAAAAABAAAAAwABVxAAAAAAALWhkbHIAAAAAAAAAAHZpZGUAAAAAAAAAAAAAAABWaWRl\n",
       "b0hhbmRsZXIAAAABxG1pbmYAAAAUdm1oZAAAAAEAAAAAAAAAAAAAACRkaW5mAAAAHGRyZWYAAAAA\n",
       "AAAAAQAAAAx1cmwgAAAAAQAAAYRzdGJsAAAAtHN0c2QAAAAAAAAAAQAAAKRhdmMxAAAAAAAAAAEA\n",
       "AAAAAAAAAAAAAAAAAAAABRABsABIAAAASAAAAAAAAAABAAAAAAAAAAAAAAAAAAAAAAAAAAAAAAAA\n",
       "AAAAAAAAAAAAGP//AAAAMmF2Y0MBZAAf/+EAGWdkAB+s2UBRDehAAAADAEAAAAMBA8YMZYABAAZo\n",
       "6+PLIsAAAAAcdXVpZGtoQPJfJE/FujmlG88DI/MAAAAAAAAAGHN0dHMAAAAAAAAAAQAAAAYAACAA\n",
       "AAAAFHN0c3MAAAAAAAAAAQAAAAEAAABAY3R0cwAAAAAAAAAGAAAAAQAAQAAAAAABAACgAAAAAAEA\n",
       "AEAAAAAAAQAAAAAAAAABAAAgAAAAAAEAAEAAAAAAHHN0c2MAAAAAAAAAAQAAAAEAAAAGAAAAAQAA\n",
       "ACxzdHN6AAAAAAAAAAAAAAAGAABOugAAF6EAABBFAAAHgwAABKAAAA6EAAAAFHN0Y28AAAAAAAAA\n",
       "AQAAACwAAABidWR0YQAAAFptZXRhAAAAAAAAACFoZGxyAAAAAAAAAABtZGlyYXBwbAAAAAAAAAAA\n",
       "AAAAAC1pbHN0AAAAJal0b28AAAAdZGF0YQAAAAEAAAAATGF2ZjU3LjgzLjEwMA==\n",
       "\">\n",
       "  Your browser does not support the video tag.\n",
       "</video>"
      ],
      "text/plain": [
       "<IPython.core.display.HTML object>"
      ]
     },
     "metadata": {},
     "output_type": "display_data"
    },
    {
     "data": {
      "text/plain": [
       "<Figure size 432x288 with 0 Axes>"
      ]
     },
     "metadata": {},
     "output_type": "display_data"
    },
    {
     "data": {
      "image/png": "[encoded data removed]",
      "text/plain": [
       "<Figure size 432x432 with 1 Axes>"
      ]
     },
     "metadata": {
      "needs_background": "light"
     },
     "output_type": "display_data"
    },
    {
     "data": {
      "image/png": "[encoded data removed]",
      "text/plain": [
       "<Figure size 864x432 with 6 Axes>"
      ]
     },
     "metadata": {
      "needs_background": "light"
     },
     "output_type": "display_data"
    },
    {
     "data": {
      "image/png": "[encoded data removed]",
      "text/plain": [
       "<Figure size 864x432 with 2 Axes>"
      ]
     },
     "metadata": {
      "needs_background": "light"
     },
     "output_type": "display_data"
    },
    {
     "data": {
      "image/png": "[encoded data removed]",
      "text/plain": [
       "<Figure size 864x432 with 2 Axes>"
      ]
     },
     "metadata": {
      "needs_background": "light"
     },
     "output_type": "display_data"
    },
    {
     "data": {
      "image/png": "[encoded data removed]",
      "text/plain": [
       "<Figure size 864x432 with 2 Axes>"
      ]
     },
     "metadata": {
      "needs_background": "light"
     },
     "output_type": "display_data"
    }
   ],
   "source": [
    "%matplotlib inline\n",
    "#Make animation of fitting process\n",
    "from matplotlib.animation import FuncAnimation\n",
    "from IPython import display\n",
    "\n",
    "plotting_grammar = SpatialSceneGrammar(\n",
    "    root_node_type = Root,\n",
    "    root_node_tf = torch.eye(4)\n",
    ")\n",
    "em = all_result_dicts[10][\"grammar_fit_em_histories\"][0]\n",
    "X = all_result_dicts[10][\"X\"]\n",
    "\n",
    "\n",
    "plt.figure()\n",
    "em.plot_grammar_parameter_history(Root)\n",
    "for mode in Modes:\n",
    "    print(mode.__name__, \":\")\n",
    "    em.plot_grammar_parameter_history(mode)\n",
    "\n",
    "    \n",
    "fig, axs = plt.subplots(1, 3)\n",
    "#fig.set_dpi(100)\n",
    "\n",
    "fig.set_size_inches(18, 6)\n",
    "plt.suptitle(\"MIP-parse + EM fit\")\n",
    "def update(frame):\n",
    "    plotting_grammar.load_state_dict(em.grammar_iters[frame])\n",
    "    for ax in axs:\n",
    "        ax.cla()\n",
    "    make_figure_for_grammar(plotting_grammar, X, axs)\n",
    "    plt.suptitle(\"MIP-parse + EM fit, iter %02d\" % frame)\n",
    "    for ax in axs:\n",
    "        ax.set_xlim([-10., 10.])\n",
    "        ax.set_ylim([0., 0.7])\n",
    "ani = FuncAnimation(fig, update, frames=range(len(em.grammar_iters)), blit=False, interval=500.)\n",
    "video = ani.to_html5_video()\n",
    "html = display.HTML(video)\n",
    "display.display(html)\n",
    "plt.close()                   # avoid plotting a spare static plot"
   ]
  },
  {
   "cell_type": "markdown",
   "metadata": {},
   "source": [
    "# Run GMM EM and Grammar EM in lockstep"
   ]
  },
  {
   "cell_type": "code",
   "execution_count": 19,
   "metadata": {},
   "outputs": [],
   "source": [
    "seed = 10\n",
    "N_samples = 50\n",
    "N_steps = 3\n",
    "target_grammar, X = make_target_grammar_and_data(seed, N_samples)\n",
    "\n",
    "init_gmm = make_random_gmm(seed + 1)\n",
    "init_grammar = convert_gmm_to_grammar(init_gmm)\n",
    "\n",
    "# Get optimal parse for one datapoint\n",
    "for k in range(X.shape[0]):\n",
    "    test_observed_points = [Point(tf=drake_tf_to_torch_tf(RigidTransform(p=X[k, :])))]\n",
    "    inference_results = infer_mle_tree_with_mip(\n",
    "            init_grammar, test_observed_points, max_scene_extent_in_any_dir=15, N_solutions=3\n",
    "    )\n",
    "    mip_optimized_trees = get_optimized_trees_from_mip_results(inference_results)\n",
    "    if len(mip_optimized_trees) < 3:\n",
    "        print(\"Didn't get enough trees. What gives?\")\n",
    "        print(\"X: \", X[k, :])\n",
    "        print(\"Means: \", init_gmm.means_)\n",
    "    scores = [mip_optimized_trees[j].score(include_discrete=True).detach().item() for j in range(3)]\n",
    "    gmm_scores = init_gmm._estimate_weighted_log_prob(X[k:(k+1), :]).flatten()\n",
    "    for score in scores:\n",
    "        if np.min(np.abs(gmm_scores - score)) > 1E-2:\n",
    "            print(\"Mismatch\")\n",
    "            print(scores, gmm_scores)"
   ]
  },
  {
   "cell_type": "code",
   "execution_count": 20,
   "metadata": {},
   "outputs": [
    {
     "name": "stdout",
     "output_type": "stream",
     "text": [
      "gmm update: \n",
      " weights:  [4.44089210e-17 9.40787097e-01 5.92129030e-02] \n",
      "means:  [[ 8.09478598e-28 -2.39960714e-27  8.89853594e-27]\n",
      " [ 8.18682525e+00 -4.63706845e+00  7.77835060e-01]\n",
      " [ 8.61520032e+00 -5.72132492e+00 -1.80709235e+00]] \n",
      "vars:  [[1.00000000e-06 1.00000000e-06 1.00000000e-06]\n",
      " [1.00133260e+01 1.01459009e+00 1.26301432e+01]\n",
      " [3.99810459e-01 6.10278131e-01 5.28306647e-01]]\n",
      "But using fitting routine:  weights:  [4.44089210e-17 9.40787097e-01 5.92129030e-02]\n"
     ]
    }
   ],
   "source": [
    "log_prob_norm, log_resp = init_gmm._e_step(X)\n",
    "nk = (np.exp(log_resp).sum(axis=0)) / X.shape[0]\n",
    "new_weights,  new_means, new_vars = sklearn.mixture._gaussian_mixture._estimate_gaussian_parameters(\n",
    "            X, np.exp(log_resp), 1E-6, \"diag\"\n",
    ")\n",
    "new_weights /= X.shape[0]\n",
    "print(\"gmm update: \\n\", \"weights: \", new_weights, \"\\nmeans: \",new_means, \"\\nvars: \", new_vars)\n",
    "\n",
    "# But doing it with this doesn't get me the same result\n",
    "new_gmm = convert_grammar_to_gmm(do_sklearn_gmm_fit(X, init_gmm.weights_, init_gmm.means_, init_gmm.covariances_, 1))\n",
    "print(\"But using fitting routine: \", \"weights: \", new_gmm.weights_)"
   ]
  },
  {
   "cell_type": "code",
   "execution_count": 21,
   "metadata": {},
   "outputs": [
    {
     "data": {
      "application/vnd.jupyter.widget-view+json": {
       "model_id": "d614fee680634274b56c81456e9bb5d0",
       "version_major": 2,
       "version_minor": 0
      },
      "text/plain": [
       "EM Iteration:   0%|          | 0/3 [00:00<?, ?it/s]"
      ]
     },
     "metadata": {},
     "output_type": "display_data"
    },
    {
     "data": {
      "application/vnd.jupyter.widget-view+json": {
       "model_id": "cd2f0c23e29e41c98bb1a68a1c4ca39d",
       "version_major": 2,
       "version_minor": 0
      },
      "text/plain": [
       "  0%|          | 0/50 [00:00<?, ?it/s]"
      ]
     },
     "metadata": {},
     "output_type": "display_data"
    },
    {
     "data": {
      "application/vnd.jupyter.widget-view+json": {
       "model_id": "f51ac401a4654869a24be9779eb1e561",
       "version_major": 2,
       "version_minor": 0
      },
      "text/plain": [
       "  0%|          | 0/50 [00:00<?, ?it/s]"
      ]
     },
     "metadata": {},
     "output_type": "display_data"
    },
    {
     "data": {
      "application/vnd.jupyter.widget-view+json": {
       "model_id": "06a9178eda794809885579b595150e0b",
       "version_major": 2,
       "version_minor": 0
      },
      "text/plain": [
       "  0%|          | 0/50 [00:00<?, ?it/s]"
      ]
     },
     "metadata": {},
     "output_type": "display_data"
    }
   ],
   "source": [
    "gmm_fit_grammars = [\n",
    "    do_sklearn_gmm_fit(X, init_gmm.weights_, init_gmm.means_, init_gmm.covariances_, k+1)\n",
    "    for k in range(N_steps)\n",
    "]\n",
    "gmm_fit_grammars.insert(0, convert_gmm_to_grammar(init_gmm))\n",
    "grammar_fit_grammar, em_history = do_grammar_gmm_fit(\n",
    "    X, init_gmm.weights_, init_gmm.means_, init_gmm.covariances_, N_steps\n",
    ")"
   ]
  },
  {
   "cell_type": "code",
   "execution_count": 22,
   "metadata": {},
   "outputs": [
    {
     "name": "stdout",
     "output_type": "stream",
     "text": [
      "ref weights:  [0.25992485 0.68179482 0.05828034]\n",
      "ref weights:  [4.44089210e-17 9.40787097e-01 5.92129030e-02]\n",
      "ref weights:  [4.44089210e-17 8.45157578e-01 1.54842422e-01]\n",
      "[array([[-7.25905584,  6.40045255, -1.43328772],\n",
      "       [ 9.34452738,  3.82946508,  4.31467805],\n",
      "       [-0.96201336, -8.0521704 , -9.59873512]]), array([[ 8.09478598e-28, -2.39960714e-27,  8.89853594e-27],\n",
      "       [ 8.18682525e+00, -4.63706845e+00,  7.77835060e-01],\n",
      "       [ 8.61520032e+00, -5.72132492e+00, -1.80709235e+00]]), array([[ 0.        ,  0.        ,  0.        ],\n",
      "       [ 8.05848261, -4.59782157,  0.98707558],\n",
      "       [ 9.05115609, -5.26591275, -1.35273266]])]\n",
      "[array([[-7.25905584,  6.40045255, -1.43328772],\n",
      "       [ 9.34452738,  3.82946508,  4.31467805],\n",
      "       [-0.96201336, -8.0521704 , -9.59873512]]), array([[ 0.78068084, -2.31423947,  8.58196443],\n",
      "       [ 8.18682525, -4.63706845,  0.77783506],\n",
      "       [ 8.61520032, -5.72132492, -1.80709235]]), array([[ 0.78070148, -2.3142085 ,  8.581885  ],\n",
      "       [ 8.24137545, -4.6571514 ,  0.79123694],\n",
      "       [ 9.04584495, -5.26691528, -1.36876302]])]\n"
     ]
    },
    {
     "data": {
      "text/html": [
       "<video width=\"1296\" height=\"432\" controls autoplay loop>\n",
       "  <source type=\"video/mp4\" src=\"data:video/mp4;base64,AAAAHGZ0eXBNNFYgAAACAGlzb21pc28yYXZjMQAAAAhmcmVlAAC9yW1kYXQAAAKuBgX//6rcRem9\n",
       "5tlIt5Ys2CDZI+7veDI2NCAtIGNvcmUgMTUyIHIyODU0IGU5YTU5MDMgLSBILjI2NC9NUEVHLTQg\n",
       "QVZDIGNvZGVjIC0gQ29weWxlZnQgMjAwMy0yMDE3IC0gaHR0cDovL3d3dy52aWRlb2xhbi5vcmcv\n",
       "eDI2NC5odG1sIC0gb3B0aW9uczogY2FiYWM9MSByZWY9MyBkZWJsb2NrPTE6MDowIGFuYWx5c2U9\n",
       "MHgzOjB4MTEzIG1lPWhleCBzdWJtZT03IHBzeT0xIHBzeV9yZD0xLjAwOjAuMDAgbWl4ZWRfcmVm\n",
       "PTEgbWVfcmFuZ2U9MTYgY2hyb21hX21lPTEgdHJlbGxpcz0xIDh4OGRjdD0xIGNxbT0wIGRlYWR6\n",
       "b25lPTIxLDExIGZhc3RfcHNraXA9MSBjaHJvbWFfcXBfb2Zmc2V0PS0yIHRocmVhZHM9MTMgbG9v\n",
       "a2FoZWFkX3RocmVhZHM9MiBzbGljZWRfdGhyZWFkcz0wIG5yPTAgZGVjaW1hdGU9MSBpbnRlcmxh\n",
       "Y2VkPTAgYmx1cmF5X2NvbXBhdD0wIGNvbnN0cmFpbmVkX2ludHJhPTAgYmZyYW1lcz0zIGJfcHly\n",
       "YW1pZD0yIGJfYWRhcHQ9MSBiX2JpYXM9MCBkaXJlY3Q9MSB3ZWlnaHRiPTEgb3Blbl9nb3A9MCB3\n",
       "ZWlnaHRwPTIga2V5aW50PTI1MCBrZXlpbnRfbWluPTIgc2NlbmVjdXQ9NDAgaW50cmFfcmVmcmVz\n",
       "aD0wIHJjX2xvb2thaGVhZD00MCByYz1jcmYgbWJ0cmVlPTEgY3JmPTIzLjAgcWNvbXA9MC42MCBx\n",
       "cG1pbj0wIHFwbWF4PTY5IHFwc3RlcD00IGlwX3JhdGlvPTEuNDAgYXE9MToxLjAwAIAAAHi4ZYiE\n",
       "ABX//vfJ78Cm61tbtb+Tz0j8LLc+wio/blsTtOoAAAMAAAMAAvw/5sWV4XiAEpSXIEvWv/uzECEi\n",
       "zCTH841qd/ax1VftBMphdwhDf9Tm8EPUEwzlDneLgkh3a+f3tawiVhRVATp15XqbXNVyYjfsQt07\n",
       "FHWbVKX7TA7LyEkYYBXBmkrhUb2nYAz7lWB3j05tv9kL9NkabnlPvMq+q4ps/Gt//SnffrhsPhAh\n",
       "3fuqSbnRYgbI/eZSI5q0nkVHevLO+n/mounLL+GDTz1QwZdnY50awGMbQqD3jzIidwj9dPdGaug5\n",
       "0TpXvHEo4j74YZ/2/v4yyO98Kem+pzRwHKp0Ij2pi1MhXK+PZ4H5mk9xZWCfPLKyE5MKUUfwLrZi\n",
       "aIPYO4IS2U6aYVrToGQwf0mW2oHp969r6bmZ59pGRAt4bP7/nc21hxAzOsQpildB4mEaw502+HAj\n",
       "Hnc5rahRdXZye4cFIlEPGJFFqSombBXyUs2tq1GhadeMnB6AH8++SnWmQDS44JzZZS3+cRQMVf0T\n",
       "pNvUgxsAz/49UoZQHmCuD84zhOa2JrYCfwirWE6gV6NcgRVQsyOkkxYyBoJLgb6nPqjAXYVH/yOv\n",
       "oyDVLe6qtM97/YbEPJr/KOj/cGcti3+vvx8Lmei6ZoHqMy4ODVpVYv4Hc5aYjyWQ4ZhlMoA+p+a2\n",
       "VZpkoXf7sbeGvBh7XUoGSggtED9C10b5T/dcP7nBi3nKdaWbXEMEdF0Yk7CZkIXBtLdiyktdXUt/\n",
       "b5NcyP4GZ3utYyu903b7/bKfaUWBpEAiiSMQxBGeioougWodZ9DD9qOtOy3bk4oRD5CmRVxh7T51\n",
       "UvaoFU8/b+GRSkyT76mUZen2QvF0rsRacLzgXhu7p6LxHpDR/l3N2GtLbajV7btv2vGSRHS/t7Ts\n",
       "BK2wuBRi+MKTRmfc6vEg0joFs6zrE8aRl2anlaYonoxiDb26SEfWC9LKM3lBx6h7M94tbiEzq7H3\n",
       "e/Z9HfhCRN7DN4oFq/cqaZqXYZ3Mv+HAOzoRSQsDYl0OgRPX51Bip2dfNi8Lljp5RIQMZiMlKLyS\n",
       "3zPehVhWSzpX9/tJfPy1Vf7Holnk3yncwCoIUiCgSBlWbgkBXrujAT4Fw2VcbSDXUmDCRnz+nuqO\n",
       "kUBab7pq2/w3FfZZAF2moEuzV9JE7Z3EP3z4nSGiIPd4kFk5U+ofirPcCQyKOiJhUm+Q6GVjYDaU\n",
       "AAADAo6XhLZYGi4f6DwAAIRLxU/i+uHJ1g0OCE9RFJXMUchV4od3uVD//TDNuUBIlOBEQmHqxFup\n",
       "KLjbYHSwUy5s7kzDpzU8jMpZ2z1Z5eAObK5ctuneEKdwYLaetHsgRBAfK6fR9tvScp7pD+FQUDV3\n",
       "YA4QzCuV2vwNOfyQF4slvQgazVCpJ31TeWtIthusCF7S1D856NyUaIFIbogP2WnkLDXEjU0obrNm\n",
       "0rKJL5Ip6/3PH5tPV7lnF0w9zahxitsiGc3mHK6JHDHXj8txPyhiUl7D8o3MlCx8sNL5xXLMwIj8\n",
       "zOVD2eSyfIEUhEfqR+l4kLuaDzjDGBbOMcPjkUF+7Tw2wfi1QRQmQRhz18rZg+XuKxZxlgVn8i+t\n",
       "DELLXd2oTROSzNM4cvkw66bmMAvsJY1iIByxKi7S4/3mQgs1ghhe413U3M7mLbGaWU2TywrmilCL\n",
       "DnHRMcopmpEAYA3HjzGxMBJl0sucPlIqqy5QIat1MWHGz/jqGK6ci7Osbg9iCw3h/Au7bjjI0AOx\n",
       "kLkdft8PWZCX7YNYQ9zeUX4g6sorPPdxNzQagxjjiC5LRKeJ3Mr4QmZnKSvXV0yqMQh5ftV7C94X\n",
       "eX/fEBNXCMi9AjAwC/XbngfxBv+SX9+bl1QkABn2/TTN93wPldaKMZgeaDtBilfhFGYXFzGVagxo\n",
       "XGaw093IquRWdT4a0GB9kIbN8f0OxFLPJwiU/C3d4xjnuxylPI2cRPutORKAFZgNO5iAUNbYBG46\n",
       "VmznxaZdkQzZbCNd491EWJCH9HNhPQMuW9xylAtYS5OW7M/jLa6SNmwHl3K+/BBJXKcWN6v5VsUj\n",
       "+nXkO9eKW2GVjKZODu5bUkKxh7ZadMRSRTGp5ZkFxjCz/2z6Md39595RqogmgdBIAsz8of4RzNhV\n",
       "+deAAPWHHKIAWZSf4ov5jKowe/ZjO3HfAueTskd4CCJSx0cABr7OhzFpbTEmM4n+Yqr+D7bzZ3Ee\n",
       "yT/4z/72W5STnRa4Esp2HnHsJbo7W9wjpTT9sRUrSJWAzHG9lW5kU/5J0H3OzUKeVg68QSQLBqbq\n",
       "PbVS74Or7EMyPVEFDI0aSF0YOtFr/pk2mgMehUwDGdT/2hywtkBGNviUPfyKHYPEcssMV3hix2y3\n",
       "NeoDBWgF3+jLG+xcx7MefzGEqon1kZZRJ4rgg7epjEJ04q+iMuI+IGPi1E6JD4AHA5pUgzC4tRQ/\n",
       "ITitZSHlBSMo69akift9TurgOeGmGHfsjQFaSxAtIDyhM8uPa3MlNWBPplV51oB6rq69Mq7B7m6O\n",
       "F72n5SsMM5d9baOWTpGkHb5q4vuWfuFGPfhJGAp+iLsdga689LkyNoJSKX0IHCQUyFhgynfv/W3H\n",
       "eAevqdjINNibr0f3jf9IexjNe0J0X/hc8VJg2nY+jJOhC5uC/cp6ix3PohUgdixCSvS7u6vOER+8\n",
       "sCFaQlLrgz1zEgTpi9ejF3qZXpcqAfsteFZeniQ2eoXLAef4LAHZv1hY5dxvJOOGb2LXYLDD/QBV\n",
       "1k3MHCzumd/9PGjkNZpGnL07VNbPuxz38IaaYUx0JpWgVbQBGg/D81OVl1E7JpnGq7KabOwcsxtp\n",
       "Lu/gkpdbvUriM8X+odDzCSamEpEJZat6JJPL2PwKP5C1OuNC9AD2ICkI9YmgHaH/uCh/gQGUtOYF\n",
       "AS49Y7kuuhCCUQOBWzsaCnweiiyY33t4g/1NaVAhplycBQHpfpveLngGcSSBukI/saKg5mR7UejN\n",
       "FUzG9CBndosGfsJdv9Bf34dRFOyA04BXr867+rbFCI3ndbtc5mfjBKPfWFiixATOZdSd06yLLeh7\n",
       "vN9fquNEPY5J7x+MrGqlLGBvKEx/DKcV03nprJFgYaU6hpF055iIjv/nzATEcB1+T4DC6cnNDc8U\n",
       "jAccPQRJES1FfkBcpegQnnqxZ5gAnZbq2xEC4vuhYSp+FEHcLdwmysuxNGBjsz3WMl7nX8A4QOw0\n",
       "BU3dBv/iswdvvMLIEEXgXzxmvs1pcJWdgCECh2NQl5wkbJEuPZTgjJlI4zrVC3XmgC6tV3F2pvc3\n",
       "7hPCDWWrhBxxq4QfTnt8/kEjtlAmyoXqv4e9TGeXdp/rAPjwk1rZtPkb3FNqKpVNKUNCuCon9YJB\n",
       "M7Vkl2Gc3M49Uh3ZCVuRXr1RMw5dtdwEWzINj1CPMrGEaMeeNmLOM7J1vWX0ay/V5jPpYYbind18\n",
       "r2nDJzpnX7tPZIL+E8YoNlsGDVi6+138S2FGgo6Eyxgwpn00EcjGY616WQV4UuIPAbrjvjp9XVh4\n",
       "03UYl+/r0+nTKguRHNCcdDHTQ1Xr0QjhrRW3ypkTRdrijvWzhmeZvFy4beFZ9mMw94K+xaaA8GZV\n",
       "KeeobB3yDpoClx/VVqlOB5wt1/pZW5i4GEZgdRkQC+1uYervXXRayuTpbEU8zuwCpsE9HSySaxeX\n",
       "mjfWWV5dGH7aFC0//dWtlHnJkAyU4RkAvhZPE/4iKH5MIxmXSYASIKojdIIKV5HUXPN1y1ldmU8V\n",
       "pFAdIj6qgkz5PmRg6R+nzL6I4P1uUDdUhlcA5wqm3OtSGOnVOTklznoCGidW8wnR9F7pfyWKOmNm\n",
       "efKNoPXDl42f99NmkRcz22bM0ENxsi1UpTJN/Ck3JAh+MMaevLf+3SLLpzqu30WKrBFU33Rp4YIf\n",
       "2kWmmfA3Uy6H/yhfzSq2bX8yMq1KDWJi/6BVzU0DQ4BPm/UCl2Ea2f3Y3K5vV7AXHR8RvzJRIN9R\n",
       "h3Cp+/DVte0K0KH1y0/6YuC+saXGIO+X2LYoI7c1kP3xLAVn12QxSOC94lk7QiGfVKYQoQo3UJCI\n",
       "PNZsqdnGaKqtXQvD44ifMJMqkxJHm64BUC9uWwP83YuYeoyCMJioATEhk5+ZkZpEYzBFYPI4a9iJ\n",
       "rVRnkMmkilZdyuZWT6G9/ax8FFy8qQqIvkmA6vyvgsHldJZy8bsvNnWZ5Fb/rh9x5Lr7vc2XlOh+\n",
       "Kg+6dhozqD8oAts9J68+QbQkwpfcWGBJNOPukF3Zx6gT80A3YWsX0/VsdOTmZG4/jjPLnYxPkXKN\n",
       "TgY44VWMjnyVJAR1MhZ/5Ym1WdYdjGNUwKNVpfYaasQ4AEkv8xV4XQF2KJYZqU6jNyImRJvagivl\n",
       "/wEuECHen8Ed/jXjDKhaTMG6aots6iJC1yfNOsrNeqD9OXo1vw33lqmhoXRU2C2caqPk8ACqMPJG\n",
       "0C2rV6/VBzOUCjQ0KctiTeV3o4Ulom7OJPt3DDK/boXyhcCuquDd2i1UHNLBEIm9CvKEp8ruaomK\n",
       "eXbTImB9iTeuq9Z1ofhZJYr6tVNmSNx1+p1Jb8HDYWP+NxkhBFyUXIdPGn7/zv+N5ID8T4svLpx3\n",
       "2MA5CaxocauUOmUQL+ODfBes9/OC0m57lEdjQhEXCCg/EpBmYBxpmKj6/fI4iP21ZP/s+PW/lBOb\n",
       "ntsM+JgktM6ezIe9wbp+bDuxN97tsVcbvtGep2XAiRJFLptUBy56LFg+N8fAHpPUAeY+LR2n9cwP\n",
       "9QPB1YKjzbVdj6OZCRuOTuxDPONGMlJZJXof7x+C2XViCx3Huu06oX2wcoDEI9rUk+jIcCD49x1K\n",
       "gYvdYLjZLiq3mVGuRk0+mJHs3semvZGlBxqBrOAV1AGcKN0Aa0XMmKLIxsmIdnS3lqFUVblg5gSi\n",
       "ZhdH56DlgOif0xj4VJ06Jb3HCE0D1kMWQHoOi1Fn7rh/90wh6+tTYFKYelFum1KBAHVvVRHMMPE6\n",
       "1mQyZwwlE9AC4yiVF8eBgCWH7wb1+/ne2FbgUtmwTWZotTAsezuJOXiC1iZ+MWldwEnqd8x+JBdA\n",
       "JzHrk96J2RncBsd/X6y6H96f23tRaUp4qauX/j4Xz4oFsMj1Xcx8YTC8nFBIMqB5nXirpu5EjeDC\n",
       "ULNctUe/M0gQFiiyQm4WY6HXWroWEsOiMODUC6t+v/Eqju22XOYTtMtSioeqn0R8ShaVsFVgCRRB\n",
       "owRGkQWBWnuH+yX2sDXVWVkFyBNw2Mvvv1nruzp8oJu6zxWAVV8BBSRP1v6N7VdzzgoWbf4EmOsz\n",
       "RATyanuYP23PR/z/tHiNIezFjSBOH6bSADmtsoD+Sy5s6XObQN8R2jA7ASvGKRuTaU2VabQqLOO2\n",
       "XoxmChbOjDEh6L/s66BXtilKY5XJ6nQHeOcygOp85rT8fAWqYwMcpf+D8fHteRg88dSSn1DaQZye\n",
       "KuAgt44FjUkgsUwuC/ck3Je9boKtjewHU92Zw19DHF/vn9dBxbE/2M9LYXV8N2cGubjZLqrscUrz\n",
       "VgESCPEHscKxkrWmUYa6Gvj/RQ75oiblsBjzm1ZZ4Helx+pKgrLArekuvRgh2mlOtPe9E9b1VxAQ\n",
       "aQt4NbLozK2lX+SaXqPBunxRV/n0Lp4EhXdIde9l5aoLAU6bKz2tFVIJIvQv8Piq8QyoEb/Ezaoi\n",
       "VSVua2Qa3qbzN3CTsAafw7xjSAtzOrUgmX3U0jtHeSdNmJm19RJ3UsT3cDndqK6bXOvyaiPphzcd\n",
       "z6kqznctgVZS3dJL3V1VjiITaHvE3v75Zlch7sSJQkQVvOkfFMK4CQYi5Kmm93u8oe39gr7zCLTm\n",
       "dTjoVc6y3w5/ijlvGufI+PpE/XViqWgIPD+ZgKml2c9yvsKI6OqftH+XcTvA8Zsbfwf12lm4SdJ9\n",
       "rp/f4h0KngV99eRaLWDSTLW1siJt0OCIEo/XNfRJy9R9UIi1v9SfE4tRSUJC1fAkfGukWmJX2sOi\n",
       "aTsLmSn6kpZetGGw9WTRJk1x6jpqUMrHuse4+yfIHm5z1y5xowq/OcWtUmAWbd/dqCZPnyHCSuYR\n",
       "eHEtAMSwSDE6w5IshvxeuycH9bq0iGxCus9gtk2FlfExWpVHUL7Gbc9FAZ1Hr4aji3a418VVQ0Rw\n",
       "Df2tB81H52cAkv5MvpW1vFgQ6f//9rhYH85Gp824z5xd0t38XqDikhBhUi7zJYsAMDnZMD4X8/rS\n",
       "fbrgDYA1dwA/6Xkvc1B0KyZDKQ6CKJ/BY+8tTLtfgKN9KwqQaZBX/4/gatdFUzG9CAp82zEVuIAf\n",
       "PPIDcCIgYA06mdINi5RwJD9zaX6bPdEt9qY7H5fAXZi4nu4JGiUGYh+zOlJa4EJho5SVgJRTKbtO\n",
       "76o41UOLYkC1Rj+GU4rpxa3drb+CzXBI1MO91PSW9OxKefFIwHHDmVnk4OC+gCHuFC8tI2OQAKFo\n",
       "YFDae55x8q+C/scuZue1HZ3pek7azspszoN331zdL8qcNKyjY8rIDhnXb9U2Ifo7jgOP11+bvulr\n",
       "mY+uhh2d7PrOPKsNggchEGvbThKhPjKMaPYoCIO1gUznGU6/AOHkfsUE9Br9/WojApyb8aYtN+5B\n",
       "h+UGZajAA8wRR6VDLrhrxtcUJDzxXwQq9D47pMSELmXSJzJ5EyJMgZIB5sdwhTrE4YJqC2FcRMhW\n",
       "OICrG3f2quwupDRgOdavq8SYeMbWCzAxfQoKj5pBMA2ECLOSP9uBKBW4kBofkNF21FXWYLuYaWpY\n",
       "tr16dH8rJECtFbIt1mzs/NEpmUwu2ixjcHxUlZ853plZ9wAwxuc8gwN5DXgt4Hq9XcLmui8gUqoH\n",
       "GK5CQId9z9dx5Af0gvk2dvBtp71RvyU+Rb71x3qF/pqMTQrdkmPo4KKWqL9ESnn851GhnGeb5tsJ\n",
       "7pJYpTp8HhxmfOMPMCK6c7xKaFUx6NWoGPknMgLvkC/ITireH7amoST+fyc6xVsAteMWlUtqBm65\n",
       "KvC8XxG2qwMwD0tBn4uD9rb20vAnul+CmwagI5QwGdQNreaIhCCpJUfb5zOl9js7dd1wFtTChcJc\n",
       "hFziWRcOP5SSyUz1ONTw9l+VuL7BSyXrwSReoMO6cS2P9uw5F1v5cL8Y3F0lWX9F57KmqXRzmqKK\n",
       "Julw+L4OzStOiakDBi+arDfsVp5AGX67z2NmTGzbGtiBy8VZVF2t/IvRH0YXeQ+DSG3hWfxz/W8X\n",
       "ivsWmgPBX2scbtVFYWTc4K0dnSIZN5IWyTYkkZOOWLpQ/LozT+ochjVCrZJSfdVCZOoz+NIKB0Ld\n",
       "2STHIs1DJOmvOS9I8pFJN/3v/xJPgDSjF0xndUdk6ljLjqp7TNsJAH88vekX/Xte4U6CHfYfJ90w\n",
       "hw3i3CZTa4ydX59bgSTopxtVZiV3bXUi08CYE9f6CXHlfUsdQMxhGimtzSs56jRWP4R7i4DFEJP3\n",
       "AZWJcLUQFn+kE1xJ/vwRzlNvr4tWqzdhA0rgv0jo92nKw2l4QdQR5fQA+iJbtwUlZSvNRmiwMeMA\n",
       "NSr5X9iu1XxOk9eo+kq+1tFuDDQiGqt+VzscBg6EjbvPTJEpZmcCjGGD7227uI2bIytZpEunmgjg\n",
       "aMhSHWE2CT+WP5RwSjl1CpiU2Txql6XAPgqJvfTf9w6MXjhqFhFRUO9xBVVA+WNnUVrJoLH2v72U\n",
       "BvTLQhYCVBuoyUrd08Wtn3tKRsuu2StewC5BEYupyCxPWH0fi5mjnJdGavwBLNLRGBugGVjOrKQ5\n",
       "LErVJJDVq4G3atN91nJEq0HWCPAcNWrXcyZS8uks4h3Z+4B0QGO42gVRvFXa1ay+lO8ZMSHYcEFE\n",
       "Hkd0EIGDX2sie7ISZ9eaMUOBZdPKMcUp/jVhuzGtrQDpC0g3VkG8X+VxawuvWkBUInC2SWdmkPXJ\n",
       "lahWIBQumPychlOA2pT0YJwOTQAXTtihwA3oJNGqkPLdzjQKBOHLI2Gyn2xnkEHVd5rv+tJNtfOE\n",
       "ErOP7ZFrC9NWms4r6AExhQYkMPVLvSSmHDkmhOu5URxE5gTlaM6tvg2uq9ajE9uvvdMQJF/8cd23\n",
       "RNlx3cyv7ZHk9Z8VEGvIdmGWYjgvuAlOVJAneNEMI3YNjuueLYpti2qcw6zqgLH78QyEtecEHoux\n",
       "owI5P3eRKp+YLYvfxxNBNqdk9z/17QxQohdRjCNn6eWXyV/QOAXLIWllBWcWnHL9+NKDqkwowdZJ\n",
       "rx7yefhTd06XnOcIHwKrRcQC0z2gl/Qo9yGdFxcKKtb5Dv8PxulEGn2xIZpWXHiCycTVFzzWkCMD\n",
       "08gc5JwvzZd0DNn/j+OePgm32YzBcp8H0arNHfY+gw3pRwPS7PoFqRfA4GIZ7sETXcWYI/kf3qoV\n",
       "rlcwhUPm7rTg9U2hwAtl3JAstojESoYt9+kZn6E/oIkCcT7SCqTpestCRZSeSm6g3L6gsSquigvd\n",
       "iABhuUlWrYgPnnkOZ1bUaLxmEWljd+smhui5MkEV6nrC9A2+OyB8CS8e5jvcb7BPfYF6/mKc9VJC\n",
       "b/2dRiAY7Aw1n0J2P1hqt5YnRVV8yz3r7D/VWkwhHtOVo6fglG4TKq1PkL6RBzZgiMQX8KibWt3k\n",
       "TuBHxNd6leKkSPcsgFotDHt3djs1TtacPmDEfGnz8ULMR9YC9Ue/HvQz/gvG1QInQI21o61iiB/s\n",
       "v/fIxmjlEo1nTbpl7hryQyIPsPUjHupPe+yfUxIsk57Mj9kv5tiLS+cLL7yL6puKZB4TrNMUFR7z\n",
       "WTkxSwA3BAzfRfq0hE2jMsGMWD0JTtAJUga8qDlLXdEwtGVHe3ASIXs6BiN5ovvYbHMhY9QXOH2E\n",
       "AujqsbHymFIWMXdHzOCBpafUXT5ARzi0kb7TwgQPfSSanZn48Ow1ojVNscRi9dguqyNW6fz6lGKU\n",
       "AQahGjixH3NXmuA1JS6AuwqxObPy7fzuF4zWB2dXw/gGDBmywOfSSGTlVkprNGglg/QPQohmQjsJ\n",
       "UOSsWFf7GHRKn87ZDQLC2zrWXhKIM+jeaPepok85zQRF3+a+5Nf99SzwXjrZ2QT+qdDY+Kprbj6P\n",
       "edZlIJqKI1aIHphes7Rb1eVT7prSMEcjKn4QABGP9j3y/eZxW3jenGRZNj86S6PNjwS5q51M+4m7\n",
       "X6I8r1XLJx2vfwXrw7QQY/AnIQsUBAgSTmHyH1qfiLkS2QJgx+CA3E4pc1zceJYqU8g44vaoKNRn\n",
       "trvAs2HB6oIwhD9kPnjBG3bwPXnOcLPFiYnu+s3R1+Zk5Ab1KZoAKtMxq/u5iGJTUmnAAz4bn51U\n",
       "XouFYrOPcdSoGL3V9ZaJYSNydz3pudQfuu4ohVMCxUSXyby1DmP9Nt09GwFSTrcwqpj73/rNN5F7\n",
       "72oOYMqiFL8KXiItD7Ib0QIMXxq7LFUZ4g47qvD2uYLoQeN20V7uL+cZOgTj2+JKBsvdqvneRjeJ\n",
       "IBbL/oy8YtWb1xowUeMjP2Spxe/h7TcPhNcZKnPeIGA91Ol+hvluvsd7mZFEU4/xUy3IUBoTqgwL\n",
       "6398t52TExeCK2cvq37dwxu9rm6U5cVXFu52A3NovO6eYpfo/nyAuY0FJ+7ieoZP96ZvFJuqIQnU\n",
       "TVYY5FWHu87RjsChVwUl0VUCOlSSsE/Kc0t8e2E/y+YoVRaVm1ymJFLHXlXV/a0Keh/imdAXKOYp\n",
       "34AKCu/Odm9UkrX5gJUHXx4iq+YUtesxqrRR0DZVuOTEXg3sFsV240jfutxerBuJLv+b+qEYqlph\n",
       "V5M9ZAnvz4VsZ5uQiO+n/8JtFQRx69PYjQMNIMEb0iZx01bW/bR6JN9R6NUSKGLgmFO7DyptlVde\n",
       "7052W5JPI9ZuCGTADGWZwrtHnBndj+ThvlwCvo9LJS1MBmdLJs8yhC97xEm/yOne+D14oIUhk8L9\n",
       "cCjgB8XVlAahBLtsX0Nojsynr1ldCormWfeMmZk/B+XQRZXIWHA5XO8Sj6f82zn+T5EPAcftpwx4\n",
       "ENakRWCgJA35vnWot589XGati6VnSIZn/xhZKFNQ/C7Ugess+WZi8HoKg9mnYdcQBxuFUAfHqpf6\n",
       "ezDnk9dEdUProqTzecwE9SqYa4oqtWZijFj2wKg6mDUbZ+HFsIgqfjBMIEe/2HBPET/E/wvGi8Qs\n",
       "q1g3CA5lKcvVgOBY8c3EK48NpSbyAAWwd0f5XwyWrN3YzFzQSY9vJoa8uAyphbbe1eknYzDTZWr+\n",
       "qUAxF+IkaRkfvi6Movo6tqCrR2UJ1nk7PdgxpEnoshDCZVn+jGwkYUXbNR3GcfQcL0/oxjXyebSg\n",
       "zfNEqEbnOgh5m8Rvi+1I5nuZoCB9Kj7298SNFY1Qycn4fSR2J4Mdn2s8rrYA4rDvHlzpfS6aruML\n",
       "qWo7cKVp8OW9bnjg3cKo39E+bqU/4eCMHVsCsrt8qOWzVuURfUb+ArTvTvtCi+NaWq/WFx9Y6a2R\n",
       "mEjbpd4c8d/dOIM02v8LkbxK+3W0/NvF8DqFLPx0z/0asBKbBJS+6c9pJoReQ3PbTnk6/Np7hi57\n",
       "1VtJwzeg8DAvMnWvtxOthgLZUVlnSL36NBmWXFnmYSNsHI/Cf+524IIqdwC3x/AGfmLNae5qLb62\n",
       "HLOz02KUoxBJRjUaAwR++EPWrJW/wKu60S6b47LvooNxuQBtV2MNKq2jw4w/bwJyNBUjMCg8EaNR\n",
       "GsSh5Y9S9Z+1E4jrxstwUQAutH/PgGfexDF6zIwq63Jj2W4kD0KpjPc0pDfM1S73+PRiVckDEgek\n",
       "N6iDEnx7dqCEy9MWSGXp9C1UB3svoDl681f0cOmtLV6XvJGsf45mrT9t2TpmyQmTpqK7pO2rtZPS\n",
       "Zk4+rZ62FiCrH5FJpFJSKjbdn0yFsXhZWgeH8q+L1lvOrzm1wiVyN0BmeYNzcvatLmWS/m5BTuox\n",
       "2HxIPssdjjvmfw1qAVOrcSBuIyV/fDCjaNPhknBz/+PkvW7h9F0zTjunvhoMYa2j7oN+07aSKKA6\n",
       "dBgqVBzxLOlVDY/+n+WxTxQxbTI98MjeXOluKJm4Zh0sqk32FTmIm9v+NZGp1xiRVFfDmwWqZ0/F\n",
       "zCKdUWzF7VUhuahgDDMvc5uD/at1TGx3iRAgbD8kqd21MaWkwb3RIJYQstKQwkOZ9DwUY0/QOJf8\n",
       "M3dQViidA7qFEKJOdGavWmlqdeBM0hC907RqZvUmq2gZWZjv7P6nRah/T4fp5Nj03m2FhiZItG0f\n",
       "FNs7ZVUp1X6X/mPy52CAWqn9UucoPLkd/ELFSeAlWaf0ztb3zjfGxbsEGjuCO2pJO1WLetWqPR4c\n",
       "gDWF4rUR86hxFapzNmYCIWcXwDvTLJL3rGlylVR1/quaH4sWJeWPY/OAGhePUxOKPL9PP4lCX8UZ\n",
       "Uqgmt2jiAJ+lFWezkE70F/HiN84MrWKStcAdt9v9kJDlmWROmNF3Dz8S3YYel1HvTXL40SqOTvHX\n",
       "FV3t8SseHIjSP8PubLVz9CMe9QCqwBCwFt1LIPuDDlOnSO7vN4NkXH3waoRJjBlmhf/r3NjRtH+b\n",
       "7JFtMuI7zh5fXKh2lvrMCRBHqn1Yt0sIG4AvwC8168F6V9zsyYB57QfkmrnqZOYq2/1ZohY64ITz\n",
       "jGYPr6UvXn2ukONP4BXl4lx56+GYUYvLKQRFkFr7yiuy6aRw84LRGfcHQDvKOBQIxrGzAcclvHPz\n",
       "TiwBi9NHaZ9RRyoKn2CLef8vezXHrW2ZJab+qxNaI7FtTSNecAzz0TO5Ey8nRPmI4HvXXzgN6X+g\n",
       "ZJuROoEG118TSLy2CuaSR19wfwnBXxKziu/SeMGk31dppdbLDVwB4XeLvJd1t5cYLCN0dPK7+WFm\n",
       "p3lHSb2HtUBM0WkKIg9NOHtNEu0Q58Rrtu1/xaT8+XgAJBMr9rrTrgYTVCR7YZBV4fjE0CK/TWXu\n",
       "9HJQoMQVeA6/vImDkHF7OJr3f6Lj/oOXXFmsDsf5namcaz6KOC2NM+WSUb68/+djZuC6X7/8k2nu\n",
       "tEYUpIS74RqjPOv+1CTgXX6XmMZZ4M1/3A8XTaOfLU2jsDXMCdlQdkV7wGd/B+6Q1/mYWjMRvWMR\n",
       "+M3CUGmwrkLTx0wSUklcNCSk0J8H1X9kmaC80m30a9mhD2jokvU1RwvbaUALupPTuIWA0qUADo9N\n",
       "SzZ+aCahwwBabhusmfaYmbdaUYgtAw6QM2cvIGJKi2cxTpMv6hLOfrOXqr8mbZaFxUaXs7uzHKO+\n",
       "SnQ3giSCUlNu/ZfwcB6KDPAYt2BdDpG3wP41UvqXNQZuzz+vaheCEQAdyt9V3XywIgNhxOsjiy5f\n",
       "zPR1sDyipsgidg+K3i9VYoZ/aTIFv+oH83X7Kdvv4yErfxEFInwbSo8r5HMjrwT8dxGMR9ZlAMmm\n",
       "sZ6DO7WPVMRT/tKacnAGClqqeZj2eTgOw/VJpcrNVHrxooIFU5jz/CRNh6tsbye39dW76Z3Gc2FP\n",
       "KjILL4I4rcKFok9cEWaVMVUmQ+XE6EuhcoNfDF5w0mSWiM6T+97xGC3BKaPjncCIboftUQb+Zqfo\n",
       "7odvFaxi9+t3wZ/PxW5Xs4bpuLFPdncVZkuSFuWnR94lf6mvRAMole376MhSFY7Om+lzOyEwHniv\n",
       "9W7iFF4b0HQjwjNQIKW7zIQWk2nEM1zksvv06KY2iurCdJvs0Rz+VVw5G63i4eesZJ+epfNE/rAa\n",
       "Xu5YZhNR/NlgxmreYBg9mrHQS6/40t8YrEFbqkAp19rhyAMMIkYlczqJyB/hrGprxjODR2/ukQkA\n",
       "8dFMoKKMHy0i031cyIq66F4owF+gW1pzvcBK3iCMRPr2+VFeCmnQ1v4YitYBfFvafZIa3nDLhn+6\n",
       "JvAYq8Dwlah+g0Oc5AuzvH6TAVD3fHP9sLEMi9uOHLn2z+C6az9HpJfTmNb1uMNw2MQGIJndinxO\n",
       "DQP3UjE109Q8H3hyGE7vUL0h+KRSj+xLhhdQ8l58w6az9nSah4fLSWM2T9KByubJq3Ov+gAGbGm1\n",
       "o/ZB+TpAI0gOAtNXyHBaSYSPoJ9hVIs590hrVruBgL7XjWOV/ZinNwhIuiANKht6MrC+tvq8fYTQ\n",
       "BIpora7TyKoGBLCP9qMOK38DVQmF7zEZG1KOgGE32+CMWJhOjCRAAeW8ppZ3/XlHTh0Apx+d/MWs\n",
       "NNd1djniij6dEcmeFsYMvd+0Ks5bi2KDciB5XZuDo15Qu8NwgPMDSKtY5eSaQyDBlUike+gnd/+c\n",
       "sqzfSMZ5v6oCFzrE6BEJh0Tr293LvC4ypSCLwIiRctv2ws9coDAiSoQQYblygqAFqDxoCKznk/ug\n",
       "83sDi4ktpkoV6pjRwKVWFHxsorjIOB7PJP+hr5k87nwqBY1VaMUMgkMU5+fDBsPMeCKbuBXuDs2C\n",
       "ft5gD4A6zpl5FUAIWLxPTOWPm4PCvNauzLOB67zIqPS60UIfeGX2nKuOjMyasHRKInpg+oXbv8tS\n",
       "LEMRjeA3raNnQm+9e66gUeaA8v8Zms2vd2mzwAOyxrZRt4nSZmG8hHrlOe8YOcKia20FffSWM7sM\n",
       "HlPqOCZqqmjVHEGa/Xcg0mebsgpPsJi4L+DfFdmTNhe03rW8fZNAThYuGJANRp5zAW8p8umO+EVO\n",
       "CRFIzqD9hQFZ7vI7zO3P2aOk9+FD4lOjOtXP0j6bbBbaSkbwoDEqhavbqvR9ek4om9eHtUfGvd3L\n",
       "sT8VSnaLvuHI7waeTuJOQAH7e/PCm1+XTz3mY3e741By0dMuSaxmfMsjz+a22NdmPYXJleg53NPd\n",
       "Z0RzhYxx6BetOnzBmvnYgDvCmjlhCzMIbyaDkK0hBHk9O/lGyDt/9OcYMCHV+KY9x7TDuUAe8Ywk\n",
       "OG5lcNmZvIMyF2UutykA0FQ5Lqm4J9XJMXfMDOASpjFImuWi4oAOpqP2DKB0LG5iCezSPXC36BlF\n",
       "GKjnjMTYhuxR59KeJDHgS2zTeMLgCk/6RIDZtYjooBc2l+D7DPUX9oBoKU5f7QnBrz4V1t4XFXEU\n",
       "B/SgPmWFK/ZB66MHNqgy6+Grz29P2mkr1YAB6XRJg8Rtx5o/zit6ay8NIDb28eEz6nsHfxhZ2OP+\n",
       "zChfZffQ7JfwaVzEXwruFikVVLxZdntT1Pcv6kwtckuBU1rN3Cq2egxTacpMrZenF8UMYU/4Jpdw\n",
       "SfH1M73jLCYWDhee4Az3mAFImezd2O3Vg84ePPlg0GP1NYJ9gqStCJqyfDH4fKfRxJwcK1DUKtdD\n",
       "u9mQeS4g/6YxvYOmSUp9B89DLiXJTjmxdksTjNgG2OzSYFOykudYoKAh8mVaKHpPNDUfZsX2e69o\n",
       "g8rbqYHGDheG++G10pifHAC7f2lGJN/SDk+HM5enpsu1z2Q/s3Tlw862T+73JDCOcFNEkFnnrCNb\n",
       "jVR0TgTyrXkYG5MoO54zIkBMX6mz7o4DDirpnne4eLccyUp0J2R8ECUSwVRKmGhpTmCpAm0g+KVk\n",
       "+zFyQhPxKv97riuoleRz0gDW7EZTESSNxNkO/5bFz6f4PWmlOuqp0HdelZzZsX+xf4bq8NZocUu9\n",
       "eXlfQWjNHUl83oujI0pFUaRqOUpo/4x5VoE1Oy11ZxABFc4Hb3gNNcjI2JM7ElUW3Me1RFzSc1Mc\n",
       "G8mPHJifv1/HhrG6mauwsXKHMkqa39ahS03UuXrs4iW6fw0uOVr9/lJKVkwYMln5Un6fuMBIz6Ix\n",
       "OmLzh96+yCoU0TgWh6QYzJ362VMlRplRAxiDjQtl8QmO8k6FBFzK4Snj4EiIi3hzun4Cg1bZEojy\n",
       "osGUB55h4q+7FlGsd7zez8vCYXsXUYjH6DdYzZhkp7YJgswvkq972axcojsxVdIH+PH3kMny6rZI\n",
       "MfNiWvgsgd2HYm+/YXAuHxY87PiuKi3r/jmWjmwBZOtoTYft7rkNqan/YTmIaL9noTHtzcaeatyH\n",
       "blKeNEyb0nllYnCuRmEILNZETuj4gEY51SjfE6bobp+w+xevuHiOsxI3fBiTne/jBkbQnhrtYqaB\n",
       "69TtkXOhz4sOglEcbR6k5arxa2xsqnpE6cN+nsYpQQQkvR3Ou+iR+sylC36x4u5Vfmv6TF6TWBWz\n",
       "dE0HOlvaKeeMO3XyyEAlbufRkvApTo/13hEAl+ZfcTIUiEBekCDwFgQw8vZwsHOBIEyxzEbOZKil\n",
       "gkmbRX1Arajwjsk8p5iZWTUr4fsIrpoCibbLQwaIcnWyfdSZxr3sGX4VGwT7l8AMyODa6CEEJcp+\n",
       "MX/mRG4R20OP1a/ugaQJg3W53FjO5kFQKhrplh28qM6x0nGlrr9boNy742zG8dnblMUXBgSOsq//\n",
       "KSIDlr6l9AGgpncdyiFf4Gd9JQ7/e/9dNIOdf+LaR8olzV4fg6w12wogotRRS+dDg8WYPTPByS+l\n",
       "D/yO8F/sHh0YP1uDhzuRix//U28I4GuUjM2mr7wPCTgokuoCb6TGASL3kxMx7uH6//F7gtdnyOOu\n",
       "ka+ucAXmi8oyKlNYX8DV7yDlskZSuzk1IcGXPOZ5mlglhxYYqG24zBgaYqBcJ/2QNlSE6/kA4aY4\n",
       "h6UUpMLzuOtb6TfqCb3PF5Z2EuMpeRmL8smtPEzSAEVyHZa8zXky6TEyN+Fcc05n9p3bW4aKoVkW\n",
       "a5DYENL6CmtcZ/NjvUNBsAws5KPkntzNrU0gV5PwpuOzYOgtJmg84nugN2LFYt3e7jp2eybDNG6t\n",
       "XiiaMNEp/UfdA9gK9IvlrjhqEYT9fRItwUmx5FjuGiuxLVnAgwBFfXdCdf4K5seKQ1WhMbkRqWPF\n",
       "wtk+PItfGBCo/jAL+3W15otAZukTS81ZkCQIPPV9nvdBilbPESAPTYpuCOpeYfWQGZ9K1F0am7mo\n",
       "w+Ni2Vf1pONQvxBW65dC8IvGsDLLos1z3sirhSO2XS1oQu8IksQmvkBJDk1dJ9BfqfmJGGOp5Re4\n",
       "DmNws8SN1N+zq43BWBPOmsCY0BA3a029QA5MkBP0GgdEekxcAUnJBiq8JtrDpngqTnzCKoO+8E5l\n",
       "ZLhtYuktMq7gMyRQ/osv1tZuQwBOR13KgVgRu/p8B+J7FY1WRnWgCV/Je20lYC6OlqlhR4iaeN2Q\n",
       "TDy1XI9L45eD2cdLk4h+G7XQx5PeoFWU6Tc0m0xnrLvZysjGAEO+pDcwX/9+vFUvf2sYYBI4vKdm\n",
       "ze4QnNag+aHlvi09cV/MXwJopjuwj+nE8LwfDzb5mms3oh5IpIwVwYB0a+iPZ2Hqe+sQ9C8x7rQ1\n",
       "zjVhmw+iP4VejUkidsne8gEgmZ8AJZDJ/6zJZPrro4oChXHJgAVj81ElfnRA38GkrktAUTib3gIt\n",
       "ak+mjjsB7J4b5K+52Ye1pO4sUVxFBBi1INmnwf8WahQvEZEjldld2+BVZ+u2xtoAVsn54MWdk/lc\n",
       "3A5XXA9n4z3yq+5vr3w/K0TibbhKaIVl0Lqr8m7WBlKqBjZug4nYqhgvB47seT7IA6jHB98VuAFR\n",
       "s2flzYhAYxdAtKfM0wlov4faNyi2SVP4zva11r4a8ODHYgEQt6yQP9LadUuijbAd4DfFj0eLeh2s\n",
       "gmwbqLws/x7bxRK8hV7hQ3ccMn+5oWMUmropKEMcJ800dXvKMen6g1FVrje47NmabaYfIZHQbLf2\n",
       "SYHq75FElEy78r+envxBUO1UcAE1zlFR7++9J3/sUVJ/ckpppNZg4dG/T/6CNweijJ1O1kmy17Hd\n",
       "GrjghVOGzq8/z086tFQVvhCAutTWpO/AIyFw0Rdj7fPiG3+1s5DqtQjEiosC5RF7zOl7a+U7YZDG\n",
       "KCmkucjLvy6Hc8L1wAcmFzJjrH0p5SOmPMqNfS9Y2w3Xn4gMoK6Aeeo9SXtOgBJNxMj5uPpuEQqT\n",
       "Du6ejLKHjpbO4YjGod4mqfIOKQLn7vMV9SyU+Xj9/aq2UtXU5ZJW+sXnhPzNboZQGEEFyySyJ1wz\n",
       "p6U4puPrJeZmmMbqRseF0opQOqTePnQf1nELvpJ28NSE0+U+6I9U7Le54SqqwwjefkjDzQhGyMaI\n",
       "WqFX1ultk8boPmOlobpfQ1p+u+db48Srn2r4c9NxLvjOpQs1p4xwU1PEHdSpTuDSdhVNa8TTIiuO\n",
       "mYGX3bWVO8+1ydJQHcVff/dhiPwGx0Tj9QgbyZ0swZfneiap41pV1uuMW79yCQd/bHmdyQK5GRtt\n",
       "MBhq+pKNGGCLkjRKjHzC0XCXOBa0aqpt4cQAJHcrceOQoVzhS1F/zJdj9rDiYDbz+gFPQXZCwjr0\n",
       "2rcBKhb2IZBAhA8jvwfKWSNTjJ2uwnmrqsmPkUrhOTGV3qKClj3+Xx0sPd54Yu44Jkof6guhnee5\n",
       "XlpnTnQdwxHZdCBXwNveMddTI4U8uJlfo9D6fXQ6savKX1yroqHXrNkTK3q1KyF0QNY9R1/i3Y8L\n",
       "wAaY6myOVIGsXgwnIYkppZA4RBCVRoSgsWVBJ5TpogJhnov0DawWB6ZEPxIL5w917l+7tas2Nf4S\n",
       "iOW5mz9ekXDmyV9PwKCRWJg2oy05yGIZHIjyH17p7arDLPI53nTCXa6mc3dYS57IMrhFKywPqbV0\n",
       "Il1Xqycx7Rzpr3SyZYZdcaZ+Jn4HHovGTJ8ekyim0DFbxhsgKh0KsrLalwik8Vtgy4Z0naU8rja2\n",
       "VCxXd4Z8kFRl76vZbAqGj+rZJsYF0GUaOcDCEYtY5Hgq36LApXAKxsgxEYfwGMT/MFGFD2oAalxH\n",
       "Aju6w6x+8F/DHTyInbPwmp+cJ6uRqGAPoYGXumxtikU1Yhb82JdTFUguYFukd759f721W88E5Dnw\n",
       "mt1TR0g10QWgu80vjEDj9vYPHMjJigKkroBaTHZQFeuVTnA/SrYj4+D05YGPalm/r3S4jIuj3aPQ\n",
       "qKMNrQFrPaD27Kf1I7HcZRBqb0gD0DEsptaGMcV2PkYBgjj9NlgLYoydLnVvtf5bKioDRQieE5UT\n",
       "PG/h6gsBUwVY3gnIp5CSIRITvLWC9QmBDpG06LxQtx+yPu6MX5xXNvAvjzSWN0td2pyjw7QoOznv\n",
       "eJCWuUVO1ZHX/8qYLVn+1Pt5gj+f6v0y8h81hin7DV84RgxPun7d+KX8r1AQYawywt6YZX9fZ4V9\n",
       "f2UwhI7w138zDqV0ntyW3BSTTJP7nClpnsKjCV/QLaTKCdVUTvlNgrLg0EPKoY+Ms3nWUSogPQ/Q\n",
       "jWzNEmMMIsxrKdBs1fom4SFpr6inO5Uu+YuvibPQy79DznUZslFfOFJ+1aWluO88ZYQr25/3BfpC\n",
       "ExVWa1FHUHKnKJmLvFq2QbwyKrmMAO8ArykLj4WPHBYISLTUbEjSKtHcy13CVj3uR5kV/+U8ZDe9\n",
       "dUs7YNAeboKmVLPt6WsfNUs6I5+mVa7TgheC4JcVr25eju4GGUueQA0c2AdEll37aVRPFuNDArWc\n",
       "8+b3+LoSB8vDiqXj6vnl8h/8mT2EWWfq1/cIyi5ZQwXXdR7s7TOKQwHhwADle/S4Ikdx5Zji/Uvw\n",
       "9XfH4vd5qhUCwrIDe9LFUyaHBBM/H+v058ln+B1vQMA/Kb1QfF1CUJUyY5dquqeNVQy4SOCZCiu2\n",
       "Rua8t29CukmqdXOyKXjOx+eheSpdxnCF8r/WfNhpCR4msc8plFem8YLlvPUdMh+khQRD2tfszk8k\n",
       "S5RtVh+K68PeMM3HA/YQxFHOCtmbZ/vnrDLVxGpohNjnR7Ce9Spbr8CNapZYmS4uJPi+KGNe3Ov1\n",
       "RgaeB1SaQVKikvxzmfVjomp0xqqsNGPbQx/mY53TrrwcgOHtK8lezQTkDYwcCY9HIm2vB8A1Hq5L\n",
       "A6gmPV1QL0L4U+do31GtCanSPXZvYeIp0lmgw9r/v0v8UnvMtUSjB9XqTkQDdBwwax2YctFS2+/e\n",
       "c3CGyIglfftvIXobW8fGXzWoLoUEE8z5ruRYXxAgOQoXoDtbR16cIt4DEiIwiDJVnHO1Rs+ltiF4\n",
       "t6ZmxVpPsmqQ2ifOG90sdd6TN/5SrZmO29pzyiPJKeSIOFH/P1toVjWDbmvY6A2OR1C6F+4vUuCj\n",
       "e+6fMQmS9YSXE15/H4+hVckmsqgLRUdKneqrI5wtWqPmKPfklNzsaRI2UUdDX8h5qBLWVegn53kY\n",
       "0rRiX4E4FPYOzT0DuU+9bc5A/JcAynv6F7nAW/1UD8uyEeYSEdMbDp5WZKGZsXvyy5FuOqCp6p5m\n",
       "xRbMYwOuesmIVANOpppRKK2vzoCv5jZOgrCysjvz0Fa/0Sdi9dqRcCZ68Y9USbLW1U2c31lUjzgY\n",
       "EvOw/z13FWkOFI4k/99cc3GdMo2q8ujGjDAYLFlafh0MnJO1OV19kYZFCbEN4kPt9HOXdiaecHHQ\n",
       "ttSKA+lS9IHbMJ+439XXaPc1uiy2+iMmA2Kk72sFKrws5Q//7MfslC8//yJKUxzSzLfNT/D7I0rz\n",
       "LnWUJjxLpozmLDjMnhiPyKV7F7kD4pDK+zm232cTMJzDc+GdTZIYZEuJ60xz9DAi13bszGVEct3c\n",
       "+AgP2CefS6BJ4w+Cq2WVWK65fuJTFW02i7JJheW1or+pVtuccoV/tees99Ym1tAFoWNNUDf5ggys\n",
       "FDVaGkY/WOF0p9tncXGJp2a5NvKJZFPBgGi2eYwjqdks42K/ra+pCWpbk0BDVZlrmuVOWKghs6OF\n",
       "3zHDmfI1Wzd61uBMCsCcKHNpuDFk9uXY/ShPyv9bsDco7qUq3Cd8dxdPcv8Ve+AUl24fUTMGxsTa\n",
       "dXm3c7pDdDq/L/yJc++axjxIp4Qn1zJ2TyZbleRLtwPA/sZHxnKS0zSyIHIGyjVdZW30tArpuDMG\n",
       "kMSmmCujcjOxW4yRMGeu2LdMKLmpvFHzYN+6p9894RxTIZbIBA3HfZjkmzuLBfNgUVo5V/zhcVJ9\n",
       "SEadhbw0eRjMDgaKL7O+KusKhKDl+EyIlv88qLgVc5RcarRZfl6PTYmIQ/HpqdwetkwAg17ubk1+\n",
       "SZ+6/OIKwxVd40tKi8NQUU+HeduMS1vzoxiz5JDruDhaYolbmUXgQae1t277zvx+Qc9FRNpeiBKv\n",
       "VKvIX0ZlzBRz5lST1Jb9ddrUcVTrQzNVfZaL+u7exjh8Y87O+L7tKmMGTC1JDeLZ/lsLzNcHxgbY\n",
       "QyPcpZ1UnaL3ByOxHvOrGKII099hrlqRoJ/UmqSEwI2pXQkvVtvpgaKDuw/5U4/XJOl0AvsqiA3T\n",
       "q7bIEKbzRRqHuuByWSg1J2orv9sJr3cEILbACNwmiI1BrCon2kKtUKlAsFlNwAvXbpR8+c5Yl28P\n",
       "GFKr3iCo0dUawgApQ9tEcIpt4k/88X35yu6pXlcV+AonQxHsZT2uXx9Si6ugAAUcqh0MlpSR1A4M\n",
       "Ie/SpAoxjZsosHCX4txdmKq/IOy4Fq7n7nmpfuIwRUQbqgstDzArG7eh7o3q63+krI6PqGD9QgwE\n",
       "ZXWnMieyoEi+2f5Ov3KOCt8bUVFqMQl+K+qBRbHF6NWuPWKeRdJ7ulSrrDaQuvCowUJDhstfWu0x\n",
       "IGG1TPdY2Xb//Kibz9J+2377SmOthd92ReaMmse4wrcwRSoViw4fwBqVd3JtCGKuLw0srmwaP/PI\n",
       "YIAIOvt2ijlbJdV1pP29CHZN6a53D98IV7NqjIT2XSBe2Uh9eVEj2SS1ohFEWmzvlyEXz8iiEdnQ\n",
       "FgKbcTABTGeqiuXrjz2S7E9E3UZjfv+IO3SShn/lvvrhbBltRIZv3v4Al8d5sG8pnE4K89GAZlJV\n",
       "SRWmIV4sDIlcvr+9/3KIw1bOFbLQwzP/eZ5WhG1d7L2CuEHM7ChIqRDVfzDLpAyuJiEMi3EWVkow\n",
       "M0JSkGSHcuaeIXUVRLuSilfoDc+BwVafHFrPABxL18n58MAZHMo+zaELRPBWjxUJt7ZjD6EWExHr\n",
       "MhymfMaHKyKwE/28EV9ePY/eRiCQ756N+Sybw/QjNdevwMXutEPq8Lx6U5u/1H9fZi/1pm80UH3F\n",
       "KiYK8fJhaAd8gJpbyeq9MfJfa5nKNwoVNJqWWzuuq9/a9bVDv5SzpeI1mR0HhSCE5QSqY1qqQQP+\n",
       "4Mb1XTVWqH18h9I6/0CNNvg2lk9gs/wsSD/3IQ5PIXtmXU2eYCYJTmgYJQAG1WoElkhi/VcTX/t2\n",
       "wt/zPmRZ9a6bPMINrGdpxUSFZg8kHfHgK4ZRbEUbamlEvitH0DVPpP+73E5aUvo1MAH7tRMHZtl3\n",
       "pxkgzp3zy4Pu+JTKYvK0iBBHJI0Cz69EDlmcccXx2lyVCuvwzm+OW8KvhPC0/fyAO3Vhcn1rzqTE\n",
       "dIV0F4pWd/zwHX0kOVaUwqU+UKWThhmgr8CoutaGgFDjz9LsrE0SaBwqHaVYPCmdU+w4Y5WHhqWR\n",
       "8BELZmFQxlOfJmDAgTBOq94gy1oiTKXyOAtILxkpqiwLYh0chuToB0chc+WbWv1n1SQRoMFmXlYE\n",
       "J5mJ2OCO01OXSKhaLC+noelmx3vKvUBDG1GkL32+5zE/6/gO2eTZmVrpGIWNHN4h7L5IqnJzZScz\n",
       "yBjC1HPH/8ReL0mk4JAV66iTOlZthgepztppdDGr//CYrstH9rIMrTtRM8yvMWHZOhnBd0cermvP\n",
       "1y6lHBNsQ1lA9SUs2iTbP/LbIx634gZEk+1zbug6FzY9HnlUZTYpeWxcDYcGTJcYZAl+orqbW67t\n",
       "F+UtiEDaE4tg0ymZjnEL1WVSmEaXw0W/m0dLYckyvIaSBwFoGQXeqPGWDGMt93ErmoNJgmQ/CSYQ\n",
       "NRB70F6jwzQGDfCsPNtXwsNtOh7bZg8L4+Q/rsBqIBEIGXM79Mk7KzDqQIRCDVZuLBdznEaWhxmY\n",
       "4yDJ+KPZTJJYvdhRDUJtTzNhIuQp5YvzyHRSXxF3i4I5VgXF+kOivFvh7J5Lv96Ls/2MwZ1ajDMn\n",
       "8IA1u8lFNdPvCpBPJYNQM8yc97moKmALRl3h/wzU69zawhJAV5krZrubXrxCo8XZzQlrPuY1XOHl\n",
       "PE691SbPfHn+ddwBtQjw0MCgPotjWS+M8smhfSHnBRSJNq6pqHwSDa1hV5wv06t6IICiPT7iTFuq\n",
       "6LFNTpGN6On0mkBjL9apoobXICH9XBuTWZlVs0IND/LMwy4S8zLEywwdB+7WrQ2ETJrvoSqub17Z\n",
       "LH3fWHc2y9SXA9Vu6wXd66j7KDQM/9UMz1nsEadhsLTF7Sp3UGCkRSEyTExxiDZjsT0tiopF9vPP\n",
       "4IVHEAeusfn/Vd55feD3KvVBB8qO/wXJhVlQvLFxQl40gqrwWOGE2E7uiok3ZHb3xNeq2eYx8q/4\n",
       "VB1Dw2fq+Op7rDam+iDneX92GYuUPrdbcNH6UAMtDhLk9M4abQqaUKJYA2OMtiCR9FOgIltohM3+\n",
       "Iw0pK1+9DT5sxbuQfFkcnJqMCUkXWt7oiWVH+5M4s0DLwulC/wW0tATGESj5TD1v8KQLF80pFP9/\n",
       "2FA1OdcPXAsDe15UcnbwmBcTvIbvM4kuJ3JPlM3J90kx9dogyAIAnP54Nd2+ClFoRw9I/DZ14iBx\n",
       "ZUJL2D3q+4YPvAJ+KO4vN+imxYVPlYdV6D/VnwVhZ+AwjOQS0se7KyGqXbO0V0kyhiROiitqBQ7x\n",
       "/0Fvokb2jImExXoSDvj+tNNcEbMG+QyV9/6UQW2259SGG8Z/z3TZDetx2u6/XLnTnN4AJuMgU2F8\n",
       "qGyA1rQFVmvmbWTZKmb8djS4Cz+uFd6bOdVh5sGn7+EdY5lohQEx1hRIN4NZ39AnLH6/0coK7sFK\n",
       "d4E/aX/HLs8U4JcL/jOwn7Bwjbe6Jmov33VPnT26OdX5sOR0OaxLABFMg3dIXmOtGWFrdqBb1s3y\n",
       "05sRl1hwHJNq0QLWp6q8ctAI9DtR3tn3SO1McYsIHLQnuFvSf/o6yMUysWQjrPAAwgnc+CNTNBmP\n",
       "LzeElLfOgn+7nI00TSjKHJkSHlRwGXWeADiXr5Pz4bYqANvsxHKfkl0bVpZ7uNSGo51P/l94kT4n\n",
       "HbW9cUYr/8MKy+hskgbekCE7pd8nv5LKa5i5Yb9gi5YO4G58Dobxf6cQirWT6FiuOJ1I/IzXAaZc\n",
       "QZcgE5Shu/mvV1dSffBAWXscnb5253V7AaBrOvy5SnE+EtLl5HUU2RuYPfl9Co9biPcWfAIcgHtv\n",
       "RKKAJePRY9cbP6URv/eEA/UplI7qn7WVW8mgbcdX8gmFSt7lrdjbV0y926sXG/UpP8wqWuy3/6aW\n",
       "+PWDyWlnVcJ3cBv8XG/vBUc2JAoP9VVA4xmRf2ho6kBCztrrtdqJc/becW/mqmTuhjDR6sHVAfcd\n",
       "jqV//IDJWZHQn4NkKnU6Z8G2FSu2nxx58cfAPei7D056LJpJJn072NDRSPvAJs9VydMWhPu7IRRv\n",
       "1tWwLlOY8ZXR5Jzcdi46xId5YRMI/CGDhP55CzV1of5F8gEE9WXqFCSfG+qVo1vQFI+NzctVUTeq\n",
       "ZO1GCgTcvdV8cWZdFJzxthAvIEfsAb+taPRA3xTA5W0IXuYG9m9xUMFBrtwmvUN5BxQjG8DG/pFE\n",
       "qn4Ig9N2D3quOna1Bt4PiRowE25EGIkpp7rY0f9f65tbYM0Mjk+eK80aGx6ZIGxTiicL+AeZ3dKu\n",
       "Y32kyvaRxOGKrvGhNli68P3zQsORz6D0LKd4c2dakFlpbQTX89RabhXeCrozZMh0zN19IXgXstgq\n",
       "X+bQAfkuZrjYPdec53adjxS8UWEpU2xGqnryLFT/OrgB/hHWguogsRqIw45pVP5FjWqQ3iYtTlBG\n",
       "+PcxVmlw3cHXp2fgtEMtSvuTDZ8MilVvf/DjW+mTapXD95ffPJGKP9ZqVK4f1kZqdXOajZy91JEZ\n",
       "MdKzMmzhSKbegUsNgJUco8A9EVtocsLHDwUiVaRe2n1m3biX//77J5ZJZp/9aeQ3isavZyxof5FU\n",
       "d4D0UT3COIQk0ZcpT87AqlvGOwNMVI5gCUf62md4Hl7+P5sk4VHq/RufGGr+bXTc1ns8xEtjPeHk\n",
       "ogGvAf1PWHbqfnR9FBtMpv+zjDYme13Uio72sDxa9ZP70U10/KskvWWtngR1CywqLkQ+VBo4mQh5\n",
       "q995sTCR5xg/RGGfxEV9/igaUyDJXgJDbWjtIYU1jxDt333wLL+hI9fLVEDIn42P77lcIv98FcSy\n",
       "OR0s+UE5Ag0lhsY5HQZMrU72ROe18YMOBfjUIAs7t0jmwe6D+WFaDEc69sCtesbBvCZI5Q+dyQlq\n",
       "qatmBi20qdP2ehABhQ9odXll/LvICGxendTjJpUCQrWtmaPnld1d58BwAEDymkcmq8aDTqmPv8HL\n",
       "Qgf6SaByreAJ9+vuyuLRllfNWHkOLEha4eJP4G+y2hr9ruFIJCr7WRsht12FjqRNsNglh1bmIAtD\n",
       "EYrPyakfCYoSK3RizrGbFFZ2y+l2greeY77hVRqhVLLbeAhdk1Ti4n4aZPQJFrOAXKwA+tYobb5F\n",
       "P/XiLUMkJ3SNZS/PBOoJ86xQWWs9VGwKWYXhFFthQmarq6pKGgkHFNSdN2gUxu5I9csBR34cyAwj\n",
       "TIUvrCrhdg3K30la753mTS0yaJVoU94stDCE8p9Q28qqwnChyp9VFJ75QrjPHuibs9K+xtABq8Lo\n",
       "9+PrZkkF2BckpwODGhsleiXtfS5vuIGnC2x4U2H2hblIBLM/kcDtlFSTV9oCJ++qdOh3/SwMHe79\n",
       "f0b6DiOcE4NI9Op7sFT6EM98R0VELYDSKO+n68XYOUBKYf1yusHUPHj8XCFytqb3IwcmLsOWOG/z\n",
       "O4S+Qdx338XkECMt0luez/eLLss++ijtd+GUSj/1Gj9DmXi/l2rw2gevXHqwha/CXouYGsOQ7Bvz\n",
       "/g6HioKdPsSpW0ur/hOs0PsT/CLLqIEyu07fFC1Qea7gv29+Q4Eb2xoZRe+1vPar5MPXAFBOAU6g\n",
       "+00QEJ9CyPX556JwDvJY7AlvVAhNBPKyEEu3hPVwfaFg1BvsjrOfY223mg53tDtNurNMli0hdfuB\n",
       "4tM840pAPSnvflUu+Yx4/H15b1AkmcG7Jv4QtPTgdkKM9g3dRmvc44gaOm5Cm4wQrcfpG7ooWLqw\n",
       "1Aeg1Dlm5q1ZLZ5en8AB7ERWR5NSeJCLvyFfqcU2SiJswB9k31D13Xc5iMF2i2lhdsdbBYs2048r\n",
       "T0MOoE7KN0MjxBNwIiBgDTYSpKqdAlb37zt11V3LSkAejgAHkThN7TKrhrOhG82SLRbq7hsPeSid\n",
       "QbebSz9RuBaJRnGRfVa2wFLbHsiJJMRaDYGNxGPP9hOnXi+yWUpXoqVkuFt/gSVoZwSjN2Kbuxny\n",
       "h2ODkms3BFe7b7DJTNwnBiYw27lWxqazxSmLB2A/qmQhLcyb8poyx5Jy1n1LTW0U/6IwVf5kgbQZ\n",
       "wAaR93hTjZJIS6k3osFFf/so/8S+4QxwnvE5m7JZ1LRCfd2VrYu+3JPuX2xOLEZDb/igYqpm5tQM\n",
       "2KAIna2FguykReNynGOoI/bVbfrvkFQ3udEU/+ZQZsMGxTpLv6xb7YYCYU/basynt6MiM8Cgc4z0\n",
       "p6c12Hh6Eh8ey1E0Nm5MLvrixndSDfMTX5I/29oopDDJRSmTRmLRVJlDc/QIp+ixKKjmE4IIvw1D\n",
       "w/oYlK7c17z/kRSSE8aW1kpLsYtmnAvbU2CdNMMNy+La2UdeoPLCxRUmvhjQoiKp38P4KB0mSnZV\n",
       "8Q4WX77bhWbrj9sgPLS2fF1q2NDfkpZakg3SzvBXoXUQRPtB7NqCjLnMPyNjTHdehpFobOBB/HoE\n",
       "OHtY+I5tOpBflJ2vlCyLN6s3XoawwGWnbylZelWfL4uHas/KYFiKpLwQ0mBkRbb/p/6KAOFHRG6U\n",
       "8r86IBjboEjkoL8HS2Da05TsURv8dsJA4RPOiRP+pPQCMoEAO2/NwdA7BruJSxhRuftvFhafkbtZ\n",
       "adG6DZLCdvK0ycPDnGm2C3vXgGdk8WAfsJ+nyTqNCinLqNzOI9TmizQ/A9GvQUG3FRbvdTggdpVc\n",
       "/95ICN7VCVEDQYuK4xNHprLLVr+0OT3E87w2AgK/daI8e4QE4dNrtLs2XVF3jo6IDEWrxZwcU2H1\n",
       "JC0LY1Q4ZwNao5I/PshLKI2AGFAs9dcJRUszqOzh1AdggnO5bUYecYwkBNu58kSgO3ADc/LP5/lv\n",
       "4hojPgHfwH7tatDXffSDxDjI2gPt/LH/ftY2y9SXFygoU/gjNbRQLZRZkCASu9LM/F4nxo3bH4r+\n",
       "ShyU/aosCf8v0fCDH92QnxGuzJgHqJx2YBPqTf9L9FdlQPsjpVWtdzpYOCJUO/sDxtNmOwm6g135\n",
       "CLPD8fz2CeH98LuwAp1tEanFiAyvm/upM00M33031uMRA0m4jtBjrbEKNlh4a9P4MOUdYOCr+JSd\n",
       "HKAQ3zq0B3ma40wNbxx6H+3PKdegVM57O4r48K7Y7/3Nu9PQPIUaxVALwvozFt718EHiK+tEKlsU\n",
       "2R3uEs82n4EdKWWeenb8AOluEQ1j9xkpxHyXnZbxR2EsfkcZ448CLUQ63bfx/PF24BPvKaIIN6uP\n",
       "TITfhrKhUog5s+wwkjQg2UfP2Qswz7rvr5E12T0bEO7Mrt5BZzHTKdxQRSxxbTyly0m3q9iEvx80\n",
       "pSIvN2CKGsdb/NXhNY0gD6Hqx3NAlA7IcyC0h/hqyDYb9WZAkLLVD4tqE6pj94iFA3ROnYx0M7sf\n",
       "JtUA/x3KbmaezhpqUl49FbR1EM94B9RayLREns9onClLaxFVCcq5r4VetQd16dGjelfn9HooVObP\n",
       "67mEojyUFcyA7quP0CYgDR4o1b/bBHeO+eeiIrcFU098u8OcMQDfd59FdZn3Y6AXTfA2FdFsrtAd\n",
       "8hKe35us6f2ZypimO5OCnLBVH5nSjT+MX+29Gd2xcsQF1W6HmVl/7adJqGbDU7xPADH4Wq9T0PVp\n",
       "j+hHoWus4BltqDlhhr7r0OyCzPjfz7KSOfN/Qfiq7K+JdWlbPaWNqDGTRBY/mduj/YiD8aJBJ3FD\n",
       "0q2WOwd6f7yLC6TXRYmOA4nWX+SGYFiC4F+4zzQrwa0hbHuC/CSmPP2q6BAvomMA7BmY7ujIQna+\n",
       "rDhQprlVcvQ5DnXRdZTQLznBI/4htMBfF8pIIbr6p3qTHKqnWSrL2aGroKRqORY+ZUepMKq7wsDX\n",
       "5KRf+eW9jxtpF/fYk7UB1K83htkPzwK50jEUfeXlHr4onVPRjDnaHgpRlh8vRcMT9Yj3k8I2wZvA\n",
       "AZj0SL77cZrDu9ONYBz5B4ZeLV85/z6HI1GrQDiXZ2CwMVhuNHIRhrcC1a4aNYaUYa7WC18by/pw\n",
       "naFl6yy7CA/tTLeZHey5CwhFgDQ7kUUrcPT8UAFSa0SpQ3ouKDF85sg/38Ip/a+UdsaFAAgScj4Y\n",
       "PyJj8b7gzNelHHYpQpwGlQ5ZHfZy6nVyiYReKcjOnrrvhlxP/sDvD8GDW4Q9sey/skkquWzvedLw\n",
       "ZpMUE2qV0v+rMzwD2PvTpM6isuYQFd+hnEsDw9bOC5RC9YfqMD9wrhqm4QpsiZgepYLSO3R0e3sj\n",
       "Vsos8FjiETLLDjXpEGYkQ+YorkDvDO8ekZRLxNfAmB7blpY7GZGOngYlLpI6UqJfXawr+WaEr4AD\n",
       "IpVVQcGqJCOmYKkMZh8orVRFhkXyXSROrhxlDYqbOaueeCLgTAphaWKgtJVXmeUfEPgLmmrlLxyX\n",
       "mjiNJAs2Fp0jllIiPFEGBpYTjjH9lquY4nvrXHEtp7T2qNdSMyEFbcByAidjGy39LsYyUNhDveis\n",
       "xv3r/lwk/RdGgCU2MmJvxM+SWVSirGLxllaI+H8ZGJiOxfxJowawCj1FIYsxuQ1V1/XgFrPoIue1\n",
       "z/Ndt63OE0ziirlvEQFueRSYHplH+rfayRZ2EfXhMw1QYOpLiRFmIWD2Fp1cmL+rCEuvLsLV5qUI\n",
       "8JUxiIVR3LXfX0l+CNEbyBxnu0ohdbJgdbA9Hw+U34H6raY2KvfyyTl0SMLvfEPAM9mbD/UBZY2N\n",
       "nh/rXfX19A0CB6GwV+EAGV+RsVtrlvnHLCPYMnE1q5WXI19uOntJ4v2Q6amaHU3Vyuak36Sf9zHv\n",
       "THhUh4gqVJOjVHMNAr3YJPLkcc22SConUFi/82+VKUz0baWvQ6NMiH0OadE99xwKMeqtT6loREfB\n",
       "pviZnk5t0YMz74Xj0iNTS9wct4pJArzIjbMGNQqYVOw3abH2L3nNEvgHNi6fZx8M1viwYxaIhD11\n",
       "k7KqPfq3dKWPLDgvxKBTpuSnAi1dSlgOoEdidRwZtKr334Vi8HsZyRBUS/jO/FhLlvDmtMpXddxk\n",
       "ImjtlC9oDosEBFfPsvnHUv36oER7y6JbLdnxVhsrJJZ0PoD4tQ6bIWWElUK2tX53bQcPHtOFL1uF\n",
       "psrVwNfCZpXQw0hEVb3sLIhsTlhUUB+cYWVHBBEX3UhPzo3Lp78IbhPymGOeYwRE6GS6EvECeWYr\n",
       "xNf2mSHtFkVeCJsjHRq8b2z9E0h/sRcZ6HQwqKaBBlySmqYucDgPXqONaDgsJxpeYk7MsTgYbdns\n",
       "AAA0ai0VYbqcVxLQoWp+Q6piTqUIbqKxbE62TRp4hwOiNoWhisG1PZxKBaj+y6+ai3qtZwCDV1Xl\n",
       "N0iby9mURN88tbj/wDfj+ljVoa6PUW0Bxlu8naGCPDKyzQ1Ll1iojDvXEpj+jkGgMadGxXZs80lg\n",
       "ybMC+8J8f/RGMOCbeyxEKPClvGQqXcWB2QGVzu22zhtMfnOSpGmXUuby7Yr+a9soUq0bdh5bCLjp\n",
       "0WawS1Gb+cVRcCMaothU9C3ASeEq9O4AGCxvL1F2QFfJ3WLpaqH3twErIci3twrSUfhOLTtvMuag\n",
       "nVvk799Q5Ynzkrz4pOaVhzudIdxxvamJ8sbAUYyMG7D2cqFob2Ms0fD9pGnUGZ6VeOGb4IrZY2v4\n",
       "wbPdAD+3lMEBVFqYZ4CxAkYlTczqiOUfNS5N/1LPdY8KVvMPbqpQtIw2MSjZtiNqAhCBf8xJPFYn\n",
       "CdV45OgXsKLyPfhN5AXx1vfWeIYYfxOt4Ej/x6xHhVns9aVvi23hMyDyD3lfkt5aD5Rj/JZhS5QA\n",
       "DlGgAyWkqOZwsVbeTAX2pC/1oalWMWRkOeIcRyQ0g0HK3HgMbGfb/06VqXslWlr7RYCFqnk9Bp4E\n",
       "JX0ZSsv/2u38VOZZ748y4RjD3LKVOKnbyd961vXYbXSHUkj3pYWpST5hYwiMJF/zLAmQZWCgQ3DE\n",
       "n0nkDOaaa2Wkgs6vO3MAYYit7RU1wneA29IW9T/ika1h0P87LiCE3O4HCviCWD3KCKuwEGLeY+pq\n",
       "XVKWCpfY5wlKoxW2HLJxxMw01X1X9ueP0ytKAyiIpogKIueXPabPev6SIPCb4pq6P6Mg5toIA3TL\n",
       "5zWmOj3HJ5YeZf97r6BC+TIy3mycW9IgZ7FnKzpdwbX6Vc2B+e3qK/bTKPvfrrvQOzZL+ANZ/JDV\n",
       "OIpb2yclR7RTpRIEdhTVmvNfXMdYS9LZ9ah8192k+nNQsoP3BqvQddG7tteDlgG6hfNOHDynxWDj\n",
       "kWhiiZxkfd72PKUoDotq80gZ/LUZTYHgnSibQd7Qq9ft37a7YXH01kRspZXvZXS1rKSWJhaydVvk\n",
       "Y+c7xjbTCpP2Dp/1wGEkTGcA2cA65oqG1oMCCO0daSrfZeoILBOqm///Nbpr2FiPvjNw1CiNLncs\n",
       "KGVsW/hhllvqRrQ4mAX47kd+6vJVKr1LU9I8TE1CK00yYJMDktZJF2Xi0Dt+FvWImppfITLMYJIB\n",
       "xGYalavSK/TfdyTYTeaYC51rNvNFhKfYm4eiuNt5sKgU5OjmAL9y4dpxdBfT6S877saWz3w+kkxF\n",
       "oVsICGUnr/YTp14vsKsaRfAUJj+GU4rp3gNhmFQ1N3xSMBxw48eZkMWXFii3Oe3jw6xLtbFvr8Ad\n",
       "MT5TLVJCXTt/bhOaswnk0DuE0dbtUE8ewAEVqClvSRSXnIvK99koet4GBkXCo6UFo8M18oHqfQcN\n",
       "jZba3lovm72t49qu+OrbcwrwgRK7IaxigJc18e0uFYuPcYaNyEL9hVKD9dxTDp59t72c20k3uGB5\n",
       "SDUR0X15yA7ZHgE98gJlmBAYl5L9iWSZBYCwlO9sJnO5xhOEwlRNo4aGa91n3rO+cIUcZpyeDKnq\n",
       "TDTurA7kOamgemm5El7f90uhvX02zsBF28V7G/DYmrZLYj277u6JyXbFATdxF3tDQ0B/aAc4VRGc\n",
       "4RvTncTE0EmLOQGQc4/3F6ez8iavhsfqzSUMSs4eDodEpMJNCOqrXb1cWAvhhj6dFa68BV2QAGXW\n",
       "knTg+9ODGOLY6DNTrmKCBZjtX6puYzdvFvqiIhiv6r6hCsW38MRKMk34TRIieg/JEWjYURwvvPVV\n",
       "FrKP8N7+piVXub8e/OrmXzckaZvR5z0O9rlxh9MCEiionIIcYIhV3YZyLXvPxjHatYyhjyIIH9i3\n",
       "4/K9qBFqKNTTUzS5TeWDc6sv+Z8+150RHz+iRpfLKh2eVIxGvRs9tnxORZdhK7xl9wYlaw8rA0np\n",
       "Umx90mZvQFKAlVQscjO7dzZ3ZMJZidJPq6bAbllK0XnMrFyG9xadNyTEhp6iDZItU51q+NhCWSj8\n",
       "+X4x1/Xqa2Eow0c/b7wtANF1PQJDkXHtYnWjPD5M/xAeJx8VCxjpCXU2ZQoANQQuo3HSQADilriZ\n",
       "oBB1/E0l9E+droAghVipa5uNIWHZ63nV4L+7oSXEnaFXNO4nyPSAPCpzc542v8409BauMAzBipkG\n",
       "ufAzX8Lm874aqlhdtO76kFecMqMhjzAAlK0ymYN9vGy3pnfTt9jF8BzINbB3Q7/oHGJcJRdqFRC5\n",
       "VqO8BZGVxR6lSkdHWKSs9jYzSZDRps8YfkQnj3ATraEFm/pjs87Po3v8i+VeEXqQHMK65sS9XTZt\n",
       "IxB8VIlG2RBKFBu6qcTgHc6Mhr51D58HLmudh8hGRquGECptndPoefpX53olN8zziixI9CBcW0v7\n",
       "sirwdGpkn5kDvD+ykJ2Rro0h4o/tq1dKj6HCYlZUXxnwcic9t7zM9EkXGAXfl7/vNahRcVZfdxuG\n",
       "9wdHDcc1syhB18Cm3NRmy7OT41ILeELHUwkXa4o71s5EtmUHLAG9+rWC5e4pA1bwEyXLEHR9ow7i\n",
       "hsGNsdV23kkwzQ4sS4NptVEPuAjCGI7GCEz8p0WOpSJG5CoAjMDqMiAqJMJDuIx0N0ve0+dokYK6\n",
       "PafmO70u37IkpycJ2b0mZwyAr/mgTy/AS6jlbFC4vjmavLLdC+GiIWtk6eHnK+metosqeZ+/XN3D\n",
       "s+ILeIP3ZxuF7kWbO8jnAccbhrXCJVnLgi4OEq6RKfx+k4uJ0/IUFBMriv5cp2VIwCE20e45pfBV\n",
       "7CZ+vfgs487MbUftgQVR5IDGyVakYFYzSVcGPWnvafwtJrW/gHYucqxp1gLPzkt7bMdLItCcdUYC\n",
       "1RVC+9EsmKVZbR2GsLJGLt7GUBcPL6LTAUMm9vEzI/Cq5yPxrWUDviz+rP5GrPgWGKTTfpFc5lST\n",
       "DTqLmMLZZHL9Hm8Rz0V2al//83EYmpJd3HDeRD+pal0O0JTeDm38KRuBE8zpgVWRavLbdyD9M8lh\n",
       "XnQ9HjQuzGxrfkKVujfELxlGZdOJA35UeSsonVLD0z1/BRWf2HZmAfy50e1bc/WI2Gu/35HlYn6C\n",
       "E/ZKCDaaVistpKb4e96rh/Be8dqoVoEYKfvTDBpfgS0q1nSsY8TDSRaue9pXylMEcRpTQA966Xuf\n",
       "dK8y7t3n2QvOhXJQf551ITn5oTgF6eO18x4BgOXiebXPTZChdwa9rUjUO+eN4D/GAQx64CbprKDa\n",
       "QQaTUk7z8VWUbJlQjS1SHvQnSgOOMEHBkVU/vqZ1AY9//9fqkPGj6jb3Jl6KJy8y4CR3zta81G8L\n",
       "5RmR9vCV+8XzyQ+SyKf9UECofNqgoLUOxU/5OyyNdAk+WlvaIk470J3bvFlpurQrCpyHQOm8T9r2\n",
       "8LF9Ogw+5hQsZ+dwuwXMVhKop9V2CgIOuoDQkUF6KUWDTA2i8c+KudE3fUr4KDO86HpZF/2xQz/t\n",
       "U4YVzjGX7IKpR82jIvVw3SMoir2DNMBl/iXudSX4aevxH3QJTrBCnxzRq9nCqvZzlLJdZ4rFH06B\n",
       "vE39uZZPzmv/6ExGeJe2CfljTov9yMG7UTKE9+JApDZay5kdZENSSrlBIi1p1Prcq6ipUAEkmk+F\n",
       "s1hNk/hQ+/zkPzQ1u8B3QH4v7arH0UaWaJL+fdX+FbwUWy5MW4TMCyTqf/xAz1f5acla+Xpmrhqj\n",
       "PWww9i+e65uxkdHGYKoz+cO134TfDktVTzTffMUqnv6InE73OtpRvomgfF2dUTuMqzW6Xb22ddRV\n",
       "RDgxxKFhNO2VHswtl5d4rFsdLSswP2xjbkBdeRGMxUeRX9uUFXwjgbZYDmkU+Holq6KvL04YuXlZ\n",
       "q7ro83AUXoUJ4YipcI+HDXKfYPXXSKZ9RJcD1WEFCQ/qvSqdigdSPZ6jms3NLnGeRILUfsvWSZ1I\n",
       "hXclISrX7fPY1bm26p5iSMUCca6D3eqcUIJp0IP15xD8UwLufr0cGTgYUUQmSEBaydGPwN81qYrl\n",
       "GJPf+d3QAX7f/qtupHEy9qPRosFQqITRpX+/MoRhLLg6sMkPBnEUQa9y/RLGcUo6VoMRf6o3RDLY\n",
       "quTz6MnOSx8qJwXinWev6tmr1h3bcJzYPk1MYDe7j4k6uostVciSZTowUWFDaLdDn9S2xxjE0WpT\n",
       "4MBDfIehIOhpR0eeGBgRam/r7Puci8lYOW8F2ybXROAvt8x0yujsSFuZahhW8Q/vG2RyMpYDDUBc\n",
       "4q+ZN4RvgP2tiW6Qey9HRb0u3ZEd6S1o2usqJEir582VX1LOF4ho4kL3I83uHkOKj1NcB+Uxe/e4\n",
       "J3Au30ABTHdAXcsEFW6/uyIjiLMItHvkdBG7andssv/jATq+X7QJjT+piD5fq0uIe1ZdZvUiFdRx\n",
       "ghELbtuSuRSrzBCUYgjs8ARVoLVTo/CoxiztioACWDiFjS0N3bLdV3qoZPf00AcsJGBoL7hsspfT\n",
       "zhBJeAt8OkhdGvz9JBvzrEUABfyqp8q6E4xFcXV+r08sbgEWsC99+aLU1aHoEfGvuqRtGF9VeV9F\n",
       "LKiiqgXk+M7jsYJ0Mw2WokMXbcgxLpFHspcOxRg9ZFv86UF3BN+NJqczdSttdFBgSPmS6nUsa+Ro\n",
       "6HBEZ3N9m9I6v9DO1qt0aV+88bztdkMrNCZ4eL6e2CySGqsrSDXfFTAzN9UlTlhRZA7K3KZHH3DA\n",
       "TjACe/GuvVHMBQMeO0dwPlUT7SRIyRtDVT/mSLi+q5SpS0ifejEUX5ArmZcp2IUJjUrET6xCau+Q\n",
       "pTpkvlz40DC5CuZN4JPMqOwu6M0ysr76OZgcATUvHjNo3vEGcrS37bC4bVptq62kzL4W3lsJG0BI\n",
       "wd+G/HZ+rznJCK5ZYEEKya/SobOWIgPVTjQzIprW/tcfR5dnw6V/+Xu+hvFgBVJyLcxLdjdunBU6\n",
       "UX0kSGU5GbN2iYOmwSjK/HQ5Gi0ICoUjrRpHCcYtQw22oWx49AFHT8c0GcL+IVuIcG7HXshA+X17\n",
       "MAwP5KRPyP5IKpW8nAX2GeB+CrFhzE7iQZmwmgvcAg+dzegsU8tPyxwA9jxKfat5DT10Dn4cEsP1\n",
       "4dw+XICzTzw4GeIm4GSWcXQExqkFBd/ElGe0tCSwIeqwsv3YbEV+1ayLbaQ9xNkonVzBmSoR0Y+q\n",
       "1TbEWewczvXtoEA3XV/MZP+saY+JnQKfPITiWMY6ORXJFBc6Sbh3WWrRSob/wMRi4KfQjC/qiauE\n",
       "x5ZA1SZ6lg6gNHhSn/V8ZmtFUH+jgoVeQw1/kRtc1iVR4dq8Cmok4ZErylSaos5N6xWwmqTOyHBo\n",
       "NMNI3v//R7zpDDlhHwtFzsEiFjJ3uR/7H3uYrS829/zL4JaYMVN9KkZ9OAfm7uW+Yobo0U281+LR\n",
       "QZKKd4Rhx/ytm5SbPNAAWpnp42pgJ7lp0OI835VeFa09gGoY60iDDC0CRvotCGyv8FtJYwKOFLIH\n",
       "Fr1N41YROdAyjeLSe9OYxeIlZ2YNxHm7A/+Xq4JHDVUsyJpX1YFkngFNDZfPe1Y3ULU/imKNGPyt\n",
       "rdQ+odFWWdXBtAT1T1Dwc3Jf/9bqofEOEU7D2tdTv/TZH+R6ZgEt0aB8XybOr69MN0Hj1n3ZU5O4\n",
       "mgv/Ad/He9GN+b9joGluUJJ46DoTuWlH5LSfUsAYsdFTSNcnwW+ZJyHZ/SkR9YjaNt3wDLxrs88y\n",
       "i2kj4/P+OAyIRgpAYrYo62HOQOXIjP2hSaeV8I2LCS8H19XlFb+d5AWLak6WO2I1ibqPgss7Ow7P\n",
       "Ss0OVLiL30XUYHyao9+X9tqP7lO/NfSibPn0CD+9qq+c+6DCS2Iz06fgTzr4MeMKkVeOAZJ4B3zN\n",
       "L80537jKYhE201MW3uUSwGpUtPGUnPBbAKReyLBNiSD/bdYAdbQJ/roxE8s7CDBWDHzLM+Be/frl\n",
       "60HHlqKNV6zflH1woisVNqRPQBW0HdR+lkPhlxAly3yHJwTvNw8+itejqzNjTqetgm2xy/8AN/FK\n",
       "/91NsvmTGOAMUAz0IGOifN/YlME+OG3D/tFRvVMPZkKKAh88/qSSA55WEn4MqDUJP5c3fajkNoBH\n",
       "VzduywS09/9xUzIP2OKdZpZSQwTcPrU8lrVEsbB/3SZ4hWfcATE+7//cNgJuo1LwpJ0wWTvKTRdX\n",
       "7Q9+ULkK6HgNH6umcPyNvpKts+35KK18LvsjxxDHkRDJ+8EE/c7Pe4ZWcEeshVPCV2M+duBsQ8wV\n",
       "gcpId5z59lqs9bU/t5vXkuCa/v3h/zcavEQqa2lxjD1RahtiGE4PtLLPGX6D4G2AMa+UQgPznJdn\n",
       "Xxh+UlmDU05U4ZAY5feTUy7T+zMZIxASJO1eYom/d2Uc+NCxC28f7/VofoVQ7A//bwR31Ii9sktl\n",
       "TDquS3ci3dlRMNDa+LU1aEjo59yGzZJZrfq1jYyfH28M1d4WUYWb/rzO7iH1MlR/BMBkgwIc9tk9\n",
       "sIg2cyRAMJGyCLSVPwIGFwBRH5tzgVt37//IQhZ+JKHQXaNMyL3x30V0iDsIHv6Em6G8azfN6LvN\n",
       "pOFwVUWauktMOKPQxJ4tDPm1d8h5ZtCHLRFFemCiVEteJTmnqqpD6F+9YPsn49CAKwBFLfjs8wx6\n",
       "Cp0gpvuNEY5DpiZO6jfUf50Il83u/f4m4fH2xJuTO+XrPTUO9LxX/0/A/j8iDjcXTPymnsAahLzO\n",
       "kZe93/x2xx49Z73KNyH2SoFkSPXIUW5s2Js1aZkP+PA43Niy3t32ZsE7PJ43PD5LJujtEfZykhrA\n",
       "VzUHH+QDs46eBGiS/S4DEJEbALvoTq6U2zrzR9uXWfcW+8yrwvqnAqeOdQl7GqneF5uKZ6vypmzP\n",
       "VgS6V0jUVu9ZnSk7b25o1dxSoiY0iQ5s8jDsrps1uDu0qlRtzhGMnQetouCMzPF64strBwU4AolB\n",
       "4XgkC7X/VxnPtCyHBY9UGE+B34oWnV8kgZPkNM3H++RilylV3Hapa8Hbzh5Lo7vIYobdYoGzv2ET\n",
       "V6ws7qlk7yZcd3I7w1gV9oEgbN9Ex0vTJTP/Dk07DgbhfGQO6ssguTmzpfHD9Tttlcj/AtMXhB/2\n",
       "dGN2DdXJXJ3c6by00BlnZnEKfyFqCurtQjWSRNcAmw7lz655opku858hsiy3y8nvWCaCCeM3lV7+\n",
       "fYWv5oeTZnfIKk5aZviAxQ8CNUsS/KWFysi6NEsXWck9F2fd/Od1OUB5Z2YKvzFmLEM93LvRu77K\n",
       "IouSVTkiZ9KemSalMp3rP9nIiwRY1n5WNqs3gy2VVf/wAZNuG57QahoK+exNQmbpBQgJmKHfTHHx\n",
       "uczXb/QDeFjZTGeaqg7YTENs8DD3D+crn1H58vjuzbUn/rT/x0+xP/yMf4J3OWe8BoUdd4XfjdbV\n",
       "rgry7w80GI7XDXvQttBvAkYgI6JwocTJGPGyXaTre56fUPTlPUK2s0fOYB1fAgkBwVv07qnuL5Xo\n",
       "rj0C6ojTxq4eA9AiIj+TfF9CDTSSks0/xgtaI/meMqF7aiBVYdv1ySZ8r1fXMcJPnhFn3NYik/a0\n",
       "t++VH8WOABhASCgvR6+66RbL8kk+UwLuWsORtaS8H5zQvRfGEkDRbCGHZJLVCBoslgHjC2mQC1iw\n",
       "O7pu9t30FPgCohD6iN9hCawdU7Vp8dUuIu3qGxlTfsFdPBaZWK12hwmScx9HDLWJyF22EhiI2RAh\n",
       "tSj6sqIIUBTFASMrkvg99V0I5Ksxy+PwHohj4W+YQwU4lMSV0HcVt9bGG1TPdwGgnIIZZdLKlmJv\n",
       "joOcXHZ/8tFLz5TlvDBzIuWqEWeHoU4r3hgDIrn6VCMe4V16tUuGmL0Fz3e7FttHJ+gWnNdQ5+TN\n",
       "lH1uhoE7ZD5+yqgEHJLWdbo73taqv3IvjDx0Nq899Jl17TIHiLFHXOcPUT6VP1Bo+I6L5nHt28Tc\n",
       "WuOWCY1qdDj3liKSKjXiR1C0Ucew30knbefEkF5XQvlXZBam1ieWRVDa9ux2qG7eGH0gJj28ueWy\n",
       "nV1COr2jwlb9sMsUK35xywbAV3T1ODMy01ozI9tlgUx97HWZAj/kFnH88d4ny+uQt8PrSg+tzhdZ\n",
       "eWhjh9NFWm7PbyN3kemZfVvWz2FQP9OcpyPg/CJdCiDhuL0c/sdaoLXbkRfy0iz4/f+IJrPzT6SA\n",
       "3diL4EKF7srfkpDsL2dBkoMmo9hr5do0XOjLpelGJACvrBP6cQZg3VWYunSzp6lOQv3IEPEIRixR\n",
       "02wh85jsRBroTqAEMwUEpkNnoQ2CciJcOEdwgZ8mcd4wu3Uhygo0IID8RXPesM0Ugp8UGI4iaor5\n",
       "cUl/4VLlVdAerCfgoIhkQrixje4LpkSxg/zij8GU9RG3FYdb1U8ztcG6+Xu55zQ8RCa4NdGL9hSF\n",
       "UtT10F4+foMhvFJR/jzVBjCTUrK784ad7ZvFziv/wyPHr9EpHLy+hX8kXg0L5ACk3SIgYrm2RXYv\n",
       "NS0gR3lHDrLQWr3PSq2t/5xihaumPDtyohDydZLeBU7AskDi/R5sF8tf1QLgDmQqilPuXFX70YGq\n",
       "IVCZcIR79qY/JXJusE4nKOAO5xCWs5A9djRVs6IeuAnDF99hVogkD2XhSuup/tI3lp7QgM//fTJb\n",
       "4ZIudC+wRinF/nbW+b7tx3fABeNQt3rru4VOD6CcQVlhvQUm5mAVh8/z+6LdBeVkXY9eh5MpZlTi\n",
       "H1i3SNhqao2qdx1XKwQGNTkVdrbEpcddmfzHfJlA9ZNfa53VP/iRn+1UupClRbWU7JdXnNLr0/wR\n",
       "glPtwDk+S5+4P/DNkfyWP2AXqmrj/kHJTwviY1MzEnOGvSTulBetixykphs4zrOrmJBGVKbshPlK\n",
       "/IvSu602SA3lFvmEX0tswSI7dWKOcXHMjDeDZImLywX2Qt6VhoxBKeksTg3wbUNHvY58/zsg6bCY\n",
       "/xRn9uorKRxCNkha7gb4FPxvmoX6YLl6FbxSXzPXBJhXuMAjN0Zt6ZvxVLDATr++wzOCvOLhRQdy\n",
       "JP4rCc+3KHhpC0QCf/wCznSmX2FhgHjFxQjwRjOzqg7nI/yhmLQpsHRSIeSMHmWWAKHS7wE5LVze\n",
       "LDmct7SWRb9pBTqbKM38+7bbDJZeqrHb2GWONuVY8OlXZFlhb5U5BECFe9qciYdgAt9h/bUKA/G9\n",
       "K2PLrL3/m8fsw/2ToIq0fWArqjp1Di8Jz+KxJ7W/2nVHQUGCmUZBS0W9hpq0BW/ZVGi3QVtZy64Y\n",
       "tBbGaFZ67CH5JrYB6I6zQeFT/muXM73uSv23Am+Cc661+EgJyza7tI0Xc1Jo8VNDr5ETupflG0rh\n",
       "hIFRdkaglI/HTM45j1zPluFBxDal6HIhiqLeZHMkuiC6SaC5CElrL/Y2o4lP9eDYCqilCi01Pz+n\n",
       "oqck2fUUHYC0W7AIPaJHUswuDhaZEba2AdqjahK9BeatBSoA0T4VEcmzyCJApT0n2SLkb9/iBqoG\n",
       "4Nh8x/+00Qh8bVUysE8lzpqsTqSRctvYWCBQ2gSUq/Tr3Im4Um8sgr8hCPpbaG3OUFbfllcwENQ3\n",
       "zW9PLFbwfAJVTWW0RL4Uw6uyDuLayHg/TsJEFbta23gz/AnqCDLDwdrvMRRQsAX4ThUJeOBz0fI3\n",
       "vR2a+jwnpnI5nu/6egKIgEB8/Os1ElJCJcBKgBm8u/jOp2bzCvVl96jygr/q6V7jMBMs2aFk2f7Y\n",
       "KrqM2hpPcT5x5IyKfuNkR26VbLqz8CH1Eobo5TLpl/1K5IPJwlgFI6GrkSaMvCbRqHoMkScs2PdW\n",
       "GLqUWgAwQwnROdyt3oH0W0N4DHf4HgRVZbk4zH/lct+JTiyicy5reA39f6IgH07jsx268i2Vl//z\n",
       "FcFi8eM6cs7R+9wKdYwB5o3kOW8ATDnzLQEj1xBNz6tqXQBh2IMwiFFxQiOUEYA5nHwXOOyR2ceV\n",
       "wLytyQaLOAC5/DQZTXpRsxHj/D6STEWnh2mJs+YRjZyBJL7RL5clftxgmL5OBIgi6PcaDK25y4Sd\n",
       "AAWoPt7CSLye93dkUUCIs2XkQfV2IChUFe2SczX+A84OHkuPeXP0S9Glm3kG/4V9QfC2WyFYierm\n",
       "1JF1ZEyj0aUIket2mkXS3pwuCPeen+uYwUFxkkj5ChD5mQ7HpUCJFCB0fuJ0+1eMXN/fpIQ9swrO\n",
       "nLlKVikNbXc3MRoLFXGMKVBzf+JKwXRePwEpdvZnmp+wOH6OuTsuQ2eSXAvuB+i1fnpk4amGHnRe\n",
       "BH1UkMX5XEa4RLm4dsB4YyBqkk4AKuP7/ziMQj+WDywMqGSBFXz+Sw+fwwSIgiqQZCFi/lgI9CpT\n",
       "rvfwLZdnIQzGaju0M+upc63AP2TO06Q6esPn/VQ5jZxUbCMoXJEr+5MTUT9UfDiR3stsGmkjsn6z\n",
       "6lwjxB+b9o9Daj5Te+fKsH0Buv75T8CDBEtFbaVCYmi7XFHetm+YiKwDMkvmozgsN+VsPP82xsrP\n",
       "QnvkITQwBGoJMcFp2oiM8aAnK+l9nXTS7iCRxJGT1C7ljbiocqtQ/jZBfhWYUAlUAY8hlY10n3FI\n",
       "g7/Bj4SUQJDeZf7+0HQIm9wkCVCk974vmNNZjBe/Zh1C9kGXzMfTMi1l0P32Pdjd+l+jrG+iD5of\n",
       "GQThQPIINUvdxeMBzi5p2RB8t6mRWkaYD9ni2pC8ZUwNOknbioiU6eRxYwF++WVmHWyfONCvm4Vr\n",
       "Ql4lghsEXwm0mAppQ3xp5mS5Yiw8tFXGq7uY+yYhFggpaKcSc1cKrTbWbrBX29bSu+hSRfrO/QX9\n",
       "PBiyBDlC1rvt3eYg8Gl8cuizffx88djoeupiwiqS2IkkANxIQNa9frFf8MMyZcev3X5jBriurKC5\n",
       "Cax84CxKTNvhse0Mz9vYhZvuIdYmXi46K30o/l0NEt7YS0BbypBr+0lj/+R1N85iqZbycKZ/t7O+\n",
       "d1D0p7Ti1LngJKDiDP6pFS9Aq/M6Bc86QMxQnDAxMD7DPO9pwOD7ZCM42KzlbdqlMwsFcbyRXT4n\n",
       "P3lV5KmT/fQ/61brl1yBCw1dhQ5SODLyb2WVCENUKANHWy47esN19u8NrTKCdsi7kzGkyk5TOFO/\n",
       "Z04xGydHMLgoeS5yerpCXnIsgaTP3uL57t0hFbregaZWORH7055TlYFyjTD9BACbYp7JSQ5lWwuw\n",
       "kBo1lRTIV2BY8/lHPRiEPocXeqh28EWM582zxkZVxxODVuDU2wsJO6Fj2CxoR/o+1Hbt4YptWL+t\n",
       "47JkoX0Cfh5uuKbb8qKThbN9H50M7gaOdopVroJfYyUFP1ADztl5Bj8e+FJfLd5sOlOeME+k8XSv\n",
       "7qeZAWq8gFhBvgCQO6qAwxWM9lLXtX3oeD+VQhuOy2CgPRzXfU4F4Is0dqaHLweWreGqpguQl78t\n",
       "HdEPvK1BXvLVS1Liy+NsU4dMvNz56HaUxUvl44r6of9b2T3EsHudP2/7ARIZEBadObrzfdmg1why\n",
       "nI2X8YmsQKuPGPctB75NTl+5BX1n9pSNY/Xf0j93U+VL08Bcki1VZCcvnxMccjKxpoeEQt8MPlPp\n",
       "k/oLJ+RosLcWF95Yb/fcOLO/6kPnDM2F9Jj/CSSeGrsiFc9EjlUBWscmuMsIH90YmzSIDRNIK5B/\n",
       "uYKP612XPHn61pzC3uHAlhpYmCm8BP129og3p+IfEzwq87O+kvU4pDozqJHCNHaPiFDYXcUfvj98\n",
       "bQq28nJqfmL2fKVtZwmoftXQfedCN7h6Uw3+h9eKJgrTpSI8N6NktAInUKRQmmJ+25tEgtNmq36v\n",
       "9AzbTkBx42TkoW6/jKyJ1SyoC/VKNd+czcQ+6HC4SjW1TBZ8klliQcl7ZaFUwaWa48e44U2sJOZj\n",
       "xPoM9BPI/BXw/C0kVFc2UskFQD8bfNeimkq5pYv/oJSNKzvGB12zbON+dxnA7Ya+TbnoMM+5ANaj\n",
       "G3hcFyb/4wApvNFAiTSD67Jgf8qTrb6fF+ygKfSEGQmKZ3V6RDQjg0kJG4hYrFThd5ME7UxpNAUb\n",
       "Jp0b06l/848nDD6yzGD/WHxLPCNyyQHn7TXnDW0QvOtv8CssqKrTq217csl/5uTQwgi8GeBBapVv\n",
       "tP5CdGG8iFRnbRrw/2OIYCVHzkCknIVhNCW7JnENew+ISSJm8+TDMbt1Oh/j9XCv+j9FJ9s7Kxh2\n",
       "pyfc64OyaRFLzth40Lrivm1DS2ENwSdUSZIVMJOZvYdfS0lRMI+aboDH7hF+fYGJWoXQHxcLlmLd\n",
       "ej1hivqyGMmNUuuOIxLtSSMAdkJFRVt62Pxix+uVKAxn4y/U+rRQjHsinDmRNRYo0viOUI/daWIs\n",
       "u+/9JMTBrW8epkTm6j0VNgB8nejTagakrsSXqF0JUkKAUwqZwjjYJXYPYCjt+v3Wec0Fzs7iyyXn\n",
       "WehZcyBpJIaBijLFaCil0cRfLSaTm/wZmfR3UzK+xX5+BeUs2LjwEf7hQfhUeqlVEY8MHoHqakoo\n",
       "bZt14hLbJfARkuvbL/YqM6mp8b+MhUitoNHUy1ckHiP6x6aVazUzmY2DS6O8Y2POmSq96jlIPe5T\n",
       "n3s6VkChpMeCVYMMH21B1HHmLzMI8VxIlpzp9XFL0YbBbyph4+ITTLjRc4yGraWmFifN34uBA/bh\n",
       "gt2Mtv2uUab0+h9uQFB+FKkpbnC+cmL8ODgGQEKRDwbamkYzZfewcnRzx3KgjOhWPEUES2YSRuuD\n",
       "bzIK6kGe12yJ7ieaY1FsOdWK5xX/4Z3GZzZKeqOFh1Al3RLwiFY3Sy4wNAGYls944phdVdMkX6PT\n",
       "tkKERW6B/PXpn3HmFcL/yEJM+4rswfY1CT2hc8aqGoiRO4VO8r4Olw5XNnqdxXzbW7JlRZSkQisM\n",
       "YxPhUxLTjhfUqNb3BAoxRmpMiHx7E/zMaZpXZ8hri5S6y3hnbYPM2jecV/rV6O9KwLX415fDVhSd\n",
       "mHroM7/T4zqEBfa2aTl/PBavRNPf1yO7f9+X9RHHuDO/7Qa1gISSag9WeAMA5C1R8x58PwI+zCnt\n",
       "hu1y0uyHeXbMnTTz+9//vn9/y0DS0fl4Lec7YH5uuIJd3uvIpUTy92VkuOKIDof3tbsYgRravKOE\n",
       "ScuiqlgYkRmasnKhCLu1kKoE0DP3sfWriaAz+aDJ0gwlCPWmRHGAqOiwjTXmGDAAJ+B2yPkBNWxo\n",
       "qAAAAwAKmQAAH8JBmiNsQS/+tSqBAftZAAQob7Q4S+dXYBl+bbzY7aZ0tppXJb//fBc9MrMNOTLa\n",
       "8R69mgi2NJy1CSrq0IbyWunj/vzE1ATb2TampEPdUU4evCZ+yQpMjiIgEwgAAAMAAAMAAAUXcYo/\n",
       "VZc6mFqagewBfpdYTI9ZJ42wVpUZKKTU0shZy7F5ipU6NkR7a4xTzAkcPzhMZ4ieB4yoeW470L9s\n",
       "u8MGlX+8ql1vP6OYUdSPrUs53sEimkoMDJAYf5ttSqAAVwr4dCEbM/8m2EOcgJgd8XdkaNg6xxe/\n",
       "OB2wG9YPJSsFwf7HbHJhHCEJ7kZhP7yf/211+pfZnxzJBwRy6vwuDpqaxxFrEdbHOaobQdmLlDcj\n",
       "R0f7G3L9iF5O94S258sBk4zDTCdneCUgrh98nSLRoa47Cy9ulFfqx1GE0k5OekIAL/pCaGscDus/\n",
       "jZAwk0422RW/bwRI3kMZVaTdreHDoIDM6Pnsk7Tu8Lhay/KADtH1M7fUMtUqnojJQ5xjWmVwnNaG\n",
       "czoPZPP7fPC/fhnxvqwbK+NDYiF9lNRGCN72c9zHTBNSoWVuu6PRY9C6iVNKNG//DiiwUPwusdWU\n",
       "R3mutOuDUr/y3b+sPyVBEddDbx0VKOFzRl8LWP+hXqb9arpuJrmGRKc9h6wra3RMQ+X/hB9XSu0b\n",
       "MOvHxquJZeSirkHprgInT7Uu7sI67TVm7dqdlo95TUOsFJjCxm3vSraM4QbvokDjSWeVCUdx53TN\n",
       "MoyfmiU5DT2EtHRgfKsdJnJ3eo9rdnd2oGOXvBGJrohVY9QFe5E309RRaMM0UXo443TD3sj7/jXv\n",
       "AskuoZIphjHaC3l9Jui8gi/zJMnVO2MTGGau7lrpLWNPBhKMBahVKWOrlPkjQTkMPBzjsFD1Bt8p\n",
       "+UGetRCf7CnOHqR9B8TWAbcrzL4GqQhzUb9MVcFBDvUhsSTTVLdntShcapdTK/1ZqP+t1hyxe03U\n",
       "GrN+vAGJ9Enzg/rSbulpxKfkbOFfLlNMkz/G6St//klkesGyeqodRm2fFGzY/jKyVe/KegLBjnqP\n",
       "NckdKxRh/6ZOsHz3W/+w2eSp+xsi81Qp4uLeG01dvGm4/RiEwKNF/NbIh9ZUyJ2jf6wykHw4LNoP\n",
       "UAGGjBLreOvSmR3GNmAceATZTSSTLep26JN2NzSFf0k0OSBfvH85h/uBvQMQ5vV8uKsBuZMgLO3N\n",
       "/acaN2mea8jYd8bC6owZ0slqkVmbOaK4fm6lrQWSc4ULtwYXCcTFQrVw+VXELmhglagqPguFAb1T\n",
       "n8ugW3aYin8mg4x79DRHEfg9mu7iYWdBzKX23CTHp3lbh/LtCgyZo3PnH/+WKa5Xy++1Evia1jvf\n",
       "VIdduYUDXRXHaNCuL97+riSDSP9tswOjHBjW/JjhBfW/SKskk+GpvfJ07kQetqO+icUvZ8Xcjqp2\n",
       "+Y5JuJVLvEYJSQgHXdk67iAoTgK0qXW6sQlrRHJ4JbJd2C3hdCzpE2gVYg3snXLXyciDqcQIcckd\n",
       "bsBFNjVn69CNJjRihPEMQb2yFEpV+cl7FD3g1vxUGJn/QBdBHjxe6zaVMXP5Cqktc9juhft6huDd\n",
       "Y7KK8AbUtxwvgWS5MMgidFmJWQPedBFxgilwcjOEK4cUhQszc0aBT4ZPV8uQhwbDOZHkLwcdRHHJ\n",
       "5wzXiBjByDveTOa8dmPgqEW7hEIZVtjLdehAXvSZ0CA5+IdCqhIttEKK5+FvXN6+ispWY/fWpMXt\n",
       "ZgF48Qevm806ILOX3v7TNXqSYHBpwgbM5rLqNxKeyAB5BIYRwKYE+MtpbPNS4nVAZ/XJSAfbx5QS\n",
       "B7G+iVAWTpA1fj9mmu4cIp7Vbmo8fYOOdrFjHTrai0772fXxRgTLxbyQB48ar9zZxx9ik1iBrc1b\n",
       "5+AQfaaVo4D+MQzdIye3gAhqtEtn+CcAjIS8VIRoQkf6Oqe0NPacojHtfDm8V09WG7KqnJUZIWEP\n",
       "tHXuIojQwpJ8IsWM6Cg2idFMski0j+YItHekDtoX+B4ZrRpNjDYLZu9ir7laej+UrnM/f9Z0H1Tq\n",
       "W5o7GZuVatIRSzpGYWU95Bj6RPrGbNQkDxCuOvqWF8hM4cGBGkKjZPsUP7qqnswnLGM9SwJlwUzW\n",
       "dBZzyPpDr7Tv9B53CKwMrY/eFKQwfeCU5LqJY2UzcHDT4QKNKVZNMBVPkXmBV0o6fBbZHs3FjXd9\n",
       "kQIvmpEst2C43saom0WxU3BvGdek9Vb24s54LNY1tqA+1CycCUx54WXgIn/8Lz8zBINSf/yu9iw9\n",
       "qt5ETqoqwI4PuVCHvX9XHokbwMRH/G9ztUKOEw0EdaBIx0j/eQA7yxVjHEQNLMbOwFd0PUSUZqBO\n",
       "Grx1aHMcjD6X7BvFR6KgULr3Lh/woBAIxg3YinEPMQzepTeeGf7tbt9Ur2AGKDhLjqXyLA4zA0bV\n",
       "zEBJFIOPvsDZvplXmeeIv99CXRoEj2t+r/AKyih/ggHcmu5eABVSuzEj2NfNXM1wsfPy42xmLMJZ\n",
       "zMcfcVtHwWbVT3FzOD7Lgu/rONLCogy0VrUTU6fCcD6BRhyXXOqCH35x6c2Ay8i0sdS0PFqWmsQc\n",
       "XhPt0t4q8G/RmL7BcTm549JlpD5+VW7O3MU40PZ60RDs/nFRfwpRYVPrPkEwK37sd2oJnpj92Myk\n",
       "XotNC9d7WDouqT7q/gCfFJ6SgXUQsVhPsKu/5avYRgKPEAJ8JyaX2Xv2x47QUH8EWAMUcZzrw4RL\n",
       "Yq3GJuVEMaWs6VOw9RoxlRVrmCXu49qB0W6RPc2hBeWCHSdEiRLVfnIwVjQCGeYckE5nggBSZGbH\n",
       "cw8qVdCfSKIbUCVnu/Dpr+WVrJ15TbMJPhsGWtmTuy/2nQb5JUgMFUrgO4Y1T8rxbnMgcnU1kQX1\n",
       "Z6Ep0VZq8bjN1u0zncVqwnXEyUtNMwSNxEnZn/BuI1DcY+CAVahNXrpaO4FrIiM3A1HjI4geIOn4\n",
       "OAW2i7mKynEuoBSu00noMuFwbEeh6aMa8yNH6Hu7jfH3r4JmHkDAVyGIRunuf7DklDPqPbmXT+oc\n",
       "t9WAeaFu19XKb3Bf+ssFtN8h32aKDrrlToO6z2JP33TDz62roAfzhqRL5PWgtVI1HqfDNP55IKiq\n",
       "esECG7c/qC47YJeuGjlSqx6ByM1y02p/iyOqTxVgL1P9KeHUtewAU/ymy1RJ3JAKTvbkCpX0TBQq\n",
       "ESzCWeNiVehZF77I4b1LhGzHEhRz07LXjaeyH48tH7PeyOJH1ZU2hix1AdWZ31KqPYrn9q1I6hb+\n",
       "3fW/oUfMzfFKKmStv/WQFivQ06z9AXGmLPP1Yz4WQshPi1ER6lOXMFfKY6KrLozD18kjbtv2D6wc\n",
       "8y3rrYrHK7uOhgtRJC3K1bpvqXHBeXpO22i1jMxDsEfmGwsJ4JYqSLhPRUq2hBYudMMo1/KZ8cef\n",
       "xofxtLqU+MgwMRBk+uxWwgVQ3yqhdrwmHeOe6AqAWzacxy32cTT51XH7lnyuRv/Su3ARNApR5Dr6\n",
       "7D5PyVR8XXVJ126232aphmUVZiCvQ4hCSFh3fygwkwuk8gWgMRy5lRbAPHz8/xMJIIrfGAZmkhKF\n",
       "1HW2LNZO2eVyu5FFQHPj7sDEcyOQOPSov3bY8q2L9j6VdsD8/zGuRnJRtcNqYrIZJPE88jSO+KAI\n",
       "pIa4Xcu6vqqIRsoOUWu7Vn9Q/Ra9J8Eoq07ROSdxG7VoE3326xQPh5pldU76hxoEOR0iiF2rj0Ra\n",
       "NeOOrAOM4UQHoqCXqpDrBujW9XwAACpOSuiH9RgFntdAE32vV8L3UBvpVQRpukyIAA4H4SPhjNUX\n",
       "FU4wnTTXC0qAlU0LbspAJ2YPwj77/crdC6k6+4/EiEnK74HaoF1Iv6qjxtU4gkyjDCa//rCiBTK4\n",
       "E4nPMI/OM9E99/3Ugda21JwZvXXYTTWvy4UlrQl5foAirtHTPskHx/gVGnlGJWSONRk8KdqCJAu9\n",
       "jBNpeGsmK0YZJqhLbZfI+BuzyxdkODmHvsadLaQkcrgt5jC1e4t7BAHrHkRpjzq+ClVrsCBsp+iH\n",
       "ejcfniQacZJ5vCuUZRiEAPQBViE86AJ5aN+7CltVg6i6ag1VHkSTvH+2VlSiZZKh58vliFEIjLi9\n",
       "u+at/rAVfumxW+03wJCC8lty3BFwm1LgKneKdSAdngaK6mpvjpJnSYm0ijRJXlJPtVRv8onD7aUb\n",
       "HnAk6wNRMwHkEnPNGJbySabv24g9+CKGKHiIomuNR8SgFUNW0CtEQ5X9fiEjqdlnmUJlk55jt+8o\n",
       "pRTJn6dML9HVm+hl9977QLwiUVNT2ytaYDNgxdVblxCEatzNUJyJqpzGMy4L6hHfbPVkZeFcZZSe\n",
       "UIi/56Td/5vyGkrapx9IlYX49zuBXDqaKZZMSpQ/3DUoWwWtsF+w3d5uiX1CzHByS+eoCYfbBq8W\n",
       "EKGXv8MtdR+erEZGgrBr0WSnIzzymXaTQ+MBOdv8iUFuDz4sevOp1Fq6l+5/GajsHz49vCz5JRgs\n",
       "dEi3OWl2NviNZFMAPoH2DmrX8KRR80Iq7fjiN0mYIammQhM5NLkDURs1JDuXUWuVJMkgo3u+knZX\n",
       "t0r3Qr0bsF+cCs7Qt1jZVKCNKQ1olbVflglsrgtWwxog1EtyR6bVasAkylEWy3teIfSUTC7qXR4N\n",
       "ddwyPkudOGJ1uLYJxxZxVFCC54y2AeLgFw+f8dJYjCzgMajDqWxqBSa2s8XckQNbPL/caayFTi49\n",
       "JkDwFOkc7pn78OsbxToYIPxm4gcyPF2gUAmDFdR5+p1/dwBlxs/BnUOjUwJNer+8xd54Wd14lA0o\n",
       "Suy59jSsi+iWYvOn1vZIARhj0SFcvbWjLDmeYTALo98WZrdh2O7YNFJ3Q0y2KoiYpysHBHed4Vpi\n",
       "X2XffGxhLi2sWKDcxLRyzeYr2vb2h/jGtJzB4o3HTL5BYWC4/yRJ4H/Z+Yosi7NWFrx0nBHFK843\n",
       "1Jx19VBF4AQE7WfhrDjH8RqDAucom8qvF7LrG069+VVfkqQW9ebx0Sq3nMQ5eIilas4j7Kg7obDB\n",
       "Y/9RweP/Sjq1lkOW8rJHXMg6BxVklMGjV/xHLNVt8ZtVK4VcT+sa4eCaP9QTPc6yIc8+USdhnQS/\n",
       "0sPF6YU6LTtYKW/jkae3QubIqMxTA08aZMHBBd90CowdLf+mtqPKWpQIurpJ8h9CJVZCU9qxblF8\n",
       "uUo78CSmB0AxouSihN/jkn6l1KngzJiS9JkrR2gXFX8gZRvI7P7Z7pf+Ja7U1PtpeUZnS06vkAEF\n",
       "hs6UUaQoyHw/i7lAH2MMpQ8qnQoihc77BnhxyDn9e2+V/V/R4C6VmBXiw3mo47VGw94wEa3wlFy1\n",
       "HhBSrac8MdB1jhseS/Tdr7KbVCM7xK3h1IOV8qHM2JgI39VK5A9F/GUN/TXBCb8+XZFRHXmjIaO4\n",
       "vJIU+eDELkUy6vPopwn4Vk7WJu+VWG4OMy/0XWGFk1tdTOKMx/gXWixKmtXh7/LPsTUBXow6Dk4H\n",
       "9Q/vFZLBY1odwsF+ZYvKun5KKDnsBhcnXJozCCFbKxCHBCc2Vzf/pFireIPJqUv/YhLiuYji3VmR\n",
       "cW0qrEMX1O6kz1+s3jftB7wqG8XSTfuVMIwCJeTSRmhSljUekiA9gQxQC9WBFP/P9DoVwRnvHCNX\n",
       "kKjuSNj128/bCmdm76pMXA1sjPgFKEJ+SUNr8iJb3GXwp2Yz6s4lfIg5OFwEYYFYBT7zu4iKrBdV\n",
       "/Y0F82SRrmM6yPOZ0Ia7CJ14N+1oO5svuRq0XWkk1Meivdt66qgr9Dewi1glMEyLZ1B8r5sTUqmh\n",
       "8Y+fbh8JA8hcbsaq5kV3HRYh8K05/4aJ6j0xPe0PIpdxW9nAPUfvo7h4j93Ydvjp12ocesOFzC6x\n",
       "jdC+Ayg/LDlUHal2H7Xw8zBEoonz1QG2PQDIVYFsaMzoh78hONYag3dQuOs5zJN7s3PTE82LMr9l\n",
       "VrRaMJNeA1E6JNGHPouKi6iVW/lrNDcrZ9pf6zrZQhNqJqjIz/CLZDxD8fxo9NVMRxpISLRnytpQ\n",
       "sxfaXuuUaxSPG25ahvYhdazJ1j8gqO/nqrxBb6fprZaH3jhWNvnQEsihewMgsNCJwyvNW0oYdewX\n",
       "yIeA165fgQSnY0esFISisG+c/T5Hb+kG/iQjcp2OnOd+bbQq3OKcUjMDQ5TvEDKh8JfKzcnktbgW\n",
       "1G0LYbc5jTibhyGMOUxOvLkJceZC0o2SEcxlbGcKGBOApPzA/RsB9vyv/eRlR/unJRFjdHxi/296\n",
       "ovdEjR3DyY/37uCNzxUS76eAG5V68eJ+4OeYmLOHIfsThWWQQrqrFggAl0Pwc4Rdo+OggFHvhdfk\n",
       "I7uMf313DVuelNlTcSwV9UxJN3pY5PkJESURrWa5odtxYgahNbAV4DtgB4Ct68/Uwp9FqqUslUw6\n",
       "U3OHBkPWaRzFGCKqR7Prgg7gJvlFEZvgFDG+BdG/oCbqUmhF6d0LZrvKv19YXfzpMmz6MhptXj67\n",
       "l+GvnbwW3UdND6muEkTuEVmZGxD/9fp3E1jp8dMZeuwwKKQmMhQOIrYVjZYKr0vA4TzxtfyjZq9M\n",
       "lMo8PtsJqGB4/eB1SHZTJGTCQCpGeH6oX9vCOjK7oY65JfDnTlZiZbx22EB9tyy7b2aRTf/h7gvn\n",
       "HGNiEWa/ucDG4LOKWapAXSGKsGZuGV1W1V9Gr/5jd0nwgCBa2ahXXd8SAOLfWUXDaTURVOdmKmax\n",
       "0dkFIVwhfhVd4LZVz/Z+5ILXjditI081wEJ0WHDory96TsbJ0HSMFXULj2HXwKshSEjtQrohr9d8\n",
       "I4Xg8gQn/lh2e2q1b7MnOJ8+pevzMnsycblRyCQjY9csO0+DqvtAFNzN6ZPpWc4IPaMdbJiDciwg\n",
       "Sp2hdRdmWRDTE+5xJxvuaMdD/R2TRN43aVJVm71ZNNbfiCM6glqDuKNwvTaC7pnwtjwpA9BTi3Nk\n",
       "nPTw6iVd7dDhVWiw4COZFOVqyvk4RO4/5B1ErUQ+1PkQoHTIMYEChsPpau3vbgbgRoe+YwO3MNe5\n",
       "+akyh0C8RizItNE3P37tN+/tmetKtmDYcsOaJ4hkaakt+dsNuJtymxQ2fYaDKckXjku6e2uqKiU5\n",
       "KZmnV8yd+/ecj0pssJ1K8cW4N6OAKfzwVn2nj1R7/0WuxAq7gtJNS+/1xy49Drh3bMLMLo0Ph1c8\n",
       "C1SdYefsfVPa8Xf/z5VCIevKpgWWOTHTHqVKARSk4HKd0tMMGTf9Tt2CiPTaBACr7Y7++jAQ7elg\n",
       "hJLWKJX5aI2NVIvt0zyAxojod7V+hTy8ZkKGiLftA/MWgeg8YbMNt30kBzxJDr58EOZhEkg4h1m5\n",
       "DJsE3+rSWbir52t6apZQ7C85mzbMy/z7hQD1NNtfv36V36M69aPOACfLpimOTWYw2sHzgemcH3gx\n",
       "KvoJVBYzQqsCFBzKAycbWkj2o9jZCDS4lb1LcEAU5s+3KZcsHpuKJXzOqmNFgrbnyGCWh2pfONJk\n",
       "8JDfGNxnqzNsGPBr7yBwTRA1KDa/ltciMqfCxVhG021H8P1l0zXWxA8uW6tNpY2Sv6aGIBj26N8n\n",
       "M7/WS9dktGTncZIR1opZI9rDtbabvunZmYetZsH1nkROkUC9KKi06jqVTWIPGCA5BwJiNCbyoKgZ\n",
       "I0c/l620rqmPy290ie/ZCMRion/58gvoH3A6s0YJwqi61LVDN+il7OSdtlkAJtD5f8cI5pfBWoOW\n",
       "wnro9O4oR5+5JKGKuGIidK1XB/xG8Tg1BfhjCEGw55+BxpXEO0pG7YU/5v+mGwe+394SoR5jDFKM\n",
       "gV/BYnu6EG9hGrPd0AV/tO+CtCCtArbZPRdiwBQSTFjQyu+CU03HSw5APlArv5RJK6yn2UlQtxEf\n",
       "TKhw40GDM8tRF96p7Zl8nPh9XNzje/NcT4VvOyMGuJTKfV01QQ07RihduozbMeMcHVQwYRLcUJOT\n",
       "WaTciQcqKKCDnVpf82C+zK1sERFxrxX/0b6X4iXA1wZkcnnFSshD3Ztlb7GpKaLDkzBL0tkVV0u4\n",
       "+UIGNRxJIxAPvDy04Ia1RKMP3qrdyzNPQ2l8UswE/sqaUFlvGMDgkJ6k3qdcUOIL4EzC1/kdai9H\n",
       "Fu6e4J9tvgGyE/+7A1dyk/0ytpre526bR1KaqhjXTTgOpa902OA7RR2OwUrXDdXqqZD/XcNERzO6\n",
       "6c+QCMwHIFzq9JJjaBm5zwinrldkv6w0ae9zgbEu5aWnRbyZTTg5ySrbYXiK4ZuBZ6ma43BEr5qA\n",
       "mIfbyX3n9Q7eYaaEHhHd+9Roxs8m007lW9uy8VEUTgSgrjF9gx/emwdje9fwWNk2ub6HTZE1S190\n",
       "c8mR1AcHiD+7q47HFRVoL5qbSjAxb/GuxWRLYQCC+SRzog7/0mL67f5ZZxLcdiS19BTARxmxti2S\n",
       "iVsZx8gm5wwLARXnQnxMK33VJqO9akcIofQZcFW1UPsjRpXGddZDSdGdzjm9Qn7L/0LXzsf4dLci\n",
       "HNvQTuuG2+C+sD7EGNa0gdrh4bcOkTxsZuKNwx0zLYiYKlOePnplaLiXW7X5JEAHK5NlzaDaDHiU\n",
       "v69N0WELbmBAz/DgtBwlemdXH/xf+tP1F1v9yYw7dcICE+HyhGKYBhzsTBqcTIKdHsy3chf59Err\n",
       "bd7Ct5Fm0FLU0+uKMRsoHAhJ3UV6KE5yWueA6FKd8eaIAW4MhF761DYVy63jW5GIBuG4z9VqAAQF\n",
       "w9qEjO5I/FttefMZaez8HHnSO/0VS44c3tynzMyzE18nZUCGki9AzDDF6odqh95+Nk0qz2V6QrDh\n",
       "OOISuHM0qmcC5TsPCEgMK58ojewXG35KbTbJtRGyK45XbyXUiEJdNURqAAr0EKOXSHiVnHNiCjyF\n",
       "fAewLoKMAH/uT2mSv+CS319SkivK2O/SaUIYDj7eDwJCDfGkZw59vK74wBvwt+5iJ92BECRVQ19B\n",
       "inAitvegcyLBAZHgGdj5utrQjg0YG7jI+BJAwMi9Zw+ZM+4pbr9s4hg6xs+4DZlG98jv2mZK2Epx\n",
       "hh5Xt51pdAb6c5gNfVcYY9jE6S977rR0vCUXbXfgqZvRTJRSEmYQ6XkQGHOJmAT5cvBzTv4GlkBr\n",
       "Xtm89padolpcPocQT2lzjpenbnalDYBKdr/AaruXicgK/lXWXF2CCt4LIYnNL1nexV/qi77YHXae\n",
       "xp5qdFPMTLw3GZ/hEmlW3crPwYBUJOpHkvYGjHfaMUPxg14gdNwnP5lPnbhj5J+/poGue1A7i9xP\n",
       "43z72YDV+rAE7FYkBs2kpQ9yuytoiZ5jX3evk2H7N24FQM9LpTzP3IEIWzDRwWlayPne6kpHxRb4\n",
       "qLiBiO7RCDbUFlhCdIcILu0MSa21Hh17O6GFcKpyMFWrsWJ9FR7DEPxhU/CpgbOcCy1OGnmO8OOw\n",
       "kePYG21COlFk7RO8lTiHAC1YyzlV7+Y2EC8ScSmYtzG4u/qDl6ouPWfW4rtXdlLz5TKQsi2W1xZ0\n",
       "S/w9jeMdnQI4njyuoaXkOMTovZ7iHK0MYwA7jKMSs7CdRYZyT2csfUGSQsvxxcQYIx1tY+gMr26m\n",
       "iwNR/6Ks+qRzVCbg08P9Q//rMc4qzgjLhvPIafOx7MSLbX+pzBptskw9Q6s6QaQWsXlSvmMiwRbI\n",
       "vhDLRK45CXmvBeONfeaq5EJDN98nOYX1qiGOG8drzbNS5AfSGkfohAMZyco3zsxIqUPfWDal7eG2\n",
       "odb4Va4yRUu7M9t1jJ4/JYepQk0PkhLYYVcq+QJfv7csO/O7IXwRMr5PQb+HIEQ0+2Vt8f+fZHjQ\n",
       "4LYCkdrsvp0B2PF1tEvwBhMWntaPhCCmPAxJwVUwYILNcx/Lh04kxuIpGUq4DAgrnAtUmGzufv+n\n",
       "OuFZj64PwsFSMQXHZpFcwTEKF9XX7gfhzInhGqwmLmo4gaDobFP9zGQN9yABqZYBG+xmsbZhP6tg\n",
       "yZbnXZskM8j+eD6N12Z5J+HB2n0cstp3kRLSChohHtm5KerA2jkgoncKgD+eErjiyfZ9pH2yzUQ3\n",
       "Y3jNh8iOMKjLwG3bRPjqxlQncPnyqIJ4lv7vctaF5cW38JvD4rGdu1uuOfpS4iTPJ2MoYq2MI85+\n",
       "pyGIruPEkLKcHfnTMHeN6YlTk3dJmCtXiHJyBBu6SFdOajH9pcVN+3Qvcg5uFpmMnsBmZ+Zm30ZR\n",
       "ayIPwwTie84F9qn8ptxy3i2SCoF5NeBDvpF63WNzeckDd8oRVZIM9+QlbqzMJ44jQ+eiANEZPYv2\n",
       "iTtlulzr3OqZ4VWDMDzjyijLPeBsMvrnK6yhkk5izgAbEmZUhDiuKVAz9UdY2JU0Kk85zmPzLw/6\n",
       "dKbeZ8u+NI8fqBlYP+DoBWdrG127IZhyphLs7Rx05J/4CeY+7Aff3HGh3VIn46uQIW4+dDPOqQGw\n",
       "Vi1x1j5ClUfEjGdp4Sy3yGoO7jxn0Pg+RHSOScahMxexiojvNdEi8DFbzPpk3QS1Td1qkuqPKqkL\n",
       "P2vGVmrgdKPHkqinIYPznAIuf4qWWM3NFEIA99w6dRdkrDagj7WKP+9Fx959pvoZPNpF2i67sypF\n",
       "ApeY6jbDiaqPb7TLPSapYIxLqOujO8+mVyOWOjyGhWf1pl2IB4sD7/maar8jwSOU4iP2WRG5EELi\n",
       "7Pk9gquiTjAMjKTk0EJz+/mFeU9N3ZdymOhjSEdYujroyC4b2dsOfFS0moptbQYQCCE3+PMUMh3S\n",
       "8GZ3V++Y7v1a3RJc9/GJKsAC5iVVzupE+zB6R/de07l3H2PNPHAKijdp+gBQBwRyLO7bIstMyslu\n",
       "b3jdJrEflyDsC/5hvkCakk7n44iKqCv3GVQJfLCPHPfmiEQU9mbLVjA9B2x0OIJh+xAEaohimplR\n",
       "pNVlzeT8OA0OQIcv1LpReJ+aHFfYNJT1RQTvicODNGVNMCAmThbCVdUmAEwlqIAAABX3QZ5BeIJ/\n",
       "ABhobJ39R1/igAnNFLmIEidM/eVzAFbkmLqZEzDiUyvg/4UgX/2G/Q7+rnp7q1LDmySCjp21RZlD\n",
       "x7+M+OFfv51lU1RNQmWDRh5fYdEglZ0jCoQUrUckSNl2RUOn1haiTwn50XBsh5EcQS51JIVpSJwb\n",
       "r/4WU4FKvhVPugRY0vZfJ8CUhM1WY3SK7yJKOoJ0Q5J8axQQl6qB/UjXMZOIfiEwZYnHmm3/OF6z\n",
       "Fds4G7DKI9Uhhlq1DHbgqm+XVgQ8ecw4bfyJwsI+yM6GW1RvWFw1eEnTjGL0H2V/jskAuqM32cNi\n",
       "0fiYta3IV+a4smG4Ow9GxuSfqnky+flWyf/jGW89+jeV5HZTtHeYjxWvlExZebjgVzgWySiGX7ER\n",
       "9RBDL6llIcPoCQH9rryX+S76kiPA1INlz28Nj5Wo8zJUqLRsYM6WXmJJVlcG+LHTz09evVb2gqx0\n",
       "o+zHsyUhr1BJB/sE4IovWIRG184OLnyJnf+4YttNhg4V1AWf0qNLwIZuj1cvUfCeWqktx6PdKoft\n",
       "wDfmskbY50BS2KVRZELaNwReBduKMs3fhCoxGPdy9BBgbntyne5NlnVUnjFIL9U0gDNR4yrUHLlc\n",
       "zuNAljmVPJnihX32cdtr7apBV6/bG5dJhB/AfDsiOekfsL+OiYXIr5u88eceAG0nHEs9cFCMiMhF\n",
       "fkbcZEFRzsPICifsQrodIAUr3AN7WO+eQESpIE/2/zfn78kId2u+0ajCaENPeQ+XjKQyoEUpUmYU\n",
       "IIoyupsoqF9xPmFTBZahO7MNczFJpGzE1CTFFmgI9TLNeuLMomt4/GAn7WdJnDK+JVVilLndRXLu\n",
       "Fjoc3yfmlMeEovhZwf8hTlD6krZJV84JZCMk8JsAxiw7qTzeMrCJ1JC1qxAMSeYOo6VgcDB8lYWQ\n",
       "dWqhaLGPhxZhR/1OrxR80OFtAjxlEarDfxMJ9Ug5Sb7DSPp9G7zWF/NjcG9tLO7VJVUhGs/ox6SD\n",
       "/DGgoSuxu9TdwS1TXc2slZDe/I4ty0g8nv4SHSSQe7kDH5xzHp6xa60wud7lsBtNt6lb3Q5sUdpd\n",
       "CU7DitteBmoFW+5H2alyXhMPo7b2PDlKVWGf05qO5dJOfMU2FlOgoeAjPYh6pQ1kpFuYlw7gSdB1\n",
       "CmkttsgsnYfzuTwFxb+k4QV3kT2t/YxfaKDWYUMWpx4EighpCTanpbr3fGiN6gpPgY3Gz3j1Mzib\n",
       "a0726Bi1cho1t48uKhVlhjjkpZ6prqtwIc8jXDKbtGCrImudXiEbGLGv9hA3EiWyPf0X7/+sd3x3\n",
       "44a1iRTFJeAEWiphZNfjTwD/Q8jwDtXQ31ICoFazXvyntwootiUy71li25KEJjmHlz/P4rr6WHTt\n",
       "WkYw5MarRh1NL/+1Fl1PUtjHW3nCZa+cPidnUvlrm7oYQfYJO3OgeWy00xvCw7xb9ioBZMS3cqVn\n",
       "CoUl9fQJZIpLjGBI2y9ZCqHSPBMhFuXNbbg2DHJTt7hyp4VYGj3QF8VQKhbTLRg2qFMTRaC4/kvg\n",
       "Em8MQbOXMQbPEpxJ7VhT/ZLLNshK5n9Ltw4WOUeLOMechbbSH381Cb1U2D8Kb+LeABthrlxcNtZC\n",
       "8Ay6z3j8taHPQZaRvZFLqO02K0bR164PcAzeqf2KuS5yaK8RF2gU0UGFmUKLb+Mdk3N2ugcorYl/\n",
       "YmRh6smIUFXCwgZ+WNYHgZJJCS5yVzXieYq891igTyMiT5ftuxUabZ/GyGoMXK0B7DZPdaFO+Cfz\n",
       "U+MDCPsWdN0q3qjDyeyIsMgTmRoN9wI0tamXGvTHd5Uvo7LKGahjDW+9fQ0YPDWV1OhFhFjeDjJZ\n",
       "iNC6j8x9JL00YRku2QvlDa2nRQxQiJZsPS8wq8AuCcFj14wNM/zpXA7cIGKwPXRz0h3JgvuIWtPv\n",
       "hRsZATkJnIgGD8YYihCDeR0zQlE9CEyhW+90RK0bK7TYfT83sW11Lqawjj0KJdxHYUCzM7SsLKVm\n",
       "2f9OvRdGa02d8d/1w5CVWYeCWxw9qUEbltEN/JHU4A0IIfTZ9ey5UXLftzZboIvDucIL1dHgQkxn\n",
       "Vua0v2r4KM98ZlqC8WYahHrkXm7Iw/fz9Hhg0yEcp/uVvShq+Y9X4COASb+t5//ninAFjykeXANX\n",
       "GAJ+EYCm/4ZLSIIeUOpu+f/n/JXIZu99sbFTUyf9PCKDUtGUn6CT9SFlaUh1D9osh5hvE8roFQRQ\n",
       "coUsuPJQakzQcocH7JPERWowsVXB8eDjjUFyXy+2POZipZa086wjR5OerQk/3NfWn3F44xaY4scy\n",
       "1Den+EsthisAdGf9gAd4d6m4k42vUmzVXA0p8ycYuK0JqVkoGXJxPVfvLpwZ2XdWsvHGunBg3UqT\n",
       "LxG/2OBDY99f2HUsKVZvJ8A/Xs0hx+/TLU7aaswPCFP+gkFX7oWAXd15SVwp+hltrUUkcUmz+Ai2\n",
       "vpN66nU0f3iDUcLKM9REXFYRKEmi+MJZOyEmr+CoYrR53YclIcEcudQWTrvfgRKV+L0gYr7THEZg\n",
       "xFPmSIKCrIX1E1uox+R+iTyJPEbJqXKx3E9kv3J7Q0vRxE/B6cU/AHq+6CgJqM0Qt/XreuEs2owj\n",
       "/IsRSDo7cC/fcGzQ8bCib5V9yHyk0dpkX3nHl5uo9negTbampznX87RQxlc5//f9PUqtcBpODq4M\n",
       "NGLHLxczwMJnMEUNcfCGVWEOIe9jWUQvYlsJGYzOBAS4m4cTxl+pwZTtS1J3q5qvUaiyhdWRh4yO\n",
       "TOHJWLtPec447hOHVIzFUtxbGXglV3xyOmBuHGI7oDPCtLMSNzcR8dnRtLhCns8NnN0Kj5js1dzo\n",
       "6nMEEsG4z3f0UEvDMrZc8UV033+Zzl82em1MXANoELCpZ7vx2NyZ2omnJzPSs+RNk36KspEt1GDE\n",
       "2qrPd2tmMVJw8pvNa0CSg0gru3dstGG2CUYeYeoBjpZ1sTjoiAnYMp4l5/ZtU6PviuUTPk3IqGGe\n",
       "9cj2uKBweaRnnesQqWyJvttTxwW16Uz5HllTJU/ojEzDDwo6hjzG2j5UoO+LMVe8yn7mspnugmwb\n",
       "zU4IeT4+8IYGe62DpOuvSXn4HdB7J+K06SaDRCy2HPM2svF2JXzWsR9B/vGx4hO5kUqbWmF70AF9\n",
       "x6fKbCVrni5M/rsP3iSbSzmp/LUAzlHDl1mb4l7464x9uFGVxUKfuysAgAs4iEf47UCjbco7hI0L\n",
       "38kRmg7NzonmgcfX7I2jKNO3eWVe6G4xGTp/+mbk3/stXfNgzG7YtyrGWoR0NQUzMlRNAyCK5r6d\n",
       "Ds6XJeLTSt+3DcDql2fs3R8+MTr24IxCcjSdedD1tqe3ejAjYBxKAnTJt8o2bm7BDnAphWi/Plaq\n",
       "4o6BXagH0EmKu9OQGvTFvUht6ZHgq13WanRlpZOqMwABf/FnAIpsByXLsstgoPgCqb9Jzm39pVBy\n",
       "srU/nbrtj/yeboIrJBmsSwxDcegOdXT3vQTynABorXNrVgVwy4VONsoXX0z+SpLSvyvjWreS29Hn\n",
       "PxENOW4ywfSxIdWZJMzyqe9b15zEB8leiA+rMXptpoewr3nmUTkqqaNZXxlM/AtYqYtw5x2joRJk\n",
       "AF/MxiD7uojpy6f3oBLlvrSmuasrvAFb5pNH5rNEfP2NqX8qlG3fUAo60O6t6YpkrmJ2V0viy2sQ\n",
       "ijILRQfxzlM+HaPMNGNcegZ9dfj6aGPmHQ6z9qqlypQOpkO/a8PowK/jAhzgneUdOdUhEB8oI+Lm\n",
       "yZBkSUKGFy5qXNQ78iSHHQsjQw+SA1nsnly3uw/K4/Y/IzpMeiPtTXJ+h2xj7kCA0IE6z/UquyTR\n",
       "DupY0HWQUUEni8H11XKhbwt2lXGr4bbASLGALFWQb6dAP2On1wvY3NnPgquMcolw/zwzPza/qj1K\n",
       "dJgY+GNEybfRGhT4K+D0ae/DX36mjkBCG0wikt9QMTMMRqykxMVgHvUF/N/rFETIDzbGOd1Cpnun\n",
       "I+G0VbinV/lFZ1de/rEJUvmeub2V02c0c7va2dpjJC6c01ePF34TjLIuZgFX7v4CB7NOnh4pKxc+\n",
       "G+FGJ8+nzZg7OTdtV6S+DP7tJIjGvxgzcfm1cMSbZnKNb3wc80X1Fw3C+RITW7Pm4VtdiBdBwiCa\n",
       "BJIDQGgsXWf46daDsHRDutFFnLqtH4FD3K3uVZUnqDPqNQQ+FHrhqx/8DtSdIn38W5DCLOYTBfOP\n",
       "uNyfMb/P35x0GWvs5IpKlH3MVbvvIOB1uSAWX0MOQwARlpcTifjQefxAX+JSqUjvK4eS16OwTjX0\n",
       "HtbPJ9aedJLVt3d27QEMbjqZNc8IuDNAz9X2ijYotm2ZbC19KaPJ/lieFriXrxhBSGLKtexOwsza\n",
       "hqHBKxILiAJ8PHH0tluprj+2akEexMcAwAJ79ESs0w+NEupbxoSWzgB9su47XLuHZxy/ngV8SV8t\n",
       "s1n/eYV+YJ9XBOJd1cincrrG2GCAaoZYpWmN06+a0l+69cVBWHaBpHNm5DX4f7+KFkfocOa/1//7\n",
       "mB1NNAgd5W7kvXndSGlniAMkd9Xg1ysGjcJWMPx//vKJCrPb2l4hdVJfjFP3fa99b6FohMG4yi6W\n",
       "0l//U6yJHH5Oe8sWzaRbQJ1F6h8sbKdfQMk8yJlILizRR5z6tAJdaGKmw3Ap+VwKC7+fitJsilgL\n",
       "z27e/oubx/GQhPHOi7Dkmxpys3iAqYIPDTzqeOPuCDUojUge0BkDpAshxitTupqa7YnAa3oeUb94\n",
       "sOvKCxVlbalZVgrZmqoGvaeBGEwvmzmR/S678e6UPNgF8KNK664sy5ibIjm+bN0Qz621tuhZ3BQp\n",
       "mCtgTw1LQ730pRrR9YfQbZPlljcWMmFUMXDQOYT/gVhDdeDK7QFcDYk8lc+jmceL8Evtxd+jGVTS\n",
       "jOA/ePMqcUOBMQwnSvUo50Je/eIXjTe9T/XECXpSGW8nLqM+zPgEnPgt0+EV8y8fxUEVGDMGCpbg\n",
       "Wm/Ot/X9NIm/f0Lh+KRZTuMWfmzBrbvN7i7Tqkp9hyjhrFiexj7rApyVNPvFhYbT53W+hixqYUq9\n",
       "Nf5VaiblElLUCPgqSAJR8TOvV76BCOL3pnFC1VLCc0cJdS027xQu1OhI5aVMzC1uGgjcGTFCkpH+\n",
       "T6Hqvw30S/JwscAJgvPOGzQ6Jb8U+cBFQYCSU8kb5iyy0zS49WVMVcNqe3Khmz8XiA08IWb+DXpu\n",
       "fr0qaTvCfmFAL2K/XBOFYDlKU5GjCPP2g/AfM+CefVRxYdDIX3vg3fzJWJu5+ofEhhshyUlRfwbo\n",
       "Jk46jFQWXf532IDSv7HSNdPWl2ik2104IJwYEsnL3znWeUFPSJHSS4cwYQcbI366WyxbtCJPx2Rj\n",
       "SIgJVufCnCJG13kYlPE2IAnIh6DU+gxmaAyGUQnBNNPP5Y8dyiwjYJLVk7L4gSC2vpniLnYPn2r0\n",
       "bAT2uQFldZXHNiIUO18e/tDnw3K6wh3GgeDLFTi+laJTLUc05XZ0+AqelS2R//YtD6lDruA1Pczd\n",
       "Wmi2pfbOa+5PqvqOl+v+o3QoaDSEQDNKyqAOx8KnySmbha2Ac7Pvw338xqvcXBDJ9V68TpllMfzz\n",
       "GQsIiY0yR79F4aj0dkHCIGiiryDTHRKbRbo6M/vOvXBxBv6dzHd6kuyNqfrnwas1N5x7jhFETadS\n",
       "s/vNOeL5FMsYyPsnLHVbVc+/ZZwUWcP0l16tgJ4UYatggE3OZ5h7mO8hq9ssOlW2Ra1jqAeOhXt+\n",
       "HiEjNj/eruENo0g6aJsxPJbeWj8oVl5Ev4loo+0yHCsmVVZs2CfzuqDlOSZL6vRl1AYKWMDf97s+\n",
       "nVbo568ApxeWCEcNPjYHC6VFCw/60oLPxNpwCO0qkzy9GRmo7E1qQMOLwRsJ7xR5O4TbuklqNTMH\n",
       "7zcvCbin0sZY+9bjv4Y+qUqe8JB6uXSDs3gQw2i+Xdkil/plW4TOYsquRljYsCx55isTAyvWYb+W\n",
       "57IoEpfXynjG0sPvZk81snrD/S9Vv9ddPr/wQNNn5C7o9DbYO23KYZSviI13BgcPJuYJ425/UwlH\n",
       "lHjotkMooA3RXGkxXx7T/Y5k6YXJx3rxYJ6K8U+fzJ4kQy605rnphvCqHienrAp6zE3j+2Po4WLS\n",
       "c6j9LHLiJuhsq2gaRz6GUayKZEoeSKtbkv4BHtS8xCHWjUhVHNJd/Mq9Z+4z7CSt0m4ApTBU3ooi\n",
       "nqOq1VufciE6tv86JR+h1Bt1zi3hblKNR1yVA8yOiblZvyfZ2cvaQkZsN/RNQRrzPgLgL4Of9S6W\n",
       "qncG1yAZY+DaD9XmVXVqbTZSVOhkjJYNdHCjfsnIO0ZFeSxWs2ExBmUEmfMIMP+V62ZkFMJnoiEQ\n",
       "yw8guJdkKh4PfYJShFUwy2G91toEeghYT4fP+7+YVpHzU+Tijw4mJ4VAX6W8/xwXsEynwhygeify\n",
       "3lmOjUw5fNgKxN2b7swdPihWipnzyT18A99SUC5ZKVAyI7wyP2unxVaSoeFQuCJOaWsjR/0dlri3\n",
       "OGx/d8hi0gSEKlby3/dH5k663JdRa5y6g3BzqhDlW8MyEqXtIB8Yo9uFrq7sYcroL547Px3W0Pc2\n",
       "hd2sBIUE3qzCzRL9N8ob4lH/T8YGWE95EhCVL6jNgdaMc6Q5pmcchqJkD37ULncc4rouXU0XVkBN\n",
       "/xlEuMWQNHFBwccSVFQz4M7po8MP5xAPBXWobfhbMwxmzNFM+lXjoN1CYqYl4CWEdcDVJhLoN/SJ\n",
       "ODmB7YuxSIo+hvxRjsd5QNpkFYSksfLXvWS7fHL6pgc4lWNih3OJCaCBTlf4sBE0lbpoecKrx/sU\n",
       "iwr0K2yZeGuHD9oWwZgFEX8bYc/0zMQgHx0h2t+HvgokBWZop7foZj5i2YnmvF12CKUtzIghs2Rw\n",
       "O4fobi6z9GGDf+g9T3bA9qlqHYXv3fbvvjuBpUNxS/sYDUjmZHlYuY1TUDcnJqsMMKF+9uja9O1L\n",
       "5WZdeeqSeFxbIU5ejKvdTgG6Z2HK9cJn/vxW0OLJLoqoU09nLS4Xh8jrBVoahQ+dU6MH9gYF1IAf\n",
       "0QjWb06dx0kayR/37SM/Q/q2M9kkwm/xbakul4LXZh0WVUoBKke4COZN1qYcH+WIEWmAc8t/VZtg\n",
       "zTmn74/EpWs1DO12AkXr5pRDjwAHxsTL1wOe5In55ufc2DFrWhOhag7y5L41XmORliboDkFOMRii\n",
       "TcmLdKM+10TyDaLrxMKUEaSrXuFi+6R/cmcyF12E2wF/Zms/Iz8KHqyWDV++X8asfY0f0d1NQd08\n",
       "f6wNGQy3Hh/83oCiBKkOCxcHQcPtGqsJv6WUI9j+9b/+VBnV4ZNCjEpH+duy66tNSRjZf3ErbUQ8\n",
       "ls5bWRbxPP6ALzZfoMQQkHyxXYz0OlBypPco+3zKCqG3sufCx8sBBqvInM0Nb4YSXfGq6/LRCbJG\n",
       "BAODyG6ovjqhmBwZSnB02Opss5O4HF1y5o/zWvqI5h3PQRGdkh7ATsCxYLrgTbVzHXbeJ8B79T9s\n",
       "IEnPj32ni+ynlwPyXqkD1Bkna8/6MUzyxOmjngAUEQAADI4BnmJqQS8AE5w3fbgA/kJyQeX4ociU\n",
       "VV5rBZTCTROWA/i2xpM8gjzZfVcjaMhTIBVmo/4EmgcSd8VisWH/X8hu6BLVKI1R7yJ0nEANVxOm\n",
       "6dX4g/vVxo4QBKE7/df/jhLLH/YMNf2ZjcyRUhZaiz8AFU7JieUI5tNA+jV03Bzp3npKy+ssSX6L\n",
       "18+FirY5e8uiJ+7SImxWl0Ew8+mxIYiqr3U93VNbyZekYCk5hKiUgj/XfNHn6KqHMRlfR4hAZmKS\n",
       "fkbguisYgUFXacI9yRglnCGKPMHuhTcb+L2o0xtNFIfVlr1SAI2h6ovta79j/nKjhHG4xQdKxLD+\n",
       "pRWnLOlrhjCCgZo5Cv7q6Zmh6eJ64sYgoEq8EzoFpVk5Iv/9Knjt0JruFGQ35RVO3mDM4zpyAnwR\n",
       "EQv2RABwuvQVcMtZKLTmOJxZT9FqaPXWMrTUMPLbcXwVLIhp6in59zhgmNRLChD9JM2CGLxAKH0g\n",
       "gt4tmNq0YHh8ZJxVec4nk4I8yk/nRw3N8Xdsnn5PHuX7ZcNQKX7sEs4L+BOHurS/LtS9rx1b56Cj\n",
       "t8rHOLb2Pp4z3g2BZ/Nb7CFJe+bZUo+MJ82dkfNmwWbZCzq44m/LNGq76c6NN4VqChjo+tRp/1/J\n",
       "i0mOHMduT9XOmRkYJ7qyZl/F6c5cs5xdkX86ILNQsmaB93zGymiMC8PyED2RQP0qes8Li+DgeR31\n",
       "N5iuUh85gU05+D2xz3ji2TZ5c+IC8uPmIuGnCeVrT6eaDSX4DhZ4GDaTYU+OHzbS4deU+huj9wPD\n",
       "Pb8p3fRV8+CECkhMdKitJAsjEHRNtzNVxwxFkxTHV2MBKe0XUpfoJhbVOQGfYbyrydWhUdmX2Drt\n",
       "zwgHX3+eRw2dWJm4mcs0dplypNJgrsX+0L3lGFCGk6wgWH17SyIlX6oZmkaLKK0CNRKwWUTprNmZ\n",
       "uqWt/oR9ijhdKvmxpYk3uqnPjqDc9+mKYxsUFGFAKJU8oUs/r0nlMsLOGGj2zBUpOLMYm1+sLBym\n",
       "HmrSJzDbRPl2udNs8NSzrc+lsJuV/CMK93p904oogliZVtJ4BYJ1JiiuOzsOAJFaTDEW/HAKsj4x\n",
       "Mw9w7y7EQNGevNEruc2WRUYL5asap/BD10rx105MVubHHaIU7Ul7gt20ip8XkRQAbT4tebQ927zv\n",
       "huHqU+eiHzMVk6XHmTxxPdXz5M1D7rSJVu+POdce9pG7yLb5XeZ/stHcnitYJRrvz/68WU5ru7Ze\n",
       "KS5NkzjHc0fHbZiZVlaPLFVb+slp4XEzEhyHBahsaCd9veUqftHZ/a+5SZHgR0DfznqXVBey6Pm1\n",
       "kg0G49oJ/fTTMiQcVwDaSG+CUATiVkExWwE/3wbXFPD6cQn58OfluVcP3yem2wStPBBi2lK1vF0Y\n",
       "JIpG3v6MTgDbRs2yu8WfHxaVr8SB5ocmJ9EIJkwuUzScoL38cTA7cEHrn4bDrRX5CNIoS7pBEqDT\n",
       "WJN9KqKUoTEQ+YwvvhTLgOut4ClQJx3K9IWLTvCy9JcGENwodz2zSFNNpSzAzDUMISGJUVPFmhey\n",
       "Sf6wJfvDHLsW+YdrnB+d53N8WCObI0d8hn/EPu0vcP0TVm0DrRKrYhen81itT7m896yiQtouWjcs\n",
       "v1TEeozkU/5HxyQAMGvxhdDM9Q9pOoUW8fBYDdO7p+RoO2z8RYq9b4YaCAcbT3TMCIVdPejsTX8P\n",
       "T8DJM7pFel9Te2V8OqppO5NoLDIJnafVNYsSbV3OAAEEVPxziJSR+8cG0c1weSv65gk8MZQx25ov\n",
       "UjvoEgNCMQ1xSnNJoHWVTulp63AHYNzzXPHvnK1uZ/Fp7pMp57cIQvKO3x+CqNg5Npt2RXPm8ikV\n",
       "zCZ2Gd7tdeJJ3RcJSnsq8WHfJxPgy350IeBQ51BXGy3XDoaKwW/UKopxE7dxMEyI7Y+zuN1HPdxf\n",
       "QRfdaoCfTskbN6rTjosfecWlUNRxcUeos6Zv9LzYCrxPOuM44zrblgYDxazNV/DvKdepWVm60jl+\n",
       "AgdRxwKiF3nuwhV2BM2wCM0GcG3qP1G2xWVeyJExx2DyaQVWkGKwW4fX2vF5I38UBWQSUHDydW0L\n",
       "o6vDVMSMvZ4ff2bH2gzcX/Jg9QvON5NTTNC13s3iUswhqreQEBcI+96xnICNBgiYvVe5kRlvJ18a\n",
       "2HC8z3nC9tLGXOLK0emz8NNrQt0rnBN1tKvFiuT/3aYeqFk0LNMc4euW/iZAuqJCw4bZMLCGbVhL\n",
       "EcB/xsYI3Iuoj0+4ltdQzJgvu1nlAOrfP1JK9tx+TL98dCaIWFgJHRp1frMhsEWFYPbina/eFoiN\n",
       "h82m4ukKzkXEx523U744AkUIk1qbObW04vbcXmUVcMm92pGRcuCvp8YthI/lx9sBTE4n76TvPSCF\n",
       "9Rd6bejo+rEI/h84R9anaF9FAyaqigOLCJGZm8muVAc511cVm3Nn85wybjR6cF6kQvDOuxQqGOa4\n",
       "IA6KyMj4kd31lJSAs7sj/NVqvAeu1TqlvKvK2o9aDn0gDc6DCjCq55aJf5rWOhSs2AjRFy6h4a7n\n",
       "mPR7ZTzTjaOOkNcIGbeXkQG+vN6IAAt9OCSqKF0I11NvURessYPeG95gIs1Hecz7RcZ8hZP0NHHz\n",
       "qpupVIe2n+/h7R6h6FfthQ8dA3som0hDpQ715FAEpkLwKIVc6x/CNFpaTW9CfmTYCHg9s54ZF73k\n",
       "tE0Qsj3r+fwar/Nq47w9jCaV+NTCpCUJUVIUG0qLk9GUJ4skAPnOxhehAA2QcgwDkaLlSEe7PFBV\n",
       "Z11a67drSVzIEWUsNtLqMrtECeIldtRLXmee7KmQxBamsKzffMOUdBwpBzQ5ajEUZel3dRsGUvL3\n",
       "ALnOAvlecimRhLIVpor0RM0uId91QNUWQ6eF2G66KlhgPlNSk4SiVT/v8WKZen5S8WjfH4r0+gwU\n",
       "DzO1S2WujA4bacX5Ovv0dkazgZ0HecUDOgH458EdUgts85h6NqzIJHnB6tiRB3MAX8ldxLC9sJGn\n",
       "EaPRWnuDQLzEHvHN+9AiDEIlhsOmnEbCh2ZiYCHc6eUl+2sYK9EZzCgHPLi7pV8NK0MDdKDpqszD\n",
       "NB5s07yODD9BdCi3sfHHirUc313RsDy0kx7gVBkS3DHsmBJpTiCFOxQINlDel7ltFsgBDusWsLM+\n",
       "Yu22Wj/9Lb7/od4vrKUGwWQktebdteJbOimDLKeBl/D/dEOXpimm8d2GaFy3hpvDdkvVbV3amWDK\n",
       "ecVlONYzJ1UdAdowXX8QuZ9tUm02lBuNZLeMCYrtU0zxUFPsvf1Y2/RoOM7QRSBG5cG2rwWagVUK\n",
       "hCf7HCssf13KW+WO1WFrIU+Wj90UL0l4h5YsOSFnNgvUkKvvqNoFnW+TwDFiJTsIx1T3NV10MBvF\n",
       "iRRbhRgmLWfGFExw1iVtmxS0/Hh/JBELmnpU1Vyg5a3R9QIQd8f7eGw9flKt/pT10UvOnWIdpnzN\n",
       "5sS4XXUfF3o0SfptDDsdUcWeLxl2b3sZOjarZN7PNgqOHqLnlTtCuKs0utDDJ7XkggaTeP10bWop\n",
       "Sr3vJUxQZYGjLOQJdgnbSGuV0/OzjEu22R2mqGdB6cGgmUT6ngYbLjBQ4TwZguYz0BDkYf3Y8Z6M\n",
       "x9VtSAhBOykgHdY2hYeY6MyuVevPsKVV9kB1fIas/61xxCx3dFekM0Gccu/lbkY9Hml5J4vmc8O+\n",
       "Fw1ZblB4MPIgesUf1wArfiONG4B34oSJHjS2e//LQWuF7orO1knIIt81i+7UP0OcHul69APTXt35\n",
       "vXR+mC8XamcS+Y/FpvFDRUc++Wc1cCzdYfWEuyR0TlrA2um65vBC2AMCh0V8eQN41qWv9u+ifUGF\n",
       "2Zsg0nGLR3WCiBYIMCxcYoXXL4X+tpxtaO4aaCsKBEZnZ+o7FPiybp5v43N2huwvg7AK8lfS8GRb\n",
       "koMQ5YSoAya5v73OYFHS5BdHROZE4Ut/CAuYk4twZuY/sfIze8cXCsBQLSMvJ+UPOk9k5awktbC8\n",
       "AOZXCv4voyRm1Ez6rysb9QniQr4FzikKJ2baOVH/FIovaP53+5Mm3ip9m3JEIpZ7ewtTB0W03DOv\n",
       "X7GWjXWo1ouHgwEjPdvc8zlpt9aG20NKupQExO85MYp/1Pb3Z+i2VB16FmRiHJ6KYu81O9S2DYZo\n",
       "WHbRqBviNLtTCkDo/+55YwhlvOLiAmITv0VdMfwq4dwaLGFRJN/t4RZtRZ4ZH8VbpiSyYnaHu+K/\n",
       "2uDHISa66V6BGpGPt8Dswhp1qcC2RST6uQgl9WMHlTFNiZHcAPCvAqbOLL9Fak6JLAcPQIrRgLyA\n",
       "AAADV21vb3YAAABsbXZoZAAAAAAAAAAAAAAAAAAAA+gAAAfQAAEAAAEAAAAAAAAAAAAAAAABAAAA\n",
       "AAAAAAAAAAAAAAAAAQAAAAAAAAAAAAAAAAAAQAAAAAAAAAAAAAAAAAAAAAAAAAAAAAAAAAAAAAAA\n",
       "AAIAAAKBdHJhawAAAFx0a2hkAAAAAwAAAAAAAAAAAAAAAQAAAAAAAAfQAAAAAAAAAAAAAAAAAAAA\n",
       "AAABAAAAAAAAAAAAAAAAAAAAAQAAAAAAAAAAAAAAAAAAQAAAAAUQAAABsAAAAAAAJGVkdHMAAAAc\n",
       "ZWxzdAAAAAAAAAABAAAH0AAAQAAAAQAAAAAB+W1kaWEAAAAgbWRoZAAAAAAAAAAAAAAAAAAAQAAA\n",
       "AIAAVcQAAAAAAC1oZGxyAAAAAAAAAAB2aWRlAAAAAAAAAAAAAAAAVmlkZW9IYW5kbGVyAAAAAaRt\n",
       "aW5mAAAAFHZtaGQAAAABAAAAAAAAAAAAAAAkZGluZgAAABxkcmVmAAAAAAAAAAEAAAAMdXJsIAAA\n",
       "AAEAAAFkc3RibAAAALRzdHNkAAAAAAAAAAEAAACkYXZjMQAAAAAAAAABAAAAAAAAAAAAAAAAAAAA\n",
       "AAUQAbAASAAAAEgAAAAAAAAAAQAAAAAAAAAAAAAAAAAAAAAAAAAAAAAAAAAAAAAAAAAAABj//wAA\n",
       "ADJhdmNDAWQAH//hABlnZAAfrNlAUQ3oQAAAAwBAAAADAQPGDGWAAQAGaOvjyyLAAAAAHHV1aWRr\n",
       "aEDyXyRPxbo5pRvPAyPzAAAAAAAAABhzdHRzAAAAAAAAAAEAAAAEAAAgAAAAABRzdHNzAAAAAAAA\n",
       "AAEAAAABAAAAKGN0dHMAAAAAAAAAAwAAAAEAAEAAAAAAAQAAgAAAAAACAAAgAAAAABxzdHNjAAAA\n",
       "AAAAAAEAAAABAAAABAAAAAEAAAAkc3RzegAAAAAAAAAAAAAABAAAe24AAB/GAAAV+wAADJIAAAAU\n",
       "c3RjbwAAAAAAAAABAAAALAAAAGJ1ZHRhAAAAWm1ldGEAAAAAAAAAIWhkbHIAAAAAAAAAAG1kaXJh\n",
       "cHBsAAAAAAAAAAAAAAAALWlsc3QAAAAlqXRvbwAAAB1kYXRhAAAAAQAAAABMYXZmNTcuODMuMTAw\n",
       "\">\n",
       "  Your browser does not support the video tag.\n",
       "</video>"
      ],
      "text/plain": [
       "<IPython.core.display.HTML object>"
      ]
     },
     "metadata": {},
     "output_type": "display_data"
    },
    {
     "data": {
      "image/png": "[encoded data removed]",
      "text/plain": [
       "<Figure size 432x288 with 2 Axes>"
      ]
     },
     "metadata": {
      "needs_background": "light"
     },
     "output_type": "display_data"
    }
   ],
   "source": [
    "ref_weights_history = []\n",
    "my_weights_history = []\n",
    "ref_means_history = []\n",
    "my_means_history = []\n",
    "plotting_grammar = SpatialSceneGrammar(\n",
    "    root_node_type = Root,\n",
    "    root_node_tf = torch.eye(4)\n",
    ")\n",
    "for k in range(N_steps):\n",
    "    ref_gmm = convert_grammar_to_gmm(gmm_fit_grammars[k])\n",
    "    ref_weights_history.append(ref_gmm.weights_)\n",
    "    ref_means_history.append(ref_gmm.means_)\n",
    "    print(\"ref weights: \", ref_gmm.weights_)\n",
    "    plotting_grammar.load_state_dict(em_history.grammar_iters[k])\n",
    "    my_gmm = convert_grammar_to_gmm(plotting_grammar)\n",
    "    my_weights_history.append(my_gmm.weights_)\n",
    "    my_means_history.append(my_gmm.means_)\n",
    "    \n",
    "plt.figure()\n",
    "plt.subplot(2, 1, 1)\n",
    "plt.title(\"Ref\")\n",
    "ref_weight_history = np.stack(ref_weights_history)\n",
    "plt.plot(ref_weight_history, label=\"Reference\")\n",
    "plt.ylim([0., 1.])\n",
    "plt.subplot(2, 1, 2)\n",
    "plt.title(\"Mine\")\n",
    "my_weight_history = np.stack(my_weights_history)\n",
    "plt.plot(my_weight_history, label=\"Mine\")\n",
    "plt.ylim([0., 1.])\n",
    "plt.tight_layout()\n",
    "\n",
    "print(ref_means_history)\n",
    "print(my_means_history)\n",
    "    \n",
    "fig, axs = plt.subplots(2, 3)\n",
    "#fig.set_dpi(100)\n",
    "\n",
    "fig.set_size_inches(18, 6)\n",
    "plt.suptitle(\"MIP-parse + EM fit\")\n",
    "def update(frame):\n",
    "    plotting_grammar.load_state_dict(em_history.grammar_iters[frame])\n",
    "    for ax in axs.flatten():\n",
    "        ax.cla()\n",
    "    make_figure_for_grammar(plotting_grammar, X, axs[0, :])\n",
    "    make_figure_for_grammar(gmm_fit_grammars[frame], X, axs[1, :])\n",
    "    plt.suptitle(\"Mine (top), baseline (bottom), iter %02d\" % frame)\n",
    "    for ax in axs.flatten():\n",
    "        ax.set_xlim([-10., 10.])\n",
    "        ax.set_ylim([0., 0.7])\n",
    "ani = FuncAnimation(fig, update, frames=range(len(em_history.grammar_iters)), blit=False, interval=500.)\n",
    "video = ani.to_html5_video()\n",
    "html = display.HTML(video)\n",
    "display.display(html)\n",
    "plt.close()              \n"
   ]
  },
  {
   "cell_type": "code",
   "execution_count": 23,
   "metadata": {},
   "outputs": [
    {
     "name": "stdout",
     "output_type": "stream",
     "text": [
      "Starting setup.\n",
      "Activation vars allocated.\n",
      "Continuous variables and SO(3) constraints allocated for all equivalence sets.\n",
      "Setup time:  0.016243457794189453\n",
      "Num vars:  40\n",
      "Num constraints:  141\n",
      "Optimization success?:  True\n",
      "Logfile: \n",
      "\n",
      "Gurobi 9.0.2 (linux64) logging started Mon Jan 10 20:59:55 2022\n",
      "\n",
      "Gurobi Optimizer version 9.0.2 build v9.0.2rc0 (linux64)\n",
      "Optimize a model with 126 rows, 40 columns and 395 nonzeros\n",
      "Model fingerprint: 0xa059bac3\n",
      "Model has 9 quadratic objective terms\n",
      "Variable types: 30 continuous, 10 integer (10 binary)\n",
      "Coefficient statistics:\n",
      "  Matrix range     [1e-01, 5e+01]\n",
      "  Objective range  [5e-01, 2e+01]\n",
      "  QObjective range [1e-01, 1e+06]\n",
      "  Bounds range     [1e+00, 2e+01]\n",
      "  RHS range        [1e+00, 5e+01]\n",
      "Presolve removed 53 rows and 19 columns\n",
      "Presolve time: 0.00s\n",
      "Presolved: 73 rows, 21 columns, 255 nonzeros\n",
      "Variable types: 18 continuous, 3 integer (3 binary)\n",
      "\n",
      "Root relaxation: objective 2.991726e+01, 22 iterations, 0.00 seconds\n",
      "\n",
      "    Nodes    |    Current Node    |     Objective Bounds      |     Work\n",
      " Expl Unexpl |  Obj  Depth IntInf | Incumbent    BestBd   Gap | It/Node Time\n",
      "\n",
      "*    0     0               0      29.9172635   29.91726  0.00%     -    0s\n",
      "\n",
      "Optimal solution found at node 0 - now completing solution pool...\n",
      "\n",
      "    Nodes    |    Current Node    |      Pool Obj. Bounds     |     Work\n",
      "             |                    |   Worst                   |\n",
      " Expl Unexpl |  Obj  Depth IntInf | Incumbent    BestBd   Gap | It/Node Time\n",
      "\n",
      "     0     0          -    0               -   29.91726      -     -    0s\n",
      "     0     0          -    0               -   29.91726      -     -    0s\n",
      "     0     2          -    0               -   29.91726      -     -    0s\n",
      "\n",
      "Explored 5 nodes (40 simplex iterations) in 0.04 seconds\n",
      "Thread count was 12 (of 12 available processors)\n",
      "\n",
      "Solution count 3: 29.9173 125.276 5.43138e+07 \n",
      "No other solutions better than 5.43138e+07\n",
      "\n",
      "Optimal solution found (tolerance 1.00e-03)\n",
      "Best objective 2.991726350622e+01, best bound 2.991726350622e+01, gap 0.0000%\n",
      "\n",
      "Solve time:  0.07395672798156738\n",
      "Total time:  0.09020018577575684\n",
      "tensor([-29.9173]) [<spatial_scene_grammars_examples.gmm.grammar.Root object at 0x7fafb6e728d0>, <spatial_scene_grammars_examples.gmm.grammar.GaussianMode_1 object at 0x7fafad840d30>, <spatial_scene_grammars_examples.gmm.grammar.Point object at 0x7fb0b70a9c18>]\n",
      "tensor([-125.2761]) [<spatial_scene_grammars_examples.gmm.grammar.Root object at 0x7fafad840438>, <spatial_scene_grammars_examples.gmm.grammar.GaussianMode_2 object at 0x7fafad840278>, <spatial_scene_grammars_examples.gmm.grammar.Point object at 0x7fafad840470>]\n",
      "tensor([-54313776.1586]) [<spatial_scene_grammars_examples.gmm.grammar.Root object at 0x7fb0b74eb710>, <spatial_scene_grammars_examples.gmm.grammar.GaussianMode_0 object at 0x7fb0b74eb1d0>, <spatial_scene_grammars_examples.gmm.grammar.Point object at 0x7fb0b73bbdd8>]\n"
     ]
    }
   ],
   "source": [
    "inference_results = infer_mle_tree_with_mip(\n",
    "        grammar_fit_grammar, [Point(tf=drake_tf_to_torch_tf(RigidTransform(p=[9., 3., 5.])))], verbose=True,\n",
    "        max_scene_extent_in_any_dir=20,\n",
    "        N_solutions=3\n",
    ")\n",
    "mip_optimized_trees = get_optimized_trees_from_mip_results(inference_results)\n",
    "for k in range(3):\n",
    "    print(mip_optimized_trees[k].score(), mip_optimized_trees[k].nodes)"
   ]
  },
  {
   "cell_type": "code",
   "execution_count": null,
   "metadata": {},
   "outputs": [],
   "source": []
  }
 ],
 "metadata": {
  "kernelspec": {
   "display_name": "py36_pyro",
   "language": "python",
   "name": "py36_pyro"
  },
  "language_info": {
   "codemirror_mode": {
    "name": "ipython",
    "version": 3
   },
   "file_extension": ".py",
   "mimetype": "text/x-python",
   "name": "python",
   "nbconvert_exporter": "python",
   "pygments_lexer": "ipython3",
   "version": "3.6.13"
  }
 },
 "nbformat": 4,
 "nbformat_minor": 4
}
