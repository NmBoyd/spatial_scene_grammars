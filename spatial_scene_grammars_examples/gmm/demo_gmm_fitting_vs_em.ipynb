{
 "cells": [
  {
   "cell_type": "code",
   "execution_count": 149,
   "metadata": {},
   "outputs": [
    {
     "name": "stderr",
     "output_type": "stream",
     "text": [
      "WARNING:root:context has already been set\n"
     ]
    },
    {
     "name": "stdout",
     "output_type": "stream",
     "text": [
      "The autoreload extension is already loaded. To reload it, use:\n",
      "  %reload_ext autoreload\n"
     ]
    }
   ],
   "source": [
    "%load_ext autoreload\n",
    "%autoreload 2\n",
    "\n",
    "import matplotlib.pyplot as plt\n",
    "import networkx as nx\n",
    "import numpy as np\n",
    "import os\n",
    "import pickle\n",
    "import time\n",
    "from tqdm.notebook import tqdm\n",
    "\n",
    "import torch\n",
    "torch.set_default_tensor_type(torch.DoubleTensor)\n",
    "\n",
    "from spatial_scene_grammars.nodes import *\n",
    "from spatial_scene_grammars.rules import *\n",
    "from spatial_scene_grammars.scene_grammar import *\n",
    "from spatial_scene_grammars.visualization import *\n",
    "from spatial_scene_grammars_examples.gmm.grammar import *\n",
    "from spatial_scene_grammars.parsing import *\n",
    "from spatial_scene_grammars.sampling import *\n",
    "from spatial_scene_grammars.parameter_estimation import *"
   ]
  },
  {
   "cell_type": "code",
   "execution_count": 150,
   "metadata": {},
   "outputs": [
    {
     "name": "stdout",
     "output_type": "stream",
     "text": [
      "GT rule probs:  tensor([0.4000, 0.4000, 0.2000], grad_fn=<DivBackward0>)\n",
      "GT Mode 0: [-5. -5. -5.] +/- [0.5 0.5 0.5]\n",
      "GT Mode 1: [5. 5. 5.] +/- [0.25 0.25 0.25]\n",
      "GT Mode 2: [-2. -2. -2.] +/- [2. 2. 2.]\n",
      "Pre-fit rule probs:  tensor([0.2995, 0.1439, 0.5566], grad_fn=<DivBackward0>)\n",
      "Pre-fit Mode 0: [-3. -3. -3.] +/- [0.1 0.1 0.1]\n",
      "Pre-fit Mode 1: [0. 0. 0.] +/- [0.1 0.1 0.1]\n",
      "Pre-fit Mode 2: [3. 3. 3.] +/- [0.1 0.1 0.1]\n"
     ]
    },
    {
     "data": {
      "application/vnd.jupyter.widget-view+json": {
       "model_id": "6efd2e57d4cb4f878d16a74112f56b73",
       "version_major": 2,
       "version_minor": 0
      },
      "text/plain": [
       "  0%|          | 0/1000 [00:00<?, ?it/s]"
      ]
     },
     "metadata": {},
     "output_type": "display_data"
    },
    {
     "data": {
      "application/vnd.jupyter.widget-view+json": {
       "model_id": "17797b8766374d5c8329cfd3be2bd7c5",
       "version_major": 2,
       "version_minor": 0
      },
      "text/plain": [
       "  0%|          | 0/1000 [00:00<?, ?it/s]"
      ]
     },
     "metadata": {},
     "output_type": "display_data"
    },
    {
     "data": {
      "image/png": "[encoded data removed]",
      "text/plain": [
       "<Figure size 432x288 with 3 Axes>"
      ]
     },
     "metadata": {
      "needs_background": "light"
     },
     "output_type": "display_data"
    }
   ],
   "source": [
    "# Make the ground truth GMM grammar.\n",
    "gt_grammar =SpatialSceneGrammar(\n",
    "    root_node_type = Root,\n",
    "    root_node_tf = torch.eye(4),\n",
    "    sample_params_from_prior=True\n",
    ")\n",
    "# Reset params to values we control (different from prior).\n",
    "desired_mode_means = [\n",
    "    torch.tensor([-5., -5., -5.]),\n",
    "    torch.tensor([5., 5., 5.]),\n",
    "    torch.tensor([-2., -2., -2.])\n",
    "]\n",
    "desired_mode_vars = [\n",
    "    torch.tensor([0.5, 0.5, 0.5]),\n",
    "    torch.tensor([0.25, 0.25, 0.25]),\n",
    "    torch.tensor([2., 2., 2.])\n",
    "]\n",
    "desired_mode_weights = torch.tensor([0.4, 0.4, 0.2])\n",
    "rule_probs_param = gt_grammar.params_by_node_type[Root.__name__]\n",
    "rule_probs_param.set(desired_mode_weights)\n",
    "print(\"GT rule probs: \", rule_probs_param())\n",
    "for k, mode in enumerate(Modes):\n",
    "    mode_name = mode.__name__\n",
    "    mean_param = gt_grammar.rule_params_by_node_type[mode_name][0][0][\"mean\"]\n",
    "    mean_param.set(desired_mode_means[k])\n",
    "    var_param = gt_grammar.rule_params_by_node_type[mode_name][0][0][\"variance\"]\n",
    "    var_param.set(desired_mode_vars[k])\n",
    "    print(\"GT Mode %d: %s +/- %s\" % (k, mean_param().detach().numpy(), var_param().detach().numpy()))\n",
    "\n",
    "# Make our fitting grammar. This'll also have randomly sampled means + vars, but\n",
    "# different ones.\n",
    "torch.random.manual_seed(2)\n",
    "fit_grammar = SpatialSceneGrammar(\n",
    "    root_node_type = Root,\n",
    "    root_node_tf = torch.eye(4),\n",
    "    sample_params_from_prior=True\n",
    ")\n",
    "#fit_grammar = deepcopy(gt_grammar)\n",
    "pre_fit_grammar = deepcopy(fit_grammar)\n",
    "rule_probs_param = pre_fit_grammar.params_by_node_type[Root.__name__]\n",
    "print(\"Pre-fit rule probs: \", rule_probs_param())\n",
    "for k, mode in enumerate(Modes):\n",
    "    mode_name = mode.__name__\n",
    "    mean_param = fit_grammar.rule_params_by_node_type[mode_name][0][0][\"mean\"]\n",
    "    mean_param.set((torch.ones(3)*k - torch.ones(3)) * 3.)\n",
    "    var_param = fit_grammar.rule_params_by_node_type[mode_name][0][0][\"variance\"]\n",
    "    var_param.set(torch.ones(3) * 0.1)\n",
    "    print(\"Pre-fit Mode %d: %s +/- %s\" % (k, mean_param().detach().numpy(), var_param().detach().numpy()))\n",
    "\n",
    "\n",
    "def get_all_node_xyzs(sampled_trees, node_type):\n",
    "    l = []\n",
    "    for tree in sampled_trees:\n",
    "        for node in tree:\n",
    "            if isinstance(node, node_type):\n",
    "                l.append(node.translation.detach().cpu().numpy())\n",
    "    return np.stack(l)\n",
    "\n",
    "# Draw random samples from our randomly-initialized GMM\n",
    "def get_draws_from_grammar(grammar, N_samples):\n",
    "    samples = []\n",
    "    for k in tqdm(range(N_samples)):\n",
    "        tree = grammar.sample_tree(detach=True)\n",
    "        observed_nodes = tree.get_observed_nodes()\n",
    "        samples.append((tree, observed_nodes))\n",
    "    return samples\n",
    "\n",
    "gt_samples = get_draws_from_grammar(gt_grammar, 1000)\n",
    "pre_fit_samples = get_draws_from_grammar(fit_grammar, 1000)\n",
    "l_gt = get_all_node_xyzs([sample[0] for sample in gt_samples], Point)\n",
    "l_pre_fit = get_all_node_xyzs([sample[0] for sample in pre_fit_samples], Point)\n",
    "for k, label in enumerate(\"xyz\"):\n",
    "    plt.subplot(1, 3, k+1)\n",
    "    plt.hist(l_gt[:, k], bins=50, label=\"GT\", alpha=0.5)\n",
    "    plt.hist(l_pre_fit[:, k], bins=50, label=\"Pre fit\", alpha=0.5)\n",
    "    plt.title(label)\n",
    "    if k == 2:\n",
    "        plt.legend()"
   ]
  },
  {
   "cell_type": "code",
   "execution_count": 209,
   "metadata": {},
   "outputs": [
    {
     "name": "stderr",
     "output_type": "stream",
     "text": [
      "WARNING:root:context has already been set\n"
     ]
    },
    {
     "data": {
      "application/vnd.jupyter.widget-view+json": {
       "model_id": "a97d91d6127c4ea9bfd2cbc7c0eb8ceb",
       "version_major": 2,
       "version_minor": 0
      },
      "text/plain": [
       "  0%|          | 0/100 [00:00<?, ?it/s]"
      ]
     },
     "metadata": {},
     "output_type": "display_data"
    },
    {
     "data": {
      "image/png": "[encoded data removed]",
      "text/plain": [
       "<Figure size 432x288 with 3 Axes>"
      ]
     },
     "metadata": {
      "needs_background": "light"
     },
     "output_type": "display_data"
    }
   ],
   "source": [
    "torch.random.manual_seed(43)\n",
    "N_fit_samples = 100\n",
    "\n",
    "# Draw an actual fitting dataset.\n",
    "samples = get_draws_from_grammar(gt_grammar, N_fit_samples)\n",
    "\n",
    "l_gt = get_all_node_xyzs([sample[0] for sample in gt_samples], Point)\n",
    "l_train = get_all_node_xyzs([sample[0] for sample in samples], Point)\n",
    "plt.figure()\n",
    "for k, label in enumerate(\"xyz\"):\n",
    "    plt.subplot(1, 3, k+1)\n",
    "    plt.hist(l_train[:, k], label=\"Train\", alpha=0.5, bins=50, density=True)\n",
    "    plt.hist(l_gt[:, k], label=\"GT\", alpha=0.5, bins=50, density=True)\n",
    "    if k == 2:\n",
    "        plt.legend()"
   ]
  },
  {
   "cell_type": "code",
   "execution_count": 210,
   "metadata": {},
   "outputs": [
    {
     "name": "stdout",
     "output_type": "stream",
     "text": [
      "EM fit rule probs:  tensor([0.4700, 0.4302, 0.0998], grad_fn=<DivBackward0>)\n",
      "EM-fit Mode 2: Parameter containing:\n",
      "tensor([4.9917, 5.0070, 5.0496], requires_grad=True) +/- tensor([0.1947, 0.2344, 0.1816], grad_fn=<AddBackward0>)\n",
      "EM-fit Mode 2: Parameter containing:\n",
      "tensor([-4.2707, -4.5757, -4.2841], requires_grad=True) +/- tensor([2.1151, 0.7433, 1.9846], grad_fn=<AddBackward0>)\n",
      "EM-fit Mode 2: Parameter containing:\n",
      "tensor([-2.6013, -1.5080, -2.2698], requires_grad=True) +/- tensor([1.4390, 0.3470, 1.8269], grad_fn=<AddBackward0>)\n"
     ]
    },
    {
     "data": {
      "application/vnd.jupyter.widget-view+json": {
       "model_id": "0056ed12a9404fe79113d0a001e223bc",
       "version_major": 2,
       "version_minor": 0
      },
      "text/plain": [
       "  0%|          | 0/1000 [00:00<?, ?it/s]"
      ]
     },
     "metadata": {},
     "output_type": "display_data"
    },
    {
     "data": {
      "application/vnd.jupyter.widget-view+json": {
       "model_id": "9765329120f54f02b95d43018d6f3dfb",
       "version_major": 2,
       "version_minor": 0
      },
      "text/plain": [
       "  0%|          | 0/1000 [00:00<?, ?it/s]"
      ]
     },
     "metadata": {},
     "output_type": "display_data"
    },
    {
     "data": {
      "image/png": "[encoded data removed]",
      "text/plain": [
       "<Figure size 432x288 with 3 Axes>"
      ]
     },
     "metadata": {
      "needs_background": "light"
     },
     "output_type": "display_data"
    }
   ],
   "source": [
    "# Hand-written EM baseline for GMM: estimate cluster\n",
    "# association weights, and then apply a closed form update\n",
    "# to get new best cluster mean and vars. (Like a \"soft\"\n",
    "# k-mean.)\n",
    "\n",
    "# Initialize param guesses from pre-fit grammar\n",
    "param_guesses = {\n",
    "    \"mode_weights\": pre_fit_grammar.params_by_node_type[Root.__name__]().detach()\n",
    "}\n",
    "for mode in Modes:\n",
    "    mode_name = mode.__name__\n",
    "    mean = pre_fit_grammar.rule_params_by_node_type[mode_name][0][0][\"mean\"]().detach()\n",
    "    var = pre_fit_grammar.rule_params_by_node_type[mode_name][0][0][\"variance\"]().detach()\n",
    "    param_guesses[mode_name] = {\n",
    "        \"mean\": mean,\n",
    "        \"var\": var\n",
    "    }\n",
    "\n",
    "N_iters = 10\n",
    "points = torch.stack([sample[1][0].translation for sample in samples]) # N x 3\n",
    "for iter_k in range(N_iters):\n",
    "    # Associate each sample with the MAP cluster\n",
    "    dists = [\n",
    "        dist.Normal(\n",
    "            param_guesses[mode.__name__][\"mean\"],\n",
    "            param_guesses[mode.__name__][\"var\"])\n",
    "        for mode in Modes\n",
    "    ]\n",
    "    # Get scores for each mode for each point.\n",
    "    point_log_probs = torch.stack([\n",
    "        dist.log_prob(points).sum(axis=1) for dist in dists\n",
    "    ], axis=-1) # N x N_dists\n",
    "    # Multiply in prob of that cluster being active\n",
    "    point_log_probs = point_log_probs + param_guesses[\"mode_weights\"]\n",
    "    # Normalize for a given point\n",
    "    point_log_probs = (point_log_probs.T - torch.logsumexp(point_log_probs, axis=-1)).T\n",
    "    w = torch.exp(point_log_probs)\n",
    "    \n",
    "    # New weight guesses are average of weights\n",
    "    new_weights = torch.mean(w, axis=0) + 1E-4\n",
    "    new_weights = new_weights / torch.sum(new_weights)\n",
    "    param_guesses[\"mode_weights\"] = new_weights\n",
    "    # New mean is weighted sum of observed locations\n",
    "    for k, mode in enumerate(Modes):\n",
    "        new_mean = torch.sum(w[:, k] * points.T, axis=1) / torch.sum(w[:, k])\n",
    "        offsets = points - new_mean\n",
    "        new_var = torch.sum(w[:, k] * torch.square(offsets).T, axis=1) / torch.sum(w[:, k]) + 1E-4\n",
    "        param_guesses[mode.__name__][\"mean\"] = new_mean\n",
    "        param_guesses[mode.__name__][\"var\"] = new_var\n",
    "# Make an EM-fit grammar with those params\n",
    "em_fit_grammar = deepcopy(pre_fit_grammar)\n",
    "rule_probs_param = em_fit_grammar.params_by_node_type[Root.__name__]\n",
    "rule_probs_param.set(param_guesses[\"mode_weights\"])\n",
    "print(\"EM fit rule probs: \", rule_probs_param())\n",
    "for mode in Modes:\n",
    "    mode_name = mode.__name__\n",
    "    mean_param = em_fit_grammar.rule_params_by_node_type[mode_name][0][0][\"mean\"]\n",
    "    var_param = em_fit_grammar.rule_params_by_node_type[mode_name][0][0][\"variance\"]\n",
    "    mean_param.set(param_guesses[mode_name][\"mean\"])\n",
    "    var_param.set(param_guesses[mode_name][\"var\"])\n",
    "    print(\"EM-fit Mode %d: %s +/- %s\" % (k, mean_param(), var_param()))\n",
    "    \n",
    "# Draw its empirical fit\n",
    "gt_samples = get_draws_from_grammar(gt_grammar, 1000)\n",
    "em_fit_samples = get_draws_from_grammar(em_fit_grammar, 1000)\n",
    "l_gt = get_all_node_xyzs([sample[0] for sample in gt_samples], Point)\n",
    "l_em_fit = get_all_node_xyzs([sample[0] for sample in em_fit_samples], Point)\n",
    "l_train = get_all_node_xyzs([sample[0] for sample in samples], Point)\n",
    "for k, label in enumerate(\"xyz\"):\n",
    "    plt.subplot(1, 3, k+1)\n",
    "    #plt.hist(l_gt[:, k], bins=100, label=\"GT\", alpha=0.5, density=True)\n",
    "    plt.hist(l_em_fit[:, k], bins=50, label=\"EM fit\", alpha=0.5, density=True)\n",
    "    plt.hist(l_train[:, k], bins=50, label=\"Train\", alpha=0.5, density=True)\n",
    "    plt.title(label)\n",
    "    if k == 2:\n",
    "        plt.legend()"
   ]
  },
  {
   "cell_type": "markdown",
   "metadata": {},
   "source": [
    "# One-shot parsing with MAP point latent estimates"
   ]
  },
  {
   "cell_type": "code",
   "execution_count": 211,
   "metadata": {},
   "outputs": [
    {
     "data": {
      "application/vnd.jupyter.widget-view+json": {
       "model_id": "8d3c69dbe1d74c62a5607e151b8d91cd",
       "version_major": 2,
       "version_minor": 0
      },
      "text/plain": [
       "  0%|          | 0/3 [00:00<?, ?it/s]"
      ]
     },
     "metadata": {},
     "output_type": "display_data"
    },
    {
     "name": "stdout",
     "output_type": "stream",
     "text": [
      "********* 0 *********\n",
      "One shot fit rule probs:  tensor([0.2995, 0.1439, 0.5566], grad_fn=<DivBackward0>)\n",
      "One shot-fit Mode 2: Parameter containing:\n",
      "tensor([-0.9498,  1.2456,  1.0833], requires_grad=True) +/- tensor([7.0676, 7.9453, 6.9533], grad_fn=<AddBackward0>)\n",
      "One shot-fit Mode 2: Parameter containing:\n",
      "tensor([-1.3265, -1.2413, -0.1028], requires_grad=True) +/- tensor([9.4140, 1.9705, 7.5793], grad_fn=<AddBackward0>)\n",
      "One shot-fit Mode 2: Parameter containing:\n",
      "tensor([-0.6332, -0.1633,  1.5277], requires_grad=True) +/- tensor([4.6226, 0.8209, 6.8300], grad_fn=<AddBackward0>)\n"
     ]
    },
    {
     "data": {
      "application/vnd.jupyter.widget-view+json": {
       "model_id": "c37114d078d74d0ba3ef698cc15fa23b",
       "version_major": 2,
       "version_minor": 0
      },
      "text/plain": [
       "Getting MAP parses:   0%|          | 0/100 [00:00<?, ?it/s]"
      ]
     },
     "metadata": {},
     "output_type": "display_data"
    },
    {
     "name": "stdout",
     "output_type": "stream",
     "text": [
      "********* 1 *********\n",
      "One shot fit rule probs:  tensor([0.6785, 0.2821, 0.0395], grad_fn=<DivBackward0>)\n",
      "One shot-fit Mode 2: Parameter containing:\n",
      "tensor([2.1911, 2.0609, 2.2310], requires_grad=True) +/- tensor([10.0000, 10.0000, 10.0000], grad_fn=<AddBackward0>)\n",
      "One shot-fit Mode 2: Parameter containing:\n",
      "tensor([-4.0492, -3.9460, -4.0314], requires_grad=True) +/- tensor([2.2344, 1.4675, 2.2336], grad_fn=<AddBackward0>)\n",
      "One shot-fit Mode 2: Parameter containing:\n",
      "tensor([-2.4115, -1.2887, -1.8425], requires_grad=True) +/- tensor([1.2833, 0.3999, 2.1415], grad_fn=<AddBackward0>)\n"
     ]
    },
    {
     "data": {
      "application/vnd.jupyter.widget-view+json": {
       "model_id": "b0c4adce5e77424797778dd0a5f30e3b",
       "version_major": 2,
       "version_minor": 0
      },
      "text/plain": [
       "Getting MAP parses:   0%|          | 0/100 [00:00<?, ?it/s]"
      ]
     },
     "metadata": {},
     "output_type": "display_data"
    },
    {
     "name": "stdout",
     "output_type": "stream",
     "text": [
      "********* 2 *********\n",
      "One shot fit rule probs:  tensor([0.5024, 0.4426, 0.0550], grad_fn=<DivBackward0>)\n",
      "One shot-fit Mode 2: Parameter containing:\n",
      "tensor([4.6003, 4.5151, 4.6718], requires_grad=True) +/- tensor([2.4555, 3.8398, 2.3430], grad_fn=<AddBackward0>)\n",
      "One shot-fit Mode 2: Parameter containing:\n",
      "tensor([-4.3399, -4.4220, -4.3455], requires_grad=True) +/- tensor([1.7195, 1.1928, 1.5576], grad_fn=<AddBackward0>)\n",
      "One shot-fit Mode 2: Parameter containing:\n",
      "tensor([-2.5617, -1.3941, -2.1784], requires_grad=True) +/- tensor([0.9737, 0.3880, 1.1833], grad_fn=<AddBackward0>)\n"
     ]
    },
    {
     "data": {
      "application/vnd.jupyter.widget-view+json": {
       "model_id": "5af5fe06b0cc456d9a88638f0fe069b8",
       "version_major": 2,
       "version_minor": 0
      },
      "text/plain": [
       "Getting MAP parses:   0%|          | 0/100 [00:00<?, ?it/s]"
      ]
     },
     "metadata": {},
     "output_type": "display_data"
    },
    {
     "name": "stdout",
     "output_type": "stream",
     "text": [
      "Fitting should be done\n"
     ]
    }
   ],
   "source": [
    "# Do single-shot fitting of grammar params based on just the optimal parses\n",
    "# Use SVI wrapper to collect MAP trees (maybe this should be split out)\n",
    "one_shot_fit_grammar = deepcopy(pre_fit_grammar)\n",
    "\n",
    "for iter in tqdm(range(3)):\n",
    "    rule_probs_param = one_shot_fit_grammar.params_by_node_type[Root.__name__]\n",
    "    print(\"********* %d *********\" % iter)\n",
    "    print(\"One shot fit rule probs: \", rule_probs_param())\n",
    "    for mode in Modes:\n",
    "        mode_name = mode.__name__\n",
    "        mean_param = one_shot_fit_grammar.rule_params_by_node_type[mode_name][0][0][\"mean\"]\n",
    "        var_param = one_shot_fit_grammar.rule_params_by_node_type[mode_name][0][0][\"variance\"]\n",
    "        print(\"One shot-fit Mode %d: %s +/- %s\" % (k, mean_param(), var_param()))\n",
    "\n",
    "    svi = SVIWrapper(one_shot_fit_grammar, [sample[1] for sample in samples])\n",
    "    refined_tree_sets = svi.get_map_trees(N_solutions=3, tqdm=tqdm)\n",
    "    one_shot_fit_grammar = fit_grammar_params_to_sample_sets_with_uninformative_prior(one_shot_fit_grammar, refined_tree_sets, weight_by_sample_prob=True)\n",
    "print(\"Fitting should be done\")"
   ]
  },
  {
   "cell_type": "code",
   "execution_count": 212,
   "metadata": {},
   "outputs": [
    {
     "name": "stdout",
     "output_type": "stream",
     "text": [
      "One shot fit rule probs:  tensor([0.4700, 0.4361, 0.0939], grad_fn=<DivBackward0>)\n",
      "One shot-fit Mode 2: Parameter containing:\n",
      "tensor([4.9917, 5.0070, 5.0496], requires_grad=True) +/- tensor([0.1948, 0.2345, 0.1816], grad_fn=<AddBackward0>)\n",
      "One shot-fit Mode 2: Parameter containing:\n",
      "tensor([-4.3051, -4.5107, -4.3342], requires_grad=True) +/- tensor([2.0001, 0.9481, 1.7342], grad_fn=<AddBackward0>)\n",
      "One shot-fit Mode 2: Parameter containing:\n",
      "tensor([-2.3376, -1.6184, -1.9115], requires_grad=True) +/- tensor([1.1485, 0.6040, 1.6483], grad_fn=<AddBackward0>)\n"
     ]
    },
    {
     "data": {
      "application/vnd.jupyter.widget-view+json": {
       "model_id": "a93ffb21d8a64c789d3d4d4c8d656db2",
       "version_major": 2,
       "version_minor": 0
      },
      "text/plain": [
       "  0%|          | 0/1000 [00:00<?, ?it/s]"
      ]
     },
     "metadata": {},
     "output_type": "display_data"
    },
    {
     "data": {
      "application/vnd.jupyter.widget-view+json": {
       "model_id": "e1f91008e5f048ee8a9e4860d23b49f8",
       "version_major": 2,
       "version_minor": 0
      },
      "text/plain": [
       "  0%|          | 0/1000 [00:00<?, ?it/s]"
      ]
     },
     "metadata": {},
     "output_type": "display_data"
    },
    {
     "name": "stdout",
     "output_type": "stream",
     "text": [
      "[[-1.62166304 -4.01872533 -2.56024103]\n",
      " [-1.42717021 -1.96776287 -2.92678255]\n",
      " [ 5.5287041   5.53201249  4.9188044 ]\n",
      " ...\n",
      " [-3.08006661 -3.43572498 -8.6118316 ]\n",
      " [-2.92205675 -1.53974673 -1.04861931]\n",
      " [ 5.56958773  4.60373401  5.24823859]]\n"
     ]
    },
    {
     "data": {
      "image/png": "[encoded data removed]",
      "text/plain": [
       "<Figure size 432x288 with 3 Axes>"
      ]
     },
     "metadata": {
      "needs_background": "light"
     },
     "output_type": "display_data"
    }
   ],
   "source": [
    "rule_probs_param = one_shot_fit_grammar.params_by_node_type[Root.__name__]\n",
    "print(\"One shot fit rule probs: \", rule_probs_param())\n",
    "for mode in Modes:\n",
    "    mode_name = mode.__name__\n",
    "    mean_param = one_shot_fit_grammar.rule_params_by_node_type[mode_name][0][0][\"mean\"]\n",
    "    var_param = one_shot_fit_grammar.rule_params_by_node_type[mode_name][0][0][\"variance\"]\n",
    "    print(\"One shot-fit Mode %d: %s +/- %s\" % (k, mean_param(), var_param()))\n",
    "    \n",
    "gt_samples = get_draws_from_grammar(gt_grammar, 1000)\n",
    "fit_samples = get_draws_from_grammar(one_shot_fit_grammar, 1000)\n",
    "l_gt = get_all_node_xyzs([sample[0] for sample in gt_samples], Point)\n",
    "l_fit = get_all_node_xyzs([sample[0] for sample in fit_samples], Point)\n",
    "print(l_fit)\n",
    "l_train = get_all_node_xyzs([sample[0] for sample in samples], Point)\n",
    "plt.figure()\n",
    "for k, label in enumerate(\"xyz\"):\n",
    "    plt.subplot(1, 3, k+1)\n",
    "    plt.hist(l_gt[:, k], bins=100, label=\"GT\", alpha=0.5, density=True)\n",
    "    plt.hist(l_fit[:, k], bins=100, label=\"One-shot fit\", alpha=0.5, density=True)\n",
    "    plt.title(label)\n",
    "    if k == 2:\n",
    "        plt.legend()"
   ]
  },
  {
   "cell_type": "markdown",
   "metadata": {},
   "source": [
    "# MLE gradient-descent parsing with point latent estimates"
   ]
  },
  {
   "cell_type": "code",
   "execution_count": 213,
   "metadata": {},
   "outputs": [
    {
     "name": "stderr",
     "output_type": "stream",
     "text": [
      "WARNING:root:context has already been set\n"
     ]
    },
    {
     "data": {
      "application/vnd.jupyter.widget-view+json": {
       "model_id": "dce9d6bda1e744e393148fa815ebc0d6",
       "version_major": 2,
       "version_minor": 0
      },
      "text/plain": [
       "Major iteration:   0%|          | 0/1 [00:00<?, ?it/s]"
      ]
     },
     "metadata": {},
     "output_type": "display_data"
    },
    {
     "data": {
      "application/vnd.jupyter.widget-view+json": {
       "model_id": "1a3de30b3ea1448f8244cec1f9f0c9d9",
       "version_major": 2,
       "version_minor": 0
      },
      "text/plain": [
       "Getting MAP parses:   0%|          | 0/100 [00:00<?, ?it/s]"
      ]
     },
     "metadata": {},
     "output_type": "display_data"
    },
    {
     "data": {
      "application/vnd.jupyter.widget-view+json": {
       "model_id": "0be3d20f193d4dd9a6004371fa711ef1",
       "version_major": 2,
       "version_minor": 0
      },
      "text/plain": [
       "Minor iteration:   0%|          | 0/200 [00:00<?, ?it/s]"
      ]
     },
     "metadata": {},
     "output_type": "display_data"
    }
   ],
   "source": [
    "# Do MLE via gradient descent\n",
    "svi = SVIWrapper(fit_grammar, [sample[1] for sample in samples])\n",
    "svi.do_iterated_vi_fitting(major_iterations=1, minor_iterations=200, base_lr=0.01, subsample=None, tqdm=tqdm, clip=None, N_solutions=3)"
   ]
  },
  {
   "cell_type": "code",
   "execution_count": 214,
   "metadata": {},
   "outputs": [
    {
     "name": "stderr",
     "output_type": "stream",
     "text": [
      "WARNING:matplotlib.legend:No handles with labels found to put in legend.\n"
     ]
    },
    {
     "name": "stdout",
     "output_type": "stream",
     "text": [
      "Fit mode probs:  tensor([0.4499, 0.0802, 0.4699], grad_fn=<DivBackward0>)\n",
      "Mode  <class 'spatial_scene_grammars_examples.gmm.grammar.GaussianMode_0'>\n",
      "0:xyz:mean final: tensor([-4.3564, -4.2924, -4.3300])\n",
      "0:xyz:variance final: tensor([0.8505, 0.9036, 0.8342])\n"
     ]
    },
    {
     "name": "stderr",
     "output_type": "stream",
     "text": [
      "WARNING:matplotlib.legend:No handles with labels found to put in legend.\n"
     ]
    },
    {
     "name": "stdout",
     "output_type": "stream",
     "text": [
      "Mode  <class 'spatial_scene_grammars_examples.gmm.grammar.GaussianMode_1'>\n",
      "0:xyz:mean final: tensor([-1.5204, -1.9649, -1.1845])\n",
      "0:xyz:variance final: tensor([1.0191, 1.0422, 0.9946])\n"
     ]
    },
    {
     "name": "stderr",
     "output_type": "stream",
     "text": [
      "WARNING:matplotlib.legend:No handles with labels found to put in legend.\n"
     ]
    },
    {
     "name": "stdout",
     "output_type": "stream",
     "text": [
      "Mode  <class 'spatial_scene_grammars_examples.gmm.grammar.GaussianMode_2'>\n",
      "0:xyz:mean final: tensor([4.9325, 4.9277, 4.9746])\n",
      "0:xyz:variance final: tensor([0.3127, 0.3534, 0.3232])\n"
     ]
    },
    {
     "data": {
      "application/vnd.jupyter.widget-view+json": {
       "model_id": "87fcb2297f56494c9f0c4f34928f1fdc",
       "version_major": 2,
       "version_minor": 0
      },
      "text/plain": [
       "  0%|          | 0/1000 [00:00<?, ?it/s]"
      ]
     },
     "metadata": {},
     "output_type": "display_data"
    },
    {
     "data": {
      "application/vnd.jupyter.widget-view+json": {
       "model_id": "c34ffee4d73546a782a37ee4f6285bdd",
       "version_major": 2,
       "version_minor": 0
      },
      "text/plain": [
       "  0%|          | 0/1000 [00:00<?, ?it/s]"
      ]
     },
     "metadata": {},
     "output_type": "display_data"
    },
    {
     "data": {
      "image/png": "[encoded data removed]",
      "text/plain": [
       "<Figure size 432x288 with 1 Axes>"
      ]
     },
     "metadata": {
      "needs_background": "light"
     },
     "output_type": "display_data"
    },
    {
     "data": {
      "image/png": "[encoded data removed]",
      "text/plain": [
       "<Figure size 432x288 with 2 Axes>"
      ]
     },
     "metadata": {
      "needs_background": "light"
     },
     "output_type": "display_data"
    },
    {
     "data": {
      "image/png": "[encoded data removed]",
      "text/plain": [
       "<Figure size 432x288 with 2 Axes>"
      ]
     },
     "metadata": {
      "needs_background": "light"
     },
     "output_type": "display_data"
    },
    {
     "data": {
      "image/png": "[encoded data removed]",
      "text/plain": [
       "<Figure size 432x288 with 2 Axes>"
      ]
     },
     "metadata": {
      "needs_background": "light"
     },
     "output_type": "display_data"
    },
    {
     "data": {
      "image/png": "[encoded data removed]",
      "text/plain": [
       "<Figure size 432x288 with 3 Axes>"
      ]
     },
     "metadata": {
      "needs_background": "light"
     },
     "output_type": "display_data"
    }
   ],
   "source": [
    "svi.plot_elbo_history()\n",
    "print(\"Fit mode probs: \", fit_grammar.params_by_node_type[Root.__name__]())\n",
    "for mode in Modes:\n",
    "    print(\"Mode \" , mode)\n",
    "    svi.plot_grammar_parameter_history(mode)\n",
    "gt_samples = get_draws_from_grammar(gt_grammar, 1000)\n",
    "fit_samples = get_draws_from_grammar(fit_grammar, 1000)\n",
    "l_gt = get_all_node_xyzs([sample[0] for sample in gt_samples], Point)\n",
    "l_fit = get_all_node_xyzs([sample[0] for sample in fit_samples], Point)\n",
    "l_train = get_all_node_xyzs([sample[0] for sample in samples], Point)\n",
    "plt.figure()\n",
    "for k, label in enumerate(\"xyz\"):\n",
    "    plt.subplot(1, 3, k+1)\n",
    "    #plt.hist(l_train[:, k], label=\"Train\", alpha=0.25)\n",
    "    plt.hist(l_gt[:, k], bins=100, label=\"GT\", alpha=0.5)\n",
    "    plt.hist(l_fit[:, k], bins=100, label=\"Post fit\", alpha=0.5)\n",
    "    plt.title(label)\n",
    "    if k == 2:\n",
    "        plt.legend()"
   ]
  }
 ],
 "metadata": {
  "kernelspec": {
   "display_name": "py36_pyro",
   "language": "python",
   "name": "py36_pyro"
  },
  "language_info": {
   "codemirror_mode": {
    "name": "ipython",
    "version": 3
   },
   "file_extension": ".py",
   "mimetype": "text/x-python",
   "name": "python",
   "nbconvert_exporter": "python",
   "pygments_lexer": "ipython3",
   "version": "3.6.13"
  }
 },
 "nbformat": 4,
 "nbformat_minor": 2
}
