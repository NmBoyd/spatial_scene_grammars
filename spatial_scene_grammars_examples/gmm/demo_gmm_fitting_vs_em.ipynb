{
 "cells": [
  {
   "cell_type": "code",
   "execution_count": 1,
   "metadata": {},
   "outputs": [],
   "source": [
    "%load_ext autoreload\n",
    "%autoreload 2\n",
    "\n",
    "import matplotlib.pyplot as plt\n",
    "import networkx as nx\n",
    "import numpy as np\n",
    "import os\n",
    "import pickle\n",
    "import time\n",
    "from tqdm.notebook import tqdm\n",
    "\n",
    "import torch\n",
    "torch.set_default_tensor_type(torch.DoubleTensor)\n",
    "\n",
    "from spatial_scene_grammars.nodes import *\n",
    "from spatial_scene_grammars.rules import *\n",
    "from spatial_scene_grammars.scene_grammar import *\n",
    "from spatial_scene_grammars.visualization import *\n",
    "from spatial_scene_grammars_examples.gmm.grammar import *\n",
    "from spatial_scene_grammars.parsing import *\n",
    "from spatial_scene_grammars.sampling import *\n",
    "from spatial_scene_grammars.parameter_estimation import *"
   ]
  },
  {
   "cell_type": "code",
   "execution_count": 19,
   "metadata": {},
   "outputs": [
    {
     "name": "stdout",
     "output_type": "stream",
     "text": [
      "GT rule probs:  tensor([0.4000, 0.4000, 0.2000], grad_fn=<DivBackward0>)\n",
      "GT Mode 0: [-5. -5. -5.] +/- [0.5 0.5 0.5]\n",
      "GT Mode 1: [5. 5. 5.] +/- [0.25 0.25 0.25]\n",
      "GT Mode 2: [-2. -2. -2.] +/- [2. 2. 2.]\n",
      "Pre-fit rule probs:  tensor([0.2995, 0.1439, 0.5566], grad_fn=<DivBackward0>)\n",
      "Pre-fit Mode 0: [-3. -3. -3.] +/- [0.1 0.1 0.1]\n",
      "Pre-fit Mode 1: [0. 0. 0.] +/- [0.1 0.1 0.1]\n",
      "Pre-fit Mode 2: [3. 3. 3.] +/- [0.1 0.1 0.1]\n"
     ]
    },
    {
     "data": {
      "application/vnd.jupyter.widget-view+json": {
       "model_id": "032673141a91448db1e8a3ac5f2d0770",
       "version_major": 2,
       "version_minor": 0
      },
      "text/plain": [
       "HBox(children=(FloatProgress(value=0.0, max=1000.0), HTML(value='')))"
      ]
     },
     "metadata": {},
     "output_type": "display_data"
    },
    {
     "name": "stdout",
     "output_type": "stream",
     "text": [
      "\n"
     ]
    },
    {
     "data": {
      "application/vnd.jupyter.widget-view+json": {
       "model_id": "1de8f3e9b2614b3ea4b468f9c5018d0a",
       "version_major": 2,
       "version_minor": 0
      },
      "text/plain": [
       "HBox(children=(FloatProgress(value=0.0, max=1000.0), HTML(value='')))"
      ]
     },
     "metadata": {},
     "output_type": "display_data"
    },
    {
     "name": "stdout",
     "output_type": "stream",
     "text": [
      "\n"
     ]
    },
    {
     "data": {
      "image/png": "[encoded data removed]",
      "text/plain": [
       "<Figure size 432x288 with 3 Axes>"
      ]
     },
     "metadata": {
      "needs_background": "light"
     },
     "output_type": "display_data"
    }
   ],
   "source": [
    "# Make the ground truth GMM grammar.\n",
    "gt_grammar =SpatialSceneGrammar(\n",
    "    root_node_type = Root,\n",
    "    root_node_tf = torch.eye(4),\n",
    "    sample_params_from_prior=True\n",
    ")\n",
    "# Reset params to values we control (different from prior).\n",
    "desired_mode_means = [\n",
    "    torch.tensor([-5., -5., -5.]),\n",
    "    torch.tensor([5., 5., 5.]),\n",
    "    torch.tensor([-2., -2., -2.])\n",
    "]\n",
    "desired_mode_vars = [\n",
    "    torch.tensor([0.5, 0.5, 0.5]),\n",
    "    torch.tensor([0.25, 0.25, 0.25]),\n",
    "    torch.tensor([2., 2., 2.])\n",
    "]\n",
    "desired_mode_weights = torch.tensor([0.4, 0.4, 0.2])\n",
    "rule_probs_param = gt_grammar.params_by_node_type[Root.__name__]\n",
    "rule_probs_param.set(desired_mode_weights)\n",
    "print(\"GT rule probs: \", rule_probs_param())\n",
    "for k, mode in enumerate(Modes):\n",
    "    mode_name = mode.__name__\n",
    "    mean_param = gt_grammar.rule_params_by_node_type[mode_name][0][0][\"mean\"]\n",
    "    mean_param.set(desired_mode_means[k])\n",
    "    var_param = gt_grammar.rule_params_by_node_type[mode_name][0][0][\"variance\"]\n",
    "    var_param.set(desired_mode_vars[k])\n",
    "    print(\"GT Mode %d: %s +/- %s\" % (k, mean_param().detach().numpy(), var_param().detach().numpy()))\n",
    "\n",
    "# Make our fitting grammar. This'll also have randomly sampled means + vars, but\n",
    "# different ones.\n",
    "torch.random.manual_seed(2)\n",
    "fit_grammar = SpatialSceneGrammar(\n",
    "    root_node_type = Root,\n",
    "    root_node_tf = torch.eye(4),\n",
    "    sample_params_from_prior=True\n",
    ")\n",
    "#fit_grammar = deepcopy(gt_grammar)\n",
    "pre_fit_grammar = deepcopy(fit_grammar)\n",
    "rule_probs_param = pre_fit_grammar.params_by_node_type[Root.__name__]\n",
    "print(\"Pre-fit rule probs: \", rule_probs_param())\n",
    "for k, mode in enumerate(Modes):\n",
    "    mode_name = mode.__name__\n",
    "    mean_param = fit_grammar.rule_params_by_node_type[mode_name][0][0][\"mean\"]\n",
    "    mean_param.set((torch.ones(3)*k - torch.ones(3)) * 3.)\n",
    "    var_param = fit_grammar.rule_params_by_node_type[mode_name][0][0][\"variance\"]\n",
    "    var_param.set(torch.ones(3) * 0.1)\n",
    "    print(\"Pre-fit Mode %d: %s +/- %s\" % (k, mean_param().detach().numpy(), var_param().detach().numpy()))\n",
    "\n",
    "\n",
    "def get_all_node_xyzs(sampled_trees, node_type):\n",
    "    l = []\n",
    "    for tree in sampled_trees:\n",
    "        for node in tree:\n",
    "            if isinstance(node, node_type):\n",
    "                l.append(node.translation.detach().cpu().numpy())\n",
    "    return np.stack(l)\n",
    "\n",
    "# Draw random samples from our randomly-initialized GMM\n",
    "def get_draws_from_grammar(grammar, N_samples):\n",
    "    samples = []\n",
    "    for k in tqdm(range(N_samples)):\n",
    "        tree = grammar.sample_tree(detach=True)\n",
    "        observed_nodes = tree.get_observed_nodes()\n",
    "        samples.append((tree, observed_nodes))\n",
    "    return samples\n",
    "\n",
    "gt_samples = get_draws_from_grammar(gt_grammar, 1000)\n",
    "pre_fit_samples = get_draws_from_grammar(fit_grammar, 1000)\n",
    "l_gt = get_all_node_xyzs([sample[0] for sample in gt_samples], Point)\n",
    "l_pre_fit = get_all_node_xyzs([sample[0] for sample in pre_fit_samples], Point)\n",
    "for k, label in enumerate(\"xyz\"):\n",
    "    plt.subplot(1, 3, k+1)\n",
    "    plt.hist(l_gt[:, k], bins=50, label=\"GT\", alpha=0.5)\n",
    "    plt.hist(l_pre_fit[:, k], bins=50, label=\"Pre fit\", alpha=0.5)\n",
    "    plt.title(label)\n",
    "    if k == 2:\n",
    "        plt.legend()"
   ]
  },
  {
   "cell_type": "code",
   "execution_count": 20,
   "metadata": {},
   "outputs": [
    {
     "data": {
      "application/vnd.jupyter.widget-view+json": {
       "model_id": "ec340751fe294a9e87fe2184403fbfc8",
       "version_major": 2,
       "version_minor": 0
      },
      "text/plain": [
       "HBox(children=(FloatProgress(value=0.0), HTML(value='')))"
      ]
     },
     "metadata": {},
     "output_type": "display_data"
    },
    {
     "name": "stdout",
     "output_type": "stream",
     "text": [
      "\n"
     ]
    },
    {
     "data": {
      "image/png": "[encoded data removed]",
      "text/plain": [
       "<Figure size 432x288 with 3 Axes>"
      ]
     },
     "metadata": {
      "needs_background": "light"
     },
     "output_type": "display_data"
    }
   ],
   "source": [
    "torch.random.manual_seed(43)\n",
    "N_fit_samples = 100\n",
    "\n",
    "# Draw an actual fitting dataset.\n",
    "samples = get_draws_from_grammar(gt_grammar, N_fit_samples)\n",
    "\n",
    "l_gt = get_all_node_xyzs([sample[0] for sample in gt_samples], Point)\n",
    "l_train = get_all_node_xyzs([sample[0] for sample in samples], Point)\n",
    "plt.figure()\n",
    "for k, label in enumerate(\"xyz\"):\n",
    "    plt.subplot(1, 3, k+1)\n",
    "    plt.hist(l_train[:, k], label=\"Train\", alpha=0.5, bins=50, density=True)\n",
    "    plt.hist(l_gt[:, k], label=\"GT\", alpha=0.5, bins=50, density=True)\n",
    "    if k == 2:\n",
    "        plt.legend()"
   ]
  },
  {
   "cell_type": "code",
   "execution_count": 21,
   "metadata": {},
   "outputs": [
    {
     "name": "stdout",
     "output_type": "stream",
     "text": [
      "EM fit rule probs:  tensor([0.4700, 0.4302, 0.0998], grad_fn=<DivBackward0>)\n",
      "EM-fit Mode 2: Parameter containing:\n",
      "tensor([4.9917, 5.0070, 5.0496], requires_grad=True) +/- tensor([0.1947, 0.2344, 0.1816], grad_fn=<AddBackward0>)\n",
      "EM-fit Mode 2: Parameter containing:\n",
      "tensor([-4.2707, -4.5757, -4.2841], requires_grad=True) +/- tensor([2.1151, 0.7433, 1.9846], grad_fn=<AddBackward0>)\n",
      "EM-fit Mode 2: Parameter containing:\n",
      "tensor([-2.6013, -1.5080, -2.2698], requires_grad=True) +/- tensor([1.4390, 0.3470, 1.8269], grad_fn=<AddBackward0>)\n"
     ]
    },
    {
     "data": {
      "application/vnd.jupyter.widget-view+json": {
       "model_id": "88ddffee39274a1fbc705f2633738511",
       "version_major": 2,
       "version_minor": 0
      },
      "text/plain": [
       "HBox(children=(FloatProgress(value=0.0, max=1000.0), HTML(value='')))"
      ]
     },
     "metadata": {},
     "output_type": "display_data"
    },
    {
     "name": "stdout",
     "output_type": "stream",
     "text": [
      "\n"
     ]
    },
    {
     "data": {
      "application/vnd.jupyter.widget-view+json": {
       "model_id": "fa02b56235b74235ae917ceb5e2dc327",
       "version_major": 2,
       "version_minor": 0
      },
      "text/plain": [
       "HBox(children=(FloatProgress(value=0.0, max=1000.0), HTML(value='')))"
      ]
     },
     "metadata": {},
     "output_type": "display_data"
    },
    {
     "name": "stdout",
     "output_type": "stream",
     "text": [
      "\n"
     ]
    },
    {
     "data": {
      "image/png": "[encoded data removed]",
      "text/plain": [
       "<Figure size 432x288 with 3 Axes>"
      ]
     },
     "metadata": {
      "needs_background": "light"
     },
     "output_type": "display_data"
    }
   ],
   "source": [
    "# Hand-written EM baseline for GMM: estimate cluster\n",
    "# association weights, and then apply a closed form update\n",
    "# to get new best cluster mean and vars. (Like a \"soft\"\n",
    "# k-mean.)\n",
    "\n",
    "# Initialize param guesses from pre-fit grammar\n",
    "param_guesses = {\n",
    "    \"mode_weights\": pre_fit_grammar.params_by_node_type[Root.__name__]().detach()\n",
    "}\n",
    "for mode in Modes:\n",
    "    mode_name = mode.__name__\n",
    "    mean = pre_fit_grammar.rule_params_by_node_type[mode_name][0][0][\"mean\"]().detach()\n",
    "    var = pre_fit_grammar.rule_params_by_node_type[mode_name][0][0][\"variance\"]().detach()\n",
    "    param_guesses[mode_name] = {\n",
    "        \"mean\": mean,\n",
    "        \"var\": var\n",
    "    }\n",
    "\n",
    "N_iters = 10\n",
    "points = torch.stack([sample[1][0].translation for sample in samples]) # N x 3\n",
    "for iter_k in range(N_iters):\n",
    "    # Associate each sample with the MAP cluster\n",
    "    dists = [\n",
    "        dist.Normal(\n",
    "            param_guesses[mode.__name__][\"mean\"],\n",
    "            param_guesses[mode.__name__][\"var\"])\n",
    "        for mode in Modes\n",
    "    ]\n",
    "    # Get scores for each mode for each point.\n",
    "    point_log_probs = torch.stack([\n",
    "        dist.log_prob(points).sum(axis=1) for dist in dists\n",
    "    ], axis=-1) # N x N_dists\n",
    "    # Multiply in prob of that cluster being active\n",
    "    point_log_probs = point_log_probs + param_guesses[\"mode_weights\"]\n",
    "    # Normalize for a given point\n",
    "    point_log_probs = (point_log_probs.T - torch.logsumexp(point_log_probs, axis=-1)).T\n",
    "    w = torch.exp(point_log_probs)\n",
    "    \n",
    "    # New weight guesses are average of weights\n",
    "    new_weights = torch.mean(w, axis=0) + 1E-4\n",
    "    new_weights = new_weights / torch.sum(new_weights)\n",
    "    param_guesses[\"mode_weights\"] = new_weights\n",
    "    # New mean is weighted sum of observed locations\n",
    "    for k, mode in enumerate(Modes):\n",
    "        new_mean = torch.sum(w[:, k] * points.T, axis=1) / torch.sum(w[:, k])\n",
    "        offsets = points - new_mean\n",
    "        new_var = torch.sum(w[:, k] * torch.square(offsets).T, axis=1) / torch.sum(w[:, k]) + 1E-4\n",
    "        param_guesses[mode.__name__][\"mean\"] = new_mean\n",
    "        param_guesses[mode.__name__][\"var\"] = new_var\n",
    "# Make an EM-fit grammar with those params\n",
    "em_fit_grammar = deepcopy(pre_fit_grammar)\n",
    "rule_probs_param = em_fit_grammar.params_by_node_type[Root.__name__]\n",
    "rule_probs_param.set(param_guesses[\"mode_weights\"])\n",
    "print(\"EM fit rule probs: \", rule_probs_param())\n",
    "for mode in Modes:\n",
    "    mode_name = mode.__name__\n",
    "    mean_param = em_fit_grammar.rule_params_by_node_type[mode_name][0][0][\"mean\"]\n",
    "    var_param = em_fit_grammar.rule_params_by_node_type[mode_name][0][0][\"variance\"]\n",
    "    mean_param.set(param_guesses[mode_name][\"mean\"])\n",
    "    var_param.set(param_guesses[mode_name][\"var\"])\n",
    "    print(\"EM-fit Mode %d: %s +/- %s\" % (k, mean_param(), var_param()))\n",
    "    \n",
    "# Draw its empirical fit\n",
    "gt_samples = get_draws_from_grammar(gt_grammar, 1000)\n",
    "em_fit_samples = get_draws_from_grammar(em_fit_grammar, 1000)\n",
    "l_gt = get_all_node_xyzs([sample[0] for sample in gt_samples], Point)\n",
    "l_em_fit = get_all_node_xyzs([sample[0] for sample in em_fit_samples], Point)\n",
    "l_train = get_all_node_xyzs([sample[0] for sample in samples], Point)\n",
    "for k, label in enumerate(\"xyz\"):\n",
    "    plt.subplot(1, 3, k+1)\n",
    "    #plt.hist(l_gt[:, k], bins=100, label=\"GT\", alpha=0.5, density=True)\n",
    "    plt.hist(l_em_fit[:, k], bins=50, label=\"EM fit\", alpha=0.5, density=True)\n",
    "    plt.hist(l_train[:, k], bins=50, label=\"Train\", alpha=0.5, density=True)\n",
    "    plt.title(label)\n",
    "    if k == 2:\n",
    "        plt.legend()"
   ]
  },
  {
   "cell_type": "code",
   "execution_count": 22,
   "metadata": {},
   "outputs": [
    {
     "data": {
      "application/vnd.jupyter.widget-view+json": {
       "model_id": "964a8fd88a1b4793bbbc8152d5763f05",
       "version_major": 2,
       "version_minor": 0
      },
      "text/plain": [
       "HBox(children=(FloatProgress(value=0.0, description='Major iteration', max=1.0, style=ProgressStyle(descriptio…"
      ]
     },
     "metadata": {},
     "output_type": "display_data"
    },
    {
     "data": {
      "application/vnd.jupyter.widget-view+json": {
       "model_id": "5614530e2a234228a3e95029426c0c84",
       "version_major": 2,
       "version_minor": 0
      },
      "text/plain": [
       "HBox(children=(FloatProgress(value=0.0, description='Getting MAP parses', style=ProgressStyle(description_widt…"
      ]
     },
     "metadata": {},
     "output_type": "display_data"
    },
    {
     "name": "stdout",
     "output_type": "stream",
     "text": [
      "\n"
     ]
    },
    {
     "data": {
      "application/vnd.jupyter.widget-view+json": {
       "model_id": "a145c6f8741d483eb53eac448d54d459",
       "version_major": 2,
       "version_minor": 0
      },
      "text/plain": [
       "HBox(children=(FloatProgress(value=0.0, description='Minor iteration', max=200.0, style=ProgressStyle(descript…"
      ]
     },
     "metadata": {},
     "output_type": "display_data"
    },
    {
     "name": "stdout",
     "output_type": "stream",
     "text": [
      "\n",
      "\n"
     ]
    }
   ],
   "source": [
    "# Do fitting\n",
    "svi = SVIWrapper(fit_grammar, [sample[1] for sample in samples])\n",
    "svi.do_iterated_vi_fitting(major_iterations=1, minor_iterations=200, base_lr=0.01, subsample=None, tqdm=tqdm, clip=None, N_solutions=3)"
   ]
  },
  {
   "cell_type": "code",
   "execution_count": 23,
   "metadata": {},
   "outputs": [
    {
     "name": "stdout",
     "output_type": "stream",
     "text": [
      "Fit mode probs:  tensor([0.4913, 0.0413, 0.4673], grad_fn=<DivBackward0>)\n",
      "Mode  <class 'spatial_scene_grammars_examples.gmm.grammar.GaussianMode_0'>\n",
      "0:xyz:mean final: tensor([-3.9032, -3.9013, -3.8877])\n",
      "0:xyz:variance final: tensor([0.2959, 0.2946, 0.2983])\n"
     ]
    },
    {
     "name": "stderr",
     "output_type": "stream",
     "text": [
      "No handles with labels found to put in legend.\n",
      "No handles with labels found to put in legend.\n"
     ]
    },
    {
     "name": "stdout",
     "output_type": "stream",
     "text": [
      "Mode  <class 'spatial_scene_grammars_examples.gmm.grammar.GaussianMode_1'>\n",
      "0:xyz:mean final: tensor([-0.8537, -1.0898, -0.6145])\n",
      "0:xyz:variance final: tensor([0.1253, 0.2406, 0.2809])\n"
     ]
    },
    {
     "name": "stderr",
     "output_type": "stream",
     "text": [
      "No handles with labels found to put in legend.\n"
     ]
    },
    {
     "name": "stdout",
     "output_type": "stream",
     "text": [
      "Mode  <class 'spatial_scene_grammars_examples.gmm.grammar.GaussianMode_2'>\n",
      "0:xyz:mean final: tensor([4.1249, 4.1254, 4.1309])\n",
      "0:xyz:variance final: tensor([0.2421, 0.2442, 0.2442])\n"
     ]
    },
    {
     "data": {
      "application/vnd.jupyter.widget-view+json": {
       "model_id": "6dca1a71a6d24647b6f6341b07c75adc",
       "version_major": 2,
       "version_minor": 0
      },
      "text/plain": [
       "HBox(children=(FloatProgress(value=0.0, max=1000.0), HTML(value='')))"
      ]
     },
     "metadata": {},
     "output_type": "display_data"
    },
    {
     "name": "stdout",
     "output_type": "stream",
     "text": [
      "\n"
     ]
    },
    {
     "data": {
      "application/vnd.jupyter.widget-view+json": {
       "model_id": "f53e963b25a441fe83d9848093b5262c",
       "version_major": 2,
       "version_minor": 0
      },
      "text/plain": [
       "HBox(children=(FloatProgress(value=0.0, max=1000.0), HTML(value='')))"
      ]
     },
     "metadata": {},
     "output_type": "display_data"
    },
    {
     "name": "stdout",
     "output_type": "stream",
     "text": [
      "\n"
     ]
    },
    {
     "data": {
      "image/png": "[encoded data removed]",
      "text/plain": [
       "<Figure size 432x288 with 1 Axes>"
      ]
     },
     "metadata": {
      "needs_background": "light"
     },
     "output_type": "display_data"
    },
    {
     "data": {
      "image/png": "[encoded data removed]",
      "text/plain": [
       "<Figure size 432x288 with 2 Axes>"
      ]
     },
     "metadata": {
      "needs_background": "light"
     },
     "output_type": "display_data"
    },
    {
     "data": {
      "image/png": "[encoded data removed]",
      "text/plain": [
       "<Figure size 432x288 with 2 Axes>"
      ]
     },
     "metadata": {
      "needs_background": "light"
     },
     "output_type": "display_data"
    },
    {
     "data": {
      "image/png": "[encoded data removed]",
      "text/plain": [
       "<Figure size 432x288 with 2 Axes>"
      ]
     },
     "metadata": {
      "needs_background": "light"
     },
     "output_type": "display_data"
    },
    {
     "data": {
      "image/png": "[encoded data removed]",
      "text/plain": [
       "<Figure size 432x288 with 3 Axes>"
      ]
     },
     "metadata": {
      "needs_background": "light"
     },
     "output_type": "display_data"
    }
   ],
   "source": [
    "svi.plot_elbo_history()\n",
    "print(\"Fit mode probs: \", fit_grammar.params_by_node_type[Root.__name__]())\n",
    "for mode in Modes:\n",
    "    print(\"Mode \" , mode)\n",
    "    svi.plot_grammar_parameter_history(mode)\n",
    "gt_samples = get_draws_from_grammar(gt_grammar, 1000)\n",
    "fit_samples = get_draws_from_grammar(fit_grammar, 1000)\n",
    "l_gt = get_all_node_xyzs([sample[0] for sample in gt_samples], Point)\n",
    "l_fit = get_all_node_xyzs([sample[0] for sample in fit_samples], Point)\n",
    "l_train = get_all_node_xyzs([sample[0] for sample in samples], Point)\n",
    "plt.figure()\n",
    "for k, label in enumerate(\"xyz\"):\n",
    "    plt.subplot(1, 3, k+1)\n",
    "    #plt.hist(l_train[:, k], label=\"Train\", alpha=0.25)\n",
    "    plt.hist(l_gt[:, k], bins=100, label=\"GT\", alpha=0.5)\n",
    "    plt.hist(l_fit[:, k], bins=100, label=\"Post fit\", alpha=0.5)\n",
    "    plt.title(label)\n",
    "    if k == 2:\n",
    "        plt.legend()"
   ]
  }
 ],
 "metadata": {
  "kernelspec": {
   "display_name": "Python 3",
   "language": "python",
   "name": "python3"
  },
  "language_info": {
   "codemirror_mode": {
    "name": "ipython",
    "version": 3
   },
   "file_extension": ".py",
   "mimetype": "text/x-python",
   "name": "python",
   "nbconvert_exporter": "python",
   "pygments_lexer": "ipython3",
   "version": "3.6.10"
  }
 },
 "nbformat": 4,
 "nbformat_minor": 2
}
