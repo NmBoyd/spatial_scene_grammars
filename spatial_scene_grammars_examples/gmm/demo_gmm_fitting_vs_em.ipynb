{
 "cells": [
  {
   "cell_type": "code",
   "execution_count": 131,
   "metadata": {},
   "outputs": [
    {
     "name": "stdout",
     "output_type": "stream",
     "text": [
      "The autoreload extension is already loaded. To reload it, use:\n",
      "  %reload_ext autoreload\n"
     ]
    }
   ],
   "source": [
    "%load_ext autoreload\n",
    "%autoreload 2\n",
    "\n",
    "import matplotlib.pyplot as plt\n",
    "import networkx as nx\n",
    "import numpy as np\n",
    "import os\n",
    "import pickle\n",
    "import time\n",
    "from tqdm.notebook import tqdm\n",
    "\n",
    "import torch\n",
    "torch.set_default_tensor_type(torch.DoubleTensor)\n",
    "\n",
    "from spatial_scene_grammars.nodes import *\n",
    "from spatial_scene_grammars.rules import *\n",
    "from spatial_scene_grammars.scene_grammar import *\n",
    "from spatial_scene_grammars.visualization import *\n",
    "from spatial_scene_grammars_examples.gmm.grammar import *\n",
    "from spatial_scene_grammars.parsing import *\n",
    "from spatial_scene_grammars.sampling import *\n",
    "from spatial_scene_grammars.parameter_estimation import *"
   ]
  },
  {
   "cell_type": "code",
   "execution_count": 132,
   "metadata": {},
   "outputs": [
    {
     "name": "stdout",
     "output_type": "stream",
     "text": [
      "GT rule probs:  tensor([0.4444, 0.4444, 0.1111], grad_fn=<DivBackward0>)\n",
      "GT Mode 0: [-1. -1. -1.] +/- [0.1 0.1 0.1]\n",
      "GT Mode 1: [1. 1. 1.] +/- [0.2 0.2 0.2]\n",
      "GT Mode 2: [ 3. -3.  3.] +/- [0.5 0.5 0.5]\n",
      "GT rule probs:  tensor([0.6876, 0.1652, 0.1472], grad_fn=<DivBackward0>)\n",
      "Pre-fit Mode 0: [1.49683154 0.4827153  1.63737881] +/- [8.53224089 7.39703052 7.53380901]\n",
      "Pre-fit Mode 1: [ 0.85255313  0.04037888 -1.8335104 ] +/- [4.05126131 5.57680109 6.94749774]\n",
      "Pre-fit Mode 2: [ 0.93853496 -1.73393131 -0.781713  ] +/- [4.22886668 9.62792173 4.71348741]\n"
     ]
    },
    {
     "data": {
      "application/vnd.jupyter.widget-view+json": {
       "model_id": "ce0e1378feed4afe8c99ede0abecad98",
       "version_major": 2,
       "version_minor": 0
      },
      "text/plain": [
       "  0%|          | 0/1000 [00:00<?, ?it/s]"
      ]
     },
     "metadata": {},
     "output_type": "display_data"
    },
    {
     "data": {
      "application/vnd.jupyter.widget-view+json": {
       "model_id": "53ad523297424a61bb27dfdf354690e0",
       "version_major": 2,
       "version_minor": 0
      },
      "text/plain": [
       "  0%|          | 0/1000 [00:00<?, ?it/s]"
      ]
     },
     "metadata": {},
     "output_type": "display_data"
    },
    {
     "data": {
      "image/png": "[encoded data removed]",
      "text/plain": [
       "<Figure size 432x288 with 3 Axes>"
      ]
     },
     "metadata": {
      "needs_background": "light"
     },
     "output_type": "display_data"
    }
   ],
   "source": [
    "# Make the ground truth GMM grammar.\n",
    "gt_grammar =SpatialSceneGrammar(\n",
    "    root_node_type = Root,\n",
    "    root_node_tf = torch.eye(4),\n",
    "    sample_params_from_prior=True\n",
    ")\n",
    "# Reset params to values we control (different from prior).\n",
    "desired_mode_means = [\n",
    "    torch.tensor([-1., -1., -1.]),\n",
    "    torch.tensor([1., 1., 1.]),\n",
    "    torch.tensor([3., -3., 3.])\n",
    "]\n",
    "desired_mode_vars = [\n",
    "    torch.tensor([0.1, 0.1, 0.1]),\n",
    "    torch.tensor([0.2, 0.2, 0.2]),\n",
    "    torch.tensor([0.5, 0.5, 0.5])\n",
    "]\n",
    "desired_mode_weights = torch.tensor([0.4, 0.4, 0.1])\n",
    "rule_probs_param = gt_grammar.params_by_node_type[Root.__name__]\n",
    "rule_probs_param.set(desired_mode_weights)\n",
    "print(\"GT rule probs: \", rule_probs_param())\n",
    "for k, mode in enumerate(Modes):\n",
    "    mode_name = mode.__name__\n",
    "    mean_param = gt_grammar.rule_params_by_node_type[mode_name][0][0][\"mean\"]\n",
    "    mean_param.set(desired_mode_means[k])\n",
    "    var_param = gt_grammar.rule_params_by_node_type[mode_name][0][0][\"variance\"]\n",
    "    var_param.set(desired_mode_vars[k])\n",
    "    print(\"GT Mode %d: %s +/- %s\" % (k, mean_param().detach().numpy(), var_param().detach().numpy()))\n",
    "\n",
    "# Make our fitting grammar. This'll also have randomly sampled means + vars, but\n",
    "# different ones.\n",
    "torch.random.manual_seed(40)\n",
    "fit_grammar = SpatialSceneGrammar(\n",
    "    root_node_type = Root,\n",
    "    root_node_tf = torch.eye(4),\n",
    "    sample_params_from_prior=True\n",
    ")\n",
    "pre_fit_grammar = deepcopy(fit_grammar)\n",
    "rule_probs_param = pre_fit_grammar.params_by_node_type[Root.__name__]\n",
    "print(\"GT rule probs: \", rule_probs_param())\n",
    "for k, mode in enumerate(Modes):\n",
    "    mode_name = mode.__name__\n",
    "    mean_param = fit_grammar.rule_params_by_node_type[mode_name][0][0][\"mean\"]().detach().numpy()\n",
    "    var_param = fit_grammar.rule_params_by_node_type[mode_name][0][0][\"variance\"]().detach().numpy()\n",
    "    print(\"Pre-fit Mode %d: %s +/- %s\" % (k, mean_param, var_param))\n",
    "\n",
    "\n",
    "def get_all_node_xyzs(sampled_trees, node_type):\n",
    "    l = []\n",
    "    for tree in sampled_trees:\n",
    "        for node in tree:\n",
    "            if isinstance(node, node_type):\n",
    "                l.append(node.translation.detach().cpu().numpy())\n",
    "    return np.stack(l)\n",
    "\n",
    "# Draw random samples from our randomly-initialized GMM\n",
    "def get_draws_from_grammar(grammar, N_samples):\n",
    "    samples = []\n",
    "    for k in tqdm(range(N_samples)):\n",
    "        tree = grammar.sample_tree(detach=True)\n",
    "        observed_nodes = tree.get_observed_nodes()\n",
    "        samples.append((tree, observed_nodes))\n",
    "    return samples\n",
    "\n",
    "gt_samples = get_draws_from_grammar(gt_grammar, 1000)\n",
    "pre_fit_samples = get_draws_from_grammar(fit_grammar, 1000)\n",
    "l_gt = get_all_node_xyzs([sample[0] for sample in gt_samples], Point)\n",
    "l_pre_fit = get_all_node_xyzs([sample[0] for sample in pre_fit_samples], Point)\n",
    "for k, label in enumerate(\"xyz\"):\n",
    "    plt.subplot(1, 3, k+1)\n",
    "    plt.hist(l_gt[:, k], bins=100, label=\"GT\", alpha=0.5)\n",
    "    plt.hist(l_pre_fit[:, k], bins=100, label=\"Pre fit\", alpha=0.5)\n",
    "    plt.title(label)\n",
    "    if k == 2:\n",
    "        plt.legend()\n",
    "        "
   ]
  },
  {
   "cell_type": "code",
   "execution_count": 146,
   "metadata": {},
   "outputs": [
    {
     "data": {
      "application/vnd.jupyter.widget-view+json": {
       "model_id": "f8cc5f2ad9874ff1911ea40b3933c29d",
       "version_major": 2,
       "version_minor": 0
      },
      "text/plain": [
       "  0%|          | 0/100 [00:00<?, ?it/s]"
      ]
     },
     "metadata": {},
     "output_type": "display_data"
    },
    {
     "data": {
      "application/vnd.jupyter.widget-view+json": {
       "model_id": "f2129aba361749008e79d05acfc4ad4a",
       "version_major": 2,
       "version_minor": 0
      },
      "text/plain": [
       "Major iteration:   0%|          | 0/20 [00:00<?, ?it/s]"
      ]
     },
     "metadata": {},
     "output_type": "display_data"
    },
    {
     "data": {
      "application/vnd.jupyter.widget-view+json": {
       "model_id": "253d4be636f54b828ce5b9e0b3b08445",
       "version_major": 2,
       "version_minor": 0
      },
      "text/plain": [
       "Getting MAP parses:   0%|          | 0/100 [00:00<?, ?it/s]"
      ]
     },
     "metadata": {},
     "output_type": "display_data"
    },
    {
     "data": {
      "application/vnd.jupyter.widget-view+json": {
       "model_id": "b88e49aa1c374344875408b2dad414d6",
       "version_major": 2,
       "version_minor": 0
      },
      "text/plain": [
       "Minor iteration:   0%|          | 0/25 [00:00<?, ?it/s]"
      ]
     },
     "metadata": {},
     "output_type": "display_data"
    },
    {
     "data": {
      "application/vnd.jupyter.widget-view+json": {
       "model_id": "45400cdec5774a98a3d483410dd3993a",
       "version_major": 2,
       "version_minor": 0
      },
      "text/plain": [
       "Getting MAP parses:   0%|          | 0/100 [00:00<?, ?it/s]"
      ]
     },
     "metadata": {},
     "output_type": "display_data"
    },
    {
     "data": {
      "application/vnd.jupyter.widget-view+json": {
       "model_id": "33c5fcbfbc8843868282cfebf4fd9d77",
       "version_major": 2,
       "version_minor": 0
      },
      "text/plain": [
       "Minor iteration:   0%|          | 0/25 [00:00<?, ?it/s]"
      ]
     },
     "metadata": {},
     "output_type": "display_data"
    },
    {
     "data": {
      "application/vnd.jupyter.widget-view+json": {
       "model_id": "9a6303143057418fae1a0616ff0aa3a6",
       "version_major": 2,
       "version_minor": 0
      },
      "text/plain": [
       "Getting MAP parses:   0%|          | 0/100 [00:00<?, ?it/s]"
      ]
     },
     "metadata": {},
     "output_type": "display_data"
    },
    {
     "data": {
      "application/vnd.jupyter.widget-view+json": {
       "model_id": "7ca32ee770ce4201874f502ff3becfed",
       "version_major": 2,
       "version_minor": 0
      },
      "text/plain": [
       "Minor iteration:   0%|          | 0/25 [00:00<?, ?it/s]"
      ]
     },
     "metadata": {},
     "output_type": "display_data"
    },
    {
     "data": {
      "application/vnd.jupyter.widget-view+json": {
       "model_id": "78ce397aaebb475f9ca248754a0d2b17",
       "version_major": 2,
       "version_minor": 0
      },
      "text/plain": [
       "Getting MAP parses:   0%|          | 0/100 [00:00<?, ?it/s]"
      ]
     },
     "metadata": {},
     "output_type": "display_data"
    },
    {
     "data": {
      "application/vnd.jupyter.widget-view+json": {
       "model_id": "88e510fef1124a839e842f1e5f200eed",
       "version_major": 2,
       "version_minor": 0
      },
      "text/plain": [
       "Minor iteration:   0%|          | 0/25 [00:00<?, ?it/s]"
      ]
     },
     "metadata": {},
     "output_type": "display_data"
    },
    {
     "data": {
      "application/vnd.jupyter.widget-view+json": {
       "model_id": "7bef0d4f0c7b4a5d855f0a06d0ced77c",
       "version_major": 2,
       "version_minor": 0
      },
      "text/plain": [
       "Getting MAP parses:   0%|          | 0/100 [00:00<?, ?it/s]"
      ]
     },
     "metadata": {},
     "output_type": "display_data"
    },
    {
     "data": {
      "application/vnd.jupyter.widget-view+json": {
       "model_id": "2dffb76e86b44ae7bd0e5e59ad0ba982",
       "version_major": 2,
       "version_minor": 0
      },
      "text/plain": [
       "Minor iteration:   0%|          | 0/25 [00:00<?, ?it/s]"
      ]
     },
     "metadata": {},
     "output_type": "display_data"
    },
    {
     "data": {
      "application/vnd.jupyter.widget-view+json": {
       "model_id": "d92fe3eb62f54fbea1f228f7e625e69c",
       "version_major": 2,
       "version_minor": 0
      },
      "text/plain": [
       "Getting MAP parses:   0%|          | 0/100 [00:00<?, ?it/s]"
      ]
     },
     "metadata": {},
     "output_type": "display_data"
    },
    {
     "data": {
      "application/vnd.jupyter.widget-view+json": {
       "model_id": "7b823fb9688545dfb913ca22178ac124",
       "version_major": 2,
       "version_minor": 0
      },
      "text/plain": [
       "Minor iteration:   0%|          | 0/25 [00:00<?, ?it/s]"
      ]
     },
     "metadata": {},
     "output_type": "display_data"
    },
    {
     "data": {
      "application/vnd.jupyter.widget-view+json": {
       "model_id": "32a8b55405104de9ae260bc42712a3ef",
       "version_major": 2,
       "version_minor": 0
      },
      "text/plain": [
       "Getting MAP parses:   0%|          | 0/100 [00:00<?, ?it/s]"
      ]
     },
     "metadata": {},
     "output_type": "display_data"
    },
    {
     "data": {
      "application/vnd.jupyter.widget-view+json": {
       "model_id": "9c4dac28a4814e61bf29d1b7f0de9fca",
       "version_major": 2,
       "version_minor": 0
      },
      "text/plain": [
       "Minor iteration:   0%|          | 0/25 [00:00<?, ?it/s]"
      ]
     },
     "metadata": {},
     "output_type": "display_data"
    },
    {
     "data": {
      "application/vnd.jupyter.widget-view+json": {
       "model_id": "18acac98fcaa4e319f4648795de19827",
       "version_major": 2,
       "version_minor": 0
      },
      "text/plain": [
       "Getting MAP parses:   0%|          | 0/100 [00:00<?, ?it/s]"
      ]
     },
     "metadata": {},
     "output_type": "display_data"
    },
    {
     "data": {
      "application/vnd.jupyter.widget-view+json": {
       "model_id": "6be15526c86147bc9794f9a6bd0f58a4",
       "version_major": 2,
       "version_minor": 0
      },
      "text/plain": [
       "Minor iteration:   0%|          | 0/25 [00:00<?, ?it/s]"
      ]
     },
     "metadata": {},
     "output_type": "display_data"
    },
    {
     "data": {
      "application/vnd.jupyter.widget-view+json": {
       "model_id": "ae1da1645f464705ab5224e28eec8f34",
       "version_major": 2,
       "version_minor": 0
      },
      "text/plain": [
       "Getting MAP parses:   0%|          | 0/100 [00:00<?, ?it/s]"
      ]
     },
     "metadata": {},
     "output_type": "display_data"
    },
    {
     "data": {
      "application/vnd.jupyter.widget-view+json": {
       "model_id": "a37906a47cc9437faf33376654d2df59",
       "version_major": 2,
       "version_minor": 0
      },
      "text/plain": [
       "Minor iteration:   0%|          | 0/25 [00:00<?, ?it/s]"
      ]
     },
     "metadata": {},
     "output_type": "display_data"
    },
    {
     "data": {
      "application/vnd.jupyter.widget-view+json": {
       "model_id": "c50fe93a206f41ba85696f909ba5f896",
       "version_major": 2,
       "version_minor": 0
      },
      "text/plain": [
       "Getting MAP parses:   0%|          | 0/100 [00:00<?, ?it/s]"
      ]
     },
     "metadata": {},
     "output_type": "display_data"
    },
    {
     "data": {
      "application/vnd.jupyter.widget-view+json": {
       "model_id": "402b42476c4b46b0bf348921ffba5482",
       "version_major": 2,
       "version_minor": 0
      },
      "text/plain": [
       "Minor iteration:   0%|          | 0/25 [00:00<?, ?it/s]"
      ]
     },
     "metadata": {},
     "output_type": "display_data"
    },
    {
     "data": {
      "application/vnd.jupyter.widget-view+json": {
       "model_id": "ca4bef3b7b9d494a9a6193042984682c",
       "version_major": 2,
       "version_minor": 0
      },
      "text/plain": [
       "Getting MAP parses:   0%|          | 0/100 [00:00<?, ?it/s]"
      ]
     },
     "metadata": {},
     "output_type": "display_data"
    },
    {
     "data": {
      "application/vnd.jupyter.widget-view+json": {
       "model_id": "ff021a4e5891478a9702b12856f62ca7",
       "version_major": 2,
       "version_minor": 0
      },
      "text/plain": [
       "Minor iteration:   0%|          | 0/25 [00:00<?, ?it/s]"
      ]
     },
     "metadata": {},
     "output_type": "display_data"
    },
    {
     "data": {
      "application/vnd.jupyter.widget-view+json": {
       "model_id": "32c380865b9a43b7b31e1f3c9b734306",
       "version_major": 2,
       "version_minor": 0
      },
      "text/plain": [
       "Getting MAP parses:   0%|          | 0/100 [00:00<?, ?it/s]"
      ]
     },
     "metadata": {},
     "output_type": "display_data"
    },
    {
     "data": {
      "application/vnd.jupyter.widget-view+json": {
       "model_id": "9c4f115db2bf4bdba1c0af1828b20c91",
       "version_major": 2,
       "version_minor": 0
      },
      "text/plain": [
       "Minor iteration:   0%|          | 0/25 [00:00<?, ?it/s]"
      ]
     },
     "metadata": {},
     "output_type": "display_data"
    },
    {
     "data": {
      "application/vnd.jupyter.widget-view+json": {
       "model_id": "91f3682b2e8241eb85e720bdf4a7c18d",
       "version_major": 2,
       "version_minor": 0
      },
      "text/plain": [
       "Getting MAP parses:   0%|          | 0/100 [00:00<?, ?it/s]"
      ]
     },
     "metadata": {},
     "output_type": "display_data"
    },
    {
     "data": {
      "application/vnd.jupyter.widget-view+json": {
       "model_id": "2763b17da47c4e239f0a901b813cd2cf",
       "version_major": 2,
       "version_minor": 0
      },
      "text/plain": [
       "Minor iteration:   0%|          | 0/25 [00:00<?, ?it/s]"
      ]
     },
     "metadata": {},
     "output_type": "display_data"
    },
    {
     "data": {
      "application/vnd.jupyter.widget-view+json": {
       "model_id": "894ce5ad995049ddbe27d6f8c62fe00c",
       "version_major": 2,
       "version_minor": 0
      },
      "text/plain": [
       "Getting MAP parses:   0%|          | 0/100 [00:00<?, ?it/s]"
      ]
     },
     "metadata": {},
     "output_type": "display_data"
    },
    {
     "data": {
      "application/vnd.jupyter.widget-view+json": {
       "model_id": "2aae6cbbf5794e5b85cc0c6ba229284b",
       "version_major": 2,
       "version_minor": 0
      },
      "text/plain": [
       "Minor iteration:   0%|          | 0/25 [00:00<?, ?it/s]"
      ]
     },
     "metadata": {},
     "output_type": "display_data"
    },
    {
     "data": {
      "application/vnd.jupyter.widget-view+json": {
       "model_id": "dd78e9f0580c47a495e582d62e3ffe14",
       "version_major": 2,
       "version_minor": 0
      },
      "text/plain": [
       "Getting MAP parses:   0%|          | 0/100 [00:00<?, ?it/s]"
      ]
     },
     "metadata": {},
     "output_type": "display_data"
    },
    {
     "data": {
      "application/vnd.jupyter.widget-view+json": {
       "model_id": "565add9239df4a26aec541822ca11ef8",
       "version_major": 2,
       "version_minor": 0
      },
      "text/plain": [
       "Minor iteration:   0%|          | 0/25 [00:00<?, ?it/s]"
      ]
     },
     "metadata": {},
     "output_type": "display_data"
    },
    {
     "data": {
      "application/vnd.jupyter.widget-view+json": {
       "model_id": "a523ae4790cb435f81ebf7fced279463",
       "version_major": 2,
       "version_minor": 0
      },
      "text/plain": [
       "Getting MAP parses:   0%|          | 0/100 [00:00<?, ?it/s]"
      ]
     },
     "metadata": {},
     "output_type": "display_data"
    },
    {
     "data": {
      "application/vnd.jupyter.widget-view+json": {
       "model_id": "0f043bd85c9d41c7a0bd8119d850669a",
       "version_major": 2,
       "version_minor": 0
      },
      "text/plain": [
       "Minor iteration:   0%|          | 0/25 [00:00<?, ?it/s]"
      ]
     },
     "metadata": {},
     "output_type": "display_data"
    },
    {
     "data": {
      "application/vnd.jupyter.widget-view+json": {
       "model_id": "22311178224a4cb3b2d5df294e1b1fe8",
       "version_major": 2,
       "version_minor": 0
      },
      "text/plain": [
       "Getting MAP parses:   0%|          | 0/100 [00:00<?, ?it/s]"
      ]
     },
     "metadata": {},
     "output_type": "display_data"
    },
    {
     "data": {
      "application/vnd.jupyter.widget-view+json": {
       "model_id": "0527be44203d47d18f48f60bc2dc2d8e",
       "version_major": 2,
       "version_minor": 0
      },
      "text/plain": [
       "Minor iteration:   0%|          | 0/25 [00:00<?, ?it/s]"
      ]
     },
     "metadata": {},
     "output_type": "display_data"
    },
    {
     "data": {
      "application/vnd.jupyter.widget-view+json": {
       "model_id": "5d6b0ab251fc4aa58219f5737a53d549",
       "version_major": 2,
       "version_minor": 0
      },
      "text/plain": [
       "Getting MAP parses:   0%|          | 0/100 [00:00<?, ?it/s]"
      ]
     },
     "metadata": {},
     "output_type": "display_data"
    },
    {
     "data": {
      "application/vnd.jupyter.widget-view+json": {
       "model_id": "c54a2d3050b7474b872adf270aadaac1",
       "version_major": 2,
       "version_minor": 0
      },
      "text/plain": [
       "Minor iteration:   0%|          | 0/25 [00:00<?, ?it/s]"
      ]
     },
     "metadata": {},
     "output_type": "display_data"
    },
    {
     "data": {
      "application/vnd.jupyter.widget-view+json": {
       "model_id": "899532d95d754835a7f9a892dea6a4c5",
       "version_major": 2,
       "version_minor": 0
      },
      "text/plain": [
       "Getting MAP parses:   0%|          | 0/100 [00:00<?, ?it/s]"
      ]
     },
     "metadata": {},
     "output_type": "display_data"
    },
    {
     "data": {
      "application/vnd.jupyter.widget-view+json": {
       "model_id": "97c4da2833d84009b95af41b9881321f",
       "version_major": 2,
       "version_minor": 0
      },
      "text/plain": [
       "Minor iteration:   0%|          | 0/25 [00:00<?, ?it/s]"
      ]
     },
     "metadata": {},
     "output_type": "display_data"
    },
    {
     "data": {
      "application/vnd.jupyter.widget-view+json": {
       "model_id": "4d6d801725b64a1b83493c961b9f1f3d",
       "version_major": 2,
       "version_minor": 0
      },
      "text/plain": [
       "Getting MAP parses:   0%|          | 0/100 [00:00<?, ?it/s]"
      ]
     },
     "metadata": {},
     "output_type": "display_data"
    },
    {
     "data": {
      "application/vnd.jupyter.widget-view+json": {
       "model_id": "e1f0d6b2a87549a6a7a8fff905e8f069",
       "version_major": 2,
       "version_minor": 0
      },
      "text/plain": [
       "Minor iteration:   0%|          | 0/25 [00:00<?, ?it/s]"
      ]
     },
     "metadata": {},
     "output_type": "display_data"
    }
   ],
   "source": [
    "torch.random.manual_seed(42)\n",
    "N_fit_samples = 100\n",
    "\n",
    "# Draw an actual fitting dataset and do fitting.\n",
    "samples = get_draws_from_grammar(gt_grammar, N_fit_samples)\n",
    "svi = SVIWrapper(fit_grammar, [sample[1] for sample in samples])\n",
    "svi.do_iterated_vi_fitting(major_iterations=20, minor_iterations=25, base_lr=0.1, tqdm=tqdm, num_elbo_samples=1, clip=None)"
   ]
  },
  {
   "cell_type": "code",
   "execution_count": 148,
   "metadata": {},
   "outputs": [
    {
     "name": "stdout",
     "output_type": "stream",
     "text": [
      "Mode  <class 'spatial_scene_grammars_examples.gmm.grammar.GaussianMode_0'>\n"
     ]
    },
    {
     "name": "stderr",
     "output_type": "stream",
     "text": [
      "WARNING:matplotlib.legend:No handles with labels found to put in legend.\n"
     ]
    },
    {
     "name": "stdout",
     "output_type": "stream",
     "text": [
      "0:xyz:mean final: tensor([0.0534, 0.0210, 0.0211])\n",
      "0:xyz:variance final: tensor([1.2837, 1.1922, 1.0908])\n",
      "Mode  <class 'spatial_scene_grammars_examples.gmm.grammar.GaussianMode_1'>\n"
     ]
    },
    {
     "name": "stderr",
     "output_type": "stream",
     "text": [
      "WARNING:matplotlib.legend:No handles with labels found to put in legend.\n"
     ]
    },
    {
     "name": "stdout",
     "output_type": "stream",
     "text": [
      "0:xyz:mean final: tensor([ 3.2749, -2.5197,  2.7010])\n",
      "0:xyz:variance final: tensor([0.0271, 0.3685, 0.0661])\n",
      "Mode  <class 'spatial_scene_grammars_examples.gmm.grammar.GaussianMode_2'>\n"
     ]
    },
    {
     "name": "stderr",
     "output_type": "stream",
     "text": [
      "WARNING:matplotlib.legend:No handles with labels found to put in legend.\n"
     ]
    },
    {
     "name": "stdout",
     "output_type": "stream",
     "text": [
      "0:xyz:mean final: tensor([ 3.5654, -2.8107,  2.9503])\n",
      "0:xyz:variance final: tensor([0.4665, 0.1564, 0.2919])\n"
     ]
    },
    {
     "data": {
      "application/vnd.jupyter.widget-view+json": {
       "model_id": "c4613dc5c93d468fbdc0d7996564f29b",
       "version_major": 2,
       "version_minor": 0
      },
      "text/plain": [
       "  0%|          | 0/1000 [00:00<?, ?it/s]"
      ]
     },
     "metadata": {},
     "output_type": "display_data"
    },
    {
     "data": {
      "application/vnd.jupyter.widget-view+json": {
       "model_id": "a50bf9b110cc4e36b427f2ce64e7c1c8",
       "version_major": 2,
       "version_minor": 0
      },
      "text/plain": [
       "  0%|          | 0/1000 [00:00<?, ?it/s]"
      ]
     },
     "metadata": {},
     "output_type": "display_data"
    },
    {
     "data": {
      "image/png": "[encoded data removed]",
      "text/plain": [
       "<Figure size 432x288 with 1 Axes>"
      ]
     },
     "metadata": {
      "needs_background": "light"
     },
     "output_type": "display_data"
    },
    {
     "data": {
      "image/png": "[encoded data removed]",
      "text/plain": [
       "<Figure size 432x288 with 2 Axes>"
      ]
     },
     "metadata": {
      "needs_background": "light"
     },
     "output_type": "display_data"
    },
    {
     "data": {
      "image/png": "[encoded data removed]",
      "text/plain": [
       "<Figure size 432x288 with 2 Axes>"
      ]
     },
     "metadata": {
      "needs_background": "light"
     },
     "output_type": "display_data"
    },
    {
     "data": {
      "image/png": "[encoded data removed]",
      "text/plain": [
       "<Figure size 432x288 with 2 Axes>"
      ]
     },
     "metadata": {
      "needs_background": "light"
     },
     "output_type": "display_data"
    },
    {
     "data": {
      "image/png": "[encoded data removed]",
      "text/plain": [
       "<Figure size 432x288 with 3 Axes>"
      ]
     },
     "metadata": {
      "needs_background": "light"
     },
     "output_type": "display_data"
    }
   ],
   "source": [
    "svi.plot_elbo_history()\n",
    "for mode in Modes:\n",
    "    print(\"Mode \" , mode)\n",
    "    svi.plot_grammar_parameter_history(mode)\n",
    "gt_samples = get_draws_from_grammar(gt_grammar, 1000)\n",
    "fit_samples = get_draws_from_grammar(fit_grammar, 1000)\n",
    "l_gt = get_all_node_xyzs([sample[0] for sample in gt_samples], Point)\n",
    "l_fit = get_all_node_xyzs([sample[0] for sample in fit_samples], Point)\n",
    "plt.figure()\n",
    "for k, label in enumerate(\"xyz\"):\n",
    "    plt.subplot(1, 3, k+1)\n",
    "    plt.hist(l_gt[:, k], bins=100, label=\"GT\", alpha=0.5)\n",
    "    plt.hist(l_fit[:, k], bins=100, label=\"Post fit\", alpha=0.5)\n",
    "    plt.title(label)\n",
    "    if k == 2:\n",
    "        plt.legend()"
   ]
  },
  {
   "cell_type": "code",
   "execution_count": 145,
   "metadata": {},
   "outputs": [
    {
     "name": "stdout",
     "output_type": "stream",
     "text": [
      "EM fit rule probs:  tensor([0.1100, 0.4400, 0.4500], grad_fn=<DivBackward0>)\n",
      "EM-fit Mode 2: Parameter containing:\n",
      "tensor([ 3.5654, -2.8107,  2.9503], requires_grad=True) +/- tensor([0.4662, 0.1390, 0.2916], grad_fn=<AddBackward0>)\n",
      "EM-fit Mode 2: Parameter containing:\n",
      "tensor([-1.0271, -1.0086, -0.9721], requires_grad=True) +/- tensor([0.1106, 0.0927, 0.0935], grad_fn=<AddBackward0>)\n",
      "EM-fit Mode 2: Parameter containing:\n",
      "tensor([1.1098, 1.0277, 0.9922], requires_grad=True) +/- tensor([0.1733, 0.2173, 0.1585], grad_fn=<AddBackward0>)\n"
     ]
    },
    {
     "data": {
      "application/vnd.jupyter.widget-view+json": {
       "model_id": "f5619b1c84cc4aa599e599b784093dab",
       "version_major": 2,
       "version_minor": 0
      },
      "text/plain": [
       "  0%|          | 0/1000 [00:00<?, ?it/s]"
      ]
     },
     "metadata": {},
     "output_type": "display_data"
    },
    {
     "data": {
      "application/vnd.jupyter.widget-view+json": {
       "model_id": "a1ab92f6942a4c4e9ec2ba40902bf2b3",
       "version_major": 2,
       "version_minor": 0
      },
      "text/plain": [
       "  0%|          | 0/1000 [00:00<?, ?it/s]"
      ]
     },
     "metadata": {},
     "output_type": "display_data"
    },
    {
     "data": {
      "image/png": "[encoded data removed]",
      "text/plain": [
       "<Figure size 432x288 with 3 Axes>"
      ]
     },
     "metadata": {
      "needs_background": "light"
     },
     "output_type": "display_data"
    }
   ],
   "source": [
    "# Hand-written EM baseline for GMM: estimate cluster\n",
    "# association weights, and then apply a closed form update\n",
    "# to get new best cluster mean and vars. (Like a \"soft\"\n",
    "# k-mean.)\n",
    "\n",
    "# Initialize param guesses from pre-fit grammar\n",
    "param_guesses = {\n",
    "    \"mode_weights\": pre_fit_grammar.params_by_node_type[Root.__name__]()\n",
    "}\n",
    "for mode in Modes:\n",
    "    mode_name = mode.__name__\n",
    "    mean = pre_fit_grammar.rule_params_by_node_type[mode_name][0][0][\"mean\"]().detach()\n",
    "    var = pre_fit_grammar.rule_params_by_node_type[mode_name][0][0][\"variance\"]().detach()\n",
    "    param_guesses[mode_name] = {\n",
    "        \"mean\": mean,\n",
    "        \"var\": var\n",
    "    }\n",
    "\n",
    "N_iters = 50\n",
    "points = torch.stack([sample[1][0].translation for sample in samples]) # N x 3\n",
    "for iter_k in range(N_iters):\n",
    "    # Associate each sample with the MAP cluster\n",
    "    dists = [\n",
    "        dist.Normal(\n",
    "            param_guesses[mode.__name__][\"mean\"],\n",
    "            param_guesses[mode.__name__][\"var\"])\n",
    "        for mode in Modes\n",
    "    ]\n",
    "    # Get scores for each mode for each point.\n",
    "    point_log_probs = torch.stack([\n",
    "        dist.log_prob(points).sum(axis=1) for dist in dists\n",
    "    ], axis=-1) # N x N_dists\n",
    "    # Multiply in prob of that cluster being active\n",
    "    point_log_probs = point_log_probs + param_guesses[\"mode_weights\"]\n",
    "    # Normalize for a given point\n",
    "    point_log_probs = (point_log_probs.T - torch.logsumexp(point_log_probs, axis=-1)).T\n",
    "    w = torch.exp(point_log_probs)\n",
    "    \n",
    "    # New weight guesses are average of weights\n",
    "    param_guesses[\"mode_weights\"] = torch.mean(w, axis=0)\n",
    "    # New mean is weighted sum of observed locations\n",
    "    for k, mode in enumerate(Modes):\n",
    "        new_mean = torch.sum(w[:, k] * points.T, axis=1) / torch.sum(w[:, k])\n",
    "        offsets = points - new_mean\n",
    "        new_var = torch.sum(w[:, k] * torch.square(offsets).T, axis=1) / torch.sum(w[:, k]) + 1E-5\n",
    "        param_guesses[mode.__name__][\"mean\"] = new_mean\n",
    "        param_guesses[mode.__name__][\"var\"] = new_var\n",
    "# Make an EM-fit grammar with those params\n",
    "em_fit_grammar = deepcopy(pre_fit_grammar)\n",
    "rule_probs_param = em_fit_grammar.params_by_node_type[Root.__name__]\n",
    "rule_probs_param.set(param_guesses[\"mode_weights\"])\n",
    "print(\"EM fit rule probs: \", rule_probs_param())\n",
    "for mode in Modes:\n",
    "    mode_name = mode.__name__\n",
    "    mean_param = em_fit_grammar.rule_params_by_node_type[mode_name][0][0][\"mean\"]\n",
    "    var_param = em_fit_grammar.rule_params_by_node_type[mode_name][0][0][\"variance\"]\n",
    "    mean_param.set(param_guesses[mode_name][\"mean\"])\n",
    "    var_param.set(param_guesses[mode_name][\"var\"])\n",
    "    print(\"EM-fit Mode %d: %s +/- %s\" % (k, mean_param(), var_param()))\n",
    "    \n",
    "# Draw its empirical fit\n",
    "gt_samples = get_draws_from_grammar(gt_grammar, 1000)\n",
    "em_fit_samples = get_draws_from_grammar(em_fit_grammar, 1000)\n",
    "l_gt = get_all_node_xyzs([sample[0] for sample in gt_samples], Point)\n",
    "l_em_fit = get_all_node_xyzs([sample[0] for sample in em_fit_samples], Point)\n",
    "for k, label in enumerate(\"xyz\"):\n",
    "    plt.subplot(1, 3, k+1)\n",
    "    plt.hist(l_gt[:, k], bins=100, label=\"GT\", alpha=0.5)\n",
    "    plt.hist(l_em_fit[:, k], bins=100, label=\"EM fit\", alpha=0.5)\n",
    "    plt.title(label)\n",
    "    if k == 2:\n",
    "        plt.legend()"
   ]
  },
  {
   "cell_type": "code",
   "execution_count": null,
   "metadata": {},
   "outputs": [],
   "source": []
  }
 ],
 "metadata": {
  "kernelspec": {
   "display_name": "py36_pyro",
   "language": "python",
   "name": "py36_pyro"
  },
  "language_info": {
   "codemirror_mode": {
    "name": "ipython",
    "version": 3
   },
   "file_extension": ".py",
   "mimetype": "text/x-python",
   "name": "python",
   "nbconvert_exporter": "python",
   "pygments_lexer": "ipython3",
   "version": "3.6.13"
  }
 },
 "nbformat": 4,
 "nbformat_minor": 2
}
