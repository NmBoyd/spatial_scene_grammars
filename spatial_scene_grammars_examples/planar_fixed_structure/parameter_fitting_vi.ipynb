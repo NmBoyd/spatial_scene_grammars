{
 "cells": [
  {
   "cell_type": "markdown",
   "metadata": {},
   "source": [
    "# Grammar parameter fitting via VI\n",
    "\n",
    "Try to fit the parameters of this grammar, given a library of observed points, with a VI strategy that evolves parameterized posteriors over the poses of the nodes explaining each observation."
   ]
  },
  {
   "cell_type": "code",
   "execution_count": 1,
   "metadata": {},
   "outputs": [],
   "source": [
    "%load_ext autoreload\n",
    "%autoreload 2\n",
    "\n",
    "import matplotlib.pyplot as plt\n",
    "import networkx as nx\n",
    "import numpy as np\n",
    "import os\n",
    "import pickle\n",
    "import time\n",
    "from tqdm.notebook import tqdm\n",
    "\n",
    "import torch\n",
    "torch.set_default_tensor_type(torch.DoubleTensor)\n",
    "\n",
    "from spatial_scene_grammars.nodes import *\n",
    "from spatial_scene_grammars.rules import *\n",
    "from spatial_scene_grammars.scene_grammar import *\n",
    "from spatial_scene_grammars.visualization import *\n",
    "from spatial_scene_grammars_examples.planar_fixed_structure.grammar import *\n",
    "from spatial_scene_grammars.parsing import *\n",
    "from spatial_scene_grammars.sampling import *\n",
    "from spatial_scene_grammars.parameter_estimation import *\n",
    "\n",
    "import meshcat\n",
    "import meshcat.geometry as meshcat_geom"
   ]
  },
  {
   "cell_type": "code",
   "execution_count": 2,
   "metadata": {},
   "outputs": [
    {
     "name": "stdout",
     "output_type": "stream",
     "text": [
      "You can open the visualizer by visiting the following URL:\n",
      "http://127.0.0.1:7016/static/\n",
      "Meshcat url:  http://127.0.0.1:7016/static/\n"
     ]
    },
    {
     "data": {
      "text/html": [
       "\n",
       "    <div style=\"height: 400px; width: 100%; overflow-x: auto; overflow-y: hidden; resize: both\">\n",
       "    <iframe src=\"http://127.0.0.1:7016/static/\" style=\"width: 100%; height: 100%; border: none\"></iframe>\n",
       "</div>\n"
      ],
      "text/plain": [
       "<IPython.core.display.HTML object>"
      ]
     },
     "execution_count": 2,
     "metadata": {},
     "output_type": "execute_result"
    }
   ],
   "source": [
    "if 'vis' not in globals():\n",
    "    vis = meshcat.Visualizer()\n",
    "vis.delete()\n",
    "base_url = \"http://127.0.0.1\"\n",
    "meshcat_url = base_url + \":\" + vis.url().split(\":\")[-1]\n",
    "print(\"Meshcat url: \", meshcat_url)\n",
    "\n",
    "def make_orthographic(xmin,  xmax, ymin, ymax, camera_position):\n",
    "    # Taken from https://github.com/RobotLocomotion/drake/blob/master/bindings/pydrake/systems/meshcat_visualizer.py\n",
    "    camera = meshcat_geom.OrthographicCamera(\n",
    "        left=xmin, right=xmax, top=ymax, bottom=ymin, near=-1000, far=1000)\n",
    "    vis['/Cameras/default/rotated'].set_object(camera)\n",
    "    vis['/Cameras/default'].set_transform(\n",
    "        RigidTransform(camera_position).GetAsMatrix4())\n",
    "\n",
    "    # Lock the orbit controls.\n",
    "    vis['/Cameras/default/rotated/<object>'].set_property(\n",
    "        \"position\", [0, 0, 0])\n",
    "    vis['/Background'].set_property(\"visible\", False)\n",
    "    vis['/Grid'].set_property(\"visible\", False)\n",
    "    vis['/Axes'].set_property(\"visible\", False)\n",
    "        \n",
    "make_orthographic(-2, 2, -2, 2, np.array([0., 0., 1.]))\n",
    "\n",
    "from IPython.display import HTML\n",
    "HTML(\"\"\"\n",
    "    <div style=\"height: 400px; width: 100%; overflow-x: auto; overflow-y: hidden; resize: both\">\n",
    "    <iframe src=\"{url}\" style=\"width: 100%; height: 100%; border: none\"></iframe>\n",
    "</div>\n",
    "\"\"\".format(url=meshcat_url))"
   ]
  },
  {
   "cell_type": "code",
   "execution_count": 3,
   "metadata": {},
   "outputs": [
    {
     "data": {
      "application/vnd.jupyter.widget-view+json": {
       "model_id": "8194ef284185444d80146f3bb28400ff",
       "version_major": 2,
       "version_minor": 0
      },
      "text/plain": [
       "  0%|          | 0/50 [00:00<?, ?it/s]"
      ]
     },
     "metadata": {},
     "output_type": "display_data"
    },
    {
     "name": "stdout",
     "output_type": "stream",
     "text": [
      "Saving...\n",
      "Loading...\n"
     ]
    },
    {
     "name": "stderr",
     "output_type": "stream",
     "text": [
      "[2021-09-10 20:12:55.209] [console] [warning] FindResource ignoring DRAKE_RESOURCE_ROOT='/home/gizatt/drake' because it does not contain a 'drake' subdirectory.\n"
     ]
    },
    {
     "name": "stdout",
     "output_type": "stream",
     "text": [
      "Loaded 50 scenes.\n"
     ]
    },
    {
     "data": {
      "image/png": "[encoded data removed]",
      "text/plain": [
       "<Figure size 432x288 with 2 Axes>"
      ]
     },
     "metadata": {
      "needs_background": "light"
     },
     "output_type": "display_data"
    }
   ],
   "source": [
    "# Sample a dataset of scenes from the default grammar params.\n",
    "# Draw a random sample from the grammar and visualize it.\n",
    "# (Cache output.)\n",
    "torch.random.manual_seed(2)\n",
    "N_samples = 50\n",
    "RESAMPLE = True\n",
    "scenes_file = \"sampled_scenes_%d.dat\" % N_samples\n",
    "\n",
    "ground_truth_grammar = SpatialSceneGrammar(\n",
    "    root_node_type = RootNode,\n",
    "    root_node_tf = torch.eye(4)\n",
    ")\n",
    "\n",
    "if not os.path.exists(scenes_file) or RESAMPLE:\n",
    "    samples = []\n",
    "    for k in tqdm(range(N_samples)):\n",
    "        tree = ground_truth_grammar.sample_tree(detach=True)\n",
    "        observed_nodes = tree.get_observed_nodes()\n",
    "        samples.append((tree, observed_nodes))\n",
    "\n",
    "    print(\"Saving...\")\n",
    "    with open(scenes_file, \"wb\") as f:\n",
    "        pickle.dump(samples, f)\n",
    "\n",
    "print(\"Loading...\")\n",
    "with open(scenes_file, \"rb\") as f:\n",
    "    samples = pickle.load(f)\n",
    "print(\"Loaded %d scenes.\" % len(samples))\n",
    "observed_node_sets = [x[1] for x in samples]\n",
    "\n",
    "def get_all_node_xyzs(sampled_trees, node_type):\n",
    "    l = []\n",
    "    for tree in sampled_trees:\n",
    "        for node in tree:\n",
    "            if isinstance(node, node_type):\n",
    "                l.append(node.translation.detach().cpu().numpy())\n",
    "    return np.stack(l)\n",
    "\n",
    "plt.figure()\n",
    "plt.subplot(1, 2, 1)\n",
    "plt.title(\"Node locations\")\n",
    "l = get_all_node_xyzs([sample[0] for sample in samples], HiddenNode)\n",
    "plt.scatter(l[:, 0], l[:, 1], label=\"Intermediate\")\n",
    "l = get_all_node_xyzs([sample[0] for sample in samples], VisibleNode)\n",
    "plt.scatter(l[:, 0], l[:, 1], label=\"Observed\")\n",
    "plt.legend()\n",
    "plt.subplot(1, 2, 2)\n",
    "plt.hist(l[:, 2])\n",
    "plt.title(\"Z height of nodes\")\n",
    "\n",
    "\n",
    "# And draw some of the trees in visualizer; not too many, it makes it slow.\n",
    "for k in range(10):\n",
    "    draw_scene_tree_contents_meshcat(samples[k][0], zmq_url=vis.window.zmq_url, prefix=\"dataset/contents/sample_%d\" % k)\n",
    "    draw_scene_tree_structure_meshcat(samples[k][0], zmq_url=vis.window.zmq_url, prefix=\"dataset/structures/sample_%d\" % k)"
   ]
  },
  {
   "cell_type": "markdown",
   "metadata": {},
   "source": [
    "# Pseudo-VI algo\n",
    "\n",
    "<!---\n",
    "As is standard for VI, we'll create a variational posterior approximation $q_\\phi(z)$, where $z$ referes to the set of latent variables. $z$ can be broken down into $\\{z_k\\}$ for each observation $k$ in our dataset. (I'm not planning on amortizing yet.) Concretely, ${z_k}$ is going to be the continuous random poses of each node in the supertree for observation $k$.\n",
    "\n",
    "VI would work straight from the ELBO:\n",
    "$$\n",
    "\\arg\\max_{\\theta, \\phi} \\mathbb{E}_{q_\\phi(z)} \\left[ \\log p_\\theta(x, z) - \\log q_\\phi(z) \\right]\n",
    "$$\n",
    "\n",
    "But that's *not* what we're doing. How do I write what we're actually doing?\n",
    "-->\n",
    "\n",
    "Initialize a variational posterior $q_\\phi(z_k)$ for each observation $k$, where $z_k$ describes a distribution over the latent poses for each node in the supertree corresponding to observation $k$. Also initialize model parameters $\\theta$ for any parameters in the grammar.\n",
    "\n",
    "Repeatedly:\n",
    "1. Find the MAP tree structure $t_k$ for all observations with the MIP using the current $\\theta$.\n",
    "2. For the nodes that show up in $t_k$, set the posterior parameters $\\phi$ to be tightly peaked around the MAP-optimal setting.\n",
    "3. Run a few gradient step updates on the ELBO evaluated using discrete tree structure $t_k$ and continuous poses sampled from the variational posterior.\n"
   ]
  },
  {
   "cell_type": "code",
   "execution_count": 5,
   "metadata": {},
   "outputs": [
    {
     "data": {
      "application/vnd.jupyter.widget-view+json": {
       "model_id": "44c55e77afc0412793da5406f0aef0cc",
       "version_major": 2,
       "version_minor": 0
      },
      "text/plain": [
       "Major iteration:   0%|          | 0/1 [00:00<?, ?it/s]"
      ]
     },
     "metadata": {},
     "output_type": "display_data"
    },
    {
     "data": {
      "application/vnd.jupyter.widget-view+json": {
       "model_id": "d269a6ea3924478ca9d294bdf0901c30",
       "version_major": 2,
       "version_minor": 0
      },
      "text/plain": [
       "Minor iteration:   0%|          | 0/200 [00:00<?, ?it/s]"
      ]
     },
     "metadata": {},
     "output_type": "display_data"
    }
   ],
   "source": [
    "\n",
    "class VariationalPosteriorTree(torch.nn.Module):\n",
    "    ''' Torch Module whose parameters encode a variational\n",
    "        posterior distribution over the poses of a scene tree with\n",
    "        structure matching a supplied base scene tree, whose parameters\n",
    "        are initialized to put a tight peak at the base tree.\n",
    "        \n",
    "        Distribution is a mean-field over the sample sites in the forward\n",
    "        sampling process for the continuous sites in this tree.'''\n",
    "    def __init__(self, base_tree, grammar):\n",
    "        super().__init__()\n",
    "        self.base_tree = base_tree\n",
    "        # Keyed by sample site name\n",
    "        self.mean_params = torch.nn.ModuleDict()\n",
    "        self.var_params = torch.nn.ModuleDict()\n",
    "        for parent in self.base_tree.nodes:\n",
    "            children, rules = base_tree.get_children_and_rules(parent)\n",
    "            for child, rule in zip(children, rules):\n",
    "                for key, value in rule.get_site_values(parent, child).items():\n",
    "                    site_name = \"%s/%s/%s\" % (parent.name, child.name, key)\n",
    "                    self.mean_params[site_name] = ConstrainedParameter(\n",
    "                        value, constraints.real\n",
    "                    )\n",
    "                    self.var_params[site_name] = ConstrainedParameter(\n",
    "                        torch.ones(value.shape) * 0.01,\n",
    "                        constraints.positive\n",
    "                    )\n",
    "                    \n",
    "    def forward_model(self, grammar):\n",
    "        # Resample the continuous structure of the tree into\n",
    "        # a book-keeping copy.\n",
    "        scene_tree = deepcopy(self.base_tree)\n",
    "        # Hook grammar back into tree\n",
    "        grammar.update_tree_grammar_parameters(scene_tree)\n",
    "        node_queue = [scene_tree.get_root()]\n",
    "        while len(node_queue) > 0:\n",
    "            parent = node_queue.pop(0)\n",
    "            children, rules = scene_tree.get_children_and_rules(parent)\n",
    "            for child, rule in zip(children, rules):\n",
    "                # TODO: node score children too!\n",
    "                with scope(prefix=parent.name):\n",
    "                    rule.sample_child(parent, child)\n",
    "                node_queue.append(child)\n",
    "\n",
    "        # Implement observation constraints\n",
    "        xyz_observed_variance = 1E-3\n",
    "        rot_observed_variance = 1E-3\n",
    "        for node, original_node in zip(scene_tree.nodes, self.base_tree.nodes):\n",
    "            if node.observed:\n",
    "                xyz_observed_dist = dist.Normal(original_node.translation, xyz_observed_variance)\n",
    "                rot_observed_dist = dist.Normal(original_node.rotation, rot_observed_variance)\n",
    "                pyro.sample(\"%s_xyz_observed\" % node.name, xyz_observed_dist, obs=node.translation)\n",
    "                pyro.sample(\"%s_rotation_observed\" % node.name, rot_observed_dist, obs=node.rotation)\n",
    "        # Implement joint axis constraints\n",
    "        axis_alignment_variance = 1E-2\n",
    "        for node in scene_tree.nodes:\n",
    "            children, rules = scene_tree.get_children_and_rules(parent)\n",
    "            for child, rule in zip(children, rules):\n",
    "                if type(rule) == GaussianChordOffsetRule or type(rule) == UniformBoundedRevoluteJointRule:\n",
    "                    # Both of these rule types require that parent/child rotation is\n",
    "                    # about an axis.\n",
    "                    axis_from_parent = torch.matmul(node.rotation, node.axis)\n",
    "                    axis_from_child = torch.matmul(child.rotation, child.axis)\n",
    "                    inner_product = (axis_from_parent*axis_from_child).sum()\n",
    "                    pyro.sample(\"%s_axis_error_observed\" % node.name,\n",
    "                        dist.Normal(1., axis_alignment_variance),\n",
    "                        obs=inner_product\n",
    "                    )\n",
    "\n",
    "    def evaluate_elbo(self, grammar, num_samples=5, verbose=0):\n",
    "        total_elbo = torch.tensor([0.])\n",
    "        for sample_k in range(num_samples):\n",
    "            # Sample from variational posterior, and use that to condition\n",
    "            # the sample sites in the forward model.\n",
    "            total_q_ll = torch.tensor([0.])\n",
    "            conditioning = {}\n",
    "            for key in self.mean_params.keys():\n",
    "                q_density = dist.Normal(self.mean_params[key](), self.var_params[key]())\n",
    "                sample = q_density.rsample()\n",
    "                conditioning[key] = sample\n",
    "                total_q_ll = total_q_ll + q_density.log_prob(sample).sum()\n",
    "            \n",
    "            with pyro.condition(data=conditioning):\n",
    "                trace = pyro.poutine.trace(self.forward_model).get_trace(grammar)\n",
    "                log_p = trace.log_prob_sum()\n",
    "            \n",
    "            for key in conditioning.keys():\n",
    "                assert key in trace.nodes.keys()\n",
    "\n",
    "            # Update ELBO\n",
    "            # For now, no non-reparameterized sites in the variational\n",
    "            # posterior, so we can calculate expectation as mean of\n",
    "            # samples.\n",
    "            total_elbo = total_elbo + (log_p - total_q_ll)\n",
    "        total_elbo = total_elbo / num_samples\n",
    "        return total_elbo\n",
    "\n",
    "        \n",
    "class SVIWrapper():\n",
    "    def __init__(self, grammar, observed_node_sets):\n",
    "        self.grammar = grammar\n",
    "        self.observed_node_sets = observed_node_sets\n",
    "                \n",
    "    def get_map_trees(self, throw_on_failure=False, verbose=0):\n",
    "        ''' Get MAP parse for each tree in dataset using our current grammar params.\n",
    "            If parsing fails for a tree, will return None for that tree and throw\n",
    "            if requsted. '''\n",
    "        refined_trees = []\n",
    "        \n",
    "        for k, observed_nodes in enumerate(self.observed_node_sets):\n",
    "            mip_results = infer_mle_tree_with_mip(\n",
    "                self.grammar, observed_nodes, verbose=verbose>1, max_scene_extent_in_any_dir=10.\n",
    "            )\n",
    "            mip_optimized_tree = get_optimized_tree_from_mip_results(mip_results)\n",
    "            if mip_optimized_tree is None:\n",
    "                error_msg = \"MIP optimization failed for observed set %d\" % k\n",
    "                if throw_on_failure:\n",
    "                    raise RuntimeError(error_msg)\n",
    "                else:\n",
    "                    logging.warning(error_msg)\n",
    "                    refined_trees.append(None)\n",
    "                    continue\n",
    "            \n",
    "            refinement_results = optimize_scene_tree_with_nlp(mip_optimized_tree, verbose=verbose>1)\n",
    "            refined_tree = refinement_results.refined_tree\n",
    "            if refined_tree is None:\n",
    "                error_msg = \"Nonlinear refinement failed for observed set %d\" % k\n",
    "                if throw_on_failure:\n",
    "                    raise RuntimeError(error_msg)\n",
    "                else:\n",
    "                    logging.warning(error_msg)\n",
    "                    refined_trees.append(None)\n",
    "                    continue\n",
    "            \n",
    "            refined_trees.append(refined_tree)\n",
    "\n",
    "        return refined_trees\n",
    "            \n",
    "\n",
    "    def do_iterated_vi_fitting(self, major_iterations=1, minor_iterations=50, throw_on_map_failure=False,\n",
    "                               num_elbo_samples=3, verbose=0, tqdm=None):\n",
    "        '''\n",
    "        \n",
    "            throw_on_map_failure: If there's a failure in the MAP tree optimization routine,\n",
    "                should we throw a RuntimeError? If not, that observation will be ignored\n",
    "                in the iterations where the optimization failed.\n",
    "        '''\n",
    "        \n",
    "        # Logging: each major iteration produces a ModuleList of variational_posterior \n",
    "        # modules, along with a list of grammar state_dicts and variational_posterior_list state_dicts\n",
    "        # from the minor iterations.\n",
    "        self.elbo_history = []\n",
    "        self.grammar_major_iters = []\n",
    "        self.posterior_major_iters = []\n",
    "        \n",
    "        major_iterator = range(major_iterations)\n",
    "        if tqdm:\n",
    "            major_iterator = tqdm(major_iterator, desc=\"Major iteration\")\n",
    "        for major_iteration in major_iterator:\n",
    "            if tqdm:\n",
    "                major_iterator.set_description(\"Major %03d: calculating MAP trees\" % (major_iteration))\n",
    "            refined_trees = self.get_map_trees(throw_on_failure=throw_on_map_failure, verbose=verbose)\n",
    "            # Initialize variational posterior at the MAP tree.\n",
    "            variational_posteriors = torch.nn.ModuleList(\n",
    "                [VariationalPosteriorTree(tree, self.grammar) for tree in refined_trees]\n",
    "            )\n",
    "            \n",
    "            if tqdm:\n",
    "                major_iterator.set_description(\"Major %03d: doing SVI iters\" % (major_iteration))\n",
    "\n",
    "            params = [*variational_posteriors.parameters(), *self.grammar.parameters()]\n",
    "            optimizer = torch.optim.Adam(params, lr=0.1)\n",
    "            scheduler = torch.optim.lr_scheduler.MultiStepLR(optimizer, milestones=[50, 150], gamma=0.1)\n",
    "\n",
    "            grammar_history = []\n",
    "            variational_posterior_history = []\n",
    "            \n",
    "            minor_iterator = range(minor_iterations)\n",
    "            if tqdm:\n",
    "                minor_iterator = tqdm(minor_iterator, desc=\"Minor iteration\")\n",
    "            for minor_iteration in minor_iterator:\n",
    "                optimizer.zero_grad()\n",
    "                \n",
    "                grammar_history.append(deepcopy(self.grammar.state_dict()))\n",
    "                variational_posterior_history.append(deepcopy(variational_posteriors.state_dict()))\n",
    "                \n",
    "                # Evaluate ELBO and do gradient updates.\n",
    "                total_elbo = torch.mean(torch.stack([\n",
    "                    posterior.evaluate_elbo(self.grammar, num_elbo_samples, verbose=verbose)\n",
    "                    for posterior in variational_posteriors\n",
    "                ]))\n",
    "                \n",
    "                self.elbo_history.append(total_elbo.detach())\n",
    "                if tqdm:\n",
    "                    minor_iterator.set_description(\"Minor %05d: ELBO %f\" % (minor_iteration, total_elbo.item()))\n",
    "                else:\n",
    "                    logging.info(\"%03d/%05d: ELBO %f\" % (major_iteration, minor_iteration, total_elbo.item()))\n",
    "                \n",
    "                if minor_iteration < minor_iterations - 1:\n",
    "                    (-total_elbo).backward()\n",
    "                    optimizer.step()\n",
    "                    scheduler.step()\n",
    "                \n",
    "            self.grammar_major_iters.append(grammar_history)\n",
    "            self.posterior_major_iters.append((variational_posteriors, variational_posterior_history))\n",
    "    \n",
    "torch.random.manual_seed(42)\n",
    "random_grammar = SpatialSceneGrammar(\n",
    "    root_node_type = RootNode,\n",
    "    root_node_tf = torch.eye(4),\n",
    "    sample_params_from_prior=True\n",
    ")\n",
    "svi = SVIWrapper(random_grammar, [sample[1] for sample in samples])\n",
    "svi.do_iterated_vi_fitting(major_iterations=1, minor_iterations=200, tqdm=tqdm, num_elbo_samples=5)"
   ]
  },
  {
   "cell_type": "code",
   "execution_count": 6,
   "metadata": {},
   "outputs": [
    {
     "name": "stderr",
     "output_type": "stream",
     "text": [
      "No handles with labels found to put in legend.\n"
     ]
    },
    {
     "name": "stdout",
     "output_type": "stream",
     "text": [
      "0:xyz:mean final: tensor([ 0.1548,  0.2628, -0.1986])\n",
      "0:xyz:variance final: tensor([0.0584, 0.0977, 0.0103])\n",
      "0:xyz:mean final: tensor([ 0.0372, -0.2163,  0.1894])\n",
      "0:xyz:variance final: tensor([0.9235, 0.9009, 0.1229])\n"
     ]
    },
    {
     "name": "stderr",
     "output_type": "stream",
     "text": [
      "No handles with labels found to put in legend.\n"
     ]
    },
    {
     "data": {
      "image/png": "[encoded data removed]",
      "text/plain": [
       "<Figure size 432x288 with 1 Axes>"
      ]
     },
     "metadata": {
      "needs_background": "light"
     },
     "output_type": "display_data"
    },
    {
     "data": {
      "image/png": "[encoded data removed]",
      "text/plain": [
       "<Figure size 432x288 with 2 Axes>"
      ]
     },
     "metadata": {
      "needs_background": "light"
     },
     "output_type": "display_data"
    },
    {
     "data": {
      "image/png": "[encoded data removed]",
      "text/plain": [
       "<Figure size 432x288 with 2 Axes>"
      ]
     },
     "metadata": {
      "needs_background": "light"
     },
     "output_type": "display_data"
    },
    {
     "data": {
      "image/png": "[encoded data removed]",
      "text/plain": [
       "<Figure size 432x288 with 2 Axes>"
      ]
     },
     "metadata": {
      "needs_background": "light"
     },
     "output_type": "display_data"
    }
   ],
   "source": [
    "# Plot param history for a node type in the grammar.\n",
    "def plot_elbo_history(self):\n",
    "    plt.figure()\n",
    "    plt.plot(torch.stack(self.elbo_history).detach())\n",
    "    plt.title(\"ELBO history\")\n",
    "    plt.xlabel(\"Iter\")\n",
    "    plt.ylabel(\"ELBO\")\n",
    "\n",
    "def plot_grammar_parameter_history(self, node_type):\n",
    "    assert hasattr(self, \"grammar_major_iters\") and len(self.grammar_major_iters) > 0\n",
    "    assert node_type in self.grammar.all_types\n",
    "    \n",
    "    all_state_dicts = [x for l in self.grammar_major_iters for x in l]\n",
    "    node_param_history = []\n",
    "    rule_param_history = None\n",
    "    for state_dict in all_state_dicts:\n",
    "        self.grammar.load_state_dict(state_dict)\n",
    "        possible_params = self.grammar.params_by_node_type[node_type.__name__]\n",
    "        if possible_params:\n",
    "            node_param_history.append(possible_params().detach())\n",
    "        rule_params = self.grammar.rule_params_by_node_type[node_type.__name__]\n",
    "        if rule_param_history is None:\n",
    "            rule_param_history = [[{}, {}] for k in range(len(rule_params))]\n",
    "        \n",
    "        for k, (xyz_rule_params, rot_rule_params) in enumerate(rule_params):\n",
    "            for key, value in xyz_rule_params.items():\n",
    "                hist_dict = rule_param_history[k][0]\n",
    "                if key not in hist_dict:\n",
    "                    hist_dict[key] = [value().detach()]\n",
    "                else:\n",
    "                    hist_dict[key].append(value().detach())\n",
    "            for key, value in rot_rule_params.items():\n",
    "                hist_dict = rule_param_history[k][1]\n",
    "                if key not in hist_dict:\n",
    "                    hist_dict[key] = [value().detach()]\n",
    "                else:\n",
    "                    hist_dict[key].append(value().detach())\n",
    "\n",
    "    if len(node_param_history) > 0:\n",
    "        node_param_history = torch.stack(node_param_history)\n",
    "    for entry in rule_param_history:\n",
    "        for k in range(2): # xyz / rot rule\n",
    "            for key, value in entry[k].items():\n",
    "                entry[k][key] = torch.stack(value)\n",
    "\n",
    "    if len(node_param_history) > 0:\n",
    "        plt.figure()\n",
    "        plt.plot(node_param_history)\n",
    "        plt.title(\"%s params\" % node_type.__name__)\n",
    "        print(\"Final params: \", node_param_history[-1, :])\n",
    "    \n",
    "    # Rules\n",
    "    plt.figure()\n",
    "    N_rules = len(rule_param_history)\n",
    "    for k, entry in enumerate(rule_param_history):\n",
    "        plt.suptitle(\"%s rule %d params\" % (node_type.__name__, k))\n",
    "        # XYZ\n",
    "        plt.subplot(2, N_rules, k+1)\n",
    "        plt.title(\"XYZ Rule\")\n",
    "        for key, value in entry[0].items():\n",
    "            plt.plot(value, label=key)\n",
    "            print(\"%d:xyz:%s final: %s\" % (k, key, value[-1, :]))\n",
    "        plt.legend()\n",
    "        plt.subplot(2, N_rules, k + N_rules + 1)\n",
    "        plt.title(\"Rot rule\")\n",
    "        for key, value in entry[1].items():\n",
    "            plt.plot(value, label=key)\n",
    "            print(\"%d:rot:%s final: %s\" % (k, key, value[-1, :]))\n",
    "        plt.legend()\n",
    "    plt.tight_layout()\n",
    "\n",
    "def plot_post_fit_tree_samples(self, N_samples=100):\n",
    "    samples = []\n",
    "    for k in range(100):\n",
    "        samples.append(self.grammar.sample_tree(detach=True))\n",
    "\n",
    "    plt.figure()\n",
    "    plt.subplot(1, 2, 1)\n",
    "    plt.title(\"Node locations\")\n",
    "    l = get_all_node_xyzs(samples, HiddenNode)\n",
    "    plt.scatter(l[:, 0], l[:, 1], label=\"Intermediate\")\n",
    "    l = get_all_node_xyzs(samples, VisibleNode)\n",
    "    plt.scatter(l[:, 0], l[:, 1], label=\"Observed\")\n",
    "    plt.legend()\n",
    "    plt.subplot(1, 2, 2)\n",
    "    plt.hist(l[:, 2])\n",
    "    plt.title(\"Z height of nodes\")\n",
    "\n",
    "\n",
    "plot_elbo_history(svi)\n",
    "plot_grammar_parameter_history(svi, RootNode)\n",
    "plot_grammar_parameter_history(svi, HiddenNode)\n",
    "\n",
    "plot_post_fit_tree_samples(svi)"
   ]
  }
 ],
 "metadata": {
  "kernelspec": {
   "display_name": "py36_pyro",
   "language": "python",
   "name": "py36_pyro"
  },
  "language_info": {
   "codemirror_mode": {
    "name": "ipython",
    "version": 3
   },
   "file_extension": ".py",
   "mimetype": "text/x-python",
   "name": "python",
   "nbconvert_exporter": "python",
   "pygments_lexer": "ipython3",
   "version": "3.6.13"
  }
 },
 "nbformat": 4,
 "nbformat_minor": 2
}
