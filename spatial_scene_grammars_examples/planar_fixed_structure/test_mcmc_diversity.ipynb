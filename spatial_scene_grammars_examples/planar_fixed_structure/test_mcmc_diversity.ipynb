{
 "cells": [
  {
   "cell_type": "code",
   "execution_count": 72,
   "metadata": {},
   "outputs": [
    {
     "name": "stdout",
     "output_type": "stream",
     "text": [
      "The autoreload extension is already loaded. To reload it, use:\n",
      "  %reload_ext autoreload\n"
     ]
    }
   ],
   "source": [
    "%load_ext autoreload\n",
    "%autoreload 2\n",
    "\n",
    "import matplotlib.pyplot as plt\n",
    "import networkx as nx\n",
    "import numpy as np\n",
    "import os\n",
    "import pickle\n",
    "import time\n",
    "from tqdm.notebook import tqdm\n",
    "\n",
    "import torch\n",
    "torch.set_default_tensor_type(torch.DoubleTensor)\n",
    "\n",
    "from spatial_scene_grammars.nodes import *\n",
    "from spatial_scene_grammars.rules import *\n",
    "from spatial_scene_grammars.scene_grammar import *\n",
    "from spatial_scene_grammars.visualization import *\n",
    "from spatial_scene_grammars_examples.planar_fixed_structure.grammar import *\n",
    "from spatial_scene_grammars.parsing import *\n",
    "from spatial_scene_grammars.sampling import *\n",
    "from spatial_scene_grammars.parameter_estimation import *\n",
    "\n",
    "import meshcat\n",
    "import meshcat.geometry as meshcat_geom"
   ]
  },
  {
   "cell_type": "code",
   "execution_count": 49,
   "metadata": {},
   "outputs": [
    {
     "name": "stdout",
     "output_type": "stream",
     "text": [
      "Meshcat url:  http://127.0.0.1:7014/static/\n"
     ]
    },
    {
     "data": {
      "text/html": [
       "\n",
       "    <div style=\"height: 400px; width: 100%; overflow-x: auto; overflow-y: hidden; resize: both\">\n",
       "    <iframe src=\"http://127.0.0.1:7014/static/\" style=\"width: 100%; height: 100%; border: none\"></iframe>\n",
       "</div>\n"
      ],
      "text/plain": [
       "<IPython.core.display.HTML object>"
      ]
     },
     "execution_count": 49,
     "metadata": {},
     "output_type": "execute_result"
    }
   ],
   "source": [
    "if 'vis' not in globals():\n",
    "    vis = meshcat.Visualizer()\n",
    "vis.delete()\n",
    "base_url = \"http://127.0.0.1\"\n",
    "meshcat_url = base_url + \":\" + vis.url().split(\":\")[-1]\n",
    "print(\"Meshcat url: \", meshcat_url)\n",
    "\n",
    "def make_orthographic(xmin,  xmax, ymin, ymax, camera_position):\n",
    "    # Taken from https://github.com/RobotLocomotion/drake/blob/master/bindings/pydrake/systems/meshcat_visualizer.py\n",
    "    camera = meshcat_geom.OrthographicCamera(\n",
    "        left=xmin, right=xmax, top=ymax, bottom=ymin, near=-1000, far=1000)\n",
    "    vis['/Cameras/default/rotated'].set_object(camera)\n",
    "    vis['/Cameras/default'].set_transform(\n",
    "        RigidTransform(camera_position).GetAsMatrix4())\n",
    "\n",
    "    # Lock the orbit controls.\n",
    "    vis['/Cameras/default/rotated/<object>'].set_property(\n",
    "        \"position\", [0, 0, 0])\n",
    "    vis['/Background'].set_property(\"visible\", False)\n",
    "    vis['/Grid'].set_property(\"visible\", False)\n",
    "    vis['/Axes'].set_property(\"visible\", False)\n",
    "        \n",
    "make_orthographic(-2, 2, -2, 2, np.array([0., 0., 1.]))\n",
    "\n",
    "from IPython.display import HTML\n",
    "HTML(\"\"\"\n",
    "    <div style=\"height: 400px; width: 100%; overflow-x: auto; overflow-y: hidden; resize: both\">\n",
    "    <iframe src=\"{url}\" style=\"width: 100%; height: 100%; border: none\"></iframe>\n",
    "</div>\n",
    "\"\"\".format(url=meshcat_url))\n"
   ]
  },
  {
   "cell_type": "code",
   "execution_count": 66,
   "metadata": {},
   "outputs": [
    {
     "data": {
      "application/vnd.jupyter.widget-view+json": {
       "model_id": "fde1d15f51ae434eac8be1d7b6a1f380",
       "version_major": 2,
       "version_minor": 0
      },
      "text/plain": [
       "  0%|          | 0/100 [00:00<?, ?it/s]"
      ]
     },
     "metadata": {},
     "output_type": "display_data"
    },
    {
     "name": "stdout",
     "output_type": "stream",
     "text": [
      "Saving...\n",
      "Loading...\n",
      "Loaded 100 scenes.\n"
     ]
    },
    {
     "data": {
      "image/png": "[encoded data removed]",
      "text/plain": [
       "<Figure size 432x288 with 1 Axes>"
      ]
     },
     "metadata": {
      "needs_background": "light"
     },
     "output_type": "display_data"
    }
   ],
   "source": [
    "# Sample a dataset of scenes from the default grammar params.\n",
    "# Draw a random sample from the grammar and visualize it.\n",
    "# (Cache output.)\n",
    "torch.random.manual_seed(2)\n",
    "N_samples = 100\n",
    "RESAMPLE = True\n",
    "scenes_file = \"sampled_scenes_%d.dat\" % N_samples\n",
    "\n",
    "ground_truth_grammar = SpatialSceneGrammar(\n",
    "    root_node_type = RootNode,\n",
    "    root_node_tf = torch.eye(4)\n",
    ")\n",
    "\n",
    "if not os.path.exists(scenes_file) or RESAMPLE:\n",
    "    samples = []\n",
    "    for k in tqdm(range(N_samples)):\n",
    "        tree = ground_truth_grammar.sample_tree(detach=True)\n",
    "        observed_nodes = tree.get_observed_nodes()\n",
    "        samples.append((tree, observed_nodes))\n",
    "\n",
    "    print(\"Saving...\")\n",
    "    with open(scenes_file, \"wb\") as f:\n",
    "        pickle.dump(samples, f)\n",
    "\n",
    "print(\"Loading...\")\n",
    "with open(scenes_file, \"rb\") as f:\n",
    "    samples = pickle.load(f)\n",
    "print(\"Loaded %d scenes.\" % len(samples))\n",
    "observed_node_sets = [x[1] for x in samples]\n",
    "\n",
    "def get_all_node_xys(sampled_trees, node_type):\n",
    "    l = []\n",
    "    for tree in sampled_trees:\n",
    "        for node in tree:\n",
    "            if isinstance(node, node_type):\n",
    "                l.append(node.translation[:2].detach().cpu().numpy())\n",
    "    return np.stack(l)\n",
    "\n",
    "plt.figure()\n",
    "plt.title(\"Node locations\")\n",
    "l = get_all_node_xys([sample[0] for sample in samples], HiddenNode)\n",
    "plt.scatter(l[:, 0], l[:, 1], label=\"Intermediate\")\n",
    "l = get_all_node_xys([sample[0] for sample in samples], VisibleNode)\n",
    "plt.scatter(l[:, 0], l[:, 1], label=\"Observed\")\n",
    "plt.legend()\n",
    "\n",
    "# And draw some of the trees in visualizer; not too many, it makes it slow.\n",
    "for k in range(10):\n",
    "    draw_scene_tree_contents_meshcat(samples[k][0], zmq_url=vis.window.zmq_url, prefix=\"dataset/contents/sample_%d\" % k)\n",
    "    draw_scene_tree_structure_meshcat(samples[k][0], zmq_url=vis.window.zmq_url, prefix=\"dataset/structures/sample_%d\" % k)"
   ]
  },
  {
   "cell_type": "markdown",
   "metadata": {},
   "source": [
    "# Posterior sample diversity\n",
    "One thing I want to check out: when I ask my sampling procedure to produce samples from the posterior for a given scene, how diverse are those samples?"
   ]
  },
  {
   "cell_type": "code",
   "execution_count": 67,
   "metadata": {},
   "outputs": [
    {
     "name": "stdout",
     "output_type": "stream",
     "text": [
      "Point xy:  [ 2.66797899 -0.89801764]\n"
     ]
    }
   ],
   "source": [
    "sample_observed = samples[k][1]\n",
    "xy = sample_observed[1].translation.detach().numpy()[:2]\n",
    "print(\"Point xy: \", xy)\n",
    "\n",
    "# Compute the true posterior in close form. p(latent mu | observed x)\n",
    "# is product of prior (mu ~ N[0, 1]) and likelihood (x ~ N[mu, 1],\n",
    "# or by symmetry mu ~ N[x, 1]).\n",
    "# Ref https://math.stackexchange.com/questions/157172/product-of-two-multivariate-gaussians-distributions,\n",
    "# but it simplifies since all covariances are identity.\n",
    "posterior_mu = xy / 2.\n",
    "posterior_sigma = np.eye(2)/2."
   ]
  },
  {
   "cell_type": "code",
   "execution_count": 116,
   "metadata": {},
   "outputs": [
    {
     "name": "stderr",
     "output_type": "stream",
     "text": [
      "WARNING:root:context has already been set\n"
     ]
    },
    {
     "data": {
      "application/vnd.jupyter.widget-view+json": {
       "model_id": "8c162c276d7e4332a340539c0be7df26",
       "version_major": 2,
       "version_minor": 0
      },
      "text/plain": [
       "Collecting posterior samples:   0%|          | 0/1 [00:00<?, ?it/s]"
      ]
     },
     "metadata": {},
     "output_type": "display_data"
    },
    {
     "name": "stderr",
     "output_type": "stream",
     "text": [
      "Sample: 100%|██████████| 1050/1050 [01:48,  9.69it/s, step size=2.53e-02, acc. prob=0.913]\n"
     ]
    }
   ],
   "source": [
    "sample_observed = samples[k][1]\n",
    "posterior_samples = collect_posterior_sample_sets(\n",
    "    ground_truth_grammar, [sample_observed], tqdm=tqdm,\n",
    "    hmc_strategy=\"NUTS\", num_samples=1000, subsample_step=1\n",
    ")"
   ]
  },
  {
   "cell_type": "code",
   "execution_count": 115,
   "metadata": {},
   "outputs": [
    {
     "name": "stderr",
     "output_type": "stream",
     "text": [
      "WARNING:root:context has already been set\n"
     ]
    },
    {
     "data": {
      "text/plain": [
       "<matplotlib.legend.Legend at 0x7f49491b4f28>"
      ]
     },
     "execution_count": 115,
     "metadata": {},
     "output_type": "execute_result"
    },
    {
     "data": {
      "image/png": "[encoded data removed]",
      "text/plain": [
       "<Figure size 432x288 with 1 Axes>"
      ]
     },
     "metadata": {
      "needs_background": "light"
     },
     "output_type": "display_data"
    }
   ],
   "source": [
    "plt.figure()\n",
    "plt.title(\"Sampled node locations from MCMC\")\n",
    "l = get_all_node_xys(posterior_samples[0], HiddenNode)\n",
    "plt.scatter(l[:, 0], l[:, 1], label=\"Intermediate\", alpha=0.5)\n",
    "l = get_all_node_xys(posterior_samples[0], VisibleNode)\n",
    "plt.scatter(l[:, 0], l[:, 1], label=\"Observed\", alpha=0.5)\n",
    "\n",
    "# Really taking advantage of simple form of posterior here.\n",
    "from matplotlib.patches import Ellipse\n",
    "ellipse = Ellipse(\n",
    "    posterior_mu, width=np.sqrt(posterior_sigma[0, 0]), height=np.sqrt(posterior_sigma[1, 1]),\n",
    "    facecolor='none', edgecolor='red', label=\"GT posterior\", linestyle=\"--\"\n",
    ")\n",
    "plt.gca().add_patch(ellipse)\n",
    "plt.legend()"
   ]
  },
  {
   "cell_type": "code",
   "execution_count": 63,
   "metadata": {},
   "outputs": [
    {
     "data": {
      "application/vnd.jupyter.widget-view+json": {
       "model_id": "5169b06599224ec896fc114efb838b15",
       "version_major": 2,
       "version_minor": 0
      },
      "text/plain": [
       "  0%|          | 0/100000 [00:00<?, ?it/s]"
      ]
     },
     "metadata": {},
     "output_type": "display_data"
    }
   ],
   "source": [
    "# Instead rejection-sample to get a posterior.\n",
    "N_rejection_samples = 100000\n",
    "rejection_samples = []\n",
    "t = tqdm(range(N_rejection_samples))\n",
    "for k in t:\n",
    "    tree = ground_truth_grammar.sample_tree(detach=True)\n",
    "    observed_nodes = tree.get_observed_nodes()\n",
    "    sampled_xy = observed_nodes[1].translation.detach().numpy()[:2]\n",
    "    if np.linalg.norm(sampled_xy - xy) < 0.2:\n",
    "        rejection_samples.append(tree)\n",
    "    t.set_description(\"%d positive samples\" % len(rejection_samples))"
   ]
  },
  {
   "cell_type": "code",
   "execution_count": 64,
   "metadata": {},
   "outputs": [
    {
     "data": {
      "text/plain": [
       "<matplotlib.legend.Legend at 0x7f49bb324ba8>"
      ]
     },
     "execution_count": 64,
     "metadata": {},
     "output_type": "execute_result"
    },
    {
     "data": {
      "image/png": "[encoded data removed]",
      "text/plain": [
       "<Figure size 432x288 with 1 Axes>"
      ]
     },
     "metadata": {
      "needs_background": "light"
     },
     "output_type": "display_data"
    }
   ],
   "source": [
    "plt.figure()\n",
    "plt.title(\"Sampled node locations from rejection sampling\")\n",
    "l = get_all_node_xys(rejection_samples, HiddenNode)\n",
    "plt.scatter(l[:, 0], l[:, 1], label=\"Intermediate\", alpha=0.5)\n",
    "l = get_all_node_xys(rejection_samples, VisibleNode)\n",
    "plt.scatter(l[:, 0], l[:, 1], label=\"Observed\", alpha=0.5)\n",
    "\n",
    "# Really taking advantage of simple form of posterior here.\n",
    "from matplotlib.patches import Ellipse\n",
    "ellipse = Ellipse(\n",
    "    posterior_mu, width=np.sqrt(posterior_sigma[0, 0]), height=np.sqrt(posterior_sigma[1, 1]),\n",
    "    facecolor='none', edgecolor='red', label=\"GT posterior 1 STD\", linestyle=\"--\"\n",
    ")\n",
    "plt.gca().add_patch(ellipse)\n",
    "plt.legend()"
   ]
  }
 ],
 "metadata": {
  "kernelspec": {
   "display_name": "py36_pyro",
   "language": "python",
   "name": "py36_pyro"
  },
  "language_info": {
   "codemirror_mode": {
    "name": "ipython",
    "version": 3
   },
   "file_extension": ".py",
   "mimetype": "text/x-python",
   "name": "python",
   "nbconvert_exporter": "python",
   "pygments_lexer": "ipython3",
   "version": "3.6.13"
  }
 },
 "nbformat": 4,
 "nbformat_minor": 2
}
