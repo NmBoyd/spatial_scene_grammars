{
 "cells": [
  {
   "cell_type": "code",
   "execution_count": 1,
   "metadata": {},
   "outputs": [],
   "source": [
    "%load_ext autoreload\n",
    "%autoreload 2\n",
    "\n",
    "import matplotlib.pyplot as plt\n",
    "import networkx as nx\n",
    "import numpy as np\n",
    "import os\n",
    "import pickle\n",
    "import time\n",
    "from tqdm.notebook import tqdm\n",
    "\n",
    "import torch\n",
    "torch.set_default_tensor_type(torch.DoubleTensor)\n",
    "\n",
    "from spatial_scene_grammars.constraints import *\n",
    "from spatial_scene_grammars.nodes import *\n",
    "from spatial_scene_grammars.rules import *\n",
    "from spatial_scene_grammars.scene_grammar import *\n",
    "from spatial_scene_grammars.visualization import *\n",
    "from spatial_scene_grammars_examples.table.grammar import *\n",
    "from spatial_scene_grammars.parsing import *\n",
    "from spatial_scene_grammars.sampling import *\n",
    "from spatial_scene_grammars.parameter_estimation import *\n",
    "from spatial_scene_grammars.dataset import *\n",
    "\n",
    "import meshcat\n",
    "import meshcat.geometry as meshcat_geom"
   ]
  },
  {
   "cell_type": "code",
   "execution_count": 2,
   "metadata": {},
   "outputs": [
    {
     "name": "stdout",
     "output_type": "stream",
     "text": [
      "You can open the visualizer by visiting the following URL:\n",
      "http://127.0.0.1:7001/static/\n",
      "Meshcat url:  http://127.0.0.1:7001/static/\n"
     ]
    },
    {
     "data": {
      "text/plain": [
       "'\\nfrom IPython.display import HTML\\nHTML(\"\"\"\\n    <div style=\"height: 400px; width: 100%; overflow-x: auto; overflow-y: hidden; resize: both\">\\n    <iframe src=\"{url}\" style=\"width: 100%; height: 100%; border: none\"></iframe>\\n</div>\\n\"\"\".format(url=meshcat_url))\\n'"
      ]
     },
     "execution_count": 2,
     "metadata": {},
     "output_type": "execute_result"
    }
   ],
   "source": [
    "if 'vis' not in globals():\n",
    "    vis = meshcat.Visualizer()\n",
    "vis.delete()\n",
    "base_url = \"http://127.0.0.1\"\n",
    "meshcat_url = base_url + \":\" + vis.url().split(\":\")[-1]\n",
    "print(\"Meshcat url: \", meshcat_url)\n",
    "'''\n",
    "from IPython.display import HTML\n",
    "HTML(\"\"\"\n",
    "    <div style=\"height: 400px; width: 100%; overflow-x: auto; overflow-y: hidden; resize: both\">\n",
    "    <iframe src=\"{url}\" style=\"width: 100%; height: 100%; border: none\"></iframe>\n",
    "</div>\n",
    "\"\"\".format(url=meshcat_url))\n",
    "'''"
   ]
  },
  {
   "cell_type": "code",
   "execution_count": 3,
   "metadata": {},
   "outputs": [
    {
     "name": "stderr",
     "output_type": "stream",
     "text": [
      "WARNING:root:Detaching BinghamDistribution parameters.\n",
      "WARNING:root:Prior over parameters of WorldFrameBinghamRotationRule are Deltas.\n"
     ]
    }
   ],
   "source": [
    "# Set up grammar and constraint set.\n",
    "grammar = SpatialSceneGrammar(\n",
    "    root_node_type = Table,\n",
    "    root_node_tf = drake_tf_to_torch_tf(RigidTransform(p=[0.0, 0., 0.8]))\n",
    ")\n",
    "constraints = [\n",
    "    ObjectsOnTableConstraint(),\n",
    "    ObjectSpacingConstraint(),\n",
    "    TallStackConstraint(),\n",
    "    NumStacksConstraint()\n",
    "]\n",
    "\n",
    "def sample_realistic_scene(grammar, constraints, seed=None, skip_physics_constraints=False):\n",
    "    if seed is not None:\n",
    "        torch.random.manual_seed(seed)\n",
    "    structure_constraints, pose_constraints = split_constraints(constraints)\n",
    "    if len(structure_constraints) > 0:\n",
    "        tree, success = rejection_sample_under_constraints(grammar, structure_constraints, 1000, detach=True)\n",
    "        if not success:\n",
    "            logging.error(\"Couldn't rejection sample a feasible tree config.\")\n",
    "            return None, None\n",
    "    else:\n",
    "        tree = grammar.sample_tree(detach=True)\n",
    "\n",
    "    samples = do_fixed_structure_hmc_with_constraint_penalties(\n",
    "        grammar, tree, num_samples=25, subsample_step=1,\n",
    "        with_nonpenetration=False, zmq_url=vis.window.zmq_url,\n",
    "        constraints=pose_constraints,\n",
    "        kernel_type=\"NUTS\", max_tree_depth=6, target_accept_prob=0.8, adapt_step_size=True,\n",
    "        #kernel_type=\"HMC\", num_steps=1, step_size=1E-1, adapt_step_size=False, # Langevin-ish\n",
    "        structure_vis_kwargs={\"with_triad\": False, \"linewidth\": 30, \"node_sphere_size\": 0.02,\n",
    "                             \"alpha\": 0.5}\n",
    "    )\n",
    "\n",
    "    # Step through samples backwards in HMC process and pick out a tree that satisfies\n",
    "    # the constraints.\n",
    "    good_tree = None\n",
    "    best_bad_tree = None\n",
    "    best_violation = None\n",
    "    for candidate_tree in samples[::-1]:\n",
    "        total_violation = eval_total_constraint_set_violation(candidate_tree, constraints)\n",
    "        if total_violation <= 0.:\n",
    "            good_tree = candidate_tree\n",
    "            break\n",
    "        else:\n",
    "            if best_bad_tree is None or total_violation <= best_violation:\n",
    "                best_bad_tree = candidate_tree\n",
    "                best_violation = total_violation.detach()\n",
    "            \n",
    "    if good_tree == None:\n",
    "        logging.error(\"No tree in samples satisfied constraints.\")\n",
    "        print(\"Best total violation: %f\" % best_violation)\n",
    "        print(\"Violations of best bad tree:\")\n",
    "        for constraint in constraints:\n",
    "            print(\"constraint \", constraint, \": \", constraint.eval(best_bad_tree))\n",
    "        return None, None\n",
    "\n",
    "    if skip_physics_constraints:\n",
    "        return None, good_tree\n",
    "\n",
    "    feasible_tree = project_tree_to_feasibility(deepcopy(good_tree), do_forward_sim=True, timestep=0.001, T=1.)\n",
    "    return feasible_tree, good_tree"
   ]
  },
  {
   "cell_type": "code",
   "execution_count": null,
   "metadata": {},
   "outputs": [],
   "source": [
    "test_tree, _ = sample_realistic_scene(grammar, constraints, seed=42)\n",
    "if test_tree is not None:\n",
    "    draw_scene_tree_contents_meshcat(test_tree, zmq_url=vis.window.zmq_url,  prefix=\"test_tree/contents\")\n",
    "    draw_scene_tree_structure_meshcat(test_tree, zmq_url=vis.window.zmq_url,  prefix=\"test_tree/structure\")\n",
    "# Save that scene out for use in another notebook\n",
    "with open(\"example_feasible_sampled_scene.pickle\", \"wb\") as f:\n",
    "    pickle.dump(test_tree, f)"
   ]
  },
  {
   "cell_type": "code",
   "execution_count": null,
   "metadata": {},
   "outputs": [],
   "source": [
    "# Produce dataset by sampling a bunch of environments.\n",
    "# Save grammar state dict\n",
    "#state_dict_file = \"target_dataset_grammar_state_dict.torch\"\n",
    "state_dict_file = \"structure_constraint_dataset_grammar_state_dict.torch\"\n",
    "print(\"Saving state dict to \", state_dict_file)\n",
    "torch.save(grammar.state_dict(), state_dict_file)\n",
    "# Try to collect a target number of examples, and save them out\n",
    "#dataset_save_file = \"target_dataset_examples.pickle\"\n",
    "dataset_save_file = \"structure_constraint_examples.pickle\"\n",
    "N = 20\n",
    "k = 0\n",
    "pbar = tqdm(total=N, desc=\"Samples\")\n",
    "while k < N:\n",
    "    tree, _ = sample_realistic_scene(grammar, constraints)\n",
    "    if tree is not None:\n",
    "        with open(dataset_save_file, \"a+b\") as f:\n",
    "            pickle.dump(tree, f)\n",
    "        k += 1\n",
    "        pbar.update(k)\n",
    "pbar.close()"
   ]
  },
  {
   "cell_type": "code",
   "execution_count": null,
   "metadata": {},
   "outputs": [],
   "source": [
    "print(tree.score())"
   ]
  },
  {
   "cell_type": "code",
   "execution_count": null,
   "metadata": {},
   "outputs": [],
   "source": []
  },
  {
   "cell_type": "markdown",
   "metadata": {},
   "source": [
    "# Build sample population from various stages of em fitting process"
   ]
  },
  {
   "cell_type": "code",
   "execution_count": null,
   "metadata": {},
   "outputs": [],
   "source": [
    "fit_grammar = SpatialSceneGrammar(\n",
    "    root_node_type = Table,\n",
    "    root_node_tf = drake_tf_to_torch_tf(RigidTransform(p=[0.0, 0., 0.8]))\n",
    ")\n",
    "constraints = [\n",
    "    ObjectsOnTableConstraint(),\n",
    "    ObjectSpacingConstraint()\n",
    "]\n",
    "#fit_grammar.load_state_dict(torch.load(\"fit_grammar.torch\"))\n",
    "with open(\"fit_em.pickle\", \"rb\") as fp:\n",
    "    em = pickle.load(fp)\n",
    "fit_grammar.load_state_dict(em.grammar_iters[-1])"
   ]
  },
  {
   "cell_type": "code",
   "execution_count": null,
   "metadata": {},
   "outputs": [],
   "source": [
    "test_tree, _ = sample_realistic_scene(fit_grammar, constraints, seed=43, skip_physics_constraint=False)\n",
    "if test_tree is not None:\n",
    "    draw_scene_tree_contents_meshcat(test_tree, zmq_url=vis.window.zmq_url,  prefix=\"test_tree/contents\")\n",
    "    draw_scene_tree_structure_meshcat(test_tree, zmq_url=vis.window.zmq_url,  prefix=\"test_tree/structure\")"
   ]
  },
  {
   "cell_type": "code",
   "execution_count": null,
   "metadata": {},
   "outputs": [],
   "source": [
    "# This one saves out the pre-fit examples, and doesn't bother with physics,\n",
    "# since these samples are all over the place. It still does HMC to try to resolve\n",
    "# the basic constraints (for better comparison with post-fit)\n",
    "fit_grammar.load_state_dict(em.grammar_iters[0])\n",
    "state_dict_file = \"pre_fit_grammar_state_dict.torch\"\n",
    "print(\"Saving state dict to \", state_dict_file)\n",
    "torch.save(fit_grammar.state_dict(), state_dict_file)\n",
    "# Try to collect a target number of examples, and save them out\n",
    "dataset_save_file = \"pre_fit_grammar_draws.pickle\"\n",
    "N = 50\n",
    "k = 0\n",
    "pbar = tqdm(total=N, desc=\"Samples\")\n",
    "while k < N:\n",
    "    print(k, N)\n",
    "    _, nonfeasible_tree = sample_realistic_scene(fit_grammar, constraints, skip_physics_constraints=True)\n",
    "    if nonfeasible_tree is not None:\n",
    "        with open(dataset_save_file, \"a+b\") as f:\n",
    "            pickle.dump((None, nonfeasible_tree), f)\n",
    "        k += 1\n",
    "        pbar.update(k)\n",
    "pbar.close()"
   ]
  },
  {
   "cell_type": "code",
   "execution_count": null,
   "metadata": {},
   "outputs": [],
   "source": [
    "# This one saves out the post-fit examples, before and after the physics projection step.\n",
    "fit_grammar.load_state_dict(em.grammar_iters[-1])\n",
    "state_dict_file = \"post_fit_grammar_state_dict.torch\"\n",
    "print(\"Saving state dict to \", state_dict_file)\n",
    "torch.save(fit_grammar.state_dict(), state_dict_file)\n",
    "# Try to collect a target number of examples, and save them out\n",
    "dataset_save_file = \"post_fit_grammar_draws.pickle\"\n",
    "N = 50\n",
    "k = 0\n",
    "pbar = tqdm(total=N, desc=\"Samples\")\n",
    "while k < N:\n",
    "    feasible_tree, nonfeasible_tree = sample_realistic_scene(fit_grammar, constraints, skip_physics_constraints=False)\n",
    "    if feasible_tree is not None:\n",
    "        with open(dataset_save_file, \"a+b\") as f:\n",
    "            pickle.dump((feasible_tree, nonfeasible_tree), f)\n",
    "        k = k + 1\n",
    "        pbar.update(k)\n",
    "pbar.close()"
   ]
  },
  {
   "cell_type": "markdown",
   "metadata": {},
   "source": [
    "# Same thing, but baseline grammar"
   ]
  },
  {
   "cell_type": "code",
   "execution_count": 10,
   "metadata": {},
   "outputs": [
    {
     "data": {
      "text/plain": [
       "<All keys matched successfully>"
      ]
     },
     "execution_count": 10,
     "metadata": {},
     "output_type": "execute_result"
    }
   ],
   "source": [
    "from spatial_scene_grammars_examples.table.grammar_baseline import *\n",
    "\n",
    "fit_grammar = SpatialSceneGrammar(\n",
    "    root_node_type = TableBaseline,\n",
    "    root_node_tf = drake_tf_to_torch_tf(RigidTransform(p=[0.0, 0., 0.8]))\n",
    ")\n",
    "constraints = [\n",
    "    ObjectsOnTableConstraintBaseline(),\n",
    "    ObjectSpacingConstraintBaseline()\n",
    "]\n",
    "#fit_grammar.load_state_dict(torch.load(\"fit_grammar.torch\"))\n",
    "with open(\"fit_em_baseline.pickle\", \"rb\") as fp:\n",
    "    em = pickle.load(fp)\n",
    "fit_grammar.load_state_dict(em.grammar_iters[-1])"
   ]
  },
  {
   "cell_type": "code",
   "execution_count": 11,
   "metadata": {},
   "outputs": [
    {
     "name": "stdout",
     "output_type": "stream",
     "text": [
      "Initial trace log prob:  tensor(-18354.6738)\n",
      "Connecting to meshcat-server at zmq_url=tcp://127.0.0.1:6001...\n",
      "You can open the visualizer by visiting the following URL:\n",
      "http://127.0.0.1:7001/static/\n",
      "Connected to meshcat-server.\n"
     ]
    },
    {
     "name": "stderr",
     "output_type": "stream",
     "text": [
      "Sample: 100%|██████████| 37/37 [01:06,  1.81s/it, step size=6.44e-04, acc. prob=0.923]\n"
     ]
    }
   ],
   "source": [
    "test_tree, _ = sample_realistic_scene(fit_grammar, constraints, seed=43, skip_physics_constraints=False)\n",
    "if test_tree is not None:\n",
    "    draw_scene_tree_contents_meshcat(test_tree, zmq_url=vis.window.zmq_url,  prefix=\"test_tree/contents\")\n",
    "    draw_scene_tree_structure_meshcat(test_tree, zmq_url=vis.window.zmq_url,  prefix=\"test_tree/structure\")"
   ]
  },
  {
   "cell_type": "code",
   "execution_count": 12,
   "metadata": {},
   "outputs": [
    {
     "name": "stdout",
     "output_type": "stream",
     "text": [
      "Saving state dict to  baseline_pre_fit_grammar_state_dict.torch\n"
     ]
    },
    {
     "data": {
      "application/vnd.jupyter.widget-view+json": {
       "model_id": "2e2f1763811e42d19f1817304d87fd9b",
       "version_major": 2,
       "version_minor": 0
      },
      "text/plain": [
       "Samples:   0%|          | 0/30 [00:00<?, ?it/s]"
      ]
     },
     "metadata": {},
     "output_type": "display_data"
    },
    {
     "name": "stdout",
     "output_type": "stream",
     "text": [
      "0 30\n",
      "Initial trace log prob:  tensor(-6560784.8161)\n"
     ]
    },
    {
     "name": "stderr",
     "output_type": "stream",
     "text": [
      "\r",
      "Warmup:   0%|          | 0/37 [00:00, ?it/s]"
     ]
    },
    {
     "name": "stdout",
     "output_type": "stream",
     "text": [
      "Connecting to meshcat-server at zmq_url=tcp://127.0.0.1:6001...\n",
      "You can open the visualizer by visiting the following URL:\n",
      "http://127.0.0.1:7001/static/\n",
      "Connected to meshcat-server.\n"
     ]
    },
    {
     "name": "stderr",
     "output_type": "stream",
     "text": [
      "Sample: 100%|██████████| 37/37 [00:17,  2.08it/s, step size=3.03e-03, acc. prob=0.754]\n",
      "Warmup:  32%|███▏      | 12/37 [19:58:36, 5993.08s/it, step size=8.08e-04, acc. prob=0.724]\n"
     ]
    },
    {
     "name": "stdout",
     "output_type": "stream",
     "text": [
      "1 30\n",
      "Initial trace log prob:  tensor(-39563702.5844)\n",
      "Connecting to meshcat-server at zmq_url=tcp://127.0.0.1:6001...\n",
      "You can open the visualizer by visiting the following URL:\n",
      "http://127.0.0.1:7001/static/\n",
      "Connected to meshcat-server.\n"
     ]
    },
    {
     "name": "stderr",
     "output_type": "stream",
     "text": [
      "Sample: 100%|██████████| 37/37 [00:49,  1.34s/it, step size=1.16e-03, acc. prob=0.862]\n"
     ]
    },
    {
     "name": "stdout",
     "output_type": "stream",
     "text": [
      "2 30\n",
      "Initial trace log prob:  tensor(-34584130.0216)\n",
      "Connecting to meshcat-server at zmq_url=tcp://127.0.0.1:6001...\n",
      "You can open the visualizer by visiting the following URL:\n",
      "http://127.0.0.1:7001/static/\n",
      "Connected to meshcat-server.\n"
     ]
    },
    {
     "name": "stderr",
     "output_type": "stream",
     "text": [
      "Sample: 100%|██████████| 37/37 [00:38,  1.04s/it, step size=7.11e-04, acc. prob=0.972]\n"
     ]
    },
    {
     "name": "stdout",
     "output_type": "stream",
     "text": [
      "3 30\n",
      "Initial trace log prob:  tensor(-4096797.4305)\n"
     ]
    },
    {
     "name": "stderr",
     "output_type": "stream",
     "text": [
      "\r",
      "Warmup:   0%|          | 0/37 [00:00, ?it/s]"
     ]
    },
    {
     "name": "stdout",
     "output_type": "stream",
     "text": [
      "Connecting to meshcat-server at zmq_url=tcp://127.0.0.1:6001...\n",
      "You can open the visualizer by visiting the following URL:\n",
      "http://127.0.0.1:7001/static/\n",
      "Connected to meshcat-server.\n"
     ]
    },
    {
     "name": "stderr",
     "output_type": "stream",
     "text": [
      "Sample: 100%|██████████| 37/37 [00:18,  2.01it/s, step size=1.34e-03, acc. prob=0.991]\n"
     ]
    },
    {
     "name": "stdout",
     "output_type": "stream",
     "text": [
      "4 30\n",
      "Initial trace log prob:  tensor(-31335290.5514)\n",
      "Connecting to meshcat-server at zmq_url=tcp://127.0.0.1:6001...\n",
      "You can open the visualizer by visiting the following URL:\n",
      "http://127.0.0.1:7001/static/\n",
      "Connected to meshcat-server.\n"
     ]
    },
    {
     "name": "stderr",
     "output_type": "stream",
     "text": [
      "Sample: 100%|██████████| 37/37 [00:47,  1.29s/it, step size=1.06e-03, acc. prob=0.906]\n"
     ]
    },
    {
     "name": "stdout",
     "output_type": "stream",
     "text": [
      "5 30\n",
      "Initial trace log prob:  tensor(-91715804.1372)\n",
      "Connecting to meshcat-server at zmq_url=tcp://127.0.0.1:6001...\n",
      "You can open the visualizer by visiting the following URL:\n",
      "http://127.0.0.1:7001/static/\n",
      "Connected to meshcat-server.\n"
     ]
    },
    {
     "name": "stderr",
     "output_type": "stream",
     "text": [
      "Sample: 100%|██████████| 37/37 [01:33,  2.53s/it, step size=5.28e-04, acc. prob=0.975]\n"
     ]
    },
    {
     "name": "stdout",
     "output_type": "stream",
     "text": [
      "6 30\n",
      "Initial trace log prob:  tensor(-49457115.3701)\n",
      "Connecting to meshcat-server at zmq_url=tcp://127.0.0.1:6001...\n",
      "You can open the visualizer by visiting the following URL:\n",
      "http://127.0.0.1:7001/static/\n",
      "Connected to meshcat-server.\n"
     ]
    },
    {
     "name": "stderr",
     "output_type": "stream",
     "text": [
      "Sample: 100%|██████████| 37/37 [00:51,  1.39s/it, step size=6.62e-04, acc. prob=0.949]\n"
     ]
    },
    {
     "name": "stdout",
     "output_type": "stream",
     "text": [
      "7 30\n",
      "Initial trace log prob:  tensor(-28050409.7256)\n",
      "Connecting to meshcat-server at zmq_url=tcp://127.0.0.1:6001...\n",
      "You can open the visualizer by visiting the following URL:\n",
      "http://127.0.0.1:7001/static/\n",
      "Connected to meshcat-server.\n"
     ]
    },
    {
     "name": "stderr",
     "output_type": "stream",
     "text": [
      "Sample: 100%|██████████| 37/37 [00:33,  1.09it/s, step size=8.34e-04, acc. prob=0.984]\n"
     ]
    },
    {
     "name": "stdout",
     "output_type": "stream",
     "text": [
      "8 30\n",
      "Initial trace log prob:  tensor(-14908753.8839)\n"
     ]
    },
    {
     "name": "stderr",
     "output_type": "stream",
     "text": [
      "\r",
      "Warmup:   0%|          | 0/37 [00:00, ?it/s]"
     ]
    },
    {
     "name": "stdout",
     "output_type": "stream",
     "text": [
      "Connecting to meshcat-server at zmq_url=tcp://127.0.0.1:6001...\n",
      "You can open the visualizer by visiting the following URL:\n",
      "http://127.0.0.1:7001/static/\n",
      "Connected to meshcat-server.\n"
     ]
    },
    {
     "name": "stderr",
     "output_type": "stream",
     "text": [
      "Sample: 100%|██████████| 37/37 [00:27,  1.34it/s, step size=1.62e-03, acc. prob=0.880]\n",
      "Warmup:   5%|▌         | 2/37 [00:00, 17.55it/s, step size=1.00e+00, acc. prob=1.000]"
     ]
    },
    {
     "name": "stdout",
     "output_type": "stream",
     "text": [
      "9 30\n",
      "no objects\n",
      "Initial trace log prob:  tensor(0.)\n",
      "Connecting to meshcat-server at zmq_url=tcp://127.0.0.1:6001...\n",
      "You can open the visualizer by visiting the following URL:\n",
      "http://127.0.0.1:7001/static/\n",
      "Connected to meshcat-server.\n",
      "no objects\n",
      "no objects\n",
      "no objects\n"
     ]
    },
    {
     "name": "stderr",
     "output_type": "stream",
     "text": [
      "Sample: 100%|██████████| 37/37 [00:04,  9.12it/s, step size=1.00e+00, acc. prob=1.000]\n"
     ]
    },
    {
     "name": "stdout",
     "output_type": "stream",
     "text": [
      "no objects\n",
      "no objects\n",
      "no objects\n",
      "no objects\n",
      "no objects\n",
      "no objects\n",
      "no objects\n",
      "no objects\n",
      "no objects\n",
      "no objects\n",
      "no objects\n",
      "no objects\n",
      "no objects\n",
      "no objects\n",
      "no objects\n",
      "no objects\n",
      "no objects\n",
      "no objects\n",
      "no objects\n",
      "no objects\n",
      "no objects\n",
      "no objects\n",
      "no objects\n",
      "no objects\n",
      "no objects\n",
      "no objects\n",
      "10 30\n",
      "Initial trace log prob:  tensor(-6946781.5049)\n"
     ]
    },
    {
     "name": "stderr",
     "output_type": "stream",
     "text": [
      "\r",
      "Warmup:   0%|          | 0/37 [00:00, ?it/s]"
     ]
    },
    {
     "name": "stdout",
     "output_type": "stream",
     "text": [
      "Connecting to meshcat-server at zmq_url=tcp://127.0.0.1:6001...\n",
      "You can open the visualizer by visiting the following URL:\n",
      "http://127.0.0.1:7001/static/\n",
      "Connected to meshcat-server.\n"
     ]
    },
    {
     "name": "stderr",
     "output_type": "stream",
     "text": [
      "Sample: 100%|██████████| 37/37 [00:19,  1.91it/s, step size=1.46e-03, acc. prob=0.929]\n"
     ]
    },
    {
     "name": "stdout",
     "output_type": "stream",
     "text": [
      "11 30\n",
      "Initial trace log prob:  tensor(-46436241.8441)\n",
      "Connecting to meshcat-server at zmq_url=tcp://127.0.0.1:6001...\n",
      "You can open the visualizer by visiting the following URL:\n",
      "http://127.0.0.1:7001/static/\n",
      "Connected to meshcat-server.\n"
     ]
    },
    {
     "name": "stderr",
     "output_type": "stream",
     "text": [
      "Sample: 100%|██████████| 37/37 [00:39,  1.07s/it, step size=7.48e-04, acc. prob=0.966]\n"
     ]
    },
    {
     "name": "stdout",
     "output_type": "stream",
     "text": [
      "12 30\n",
      "Initial trace log prob:  tensor(-87351065.9127)\n",
      "Connecting to meshcat-server at zmq_url=tcp://127.0.0.1:6001...\n",
      "You can open the visualizer by visiting the following URL:\n",
      "http://127.0.0.1:7001/static/\n",
      "Connected to meshcat-server.\n"
     ]
    },
    {
     "name": "stderr",
     "output_type": "stream",
     "text": [
      "Sample: 100%|██████████| 37/37 [01:04,  1.74s/it, step size=8.11e-04, acc. prob=0.944]\n"
     ]
    },
    {
     "name": "stdout",
     "output_type": "stream",
     "text": [
      "13 30\n",
      "Initial trace log prob:  tensor(-98999066.8006)\n",
      "Connecting to meshcat-server at zmq_url=tcp://127.0.0.1:6001...\n",
      "You can open the visualizer by visiting the following URL:\n",
      "http://127.0.0.1:7001/static/\n",
      "Connected to meshcat-server.\n"
     ]
    },
    {
     "name": "stderr",
     "output_type": "stream",
     "text": [
      "Sample: 100%|██████████| 37/37 [01:01,  1.66s/it, step size=8.05e-04, acc. prob=0.882]\n"
     ]
    },
    {
     "name": "stdout",
     "output_type": "stream",
     "text": [
      "14 30\n",
      "Initial trace log prob:  tensor(-41129023.1125)\n",
      "Connecting to meshcat-server at zmq_url=tcp://127.0.0.1:6001...\n",
      "You can open the visualizer by visiting the following URL:\n",
      "http://127.0.0.1:7001/static/\n",
      "Connected to meshcat-server.\n"
     ]
    },
    {
     "name": "stderr",
     "output_type": "stream",
     "text": [
      "Sample: 100%|██████████| 37/37 [00:36,  1.01it/s, step size=1.14e-03, acc. prob=0.958]\n"
     ]
    },
    {
     "name": "stdout",
     "output_type": "stream",
     "text": [
      "15 30\n",
      "Initial trace log prob:  tensor(-47726029.0007)\n",
      "Connecting to meshcat-server at zmq_url=tcp://127.0.0.1:6001...\n",
      "You can open the visualizer by visiting the following URL:\n",
      "http://127.0.0.1:7001/static/\n",
      "Connected to meshcat-server.\n"
     ]
    },
    {
     "name": "stderr",
     "output_type": "stream",
     "text": [
      "Sample: 100%|██████████| 37/37 [00:42,  1.15s/it, step size=1.00e-03, acc. prob=0.981]\n"
     ]
    },
    {
     "name": "stdout",
     "output_type": "stream",
     "text": [
      "16 30\n",
      "Initial trace log prob:  tensor(-21206715.7016)\n"
     ]
    },
    {
     "name": "stderr",
     "output_type": "stream",
     "text": [
      "\r",
      "Warmup:   0%|          | 0/37 [00:00, ?it/s]"
     ]
    },
    {
     "name": "stdout",
     "output_type": "stream",
     "text": [
      "Connecting to meshcat-server at zmq_url=tcp://127.0.0.1:6001...\n",
      "You can open the visualizer by visiting the following URL:\n",
      "http://127.0.0.1:7001/static/\n",
      "Connected to meshcat-server.\n"
     ]
    },
    {
     "name": "stderr",
     "output_type": "stream",
     "text": [
      "Sample: 100%|██████████| 37/37 [00:26,  1.38it/s, step size=1.16e-03, acc. prob=0.947]\n"
     ]
    },
    {
     "name": "stdout",
     "output_type": "stream",
     "text": [
      "17 30\n",
      "Initial trace log prob:  tensor(-24310137.3803)\n",
      "Connecting to meshcat-server at zmq_url=tcp://127.0.0.1:6001...\n",
      "You can open the visualizer by visiting the following URL:\n",
      "http://127.0.0.1:7001/static/\n",
      "Connected to meshcat-server.\n"
     ]
    },
    {
     "name": "stderr",
     "output_type": "stream",
     "text": [
      "Sample: 100%|██████████| 37/37 [00:39,  1.06s/it, step size=9.79e-04, acc. prob=0.985]\n"
     ]
    },
    {
     "name": "stdout",
     "output_type": "stream",
     "text": [
      "18 30\n",
      "Initial trace log prob:  tensor(-29550215.5866)\n",
      "Connecting to meshcat-server at zmq_url=tcp://127.0.0.1:6001...\n",
      "You can open the visualizer by visiting the following URL:\n",
      "http://127.0.0.1:7001/static/\n",
      "Connected to meshcat-server.\n"
     ]
    },
    {
     "name": "stderr",
     "output_type": "stream",
     "text": [
      "Sample: 100%|██████████| 37/37 [00:44,  1.20s/it, step size=9.21e-04, acc. prob=0.933]\n"
     ]
    },
    {
     "name": "stdout",
     "output_type": "stream",
     "text": [
      "19 30\n",
      "Initial trace log prob:  tensor(-65440902.7069)\n",
      "Connecting to meshcat-server at zmq_url=tcp://127.0.0.1:6001...\n",
      "You can open the visualizer by visiting the following URL:\n",
      "http://127.0.0.1:7001/static/\n",
      "Connected to meshcat-server.\n"
     ]
    },
    {
     "name": "stderr",
     "output_type": "stream",
     "text": [
      "Sample: 100%|██████████| 37/37 [00:57,  1.56s/it, step size=8.67e-04, acc. prob=0.967]\n"
     ]
    },
    {
     "name": "stdout",
     "output_type": "stream",
     "text": [
      "20 30\n",
      "Initial trace log prob:  tensor(-16603260.9372)\n",
      "Connecting to meshcat-server at zmq_url=tcp://127.0.0.1:6001...\n",
      "You can open the visualizer by visiting the following URL:\n",
      "http://127.0.0.1:7001/static/\n",
      "Connected to meshcat-server.\n"
     ]
    },
    {
     "name": "stderr",
     "output_type": "stream",
     "text": [
      "Sample: 100%|██████████| 37/37 [00:33,  1.12it/s, step size=1.65e-03, acc. prob=0.893]\n"
     ]
    },
    {
     "name": "stdout",
     "output_type": "stream",
     "text": [
      "21 30\n",
      "Initial trace log prob:  tensor(-27221020.8868)\n",
      "Connecting to meshcat-server at zmq_url=tcp://127.0.0.1:6001...\n",
      "You can open the visualizer by visiting the following URL:\n",
      "http://127.0.0.1:7001/static/\n",
      "Connected to meshcat-server.\n"
     ]
    },
    {
     "name": "stderr",
     "output_type": "stream",
     "text": [
      "Sample: 100%|██████████| 37/37 [00:36,  1.01it/s, step size=9.95e-04, acc. prob=0.964]\n",
      "Warmup:   5%|▌         | 2/37 [00:00, 18.04it/s, step size=1.00e+00, acc. prob=1.000]"
     ]
    },
    {
     "name": "stdout",
     "output_type": "stream",
     "text": [
      "22 30\n",
      "no objects\n",
      "Initial trace log prob:  tensor(0.)\n",
      "Connecting to meshcat-server at zmq_url=tcp://127.0.0.1:6001...\n",
      "You can open the visualizer by visiting the following URL:\n",
      "http://127.0.0.1:7001/static/\n",
      "Connected to meshcat-server.\n",
      "no objects\n",
      "no objects\n",
      "no objects\n"
     ]
    },
    {
     "name": "stderr",
     "output_type": "stream",
     "text": [
      "Sample: 100%|██████████| 37/37 [00:04,  8.97it/s, step size=1.00e+00, acc. prob=1.000]\n"
     ]
    },
    {
     "name": "stdout",
     "output_type": "stream",
     "text": [
      "no objects\n",
      "no objects\n",
      "no objects\n",
      "no objects\n",
      "no objects\n",
      "no objects\n",
      "no objects\n",
      "no objects\n",
      "no objects\n",
      "no objects\n",
      "no objects\n",
      "no objects\n",
      "no objects\n",
      "no objects\n",
      "no objects\n",
      "no objects\n",
      "no objects\n",
      "no objects\n",
      "no objects\n",
      "no objects\n",
      "no objects\n",
      "no objects\n",
      "no objects\n",
      "no objects\n",
      "no objects\n",
      "no objects\n",
      "23 30\n",
      "Initial trace log prob:  tensor(-69256087.8824)\n"
     ]
    },
    {
     "name": "stderr",
     "output_type": "stream",
     "text": [
      "\r",
      "Warmup:   0%|          | 0/37 [00:00, ?it/s]"
     ]
    },
    {
     "name": "stdout",
     "output_type": "stream",
     "text": [
      "Connecting to meshcat-server at zmq_url=tcp://127.0.0.1:6001...\n",
      "You can open the visualizer by visiting the following URL:\n",
      "http://127.0.0.1:7001/static/\n",
      "Connected to meshcat-server.\n"
     ]
    },
    {
     "name": "stderr",
     "output_type": "stream",
     "text": [
      "Sample: 100%|██████████| 37/37 [00:40,  1.09s/it, step size=8.68e-04, acc. prob=0.958]\n"
     ]
    },
    {
     "name": "stdout",
     "output_type": "stream",
     "text": [
      "24 30\n",
      "Initial trace log prob:  tensor(-32578757.3392)\n"
     ]
    },
    {
     "name": "stderr",
     "output_type": "stream",
     "text": [
      "\r",
      "Warmup:   0%|          | 0/37 [00:00, ?it/s]"
     ]
    },
    {
     "name": "stdout",
     "output_type": "stream",
     "text": [
      "Connecting to meshcat-server at zmq_url=tcp://127.0.0.1:6001...\n",
      "You can open the visualizer by visiting the following URL:\n",
      "http://127.0.0.1:7001/static/\n",
      "Connected to meshcat-server.\n"
     ]
    },
    {
     "name": "stderr",
     "output_type": "stream",
     "text": [
      "Sample: 100%|██████████| 37/37 [00:32,  1.15it/s, step size=6.36e-04, acc. prob=0.983]\n"
     ]
    },
    {
     "name": "stdout",
     "output_type": "stream",
     "text": [
      "25 30\n",
      "Initial trace log prob:  tensor(-23124387.7753)\n",
      "Connecting to meshcat-server at zmq_url=tcp://127.0.0.1:6001...\n",
      "You can open the visualizer by visiting the following URL:\n",
      "http://127.0.0.1:7001/static/\n",
      "Connected to meshcat-server.\n"
     ]
    },
    {
     "name": "stderr",
     "output_type": "stream",
     "text": [
      "Sample: 100%|██████████| 37/37 [00:27,  1.36it/s, step size=1.74e-03, acc. prob=0.744]\n"
     ]
    },
    {
     "name": "stdout",
     "output_type": "stream",
     "text": [
      "26 30\n",
      "Initial trace log prob:  tensor(-39960720.7072)\n",
      "Connecting to meshcat-server at zmq_url=tcp://127.0.0.1:6001...\n",
      "You can open the visualizer by visiting the following URL:\n",
      "http://127.0.0.1:7001/static/\n",
      "Connected to meshcat-server.\n"
     ]
    },
    {
     "name": "stderr",
     "output_type": "stream",
     "text": [
      "Sample: 100%|██████████| 37/37 [00:44,  1.22s/it, step size=1.25e-03, acc. prob=0.912]\n",
      "Warmup:   0%|          | 0/37 [00:00, ?it/s]"
     ]
    },
    {
     "name": "stdout",
     "output_type": "stream",
     "text": [
      "27 30\n",
      "no objects\n",
      "Initial trace log prob:  tensor(-3967822.5440)\n",
      "Connecting to meshcat-server at zmq_url=tcp://127.0.0.1:6001...\n",
      "You can open the visualizer by visiting the following URL:\n",
      "http://127.0.0.1:7001/static/\n",
      "Connected to meshcat-server.\n",
      "no objects\n",
      "no objects\n",
      "no objects\n",
      "no objects\n",
      "no objects\n",
      "no objects\n",
      "no objects\n"
     ]
    },
    {
     "name": "stderr",
     "output_type": "stream",
     "text": [
      "\r",
      "Warmup:   3%|▎         | 1/37 [00:00,  8.17it/s, step size=2.81e-02, acc. prob=1.000]"
     ]
    },
    {
     "name": "stdout",
     "output_type": "stream",
     "text": [
      "no objects\n",
      "no objects\n",
      "no objects\n",
      "no objects\n",
      "no objects\n",
      "no objects\n",
      "no objects\n",
      "no objects\n",
      "no objects\n",
      "no objects\n",
      "no objects\n",
      "no objects\n",
      "no objects\n",
      "no objects\n",
      "no objects\n",
      "no objects\n",
      "no objects\n",
      "no objects\n",
      "no objects\n"
     ]
    },
    {
     "name": "stderr",
     "output_type": "stream",
     "text": [
      "Warmup:   8%|▊         | 3/37 [00:00,  8.37it/s, step size=4.68e-04, acc. prob=0.333]"
     ]
    },
    {
     "name": "stdout",
     "output_type": "stream",
     "text": [
      "no objects\n",
      "no objects\n"
     ]
    },
    {
     "name": "stderr",
     "output_type": "stream",
     "text": [
      "Warmup:  14%|█▎        | 5/37 [00:00,  8.33it/s, step size=9.91e-04, acc. prob=0.600]"
     ]
    },
    {
     "name": "stdout",
     "output_type": "stream",
     "text": [
      "no objects\n",
      "no objects\n"
     ]
    },
    {
     "name": "stderr",
     "output_type": "stream",
     "text": [
      "Warmup:  19%|█▉        | 7/37 [00:00,  8.36it/s, step size=3.02e-03, acc. prob=0.714]"
     ]
    },
    {
     "name": "stdout",
     "output_type": "stream",
     "text": [
      "no objects\n",
      "no objects\n",
      "no objects\n",
      "no objects\n",
      "no objects\n",
      "no objects\n",
      "no objects\n",
      "no objects\n",
      "no objects\n",
      "no objects\n",
      "no objects\n",
      "no objects\n",
      "no objects\n",
      "no objects\n",
      "no objects\n",
      "no objects\n",
      "no objects\n",
      "no objects\n",
      "no objects\n",
      "no objects\n",
      "no objects\n",
      "no objects\n",
      "no objects\n",
      "no objects\n",
      "no objects\n",
      "no objects\n",
      "no objects\n",
      "no objects\n",
      "no objects\n",
      "no objects\n",
      "no objects\n",
      "no objects\n",
      "no objects\n",
      "no objects\n",
      "no objects\n",
      "no objects\n",
      "no objects\n",
      "no objects\n",
      "no objects\n",
      "no objects\n",
      "no objects\n",
      "no objects\n",
      "no objects\n",
      "no objects\n",
      "no objects\n",
      "no objects\n"
     ]
    },
    {
     "name": "stderr",
     "output_type": "stream",
     "text": [
      "\r",
      "Warmup:  22%|██▏       | 8/37 [00:01,  4.76it/s, step size=5.56e-03, acc. prob=0.750]"
     ]
    },
    {
     "name": "stdout",
     "output_type": "stream",
     "text": [
      "no objects\n",
      "no objects\n",
      "no objects\n",
      "no objects\n",
      "no objects\n",
      "no objects\n",
      "no objects\n",
      "no objects\n",
      "no objects\n",
      "no objects\n",
      "no objects\n",
      "no objects\n",
      "no objects\n",
      "no objects\n",
      "no objects\n",
      "no objects\n",
      "no objects\n",
      "no objects\n",
      "no objects\n",
      "no objects\n",
      "no objects\n",
      "no objects\n",
      "no objects\n",
      "no objects\n",
      "no objects\n",
      "no objects\n",
      "no objects\n",
      "no objects\n",
      "no objects\n",
      "no objects\n",
      "no objects\n",
      "no objects\n",
      "no objects\n",
      "no objects\n",
      "no objects\n",
      "no objects\n",
      "no objects\n",
      "no objects\n",
      "no objects\n",
      "no objects\n",
      "no objects\n",
      "no objects\n",
      "no objects\n",
      "no objects\n",
      "no objects\n",
      "no objects\n",
      "no objects\n",
      "no objects\n",
      "no objects\n",
      "no objects\n",
      "no objects\n",
      "no objects\n",
      "no objects\n",
      "no objects\n",
      "no objects\n",
      "no objects\n",
      "no objects\n",
      "no objects\n",
      "no objects\n",
      "no objects\n",
      "no objects\n",
      "no objects\n",
      "no objects\n",
      "no objects\n",
      "no objects\n"
     ]
    },
    {
     "name": "stderr",
     "output_type": "stream",
     "text": [
      "\r",
      "Warmup:  24%|██▍       | 9/37 [00:01,  3.70it/s, step size=4.66e-03, acc. prob=0.750]"
     ]
    },
    {
     "name": "stdout",
     "output_type": "stream",
     "text": [
      "no objects\n",
      "no objects\n",
      "no objects\n",
      "no objects\n",
      "no objects\n",
      "no objects\n",
      "no objects\n",
      "no objects\n",
      "no objects\n",
      "no objects\n",
      "no objects\n",
      "no objects\n",
      "no objects\n",
      "no objects\n",
      "no objects\n",
      "no objects\n",
      "no objects\n",
      "no objects\n",
      "no objects\n"
     ]
    },
    {
     "name": "stderr",
     "output_type": "stream",
     "text": [
      "\r",
      "Warmup:  27%|██▋       | 10/37 [00:01,  3.55it/s, step size=9.58e-04, acc. prob=0.705]"
     ]
    },
    {
     "name": "stdout",
     "output_type": "stream",
     "text": [
      "no objects\n",
      "no objects\n",
      "no objects\n",
      "no objects\n",
      "no objects\n",
      "no objects\n",
      "no objects\n",
      "no objects\n",
      "no objects\n",
      "no objects\n",
      "no objects\n",
      "no objects\n",
      "no objects\n",
      "no objects\n",
      "no objects\n",
      "no objects\n",
      "no objects\n",
      "no objects\n",
      "no objects\n",
      "no objects\n",
      "no objects\n",
      "no objects\n",
      "no objects\n",
      "no objects\n",
      "no objects\n",
      "no objects\n",
      "no objects\n",
      "no objects\n",
      "no objects\n",
      "no objects\n",
      "no objects\n",
      "no objects\n",
      "no objects\n",
      "no objects\n",
      "no objects\n",
      "no objects\n",
      "no objects\n",
      "no objects\n",
      "no objects\n",
      "no objects\n",
      "no objects\n",
      "no objects\n",
      "no objects\n",
      "no objects\n",
      "no objects\n",
      "no objects\n",
      "no objects\n",
      "no objects\n",
      "no objects\n",
      "no objects\n",
      "no objects\n",
      "no objects\n",
      "no objects\n",
      "no objects\n",
      "no objects\n",
      "no objects\n",
      "no objects\n",
      "no objects\n",
      "no objects\n",
      "no objects\n",
      "no objects\n",
      "no objects\n",
      "no objects\n",
      "no objects\n",
      "no objects\n",
      "no objects\n",
      "no objects\n",
      "no objects\n",
      "no objects\n",
      "no objects\n",
      "no objects\n",
      "no objects\n",
      "no objects\n",
      "no objects\n",
      "no objects\n",
      "no objects\n",
      "no objects\n",
      "no objects\n",
      "no objects\n",
      "no objects\n",
      "no objects\n"
     ]
    },
    {
     "name": "stderr",
     "output_type": "stream",
     "text": [
      "\r",
      "Warmup:  30%|██▉       | 11/37 [00:02,  3.11it/s, step size=2.08e-03, acc. prob=0.731]"
     ]
    },
    {
     "name": "stdout",
     "output_type": "stream",
     "text": [
      "no objects\n",
      "no objects\n",
      "no objects\n",
      "no objects\n",
      "no objects\n",
      "no objects\n",
      "no objects\n",
      "no objects\n",
      "no objects\n",
      "no objects\n",
      "no objects\n",
      "no objects\n",
      "no objects\n",
      "no objects\n",
      "no objects\n",
      "no objects\n",
      "no objects\n",
      "no objects\n",
      "no objects\n",
      "no objects\n",
      "no objects\n",
      "no objects\n",
      "no objects\n",
      "no objects\n",
      "no objects\n",
      "no objects\n",
      "no objects\n",
      "no objects\n",
      "no objects\n",
      "no objects\n",
      "no objects\n",
      "no objects\n",
      "no objects\n",
      "no objects\n",
      "no objects\n",
      "no objects\n",
      "no objects\n",
      "no objects\n",
      "no objects\n",
      "no objects\n",
      "no objects\n",
      "no objects\n",
      "no objects\n",
      "no objects\n",
      "no objects\n",
      "no objects\n",
      "no objects\n",
      "no objects\n",
      "no objects\n",
      "no objects\n",
      "no objects\n",
      "no objects\n",
      "no objects\n",
      "no objects\n",
      "no objects\n",
      "no objects\n",
      "no objects\n",
      "no objects\n",
      "no objects\n",
      "no objects\n",
      "no objects\n",
      "no objects\n",
      "no objects\n"
     ]
    },
    {
     "name": "stderr",
     "output_type": "stream",
     "text": [
      "\r",
      "Warmup:  32%|███▏      | 12/37 [00:02,  2.89it/s, step size=2.08e-03, acc. prob=0.676]"
     ]
    },
    {
     "name": "stdout",
     "output_type": "stream",
     "text": [
      "no objects\n",
      "no objects\n",
      "no objects\n",
      "no objects\n",
      "no objects\n",
      "no objects\n",
      "no objects\n",
      "no objects\n",
      "no objects\n",
      "no objects\n",
      "no objects\n",
      "no objects\n",
      "no objects\n",
      "no objects\n",
      "no objects\n",
      "no objects\n",
      "no objects\n",
      "no objects\n",
      "no objects\n",
      "no objects\n",
      "no objects\n",
      "no objects\n",
      "no objects\n",
      "no objects\n",
      "no objects\n",
      "no objects\n",
      "no objects\n",
      "no objects\n",
      "no objects\n",
      "no objects\n",
      "no objects\n",
      "no objects\n",
      "no objects\n",
      "no objects\n",
      "no objects\n",
      "no objects\n",
      "no objects\n",
      "no objects\n",
      "no objects\n",
      "no objects\n",
      "no objects\n",
      "no objects\n",
      "no objects\n",
      "no objects\n",
      "no objects\n",
      "no objects\n",
      "no objects\n",
      "no objects\n",
      "no objects\n",
      "no objects\n",
      "no objects\n",
      "no objects\n",
      "no objects\n",
      "no objects\n",
      "no objects\n",
      "no objects\n",
      "no objects\n",
      "no objects\n",
      "no objects\n",
      "no objects\n",
      "no objects\n",
      "no objects\n",
      "no objects\n",
      "no objects\n",
      "no objects\n",
      "no objects\n",
      "no objects\n"
     ]
    },
    {
     "name": "stderr",
     "output_type": "stream",
     "text": [
      "\r",
      "Warmup:  35%|███▌      | 13/37 [00:03,  2.76it/s, step size=2.08e-03, acc. prob=1.000]"
     ]
    },
    {
     "name": "stdout",
     "output_type": "stream",
     "text": [
      "no objects\n",
      "no objects\n",
      "no objects\n",
      "no objects\n",
      "no objects\n",
      "no objects\n",
      "no objects\n",
      "no objects\n",
      "no objects\n",
      "no objects\n",
      "no objects\n",
      "no objects\n",
      "no objects\n",
      "no objects\n",
      "no objects\n",
      "no objects\n",
      "no objects\n",
      "no objects\n",
      "no objects\n",
      "no objects\n",
      "no objects\n",
      "no objects\n",
      "no objects\n",
      "no objects\n",
      "no objects\n",
      "no objects\n",
      "no objects\n",
      "no objects\n",
      "no objects\n",
      "no objects\n",
      "no objects\n",
      "no objects\n",
      "no objects\n",
      "no objects\n",
      "no objects\n",
      "no objects\n",
      "no objects\n",
      "no objects\n",
      "no objects\n",
      "no objects\n",
      "no objects\n",
      "no objects\n",
      "no objects\n",
      "no objects\n",
      "no objects\n",
      "no objects\n",
      "no objects\n",
      "no objects\n",
      "no objects\n",
      "no objects\n",
      "no objects\n",
      "no objects\n",
      "no objects\n",
      "no objects\n",
      "no objects\n",
      "no objects\n",
      "no objects\n",
      "no objects\n",
      "no objects\n",
      "no objects\n",
      "no objects\n",
      "no objects\n",
      "no objects\n",
      "no objects\n"
     ]
    },
    {
     "name": "stderr",
     "output_type": "stream",
     "text": [
      "\r",
      "Sample:  38%|███▊      | 14/37 [00:03,  2.68it/s, step size=2.08e-03, acc. prob=0.774]"
     ]
    },
    {
     "name": "stdout",
     "output_type": "stream",
     "text": [
      "no objects\n",
      "no objects\n",
      "no objects\n",
      "no objects\n",
      "no objects\n",
      "no objects\n",
      "no objects\n",
      "no objects\n",
      "no objects\n",
      "no objects\n",
      "no objects\n",
      "no objects\n",
      "no objects\n",
      "no objects\n",
      "no objects\n",
      "no objects\n",
      "no objects\n",
      "no objects\n",
      "no objects\n",
      "no objects\n",
      "no objects\n",
      "no objects\n",
      "no objects\n",
      "no objects\n",
      "no objects\n",
      "no objects\n",
      "no objects\n",
      "no objects\n",
      "no objects\n",
      "no objects\n",
      "no objects\n",
      "no objects\n",
      "no objects\n",
      "no objects\n",
      "no objects\n",
      "no objects\n",
      "no objects\n",
      "no objects\n",
      "no objects\n",
      "no objects\n",
      "no objects\n",
      "no objects\n",
      "no objects\n",
      "no objects\n",
      "no objects\n",
      "no objects\n",
      "no objects\n",
      "no objects\n",
      "no objects\n",
      "no objects\n",
      "no objects\n",
      "no objects\n",
      "no objects\n",
      "no objects\n",
      "no objects\n",
      "no objects\n",
      "no objects\n",
      "no objects\n",
      "no objects\n",
      "no objects\n",
      "no objects\n",
      "no objects\n",
      "no objects\n",
      "no objects\n",
      "no objects\n",
      "no objects\n"
     ]
    },
    {
     "name": "stderr",
     "output_type": "stream",
     "text": [
      "\r",
      "Sample:  41%|████      | 15/37 [00:03,  2.63it/s, step size=2.08e-03, acc. prob=0.680]"
     ]
    },
    {
     "name": "stdout",
     "output_type": "stream",
     "text": [
      "no objects\n",
      "no objects\n",
      "no objects\n",
      "no objects\n",
      "no objects\n",
      "no objects\n",
      "no objects\n",
      "no objects\n",
      "no objects\n",
      "no objects\n",
      "no objects\n",
      "no objects\n",
      "no objects\n",
      "no objects\n",
      "no objects\n",
      "no objects\n",
      "no objects\n",
      "no objects\n",
      "no objects\n",
      "no objects\n",
      "no objects\n"
     ]
    },
    {
     "name": "stderr",
     "output_type": "stream",
     "text": [
      "\r",
      "Sample:  43%|████▎     | 16/37 [00:04,  3.12it/s, step size=2.08e-03, acc. prob=0.568]"
     ]
    },
    {
     "name": "stdout",
     "output_type": "stream",
     "text": [
      "no objects\n",
      "no objects\n",
      "no objects\n",
      "no objects\n",
      "no objects\n",
      "no objects\n",
      "no objects\n",
      "no objects\n",
      "no objects\n",
      "no objects\n",
      "no objects\n",
      "no objects\n",
      "no objects\n",
      "no objects\n",
      "no objects\n",
      "no objects\n",
      "no objects\n",
      "no objects\n",
      "no objects\n"
     ]
    },
    {
     "name": "stderr",
     "output_type": "stream",
     "text": [
      "\r",
      "Sample:  46%|████▌     | 17/37 [00:04,  3.46it/s, step size=2.08e-03, acc. prob=0.593]"
     ]
    },
    {
     "name": "stdout",
     "output_type": "stream",
     "text": [
      "no objects\n",
      "no objects\n",
      "no objects\n",
      "no objects\n",
      "no objects\n",
      "no objects\n",
      "no objects\n",
      "no objects\n",
      "no objects\n",
      "no objects\n",
      "no objects\n",
      "no objects\n",
      "no objects\n",
      "no objects\n",
      "no objects\n",
      "no objects\n",
      "no objects\n",
      "no objects\n",
      "no objects\n",
      "no objects\n",
      "no objects\n",
      "no objects\n",
      "no objects\n",
      "no objects\n",
      "no objects\n",
      "no objects\n",
      "no objects\n",
      "no objects\n",
      "no objects\n",
      "no objects\n",
      "no objects\n",
      "no objects\n",
      "no objects\n",
      "no objects\n",
      "no objects\n",
      "no objects\n",
      "no objects\n",
      "no objects\n",
      "no objects\n",
      "no objects\n",
      "no objects\n",
      "no objects\n",
      "no objects\n",
      "no objects\n",
      "no objects\n",
      "no objects\n",
      "no objects\n",
      "no objects\n",
      "no objects\n",
      "no objects\n",
      "no objects\n",
      "no objects\n",
      "no objects\n",
      "no objects\n",
      "no objects\n",
      "no objects\n",
      "no objects\n",
      "no objects\n",
      "no objects\n",
      "no objects\n",
      "no objects\n",
      "no objects\n",
      "no objects\n",
      "no objects\n"
     ]
    },
    {
     "name": "stderr",
     "output_type": "stream",
     "text": [
      "\r",
      "Sample:  49%|████▊     | 18/37 [00:04,  3.08it/s, step size=2.08e-03, acc. prob=0.661]"
     ]
    },
    {
     "name": "stdout",
     "output_type": "stream",
     "text": [
      "no objects\n",
      "no objects\n",
      "no objects\n",
      "no objects\n",
      "no objects\n",
      "no objects\n",
      "no objects\n",
      "no objects\n",
      "no objects\n",
      "no objects\n",
      "no objects\n",
      "no objects\n",
      "no objects\n",
      "no objects\n",
      "no objects\n",
      "no objects\n",
      "no objects\n",
      "no objects\n",
      "no objects\n",
      "no objects\n",
      "no objects\n",
      "no objects\n",
      "no objects\n",
      "no objects\n",
      "no objects\n",
      "no objects\n",
      "no objects\n",
      "no objects\n",
      "no objects\n",
      "no objects\n",
      "no objects\n",
      "no objects\n",
      "no objects\n",
      "no objects\n",
      "no objects\n",
      "no objects\n",
      "no objects\n",
      "no objects\n",
      "no objects\n",
      "no objects\n",
      "no objects\n",
      "no objects\n",
      "no objects\n",
      "no objects\n",
      "no objects\n",
      "no objects\n",
      "no objects\n",
      "no objects\n",
      "no objects\n"
     ]
    },
    {
     "name": "stderr",
     "output_type": "stream",
     "text": [
      "\r",
      "Sample:  51%|█████▏    | 19/37 [00:05,  2.68it/s, step size=2.08e-03, acc. prob=0.710]"
     ]
    },
    {
     "name": "stdout",
     "output_type": "stream",
     "text": [
      "no objects\n",
      "no objects\n",
      "no objects\n",
      "no objects\n",
      "no objects\n",
      "no objects\n",
      "no objects\n",
      "no objects\n",
      "no objects\n",
      "no objects\n",
      "no objects\n",
      "no objects\n",
      "no objects\n",
      "no objects\n",
      "no objects\n",
      "no objects\n",
      "no objects\n",
      "no objects\n",
      "no objects\n",
      "no objects\n",
      "no objects\n",
      "no objects\n",
      "no objects\n",
      "no objects\n",
      "no objects\n",
      "no objects\n",
      "no objects\n",
      "no objects\n",
      "no objects\n",
      "no objects\n",
      "no objects\n",
      "no objects\n",
      "no objects\n",
      "no objects\n",
      "no objects\n",
      "no objects\n",
      "no objects\n",
      "no objects\n",
      "no objects\n",
      "no objects\n",
      "no objects\n",
      "no objects\n",
      "no objects\n",
      "no objects\n",
      "no objects\n",
      "no objects\n",
      "no objects\n",
      "no objects\n",
      "no objects\n",
      "no objects\n",
      "no objects\n",
      "no objects\n",
      "no objects\n",
      "no objects\n",
      "no objects\n",
      "no objects\n",
      "no objects\n",
      "no objects\n",
      "no objects\n",
      "no objects\n",
      "no objects\n",
      "no objects\n",
      "no objects\n",
      "no objects\n",
      "no objects\n",
      "no objects\n"
     ]
    },
    {
     "name": "stderr",
     "output_type": "stream",
     "text": [
      "\r",
      "Sample:  54%|█████▍    | 20/37 [00:05,  2.60it/s, step size=2.08e-03, acc. prob=0.746]"
     ]
    },
    {
     "name": "stdout",
     "output_type": "stream",
     "text": [
      "no objects\n",
      "no objects\n",
      "no objects\n",
      "no objects\n",
      "no objects\n",
      "no objects\n",
      "no objects\n",
      "no objects\n",
      "no objects\n",
      "no objects\n",
      "no objects\n",
      "no objects\n",
      "no objects\n",
      "no objects\n",
      "no objects\n",
      "no objects\n",
      "no objects\n",
      "no objects\n",
      "no objects\n",
      "no objects\n",
      "no objects\n",
      "no objects\n",
      "no objects\n",
      "no objects\n",
      "no objects\n",
      "no objects\n",
      "no objects\n",
      "no objects\n",
      "no objects\n",
      "no objects\n",
      "no objects\n",
      "no objects\n",
      "no objects\n",
      "no objects\n",
      "no objects\n",
      "no objects\n",
      "no objects\n",
      "no objects\n",
      "no objects\n",
      "no objects\n",
      "no objects\n",
      "no objects\n",
      "no objects\n",
      "no objects\n",
      "no objects\n",
      "no objects\n",
      "no objects\n",
      "no objects\n",
      "no objects\n",
      "no objects\n",
      "no objects\n",
      "no objects\n",
      "no objects\n",
      "no objects\n",
      "no objects\n",
      "no objects\n",
      "no objects\n",
      "no objects\n",
      "no objects\n",
      "no objects\n",
      "no objects\n",
      "no objects\n",
      "no objects\n",
      "no objects\n",
      "no objects\n",
      "no objects\n"
     ]
    },
    {
     "name": "stderr",
     "output_type": "stream",
     "text": [
      "\r",
      "Sample:  57%|█████▋    | 21/37 [00:06,  2.58it/s, step size=2.08e-03, acc. prob=0.774]"
     ]
    },
    {
     "name": "stdout",
     "output_type": "stream",
     "text": [
      "no objects\n",
      "no objects\n",
      "no objects\n",
      "no objects\n",
      "no objects\n",
      "no objects\n",
      "no objects\n",
      "no objects\n",
      "no objects\n",
      "no objects\n",
      "no objects\n",
      "no objects\n",
      "no objects\n",
      "no objects\n",
      "no objects\n",
      "no objects\n",
      "no objects\n",
      "no objects\n",
      "no objects\n",
      "no objects\n",
      "no objects\n",
      "no objects\n",
      "no objects\n",
      "no objects\n",
      "no objects\n",
      "no objects\n",
      "no objects\n",
      "no objects\n",
      "no objects\n",
      "no objects\n",
      "no objects\n",
      "no objects\n",
      "no objects\n",
      "no objects\n",
      "no objects\n",
      "no objects\n",
      "no objects\n",
      "no objects\n",
      "no objects\n",
      "no objects\n",
      "no objects\n",
      "no objects\n",
      "no objects\n",
      "no objects\n",
      "no objects\n",
      "no objects\n",
      "no objects\n",
      "no objects\n",
      "no objects\n",
      "no objects\n",
      "no objects\n",
      "no objects\n",
      "no objects\n",
      "no objects\n",
      "no objects\n",
      "no objects\n",
      "no objects\n",
      "no objects\n",
      "no objects\n",
      "no objects\n",
      "no objects\n",
      "no objects\n",
      "no objects\n",
      "no objects\n",
      "no objects\n"
     ]
    },
    {
     "name": "stderr",
     "output_type": "stream",
     "text": [
      "\r",
      "Sample:  59%|█████▉    | 22/37 [00:06,  2.56it/s, step size=2.08e-03, acc. prob=0.797]"
     ]
    },
    {
     "name": "stdout",
     "output_type": "stream",
     "text": [
      "no objects\n",
      "no objects\n",
      "no objects\n",
      "no objects\n",
      "no objects\n",
      "no objects\n",
      "no objects\n",
      "no objects\n",
      "no objects\n",
      "no objects\n",
      "no objects\n",
      "no objects\n",
      "no objects\n",
      "no objects\n",
      "no objects\n",
      "no objects\n",
      "no objects\n",
      "no objects\n",
      "no objects\n",
      "no objects\n",
      "no objects\n",
      "no objects\n",
      "no objects\n",
      "no objects\n",
      "no objects\n",
      "no objects\n",
      "no objects\n",
      "no objects\n",
      "no objects\n",
      "no objects\n",
      "no objects\n",
      "no objects\n",
      "no objects\n",
      "no objects\n",
      "no objects\n",
      "no objects\n",
      "no objects\n",
      "no objects\n",
      "no objects\n",
      "no objects\n",
      "no objects\n",
      "no objects\n",
      "no objects\n",
      "no objects\n",
      "no objects\n",
      "no objects\n",
      "no objects\n",
      "no objects\n",
      "no objects\n",
      "no objects\n",
      "no objects\n",
      "no objects\n",
      "no objects\n",
      "no objects\n",
      "no objects\n",
      "no objects\n",
      "no objects\n",
      "no objects\n",
      "no objects\n",
      "no objects\n",
      "no objects\n",
      "no objects\n",
      "no objects\n",
      "no objects\n",
      "no objects\n",
      "no objects\n"
     ]
    },
    {
     "name": "stderr",
     "output_type": "stream",
     "text": [
      "\r",
      "Sample:  62%|██████▏   | 23/37 [00:06,  2.55it/s, step size=2.08e-03, acc. prob=0.815]"
     ]
    },
    {
     "name": "stdout",
     "output_type": "stream",
     "text": [
      "no objects\n",
      "no objects\n",
      "no objects\n",
      "no objects\n",
      "no objects\n",
      "no objects\n",
      "no objects\n",
      "no objects\n",
      "no objects\n",
      "no objects\n",
      "no objects\n",
      "no objects\n",
      "no objects\n",
      "no objects\n",
      "no objects\n",
      "no objects\n",
      "no objects\n",
      "no objects\n",
      "no objects\n",
      "no objects\n",
      "no objects\n",
      "no objects\n",
      "no objects\n",
      "no objects\n",
      "no objects\n",
      "no objects\n",
      "no objects\n",
      "no objects\n",
      "no objects\n",
      "no objects\n",
      "no objects\n",
      "no objects\n",
      "no objects\n",
      "no objects\n",
      "no objects\n",
      "no objects\n",
      "no objects\n",
      "no objects\n",
      "no objects\n",
      "no objects\n",
      "no objects\n",
      "no objects\n",
      "no objects\n",
      "no objects\n",
      "no objects\n",
      "no objects\n",
      "no objects\n",
      "no objects\n",
      "no objects\n",
      "no objects\n",
      "no objects\n",
      "no objects\n",
      "no objects\n",
      "no objects\n",
      "no objects\n",
      "no objects\n",
      "no objects\n",
      "no objects\n",
      "no objects\n",
      "no objects\n",
      "no objects\n",
      "no objects\n",
      "no objects\n",
      "no objects\n"
     ]
    },
    {
     "name": "stderr",
     "output_type": "stream",
     "text": [
      "\r",
      "Sample:  65%|██████▍   | 24/37 [00:07,  2.52it/s, step size=2.08e-03, acc. prob=0.823]"
     ]
    },
    {
     "name": "stdout",
     "output_type": "stream",
     "text": [
      "no objects\n",
      "no objects\n",
      "no objects\n",
      "no objects\n",
      "no objects\n",
      "no objects\n",
      "no objects\n",
      "no objects\n",
      "no objects\n",
      "no objects\n",
      "no objects\n",
      "no objects\n",
      "no objects\n",
      "no objects\n",
      "no objects\n",
      "no objects\n",
      "no objects\n",
      "no objects\n",
      "no objects\n",
      "no objects\n",
      "no objects\n",
      "no objects\n",
      "no objects\n",
      "no objects\n",
      "no objects\n",
      "no objects\n",
      "no objects\n",
      "no objects\n",
      "no objects\n",
      "no objects\n",
      "no objects\n",
      "no objects\n",
      "no objects\n",
      "no objects\n",
      "no objects\n",
      "no objects\n",
      "no objects\n",
      "no objects\n",
      "no objects\n",
      "no objects\n",
      "no objects\n",
      "no objects\n",
      "no objects\n",
      "no objects\n",
      "no objects\n",
      "no objects\n",
      "no objects\n",
      "no objects\n",
      "no objects\n",
      "no objects\n",
      "no objects\n",
      "no objects\n",
      "no objects\n",
      "no objects\n",
      "no objects\n",
      "no objects\n",
      "no objects\n",
      "no objects\n",
      "no objects\n",
      "no objects\n",
      "no objects\n",
      "no objects\n",
      "no objects\n",
      "no objects\n"
     ]
    },
    {
     "name": "stderr",
     "output_type": "stream",
     "text": [
      "\r",
      "Sample:  68%|██████▊   | 25/37 [00:07,  2.51it/s, step size=2.08e-03, acc. prob=0.825]"
     ]
    },
    {
     "name": "stdout",
     "output_type": "stream",
     "text": [
      "no objects\n",
      "no objects\n",
      "no objects\n",
      "no objects\n",
      "no objects\n",
      "no objects\n",
      "no objects\n",
      "no objects\n",
      "no objects\n",
      "no objects\n",
      "no objects\n",
      "no objects\n",
      "no objects\n",
      "no objects\n",
      "no objects\n",
      "no objects\n",
      "no objects\n",
      "no objects\n",
      "no objects\n",
      "no objects\n",
      "no objects\n",
      "no objects\n",
      "no objects\n",
      "no objects\n",
      "no objects\n",
      "no objects\n",
      "no objects\n",
      "no objects\n",
      "no objects\n",
      "no objects\n",
      "no objects\n",
      "no objects\n",
      "no objects\n",
      "no objects\n",
      "no objects\n",
      "no objects\n",
      "no objects\n",
      "no objects\n",
      "no objects\n",
      "no objects\n",
      "no objects\n",
      "no objects\n",
      "no objects\n",
      "no objects\n",
      "no objects\n",
      "no objects\n",
      "no objects\n",
      "no objects\n",
      "no objects\n",
      "no objects\n",
      "no objects\n",
      "no objects\n",
      "no objects\n",
      "no objects\n",
      "no objects\n",
      "no objects\n",
      "no objects\n",
      "no objects\n",
      "no objects\n",
      "no objects\n",
      "no objects\n",
      "no objects\n",
      "no objects\n"
     ]
    },
    {
     "name": "stderr",
     "output_type": "stream",
     "text": [
      "\r",
      "Sample:  70%|███████   | 26/37 [00:08,  2.49it/s, step size=2.08e-03, acc. prob=0.837]"
     ]
    },
    {
     "name": "stdout",
     "output_type": "stream",
     "text": [
      "no objects\n",
      "no objects\n",
      "no objects\n",
      "no objects\n",
      "no objects\n",
      "no objects\n",
      "no objects\n",
      "no objects\n",
      "no objects\n",
      "no objects\n",
      "no objects\n",
      "no objects\n",
      "no objects\n",
      "no objects\n",
      "no objects\n",
      "no objects\n",
      "no objects\n",
      "no objects\n",
      "no objects\n",
      "no objects\n",
      "no objects\n",
      "no objects\n",
      "no objects\n",
      "no objects\n",
      "no objects\n",
      "no objects\n",
      "no objects\n",
      "no objects\n",
      "no objects\n",
      "no objects\n",
      "no objects\n",
      "no objects\n",
      "no objects\n",
      "no objects\n",
      "no objects\n",
      "no objects\n",
      "no objects\n",
      "no objects\n",
      "no objects\n",
      "no objects\n",
      "no objects\n",
      "no objects\n",
      "no objects\n",
      "no objects\n",
      "no objects\n",
      "no objects\n",
      "no objects\n",
      "no objects\n",
      "no objects\n",
      "no objects\n",
      "no objects\n",
      "no objects\n",
      "no objects\n",
      "no objects\n",
      "no objects\n",
      "no objects\n",
      "no objects\n",
      "no objects\n",
      "no objects\n",
      "no objects\n",
      "no objects\n",
      "no objects\n",
      "no objects\n",
      "no objects\n",
      "no objects\n",
      "no objects\n"
     ]
    },
    {
     "name": "stderr",
     "output_type": "stream",
     "text": [
      "\r",
      "Sample:  73%|███████▎  | 27/37 [00:08,  2.51it/s, step size=2.08e-03, acc. prob=0.848]"
     ]
    },
    {
     "name": "stdout",
     "output_type": "stream",
     "text": [
      "no objects\n",
      "no objects\n",
      "no objects\n",
      "no objects\n",
      "no objects\n",
      "no objects\n",
      "no objects\n",
      "no objects\n",
      "no objects\n",
      "no objects\n",
      "no objects\n",
      "no objects\n",
      "no objects\n",
      "no objects\n",
      "no objects\n",
      "no objects\n",
      "no objects\n",
      "no objects\n",
      "no objects\n",
      "no objects\n",
      "no objects\n",
      "no objects\n",
      "no objects\n",
      "no objects\n",
      "no objects\n",
      "no objects\n",
      "no objects\n",
      "no objects\n",
      "no objects\n",
      "no objects\n",
      "no objects\n",
      "no objects\n",
      "no objects\n",
      "no objects\n",
      "no objects\n",
      "no objects\n",
      "no objects\n",
      "no objects\n",
      "no objects\n",
      "no objects\n",
      "no objects\n",
      "no objects\n",
      "no objects\n",
      "no objects\n",
      "no objects\n",
      "no objects\n",
      "no objects\n",
      "no objects\n",
      "no objects\n",
      "no objects\n",
      "no objects\n",
      "no objects\n",
      "no objects\n",
      "no objects\n",
      "no objects\n",
      "no objects\n",
      "no objects\n",
      "no objects\n",
      "no objects\n",
      "no objects\n",
      "no objects\n",
      "no objects\n",
      "no objects\n",
      "no objects\n",
      "no objects\n",
      "no objects\n",
      "no objects\n",
      "no objects\n"
     ]
    },
    {
     "name": "stderr",
     "output_type": "stream",
     "text": [
      "\r",
      "Sample:  76%|███████▌  | 28/37 [00:08,  2.54it/s, step size=2.08e-03, acc. prob=0.849]"
     ]
    },
    {
     "name": "stdout",
     "output_type": "stream",
     "text": [
      "no objects\n",
      "no objects\n",
      "no objects\n",
      "no objects\n",
      "no objects\n",
      "no objects\n",
      "no objects\n",
      "no objects\n",
      "no objects\n",
      "no objects\n",
      "no objects\n",
      "no objects\n",
      "no objects\n",
      "no objects\n",
      "no objects\n",
      "no objects\n",
      "no objects\n",
      "no objects\n",
      "no objects\n",
      "no objects\n",
      "no objects\n"
     ]
    },
    {
     "name": "stderr",
     "output_type": "stream",
     "text": [
      "\r",
      "Sample:  78%|███████▊  | 29/37 [00:09,  2.56it/s, step size=2.08e-03, acc. prob=0.821]"
     ]
    },
    {
     "name": "stdout",
     "output_type": "stream",
     "text": [
      "no objects\n",
      "no objects\n",
      "no objects\n",
      "no objects\n",
      "no objects\n",
      "no objects\n",
      "no objects\n",
      "no objects\n",
      "no objects\n",
      "no objects\n",
      "no objects\n",
      "no objects\n",
      "no objects\n",
      "no objects\n",
      "no objects\n",
      "no objects\n",
      "no objects\n",
      "no objects\n",
      "no objects\n",
      "no objects\n",
      "no objects\n",
      "no objects\n",
      "no objects\n",
      "no objects\n",
      "no objects\n",
      "no objects\n",
      "no objects\n",
      "no objects\n",
      "no objects\n",
      "no objects\n",
      "no objects\n",
      "no objects\n",
      "no objects\n",
      "no objects\n",
      "no objects\n",
      "no objects\n",
      "no objects\n",
      "no objects\n",
      "no objects\n",
      "no objects\n",
      "no objects\n",
      "no objects\n",
      "no objects\n",
      "no objects\n",
      "no objects\n",
      "no objects\n",
      "no objects\n",
      "no objects\n",
      "no objects\n",
      "no objects\n",
      "no objects\n",
      "no objects\n",
      "no objects\n",
      "no objects\n",
      "no objects\n",
      "no objects\n",
      "no objects\n",
      "no objects\n",
      "no objects\n",
      "no objects\n",
      "no objects\n",
      "no objects\n",
      "no objects\n",
      "no objects\n",
      "no objects\n",
      "no objects\n",
      "no objects\n",
      "no objects\n",
      "no objects\n",
      "no objects\n",
      "no objects\n",
      "no objects\n",
      "no objects\n",
      "no objects\n",
      "no objects\n",
      "no objects\n",
      "no objects\n",
      "no objects\n",
      "no objects\n",
      "no objects\n",
      "no objects\n",
      "no objects\n",
      "no objects\n",
      "no objects\n",
      "no objects\n",
      "no objects\n",
      "no objects\n",
      "no objects\n",
      "no objects\n"
     ]
    },
    {
     "name": "stderr",
     "output_type": "stream",
     "text": [
      "\r",
      "Sample:  81%|████████  | 30/37 [00:09,  2.53it/s, step size=2.08e-03, acc. prob=0.831]"
     ]
    },
    {
     "name": "stdout",
     "output_type": "stream",
     "text": [
      "no objects\n",
      "no objects\n",
      "no objects\n",
      "no objects\n",
      "no objects\n",
      "no objects\n",
      "no objects\n",
      "no objects\n",
      "no objects\n",
      "no objects\n",
      "no objects\n",
      "no objects\n",
      "no objects\n",
      "no objects\n",
      "no objects\n",
      "no objects\n",
      "no objects\n",
      "no objects\n",
      "no objects\n",
      "no objects\n",
      "no objects\n",
      "no objects\n",
      "no objects\n",
      "no objects\n",
      "no objects\n",
      "no objects\n",
      "no objects\n",
      "no objects\n",
      "no objects\n",
      "no objects\n",
      "no objects\n",
      "no objects\n",
      "no objects\n",
      "no objects\n",
      "no objects\n",
      "no objects\n",
      "no objects\n",
      "no objects\n",
      "no objects\n",
      "no objects\n",
      "no objects\n",
      "no objects\n",
      "no objects\n",
      "no objects\n",
      "no objects\n",
      "no objects\n",
      "no objects\n",
      "no objects\n",
      "no objects\n",
      "no objects\n",
      "no objects\n",
      "no objects\n",
      "no objects\n",
      "no objects\n",
      "no objects\n",
      "no objects\n",
      "no objects\n",
      "no objects\n",
      "no objects\n",
      "no objects\n",
      "no objects\n",
      "no objects\n"
     ]
    },
    {
     "name": "stderr",
     "output_type": "stream",
     "text": [
      "\r",
      "Sample:  84%|████████▍ | 31/37 [00:10,  2.48it/s, step size=2.08e-03, acc. prob=0.840]"
     ]
    },
    {
     "name": "stdout",
     "output_type": "stream",
     "text": [
      "no objects\n",
      "no objects\n",
      "no objects\n",
      "no objects\n",
      "no objects\n",
      "no objects\n",
      "no objects\n",
      "no objects\n",
      "no objects\n",
      "no objects\n",
      "no objects\n",
      "no objects\n",
      "no objects\n",
      "no objects\n",
      "no objects\n",
      "no objects\n",
      "no objects\n",
      "no objects\n",
      "no objects\n",
      "no objects\n",
      "no objects\n",
      "no objects\n",
      "no objects\n",
      "no objects\n",
      "no objects\n",
      "no objects\n",
      "no objects\n",
      "no objects\n",
      "no objects\n",
      "no objects\n",
      "no objects\n",
      "no objects\n",
      "no objects\n",
      "no objects\n",
      "no objects\n",
      "no objects\n",
      "no objects\n",
      "no objects\n",
      "no objects\n",
      "no objects\n",
      "no objects\n",
      "no objects\n",
      "no objects\n",
      "no objects\n",
      "no objects\n",
      "no objects\n",
      "no objects\n",
      "no objects\n",
      "no objects\n",
      "no objects\n",
      "no objects\n",
      "no objects\n",
      "no objects\n",
      "no objects\n",
      "no objects\n",
      "no objects\n",
      "no objects\n",
      "no objects\n",
      "no objects\n",
      "no objects\n",
      "no objects\n",
      "no objects\n",
      "no objects\n",
      "no objects\n"
     ]
    },
    {
     "name": "stderr",
     "output_type": "stream",
     "text": [
      "\r",
      "Sample:  86%|████████▋ | 32/37 [00:10,  2.49it/s, step size=2.08e-03, acc. prob=0.848]"
     ]
    },
    {
     "name": "stdout",
     "output_type": "stream",
     "text": [
      "no objects\n",
      "no objects\n",
      "no objects\n",
      "no objects\n",
      "no objects\n",
      "no objects\n",
      "no objects\n",
      "no objects\n",
      "no objects\n",
      "no objects\n",
      "no objects\n",
      "no objects\n",
      "no objects\n",
      "no objects\n",
      "no objects\n",
      "no objects\n",
      "no objects\n",
      "no objects\n",
      "no objects\n",
      "no objects\n",
      "no objects\n",
      "no objects\n",
      "no objects\n",
      "no objects\n",
      "no objects\n",
      "no objects\n",
      "no objects\n",
      "no objects\n",
      "no objects\n",
      "no objects\n",
      "no objects\n",
      "no objects\n",
      "no objects\n",
      "no objects\n",
      "no objects\n",
      "no objects\n",
      "no objects\n",
      "no objects\n",
      "no objects\n",
      "no objects\n",
      "no objects\n",
      "no objects\n",
      "no objects\n",
      "no objects\n",
      "no objects\n",
      "no objects\n",
      "no objects\n",
      "no objects\n",
      "no objects\n",
      "no objects\n",
      "no objects\n",
      "no objects\n",
      "no objects\n",
      "no objects\n",
      "no objects\n",
      "no objects\n",
      "no objects\n",
      "no objects\n",
      "no objects\n",
      "no objects\n",
      "no objects\n",
      "no objects\n"
     ]
    },
    {
     "name": "stderr",
     "output_type": "stream",
     "text": [
      "\r",
      "Sample:  89%|████████▉ | 33/37 [00:10,  2.45it/s, step size=2.08e-03, acc. prob=0.832]"
     ]
    },
    {
     "name": "stdout",
     "output_type": "stream",
     "text": [
      "no objects\n",
      "no objects\n",
      "no objects\n",
      "no objects\n",
      "no objects\n",
      "no objects\n",
      "no objects\n",
      "no objects\n",
      "no objects\n",
      "no objects\n",
      "no objects\n",
      "no objects\n",
      "no objects\n",
      "no objects\n",
      "no objects\n",
      "no objects\n",
      "no objects\n",
      "no objects\n",
      "no objects\n",
      "no objects\n",
      "no objects\n",
      "no objects\n",
      "no objects\n",
      "no objects\n",
      "no objects\n",
      "no objects\n",
      "no objects\n",
      "no objects\n",
      "no objects\n",
      "no objects\n",
      "no objects\n",
      "no objects\n",
      "no objects\n",
      "no objects\n",
      "no objects\n",
      "no objects\n",
      "no objects\n",
      "no objects\n",
      "no objects\n",
      "no objects\n",
      "no objects\n",
      "no objects\n",
      "no objects\n",
      "no objects\n",
      "no objects\n",
      "no objects\n",
      "no objects\n",
      "no objects\n",
      "no objects\n",
      "no objects\n",
      "no objects\n",
      "no objects\n",
      "no objects\n",
      "no objects\n",
      "no objects\n",
      "no objects\n",
      "no objects\n",
      "no objects\n",
      "no objects\n",
      "no objects\n",
      "no objects\n",
      "no objects\n"
     ]
    },
    {
     "name": "stderr",
     "output_type": "stream",
     "text": [
      "\r",
      "Sample:  92%|█████████▏| 34/37 [00:11,  2.44it/s, step size=2.08e-03, acc. prob=0.834]"
     ]
    },
    {
     "name": "stdout",
     "output_type": "stream",
     "text": [
      "no objects\n",
      "no objects\n",
      "no objects\n",
      "no objects\n",
      "no objects\n",
      "no objects\n",
      "no objects\n",
      "no objects\n",
      "no objects\n",
      "no objects\n",
      "no objects\n",
      "no objects\n",
      "no objects\n",
      "no objects\n",
      "no objects\n",
      "no objects\n",
      "no objects\n",
      "no objects\n",
      "no objects\n",
      "no objects\n",
      "no objects\n",
      "no objects\n",
      "no objects\n",
      "no objects\n",
      "no objects\n",
      "no objects\n",
      "no objects\n",
      "no objects\n",
      "no objects\n",
      "no objects\n",
      "no objects\n",
      "no objects\n",
      "no objects\n",
      "no objects\n",
      "no objects\n",
      "no objects\n",
      "no objects\n",
      "no objects\n",
      "no objects\n",
      "no objects\n",
      "no objects\n",
      "no objects\n",
      "no objects\n",
      "no objects\n",
      "no objects\n",
      "no objects\n",
      "no objects\n",
      "no objects\n",
      "no objects\n",
      "no objects\n",
      "no objects\n",
      "no objects\n",
      "no objects\n",
      "no objects\n",
      "no objects\n",
      "no objects\n",
      "no objects\n",
      "no objects\n",
      "no objects\n",
      "no objects\n",
      "no objects\n",
      "no objects\n",
      "no objects\n",
      "no objects\n"
     ]
    },
    {
     "name": "stderr",
     "output_type": "stream",
     "text": [
      "\r",
      "Sample:  95%|█████████▍| 35/37 [00:11,  2.45it/s, step size=2.08e-03, acc. prob=0.826]"
     ]
    },
    {
     "name": "stdout",
     "output_type": "stream",
     "text": [
      "no objects\n",
      "no objects\n",
      "no objects\n",
      "no objects\n",
      "no objects\n",
      "no objects\n",
      "no objects\n",
      "no objects\n",
      "no objects\n",
      "no objects\n",
      "no objects\n",
      "no objects\n",
      "no objects\n",
      "no objects\n",
      "no objects\n",
      "no objects\n",
      "no objects\n",
      "no objects\n",
      "no objects\n",
      "no objects\n",
      "no objects\n",
      "no objects\n",
      "no objects\n",
      "no objects\n",
      "no objects\n",
      "no objects\n",
      "no objects\n",
      "no objects\n",
      "no objects\n",
      "no objects\n",
      "no objects\n",
      "no objects\n",
      "no objects\n",
      "no objects\n",
      "no objects\n",
      "no objects\n",
      "no objects\n",
      "no objects\n",
      "no objects\n",
      "no objects\n",
      "no objects\n",
      "no objects\n",
      "no objects\n",
      "no objects\n",
      "no objects\n",
      "no objects\n",
      "no objects\n",
      "no objects\n",
      "no objects\n",
      "no objects\n",
      "no objects\n",
      "no objects\n",
      "no objects\n",
      "no objects\n",
      "no objects\n",
      "no objects\n",
      "no objects\n",
      "no objects\n",
      "no objects\n",
      "no objects\n",
      "no objects\n",
      "no objects\n",
      "no objects\n"
     ]
    },
    {
     "name": "stderr",
     "output_type": "stream",
     "text": [
      "\r",
      "Sample:  97%|█████████▋| 36/37 [00:12,  2.45it/s, step size=2.08e-03, acc. prob=0.832]"
     ]
    },
    {
     "name": "stdout",
     "output_type": "stream",
     "text": [
      "no objects\n",
      "no objects\n",
      "no objects\n",
      "no objects\n",
      "no objects\n",
      "no objects\n",
      "no objects\n",
      "no objects\n",
      "no objects\n",
      "no objects\n",
      "no objects\n",
      "no objects\n",
      "no objects\n",
      "no objects\n",
      "no objects\n",
      "no objects\n",
      "no objects\n",
      "no objects\n",
      "no objects\n",
      "no objects\n",
      "no objects\n",
      "no objects\n",
      "no objects\n",
      "no objects\n",
      "no objects\n",
      "no objects\n",
      "no objects\n",
      "no objects\n",
      "no objects\n",
      "no objects\n",
      "no objects\n",
      "no objects\n",
      "no objects\n",
      "no objects\n",
      "no objects\n",
      "no objects\n",
      "no objects\n",
      "no objects\n",
      "no objects\n",
      "no objects\n",
      "no objects\n",
      "no objects\n",
      "no objects\n",
      "no objects\n",
      "no objects\n",
      "no objects\n",
      "no objects\n",
      "no objects\n",
      "no objects\n",
      "no objects\n",
      "no objects\n",
      "no objects\n",
      "no objects\n",
      "no objects\n",
      "no objects\n",
      "no objects\n",
      "no objects\n",
      "no objects\n",
      "no objects\n",
      "no objects\n",
      "no objects\n",
      "no objects\n",
      "no objects\n",
      "no objects\n"
     ]
    },
    {
     "name": "stderr",
     "output_type": "stream",
     "text": [
      "Sample: 100%|██████████| 37/37 [00:12,  2.93it/s, step size=2.08e-03, acc. prob=0.827]"
     ]
    },
    {
     "name": "stdout",
     "output_type": "stream",
     "text": [
      "no objects\n",
      "no objects\n",
      "no objects\n",
      "no objects\n",
      "no objects\n",
      "no objects\n",
      "no objects\n",
      "no objects\n",
      "no objects\n",
      "no objects\n",
      "no objects\n",
      "no objects\n",
      "no objects\n",
      "no objects\n",
      "no objects\n",
      "no objects\n",
      "no objects\n",
      "no objects\n",
      "no objects\n"
     ]
    },
    {
     "name": "stderr",
     "output_type": "stream",
     "text": [
      "\n"
     ]
    },
    {
     "name": "stdout",
     "output_type": "stream",
     "text": [
      "no objects\n",
      "no objects\n",
      "no objects\n",
      "no objects\n",
      "no objects\n",
      "no objects\n",
      "no objects\n",
      "no objects\n",
      "no objects\n",
      "no objects\n",
      "no objects\n",
      "no objects\n",
      "no objects\n",
      "no objects\n",
      "no objects\n",
      "no objects\n",
      "no objects\n",
      "no objects\n",
      "no objects\n",
      "no objects\n",
      "no objects\n",
      "no objects\n",
      "no objects\n",
      "no objects\n",
      "no objects\n",
      "28 30\n",
      "Initial trace log prob:  tensor(-44364842.8315)\n",
      "Connecting to meshcat-server at zmq_url=tcp://127.0.0.1:6001...\n",
      "You can open the visualizer by visiting the following URL:\n",
      "http://127.0.0.1:7001/static/\n",
      "Connected to meshcat-server.\n"
     ]
    },
    {
     "name": "stderr",
     "output_type": "stream",
     "text": [
      "Sample: 100%|██████████| 37/37 [00:36,  1.00it/s, step size=1.58e-03, acc. prob=0.890]\n"
     ]
    },
    {
     "name": "stdout",
     "output_type": "stream",
     "text": [
      "29 30\n",
      "Initial trace log prob:  tensor(-7064587.2389)\n"
     ]
    },
    {
     "name": "stderr",
     "output_type": "stream",
     "text": [
      "\r",
      "Warmup:   0%|          | 0/37 [00:00, ?it/s]"
     ]
    },
    {
     "name": "stdout",
     "output_type": "stream",
     "text": [
      "Connecting to meshcat-server at zmq_url=tcp://127.0.0.1:6001...\n",
      "You can open the visualizer by visiting the following URL:\n",
      "http://127.0.0.1:7001/static/\n",
      "Connected to meshcat-server.\n"
     ]
    },
    {
     "name": "stderr",
     "output_type": "stream",
     "text": [
      "Sample: 100%|██████████| 37/37 [00:21,  1.71it/s, step size=1.15e-03, acc. prob=0.957]\n"
     ]
    }
   ],
   "source": [
    "# This one saves out the pre-fit examples, and doesn't bother with physics,\n",
    "# since these samples are all over the place. It still does HMC to try to resolve\n",
    "# the basic constraints (for better comparison with post-fit)\n",
    "fit_grammar.load_state_dict(em.grammar_iters[0])\n",
    "state_dict_file = \"baseline_pre_fit_grammar_state_dict.torch\"\n",
    "print(\"Saving state dict to \", state_dict_file)\n",
    "torch.save(fit_grammar.state_dict(), state_dict_file)\n",
    "# Try to collect a target number of examples, and save them out\n",
    "dataset_save_file = \"baseline_pre_fit_grammar_draws.pickle\"\n",
    "N = 30\n",
    "k = 0\n",
    "pbar = tqdm(total=N, desc=\"Samples\")\n",
    "while k < N:\n",
    "    print(k, N)\n",
    "    _, nonfeasible_tree = sample_realistic_scene(fit_grammar, constraints, skip_physics_constraints=True)\n",
    "    if nonfeasible_tree is not None:\n",
    "        with open(dataset_save_file, \"a+b\") as f:\n",
    "            pickle.dump((None, nonfeasible_tree), f)\n",
    "        k += 1\n",
    "        pbar.update(k)\n",
    "pbar.close()"
   ]
  },
  {
   "cell_type": "code",
   "execution_count": 13,
   "metadata": {},
   "outputs": [
    {
     "name": "stdout",
     "output_type": "stream",
     "text": [
      "Saving state dict to  baseline_post_fit_grammar_state_dict.torch\n"
     ]
    },
    {
     "data": {
      "application/vnd.jupyter.widget-view+json": {
       "model_id": "cf5919bc90e64f6eab1f2216ba34e0ad",
       "version_major": 2,
       "version_minor": 0
      },
      "text/plain": [
       "Samples:   0%|          | 0/30 [00:00<?, ?it/s]"
      ]
     },
     "metadata": {},
     "output_type": "display_data"
    },
    {
     "name": "stdout",
     "output_type": "stream",
     "text": [
      "Initial trace log prob:  tensor(-19043.5005)\n",
      "Connecting to meshcat-server at zmq_url=tcp://127.0.0.1:6001...\n",
      "You can open the visualizer by visiting the following URL:\n",
      "http://127.0.0.1:7001/static/\n",
      "Connected to meshcat-server.\n"
     ]
    },
    {
     "name": "stderr",
     "output_type": "stream",
     "text": [
      "Sample: 100%|██████████| 37/37 [01:09,  1.89s/it, step size=7.39e-04, acc. prob=0.876]\n",
      "WARNING:root:Projection failed.\n"
     ]
    },
    {
     "name": "stdout",
     "output_type": "stream",
     "text": [
      "Logfile: \n",
      "\n",
      "         ==============================\n",
      "         S N O P T  7.4-1.2  (Feb 2015)\n",
      "         ==============================\n",
      "1\n",
      " \n",
      " SNMEMA EXIT 100 -- finished successfully\n",
      " SNMEMA INFO 104 -- memory requirements estimated\n",
      "1\n",
      " \n",
      " Parameters\n",
      " ==========\n",
      "\n",
      " Files\n",
      " -----\n",
      " Solution file..........         0       Old basis file ........         0       Standard input.........         5\n",
      " Insert file............         0       New basis file ........         0       (Printer)..............        10\n",
      " Punch file.............         0       Backup basis file......         0       (Specs file)...........         0\n",
      " Load file..............         0       Dump file..............         0       Standard output........         6\n",
      "\n",
      " Frequencies\n",
      " -----------\n",
      " Print frequency........       100       Check frequency........        60       Save new basis map.....       100\n",
      " Summary frequency......       100       Factorization frequency        50       Expand frequency.......     10000\n",
      "\n",
      " QP subproblems\n",
      " --------------\n",
      " QPsolver Cholesky......\n",
      " Scale tolerance........     0.900       Minor feasibility tol..  1.00E-06       Iteration limit........     10000\n",
      " Scale option...........         0       Minor optimality  tol..  1.00E-06       Minor print level......         1\n",
      " Crash tolerance........     0.100       Pivot tolerance........  3.25E-11       New superbasics........        99\n",
      " Crash option...........         3       Elastic weight.........  1.00E+05\n",
      "\n",
      " Partial pricing\n",
      " ---------------\n",
      " LP Partial price.......         1       Prtl price section ( A)        91       Prtl price section (-I)         2\n",
      " QP Partial price.......         1       Prtl price section ( A)        91       Prtl price section (-I)         2\n",
      "\n",
      " The SQP Method\n",
      " --------------\n",
      " Minimize...............                 Cold start.............                 Proximal Point method..         1\n",
      " Nonlinear objectiv vars        91       Objective Row..........         1       Function precision.....  3.00E-13\n",
      " Unbounded step size....  1.00E+20       Superbasics limit......        91       Difference interval....  5.48E-07\n",
      " Unbounded objective....  1.00E+15       Reduced Hessian dim....        91       Central difference int.  6.70E-05\n",
      " Major step limit.......  2.00E+00       Derivative linesearch..                 Derivative option......         1\n",
      " Major iterations limit.       300       Linesearch tolerance...   0.90000       Verify level...........         0\n",
      " Minor iterations limit.       500       Penalty parameter......  0.00E+00       Major Print Level......         1\n",
      " Time limit (secs)...... 9999999.0       Major optimality tol...  1.00E-03\n",
      "\n",
      " Hessian Approximation\n",
      " ---------------------\n",
      " Limited-Memory Hessian.                 Hessian updates........        10       Hessian frequency......  99999999\n",
      "                                                                                 Hessian flush..........  99999999\n",
      "\n",
      " Nonlinear constraints\n",
      " ---------------------\n",
      " Nonlinear constraints..         1       Major feasibility tol..  1.00E-03       Violation limit........  1.00E+01\n",
      " Nonlinear Jacobian vars        91\n",
      "\n",
      " Miscellaneous\n",
      " -------------\n",
      " LU factor tolerance....      3.99       LU singularity tol.....  3.25E-11       Timing level...........         0\n",
      " LU update tolerance....      3.99       LU swap tolerance......  1.22E-04       Debug level............         0\n",
      " LU partial  pivoting...                 eps (machine precision)  2.22E-16       System information.....        No\n",
      "                                                                                 Sticky parameters......        No\n",
      "1\n",
      " \n",
      "\n",
      " \n",
      "\n",
      " Matrix statistics\n",
      " -----------------\n",
      "               Total      Normal        Free       Fixed     Bounded\n",
      " Rows              2           1           1           0           0\n",
      " Columns          91           0          91           0           0\n",
      "\n",
      " No. of matrix elements                   91     Density      50.000\n",
      " Biggest  constant element        0.0000E+00  (excluding fixed columns,\n",
      " Smallest constant element        0.0000E+00   free rows, and RHS)\n",
      "\n",
      " No. of objective coefficients             0\n",
      "\n",
      " Nonlinear constraints       1     Linear constraints       1\n",
      " Nonlinear variables        91     Linear variables         0\n",
      " Jacobian  variables        91     Objective variables     91\n",
      " Total constraints           2     Total variables         91\n",
      "1\n",
      " \n",
      "\n",
      " \n",
      " The user has defined     182   out of     182   first  derivatives\n",
      "\n",
      " Cheap test of user-supplied problem derivatives...\n",
      "\n",
      " The constraint gradients seem to be OK.\n",
      "\n",
      " -->  The largest discrepancy was    7.64E-06  in constraint    93\n",
      " \n",
      "\n",
      " The objective  gradients seem to be OK.\n",
      "\n",
      " Gradient projected in one direction   0.00000000000E+00\n",
      " Difference approximation              2.07888153550E-07\n",
      "1\n",
      " \n",
      " \n",
      "\n",
      "   Itns Major Minors    Step   nCon Feasible  Optimal  MeritFunction     L+U BSwap     nS condZHZ Penalty\n",
      "     14     0     14              1  8.4E-02  4.0E-02  0.0000000E+00       2           13 1.6E+05         _  r\n",
      "     15     1      1 2.9E-01      3  5.9E-02 (1.1E-04) 2.2459627E-03       2           13 2.2E+05 1.8E-01 _  r\n",
      "     26     2     11 2.7E-02      5  5.8E-02  5.2E-02  2.2211555E-03       2           22 3.0E+05 1.8E-01 _s\n",
      "     47     3     21 2.5E-01      7  4.4E-02  4.6E-02  3.7282880E-03       2           42 3.9E+05 4.5E-01 _\n",
      "     59     4     12 1.3E-01      9  3.8E-02  5.4E-02  3.9600773E-03       2     1     53 2.0E+00 5.4E-01 _\n",
      "     66     5      7 1.3E-01     11  3.3E-02  7.1E-02  4.4916041E-03       2           59 2.0E+00 7.6E-01 _\n",
      "     73     6      7 1.4E-01     13  2.9E-02  9.3E-02  5.4720001E-03       2           65 2.0E+00 1.3E+00 _\n",
      "     81     7      8 1.7E-01     15  2.5E-02  9.6E-02  7.1468961E-03       2           72 2.0E+00 2.4E+00 _\n",
      "     87     8      6 2.4E-01     17  1.9E-02  6.6E-02  9.2440962E-03       2           77 2.0E+00 4.5E+00 _\n",
      "     88     9      1 2.0E-01     19  1.6E-02  5.3E-02  1.0607908E-02       2           77 6.7E+00 6.7E+00 _\n",
      "     90    10      2 3.3E-01     21  1.2E-02  6.2E-02  9.9150627E-03       2           78 4.2E+00 6.7E+00 _\n",
      "     93    11      3 3.1E-01     23  8.4E-03  7.8E-02  1.1020053E-02       2           80 7.1E+00 1.2E+01 _\n",
      "     94    12      1 2.5E-01     25  6.5E-03  4.2E-02  1.0832732E-02       2           80 1.1E+01 1.2E+01 _  R\n",
      "     96    13      2 1.2E-01     27  5.8E-03  2.7E-02  1.1422753E-02       2           81 1.1E+01 1.9E+01 _s\n",
      "     97    14      1 1.9E-01     29  4.8E-03  3.6E-02  1.1554963E-02       2           81 1.1E+01 2.2E+01 _\n",
      "    100    15      3 2.3E-01     31  3.7E-03  5.0E-02  1.1532309E-02       2           83 1.2E+01 2.3E+01 _\n",
      "    101    16      1 1.9E-01     33  3.1E-03  6.9E-02  1.1505766E-02       2           83 1.2E+01 2.3E+01 _\n",
      "    102    17      1 1.0E+00     34 (3.9E-04) 5.9E-02  1.1420548E-02       2           83 1.0E+01 2.3E+01 _\n",
      "    103    18      1 1.0E+00     35 (3.5E-04) 2.6E-02  1.1178226E-02       2           83 9.0E+00 4.8E+00 _\n",
      "    104    19      1 1.0E+00     36 (9.2E-05) 1.9E-02  1.1149957E-02       2           83 8.3E+00 4.8E+00 _\n",
      "\n",
      "   Itns Major Minors    Step   nCon Feasible  Optimal  MeritFunction     L+U BSwap     nS condZHZ Penalty\n",
      "    105    20      1 1.0E+00     37 (1.5E-05) 1.1E-02  1.1132384E-02       2           83 8.6E+00 4.8E+00 _\n",
      "    106    21      1 1.0E+00     38 (3.7E-06) 1.7E-02  1.1124351E-02       2           83 8.4E+00 4.8E+00 _\n",
      "    107    22      1 1.3E-01     40 (3.4E-06) 1.3E-02  1.1120599E-02       2           83 1.3E+01 4.8E+00 _\n",
      "    108    23      1 7.0E-03     48 (3.3E-06) 1.3E-02  1.1120178E-02       2           83 4.1E+02 4.8E+00 _  R\n",
      "    109    24      1 2.8E-01     50 (7.7E-06) 1.4E-02  1.1119366E-02       2           83 4.1E+02 4.8E+00 _s\n",
      "    110    25      1 1.0E+00     51 (1.6E-06) 1.6E-02  1.1119347E-02       2           83 4.1E+02 4.8E+00 _\n",
      "    111    26      1 5.8E-01     53 (8.6E-07) 2.4E-02  1.1118848E-02       2           83 4.6E+02 4.8E+00 _\n",
      "    112    27      1 1.0E+00     54 (4.4E-07) 1.8E-02  1.1118642E-02       2           83 6.3E+02 4.8E+00 _\n",
      "    113    28      1 1.0E+00     55 (4.0E-07) 1.6E-02  1.1118105E-02       2           83 8.8E+02 4.8E+00 _\n",
      "    114    29      1 1.0E+00     56 (7.2E-07) 1.6E-02  1.1118037E-02       2           83 1.1E+03 4.8E+00 _\n",
      "    115    30      1 1.0E+00     57 (2.3E-07) 1.5E-02  1.1117733E-02       2           83 1.5E+03 4.8E+00 _\n",
      "    116    31      1 1.0E+00     58 (0.0E+00) 1.4E-02  1.1117295E-02       2           83 1.5E+03 4.8E+00 _\n",
      "    117    32      1 1.0E+00     59 (4.1E-08) 1.3E-02  1.1117230E-02       2           83 9.5E+02 4.8E+00 _\n",
      "    118    33      1 2.8E-02     66 (3.7E-08) 1.3E-02  1.1117225E-02       2           83 8.9E+02 4.8E+00 _\n",
      "    119    34      1 2.0E-01     68 (0.0E+00) 1.3E-02  1.1117091E-02       2           83 3.6E+02 4.8E+00 _  R\n",
      "    121    35      2 4.6E-06     77 (0.0E+00) 3.3E-02  1.1117091E-02       2           83 1.8E+03 4.8E+00 _s\n",
      "    123    36      2 2.7E-06     81 (0.0E+00) 1.1E-02  1.1116985E-02       2           83 1.4E+03 4.8E+00 _\n",
      "    124    37      1 5.2E-06     87 (0.0E+00) 1.1E-02  1.1116985E-02       2           83 1.5E+03 4.8E+00 _\n",
      "    125    38      1 1.5E-03     97 (0.0E+00) 1.1E-02  1.1116983E-02       2           83 1.6E+03 4.8E+00 _\n",
      "    126    39      1 6.1E-04    107 (0.0E+00) 1.1E-02  1.1116981E-02       2           83 1.5E+03 4.8E+00 _\n",
      "\n",
      "   Itns Major Minors    Step   nCon Feasible  Optimal  MeritFunction     L+U BSwap     nS condZHZ Penalty\n",
      "    128    40      2 9.7E-05    117 (0.0E+00) 1.1E-02  1.1116981E-02       2           83 2.1E+03 4.8E+00 _\n",
      "    129    41      1 4.4E-10    124 (0.0E+00) 1.1E-02  1.1116981E-02       2           83 1.7E+03 4.8E+00 _\n",
      "    130    41      1            129 (0.0E+00) 1.1E-02  1.1116981E-02       2           83 1.4E+00         _  r\n",
      "    130    41      0            135 (0.0E+00) 1.1E-02  1.1116981E-02       2           83 1.4E+00         _  r\n",
      "1\n",
      " \n",
      " SNOPTA EXIT  40 -- terminated after numerical difficulties\n",
      " SNOPTA INFO  41 -- current point cannot be improved\n",
      "\n",
      " Problem name                 drake_pr\n",
      " No. of iterations                 130   Objective            1.1117155009E-02\n",
      " No. of major iterations            41   Linear    obj. term  0.0000000000E+00\n",
      " Penalty parameter           0.000E+00   Nonlinear obj. term  1.1117155009E-02\n",
      " User function calls (total)       142\n",
      " No. of superbasics                 83   No. of basic nonlinears             1\n",
      " No. of degenerate steps             0   Percentage                       0.00\n",
      " Max x                      60 9.9E-01   Max pi                      2 1.0E+00\n",
      " Max Primal infeas           0 0.0E+00   Max Dual infeas            24 1.1E-02\n",
      " Nonlinear constraint violn    0.0E+00\n",
      "1\n",
      " \n",
      " Name           drake_pr                 Objective Value      1.1117155009E-02\n",
      "\n",
      " Status         Optimal Soln             Iteration    130    Superbasics    83\n",
      "\n",
      " Objective               (Min)\n",
      " RHS\n",
      " Ranges\n",
      " Bounds\n",
      "\n",
      " Section 1 - Rows\n",
      "\n",
      "  Number  ...Row.. State  ...Activity...  Slack Activity  ..Lower Limit.  ..Upper Limit.  .Dual Activity    ..i\n",
      " \n",
      "      92  r      1    BS          .               .                None            None         -1.0          1\n",
      "      93  r      2    UL         1.00000        -0.00000           None          1.0            -0.36179      2\n",
      "1\n",
      " \n",
      " Section 2 - Columns\n",
      "\n",
      "  Number  .Column. State  ...Activity...  .Obj Gradient.  ..Lower Limit.  ..Upper Limit.  Reduced Gradnt    m+j\n",
      " \n",
      "       1  x      1   SBS         0.99206         0.00010           None            None          0.00000      3\n",
      "       2  x      2   SBS        -0.00865         0.00489           None            None          0.00005      4\n",
      "       3  x      3   SBS        -0.02366         0.00197           None            None          0.00002      5\n",
      "       4  x      4   SBS        -0.12322         0.00007           None            None          0.00000      6\n",
      "       5  x      5   SBS         0.15145         0.00076           None            None          0.00001      7\n",
      "       6  x      6   SBS         0.17404         0.00196           None            None          0.00002      8\n",
      "       7  x      7   SBS         0.80733         0.03561           None            None          0.00039      9\n",
      "       8  x      8   SBS         0.96966         0.00006           None            None          0.00000     10\n",
      "       9  x      9   SBS         0.00202        -0.00470           None            None          0.00014     11\n",
      "      10  x     10   SBS        -0.01142         0.00329           None            None          0.00008     12\n",
      "      11  x     11   SBS         0.24415        -0.00004           None            None         -0.00000     13\n",
      "      12  x     12   SBS         0.09217        -0.00053           None            None         -0.00001     14\n",
      "      13  x     13   SBS        -0.12990         0.00024           None            None         -0.00000     15\n",
      "      14  x     14   SBS         0.81740         0.05544           None            None          0.00059     16\n",
      "      15  x     15   SBS         0.23625         0.00000           None            None          0.00000     17\n",
      "      16  x     16   SBS         0.00012        -0.01615           None            None         -0.00031     18\n",
      "      17  x     17 N SBS         0.00013        -0.00937           None            None         -0.00168     19\n",
      "      18  x     18   SBS        -0.97165        -0.00001           None            None         -0.00001     20\n",
      "      19  x     19   SBS         0.25847        -0.00005           None            None         -0.00001     21\n",
      "      20  x     20   SBS         0.39676         0.00002           None            None         -0.00001     22\n",
      "      21  x     21   SBS         0.90268         0.08148           None            None          0.00088     23\n",
      "      22  x     22   SBS         0.78313        -0.00001           None            None         -0.00001     24\n",
      "      23  x     23   SBS        -0.00000         0.02127           None            None          0.00050     25\n",
      "      24  x     24 N SBS         0.00001        -0.02223           None            None          0.01054     26\n",
      "      25  x     25   SBS         0.62167        -0.00000           None            None         -0.00000     27\n",
      "      26  x     26   SBS         0.17738         0.00003           None            None          0.00001     28\n",
      "      27  x     27   SBS         0.43042         0.00007           None            None          0.00001     29\n",
      "      28  x     28   SBS         0.80066         0.02510           None            None          0.00070     30\n",
      "      29  x     29   SBS         0.61401         0.00003           None            None         -0.00000     31\n",
      "      30  x     30   SBS        -0.00168         0.02371           None            None          0.00053     32\n",
      "      31  x     31   SBS        -0.00085         0.00806           None            None         -0.00026     33\n",
      "      32  x     32   SBS        -0.78919        -0.00003           None            None         -0.00000     34\n",
      "      33  x     33   SBS         0.00519         0.00017           None            None          0.00006     35\n",
      "      34  x     34   SBS        -0.44713         0.00034           None            None          0.00005     36\n",
      "      35  x     35    BS         0.90552         0.11185           None            None          0.00156     37\n",
      "      36  x     36 A  FR         0.43524          .                None            None         -0.00000     38\n",
      "      37  x     37   SBS         0.00266         0.00001           None            None          0.00000     39\n",
      "      38  x     38   SBS         0.01091        -0.00004           None            None         -0.00000     40\n",
      "      39  x     39 A  FR         0.90025          .                None            None         -0.00000     41\n",
      "      40  x     40   SBS         0.41316        -0.00000           None            None         -0.00000     42\n",
      "      41  x     41   SBS        -0.02863        -0.00006           None            None         -0.00000     43\n",
      "      42  x     42   SBS         0.90101         0.00020           None            None          0.00000     44\n",
      "      43  x     43   SBS         0.89724        -0.00000           None            None          0.00000     45\n",
      "      44  x     44 N SBS         0.00000        -0.02262           None            None          0.00677     46\n",
      "      45  x     45 N SBS         0.00000         0.00642           None            None          0.00545     47\n",
      "      46  x     46   SBS        -0.44139         0.00000           None            None          0.00001     48\n",
      "      47  x     47   SBS         0.02010        -0.00042           None            None         -0.00006     49\n",
      "      48  x     48   SBS        -0.45837        -0.00260           None            None         -0.00007     50\n",
      "      49  x     49   SBS         0.80470        -0.06411           None            None         -0.00078     51\n",
      "      50  x     50   SBS         0.76707         0.00001           None            None          0.00000     52\n",
      "      51  x     51   SBS        -0.01844         0.00304           None            None          0.00003     53\n",
      "      52  x     52   SBS        -0.00317         0.00376           None            None          0.00004     54\n",
      "      53  x     53   SBS         0.64129         0.00009           None            None          0.00000     55\n",
      "      54  x     54 A  FR        -0.31093          .                None            None          0.00000     56\n",
      "      55  x     55 A  FR        -0.45072          .                None            None          0.00000     57\n",
      "      56  x     56   SBS         0.81888         0.05883           None            None          0.00063     58\n",
      "      57  x     57   SBS         0.10311         0.00002           None            None          0.00000     59\n",
      "      58  x     58   SBS        -0.00948         0.00508           None            None          0.00005     60\n",
      "      59  x     59   SBS         0.00440        -0.00051           None            None         -0.00000     61\n",
      "      60  x     60   SBS        -0.99461        -0.00005           None            None         -0.00000     62\n",
      "      61  x     61   SBS         0.46647         0.00005           None            None         -0.00000     63\n",
      "      62  x     62   SBS         0.23004         0.00002           None            None          0.00000     64\n",
      "      63  x     63   SBS         0.81928         0.05868           None            None          0.00063     65\n",
      "      64  x     64   SBS         0.90079        -0.00001           None            None         -0.00000     66\n",
      "      65  x     65   SBS         0.00125         0.00079           None            None          0.00001     67\n",
      "      66  x     66   SBS         0.00139         0.00301           None            None          0.00003     68\n",
      "      67  x     67   SBS        -0.43425        -0.00000           None            None          0.00000     69\n",
      "      68  x     68   SBS        -0.17733        -0.00000           None            None         -0.00000     70\n",
      "      69  x     69 A  FR         0.23243          .                None            None         -0.00000     71\n",
      "      70  x     70   SBS         0.81860         0.05734           None            None          0.00061     72\n",
      "      71  x     71   SBS         0.93721         0.00001           None            None          0.00000     73\n",
      "      72  x     72   SBS         0.00339        -0.00195           None            None         -0.00002     74\n",
      "      73  x     73   SBS         0.00358        -0.00008           None            None         -0.00000     75\n",
      "      74  x     74   SBS         0.34872        -0.00000           None            None         -0.00000     76\n",
      "      75  x     75   SBS        -0.24082        -0.00009           None            None         -0.00000     77\n",
      "      76  x     76   SBS        -0.05759         0.00015           None            None          0.00000     78\n",
      "      77  x     77   SBS         0.80606         0.03338           None            None          0.00035     79\n",
      "      78  x     78   SBS         0.22087         0.00001           None            None          0.00000     80\n",
      "      79  x     79   SBS         0.00047         0.00065           None            None          0.00001     81\n",
      "      80  x     80   SBS        -0.00240         0.00175           None            None          0.00002     82\n",
      "      81  x     81   SBS         0.97530         0.00000           None            None          0.00000     83\n",
      "      82  x     82   SBS        -0.17944         0.00009           None            None          0.00000     84\n",
      "      83  x     83   SBS        -0.18797        -0.00015           None            None         -0.00000     85\n",
      "      84  x     84   SBS         0.80593         0.03355           None            None          0.00036     86\n",
      "      85  x     85   SBS         0.14712        -0.00002           None            None         -0.00000     87\n",
      "      86  x     86   SBS         0.00921        -0.00120           None            None         -0.00001     88\n",
      "      87  x     87   SBS        -0.03826         0.00176           None            None          0.00002     89\n",
      "      88  x     88   SBS         0.98833         0.00008           None            None          0.00000     90\n",
      "      89  x     89 A  FR        -0.47328          .                None            None          0.00000     91\n",
      "      90  x     90 A  FR        -0.20517          .                None            None         -0.00000     92\n",
      "      91  x     91   SBS         0.80769         0.03442           None            None          0.00037     93\n",
      "\n",
      "At iter 1\n"
     ]
    },
    {
     "name": "stdout",
     "output_type": "stream",
     "text": [
      "Initial trace log prob:  tensor(-15801.0380)\n",
      "Connecting to meshcat-server at zmq_url=tcp://127.0.0.1:6001...\n",
      "You can open the visualizer by visiting the following URL:\n",
      "http://127.0.0.1:7001/static/\n",
      "Connected to meshcat-server.\n"
     ]
    },
    {
     "name": "stderr",
     "output_type": "stream",
     "text": [
      "Sample: 100%|██████████| 37/37 [01:08,  1.85s/it, step size=9.89e-04, acc. prob=0.778]\n"
     ]
    },
    {
     "name": "stdout",
     "output_type": "stream",
     "text": [
      "At iter 2\n",
      "Initial trace log prob:  tensor(-5591.4543)\n"
     ]
    },
    {
     "name": "stderr",
     "output_type": "stream",
     "text": [
      "\r",
      "Warmup:   0%|          | 0/37 [00:00, ?it/s]"
     ]
    },
    {
     "name": "stdout",
     "output_type": "stream",
     "text": [
      "Connecting to meshcat-server at zmq_url=tcp://127.0.0.1:6001...\n",
      "You can open the visualizer by visiting the following URL:\n",
      "http://127.0.0.1:7001/static/\n",
      "Connected to meshcat-server.\n"
     ]
    },
    {
     "name": "stderr",
     "output_type": "stream",
     "text": [
      "Sample: 100%|██████████| 37/37 [00:48,  1.32s/it, step size=7.88e-04, acc. prob=0.918]\n"
     ]
    },
    {
     "name": "stdout",
     "output_type": "stream",
     "text": [
      "At iter 3\n",
      "Initial trace log prob:  tensor(-21882.4354)\n"
     ]
    },
    {
     "name": "stderr",
     "output_type": "stream",
     "text": [
      "\r",
      "Warmup:   0%|          | 0/37 [00:00, ?it/s]"
     ]
    },
    {
     "name": "stdout",
     "output_type": "stream",
     "text": [
      "Connecting to meshcat-server at zmq_url=tcp://127.0.0.1:6001...\n",
      "You can open the visualizer by visiting the following URL:\n",
      "http://127.0.0.1:7001/static/\n",
      "Connected to meshcat-server.\n"
     ]
    },
    {
     "name": "stderr",
     "output_type": "stream",
     "text": [
      "Sample: 100%|██████████| 37/37 [00:52,  1.42s/it, step size=9.82e-04, acc. prob=0.822]\n"
     ]
    },
    {
     "name": "stdout",
     "output_type": "stream",
     "text": [
      "At iter 4\n",
      "Initial trace log prob:  tensor(-37134.7642)\n",
      "Connecting to meshcat-server at zmq_url=tcp://127.0.0.1:6001...\n",
      "You can open the visualizer by visiting the following URL:\n",
      "http://127.0.0.1:7001/static/\n",
      "Connected to meshcat-server.\n"
     ]
    },
    {
     "name": "stderr",
     "output_type": "stream",
     "text": [
      "Sample: 100%|██████████| 37/37 [01:15,  2.04s/it, step size=1.02e-03, acc. prob=0.722]\n"
     ]
    },
    {
     "name": "stdout",
     "output_type": "stream",
     "text": [
      "At iter 5\n",
      "Initial trace log prob:  tensor(-18989.0840)\n"
     ]
    },
    {
     "name": "stderr",
     "output_type": "stream",
     "text": [
      "\r",
      "Warmup:   0%|          | 0/37 [00:00, ?it/s]"
     ]
    },
    {
     "name": "stdout",
     "output_type": "stream",
     "text": [
      "Connecting to meshcat-server at zmq_url=tcp://127.0.0.1:6001...\n",
      "You can open the visualizer by visiting the following URL:\n",
      "http://127.0.0.1:7001/static/\n",
      "Connected to meshcat-server.\n"
     ]
    },
    {
     "name": "stderr",
     "output_type": "stream",
     "text": [
      "Sample: 100%|██████████| 37/37 [00:53,  1.45s/it, step size=7.13e-04, acc. prob=0.929]\n"
     ]
    },
    {
     "name": "stdout",
     "output_type": "stream",
     "text": [
      "At iter 6\n",
      "Initial trace log prob:  tensor(-36622.8115)\n",
      "Connecting to meshcat-server at zmq_url=tcp://127.0.0.1:6001...\n",
      "You can open the visualizer by visiting the following URL:\n",
      "http://127.0.0.1:7001/static/\n",
      "Connected to meshcat-server.\n"
     ]
    },
    {
     "name": "stderr",
     "output_type": "stream",
     "text": [
      "Sample: 100%|██████████| 37/37 [01:21,  2.20s/it, step size=8.61e-04, acc. prob=0.823]\n"
     ]
    },
    {
     "name": "stdout",
     "output_type": "stream",
     "text": [
      "At iter 7\n",
      "Initial trace log prob:  tensor(-12779.8545)\n"
     ]
    },
    {
     "name": "stderr",
     "output_type": "stream",
     "text": [
      "\r",
      "Warmup:   0%|          | 0/37 [00:00, ?it/s]"
     ]
    },
    {
     "name": "stdout",
     "output_type": "stream",
     "text": [
      "Connecting to meshcat-server at zmq_url=tcp://127.0.0.1:6001...\n",
      "You can open the visualizer by visiting the following URL:\n",
      "http://127.0.0.1:7001/static/\n",
      "Connected to meshcat-server.\n"
     ]
    },
    {
     "name": "stderr",
     "output_type": "stream",
     "text": [
      "Sample: 100%|██████████| 37/37 [01:06,  1.78s/it, step size=9.63e-04, acc. prob=0.785]\n"
     ]
    },
    {
     "name": "stdout",
     "output_type": "stream",
     "text": [
      "At iter 8\n",
      "Initial trace log prob:  tensor(-25818.8128)\n"
     ]
    },
    {
     "name": "stderr",
     "output_type": "stream",
     "text": [
      "\r",
      "Warmup:   0%|          | 0/37 [00:00, ?it/s]"
     ]
    },
    {
     "name": "stdout",
     "output_type": "stream",
     "text": [
      "Connecting to meshcat-server at zmq_url=tcp://127.0.0.1:6001...\n",
      "You can open the visualizer by visiting the following URL:\n",
      "http://127.0.0.1:7001/static/\n",
      "Connected to meshcat-server.\n"
     ]
    },
    {
     "name": "stderr",
     "output_type": "stream",
     "text": [
      "Sample: 100%|██████████| 37/37 [01:00,  1.64s/it, step size=9.56e-04, acc. prob=0.773]\n"
     ]
    },
    {
     "name": "stdout",
     "output_type": "stream",
     "text": [
      "At iter 9\n",
      "Initial trace log prob:  tensor(-28368.5515)\n"
     ]
    },
    {
     "name": "stderr",
     "output_type": "stream",
     "text": [
      "\r",
      "Warmup:   0%|          | 0/37 [00:00, ?it/s]"
     ]
    },
    {
     "name": "stdout",
     "output_type": "stream",
     "text": [
      "Connecting to meshcat-server at zmq_url=tcp://127.0.0.1:6001...\n",
      "You can open the visualizer by visiting the following URL:\n",
      "http://127.0.0.1:7001/static/\n",
      "Connected to meshcat-server.\n"
     ]
    },
    {
     "name": "stderr",
     "output_type": "stream",
     "text": [
      "Sample: 100%|██████████| 37/37 [00:59,  1.60s/it, step size=7.42e-04, acc. prob=0.885]\n"
     ]
    },
    {
     "name": "stdout",
     "output_type": "stream",
     "text": [
      "At iter 10\n",
      "Initial trace log prob:  tensor(-27503.1662)\n"
     ]
    },
    {
     "name": "stderr",
     "output_type": "stream",
     "text": [
      "\r",
      "Warmup:   0%|          | 0/37 [00:00, ?it/s]"
     ]
    },
    {
     "name": "stdout",
     "output_type": "stream",
     "text": [
      "Connecting to meshcat-server at zmq_url=tcp://127.0.0.1:6001...\n",
      "You can open the visualizer by visiting the following URL:\n",
      "http://127.0.0.1:7001/static/\n",
      "Connected to meshcat-server.\n"
     ]
    },
    {
     "name": "stderr",
     "output_type": "stream",
     "text": [
      "Sample: 100%|██████████| 37/37 [01:07,  1.83s/it, step size=1.05e-03, acc. prob=0.777]\n"
     ]
    },
    {
     "name": "stdout",
     "output_type": "stream",
     "text": [
      "At iter 11\n",
      "Initial trace log prob:  tensor(-17240.8934)\n"
     ]
    },
    {
     "name": "stderr",
     "output_type": "stream",
     "text": [
      "\r",
      "Warmup:   0%|          | 0/37 [00:00, ?it/s]"
     ]
    },
    {
     "name": "stdout",
     "output_type": "stream",
     "text": [
      "Connecting to meshcat-server at zmq_url=tcp://127.0.0.1:6001...\n",
      "You can open the visualizer by visiting the following URL:\n",
      "http://127.0.0.1:7001/static/\n",
      "Connected to meshcat-server.\n"
     ]
    },
    {
     "name": "stderr",
     "output_type": "stream",
     "text": [
      "Sample: 100%|██████████| 37/37 [01:04,  1.74s/it, step size=9.99e-04, acc. prob=0.783]\n"
     ]
    },
    {
     "name": "stdout",
     "output_type": "stream",
     "text": [
      "At iter 12\n",
      "Initial trace log prob:  tensor(-58890.7281)\n",
      "Connecting to meshcat-server at zmq_url=tcp://127.0.0.1:6001...\n",
      "You can open the visualizer by visiting the following URL:\n",
      "http://127.0.0.1:7001/static/\n",
      "Connected to meshcat-server.\n"
     ]
    },
    {
     "name": "stderr",
     "output_type": "stream",
     "text": [
      "Sample: 100%|██████████| 37/37 [01:14,  2.00s/it, step size=6.32e-04, acc. prob=0.883]\n"
     ]
    },
    {
     "name": "stdout",
     "output_type": "stream",
     "text": [
      "At iter 13\n",
      "Initial trace log prob:  tensor(-25941.0261)\n",
      "Connecting to meshcat-server at zmq_url=tcp://127.0.0.1:6001...\n",
      "You can open the visualizer by visiting the following URL:\n",
      "http://127.0.0.1:7001/static/\n",
      "Connected to meshcat-server.\n"
     ]
    },
    {
     "name": "stderr",
     "output_type": "stream",
     "text": [
      "Sample: 100%|██████████| 37/37 [01:18,  2.12s/it, step size=6.96e-04, acc. prob=0.893]\n"
     ]
    },
    {
     "name": "stdout",
     "output_type": "stream",
     "text": [
      "At iter 14\n",
      "Initial trace log prob:  tensor(-52070.3221)\n"
     ]
    },
    {
     "name": "stderr",
     "output_type": "stream",
     "text": [
      "\r",
      "Warmup:   0%|          | 0/37 [00:00, ?it/s]"
     ]
    },
    {
     "name": "stdout",
     "output_type": "stream",
     "text": [
      "Connecting to meshcat-server at zmq_url=tcp://127.0.0.1:6001...\n",
      "You can open the visualizer by visiting the following URL:\n",
      "http://127.0.0.1:7001/static/\n",
      "Connected to meshcat-server.\n"
     ]
    },
    {
     "name": "stderr",
     "output_type": "stream",
     "text": [
      "Sample: 100%|██████████| 37/37 [01:00,  1.63s/it, step size=9.53e-04, acc. prob=0.862]\n"
     ]
    },
    {
     "name": "stdout",
     "output_type": "stream",
     "text": [
      "At iter 15\n",
      "Initial trace log prob:  tensor(-14603.9453)\n"
     ]
    },
    {
     "name": "stderr",
     "output_type": "stream",
     "text": [
      "\r",
      "Warmup:   0%|          | 0/37 [00:00, ?it/s]"
     ]
    },
    {
     "name": "stdout",
     "output_type": "stream",
     "text": [
      "Connecting to meshcat-server at zmq_url=tcp://127.0.0.1:6001...\n",
      "You can open the visualizer by visiting the following URL:\n",
      "http://127.0.0.1:7001/static/\n",
      "Connected to meshcat-server.\n"
     ]
    },
    {
     "name": "stderr",
     "output_type": "stream",
     "text": [
      "Sample: 100%|██████████| 37/37 [00:56,  1.53s/it, step size=8.39e-04, acc. prob=0.824]\n"
     ]
    },
    {
     "name": "stdout",
     "output_type": "stream",
     "text": [
      "At iter 16\n",
      "Initial trace log prob:  tensor(-10553.0004)\n",
      "Connecting to meshcat-server at zmq_url=tcp://127.0.0.1:6001...\n",
      "You can open the visualizer by visiting the following URL:\n",
      "http://127.0.0.1:7001/static/\n",
      "Connected to meshcat-server.\n"
     ]
    },
    {
     "name": "stderr",
     "output_type": "stream",
     "text": [
      "Sample: 100%|██████████| 37/37 [01:14,  2.02s/it, step size=7.62e-04, acc. prob=0.902]\n"
     ]
    },
    {
     "name": "stdout",
     "output_type": "stream",
     "text": [
      "At iter 17\n",
      "Initial trace log prob:  tensor(-43101.7465)\n",
      "Connecting to meshcat-server at zmq_url=tcp://127.0.0.1:6001...\n",
      "You can open the visualizer by visiting the following URL:\n",
      "http://127.0.0.1:7001/static/\n",
      "Connected to meshcat-server.\n"
     ]
    },
    {
     "name": "stderr",
     "output_type": "stream",
     "text": [
      "Sample: 100%|██████████| 37/37 [01:19,  2.14s/it, step size=8.81e-04, acc. prob=0.858]\n"
     ]
    },
    {
     "name": "stdout",
     "output_type": "stream",
     "text": [
      "At iter 18\n",
      "Initial trace log prob:  tensor(-4300.6502)\n",
      "Connecting to meshcat-server at zmq_url=tcp://127.0.0.1:6001...\n",
      "You can open the visualizer by visiting the following URL:\n",
      "http://127.0.0.1:7001/static/\n",
      "Connected to meshcat-server.\n"
     ]
    },
    {
     "name": "stderr",
     "output_type": "stream",
     "text": [
      "Sample: 100%|██████████| 37/37 [01:01,  1.67s/it, step size=1.07e-03, acc. prob=0.805]\n"
     ]
    },
    {
     "name": "stdout",
     "output_type": "stream",
     "text": [
      "At iter 19\n",
      "Initial trace log prob:  tensor(-7616.5292)\n",
      "Connecting to meshcat-server at zmq_url=tcp://127.0.0.1:6001...\n",
      "You can open the visualizer by visiting the following URL:\n",
      "http://127.0.0.1:7001/static/\n",
      "Connected to meshcat-server.\n"
     ]
    },
    {
     "name": "stderr",
     "output_type": "stream",
     "text": [
      "Sample: 100%|██████████| 37/37 [01:10,  1.92s/it, step size=1.16e-03, acc. prob=0.684]\n"
     ]
    },
    {
     "name": "stdout",
     "output_type": "stream",
     "text": [
      "At iter 20\n",
      "Initial trace log prob:  tensor(-19826.0873)\n"
     ]
    },
    {
     "name": "stderr",
     "output_type": "stream",
     "text": [
      "\r",
      "Warmup:   0%|          | 0/37 [00:00, ?it/s]"
     ]
    },
    {
     "name": "stdout",
     "output_type": "stream",
     "text": [
      "Connecting to meshcat-server at zmq_url=tcp://127.0.0.1:6001...\n",
      "You can open the visualizer by visiting the following URL:\n",
      "http://127.0.0.1:7001/static/\n",
      "Connected to meshcat-server.\n"
     ]
    },
    {
     "name": "stderr",
     "output_type": "stream",
     "text": [
      "Sample: 100%|██████████| 37/37 [00:47,  1.27s/it, step size=8.61e-04, acc. prob=0.859]\n"
     ]
    },
    {
     "name": "stdout",
     "output_type": "stream",
     "text": [
      "At iter 21\n",
      "Initial trace log prob:  tensor(-4119.0983)\n"
     ]
    },
    {
     "name": "stderr",
     "output_type": "stream",
     "text": [
      "\r",
      "Warmup:   0%|          | 0/37 [00:00, ?it/s]"
     ]
    },
    {
     "name": "stdout",
     "output_type": "stream",
     "text": [
      "Connecting to meshcat-server at zmq_url=tcp://127.0.0.1:6001...\n",
      "You can open the visualizer by visiting the following URL:\n",
      "http://127.0.0.1:7001/static/\n",
      "Connected to meshcat-server.\n"
     ]
    },
    {
     "name": "stderr",
     "output_type": "stream",
     "text": [
      "Sample: 100%|██████████| 37/37 [00:43,  1.19s/it, step size=8.25e-04, acc. prob=0.899]\n"
     ]
    },
    {
     "name": "stdout",
     "output_type": "stream",
     "text": [
      "At iter 22\n",
      "Initial trace log prob:  tensor(-11810.2629)\n"
     ]
    },
    {
     "name": "stderr",
     "output_type": "stream",
     "text": [
      "\r",
      "Warmup:   0%|          | 0/37 [00:00, ?it/s]"
     ]
    },
    {
     "name": "stdout",
     "output_type": "stream",
     "text": [
      "Connecting to meshcat-server at zmq_url=tcp://127.0.0.1:6001...\n",
      "You can open the visualizer by visiting the following URL:\n",
      "http://127.0.0.1:7001/static/\n",
      "Connected to meshcat-server.\n"
     ]
    },
    {
     "name": "stderr",
     "output_type": "stream",
     "text": [
      "Sample: 100%|██████████| 37/37 [00:58,  1.58s/it, step size=9.05e-04, acc. prob=0.790]\n"
     ]
    },
    {
     "name": "stdout",
     "output_type": "stream",
     "text": [
      "At iter 23\n",
      "Initial trace log prob:  tensor(-3233.1315)\n"
     ]
    },
    {
     "name": "stderr",
     "output_type": "stream",
     "text": [
      "\r",
      "Warmup:   0%|          | 0/37 [00:00, ?it/s]"
     ]
    },
    {
     "name": "stdout",
     "output_type": "stream",
     "text": [
      "Connecting to meshcat-server at zmq_url=tcp://127.0.0.1:6001...\n",
      "You can open the visualizer by visiting the following URL:\n",
      "http://127.0.0.1:7001/static/\n",
      "Connected to meshcat-server.\n"
     ]
    },
    {
     "name": "stderr",
     "output_type": "stream",
     "text": [
      "Sample: 100%|██████████| 37/37 [00:53,  1.44s/it, step size=7.70e-04, acc. prob=0.908]\n"
     ]
    },
    {
     "name": "stdout",
     "output_type": "stream",
     "text": [
      "At iter 24\n",
      "Initial trace log prob:  tensor(-41718.5651)\n"
     ]
    },
    {
     "name": "stderr",
     "output_type": "stream",
     "text": [
      "\r",
      "Warmup:   0%|          | 0/37 [00:00, ?it/s]"
     ]
    },
    {
     "name": "stdout",
     "output_type": "stream",
     "text": [
      "Connecting to meshcat-server at zmq_url=tcp://127.0.0.1:6001...\n",
      "You can open the visualizer by visiting the following URL:\n",
      "http://127.0.0.1:7001/static/\n",
      "Connected to meshcat-server.\n"
     ]
    },
    {
     "name": "stderr",
     "output_type": "stream",
     "text": [
      "Sample: 100%|██████████| 37/37 [00:43,  1.19s/it, step size=8.61e-04, acc. prob=0.887]\n"
     ]
    },
    {
     "name": "stdout",
     "output_type": "stream",
     "text": [
      "At iter 25\n",
      "Initial trace log prob:  tensor(-13930.6446)\n"
     ]
    },
    {
     "name": "stderr",
     "output_type": "stream",
     "text": [
      "\r",
      "Warmup:   0%|          | 0/37 [00:00, ?it/s]"
     ]
    },
    {
     "name": "stdout",
     "output_type": "stream",
     "text": [
      "Connecting to meshcat-server at zmq_url=tcp://127.0.0.1:6001...\n",
      "You can open the visualizer by visiting the following URL:\n",
      "http://127.0.0.1:7001/static/\n",
      "Connected to meshcat-server.\n"
     ]
    },
    {
     "name": "stderr",
     "output_type": "stream",
     "text": [
      "Sample: 100%|██████████| 37/37 [00:54,  1.48s/it, step size=1.07e-03, acc. prob=0.764]\n"
     ]
    },
    {
     "name": "stdout",
     "output_type": "stream",
     "text": [
      "At iter 26\n",
      "Initial trace log prob:  tensor(-20260.0142)\n",
      "Connecting to meshcat-server at zmq_url=tcp://127.0.0.1:6001...\n",
      "You can open the visualizer by visiting the following URL:\n",
      "http://127.0.0.1:7001/static/\n",
      "Connected to meshcat-server.\n"
     ]
    },
    {
     "name": "stderr",
     "output_type": "stream",
     "text": [
      "Sample: 100%|██████████| 37/37 [01:13,  1.99s/it, step size=6.73e-04, acc. prob=0.894]\n"
     ]
    },
    {
     "name": "stdout",
     "output_type": "stream",
     "text": [
      "At iter 27\n",
      "Initial trace log prob:  tensor(-44829.1813)\n",
      "Connecting to meshcat-server at zmq_url=tcp://127.0.0.1:6001...\n",
      "You can open the visualizer by visiting the following URL:\n",
      "http://127.0.0.1:7001/static/\n",
      "Connected to meshcat-server.\n"
     ]
    },
    {
     "name": "stderr",
     "output_type": "stream",
     "text": [
      "Sample: 100%|██████████| 37/37 [01:19,  2.15s/it, step size=8.30e-04, acc. prob=0.878]\n",
      "WARNING:root:Projection failed.\n"
     ]
    },
    {
     "name": "stdout",
     "output_type": "stream",
     "text": [
      "Logfile: \n",
      "\n",
      "         ==============================\n",
      "         S N O P T  7.4-1.2  (Feb 2015)\n",
      "         ==============================\n",
      "1\n",
      " \n",
      " SNMEMA EXIT 100 -- finished successfully\n",
      " SNMEMA INFO 104 -- memory requirements estimated\n",
      "1\n",
      " \n",
      " Parameters\n",
      " ==========\n",
      "\n",
      " Files\n",
      " -----\n",
      " Solution file..........         0       Old basis file ........         0       Standard input.........         5\n",
      " Insert file............         0       New basis file ........         0       (Printer)..............        10\n",
      " Punch file.............         0       Backup basis file......         0       (Specs file)...........         0\n",
      " Load file..............         0       Dump file..............         0       Standard output........         6\n",
      "\n",
      " Frequencies\n",
      " -----------\n",
      " Print frequency........       100       Check frequency........        60       Save new basis map.....       100\n",
      " Summary frequency......       100       Factorization frequency        50       Expand frequency.......     10000\n",
      "\n",
      " QP subproblems\n",
      " --------------\n",
      " QPsolver Cholesky......\n",
      " Scale tolerance........     0.900       Minor feasibility tol..  1.00E-06       Iteration limit........     10000\n",
      " Scale option...........         0       Minor optimality  tol..  1.00E-06       Minor print level......         1\n",
      " Crash tolerance........     0.100       Pivot tolerance........  3.25E-11       New superbasics........        99\n",
      " Crash option...........         3       Elastic weight.........  1.00E+05\n",
      "\n",
      " Partial pricing\n",
      " ---------------\n",
      " LP Partial price.......         1       Prtl price section ( A)       105       Prtl price section (-I)         2\n",
      " QP Partial price.......         1       Prtl price section ( A)       105       Prtl price section (-I)         2\n",
      "\n",
      " The SQP Method\n",
      " --------------\n",
      " Minimize...............                 Cold start.............                 Proximal Point method..         1\n",
      " Nonlinear objectiv vars       105       Objective Row..........         1       Function precision.....  3.00E-13\n",
      " Unbounded step size....  1.00E+20       Superbasics limit......       105       Difference interval....  5.48E-07\n",
      " Unbounded objective....  1.00E+15       Reduced Hessian dim....       105       Central difference int.  6.70E-05\n",
      " Major step limit.......  2.00E+00       Derivative linesearch..                 Derivative option......         1\n",
      " Major iterations limit.       300       Linesearch tolerance...   0.90000       Verify level...........         0\n",
      " Minor iterations limit.       500       Penalty parameter......  0.00E+00       Major Print Level......         1\n",
      " Time limit (secs)...... 9999999.0       Major optimality tol...  1.00E-03\n",
      "\n",
      " Hessian Approximation\n",
      " ---------------------\n",
      " Limited-Memory Hessian.                 Hessian updates........        10       Hessian frequency......  99999999\n",
      "                                                                                 Hessian flush..........  99999999\n",
      "\n",
      " Nonlinear constraints\n",
      " ---------------------\n",
      " Nonlinear constraints..         1       Major feasibility tol..  1.00E-03       Violation limit........  1.00E+01\n",
      " Nonlinear Jacobian vars       105\n",
      "\n",
      " Miscellaneous\n",
      " -------------\n",
      " LU factor tolerance....      3.99       LU singularity tol.....  3.25E-11       Timing level...........         0\n",
      " LU update tolerance....      3.99       LU swap tolerance......  1.22E-04       Debug level............         0\n",
      " LU partial  pivoting...                 eps (machine precision)  2.22E-16       System information.....        No\n",
      "                                                                                 Sticky parameters......        No\n",
      "1\n",
      " \n",
      "\n",
      " \n",
      "\n",
      " Matrix statistics\n",
      " -----------------\n",
      "               Total      Normal        Free       Fixed     Bounded\n",
      " Rows              2           1           1           0           0\n",
      " Columns         105           0         105           0           0\n",
      "\n",
      " No. of matrix elements                  105     Density      50.000\n",
      " Biggest  constant element        0.0000E+00  (excluding fixed columns,\n",
      " Smallest constant element        0.0000E+00   free rows, and RHS)\n",
      "\n",
      " No. of objective coefficients             0\n",
      "\n",
      " Nonlinear constraints       1     Linear constraints       1\n",
      " Nonlinear variables       105     Linear variables         0\n",
      " Jacobian  variables       105     Objective variables    105\n",
      " Total constraints           2     Total variables        105\n",
      "1\n",
      " \n",
      "\n",
      " \n",
      " The user has defined     210   out of     210   first  derivatives\n",
      "\n",
      " Cheap test of user-supplied problem derivatives...\n",
      "\n",
      " The constraint gradients seem to be OK.\n",
      "\n",
      " -->  The largest discrepancy was    1.32E-05  in constraint   107\n",
      " \n",
      "\n",
      " The objective  gradients seem to be OK.\n",
      "\n",
      " Gradient projected in one direction   0.00000000000E+00\n",
      " Difference approximation              2.05511734383E-07\n",
      "1\n",
      " \n",
      " \n",
      "\n",
      "   Itns Major Minors    Step   nCon Feasible  Optimal  MeritFunction     L+U BSwap     nS condZHZ Penalty\n",
      "     23     0     23              1  6.6E-02  3.2E-02  0.0000000E+00       2           22 5.9E+04         _  r\n",
      "     24     1      1 1.1E-01      3  5.9E-02 (7.6E-04) 1.5455223E-03       2           22 3.0E+03 1.9E-01 _  r\n",
      "     25     2      1 2.6E-04      6  5.9E-02  6.7E-02  1.5449916E-03       2           22 4.1E+03 1.9E-01 _s\n",
      "     31     3      6 1.9E-01      8  4.9E-02  4.1E-02  3.5801403E-03       2           27 8.6E+01 5.2E-01 _\n",
      "     47     4     16 2.1E-01     10  3.9E-02  4.8E-02  3.7603828E-03       2           42 3.0E+02 6.1E-01 _\n",
      "     61     5     14 9.1E-02     12  3.6E-02  5.1E-02  4.0904893E-03       2           55 1.4E+02 7.5E-01 _\n",
      "     73     6     12 9.3E-02     14  3.3E-02  8.0E-02  4.9328213E-03       2           66 1.8E+02 1.1E+00 _\n",
      "     80     7      7 9.3E-02     16  3.0E-02  1.0E-01  6.4495312E-03       2           72 1.4E+02 1.9E+00 _\n",
      "     92     8     12 1.6E-01     18  2.6E-02  1.2E-01  8.6232316E-03       2           83 2.6E+02 3.3E+00 _\n",
      "     94     9      2 2.4E-01     20  2.0E-02  6.2E-02  1.1022613E-02       2           84 2.3E+02 5.6E+00 _\n",
      "    100    10      6 1.6E-01     22  1.7E-02  6.8E-02  1.0921953E-02       2           89 2.7E+02 5.6E+00 _\n",
      "    106    11      6 4.0E-01     24  1.1E-02  6.4E-02  1.2448183E-02       2           94 9.2E+02 9.3E+00 _\n",
      "    107    12      1 1.2E-01     26  9.5E-03  9.1E-02  1.2536153E-02       2           94 3.9E+02 1.0E+01 _  R\n",
      "    108    13      1 2.3E-01     28  7.5E-03  9.5E-02  1.4975382E-02       2           94 8.9E+02 2.5E+01 _s\n",
      "    109    14      1 2.9E-01     30  5.8E-03  1.4E-01  1.4660763E-02       2           94 1.1E+03 2.5E+01 _\n",
      "    110    15      1 1.0E+00     31 (7.2E-04) 1.5E-01  1.3495435E-02       2           94 2.3E+02 2.5E+01 _\n",
      "    111    16      1 1.0E+00     32 (7.0E-04) 7.0E-02  1.3010296E-02       2           94 1.1E+03 5.0E+00 _\n",
      "    112    17      1 4.2E-01     34 (4.8E-04) 2.2E-02  1.2945681E-02       2           94 6.1E+02 5.0E+00 _\n",
      "    113    18      1 5.4E-01     36 (2.4E-04) 1.0E-02  1.2922928E-02       2           94 5.1E+02 5.0E+00 _\n",
      "    114    19      1 3.5E-01     38 (1.6E-04) 1.3E-02  1.2919455E-02       2           94 4.6E+02 5.0E+00 _\n",
      "\n",
      "   Itns Major Minors    Step   nCon Feasible  Optimal  MeritFunction     L+U BSwap     nS condZHZ Penalty\n",
      "    115    20      1 3.0E-01     40 (1.2E-04) 1.8E-02  1.2912480E-02       2           94 3.9E+02 5.0E+00 _\n",
      "    116    21      1 1.4E-01     42 (1.0E-04) 1.6E-02  1.2909018E-02       2           94 4.0E+02 5.0E+00 _\n",
      "    117    22      1 5.7E-02     44 (9.5E-05) 1.3E-02  1.2906122E-02       2     1     94 2.5E+01 5.0E+00 _\n",
      "    118    23      1 4.5E-02     46 (9.1E-05) 9.6E-03  1.2903180E-02       2           94 2.7E+01 5.0E+00 _  R\n",
      "    120    24      2 4.7E-01     48 (5.1E-05) 7.6E-03  1.2900675E-02       2           95 3.0E+01 5.0E+00 _s\n",
      "    121    25      1 1.0E+00     49 (3.4E-07) 4.5E-03  1.2899947E-02       2           95 2.8E+01 2.8E+01 _\n",
      "    122    26      1 8.2E-01     59 (0.0E+00) 1.9E-02  1.2897876E-02       2           95 5.7E+01 1.1E+01 _\n",
      "    123    27      1 3.5E-03     69 (0.0E+00) 1.9E-02  1.2897871E-02       2           95 2.4E+01 1.1E+01 _\n",
      "    124    27      1             75 (0.0E+00) 1.8E-02  1.2897871E-02       2           95 1.1E+00         _  r\n",
      "    124    27      0             81 (0.0E+00) 1.8E-02  1.2897871E-02       2           95 1.1E+00         _  r\n",
      "1\n",
      " \n",
      " SNOPTA EXIT  40 -- terminated after numerical difficulties\n",
      " SNOPTA INFO  41 -- current point cannot be improved\n",
      "\n",
      " Problem name                 drake_pr\n",
      " No. of iterations                 124   Objective            1.2899022645E-02\n",
      " No. of major iterations            27   Linear    obj. term  0.0000000000E+00\n",
      " Penalty parameter           0.000E+00   Nonlinear obj. term  1.2899022645E-02\n",
      " User function calls (total)        88\n",
      " No. of superbasics                 95   No. of basic nonlinears             1\n",
      " No. of degenerate steps             0   Percentage                       0.00\n",
      " Max x                      22 1.0E+00   Max pi                      2 1.0E+00\n",
      " Max Primal infeas           0 0.0E+00   Max Dual infeas            52 1.8E-02\n",
      " Nonlinear constraint violn    0.0E+00\n",
      "1\n",
      " \n",
      " Name           drake_pr                 Objective Value      1.2899022645E-02\n",
      "\n",
      " Status         Optimal Soln             Iteration    124    Superbasics    95\n",
      "\n",
      " Objective               (Min)\n",
      " RHS\n",
      " Ranges\n",
      " Bounds\n",
      "\n",
      " Section 1 - Rows\n",
      "\n",
      "  Number  ...Row.. State  ...Activity...  Slack Activity  ..Lower Limit.  ..Upper Limit.  .Dual Activity    ..i\n",
      " \n",
      "     106  r      1    BS          .               .                None            None         -1.0          1\n",
      "     107  r      2    UL         1.00000        -0.00000           None          1.0            -0.41317      2\n",
      "1\n",
      " \n",
      " Section 2 - Columns\n",
      "\n",
      "  Number  .Column. State  ...Activity...  .Obj Gradient.  ..Lower Limit.  ..Upper Limit.  Reduced Gradnt    m+j\n",
      " \n",
      "       1  x      1   SBS         0.95724        -0.00033           None            None          0.00000      3\n",
      "       2  x      2   SBS         0.01125        -0.00336           None            None         -0.00009      4\n",
      "       3  x      3   SBS        -0.01954         0.00226           None            None          0.00003      5\n",
      "       4  x      4   SBS         0.28842         0.00137           None            None         -0.00000      6\n",
      "       5  x      5   SBS        -0.19278         0.01095           None            None          0.00009      7\n",
      "       6  x      6   SBS         0.04734        -0.00591           None            None          0.00009      8\n",
      "       7  x      7   SBS         0.80839         0.03488           None            None          0.00055      9\n",
      "       8  x      8   SBS         0.98806         0.00016           None            None          0.00000     10\n",
      "       9  x      9   SBS        -0.03026         0.00536           None            None          0.00011     11\n",
      "      10  x     10   SBS         0.00890         0.00186           None            None          0.00004     12\n",
      "      11  x     11   SBS        -0.15075         0.00008           None            None          0.00000     13\n",
      "      12  x     12   SBS         0.07560        -0.00002           None            None         -0.00000     14\n",
      "      13  x     13   SBS         0.26704         0.00006           None            None          0.00000     15\n",
      "      14  x     14   SBS         0.80927         0.03686           None            None          0.00073     16\n",
      "      15  x     15   SBS         0.50838        -0.00002           None            None         -0.00000     17\n",
      "      16  x     16   SBS         0.00777        -0.00570           None            None         -0.00015     18\n",
      "      17  x     17   SBS        -0.00458        -0.00191           None            None         -0.00005     19\n",
      "      18  x     18   SBS         0.86108         0.00005           None            None          0.00000     20\n",
      "      19  x     19 A  FR         0.44892          .                None            None         -0.00000     21\n",
      "      20  x     20 A  FR        -0.23294          .                None            None          0.00000     22\n",
      "      21  x     21 N SBS         0.81787         0.05731           None            None          0.00135     23\n",
      "      22  x     22   SBS         0.99993         0.00001           None            None          0.00000     24\n",
      "      23  x     23   SBS        -0.00317         0.00160           None            None         -0.00021     25\n",
      "      24  x     24   SBS        -0.00491         0.00130           None            None          0.00028     26\n",
      "      25  x     25   SBS         0.01017        -0.00000           None            None          0.00000     27\n",
      "      26  x     26 A  FR         0.06070          .                None            None         -0.00000     28\n",
      "      27  x     27 A  FR        -0.44283          .                None            None          0.00000     29\n",
      "      28  x     28 N SBS         0.81766         0.05594           None            None          0.00125     30\n",
      "      29  x     29   SBS         0.18535        -0.00006           None            None         -0.00000     31\n",
      "      30  x     30   SBS        -0.00472        -0.00738           None            None         -0.00015     32\n",
      "      31  x     31   SBS         0.00135         0.01130           None            None          0.00023     33\n",
      "      32  x     32   SBS        -0.98264         0.00004           None            None          0.00000     34\n",
      "      33  x     33   SBS         0.38262         0.00263           None            None          0.00002     35\n",
      "      34  x     34   SBS         0.38804         0.00061           None            None          0.00001     36\n",
      "      35  x     35 N SBS         0.82406        -0.05915           None            None         -0.00122     37\n",
      "      36  x     36   SBS         0.13016         0.00003           None            None          0.00000     38\n",
      "      37  x     37   SBS         0.01244        -0.00176           None            None         -0.00004     39\n",
      "      38  x     38   SBS        -0.00567        -0.00150           None            None         -0.00003     40\n",
      "      39  x     39   SBS         0.99140         0.00001           None            None          0.00000     41\n",
      "      40  x     40   SBS         0.44867         0.00141           None            None          0.00003     42\n",
      "      41  x     41   SBS         0.29558        -0.00088           None            None         -0.00002     43\n",
      "      42  x     42 N SBS         0.92759         0.06043           None            None          0.00104     44\n",
      "      43  x     43   SBS         0.85964         0.00000           None            None         -0.00000     45\n",
      "      44  x     44   SBS         0.01062        -0.00003           None            None         -0.00000     46\n",
      "      45  x     45   SBS        -0.01949         0.00005           None            None          0.00000     47\n",
      "      46  x     46 A  FR         0.51041          .                None            None         -0.00000     48\n",
      "      47  x     47 A  FR        -0.29371          .                None            None          0.00000     49\n",
      "      48  x     48 A  FR        -0.41948          .                None            None          0.00000     50\n",
      "      49  x     49   SBS         0.83775         0.00023           None            None          0.00000     51\n",
      "      50  x     50   SBS         0.98814         0.00000           None            None          0.00000     52\n",
      "      51  x     51 N SBS         0.00004        -0.00842           None            None         -0.01242     53\n",
      "      52  x     52 N SBS        -0.00002        -0.01657           None            None          0.01843     54\n",
      "      53  x     53   SBS        -0.15326        -0.00001           None            None         -0.00001     55\n",
      "      54  x     54   SBS        -0.31974         0.00030           None            None          0.00005     56\n",
      "      55  x     55   SBS         0.29684         0.00030           None            None          0.00013     57\n",
      "      56  x     56 N SBS         0.79893         0.01655           None            None          0.00352     58\n",
      "      57  x     57   SBS         0.82576         0.00000           None            None          0.00000     59\n",
      "      58  x     58 N SBS        -0.00003         0.00361           None            None         -0.00109     60\n",
      "      59  x     59 N SBS         0.00003        -0.00356           None            None          0.00213     61\n",
      "      60  x     60   SBS         0.56402         0.00000           None            None          0.00000     62\n",
      "      61  x     61   SBS         0.25839         0.00003           None            None          0.00000     63\n",
      "      62  x     62   SBS         0.04208        -0.00004           None            None         -0.00000     64\n",
      "      63  x     63   SBS         0.80713         0.03400           None            None          0.00077     65\n",
      "      64  x     64   SBS         0.85832         0.00002           None            None          0.00000     66\n",
      "      65  x     65   SBS         0.00085         0.00066           None            None          0.00084     67\n",
      "      66  x     66   SBS        -0.00042         0.01855           None            None          0.00060     68\n",
      "      67  x     67   SBS        -0.51303         0.00001           None            None          0.00001     69\n",
      "      68  x     68   SBS        -0.36606        -0.00610           None            None         -0.00004     70\n",
      "      69  x     69   SBS         0.20445         0.00943           None            None         -0.00016     71\n",
      "      70  x     70    BS         0.89830         0.15715           None            None          0.00104     72\n",
      "      71  x     71   SBS         0.89899        -0.00012           None            None         -0.00000     73\n",
      "      72  x     72   SBS        -0.00801         0.00427           None            None          0.00012     74\n",
      "      73  x     73   SBS         0.01265        -0.00025           None            None         -0.00001     75\n",
      "      74  x     74   SBS        -0.43771        -0.00033           None            None         -0.00001     76\n",
      "      75  x     75   SBS        -0.42559        -0.00520           None            None         -0.00011     77\n",
      "      76  x     76   SBS        -0.06297        -0.00373           None            None         -0.00008     78\n",
      "      77  x     77 N SBS         0.81951         0.05681           None            None          0.00133     79\n",
      "      78  x     78   SBS         0.91323         0.00012           None            None          0.00000     80\n",
      "      79  x     79   SBS         0.00433         0.00123           None            None          0.00002     81\n",
      "      80  x     80   SBS         0.01485        -0.00140           None            None         -0.00002     82\n",
      "      81  x     81   SBS         0.40716        -0.00023           None            None         -0.00000     83\n",
      "      82  x     82   SBS         0.19183        -0.00403           None            None         -0.00004     84\n",
      "      83  x     83   SBS         0.43656         0.00026           None            None          0.00001     85\n",
      "      84  x     84   SBS         0.80678         0.03466           None            None          0.00052     86\n",
      "      85  x     85   SBS         0.82759         0.00002           None            None          0.00000     87\n",
      "      86  x     86   SBS         0.00555        -0.00034           None            None         -0.00000     88\n",
      "      87  x     87   SBS         0.00752        -0.00175           None            None         -0.00002     89\n",
      "      88  x     88   SBS        -0.56125        -0.00000           None            None         -0.00000     90\n",
      "      89  x     89 A  FR         0.08269          .                None            None         -0.00000     91\n",
      "      90  x     90 A  FR        -0.15709          .                None            None         -0.00000     92\n",
      "      91  x     91   SBS         0.80691         0.03425           None            None          0.00048     93\n",
      "      92  x     92   SBS         0.13771         0.00003           None            None          0.00000     94\n",
      "      93  x     93   SBS         0.01599        -0.00155           None            None         -0.00002     95\n",
      "      94  x     94   SBS        -0.00437        -0.00093           None            None         -0.00001     96\n",
      "      95  x     95   SBS        -0.99033        -0.00002           None            None         -0.00000     97\n",
      "      96  x     96   SBS        -0.00942        -0.00001           None            None         -0.00000     98\n",
      "      97  x     97   SBS         0.11121        -0.00002           None            None         -0.00000     99\n",
      "      98  x     98   SBS         0.80700         0.03475           None            None          0.00053    100\n",
      "      99  x     99   SBS         0.85243         0.00003           None            None          0.00000    101\n",
      "     100  x    100   SBS        -0.01669         0.00145           None            None          0.00002    102\n",
      "     101  x    101   SBS         0.00630        -0.00102           None            None         -0.00001    103\n",
      "     102  x    102   SBS         0.52253         0.00001           None            None          0.00000    104\n",
      "     103  x    103   SBS        -0.12958         0.00005           None            None          0.00000    105\n",
      "     104  x    104   SBS        -0.10978        -0.00010           None            None         -0.00000    106\n",
      "     105  x    105   SBS         0.80741         0.03387           None            None          0.00044    107\n",
      "\n"
     ]
    },
    {
     "name": "stdout",
     "output_type": "stream",
     "text": [
      "At iter 28\n",
      "Initial trace log prob:  tensor(-5814.1651)\n"
     ]
    },
    {
     "name": "stderr",
     "output_type": "stream",
     "text": [
      "\r",
      "Warmup:   0%|          | 0/37 [00:00, ?it/s]"
     ]
    },
    {
     "name": "stdout",
     "output_type": "stream",
     "text": [
      "Connecting to meshcat-server at zmq_url=tcp://127.0.0.1:6001...\n",
      "You can open the visualizer by visiting the following URL:\n",
      "http://127.0.0.1:7001/static/\n",
      "Connected to meshcat-server.\n"
     ]
    },
    {
     "name": "stderr",
     "output_type": "stream",
     "text": [
      "Sample: 100%|██████████| 37/37 [00:55,  1.49s/it, step size=7.43e-04, acc. prob=0.903]\n"
     ]
    },
    {
     "name": "stdout",
     "output_type": "stream",
     "text": [
      "At iter 29\n",
      "Initial trace log prob:  tensor(-10898.3931)\n",
      "Connecting to meshcat-server at zmq_url=tcp://127.0.0.1:6001...\n",
      "You can open the visualizer by visiting the following URL:\n",
      "http://127.0.0.1:7001/static/\n",
      "Connected to meshcat-server.\n"
     ]
    },
    {
     "name": "stderr",
     "output_type": "stream",
     "text": [
      "Sample: 100%|██████████| 37/37 [01:12,  1.95s/it, step size=5.96e-04, acc. prob=0.919]\n"
     ]
    },
    {
     "name": "stdout",
     "output_type": "stream",
     "text": [
      "At iter 30\n"
     ]
    }
   ],
   "source": [
    "# This one saves out the post-fit examples, before and after the physics projection step.\n",
    "fit_grammar.load_state_dict(em.grammar_iters[-1])\n",
    "state_dict_file = \"baseline_post_fit_grammar_state_dict.torch\"\n",
    "print(\"Saving state dict to \", state_dict_file)\n",
    "torch.save(fit_grammar.state_dict(), state_dict_file)\n",
    "# Try to collect a target number of examples, and save them out\n",
    "dataset_save_file = \"baseline_post_fit_grammar_draws.pickle\"\n",
    "N = 30\n",
    "k = 0\n",
    "pbar = tqdm(total=N, desc=\"Samples\")\n",
    "while k < N:\n",
    "    feasible_tree, nonfeasible_tree = sample_realistic_scene(fit_grammar, constraints, skip_physics_constraints=False)\n",
    "    if feasible_tree is not None:\n",
    "        with open(dataset_save_file, \"a+b\") as f:\n",
    "            pickle.dump((feasible_tree, nonfeasible_tree), f)\n",
    "        k = k + 1\n",
    "        pbar.update(k)\n",
    "        print(\"At iter %d\" % k)\n",
    "        draw_scene_tree_contents_meshcat(feasible_tree, zmq_url=vis.window.zmq_url,  prefix=\"test_tree/contents\")\n",
    "        draw_scene_tree_structure_meshcat(feasible_tree, zmq_url=vis.window.zmq_url,  prefix=\"test_tree/structure\")\n",
    "pbar.close()"
   ]
  },
  {
   "cell_type": "code",
   "execution_count": null,
   "metadata": {},
   "outputs": [],
   "source": []
  }
 ],
 "metadata": {
  "kernelspec": {
   "display_name": "py36_pyro",
   "language": "python",
   "name": "py36_pyro"
  },
  "language_info": {
   "codemirror_mode": {
    "name": "ipython",
    "version": 3
   },
   "file_extension": ".py",
   "mimetype": "text/x-python",
   "name": "python",
   "nbconvert_exporter": "python",
   "pygments_lexer": "ipython3",
   "version": "3.6.13"
  }
 },
 "nbformat": 4,
 "nbformat_minor": 4
}
