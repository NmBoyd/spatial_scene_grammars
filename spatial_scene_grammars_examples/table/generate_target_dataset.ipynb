{
 "cells": [
  {
   "cell_type": "code",
   "execution_count": 1,
   "metadata": {},
   "outputs": [],
   "source": [
    "%load_ext autoreload\n",
    "%autoreload 2\n",
    "\n",
    "import matplotlib.pyplot as plt\n",
    "import networkx as nx\n",
    "import numpy as np\n",
    "import os\n",
    "import pickle\n",
    "import time\n",
    "from tqdm.notebook import tqdm\n",
    "\n",
    "import torch\n",
    "torch.set_default_tensor_type(torch.DoubleTensor)\n",
    "\n",
    "from spatial_scene_grammars.constraints import *\n",
    "from spatial_scene_grammars.nodes import *\n",
    "from spatial_scene_grammars.rules import *\n",
    "from spatial_scene_grammars.scene_grammar import *\n",
    "from spatial_scene_grammars.visualization import *\n",
    "from spatial_scene_grammars_examples.table.grammar import *\n",
    "from spatial_scene_grammars.parsing import *\n",
    "from spatial_scene_grammars.sampling import *\n",
    "from spatial_scene_grammars.parameter_estimation import *\n",
    "from spatial_scene_grammars.dataset import *\n",
    "\n",
    "import meshcat\n",
    "import meshcat.geometry as meshcat_geom"
   ]
  },
  {
   "cell_type": "code",
   "execution_count": 2,
   "metadata": {},
   "outputs": [
    {
     "name": "stdout",
     "output_type": "stream",
     "text": [
      "You can open the visualizer by visiting the following URL:\n",
      "http://127.0.0.1:7001/static/\n",
      "Meshcat url:  http://127.0.0.1:7001/static/\n"
     ]
    },
    {
     "data": {
      "text/plain": [
       "'\\nfrom IPython.display import HTML\\nHTML(\"\"\"\\n    <div style=\"height: 400px; width: 100%; overflow-x: auto; overflow-y: hidden; resize: both\">\\n    <iframe src=\"{url}\" style=\"width: 100%; height: 100%; border: none\"></iframe>\\n</div>\\n\"\"\".format(url=meshcat_url))\\n'"
      ]
     },
     "execution_count": 2,
     "metadata": {},
     "output_type": "execute_result"
    }
   ],
   "source": [
    "if 'vis' not in globals():\n",
    "    vis = meshcat.Visualizer()\n",
    "vis.delete()\n",
    "base_url = \"http://127.0.0.1\"\n",
    "meshcat_url = base_url + \":\" + vis.url().split(\":\")[-1]\n",
    "print(\"Meshcat url: \", meshcat_url)\n",
    "'''\n",
    "from IPython.display import HTML\n",
    "HTML(\"\"\"\n",
    "    <div style=\"height: 400px; width: 100%; overflow-x: auto; overflow-y: hidden; resize: both\">\n",
    "    <iframe src=\"{url}\" style=\"width: 100%; height: 100%; border: none\"></iframe>\n",
    "</div>\n",
    "\"\"\".format(url=meshcat_url))\n",
    "'''"
   ]
  },
  {
   "cell_type": "code",
   "execution_count": 3,
   "metadata": {},
   "outputs": [
    {
     "name": "stderr",
     "output_type": "stream",
     "text": [
      "WARNING:root:Detaching BinghamDistribution parameters.\n",
      "WARNING:root:Prior over parameters of WorldFrameBinghamRotationRule are Deltas.\n"
     ]
    }
   ],
   "source": [
    "# Set up grammar and constraint set.\n",
    "grammar = SpatialSceneGrammar(\n",
    "    root_node_type = Table,\n",
    "    root_node_tf = drake_tf_to_torch_tf(RigidTransform(p=[0.0, 0., 0.8]))\n",
    ")\n",
    "constraints = [\n",
    "    ObjectsOnTableConstraint(),\n",
    "    ObjectSpacingConstraint()\n",
    "]\n",
    "\n",
    "def sample_realistic_scene(seed=None):\n",
    "    if seed is not None:\n",
    "        torch.random.manual_seed(seed)\n",
    "    topology_constraints, continuous_constraints = split_constraints(constraints)\n",
    "    if len(topology_constraints) > 0:\n",
    "        tree, success = rejection_sample_under_constraints(grammar, topology_constraints, 1000)\n",
    "        if not success:\n",
    "            logging.error(\"Couldn't rejection sample a feasible tree config.\")\n",
    "            return None\n",
    "    else:\n",
    "        tree = grammar.sample_tree(detach=True)\n",
    "    samples = do_fixed_structure_hmc_with_constraint_penalties(\n",
    "        grammar, tree, num_samples=25, subsample_step=5,\n",
    "        with_nonpenetration=False, zmq_url=vis.window.zmq_url,\n",
    "        constraints=continuous_constraints,\n",
    "        kernel_type=\"NUTS\", max_tree_depth=6, target_accept_prob=0.8, adapt_step_size=True\n",
    "    )\n",
    "    # Step through samples backwards in HMC process and pick out a tree that satisfies\n",
    "    # the constraints.\n",
    "    good_tree = None\n",
    "    for candidate_tree in samples[::-1]:\n",
    "        if eval_total_constraint_set_violation(candidate_tree, constraints) <= 0.:\n",
    "            good_tree = candidate_tree\n",
    "            break\n",
    "    if good_tree == None:\n",
    "        logging.error(\"No tree in samples satisfied constraints.\")\n",
    "        return None\n",
    "    \n",
    "    return project_tree_to_feasibility(good_tree, do_forward_sim=True, timestep=0.001, T=1.)"
   ]
  },
  {
   "cell_type": "code",
   "execution_count": 4,
   "metadata": {},
   "outputs": [
    {
     "name": "stderr",
     "output_type": "stream",
     "text": [
      "[2022-01-17 22:42:30.838] [console] [warning] FindResource ignoring DRAKE_RESOURCE_ROOT='/home/gizatt/drake' because it does not contain a 'drake' subdirectory.\n"
     ]
    },
    {
     "name": "stdout",
     "output_type": "stream",
     "text": [
      "Initial trace log prob:  tensor(-14030.3788)\n"
     ]
    },
    {
     "name": "stderr",
     "output_type": "stream",
     "text": [
      "\r",
      "Warmup:   0%|          | 0/37 [00:00, ?it/s]"
     ]
    },
    {
     "name": "stdout",
     "output_type": "stream",
     "text": [
      "Connecting to meshcat-server at zmq_url=tcp://127.0.0.1:6001...\n",
      "You can open the visualizer by visiting the following URL:\n",
      "http://127.0.0.1:7001/static/\n",
      "Connected to meshcat-server.\n"
     ]
    },
    {
     "name": "stderr",
     "output_type": "stream",
     "text": [
      "WARNING:root:NormalizeWithPseudoInverse LogAbsDet is super sketchy\n",
      "Sample: 100%|██████████| 37/37 [00:52,  1.42s/it, step size=5.32e-04, acc. prob=0.979]\n"
     ]
    }
   ],
   "source": [
    "test_tree = sample_realistic_scene(seed=42)\n",
    "if test_tree is not None:\n",
    "    draw_scene_tree_contents_meshcat(test_tree, zmq_url=vis.window.zmq_url,  prefix=\"test_tree/contents\")\n",
    "    draw_scene_tree_structure_meshcat(test_tree, zmq_url=vis.window.zmq_url,  prefix=\"test_tree/structure\")"
   ]
  },
  {
   "cell_type": "code",
   "execution_count": null,
   "metadata": {},
   "outputs": [
    {
     "name": "stdout",
     "output_type": "stream",
     "text": [
      "Saving state dict to  target_dataset_grammar_state_dict.torch\n"
     ]
    },
    {
     "data": {
      "application/vnd.jupyter.widget-view+json": {
       "model_id": "ca35bad0579a4bec9e9e7db2b391000b",
       "version_major": 2,
       "version_minor": 0
      },
      "text/plain": [
       "Samples:   0%|          | 0/100 [00:00<?, ?it/s]"
      ]
     },
     "metadata": {},
     "output_type": "display_data"
    },
    {
     "name": "stdout",
     "output_type": "stream",
     "text": [
      "Initial trace log prob:  tensor(-10358.7043)\n"
     ]
    },
    {
     "name": "stderr",
     "output_type": "stream",
     "text": [
      "\r",
      "Warmup:   0%|          | 0/37 [00:00, ?it/s]"
     ]
    },
    {
     "name": "stdout",
     "output_type": "stream",
     "text": [
      "Connecting to meshcat-server at zmq_url=tcp://127.0.0.1:6001...\n",
      "You can open the visualizer by visiting the following URL:\n",
      "http://127.0.0.1:7001/static/\n",
      "Connected to meshcat-server.\n"
     ]
    },
    {
     "name": "stderr",
     "output_type": "stream",
     "text": [
      "Sample: 100%|██████████| 37/37 [00:56,  1.52s/it, step size=7.41e-04, acc. prob=0.962]\n"
     ]
    },
    {
     "name": "stdout",
     "output_type": "stream",
     "text": [
      "Initial trace log prob:  tensor(-964.4689)\n",
      "Connecting to meshcat-server at zmq_url=tcp://127.0.0.1:6001...\n",
      "You can open the visualizer by visiting the following URL:\n",
      "http://127.0.0.1:7001/static/\n",
      "Connected to meshcat-server.\n"
     ]
    },
    {
     "name": "stderr",
     "output_type": "stream",
     "text": [
      "Sample: 100%|██████████| 37/37 [01:06,  1.81s/it, step size=1.02e-03, acc. prob=0.944]\n"
     ]
    }
   ],
   "source": [
    "# Save grammar state dict\n",
    "state_dict_file = \"target_dataset_grammar_state_dict.torch\"\n",
    "print(\"Saving state dict to \", state_dict_file)\n",
    "torch.save(grammar.state_dict(), state_dict_file)\n",
    "# Try to collect a target number of examples, and save them out\n",
    "dataset_save_file = \"target_dataset_examples.pickle\"\n",
    "N = 100\n",
    "k = 0\n",
    "pbar = tqdm(total=N, desc=\"Samples\")\n",
    "while k < N:\n",
    "    tree = sample_realistic_scene()\n",
    "    if tree is not None:\n",
    "        with open(dataset_save_file, \"a+b\") as f:\n",
    "            pickle.dump(tree, f)\n",
    "        k += 1\n",
    "        pbar.update(k)"
   ]
  }
 ],
 "metadata": {
  "kernelspec": {
   "display_name": "py36_pyro",
   "language": "python",
   "name": "py36_pyro"
  },
  "language_info": {
   "codemirror_mode": {
    "name": "ipython",
    "version": 3
   },
   "file_extension": ".py",
   "mimetype": "text/x-python",
   "name": "python",
   "nbconvert_exporter": "python",
   "pygments_lexer": "ipython3",
   "version": "3.6.13"
  }
 },
 "nbformat": 4,
 "nbformat_minor": 4
}
