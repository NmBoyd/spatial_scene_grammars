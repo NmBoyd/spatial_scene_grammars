{
 "cells": [
  {
   "cell_type": "code",
   "execution_count": 10,
   "metadata": {},
   "outputs": [
    {
     "name": "stdout",
     "output_type": "stream",
     "text": [
      "The autoreload extension is already loaded. To reload it, use:\n",
      "  %reload_ext autoreload\n"
     ]
    }
   ],
   "source": [
    "%load_ext autoreload\n",
    "%autoreload 2\n",
    "\n",
    "import matplotlib.pyplot as plt\n",
    "import networkx as nx\n",
    "import numpy as np\n",
    "import os\n",
    "import pickle\n",
    "import time\n",
    "from tqdm.notebook import tqdm\n",
    "\n",
    "import torch\n",
    "torch.set_default_tensor_type(torch.DoubleTensor)\n",
    "\n",
    "from spatial_scene_grammars.constraints import *\n",
    "from spatial_scene_grammars.nodes import *\n",
    "from spatial_scene_grammars.rules import *\n",
    "from spatial_scene_grammars.scene_grammar import *\n",
    "from spatial_scene_grammars.visualization import *\n",
    "from spatial_scene_grammars_examples.table.grammar import *\n",
    "from spatial_scene_grammars.parsing import *\n",
    "from spatial_scene_grammars.sampling import *\n",
    "from spatial_scene_grammars.parameter_estimation import *\n",
    "from spatial_scene_grammars.dataset import *\n",
    "\n",
    "import meshcat\n",
    "import meshcat.geometry as meshcat_geom"
   ]
  },
  {
   "cell_type": "code",
   "execution_count": 11,
   "metadata": {},
   "outputs": [
    {
     "name": "stdout",
     "output_type": "stream",
     "text": [
      "Meshcat url:  http://127.0.0.1:7007/static/\n"
     ]
    },
    {
     "data": {
      "text/plain": [
       "'\\nfrom IPython.display import HTML\\nHTML(\"\"\"\\n    <div style=\"height: 400px; width: 100%; overflow-x: auto; overflow-y: hidden; resize: both\">\\n    <iframe src=\"{url}\" style=\"width: 100%; height: 100%; border: none\"></iframe>\\n</div>\\n\"\"\".format(url=meshcat_url))\\n'"
      ]
     },
     "execution_count": 11,
     "metadata": {},
     "output_type": "execute_result"
    }
   ],
   "source": [
    "if 'vis' not in globals():\n",
    "    vis = meshcat.Visualizer()\n",
    "vis.delete()\n",
    "base_url = \"http://127.0.0.1\"\n",
    "meshcat_url = base_url + \":\" + vis.url().split(\":\")[-1]\n",
    "print(\"Meshcat url: \", meshcat_url)\n",
    "'''\n",
    "from IPython.display import HTML\n",
    "HTML(\"\"\"\n",
    "    <div style=\"height: 400px; width: 100%; overflow-x: auto; overflow-y: hidden; resize: both\">\n",
    "    <iframe src=\"{url}\" style=\"width: 100%; height: 100%; border: none\"></iframe>\n",
    "</div>\n",
    "\"\"\".format(url=meshcat_url))\n",
    "'''"
   ]
  },
  {
   "cell_type": "code",
   "execution_count": 12,
   "metadata": {},
   "outputs": [],
   "source": [
    "# Set up grammar and constraint set.\n",
    "grammar = SpatialSceneGrammar(\n",
    "    root_node_type = Table,\n",
    "    root_node_tf = drake_tf_to_torch_tf(RigidTransform(p=[0.0, 0., 0.8]))\n",
    ")\n",
    "constraints = [\n",
    "    ObjectsOnTableConstraint(),\n",
    "    ObjectSpacingConstraint()\n",
    "]\n",
    "\n",
    "def sample_realistic_scene(grammar, constraints, seed=None, skip_physics_constraints=False):\n",
    "    if seed is not None:\n",
    "        torch.random.manual_seed(seed)\n",
    "    topology_constraints, continuous_constraints = split_constraints(constraints)\n",
    "    if len(topology_constraints) > 0:\n",
    "        tree, success = rejection_sample_under_constraints(grammar, topology_constraints, 1000)\n",
    "        if not success:\n",
    "            logging.error(\"Couldn't rejection sample a feasible tree config.\")\n",
    "            return None, None\n",
    "    else:\n",
    "        tree = grammar.sample_tree(detach=True)\n",
    "\n",
    "    samples = do_fixed_structure_hmc_with_constraint_penalties(\n",
    "        grammar, tree, num_samples=25, subsample_step=1,\n",
    "        with_nonpenetration=False, zmq_url=vis.window.zmq_url,\n",
    "        constraints=continuous_constraints,\n",
    "        kernel_type=\"NUTS\", max_tree_depth=6, target_accept_prob=0.8, adapt_step_size=True,\n",
    "        structure_vis_kwargs={\"with_triad\": False, \"linewidth\": 30, \"node_sphere_size\": 0.02,\n",
    "                             \"alpha\": 0.5}\n",
    "    )\n",
    "\n",
    "    # Step through samples backwards in HMC process and pick out a tree that satisfies\n",
    "    # the constraints.\n",
    "    good_tree = None\n",
    "    best_bad_tree = None\n",
    "    best_violation = None\n",
    "    for candidate_tree in samples[::-1]:\n",
    "        total_violation = eval_total_constraint_set_violation(candidate_tree, constraints)\n",
    "        if total_violation <= 0.:\n",
    "            good_tree = candidate_tree\n",
    "            break\n",
    "        else:\n",
    "            if best_bad_tree is None or total_violation <= best_violation:\n",
    "                best_bad_tree = candidate_tree\n",
    "                best_violation = total_violation.detach()\n",
    "            \n",
    "    if good_tree == None:\n",
    "        logging.error(\"No tree in samples satisfied constraints.\")\n",
    "        print(\"Best total violation: %f\" % best_violation)\n",
    "        print(\"Violations of best bad tree:\")\n",
    "        for constraint in constraints:\n",
    "            print(\"constraint \", constraint, \": \", constraint.eval(best_bad_tree))\n",
    "        return None, None\n",
    "\n",
    "    if skip_physics_constraints:\n",
    "        return None, good_tree\n",
    "\n",
    "    feasible_tree = project_tree_to_feasibility(deepcopy(good_tree), do_forward_sim=True, timestep=0.001, T=1.)\n",
    "    return feasible_tree, good_tree"
   ]
  },
  {
   "cell_type": "code",
   "execution_count": 13,
   "metadata": {},
   "outputs": [
    {
     "name": "stdout",
     "output_type": "stream",
     "text": [
      "Initial trace log prob:  tensor(-12133.8933)\n"
     ]
    },
    {
     "name": "stderr",
     "output_type": "stream",
     "text": [
      "\r",
      "Warmup:   0%|          | 0/37 [00:00, ?it/s]"
     ]
    },
    {
     "name": "stdout",
     "output_type": "stream",
     "text": [
      "Connecting to meshcat-server at zmq_url=tcp://127.0.0.1:6007...\n",
      "You can open the visualizer by visiting the following URL:\n",
      "http://127.0.0.1:7007/static/\n",
      "Connected to meshcat-server.\n"
     ]
    },
    {
     "name": "stderr",
     "output_type": "stream",
     "text": [
      "Sample: 100%|██████████| 37/37 [01:07,  1.81s/it, step size=1.15e-03, acc. prob=0.889]\n"
     ]
    }
   ],
   "source": [
    "test_tree, _ = sample_realistic_scene(grammar, constraints, seed=42)\n",
    "if test_tree is not None:\n",
    "    draw_scene_tree_contents_meshcat(test_tree, zmq_url=vis.window.zmq_url,  prefix=\"test_tree/contents\")\n",
    "    draw_scene_tree_structure_meshcat(test_tree, zmq_url=vis.window.zmq_url,  prefix=\"test_tree/structure\")\n",
    "# Save that scene out for use in another notebook\n",
    "with open(\"example_feasible_sampled_scene.pickle\", \"wb\") as f:\n",
    "    pickle.dump(test_tree, f)"
   ]
  },
  {
   "cell_type": "code",
   "execution_count": 6,
   "metadata": {},
   "outputs": [
    {
     "name": "stdout",
     "output_type": "stream",
     "text": [
      "Saving state dict to  target_dataset_grammar_state_dict.torch\n"
     ]
    },
    {
     "data": {
      "application/vnd.jupyter.widget-view+json": {
       "model_id": "bfabc1136c874993b6d2dcfb6a086f30",
       "version_major": 2,
       "version_minor": 0
      },
      "text/plain": [
       "Samples:   0%|          | 0/100 [00:00<?, ?it/s]"
      ]
     },
     "metadata": {},
     "output_type": "display_data"
    },
    {
     "name": "stdout",
     "output_type": "stream",
     "text": [
      "Initial trace log prob:  tensor(-7857.3031)\n"
     ]
    },
    {
     "name": "stderr",
     "output_type": "stream",
     "text": [
      "\r",
      "Warmup:   0%|          | 0/37 [00:00, ?it/s]"
     ]
    },
    {
     "name": "stdout",
     "output_type": "stream",
     "text": [
      "Connecting to meshcat-server at zmq_url=tcp://127.0.0.1:6007...\n",
      "You can open the visualizer by visiting the following URL:\n",
      "http://127.0.0.1:7007/static/\n",
      "Connected to meshcat-server.\n"
     ]
    },
    {
     "name": "stderr",
     "output_type": "stream",
     "text": [
      "Sample: 100%|██████████| 37/37 [01:02,  1.69s/it, step size=1.09e-03, acc. prob=0.885]\n"
     ]
    },
    {
     "name": "stdout",
     "output_type": "stream",
     "text": [
      "Initial trace log prob:  tensor(-33041.9190)\n"
     ]
    },
    {
     "name": "stderr",
     "output_type": "stream",
     "text": [
      "\r",
      "Warmup:   0%|          | 0/37 [00:00, ?it/s]"
     ]
    },
    {
     "name": "stdout",
     "output_type": "stream",
     "text": [
      "Connecting to meshcat-server at zmq_url=tcp://127.0.0.1:6007...\n",
      "You can open the visualizer by visiting the following URL:\n",
      "http://127.0.0.1:7007/static/\n",
      "Connected to meshcat-server.\n"
     ]
    },
    {
     "name": "stderr",
     "output_type": "stream",
     "text": [
      "Sample: 100%|██████████| 37/37 [01:10,  1.90s/it, step size=5.91e-04, acc. prob=0.963]\n"
     ]
    },
    {
     "name": "stdout",
     "output_type": "stream",
     "text": [
      "Initial trace log prob:  tensor(-5619.8280)\n",
      "Connecting to meshcat-server at zmq_url=tcp://127.0.0.1:6007...\n",
      "You can open the visualizer by visiting the following URL:\n",
      "http://127.0.0.1:7007/static/\n",
      "Connected to meshcat-server.\n"
     ]
    },
    {
     "name": "stderr",
     "output_type": "stream",
     "text": [
      "Sample: 100%|██████████| 37/37 [01:04,  1.75s/it, step size=1.24e-03, acc. prob=0.843]\n"
     ]
    },
    {
     "name": "stdout",
     "output_type": "stream",
     "text": [
      "Initial trace log prob:  tensor(-955.8708)\n"
     ]
    },
    {
     "name": "stderr",
     "output_type": "stream",
     "text": [
      "\r",
      "Warmup:   0%|          | 0/37 [00:00, ?it/s]"
     ]
    },
    {
     "name": "stdout",
     "output_type": "stream",
     "text": [
      "Connecting to meshcat-server at zmq_url=tcp://127.0.0.1:6007...\n",
      "You can open the visualizer by visiting the following URL:\n",
      "http://127.0.0.1:7007/static/\n",
      "Connected to meshcat-server.\n"
     ]
    },
    {
     "name": "stderr",
     "output_type": "stream",
     "text": [
      "Sample: 100%|██████████| 37/37 [00:54,  1.47s/it, step size=1.22e-03, acc. prob=0.860]\n"
     ]
    },
    {
     "name": "stdout",
     "output_type": "stream",
     "text": [
      "Initial trace log prob:  tensor(-1157.1942)\n"
     ]
    },
    {
     "name": "stderr",
     "output_type": "stream",
     "text": [
      "\r",
      "Warmup:   0%|          | 0/37 [00:00, ?it/s]"
     ]
    },
    {
     "name": "stdout",
     "output_type": "stream",
     "text": [
      "Connecting to meshcat-server at zmq_url=tcp://127.0.0.1:6007...\n",
      "You can open the visualizer by visiting the following URL:\n",
      "http://127.0.0.1:7007/static/\n",
      "Connected to meshcat-server.\n"
     ]
    },
    {
     "name": "stderr",
     "output_type": "stream",
     "text": [
      "Sample: 100%|██████████| 37/37 [01:04,  1.75s/it, step size=1.07e-03, acc. prob=0.895]\n"
     ]
    },
    {
     "name": "stdout",
     "output_type": "stream",
     "text": [
      "Initial trace log prob:  tensor(-3108.3599)\n",
      "Connecting to meshcat-server at zmq_url=tcp://127.0.0.1:6007...\n",
      "You can open the visualizer by visiting the following URL:\n",
      "http://127.0.0.1:7007/static/\n",
      "Connected to meshcat-server.\n"
     ]
    },
    {
     "name": "stderr",
     "output_type": "stream",
     "text": [
      "Sample: 100%|██████████| 37/37 [01:31,  2.46s/it, step size=8.49e-04, acc. prob=0.932]\n"
     ]
    },
    {
     "name": "stdout",
     "output_type": "stream",
     "text": [
      "Initial trace log prob:  tensor(-4074.4713)\n",
      "Connecting to meshcat-server at zmq_url=tcp://127.0.0.1:6007...\n",
      "You can open the visualizer by visiting the following URL:\n",
      "http://127.0.0.1:7007/static/\n",
      "Connected to meshcat-server.\n"
     ]
    },
    {
     "name": "stderr",
     "output_type": "stream",
     "text": [
      "Sample: 100%|██████████| 37/37 [01:16,  2.06s/it, step size=7.48e-04, acc. prob=0.973]\n"
     ]
    },
    {
     "name": "stdout",
     "output_type": "stream",
     "text": [
      "Initial trace log prob:  tensor(-3328.1028)\n"
     ]
    },
    {
     "name": "stderr",
     "output_type": "stream",
     "text": [
      "\r",
      "Warmup:   0%|          | 0/37 [00:00, ?it/s]"
     ]
    },
    {
     "name": "stdout",
     "output_type": "stream",
     "text": [
      "Connecting to meshcat-server at zmq_url=tcp://127.0.0.1:6007...\n",
      "You can open the visualizer by visiting the following URL:\n",
      "http://127.0.0.1:7007/static/\n",
      "Connected to meshcat-server.\n"
     ]
    },
    {
     "name": "stderr",
     "output_type": "stream",
     "text": [
      "Sample: 100%|██████████| 37/37 [00:41,  1.12s/it, step size=1.06e-03, acc. prob=0.968]\n"
     ]
    },
    {
     "name": "stdout",
     "output_type": "stream",
     "text": [
      "Initial trace log prob:  tensor(-7417.9771)\n"
     ]
    },
    {
     "name": "stderr",
     "output_type": "stream",
     "text": [
      "\r",
      "Warmup:   0%|          | 0/37 [00:00, ?it/s]"
     ]
    },
    {
     "name": "stdout",
     "output_type": "stream",
     "text": [
      "Connecting to meshcat-server at zmq_url=tcp://127.0.0.1:6007...\n",
      "You can open the visualizer by visiting the following URL:\n",
      "http://127.0.0.1:7007/static/\n",
      "Connected to meshcat-server.\n"
     ]
    },
    {
     "name": "stderr",
     "output_type": "stream",
     "text": [
      "Sample: 100%|██████████| 37/37 [00:52,  1.41s/it, step size=1.16e-03, acc. prob=0.926]\n"
     ]
    },
    {
     "name": "stdout",
     "output_type": "stream",
     "text": [
      "Initial trace log prob:  tensor(-15758.8769)\n",
      "Connecting to meshcat-server at zmq_url=tcp://127.0.0.1:6007...\n",
      "You can open the visualizer by visiting the following URL:\n",
      "http://127.0.0.1:7007/static/\n",
      "Connected to meshcat-server.\n"
     ]
    },
    {
     "name": "stderr",
     "output_type": "stream",
     "text": [
      "Sample: 100%|██████████| 37/37 [01:09,  1.87s/it, step size=1.16e-03, acc. prob=0.909]\n"
     ]
    },
    {
     "name": "stdout",
     "output_type": "stream",
     "text": [
      "Initial trace log prob:  tensor(-6778.0730)\n"
     ]
    },
    {
     "name": "stderr",
     "output_type": "stream",
     "text": [
      "\r",
      "Warmup:   0%|          | 0/37 [00:00, ?it/s]"
     ]
    },
    {
     "name": "stdout",
     "output_type": "stream",
     "text": [
      "Connecting to meshcat-server at zmq_url=tcp://127.0.0.1:6007...\n",
      "You can open the visualizer by visiting the following URL:\n",
      "http://127.0.0.1:7007/static/\n",
      "Connected to meshcat-server.\n"
     ]
    },
    {
     "name": "stderr",
     "output_type": "stream",
     "text": [
      "Sample: 100%|██████████| 37/37 [01:02,  1.68s/it, step size=1.07e-03, acc. prob=0.901]\n"
     ]
    },
    {
     "name": "stdout",
     "output_type": "stream",
     "text": [
      "Initial trace log prob:  tensor(-464.9247)\n",
      "Connecting to meshcat-server at zmq_url=tcp://127.0.0.1:6007...\n",
      "You can open the visualizer by visiting the following URL:\n",
      "http://127.0.0.1:7007/static/\n",
      "Connected to meshcat-server.\n"
     ]
    },
    {
     "name": "stderr",
     "output_type": "stream",
     "text": [
      "Sample: 100%|██████████| 37/37 [01:05,  1.77s/it, step size=9.52e-04, acc. prob=0.934]\n"
     ]
    },
    {
     "name": "stdout",
     "output_type": "stream",
     "text": [
      "Initial trace log prob:  tensor(-18205.0785)\n"
     ]
    },
    {
     "name": "stderr",
     "output_type": "stream",
     "text": [
      "\r",
      "Warmup:   0%|          | 0/37 [00:00, ?it/s]"
     ]
    },
    {
     "name": "stdout",
     "output_type": "stream",
     "text": [
      "Connecting to meshcat-server at zmq_url=tcp://127.0.0.1:6007...\n",
      "You can open the visualizer by visiting the following URL:\n",
      "http://127.0.0.1:7007/static/\n",
      "Connected to meshcat-server.\n"
     ]
    },
    {
     "name": "stderr",
     "output_type": "stream",
     "text": [
      "Sample: 100%|██████████| 37/37 [01:04,  1.75s/it, step size=3.75e-04, acc. prob=0.994]\n"
     ]
    },
    {
     "name": "stdout",
     "output_type": "stream",
     "text": [
      "Initial trace log prob:  tensor(-17667.0190)\n",
      "Connecting to meshcat-server at zmq_url=tcp://127.0.0.1:6007...\n",
      "You can open the visualizer by visiting the following URL:\n",
      "http://127.0.0.1:7007/static/\n",
      "Connected to meshcat-server.\n"
     ]
    },
    {
     "name": "stderr",
     "output_type": "stream",
     "text": [
      "Sample: 100%|██████████| 37/37 [01:15,  2.04s/it, step size=1.03e-03, acc. prob=0.933]\n"
     ]
    },
    {
     "name": "stdout",
     "output_type": "stream",
     "text": [
      "Initial trace log prob:  tensor(-3923.0514)\n"
     ]
    },
    {
     "name": "stderr",
     "output_type": "stream",
     "text": [
      "\r",
      "Warmup:   0%|          | 0/37 [00:00, ?it/s]"
     ]
    },
    {
     "name": "stdout",
     "output_type": "stream",
     "text": [
      "Connecting to meshcat-server at zmq_url=tcp://127.0.0.1:6007...\n",
      "You can open the visualizer by visiting the following URL:\n",
      "http://127.0.0.1:7007/static/\n",
      "Connected to meshcat-server.\n"
     ]
    },
    {
     "name": "stderr",
     "output_type": "stream",
     "text": [
      "Sample: 100%|██████████| 37/37 [00:58,  1.57s/it, step size=1.33e-03, acc. prob=0.856]\n"
     ]
    },
    {
     "name": "stdout",
     "output_type": "stream",
     "text": [
      "Initial trace log prob:  tensor(-6229.7887)\n"
     ]
    },
    {
     "name": "stderr",
     "output_type": "stream",
     "text": [
      "\r",
      "Warmup:   0%|          | 0/37 [00:00, ?it/s]"
     ]
    },
    {
     "name": "stdout",
     "output_type": "stream",
     "text": [
      "Connecting to meshcat-server at zmq_url=tcp://127.0.0.1:6007...\n",
      "You can open the visualizer by visiting the following URL:\n",
      "http://127.0.0.1:7007/static/\n",
      "Connected to meshcat-server.\n"
     ]
    },
    {
     "name": "stderr",
     "output_type": "stream",
     "text": [
      "Sample: 100%|██████████| 37/37 [01:09,  1.87s/it, step size=9.74e-04, acc. prob=0.917]\n"
     ]
    },
    {
     "name": "stdout",
     "output_type": "stream",
     "text": [
      "Initial trace log prob:  tensor(-14733.5831)\n",
      "Connecting to meshcat-server at zmq_url=tcp://127.0.0.1:6007...\n",
      "You can open the visualizer by visiting the following URL:\n",
      "http://127.0.0.1:7007/static/\n",
      "Connected to meshcat-server.\n"
     ]
    },
    {
     "name": "stderr",
     "output_type": "stream",
     "text": [
      "Sample: 100%|██████████| 37/37 [01:12,  1.96s/it, step size=7.78e-04, acc. prob=0.977]\n"
     ]
    },
    {
     "name": "stdout",
     "output_type": "stream",
     "text": [
      "Initial trace log prob:  tensor(-3617.2150)\n",
      "Connecting to meshcat-server at zmq_url=tcp://127.0.0.1:6007...\n",
      "You can open the visualizer by visiting the following URL:\n",
      "http://127.0.0.1:7007/static/\n",
      "Connected to meshcat-server.\n"
     ]
    },
    {
     "name": "stderr",
     "output_type": "stream",
     "text": [
      "Sample: 100%|██████████| 37/37 [01:07,  1.83s/it, step size=1.25e-03, acc. prob=0.890]\n"
     ]
    },
    {
     "name": "stdout",
     "output_type": "stream",
     "text": [
      "Initial trace log prob:  tensor(-2730.5089)\n"
     ]
    },
    {
     "name": "stderr",
     "output_type": "stream",
     "text": [
      "\r",
      "Warmup:   0%|          | 0/37 [00:00, ?it/s]"
     ]
    },
    {
     "name": "stdout",
     "output_type": "stream",
     "text": [
      "Connecting to meshcat-server at zmq_url=tcp://127.0.0.1:6007...\n",
      "You can open the visualizer by visiting the following URL:\n",
      "http://127.0.0.1:7007/static/\n",
      "Connected to meshcat-server.\n"
     ]
    },
    {
     "name": "stderr",
     "output_type": "stream",
     "text": [
      "Sample: 100%|██████████| 37/37 [00:47,  1.29s/it, step size=1.29e-03, acc. prob=0.850]\n"
     ]
    },
    {
     "name": "stdout",
     "output_type": "stream",
     "text": [
      "Initial trace log prob:  tensor(-9018.4491)\n"
     ]
    },
    {
     "name": "stderr",
     "output_type": "stream",
     "text": [
      "\r",
      "Warmup:   0%|          | 0/37 [00:00, ?it/s]"
     ]
    },
    {
     "name": "stdout",
     "output_type": "stream",
     "text": [
      "Connecting to meshcat-server at zmq_url=tcp://127.0.0.1:6007...\n",
      "You can open the visualizer by visiting the following URL:\n",
      "http://127.0.0.1:7007/static/\n",
      "Connected to meshcat-server.\n"
     ]
    },
    {
     "name": "stderr",
     "output_type": "stream",
     "text": [
      "Sample: 100%|██████████| 37/37 [00:50,  1.37s/it, step size=1.06e-03, acc. prob=0.882]\n"
     ]
    },
    {
     "name": "stdout",
     "output_type": "stream",
     "text": [
      "Initial trace log prob:  tensor(-2599.7234)\n"
     ]
    },
    {
     "name": "stderr",
     "output_type": "stream",
     "text": [
      "\r",
      "Warmup:   0%|          | 0/37 [00:00, ?it/s]"
     ]
    },
    {
     "name": "stdout",
     "output_type": "stream",
     "text": [
      "Connecting to meshcat-server at zmq_url=tcp://127.0.0.1:6007...\n",
      "You can open the visualizer by visiting the following URL:\n",
      "http://127.0.0.1:7007/static/\n",
      "Connected to meshcat-server.\n"
     ]
    },
    {
     "name": "stderr",
     "output_type": "stream",
     "text": [
      "Sample: 100%|██████████| 37/37 [00:50,  1.37s/it, step size=1.38e-03, acc. prob=0.902]\n"
     ]
    },
    {
     "name": "stdout",
     "output_type": "stream",
     "text": [
      "Initial trace log prob:  tensor(-1029.0429)\n"
     ]
    },
    {
     "name": "stderr",
     "output_type": "stream",
     "text": [
      "\r",
      "Warmup:   0%|          | 0/37 [00:00, ?it/s]"
     ]
    },
    {
     "name": "stdout",
     "output_type": "stream",
     "text": [
      "Connecting to meshcat-server at zmq_url=tcp://127.0.0.1:6007...\n",
      "You can open the visualizer by visiting the following URL:\n",
      "http://127.0.0.1:7007/static/\n",
      "Connected to meshcat-server.\n"
     ]
    },
    {
     "name": "stderr",
     "output_type": "stream",
     "text": [
      "Sample: 100%|██████████| 37/37 [00:53,  1.44s/it, step size=1.04e-03, acc. prob=0.971]\n"
     ]
    },
    {
     "name": "stdout",
     "output_type": "stream",
     "text": [
      "Initial trace log prob:  tensor(-16611.5101)\n",
      "Connecting to meshcat-server at zmq_url=tcp://127.0.0.1:6007...\n",
      "You can open the visualizer by visiting the following URL:\n",
      "http://127.0.0.1:7007/static/\n",
      "Connected to meshcat-server.\n"
     ]
    },
    {
     "name": "stderr",
     "output_type": "stream",
     "text": [
      "Sample: 100%|██████████| 37/37 [01:17,  2.10s/it, step size=1.43e-03, acc. prob=0.765]\n"
     ]
    },
    {
     "name": "stdout",
     "output_type": "stream",
     "text": [
      "Initial trace log prob:  tensor(-1666.0644)\n"
     ]
    },
    {
     "name": "stderr",
     "output_type": "stream",
     "text": [
      "\r",
      "Warmup:   0%|          | 0/37 [00:00, ?it/s]"
     ]
    },
    {
     "name": "stdout",
     "output_type": "stream",
     "text": [
      "Connecting to meshcat-server at zmq_url=tcp://127.0.0.1:6007...\n",
      "You can open the visualizer by visiting the following URL:\n",
      "http://127.0.0.1:7007/static/\n",
      "Connected to meshcat-server.\n"
     ]
    },
    {
     "name": "stderr",
     "output_type": "stream",
     "text": [
      "Sample: 100%|██████████| 37/37 [00:48,  1.31s/it, step size=9.54e-04, acc. prob=0.945]\n"
     ]
    },
    {
     "name": "stdout",
     "output_type": "stream",
     "text": [
      "Initial trace log prob:  tensor(-1307.5253)\n",
      "Connecting to meshcat-server at zmq_url=tcp://127.0.0.1:6007...\n",
      "You can open the visualizer by visiting the following URL:\n",
      "http://127.0.0.1:7007/static/\n",
      "Connected to meshcat-server.\n"
     ]
    },
    {
     "name": "stderr",
     "output_type": "stream",
     "text": [
      "Sample: 100%|██████████| 37/37 [01:27,  2.36s/it, step size=1.00e-03, acc. prob=0.944]\n"
     ]
    },
    {
     "name": "stdout",
     "output_type": "stream",
     "text": [
      "Initial trace log prob:  tensor(-10599.6008)\n",
      "Connecting to meshcat-server at zmq_url=tcp://127.0.0.1:6007...\n",
      "You can open the visualizer by visiting the following URL:\n",
      "http://127.0.0.1:7007/static/\n",
      "Connected to meshcat-server.\n"
     ]
    },
    {
     "name": "stderr",
     "output_type": "stream",
     "text": [
      "Sample: 100%|██████████| 37/37 [01:13,  1.99s/it, step size=7.84e-04, acc. prob=0.980]\n"
     ]
    },
    {
     "name": "stdout",
     "output_type": "stream",
     "text": [
      "Initial trace log prob:  tensor(-1943.9966)\n"
     ]
    },
    {
     "name": "stderr",
     "output_type": "stream",
     "text": [
      "\r",
      "Warmup:   0%|          | 0/37 [00:00, ?it/s]"
     ]
    },
    {
     "name": "stdout",
     "output_type": "stream",
     "text": [
      "Connecting to meshcat-server at zmq_url=tcp://127.0.0.1:6007...\n",
      "You can open the visualizer by visiting the following URL:\n",
      "http://127.0.0.1:7007/static/\n",
      "Connected to meshcat-server.\n"
     ]
    },
    {
     "name": "stderr",
     "output_type": "stream",
     "text": [
      "Sample: 100%|██████████| 37/37 [00:49,  1.33s/it, step size=8.76e-04, acc. prob=0.949]\n"
     ]
    },
    {
     "name": "stdout",
     "output_type": "stream",
     "text": [
      "Initial trace log prob:  tensor(-10958.2517)\n"
     ]
    },
    {
     "name": "stderr",
     "output_type": "stream",
     "text": [
      "\r",
      "Warmup:   0%|          | 0/37 [00:00, ?it/s]"
     ]
    },
    {
     "name": "stdout",
     "output_type": "stream",
     "text": [
      "Connecting to meshcat-server at zmq_url=tcp://127.0.0.1:6007...\n",
      "You can open the visualizer by visiting the following URL:\n",
      "http://127.0.0.1:7007/static/\n",
      "Connected to meshcat-server.\n"
     ]
    },
    {
     "name": "stderr",
     "output_type": "stream",
     "text": [
      "Sample: 100%|██████████| 37/37 [01:11,  1.94s/it, step size=1.16e-03, acc. prob=0.800]\n"
     ]
    },
    {
     "name": "stdout",
     "output_type": "stream",
     "text": [
      "Initial trace log prob:  tensor(-3229.1017)\n",
      "Connecting to meshcat-server at zmq_url=tcp://127.0.0.1:6007...\n",
      "You can open the visualizer by visiting the following URL:\n",
      "http://127.0.0.1:7007/static/\n",
      "Connected to meshcat-server.\n"
     ]
    },
    {
     "name": "stderr",
     "output_type": "stream",
     "text": [
      "Sample: 100%|██████████| 37/37 [01:23,  2.25s/it, step size=1.02e-03, acc. prob=0.953]\n"
     ]
    },
    {
     "name": "stdout",
     "output_type": "stream",
     "text": [
      "Initial trace log prob:  tensor(-17278.2562)\n",
      "Connecting to meshcat-server at zmq_url=tcp://127.0.0.1:6007...\n",
      "You can open the visualizer by visiting the following URL:\n",
      "http://127.0.0.1:7007/static/\n",
      "Connected to meshcat-server.\n"
     ]
    },
    {
     "name": "stderr",
     "output_type": "stream",
     "text": [
      "Sample: 100%|██████████| 37/37 [01:05,  1.76s/it, step size=1.08e-03, acc. prob=0.861]\n"
     ]
    },
    {
     "name": "stdout",
     "output_type": "stream",
     "text": [
      "Initial trace log prob:  tensor(-37726.4845)\n"
     ]
    },
    {
     "name": "stderr",
     "output_type": "stream",
     "text": [
      "\r",
      "Warmup:   0%|          | 0/37 [00:00, ?it/s]"
     ]
    },
    {
     "name": "stdout",
     "output_type": "stream",
     "text": [
      "Connecting to meshcat-server at zmq_url=tcp://127.0.0.1:6007...\n",
      "You can open the visualizer by visiting the following URL:\n",
      "http://127.0.0.1:7007/static/\n",
      "Connected to meshcat-server.\n"
     ]
    },
    {
     "name": "stderr",
     "output_type": "stream",
     "text": [
      "Sample: 100%|██████████| 37/37 [01:12,  1.96s/it, step size=1.01e-03, acc. prob=0.917]\n"
     ]
    },
    {
     "name": "stdout",
     "output_type": "stream",
     "text": [
      "Initial trace log prob:  tensor(-2272.0347)\n"
     ]
    },
    {
     "name": "stderr",
     "output_type": "stream",
     "text": [
      "\r",
      "Warmup:   0%|          | 0/37 [00:00, ?it/s]"
     ]
    },
    {
     "name": "stdout",
     "output_type": "stream",
     "text": [
      "Connecting to meshcat-server at zmq_url=tcp://127.0.0.1:6007...\n",
      "You can open the visualizer by visiting the following URL:\n",
      "http://127.0.0.1:7007/static/\n",
      "Connected to meshcat-server.\n"
     ]
    },
    {
     "name": "stderr",
     "output_type": "stream",
     "text": [
      "Sample: 100%|██████████| 37/37 [01:00,  1.64s/it, step size=1.01e-03, acc. prob=0.937]\n"
     ]
    },
    {
     "name": "stdout",
     "output_type": "stream",
     "text": [
      "Initial trace log prob:  tensor(-12253.0320)\n",
      "Connecting to meshcat-server at zmq_url=tcp://127.0.0.1:6007...\n",
      "You can open the visualizer by visiting the following URL:\n",
      "http://127.0.0.1:7007/static/\n",
      "Connected to meshcat-server.\n"
     ]
    },
    {
     "name": "stderr",
     "output_type": "stream",
     "text": [
      "Sample: 100%|██████████| 37/37 [01:03,  1.71s/it, step size=1.09e-03, acc. prob=0.935]\n"
     ]
    },
    {
     "name": "stdout",
     "output_type": "stream",
     "text": [
      "Initial trace log prob:  tensor(-21739.5433)\n",
      "Connecting to meshcat-server at zmq_url=tcp://127.0.0.1:6007...\n",
      "You can open the visualizer by visiting the following URL:\n",
      "http://127.0.0.1:7007/static/\n",
      "Connected to meshcat-server.\n"
     ]
    },
    {
     "name": "stderr",
     "output_type": "stream",
     "text": [
      "Sample: 100%|██████████| 37/37 [01:20,  2.16s/it, step size=9.26e-04, acc. prob=0.924]\n"
     ]
    },
    {
     "name": "stdout",
     "output_type": "stream",
     "text": [
      "Initial trace log prob:  tensor(-2973.1407)\n",
      "Connecting to meshcat-server at zmq_url=tcp://127.0.0.1:6007...\n",
      "You can open the visualizer by visiting the following URL:\n",
      "http://127.0.0.1:7007/static/\n",
      "Connected to meshcat-server.\n"
     ]
    },
    {
     "name": "stderr",
     "output_type": "stream",
     "text": [
      "Sample: 100%|██████████| 37/37 [01:11,  1.93s/it, step size=1.12e-03, acc. prob=0.839]\n"
     ]
    },
    {
     "name": "stdout",
     "output_type": "stream",
     "text": [
      "Initial trace log prob:  tensor(-23347.4197)\n"
     ]
    },
    {
     "name": "stderr",
     "output_type": "stream",
     "text": [
      "\r",
      "Warmup:   0%|          | 0/37 [00:00, ?it/s]"
     ]
    },
    {
     "name": "stdout",
     "output_type": "stream",
     "text": [
      "Connecting to meshcat-server at zmq_url=tcp://127.0.0.1:6007...\n",
      "You can open the visualizer by visiting the following URL:\n",
      "http://127.0.0.1:7007/static/\n",
      "Connected to meshcat-server.\n"
     ]
    },
    {
     "name": "stderr",
     "output_type": "stream",
     "text": [
      "Sample: 100%|██████████| 37/37 [01:07,  1.82s/it, step size=5.60e-04, acc. prob=0.971]\n"
     ]
    },
    {
     "name": "stdout",
     "output_type": "stream",
     "text": [
      "Initial trace log prob:  tensor(-15767.4530)\n"
     ]
    },
    {
     "name": "stderr",
     "output_type": "stream",
     "text": [
      "\r",
      "Warmup:   0%|          | 0/37 [00:00, ?it/s]"
     ]
    },
    {
     "name": "stdout",
     "output_type": "stream",
     "text": [
      "Connecting to meshcat-server at zmq_url=tcp://127.0.0.1:6007...\n",
      "You can open the visualizer by visiting the following URL:\n",
      "http://127.0.0.1:7007/static/\n",
      "Connected to meshcat-server.\n"
     ]
    },
    {
     "name": "stderr",
     "output_type": "stream",
     "text": [
      "Sample: 100%|██████████| 37/37 [01:03,  1.71s/it, step size=1.04e-03, acc. prob=0.924]\n"
     ]
    },
    {
     "name": "stdout",
     "output_type": "stream",
     "text": [
      "Initial trace log prob:  tensor(-5097.9110)\n"
     ]
    },
    {
     "name": "stderr",
     "output_type": "stream",
     "text": [
      "\r",
      "Warmup:   0%|          | 0/37 [00:00, ?it/s]"
     ]
    },
    {
     "name": "stdout",
     "output_type": "stream",
     "text": [
      "Connecting to meshcat-server at zmq_url=tcp://127.0.0.1:6007...\n",
      "You can open the visualizer by visiting the following URL:\n",
      "http://127.0.0.1:7007/static/\n",
      "Connected to meshcat-server.\n"
     ]
    },
    {
     "name": "stderr",
     "output_type": "stream",
     "text": [
      "Sample: 100%|██████████| 37/37 [00:48,  1.31s/it, step size=8.96e-04, acc. prob=0.935]\n"
     ]
    },
    {
     "name": "stdout",
     "output_type": "stream",
     "text": [
      "Initial trace log prob:  tensor(-5444.8470)\n",
      "Connecting to meshcat-server at zmq_url=tcp://127.0.0.1:6007...\n",
      "You can open the visualizer by visiting the following URL:\n",
      "http://127.0.0.1:7007/static/\n",
      "Connected to meshcat-server.\n"
     ]
    },
    {
     "name": "stderr",
     "output_type": "stream",
     "text": [
      "Sample: 100%|██████████| 37/37 [01:12,  1.97s/it, step size=7.81e-04, acc. prob=0.951]\n"
     ]
    },
    {
     "name": "stdout",
     "output_type": "stream",
     "text": [
      "Initial trace log prob:  tensor(-2977.0969)\n"
     ]
    },
    {
     "name": "stderr",
     "output_type": "stream",
     "text": [
      "\r",
      "Warmup:   0%|          | 0/37 [00:00, ?it/s]"
     ]
    },
    {
     "name": "stdout",
     "output_type": "stream",
     "text": [
      "Connecting to meshcat-server at zmq_url=tcp://127.0.0.1:6007...\n",
      "You can open the visualizer by visiting the following URL:\n",
      "http://127.0.0.1:7007/static/\n",
      "Connected to meshcat-server.\n"
     ]
    },
    {
     "name": "stderr",
     "output_type": "stream",
     "text": [
      "Sample: 100%|██████████| 37/37 [00:51,  1.39s/it, step size=6.34e-04, acc. prob=0.972]\n"
     ]
    },
    {
     "name": "stdout",
     "output_type": "stream",
     "text": [
      "Initial trace log prob:  tensor(-3487.8116)\n"
     ]
    },
    {
     "name": "stderr",
     "output_type": "stream",
     "text": [
      "\r",
      "Warmup:   0%|          | 0/37 [00:00, ?it/s]"
     ]
    },
    {
     "name": "stdout",
     "output_type": "stream",
     "text": [
      "Connecting to meshcat-server at zmq_url=tcp://127.0.0.1:6007...\n",
      "You can open the visualizer by visiting the following URL:\n",
      "http://127.0.0.1:7007/static/\n",
      "Connected to meshcat-server.\n"
     ]
    },
    {
     "name": "stderr",
     "output_type": "stream",
     "text": [
      "Sample: 100%|██████████| 37/37 [00:46,  1.26s/it, step size=1.16e-03, acc. prob=0.830]\n"
     ]
    },
    {
     "name": "stdout",
     "output_type": "stream",
     "text": [
      "Initial trace log prob:  tensor(-4757.8157)\n"
     ]
    },
    {
     "name": "stderr",
     "output_type": "stream",
     "text": [
      "\r",
      "Warmup:   0%|          | 0/37 [00:00, ?it/s]"
     ]
    },
    {
     "name": "stdout",
     "output_type": "stream",
     "text": [
      "Connecting to meshcat-server at zmq_url=tcp://127.0.0.1:6007...\n",
      "You can open the visualizer by visiting the following URL:\n",
      "http://127.0.0.1:7007/static/\n",
      "Connected to meshcat-server.\n"
     ]
    },
    {
     "name": "stderr",
     "output_type": "stream",
     "text": [
      "Sample: 100%|██████████| 37/37 [01:10,  1.91s/it, step size=8.97e-04, acc. prob=0.908]\n"
     ]
    },
    {
     "name": "stdout",
     "output_type": "stream",
     "text": [
      "Initial trace log prob:  tensor(-21932.8443)\n"
     ]
    },
    {
     "name": "stderr",
     "output_type": "stream",
     "text": [
      "\r",
      "Warmup:   0%|          | 0/37 [00:00, ?it/s]"
     ]
    },
    {
     "name": "stdout",
     "output_type": "stream",
     "text": [
      "Connecting to meshcat-server at zmq_url=tcp://127.0.0.1:6007...\n",
      "You can open the visualizer by visiting the following URL:\n",
      "http://127.0.0.1:7007/static/\n",
      "Connected to meshcat-server.\n"
     ]
    },
    {
     "name": "stderr",
     "output_type": "stream",
     "text": [
      "Sample: 100%|██████████| 37/37 [00:58,  1.57s/it, step size=1.04e-03, acc. prob=0.883]\n"
     ]
    },
    {
     "name": "stdout",
     "output_type": "stream",
     "text": [
      "Initial trace log prob:  tensor(-3824.9728)\n"
     ]
    },
    {
     "name": "stderr",
     "output_type": "stream",
     "text": [
      "\r",
      "Warmup:   0%|          | 0/37 [00:00, ?it/s]"
     ]
    },
    {
     "name": "stdout",
     "output_type": "stream",
     "text": [
      "Connecting to meshcat-server at zmq_url=tcp://127.0.0.1:6007...\n",
      "You can open the visualizer by visiting the following URL:\n",
      "http://127.0.0.1:7007/static/\n",
      "Connected to meshcat-server.\n"
     ]
    },
    {
     "name": "stderr",
     "output_type": "stream",
     "text": [
      "Sample: 100%|██████████| 37/37 [00:53,  1.44s/it, step size=8.53e-04, acc. prob=0.944]\n"
     ]
    },
    {
     "name": "stdout",
     "output_type": "stream",
     "text": [
      "Initial trace log prob:  tensor(-23.7881)\n"
     ]
    },
    {
     "name": "stderr",
     "output_type": "stream",
     "text": [
      "\r",
      "Warmup:   0%|          | 0/37 [00:00, ?it/s]"
     ]
    },
    {
     "name": "stdout",
     "output_type": "stream",
     "text": [
      "Connecting to meshcat-server at zmq_url=tcp://127.0.0.1:6007...\n",
      "You can open the visualizer by visiting the following URL:\n",
      "http://127.0.0.1:7007/static/\n",
      "Connected to meshcat-server.\n"
     ]
    },
    {
     "name": "stderr",
     "output_type": "stream",
     "text": [
      "Sample: 100%|██████████| 37/37 [00:46,  1.26s/it, step size=1.28e-03, acc. prob=0.820]\n"
     ]
    },
    {
     "name": "stdout",
     "output_type": "stream",
     "text": [
      "Initial trace log prob:  tensor(-10983.6978)\n"
     ]
    },
    {
     "name": "stderr",
     "output_type": "stream",
     "text": [
      "\r",
      "Warmup:   0%|          | 0/37 [00:00, ?it/s]"
     ]
    },
    {
     "name": "stdout",
     "output_type": "stream",
     "text": [
      "Connecting to meshcat-server at zmq_url=tcp://127.0.0.1:6007...\n",
      "You can open the visualizer by visiting the following URL:\n",
      "http://127.0.0.1:7007/static/\n",
      "Connected to meshcat-server.\n"
     ]
    },
    {
     "name": "stderr",
     "output_type": "stream",
     "text": [
      "Sample: 100%|██████████| 37/37 [00:51,  1.40s/it, step size=1.17e-03, acc. prob=0.807]\n"
     ]
    },
    {
     "name": "stdout",
     "output_type": "stream",
     "text": [
      "Initial trace log prob:  tensor(-5218.1543)\n",
      "Connecting to meshcat-server at zmq_url=tcp://127.0.0.1:6007...\n",
      "You can open the visualizer by visiting the following URL:\n",
      "http://127.0.0.1:7007/static/\n",
      "Connected to meshcat-server.\n"
     ]
    },
    {
     "name": "stderr",
     "output_type": "stream",
     "text": [
      "Sample: 100%|██████████| 37/37 [01:11,  1.93s/it, step size=8.01e-04, acc. prob=0.962]\n"
     ]
    },
    {
     "name": "stdout",
     "output_type": "stream",
     "text": [
      "Initial trace log prob:  tensor(-12446.9974)\n",
      "Connecting to meshcat-server at zmq_url=tcp://127.0.0.1:6007...\n",
      "You can open the visualizer by visiting the following URL:\n",
      "http://127.0.0.1:7007/static/\n",
      "Connected to meshcat-server.\n"
     ]
    },
    {
     "name": "stderr",
     "output_type": "stream",
     "text": [
      "Sample: 100%|██████████| 37/37 [01:12,  1.95s/it, step size=8.42e-04, acc. prob=0.938]\n"
     ]
    },
    {
     "name": "stdout",
     "output_type": "stream",
     "text": [
      "Initial trace log prob:  tensor(-3804.7236)\n"
     ]
    },
    {
     "name": "stderr",
     "output_type": "stream",
     "text": [
      "\r",
      "Warmup:   0%|          | 0/37 [00:00, ?it/s]"
     ]
    },
    {
     "name": "stdout",
     "output_type": "stream",
     "text": [
      "Connecting to meshcat-server at zmq_url=tcp://127.0.0.1:6007...\n",
      "You can open the visualizer by visiting the following URL:\n",
      "http://127.0.0.1:7007/static/\n",
      "Connected to meshcat-server.\n"
     ]
    },
    {
     "name": "stderr",
     "output_type": "stream",
     "text": [
      "Sample: 100%|██████████| 37/37 [01:03,  1.72s/it, step size=7.65e-04, acc. prob=0.961]\n"
     ]
    },
    {
     "name": "stdout",
     "output_type": "stream",
     "text": [
      "Initial trace log prob:  tensor(-27703.0708)\n",
      "Connecting to meshcat-server at zmq_url=tcp://127.0.0.1:6007...\n",
      "You can open the visualizer by visiting the following URL:\n",
      "http://127.0.0.1:7007/static/\n",
      "Connected to meshcat-server.\n"
     ]
    },
    {
     "name": "stderr",
     "output_type": "stream",
     "text": [
      "Sample: 100%|██████████| 37/37 [01:08,  1.84s/it, step size=4.02e-04, acc. prob=0.987]\n"
     ]
    },
    {
     "name": "stdout",
     "output_type": "stream",
     "text": [
      "Initial trace log prob:  tensor(-14178.4823)\n"
     ]
    },
    {
     "name": "stderr",
     "output_type": "stream",
     "text": [
      "\r",
      "Warmup:   0%|          | 0/37 [00:00, ?it/s]"
     ]
    },
    {
     "name": "stdout",
     "output_type": "stream",
     "text": [
      "Connecting to meshcat-server at zmq_url=tcp://127.0.0.1:6007...\n",
      "You can open the visualizer by visiting the following URL:\n",
      "http://127.0.0.1:7007/static/\n",
      "Connected to meshcat-server.\n"
     ]
    },
    {
     "name": "stderr",
     "output_type": "stream",
     "text": [
      "Sample: 100%|██████████| 37/37 [00:54,  1.48s/it, step size=8.53e-04, acc. prob=0.950]\n"
     ]
    },
    {
     "name": "stdout",
     "output_type": "stream",
     "text": [
      "Initial trace log prob:  tensor(-4739.2097)\n"
     ]
    },
    {
     "name": "stderr",
     "output_type": "stream",
     "text": [
      "\r",
      "Warmup:   0%|          | 0/37 [00:00, ?it/s]"
     ]
    },
    {
     "name": "stdout",
     "output_type": "stream",
     "text": [
      "Connecting to meshcat-server at zmq_url=tcp://127.0.0.1:6007...\n",
      "You can open the visualizer by visiting the following URL:\n",
      "http://127.0.0.1:7007/static/\n",
      "Connected to meshcat-server.\n"
     ]
    },
    {
     "name": "stderr",
     "output_type": "stream",
     "text": [
      "Sample: 100%|██████████| 37/37 [01:06,  1.81s/it, step size=1.04e-03, acc. prob=0.911]\n"
     ]
    },
    {
     "name": "stdout",
     "output_type": "stream",
     "text": [
      "Initial trace log prob:  tensor(-9651.6895)\n",
      "Connecting to meshcat-server at zmq_url=tcp://127.0.0.1:6007...\n",
      "You can open the visualizer by visiting the following URL:\n",
      "http://127.0.0.1:7007/static/\n",
      "Connected to meshcat-server.\n"
     ]
    },
    {
     "name": "stderr",
     "output_type": "stream",
     "text": [
      "Sample: 100%|██████████| 37/37 [01:01,  1.67s/it, step size=1.12e-03, acc. prob=0.820]\n"
     ]
    },
    {
     "name": "stdout",
     "output_type": "stream",
     "text": [
      "Initial trace log prob:  tensor(-30458.7031)\n",
      "Connecting to meshcat-server at zmq_url=tcp://127.0.0.1:6007...\n",
      "You can open the visualizer by visiting the following URL:\n",
      "http://127.0.0.1:7007/static/\n",
      "Connected to meshcat-server.\n"
     ]
    },
    {
     "name": "stderr",
     "output_type": "stream",
     "text": [
      "Sample: 100%|██████████| 37/37 [01:15,  2.05s/it, step size=9.97e-04, acc. prob=0.889]\n"
     ]
    },
    {
     "name": "stdout",
     "output_type": "stream",
     "text": [
      "Initial trace log prob:  tensor(-3842.9843)\n"
     ]
    },
    {
     "name": "stderr",
     "output_type": "stream",
     "text": [
      "\r",
      "Warmup:   0%|          | 0/37 [00:00, ?it/s]"
     ]
    },
    {
     "name": "stdout",
     "output_type": "stream",
     "text": [
      "Connecting to meshcat-server at zmq_url=tcp://127.0.0.1:6007...\n",
      "You can open the visualizer by visiting the following URL:\n",
      "http://127.0.0.1:7007/static/\n",
      "Connected to meshcat-server.\n"
     ]
    },
    {
     "name": "stderr",
     "output_type": "stream",
     "text": [
      "Sample: 100%|██████████| 37/37 [00:48,  1.31s/it, step size=1.61e-03, acc. prob=0.688]\n"
     ]
    },
    {
     "name": "stdout",
     "output_type": "stream",
     "text": [
      "Initial trace log prob:  tensor(-1636.8264)\n"
     ]
    },
    {
     "name": "stderr",
     "output_type": "stream",
     "text": [
      "\r",
      "Warmup:   0%|          | 0/37 [00:00, ?it/s]"
     ]
    },
    {
     "name": "stdout",
     "output_type": "stream",
     "text": [
      "Connecting to meshcat-server at zmq_url=tcp://127.0.0.1:6007...\n",
      "You can open the visualizer by visiting the following URL:\n",
      "http://127.0.0.1:7007/static/\n",
      "Connected to meshcat-server.\n"
     ]
    },
    {
     "name": "stderr",
     "output_type": "stream",
     "text": [
      "Sample: 100%|██████████| 37/37 [00:53,  1.45s/it, step size=9.22e-04, acc. prob=0.941]\n"
     ]
    },
    {
     "name": "stdout",
     "output_type": "stream",
     "text": [
      "Initial trace log prob:  tensor(-532.6569)\n"
     ]
    },
    {
     "name": "stderr",
     "output_type": "stream",
     "text": [
      "\r",
      "Warmup:   0%|          | 0/37 [00:00, ?it/s]"
     ]
    },
    {
     "name": "stdout",
     "output_type": "stream",
     "text": [
      "Connecting to meshcat-server at zmq_url=tcp://127.0.0.1:6007...\n",
      "You can open the visualizer by visiting the following URL:\n",
      "http://127.0.0.1:7007/static/\n",
      "Connected to meshcat-server.\n"
     ]
    },
    {
     "name": "stderr",
     "output_type": "stream",
     "text": [
      "Sample: 100%|██████████| 37/37 [01:04,  1.73s/it, step size=7.98e-04, acc. prob=0.950]\n"
     ]
    },
    {
     "name": "stdout",
     "output_type": "stream",
     "text": [
      "Initial trace log prob:  tensor(-145.0163)\n",
      "Connecting to meshcat-server at zmq_url=tcp://127.0.0.1:6007...\n",
      "You can open the visualizer by visiting the following URL:\n",
      "http://127.0.0.1:7007/static/\n",
      "Connected to meshcat-server.\n"
     ]
    },
    {
     "name": "stderr",
     "output_type": "stream",
     "text": [
      "Sample: 100%|██████████| 37/37 [01:05,  1.78s/it, step size=9.52e-04, acc. prob=0.945]\n"
     ]
    },
    {
     "name": "stdout",
     "output_type": "stream",
     "text": [
      "Initial trace log prob:  tensor(-1317.2577)\n",
      "Connecting to meshcat-server at zmq_url=tcp://127.0.0.1:6007...\n",
      "You can open the visualizer by visiting the following URL:\n",
      "http://127.0.0.1:7007/static/\n",
      "Connected to meshcat-server.\n"
     ]
    },
    {
     "name": "stderr",
     "output_type": "stream",
     "text": [
      "Sample: 100%|██████████| 37/37 [01:14,  2.01s/it, step size=8.58e-04, acc. prob=0.916]\n"
     ]
    },
    {
     "name": "stdout",
     "output_type": "stream",
     "text": [
      "Initial trace log prob:  tensor(-1600.5277)\n",
      "Connecting to meshcat-server at zmq_url=tcp://127.0.0.1:6007...\n",
      "You can open the visualizer by visiting the following URL:\n",
      "http://127.0.0.1:7007/static/\n",
      "Connected to meshcat-server.\n"
     ]
    },
    {
     "name": "stderr",
     "output_type": "stream",
     "text": [
      "Sample: 100%|██████████| 37/37 [01:11,  1.93s/it, step size=1.22e-03, acc. prob=0.786]\n"
     ]
    },
    {
     "name": "stdout",
     "output_type": "stream",
     "text": [
      "Initial trace log prob:  tensor(-5690.2389)\n",
      "Connecting to meshcat-server at zmq_url=tcp://127.0.0.1:6007...\n",
      "You can open the visualizer by visiting the following URL:\n",
      "http://127.0.0.1:7007/static/\n",
      "Connected to meshcat-server.\n"
     ]
    },
    {
     "name": "stderr",
     "output_type": "stream",
     "text": [
      "Sample: 100%|██████████| 37/37 [01:02,  1.68s/it, step size=3.53e-04, acc. prob=0.991]\n"
     ]
    },
    {
     "name": "stdout",
     "output_type": "stream",
     "text": [
      "Initial trace log prob:  tensor(-8146.3179)\n",
      "Connecting to meshcat-server at zmq_url=tcp://127.0.0.1:6007...\n",
      "You can open the visualizer by visiting the following URL:\n",
      "http://127.0.0.1:7007/static/\n",
      "Connected to meshcat-server.\n"
     ]
    },
    {
     "name": "stderr",
     "output_type": "stream",
     "text": [
      "Sample: 100%|██████████| 37/37 [01:17,  2.08s/it, step size=8.91e-04, acc. prob=0.901]\n"
     ]
    },
    {
     "name": "stdout",
     "output_type": "stream",
     "text": [
      "Initial trace log prob:  tensor(-6865.3749)\n",
      "Connecting to meshcat-server at zmq_url=tcp://127.0.0.1:6007...\n",
      "You can open the visualizer by visiting the following URL:\n",
      "http://127.0.0.1:7007/static/\n",
      "Connected to meshcat-server.\n"
     ]
    },
    {
     "name": "stderr",
     "output_type": "stream",
     "text": [
      "Sample: 100%|██████████| 37/37 [01:09,  1.88s/it, step size=7.04e-04, acc. prob=0.957]\n"
     ]
    },
    {
     "name": "stdout",
     "output_type": "stream",
     "text": [
      "Initial trace log prob:  tensor(-7081.3708)\n",
      "Connecting to meshcat-server at zmq_url=tcp://127.0.0.1:6007...\n",
      "You can open the visualizer by visiting the following URL:\n",
      "http://127.0.0.1:7007/static/\n",
      "Connected to meshcat-server.\n"
     ]
    },
    {
     "name": "stderr",
     "output_type": "stream",
     "text": [
      "Sample: 100%|██████████| 37/37 [01:04,  1.75s/it, step size=1.08e-03, acc. prob=0.879]\n"
     ]
    },
    {
     "name": "stdout",
     "output_type": "stream",
     "text": [
      "Initial trace log prob:  tensor(-5554.0824)\n"
     ]
    },
    {
     "name": "stderr",
     "output_type": "stream",
     "text": [
      "\r",
      "Warmup:   0%|          | 0/37 [00:00, ?it/s]"
     ]
    },
    {
     "name": "stdout",
     "output_type": "stream",
     "text": [
      "Connecting to meshcat-server at zmq_url=tcp://127.0.0.1:6007...\n",
      "You can open the visualizer by visiting the following URL:\n",
      "http://127.0.0.1:7007/static/\n",
      "Connected to meshcat-server.\n"
     ]
    },
    {
     "name": "stderr",
     "output_type": "stream",
     "text": [
      "Sample: 100%|██████████| 37/37 [01:10,  1.91s/it, step size=1.01e-03, acc. prob=0.932]\n"
     ]
    },
    {
     "name": "stdout",
     "output_type": "stream",
     "text": [
      "Initial trace log prob:  tensor(-4589.7328)\n"
     ]
    },
    {
     "name": "stderr",
     "output_type": "stream",
     "text": [
      "\r",
      "Warmup:   0%|          | 0/37 [00:00, ?it/s]"
     ]
    },
    {
     "name": "stdout",
     "output_type": "stream",
     "text": [
      "Connecting to meshcat-server at zmq_url=tcp://127.0.0.1:6007...\n",
      "You can open the visualizer by visiting the following URL:\n",
      "http://127.0.0.1:7007/static/\n",
      "Connected to meshcat-server.\n"
     ]
    },
    {
     "name": "stderr",
     "output_type": "stream",
     "text": [
      "Sample: 100%|██████████| 37/37 [00:53,  1.43s/it, step size=1.24e-03, acc. prob=0.837]\n"
     ]
    },
    {
     "name": "stdout",
     "output_type": "stream",
     "text": [
      "Initial trace log prob:  tensor(-4225.1769)\n"
     ]
    },
    {
     "name": "stderr",
     "output_type": "stream",
     "text": [
      "\r",
      "Warmup:   0%|          | 0/37 [00:00, ?it/s]"
     ]
    },
    {
     "name": "stdout",
     "output_type": "stream",
     "text": [
      "Connecting to meshcat-server at zmq_url=tcp://127.0.0.1:6007...\n",
      "You can open the visualizer by visiting the following URL:\n",
      "http://127.0.0.1:7007/static/\n",
      "Connected to meshcat-server.\n"
     ]
    },
    {
     "name": "stderr",
     "output_type": "stream",
     "text": [
      "Sample: 100%|██████████| 37/37 [00:45,  1.24s/it, step size=1.18e-03, acc. prob=0.886]\n"
     ]
    },
    {
     "name": "stdout",
     "output_type": "stream",
     "text": [
      "Initial trace log prob:  tensor(-9082.9388)\n",
      "Connecting to meshcat-server at zmq_url=tcp://127.0.0.1:6007...\n",
      "You can open the visualizer by visiting the following URL:\n",
      "http://127.0.0.1:7007/static/\n",
      "Connected to meshcat-server.\n"
     ]
    },
    {
     "name": "stderr",
     "output_type": "stream",
     "text": [
      "Sample: 100%|██████████| 37/37 [01:14,  2.00s/it, step size=9.77e-04, acc. prob=0.922]\n"
     ]
    },
    {
     "name": "stdout",
     "output_type": "stream",
     "text": [
      "Initial trace log prob:  tensor(-8037.5833)\n"
     ]
    },
    {
     "name": "stderr",
     "output_type": "stream",
     "text": [
      "\r",
      "Warmup:   0%|          | 0/37 [00:00, ?it/s]"
     ]
    },
    {
     "name": "stdout",
     "output_type": "stream",
     "text": [
      "Connecting to meshcat-server at zmq_url=tcp://127.0.0.1:6007...\n",
      "You can open the visualizer by visiting the following URL:\n",
      "http://127.0.0.1:7007/static/\n",
      "Connected to meshcat-server.\n"
     ]
    },
    {
     "name": "stderr",
     "output_type": "stream",
     "text": [
      "Sample: 100%|██████████| 37/37 [00:57,  1.55s/it, step size=9.91e-04, acc. prob=0.967]\n"
     ]
    },
    {
     "name": "stdout",
     "output_type": "stream",
     "text": [
      "Initial trace log prob:  tensor(-9117.1178)\n"
     ]
    },
    {
     "name": "stderr",
     "output_type": "stream",
     "text": [
      "\r",
      "Warmup:   0%|          | 0/37 [00:00, ?it/s]"
     ]
    },
    {
     "name": "stdout",
     "output_type": "stream",
     "text": [
      "Connecting to meshcat-server at zmq_url=tcp://127.0.0.1:6007...\n",
      "You can open the visualizer by visiting the following URL:\n",
      "http://127.0.0.1:7007/static/\n",
      "Connected to meshcat-server.\n"
     ]
    },
    {
     "name": "stderr",
     "output_type": "stream",
     "text": [
      "Sample: 100%|██████████| 37/37 [00:51,  1.39s/it, step size=1.12e-03, acc. prob=0.883]\n"
     ]
    },
    {
     "name": "stdout",
     "output_type": "stream",
     "text": [
      "Initial trace log prob:  tensor(-1673.4403)\n"
     ]
    },
    {
     "name": "stderr",
     "output_type": "stream",
     "text": [
      "\r",
      "Warmup:   0%|          | 0/37 [00:00, ?it/s]"
     ]
    },
    {
     "name": "stdout",
     "output_type": "stream",
     "text": [
      "Connecting to meshcat-server at zmq_url=tcp://127.0.0.1:6007...\n",
      "You can open the visualizer by visiting the following URL:\n",
      "http://127.0.0.1:7007/static/\n",
      "Connected to meshcat-server.\n"
     ]
    },
    {
     "name": "stderr",
     "output_type": "stream",
     "text": [
      "Sample: 100%|██████████| 37/37 [00:53,  1.45s/it, step size=1.05e-03, acc. prob=0.895]\n"
     ]
    },
    {
     "name": "stdout",
     "output_type": "stream",
     "text": [
      "Initial trace log prob:  tensor(-29276.9246)\n",
      "Connecting to meshcat-server at zmq_url=tcp://127.0.0.1:6007...\n",
      "You can open the visualizer by visiting the following URL:\n",
      "http://127.0.0.1:7007/static/\n",
      "Connected to meshcat-server.\n"
     ]
    },
    {
     "name": "stderr",
     "output_type": "stream",
     "text": [
      "Sample: 100%|██████████| 37/37 [01:21,  2.21s/it, step size=1.01e-03, acc. prob=0.924]\n"
     ]
    },
    {
     "name": "stdout",
     "output_type": "stream",
     "text": [
      "Initial trace log prob:  tensor(-2304.9816)\n",
      "Connecting to meshcat-server at zmq_url=tcp://127.0.0.1:6007...\n",
      "You can open the visualizer by visiting the following URL:\n",
      "http://127.0.0.1:7007/static/\n",
      "Connected to meshcat-server.\n"
     ]
    },
    {
     "name": "stderr",
     "output_type": "stream",
     "text": [
      "Sample: 100%|██████████| 37/37 [01:09,  1.87s/it, step size=8.51e-04, acc. prob=0.959]\n"
     ]
    },
    {
     "name": "stdout",
     "output_type": "stream",
     "text": [
      "Initial trace log prob:  tensor(-10454.3980)\n"
     ]
    },
    {
     "name": "stderr",
     "output_type": "stream",
     "text": [
      "\r",
      "Warmup:   0%|          | 0/37 [00:00, ?it/s]"
     ]
    },
    {
     "name": "stdout",
     "output_type": "stream",
     "text": [
      "Connecting to meshcat-server at zmq_url=tcp://127.0.0.1:6007...\n",
      "You can open the visualizer by visiting the following URL:\n",
      "http://127.0.0.1:7007/static/\n",
      "Connected to meshcat-server.\n"
     ]
    },
    {
     "name": "stderr",
     "output_type": "stream",
     "text": [
      "Sample: 100%|██████████| 37/37 [01:03,  1.71s/it, step size=7.08e-04, acc. prob=0.930]\n"
     ]
    },
    {
     "name": "stdout",
     "output_type": "stream",
     "text": [
      "Initial trace log prob:  tensor(-21019.1289)\n"
     ]
    },
    {
     "name": "stderr",
     "output_type": "stream",
     "text": [
      "\r",
      "Warmup:   0%|          | 0/37 [00:00, ?it/s]"
     ]
    },
    {
     "name": "stdout",
     "output_type": "stream",
     "text": [
      "Connecting to meshcat-server at zmq_url=tcp://127.0.0.1:6007...\n",
      "You can open the visualizer by visiting the following URL:\n",
      "http://127.0.0.1:7007/static/\n",
      "Connected to meshcat-server.\n"
     ]
    },
    {
     "name": "stderr",
     "output_type": "stream",
     "text": [
      "Sample: 100%|██████████| 37/37 [01:00,  1.64s/it, step size=1.30e-03, acc. prob=0.788]\n"
     ]
    },
    {
     "name": "stdout",
     "output_type": "stream",
     "text": [
      "Initial trace log prob:  tensor(-28689.1656)\n",
      "Connecting to meshcat-server at zmq_url=tcp://127.0.0.1:6007...\n",
      "You can open the visualizer by visiting the following URL:\n",
      "http://127.0.0.1:7007/static/\n",
      "Connected to meshcat-server.\n"
     ]
    },
    {
     "name": "stderr",
     "output_type": "stream",
     "text": [
      "Sample: 100%|██████████| 37/37 [01:18,  2.13s/it, step size=5.62e-04, acc. prob=0.967]\n"
     ]
    },
    {
     "name": "stdout",
     "output_type": "stream",
     "text": [
      "Initial trace log prob:  tensor(-6762.2993)\n",
      "Connecting to meshcat-server at zmq_url=tcp://127.0.0.1:6007...\n",
      "You can open the visualizer by visiting the following URL:\n",
      "http://127.0.0.1:7007/static/\n",
      "Connected to meshcat-server.\n"
     ]
    },
    {
     "name": "stderr",
     "output_type": "stream",
     "text": [
      "Sample: 100%|██████████| 37/37 [01:02,  1.69s/it, step size=1.17e-03, acc. prob=0.897]\n"
     ]
    },
    {
     "name": "stdout",
     "output_type": "stream",
     "text": [
      "Initial trace log prob:  tensor(-28940.3673)\n",
      "Connecting to meshcat-server at zmq_url=tcp://127.0.0.1:6007...\n",
      "You can open the visualizer by visiting the following URL:\n",
      "http://127.0.0.1:7007/static/\n",
      "Connected to meshcat-server.\n"
     ]
    },
    {
     "name": "stderr",
     "output_type": "stream",
     "text": [
      "Sample: 100%|██████████| 37/37 [01:37,  2.64s/it, step size=9.19e-04, acc. prob=0.888]\n"
     ]
    },
    {
     "name": "stdout",
     "output_type": "stream",
     "text": [
      "Initial trace log prob:  tensor(-20130.8828)\n"
     ]
    },
    {
     "name": "stderr",
     "output_type": "stream",
     "text": [
      "\r",
      "Warmup:   0%|          | 0/37 [00:00, ?it/s]"
     ]
    },
    {
     "name": "stdout",
     "output_type": "stream",
     "text": [
      "Connecting to meshcat-server at zmq_url=tcp://127.0.0.1:6007...\n",
      "You can open the visualizer by visiting the following URL:\n",
      "http://127.0.0.1:7007/static/\n",
      "Connected to meshcat-server.\n"
     ]
    },
    {
     "name": "stderr",
     "output_type": "stream",
     "text": [
      "Sample: 100%|██████████| 37/37 [00:50,  1.35s/it, step size=1.06e-03, acc. prob=0.917]\n"
     ]
    },
    {
     "name": "stdout",
     "output_type": "stream",
     "text": [
      "Initial trace log prob:  tensor(-25789.5745)\n",
      "Connecting to meshcat-server at zmq_url=tcp://127.0.0.1:6007...\n",
      "You can open the visualizer by visiting the following URL:\n",
      "http://127.0.0.1:7007/static/\n",
      "Connected to meshcat-server.\n"
     ]
    },
    {
     "name": "stderr",
     "output_type": "stream",
     "text": [
      "Sample: 100%|██████████| 37/37 [01:36,  2.62s/it, step size=6.82e-04, acc. prob=0.963]\n"
     ]
    },
    {
     "name": "stdout",
     "output_type": "stream",
     "text": [
      "Initial trace log prob:  tensor(-15196.2413)\n"
     ]
    },
    {
     "name": "stderr",
     "output_type": "stream",
     "text": [
      "\r",
      "Warmup:   0%|          | 0/37 [00:00, ?it/s]"
     ]
    },
    {
     "name": "stdout",
     "output_type": "stream",
     "text": [
      "Connecting to meshcat-server at zmq_url=tcp://127.0.0.1:6007...\n",
      "You can open the visualizer by visiting the following URL:\n",
      "http://127.0.0.1:7007/static/\n",
      "Connected to meshcat-server.\n"
     ]
    },
    {
     "name": "stderr",
     "output_type": "stream",
     "text": [
      "Sample: 100%|██████████| 37/37 [00:45,  1.22s/it, step size=7.96e-04, acc. prob=0.928]\n"
     ]
    },
    {
     "name": "stdout",
     "output_type": "stream",
     "text": [
      "Initial trace log prob:  tensor(-3989.7386)\n"
     ]
    },
    {
     "name": "stderr",
     "output_type": "stream",
     "text": [
      "\r",
      "Warmup:   0%|          | 0/37 [00:00, ?it/s]"
     ]
    },
    {
     "name": "stdout",
     "output_type": "stream",
     "text": [
      "Connecting to meshcat-server at zmq_url=tcp://127.0.0.1:6007...\n",
      "You can open the visualizer by visiting the following URL:\n",
      "http://127.0.0.1:7007/static/\n",
      "Connected to meshcat-server.\n"
     ]
    },
    {
     "name": "stderr",
     "output_type": "stream",
     "text": [
      "Sample: 100%|██████████| 37/37 [00:52,  1.42s/it, step size=8.98e-04, acc. prob=0.956]\n"
     ]
    },
    {
     "name": "stdout",
     "output_type": "stream",
     "text": [
      "Initial trace log prob:  tensor(-403.0520)\n"
     ]
    },
    {
     "name": "stderr",
     "output_type": "stream",
     "text": [
      "\r",
      "Warmup:   0%|          | 0/37 [00:00, ?it/s]"
     ]
    },
    {
     "name": "stdout",
     "output_type": "stream",
     "text": [
      "Connecting to meshcat-server at zmq_url=tcp://127.0.0.1:6007...\n",
      "You can open the visualizer by visiting the following URL:\n",
      "http://127.0.0.1:7007/static/\n",
      "Connected to meshcat-server.\n"
     ]
    },
    {
     "name": "stderr",
     "output_type": "stream",
     "text": [
      "Sample: 100%|██████████| 37/37 [00:41,  1.13s/it, step size=8.14e-04, acc. prob=0.978]\n"
     ]
    },
    {
     "name": "stdout",
     "output_type": "stream",
     "text": [
      "Initial trace log prob:  tensor(-13749.1762)\n",
      "Connecting to meshcat-server at zmq_url=tcp://127.0.0.1:6007...\n",
      "You can open the visualizer by visiting the following URL:\n",
      "http://127.0.0.1:7007/static/\n",
      "Connected to meshcat-server.\n"
     ]
    },
    {
     "name": "stderr",
     "output_type": "stream",
     "text": [
      "Sample: 100%|██████████| 37/37 [01:22,  2.23s/it, step size=5.88e-04, acc. prob=0.973]\n"
     ]
    },
    {
     "name": "stdout",
     "output_type": "stream",
     "text": [
      "Initial trace log prob:  tensor(-15917.0951)\n",
      "Connecting to meshcat-server at zmq_url=tcp://127.0.0.1:6007...\n",
      "You can open the visualizer by visiting the following URL:\n",
      "http://127.0.0.1:7007/static/\n",
      "Connected to meshcat-server.\n"
     ]
    },
    {
     "name": "stderr",
     "output_type": "stream",
     "text": [
      "Sample: 100%|██████████| 37/37 [01:18,  2.11s/it, step size=1.05e-03, acc. prob=0.958]\n"
     ]
    },
    {
     "name": "stdout",
     "output_type": "stream",
     "text": [
      "Initial trace log prob:  tensor(-4572.0648)\n",
      "Connecting to meshcat-server at zmq_url=tcp://127.0.0.1:6007...\n",
      "You can open the visualizer by visiting the following URL:\n",
      "http://127.0.0.1:7007/static/\n",
      "Connected to meshcat-server.\n"
     ]
    },
    {
     "name": "stderr",
     "output_type": "stream",
     "text": [
      "Sample: 100%|██████████| 37/37 [01:08,  1.86s/it, step size=9.48e-04, acc. prob=0.923]\n"
     ]
    },
    {
     "name": "stdout",
     "output_type": "stream",
     "text": [
      "Initial trace log prob:  tensor(-12414.5457)\n",
      "Connecting to meshcat-server at zmq_url=tcp://127.0.0.1:6007...\n",
      "You can open the visualizer by visiting the following URL:\n",
      "http://127.0.0.1:7007/static/\n",
      "Connected to meshcat-server.\n"
     ]
    },
    {
     "name": "stderr",
     "output_type": "stream",
     "text": [
      "Sample: 100%|██████████| 37/37 [01:16,  2.08s/it, step size=9.05e-04, acc. prob=0.954]\n"
     ]
    },
    {
     "name": "stdout",
     "output_type": "stream",
     "text": [
      "Initial trace log prob:  tensor(-1827.4549)\n"
     ]
    },
    {
     "name": "stderr",
     "output_type": "stream",
     "text": [
      "\r",
      "Warmup:   0%|          | 0/37 [00:00, ?it/s]"
     ]
    },
    {
     "name": "stdout",
     "output_type": "stream",
     "text": [
      "Connecting to meshcat-server at zmq_url=tcp://127.0.0.1:6007...\n",
      "You can open the visualizer by visiting the following URL:\n",
      "http://127.0.0.1:7007/static/\n",
      "Connected to meshcat-server.\n"
     ]
    },
    {
     "name": "stderr",
     "output_type": "stream",
     "text": [
      "Sample: 100%|██████████| 37/37 [01:09,  1.87s/it, step size=1.08e-03, acc. prob=0.917]\n"
     ]
    },
    {
     "name": "stdout",
     "output_type": "stream",
     "text": [
      "Initial trace log prob:  tensor(-2347.2409)\n"
     ]
    },
    {
     "name": "stderr",
     "output_type": "stream",
     "text": [
      "\r",
      "Warmup:   0%|          | 0/37 [00:00, ?it/s]"
     ]
    },
    {
     "name": "stdout",
     "output_type": "stream",
     "text": [
      "Connecting to meshcat-server at zmq_url=tcp://127.0.0.1:6007...\n",
      "You can open the visualizer by visiting the following URL:\n",
      "http://127.0.0.1:7007/static/\n",
      "Connected to meshcat-server.\n"
     ]
    },
    {
     "name": "stderr",
     "output_type": "stream",
     "text": [
      "Sample: 100%|██████████| 37/37 [00:56,  1.53s/it, step size=8.81e-04, acc. prob=0.869]\n"
     ]
    },
    {
     "name": "stdout",
     "output_type": "stream",
     "text": [
      "Initial trace log prob:  tensor(-3633.5610)\n"
     ]
    },
    {
     "name": "stderr",
     "output_type": "stream",
     "text": [
      "\r",
      "Warmup:   0%|          | 0/37 [00:00, ?it/s]"
     ]
    },
    {
     "name": "stdout",
     "output_type": "stream",
     "text": [
      "Connecting to meshcat-server at zmq_url=tcp://127.0.0.1:6007...\n",
      "You can open the visualizer by visiting the following URL:\n",
      "http://127.0.0.1:7007/static/\n",
      "Connected to meshcat-server.\n"
     ]
    },
    {
     "name": "stderr",
     "output_type": "stream",
     "text": [
      "Sample: 100%|██████████| 37/37 [00:58,  1.57s/it, step size=8.62e-04, acc. prob=0.942]\n"
     ]
    },
    {
     "name": "stdout",
     "output_type": "stream",
     "text": [
      "Initial trace log prob:  tensor(-13851.8410)\n",
      "Connecting to meshcat-server at zmq_url=tcp://127.0.0.1:6007...\n",
      "You can open the visualizer by visiting the following URL:\n",
      "http://127.0.0.1:7007/static/\n",
      "Connected to meshcat-server.\n"
     ]
    },
    {
     "name": "stderr",
     "output_type": "stream",
     "text": [
      "Sample: 100%|██████████| 37/37 [01:42,  2.76s/it, step size=8.31e-04, acc. prob=0.935]\n"
     ]
    },
    {
     "name": "stdout",
     "output_type": "stream",
     "text": [
      "Initial trace log prob:  tensor(-3555.1075)\n"
     ]
    },
    {
     "name": "stderr",
     "output_type": "stream",
     "text": [
      "\r",
      "Warmup:   0%|          | 0/37 [00:00, ?it/s]"
     ]
    },
    {
     "name": "stdout",
     "output_type": "stream",
     "text": [
      "Connecting to meshcat-server at zmq_url=tcp://127.0.0.1:6007...\n",
      "You can open the visualizer by visiting the following URL:\n",
      "http://127.0.0.1:7007/static/\n",
      "Connected to meshcat-server.\n"
     ]
    },
    {
     "name": "stderr",
     "output_type": "stream",
     "text": [
      "Sample: 100%|██████████| 37/37 [01:03,  1.71s/it, step size=7.32e-04, acc. prob=0.961]\n"
     ]
    },
    {
     "name": "stdout",
     "output_type": "stream",
     "text": [
      "Initial trace log prob:  tensor(-9467.4849)\n"
     ]
    },
    {
     "name": "stderr",
     "output_type": "stream",
     "text": [
      "\r",
      "Warmup:   0%|          | 0/37 [00:00, ?it/s]"
     ]
    },
    {
     "name": "stdout",
     "output_type": "stream",
     "text": [
      "Connecting to meshcat-server at zmq_url=tcp://127.0.0.1:6007...\n",
      "You can open the visualizer by visiting the following URL:\n",
      "http://127.0.0.1:7007/static/\n",
      "Connected to meshcat-server.\n"
     ]
    },
    {
     "name": "stderr",
     "output_type": "stream",
     "text": [
      "Sample: 100%|██████████| 37/37 [01:00,  1.65s/it, step size=9.93e-04, acc. prob=0.947]\n"
     ]
    },
    {
     "name": "stdout",
     "output_type": "stream",
     "text": [
      "Initial trace log prob:  tensor(-13272.1762)\n",
      "Connecting to meshcat-server at zmq_url=tcp://127.0.0.1:6007...\n",
      "You can open the visualizer by visiting the following URL:\n",
      "http://127.0.0.1:7007/static/\n",
      "Connected to meshcat-server.\n"
     ]
    },
    {
     "name": "stderr",
     "output_type": "stream",
     "text": [
      "Sample: 100%|██████████| 37/37 [01:08,  1.86s/it, step size=9.69e-04, acc. prob=0.956]\n"
     ]
    },
    {
     "name": "stdout",
     "output_type": "stream",
     "text": [
      "Initial trace log prob:  tensor(-3768.9913)\n"
     ]
    },
    {
     "name": "stderr",
     "output_type": "stream",
     "text": [
      "\r",
      "Warmup:   0%|          | 0/37 [00:00, ?it/s]"
     ]
    },
    {
     "name": "stdout",
     "output_type": "stream",
     "text": [
      "Connecting to meshcat-server at zmq_url=tcp://127.0.0.1:6007...\n",
      "You can open the visualizer by visiting the following URL:\n",
      "http://127.0.0.1:7007/static/\n",
      "Connected to meshcat-server.\n"
     ]
    },
    {
     "name": "stderr",
     "output_type": "stream",
     "text": [
      "Sample: 100%|██████████| 37/37 [01:03,  1.72s/it, step size=9.91e-04, acc. prob=0.944]\n"
     ]
    },
    {
     "name": "stdout",
     "output_type": "stream",
     "text": [
      "Initial trace log prob:  tensor(-16077.6659)\n",
      "Connecting to meshcat-server at zmq_url=tcp://127.0.0.1:6007...\n",
      "You can open the visualizer by visiting the following URL:\n",
      "http://127.0.0.1:7007/static/\n",
      "Connected to meshcat-server.\n"
     ]
    },
    {
     "name": "stderr",
     "output_type": "stream",
     "text": [
      "Sample: 100%|██████████| 37/37 [01:11,  1.94s/it, step size=8.97e-04, acc. prob=0.850]\n"
     ]
    },
    {
     "name": "stdout",
     "output_type": "stream",
     "text": [
      "Initial trace log prob:  tensor(-2817.4118)\n"
     ]
    },
    {
     "name": "stderr",
     "output_type": "stream",
     "text": [
      "\r",
      "Warmup:   0%|          | 0/37 [00:00, ?it/s]"
     ]
    },
    {
     "name": "stdout",
     "output_type": "stream",
     "text": [
      "Connecting to meshcat-server at zmq_url=tcp://127.0.0.1:6007...\n",
      "You can open the visualizer by visiting the following URL:\n",
      "http://127.0.0.1:7007/static/\n",
      "Connected to meshcat-server.\n"
     ]
    },
    {
     "name": "stderr",
     "output_type": "stream",
     "text": [
      "Sample: 100%|██████████| 37/37 [00:52,  1.41s/it, step size=9.59e-04, acc. prob=0.983]\n",
      "WARNING:root:Projection failed.\n"
     ]
    },
    {
     "name": "stdout",
     "output_type": "stream",
     "text": [
      "Logfile: \n",
      "\n",
      "         ==============================\n",
      "         S N O P T  7.4-1.2  (Feb 2015)\n",
      "         ==============================\n",
      "1\n",
      " \n",
      " SNMEMA EXIT 100 -- finished successfully\n",
      " SNMEMA INFO 104 -- memory requirements estimated\n",
      "1\n",
      " \n",
      " Parameters\n",
      " ==========\n",
      "\n",
      " Files\n",
      " -----\n",
      " Solution file..........         0       Old basis file ........         0       Standard input.........         5\n",
      " Insert file............         0       New basis file ........         0       (Printer)..............        10\n",
      " Punch file.............         0       Backup basis file......         0       (Specs file)...........         0\n",
      " Load file..............         0       Dump file..............         0       Standard output........         6\n",
      "\n",
      " Frequencies\n",
      " -----------\n",
      " Print frequency........       100       Check frequency........        60       Save new basis map.....       100\n",
      " Summary frequency......       100       Factorization frequency        50       Expand frequency.......     10000\n",
      "\n",
      " QP subproblems\n",
      " --------------\n",
      " QPsolver Cholesky......\n",
      " Scale tolerance........     0.900       Minor feasibility tol..  1.00E-06       Iteration limit........     10000\n",
      " Scale option...........         0       Minor optimality  tol..  1.00E-06       Minor print level......         1\n",
      " Crash tolerance........     0.100       Pivot tolerance........  3.25E-11       New superbasics........        99\n",
      " Crash option...........         3       Elastic weight.........  1.00E+05\n",
      "\n",
      " Partial pricing\n",
      " ---------------\n",
      " LP Partial price.......         1       Prtl price section ( A)        56       Prtl price section (-I)         2\n",
      " QP Partial price.......         1       Prtl price section ( A)        56       Prtl price section (-I)         2\n",
      "\n",
      " The SQP Method\n",
      " --------------\n",
      " Minimize...............                 Cold start.............                 Proximal Point method..         1\n",
      " Nonlinear objectiv vars        56       Objective Row..........         1       Function precision.....  3.00E-13\n",
      " Unbounded step size....  1.00E+20       Superbasics limit......        56       Difference interval....  5.48E-07\n",
      " Unbounded objective....  1.00E+15       Reduced Hessian dim....        56       Central difference int.  6.70E-05\n",
      " Major step limit.......  2.00E+00       Derivative linesearch..                 Derivative option......         1\n",
      " Major iterations limit.       300       Linesearch tolerance...   0.90000       Verify level...........         0\n",
      " Minor iterations limit.       500       Penalty parameter......  0.00E+00       Major Print Level......         1\n",
      " Time limit (secs)...... 9999999.0       Major optimality tol...  1.00E-03\n",
      "\n",
      " Hessian Approximation\n",
      " ---------------------\n",
      " Full-Memory Hessian....                 Hessian updates........  99999999       Hessian frequency......  99999999\n",
      "                                                                                 Hessian flush..........  99999999\n",
      "\n",
      " Nonlinear constraints\n",
      " ---------------------\n",
      " Nonlinear constraints..         1       Major feasibility tol..  1.00E-03       Violation limit........  1.00E+01\n",
      " Nonlinear Jacobian vars        56\n",
      "\n",
      " Miscellaneous\n",
      " -------------\n",
      " LU factor tolerance....      3.99       LU singularity tol.....  3.25E-11       Timing level...........         0\n",
      " LU update tolerance....      3.99       LU swap tolerance......  1.22E-04       Debug level............         0\n",
      " LU partial  pivoting...                 eps (machine precision)  2.22E-16       System information.....        No\n",
      "                                                                                 Sticky parameters......        No\n",
      "1\n",
      " \n",
      "\n",
      " \n",
      "\n",
      " Matrix statistics\n",
      " -----------------\n",
      "               Total      Normal        Free       Fixed     Bounded\n",
      " Rows              2           1           1           0           0\n",
      " Columns          56           0          56           0           0\n",
      "\n",
      " No. of matrix elements                   56     Density      50.000\n",
      " Biggest  constant element        0.0000E+00  (excluding fixed columns,\n",
      " Smallest constant element        0.0000E+00   free rows, and RHS)\n",
      "\n",
      " No. of objective coefficients             0\n",
      "\n",
      " Nonlinear constraints       1     Linear constraints       1\n",
      " Nonlinear variables        56     Linear variables         0\n",
      " Jacobian  variables        56     Objective variables     56\n",
      " Total constraints           2     Total variables         56\n",
      "1\n",
      " \n",
      "\n",
      " \n",
      " The user has defined     112   out of     112   first  derivatives\n",
      "\n",
      " Cheap test of user-supplied problem derivatives...\n",
      "\n",
      " The constraint gradients seem to be OK.\n",
      "\n",
      " -->  The largest discrepancy was    3.43E-03  in constraint    58\n",
      " \n",
      "\n",
      " The objective  gradients seem to be OK.\n",
      "\n",
      " Gradient projected in one direction   0.00000000000E+00\n",
      " Difference approximation              2.03236652755E-07\n",
      "1\n",
      " \n",
      " \n",
      "\n",
      "   Itns Major Minors    Step   nCon Feasible  Optimal  MeritFunction     L+U BSwap     nS condZHZ Penalty\n",
      "     23     0     23              1  8.5E-03  7.5E-03  0.0000000E+00       2           23 1.0E+05         _  r\n",
      "     24     1      1 2.9E-01      3  6.1E-03 (3.0E-04) 7.8136138E-05       2           23 4.2E+04 6.0E-01 _  r\n",
      "1\n",
      " \n",
      " SNOPTA EXIT  40 -- terminated after numerical difficulties\n",
      " SNOPTA INFO  43 -- cannot satisfy the general constraints\n",
      "\n",
      " Problem name                 drake_pr\n",
      " No. of iterations                  60   Objective            9.9887725113E-06\n",
      " No. of major iterations             2   Linear    obj. term  0.0000000000E+00\n",
      " Penalty parameter           6.046E-01   Nonlinear obj. term  9.9887725113E-06\n",
      " User function calls (total)        12\n",
      " No. of superbasics                 23   No. of basic nonlinears             1\n",
      " No. of degenerate steps             0   Percentage                       0.00\n",
      " Max x                      29 9.9E-01   Max pi                      2 1.0E+00\n",
      " Max Primal infeas           0 0.0E+00   Max Dual infeas            28 7.3E-02\n",
      " Nonlinear constraint violn    1.2E-02\n",
      "1\n",
      " \n",
      " Name           drake_pr                 Objective Value      9.9887725113E-06\n",
      "\n",
      " Status         Optimal Soln             Iteration     60    Superbasics    23\n",
      "\n",
      " Objective               (Min)\n",
      " RHS\n",
      " Ranges\n",
      " Bounds\n",
      "\n",
      " Section 1 - Rows\n",
      "\n",
      "  Number  ...Row.. State  ...Activity...  Slack Activity  ..Lower Limit.  ..Upper Limit.  .Dual Activity    ..i\n",
      " \n",
      "      57  r      1    BS          .               .                None            None         -1.0          1\n",
      "      58  r      2 N  UL         1.01206         0.01206           None          1.0             0.06041      2\n",
      "1\n",
      " \n",
      " Section 2 - Columns\n",
      "\n",
      "  Number  .Column. State  ...Activity...  .Obj Gradient.  ..Lower Limit.  ..Upper Limit.  Reduced Gradnt    m+j\n",
      " \n",
      "       1  x      1 A  FR         0.87451          .                None            None          0.00000      3\n",
      "       2  x      2 A  FR         0.04808          .                None            None         -0.00002      4\n",
      "       3  x      3 A  FR         0.03817          .                None            None         -0.00000      5\n",
      "       4  x      4 A  FR         0.48111          .                None            None          0.00000      6\n",
      "       5  x      5 A  FR         0.25279          .                None            None          0.00000      7\n",
      "       6  x      6 A  FR        -0.13438          .                None            None         -0.00001      8\n",
      "       7  x      7   SBS         0.81704         0.00001           None            None          0.00035      9\n",
      "       8  x      8 N SBS         0.98657         0.00008           None            None          0.00108     10\n",
      "       9  x      9 A  FR         0.03071          .                None            None         -0.00007     11\n",
      "      10  x     10 N SBS        -0.03537         0.00066           None            None          0.00934     12\n",
      "      11  x     11 N SBS         0.15649        -0.00033           None            None         -0.00469     13\n",
      "      12  x     12 N SBS         0.14127         0.00306           None            None          0.04321     14\n",
      "      13  x     13 N SBS         0.00302         0.00043           None            None          0.00606     15\n",
      "      14  x     14   SBS         0.83116        -0.00006           None            None         -0.00075     16\n",
      "      15  x     15 A  FR         0.85881          .                None            None          0.00000     17\n",
      "      16  x     16 A  FR        -0.00958          .                None            None          0.00000     18\n",
      "      17  x     17 A  FR         0.00344          .                None            None         -0.00000     19\n",
      "      18  x     18 A  FR        -0.51219          .                None            None         -0.00000     20\n",
      "      19  x     19 A  FR        -0.24758          .                None            None         -0.00000     21\n",
      "      20  x     20 A  FR         0.27714          .                None            None          0.00000     22\n",
      "      21  x     21 A  FR         0.82797          .                None            None          0.00003     23\n",
      "      22  x     22   SBS         0.89142         0.00005           None            None          0.00074     24\n",
      "      23  x     23 N SBS        -0.00503        -0.00021           None            None         -0.00337     25\n",
      "      24  x     24 N SBS        -0.04904         0.00090           None            None          0.01483     26\n",
      "      25  x     25   SBS        -0.45048        -0.00001           None            None         -0.00011     27\n",
      "      26  x     26 A  FR        -0.00443          .                None            None          0.00000     28\n",
      "      27  x     27 A  FR        -0.30189          .                None            None         -0.00000     29\n",
      "      28  x     28 N  BS         0.80760         0.00441           None            None          0.07294     30\n",
      "      29  x     29 A  FR         0.99247          .                None            None          0.00003     31\n",
      "      30  x     30   SBS        -0.03272        -0.00003           None            None         -0.00025     32\n",
      "      31  x     31 N SBS         0.02746        -0.00008           None            None         -0.00170     33\n",
      "      32  x     32 A  FR         0.11480          .                None            None          0.00007     34\n",
      "      33  x     33   SBS        -0.11208        -0.00005           None            None         -0.00072     35\n",
      "      34  x     34   SBS         0.01471        -0.00003           None            None         -0.00073     36\n",
      "      35  x     35 N SBS         0.83264        -0.00040           None            None         -0.00903     37\n",
      "      36  x     36 A  FR         0.83726          .                None            None          0.00001     38\n",
      "      37  x     37   SBS         0.01433        -0.00001           None            None         -0.00019     39\n",
      "      38  x     38 A  FR         0.02036          .                None            None         -0.00011     40\n",
      "      39  x     39 A  FR         0.54624          .                None            None          0.00000     41\n",
      "      40  x     40 A  FR        -0.47208          .                None            None         -0.00000     42\n",
      "      41  x     41 A  FR        -0.01756          .                None            None          0.00000     43\n",
      "      42  x     42 N SBS         0.82216         0.00008           None            None          0.00202     44\n",
      "      43  x     43 A  FR         0.93939          .                None            None         -0.00000     45\n",
      "      44  x     44 A  FR        -0.02733          .                None            None          0.00000     46\n",
      "      45  x     45 A  FR        -0.01299          .                None            None         -0.00000     47\n",
      "      46  x     46 A  FR        -0.34152          .                None            None         -0.00000     48\n",
      "      47  x     47 A  FR        -0.24468          .                None            None         -0.00002     49\n",
      "      48  x     48 A  FR        -0.12210          .                None            None         -0.00002     50\n",
      "      49  x     49 A  FR         0.83733          .                None            None          0.00001     51\n",
      "      50  x     50 A  FR         0.95131          .                None            None         -0.00001     52\n",
      "      51  x     51   SBS        -0.03994         0.00002           None            None         -0.00009     53\n",
      "      52  x     52 N SBS        -0.00649         0.00003           None            None          0.00100     54\n",
      "      53  x     53 A  FR        -0.30557          .                None            None         -0.00003     55\n",
      "      54  x     54 N SBS        -0.09462        -0.00301           None            None         -0.04248     56\n",
      "      55  x     55 N SBS         0.02126        -0.00040           None            None         -0.00530     57\n",
      "      56  x     56 N SBS         0.93376         0.00047           None            None          0.00989     58\n",
      "\n",
      "Initial trace log prob:  tensor(-31805.0816)\n"
     ]
    },
    {
     "name": "stdout",
     "output_type": "stream",
     "text": [
      "Connecting to meshcat-server at zmq_url=tcp://127.0.0.1:6007...\n",
      "You can open the visualizer by visiting the following URL:\n",
      "http://127.0.0.1:7007/static/\n",
      "Connected to meshcat-server.\n"
     ]
    },
    {
     "name": "stderr",
     "output_type": "stream",
     "text": [
      "Sample: 100%|██████████| 37/37 [01:18,  2.11s/it, step size=7.61e-04, acc. prob=0.928]\n"
     ]
    },
    {
     "name": "stdout",
     "output_type": "stream",
     "text": [
      "Initial trace log prob:  tensor(-2031.5735)\n",
      "Connecting to meshcat-server at zmq_url=tcp://127.0.0.1:6007...\n",
      "You can open the visualizer by visiting the following URL:\n",
      "http://127.0.0.1:7007/static/\n",
      "Connected to meshcat-server.\n"
     ]
    },
    {
     "name": "stderr",
     "output_type": "stream",
     "text": [
      "Sample: 100%|██████████| 37/37 [01:10,  1.90s/it, step size=1.11e-03, acc. prob=0.947]\n"
     ]
    },
    {
     "name": "stdout",
     "output_type": "stream",
     "text": [
      "Initial trace log prob:  tensor(-1498.3990)\n"
     ]
    },
    {
     "name": "stderr",
     "output_type": "stream",
     "text": [
      "\r",
      "Warmup:   0%|          | 0/37 [00:00, ?it/s]"
     ]
    },
    {
     "name": "stdout",
     "output_type": "stream",
     "text": [
      "Connecting to meshcat-server at zmq_url=tcp://127.0.0.1:6007...\n",
      "You can open the visualizer by visiting the following URL:\n",
      "http://127.0.0.1:7007/static/\n",
      "Connected to meshcat-server.\n"
     ]
    },
    {
     "name": "stderr",
     "output_type": "stream",
     "text": [
      "Sample: 100%|██████████| 37/37 [00:57,  1.56s/it, step size=9.56e-04, acc. prob=0.952]\n"
     ]
    }
   ],
   "source": [
    "# Produce dataset by sampling a bunch of environments.\n",
    "# Save grammar state dict\n",
    "state_dict_file = \"target_dataset_grammar_state_dict.torch\"\n",
    "print(\"Saving state dict to \", state_dict_file)\n",
    "torch.save(grammar.state_dict(), state_dict_file)\n",
    "# Try to collect a target number of examples, and save them out\n",
    "dataset_save_file = \"target_dataset_examples.pickle\"\n",
    "N = 100\n",
    "k = 0\n",
    "pbar = tqdm(total=N, desc=\"Samples\")\n",
    "while k < N:\n",
    "    tree, _ = sample_realistic_scene(grammar, constraints)\n",
    "    if tree is not None:\n",
    "        with open(dataset_save_file, \"a+b\") as f:\n",
    "            pickle.dump(tree, f)\n",
    "        k += 1\n",
    "        pbar.update(k)\n",
    "pbar.close()"
   ]
  },
  {
   "cell_type": "code",
   "execution_count": null,
   "metadata": {},
   "outputs": [],
   "source": [
    "print(tree.score())"
   ]
  },
  {
   "cell_type": "markdown",
   "metadata": {},
   "source": [
    "# Build sample population from various stages of em fitting process"
   ]
  },
  {
   "cell_type": "code",
   "execution_count": null,
   "metadata": {},
   "outputs": [],
   "source": [
    "fit_grammar = SpatialSceneGrammar(\n",
    "    root_node_type = Table,\n",
    "    root_node_tf = drake_tf_to_torch_tf(RigidTransform(p=[0.0, 0., 0.8]))\n",
    ")\n",
    "constraints = [\n",
    "    ObjectsOnTableConstraint(),\n",
    "    ObjectSpacingConstraint()\n",
    "]\n",
    "#fit_grammar.load_state_dict(torch.load(\"fit_grammar.torch\"))\n",
    "with open(\"fit_em.pickle\", \"rb\") as fp:\n",
    "    em = pickle.load(fp)\n",
    "fit_grammar.load_state_dict(em.grammar_iters[-1])"
   ]
  },
  {
   "cell_type": "code",
   "execution_count": null,
   "metadata": {},
   "outputs": [],
   "source": [
    "test_tree, _ = sample_realistic_scene(fit_grammar, constraints, seed=43)\n",
    "if test_tree is not None:\n",
    "    draw_scene_tree_contents_meshcat(test_tree, zmq_url=vis.window.zmq_url,  prefix=\"test_tree/contents\")\n",
    "    draw_scene_tree_structure_meshcat(test_tree, zmq_url=vis.window.zmq_url,  prefix=\"test_tree/structure\")"
   ]
  },
  {
   "cell_type": "code",
   "execution_count": null,
   "metadata": {},
   "outputs": [],
   "source": [
    "# This one saves out the pre-fit examples, and doesn't bother with physics,\n",
    "# since these samples are all over the place. It still does HMC to try to resolve\n",
    "# the basic constraints (for better comparison with post-fit)\n",
    "fit_grammar.load_state_dict(em.grammar_iters[0])\n",
    "SKIP_PHYSICS_CONSTRAINTS = True\n",
    "state_dict_file = \"pre_fit_grammar_state_dict.torch\"\n",
    "print(\"Saving state dict to \", state_dict_file)\n",
    "torch.save(fit_grammar.state_dict(), state_dict_file)\n",
    "# Try to collect a target number of examples, and save them out\n",
    "dataset_save_file = \"pre_fit_grammar_draws.pickle\"\n",
    "N = 50\n",
    "k = 0\n",
    "pbar = tqdm(total=N, desc=\"Samples\")\n",
    "while k < N:\n",
    "    print(k, N)\n",
    "    _, nonfeasible_tree = sample_realistic_scene(fit_grammar, constraints)\n",
    "    if nonfeasible_tree is not None:\n",
    "        with open(dataset_save_file, \"a+b\") as f:\n",
    "            pickle.dump((None, nonfeasible_tree), f)\n",
    "        k += 1\n",
    "        pbar.update(k)\n",
    "pbar.close()"
   ]
  },
  {
   "cell_type": "code",
   "execution_count": null,
   "metadata": {},
   "outputs": [],
   "source": [
    "# This one saves out the post-fit examples, before and after the physics projection step.\n",
    "SKIP_PHYSICS_CONSTRAINTS = True\n",
    "fit_grammar.load_state_dict(em.grammar_iters[-1])\n",
    "state_dict_file = \"post_fit_grammar_state_dict.torch\"\n",
    "print(\"Saving state dict to \", state_dict_file)\n",
    "torch.save(fit_grammar.state_dict(), state_dict_file)\n",
    "# Try to collect a target number of examples, and save them out\n",
    "dataset_save_file = \"post_fit_grammar_draws.pickle\"\n",
    "N = 50\n",
    "k = 0\n",
    "pbar = tqdm(total=N, desc=\"Samples\")\n",
    "while k < N:\n",
    "    feasible_tree, nonfeasible_tree = sample_realistic_scene(fit_grammar, constraints)\n",
    "    if feasible_tree is not None:\n",
    "        with open(dataset_save_file, \"a+b\") as f:\n",
    "            pickle.dump((feasible_tree, nonfeasible_tree), f)\n",
    "        k = k + 1\n",
    "        pbar.update(k)\n",
    "pbar.close()"
   ]
  }
 ],
 "metadata": {
  "kernelspec": {
   "display_name": "py36_pyro",
   "language": "python",
   "name": "py36_pyro"
  },
  "language_info": {
   "codemirror_mode": {
    "name": "ipython",
    "version": 3
   },
   "file_extension": ".py",
   "mimetype": "text/x-python",
   "name": "python",
   "nbconvert_exporter": "python",
   "pygments_lexer": "ipython3",
   "version": "3.6.13"
  }
 },
 "nbformat": 4,
 "nbformat_minor": 4
}
