{
 "cells": [
  {
   "cell_type": "code",
   "execution_count": 34,
   "metadata": {},
   "outputs": [
    {
     "name": "stdout",
     "output_type": "stream",
     "text": [
      "The autoreload extension is already loaded. To reload it, use:\n",
      "  %reload_ext autoreload\n"
     ]
    }
   ],
   "source": [
    "%load_ext autoreload\n",
    "%autoreload 2\n",
    "\n",
    "import matplotlib.pyplot as plt\n",
    "import networkx as nx\n",
    "import numpy as np\n",
    "import os\n",
    "import pickle\n",
    "import time\n",
    "from tqdm.notebook import tqdm\n",
    "\n",
    "import torch\n",
    "torch.set_default_tensor_type(torch.DoubleTensor)\n",
    "\n",
    "from spatial_scene_grammars.constraints import *\n",
    "from spatial_scene_grammars.nodes import *\n",
    "from spatial_scene_grammars.rules import *\n",
    "from spatial_scene_grammars.scene_grammar import *\n",
    "from spatial_scene_grammars.visualization import *\n",
    "from spatial_scene_grammars_examples.table.grammar import *\n",
    "from spatial_scene_grammars.parsing import *\n",
    "from spatial_scene_grammars.sampling import *\n",
    "from spatial_scene_grammars.parameter_estimation import *\n",
    "from spatial_scene_grammars.dataset import *\n",
    "\n",
    "import meshcat\n",
    "import meshcat.geometry as meshcat_geom"
   ]
  },
  {
   "cell_type": "code",
   "execution_count": 39,
   "metadata": {},
   "outputs": [
    {
     "name": "stdout",
     "output_type": "stream",
     "text": [
      "Meshcat url:  http://127.0.0.1:7007/static/\n"
     ]
    },
    {
     "data": {
      "text/plain": [
       "'\\nfrom IPython.display import HTML\\nHTML(\"\"\"\\n    <div style=\"height: 400px; width: 100%; overflow-x: auto; overflow-y: hidden; resize: both\">\\n    <iframe src=\"{url}\" style=\"width: 100%; height: 100%; border: none\"></iframe>\\n</div>\\n\"\"\".format(url=meshcat_url))\\n'"
      ]
     },
     "execution_count": 39,
     "metadata": {},
     "output_type": "execute_result"
    }
   ],
   "source": [
    "if 'vis' not in globals():\n",
    "    vis = meshcat.Visualizer()\n",
    "vis.delete()\n",
    "base_url = \"http://127.0.0.1\"\n",
    "meshcat_url = base_url + \":\" + vis.url().split(\":\")[-1]\n",
    "print(\"Meshcat url: \", meshcat_url)\n",
    "'''\n",
    "from IPython.display import HTML\n",
    "HTML(\"\"\"\n",
    "    <div style=\"height: 400px; width: 100%; overflow-x: auto; overflow-y: hidden; resize: both\">\n",
    "    <iframe src=\"{url}\" style=\"width: 100%; height: 100%; border: none\"></iframe>\n",
    "</div>\n",
    "\"\"\".format(url=meshcat_url))\n",
    "'''"
   ]
  },
  {
   "cell_type": "code",
   "execution_count": 64,
   "metadata": {},
   "outputs": [],
   "source": [
    "# Set up grammar\n",
    "grammar = SpatialSceneGrammar(\n",
    "    root_node_type = Table,\n",
    "    root_node_tf = drake_tf_to_torch_tf(RigidTransform(p=[0.0, 0., 0.8]))\n",
    ")\n",
    "\n",
    "# Single unconstrained draw\n",
    "torch.random.manual_seed(44)\n",
    "tree = grammar.sample_tree(detach=True)\n",
    "draw_scene_tree_contents_meshcat(tree, zmq_url=vis.window.zmq_url,  prefix=\"sample/contents\")\n",
    "draw_scene_tree_structure_meshcat(tree, zmq_url=vis.window.zmq_url,  prefix=\"sample/structure\", node_sphere_size=0.01,\n",
    "                                  linewidth=5)"
   ]
  },
  {
   "cell_type": "code",
   "execution_count": 30,
   "metadata": {},
   "outputs": [
    {
     "name": "stderr",
     "output_type": "stream",
     "text": [
      "\r",
      "Warmup:   0%|          | 0/30 [00:00, ?it/s]"
     ]
    },
    {
     "name": "stdout",
     "output_type": "stream",
     "text": [
      "Initial trace log prob:  tensor(60.7916)\n"
     ]
    },
    {
     "name": "stderr",
     "output_type": "stream",
     "text": [
      "Sample: 100%|██████████| 30/30 [00:24,  1.23it/s, step size=6.69e-03, acc. prob=0.803]\n"
     ]
    }
   ],
   "source": [
    "# Constraints\n",
    "class TablesInRoomConstraint(Constraint):\n",
    "    # XY coord of each table inside of [-5, 5]\n",
    "    def __init__(self):\n",
    "        lb = torch.tensor([-4., -4.])\n",
    "        ub = torch.tensor([4., 4.])\n",
    "        super().__init__(\n",
    "            lower_bound=lb,\n",
    "            upper_bound=ub\n",
    "        )\n",
    "    def eval(self, scene_tree):\n",
    "        xys = [node.translation[:2] for node in scene_tree.nodes if type(node) is Table]\n",
    "        if len(xys) > 0:\n",
    "            return torch.stack(xys, axis=0)\n",
    "        else:\n",
    "            return torch.empty(size=(0, 2))\n",
    "    def add_to_ik_prog(self, scene_tree, ik, mbp, mbp_context, node_to_free_body_ids_map):\n",
    "        raise NotImplementedError()\n",
    "\n",
    "class TableSpacingConstraint(Constraint):\n",
    "    # Table centers all a minimum distance apart. Distance is in squared\n",
    "    # euclidean distance space; for some reason, adding sqrt causes gradients\n",
    "    # to go NaN.\n",
    "    def __init__(self):\n",
    "        lb = torch.tensor([2.]).square()\n",
    "        ub = torch.tensor([np.inf])\n",
    "        super().__init__(\n",
    "            lower_bound=lb,\n",
    "            upper_bound=ub\n",
    "        )\n",
    "    def eval(self, scene_tree):\n",
    "        xys = [node.translation[:2] for node in scene_tree.nodes if type(node) is Table]\n",
    "        if len(xys) > 1:\n",
    "            xys = torch.stack(xys, axis=0) # N x 2\n",
    "            N = xys.shape[0]\n",
    "            xys_rowwise = xys.unsqueeze(1).expand(-1, N, -1)\n",
    "            xys_colwise = xys.unsqueeze(0).expand(N, -1, -1)\n",
    "            dists = (xys_rowwise - xys_colwise).square().sum(axis=-1)\n",
    "            # Get only lower triangular non-diagonal elems\n",
    "            rows, cols = torch.tril_indices(N, N, -1)\n",
    "            dists = dists[rows, cols].reshape(-1, 1)\n",
    "            return dists\n",
    "        else:\n",
    "            return torch.empty(size=(0, 1))\n",
    "    def add_to_ik_prog(self, scene_tree, ik, mbp, mbp_context, node_to_free_body_ids_map):\n",
    "        raise NotImplementedError()\n",
    "\n",
    "class ObjectsOnTableConstraint(Constraint):\n",
    "    def __init__(self):\n",
    "        lb = torch.tensor([-0.35, -0.35])\n",
    "        ub = torch.tensor([0.35, 0.35])\n",
    "        super().__init__(\n",
    "            lower_bound=lb,\n",
    "            upper_bound=ub\n",
    "        )\n",
    "    def eval(self, scene_tree):\n",
    "        tables = scene_tree.find_nodes_by_type(Table)\n",
    "        xys = [] # in parent table frame\n",
    "        for table in tables:\n",
    "            # Collect table children\n",
    "            objs = [node for node in scene_tree.get_children_recursive(table) if isinstance(node, ObjectModel)]\n",
    "            for obj in objs:\n",
    "                offset = torch.matmul(table.rotation.T, obj.translation - table.translation)[:2]\n",
    "                xys.append(offset)\n",
    "        if len(xys) > 0:\n",
    "            return torch.stack(xys, axis=0)\n",
    "        else:\n",
    "            return torch.empty(size=(0, 2))\n",
    "    def add_to_ik_prog(self, scene_tree, ik, mbp, mbp_context, node_to_free_body_ids_map):\n",
    "        raise NotImplementedError()\n",
    "\n",
    "class ObjectSpacingConstraint(Constraint):\n",
    "    # Objects all a minimum distance apart on tabletop\n",
    "    def __init__(self):\n",
    "        lb = torch.tensor([0.05]).square()\n",
    "        ub = torch.tensor([np.inf])\n",
    "        super().__init__(\n",
    "            lower_bound=lb,\n",
    "            upper_bound=ub\n",
    "        )\n",
    "    def eval(self, scene_tree):\n",
    "        tables = scene_tree.find_nodes_by_type(Table)\n",
    "        all_dists = []\n",
    "        for table in tables:\n",
    "            # Collect table children\n",
    "            objs = [node for node in scene_tree.get_children_recursive(table) if isinstance(node, ObjectModel)]\n",
    "            if len(objs) <= 1:\n",
    "                continue\n",
    "            xys = torch.stack([obj.translation[:2] for obj in objs], axis=0)\n",
    "            N = xys.shape[0]\n",
    "            xys_rowwise = xys.unsqueeze(1).expand(-1, N, -1)\n",
    "            xys_colwise = xys.unsqueeze(0).expand(N, -1, -1)\n",
    "            dists = (xys_rowwise - xys_colwise).square().sum(axis=-1)\n",
    "            # Get only lower triangular non-diagonal elems\n",
    "            rows, cols = torch.tril_indices(N, N, -1)\n",
    "            dists = dists[rows, cols].reshape(-1, 1)\n",
    "            all_dists.append(dists)\n",
    "        if len(all_dists) > 0:\n",
    "            return torch.cat(all_dists, axis=0)\n",
    "        else:\n",
    "            return torch.empty(size=(0, 1))\n",
    "    def add_to_ik_prog(self, scene_tree, ik, mbp, mbp_context, node_to_free_body_ids_map):\n",
    "        raise NotImplementedError()\n",
    "\n",
    "\n",
    "\n",
    "constraints = [\n",
    "    TablesInRoomConstraint(),\n",
    "    TableSpacingConstraint(),\n",
    "    ObjectsOnTableConstraint(),\n",
    "    ObjectSpacingConstraint()\n",
    "]\n",
    "hmc_tree = deepcopy(tree)\n",
    "samples = do_fixed_structure_hmc_with_constraint_penalties(\n",
    "    grammar, hmc_tree, num_samples=20, subsample_step=5,\n",
    "    with_nonpenetration=False, zmq_url=None,\n",
    "    constraints=constraints,\n",
    "    kernel_type=\"NUTS\", max_tree_depth=6, target_accept_prob=0.65\n",
    "    #kernel_type=\"HMC\", num_steps=1, step_size=1E-2 # Langevin-ish\n",
    ")"
   ]
  },
  {
   "cell_type": "code",
   "execution_count": null,
   "metadata": {},
   "outputs": [],
   "source": [
    "for k in range(4):\n",
    "    draw_scene_tree_contents_meshcat(samples[-k], zmq_url=vis.window.zmq_url,  prefix=\"contents/hmc_sample_%d\" % k)\n",
    "    draw_scene_tree_structure_meshcat(samples[-k], zmq_url=vis.window.zmq_url,  prefix=\"structure/hmc_sample_%d\" % k)"
   ]
  },
  {
   "cell_type": "code",
   "execution_count": null,
   "metadata": {},
   "outputs": [],
   "source": []
  },
  {
   "cell_type": "code",
   "execution_count": null,
   "metadata": {},
   "outputs": [],
   "source": []
  }
 ],
 "metadata": {
  "kernelspec": {
   "display_name": "Python 3",
   "language": "python",
   "name": "python3"
  },
  "language_info": {
   "codemirror_mode": {
    "name": "ipython",
    "version": 3
   },
   "file_extension": ".py",
   "mimetype": "text/x-python",
   "name": "python",
   "nbconvert_exporter": "python",
   "pygments_lexer": "ipython3",
   "version": "3.6.13"
  },
  "widgets": {
   "application/vnd.jupyter.widget-state+json": {
    "state": {},
    "version_major": 2,
    "version_minor": 0
   }
  }
 },
 "nbformat": 4,
 "nbformat_minor": 2
}
