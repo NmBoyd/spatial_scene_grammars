{
 "cells": [
  {
   "cell_type": "code",
   "execution_count": 1,
   "metadata": {},
   "outputs": [],
   "source": [
    "%load_ext autoreload\n",
    "%autoreload 2\n",
    "\n",
    "import matplotlib.pyplot as plt\n",
    "import networkx as nx\n",
    "import numpy as np\n",
    "import os\n",
    "import pickle\n",
    "import time\n",
    "from tqdm.notebook import tqdm\n",
    "\n",
    "import torch\n",
    "torch.set_default_tensor_type(torch.DoubleTensor)\n",
    "\n",
    "from spatial_scene_grammars.constraints import *\n",
    "from spatial_scene_grammars.nodes import *\n",
    "from spatial_scene_grammars.rules import *\n",
    "from spatial_scene_grammars.scene_grammar import *\n",
    "from spatial_scene_grammars.visualization import *\n",
    "from spatial_scene_grammars_examples.table.grammar import *\n",
    "from spatial_scene_grammars_examples.table.grammar_decoration import *\n",
    "from spatial_scene_grammars.parsing import *\n",
    "from spatial_scene_grammars.sampling import *\n",
    "from spatial_scene_grammars.parameter_estimation import *\n",
    "from spatial_scene_grammars.dataset import *\n",
    "\n",
    "from pydrake.all import Quaternion, RigidTransform\n",
    "\n",
    "import meshcat\n",
    "import meshcat.geometry as meshcat_geom"
   ]
  },
  {
   "cell_type": "code",
   "execution_count": 2,
   "metadata": {},
   "outputs": [
    {
     "name": "stdout",
     "output_type": "stream",
     "text": [
      "You can open the visualizer by visiting the following URL:\n",
      "http://127.0.0.1:7003/static/\n",
      "Meshcat url:  http://127.0.0.1:7003/static/\n"
     ]
    },
    {
     "data": {
      "text/plain": [
       "'\\nfrom IPython.display import HTML\\nHTML(\"\"\"\\n    <div style=\"height: 400px; width: 100%; overflow-x: auto; overflow-y: hidden; resize: both\">\\n    <iframe src=\"{url}\" style=\"width: 100%; height: 100%; border: none\"></iframe>\\n</div>\\n\"\"\".format(url=meshcat_url))\\n'"
      ]
     },
     "execution_count": 2,
     "metadata": {},
     "output_type": "execute_result"
    }
   ],
   "source": [
    "if 'vis' not in globals():\n",
    "    vis = meshcat.Visualizer()\n",
    "vis.delete()\n",
    "base_url = \"http://127.0.0.1\"\n",
    "meshcat_url = base_url + \":\" + vis.url().split(\":\")[-1]\n",
    "print(\"Meshcat url: \", meshcat_url)\n",
    "'''\n",
    "from IPython.display import HTML\n",
    "HTML(\"\"\"\n",
    "    <div style=\"height: 400px; width: 100%; overflow-x: auto; overflow-y: hidden; resize: both\">\n",
    "    <iframe src=\"{url}\" style=\"width: 100%; height: 100%; border: none\"></iframe>\n",
    "</div>\n",
    "\"\"\".format(url=meshcat_url))\n",
    "'''"
   ]
  },
  {
   "cell_type": "code",
   "execution_count": 3,
   "metadata": {},
   "outputs": [
    {
     "name": "stdout",
     "output_type": "stream",
     "text": [
      "Loaded 50 environments\n"
     ]
    }
   ],
   "source": [
    "trees_to_draw = []\n",
    "#with open(\"target_dataset_examples.pickle\", \"rb\") as f:\n",
    "#with open(\"structure_constraint_examples.pickle\", \"rb\") as f:\n",
    "#with open(\"pre_fit_grammar_draws.pickle\", \"rb\") as f:\n",
    "with open(\"post_fit_grammar_draws.pickle\", \"rb\") as f:\n",
    "#with open(\"baseline_post_fit_grammar_draws.pickle\", \"rb\") as f:\n",
    "    while 1:\n",
    "        try:\n",
    "            #trees_to_draw.append(pickle.load(f))\n",
    "            trees_to_draw.append(pickle.load(f)[0])\n",
    "        except EOFError:\n",
    "            break\n",
    "print(\"Loaded %d environments\" % len(trees_to_draw))\n",
    "trees_to_draw = trees_to_draw[:30]"
   ]
  },
  {
   "cell_type": "code",
   "execution_count": 36,
   "metadata": {},
   "outputs": [],
   "source": [
    "tree = trees_to_draw[0]\n",
    "\n",
    "# Using the set of decoration mapping rules, create a new set of decoration\n",
    "# nodes and recursively expand them by following their production rules. Add\n",
    "# these to scene tree and project the whole thing to feasibility with forward\n",
    "# sim.\n",
    "decorated_tree = deepcopy(tree)\n",
    "# Freeze existing stuff.\n",
    "for node in decorated_tree.nodes:\n",
    "    if node.physics_geometry_info is not None:\n",
    "        node.physics_geometry_info.fixed = True\n",
    "new_pairs = []\n",
    "for existing_type, new_type in decoration_mapping.items():\n",
    "    for existing_node in decorated_tree.nodes:\n",
    "        if isinstance(existing_node, existing_type):\n",
    "            new_node = new_type(existing_node.tf)\n",
    "            new_pairs.append((existing_node, new_node))\n",
    "expand_queue = []\n",
    "for existing_node, new_node in new_pairs:\n",
    "    # This node is *not* connected to its parent, since there is no\n",
    "    # rule on the parent for explaining this new node.\n",
    "    decorated_tree.add_node(new_node)\n",
    "    expand_queue.append(new_node)\n",
    "# Now do recursive expansion of any nodes we added.\n",
    "while len(expand_queue) > 0:\n",
    "    parent = expand_queue.pop(0)\n",
    "    # Ask node to sample its children.\n",
    "    children = parent.sample_children()\n",
    "    for child in children:\n",
    "        # Always use default params for the decoration nodes.\n",
    "        decorated_tree.add_node(child)\n",
    "        decorated_tree.add_edge(parent, child)\n",
    "        expand_queue.append(child)"
   ]
  },
  {
   "cell_type": "code",
   "execution_count": 37,
   "metadata": {},
   "outputs": [],
   "source": [
    "#draw_scene_tree_contents_meshcat(decorated_tree, zmq_url=vis.window.zmq_url,  prefix=\"tree/contents\")\n",
    "#draw_scene_tree_structure_meshcat(decorated_tree, zmq_url=vis.window.zmq_url,  prefix=\"tree/structure\",\n",
    "#                                  with_triad=True, linewidth=30, node_sphere_size=0.02)"
   ]
  },
  {
   "cell_type": "code",
   "execution_count": 38,
   "metadata": {},
   "outputs": [],
   "source": [
    "# Simulate forwards; everything but the new stuff should already be frozen.\n",
    "projected_tree = project_tree_to_feasibility(decorated_tree, do_forward_sim=True)"
   ]
  },
  {
   "cell_type": "code",
   "execution_count": 39,
   "metadata": {},
   "outputs": [],
   "source": [
    "draw_scene_tree_contents_meshcat(projected_tree, zmq_url=vis.window.zmq_url,  prefix=\"projected_tree/contents\")\n",
    "draw_scene_tree_structure_meshcat(projected_tree, zmq_url=vis.window.zmq_url,  prefix=\"projected_tree/structure\",\n",
    "                                  with_triad=True, linewidth=30, node_sphere_size=0.02)"
   ]
  },
  {
   "cell_type": "code",
   "execution_count": null,
   "metadata": {},
   "outputs": [],
   "source": []
  }
 ],
 "metadata": {
  "kernelspec": {
   "display_name": "py36_pyro",
   "language": "python",
   "name": "py36_pyro"
  },
  "language_info": {
   "codemirror_mode": {
    "name": "ipython",
    "version": 3
   },
   "file_extension": ".py",
   "mimetype": "text/x-python",
   "name": "python",
   "nbconvert_exporter": "python",
   "pygments_lexer": "ipython3",
   "version": "3.6.13"
  }
 },
 "nbformat": 4,
 "nbformat_minor": 4
}
