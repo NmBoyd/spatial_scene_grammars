{
 "cells": [
  {
   "cell_type": "code",
   "execution_count": 1,
   "metadata": {},
   "outputs": [
    {
     "name": "stdout",
     "output_type": "stream",
     "text": [
      "Generating from folder  models/plates_cups_and_bowls/plates\n",
      "models:plates_cups_and_bowls:plates:Threshold_Bistro_Ceramic_Dinner_Plate_Ruby_Ring :  <class 'spatial_scene_grammars_examples.restaurant.grammar.models:plates_cups_and_bowls:plates:Threshold_Bistro_Ceramic_Dinner_Plate_Ruby_Ring'>\n",
      "models:plates_cups_and_bowls:plates:Room_Essentials_Salad_Plate_Turquoise :  <class 'spatial_scene_grammars_examples.restaurant.grammar.models:plates_cups_and_bowls:plates:Room_Essentials_Salad_Plate_Turquoise'>\n",
      "models:plates_cups_and_bowls:plates:Ecoforms_Plant_Plate_S11Turquoise :  <class 'spatial_scene_grammars_examples.restaurant.grammar.models:plates_cups_and_bowls:plates:Ecoforms_Plant_Plate_S11Turquoise'>\n",
      "models:plates_cups_and_bowls:plates:Ecoforms_Plate_S20Avocado :  <class 'spatial_scene_grammars_examples.restaurant.grammar.models:plates_cups_and_bowls:plates:Ecoforms_Plate_S20Avocado'>\n",
      "Generating from folder  models/plates_cups_and_bowls/cups\n",
      "models:plates_cups_and_bowls:cups:Threshold_Porcelain_Coffee_Mug_All_Over_Bead_White :  <class 'spatial_scene_grammars_examples.restaurant.grammar.models:plates_cups_and_bowls:cups:Threshold_Porcelain_Coffee_Mug_All_Over_Bead_White'>\n",
      "models:plates_cups_and_bowls:cups:Plastic_Cup :  <class 'spatial_scene_grammars_examples.restaurant.grammar.models:plates_cups_and_bowls:cups:Plastic_Cup'>\n",
      "models:plates_cups_and_bowls:cups:Cole_Hardware_Mug_Classic_Blue :  <class 'spatial_scene_grammars_examples.restaurant.grammar.models:plates_cups_and_bowls:cups:Cole_Hardware_Mug_Classic_Blue'>\n",
      "models:plates_cups_and_bowls:cups:Room_Essentials_Mug_White_Yellow :  <class 'spatial_scene_grammars_examples.restaurant.grammar.models:plates_cups_and_bowls:cups:Room_Essentials_Mug_White_Yellow'>\n",
      "Generating from folder  models/plates_cups_and_bowls/utensils\n",
      "models:plates_cups_and_bowls:utensils:fork :  <class 'spatial_scene_grammars_examples.restaurant.grammar.models:plates_cups_and_bowls:utensils:fork'>\n"
     ]
    }
   ],
   "source": [
    "%load_ext autoreload\n",
    "%autoreload 2\n",
    "\n",
    "import matplotlib.pyplot as plt\n",
    "import networkx as nx\n",
    "import numpy as np\n",
    "import os\n",
    "import pickle\n",
    "import time\n",
    "from tqdm.notebook import tqdm\n",
    "\n",
    "import torch\n",
    "torch.set_default_tensor_type(torch.DoubleTensor)\n",
    "\n",
    "from spatial_scene_grammars.constraints import *\n",
    "from spatial_scene_grammars.nodes import *\n",
    "from spatial_scene_grammars.rules import *\n",
    "from spatial_scene_grammars.scene_grammar import *\n",
    "from spatial_scene_grammars.visualization import *\n",
    "from spatial_scene_grammars_examples.restaurant.grammar import *\n",
    "from spatial_scene_grammars.parsing import *\n",
    "from spatial_scene_grammars.sampling import *\n",
    "from spatial_scene_grammars.parameter_estimation import *\n",
    "from spatial_scene_grammars.dataset import *\n",
    "\n",
    "import meshcat\n",
    "import meshcat.geometry as meshcat_geom"
   ]
  },
  {
   "cell_type": "code",
   "execution_count": 2,
   "metadata": {},
   "outputs": [
    {
     "name": "stdout",
     "output_type": "stream",
     "text": [
      "You can open the visualizer by visiting the following URL:\n",
      "http://127.0.0.1:7002/static/\n",
      "Meshcat url:  http://127.0.0.1:7002/static/\n"
     ]
    },
    {
     "data": {
      "text/plain": [
       "'\\nfrom IPython.display import HTML\\nHTML(\"\"\"\\n    <div style=\"height: 400px; width: 100%; overflow-x: auto; overflow-y: hidden; resize: both\">\\n    <iframe src=\"{url}\" style=\"width: 100%; height: 100%; border: none\"></iframe>\\n</div>\\n\"\"\".format(url=meshcat_url))\\n'"
      ]
     },
     "execution_count": 2,
     "metadata": {},
     "output_type": "execute_result"
    }
   ],
   "source": [
    "if 'vis' not in globals():\n",
    "    vis = meshcat.Visualizer()\n",
    "vis.delete()\n",
    "base_url = \"http://127.0.0.1\"\n",
    "meshcat_url = base_url + \":\" + vis.url().split(\":\")[-1]\n",
    "print(\"Meshcat url: \", meshcat_url)\n",
    "'''\n",
    "from IPython.display import HTML\n",
    "HTML(\"\"\"\n",
    "    <div style=\"height: 400px; width: 100%; overflow-x: auto; overflow-y: hidden; resize: both\">\n",
    "    <iframe src=\"{url}\" style=\"width: 100%; height: 100%; border: none\"></iframe>\n",
    "</div>\n",
    "\"\"\".format(url=meshcat_url))\n",
    "'''"
   ]
  },
  {
   "cell_type": "code",
   "execution_count": 3,
   "metadata": {},
   "outputs": [
    {
     "name": "stderr",
     "output_type": "stream",
     "text": [
      "WARNING:root:Detaching BinghamDistribution parameters.\n",
      "WARNING:root:Prior over parameters of WorldFrameBinghamRotationRule are Deltas.\n"
     ]
    }
   ],
   "source": [
    "# Set up grammar\n",
    "grammar = SpatialSceneGrammar(\n",
    "    root_node_type = Restaurant,\n",
    "    root_node_tf = drake_tf_to_torch_tf(RigidTransform(p=[0.5, 0., 0.]))\n",
    ")"
   ]
  },
  {
   "cell_type": "code",
   "execution_count": 4,
   "metadata": {},
   "outputs": [
    {
     "name": "stderr",
     "output_type": "stream",
     "text": [
      "[2021-10-02 22:47:47.162] [console] [warning] FindResource ignoring DRAKE_RESOURCE_ROOT='/home/gizatt/drake' because it does not contain a 'drake' subdirectory.\n"
     ]
    },
    {
     "name": "stdout",
     "output_type": "stream",
     "text": [
      "Hashed to  8582718954166209156\n",
      "Hashed to  5627450421532305113\n",
      "Hashed to  5508224886310018529\n",
      "Hashed to  5667577609026173632\n",
      "Hashed to  -7669221360013494326\n",
      "Hashed to  5508224886310018529\n",
      "Hashed to  5627450421532305113\n",
      "Hashed to  5627450421532305113\n",
      "Hashed to  5508224886310018529\n",
      "Hashed to  5627450421532305113\n",
      "Hashed to  5627450421532305113\n",
      "Hashed to  -8605027120741925205\n",
      "Hashed to  8785377224278610461\n",
      "Hashed to  5508224886310018529\n",
      "Hashed to  8785377224278610461\n",
      "Hashed to  -7669221360013494326\n",
      "Hashed to  5627450421532305113\n"
     ]
    }
   ],
   "source": [
    "# Single unconstrained draw\n",
    "torch.random.manual_seed(43)\n",
    "tree = grammar.sample_tree(detach=True)\n",
    "draw_scene_tree_contents_meshcat(tree, zmq_url=vis.window.zmq_url,  prefix=\"contents/sample\")\n",
    "draw_scene_tree_structure_meshcat(tree, zmq_url=vis.window.zmq_url,  prefix=\"structure/sample\")"
   ]
  },
  {
   "cell_type": "code",
   "execution_count": 5,
   "metadata": {},
   "outputs": [
    {
     "name": "stderr",
     "output_type": "stream",
     "text": [
      "WARNING:root:validate_sample disabled in UniformWithEqualityHandling\n",
      "WARNING:root:validate_sample disabled in UniformWithEqualityHandling\n",
      "WARNING:root:validate_sample disabled in UniformWithEqualityHandling\n",
      "WARNING:root:validate_sample disabled in UniformWithEqualityHandling\n",
      "WARNING:root:validate_sample disabled in UniformWithEqualityHandling\n",
      "WARNING:root:validate_sample disabled in UniformWithEqualityHandling\n",
      "WARNING:root:validate_sample disabled in UniformWithEqualityHandling\n",
      "WARNING:root:validate_sample disabled in UniformWithEqualityHandling\n",
      "WARNING:root:validate_sample disabled in UniformWithEqualityHandling\n",
      "WARNING:root:validate_sample disabled in UniformWithEqualityHandling\n",
      "WARNING:root:validate_sample disabled in UniformWithEqualityHandling\n",
      "WARNING:root:validate_sample disabled in UniformWithEqualityHandling\n",
      "WARNING:root:validate_sample disabled in UniformWithEqualityHandling\n",
      "WARNING:root:validate_sample disabled in UniformWithEqualityHandling\n",
      "WARNING:root:validate_sample disabled in UniformWithEqualityHandling\n",
      "WARNING:root:validate_sample disabled in UniformWithEqualityHandling\n",
      "Warmup:   0%|          | 0/30 [00:00, ?it/s]WARNING:root:NormalizeWithPseudoInverse LogAbsDet is super sketchy\n"
     ]
    },
    {
     "name": "stdout",
     "output_type": "stream",
     "text": [
      "Initial trace log prob:  tensor(-2033.5392)\n"
     ]
    },
    {
     "name": "stderr",
     "output_type": "stream",
     "text": [
      "Sample: 100%|██████████| 30/30 [01:28,  2.94s/it, step size=4.01e-03, acc. prob=0.870]\n"
     ]
    }
   ],
   "source": [
    "# Constraints\n",
    "class TablesInRoomConstraint(Constraint):\n",
    "    # XY coord of each table inside of [-5, 5]\n",
    "    def __init__(self):\n",
    "        lb = torch.tensor([-4., -4.])\n",
    "        ub = torch.tensor([4., 4.])\n",
    "        super().__init__(\n",
    "            lower_bound=lb,\n",
    "            upper_bound=ub\n",
    "        )\n",
    "    def eval(self, scene_tree):\n",
    "        xys = [node.translation[:2] for node in scene_tree.nodes if type(node) is Table]\n",
    "        if len(xys) > 0:\n",
    "            return torch.stack(xys, axis=0)\n",
    "        else:\n",
    "            return torch.empty(size=(0, 2))\n",
    "    def add_to_ik_prog(self, scene_tree, ik, mbp, mbp_context, node_to_free_body_ids_map):\n",
    "        raise NotImplementedError()\n",
    "\n",
    "class TableSpacingConstraint(Constraint):\n",
    "    # Table centers all a minimum distance apart. Distance is in squared\n",
    "    # euclidean distance space; for some reason, adding sqrt causes gradients\n",
    "    # to go NaN.\n",
    "    def __init__(self):\n",
    "        lb = torch.tensor([2.]).square()\n",
    "        ub = torch.tensor([np.inf])\n",
    "        super().__init__(\n",
    "            lower_bound=lb,\n",
    "            upper_bound=ub\n",
    "        )\n",
    "    def eval(self, scene_tree):\n",
    "        xys = [node.translation[:2] for node in scene_tree.nodes if type(node) is Table]\n",
    "        if len(xys) > 1:\n",
    "            xys = torch.stack(xys, axis=0) # N x 2\n",
    "            N = xys.shape[0]\n",
    "            xys_rowwise = xys.unsqueeze(1).expand(-1, N, -1)\n",
    "            xys_colwise = xys.unsqueeze(0).expand(N, -1, -1)\n",
    "            dists = (xys_rowwise - xys_colwise).square().sum(axis=-1)\n",
    "            # Get only lower triangular non-diagonal elems\n",
    "            rows, cols = torch.tril_indices(N, N, -1)\n",
    "            dists = dists[rows, cols].reshape(-1, 1)\n",
    "            return dists\n",
    "        else:\n",
    "            return torch.empty(size=(0, 1))\n",
    "    def add_to_ik_prog(self, scene_tree, ik, mbp, mbp_context, node_to_free_body_ids_map):\n",
    "        raise NotImplementedError()\n",
    "\n",
    "class ObjectsOnTableConstraint(Constraint):\n",
    "    def __init__(self):\n",
    "        lb = torch.tensor([-0.35, -0.35])\n",
    "        ub = torch.tensor([0.35, 0.35])\n",
    "        super().__init__(\n",
    "            lower_bound=lb,\n",
    "            upper_bound=ub\n",
    "        )\n",
    "    def eval(self, scene_tree):\n",
    "        tables = scene_tree.find_nodes_by_type(Table)\n",
    "        xys = [] # in parent table frame\n",
    "        for table in tables:\n",
    "            # Collect table children\n",
    "            objs = [node for node in scene_tree.get_children_recursive(table) if isinstance(node, ObjectModel)]\n",
    "            for obj in objs:\n",
    "                offset = torch.matmul(table.rotation.T, obj.translation - table.translation)[:2]\n",
    "                xys.append(offset)\n",
    "        if len(xys) > 0:\n",
    "            return torch.stack(xys, axis=0)\n",
    "        else:\n",
    "            return torch.empty(size=(0, 2))\n",
    "    def add_to_ik_prog(self, scene_tree, ik, mbp, mbp_context, node_to_free_body_ids_map):\n",
    "        raise NotImplementedError()\n",
    "\n",
    "class ObjectSpacingConstraint(Constraint):\n",
    "    # Objects all a minimum distance apart on tabletop\n",
    "    def __init__(self):\n",
    "        lb = torch.tensor([0.05]).square()\n",
    "        ub = torch.tensor([np.inf])\n",
    "        super().__init__(\n",
    "            lower_bound=lb,\n",
    "            upper_bound=ub\n",
    "        )\n",
    "    def eval(self, scene_tree):\n",
    "        tables = scene_tree.find_nodes_by_type(Table)\n",
    "        all_dists = []\n",
    "        for table in tables:\n",
    "            # Collect table children\n",
    "            objs = [node for node in scene_tree.get_children_recursive(table) if isinstance(node, ObjectModel)]\n",
    "            if len(objs) <= 1:\n",
    "                continue\n",
    "            xys = torch.stack([obj.translation[:2] for obj in objs], axis=0)\n",
    "            N = xys.shape[0]\n",
    "            xys_rowwise = xys.unsqueeze(1).expand(-1, N, -1)\n",
    "            xys_colwise = xys.unsqueeze(0).expand(N, -1, -1)\n",
    "            dists = (xys_rowwise - xys_colwise).square().sum(axis=-1)\n",
    "            # Get only lower triangular non-diagonal elems\n",
    "            rows, cols = torch.tril_indices(N, N, -1)\n",
    "            dists = dists[rows, cols].reshape(-1, 1)\n",
    "            all_dists.append(dists)\n",
    "        if len(all_dists) > 0:\n",
    "            return torch.cat(all_dists, axis=0)\n",
    "        else:\n",
    "            return torch.empty(size=(0, 1))\n",
    "    def add_to_ik_prog(self, scene_tree, ik, mbp, mbp_context, node_to_free_body_ids_map):\n",
    "        raise NotImplementedError()\n",
    "\n",
    "\n",
    "\n",
    "constraints = [\n",
    "    TablesInRoomConstraint(),\n",
    "    TableSpacingConstraint(),\n",
    "    ObjectsOnTableConstraint(),\n",
    "    ObjectSpacingConstraint()\n",
    "]\n",
    "hmc_tree = deepcopy(tree)\n",
    "samples = do_fixed_structure_hmc_with_constraint_penalties(\n",
    "    grammar, hmc_tree, num_samples=20, subsample_step=5,\n",
    "    with_nonpenetration=False, zmq_url=None,\n",
    "    constraints=constraints,\n",
    "    kernel_type=\"NUTS\", max_tree_depth=6, target_accept_prob=0.65\n",
    "    #kernel_type=\"HMC\", num_steps=1, step_size=1E-2 # Langevin-ish\n",
    ")"
   ]
  },
  {
   "cell_type": "code",
   "execution_count": null,
   "metadata": {},
   "outputs": [],
   "source": [
    "for k in range(4):\n",
    "    draw_scene_tree_contents_meshcat(samples[-k], zmq_url=vis.window.zmq_url,  prefix=\"contents/hmc_sample_%d\" % k)\n",
    "    draw_scene_tree_structure_meshcat(samples[-k], zmq_url=vis.window.zmq_url,  prefix=\"structure/hmc_sample_%d\" % k)"
   ]
  },
  {
   "cell_type": "code",
   "execution_count": null,
   "metadata": {},
   "outputs": [],
   "source": []
  }
 ],
 "metadata": {
  "kernelspec": {
   "display_name": "Python 3",
   "language": "python",
   "name": "python3"
  },
  "language_info": {
   "codemirror_mode": {
    "name": "ipython",
    "version": 3
   },
   "file_extension": ".py",
   "mimetype": "text/x-python",
   "name": "python",
   "nbconvert_exporter": "python",
   "pygments_lexer": "ipython3",
   "version": "3.6.10"
  },
  "widgets": {
   "application/vnd.jupyter.widget-state+json": {
    "state": {},
    "version_major": 2,
    "version_minor": 0
   }
  }
 },
 "nbformat": 4,
 "nbformat_minor": 2
}
