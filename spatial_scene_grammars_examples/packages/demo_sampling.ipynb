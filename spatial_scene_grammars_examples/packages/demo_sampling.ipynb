{
 "cells": [
  {
   "cell_type": "code",
   "execution_count": 1,
   "metadata": {},
   "outputs": [
    {
     "name": "stdout",
     "output_type": "stream",
     "text": [
      "Generating from folder  boxes\n",
      "boxes:box_1159 :  <class 'spatial_scene_grammars_examples.packages.all_observable_grammar.boxes:box_1159'>\n",
      "boxes:box_0968 :  <class 'spatial_scene_grammars_examples.packages.all_observable_grammar.boxes:box_0968'>\n",
      "boxes:box_1265 :  <class 'spatial_scene_grammars_examples.packages.all_observable_grammar.boxes:box_1265'>\n",
      "boxes:box_0010 :  <class 'spatial_scene_grammars_examples.packages.all_observable_grammar.boxes:box_0010'>\n",
      "boxes:box_0765 :  <class 'spatial_scene_grammars_examples.packages.all_observable_grammar.boxes:box_0765'>\n"
     ]
    }
   ],
   "source": [
    "%load_ext autoreload\n",
    "%autoreload 2\n",
    "\n",
    "import matplotlib.pyplot as plt\n",
    "import networkx as nx\n",
    "import numpy as np\n",
    "import os\n",
    "import pickle\n",
    "import time\n",
    "from tqdm.notebook import tqdm\n",
    "\n",
    "import torch\n",
    "torch.set_default_tensor_type(torch.DoubleTensor)\n",
    "\n",
    "from spatial_scene_grammars.nodes import *\n",
    "from spatial_scene_grammars.rules import *\n",
    "from spatial_scene_grammars.scene_grammar import *\n",
    "from spatial_scene_grammars.visualization import *\n",
    "from spatial_scene_grammars_examples.packages.all_observable_grammar import *\n",
    "from spatial_scene_grammars.parsing import *\n",
    "from spatial_scene_grammars.sampling import *\n",
    "from spatial_scene_grammars.parameter_estimation import *\n",
    "from spatial_scene_grammars.dataset import *\n",
    "\n",
    "import meshcat\n",
    "import meshcat.geometry as meshcat_geom"
   ]
  },
  {
   "cell_type": "code",
   "execution_count": 2,
   "metadata": {
    "scrolled": true
   },
   "outputs": [
    {
     "name": "stdout",
     "output_type": "stream",
     "text": [
      "You can open the visualizer by visiting the following URL:\n",
      "http://127.0.0.1:7000/static/\n",
      "Meshcat url:  http://127.0.0.1:7000/static/\n"
     ]
    },
    {
     "data": {
      "text/html": [
       "\n",
       "    <div style=\"height: 400px; width: 100%; overflow-x: auto; overflow-y: hidden; resize: both\">\n",
       "    <iframe src=\"http://127.0.0.1:7000/static/\" style=\"width: 100%; height: 100%; border: none\"></iframe>\n",
       "</div>\n"
      ],
      "text/plain": [
       "<IPython.core.display.HTML object>"
      ]
     },
     "execution_count": 2,
     "metadata": {},
     "output_type": "execute_result"
    }
   ],
   "source": [
    "if 'vis' not in globals():\n",
    "    vis = meshcat.Visualizer()\n",
    "vis.delete()\n",
    "base_url = \"http://127.0.0.1\"\n",
    "meshcat_url = base_url + \":\" + vis.url().split(\":\")[-1]\n",
    "print(\"Meshcat url: \", meshcat_url)\n",
    "from IPython.display import HTML\n",
    "HTML(\"\"\"\n",
    "    <div style=\"height: 400px; width: 100%; overflow-x: auto; overflow-y: hidden; resize: both\">\n",
    "    <iframe src=\"{url}\" style=\"width: 100%; height: 100%; border: none\"></iframe>\n",
    "</div>\n",
    "\"\"\".format(url=meshcat_url))"
   ]
  },
  {
   "cell_type": "code",
   "execution_count": 3,
   "metadata": {},
   "outputs": [
    {
     "name": "stderr",
     "output_type": "stream",
     "text": [
      "WARNING:root:Detaching BinghamDistribution parameters.\n",
      "WARNING:root:Prior over parameters of WorldFrameBinghamRotationRule are Deltas.\n",
      "[2021-09-29 23:34:44.780] [console] [warning] FindResource ignoring DRAKE_RESOURCE_ROOT='/home/gizatt/drake' because it does not contain a 'drake' subdirectory.\n"
     ]
    }
   ],
   "source": [
    "# Draw a random sample from the grammar with its initial params and visualize it.\n",
    "#torch.random.manual_seed(5)\n",
    "\n",
    "torch.random.manual_seed(46)\n",
    "grammar = SpatialSceneGrammar(\n",
    "    root_node_type = BoxGroup,\n",
    "    root_node_tf = drake_tf_to_torch_tf(RigidTransform(p=[0.0, 0., 0.]))\n",
    ")\n",
    "\n",
    "pre_projection_tree = grammar.sample_tree(detach=True)\n",
    "nlp_projected_tree = project_tree_to_feasibility(deepcopy(pre_projection_tree), jitter_q=0.01)\n",
    "tree = project_tree_to_feasibility(deepcopy(pre_projection_tree), do_forward_sim=True, zmq_url=vis.window.zmq_url)\n",
    "\n",
    "vis[\"sample\"].delete()\n",
    "draw_scene_tree_contents_meshcat(pre_projection_tree, zmq_url=vis.window.zmq_url, prefix=\"sample/pre_projected/contents\")\n",
    "draw_scene_tree_structure_meshcat(pre_projection_tree, zmq_url=vis.window.zmq_url, prefix=\"sample/pre_projected/structure\")\n",
    "\n",
    "draw_scene_tree_contents_meshcat(nlp_projected_tree, zmq_url=vis.window.zmq_url, prefix=\"sample/nlp_projected/contents\")\n",
    "draw_scene_tree_structure_meshcat(nlp_projected_tree, zmq_url=vis.window.zmq_url, prefix=\"sample/nlp_projected/structure\")\n",
    "\n",
    "draw_scene_tree_contents_meshcat(tree, zmq_url=vis.window.zmq_url, prefix=\"sample/sim_projected/contents\")\n",
    "draw_scene_tree_structure_meshcat(tree, zmq_url=vis.window.zmq_url, prefix=\"sample/sim_projected/structure\")"
   ]
  },
  {
   "cell_type": "code",
   "execution_count": 4,
   "metadata": {},
   "outputs": [],
   "source": [
    "#samples = do_fixed_structure_hmc_with_constraint_penalties(\n",
    "#    grammar, tree, num_samples=100, subsample_step=2,\n",
    "#    with_nonpenetration=True, zmq_url=vis.window.zmq_url\n",
    "#)"
   ]
  },
  {
   "cell_type": "code",
   "execution_count": 5,
   "metadata": {},
   "outputs": [],
   "source": [
    "#for k, tree in enumerate(samples):\n",
    "#    draw_scene_tree_contents_meshcat(tree, zmq_url=vis.window.zmq_url, prefix=\"samples/contents/%d/structure\" % k)\n",
    "#    draw_scene_tree_structure_meshcat(tree, zmq_url=vis.window.zmq_url, prefix=\"samples/structure/%d/structure\" % k)"
   ]
  },
  {
   "cell_type": "markdown",
   "metadata": {},
   "source": [
    "# Simulated langevin"
   ]
  },
  {
   "cell_type": "code",
   "execution_count": null,
   "metadata": {},
   "outputs": [],
   "source": [
    "simulation_tree = deepcopy(tree)\n",
    "builder, mbp, scene_graph, node_to_free_body_ids_map, body_id_to_node_map = compile_scene_tree_to_mbp_and_sg(simulation_tree)\n",
    "mbp.Finalize()\n",
    "\n",
    "visualizer = ConnectMeshcatVisualizer(builder, scene_graph,\n",
    "    zmq_url=vis.window.zmq_url, prefix=\"simulation\")\n",
    "\n",
    "langevin_source = builder.AddSystem(\n",
    "    StochasticLangevinForceSource(mbp, simulation_tree, node_to_free_body_ids_map, body_id_to_node_map)\n",
    ")\n",
    "builder.Connect(mbp.get_state_output_port(),\n",
    "                langevin_source.get_input_port(0))\n",
    "builder.Connect(langevin_source.get_output_port(0),\n",
    "                mbp.get_applied_spatial_force_input_port())\n",
    "\n",
    "diagram = builder.Build()\n",
    "diag_context = diagram.CreateDefaultContext()\n",
    "sim = Simulator(diagram)\n",
    "sim.set_target_realtime_rate(1.)\n",
    "visualizer.start_recording()\n",
    "sim.AdvanceTo(5.)\n",
    "visualizer.stop_recording()\n",
    "visualizer.publish_recording(play=True, repetitions=1)"
   ]
  }
 ],
 "metadata": {
  "kernelspec": {
   "display_name": "py36_pyro",
   "language": "python",
   "name": "py36_pyro"
  },
  "language_info": {
   "codemirror_mode": {
    "name": "ipython",
    "version": 3
   },
   "file_extension": ".py",
   "mimetype": "text/x-python",
   "name": "python",
   "nbconvert_exporter": "python",
   "pygments_lexer": "ipython3",
   "version": "3.6.13"
  }
 },
 "nbformat": 4,
 "nbformat_minor": 2
}
