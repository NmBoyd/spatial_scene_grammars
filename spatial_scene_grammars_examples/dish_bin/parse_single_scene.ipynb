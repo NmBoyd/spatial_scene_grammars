{
 "cells": [
  {
   "cell_type": "code",
   "execution_count": 7,
   "metadata": {},
   "outputs": [
    {
     "name": "stdout",
     "output_type": "stream",
     "text": [
      "The autoreload extension is already loaded. To reload it, use:\n",
      "  %reload_ext autoreload\n"
     ]
    }
   ],
   "source": [
    "%load_ext autoreload\n",
    "%autoreload 2\n",
    "\n",
    "import matplotlib.pyplot as plt\n",
    "import networkx as nx\n",
    "import numpy as np\n",
    "import os\n",
    "import pickle\n",
    "import time\n",
    "from tqdm.notebook import tqdm\n",
    "import logging\n",
    "logger = logging.getLogger()\n",
    "logger.setLevel(logging.DEBUG)\n",
    "\n",
    "import torch\n",
    "torch.set_default_tensor_type(torch.DoubleTensor)\n",
    "\n",
    "from spatial_scene_grammars.nodes import *\n",
    "from spatial_scene_grammars.rules import *\n",
    "from spatial_scene_grammars.scene_grammar import *\n",
    "from spatial_scene_grammars.visualization import *\n",
    "from spatial_scene_grammars_examples.dish_bin.grammar import *\n",
    "from spatial_scene_grammars.parsing import *\n",
    "from spatial_scene_grammars.sampling import *\n",
    "from spatial_scene_grammars.parameter_estimation import *\n",
    "from spatial_scene_grammars.dataset import *\n",
    "\n",
    "from utils import get_observed_node_sets\n",
    "\n",
    "import meshcat\n",
    "import meshcat.geometry as meshcat_geom"
   ]
  },
  {
   "cell_type": "code",
   "execution_count": 54,
   "metadata": {},
   "outputs": [
    {
     "name": "stdout",
     "output_type": "stream",
     "text": [
      "3  bowl models\n",
      "3  cup models\n",
      "4  plate models\n"
     ]
    }
   ],
   "source": [
    "print(len(BowlModels), \" bowl models\")\n",
    "print(len(CupModels), \" cup models\")\n",
    "print(len(PlateModels), \" plate models\")"
   ]
  },
  {
   "cell_type": "code",
   "execution_count": 21,
   "metadata": {},
   "outputs": [
    {
     "name": "stdout",
     "output_type": "stream",
     "text": [
      "Meshcat url:  http://127.0.0.1:7005/static/\n"
     ]
    },
    {
     "data": {
      "text/plain": [
       "'\\nfrom IPython.display import HTML\\nHTML(\"\"\"\\n    <div style=\"height: 400px; width: 100%; overflow-x: auto; overflow-y: hidden; resize: both\">\\n    <iframe src=\"{url}\" style=\"width: 100%; height: 100%; border: none\"></iframe>\\n</div>\\n\"\"\".format(url=meshcat_url))\\n'"
      ]
     },
     "execution_count": 21,
     "metadata": {},
     "output_type": "execute_result"
    }
   ],
   "source": [
    "if 'vis' not in globals():\n",
    "    vis = meshcat.Visualizer()\n",
    "vis.delete()\n",
    "base_url = \"http://127.0.0.1\"\n",
    "meshcat_url = base_url + \":\" + vis.url().split(\":\")[-1]\n",
    "print(\"Meshcat url: \", meshcat_url)\n",
    "'''\n",
    "from IPython.display import HTML\n",
    "HTML(\"\"\"\n",
    "    <div style=\"height: 400px; width: 100%; overflow-x: auto; overflow-y: hidden; resize: both\">\n",
    "    <iframe src=\"{url}\" style=\"width: 100%; height: 100%; border: none\"></iframe>\n",
    "</div>\n",
    "\"\"\".format(url=meshcat_url))\n",
    "'''"
   ]
  },
  {
   "cell_type": "code",
   "execution_count": 22,
   "metadata": {},
   "outputs": [
    {
     "name": "stderr",
     "output_type": "stream",
     "text": [
      "DEBUG:root:Saving observed_node_sets.dat\n",
      "DEBUG:root:Loading observed_node_sets.dat\n",
      "DEBUG:root:Saving observed_outlier_node_sets.dat\n",
      "DEBUG:root:Loading observed_outlier_node_sets.dat\n"
     ]
    }
   ],
   "source": [
    "# Load in datasets.\n",
    "observed_node_sets, observed_node_sets_outliers = get_observed_node_sets(reconvert=True)"
   ]
  },
  {
   "cell_type": "code",
   "execution_count": 55,
   "metadata": {},
   "outputs": [
    {
     "name": "stdout",
     "output_type": "stream",
     "text": [
      "Supertree size  613\n"
     ]
    }
   ],
   "source": [
    "# Pick a scene to parse, and draw it.\n",
    "# Has good view: 1, 4, 5, 6, 10, 11\n",
    "example_observed_scene = observed_node_sets[17]\n",
    "draw_scene_tree_contents_meshcat(\n",
    "    SceneTree.make_from_observed_nodes(example_observed_scene),\n",
    "    zmq_url=vis.window.zmq_url, prefix=\"observed/contents\"\n",
    ")\n",
    "\n",
    "\n",
    "supertree = grammar.make_super_tree(max_recursion_depth=10)\n",
    "print(\"Supertree size \", len(supertree.nodes))"
   ]
  },
  {
   "cell_type": "code",
   "execution_count": 53,
   "metadata": {},
   "outputs": [
    {
     "name": "stdout",
     "output_type": "stream",
     "text": [
      "192 top-down candidates.\n",
      "37 bottom-up candidates.\n",
      "Post final pruning:  229\n",
      "Optimization success?:  True\n",
      "Logfile: \n",
      "\n",
      "Gurobi 9.0.2 (linux64) logging started Mon Jan 10 18:25:13 2022\n",
      "\n",
      "Gurobi Optimizer version 9.0.2 build v9.0.2rc0 (linux64)\n",
      "Optimize a model with 2966 rows, 1551 columns and 10193 nonzeros\n",
      "Model fingerprint: 0xefbc993a\n",
      "Variable types: 0 continuous, 1551 integer (1551 binary)\n",
      "Coefficient statistics:\n",
      "  Matrix range     [3e-01, 1e+00]\n",
      "  Objective range  [3e-01, 8e+01]\n",
      "  Bounds range     [1e+00, 1e+00]\n",
      "  RHS range        [6e-01, 1e+00]\n",
      "Presolve removed 2957 rows and 1540 columns\n",
      "Presolve time: 0.01s\n",
      "Presolved: 9 rows, 11 columns, 31 nonzeros\n",
      "Variable types: 0 continuous, 11 integer (11 binary)\n",
      "Found heuristic solution: objective 13.7751565\n",
      "\n",
      "Root relaxation: objective 1.377516e+01, 4 iterations, 0.00 seconds\n",
      "\n",
      "    Nodes    |    Current Node    |     Objective Bounds      |     Work\n",
      " Expl Unexpl |  Obj  Depth IntInf | Incumbent    BestBd   Gap | It/Node Time\n",
      "\n",
      "     0     0          -    0        13.77516   13.77516  0.00%     -    0s\n",
      "\n",
      "Optimal solution found at node 0 - now completing solution pool...\n",
      "\n",
      "    Nodes    |    Current Node    |      Pool Obj. Bounds     |     Work\n",
      "             |                    |   Worst                   |\n",
      " Expl Unexpl |  Obj  Depth IntInf | Incumbent    BestBd   Gap | It/Node Time\n",
      "\n",
      "     0     0          -    0               -   13.77516      -     -    0s\n",
      "     0     0          -    0               -   13.77516      -     -    0s\n",
      "     0     2          -    0               -   13.77516      -     -    0s\n",
      "\n",
      "Explored 14 nodes (4 simplex iterations) in 0.01 seconds\n",
      "Thread count was 12 (of 12 available processors)\n",
      "\n",
      "Solution count 4: 13.7752 17.3972 19.3324 22.9545 \n",
      "No other solutions better than 22.9545\n",
      "\n",
      "Optimal solution found (tolerance 1.00e-03)\n",
      "Best objective 1.377515650964e+01, best bound 1.377515650964e+01, gap 0.0000%\n",
      "\n",
      "Building tree for sol 0...\n",
      "Building tree for sol 1...\n",
      "Building tree for sol 2...\n",
      "Building tree for sol 3...\n",
      "SOL #0: SCORE -13.775157\n"
     ]
    }
   ],
   "source": [
    "# Parse it with IP.\n",
    "vis[\"ip_parses\"].delete()\n",
    "\n",
    "pyro.set_rng_seed(42)\n",
    "grammar = SpatialSceneGrammar(\n",
    "    root_node_type = DishBin,\n",
    "    root_node_tf = drake_tf_to_torch_tf(RigidTransform(p=[0.5, 0., 0.]))\n",
    ")\n",
    "# Build up a big set of candidate intermediate nodes with both\n",
    "# top-down and bottom-up generation.\n",
    "proposed_poses_by_type = generate_candidate_node_pose_sets(\n",
    "    grammar, example_observed_scene, max_recursion_depth=10, verbose=True\n",
    ")\n",
    "parse_trees = infer_mle_tree_with_mip_from_proposals(\n",
    "    grammar, example_observed_scene, proposed_poses_by_type, verbose=1, N_solutions=4\n",
    ")\n",
    "parse_tree = parse_trees[0]\n",
    "for k, parse_tree in enumerate(parse_trees[:1]):\n",
    "    score = parse_tree.score()\n",
    "    print(\"SOL #%d: SCORE %f\" % (k, score))\n",
    "    draw_scene_tree_structure_meshcat(parse_tree, zmq_url=vis.window.zmq_url, prefix=\"ip_parses/%d_%f\" % (k, score), linewidth=20, with_triad=False, node_sphere_size=0.025, alpha=0.5)"
   ]
  },
  {
   "cell_type": "code",
   "execution_count": 29,
   "metadata": {},
   "outputs": [
    {
     "name": "stdout",
     "output_type": "stream",
     "text": [
      "Starting setup.\n",
      "Activation vars allocated.\n",
      "Continuous variables and SO(3) constraints allocated for all equivalence sets.\n",
      "Setup time:  0.9902973175048828\n",
      "Num vars:  2582\n",
      "Num constraints:  8174\n",
      "Optimization success?:  True\n",
      "Logfile: \n",
      "\n",
      "Gurobi 9.0.2 (linux64) logging started Mon Jan 10 18:20:48 2022\n",
      "\n",
      "Gurobi Optimizer version 9.0.2 build v9.0.2rc0 (linux64)\n",
      "Optimize a model with 7414 rows, 2582 columns and 25836 nonzeros\n",
      "Model fingerprint: 0xd1155bc5\n",
      "Model has 126 quadratic objective terms\n",
      "Variable types: 1842 continuous, 740 integer (740 binary)\n",
      "Coefficient statistics:\n",
      "  Matrix range     [6e-07, 2e+01]\n",
      "  Objective range  [1e-02, 4e+01]\n",
      "  QObjective range [5e+01, 4e+02]\n",
      "  Bounds range     [1e+00, 1e+01]\n",
      "  RHS range        [1e+00, 2e+01]\n",
      "Presolve removed 4933 rows and 1376 columns\n",
      "Presolve time: 0.05s\n",
      "Presolved: 2481 rows, 1206 columns, 10561 nonzeros\n",
      "Presolved model has 113 quadratic objective terms\n",
      "Variable types: 1196 continuous, 10 integer (10 binary)\n",
      "\n",
      "Root relaxation: objective 3.959546e+00, 1508 iterations, 0.02 seconds\n",
      "\n",
      "    Nodes    |    Current Node    |     Objective Bounds      |     Work\n",
      " Expl Unexpl |  Obj  Depth IntInf | Incumbent    BestBd   Gap | It/Node Time\n",
      "\n",
      "     0     0    3.95955    0    7          -    3.95955      -     -    0s\n",
      "H    0     0                      10.9755977    3.95955  63.9%     -    0s\n",
      "H    0     0                       8.3043920    3.95955  52.3%     -    0s\n",
      "H    0     0                       6.5988527    3.95955  40.0%     -    0s\n",
      "     0     0    5.94408    0    8    6.59885    5.94408  9.92%     -    0s\n",
      "     0     0    6.59885    0    8    6.59885    6.59885  0.00%     -    0s\n",
      "\n",
      "Optimal solution found at node 0 - now completing solution pool...\n",
      "\n",
      "    Nodes    |    Current Node    |      Pool Obj. Bounds     |     Work\n",
      "             |                    |   Worst                   |\n",
      " Expl Unexpl |  Obj  Depth IntInf | Incumbent    BestBd   Gap | It/Node Time\n",
      "\n",
      "     0     0    6.59885    0    8    9.65750    6.59885  31.7%     -    0s\n",
      "     0     0    6.59885    0    8    9.65750    6.59885  31.7%     -    0s\n",
      "     0     0    6.59885    0    8    9.65750    6.59885  31.7%     -    0s\n",
      "     0     2    6.59885    0    8    9.65750    6.59885  31.7%     -    0s\n",
      "\n",
      "Cutting planes:\n",
      "  MIR: 21\n",
      "  Flow cover: 3\n",
      "  RLT: 3\n",
      "  Relax-and-lift: 5\n",
      "\n",
      "Explored 15 nodes (2345 simplex iterations) in 0.25 seconds\n",
      "Thread count was 12 (of 12 available processors)\n",
      "\n",
      "Solution count 4: 6.59885 8.17926 8.30439 9.27006 \n",
      "No other solutions better than 9.27006\n",
      "\n",
      "Optimal solution found (tolerance 1.00e-03)\n",
      "Best objective 6.598852676216e+00, best bound 6.598852676216e+00, gap 0.0000%\n",
      "\n",
      "Solve time:  0.3179593086242676\n",
      "Total time:  1.3082566261291504\n"
     ]
    }
   ],
   "source": [
    "# Parse it with MICP.\n",
    "trees = get_optimized_trees_from_mip_results(infer_mle_tree_with_mip(grammar, example_observed_scene, N_solutions=4, max_recursion_depth=10, verbose=True))\n",
    "vis[\"mip_parses\"].delete()\n",
    "for k, tree in enumerate(trees[:]):\n",
    "    draw_scene_tree_structure_meshcat(tree, zmq_url=vis.window.zmq_url, prefix=\"mip_parses/%d_%f\" % (k, tree.score()), linewidth=20, with_triad=False, node_sphere_size=0.025, alpha=0.5)"
   ]
  },
  {
   "cell_type": "code",
   "execution_count": null,
   "metadata": {},
   "outputs": [],
   "source": []
  }
 ],
 "metadata": {
  "kernelspec": {
   "display_name": "py36_pyro",
   "language": "python",
   "name": "py36_pyro"
  },
  "language_info": {
   "codemirror_mode": {
    "name": "ipython",
    "version": 3
   },
   "file_extension": ".py",
   "mimetype": "text/x-python",
   "name": "python",
   "nbconvert_exporter": "python",
   "pygments_lexer": "ipython3",
   "version": "3.6.13"
  }
 },
 "nbformat": 4,
 "nbformat_minor": 4
}
