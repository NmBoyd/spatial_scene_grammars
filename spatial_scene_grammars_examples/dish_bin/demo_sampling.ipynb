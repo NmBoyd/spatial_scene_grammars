{
 "cells": [
  {
   "cell_type": "code",
   "execution_count": 2,
   "metadata": {},
   "outputs": [
    {
     "name": "stdout",
     "output_type": "stream",
     "text": [
      "Generating from folder  sink/plates_cups_and_bowls/plates\n",
      "sink:plates_cups_and_bowls:plates:Threshold_Bistro_Ceramic_Dinner_Plate_Ruby_Ring :  <class 'spatial_scene_grammars_examples.dish_bin.grammar.sink:plates_cups_and_bowls:plates:Threshold_Bistro_Ceramic_Dinner_Plate_Ruby_Ring'>\n",
      "sink:plates_cups_and_bowls:plates:Ecoforms_Plate_S20Avocado :  <class 'spatial_scene_grammars_examples.dish_bin.grammar.sink:plates_cups_and_bowls:plates:Ecoforms_Plate_S20Avocado'>\n",
      "sink:plates_cups_and_bowls:plates:Room_Essentials_Salad_Plate_Turquoise :  <class 'spatial_scene_grammars_examples.dish_bin.grammar.sink:plates_cups_and_bowls:plates:Room_Essentials_Salad_Plate_Turquoise'>\n",
      "sink:plates_cups_and_bowls:plates:Ecoforms_Plant_Plate_S11Turquoise :  <class 'spatial_scene_grammars_examples.dish_bin.grammar.sink:plates_cups_and_bowls:plates:Ecoforms_Plant_Plate_S11Turquoise'>\n",
      "Generating from folder  sink/plates_cups_and_bowls/cups\n",
      "sink:plates_cups_and_bowls:cups:Cole_Hardware_Mug_Classic_Blue :  <class 'spatial_scene_grammars_examples.dish_bin.grammar.sink:plates_cups_and_bowls:cups:Cole_Hardware_Mug_Classic_Blue'>\n",
      "sink:plates_cups_and_bowls:cups:Room_Essentials_Mug_White_Yellow :  <class 'spatial_scene_grammars_examples.dish_bin.grammar.sink:plates_cups_and_bowls:cups:Room_Essentials_Mug_White_Yellow'>\n",
      "sink:plates_cups_and_bowls:cups:Threshold_Porcelain_Coffee_Mug_All_Over_Bead_White :  <class 'spatial_scene_grammars_examples.dish_bin.grammar.sink:plates_cups_and_bowls:cups:Threshold_Porcelain_Coffee_Mug_All_Over_Bead_White'>\n",
      "Generating from folder  sink/plates_cups_and_bowls/bowls\n",
      "sink:plates_cups_and_bowls:bowls:Bradshaw_International_11642_7_Qt_MP_Plastic_Bowl :  <class 'spatial_scene_grammars_examples.dish_bin.grammar.sink:plates_cups_and_bowls:bowls:Bradshaw_International_11642_7_Qt_MP_Plastic_Bowl'>\n",
      "sink:plates_cups_and_bowls:bowls:Cole_Hardware_Bowl_Scirocco_YellowBlue :  <class 'spatial_scene_grammars_examples.dish_bin.grammar.sink:plates_cups_and_bowls:bowls:Cole_Hardware_Bowl_Scirocco_YellowBlue'>\n",
      "sink:plates_cups_and_bowls:bowls:Room_Essentials_Bowl_Turquiose :  <class 'spatial_scene_grammars_examples.dish_bin.grammar.sink:plates_cups_and_bowls:bowls:Room_Essentials_Bowl_Turquiose'>\n"
     ]
    }
   ],
   "source": [
    "%load_ext autoreload\n",
    "%autoreload 2\n",
    "\n",
    "import matplotlib.pyplot as plt\n",
    "import networkx as nx\n",
    "import numpy as np\n",
    "import os\n",
    "import pickle\n",
    "import time\n",
    "from tqdm.notebook import tqdm\n",
    "\n",
    "import torch\n",
    "torch.set_default_tensor_type(torch.DoubleTensor)\n",
    "\n",
    "from spatial_scene_grammars.constraints import *\n",
    "from spatial_scene_grammars.nodes import *\n",
    "from spatial_scene_grammars.rules import *\n",
    "from spatial_scene_grammars.scene_grammar import *\n",
    "from spatial_scene_grammars.visualization import *\n",
    "from spatial_scene_grammars_examples.dish_bin.grammar import *\n",
    "from spatial_scene_grammars.parsing import *\n",
    "from spatial_scene_grammars.sampling import *\n",
    "from spatial_scene_grammars.parameter_estimation import *\n",
    "from spatial_scene_grammars.dataset import *\n",
    "\n",
    "import meshcat\n",
    "import meshcat.geometry as meshcat_geom"
   ]
  },
  {
   "cell_type": "code",
   "execution_count": 3,
   "metadata": {},
   "outputs": [
    {
     "name": "stdout",
     "output_type": "stream",
     "text": [
      "You can open the visualizer by visiting the following URL:\n",
      "http://127.0.0.1:7008/static/\n",
      "Meshcat url:  http://127.0.0.1:7008/static/\n"
     ]
    },
    {
     "data": {
      "text/plain": [
       "'\\nfrom IPython.display import HTML\\nHTML(\"\"\"\\n    <div style=\"height: 400px; width: 100%; overflow-x: auto; overflow-y: hidden; resize: both\">\\n    <iframe src=\"{url}\" style=\"width: 100%; height: 100%; border: none\"></iframe>\\n</div>\\n\"\"\".format(url=meshcat_url))\\n'"
      ]
     },
     "execution_count": 3,
     "metadata": {},
     "output_type": "execute_result"
    }
   ],
   "source": [
    "if 'vis' not in globals():\n",
    "    vis = meshcat.Visualizer()\n",
    "vis.delete()\n",
    "base_url = \"http://127.0.0.1\"\n",
    "meshcat_url = base_url + \":\" + vis.url().split(\":\")[-1]\n",
    "print(\"Meshcat url: \", meshcat_url)\n",
    "'''\n",
    "from IPython.display import HTML\n",
    "HTML(\"\"\"\n",
    "    <div style=\"height: 400px; width: 100%; overflow-x: auto; overflow-y: hidden; resize: both\">\n",
    "    <iframe src=\"{url}\" style=\"width: 100%; height: 100%; border: none\"></iframe>\n",
    "</div>\n",
    "\"\"\".format(url=meshcat_url))\n",
    "'''"
   ]
  },
  {
   "cell_type": "code",
   "execution_count": 4,
   "metadata": {},
   "outputs": [
    {
     "name": "stderr",
     "output_type": "stream",
     "text": [
      "WARNING:root:Detaching BinghamDistribution parameters.\n",
      "WARNING:root:Prior over parameters of WorldFrameBinghamRotationRule are Deltas.\n"
     ]
    },
    {
     "data": {
      "text/plain": [
       "<All keys matched successfully>"
      ]
     },
     "execution_count": 4,
     "metadata": {},
     "output_type": "execute_result"
    }
   ],
   "source": [
    "# Set up grammar\n",
    "grammar = SpatialSceneGrammar(\n",
    "    root_node_type = DishBin,\n",
    "    root_node_tf = drake_tf_to_torch_tf(RigidTransform(p=[0.5, 0., 0.]))\n",
    ")\n",
    "grammar.load_state_dict(torch.load(\"fit_grammar.torch\"))"
   ]
  },
  {
   "cell_type": "markdown",
   "metadata": {},
   "source": [
    "# Single detailed projection"
   ]
  },
  {
   "cell_type": "code",
   "execution_count": 10,
   "metadata": {},
   "outputs": [
    {
     "name": "stdout",
     "output_type": "stream",
     "text": [
      "Starting\n",
      "setting up ik\n",
      "here\n",
      "[Variable('q(0)', Continuous) Variable('q(1)', Continuous)\n",
      " Variable('q(2)', Continuous) Variable('q(3)', Continuous)\n",
      " Variable('q(4)', Continuous) Variable('q(5)', Continuous)\n",
      " Variable('q(6)', Continuous) Variable('q(7)', Continuous)\n",
      " Variable('q(8)', Continuous) Variable('q(9)', Continuous)\n",
      " Variable('q(10)', Continuous) Variable('q(11)', Continuous)\n",
      " Variable('q(12)', Continuous) Variable('q(13)', Continuous)\n",
      " Variable('q(14)', Continuous) Variable('q(15)', Continuous)\n",
      " Variable('q(16)', Continuous) Variable('q(17)', Continuous)\n",
      " Variable('q(18)', Continuous) Variable('q(19)', Continuous)\n",
      " Variable('q(20)', Continuous) Variable('q(21)', Continuous)\n",
      " Variable('q(22)', Continuous) Variable('q(23)', Continuous)\n",
      " Variable('q(24)', Continuous) Variable('q(25)', Continuous)\n",
      " Variable('q(26)', Continuous) Variable('q(27)', Continuous)]\n",
      "here\n",
      "here\n",
      "[ 0.32  -0.315  0.   ] [0.68  0.315 1.   ]\n",
      "[ 0.32  -0.315  0.   ] [0.68  0.315 1.   ]\n",
      "[ 0.32  -0.315  0.   ] [0.68  0.315 1.   ]\n",
      "[ 0.32  -0.315  0.   ] [0.68  0.315 1.   ]\n",
      "here\n",
      "here\n",
      "Solving\n",
      "Solved\n",
      "Starting\n",
      "setting up ik\n",
      "here\n",
      "[Variable('q(0)', Continuous) Variable('q(1)', Continuous)\n",
      " Variable('q(2)', Continuous) Variable('q(3)', Continuous)\n",
      " Variable('q(4)', Continuous) Variable('q(5)', Continuous)\n",
      " Variable('q(6)', Continuous) Variable('q(7)', Continuous)\n",
      " Variable('q(8)', Continuous) Variable('q(9)', Continuous)\n",
      " Variable('q(10)', Continuous) Variable('q(11)', Continuous)\n",
      " Variable('q(12)', Continuous) Variable('q(13)', Continuous)\n",
      " Variable('q(14)', Continuous) Variable('q(15)', Continuous)\n",
      " Variable('q(16)', Continuous) Variable('q(17)', Continuous)\n",
      " Variable('q(18)', Continuous) Variable('q(19)', Continuous)\n",
      " Variable('q(20)', Continuous) Variable('q(21)', Continuous)\n",
      " Variable('q(22)', Continuous) Variable('q(23)', Continuous)\n",
      " Variable('q(24)', Continuous) Variable('q(25)', Continuous)\n",
      " Variable('q(26)', Continuous) Variable('q(27)', Continuous)]\n",
      "here\n",
      "here\n",
      "[ 0.32  -0.315  0.   ] [0.68  0.315 1.   ]\n",
      "[ 0.32  -0.315  0.   ] [0.68  0.315 1.   ]\n",
      "[ 0.32  -0.315  0.   ] [0.68  0.315 1.   ]\n",
      "[ 0.32  -0.315  0.   ] [0.68  0.315 1.   ]\n",
      "here\n",
      "here\n",
      "Solving\n",
      "Solved\n"
     ]
    }
   ],
   "source": [
    "class InBinConstraint(Constraint):\n",
    "    # XY coord of each object inside .56 x .83 dish bin\n",
    "    def __init__(self):\n",
    "        lb = torch.tensor([-0.56/2+0.1, -0.83/2+0.1, 0.])\n",
    "        ub = torch.tensor([0.56/2-0.1, 0.83/2-0.1, 1.])\n",
    "        super().__init__(\n",
    "            lower_bound=lb,\n",
    "            upper_bound=ub\n",
    "        )\n",
    "    def eval(self, scene_tree):\n",
    "        xys = []\n",
    "        bin_pos = scene_tree.find_nodes_by_type(DishBin)[0].translation\n",
    "        for node in scene_tree.find_nodes_by_type(ObjectModel):\n",
    "            xys.append(node.translation - bin_pos)\n",
    "        return torch.stack(xys, axis=0)\n",
    "    def add_to_ik_prog(self, scene_tree, ik, mbp, mbp_context, node_to_free_body_ids_map):\n",
    "        bin_pos = scene_tree.find_nodes_by_type(DishBin)[0].translation.detach().numpy()\n",
    "        for node in scene_tree.find_nodes_by_type(ObjectModel):\n",
    "            for body_id in node_to_free_body_ids_map[node]:\n",
    "                body = mbp.get_body(body_id)\n",
    "                print(bin_pos + self.lower_bound.detach().numpy(), bin_pos + self.upper_bound.detach().numpy())\n",
    "                ik.AddPositionConstraint(\n",
    "                    body.body_frame(), np.zeros(3),\n",
    "                    mbp.world_frame(),\n",
    "                    bin_pos + self.lower_bound.detach().numpy(),\n",
    "                    bin_pos + self.upper_bound.detach().numpy()\n",
    "                )\n",
    "constraints = [\n",
    "    InBinConstraint()\n",
    "]\n",
    "# 45: lots of plates\n",
    "\n",
    "torch.random.manual_seed(49)\n",
    "tree = grammar.sample_tree(detach=True)\n",
    "# Make initial sample feasible\n",
    "pre_projection_tree = grammar.sample_tree(detach=True)\n",
    "\n",
    "vis[\"sample\"].delete()\n",
    "draw_scene_tree_contents_meshcat(pre_projection_tree, zmq_url=vis.window.zmq_url,  prefix=\"sample/pre_projected/contents\")\n",
    "draw_scene_tree_structure_meshcat(pre_projection_tree, zmq_url=vis.window.zmq_url,  prefix=\"sample/pre_projected/structure\")\n",
    "\n",
    "nlp_projected_tree = project_tree_to_feasibility(deepcopy(pre_projection_tree), constraints=constraints, jitter_q=0.01)\n",
    "draw_scene_tree_contents_meshcat(nlp_projected_tree, zmq_url=vis.window.zmq_url, prefix=\"sample/nlp_projected/contents\")\n",
    "draw_scene_tree_structure_meshcat(nlp_projected_tree, zmq_url=vis.window.zmq_url, prefix=\"sample/nlp_projected/structure\")\n",
    "\n",
    "tree = project_tree_to_feasibility(deepcopy(pre_projection_tree), constraints=constraints, do_forward_sim=True)\n",
    "draw_scene_tree_contents_meshcat(tree, zmq_url=vis.window.zmq_url, prefix=\"sample/sim_projected/contents\")\n",
    "draw_scene_tree_structure_meshcat(tree, zmq_url=vis.window.zmq_url, prefix=\"sample/sim_projected/structure\")"
   ]
  },
  {
   "cell_type": "code",
   "execution_count": null,
   "metadata": {},
   "outputs": [
    {
     "name": "stdout",
     "output_type": "stream",
     "text": [
      "0 \n"
     ]
    }
   ],
   "source": [
    "# Draw a lot of projected environments\n",
    "torch.random.manual_seed(0)\n",
    "for k in range(1):\n",
    "    tree = grammar.sample_tree(detach=True)\n",
    "    tree, success = rejection_sample_structure_to_feasibility(tree, constraints=constraints)\n",
    "    draw_scene_tree_contents_meshcat(tree, zmq_url=vis.window.zmq_url, prefix=\"pre_projected_samples/contents/%d\" % k)\n",
    "    draw_scene_tree_structure_meshcat(tree, zmq_url=vis.window.zmq_url, prefix=\"pre_projected_samples/structure/%d\" % k)\n",
    "    tree = project_tree_to_feasibility(tree, constraints=constraints, do_forward_sim=True, jitter_q=1.)\n",
    "    draw_scene_tree_contents_meshcat(tree, zmq_url=vis.window.zmq_url, prefix=\"projected_samples/contents/%d\" % k)\n",
    "    draw_scene_tree_structure_meshcat(tree, zmq_url=vis.window.zmq_url, prefix=\"projected_samples/structure/%d\" % k)"
   ]
  },
  {
   "cell_type": "code",
   "execution_count": null,
   "metadata": {},
   "outputs": [],
   "source": [
    "# How long does it take to query nonpenetration constraints on this tree?\n",
    "constraint = NonpenetrationConstraint()\n",
    "elapsed = []\n",
    "for k in range(100):\n",
    "    start = time.time()\n",
    "    constraint.eval(tree)\n",
    "    elapsed.append(time.time() - start)\n",
    "print(\"Average duration: \", np.mean(elapsed))"
   ]
  },
  {
   "cell_type": "markdown",
   "metadata": {},
   "source": [
    "# HMC sampling"
   ]
  },
  {
   "cell_type": "code",
   "execution_count": null,
   "metadata": {},
   "outputs": [],
   "source": [
    "torch.random.manual_seed(48) # Known OK seed\n",
    "tree = grammar.sample_tree(detach=True)\n",
    "#tree = project_tree_to_feasibility(tree, constraints=constraints, do_forward_sim=False, jitter_q=10.)"
   ]
  },
  {
   "cell_type": "code",
   "execution_count": null,
   "metadata": {},
   "outputs": [],
   "source": [
    "samples = do_fixed_structure_hmc_with_constraint_penalties(\n",
    "    grammar, tree, num_samples=10, subsample_step=1,\n",
    "    with_nonpenetration=True, zmq_url=vis.window.zmq_url,\n",
    "    constraints=constraints\n",
    ")"
   ]
  },
  {
   "cell_type": "code",
   "execution_count": null,
   "metadata": {},
   "outputs": [],
   "source": [
    "for k, tree in enumerate(samples[::]):\n",
    "    draw_scene_tree_contents_meshcat(tree, zmq_url=vis.window.zmq_url, prefix=\"hmc_samples/contents/%d/structure\" % k)\n",
    "    draw_scene_tree_structure_meshcat(tree, zmq_url=vis.window.zmq_url, prefix=\"hmc_samples/structure/%d/structure\" % k)"
   ]
  },
  {
   "cell_type": "code",
   "execution_count": null,
   "metadata": {},
   "outputs": [],
   "source": []
  }
 ],
 "metadata": {
  "kernelspec": {
   "display_name": "Python 3",
   "language": "python",
   "name": "python3"
  },
  "language_info": {
   "codemirror_mode": {
    "name": "ipython",
    "version": 3
   },
   "file_extension": ".py",
   "mimetype": "text/x-python",
   "name": "python",
   "nbconvert_exporter": "python",
   "pygments_lexer": "ipython3",
   "version": "3.6.10"
  }
 },
 "nbformat": 4,
 "nbformat_minor": 2
}
