{
 "cells": [
  {
   "cell_type": "code",
   "execution_count": 79,
   "metadata": {},
   "outputs": [
    {
     "name": "stdout",
     "output_type": "stream",
     "text": [
      "The autoreload extension is already loaded. To reload it, use:\n",
      "  %reload_ext autoreload\n"
     ]
    }
   ],
   "source": [
    "%load_ext autoreload\n",
    "%autoreload 2\n",
    "\n",
    "import matplotlib.pyplot as plt\n",
    "import networkx as nx\n",
    "import numpy as np\n",
    "import os\n",
    "import pickle\n",
    "import time\n",
    "\n",
    "import torch\n",
    "torch.set_default_tensor_type(torch.DoubleTensor)\n",
    "\n",
    "from spatial_scene_grammars.nodes import *\n",
    "from spatial_scene_grammars.rules import *\n",
    "from spatial_scene_grammars.scene_grammar import *\n",
    "from spatial_scene_grammars.visualization import *\n",
    "\n",
    "# DEPENDENCY\n",
    "DEPENDENCY = 0\n",
    "if DEPENDENCY:\n",
    "    from spatial_scene_grammars_examples.singles_pairs.grammar_dependency import *\n",
    "else:\n",
    "    from spatial_scene_grammars_examples.singles_pairs.grammar_constituency import *\n",
    "    \n",
    "from spatial_scene_grammars.parsing import *\n",
    "from spatial_scene_grammars.sampling import *\n",
    "\n",
    "import meshcat\n",
    "import meshcat.geometry as meshcat_geom"
   ]
  },
  {
   "cell_type": "markdown",
   "metadata": {},
   "source": [
    "# Running; warning, long"
   ]
  },
  {
   "cell_type": "code",
   "execution_count": 80,
   "metadata": {},
   "outputs": [],
   "source": [
    "def parse_random_scenes(N_scenes=5, N_solutions=10):\n",
    "    grammar = SpatialSceneGrammar(\n",
    "        root_node_type = Root,\n",
    "        root_node_tf = torch.eye(4)\n",
    "    )\n",
    "    parse_times = []\n",
    "    num_objects = []\n",
    "    for k in range(N_scenes):\n",
    "        tree = grammar.sample_tree(detach=True)\n",
    "        observed_nodes = tree.get_observed_nodes()\n",
    "        start = time.time()\n",
    "        inference_results = infer_mle_tree_with_mip(\n",
    "            grammar, observed_nodes, verbose=False, max_scene_extent_in_any_dir=10., N_solutions=10\n",
    "        )\n",
    "        if not inference_results.optim_result.is_success():\n",
    "            logging.error(\"Failed an inference! Results invalid\")\n",
    "        elapsed = time.time() - start\n",
    "        parse_times.append(elapsed)\n",
    "        num_objects.append(len(observed_nodes))\n",
    "    return parse_times, num_objects, len(grammar.make_super_tree().nodes)\n",
    "    "
   ]
  },
  {
   "cell_type": "code",
   "execution_count": 81,
   "metadata": {},
   "outputs": [
    {
     "name": "stderr",
     "output_type": "stream",
     "text": [
      "WARNING:root:Hitting bad MIP case\n",
      "WARNING:root:Hitting bad MIP case\n",
      "WARNING:root:Hitting bad MIP case\n",
      "WARNING:root:Hitting bad MIP case\n",
      "WARNING:root:Hitting bad MIP case\n",
      "WARNING:root:Hitting bad MIP case\n",
      "WARNING:root:Hitting bad MIP case\n",
      "WARNING:root:Hitting bad MIP case\n",
      "WARNING:root:Hitting bad MIP case\n",
      "WARNING:root:Hitting bad MIP case\n",
      "WARNING:root:Hitting bad MIP case\n",
      "WARNING:root:Hitting bad MIP case\n",
      "WARNING:root:Hitting bad MIP case\n",
      "WARNING:root:Hitting bad MIP case\n",
      "WARNING:root:Hitting bad MIP case\n",
      "WARNING:root:Hitting bad MIP case\n",
      "WARNING:root:Hitting bad MIP case\n",
      "WARNING:root:Hitting bad MIP case\n",
      "WARNING:root:Hitting bad MIP case\n",
      "WARNING:root:Hitting bad MIP case\n"
     ]
    },
    {
     "name": "stdout",
     "output_type": "stream",
     "text": [
      "1: ST size 7\n",
      "\tElapsed 2.833969 +/- 0.683194\n",
      "\t# Objects 2.500000 +/- 0.670820\n"
     ]
    },
    {
     "name": "stderr",
     "output_type": "stream",
     "text": [
      "WARNING:root:Hitting bad MIP case\n",
      "WARNING:root:Hitting bad MIP case\n",
      "WARNING:root:Hitting bad MIP case\n",
      "WARNING:root:Hitting bad MIP case\n",
      "WARNING:root:Hitting bad MIP case\n",
      "WARNING:root:Hitting bad MIP case\n",
      "WARNING:root:Hitting bad MIP case\n",
      "WARNING:root:Hitting bad MIP case\n",
      "WARNING:root:Hitting bad MIP case\n",
      "WARNING:root:Hitting bad MIP case\n",
      "WARNING:root:Hitting bad MIP case\n",
      "WARNING:root:Hitting bad MIP case\n",
      "WARNING:root:Hitting bad MIP case\n",
      "WARNING:root:Hitting bad MIP case\n",
      "WARNING:root:Hitting bad MIP case\n",
      "WARNING:root:Hitting bad MIP case\n",
      "WARNING:root:Hitting bad MIP case\n",
      "WARNING:root:Hitting bad MIP case\n",
      "WARNING:root:Hitting bad MIP case\n",
      "WARNING:root:Hitting bad MIP case\n",
      "WARNING:root:Hitting bad MIP case\n",
      "WARNING:root:Hitting bad MIP case\n",
      "WARNING:root:Hitting bad MIP case\n",
      "WARNING:root:Hitting bad MIP case\n",
      "WARNING:root:Hitting bad MIP case\n",
      "WARNING:root:Hitting bad MIP case\n",
      "WARNING:root:Hitting bad MIP case\n",
      "WARNING:root:Hitting bad MIP case\n",
      "WARNING:root:Hitting bad MIP case\n",
      "WARNING:root:Hitting bad MIP case\n",
      "WARNING:root:Hitting bad MIP case\n",
      "WARNING:root:Hitting bad MIP case\n",
      "WARNING:root:Hitting bad MIP case\n",
      "WARNING:root:Hitting bad MIP case\n",
      "WARNING:root:Hitting bad MIP case\n",
      "WARNING:root:Hitting bad MIP case\n",
      "WARNING:root:Hitting bad MIP case\n",
      "WARNING:root:Hitting bad MIP case\n",
      "WARNING:root:Hitting bad MIP case\n",
      "WARNING:root:Hitting bad MIP case\n"
     ]
    },
    {
     "name": "stdout",
     "output_type": "stream",
     "text": [
      "2: ST size 11\n",
      "\tElapsed 23.177899 +/- 16.982667\n",
      "\t# Objects 3.400000 +/- 2.059126\n"
     ]
    },
    {
     "name": "stderr",
     "output_type": "stream",
     "text": [
      "WARNING:root:Hitting bad MIP case\n",
      "WARNING:root:Hitting bad MIP case\n",
      "WARNING:root:Hitting bad MIP case\n",
      "WARNING:root:Hitting bad MIP case\n",
      "WARNING:root:Hitting bad MIP case\n",
      "WARNING:root:Hitting bad MIP case\n",
      "WARNING:root:Hitting bad MIP case\n",
      "WARNING:root:Hitting bad MIP case\n",
      "WARNING:root:Hitting bad MIP case\n",
      "WARNING:root:Hitting bad MIP case\n",
      "WARNING:root:Hitting bad MIP case\n",
      "WARNING:root:Hitting bad MIP case\n",
      "WARNING:root:Hitting bad MIP case\n",
      "WARNING:root:Hitting bad MIP case\n",
      "WARNING:root:Hitting bad MIP case\n",
      "WARNING:root:Hitting bad MIP case\n",
      "WARNING:root:Hitting bad MIP case\n",
      "WARNING:root:Hitting bad MIP case\n",
      "WARNING:root:Hitting bad MIP case\n",
      "WARNING:root:Hitting bad MIP case\n",
      "WARNING:root:Hitting bad MIP case\n",
      "WARNING:root:Hitting bad MIP case\n",
      "WARNING:root:Hitting bad MIP case\n",
      "WARNING:root:Hitting bad MIP case\n",
      "WARNING:root:Hitting bad MIP case\n",
      "WARNING:root:Hitting bad MIP case\n",
      "WARNING:root:Hitting bad MIP case\n",
      "WARNING:root:Hitting bad MIP case\n",
      "WARNING:root:Hitting bad MIP case\n",
      "WARNING:root:Hitting bad MIP case\n",
      "WARNING:root:Hitting bad MIP case\n",
      "WARNING:root:Hitting bad MIP case\n",
      "WARNING:root:Hitting bad MIP case\n",
      "WARNING:root:Hitting bad MIP case\n",
      "WARNING:root:Hitting bad MIP case\n",
      "WARNING:root:Hitting bad MIP case\n",
      "WARNING:root:Hitting bad MIP case\n",
      "WARNING:root:Hitting bad MIP case\n",
      "WARNING:root:Hitting bad MIP case\n",
      "WARNING:root:Hitting bad MIP case\n",
      "WARNING:root:Hitting bad MIP case\n",
      "WARNING:root:Hitting bad MIP case\n",
      "WARNING:root:Hitting bad MIP case\n",
      "WARNING:root:Hitting bad MIP case\n",
      "WARNING:root:Hitting bad MIP case\n",
      "WARNING:root:Hitting bad MIP case\n",
      "WARNING:root:Hitting bad MIP case\n",
      "WARNING:root:Hitting bad MIP case\n",
      "WARNING:root:Hitting bad MIP case\n",
      "WARNING:root:Hitting bad MIP case\n",
      "WARNING:root:Hitting bad MIP case\n",
      "WARNING:root:Hitting bad MIP case\n",
      "WARNING:root:Hitting bad MIP case\n",
      "WARNING:root:Hitting bad MIP case\n",
      "WARNING:root:Hitting bad MIP case\n",
      "WARNING:root:Hitting bad MIP case\n",
      "WARNING:root:Hitting bad MIP case\n",
      "WARNING:root:Hitting bad MIP case\n",
      "WARNING:root:Hitting bad MIP case\n",
      "WARNING:root:Hitting bad MIP case\n"
     ]
    },
    {
     "name": "stdout",
     "output_type": "stream",
     "text": [
      "3: ST size 15\n",
      "\tElapsed 197.870361 +/- 202.561788\n",
      "\t# Objects 5.100000 +/- 1.757840\n"
     ]
    }
   ],
   "source": [
    "# Dependency: 1-6 or 7 is reasonable, with patience I might get to 8-10.\n",
    "# Constituency: 1-3 or 1-4. We're in exponential regime.\n",
    "\n",
    "results = {\n",
    "    \n",
    "}\n",
    "for k in range(1, 4):\n",
    "    Pairs.MAX_N_PAIRS = k\n",
    "    Pairs.P = 0.01 # Basically uniform\n",
    "    #Pairs.P = 0.5 # Rare\n",
    "    Singles.MAX_N_SINGLES = k\n",
    "    Singles.P = 0.01 # Basically uniform\n",
    "    #Singles.P = 0.5\n",
    "    \n",
    "    times, num_objects, st_size = parse_random_scenes(N_scenes=10)\n",
    "    print(\"%d: ST size %d\" % (k, st_size))\n",
    "    print(\"\\tElapsed %f +/- %f\" % (np.mean(times), np.std(times)))\n",
    "    print(\"\\t# Objects %f +/- %f\" % (np.mean(num_objects), np.std(num_objects)))\n",
    "    \n",
    "    results[k] = (times, num_objects, st_size)    "
   ]
  },
  {
   "cell_type": "code",
   "execution_count": 83,
   "metadata": {},
   "outputs": [],
   "source": [
    "if DEPENDENCY:\n",
    "    with open(\"dependency_scaling_random_runs.pickle\", \"wb\") as f:\n",
    "        pickle.dump(results, f)\n",
    "else:\n",
    "    with open(\"constituency_scaling_random_runs.pickle\", \"wb\") as f:\n",
    "        pickle.dump(results, f)"
   ]
  },
  {
   "cell_type": "markdown",
   "metadata": {},
   "source": [
    "# Plotting"
   ]
  },
  {
   "cell_type": "code",
   "execution_count": 84,
   "metadata": {},
   "outputs": [
    {
     "name": "stdout",
     "output_type": "stream",
     "text": [
      "dict_keys([1, 2, 3, 4, 5])\n",
      "dict_keys([1, 2, 3, 4, 5])\n"
     ]
    }
   ],
   "source": [
    "# Plotting\n",
    "with open(\"dependency_scaling_random_runs.pickle\", \"rb\") as f:\n",
    "    dep_results = pickle.load(f)\n",
    "with open(\"constituency_scaling_random_runs.pickle\", \"rb\") as f:\n",
    "    con_results = pickle.load(f)\n",
    "print(dep_results.keys())\n",
    "print(dep_results.keys())"
   ]
  },
  {
   "cell_type": "code",
   "execution_count": 90,
   "metadata": {},
   "outputs": [
    {
     "data": {
      "text/plain": [
       "Text(0, 0.5, 'Parsing runtime (s)')"
      ]
     },
     "execution_count": 90,
     "metadata": {},
     "output_type": "execute_result"
    },
    {
     "data": {
      "image/png": "[encoded data removed]",
      "text/plain": [
       "<Figure size 300x300 with 1 Axes>"
      ]
     },
     "metadata": {
      "needs_background": "light"
     },
     "output_type": "display_data"
    }
   ],
   "source": [
    "plt.figure(dpi=100).set_size_inches(3, 3)\n",
    "def plot_with_errorbars(list_of_times, label):\n",
    "    xs = range(1, len(list_of_times) + 1)\n",
    "    y = [np.mean(times) for times in list_of_times]\n",
    "    y_std = [np.std(times) for times in list_of_times]\n",
    "    parts = plt.violinplot(list_of_times)\n",
    "    for pc in parts['bodies']:\n",
    "        c = pc.get_facecolor()\n",
    "        #pc.set_facecolor(c)\n",
    "        #pc.set_edgecolor([0., 0., 0., 0])\n",
    "    for k, (x, times) in enumerate(zip(xs, list_of_times)):\n",
    "        if k == 0:\n",
    "            thislabel = label\n",
    "        else:\n",
    "            thislabel = None\n",
    "        plt.scatter(np.repeat(x, len(times)), times, c=c, label=thislabel)\n",
    "cm = plt.get_cmap(\"viridis\")\n",
    "con_times = [con_results[k+1][0] for k in range(len(con_results.keys()))]\n",
    "dep_times = [dep_results[k+1][0] for k in range(len(dep_results.keys()))]\n",
    "plot_with_errorbars(con_times, \"Grammar A\")\n",
    "plot_with_errorbars(dep_times, \"Grammar B\")\n",
    "plt.semilogy()\n",
    "plt.legend(bbox_to_anchor=(1., 1.))\n",
    "plt.grid(True)\n",
    "plt.xlabel(\"Grammar size\\n(Max # of singles and pairs)\")\n",
    "plt.ylabel(\"Parsing runtime (s)\")"
   ]
  },
  {
   "cell_type": "code",
   "execution_count": null,
   "metadata": {},
   "outputs": [],
   "source": []
  }
 ],
 "metadata": {
  "kernelspec": {
   "display_name": "Python 3",
   "language": "python",
   "name": "python3"
  },
  "language_info": {
   "codemirror_mode": {
    "name": "ipython",
    "version": 3
   },
   "file_extension": ".py",
   "mimetype": "text/x-python",
   "name": "python",
   "nbconvert_exporter": "python",
   "pygments_lexer": "ipython3",
   "version": "3.6.10"
  }
 },
 "nbformat": 4,
 "nbformat_minor": 4
}
