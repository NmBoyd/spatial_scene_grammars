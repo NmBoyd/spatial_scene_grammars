{
 "cells": [
  {
   "cell_type": "code",
   "execution_count": 22,
   "metadata": {},
   "outputs": [
    {
     "name": "stdout",
     "output_type": "stream",
     "text": [
      "The autoreload extension is already loaded. To reload it, use:\n",
      "  %reload_ext autoreload\n"
     ]
    }
   ],
   "source": [
    "%load_ext autoreload\n",
    "%autoreload 2\n",
    "\n",
    "import matplotlib.pyplot as plt\n",
    "import networkx as nx\n",
    "import numpy as np\n",
    "import os\n",
    "import pickle\n",
    "import time\n",
    "\n",
    "import torch\n",
    "torch.set_default_tensor_type(torch.DoubleTensor)\n",
    "\n",
    "from spatial_scene_grammars.nodes import *\n",
    "from spatial_scene_grammars.rules import *\n",
    "from spatial_scene_grammars.scene_grammar import *\n",
    "from spatial_scene_grammars.visualization import *\n",
    "\n",
    "# DEPENDENCY\n",
    "DEPENDENCY = 1\n",
    "if DEPENDENCY:\n",
    "    from spatial_scene_grammars_examples.singles_pairs.grammar_dependency import *\n",
    "else:\n",
    "    from spatial_scene_grammars_examples.singles_pairs.grammar_constituency import *\n",
    "    \n",
    "from spatial_scene_grammars.parsing import *\n",
    "from spatial_scene_grammars.sampling import *\n",
    "\n",
    "import meshcat\n",
    "import meshcat.geometry as meshcat_geom"
   ]
  },
  {
   "cell_type": "code",
   "execution_count": 23,
   "metadata": {},
   "outputs": [
    {
     "name": "stdout",
     "output_type": "stream",
     "text": [
      "Meshcat url:  http://127.0.0.1:7000/static/\n"
     ]
    },
    {
     "data": {
      "text/html": [
       "\n",
       "    <div style=\"height: 400px; width: 100%; overflow-x: auto; overflow-y: hidden; resize: both\">\n",
       "    <iframe src=\"http://127.0.0.1:7000/static/\" style=\"width: 100%; height: 100%; border: none\"></iframe>\n",
       "</div>\n"
      ],
      "text/plain": [
       "<IPython.core.display.HTML object>"
      ]
     },
     "execution_count": 23,
     "metadata": {},
     "output_type": "execute_result"
    }
   ],
   "source": [
    "if 'vis' not in globals():\n",
    "    vis = meshcat.Visualizer()\n",
    "    \n",
    "vis.delete()\n",
    "\n",
    "def reset_bg():\n",
    "    vis['/Background'].set_property(\"top_color\", [0.2, 0.2, 0.2])\n",
    "    vis['/Background'].set_property(\"bottom_color\", [.32, .32, .35])\n",
    "\n",
    "base_url = \"http://127.0.0.1\"\n",
    "meshcat_url = base_url + \":\" + vis.url().split(\":\")[-1]\n",
    "print(\"Meshcat url: \", meshcat_url)\n",
    "from IPython.display import HTML\n",
    "HTML(\"\"\"\n",
    "    <div style=\"height: 400px; width: 100%; overflow-x: auto; overflow-y: hidden; resize: both\">\n",
    "    <iframe src=\"{url}\" style=\"width: 100%; height: 100%; border: none\"></iframe>\n",
    "</div>\n",
    "\"\"\".format(url=meshcat_url))"
   ]
  },
  {
   "cell_type": "code",
   "execution_count": 24,
   "metadata": {},
   "outputs": [
    {
     "name": "stdout",
     "output_type": "stream",
     "text": [
      "Sampled scene with 4 objects and 1 pairs.\n",
      "Sampled tree has score -20.471196\n"
     ]
    }
   ],
   "source": [
    "# Draw a random sample (or load one) from the grammar and visualize it.\n",
    "grammar = SpatialSceneGrammar(\n",
    "    root_node_type = Root,\n",
    "    root_node_tf = torch.eye(4)\n",
    ")\n",
    "\n",
    "pyro.set_rng_seed(63)\n",
    "\n",
    "REGENERATE = True\n",
    "EXAMPLE_FILE = \"single_scene.pickle\"\n",
    "if REGENERATE or not os.path.exists(EXAMPLE_FILE):\n",
    "    with open(EXAMPLE_FILE, \"wb\") as f:\n",
    "        tree = grammar.sample_tree(detach=True)\n",
    "        observed_nodes = tree.get_observed_nodes()\n",
    "        pickle.dump((tree, observed_nodes), f)\n",
    "\n",
    "with open(EXAMPLE_FILE, \"rb\") as f:\n",
    "    tree, observed_nodes = pickle.load(f)\n",
    "\n",
    "print(\"Sampled scene with %d objects and %d pairs.\" % \n",
    "      (len(tree.find_nodes_by_type(Object)),\n",
    "       len(tree.find_nodes_by_type(Pair))))\n",
    "print(\"Sampled tree has score %f\" % tree.score().item())\n",
    "draw_scene_tree_contents_meshcat(tree, zmq_url=vis.window.zmq_url)\n",
    "draw_scene_tree_structure_meshcat(tree, zmq_url=vis.window.zmq_url, alpha=0.5, node_sphere_size=0.05, with_triad=False)\n",
    "reset_bg()"
   ]
  },
  {
   "cell_type": "code",
   "execution_count": 25,
   "metadata": {},
   "outputs": [
    {
     "name": "stdout",
     "output_type": "stream",
     "text": [
      "Super tree has 15 nodes\n"
     ]
    },
    {
     "data": {
      "image/png": "[encoded data removed]",
      "text/plain": [
       "<Figure size 432x288 with 1 Axes>"
      ]
     },
     "metadata": {},
     "output_type": "display_data"
    }
   ],
   "source": [
    "# Draw supertree for this grammar\n",
    "super_tree = grammar.make_super_tree(max_recursion_depth=10)\n",
    "nx.draw_networkx(super_tree, with_labels=False)\n",
    "plt.title(\"Super tree for oriented clusters grammar\")\n",
    "print(\"Super tree has %d nodes\" % len(list(super_tree.nodes)))"
   ]
  },
  {
   "cell_type": "markdown",
   "metadata": {},
   "source": [
    "# Greedy parsing"
   ]
  },
  {
   "cell_type": "code",
   "execution_count": 26,
   "metadata": {},
   "outputs": [
    {
     "name": "stderr",
     "output_type": "stream",
     "text": [
      "ERROR:root:Exceeding iteration limit on greedy parsing attempt.\n",
      "WARNING:root:Orphan non-root node <spatial_scene_grammars_examples.singles_pairs.grammar_dependency.Object object at 0x7f064715e438> detected\n"
     ]
    },
    {
     "name": "stdout",
     "output_type": "stream",
     "text": [
      "[<spatial_scene_grammars_examples.singles_pairs.grammar_dependency.Singles object at 0x7f064715ef28>, <spatial_scene_grammars_examples.singles_pairs.grammar_dependency.Pairs object at 0x7f064715e5c0>, <spatial_scene_grammars_examples.singles_pairs.grammar_dependency.Pair object at 0x7f064715e710>, <spatial_scene_grammars_examples.singles_pairs.grammar_dependency.Pair object at 0x7f064715e0b8>, <spatial_scene_grammars_examples.singles_pairs.grammar_dependency.Pair object at 0x7f064715ec18>]\n",
      "5 top-down, 0 bottom-up candidates.\n",
      "Connecting <spatial_scene_grammars_examples.singles_pairs.grammar_dependency.Singles object at 0x7f064715ef28> to <spatial_scene_grammars_examples.singles_pairs.grammar_dependency.Object object at 0x7f064715ecf8>\n",
      "Connecting <spatial_scene_grammars_examples.singles_pairs.grammar_dependency.Singles object at 0x7f064715ef28> to <spatial_scene_grammars_examples.singles_pairs.grammar_dependency.Object object at 0x7f064715eef0>\n",
      "Connecting <spatial_scene_grammars_examples.singles_pairs.grammar_dependency.Singles object at 0x7f064715ef28> to <spatial_scene_grammars_examples.singles_pairs.grammar_dependency.Object object at 0x7f064715edd8>\n",
      "Connecting <spatial_scene_grammars_examples.singles_pairs.grammar_dependency.Root object at 0x7f064720a320> to <spatial_scene_grammars_examples.singles_pairs.grammar_dependency.Singles object at 0x7f064715ef28>\n"
     ]
    },
    {
     "name": "stderr",
     "output_type": "stream",
     "text": [
      "ERROR:root:Exceeding iteration limit on greedy parsing attempt.\n",
      "WARNING:root:Orphan non-root node <spatial_scene_grammars_examples.singles_pairs.grammar_dependency.Object object at 0x7f064715eef0> detected\n",
      "ERROR:root:Exceeding iteration limit on greedy parsing attempt.\n",
      "WARNING:root:Orphan non-root node <spatial_scene_grammars_examples.singles_pairs.grammar_dependency.Object object at 0x7f064715eef0> detected\n",
      "ERROR:root:Exceeding iteration limit on greedy parsing attempt.\n",
      "WARNING:root:Orphan non-root node <spatial_scene_grammars_examples.singles_pairs.grammar_dependency.Object object at 0x7f064715eef0> detected\n",
      "ERROR:root:Exceeding iteration limit on greedy parsing attempt.\n",
      "WARNING:root:Orphan non-root node <spatial_scene_grammars_examples.singles_pairs.grammar_dependency.Object object at 0x7f064715eef0> detected\n",
      "ERROR:root:Exceeding iteration limit on greedy parsing attempt.\n",
      "WARNING:root:Orphan non-root node <spatial_scene_grammars_examples.singles_pairs.grammar_dependency.Object object at 0x7f064715eef0> detected\n",
      "ERROR:root:Exceeding iteration limit on greedy parsing attempt.\n",
      "WARNING:root:Orphan non-root node <spatial_scene_grammars_examples.singles_pairs.grammar_dependency.Object object at 0x7f064715eef0> detected\n",
      "ERROR:root:Exceeding iteration limit on greedy parsing attempt.\n",
      "WARNING:root:Orphan non-root node <spatial_scene_grammars_examples.singles_pairs.grammar_dependency.Object object at 0x7f064715eef0> detected\n",
      "ERROR:root:Exceeding iteration limit on greedy parsing attempt.\n",
      "WARNING:root:Orphan non-root node <spatial_scene_grammars_examples.singles_pairs.grammar_dependency.Object object at 0x7f064715eef0> detected\n",
      "ERROR:root:Exceeding iteration limit on greedy parsing attempt.\n",
      "WARNING:root:Orphan non-root node <spatial_scene_grammars_examples.singles_pairs.grammar_dependency.Object object at 0x7f064715eef0> detected\n",
      "ERROR:root:Failed to find feasible tree by greedy parsing.\n"
     ]
    },
    {
     "name": "stdout",
     "output_type": "stream",
     "text": [
      "Found tree with score -inf in 1.684201s\n",
      "FINAL SCORE:  tensor(-inf)\n",
      "[<spatial_scene_grammars_examples.singles_pairs.grammar_dependency.Root object at 0x7f064720a320>, <spatial_scene_grammars_examples.singles_pairs.grammar_dependency.Object object at 0x7f064715eef0>, <spatial_scene_grammars_examples.singles_pairs.grammar_dependency.Object object at 0x7f064715ecf8>, <spatial_scene_grammars_examples.singles_pairs.grammar_dependency.Object object at 0x7f064715edd8>, <spatial_scene_grammars_examples.singles_pairs.grammar_dependency.Object object at 0x7f064715e438>]\n"
     ]
    }
   ],
   "source": [
    "vis[\"greedy_scene_tree\"].delete()\n",
    "pyro.set_rng_seed(42)\n",
    "for k in range(1):\n",
    "    parse_tree, score = sample_likely_tree_with_greedy_parsing(grammar, observed_nodes, verbose=True)\n",
    "    print(\"FINAL SCORE: \", score)\n",
    "    print(parse_tree.nodes)\n",
    "    draw_scene_tree_structure_meshcat(parse_tree, zmq_url=vis.window.zmq_url, prefix=\"greedy_scene_tree/%d\" % k, linewidth=20, with_triad=False, node_sphere_size=0.05, alpha=0.5)"
   ]
  },
  {
   "cell_type": "markdown",
   "metadata": {},
   "source": [
    "# MIP Parsing"
   ]
  },
  {
   "cell_type": "code",
   "execution_count": 20,
   "metadata": {},
   "outputs": [
    {
     "name": "stdout",
     "output_type": "stream",
     "text": [
      "Starting setup.\n",
      "Activation vars allocated.\n",
      "Equivalent sets:  13 13\n"
     ]
    },
    {
     "name": "stderr",
     "output_type": "stream",
     "text": [
      "WARNING:root:Hitting bad MIP case\n",
      "WARNING:root:Hitting bad MIP case\n",
      "WARNING:root:Hitting bad MIP case\n",
      "WARNING:root:Hitting bad MIP case\n",
      "WARNING:root:Hitting bad MIP case\n"
     ]
    },
    {
     "name": "stdout",
     "output_type": "stream",
     "text": [
      "Continuous variables and SO(3) constraints allocated for all equivalence sets.\n"
     ]
    },
    {
     "name": "stderr",
     "output_type": "stream",
     "text": [
      "WARNING:root:Hitting bad MIP case\n"
     ]
    },
    {
     "name": "stdout",
     "output_type": "stream",
     "text": [
      "Setup time:  0.7529275417327881\n",
      "Num vars:  4894\n",
      "Num constraints:  14063\n"
     ]
    },
    {
     "ename": "KeyboardInterrupt",
     "evalue": "",
     "output_type": "error",
     "traceback": [
      "\u001b[0;31m---------------------------------------------------------------------------\u001b[0m",
      "\u001b[0;31mKeyboardInterrupt\u001b[0m                         Traceback (most recent call last)",
      "\u001b[0;32m<ipython-input-20-e646fb4a51f8>\u001b[0m in \u001b[0;36m<module>\u001b[0;34m\u001b[0m\n\u001b[1;32m      1\u001b[0m \u001b[0;31m# Get single-shot parse of scene\u001b[0m\u001b[0;34m\u001b[0m\u001b[0;34m\u001b[0m\u001b[0;34m\u001b[0m\u001b[0m\n\u001b[1;32m      2\u001b[0m inference_results = infer_mle_tree_with_mip(\n\u001b[0;32m----> 3\u001b[0;31m     \u001b[0mgrammar\u001b[0m\u001b[0;34m,\u001b[0m \u001b[0mobserved_nodes\u001b[0m\u001b[0;34m,\u001b[0m \u001b[0mverbose\u001b[0m\u001b[0;34m=\u001b[0m\u001b[0;32mTrue\u001b[0m\u001b[0;34m,\u001b[0m \u001b[0mmax_scene_extent_in_any_dir\u001b[0m\u001b[0;34m=\u001b[0m\u001b[0;36m10.\u001b[0m\u001b[0;34m,\u001b[0m \u001b[0mN_solutions\u001b[0m\u001b[0;34m=\u001b[0m\u001b[0;36m10\u001b[0m\u001b[0;34m\u001b[0m\u001b[0;34m\u001b[0m\u001b[0m\n\u001b[0m\u001b[1;32m      4\u001b[0m )\n",
      "\u001b[0;32m~/projects/spatial_scene_grammars/spatial_scene_grammars/parsing.py\u001b[0m in \u001b[0;36minfer_mle_tree_with_mip\u001b[0;34m(grammar, observed_nodes, max_recursion_depth, solver, verbose, num_intervals_per_half_axis, max_scene_extent_in_any_dir, N_solutions, use_random_rotation_offset)\u001b[0m\n\u001b[1;32m   1017\u001b[0m             \u001b[0moptions\u001b[0m\u001b[0;34m.\u001b[0m\u001b[0mSetOption\u001b[0m\u001b[0;34m(\u001b[0m\u001b[0msolver\u001b[0m\u001b[0;34m.\u001b[0m\u001b[0mid\u001b[0m\u001b[0;34m(\u001b[0m\u001b[0;34m)\u001b[0m\u001b[0;34m,\u001b[0m \u001b[0;34m\"PoolSearchMode\"\u001b[0m\u001b[0;34m,\u001b[0m \u001b[0;36m2\u001b[0m\u001b[0;34m)\u001b[0m\u001b[0;34m\u001b[0m\u001b[0;34m\u001b[0m\u001b[0m\n\u001b[1;32m   1018\u001b[0m \u001b[0;34m\u001b[0m\u001b[0m\n\u001b[0;32m-> 1019\u001b[0;31m         \u001b[0mresult\u001b[0m \u001b[0;34m=\u001b[0m \u001b[0msolver\u001b[0m\u001b[0;34m.\u001b[0m\u001b[0mSolve\u001b[0m\u001b[0;34m(\u001b[0m\u001b[0mprog\u001b[0m\u001b[0;34m,\u001b[0m \u001b[0;32mNone\u001b[0m\u001b[0;34m,\u001b[0m \u001b[0moptions\u001b[0m\u001b[0;34m)\u001b[0m\u001b[0;34m\u001b[0m\u001b[0;34m\u001b[0m\u001b[0m\n\u001b[0m\u001b[1;32m   1020\u001b[0m         \u001b[0;31m# Hacky method getter because `num_suboptimal_solution()` was bound with () in its\u001b[0m\u001b[0;34m\u001b[0m\u001b[0;34m\u001b[0m\u001b[0;34m\u001b[0m\u001b[0m\n\u001b[1;32m   1021\u001b[0m         \u001b[0;31m# method name. Should fix this upstream!\u001b[0m\u001b[0;34m\u001b[0m\u001b[0;34m\u001b[0m\u001b[0;34m\u001b[0m\u001b[0m\n",
      "\u001b[0;31mKeyboardInterrupt\u001b[0m: "
     ]
    }
   ],
   "source": [
    "# Get single-shot parse of scene\n",
    "inference_results = infer_mle_tree_with_mip(\n",
    "    grammar, observed_nodes, verbose=True, max_scene_extent_in_any_dir=10., N_solutions=10\n",
    ")"
   ]
  },
  {
   "cell_type": "code",
   "execution_count": 6,
   "metadata": {},
   "outputs": [
    {
     "name": "stdout",
     "output_type": "stream",
     "text": [
      "tensor([-20.4712])\n",
      "tensor([-21.0794])\n",
      "tensor([-91.0093])\n",
      "tensor([-91.8250])\n",
      "tensor([-105.9915])\n",
      "tensor([-107.4153])\n",
      "tensor([-146.6255])\n",
      "tensor([-147.2336])\n",
      "tensor([-147.4082])\n",
      "tensor([-148.0163])\n",
      "Avg elementwise deviation from R^T R = I:  tensor(6.4763e-17)\n",
      "Avg elementwise deviation from R^T R = I:  tensor(6.4763e-17)\n",
      "Avg elementwise deviation from R^T R = I:  tensor(6.4763e-17)\n",
      "Avg elementwise deviation from R^T R = I:  tensor(1.8504e-16)\n",
      "Avg elementwise deviation from R^T R = I:  tensor(2.5905e-16)\n",
      "Avg elementwise deviation from R^T R = I:  tensor(3.4916e-16)\n",
      "Avg elementwise deviation from R^T R = I:  tensor(3.4916e-16)\n",
      "Avg elementwise deviation from R^T R = I:  tensor(2.1588e-16)\n"
     ]
    }
   ],
   "source": [
    "mip_optimized_trees = get_optimized_trees_from_mip_results(inference_results)\n",
    "draw_scene_tree_structure_meshcat(mip_optimized_trees[0], zmq_url=vis.window.zmq_url, prefix=\"mip_scene_tree\", linewidth=20, with_triad=False, node_sphere_size=0.05, alpha=0.5, )\n",
    "\n",
    "for tree in mip_optimized_trees:\n",
    "    print(tree.score())\n",
    "for node in mip_optimized_trees[0]:\n",
    "    err = torch.matmul(node.rotation.transpose(0, 1), node.rotation) - torch.eye(3)\n",
    "    print(\"Avg elementwise deviation from R^T R = I: \", err.abs().mean())"
   ]
  },
  {
   "cell_type": "code",
   "execution_count": 7,
   "metadata": {},
   "outputs": [
    {
     "name": "stdout",
     "output_type": "stream",
     "text": [
      "tensor([-20.4751])\n",
      "tensor([-21.0829])\n",
      "tensor([-91.0101])\n",
      "tensor([-91.8226])\n",
      "tensor([-105.9924])\n",
      "tensor([-107.4190])\n",
      "tensor([-146.6245])\n",
      "tensor([-147.2326])\n",
      "tensor([-147.4106])\n",
      "tensor([-148.0187])\n"
     ]
    }
   ],
   "source": [
    "# Do NLP refinement of top trees\n",
    "vis[\"topNrefined\"].delete()\n",
    "refined_trees = []\n",
    "for k, mip_optimized_tree in enumerate(mip_optimized_trees):\n",
    "    refinement_results = optimize_scene_tree_with_nlp(grammar, mip_optimized_tree, verbose=False)\n",
    "    refined_trees.append(refinement_results.refined_tree)\n",
    "    draw_scene_tree_structure_meshcat(refined_trees[-1], zmq_url=vis.window.zmq_url, prefix=\"topNrefined/%d_%f\" % (k, refined_trees[-1].score().item()), node_sphere_size=0.05, with_triad=False, alpha=0.5, linewidth=20)\n",
    "    print(refined_trees[-1].score())\n",
    "draw_scene_tree_structure_meshcat(refined_trees[0], zmq_url=vis.window.zmq_url, prefix=\"refined_scene_tree\", node_sphere_size=0.05, with_triad=False, alpha=0.5, linewidth=20)\n",
    "\n",
    "reset_bg()"
   ]
  }
 ],
 "metadata": {
  "kernelspec": {
   "display_name": "Python 3",
   "language": "python",
   "name": "python3"
  },
  "language_info": {
   "codemirror_mode": {
    "name": "ipython",
    "version": 3
   },
   "file_extension": ".py",
   "mimetype": "text/x-python",
   "name": "python",
   "nbconvert_exporter": "python",
   "pygments_lexer": "ipython3",
   "version": "3.6.13"
  }
 },
 "nbformat": 4,
 "nbformat_minor": 4
}
