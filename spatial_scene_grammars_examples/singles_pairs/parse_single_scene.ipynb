{
 "cells": [
  {
   "cell_type": "markdown",
   "metadata": {},
   "source": [
    "# Samples a scene and parses it with both MIPMAP and IP parsing, along with plotting utilities."
   ]
  },
  {
   "cell_type": "code",
   "execution_count": 2,
   "metadata": {},
   "outputs": [],
   "source": [
    "%load_ext autoreload\n",
    "%autoreload 2\n",
    "\n",
    "import matplotlib.pyplot as plt\n",
    "import networkx as nx\n",
    "import numpy as np\n",
    "import os\n",
    "import pickle\n",
    "import time\n",
    "\n",
    "import torch\n",
    "torch.set_default_tensor_type(torch.DoubleTensor)\n",
    "\n",
    "from spatial_scene_grammars.nodes import *\n",
    "from spatial_scene_grammars.rules import *\n",
    "from spatial_scene_grammars.scene_grammar import *\n",
    "from spatial_scene_grammars.visualization import *\n",
    "\n",
    "# DEPENDENCY\n",
    "DEPENDENCY = 0\n",
    "if DEPENDENCY:\n",
    "    from spatial_scene_grammars_examples.singles_pairs.grammar_dependency import *\n",
    "else:\n",
    "    from spatial_scene_grammars_examples.singles_pairs.grammar_constituency import *\n",
    "    \n",
    "from spatial_scene_grammars.parsing import *\n",
    "from spatial_scene_grammars.sampling import *\n",
    "\n",
    "import meshcat\n",
    "import meshcat.geometry as meshcat_geom"
   ]
  },
  {
   "cell_type": "code",
   "execution_count": 3,
   "metadata": {},
   "outputs": [
    {
     "name": "stdout",
     "output_type": "stream",
     "text": [
      "You can open the visualizer by visiting the following URL:\n",
      "http://127.0.0.1:7000/static/\n",
      "Meshcat url:  http://127.0.0.1:7000/static/\n"
     ]
    },
    {
     "data": {
      "text/html": [
       "\n",
       "    <div style=\"height: 400px; width: 100%; overflow-x: auto; overflow-y: hidden; resize: both\">\n",
       "    <iframe src=\"http://127.0.0.1:7000/static/\" style=\"width: 100%; height: 100%; border: none\"></iframe>\n",
       "</div>\n"
      ],
      "text/plain": [
       "<IPython.core.display.HTML object>"
      ]
     },
     "execution_count": 3,
     "metadata": {},
     "output_type": "execute_result"
    }
   ],
   "source": [
    "if 'vis' not in globals():\n",
    "    vis = meshcat.Visualizer()\n",
    "    \n",
    "vis.delete()\n",
    "\n",
    "def reset_bg():\n",
    "    vis['/Background'].set_property(\"top_color\", [0.2, 0.2, 0.2])\n",
    "    vis['/Background'].set_property(\"bottom_color\", [.32, .32, .35])\n",
    "\n",
    "base_url = \"http://127.0.0.1\"\n",
    "meshcat_url = base_url + \":\" + vis.url().split(\":\")[-1]\n",
    "print(\"Meshcat url: \", meshcat_url)\n",
    "from IPython.display import HTML\n",
    "HTML(\"\"\"\n",
    "    <div style=\"height: 400px; width: 100%; overflow-x: auto; overflow-y: hidden; resize: both\">\n",
    "    <iframe src=\"{url}\" style=\"width: 100%; height: 100%; border: none\"></iframe>\n",
    "</div>\n",
    "\"\"\".format(url=meshcat_url))"
   ]
  },
  {
   "cell_type": "code",
   "execution_count": 4,
   "metadata": {},
   "outputs": [
    {
     "name": "stderr",
     "output_type": "stream",
     "text": [
      "WARNING:root:Detaching BinghamDistribution parameters.\n",
      "WARNING:root:Prior over parameters of WorldFrameBinghamRotationRule are Deltas.\n"
     ]
    },
    {
     "name": "stdout",
     "output_type": "stream",
     "text": [
      "Sampled scene with 4 objects and 1 pairs.\n"
     ]
    },
    {
     "name": "stderr",
     "output_type": "stream",
     "text": [
      "[2021-12-16 16:43:17.114] [console] [warning] FindResource ignoring DRAKE_RESOURCE_ROOT='/home/gizatt/drake' because it does not contain a 'drake' subdirectory.\n"
     ]
    },
    {
     "name": "stdout",
     "output_type": "stream",
     "text": [
      "Sampled tree has score -13.710506\n"
     ]
    }
   ],
   "source": [
    "# Draw a random sample (or load one) from the grammar and visualize it.\n",
    "grammar = SpatialSceneGrammar(\n",
    "    root_node_type = Root,\n",
    "    root_node_tf = torch.eye(4)\n",
    ")\n",
    "\n",
    "pyro.set_rng_seed(63)\n",
    "\n",
    "REGENERATE = True\n",
    "EXAMPLE_FILE = \"single_scene.pickle\"\n",
    "if REGENERATE or not os.path.exists(EXAMPLE_FILE):\n",
    "    with open(EXAMPLE_FILE, \"wb\") as f:\n",
    "        tree = grammar.sample_tree(detach=True)\n",
    "        observed_nodes = tree.get_observed_nodes()\n",
    "        pickle.dump((tree, observed_nodes), f)\n",
    "\n",
    "with open(EXAMPLE_FILE, \"rb\") as f:\n",
    "    tree, observed_nodes = pickle.load(f)\n",
    "\n",
    "print(\"Sampled scene with %d objects and %d pairs.\" % \n",
    "      (len(tree.find_nodes_by_type(Object)),\n",
    "       len(tree.find_nodes_by_type(Pair))))\n",
    "print(\"Sampled tree has score %f\" % tree.score().item())\n",
    "draw_scene_tree_contents_meshcat(tree, zmq_url=vis.window.zmq_url)\n",
    "draw_scene_tree_structure_meshcat(tree, zmq_url=vis.window.zmq_url, alpha=0.5, node_sphere_size=0.05, with_triad=False)\n",
    "reset_bg()"
   ]
  },
  {
   "cell_type": "code",
   "execution_count": 5,
   "metadata": {},
   "outputs": [
    {
     "name": "stdout",
     "output_type": "stream",
     "text": [
      "Super tree has 15 nodes\n"
     ]
    },
    {
     "data": {
      "image/png": "[encoded data removed]",
      "text/plain": [
       "<Figure size 432x288 with 1 Axes>"
      ]
     },
     "metadata": {},
     "output_type": "display_data"
    }
   ],
   "source": [
    "# Draw supertree for this grammar\n",
    "super_tree = grammar.make_super_tree(max_recursion_depth=10)\n",
    "nx.draw_networkx(super_tree, with_labels=False)\n",
    "plt.title(\"Super tree for oriented clusters grammar\")\n",
    "print(\"Super tree has %d nodes\" % len(list(super_tree.nodes)))"
   ]
  },
  {
   "cell_type": "markdown",
   "metadata": {},
   "source": [
    "# Greedy proposal-based parsing"
   ]
  },
  {
   "cell_type": "code",
   "execution_count": 6,
   "metadata": {},
   "outputs": [
    {
     "name": "stdout",
     "output_type": "stream",
     "text": [
      "5 top-down candidates.\n",
      "6 bottom-up candidates.\n",
      "Post final pruning:  9\n",
      "Optimization success?:  True\n",
      "Logfile: \n",
      "\n",
      "Gurobi 9.0.2 (linux64) logging started Thu Dec 16 16:43:18 2021\n",
      "\n",
      "Gurobi Optimizer version 9.0.2 build v9.0.2rc0 (linux64)\n",
      "Optimize a model with 414 rows, 332 columns and 1440 nonzeros\n",
      "Model fingerprint: 0x900fcac1\n",
      "Variable types: 0 continuous, 332 integer (332 binary)\n",
      "Coefficient statistics:\n",
      "  Matrix range     [8e-03, 1e+00]\n",
      "  Objective range  [4e-01, 7e+02]\n",
      "  Bounds range     [1e+00, 1e+00]\n",
      "  RHS range        [3e-01, 1e+00]\n",
      "Presolve removed 219 rows and 107 columns\n",
      "Presolve time: 0.02s\n",
      "Presolved: 195 rows, 225 columns, 807 nonzeros\n",
      "Variable types: 0 continuous, 225 integer (225 binary)\n",
      "Found heuristic solution: objective 373.2708100\n",
      "\n",
      "Root relaxation: objective -1.791421e+01, 47 iterations, 0.00 seconds\n",
      "\n",
      "    Nodes    |    Current Node    |     Objective Bounds      |     Work\n",
      " Expl Unexpl |  Obj  Depth IntInf | Incumbent    BestBd   Gap | It/Node Time\n",
      "\n",
      "     0     0  -17.91421    0    6  373.27081  -17.91421   105%     -    0s\n",
      "H    0     0                     303.9019929  -17.91421   106%     -    0s\n",
      "     0     0  -17.04784    0   19  303.90199  -17.04784   106%     -    0s\n",
      "H    0     0                     201.5167381  -17.04784   108%     -    0s\n",
      "H    0     0                     186.9370612  -16.39976   109%     -    0s\n",
      "     0     0  -14.45270    0   23  186.93706  -14.45270   108%     -    0s\n",
      "H    0     0                     184.4825564  -14.45270   108%     -    0s\n",
      "     0     0  -14.45270    0   18  184.48256  -14.45270   108%     -    0s\n",
      "     0     0    8.16245    0   10  184.48256    8.16245  95.6%     -    0s\n",
      "H    0     0                      17.6497369    8.16245  53.8%     -    0s\n",
      "*    0     0               0      17.1971127   17.19711  0.00%     -    0s\n",
      "\n",
      "Optimal solution found at node 0 - now completing solution pool...\n",
      "\n",
      "    Nodes    |    Current Node    |      Pool Obj. Bounds     |     Work\n",
      "             |                    |   Worst                   |\n",
      " Expl Unexpl |  Obj  Depth IntInf | Incumbent    BestBd   Gap | It/Node Time\n",
      "\n",
      "     0     0          -    0       304.20744   17.19711  94.3%     -    0s\n",
      "     0     0          -    0       304.20744   17.19711  94.3%     -    0s\n",
      "     0     0   17.19711    0   28  304.20744   17.19711  94.3%     -    0s\n",
      "     0     0          -    0       302.69299   17.19711  94.3%     -    0s\n",
      "     0     0          -    0       302.69299   17.19711  94.3%     -    0s\n",
      "     0     0          -    0       302.69299   17.19711  94.3%     -    0s\n",
      "     0     2          -    0       302.69299   17.19711  94.3%     -    0s\n",
      "\n",
      "Cutting planes:\n",
      "  Gomory: 3\n",
      "  Cover: 1\n",
      "  Clique: 3\n",
      "  Zero half: 7\n",
      "\n",
      "Explored 110 nodes (366 simplex iterations) in 0.17 seconds\n",
      "Thread count was 12 (of 12 available processors)\n",
      "\n",
      "Solution count 10: 17.1971 17.1971 17.6497 ... 143.155\n",
      "No other solutions better than 143.155\n",
      "\n",
      "Optimal solution found (tolerance 1.00e-03)\n",
      "Best objective 1.719711268293e+01, best bound 1.719711268293e+01, gap 0.0000%\n",
      "\n",
      "Building tree for sol 0...\n",
      "Building tree for sol 1...\n",
      "Building tree for sol 2...\n",
      "Building tree for sol 3...\n",
      "Building tree for sol 4...\n",
      "Building tree for sol 5...\n",
      "Building tree for sol 6...\n",
      "Building tree for sol 7...\n",
      "Building tree for sol 8...\n",
      "Building tree for sol 9...\n",
      "SOL #0: SCORE -17.197113\n",
      "SOL #1: SCORE -17.197113\n",
      "SOL #2: SCORE -17.649737\n",
      "SOL #3: SCORE -17.649737\n",
      "SOL #4: SCORE -133.589506\n",
      "SOL #5: SCORE -133.589506\n",
      "SOL #6: SCORE -134.345884\n",
      "SOL #7: SCORE -134.345884\n",
      "SOL #8: SCORE -143.155038\n",
      "SOL #9: SCORE -143.155038\n",
      "tensor([[-0.6893, -0.7244,  0.0093],\n",
      "        [-0.2210,  0.2225,  0.9495],\n",
      "        [-0.6899,  0.6525, -0.3135]]) tensor([[-0.6032, -0.7945, -0.0705],\n",
      "        [-0.2539,  0.1073,  0.9613],\n",
      "        [-0.7562,  0.5978, -0.2664]])\n",
      "tensor([-12.7620])\n",
      "tensor([[-0.6893, -0.7244,  0.0093],\n",
      "        [-0.2210,  0.2225,  0.9495],\n",
      "        [-0.6899,  0.6525, -0.3135]]) tensor([[-0.6032, -0.7945, -0.0705],\n",
      "        [-0.2539,  0.1073,  0.9613],\n",
      "        [-0.7562,  0.5978, -0.2664]])\n",
      "tensor([-12.7620])\n",
      "tensor([[-0.5089, -0.8468, -0.1546],\n",
      "        [-0.2733, -0.0113,  0.9619],\n",
      "        [-0.8163,  0.5317, -0.2257]]) tensor([[-0.6032, -0.7945, -0.0705],\n",
      "        [-0.2539,  0.1073,  0.9613],\n",
      "        [-0.7562,  0.5978, -0.2664]])\n",
      "tensor([-12.7620])\n",
      "tensor([[-0.5089, -0.8468, -0.1546],\n",
      "        [-0.2733, -0.0113,  0.9619],\n",
      "        [-0.8163,  0.5317, -0.2257]]) tensor([[-0.6032, -0.7945, -0.0705],\n",
      "        [-0.2539,  0.1073,  0.9613],\n",
      "        [-0.7562,  0.5978, -0.2664]])\n",
      "tensor([-12.7620])\n",
      "tensor([[ 0.9699, -0.2043, -0.1327],\n",
      "        [ 0.2418,  0.7421,  0.6252],\n",
      "        [-0.0292, -0.6384,  0.7691]]) tensor([[ 0.3092, -0.9031,  0.2981],\n",
      "        [ 0.2161,  0.3721,  0.9027],\n",
      "        [-0.9262, -0.2145,  0.3103]])\n",
      "tensor([-91.0816])\n",
      "tensor([[ 0.9699, -0.2043, -0.1327],\n",
      "        [ 0.2418,  0.7421,  0.6252],\n",
      "        [-0.0292, -0.6384,  0.7691]]) tensor([[ 0.3092, -0.9031,  0.2981],\n",
      "        [ 0.2161,  0.3721,  0.9027],\n",
      "        [-0.9262, -0.2145,  0.3103]])\n",
      "tensor([-91.0816])\n",
      "tensor([[-0.6893, -0.7244,  0.0093],\n",
      "        [-0.2210,  0.2225,  0.9495],\n",
      "        [-0.6899,  0.6525, -0.3135]]) tensor([[ 0.3092, -0.9031,  0.2981],\n",
      "        [ 0.2161,  0.3721,  0.9027],\n",
      "        [-0.9262, -0.2145,  0.3103]])\n",
      "tensor([-91.0816])\n",
      "tensor([[-0.6893, -0.7244,  0.0093],\n",
      "        [-0.2210,  0.2225,  0.9495],\n",
      "        [-0.6899,  0.6525, -0.3135]]) tensor([[ 0.3092, -0.9031,  0.2981],\n",
      "        [ 0.2161,  0.3721,  0.9027],\n",
      "        [-0.9262, -0.2145,  0.3103]])\n",
      "tensor([-91.0816])\n",
      "tensor([[-0.6893, -0.7244,  0.0093],\n",
      "        [-0.2210,  0.2225,  0.9495],\n",
      "        [-0.6899,  0.6525, -0.3135]]) tensor([[ 0.3923, -0.9071,  0.1529],\n",
      "        [ 0.2345,  0.2593,  0.9369],\n",
      "        [-0.8895, -0.3316,  0.3145]])\n",
      "tensor([-95.2989])\n",
      "tensor([[-0.6893, -0.7244,  0.0093],\n",
      "        [-0.2210,  0.2225,  0.9495],\n",
      "        [-0.6899,  0.6525, -0.3135]]) tensor([[ 0.3923, -0.9071,  0.1529],\n",
      "        [ 0.2345,  0.2593,  0.9369],\n",
      "        [-0.8895, -0.3316,  0.3145]])\n",
      "tensor([-95.2989])\n"
     ]
    }
   ],
   "source": [
    "vis[\"greedy_scene_tree\"].delete()\n",
    "# Using seed 42 for thesis\n",
    "pyro.set_rng_seed(42)\n",
    "# Build up a big set of candidate intermediate nodes with both\n",
    "# top-down and bottom-up generation.\n",
    "proposed_poses_by_type = generate_candidate_node_pose_sets(\n",
    "    grammar, observed_nodes, max_recursion_depth=10, verbose=True\n",
    ")\n",
    "parse_trees = infer_mle_tree_with_mip_from_proposals(\n",
    "    grammar, observed_nodes, proposed_poses_by_type, verbose=True, N_solutions=10\n",
    ")\n",
    "for k, parse_tree in enumerate(parse_trees):\n",
    "    score = parse_tree.score()\n",
    "    print(\"SOL #%d: SCORE %f\" % (k, score))\n",
    "    draw_scene_tree_structure_meshcat(parse_tree, zmq_url=vis.window.zmq_url, prefix=\"greedy_scene_tree/%d_%f\" % (k, score), linewidth=20, with_triad=False, node_sphere_size=0.05, alpha=0.5)\n",
    "\n",
    "# Do NLP refinement of top trees\n",
    "vis[\"topNrefined\"].delete()\n",
    "refined_trees = []\n",
    "for k, mip_optimized_tree in enumerate(parse_trees):\n",
    "    refinement_results = optimize_scene_tree_with_nlp(grammar, mip_optimized_tree, verbose=False)\n",
    "    refined_trees.append(refinement_results.refined_tree)\n",
    "    for node1, node2 in zip(mip_optimized_tree.nodes, refined_trees[-1].nodes):\n",
    "        if isinstance(node1, Pair):\n",
    "            print(node1.rotation, node2.rotation)\n",
    "    draw_scene_tree_structure_meshcat(refined_trees[-1], zmq_url=vis.window.zmq_url, prefix=\"greedy_scene_tree/topNrefined/%d_%f\" % (k, refined_trees[-1].score().item()), node_sphere_size=0.05, with_triad=False, alpha=0.5, linewidth=20)\n",
    "    print(refined_trees[-1].score())"
   ]
  },
  {
   "cell_type": "markdown",
   "metadata": {},
   "source": [
    "# MIP Parsing"
   ]
  },
  {
   "cell_type": "code",
   "execution_count": 6,
   "metadata": {},
   "outputs": [
    {
     "name": "stdout",
     "output_type": "stream",
     "text": [
      "Starting setup.\n",
      "Activation vars allocated.\n"
     ]
    },
    {
     "name": "stderr",
     "output_type": "stream",
     "text": [
      "WARNING:root:Hitting bad MIP case\n",
      "WARNING:root:Hitting bad MIP case\n",
      "WARNING:root:Hitting bad MIP case\n",
      "WARNING:root:Hitting bad MIP case\n",
      "WARNING:root:Hitting bad MIP case\n"
     ]
    },
    {
     "name": "stdout",
     "output_type": "stream",
     "text": [
      "Continuous variables and SO(3) constraints allocated for all equivalence sets.\n"
     ]
    },
    {
     "name": "stderr",
     "output_type": "stream",
     "text": [
      "WARNING:root:Hitting bad MIP case\n"
     ]
    },
    {
     "name": "stdout",
     "output_type": "stream",
     "text": [
      "Setup time:  0.6932568550109863\n",
      "Num vars:  4894\n",
      "Num constraints:  14063\n",
      "Optimization success?:  True\n",
      "Logfile: \n",
      "\n",
      "Gurobi 9.0.2 (linux64) logging started Wed Dec 15 02:15:10 2021\n",
      "\n",
      "Gurobi Optimizer version 9.0.2 build v9.0.2rc0 (linux64)\n",
      "Optimize a model with 10021 rows, 4894 columns and 72752 nonzeros\n",
      "Model fingerprint: 0xc4d930f6\n",
      "Model has 36 quadratic objective terms\n",
      "Variable types: 4680 continuous, 214 integer (214 binary)\n",
      "Coefficient statistics:\n",
      "  Matrix range     [9e-04, 2e+01]\n",
      "  Objective range  [1e-18, 1e+02]\n",
      "  QObjective range [1e+00, 1e+02]\n",
      "  Bounds range     [1e+00, 1e+01]\n",
      "  RHS range        [2e-01, 2e+01]\n",
      "Presolve removed 3828 rows and 154 columns\n",
      "Presolve time: 0.10s\n",
      "Presolved: 6193 rows, 4740 columns, 53876 nonzeros\n",
      "Presolved model has 36 quadratic objective terms\n",
      "Variable types: 4542 continuous, 198 integer (198 binary)\n",
      "\n",
      "Root relaxation: objective -3.034251e+02, 15844 iterations, 1.23 seconds\n",
      "\n",
      "    Nodes    |    Current Node    |     Objective Bounds      |     Work\n",
      " Expl Unexpl |  Obj  Depth IntInf | Incumbent    BestBd   Gap | It/Node Time\n",
      "\n",
      "     0     0 -264.68595    0  125          - -264.68595      -     -    1s\n",
      "     0     0 -253.18637    0  124          - -253.18637      -     -    2s\n",
      "     0     0 -253.18637    0  124          - -253.18637      -     -    2s\n",
      "     0     0 -246.75121    0  121          - -246.75121      -     -    2s\n",
      "     0     0 -243.37688    0  126          - -243.37688      -     -    2s\n",
      "     0     0 -243.37688    0  126          - -243.37688      -     -    2s\n",
      "     0     0 -242.66014    0  121          - -242.66014      -     -    2s\n",
      "     0     0 -242.66014    0  130          - -242.66014      -     -    2s\n",
      "     0     0 -242.66014    0  130          - -242.66014      -     -    2s\n",
      "     0     0 -242.60911    0  124          - -242.60911      -     -    3s\n",
      "     0     0 -242.55818    0  130          - -242.55818      -     -    3s\n",
      "     0     0 -242.51565    0  130          - -242.51565      -     -    3s\n",
      "     0     0 -242.50412    0  130          - -242.50412      -     -    3s\n",
      "     0     0 -242.21431    0  129          - -242.21431      -     -    3s\n",
      "     0     0 -242.10744    0  131          - -242.10744      -     -    3s\n",
      "     0     0 -242.10744    0  131          - -242.10744      -     -    3s\n",
      "     0     0 -237.84097    0  123          - -237.84097      -     -    4s\n",
      "     0     0 -237.84007    0  124          - -237.84007      -     -    4s\n",
      "     0     0 -237.15326    0  124          - -237.15326      -     -    4s\n",
      "     0     0 -237.14798    0  125          - -237.14798      -     -    4s\n",
      "     0     0 -214.70384    0  130          - -214.70384      -     -    5s\n",
      "     0     0 -214.70384    0  134          - -214.70384      -     -    5s\n",
      "     0     0 -214.70384    0  136          - -214.70384      -     -    5s\n",
      "     0     0 -214.70384    0  138          - -214.70384      -     -    5s\n",
      "     0     0 -214.70384    0  132          - -214.70384      -     -    5s\n",
      "     0     2 -214.70384    0  132          - -214.70384      -     -    7s\n",
      "    19    18 -141.64097    4  117          - -165.85725      -  3418   10s\n",
      "*  560   553              93       3.0796958 -130.46542  4336%   435   13s\n",
      "   783   679   61.66781    8  107    3.07970  -77.70142  2623%   445   15s\n",
      "H  880   746                       1.3553935  -77.70142  5833%   434   19s\n",
      "  1080   713     cutoff   38         1.35539  -70.52055  5303%   412   20s\n",
      "  1298   728    1.35539   23  155    1.35539  -56.80285  4291%   402   25s\n",
      "  1305   738  -56.80285   12  148    1.35539  -56.80285  4291%   429   31s\n",
      "  1491   832    1.35018   34   87    1.35539  -56.80285  4291%   500   35s\n",
      "  1741   961    1.06474   30  102    1.35539  -56.80285  4291%   507   41s\n",
      "  2310   636    1.31899   42   79    1.35539    1.04017  23.3%   476   45s\n",
      "  3420   641    1.35018   38   89    1.35539    1.04017  23.3%   418   50s\n",
      "  4541   904    1.35018   35   67    1.35539    1.05612  22.1%   397   61s\n",
      "  5375   989 infeasible   44         1.35539    1.06977  21.1%   369   65s\n",
      "  7411  1440    1.31129   49   65    1.35539    1.21841  10.1%   312   71s\n",
      "  9243  1568    1.33912   41   80    1.35539    1.21841  10.1%   271   75s\n",
      " 11512  1463    1.31899   40   85    1.35539    1.21841  10.1%   248   80s\n",
      " 14219   779    1.32206   46   62    1.35539    1.31899  2.69%   214   85s\n",
      " 15278   779    1.33414   48   59    1.35539    1.31899  2.69%   206   90s\n",
      " 18331   206     cutoff   49         1.35539    1.32206  2.46%   191   96s\n",
      "\n",
      "Cutting planes:\n",
      "  Gomory: 1\n",
      "  MIR: 46\n",
      "  Flow cover: 52\n",
      "  RLT: 21\n",
      "  Relax-and-lift: 15\n",
      "\n",
      "Explored 19729 nodes (3720179 simplex iterations) in 98.17 seconds\n",
      "Thread count was 12 (of 12 available processors)\n",
      "\n",
      "Solution count 10: 1.35539 1.35539 1.35539 ... 1.35539\n",
      "\n",
      "Optimal solution found (tolerance 1.00e-03)\n",
      "Best objective 1.355393532852e+00, best bound 1.355393532852e+00, gap 0.0000%\n",
      "\n",
      "Solve time:  98.25660228729248\n",
      "Total time:  98.94985914230347\n"
     ]
    }
   ],
   "source": [
    "# Get single-shot parse of scene\n",
    "inference_results = infer_mle_tree_with_mip(\n",
    "    grammar, observed_nodes, verbose=True, max_scene_extent_in_any_dir=10., N_solutions=10\n",
    ")"
   ]
  },
  {
   "cell_type": "code",
   "execution_count": 7,
   "metadata": {},
   "outputs": [
    {
     "name": "stdout",
     "output_type": "stream",
     "text": [
      "tensor([-458.6527])\n",
      "tensor([-458.6527])\n",
      "tensor([-458.6527])\n",
      "tensor([-458.6527])\n",
      "tensor([-458.6527])\n",
      "tensor([-458.6527])\n",
      "tensor([-458.6527])\n",
      "tensor([-458.6527])\n",
      "tensor([-458.6527])\n",
      "tensor([-458.6527])\n",
      "Avg elementwise deviation from R^T R = I:  tensor(6.4763e-17)\n",
      "Avg elementwise deviation from R^T R = I:  tensor(6.4763e-17)\n",
      "Avg elementwise deviation from R^T R = I:  tensor(6.4763e-17)\n",
      "Avg elementwise deviation from R^T R = I:  tensor(1.4186e-16)\n",
      "Avg elementwise deviation from R^T R = I:  tensor(1.9737e-16)\n",
      "Avg elementwise deviation from R^T R = I:  tensor(0.0511)\n",
      "Avg elementwise deviation from R^T R = I:  tensor(2.8146e-16)\n",
      "Avg elementwise deviation from R^T R = I:  tensor(3.5157e-16)\n"
     ]
    }
   ],
   "source": [
    "mip_optimized_trees = get_optimized_trees_from_mip_results(inference_results)\n",
    "draw_scene_tree_structure_meshcat(mip_optimized_trees[0], zmq_url=vis.window.zmq_url, prefix=\"mip_scene_tree\", linewidth=20, with_triad=False, node_sphere_size=0.05, alpha=0.5, )\n",
    "\n",
    "for tree in mip_optimized_trees:\n",
    "    print(tree.score())\n",
    "for node in mip_optimized_trees[0]:\n",
    "    err = torch.matmul(node.rotation.transpose(0, 1), node.rotation) - torch.eye(3)\n",
    "    print(\"Avg elementwise deviation from R^T R = I: \", err.abs().mean())"
   ]
  },
  {
   "cell_type": "code",
   "execution_count": 8,
   "metadata": {},
   "outputs": [
    {
     "name": "stdout",
     "output_type": "stream",
     "text": [
      "tensor([-12.7620])\n",
      "tensor([-12.7620])\n",
      "tensor([-12.7620])\n",
      "tensor([-12.7620])\n",
      "tensor([-12.7620])\n",
      "tensor([-12.7620])\n",
      "tensor([-12.7620])\n",
      "tensor([-12.7620])\n",
      "tensor([-12.7620])\n",
      "tensor([-12.7620])\n"
     ]
    }
   ],
   "source": [
    "# Do NLP refinement of top trees\n",
    "vis[\"topNrefined\"].delete()\n",
    "refined_trees = []\n",
    "for k, mip_optimized_tree in enumerate(mip_optimized_trees):\n",
    "    refinement_results = optimize_scene_tree_with_nlp(grammar, mip_optimized_tree, verbose=False)\n",
    "    refined_trees.append(refinement_results.refined_tree)\n",
    "    draw_scene_tree_structure_meshcat(refined_trees[-1], zmq_url=vis.window.zmq_url, prefix=\"topNrefined/%d_%f\" % (k, refined_trees[-1].score().item()), node_sphere_size=0.05, with_triad=False, alpha=0.5, linewidth=100)\n",
    "    print(refined_trees[-1].score())\n",
    "draw_scene_tree_structure_meshcat(refined_trees[0], zmq_url=vis.window.zmq_url, prefix=\"refined_scene_tree\", node_sphere_size=0.05, with_triad=False, alpha=0.5, linewidth=50)\n",
    "\n",
    "reset_bg()"
   ]
  },
  {
   "cell_type": "code",
   "execution_count": null,
   "metadata": {},
   "outputs": [],
   "source": []
  }
 ],
 "metadata": {
  "kernelspec": {
   "display_name": "Python 3",
   "language": "python",
   "name": "python3"
  },
  "language_info": {
   "codemirror_mode": {
    "name": "ipython",
    "version": 3
   },
   "file_extension": ".py",
   "mimetype": "text/x-python",
   "name": "python",
   "nbconvert_exporter": "python",
   "pygments_lexer": "ipython3",
   "version": "3.6.13"
  }
 },
 "nbformat": 4,
 "nbformat_minor": 4
}
