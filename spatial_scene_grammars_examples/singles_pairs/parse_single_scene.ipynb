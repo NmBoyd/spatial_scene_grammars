{
 "cells": [
  {
   "cell_type": "code",
   "execution_count": 76,
   "metadata": {},
   "outputs": [
    {
     "name": "stdout",
     "output_type": "stream",
     "text": [
      "The autoreload extension is already loaded. To reload it, use:\n",
      "  %reload_ext autoreload\n"
     ]
    }
   ],
   "source": [
    "%load_ext autoreload\n",
    "%autoreload 2\n",
    "\n",
    "import matplotlib.pyplot as plt\n",
    "import networkx as nx\n",
    "import numpy as np\n",
    "import os\n",
    "import pickle\n",
    "import time\n",
    "\n",
    "import torch\n",
    "torch.set_default_tensor_type(torch.DoubleTensor)\n",
    "\n",
    "from spatial_scene_grammars.nodes import *\n",
    "from spatial_scene_grammars.rules import *\n",
    "from spatial_scene_grammars.scene_grammar import *\n",
    "from spatial_scene_grammars.visualization import *\n",
    "\n",
    "# DEPENDENCY\n",
    "DEPENDENCY = 1\n",
    "if DEPENDENCY:\n",
    "    from spatial_scene_grammars_examples.singles_pairs.grammar_dependency import *\n",
    "else:\n",
    "    from spatial_scene_grammars_examples.singles_pairs.grammar_constituency import *\n",
    "    \n",
    "from spatial_scene_grammars.parsing import *\n",
    "from spatial_scene_grammars.sampling import *\n",
    "\n",
    "import meshcat\n",
    "import meshcat.geometry as meshcat_geom"
   ]
  },
  {
   "cell_type": "code",
   "execution_count": 77,
   "metadata": {},
   "outputs": [
    {
     "name": "stdout",
     "output_type": "stream",
     "text": [
      "Meshcat url:  http://127.0.0.1:7000/static/\n"
     ]
    },
    {
     "data": {
      "text/html": [
       "\n",
       "    <div style=\"height: 400px; width: 100%; overflow-x: auto; overflow-y: hidden; resize: both\">\n",
       "    <iframe src=\"http://127.0.0.1:7000/static/\" style=\"width: 100%; height: 100%; border: none\"></iframe>\n",
       "</div>\n"
      ],
      "text/plain": [
       "<IPython.core.display.HTML object>"
      ]
     },
     "execution_count": 77,
     "metadata": {},
     "output_type": "execute_result"
    }
   ],
   "source": [
    "if 'vis' not in globals():\n",
    "    vis = meshcat.Visualizer()\n",
    "    \n",
    "vis.delete()\n",
    "\n",
    "def reset_bg():\n",
    "    vis['/Background'].set_property(\"top_color\", [0.2, 0.2, 0.2])\n",
    "    vis['/Background'].set_property(\"bottom_color\", [.32, .32, .35])\n",
    "\n",
    "base_url = \"http://127.0.0.1\"\n",
    "meshcat_url = base_url + \":\" + vis.url().split(\":\")[-1]\n",
    "print(\"Meshcat url: \", meshcat_url)\n",
    "from IPython.display import HTML\n",
    "HTML(\"\"\"\n",
    "    <div style=\"height: 400px; width: 100%; overflow-x: auto; overflow-y: hidden; resize: both\">\n",
    "    <iframe src=\"{url}\" style=\"width: 100%; height: 100%; border: none\"></iframe>\n",
    "</div>\n",
    "\"\"\".format(url=meshcat_url))"
   ]
  },
  {
   "cell_type": "code",
   "execution_count": 78,
   "metadata": {},
   "outputs": [
    {
     "name": "stdout",
     "output_type": "stream",
     "text": [
      "Sampled scene with 4 objects and 1 pairs.\n",
      "Sampled tree has score -20.471196\n"
     ]
    }
   ],
   "source": [
    "# Draw a random sample (or load one) from the grammar and visualize it.\n",
    "grammar = SpatialSceneGrammar(\n",
    "    root_node_type = Root,\n",
    "    root_node_tf = torch.eye(4)\n",
    ")\n",
    "\n",
    "pyro.set_rng_seed(63)\n",
    "\n",
    "REGENERATE = True\n",
    "EXAMPLE_FILE = \"single_scene.pickle\"\n",
    "if REGENERATE or not os.path.exists(EXAMPLE_FILE):\n",
    "    with open(EXAMPLE_FILE, \"wb\") as f:\n",
    "        tree = grammar.sample_tree(detach=True)\n",
    "        observed_nodes = tree.get_observed_nodes()\n",
    "        pickle.dump((tree, observed_nodes), f)\n",
    "\n",
    "with open(EXAMPLE_FILE, \"rb\") as f:\n",
    "    tree, observed_nodes = pickle.load(f)\n",
    "\n",
    "print(\"Sampled scene with %d objects and %d pairs.\" % \n",
    "      (len(tree.find_nodes_by_type(Object)),\n",
    "       len(tree.find_nodes_by_type(Pair))))\n",
    "print(\"Sampled tree has score %f\" % tree.score().item())\n",
    "draw_scene_tree_contents_meshcat(tree, zmq_url=vis.window.zmq_url)\n",
    "draw_scene_tree_structure_meshcat(tree, zmq_url=vis.window.zmq_url, alpha=0.5, node_sphere_size=0.05, with_triad=False)\n",
    "reset_bg()"
   ]
  },
  {
   "cell_type": "code",
   "execution_count": 79,
   "metadata": {},
   "outputs": [
    {
     "name": "stdout",
     "output_type": "stream",
     "text": [
      "Super tree has 15 nodes\n"
     ]
    },
    {
     "data": {
      "image/png": "[encoded data removed]",
      "text/plain": [
       "<Figure size 432x288 with 1 Axes>"
      ]
     },
     "metadata": {},
     "output_type": "display_data"
    }
   ],
   "source": [
    "# Draw supertree for this grammar\n",
    "super_tree = grammar.make_super_tree(max_recursion_depth=10)\n",
    "nx.draw_networkx(super_tree, with_labels=False)\n",
    "plt.title(\"Super tree for oriented clusters grammar\")\n",
    "print(\"Super tree has %d nodes\" % len(list(super_tree.nodes)))"
   ]
  },
  {
   "cell_type": "code",
   "execution_count": 80,
   "metadata": {},
   "outputs": [
    {
     "name": "stdout",
     "output_type": "stream",
     "text": [
      "Starting setup.\n",
      "Activation vars allocated.\n",
      "Continuous variables and SO(3) constraints allocated for all equivalence sets.\n",
      "Setup time:  0.11880874633789062\n",
      "Num vars:  469\n",
      "Num constraints:  1496\n",
      "Optimization success?:  True\n",
      "Logfile: \n",
      "\n",
      "Gurobi 9.0.2 (linux64) logging started Sat Oct 30 00:43:39 2021\n",
      "\n",
      "Gurobi Optimizer version 9.0.2 build v9.0.2rc0 (linux64)\n",
      "Optimize a model with 1339 rows, 469 columns and 6722 nonzeros\n",
      "Model fingerprint: 0x395cd124\n",
      "Model has 27 quadratic objective terms\n",
      "Variable types: 417 continuous, 52 integer (52 binary)\n",
      "Coefficient statistics:\n",
      "  Matrix range     [8e-04, 2e+01]\n",
      "  Objective range  [1e-33, 1e+02]\n",
      "  QObjective range [1e+00, 5e+01]\n",
      "  Bounds range     [1e+00, 1e+01]\n",
      "  RHS range        [1e+00, 2e+01]\n",
      "Presolve removed 393 rows and 114 columns\n",
      "Presolve time: 0.01s\n",
      "Presolved: 946 rows, 355 columns, 5314 nonzeros\n",
      "Presolved model has 22 quadratic objective terms\n",
      "Variable types: 329 continuous, 26 integer (26 binary)\n",
      "\n",
      "Root relaxation: objective 1.022550e+00, 604 iterations, 0.01 seconds\n",
      "\n",
      "    Nodes    |    Current Node    |     Objective Bounds      |     Work\n",
      " Expl Unexpl |  Obj  Depth IntInf | Incumbent    BestBd   Gap | It/Node Time\n",
      "\n",
      "     0     0    1.02255    0   11          -    1.02255      -     -    0s\n",
      "H    0     0                     238.8782559    1.02255   100%     -    0s\n",
      "H    0     0                      21.0793518    1.02255  95.1%     -    0s\n",
      "     0     0    2.31664    0   17   21.07935    2.31664  89.0%     -    0s\n",
      "     0     0    4.95482    0   17   21.07935    4.95482  76.5%     -    0s\n",
      "     0     0   17.45333    0   17   21.07935   17.45333  17.2%     -    0s\n",
      "H    0     0                      20.4711963   17.45333  14.7%     -    0s\n",
      "     0     0   20.47120    0   20   20.47120   20.47120  0.00%     -    0s\n",
      "\n",
      "Optimal solution found at node 0 - now completing solution pool...\n",
      "\n",
      "    Nodes    |    Current Node    |      Pool Obj. Bounds     |     Work\n",
      "             |                    |   Worst                   |\n",
      " Expl Unexpl |  Obj  Depth IntInf | Incumbent    BestBd   Gap | It/Node Time\n",
      "\n",
      "     0     0   20.47120    0   19          -   20.47120      -     -    0s\n",
      "     0     0   20.47120    0   20          -   20.47120      -     -    0s\n",
      "     0     2   20.47120    0   20          -   20.47120      -     -    0s\n",
      "\n",
      "Cutting planes:\n",
      "  Learned: 2\n",
      "  Gomory: 1\n",
      "  Cover: 1\n",
      "  Implied bound: 1\n",
      "  MIR: 29\n",
      "  RLT: 8\n",
      "  BQP: 4\n",
      "\n",
      "Explored 70 nodes (3144 simplex iterations) in 0.18 seconds\n",
      "Thread count was 12 (of 12 available processors)\n",
      "\n",
      "Solution count 10: 20.4712 21.0794 91.0093 ... 146.407\n",
      "No other solutions better than 146.407\n",
      "\n",
      "Optimal solution found (tolerance 1.00e-03)\n",
      "Best objective 2.047119633164e+01, best bound 2.047119633164e+01, gap 0.0000%\n",
      "\n",
      "Solve time:  0.22005629539489746\n",
      "Total time:  0.3388650417327881\n"
     ]
    }
   ],
   "source": [
    "# Repeatedly parse this scene, \n",
    "inference_results = infer_mle_tree_with_mip(\n",
    "    grammar, observed_nodes, verbose=True, max_scene_extent_in_any_dir=10., N_solutions=10\n",
    ")"
   ]
  },
  {
   "cell_type": "code",
   "execution_count": 74,
   "metadata": {},
   "outputs": [
    {
     "name": "stdout",
     "output_type": "stream",
     "text": [
      "tensor([-458.6527])\n",
      "tensor([-458.6527])\n",
      "tensor([-458.6527])\n",
      "tensor([-458.6527])\n",
      "tensor([-458.6527])\n",
      "tensor([-458.6527])\n",
      "tensor([-458.6527])\n",
      "tensor([-458.6527])\n",
      "tensor([-458.6527])\n",
      "tensor([-458.6527])\n",
      "Avg elementwise deviation from R^T R = I:  tensor(6.4763e-17)\n",
      "Avg elementwise deviation from R^T R = I:  tensor(6.4763e-17)\n",
      "Avg elementwise deviation from R^T R = I:  tensor(6.4763e-17)\n",
      "Avg elementwise deviation from R^T R = I:  tensor(1.5420e-16)\n",
      "Avg elementwise deviation from R^T R = I:  tensor(1.9737e-16)\n",
      "Avg elementwise deviation from R^T R = I:  tensor(0.0511)\n",
      "Avg elementwise deviation from R^T R = I:  tensor(2.3385e-16)\n",
      "Avg elementwise deviation from R^T R = I:  tensor(1.7887e-16)\n"
     ]
    }
   ],
   "source": [
    "mip_optimized_trees = get_optimized_trees_from_mip_results(inference_results)\n",
    "draw_scene_tree_structure_meshcat(mip_optimized_trees[0], zmq_url=vis.window.zmq_url, prefix=\"mip_scene_tree\", linewidth=20, with_triad=False, node_sphere_size=0.05, alpha=0.5, )\n",
    "\n",
    "for tree in mip_optimized_trees:\n",
    "    print(tree.score())\n",
    "for node in mip_optimized_trees[0]:\n",
    "    err = torch.matmul(node.rotation.transpose(0, 1), node.rotation) - torch.eye(3)\n",
    "    print(\"Avg elementwise deviation from R^T R = I: \", err.abs().mean())"
   ]
  },
  {
   "cell_type": "code",
   "execution_count": 75,
   "metadata": {},
   "outputs": [
    {
     "name": "stdout",
     "output_type": "stream",
     "text": [
      "tensor([-210.9692])\n",
      "tensor([-210.9692])\n",
      "tensor([-210.9692])\n",
      "tensor([-210.9692])\n",
      "tensor([-210.9692])\n",
      "tensor([-210.9692])\n",
      "tensor([-210.9692])\n",
      "tensor([-210.9692])\n",
      "tensor([-210.9692])\n",
      "tensor([-210.9692])\n"
     ]
    }
   ],
   "source": [
    "# Do NLP refinement of top trees\n",
    "vis[\"topNrefined\"].delete()\n",
    "refined_trees = []\n",
    "for k, mip_optimized_tree in enumerate(mip_optimized_trees):\n",
    "    refinement_results = optimize_scene_tree_with_nlp(grammar, mip_optimized_tree, verbose=False)\n",
    "    refined_trees.append(refinement_results.refined_tree)\n",
    "    draw_scene_tree_structure_meshcat(refined_trees[-1], zmq_url=vis.window.zmq_url, prefix=\"topNrefined/%d_%f\" % (k, refined_trees[-1].score().item()), node_sphere_size=0.05, with_triad=False, alpha=0.5, linewidth=20)\n",
    "    print(refined_trees[-1].score())\n",
    "draw_scene_tree_structure_meshcat(refined_trees[0], zmq_url=vis.window.zmq_url, prefix=\"refined_scene_tree\", node_sphere_size=0.05, with_triad=False, alpha=0.5, linewidth=20)\n",
    "\n",
    "reset_bg()"
   ]
  },
  {
   "cell_type": "code",
   "execution_count": null,
   "metadata": {},
   "outputs": [],
   "source": []
  },
  {
   "cell_type": "code",
   "execution_count": null,
   "metadata": {},
   "outputs": [],
   "source": []
  }
 ],
 "metadata": {
  "kernelspec": {
   "display_name": "Python 3",
   "language": "python",
   "name": "python3"
  },
  "language_info": {
   "codemirror_mode": {
    "name": "ipython",
    "version": 3
   },
   "file_extension": ".py",
   "mimetype": "text/x-python",
   "name": "python",
   "nbconvert_exporter": "python",
   "pygments_lexer": "ipython3",
   "version": "3.6.13"
  }
 },
 "nbformat": 4,
 "nbformat_minor": 4
}
