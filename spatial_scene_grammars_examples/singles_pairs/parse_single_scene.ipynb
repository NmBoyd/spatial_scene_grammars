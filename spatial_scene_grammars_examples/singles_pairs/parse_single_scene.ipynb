{
 "cells": [
  {
   "cell_type": "code",
   "execution_count": 31,
   "metadata": {},
   "outputs": [
    {
     "name": "stdout",
     "output_type": "stream",
     "text": [
      "The autoreload extension is already loaded. To reload it, use:\n",
      "  %reload_ext autoreload\n"
     ]
    }
   ],
   "source": [
    "%load_ext autoreload\n",
    "%autoreload 2\n",
    "\n",
    "import matplotlib.pyplot as plt\n",
    "import networkx as nx\n",
    "import numpy as np\n",
    "import os\n",
    "import pickle\n",
    "import time\n",
    "\n",
    "import torch\n",
    "torch.set_default_tensor_type(torch.DoubleTensor)\n",
    "\n",
    "from spatial_scene_grammars.nodes import *\n",
    "from spatial_scene_grammars.rules import *\n",
    "from spatial_scene_grammars.scene_grammar import *\n",
    "from spatial_scene_grammars.visualization import *\n",
    "\n",
    "# DEPENDENCY\n",
    "DEPENDENCY = 0\n",
    "if DEPENDENCY:\n",
    "    from spatial_scene_grammars_examples.singles_pairs.grammar_dependency import *\n",
    "else:\n",
    "    from spatial_scene_grammars_examples.singles_pairs.grammar_constituency import *\n",
    "    \n",
    "from spatial_scene_grammars.parsing import *\n",
    "from spatial_scene_grammars.sampling import *\n",
    "\n",
    "import meshcat\n",
    "import meshcat.geometry as meshcat_geom"
   ]
  },
  {
   "cell_type": "code",
   "execution_count": 32,
   "metadata": {},
   "outputs": [
    {
     "name": "stdout",
     "output_type": "stream",
     "text": [
      "Meshcat url:  http://127.0.0.1:7005/static/\n"
     ]
    },
    {
     "data": {
      "text/html": [
       "\n",
       "    <div style=\"height: 400px; width: 100%; overflow-x: auto; overflow-y: hidden; resize: both\">\n",
       "    <iframe src=\"http://127.0.0.1:7005/static/\" style=\"width: 100%; height: 100%; border: none\"></iframe>\n",
       "</div>\n"
      ],
      "text/plain": [
       "<IPython.core.display.HTML object>"
      ]
     },
     "execution_count": 32,
     "metadata": {},
     "output_type": "execute_result"
    }
   ],
   "source": [
    "if 'vis' not in globals():\n",
    "    vis = meshcat.Visualizer()\n",
    "\n",
    "def reset_bg():\n",
    "    vis['/Background'].set_property(\"top_color\", [0.2, 0.2, 0.2])\n",
    "    vis['/Background'].set_property(\"bottom_color\", [.32, .32, .35])\n",
    "\n",
    "base_url = \"http://127.0.0.1\"\n",
    "meshcat_url = base_url + \":\" + vis.url().split(\":\")[-1]\n",
    "print(\"Meshcat url: \", meshcat_url)\n",
    "from IPython.display import HTML\n",
    "HTML(\"\"\"\n",
    "    <div style=\"height: 400px; width: 100%; overflow-x: auto; overflow-y: hidden; resize: both\">\n",
    "    <iframe src=\"{url}\" style=\"width: 100%; height: 100%; border: none\"></iframe>\n",
    "</div>\n",
    "\"\"\".format(url=meshcat_url))"
   ]
  },
  {
   "cell_type": "code",
   "execution_count": 33,
   "metadata": {},
   "outputs": [
    {
     "name": "stdout",
     "output_type": "stream",
     "text": [
      "Sampled scene with 5 objects and 2 pairs.\n",
      "Sampled tree has score -7.029464\n"
     ]
    }
   ],
   "source": [
    "# Draw a random sample (or load one) from the grammar and visualize it.\n",
    "grammar = SpatialSceneGrammar(\n",
    "    root_node_type = Root,\n",
    "    root_node_tf = torch.eye(4)\n",
    ")\n",
    "torch.random.manual_seed(1)\n",
    "\n",
    "REGENERATE = True\n",
    "EXAMPLE_FILE = \"single_scene.pickle\"\n",
    "if REGENERATE or not os.path.exists(EXAMPLE_FILE):\n",
    "    with open(EXAMPLE_FILE, \"wb\") as f:\n",
    "        tree = grammar.sample_tree(detach=True)\n",
    "        observed_nodes = tree.get_observed_nodes()\n",
    "        pickle.dump((tree, observed_nodes), f)\n",
    "\n",
    "with open(EXAMPLE_FILE, \"rb\") as f:\n",
    "    tree, observed_nodes = pickle.load(f)\n",
    "\n",
    "print(\"Sampled scene with %d objects and %d pairs.\" % \n",
    "      (len(tree.find_nodes_by_type(Object)),\n",
    "       len(tree.find_nodes_by_type(Pair))))\n",
    "print(\"Sampled tree has score %f\" % tree.score().item())\n",
    "draw_scene_tree_contents_meshcat(tree, zmq_url=vis.window.zmq_url)\n",
    "draw_scene_tree_structure_meshcat(tree, zmq_url=vis.window.zmq_url, alpha=0.5, node_sphere_size=0.05, with_triad=False)\n",
    "reset_bg()"
   ]
  },
  {
   "cell_type": "code",
   "execution_count": 34,
   "metadata": {},
   "outputs": [
    {
     "name": "stdout",
     "output_type": "stream",
     "text": [
      "Super tree has 15 nodes\n"
     ]
    },
    {
     "data": {
      "image/png": "[encoded data removed]",
      "text/plain": [
       "<Figure size 432x288 with 1 Axes>"
      ]
     },
     "metadata": {
      "needs_background": "light"
     },
     "output_type": "display_data"
    }
   ],
   "source": [
    "# Draw supertree for this grammar\n",
    "super_tree = grammar.make_super_tree(max_recursion_depth=10)\n",
    "nx.draw_networkx(super_tree, with_labels=False)\n",
    "plt.title(\"Super tree for oriented clusters grammar\")\n",
    "print(\"Super tree has %d nodes\" % len(list(super_tree.nodes)))"
   ]
  },
  {
   "cell_type": "code",
   "execution_count": 35,
   "metadata": {},
   "outputs": [
    {
     "name": "stdout",
     "output_type": "stream",
     "text": [
      "Starting setup.\n",
      "Activation vars allocated.\n"
     ]
    },
    {
     "name": "stderr",
     "output_type": "stream",
     "text": [
      "WARNING:root:Hitting bad MIP case\n"
     ]
    },
    {
     "name": "stdout",
     "output_type": "stream",
     "text": [
      "Continuous variables and SO(3) constraints allocated for all equivalence sets.\n"
     ]
    },
    {
     "name": "stderr",
     "output_type": "stream",
     "text": [
      "WARNING:root:Hitting bad MIP case\n",
      "WARNING:root:Hitting bad MIP case\n",
      "WARNING:root:Hitting bad MIP case\n",
      "WARNING:root:Hitting bad MIP case\n",
      "WARNING:root:Hitting bad MIP case\n"
     ]
    },
    {
     "name": "stdout",
     "output_type": "stream",
     "text": [
      "Setup time:  1.0692856311798096\n",
      "Num vars:  5928\n",
      "Num constraints:  17385\n",
      "Optimization success?:  True\n",
      "Logfile: \n",
      "\n",
      "Gurobi 9.0.2 (linux64) logging started Wed Oct 27 04:27:23 2021\n",
      "\n",
      "Gurobi Optimizer version 9.0.2 build v9.0.2rc0 (linux64)\n",
      "Optimize a model with 12426 rows, 5928 columns and 91685 nonzeros\n",
      "Model fingerprint: 0x63235a89\n",
      "Model has 36 quadratic objective terms\n",
      "Variable types: 5670 continuous, 258 integer (258 binary)\n",
      "Coefficient statistics:\n",
      "  Matrix range     [3e-03, 2e+01]\n",
      "  Objective range  [1e-18, 1e+02]\n",
      "  QObjective range [1e+00, 1e+02]\n",
      "  Bounds range     [1e+00, 1e+01]\n",
      "  RHS range        [2e-01, 2e+01]\n",
      "Presolve removed 6232 rows and 1202 columns\n",
      "Presolve time: 0.16s\n",
      "Presolved: 6194 rows, 4726 columns, 55045 nonzeros\n",
      "Presolved model has 36 quadratic objective terms\n",
      "Variable types: 4517 continuous, 209 integer (209 binary)\n",
      "Found heuristic solution: objective 3475.5187883\n",
      "\n",
      "Root relaxation: objective -4.023937e+02, 11515 iterations, 0.53 seconds\n",
      "\n",
      "    Nodes    |    Current Node    |     Objective Bounds      |     Work\n",
      " Expl Unexpl |  Obj  Depth IntInf | Incumbent    BestBd   Gap | It/Node Time\n",
      "\n",
      "     0     0 -402.39371    0  127 3475.51879 -402.39371   112%     -    0s\n",
      "     0     0 -258.60968    0  122 3475.51879 -258.60968   107%     -    1s\n",
      "     0     0 -258.56611    0  122 3475.51879 -258.56611   107%     -    1s\n",
      "     0     0 -258.56611    0  122 3475.51879 -258.56611   107%     -    1s\n",
      "     0     0 -257.01490    0  125 3475.51879 -257.01490   107%     -    1s\n",
      "     0     0 -256.54812    0  130 3475.51879 -256.54812   107%     -    1s\n",
      "     0     0 -256.53365    0  128 3475.51879 -256.53365   107%     -    1s\n",
      "     0     0 -249.54479    0  127 3475.51879 -249.54479   107%     -    2s\n",
      "     0     0 -249.54479    0  130 3475.51879 -249.54479   107%     -    2s\n",
      "     0     0 -245.99232    0  128 3475.51879 -245.99232   107%     -    3s\n",
      "     0     0 -245.99232    0  129 3475.51879 -245.99232   107%     -    3s\n",
      "     0     0 -245.99179    0  129 3475.51879 -245.99179   107%     -    3s\n",
      "     0     0 -245.99179    0  129 3475.51879 -245.99179   107%     -    3s\n",
      "     0     0 -245.99168    0  132 3475.51879 -245.99168   107%     -    3s\n",
      "     0     0 -245.99168    0  133 3475.51879 -245.99168   107%     -    3s\n",
      "     0     0 -245.99168    0  132 3475.51879 -245.99168   107%     -    3s\n",
      "     0     2 -245.99168    0  132 3475.51879 -245.99168   107%     -    7s\n",
      "    51    60    7.51916    9  112 3475.51879 -169.28712   105%  1979   10s\n",
      "H  158   175                    2934.2975589 -169.28712   106%  1106   11s\n",
      "H  255   267                    2395.0370183 -169.28712   107%   801   17s\n",
      "*  589   624              89       7.7812065 -166.22553  2236%   456   18s\n",
      "*  641   492              89       1.9672620 -166.22553  8550%   429   18s\n",
      "   920   346   -9.64173   59   41    1.96726 -166.22553  8550%   431   20s\n",
      "* 1026   465              70       1.9001913 -166.22553  8848%   473   21s\n",
      "* 1143   411              76       1.6848843 -166.22553  9966%   457   21s\n",
      "* 1169   465              84      -9.6417283  -92.76938   862%   449   21s\n",
      "  1330   499   -9.65389   34  132   -9.64173  -92.76938   862%   432   25s\n",
      "  1339   505   -9.64173   43  152   -9.64173  -92.76938   862%   429   31s\n",
      "  1342   512  -92.76938   17  143   -9.64173  -92.76938   862%   458   35s\n",
      "  1526   571  -22.31041   25  113   -9.64173  -92.76938   862%   516   40s\n",
      "  1657   646  -10.01675   49   80   -9.64173  -92.76938   862%   512   45s\n",
      "  1815   698   -9.12884   78   30   -9.64173  -92.76938   862%   555   51s\n",
      "  1853   747   -9.12884   80   13   -9.64173  -92.76938   862%   605   55s\n",
      "* 2080   359              89     -21.1769607  -92.76938   338%   611   58s\n",
      "  2456   322  -54.55124   22  125  -21.17696  -67.56179   219%   570   60s\n",
      "\n",
      "Cutting planes:\n",
      "  Gomory: 16\n",
      "  Implied bound: 2\n",
      "  Projected implied bound: 64\n",
      "  Clique: 1\n",
      "  MIR: 38\n",
      "  Flow cover: 30\n",
      "  RLT: 12\n",
      "  Relax-and-lift: 30\n",
      "\n",
      "Explored 3266 nodes (1510579 simplex iterations) in 61.73 seconds\n",
      "Thread count was 12 (of 12 available processors)\n",
      "\n",
      "Solution count 10: -21.177 -21.177 -21.177 ... -21.177\n",
      "No other solutions better than -21.177\n",
      "\n",
      "Optimal solution found (tolerance 1.00e-03)\n",
      "Best objective -2.117696074262e+01, best bound -2.117696074262e+01, gap 0.0000%\n",
      "\n",
      "Solve time:  61.85545825958252\n",
      "Total time:  62.92474389076233\n"
     ]
    }
   ],
   "source": [
    "# Repeatedly parse this scene, \n",
    "inference_results = infer_mle_tree_with_mip(\n",
    "    grammar, observed_nodes, verbose=True, max_scene_extent_in_any_dir=10., N_solutions=10\n",
    ")"
   ]
  },
  {
   "cell_type": "code",
   "execution_count": 36,
   "metadata": {},
   "outputs": [
    {
     "name": "stdout",
     "output_type": "stream",
     "text": [
      "tensor([-271.3402])\n",
      "tensor([-271.3402])\n",
      "tensor([-271.3402])\n",
      "tensor([-271.3402])\n",
      "tensor([-271.3402])\n",
      "tensor([-271.3402])\n",
      "tensor([-271.3402])\n",
      "tensor([-271.3402])\n",
      "tensor([-271.3402])\n",
      "tensor([-271.3402])\n",
      "Avg elementwise deviation from R^T R = I:  tensor(9.5603e-17)\n",
      "Avg elementwise deviation from R^T R = I:  tensor(9.5603e-17)\n",
      "Avg elementwise deviation from R^T R = I:  tensor(9.5603e-17)\n",
      "Avg elementwise deviation from R^T R = I:  tensor(6.8772e-16)\n",
      "Avg elementwise deviation from R^T R = I:  tensor(0.0457)\n",
      "Avg elementwise deviation from R^T R = I:  tensor(0.0604)\n",
      "Avg elementwise deviation from R^T R = I:  tensor(6.1371e-16)\n",
      "Avg elementwise deviation from R^T R = I:  tensor(4.2944e-16)\n",
      "Avg elementwise deviation from R^T R = I:  tensor(1.9121e-16)\n",
      "Avg elementwise deviation from R^T R = I:  tensor(1.7270e-16)\n"
     ]
    }
   ],
   "source": [
    "mip_optimized_trees = get_optimized_trees_from_mip_results(inference_results)\n",
    "draw_scene_tree_structure_meshcat(mip_optimized_trees[0], zmq_url=vis.window.zmq_url, prefix=\"mip_scene_tree\", with_triad=False, node_sphere_size=0.05, alpha=0.5)\n",
    "\n",
    "for tree in mip_optimized_trees:\n",
    "    print(tree.score())\n",
    "for node in mip_optimized_trees[0]:\n",
    "    err = torch.matmul(node.rotation.transpose(0, 1), node.rotation) - torch.eye(3)\n",
    "    print(\"Avg elementwise deviation from R^T R = I: \", err.abs().mean())"
   ]
  },
  {
   "cell_type": "code",
   "execution_count": 38,
   "metadata": {},
   "outputs": [
    {
     "name": "stdout",
     "output_type": "stream",
     "text": [
      "tensor([-373.2017])\n",
      "tensor([-307.9339])\n",
      "tensor([-198.9294])\n",
      "tensor([-209.2876])\n",
      "tensor([-307.7922])\n",
      "tensor([-199.3129])\n",
      "tensor([-211.7867])\n",
      "tensor([-210.2455])\n",
      "tensor([-327.8811])\n",
      "tensor([-341.5103])\n"
     ]
    }
   ],
   "source": [
    "# Do NLP refinement of top trees\n",
    "refined_trees = []\n",
    "for k, mip_optimized_tree in enumerate(mip_optimized_trees):\n",
    "    refinement_results = optimize_scene_tree_with_nlp(grammar, mip_optimized_tree, verbose=False)\n",
    "    refined_trees.append(refinement_results.refined_tree)\n",
    "    draw_scene_tree_structure_meshcat(refined_trees[-1], zmq_url=vis.window.zmq_url, prefix=\"topNrefined/%d\" % k, node_sphere_size=0.05, with_triad=False, alpha=0.5)\n",
    "    print(refined_trees[-1].score())\n",
    "draw_scene_tree_structure_meshcat(refined_trees[0], zmq_url=vis.window.zmq_url, prefix=\"refined_scene_tree\", node_sphere_size=0.05, with_triad=False, alpha=0.5)\n",
    "\n",
    "reset_bg()"
   ]
  },
  {
   "cell_type": "code",
   "execution_count": null,
   "metadata": {},
   "outputs": [],
   "source": []
  },
  {
   "cell_type": "code",
   "execution_count": null,
   "metadata": {},
   "outputs": [],
   "source": []
  }
 ],
 "metadata": {
  "kernelspec": {
   "display_name": "Python 3",
   "language": "python",
   "name": "python3"
  },
  "language_info": {
   "codemirror_mode": {
    "name": "ipython",
    "version": 3
   },
   "file_extension": ".py",
   "mimetype": "text/x-python",
   "name": "python",
   "nbconvert_exporter": "python",
   "pygments_lexer": "ipython3",
   "version": "3.6.10"
  }
 },
 "nbformat": 4,
 "nbformat_minor": 4
}
