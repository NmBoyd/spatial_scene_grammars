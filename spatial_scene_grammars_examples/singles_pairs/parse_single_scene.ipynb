{
 "cells": [
  {
   "cell_type": "code",
   "execution_count": 1,
   "metadata": {},
   "outputs": [],
   "source": [
    "%load_ext autoreload\n",
    "%autoreload 2\n",
    "\n",
    "import matplotlib.pyplot as plt\n",
    "import networkx as nx\n",
    "import numpy as np\n",
    "import os\n",
    "import time\n",
    "\n",
    "import torch\n",
    "torch.set_default_tensor_type(torch.DoubleTensor)\n",
    "\n",
    "from spatial_scene_grammars.nodes import *\n",
    "from spatial_scene_grammars.rules import *\n",
    "from spatial_scene_grammars.scene_grammar import *\n",
    "from spatial_scene_grammars.visualization import *\n",
    "from spatial_scene_grammars_examples.singles_pairs.grammar import *\n",
    "from spatial_scene_grammars.parsing import *\n",
    "from spatial_scene_grammars.sampling import *\n",
    "\n",
    "import meshcat\n",
    "import meshcat.geometry as meshcat_geom"
   ]
  },
  {
   "cell_type": "code",
   "execution_count": 2,
   "metadata": {},
   "outputs": [
    {
     "name": "stdout",
     "output_type": "stream",
     "text": [
      "You can open the visualizer by visiting the following URL:\n",
      "http://127.0.0.1:7007/static/\n",
      "Meshcat url:  http://127.0.0.1:7007/static/\n"
     ]
    },
    {
     "data": {
      "text/html": [
       "\n",
       "    <div style=\"height: 400px; width: 100%; overflow-x: auto; overflow-y: hidden; resize: both\">\n",
       "    <iframe src=\"http://127.0.0.1:7007/static/\" style=\"width: 100%; height: 100%; border: none\"></iframe>\n",
       "</div>\n"
      ],
      "text/plain": [
       "<IPython.core.display.HTML object>"
      ]
     },
     "execution_count": 2,
     "metadata": {},
     "output_type": "execute_result"
    }
   ],
   "source": [
    "if 'vis' not in globals():\n",
    "    vis = meshcat.Visualizer()\n",
    "\n",
    "def reset_bg():\n",
    "    vis['/Background'].set_property(\"top_color\", [0.2, 0.2, 0.2])\n",
    "    vis['/Background'].set_property(\"bottom_color\", [.32, .32, .35])\n",
    "\n",
    "base_url = \"http://127.0.0.1\"\n",
    "meshcat_url = base_url + \":\" + vis.url().split(\":\")[-1]\n",
    "print(\"Meshcat url: \", meshcat_url)\n",
    "from IPython.display import HTML\n",
    "HTML(\"\"\"\n",
    "    <div style=\"height: 400px; width: 100%; overflow-x: auto; overflow-y: hidden; resize: both\">\n",
    "    <iframe src=\"{url}\" style=\"width: 100%; height: 100%; border: none\"></iframe>\n",
    "</div>\n",
    "\"\"\".format(url=meshcat_url))"
   ]
  },
  {
   "cell_type": "code",
   "execution_count": 13,
   "metadata": {},
   "outputs": [
    {
     "name": "stdout",
     "output_type": "stream",
     "text": [
      "Sampled scene with 5 objects and 2 pairs.\n",
      "Sampled tree has score -6.616071\n"
     ]
    }
   ],
   "source": [
    "# Draw a random sample from the grammar and visualize it.\n",
    "grammar = SpatialSceneGrammar(\n",
    "    root_node_type = Root,\n",
    "    root_node_tf = torch.eye(4)\n",
    ")\n",
    "torch.random.manual_seed(1)\n",
    "tree = grammar.sample_tree(detach=True)\n",
    "observed_nodes = tree.get_observed_nodes()\n",
    "print(\"Sampled scene with %d objects and %d pairs.\" % \n",
    "      (len(tree.find_nodes_by_type(Object)),\n",
    "       len(tree.find_nodes_by_type(Pair))))\n",
    "print(\"Sampled tree has score %f\" % tree.score().item())\n",
    "draw_scene_tree_contents_meshcat(tree, zmq_url=vis.window.zmq_url)\n",
    "draw_scene_tree_structure_meshcat(tree, zmq_url=vis.window.zmq_url, alpha=0.5, node_sphere_size=0.05, with_triad=False)\n",
    "reset_bg()"
   ]
  },
  {
   "cell_type": "code",
   "execution_count": 4,
   "metadata": {},
   "outputs": [
    {
     "name": "stdout",
     "output_type": "stream",
     "text": [
      "Super tree has 15 nodes\n"
     ]
    },
    {
     "data": {
      "image/png": "[encoded data removed]",
      "text/plain": [
       "<Figure size 432x288 with 1 Axes>"
      ]
     },
     "metadata": {},
     "output_type": "display_data"
    }
   ],
   "source": [
    "# Draw supertree for this grammar\n",
    "super_tree = grammar.make_super_tree(max_recursion_depth=10)\n",
    "nx.draw_networkx(super_tree, with_labels=False)\n",
    "plt.title(\"Super tree for oriented clusters grammar\")\n",
    "print(\"Super tree has %d nodes\" % len(list(super_tree.nodes)))"
   ]
  },
  {
   "cell_type": "code",
   "execution_count": 14,
   "metadata": {},
   "outputs": [
    {
     "name": "stderr",
     "output_type": "stream",
     "text": [
      "WARNING:root:Hitting bad MIP case\n",
      "WARNING:root:Hitting bad MIP case\n",
      "WARNING:root:Hitting bad MIP case\n",
      "WARNING:root:Hitting bad MIP case\n",
      "WARNING:root:Hitting bad MIP case\n",
      "WARNING:root:Hitting bad MIP case\n"
     ]
    }
   ],
   "source": [
    "# Parse this scene.\n",
    "inference_results = infer_mle_tree_with_mip(\n",
    "    grammar, observed_nodes, verbose=False, max_scene_extent_in_any_dir=10., N_solutions=10\n",
    ")"
   ]
  },
  {
   "cell_type": "code",
   "execution_count": 15,
   "metadata": {},
   "outputs": [
    {
     "name": "stdout",
     "output_type": "stream",
     "text": [
      "Avg elementwise deviation from R^T R = I:  tensor(9.5603e-17)\n",
      "Avg elementwise deviation from R^T R = I:  tensor(9.5603e-17)\n",
      "Avg elementwise deviation from R^T R = I:  tensor(9.5603e-17)\n",
      "Avg elementwise deviation from R^T R = I:  tensor(5.9574e-07)\n",
      "Avg elementwise deviation from R^T R = I:  tensor(0.0683)\n",
      "Avg elementwise deviation from R^T R = I:  tensor(0.0292)\n",
      "Avg elementwise deviation from R^T R = I:  tensor(6.5813e-07)\n",
      "Avg elementwise deviation from R^T R = I:  tensor(3.5639e-07)\n",
      "Avg elementwise deviation from R^T R = I:  tensor(2.1588e-16)\n",
      "Avg elementwise deviation from R^T R = I:  tensor(9.4061e-17)\n"
     ]
    }
   ],
   "source": [
    "mip_optimized_trees = get_optimized_trees_from_mip_results(inference_results)\n",
    "draw_scene_tree_structure_meshcat(mip_optimized_trees[0], zmq_url=vis.window.zmq_url, prefix=\"mip_scene_tree\", with_triad=False, node_sphere_size=0.05)\n",
    "\n",
    "for node in mip_optimized_trees[0]:\n",
    "    err = torch.matmul(node.rotation.transpose(0, 1), node.rotation) - torch.eye(3)\n",
    "    print(\"Avg elementwise deviation from R^T R = I: \", err.abs().mean())"
   ]
  },
  {
   "cell_type": "code",
   "execution_count": 18,
   "metadata": {},
   "outputs": [
    {
     "name": "stderr",
     "output_type": "stream",
     "text": [
      "WARNING:root:Nonlinear refinement unsuccessful.\n",
      "WARNING:root:Nonlinear refinement unsuccessful.\n"
     ]
    }
   ],
   "source": [
    "# Do NLP refinement of top trees\n",
    "refined_trees = []\n",
    "for k, mip_optimized_tree in enumerate(mip_optimized_trees):\n",
    "    refinement_results = optimize_scene_tree_with_nlp(grammar, mip_optimized_tree, verbose=False)\n",
    "    refined_trees.append(refinement_results.refined_tree)\n",
    "    draw_scene_tree_structure_meshcat(refined_tree, zmq_url=vis.window.zmq_url, prefix=\"topNrefined/%d\" % k, node_sphere_size=0.05, with_triad=False)\n",
    "    \n",
    "draw_scene_tree_structure_meshcat(refined_trees[0], zmq_url=vis.window.zmq_url, prefix=\"refined_scene_tree\", node_sphere_size=0.05, with_triad=False)\n",
    "\n",
    "reset_bg()"
   ]
  },
  {
   "cell_type": "code",
   "execution_count": null,
   "metadata": {},
   "outputs": [],
   "source": []
  }
 ],
 "metadata": {
  "kernelspec": {
   "display_name": "py36_pyro",
   "language": "python",
   "name": "py36_pyro"
  },
  "language_info": {
   "codemirror_mode": {
    "name": "ipython",
    "version": 3
   },
   "file_extension": ".py",
   "mimetype": "text/x-python",
   "name": "python",
   "nbconvert_exporter": "python",
   "pygments_lexer": "ipython3",
   "version": "3.6.13"
  }
 },
 "nbformat": 4,
 "nbformat_minor": 4
}
