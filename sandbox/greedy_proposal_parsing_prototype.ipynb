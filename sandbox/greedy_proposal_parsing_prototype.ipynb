{
 "cells": [
  {
   "cell_type": "code",
   "execution_count": 44,
   "metadata": {},
   "outputs": [
    {
     "name": "stdout",
     "output_type": "stream",
     "text": [
      "The autoreload extension is already loaded. To reload it, use:\n",
      "  %reload_ext autoreload\n"
     ]
    }
   ],
   "source": [
    "%load_ext autoreload\n",
    "%autoreload 2\n",
    "\n",
    "import time\n",
    "import networkx as nx\n",
    "import numpy as np\n",
    "import logging\n",
    "from copy import deepcopy\n",
    "from collections import namedtuple\n",
    "import torch\n",
    "import pyro\n",
    "\n",
    "from spatial_scene_grammars.nodes import *\n",
    "from spatial_scene_grammars.rules import *\n",
    "from spatial_scene_grammars.scene_grammar import *\n",
    "from spatial_scene_grammars.parsing import *"
   ]
  },
  {
   "cell_type": "code",
   "execution_count": 45,
   "metadata": {},
   "outputs": [
    {
     "name": "stdout",
     "output_type": "stream",
     "text": [
      "Observed 8 objects\n",
      "Objects:  [<spatial_scene_grammars_examples.singles_pairs.grammar_constituency.Root object at 0x7f29be40ab38>, <spatial_scene_grammars_examples.singles_pairs.grammar_constituency.Object object at 0x7f29be59b160>, <spatial_scene_grammars_examples.singles_pairs.grammar_constituency.Object object at 0x7f29be59b9e8>, <spatial_scene_grammars_examples.singles_pairs.grammar_constituency.Object object at 0x7f29be576ac8>, <spatial_scene_grammars_examples.singles_pairs.grammar_constituency.Object object at 0x7f29be576550>, <spatial_scene_grammars_examples.singles_pairs.grammar_constituency.Object object at 0x7f29be576e10>, <spatial_scene_grammars_examples.singles_pairs.grammar_constituency.Object object at 0x7f29be576470>, <spatial_scene_grammars_examples.singles_pairs.grammar_constituency.Object object at 0x7f29be5766d8>]\n"
     ]
    }
   ],
   "source": [
    "from spatial_scene_grammars_examples.singles_pairs.grammar_constituency import *\n",
    "#from spatial_scene_grammars_examples.singles_pairs.grammar_dependency import *\n",
    "pyro.set_rng_seed(42)\n",
    "\n",
    "grammar = SpatialSceneGrammar(\n",
    "    root_node_type = Root,\n",
    "    root_node_tf = torch.eye(4)\n",
    ")\n",
    "ground_truth_tree = grammar.sample_tree(detach=True)\n",
    "observed_nodes = ground_truth_tree.get_observed_nodes()\n",
    "print(\"Observed %d objects\" % len(observed_nodes))\n",
    "print(\"Objects: \", observed_nodes)"
   ]
  },
  {
   "cell_type": "code",
   "execution_count": 46,
   "metadata": {},
   "outputs": [
    {
     "name": "stdout",
     "output_type": "stream",
     "text": [
      "Candidate <spatial_scene_grammars_examples.singles_pairs.grammar_constituency.Singles object at 0x7f29be587e10> with pose tensor([[1., 0., 0., 0.],\n",
      "        [0., 1., 0., 0.],\n",
      "        [0., 0., 1., 0.],\n",
      "        [0., 0., 0., 1.]])\n",
      "Candidate <spatial_scene_grammars_examples.singles_pairs.grammar_constituency.Singles object at 0x7f29be5764e0> with pose tensor([[1., 0., 0., 0.],\n",
      "        [0., 1., 0., 0.],\n",
      "        [0., 0., 1., 0.],\n",
      "        [0., 0., 0., 1.]])\n",
      "Candidate <spatial_scene_grammars_examples.singles_pairs.grammar_constituency.Singles object at 0x7f29be80a128> with pose tensor([[1., 0., 0., 0.],\n",
      "        [0., 1., 0., 0.],\n",
      "        [0., 0., 1., 0.],\n",
      "        [0., 0., 0., 1.]])\n",
      "Candidate <spatial_scene_grammars_examples.singles_pairs.grammar_constituency.Singles object at 0x7f29c7db0f98> with pose tensor([[1., 0., 0., 0.],\n",
      "        [0., 1., 0., 0.],\n",
      "        [0., 0., 1., 0.],\n",
      "        [0., 0., 0., 1.]])\n",
      "Candidate <spatial_scene_grammars_examples.singles_pairs.grammar_constituency.Singles object at 0x7f29be351da0> with pose tensor([[1., 0., 0., 0.],\n",
      "        [0., 1., 0., 0.],\n",
      "        [0., 0., 1., 0.],\n",
      "        [0., 0., 0., 1.]])\n",
      "Candidate <spatial_scene_grammars_examples.singles_pairs.grammar_constituency.Singles object at 0x7f29be351e48> with pose tensor([[1., 0., 0., 0.],\n",
      "        [0., 1., 0., 0.],\n",
      "        [0., 0., 1., 0.],\n",
      "        [0., 0., 0., 1.]])\n",
      "Candidate <spatial_scene_grammars_examples.singles_pairs.grammar_constituency.Singles object at 0x7f29c7d9df98> with pose tensor([[1., 0., 0., 0.],\n",
      "        [0., 1., 0., 0.],\n",
      "        [0., 0., 1., 0.],\n",
      "        [0., 0., 0., 1.]])\n",
      "Candidate <spatial_scene_grammars_examples.singles_pairs.grammar_constituency.Pairs object at 0x7f29c7d77ac8> with pose tensor([[1., 0., 0., 0.],\n",
      "        [0., 1., 0., 0.],\n",
      "        [0., 0., 1., 0.],\n",
      "        [0., 0., 0., 1.]])\n",
      "Candidate <spatial_scene_grammars_examples.singles_pairs.grammar_constituency.Pairs object at 0x7f29c7d9d4e0> with pose tensor([[1., 0., 0., 0.],\n",
      "        [0., 1., 0., 0.],\n",
      "        [0., 0., 1., 0.],\n",
      "        [0., 0., 0., 1.]])\n",
      "Candidate <spatial_scene_grammars_examples.singles_pairs.grammar_constituency.Pairs object at 0x7f29c7d696a0> with pose tensor([[1., 0., 0., 0.],\n",
      "        [0., 1., 0., 0.],\n",
      "        [0., 0., 1., 0.],\n",
      "        [0., 0., 0., 1.]])\n",
      "Candidate <spatial_scene_grammars_examples.singles_pairs.grammar_constituency.Pairs object at 0x7f29c7d9d198> with pose tensor([[1., 0., 0., 0.],\n",
      "        [0., 1., 0., 0.],\n",
      "        [0., 0., 1., 0.],\n",
      "        [0., 0., 0., 1.]])\n",
      "Candidate <spatial_scene_grammars_examples.singles_pairs.grammar_constituency.Pairs object at 0x7f29be8ceb38> with pose tensor([[1., 0., 0., 0.],\n",
      "        [0., 1., 0., 0.],\n",
      "        [0., 0., 1., 0.],\n",
      "        [0., 0., 0., 1.]])\n",
      "Candidate <spatial_scene_grammars_examples.singles_pairs.grammar_constituency.Pairs object at 0x7f29be8cee10> with pose tensor([[1., 0., 0., 0.],\n",
      "        [0., 1., 0., 0.],\n",
      "        [0., 0., 1., 0.],\n",
      "        [0., 0., 0., 1.]])\n",
      "Candidate <spatial_scene_grammars_examples.singles_pairs.grammar_constituency.Pairs object at 0x7f29c7d77128> with pose tensor([[1., 0., 0., 0.],\n",
      "        [0., 1., 0., 0.],\n",
      "        [0., 0., 1., 0.],\n",
      "        [0., 0., 0., 1.]])\n",
      "Candidate <spatial_scene_grammars_examples.singles_pairs.grammar_constituency.Pairs object at 0x7f29be257208> with pose tensor([[1., 0., 0., 0.],\n",
      "        [0., 1., 0., 0.],\n",
      "        [0., 0., 1., 0.],\n",
      "        [0., 0., 0., 1.]])\n",
      "Candidate <spatial_scene_grammars_examples.singles_pairs.grammar_constituency.Pairs object at 0x7f29be257a90> with pose tensor([[1., 0., 0., 0.],\n",
      "        [0., 1., 0., 0.],\n",
      "        [0., 0., 1., 0.],\n",
      "        [0., 0., 0., 1.]])\n",
      "Candidate <spatial_scene_grammars_examples.singles_pairs.grammar_constituency.Pairs object at 0x7f29be257b70> with pose tensor([[1., 0., 0., 0.],\n",
      "        [0., 1., 0., 0.],\n",
      "        [0., 0., 1., 0.],\n",
      "        [0., 0., 0., 1.]])\n",
      "Candidate <spatial_scene_grammars_examples.singles_pairs.grammar_constituency.Pairs object at 0x7f29be257da0> with pose tensor([[1., 0., 0., 0.],\n",
      "        [0., 1., 0., 0.],\n",
      "        [0., 0., 1., 0.],\n",
      "        [0., 0., 0., 1.]])\n",
      "Candidate <spatial_scene_grammars_examples.singles_pairs.grammar_constituency.Pairs object at 0x7f29be257278> with pose tensor([[1., 0., 0., 0.],\n",
      "        [0., 1., 0., 0.],\n",
      "        [0., 0., 1., 0.],\n",
      "        [0., 0., 0., 1.]])\n",
      "Candidate <spatial_scene_grammars_examples.singles_pairs.grammar_constituency.Pairs object at 0x7f29be2576d8> with pose tensor([[1., 0., 0., 0.],\n",
      "        [0., 1., 0., 0.],\n",
      "        [0., 0., 1., 0.],\n",
      "        [0., 0., 0., 1.]])\n",
      "Candidate <spatial_scene_grammars_examples.singles_pairs.grammar_constituency.Pairs object at 0x7f29be257f60> with pose tensor([[1., 0., 0., 0.],\n",
      "        [0., 1., 0., 0.],\n",
      "        [0., 0., 1., 0.],\n",
      "        [0., 0., 0., 1.]])\n",
      "5 top-down, 21 bottom-up candidates.\n"
     ]
    }
   ],
   "source": [
    "# Build up a big set of candidate intermediate nodes with both\n",
    "# top-down and bottom-up generation.\n",
    "\n",
    "max_recursion_depth = 10\n",
    "\n",
    "top_down_candidate_intermediate_nodes = generate_top_down_intermediate_nodes_by_supertree(\n",
    "    grammar, observed_nodes, max_recursion_depth=max_recursion_depth\n",
    ")\n",
    "bottom_up_candidate_intermediate_nodes = generate_bottom_up_intermediate_nodes_by_inverting_rules(\n",
    "    grammar, observed_nodes\n",
    ")\n",
    "print(\"%d top-down, %d bottom-up candidates.\" %\n",
    "      (len(top_down_candidate_intermediate_nodes),\n",
    "       len(bottom_up_candidate_intermediate_nodes)))\n",
    "candidate_intermediate_nodes = top_down_candidate_intermediate_nodes + bottom_up_candidate_intermediate_nodes\n",
    "assert all([not node.observed for node in candidate_intermediate_nodes])"
   ]
  },
  {
   "cell_type": "code",
   "execution_count": 59,
   "metadata": {},
   "outputs": [
    {
     "name": "stdout",
     "output_type": "stream",
     "text": [
      "Optimization success?:  True\n",
      "Logfile: \n",
      "\n",
      "Gurobi 9.0.2 (linux64) logging started Tue Nov 30 16:28:08 2021\n",
      "\n",
      "Gurobi Optimizer version 9.0.2 build v9.0.2rc0 (linux64)\n",
      "Optimize a model with 189 rows, 473 columns and 996 nonzeros\n",
      "Model fingerprint: 0xf76bcae2\n",
      "Variable types: 0 continuous, 473 integer (473 binary)\n",
      "Coefficient statistics:\n",
      "  Matrix range     [1e+00, 1e+00]\n",
      "  Objective range  [2e-01, 8e+02]\n",
      "  Bounds range     [1e+00, 1e+00]\n",
      "  RHS range        [1e+00, 1e+00]\n",
      "Presolve removed 108 rows and 107 columns\n",
      "Presolve time: 0.01s\n",
      "Presolved: 81 rows, 366 columns, 838 nonzeros\n",
      "Variable types: 0 continuous, 366 integer (366 binary)\n",
      "\n",
      "Root relaxation: objective 6.811424e+02, 137 iterations, 0.00 seconds\n",
      "\n",
      "    Nodes    |    Current Node    |     Objective Bounds      |     Work\n",
      " Expl Unexpl |  Obj  Depth IntInf | Incumbent    BestBd   Gap | It/Node Time\n",
      "\n",
      "     0     0  681.14242    0    7          -  681.14242      -     -    0s\n",
      "H    0     0                     681.3592150  681.14242  0.03%     -    0s\n",
      "\n",
      "Explored 1 nodes (137 simplex iterations) in 0.01 seconds\n",
      "Thread count was 12 (of 12 available processors)\n",
      "\n",
      "Solution count 1: 681.359 \n",
      "\n",
      "Optimal solution found (tolerance 1.00e-03)\n",
      "Best objective 6.813592149880e+02, best bound 6.811424249376e+02, gap 0.0318%\n",
      "\n",
      "Building tree for sol 0...\n",
      "Parsing edge Root_212 -(0)> Singles_196\n",
      "Parsing edge Root_212 -(1)> Pairs_192\n",
      "Parsing edge Singles_196 -(2)> Object_367\n",
      "Parsing edge Singles_196 -(1)> Object_372\n",
      "Parsing edge Singles_196 -(0)> Object_373\n",
      "Parsing edge Pairs_192 -(1)> Pair_214\n",
      "Parsing edge Pairs_192 -(0)> Pair_215\n",
      "Parsing edge Pair_214 -(0)> Object_370\n",
      "Parsing edge Pair_214 -(1)> Object_371\n",
      "Parsing edge Pair_215 -(1)> Object_368\n",
      "Parsing edge Pair_215 -(0)> Object_369\n"
     ]
    }
   ],
   "source": [
    "parse_trees = infer_mle_tree_with_mip_from_proposals(\n",
    "    grammar, observed_nodes, candidate_intermediate_nodes, verbose=True, N_solutions=1\n",
    ")"
   ]
  },
  {
   "cell_type": "code",
   "execution_count": null,
   "metadata": {},
   "outputs": [],
   "source": []
  }
 ],
 "metadata": {
  "kernelspec": {
   "display_name": "py36_pyro",
   "language": "python",
   "name": "py36_pyro"
  },
  "language_info": {
   "codemirror_mode": {
    "name": "ipython",
    "version": 3
   },
   "file_extension": ".py",
   "mimetype": "text/x-python",
   "name": "python",
   "nbconvert_exporter": "python",
   "pygments_lexer": "ipython3",
   "version": "3.6.13"
  }
 },
 "nbformat": 4,
 "nbformat_minor": 4
}
