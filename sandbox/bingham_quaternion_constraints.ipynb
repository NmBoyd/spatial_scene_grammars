{
 "cells": [
  {
   "cell_type": "code",
   "execution_count": 94,
   "metadata": {},
   "outputs": [
    {
     "name": "stdout",
     "output_type": "stream",
     "text": [
      "The autoreload extension is already loaded. To reload it, use:\n",
      "  %reload_ext autoreload\n"
     ]
    }
   ],
   "source": [
    "%load_ext autoreload\n",
    "%autoreload 2\n",
    "\n",
    "import numpy as np\n",
    "import pydrake\n",
    "from pydrake.all import (\n",
    "    MathematicalProgram,\n",
    "    RotationMatrix,\n",
    "    RollPitchYaw,\n",
    "    SnoptSolver,\n",
    "    IpoptSolver,\n",
    "    GurobiSolver,\n",
    "    SolverOptions,\n",
    "    RandomGenerator,\n",
    "    UniformlyRandomRotationMatrix,\n",
    "    MixedIntegerRotationConstraintGenerator,\n",
    "    IntervalBinning,\n",
    ")\n",
    "import os\n",
    "from spatial_scene_grammars.rules import add_bingham_cost, WorldFrameBinghamRotationRule"
   ]
  },
  {
   "cell_type": "code",
   "execution_count": 100,
   "metadata": {},
   "outputs": [
    {
     "name": "stdout",
     "output_type": "stream",
     "text": [
      "None\n",
      "None\n",
      "None\n",
      "None\n",
      "None\n"
     ]
    }
   ],
   "source": [
    "# Nonlinear optimization version\n",
    "def try_solve(R_targ, R_init, verbose=False):\n",
    "    prog = MathematicalProgram()\n",
    "    R = prog.NewContinuousVariables(3, 3)\n",
    "    prog.AddBoundingBoxConstraint(-np.ones(9), np.ones(9), R.flatten())\n",
    "    RtR = R.T.dot(R)\n",
    "    z_dir = np.cross(R[:, 0], R[:, 1])\n",
    "    prog.AddConstraint(np.dot(z_dir, R[:, 2]) >= 0.)\n",
    "    # Strong bounding box on rotation matrix elements.\n",
    "    eye = np.eye(3)\n",
    "    for i in range(3):\n",
    "        for j in range(3):\n",
    "            prog.SetInitialGuess(R[i, j], R_init[i, j])\n",
    "            prog.AddConstraint(RtR[i, j] == eye[i, j])\n",
    "\n",
    "    rule = WorldFrameBinghamRotationRule.from_rotation_and_rpy_variances(\n",
    "        RotationMatrix(R_targ), [10., 9., 8]\n",
    "    )\n",
    "    Z = np.diag(rule._bingham_dist.z.numpy())\n",
    "    M = rule._bingham_dist.m.numpy()\n",
    "    log_normalizer = rule._bingham_dist._norm_const.item()\n",
    "    \n",
    "    mode = M[:, -1].reshape(4, 1)\n",
    "    modemodeT = mode.dot(mode.T)\n",
    "    expected_objective = np.trace(Z.dot(M.T.dot(modemodeT.dot(M)))) - log_normalizer\n",
    "    qqt = add_bingham_cost(prog, R, True, M, Z, log_normalizer)\n",
    "\n",
    "    options = SolverOptions()\n",
    "    logfile = \"/tmp/snopt.log\"\n",
    "    os.system(\"rm %s\" % logfile)\n",
    "    #solver = SnoptSolver()\n",
    "    #ptions.SetOption(solver.id(), \"Print file\", logfile)\n",
    "    solver = IpoptSolver()\n",
    "\n",
    "    result = solver.Solve(prog, None, options)\n",
    "    #with open(logfile) as f:\n",
    "    #    print(f.read())\n",
    "\n",
    "    success = result.is_success()\n",
    "    qqt_opt = result.GetSolution(qqt)\n",
    "    R_opt = result.GetSolution(R)\n",
    "    q_expected = RotationMatrix(R_opt).ToQuaternion()\n",
    "    qqt_expected = q_expected.wxyz().reshape(4, 1).dot(q_expected.wxyz().reshape(1, 4))\n",
    "    optimal_cost = result.get_optimal_cost()\n",
    "    qqt_err = np.sum(np.abs(qqt_opt - qqt_expected))\n",
    "    if verbose or success == False or qqt_err > 1E-6 or np.abs(optimal_cost + expected_objective) > 1E-3:\n",
    "        print(\"Expected obj: \", expected_objective)\n",
    "        print(\"Optimal cost: \", optimal_cost)\n",
    "        print(\"qqt: \", qqt_opt)\n",
    "        print(\"R: \", R_opt)\n",
    "        print(\"Total R err: \", np.sum(np.abs(R_opt.T.dot(R_targ) - np.eye(3))))\n",
    "        print(\"qqt expected: \", qqt_expected)\n",
    "        print(\"Total qqt err: \", qqt_err)\n",
    "        print(\"Total qqt from mode: \", np.sum(np.abs(qqt_opt - modemodeT)))\n",
    "        print(\"Singular vals of qqt: \", np.linalg.svd(qqt_opt)[1])\n",
    "for k in range(5):\n",
    "    R_targ = UniformlyRandomRotationMatrix(RandomGenerator(k)).matrix()\n",
    "    R_init = UniformlyRandomRotationMatrix(RandomGenerator(2*k)).matrix()\n",
    "    print(try_solve(R_targ, R_init, verbose=False))"
   ]
  },
  {
   "cell_type": "code",
   "execution_count": 106,
   "metadata": {},
   "outputs": [
    {
     "name": "stdout",
     "output_type": "stream",
     "text": [
      "r TARG:  [[-0.18568923  0.08435438  0.97898102]\n",
      " [-0.93864483  0.2794536  -0.20211768]\n",
      " [-0.29062929 -0.95644656  0.02728728]]\n"
     ]
    },
    {
     "name": "stderr",
     "output_type": "stream",
     "text": [
      "WARNING:root:Detaching BinghamDistribution parameters.\n"
     ]
    },
    {
     "name": "stdout",
     "output_type": "stream",
     "text": [
      "Expected obj:  -0.013063191649785257\n",
      "Optimal cost:  -1.0915310594167558\n",
      "qqt:  [[ 0.29166667 -0.20833333  0.29166667 -0.29166667]\n",
      " [-0.20833333  0.125      -0.20833333  0.20833333]\n",
      " [ 0.29166667 -0.20833333  0.29166667 -0.29166667]\n",
      " [-0.29166667  0.20833333 -0.29166667  0.29166667]]\n",
      "R:  [[-0.16666667  0.16666667  1.        ]\n",
      " [-1.          0.16666667 -0.16666667]\n",
      " [-0.16666667 -1.          0.16666667]]\n",
      "Total R err:  0.6255847073956433\n",
      "qqt expected:  [[ 0.28488372 -0.20348837  0.28488372 -0.28488372]\n",
      " [-0.20348837  0.14534884 -0.20348837  0.20348837]\n",
      " [ 0.28488372 -0.20348837  0.28488372 -0.28488372]\n",
      " [-0.28488372  0.20348837 -0.28488372  0.28488372]]\n",
      "Total qqt err:  0.11046511627907046\n",
      "Total qqt from mode:  0.38920772944675797\n",
      "Singular vals of qqt:  [1.02041650e+00 2.04164999e-02 6.73519211e-17 5.47382213e-48]\n",
      "True\n"
     ]
    }
   ],
   "source": [
    "# MI optimization version\n",
    "def try_solve(R_targ, verbose=False):\n",
    "    prog = MathematicalProgram()\n",
    "    R = prog.NewContinuousVariables(3, 3)\n",
    "    \n",
    "    mip_rot_gen = MixedIntegerRotationConstraintGenerator(\n",
    "        approach = MixedIntegerRotationConstraintGenerator.Approach.kBilinearMcCormick,\n",
    "        num_intervals_per_half_axis=3,\n",
    "        interval_binning = IntervalBinning.kLinear\n",
    "    )\n",
    "    mip_rot_gen.AddToProgram(R, prog)\n",
    "\n",
    "    rule = WorldFrameBinghamRotationRule.from_rotation_and_rpy_variances(\n",
    "        RotationMatrix(R_targ), [100., 90., 80]\n",
    "    )\n",
    "    Z = np.diag(rule._bingham_dist.z.numpy())\n",
    "    M = rule._bingham_dist.m.numpy()\n",
    "    log_normalizer = rule._bingham_dist._norm_const.item()\n",
    "    \n",
    "    mode = M[:, -1].reshape(4, 1)\n",
    "    modemodeT = mode.dot(mode.T)\n",
    "    expected_objective = np.trace(Z.dot(M.T.dot(modemodeT.dot(M)))) - log_normalizer\n",
    "\n",
    "    active = prog.NewBinaryVariables(1)[0]\n",
    "    prog.AddLinearEqualityConstraint(active == 1.)\n",
    "    qqt = add_bingham_cost(prog, R, active, M, Z, log_normalizer)\n",
    "\n",
    "    solver = GurobiSolver()\n",
    "    options = SolverOptions()\n",
    "    logfile = \"/tmp/gurobi.log\"\n",
    "    os.system(\"rm -f %s\" % logfile)\n",
    "    options.SetOption(solver.id(), \"LogFile\", logfile)\n",
    "    options.SetOption(solver.id(), \"MIPGap\", 1E-3)\n",
    "    result = solver.Solve(prog, None, options)\n",
    "\n",
    "    success = result.is_success()\n",
    "    qqt_opt = result.GetSolution(qqt)\n",
    "    R_opt = result.GetSolution(R)\n",
    "    q_expected = RotationMatrix(R_opt).ToQuaternion()\n",
    "    qqt_expected = q_expected.wxyz().reshape(4, 1).dot(q_expected.wxyz().reshape(1, 4))\n",
    "    optimal_cost = result.get_optimal_cost()\n",
    "    qqt_err = np.sum(np.abs(qqt_opt - qqt_expected))\n",
    "    if verbose or success == False or qqt_err > 1E-6:\n",
    "        print(\"Expected obj: \", expected_objective)\n",
    "        print(\"Optimal cost: \", optimal_cost)\n",
    "        print(\"qqt: \", qqt_opt)\n",
    "        print(\"R: \", R_opt)\n",
    "        print(\"Total R err: \", np.sum(np.abs(R_opt.T.dot(R_targ) - np.eye(3))))\n",
    "        print(\"qqt expected: \", qqt_expected)\n",
    "        print(\"Total qqt err: \", qqt_err)\n",
    "        print(\"Total qqt from mode: \", np.sum(np.abs(qqt_opt - modemodeT)))\n",
    "        print(\"Singular vals of qqt: \", np.linalg.svd(qqt_opt)[1])\n",
    "    return np.sum(qqt_opt - qqt_expected) < 1E-4\n",
    "for k in range(1):\n",
    "    R_targ = UniformlyRandomRotationMatrix(RandomGenerator(k)).matrix()\n",
    "    #R_targ = RotationMatrix(RollPitchYaw(np.pi/4., 0., 0.)).matrix()\n",
    "    print(\"r TARG: \", R_targ)\n",
    "    print(try_solve(R_targ, verbose=False))"
   ]
  }
 ],
 "metadata": {
  "kernelspec": {
   "display_name": "py36_pyro",
   "language": "python",
   "name": "py36_pyro"
  },
  "language_info": {
   "codemirror_mode": {
    "name": "ipython",
    "version": 3
   },
   "file_extension": ".py",
   "mimetype": "text/x-python",
   "name": "python",
   "nbconvert_exporter": "python",
   "pygments_lexer": "ipython3",
   "version": "3.6.13"
  }
 },
 "nbformat": 4,
 "nbformat_minor": 4
}
