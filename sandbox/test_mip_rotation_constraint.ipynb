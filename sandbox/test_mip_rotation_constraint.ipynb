{
 "cells": [
  {
   "cell_type": "code",
   "execution_count": 23,
   "metadata": {},
   "outputs": [
    {
     "name": "stdout",
     "output_type": "stream",
     "text": [
      "Starting 5\n",
      "Solved 5 in 0.496419\n"
     ]
    }
   ],
   "source": [
    "import os\n",
    "import time\n",
    "import matplotlib.pyplot as plt\n",
    "import networkx as nx\n",
    "import numpy as np\n",
    "import random\n",
    "\n",
    "from copy import deepcopy\n",
    "from collections import namedtuple\n",
    "\n",
    "from yaml import load, dump\n",
    "try:\n",
    "    from yaml import CLoader as Loader, CDumper as Dumper\n",
    "except ImportError:\n",
    "    from yaml import Loader, Dumper\n",
    "\n",
    "import pydrake\n",
    "from pydrake.all import (\n",
    "    AngleAxis,\n",
    "    CommonSolverOption,\n",
    "    MathematicalProgram,\n",
    "    MakeSolver,\n",
    "    RigidTransform,\n",
    "    RollPitchYaw,\n",
    "    RotationMatrix,\n",
    "    GurobiSolver,\n",
    "    Solve,\n",
    "    SolverOptions,\n",
    "    VPolytope,\n",
    "    MixedIntegerRotationConstraintGenerator,\n",
    "    IntervalBinning\n",
    ")\n",
    "\n",
    "def solve(N):\n",
    "    print(\"Starting %d\" % N)\n",
    "    prog = MathematicalProgram()\n",
    "    for k in range(N):\n",
    "        R = prog.NewContinuousVariables(3, 3, \"R\")\n",
    "        mip_rot_gen = MixedIntegerRotationConstraintGenerator(\n",
    "            approach = MixedIntegerRotationConstraintGenerator.Approach.kBilinearMcCormick,\n",
    "            num_intervals_per_half_axis=2,\n",
    "            interval_binning = IntervalBinning.kLogarithmic\n",
    "        )\n",
    "        mip_rot_gen.AddToProgram(R, prog)\n",
    "        prog.AddCost(np.sum(R))\n",
    "    start_time = time.time()\n",
    "    result = Solve(prog)\n",
    "    assert result.is_success()\n",
    "    solve_time = time.time() - start_time\n",
    "    print(\"Solved %d in %f\" % (N, solve_time))\n",
    "\n",
    "solve(5)"
   ]
  },
  {
   "cell_type": "code",
   "execution_count": null,
   "metadata": {},
   "outputs": [],
   "source": []
  }
 ],
 "metadata": {
  "kernelspec": {
   "display_name": "py36_pyro",
   "language": "python",
   "name": "py36_pyro"
  },
  "language_info": {
   "codemirror_mode": {
    "name": "ipython",
    "version": 3
   },
   "file_extension": ".py",
   "mimetype": "text/x-python",
   "name": "python",
   "nbconvert_exporter": "python",
   "pygments_lexer": "ipython3",
   "version": "3.6.13"
  }
 },
 "nbformat": 4,
 "nbformat_minor": 2
}
