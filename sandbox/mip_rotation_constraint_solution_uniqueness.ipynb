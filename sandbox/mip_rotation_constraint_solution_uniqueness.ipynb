{
 "cells": [
  {
   "cell_type": "code",
   "execution_count": 111,
   "metadata": {},
   "outputs": [],
   "source": [
    "import matplotlib.pyplot as plt\n",
    "import numpy as np\n",
    "from sklearn import mixture\n",
    "import scipy as sp\n",
    "import pydrake\n",
    "from pydrake.all import (\n",
    "    RandomGenerator,\n",
    "    MixedIntegerRotationConstraintGenerator,\n",
    "    UniformlyRandomRotationMatrix,\n",
    "    IntervalBinning,\n",
    "    MathematicalProgram,\n",
    "    GurobiSolver,\n",
    "    SolverOptions,\n",
    "    RotationMatrix,\n",
    "    RollPitchYaw\n",
    ")\n",
    "from tqdm.notebook import tqdm"
   ]
  },
  {
   "cell_type": "code",
   "execution_count": 112,
   "metadata": {},
   "outputs": [
    {
     "name": "stdout",
     "output_type": "stream",
     "text": [
      "R:  [[1. 0. 0.]\n",
      " [0. 1. 0.]\n",
      " [0. 0. 1.]]  -> # sols:  20\n",
      "R:  [[ 1.00000000e+00  0.00000000e+00  0.00000000e+00]\n",
      " [ 0.00000000e+00  9.99999500e-01 -9.99999833e-04]\n",
      " [ 0.00000000e+00  9.99999833e-04  9.99999500e-01]]  -> # sols:  8\n",
      "R:  [[ 9.99999500e-01 -9.99999333e-04  9.99999667e-07]\n",
      " [ 9.99999833e-04  9.99999000e-01 -9.99999333e-04]\n",
      " [ 0.00000000e+00  9.99999833e-04  9.99999500e-01]]  -> # sols:  2\n",
      "R:  [[ 9.99999000e-01 -9.98999334e-04  1.00099883e-03]\n",
      " [ 9.99999333e-04  9.99999001e-01 -9.98999334e-04]\n",
      " [-9.99999833e-04  9.99999333e-04  9.99999000e-01]]  -> # sols:  1\n"
     ]
    }
   ],
   "source": [
    "def get_sols(R_gt, verbose=False):\n",
    "    prog = MathematicalProgram()\n",
    "\n",
    "    #R_gt = RotationMatrix(np.eye(3))\n",
    "\n",
    "    R_dec = prog.NewContinuousVariables(3, 3, \"R\")\n",
    "    mip_rot_gen = MixedIntegerRotationConstraintGenerator(\n",
    "        approach = MixedIntegerRotationConstraintGenerator.Approach.kBilinearMcCormick,\n",
    "        num_intervals_per_half_axis=2,\n",
    "        interval_binning = IntervalBinning.kLogarithmic\n",
    "    )\n",
    "    mip_rot_gen.AddToProgram(R_dec, prog)\n",
    "    prog.AddBoundingBoxConstraint(R_gt.matrix().flatten(), R_gt.matrix().flatten(), R_dec.flatten())\n",
    "    \n",
    "    solver = GurobiSolver()\n",
    "    options = SolverOptions()\n",
    "    options.SetOption(solver.id(), \"LogFile\", \"gurobi.log\")\n",
    "    options.SetOption(solver.id(), \"PoolSolutions\", 100)\n",
    "    options.SetOption(solver.id(), \"PoolSearchMode\", 2)\n",
    "\n",
    "    result = solver.Solve(prog, None, options)\n",
    "\n",
    "    N_sols = getattr(result, \"num_suboptimal_solution()\")()\n",
    "    if verbose or N_sols > 1:\n",
    "        print(\"R: \", result.GetSolution(R_dec), \" -> # sols: \", N_sols)\n",
    "    #with open(\"gurobi.log\") as f:\n",
    "    #    print(f.read())\n",
    "\n",
    "    #for solution_k in range(getattr(result, \"num_suboptimal_solution()\")()):\n",
    "    #    sol = result.GetSuboptimalSolution(R_dec, solution_k)\n",
    "    #    print(\"Sol %d: %s\" % (solution_k, sol))\n",
    "\n",
    "# RPY=0 gets multiple sols\n",
    "perturb = np.zeros(3)\n",
    "get_sols(RotationMatrix(RollPitchYaw(perturb)), verbose=True)\n",
    "\n",
    "# No rotation around any given axis gets multiple sols\n",
    "perturb = np.array([1E-3, 0., 0.])\n",
    "get_sols(RotationMatrix(RollPitchYaw(perturb)), verbose=True)\n",
    "\n",
    "perturb = np.array([1E-3, 0., 1E-3])\n",
    "get_sols(RotationMatrix(RollPitchYaw(perturb)), verbose=True)\n",
    "\n",
    "# Rotating around all axes (no zeros in rotation matrix) gets unique sol\n",
    "perturb = np.array([1E-3, 1E-3, 1E-3])\n",
    "get_sols(RotationMatrix(RollPitchYaw(perturb)), verbose=True)"
   ]
  },
  {
   "cell_type": "code",
   "execution_count": 113,
   "metadata": {},
   "outputs": [
    {
     "data": {
      "application/vnd.jupyter.widget-view+json": {
       "model_id": "e31e1d9ff49245378627bbd3209916a5",
       "version_major": 2,
       "version_minor": 0
      },
      "text/plain": [
       "  0%|          | 0/100 [00:00<?, ?it/s]"
      ]
     },
     "metadata": {},
     "output_type": "display_data"
    }
   ],
   "source": [
    "# Almost all random rotations *dont* get multiple sols\n",
    "# (i.e. should see no printouts)\n",
    "for k in tqdm(range(100)):\n",
    "    R_gt = UniformlyRandomRotationMatrix(RandomGenerator(k))\n",
    "    get_sols(R_gt)"
   ]
  },
  {
   "cell_type": "code",
   "execution_count": null,
   "metadata": {},
   "outputs": [],
   "source": []
  }
 ],
 "metadata": {
  "kernelspec": {
   "display_name": "py36_pyro",
   "language": "python",
   "name": "py36_pyro"
  },
  "language_info": {
   "codemirror_mode": {
    "name": "ipython",
    "version": 3
   },
   "file_extension": ".py",
   "mimetype": "text/x-python",
   "name": "python",
   "nbconvert_exporter": "python",
   "pygments_lexer": "ipython3",
   "version": "3.6.13"
  }
 },
 "nbformat": 4,
 "nbformat_minor": 2
}
